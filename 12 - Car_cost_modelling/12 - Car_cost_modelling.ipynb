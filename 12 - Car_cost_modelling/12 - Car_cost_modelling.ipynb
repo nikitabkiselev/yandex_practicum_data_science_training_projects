{
 "cells": [
  {
   "cell_type": "markdown",
   "metadata": {
    "toc": true
   },
   "source": [
    "<h1>Содержание<span class=\"tocSkip\"></span></h1>\n",
    "<div class=\"toc\"><ul class=\"toc-item\"><li><span><a href=\"#Описание-данных.\" data-toc-modified-id=\"Описание-данных.-1\"><span class=\"toc-item-num\">1&nbsp;&nbsp;</span>Описание данных.</a></span></li><li><span><a href=\"#Инструкция-по-выполнению-проекта:\" data-toc-modified-id=\"Инструкция-по-выполнению-проекта:-2\"><span class=\"toc-item-num\">2&nbsp;&nbsp;</span>Инструкция по выполнению проекта:</a></span><ul class=\"toc-item\"><li><ul class=\"toc-item\"><li><span><a href=\"#По-результатам-чтения,-загрузки-и-первичного-изучения-данных\" data-toc-modified-id=\"По-результатам-чтения,-загрузки-и-первичного-изучения-данных-2.0.1\"><span class=\"toc-item-num\">2.0.1&nbsp;&nbsp;</span>По результатам чтения, загрузки и первичного изучения данных</a></span></li></ul></li></ul></li><li><span><a href=\"#3.1.-Обработка-дубликатов\" data-toc-modified-id=\"3.1.-Обработка-дубликатов-3\"><span class=\"toc-item-num\">3&nbsp;&nbsp;</span>3.1. Обработка дубликатов</a></span></li><li><span><a href=\"#3.2.-Исключение-не-нужных-признаков\" data-toc-modified-id=\"3.2.-Исключение-не-нужных-признаков-4\"><span class=\"toc-item-num\">4&nbsp;&nbsp;</span>3.2. Исключение не нужных признаков</a></span></li><li><span><a href=\"#3.3.-Обработка-пропусков\" data-toc-modified-id=\"3.3.-Обработка-пропусков-5\"><span class=\"toc-item-num\">5&nbsp;&nbsp;</span>3.3. Обработка пропусков</a></span></li><li><span><a href=\"#3.4.-Замена-типов-данных-для-категориальных-переменных\" data-toc-modified-id=\"3.4.-Замена-типов-данных-для-категориальных-переменных-6\"><span class=\"toc-item-num\">6&nbsp;&nbsp;</span>3.4. Замена типов данных для категориальных переменных</a></span></li><li><span><a href=\"#3.5.-Обработка-численных-признаков\" data-toc-modified-id=\"3.5.-Обработка-численных-признаков-7\"><span class=\"toc-item-num\">7&nbsp;&nbsp;</span>3.5. Обработка численных признаков</a></span><ul class=\"toc-item\"><li><span><a href=\"#3.5.1.-Признак-Price\" data-toc-modified-id=\"3.5.1.-Признак-Price-7.1\"><span class=\"toc-item-num\">7.1&nbsp;&nbsp;</span>3.5.1. Признак Price</a></span><ul class=\"toc-item\"><li><span><a href=\"#Результат\" data-toc-modified-id=\"Результат-7.1.1\"><span class=\"toc-item-num\">7.1.1&nbsp;&nbsp;</span>Результат</a></span></li></ul></li><li><span><a href=\"#3.5.2.-Признак-Power\" data-toc-modified-id=\"3.5.2.-Признак-Power-7.2\"><span class=\"toc-item-num\">7.2&nbsp;&nbsp;</span>3.5.2. Признак Power</a></span><ul class=\"toc-item\"><li><span><a href=\"#Результат\" data-toc-modified-id=\"Результат-7.2.1\"><span class=\"toc-item-num\">7.2.1&nbsp;&nbsp;</span>Результат</a></span></li></ul></li><li><span><a href=\"#3.5.3.-Признак-Kilometer\" data-toc-modified-id=\"3.5.3.-Признак-Kilometer-7.3\"><span class=\"toc-item-num\">7.3&nbsp;&nbsp;</span>3.5.3. Признак Kilometer</a></span><ul class=\"toc-item\"><li><span><a href=\"#Результат\" data-toc-modified-id=\"Результат-7.3.1\"><span class=\"toc-item-num\">7.3.1&nbsp;&nbsp;</span>Результат</a></span></li></ul></li><li><span><a href=\"#3.5.4.-Признак-RegistrationYear\" data-toc-modified-id=\"3.5.4.-Признак-RegistrationYear-7.4\"><span class=\"toc-item-num\">7.4&nbsp;&nbsp;</span>3.5.4. Признак RegistrationYear</a></span></li></ul></li><li><span><a href=\"#Вывод\" data-toc-modified-id=\"Вывод-8\"><span class=\"toc-item-num\">8&nbsp;&nbsp;</span>Вывод</a></span><ul class=\"toc-item\"><li><ul class=\"toc-item\"><li><span><a href=\"#На-этом-этапе-обучим-разные-модели,-основные-из-которых:\" data-toc-modified-id=\"На-этом-этапе-обучим-разные-модели,-основные-из-которых:-8.0.1\"><span class=\"toc-item-num\">8.0.1&nbsp;&nbsp;</span>На этом этапе обучим разные модели, основные из которых:</a></span></li></ul></li></ul></li><li><span><a href=\"#4.1.-Подготовка-данных\" data-toc-modified-id=\"4.1.-Подготовка-данных-9\"><span class=\"toc-item-num\">9&nbsp;&nbsp;</span>4.1. Подготовка данных</a></span><ul class=\"toc-item\"><li><span><a href=\"#4.1.1.-Преобразование-признаков\" data-toc-modified-id=\"4.1.1.-Преобразование-признаков-9.1\"><span class=\"toc-item-num\">9.1&nbsp;&nbsp;</span>4.1.1. Преобразование признаков</a></span></li><li><span><a href=\"#4.1.2.-Разбиение-данных-на-выборки\" data-toc-modified-id=\"4.1.2.-Разбиение-данных-на-выборки-9.2\"><span class=\"toc-item-num\">9.2&nbsp;&nbsp;</span>4.1.2. Разбиение данных на выборки</a></span></li><li><span><a href=\"#4.1.3.-Масштабирование-признаков\" data-toc-modified-id=\"4.1.3.-Масштабирование-признаков-9.3\"><span class=\"toc-item-num\">9.3&nbsp;&nbsp;</span>4.1.3. Масштабирование признаков</a></span></li></ul></li><li><span><a href=\"#4.2.-Обучение-моделей\" data-toc-modified-id=\"4.2.-Обучение-моделей-10\"><span class=\"toc-item-num\">10&nbsp;&nbsp;</span>4.2. Обучение моделей</a></span><ul class=\"toc-item\"><li><span><a href=\"#4.2.1.-Модель-LinearRegression\" data-toc-modified-id=\"4.2.1.-Модель-LinearRegression-10.1\"><span class=\"toc-item-num\">10.1&nbsp;&nbsp;</span>4.2.1. Модель LinearRegression</a></span></li><li><span><a href=\"#4.2.2.-LGBMRegressor\" data-toc-modified-id=\"4.2.2.-LGBMRegressor-10.2\"><span class=\"toc-item-num\">10.2&nbsp;&nbsp;</span>4.2.2. LGBMRegressor</a></span></li><li><span><a href=\"#4.2.3.-CatBoostRegressor\" data-toc-modified-id=\"4.2.3.-CatBoostRegressor-10.3\"><span class=\"toc-item-num\">10.3&nbsp;&nbsp;</span>4.2.3. CatBoostRegressor</a></span><ul class=\"toc-item\"><li><span><a href=\"#По-результатам-использования-трех-моделей-можно-сделать-следующий-вывод:\" data-toc-modified-id=\"По-результатам-использования-трех-моделей-можно-сделать-следующий-вывод:-10.3.1\"><span class=\"toc-item-num\">10.3.1&nbsp;&nbsp;</span>По результатам использования трех моделей можно сделать следующий вывод:</a></span></li><li><span><a href=\"#Вывод:\" data-toc-modified-id=\"Вывод:-10.3.2\"><span class=\"toc-item-num\">10.3.2&nbsp;&nbsp;</span>Вывод:</a></span></li></ul></li></ul></li></ul></div>"
   ]
  },
  {
   "cell_type": "markdown",
   "metadata": {},
   "source": [
    "# Модель для определения рыночной стоимости автомобиля. Описание проекта.\n",
    "\n",
    "Сервис по продаже автомобилей с пробегом «Не бит, не крашен» разрабатывает приложение для привлечения новых клиентов. В нём можно быстро узнать рыночную стоимость своего автомобиля. В вашем распоряжении исторические данные: технические характеристики, комплектации и цены автомобилей. Вам нужно построить модель для определения стоимости.  \n",
    "Заказчику важны:  \n",
    "•\tкачество предсказания;  \n",
    "•\tскорость предсказания;  \n",
    "•\tвремя обучения."
   ]
  },
  {
   "cell_type": "markdown",
   "metadata": {},
   "source": [
    "## Описание данных.\n",
    "\n",
    "Данные находятся в файле /datasets/autos.csv. Скачать датасет.  \n",
    "Признаки  \n",
    "•\tDateCrawled — дата скачивания анкеты из базы  \n",
    "•\tVehicleType — тип автомобильного кузова  \n",
    "•\tRegistrationYear — год регистрации автомобиля  \n",
    "•\tGearbox — тип коробки передач  \n",
    "•\tPower — мощность (л. с.)  \n",
    "•\tModel — модель автомобиля  \n",
    "•\tKilometer — пробег (км)  \n",
    "•\tRegistrationMonth — месяц регистрации автомобиля  \n",
    "•\tFuelType — тип топлива  \n",
    "•\tBrand — марка автомобиля  \n",
    "•\tNotRepaired — была машина в ремонте или нет  \n",
    "•\tDateCreated — дата создания анкеты  \n",
    "•\tNumberOfPictures — количество фотографий автомобиля  \n",
    "•\tPostalCode — почтовый индекс владельца анкеты (пользователя)  \n",
    "•\tLastSeen — дата последней активности пользователя  \n",
    "Целевой признак  \n",
    "Price — цена (евро)  \n"
   ]
  },
  {
   "cell_type": "markdown",
   "metadata": {},
   "source": [
    "## Инструкция по выполнению проекта:\n",
    "Чтобы усилить исследование, не ограничивайтесь градиентным бустингом. Попробуйте более простые модели — иногда они работают лучше. Это редкие случаи, которые легко пропустить, если всегда применять только бустинг. Поэкспериментируйте и сравните характеристики моделей: скорость работы, точность результата.  \n",
    "1.\tЗагрузите и подготовьте данные.  \n",
    "2.\tОбучите разные модели. Для каждой попробуйте различные гипепараметеры.  \n",
    "3.\tПроанализируйте скорость работы и качество моделей.  \n",
    "Примечания:  \n",
    "•\tДля оценки качества моделей применяйте метрику RMSE.  \n",
    "•\tСамостоятельно освойте библиотеку LightGBM и её средствами постройте модели градиентного бустинга.  \n",
    "•\tВремя выполнения ячейки кода Jupyter Notebook можно получить специальной командой. Найдите её.  \n",
    "•\tПоскольку модель градиентного бустинга может обучаться долго, измените у неё только два-три параметра.  \n",
    "•\tЕсли перестанет работать Jupyter Notebook, удалите лишние переменные оператором del.  "
   ]
  },
  {
   "cell_type": "markdown",
   "metadata": {},
   "source": [
    "# 1. Импорт библиотек."
   ]
  },
  {
   "cell_type": "code",
   "execution_count": 1,
   "metadata": {},
   "outputs": [
    {
     "name": "stdout",
     "output_type": "stream",
     "text": [
      "Requirement already satisfied: catboost in c:\\users\\admin\\anaconda3\\lib\\site-packages (1.0.6)\n",
      "Requirement already satisfied: pandas>=0.24.0 in c:\\users\\admin\\anaconda3\\lib\\site-packages (from catboost) (1.3.4)\n",
      "Requirement already satisfied: six in c:\\users\\admin\\anaconda3\\lib\\site-packages (from catboost) (1.16.0)\n",
      "Requirement already satisfied: scipy in c:\\users\\admin\\anaconda3\\lib\\site-packages (from catboost) (1.7.1)\n",
      "Requirement already satisfied: graphviz in c:\\users\\admin\\anaconda3\\lib\\site-packages (from catboost) (0.20)\n",
      "Requirement already satisfied: matplotlib in c:\\users\\admin\\anaconda3\\lib\\site-packages (from catboost) (3.4.3)\n",
      "Requirement already satisfied: plotly in c:\\users\\admin\\anaconda3\\lib\\site-packages (from catboost) (5.9.0)\n",
      "Requirement already satisfied: numpy>=1.16.0 in c:\\users\\admin\\anaconda3\\lib\\site-packages (from catboost) (1.20.3)\n",
      "Requirement already satisfied: pytz>=2017.3 in c:\\users\\admin\\anaconda3\\lib\\site-packages (from pandas>=0.24.0->catboost) (2021.3)\n",
      "Requirement already satisfied: python-dateutil>=2.7.3 in c:\\users\\admin\\anaconda3\\lib\\site-packages (from pandas>=0.24.0->catboost) (2.8.2)\n",
      "Requirement already satisfied: cycler>=0.10 in c:\\users\\admin\\anaconda3\\lib\\site-packages (from matplotlib->catboost) (0.10.0)\n",
      "Requirement already satisfied: kiwisolver>=1.0.1 in c:\\users\\admin\\anaconda3\\lib\\site-packages (from matplotlib->catboost) (1.3.1)\n",
      "Requirement already satisfied: pyparsing>=2.2.1 in c:\\users\\admin\\anaconda3\\lib\\site-packages (from matplotlib->catboost) (3.0.4)\n",
      "Requirement already satisfied: pillow>=6.2.0 in c:\\users\\admin\\anaconda3\\lib\\site-packages (from matplotlib->catboost) (8.4.0)\n",
      "Requirement already satisfied: tenacity>=6.2.0 in c:\\users\\admin\\anaconda3\\lib\\site-packages (from plotly->catboost) (8.0.1)\n"
     ]
    }
   ],
   "source": [
    "! pip install catboost"
   ]
  },
  {
   "cell_type": "code",
   "execution_count": 2,
   "metadata": {},
   "outputs": [
    {
     "name": "stdout",
     "output_type": "stream",
     "text": [
      "Requirement already satisfied: lightgbm in c:\\users\\admin\\anaconda3\\lib\\site-packages (3.3.2)\n",
      "Requirement already satisfied: wheel in c:\\users\\admin\\anaconda3\\lib\\site-packages (from lightgbm) (0.37.0)\n",
      "Requirement already satisfied: numpy in c:\\users\\admin\\anaconda3\\lib\\site-packages (from lightgbm) (1.20.3)\n",
      "Requirement already satisfied: scipy in c:\\users\\admin\\anaconda3\\lib\\site-packages (from lightgbm) (1.7.1)\n",
      "Requirement already satisfied: scikit-learn!=0.22.0 in c:\\users\\admin\\anaconda3\\lib\\site-packages (from lightgbm) (0.24.2)\n",
      "Requirement already satisfied: threadpoolctl>=2.0.0 in c:\\users\\admin\\anaconda3\\lib\\site-packages (from scikit-learn!=0.22.0->lightgbm) (2.2.0)\n",
      "Requirement already satisfied: joblib>=0.11 in c:\\users\\admin\\anaconda3\\lib\\site-packages (from scikit-learn!=0.22.0->lightgbm) (1.1.0)\n"
     ]
    }
   ],
   "source": [
    "!pip install lightgbm"
   ]
  },
  {
   "cell_type": "code",
   "execution_count": 3,
   "metadata": {},
   "outputs": [],
   "source": [
    "#Импорт библиотек\n",
    "\n",
    "from catboost import CatBoostRegressor, Pool\n",
    "\n",
    "from IPython.display import display, HTML, Image\n",
    "\n",
    "import lightgbm as lgb\n",
    "from lightgbm import LGBMRegressor\n",
    "\n",
    "from math import sqrt\n",
    "import matplotlib.pyplot as plt\n",
    "import numpy as np\n",
    "import pandas as pd\n",
    "\n",
    "import seaborn as sns\n",
    "sns.set_style('darkgrid')\n",
    "\n",
    "\n",
    "from sklearn.dummy import DummyRegressor\n",
    "from sklearn.metrics import mean_squared_error\n",
    "from sklearn.linear_model import LinearRegression\n",
    "from sklearn.model_selection import train_test_split, GridSearchCV, cross_val_score\n",
    "from sklearn.preprocessing import StandardScaler\n",
    "\n",
    "import time\n",
    "\n",
    "import warnings\n",
    "warnings.filterwarnings(\"ignore\")\n",
    "\n",
    "pd.set_option('display.max_colwidth', -1)"
   ]
  },
  {
   "cell_type": "markdown",
   "metadata": {},
   "source": [
    "# 2. Загрузка , чтение и изучение данных."
   ]
  },
  {
   "cell_type": "code",
   "execution_count": 4,
   "metadata": {},
   "outputs": [],
   "source": [
    "# Загрузка данных\n",
    "import os\n",
    "\n",
    "pth1 = 'D:/YANDEX.PRAKTIKUM/DATA_SCIENCE/Численные_методы/autos.csv'\n",
    "pth2 = '/datasets/autos.csv'\n",
    "\n",
    "if os.path.exists(pth1):\n",
    "    Cars_data = pd.read_csv(pth1)\n",
    "elif os.path.exists(pth2):\n",
    "    Cars_data = pd.read_csv(pth2)\n",
    "else:\n",
    "    print('Something is wrong')"
   ]
  },
  {
   "cell_type": "markdown",
   "metadata": {},
   "source": [
    "Проведем изучение данных."
   ]
  },
  {
   "cell_type": "code",
   "execution_count": 5,
   "metadata": {
    "scrolled": true
   },
   "outputs": [
    {
     "data": {
      "text/html": [
       "<div>\n",
       "<style scoped>\n",
       "    .dataframe tbody tr th:only-of-type {\n",
       "        vertical-align: middle;\n",
       "    }\n",
       "\n",
       "    .dataframe tbody tr th {\n",
       "        vertical-align: top;\n",
       "    }\n",
       "\n",
       "    .dataframe thead th {\n",
       "        text-align: right;\n",
       "    }\n",
       "</style>\n",
       "<table border=\"1\" class=\"dataframe\">\n",
       "  <thead>\n",
       "    <tr style=\"text-align: right;\">\n",
       "      <th></th>\n",
       "      <th>DateCrawled</th>\n",
       "      <th>Price</th>\n",
       "      <th>VehicleType</th>\n",
       "      <th>RegistrationYear</th>\n",
       "      <th>Gearbox</th>\n",
       "      <th>Power</th>\n",
       "      <th>Model</th>\n",
       "      <th>Kilometer</th>\n",
       "      <th>RegistrationMonth</th>\n",
       "      <th>FuelType</th>\n",
       "      <th>Brand</th>\n",
       "      <th>NotRepaired</th>\n",
       "      <th>DateCreated</th>\n",
       "      <th>NumberOfPictures</th>\n",
       "      <th>PostalCode</th>\n",
       "      <th>LastSeen</th>\n",
       "    </tr>\n",
       "  </thead>\n",
       "  <tbody>\n",
       "    <tr>\n",
       "      <th>0</th>\n",
       "      <td>2016-03-24 11:52:17</td>\n",
       "      <td>480</td>\n",
       "      <td>NaN</td>\n",
       "      <td>1993</td>\n",
       "      <td>manual</td>\n",
       "      <td>0</td>\n",
       "      <td>golf</td>\n",
       "      <td>150000</td>\n",
       "      <td>0</td>\n",
       "      <td>petrol</td>\n",
       "      <td>volkswagen</td>\n",
       "      <td>NaN</td>\n",
       "      <td>2016-03-24 00:00:00</td>\n",
       "      <td>0</td>\n",
       "      <td>70435</td>\n",
       "      <td>2016-04-07 03:16:57</td>\n",
       "    </tr>\n",
       "    <tr>\n",
       "      <th>1</th>\n",
       "      <td>2016-03-24 10:58:45</td>\n",
       "      <td>18300</td>\n",
       "      <td>coupe</td>\n",
       "      <td>2011</td>\n",
       "      <td>manual</td>\n",
       "      <td>190</td>\n",
       "      <td>NaN</td>\n",
       "      <td>125000</td>\n",
       "      <td>5</td>\n",
       "      <td>gasoline</td>\n",
       "      <td>audi</td>\n",
       "      <td>yes</td>\n",
       "      <td>2016-03-24 00:00:00</td>\n",
       "      <td>0</td>\n",
       "      <td>66954</td>\n",
       "      <td>2016-04-07 01:46:50</td>\n",
       "    </tr>\n",
       "    <tr>\n",
       "      <th>2</th>\n",
       "      <td>2016-03-14 12:52:21</td>\n",
       "      <td>9800</td>\n",
       "      <td>suv</td>\n",
       "      <td>2004</td>\n",
       "      <td>auto</td>\n",
       "      <td>163</td>\n",
       "      <td>grand</td>\n",
       "      <td>125000</td>\n",
       "      <td>8</td>\n",
       "      <td>gasoline</td>\n",
       "      <td>jeep</td>\n",
       "      <td>NaN</td>\n",
       "      <td>2016-03-14 00:00:00</td>\n",
       "      <td>0</td>\n",
       "      <td>90480</td>\n",
       "      <td>2016-04-05 12:47:46</td>\n",
       "    </tr>\n",
       "    <tr>\n",
       "      <th>3</th>\n",
       "      <td>2016-03-17 16:54:04</td>\n",
       "      <td>1500</td>\n",
       "      <td>small</td>\n",
       "      <td>2001</td>\n",
       "      <td>manual</td>\n",
       "      <td>75</td>\n",
       "      <td>golf</td>\n",
       "      <td>150000</td>\n",
       "      <td>6</td>\n",
       "      <td>petrol</td>\n",
       "      <td>volkswagen</td>\n",
       "      <td>no</td>\n",
       "      <td>2016-03-17 00:00:00</td>\n",
       "      <td>0</td>\n",
       "      <td>91074</td>\n",
       "      <td>2016-03-17 17:40:17</td>\n",
       "    </tr>\n",
       "    <tr>\n",
       "      <th>4</th>\n",
       "      <td>2016-03-31 17:25:20</td>\n",
       "      <td>3600</td>\n",
       "      <td>small</td>\n",
       "      <td>2008</td>\n",
       "      <td>manual</td>\n",
       "      <td>69</td>\n",
       "      <td>fabia</td>\n",
       "      <td>90000</td>\n",
       "      <td>7</td>\n",
       "      <td>gasoline</td>\n",
       "      <td>skoda</td>\n",
       "      <td>no</td>\n",
       "      <td>2016-03-31 00:00:00</td>\n",
       "      <td>0</td>\n",
       "      <td>60437</td>\n",
       "      <td>2016-04-06 10:17:21</td>\n",
       "    </tr>\n",
       "  </tbody>\n",
       "</table>\n",
       "</div>"
      ],
      "text/plain": [
       "           DateCrawled  Price VehicleType  RegistrationYear Gearbox  Power  \\\n",
       "0  2016-03-24 11:52:17  480    NaN         1993              manual  0       \n",
       "1  2016-03-24 10:58:45  18300  coupe       2011              manual  190     \n",
       "2  2016-03-14 12:52:21  9800   suv         2004              auto    163     \n",
       "3  2016-03-17 16:54:04  1500   small       2001              manual  75      \n",
       "4  2016-03-31 17:25:20  3600   small       2008              manual  69      \n",
       "\n",
       "   Model  Kilometer  RegistrationMonth  FuelType       Brand NotRepaired  \\\n",
       "0  golf   150000     0                  petrol    volkswagen  NaN          \n",
       "1  NaN    125000     5                  gasoline  audi        yes          \n",
       "2  grand  125000     8                  gasoline  jeep        NaN          \n",
       "3  golf   150000     6                  petrol    volkswagen  no           \n",
       "4  fabia  90000      7                  gasoline  skoda       no           \n",
       "\n",
       "           DateCreated  NumberOfPictures  PostalCode             LastSeen  \n",
       "0  2016-03-24 00:00:00  0                 70435       2016-04-07 03:16:57  \n",
       "1  2016-03-24 00:00:00  0                 66954       2016-04-07 01:46:50  \n",
       "2  2016-03-14 00:00:00  0                 90480       2016-04-05 12:47:46  \n",
       "3  2016-03-17 00:00:00  0                 91074       2016-03-17 17:40:17  \n",
       "4  2016-03-31 00:00:00  0                 60437       2016-04-06 10:17:21  "
      ]
     },
     "execution_count": 5,
     "metadata": {},
     "output_type": "execute_result"
    }
   ],
   "source": [
    "Cars_data.head()"
   ]
  },
  {
   "cell_type": "code",
   "execution_count": 6,
   "metadata": {},
   "outputs": [
    {
     "data": {
      "text/html": [
       "<div>\n",
       "<style scoped>\n",
       "    .dataframe tbody tr th:only-of-type {\n",
       "        vertical-align: middle;\n",
       "    }\n",
       "\n",
       "    .dataframe tbody tr th {\n",
       "        vertical-align: top;\n",
       "    }\n",
       "\n",
       "    .dataframe thead th {\n",
       "        text-align: right;\n",
       "    }\n",
       "</style>\n",
       "<table border=\"1\" class=\"dataframe\">\n",
       "  <thead>\n",
       "    <tr style=\"text-align: right;\">\n",
       "      <th></th>\n",
       "      <th>DateCrawled</th>\n",
       "      <th>Price</th>\n",
       "      <th>VehicleType</th>\n",
       "      <th>RegistrationYear</th>\n",
       "      <th>Gearbox</th>\n",
       "      <th>Power</th>\n",
       "      <th>Model</th>\n",
       "      <th>Kilometer</th>\n",
       "      <th>RegistrationMonth</th>\n",
       "      <th>FuelType</th>\n",
       "      <th>Brand</th>\n",
       "      <th>NotRepaired</th>\n",
       "      <th>DateCreated</th>\n",
       "      <th>NumberOfPictures</th>\n",
       "      <th>PostalCode</th>\n",
       "      <th>LastSeen</th>\n",
       "    </tr>\n",
       "  </thead>\n",
       "  <tbody>\n",
       "    <tr>\n",
       "      <th>354364</th>\n",
       "      <td>2016-03-21 09:50:58</td>\n",
       "      <td>0</td>\n",
       "      <td>NaN</td>\n",
       "      <td>2005</td>\n",
       "      <td>manual</td>\n",
       "      <td>0</td>\n",
       "      <td>colt</td>\n",
       "      <td>150000</td>\n",
       "      <td>7</td>\n",
       "      <td>petrol</td>\n",
       "      <td>mitsubishi</td>\n",
       "      <td>yes</td>\n",
       "      <td>2016-03-21 00:00:00</td>\n",
       "      <td>0</td>\n",
       "      <td>2694</td>\n",
       "      <td>2016-03-21 10:42:49</td>\n",
       "    </tr>\n",
       "    <tr>\n",
       "      <th>354365</th>\n",
       "      <td>2016-03-14 17:48:27</td>\n",
       "      <td>2200</td>\n",
       "      <td>NaN</td>\n",
       "      <td>2005</td>\n",
       "      <td>NaN</td>\n",
       "      <td>0</td>\n",
       "      <td>NaN</td>\n",
       "      <td>20000</td>\n",
       "      <td>1</td>\n",
       "      <td>NaN</td>\n",
       "      <td>sonstige_autos</td>\n",
       "      <td>NaN</td>\n",
       "      <td>2016-03-14 00:00:00</td>\n",
       "      <td>0</td>\n",
       "      <td>39576</td>\n",
       "      <td>2016-04-06 00:46:52</td>\n",
       "    </tr>\n",
       "    <tr>\n",
       "      <th>354366</th>\n",
       "      <td>2016-03-05 19:56:21</td>\n",
       "      <td>1199</td>\n",
       "      <td>convertible</td>\n",
       "      <td>2000</td>\n",
       "      <td>auto</td>\n",
       "      <td>101</td>\n",
       "      <td>fortwo</td>\n",
       "      <td>125000</td>\n",
       "      <td>3</td>\n",
       "      <td>petrol</td>\n",
       "      <td>smart</td>\n",
       "      <td>no</td>\n",
       "      <td>2016-03-05 00:00:00</td>\n",
       "      <td>0</td>\n",
       "      <td>26135</td>\n",
       "      <td>2016-03-11 18:17:12</td>\n",
       "    </tr>\n",
       "    <tr>\n",
       "      <th>354367</th>\n",
       "      <td>2016-03-19 18:57:12</td>\n",
       "      <td>9200</td>\n",
       "      <td>bus</td>\n",
       "      <td>1996</td>\n",
       "      <td>manual</td>\n",
       "      <td>102</td>\n",
       "      <td>transporter</td>\n",
       "      <td>150000</td>\n",
       "      <td>3</td>\n",
       "      <td>gasoline</td>\n",
       "      <td>volkswagen</td>\n",
       "      <td>no</td>\n",
       "      <td>2016-03-19 00:00:00</td>\n",
       "      <td>0</td>\n",
       "      <td>87439</td>\n",
       "      <td>2016-04-07 07:15:26</td>\n",
       "    </tr>\n",
       "    <tr>\n",
       "      <th>354368</th>\n",
       "      <td>2016-03-20 19:41:08</td>\n",
       "      <td>3400</td>\n",
       "      <td>wagon</td>\n",
       "      <td>2002</td>\n",
       "      <td>manual</td>\n",
       "      <td>100</td>\n",
       "      <td>golf</td>\n",
       "      <td>150000</td>\n",
       "      <td>6</td>\n",
       "      <td>gasoline</td>\n",
       "      <td>volkswagen</td>\n",
       "      <td>NaN</td>\n",
       "      <td>2016-03-20 00:00:00</td>\n",
       "      <td>0</td>\n",
       "      <td>40764</td>\n",
       "      <td>2016-03-24 12:45:21</td>\n",
       "    </tr>\n",
       "  </tbody>\n",
       "</table>\n",
       "</div>"
      ],
      "text/plain": [
       "                DateCrawled  Price  VehicleType  RegistrationYear Gearbox  \\\n",
       "354364  2016-03-21 09:50:58  0      NaN          2005              manual   \n",
       "354365  2016-03-14 17:48:27  2200   NaN          2005              NaN      \n",
       "354366  2016-03-05 19:56:21  1199   convertible  2000              auto     \n",
       "354367  2016-03-19 18:57:12  9200   bus          1996              manual   \n",
       "354368  2016-03-20 19:41:08  3400   wagon        2002              manual   \n",
       "\n",
       "        Power        Model  Kilometer  RegistrationMonth  FuelType  \\\n",
       "354364  0      colt         150000     7                  petrol     \n",
       "354365  0      NaN          20000      1                  NaN        \n",
       "354366  101    fortwo       125000     3                  petrol     \n",
       "354367  102    transporter  150000     3                  gasoline   \n",
       "354368  100    golf         150000     6                  gasoline   \n",
       "\n",
       "                 Brand NotRepaired          DateCreated  NumberOfPictures  \\\n",
       "354364  mitsubishi      yes         2016-03-21 00:00:00  0                  \n",
       "354365  sonstige_autos  NaN         2016-03-14 00:00:00  0                  \n",
       "354366  smart           no          2016-03-05 00:00:00  0                  \n",
       "354367  volkswagen      no          2016-03-19 00:00:00  0                  \n",
       "354368  volkswagen      NaN         2016-03-20 00:00:00  0                  \n",
       "\n",
       "        PostalCode             LastSeen  \n",
       "354364  2694        2016-03-21 10:42:49  \n",
       "354365  39576       2016-04-06 00:46:52  \n",
       "354366  26135       2016-03-11 18:17:12  \n",
       "354367  87439       2016-04-07 07:15:26  \n",
       "354368  40764       2016-03-24 12:45:21  "
      ]
     },
     "execution_count": 6,
     "metadata": {},
     "output_type": "execute_result"
    }
   ],
   "source": [
    "Cars_data.tail()"
   ]
  },
  {
   "cell_type": "markdown",
   "metadata": {},
   "source": [
    "Посмотрим общую информацию о датафрейме."
   ]
  },
  {
   "cell_type": "code",
   "execution_count": 7,
   "metadata": {},
   "outputs": [],
   "source": [
    "#Создадим функцию, которая извлекает информацию об исходных данных: типы данных,количество пропусков,кол-во дубликатов,\n",
    "#хар-ки числовых столбцов \n",
    "def df_info(df):\n",
    "    print(80*\"+\")\n",
    "    df.info()\n",
    "    print(80*\"+\")\n",
    "    print('Описание количественных переменных:')\n",
    "    print(df.describe(percentiles=[.25,.5]))\n",
    "    print(80*\"+\")\n",
    "    print(f'количество дубликатов в таблице = {df.duplicated().sum()}')"
   ]
  },
  {
   "cell_type": "code",
   "execution_count": 8,
   "metadata": {},
   "outputs": [
    {
     "name": "stdout",
     "output_type": "stream",
     "text": [
      "++++++++++++++++++++++++++++++++++++++++++++++++++++++++++++++++++++++++++++++++\n",
      "<class 'pandas.core.frame.DataFrame'>\n",
      "RangeIndex: 354369 entries, 0 to 354368\n",
      "Data columns (total 16 columns):\n",
      " #   Column             Non-Null Count   Dtype \n",
      "---  ------             --------------   ----- \n",
      " 0   DateCrawled        354369 non-null  object\n",
      " 1   Price              354369 non-null  int64 \n",
      " 2   VehicleType        316879 non-null  object\n",
      " 3   RegistrationYear   354369 non-null  int64 \n",
      " 4   Gearbox            334536 non-null  object\n",
      " 5   Power              354369 non-null  int64 \n",
      " 6   Model              334664 non-null  object\n",
      " 7   Kilometer          354369 non-null  int64 \n",
      " 8   RegistrationMonth  354369 non-null  int64 \n",
      " 9   FuelType           321474 non-null  object\n",
      " 10  Brand              354369 non-null  object\n",
      " 11  NotRepaired        283215 non-null  object\n",
      " 12  DateCreated        354369 non-null  object\n",
      " 13  NumberOfPictures   354369 non-null  int64 \n",
      " 14  PostalCode         354369 non-null  int64 \n",
      " 15  LastSeen           354369 non-null  object\n",
      "dtypes: int64(7), object(9)\n",
      "memory usage: 43.3+ MB\n",
      "++++++++++++++++++++++++++++++++++++++++++++++++++++++++++++++++++++++++++++++++\n",
      "Описание количественных переменных:\n",
      "               Price  RegistrationYear          Power      Kilometer  \\\n",
      "count  354369.000000  354369.000000     354369.000000  354369.000000   \n",
      "mean   4416.656776    2004.234448       110.094337     128211.172535   \n",
      "std    4514.158514    90.227958         189.850405     37905.341530    \n",
      "min    0.000000       1000.000000       0.000000       5000.000000     \n",
      "25%    1050.000000    1999.000000       69.000000      125000.000000   \n",
      "50%    2700.000000    2003.000000       105.000000     150000.000000   \n",
      "max    20000.000000   9999.000000       20000.000000   150000.000000   \n",
      "\n",
      "       RegistrationMonth  NumberOfPictures     PostalCode  \n",
      "count  354369.000000      354369.0          354369.000000  \n",
      "mean   5.714645           0.0               50508.689087   \n",
      "std    3.726421           0.0               25783.096248   \n",
      "min    0.000000           0.0               1067.000000    \n",
      "25%    3.000000           0.0               30165.000000   \n",
      "50%    6.000000           0.0               49413.000000   \n",
      "max    12.000000          0.0               99998.000000   \n",
      "++++++++++++++++++++++++++++++++++++++++++++++++++++++++++++++++++++++++++++++++\n",
      "количество дубликатов в таблице = 4\n"
     ]
    }
   ],
   "source": [
    "df_info(Cars_data)"
   ]
  },
  {
   "cell_type": "markdown",
   "metadata": {},
   "source": [
    "#### По результатам чтения, загрузки и первичного изучения данных\n",
    "Можно отметить, что:\n",
    "\n",
    "    •\tдатафрейм содержит как количественные, так и качественные признаки \n",
    "    •\tв данных есть пропуски\n",
    "    •\tколичество дубликатов в таблице 4\n",
    "    •\tчасть признаков могут быть удалены \n"
   ]
  },
  {
   "cell_type": "markdown",
   "metadata": {},
   "source": [
    "# 3. Предобработка данных"
   ]
  },
  {
   "cell_type": "markdown",
   "metadata": {},
   "source": [
    "## 3.1. Обработка дубликатов"
   ]
  },
  {
   "cell_type": "markdown",
   "metadata": {},
   "source": [
    "Ранее было установлено, что количесво дубликатов - 4. Выведем дубликаты."
   ]
  },
  {
   "cell_type": "code",
   "execution_count": 9,
   "metadata": {},
   "outputs": [
    {
     "data": {
      "text/html": [
       "<div>\n",
       "<style scoped>\n",
       "    .dataframe tbody tr th:only-of-type {\n",
       "        vertical-align: middle;\n",
       "    }\n",
       "\n",
       "    .dataframe tbody tr th {\n",
       "        vertical-align: top;\n",
       "    }\n",
       "\n",
       "    .dataframe thead th {\n",
       "        text-align: right;\n",
       "    }\n",
       "</style>\n",
       "<table border=\"1\" class=\"dataframe\">\n",
       "  <thead>\n",
       "    <tr style=\"text-align: right;\">\n",
       "      <th></th>\n",
       "      <th>DateCrawled</th>\n",
       "      <th>Price</th>\n",
       "      <th>VehicleType</th>\n",
       "      <th>RegistrationYear</th>\n",
       "      <th>Gearbox</th>\n",
       "      <th>Power</th>\n",
       "      <th>Model</th>\n",
       "      <th>Kilometer</th>\n",
       "      <th>RegistrationMonth</th>\n",
       "      <th>FuelType</th>\n",
       "      <th>Brand</th>\n",
       "      <th>NotRepaired</th>\n",
       "      <th>DateCreated</th>\n",
       "      <th>NumberOfPictures</th>\n",
       "      <th>PostalCode</th>\n",
       "      <th>LastSeen</th>\n",
       "    </tr>\n",
       "  </thead>\n",
       "  <tbody>\n",
       "    <tr>\n",
       "      <th>171088</th>\n",
       "      <td>2016-03-08 18:42:48</td>\n",
       "      <td>1799</td>\n",
       "      <td>coupe</td>\n",
       "      <td>1999</td>\n",
       "      <td>auto</td>\n",
       "      <td>193</td>\n",
       "      <td>clk</td>\n",
       "      <td>20000</td>\n",
       "      <td>7</td>\n",
       "      <td>petrol</td>\n",
       "      <td>mercedes_benz</td>\n",
       "      <td>no</td>\n",
       "      <td>2016-03-08 00:00:00</td>\n",
       "      <td>0</td>\n",
       "      <td>89518</td>\n",
       "      <td>2016-03-09 09:46:57</td>\n",
       "    </tr>\n",
       "    <tr>\n",
       "      <th>231258</th>\n",
       "      <td>2016-03-28 00:56:10</td>\n",
       "      <td>1000</td>\n",
       "      <td>small</td>\n",
       "      <td>2002</td>\n",
       "      <td>manual</td>\n",
       "      <td>83</td>\n",
       "      <td>other</td>\n",
       "      <td>150000</td>\n",
       "      <td>1</td>\n",
       "      <td>petrol</td>\n",
       "      <td>suzuki</td>\n",
       "      <td>no</td>\n",
       "      <td>2016-03-28 00:00:00</td>\n",
       "      <td>0</td>\n",
       "      <td>66589</td>\n",
       "      <td>2016-03-28 08:46:21</td>\n",
       "    </tr>\n",
       "    <tr>\n",
       "      <th>258109</th>\n",
       "      <td>2016-04-03 09:01:15</td>\n",
       "      <td>4699</td>\n",
       "      <td>coupe</td>\n",
       "      <td>2003</td>\n",
       "      <td>auto</td>\n",
       "      <td>218</td>\n",
       "      <td>clk</td>\n",
       "      <td>125000</td>\n",
       "      <td>6</td>\n",
       "      <td>petrol</td>\n",
       "      <td>mercedes_benz</td>\n",
       "      <td>yes</td>\n",
       "      <td>2016-04-03 00:00:00</td>\n",
       "      <td>0</td>\n",
       "      <td>75196</td>\n",
       "      <td>2016-04-07 09:44:54</td>\n",
       "    </tr>\n",
       "    <tr>\n",
       "      <th>325651</th>\n",
       "      <td>2016-03-18 18:46:15</td>\n",
       "      <td>1999</td>\n",
       "      <td>wagon</td>\n",
       "      <td>2001</td>\n",
       "      <td>manual</td>\n",
       "      <td>131</td>\n",
       "      <td>passat</td>\n",
       "      <td>150000</td>\n",
       "      <td>7</td>\n",
       "      <td>gasoline</td>\n",
       "      <td>volkswagen</td>\n",
       "      <td>no</td>\n",
       "      <td>2016-03-18 00:00:00</td>\n",
       "      <td>0</td>\n",
       "      <td>36391</td>\n",
       "      <td>2016-03-18 18:46:15</td>\n",
       "    </tr>\n",
       "  </tbody>\n",
       "</table>\n",
       "</div>"
      ],
      "text/plain": [
       "                DateCrawled  Price VehicleType  RegistrationYear Gearbox  \\\n",
       "171088  2016-03-08 18:42:48  1799   coupe       1999              auto     \n",
       "231258  2016-03-28 00:56:10  1000   small       2002              manual   \n",
       "258109  2016-04-03 09:01:15  4699   coupe       2003              auto     \n",
       "325651  2016-03-18 18:46:15  1999   wagon       2001              manual   \n",
       "\n",
       "        Power   Model  Kilometer  RegistrationMonth  FuelType          Brand  \\\n",
       "171088  193    clk     20000      7                  petrol    mercedes_benz   \n",
       "231258  83     other   150000     1                  petrol    suzuki          \n",
       "258109  218    clk     125000     6                  petrol    mercedes_benz   \n",
       "325651  131    passat  150000     7                  gasoline  volkswagen      \n",
       "\n",
       "       NotRepaired          DateCreated  NumberOfPictures  PostalCode  \\\n",
       "171088  no          2016-03-08 00:00:00  0                 89518        \n",
       "231258  no          2016-03-28 00:00:00  0                 66589        \n",
       "258109  yes         2016-04-03 00:00:00  0                 75196        \n",
       "325651  no          2016-03-18 00:00:00  0                 36391        \n",
       "\n",
       "                   LastSeen  \n",
       "171088  2016-03-09 09:46:57  \n",
       "231258  2016-03-28 08:46:21  \n",
       "258109  2016-04-07 09:44:54  \n",
       "325651  2016-03-18 18:46:15  "
      ]
     },
     "execution_count": 9,
     "metadata": {},
     "output_type": "execute_result"
    }
   ],
   "source": [
    "Cars_data[Cars_data.duplicated() == True]"
   ]
  },
  {
   "cell_type": "markdown",
   "metadata": {},
   "source": [
    "Проведем удаление дубликатов, проверим результат."
   ]
  },
  {
   "cell_type": "code",
   "execution_count": 10,
   "metadata": {},
   "outputs": [
    {
     "name": "stdout",
     "output_type": "stream",
     "text": [
      "Количество дубликатов: 0\n"
     ]
    }
   ],
   "source": [
    "Cars_data.drop_duplicates(inplace=True)\n",
    "print('Количество дубликатов:', Cars_data.duplicated().sum())"
   ]
  },
  {
   "cell_type": "markdown",
   "metadata": {},
   "source": [
    "## 3.2. Исключение не нужных признаков"
   ]
  },
  {
   "cell_type": "markdown",
   "metadata": {},
   "source": [
    "Перед исключением не нужных признаков создади копию исходного датафрейма."
   ]
  },
  {
   "cell_type": "code",
   "execution_count": 11,
   "metadata": {},
   "outputs": [],
   "source": [
    "Cars_data_copy = Cars_data.copy()"
   ]
  },
  {
   "cell_type": "markdown",
   "metadata": {},
   "source": [
    "Проведем удаление не нужных признаков из датафрейма и проверим результат."
   ]
  },
  {
   "cell_type": "code",
   "execution_count": 12,
   "metadata": {},
   "outputs": [
    {
     "data": {
      "text/html": [
       "<div>\n",
       "<style scoped>\n",
       "    .dataframe tbody tr th:only-of-type {\n",
       "        vertical-align: middle;\n",
       "    }\n",
       "\n",
       "    .dataframe tbody tr th {\n",
       "        vertical-align: top;\n",
       "    }\n",
       "\n",
       "    .dataframe thead th {\n",
       "        text-align: right;\n",
       "    }\n",
       "</style>\n",
       "<table border=\"1\" class=\"dataframe\">\n",
       "  <thead>\n",
       "    <tr style=\"text-align: right;\">\n",
       "      <th></th>\n",
       "      <th>Price</th>\n",
       "      <th>VehicleType</th>\n",
       "      <th>RegistrationYear</th>\n",
       "      <th>Gearbox</th>\n",
       "      <th>Power</th>\n",
       "      <th>Model</th>\n",
       "      <th>Kilometer</th>\n",
       "      <th>FuelType</th>\n",
       "      <th>Brand</th>\n",
       "      <th>NotRepaired</th>\n",
       "    </tr>\n",
       "  </thead>\n",
       "  <tbody>\n",
       "    <tr>\n",
       "      <th>0</th>\n",
       "      <td>480</td>\n",
       "      <td>NaN</td>\n",
       "      <td>1993</td>\n",
       "      <td>manual</td>\n",
       "      <td>0</td>\n",
       "      <td>golf</td>\n",
       "      <td>150000</td>\n",
       "      <td>petrol</td>\n",
       "      <td>volkswagen</td>\n",
       "      <td>NaN</td>\n",
       "    </tr>\n",
       "    <tr>\n",
       "      <th>1</th>\n",
       "      <td>18300</td>\n",
       "      <td>coupe</td>\n",
       "      <td>2011</td>\n",
       "      <td>manual</td>\n",
       "      <td>190</td>\n",
       "      <td>NaN</td>\n",
       "      <td>125000</td>\n",
       "      <td>gasoline</td>\n",
       "      <td>audi</td>\n",
       "      <td>yes</td>\n",
       "    </tr>\n",
       "    <tr>\n",
       "      <th>2</th>\n",
       "      <td>9800</td>\n",
       "      <td>suv</td>\n",
       "      <td>2004</td>\n",
       "      <td>auto</td>\n",
       "      <td>163</td>\n",
       "      <td>grand</td>\n",
       "      <td>125000</td>\n",
       "      <td>gasoline</td>\n",
       "      <td>jeep</td>\n",
       "      <td>NaN</td>\n",
       "    </tr>\n",
       "    <tr>\n",
       "      <th>3</th>\n",
       "      <td>1500</td>\n",
       "      <td>small</td>\n",
       "      <td>2001</td>\n",
       "      <td>manual</td>\n",
       "      <td>75</td>\n",
       "      <td>golf</td>\n",
       "      <td>150000</td>\n",
       "      <td>petrol</td>\n",
       "      <td>volkswagen</td>\n",
       "      <td>no</td>\n",
       "    </tr>\n",
       "    <tr>\n",
       "      <th>4</th>\n",
       "      <td>3600</td>\n",
       "      <td>small</td>\n",
       "      <td>2008</td>\n",
       "      <td>manual</td>\n",
       "      <td>69</td>\n",
       "      <td>fabia</td>\n",
       "      <td>90000</td>\n",
       "      <td>gasoline</td>\n",
       "      <td>skoda</td>\n",
       "      <td>no</td>\n",
       "    </tr>\n",
       "  </tbody>\n",
       "</table>\n",
       "</div>"
      ],
      "text/plain": [
       "   Price VehicleType  RegistrationYear Gearbox  Power  Model  Kilometer  \\\n",
       "0  480    NaN         1993              manual  0      golf   150000      \n",
       "1  18300  coupe       2011              manual  190    NaN    125000      \n",
       "2  9800   suv         2004              auto    163    grand  125000      \n",
       "3  1500   small       2001              manual  75     golf   150000      \n",
       "4  3600   small       2008              manual  69     fabia  90000       \n",
       "\n",
       "   FuelType       Brand NotRepaired  \n",
       "0  petrol    volkswagen  NaN         \n",
       "1  gasoline  audi        yes         \n",
       "2  gasoline  jeep        NaN         \n",
       "3  petrol    volkswagen  no          \n",
       "4  gasoline  skoda       no          "
      ]
     },
     "execution_count": 12,
     "metadata": {},
     "output_type": "execute_result"
    }
   ],
   "source": [
    "df = Cars_data.drop(['DateCrawled', 'RegistrationMonth', 'DateCreated', 'NumberOfPictures', 'PostalCode', 'LastSeen'], axis=1)\n",
    "df.head()"
   ]
  },
  {
   "cell_type": "markdown",
   "metadata": {},
   "source": [
    "## 3.3. Обработка пропусков"
   ]
  },
  {
   "cell_type": "markdown",
   "metadata": {},
   "source": [
    "Посмотрим, сколько пропусков содержит каждый из признаков."
   ]
  },
  {
   "cell_type": "code",
   "execution_count": 13,
   "metadata": {
    "scrolled": false
   },
   "outputs": [
    {
     "data": {
      "text/html": [
       "<div>\n",
       "<style scoped>\n",
       "    .dataframe tbody tr th:only-of-type {\n",
       "        vertical-align: middle;\n",
       "    }\n",
       "\n",
       "    .dataframe tbody tr th {\n",
       "        vertical-align: top;\n",
       "    }\n",
       "\n",
       "    .dataframe thead th {\n",
       "        text-align: right;\n",
       "    }\n",
       "</style>\n",
       "<table border=\"1\" class=\"dataframe\">\n",
       "  <thead>\n",
       "    <tr style=\"text-align: right;\">\n",
       "      <th></th>\n",
       "      <th>Количество пропусков</th>\n",
       "      <th>Доля пропусков, %</th>\n",
       "    </tr>\n",
       "  </thead>\n",
       "  <tbody>\n",
       "    <tr>\n",
       "      <th>Price</th>\n",
       "      <td>0</td>\n",
       "      <td>0.000000</td>\n",
       "    </tr>\n",
       "    <tr>\n",
       "      <th>VehicleType</th>\n",
       "      <td>37490</td>\n",
       "      <td>10.579487</td>\n",
       "    </tr>\n",
       "    <tr>\n",
       "      <th>RegistrationYear</th>\n",
       "      <td>0</td>\n",
       "      <td>0.000000</td>\n",
       "    </tr>\n",
       "    <tr>\n",
       "      <th>Gearbox</th>\n",
       "      <td>19833</td>\n",
       "      <td>5.596772</td>\n",
       "    </tr>\n",
       "    <tr>\n",
       "      <th>Power</th>\n",
       "      <td>0</td>\n",
       "      <td>0.000000</td>\n",
       "    </tr>\n",
       "    <tr>\n",
       "      <th>Model</th>\n",
       "      <td>19705</td>\n",
       "      <td>5.560651</td>\n",
       "    </tr>\n",
       "    <tr>\n",
       "      <th>Kilometer</th>\n",
       "      <td>0</td>\n",
       "      <td>0.000000</td>\n",
       "    </tr>\n",
       "    <tr>\n",
       "      <th>FuelType</th>\n",
       "      <td>32895</td>\n",
       "      <td>9.282802</td>\n",
       "    </tr>\n",
       "    <tr>\n",
       "      <th>Brand</th>\n",
       "      <td>0</td>\n",
       "      <td>0.000000</td>\n",
       "    </tr>\n",
       "    <tr>\n",
       "      <th>NotRepaired</th>\n",
       "      <td>71154</td>\n",
       "      <td>20.079297</td>\n",
       "    </tr>\n",
       "  </tbody>\n",
       "</table>\n",
       "</div>"
      ],
      "text/plain": [
       "                  Количество пропусков  Доля пропусков, %\n",
       "Price             0                     0.000000         \n",
       "VehicleType       37490                 10.579487        \n",
       "RegistrationYear  0                     0.000000         \n",
       "Gearbox           19833                 5.596772         \n",
       "Power             0                     0.000000         \n",
       "Model             19705                 5.560651         \n",
       "Kilometer         0                     0.000000         \n",
       "FuelType          32895                 9.282802         \n",
       "Brand             0                     0.000000         \n",
       "NotRepaired       71154                 20.079297        "
      ]
     },
     "execution_count": 13,
     "metadata": {},
     "output_type": "execute_result"
    }
   ],
   "source": [
    "omissions = {'Количество пропусков': df.isnull().sum(), 'Доля пропусков, %': df.isnull().sum() / len(df) * 100} \n",
    "pd.DataFrame(omissions)"
   ]
  },
  {
   "cell_type": "markdown",
   "metadata": {},
   "source": [
    "Проведем исследование пропусков."
   ]
  },
  {
   "cell_type": "code",
   "execution_count": 14,
   "metadata": {},
   "outputs": [
    {
     "name": "stdout",
     "output_type": "stream",
     "text": [
      "VehicleType\n",
      "sedan          91457\n",
      "small          79830\n",
      "wagon          65165\n",
      "bus            28775\n",
      "convertible    20203\n",
      "coupe          16161\n",
      "suv            11996\n",
      "other          3288 \n",
      "Name: VehicleType, dtype: int64\n",
      "\n",
      "\n",
      "Gearbox\n",
      "manual    268249\n",
      "auto      66283 \n",
      "Name: Gearbox, dtype: int64\n",
      "\n",
      "\n",
      "Model\n",
      "golf                  29232\n",
      "other                 24420\n",
      "3er                   19761\n",
      "polo                  13066\n",
      "corsa                 12570\n",
      "                      ...  \n",
      "i3                    8    \n",
      "serie_3               4    \n",
      "rangerover            4    \n",
      "range_rover_evoque    2    \n",
      "serie_1               2    \n",
      "Name: Model, Length: 250, dtype: int64\n",
      "\n",
      "\n",
      "FuelType\n",
      "petrol      216349\n",
      "gasoline    98719 \n",
      "lpg         5310  \n",
      "cng         565   \n",
      "hybrid      233   \n",
      "other       204   \n",
      "electric    90    \n",
      "Name: FuelType, dtype: int64\n",
      "\n",
      "\n",
      "NotRepaired\n",
      "no     247158\n",
      "yes    36053 \n",
      "Name: NotRepaired, dtype: int64\n",
      "\n",
      "\n"
     ]
    }
   ],
   "source": [
    "for col in df.columns:\n",
    "    if df[col].isnull().sum() > 0:\n",
    "        print(col)\n",
    "        print(df[col].value_counts())\n",
    "        print('\\n')"
   ]
  },
  {
   "cell_type": "markdown",
   "metadata": {},
   "source": [
    "В связи с большим количеством пропусков и категорий, целесообразно  ввести новую категорию - unknown и заполнить пропуски ею."
   ]
  },
  {
   "cell_type": "code",
   "execution_count": 15,
   "metadata": {},
   "outputs": [
    {
     "name": "stdout",
     "output_type": "stream",
     "text": [
      "VehicleType\n",
      "sedan          25.808700\n",
      "small          22.527620\n",
      "wagon          18.389231\n",
      "unknown        10.579487\n",
      "bus            8.120159 \n",
      "convertible    5.701184 \n",
      "coupe          4.560552 \n",
      "suv            3.385210 \n",
      "other          0.927857 \n",
      "Name: VehicleType, dtype: float64\n",
      "\n",
      "\n",
      "Gearbox\n",
      "manual     75.698503\n",
      "auto       18.704725\n",
      "unknown    5.596772 \n",
      "Name: Gearbox, dtype: float64\n",
      "\n",
      "\n",
      "Model\n",
      "golf                  8.249122\n",
      "other                 6.891200\n",
      "3er                   5.576454\n",
      "unknown               5.560651\n",
      "polo                  3.687159\n",
      "                        ...   \n",
      "i3                    0.002258\n",
      "serie_3               0.001129\n",
      "rangerover            0.001129\n",
      "range_rover_evoque    0.000564\n",
      "serie_1               0.000564\n",
      "Name: Model, Length: 251, dtype: float64\n",
      "\n",
      "\n",
      "FuelType\n",
      "petrol      61.052587\n",
      "gasoline    27.858000\n",
      "unknown     9.282802 \n",
      "lpg         1.498455 \n",
      "cng         0.159440 \n",
      "hybrid      0.065751 \n",
      "other       0.057568 \n",
      "electric    0.025398 \n",
      "Name: FuelType, dtype: float64\n",
      "\n",
      "\n",
      "NotRepaired\n",
      "no         69.746730\n",
      "unknown    20.079297\n",
      "yes        10.173973\n",
      "Name: NotRepaired, dtype: float64\n",
      "\n",
      "\n"
     ]
    }
   ],
   "source": [
    "for col in df.columns:\n",
    "    if df[col].isnull().sum() > 0:\n",
    "        df[col].fillna('unknown', inplace=True)\n",
    "        \n",
    "        print(col)\n",
    "        print(df[col].value_counts(normalize=True)*100)\n",
    "        print('\\n')"
   ]
  },
  {
   "cell_type": "markdown",
   "metadata": {},
   "source": [
    "## 3.4. Замена типов данных для категориальных переменных"
   ]
  },
  {
   "cell_type": "code",
   "execution_count": 16,
   "metadata": {},
   "outputs": [],
   "source": [
    "cols_cat = df.select_dtypes(include='object').columns\n",
    "for col in cols_cat:\n",
    "    df[col] = df[col].astype('category')"
   ]
  },
  {
   "cell_type": "code",
   "execution_count": 17,
   "metadata": {},
   "outputs": [
    {
     "name": "stdout",
     "output_type": "stream",
     "text": [
      "Index(['VehicleType', 'Gearbox', 'Model', 'FuelType', 'Brand', 'NotRepaired'], dtype='object')\n"
     ]
    }
   ],
   "source": [
    "print(cols_cat)"
   ]
  },
  {
   "cell_type": "markdown",
   "metadata": {},
   "source": [
    "Проверка результата."
   ]
  },
  {
   "cell_type": "code",
   "execution_count": 18,
   "metadata": {},
   "outputs": [
    {
     "data": {
      "text/plain": [
       "Price               int64   \n",
       "VehicleType         category\n",
       "RegistrationYear    int64   \n",
       "Gearbox             category\n",
       "Power               int64   \n",
       "Model               category\n",
       "Kilometer           int64   \n",
       "FuelType            category\n",
       "Brand               category\n",
       "NotRepaired         category\n",
       "dtype: object"
      ]
     },
     "execution_count": 18,
     "metadata": {},
     "output_type": "execute_result"
    }
   ],
   "source": [
    "df.dtypes"
   ]
  },
  {
   "cell_type": "markdown",
   "metadata": {},
   "source": [
    "## 3.5. Обработка численных признаков "
   ]
  },
  {
   "cell_type": "markdown",
   "metadata": {},
   "source": [
    "Исследуем более подробно каждый из численных признаков и удалим аномалии при их обнаружении."
   ]
  },
  {
   "cell_type": "code",
   "execution_count": 19,
   "metadata": {},
   "outputs": [
    {
     "data": {
      "text/html": [
       "<div>\n",
       "<style scoped>\n",
       "    .dataframe tbody tr th:only-of-type {\n",
       "        vertical-align: middle;\n",
       "    }\n",
       "\n",
       "    .dataframe tbody tr th {\n",
       "        vertical-align: top;\n",
       "    }\n",
       "\n",
       "    .dataframe thead th {\n",
       "        text-align: right;\n",
       "    }\n",
       "</style>\n",
       "<table border=\"1\" class=\"dataframe\">\n",
       "  <thead>\n",
       "    <tr style=\"text-align: right;\">\n",
       "      <th></th>\n",
       "      <th>Price</th>\n",
       "      <th>RegistrationYear</th>\n",
       "      <th>Power</th>\n",
       "      <th>Kilometer</th>\n",
       "    </tr>\n",
       "  </thead>\n",
       "  <tbody>\n",
       "    <tr>\n",
       "      <th>count</th>\n",
       "      <td>354365.000000</td>\n",
       "      <td>354365.000000</td>\n",
       "      <td>354365.000000</td>\n",
       "      <td>354365.000000</td>\n",
       "    </tr>\n",
       "    <tr>\n",
       "      <th>mean</th>\n",
       "      <td>4416.679830</td>\n",
       "      <td>2004.234481</td>\n",
       "      <td>110.093816</td>\n",
       "      <td>128211.363989</td>\n",
       "    </tr>\n",
       "    <tr>\n",
       "      <th>std</th>\n",
       "      <td>4514.176349</td>\n",
       "      <td>90.228466</td>\n",
       "      <td>189.851330</td>\n",
       "      <td>37905.083858</td>\n",
       "    </tr>\n",
       "    <tr>\n",
       "      <th>min</th>\n",
       "      <td>0.000000</td>\n",
       "      <td>1000.000000</td>\n",
       "      <td>0.000000</td>\n",
       "      <td>5000.000000</td>\n",
       "    </tr>\n",
       "    <tr>\n",
       "      <th>0%</th>\n",
       "      <td>0.000000</td>\n",
       "      <td>1000.000000</td>\n",
       "      <td>0.000000</td>\n",
       "      <td>5000.000000</td>\n",
       "    </tr>\n",
       "    <tr>\n",
       "      <th>5%</th>\n",
       "      <td>200.000000</td>\n",
       "      <td>1992.000000</td>\n",
       "      <td>0.000000</td>\n",
       "      <td>40000.000000</td>\n",
       "    </tr>\n",
       "    <tr>\n",
       "      <th>10%</th>\n",
       "      <td>499.000000</td>\n",
       "      <td>1995.000000</td>\n",
       "      <td>0.000000</td>\n",
       "      <td>70000.000000</td>\n",
       "    </tr>\n",
       "    <tr>\n",
       "      <th>15%</th>\n",
       "      <td>650.000000</td>\n",
       "      <td>1997.000000</td>\n",
       "      <td>54.000000</td>\n",
       "      <td>80000.000000</td>\n",
       "    </tr>\n",
       "    <tr>\n",
       "      <th>20%</th>\n",
       "      <td>880.000000</td>\n",
       "      <td>1998.000000</td>\n",
       "      <td>60.000000</td>\n",
       "      <td>100000.000000</td>\n",
       "    </tr>\n",
       "    <tr>\n",
       "      <th>25%</th>\n",
       "      <td>1050.000000</td>\n",
       "      <td>1999.000000</td>\n",
       "      <td>69.000000</td>\n",
       "      <td>125000.000000</td>\n",
       "    </tr>\n",
       "    <tr>\n",
       "      <th>30%</th>\n",
       "      <td>1300.000000</td>\n",
       "      <td>2000.000000</td>\n",
       "      <td>75.000000</td>\n",
       "      <td>125000.000000</td>\n",
       "    </tr>\n",
       "    <tr>\n",
       "      <th>35%</th>\n",
       "      <td>1599.000000</td>\n",
       "      <td>2000.000000</td>\n",
       "      <td>80.000000</td>\n",
       "      <td>150000.000000</td>\n",
       "    </tr>\n",
       "    <tr>\n",
       "      <th>40%</th>\n",
       "      <td>1900.000000</td>\n",
       "      <td>2001.000000</td>\n",
       "      <td>90.000000</td>\n",
       "      <td>150000.000000</td>\n",
       "    </tr>\n",
       "    <tr>\n",
       "      <th>45%</th>\n",
       "      <td>2300.000000</td>\n",
       "      <td>2002.000000</td>\n",
       "      <td>101.000000</td>\n",
       "      <td>150000.000000</td>\n",
       "    </tr>\n",
       "    <tr>\n",
       "      <th>50%</th>\n",
       "      <td>2700.000000</td>\n",
       "      <td>2003.000000</td>\n",
       "      <td>105.000000</td>\n",
       "      <td>150000.000000</td>\n",
       "    </tr>\n",
       "    <tr>\n",
       "      <th>55%</th>\n",
       "      <td>3200.000000</td>\n",
       "      <td>2004.000000</td>\n",
       "      <td>110.000000</td>\n",
       "      <td>150000.000000</td>\n",
       "    </tr>\n",
       "    <tr>\n",
       "      <th>60%</th>\n",
       "      <td>3800.000000</td>\n",
       "      <td>2005.000000</td>\n",
       "      <td>116.000000</td>\n",
       "      <td>150000.000000</td>\n",
       "    </tr>\n",
       "    <tr>\n",
       "      <th>65%</th>\n",
       "      <td>4500.000000</td>\n",
       "      <td>2006.000000</td>\n",
       "      <td>125.000000</td>\n",
       "      <td>150000.000000</td>\n",
       "    </tr>\n",
       "    <tr>\n",
       "      <th>70%</th>\n",
       "      <td>5350.000000</td>\n",
       "      <td>2007.000000</td>\n",
       "      <td>136.000000</td>\n",
       "      <td>150000.000000</td>\n",
       "    </tr>\n",
       "    <tr>\n",
       "      <th>75%</th>\n",
       "      <td>6400.000000</td>\n",
       "      <td>2008.000000</td>\n",
       "      <td>143.000000</td>\n",
       "      <td>150000.000000</td>\n",
       "    </tr>\n",
       "    <tr>\n",
       "      <th>80%</th>\n",
       "      <td>7500.000000</td>\n",
       "      <td>2009.000000</td>\n",
       "      <td>150.000000</td>\n",
       "      <td>150000.000000</td>\n",
       "    </tr>\n",
       "    <tr>\n",
       "      <th>85%</th>\n",
       "      <td>9000.000000</td>\n",
       "      <td>2010.000000</td>\n",
       "      <td>169.000000</td>\n",
       "      <td>150000.000000</td>\n",
       "    </tr>\n",
       "    <tr>\n",
       "      <th>90%</th>\n",
       "      <td>11450.000000</td>\n",
       "      <td>2012.000000</td>\n",
       "      <td>179.000000</td>\n",
       "      <td>150000.000000</td>\n",
       "    </tr>\n",
       "    <tr>\n",
       "      <th>95%</th>\n",
       "      <td>14600.000000</td>\n",
       "      <td>2016.000000</td>\n",
       "      <td>218.000000</td>\n",
       "      <td>150000.000000</td>\n",
       "    </tr>\n",
       "    <tr>\n",
       "      <th>max</th>\n",
       "      <td>20000.000000</td>\n",
       "      <td>9999.000000</td>\n",
       "      <td>20000.000000</td>\n",
       "      <td>150000.000000</td>\n",
       "    </tr>\n",
       "  </tbody>\n",
       "</table>\n",
       "</div>"
      ],
      "text/plain": [
       "               Price  RegistrationYear          Power      Kilometer\n",
       "count  354365.000000  354365.000000     354365.000000  354365.000000\n",
       "mean   4416.679830    2004.234481       110.093816     128211.363989\n",
       "std    4514.176349    90.228466         189.851330     37905.083858 \n",
       "min    0.000000       1000.000000       0.000000       5000.000000  \n",
       "0%     0.000000       1000.000000       0.000000       5000.000000  \n",
       "5%     200.000000     1992.000000       0.000000       40000.000000 \n",
       "10%    499.000000     1995.000000       0.000000       70000.000000 \n",
       "15%    650.000000     1997.000000       54.000000      80000.000000 \n",
       "20%    880.000000     1998.000000       60.000000      100000.000000\n",
       "25%    1050.000000    1999.000000       69.000000      125000.000000\n",
       "30%    1300.000000    2000.000000       75.000000      125000.000000\n",
       "35%    1599.000000    2000.000000       80.000000      150000.000000\n",
       "40%    1900.000000    2001.000000       90.000000      150000.000000\n",
       "45%    2300.000000    2002.000000       101.000000     150000.000000\n",
       "50%    2700.000000    2003.000000       105.000000     150000.000000\n",
       "55%    3200.000000    2004.000000       110.000000     150000.000000\n",
       "60%    3800.000000    2005.000000       116.000000     150000.000000\n",
       "65%    4500.000000    2006.000000       125.000000     150000.000000\n",
       "70%    5350.000000    2007.000000       136.000000     150000.000000\n",
       "75%    6400.000000    2008.000000       143.000000     150000.000000\n",
       "80%    7500.000000    2009.000000       150.000000     150000.000000\n",
       "85%    9000.000000    2010.000000       169.000000     150000.000000\n",
       "90%    11450.000000   2012.000000       179.000000     150000.000000\n",
       "95%    14600.000000   2016.000000       218.000000     150000.000000\n",
       "max    20000.000000   9999.000000       20000.000000   150000.000000"
      ]
     },
     "execution_count": 19,
     "metadata": {},
     "output_type": "execute_result"
    }
   ],
   "source": [
    "df.describe(percentiles=np.arange(0,1,0.05))"
   ]
  },
  {
   "cell_type": "raw",
   "metadata": {},
   "source": [
    "Для более глубокого анализа построим графики распределения для признаков Price, Power, Kilometer и исследуем их."
   ]
  },
  {
   "cell_type": "markdown",
   "metadata": {},
   "source": [
    "### 3.5.1. Признак Price "
   ]
  },
  {
   "cell_type": "markdown",
   "metadata": {},
   "source": [
    "Проведем исследование признака Price."
   ]
  },
  {
   "cell_type": "code",
   "execution_count": 20,
   "metadata": {},
   "outputs": [],
   "source": [
    "def viz_distribution(col, col_name):\n",
    "    sns.displot(x = col, legend=True, kde=True, height=5.7, aspect=1.5, bins=100)\n",
    "    plt.title('Распределение значений признака ' + str(col_name).title(), fontsize=16)\n",
    "\n",
    "    plt.figure(figsize=(9.7, 6))\n",
    "    sns.boxplot(y=col)"
   ]
  },
  {
   "cell_type": "code",
   "execution_count": 21,
   "metadata": {},
   "outputs": [
    {
     "data": {
      "image/png": "[encoded data removed]",
      "text/plain": [
       "<Figure size 615.6x410.4 with 1 Axes>"
      ]
     },
     "metadata": {},
     "output_type": "display_data"
    },
    {
     "data": {
      "image/png": "[encoded data removed]",
      "text/plain": [
       "<Figure size 698.4x432 with 1 Axes>"
      ]
     },
     "metadata": {},
     "output_type": "display_data"
    }
   ],
   "source": [
    "viz_distribution(df['Price'], 'Price')"
   ]
  },
  {
   "cell_type": "markdown",
   "metadata": {},
   "source": [
    "#### Результат\n",
    "По визуальным результатам аномальными можно считать объекты с ценой меньше ~200 денежных единиц и выше ~15 000 денежных единиц. Как видим, таких данных почти 10%, что достаточно много."
   ]
  },
  {
   "cell_type": "code",
   "execution_count": 22,
   "metadata": {},
   "outputs": [
    {
     "name": "stdout",
     "output_type": "stream",
     "text": [
      "Доля аномалий: 9.127030039648385\n"
     ]
    }
   ],
   "source": [
    "print('Доля аномалий:', len(df.query('Price < 200 or Price >15000')) / len(df) *100)"
   ]
  },
  {
   "cell_type": "markdown",
   "metadata": {},
   "source": [
    "Удалим аномальные объекты из датафрейма и сохраним результат в переменной clean_data."
   ]
  },
  {
   "cell_type": "code",
   "execution_count": 23,
   "metadata": {},
   "outputs": [],
   "source": [
    "clean_data = df.query('Price >= 200 or Price <=15000')"
   ]
  },
  {
   "cell_type": "markdown",
   "metadata": {},
   "source": [
    "### 3.5.2. Признак Power "
   ]
  },
  {
   "cell_type": "markdown",
   "metadata": {},
   "source": [
    "Проведем исследование признака Power."
   ]
  },
  {
   "cell_type": "code",
   "execution_count": 24,
   "metadata": {},
   "outputs": [
    {
     "data": {
      "text/plain": [
       "(-10.0, 1000.0)"
      ]
     },
     "execution_count": 24,
     "metadata": {},
     "output_type": "execute_result"
    },
    {
     "data": {
      "image/png": "[encoded data removed]",
      "text/plain": [
       "<Figure size 615.6x410.4 with 1 Axes>"
      ]
     },
     "metadata": {},
     "output_type": "display_data"
    },
    {
     "data": {
      "image/png": "[encoded data removed]",
      "text/plain": [
       "<Figure size 698.4x432 with 1 Axes>"
      ]
     },
     "metadata": {},
     "output_type": "display_data"
    }
   ],
   "source": [
    "viz_distribution(df['Power'], 'Power')\n",
    "plt.ylim(-10, 1000)"
   ]
  },
  {
   "cell_type": "markdown",
   "metadata": {},
   "source": [
    "#### Результат\n",
    "По визуальным результатам аномальными можно считать объекты с мощностью больше 218 л.с. Этот признак содержит большое количество объектов со значением 0. Вероятнее всего мощность автомобиля при заполнении просто не была указана, поэтому эти 0 можно воспринимать как пропуски и заменить на медианое значение, в зависимости от таких признаков как Brand, Model и FuelType."
   ]
  },
  {
   "cell_type": "code",
   "execution_count": 25,
   "metadata": {},
   "outputs": [],
   "source": [
    "clean_data['Power'] = clean_data['Power'].replace(0, np.nan)\n",
    "median = clean_data.groupby(['Brand', 'Model', 'FuelType'])['Power'].transform('median')\n",
    "clean_data['Power'] = clean_data['Power'].fillna(median)"
   ]
  },
  {
   "cell_type": "markdown",
   "metadata": {},
   "source": [
    "Проверим количество объектов без информации о мощности автомобиля."
   ]
  },
  {
   "cell_type": "code",
   "execution_count": 26,
   "metadata": {},
   "outputs": [
    {
     "name": "stdout",
     "output_type": "stream",
     "text": [
      "Количество пропусков: 100\n"
     ]
    }
   ],
   "source": [
    "print('Количество пропусков:', clean_data['Power'].isnull().sum())"
   ]
  },
  {
   "cell_type": "markdown",
   "metadata": {},
   "source": [
    "Проведем удаление этих строк и проверим."
   ]
  },
  {
   "cell_type": "code",
   "execution_count": 27,
   "metadata": {},
   "outputs": [
    {
     "data": {
      "text/plain": [
       "Price               0\n",
       "VehicleType         0\n",
       "RegistrationYear    0\n",
       "Gearbox             0\n",
       "Power               0\n",
       "Model               0\n",
       "Kilometer           0\n",
       "FuelType            0\n",
       "Brand               0\n",
       "NotRepaired         0\n",
       "dtype: int64"
      ]
     },
     "execution_count": 27,
     "metadata": {},
     "output_type": "execute_result"
    }
   ],
   "source": [
    "clean_data.dropna(inplace=True)\n",
    "clean_data.isnull().sum()"
   ]
  },
  {
   "cell_type": "markdown",
   "metadata": {},
   "source": [
    "### 3.5.3. Признак Kilometer "
   ]
  },
  {
   "cell_type": "markdown",
   "metadata": {},
   "source": [
    "Проведем исследование признака Kilometer."
   ]
  },
  {
   "cell_type": "code",
   "execution_count": 28,
   "metadata": {},
   "outputs": [
    {
     "data": {
      "image/png": "[encoded data removed]",
      "text/plain": [
       "<Figure size 615.6x410.4 with 1 Axes>"
      ]
     },
     "metadata": {},
     "output_type": "display_data"
    },
    {
     "data": {
      "image/png": "[encoded data removed]",
      "text/plain": [
       "<Figure size 698.4x432 with 1 Axes>"
      ]
     },
     "metadata": {},
     "output_type": "display_data"
    }
   ],
   "source": [
    "viz_distribution(df['Kilometer'], 'Kilometer')"
   ]
  },
  {
   "cell_type": "markdown",
   "metadata": {},
   "source": [
    "#### Результат\n",
    "По визуальным результатам пробег машин разный, что обусловлено тем, что на продажу выставлены самые разные автомобили (новые, старые, дорогие, дешевые). С учетом указанного условия, проводить какие то замены в признаке нецелесообразно."
   ]
  },
  {
   "cell_type": "markdown",
   "metadata": {},
   "source": [
    "### 3.5.4. Признак RegistrationYear "
   ]
  },
  {
   "cell_type": "markdown",
   "metadata": {},
   "source": [
    "В отношении признака RegistrationYear установим, что указанный признак не может быть меньше 1768 (общеустановленная дата появления первого автомобиля) и больше 2020 года."
   ]
  },
  {
   "cell_type": "code",
   "execution_count": 29,
   "metadata": {},
   "outputs": [
    {
     "data": {
      "text/plain": [
       "354100"
      ]
     },
     "execution_count": 29,
     "metadata": {},
     "output_type": "execute_result"
    }
   ],
   "source": [
    "clean_data = clean_data.query('RegistrationYear > 1768 and RegistrationYear <= 2020')\n",
    "len(clean_data)"
   ]
  },
  {
   "cell_type": "markdown",
   "metadata": {},
   "source": [
    "## Вывод \n",
    "\n",
    "На этом этапе была проведена предобработка данных, которая включала в себя:\n",
    "\n",
    "    •\tудаление дубликатов\n",
    "    •\tзаполнение пропусков\n",
    "    •\tобработка и анализи количественных признаков\n",
    "    •\tотчистка датасета от аномальных значений.\n"
   ]
  },
  {
   "cell_type": "markdown",
   "metadata": {},
   "source": [
    "# 4. Обучение моделей"
   ]
  },
  {
   "cell_type": "markdown",
   "metadata": {},
   "source": [
    "#### На этом этапе обучим разные модели, основные из которых:\n",
    "\n",
    "    •  LinearRegression\n",
    "    •  LGBMRegressor\n",
    "    •  CatBoostRegressor.\n"
   ]
  },
  {
   "cell_type": "markdown",
   "metadata": {},
   "source": [
    "Так как в числе прочих будем проводить обучение модели линейной регрессии, то категориальные признаки должны быт преобразованы в  численные."
   ]
  },
  {
   "cell_type": "markdown",
   "metadata": {},
   "source": [
    "## 4.1. Подготовка данных "
   ]
  },
  {
   "cell_type": "markdown",
   "metadata": {},
   "source": [
    "### 4.1.1. Преобразование признаков "
   ]
  },
  {
   "cell_type": "markdown",
   "metadata": {},
   "source": [
    "Преобразование категориальных признаков в численные проведем с помощью функции get_dummies() с аргументом drop_first.  "
   ]
  },
  {
   "cell_type": "code",
   "execution_count": 30,
   "metadata": {},
   "outputs": [
    {
     "data": {
      "text/html": [
       "<div>\n",
       "<style scoped>\n",
       "    .dataframe tbody tr th:only-of-type {\n",
       "        vertical-align: middle;\n",
       "    }\n",
       "\n",
       "    .dataframe tbody tr th {\n",
       "        vertical-align: top;\n",
       "    }\n",
       "\n",
       "    .dataframe thead th {\n",
       "        text-align: right;\n",
       "    }\n",
       "</style>\n",
       "<table border=\"1\" class=\"dataframe\">\n",
       "  <thead>\n",
       "    <tr style=\"text-align: right;\">\n",
       "      <th></th>\n",
       "      <th>Price</th>\n",
       "      <th>RegistrationYear</th>\n",
       "      <th>Power</th>\n",
       "      <th>Kilometer</th>\n",
       "      <th>VehicleType_convertible</th>\n",
       "      <th>VehicleType_coupe</th>\n",
       "      <th>VehicleType_other</th>\n",
       "      <th>VehicleType_sedan</th>\n",
       "      <th>VehicleType_small</th>\n",
       "      <th>VehicleType_suv</th>\n",
       "      <th>...</th>\n",
       "      <th>Brand_smart</th>\n",
       "      <th>Brand_sonstige_autos</th>\n",
       "      <th>Brand_subaru</th>\n",
       "      <th>Brand_suzuki</th>\n",
       "      <th>Brand_toyota</th>\n",
       "      <th>Brand_trabant</th>\n",
       "      <th>Brand_volkswagen</th>\n",
       "      <th>Brand_volvo</th>\n",
       "      <th>NotRepaired_unknown</th>\n",
       "      <th>NotRepaired_yes</th>\n",
       "    </tr>\n",
       "  </thead>\n",
       "  <tbody>\n",
       "    <tr>\n",
       "      <th>0</th>\n",
       "      <td>480</td>\n",
       "      <td>1993</td>\n",
       "      <td>90.0</td>\n",
       "      <td>150000</td>\n",
       "      <td>0</td>\n",
       "      <td>0</td>\n",
       "      <td>0</td>\n",
       "      <td>0</td>\n",
       "      <td>0</td>\n",
       "      <td>0</td>\n",
       "      <td>...</td>\n",
       "      <td>0</td>\n",
       "      <td>0</td>\n",
       "      <td>0</td>\n",
       "      <td>0</td>\n",
       "      <td>0</td>\n",
       "      <td>0</td>\n",
       "      <td>1</td>\n",
       "      <td>0</td>\n",
       "      <td>1</td>\n",
       "      <td>0</td>\n",
       "    </tr>\n",
       "    <tr>\n",
       "      <th>1</th>\n",
       "      <td>18300</td>\n",
       "      <td>2011</td>\n",
       "      <td>190.0</td>\n",
       "      <td>125000</td>\n",
       "      <td>0</td>\n",
       "      <td>1</td>\n",
       "      <td>0</td>\n",
       "      <td>0</td>\n",
       "      <td>0</td>\n",
       "      <td>0</td>\n",
       "      <td>...</td>\n",
       "      <td>0</td>\n",
       "      <td>0</td>\n",
       "      <td>0</td>\n",
       "      <td>0</td>\n",
       "      <td>0</td>\n",
       "      <td>0</td>\n",
       "      <td>0</td>\n",
       "      <td>0</td>\n",
       "      <td>0</td>\n",
       "      <td>1</td>\n",
       "    </tr>\n",
       "    <tr>\n",
       "      <th>2</th>\n",
       "      <td>9800</td>\n",
       "      <td>2004</td>\n",
       "      <td>163.0</td>\n",
       "      <td>125000</td>\n",
       "      <td>0</td>\n",
       "      <td>0</td>\n",
       "      <td>0</td>\n",
       "      <td>0</td>\n",
       "      <td>0</td>\n",
       "      <td>1</td>\n",
       "      <td>...</td>\n",
       "      <td>0</td>\n",
       "      <td>0</td>\n",
       "      <td>0</td>\n",
       "      <td>0</td>\n",
       "      <td>0</td>\n",
       "      <td>0</td>\n",
       "      <td>0</td>\n",
       "      <td>0</td>\n",
       "      <td>1</td>\n",
       "      <td>0</td>\n",
       "    </tr>\n",
       "    <tr>\n",
       "      <th>3</th>\n",
       "      <td>1500</td>\n",
       "      <td>2001</td>\n",
       "      <td>75.0</td>\n",
       "      <td>150000</td>\n",
       "      <td>0</td>\n",
       "      <td>0</td>\n",
       "      <td>0</td>\n",
       "      <td>0</td>\n",
       "      <td>1</td>\n",
       "      <td>0</td>\n",
       "      <td>...</td>\n",
       "      <td>0</td>\n",
       "      <td>0</td>\n",
       "      <td>0</td>\n",
       "      <td>0</td>\n",
       "      <td>0</td>\n",
       "      <td>0</td>\n",
       "      <td>1</td>\n",
       "      <td>0</td>\n",
       "      <td>0</td>\n",
       "      <td>0</td>\n",
       "    </tr>\n",
       "    <tr>\n",
       "      <th>4</th>\n",
       "      <td>3600</td>\n",
       "      <td>2008</td>\n",
       "      <td>69.0</td>\n",
       "      <td>90000</td>\n",
       "      <td>0</td>\n",
       "      <td>0</td>\n",
       "      <td>0</td>\n",
       "      <td>0</td>\n",
       "      <td>1</td>\n",
       "      <td>0</td>\n",
       "      <td>...</td>\n",
       "      <td>0</td>\n",
       "      <td>0</td>\n",
       "      <td>0</td>\n",
       "      <td>0</td>\n",
       "      <td>0</td>\n",
       "      <td>0</td>\n",
       "      <td>0</td>\n",
       "      <td>0</td>\n",
       "      <td>0</td>\n",
       "      <td>0</td>\n",
       "    </tr>\n",
       "  </tbody>\n",
       "</table>\n",
       "<p>5 rows × 312 columns</p>\n",
       "</div>"
      ],
      "text/plain": [
       "   Price  RegistrationYear  Power  Kilometer  VehicleType_convertible  \\\n",
       "0  480    1993              90.0   150000     0                         \n",
       "1  18300  2011              190.0  125000     0                         \n",
       "2  9800   2004              163.0  125000     0                         \n",
       "3  1500   2001              75.0   150000     0                         \n",
       "4  3600   2008              69.0   90000      0                         \n",
       "\n",
       "   VehicleType_coupe  VehicleType_other  VehicleType_sedan  VehicleType_small  \\\n",
       "0  0                  0                  0                  0                   \n",
       "1  1                  0                  0                  0                   \n",
       "2  0                  0                  0                  0                   \n",
       "3  0                  0                  0                  1                   \n",
       "4  0                  0                  0                  1                   \n",
       "\n",
       "   VehicleType_suv  ...  Brand_smart  Brand_sonstige_autos  Brand_subaru  \\\n",
       "0  0                ...  0            0                     0              \n",
       "1  0                ...  0            0                     0              \n",
       "2  1                ...  0            0                     0              \n",
       "3  0                ...  0            0                     0              \n",
       "4  0                ...  0            0                     0              \n",
       "\n",
       "   Brand_suzuki  Brand_toyota  Brand_trabant  Brand_volkswagen  Brand_volvo  \\\n",
       "0  0             0             0              1                 0             \n",
       "1  0             0             0              0                 0             \n",
       "2  0             0             0              0                 0             \n",
       "3  0             0             0              1                 0             \n",
       "4  0             0             0              0                 0             \n",
       "\n",
       "   NotRepaired_unknown  NotRepaired_yes  \n",
       "0  1                    0                \n",
       "1  0                    1                \n",
       "2  1                    0                \n",
       "3  0                    0                \n",
       "4  0                    0                \n",
       "\n",
       "[5 rows x 312 columns]"
      ]
     },
     "execution_count": 30,
     "metadata": {},
     "output_type": "execute_result"
    }
   ],
   "source": [
    "df_ohe = pd.get_dummies(clean_data, drop_first=True)\n",
    "df_ohe.head()"
   ]
  },
  {
   "cell_type": "markdown",
   "metadata": {},
   "source": [
    "Количество признаков существенное, будет влиять на производительность моделей."
   ]
  },
  {
   "cell_type": "markdown",
   "metadata": {},
   "source": [
    "### 4.1.2. Разбиение данных на выборки"
   ]
  },
  {
   "cell_type": "markdown",
   "metadata": {},
   "source": [
    "Разделим исходные данные на три выборки: обучающую, валидационную и тестовую в соотношении 3:1:1 (так как размеры тестовой и валидационной выборки обычно равны)."
   ]
  },
  {
   "cell_type": "markdown",
   "metadata": {},
   "source": [
    "С помощью методома train_test_split разделим исходные данные на обучающую (60%) и валидационную выборку (40%), затем валидационную выборку разделим в пропорции 50% на 50% — на валидационную и тестовую выборки."
   ]
  },
  {
   "cell_type": "code",
   "execution_count": 31,
   "metadata": {},
   "outputs": [],
   "source": [
    "target = df_ohe['Price']\n",
    "features = df_ohe.drop('Price', axis=1)"
   ]
  },
  {
   "cell_type": "code",
   "execution_count": 32,
   "metadata": {},
   "outputs": [],
   "source": [
    "features_train, features_valid, target_train, target_valid = train_test_split(features, \n",
    "                                                                              target, \n",
    "                                                                              train_size=0.60, \n",
    "                                                                              test_size=0.40, \n",
    "                                                                              random_state=123)"
   ]
  },
  {
   "cell_type": "code",
   "execution_count": 33,
   "metadata": {},
   "outputs": [],
   "source": [
    "features_valid, features_test, target_valid, target_test = train_test_split(features_valid, \n",
    "                                                                            target_valid, \n",
    "                                                                            train_size=0.50, \n",
    "                                                                            test_size=0.50, \n",
    "                                                                            random_state=123)"
   ]
  },
  {
   "cell_type": "markdown",
   "metadata": {},
   "source": [
    "Проверка результата."
   ]
  },
  {
   "cell_type": "code",
   "execution_count": 34,
   "metadata": {},
   "outputs": [
    {
     "name": "stdout",
     "output_type": "stream",
     "text": [
      "Размер обучающей выборки: (212460, 311)\n",
      "Размер валидационной выборки: (70820, 311)\n",
      "Размер тестовой выборки: (70820, 311)\n"
     ]
    }
   ],
   "source": [
    "samples = {'Размер обучающей выборки' : features_train, \n",
    "          'Размер валидационной выборки': features_valid, \n",
    "          'Размер тестовой выборки': features_test}\n",
    "\n",
    "for key, value in samples.items():\n",
    "    print(key + ':', value.shape)"
   ]
  },
  {
   "cell_type": "markdown",
   "metadata": {},
   "source": [
    "### 4.1.3. Масштабирование признаков"
   ]
  },
  {
   "cell_type": "markdown",
   "metadata": {},
   "source": [
    "С помощью StandardScaler приведем признаки к одному масштабу."
   ]
  },
  {
   "cell_type": "code",
   "execution_count": 35,
   "metadata": {},
   "outputs": [
    {
     "data": {
      "text/plain": [
       "StandardScaler()"
      ]
     },
     "execution_count": 35,
     "metadata": {},
     "output_type": "execute_result"
    }
   ],
   "source": [
    "numeric = ['RegistrationYear', 'Power', 'Kilometer']\n",
    "\n",
    "scaler = StandardScaler()\n",
    "scaler.fit(features_train[numeric])"
   ]
  },
  {
   "cell_type": "code",
   "execution_count": 36,
   "metadata": {},
   "outputs": [],
   "source": [
    "features_train[numeric] = scaler.transform(features_train[numeric])\n",
    "features_valid[numeric] = scaler.transform(features_valid[numeric])\n",
    "features_test[numeric] = scaler.transform(features_test[numeric])"
   ]
  },
  {
   "cell_type": "markdown",
   "metadata": {},
   "source": [
    "Проверка результата."
   ]
  },
  {
   "cell_type": "code",
   "execution_count": 37,
   "metadata": {},
   "outputs": [
    {
     "data": {
      "text/html": [
       "<div>\n",
       "<style scoped>\n",
       "    .dataframe tbody tr th:only-of-type {\n",
       "        vertical-align: middle;\n",
       "    }\n",
       "\n",
       "    .dataframe tbody tr th {\n",
       "        vertical-align: top;\n",
       "    }\n",
       "\n",
       "    .dataframe thead th {\n",
       "        text-align: right;\n",
       "    }\n",
       "</style>\n",
       "<table border=\"1\" class=\"dataframe\">\n",
       "  <thead>\n",
       "    <tr style=\"text-align: right;\">\n",
       "      <th></th>\n",
       "      <th>RegistrationYear</th>\n",
       "      <th>Power</th>\n",
       "      <th>Kilometer</th>\n",
       "      <th>VehicleType_convertible</th>\n",
       "      <th>VehicleType_coupe</th>\n",
       "      <th>VehicleType_other</th>\n",
       "      <th>VehicleType_sedan</th>\n",
       "      <th>VehicleType_small</th>\n",
       "      <th>VehicleType_suv</th>\n",
       "      <th>VehicleType_unknown</th>\n",
       "      <th>...</th>\n",
       "      <th>Brand_smart</th>\n",
       "      <th>Brand_sonstige_autos</th>\n",
       "      <th>Brand_subaru</th>\n",
       "      <th>Brand_suzuki</th>\n",
       "      <th>Brand_toyota</th>\n",
       "      <th>Brand_trabant</th>\n",
       "      <th>Brand_volkswagen</th>\n",
       "      <th>Brand_volvo</th>\n",
       "      <th>NotRepaired_unknown</th>\n",
       "      <th>NotRepaired_yes</th>\n",
       "    </tr>\n",
       "  </thead>\n",
       "  <tbody>\n",
       "    <tr>\n",
       "      <th>106180</th>\n",
       "      <td>-0.937132</td>\n",
       "      <td>-0.361162</td>\n",
       "      <td>0.573923</td>\n",
       "      <td>0</td>\n",
       "      <td>0</td>\n",
       "      <td>0</td>\n",
       "      <td>0</td>\n",
       "      <td>1</td>\n",
       "      <td>0</td>\n",
       "      <td>0</td>\n",
       "      <td>...</td>\n",
       "      <td>0</td>\n",
       "      <td>0</td>\n",
       "      <td>0</td>\n",
       "      <td>0</td>\n",
       "      <td>0</td>\n",
       "      <td>0</td>\n",
       "      <td>0</td>\n",
       "      <td>0</td>\n",
       "      <td>0</td>\n",
       "      <td>1</td>\n",
       "    </tr>\n",
       "  </tbody>\n",
       "</table>\n",
       "<p>1 rows × 311 columns</p>\n",
       "</div>"
      ],
      "text/plain": [
       "        RegistrationYear     Power  Kilometer  VehicleType_convertible  \\\n",
       "106180 -0.937132         -0.361162  0.573923   0                         \n",
       "\n",
       "        VehicleType_coupe  VehicleType_other  VehicleType_sedan  \\\n",
       "106180  0                  0                  0                   \n",
       "\n",
       "        VehicleType_small  VehicleType_suv  VehicleType_unknown  ...  \\\n",
       "106180  1                  0                0                    ...   \n",
       "\n",
       "        Brand_smart  Brand_sonstige_autos  Brand_subaru  Brand_suzuki  \\\n",
       "106180  0            0                     0             0              \n",
       "\n",
       "        Brand_toyota  Brand_trabant  Brand_volkswagen  Brand_volvo  \\\n",
       "106180  0             0              0                 0             \n",
       "\n",
       "        NotRepaired_unknown  NotRepaired_yes  \n",
       "106180  0                    1                \n",
       "\n",
       "[1 rows x 311 columns]"
      ]
     },
     "execution_count": 37,
     "metadata": {},
     "output_type": "execute_result"
    }
   ],
   "source": [
    "features_train.sample()"
   ]
  },
  {
   "cell_type": "markdown",
   "metadata": {},
   "source": [
    "Признаки имеют одинаковый масштаб."
   ]
  },
  {
   "cell_type": "markdown",
   "metadata": {},
   "source": [
    "Напишем функцию для расчета метрики RMSE для оценки и сравнения качество разных моделей."
   ]
  },
  {
   "cell_type": "code",
   "execution_count": 38,
   "metadata": {},
   "outputs": [],
   "source": [
    "def rmse(target, predictions):\n",
    "    mse = mean_squared_error(target, predictions)\n",
    "    rmse = sqrt(mse)\n",
    "    return rmse"
   ]
  },
  {
   "cell_type": "markdown",
   "metadata": {},
   "source": [
    "## 4.2. Обучение моделей"
   ]
  },
  {
   "cell_type": "markdown",
   "metadata": {},
   "source": [
    "### 4.2.1. Модель LinearRegression"
   ]
  },
  {
   "cell_type": "markdown",
   "metadata": {},
   "source": [
    "Проведем обучение модели линейной регрессии. Оценим время обучения и скорость и качество предсказания (RMSE)."
   ]
  },
  {
   "cell_type": "code",
   "execution_count": 39,
   "metadata": {},
   "outputs": [],
   "source": [
    "model_lr = LinearRegression()"
   ]
  },
  {
   "cell_type": "code",
   "execution_count": 40,
   "metadata": {},
   "outputs": [
    {
     "name": "stdout",
     "output_type": "stream",
     "text": [
      "Время обучения:  16.104140520095825\n",
      "Скорость предсказания:  0.3125174045562744\n"
     ]
    }
   ],
   "source": [
    "start = time.time() \n",
    "model_lr.fit(features_train, target_train)\n",
    "end_time_fit = time.time() - start\n",
    "print('Время обучения: ', end_time_fit)\n",
    "start = time.time() \n",
    "predictions_lr = model_lr.predict(features_valid)\n",
    "end_time_predict = time.time() - start\n",
    "print('Скорость предсказания: ', end_time_predict)"
   ]
  },
  {
   "cell_type": "code",
   "execution_count": 41,
   "metadata": {},
   "outputs": [
    {
     "name": "stdout",
     "output_type": "stream",
     "text": [
      "RMSE на валидационной выборке: 2933.5576867972964\n"
     ]
    }
   ],
   "source": [
    "print('RMSE на валидационной выборке:', rmse(target_valid, predictions_lr))"
   ]
  },
  {
   "cell_type": "code",
   "execution_count": 42,
   "metadata": {},
   "outputs": [
    {
     "data": {
      "text/html": [
       "<div>\n",
       "<style scoped>\n",
       "    .dataframe tbody tr th:only-of-type {\n",
       "        vertical-align: middle;\n",
       "    }\n",
       "\n",
       "    .dataframe tbody tr th {\n",
       "        vertical-align: top;\n",
       "    }\n",
       "\n",
       "    .dataframe thead th {\n",
       "        text-align: right;\n",
       "    }\n",
       "</style>\n",
       "<table border=\"1\" class=\"dataframe\">\n",
       "  <thead>\n",
       "    <tr style=\"text-align: right;\">\n",
       "      <th></th>\n",
       "      <th>Модель</th>\n",
       "      <th>Параметры</th>\n",
       "      <th>Время обучения</th>\n",
       "      <th>Скорость предсказания</th>\n",
       "      <th>RMSE</th>\n",
       "    </tr>\n",
       "  </thead>\n",
       "  <tbody>\n",
       "    <tr>\n",
       "      <th>0</th>\n",
       "      <td>LinearRegression</td>\n",
       "      <td>NaN</td>\n",
       "      <td>16.104141</td>\n",
       "      <td>0.312517</td>\n",
       "      <td>2933.557687</td>\n",
       "    </tr>\n",
       "  </tbody>\n",
       "</table>\n",
       "</div>"
      ],
      "text/plain": [
       "             Модель  Параметры  Время обучения  Скорость предсказания  \\\n",
       "0  LinearRegression NaN         16.104141       0.312517                \n",
       "\n",
       "          RMSE  \n",
       "0  2933.557687  "
      ]
     },
     "execution_count": 42,
     "metadata": {},
     "output_type": "execute_result"
    }
   ],
   "source": [
    "results = []\n",
    "results.append({'Модель': 'LinearRegression', \n",
    "                'Параметры': np.nan, \n",
    "                'Время обучения': end_time_fit, \n",
    "                'Скорость предсказания': end_time_predict, \n",
    "                'RMSE': rmse(target_valid, predictions_lr)})\n",
    "\n",
    "pd.DataFrame(results)"
   ]
  },
  {
   "cell_type": "markdown",
   "metadata": {},
   "source": [
    "### 4.2.2. LGBMRegressor"
   ]
  },
  {
   "cell_type": "markdown",
   "metadata": {},
   "source": [
    "Проведем обучение модели LGBMRegressor. Подберем гиперпараметры и обучим модель. Оценим время обучения и скорость и качество предсказания (RMSE)."
   ]
  },
  {
   "cell_type": "code",
   "execution_count": 43,
   "metadata": {},
   "outputs": [],
   "source": [
    "parameters = {'boosting_type': 'gbdt', \n",
    "              'max_depth': 11, \n",
    "              'n_estimators': 120, \n",
    "              'random_state': 123}"
   ]
  },
  {
   "cell_type": "code",
   "execution_count": 44,
   "metadata": {},
   "outputs": [],
   "source": [
    "model_lgbm = LGBMRegressor(**parameters)"
   ]
  },
  {
   "cell_type": "code",
   "execution_count": 45,
   "metadata": {},
   "outputs": [
    {
     "name": "stdout",
     "output_type": "stream",
     "text": [
      "Время обучения:  5.810321092605591\n",
      "Скорость предсказания:  0.784832239151001\n"
     ]
    }
   ],
   "source": [
    "start = time.time() \n",
    "model_lgbm.fit(features_train, target_train)\n",
    "end_time_fit = time.time() - start\n",
    "print('Время обучения: ', end_time_fit)\n",
    "start = time.time() \n",
    "predictions_lgbm = model_lgbm.predict(features_valid, verbose=2)\n",
    "end_time_predict = time.time() - start\n",
    "print('Скорость предсказания: ', end_time_predict)"
   ]
  },
  {
   "cell_type": "code",
   "execution_count": 46,
   "metadata": {},
   "outputs": [
    {
     "name": "stdout",
     "output_type": "stream",
     "text": [
      "RMSE на валидационной выборке: 1831.6697627479648\n"
     ]
    }
   ],
   "source": [
    "print('RMSE на валидационной выборке:', rmse(target_valid, predictions_lgbm))"
   ]
  },
  {
   "cell_type": "code",
   "execution_count": 47,
   "metadata": {},
   "outputs": [
    {
     "data": {
      "text/html": [
       "<div>\n",
       "<style scoped>\n",
       "    .dataframe tbody tr th:only-of-type {\n",
       "        vertical-align: middle;\n",
       "    }\n",
       "\n",
       "    .dataframe tbody tr th {\n",
       "        vertical-align: top;\n",
       "    }\n",
       "\n",
       "    .dataframe thead th {\n",
       "        text-align: right;\n",
       "    }\n",
       "</style>\n",
       "<table border=\"1\" class=\"dataframe\">\n",
       "  <thead>\n",
       "    <tr style=\"text-align: right;\">\n",
       "      <th></th>\n",
       "      <th>Модель</th>\n",
       "      <th>Параметры</th>\n",
       "      <th>Время обучения</th>\n",
       "      <th>Скорость предсказания</th>\n",
       "      <th>RMSE</th>\n",
       "    </tr>\n",
       "  </thead>\n",
       "  <tbody>\n",
       "    <tr>\n",
       "      <th>0</th>\n",
       "      <td>LinearRegression</td>\n",
       "      <td>NaN</td>\n",
       "      <td>16.104141</td>\n",
       "      <td>0.312517</td>\n",
       "      <td>2933.557687</td>\n",
       "    </tr>\n",
       "    <tr>\n",
       "      <th>1</th>\n",
       "      <td>LGBMRegressor</td>\n",
       "      <td>{'boosting_type': 'gbdt', 'max_depth': 11, 'n_estimators': 120, 'random_state': 123}</td>\n",
       "      <td>5.810321</td>\n",
       "      <td>0.784832</td>\n",
       "      <td>1831.669763</td>\n",
       "    </tr>\n",
       "  </tbody>\n",
       "</table>\n",
       "</div>"
      ],
      "text/plain": [
       "             Модель  \\\n",
       "0  LinearRegression   \n",
       "1  LGBMRegressor      \n",
       "\n",
       "                                                                              Параметры  \\\n",
       "0  NaN                                                                                    \n",
       "1  {'boosting_type': 'gbdt', 'max_depth': 11, 'n_estimators': 120, 'random_state': 123}   \n",
       "\n",
       "   Время обучения  Скорость предсказания         RMSE  \n",
       "0  16.104141       0.312517               2933.557687  \n",
       "1  5.810321        0.784832               1831.669763  "
      ]
     },
     "execution_count": 47,
     "metadata": {},
     "output_type": "execute_result"
    }
   ],
   "source": [
    "results.append({'Модель': 'LGBMRegressor', \n",
    "                'Параметры': parameters, \n",
    "                'Время обучения': end_time_fit, \n",
    "                'Скорость предсказания': end_time_predict, \n",
    "                'RMSE': rmse(target_valid, predictions_lgbm)})\n",
    "pd.DataFrame(results)"
   ]
  },
  {
   "cell_type": "markdown",
   "metadata": {},
   "source": [
    "Метрика RMSE у модели LGBMRegressor значительно ниже, чем у модели линейной регрессии, однако меньше время обучения, скорость предсказания выше."
   ]
  },
  {
   "cell_type": "markdown",
   "metadata": {},
   "source": [
    "### 4.2.3. CatBoostRegressor"
   ]
  },
  {
   "cell_type": "markdown",
   "metadata": {},
   "source": [
    "Проведем обучение модели CatBoostRegressor. Оценим время обучения и скорость и качество предсказания (RMSE)."
   ]
  },
  {
   "cell_type": "code",
   "execution_count": 48,
   "metadata": {},
   "outputs": [
    {
     "name": "stdout",
     "output_type": "stream",
     "text": [
      "Learning rate set to 0.5\n",
      "0:\tlearn: 3323.9341829\ttotal: 251ms\tremaining: 2.26s\n",
      "1:\tlearn: 2779.3710350\ttotal: 286ms\tremaining: 1.15s\n",
      "2:\tlearn: 2554.5345517\ttotal: 314ms\tremaining: 733ms\n",
      "3:\tlearn: 2398.3322330\ttotal: 344ms\tremaining: 516ms\n",
      "4:\tlearn: 2321.2938962\ttotal: 371ms\tremaining: 371ms\n",
      "5:\tlearn: 2271.5072203\ttotal: 399ms\tremaining: 266ms\n",
      "6:\tlearn: 2230.3355919\ttotal: 427ms\tremaining: 183ms\n",
      "7:\tlearn: 2191.8069785\ttotal: 466ms\tremaining: 116ms\n",
      "8:\tlearn: 2164.9613145\ttotal: 491ms\tremaining: 54.6ms\n",
      "9:\tlearn: 2141.3317652\ttotal: 518ms\tremaining: 0us\n",
      "Learning rate set to 0.5\n",
      "0:\tlearn: 3226.2911192\ttotal: 45.1ms\tremaining: 406ms\n",
      "1:\tlearn: 2661.3234805\ttotal: 100ms\tremaining: 400ms\n",
      "2:\tlearn: 2420.5803482\ttotal: 162ms\tremaining: 378ms\n",
      "3:\tlearn: 2299.9941583\ttotal: 225ms\tremaining: 337ms\n",
      "4:\tlearn: 2216.8175356\ttotal: 297ms\tremaining: 297ms\n",
      "5:\tlearn: 2159.3772556\ttotal: 336ms\tremaining: 224ms\n",
      "6:\tlearn: 2124.6969832\ttotal: 368ms\tremaining: 158ms\n",
      "7:\tlearn: 2091.0959012\ttotal: 403ms\tremaining: 101ms\n",
      "8:\tlearn: 2066.9770695\ttotal: 438ms\tremaining: 48.6ms\n",
      "9:\tlearn: 2051.1067163\ttotal: 472ms\tremaining: 0us\n",
      "Learning rate set to 0.5\n",
      "0:\tlearn: 3149.6161803\ttotal: 62.3ms\tremaining: 560ms\n",
      "1:\tlearn: 2556.4610314\ttotal: 115ms\tremaining: 460ms\n",
      "2:\tlearn: 2322.1322159\ttotal: 167ms\tremaining: 390ms\n",
      "3:\tlearn: 2181.6411761\ttotal: 222ms\tremaining: 333ms\n",
      "4:\tlearn: 2115.0515863\ttotal: 274ms\tremaining: 274ms\n",
      "5:\tlearn: 2062.2041703\ttotal: 337ms\tremaining: 225ms\n",
      "6:\tlearn: 2036.3563083\ttotal: 381ms\tremaining: 163ms\n",
      "7:\tlearn: 2008.4292025\ttotal: 431ms\tremaining: 108ms\n",
      "8:\tlearn: 1976.6647005\ttotal: 486ms\tremaining: 54ms\n",
      "9:\tlearn: 1958.8425667\ttotal: 546ms\tremaining: 0us\n",
      "Learning rate set to 0.5\n",
      "0:\tlearn: 3323.9341829\ttotal: 31.2ms\tremaining: 905ms\n",
      "1:\tlearn: 2779.3710350\ttotal: 62ms\tremaining: 868ms\n",
      "2:\tlearn: 2554.5345517\ttotal: 90.1ms\tremaining: 811ms\n",
      "3:\tlearn: 2398.3322330\ttotal: 130ms\tremaining: 846ms\n",
      "4:\tlearn: 2321.2938962\ttotal: 163ms\tremaining: 815ms\n",
      "5:\tlearn: 2271.5072203\ttotal: 197ms\tremaining: 787ms\n",
      "6:\tlearn: 2230.3355919\ttotal: 225ms\tremaining: 741ms\n",
      "7:\tlearn: 2191.8069785\ttotal: 256ms\tremaining: 704ms\n",
      "8:\tlearn: 2164.9613145\ttotal: 281ms\tremaining: 655ms\n",
      "9:\tlearn: 2141.3317652\ttotal: 317ms\tremaining: 635ms\n",
      "10:\tlearn: 2126.0146273\ttotal: 353ms\tremaining: 609ms\n",
      "11:\tlearn: 2108.1688639\ttotal: 389ms\tremaining: 583ms\n",
      "12:\tlearn: 2093.0214239\ttotal: 421ms\tremaining: 551ms\n",
      "13:\tlearn: 2081.5448933\ttotal: 461ms\tremaining: 527ms\n",
      "14:\tlearn: 2065.1802382\ttotal: 518ms\tremaining: 518ms\n",
      "15:\tlearn: 2058.4693388\ttotal: 551ms\tremaining: 482ms\n",
      "16:\tlearn: 2049.6528962\ttotal: 588ms\tremaining: 449ms\n",
      "17:\tlearn: 2043.6430424\ttotal: 618ms\tremaining: 412ms\n",
      "18:\tlearn: 2037.7266909\ttotal: 652ms\tremaining: 377ms\n",
      "19:\tlearn: 2030.5178778\ttotal: 680ms\tremaining: 340ms\n",
      "20:\tlearn: 2022.7743832\ttotal: 708ms\tremaining: 303ms\n",
      "21:\tlearn: 2018.6971919\ttotal: 730ms\tremaining: 265ms\n",
      "22:\tlearn: 2010.8877932\ttotal: 759ms\tremaining: 231ms\n",
      "23:\tlearn: 2002.6480569\ttotal: 788ms\tremaining: 197ms\n",
      "24:\tlearn: 1999.0916497\ttotal: 812ms\tremaining: 162ms\n",
      "25:\tlearn: 1991.7992535\ttotal: 845ms\tremaining: 130ms\n",
      "26:\tlearn: 1985.4590854\ttotal: 873ms\tremaining: 96.9ms\n",
      "27:\tlearn: 1981.4920930\ttotal: 895ms\tremaining: 63.9ms\n",
      "28:\tlearn: 1977.4078175\ttotal: 921ms\tremaining: 31.8ms\n",
      "29:\tlearn: 1971.6572551\ttotal: 947ms\tremaining: 0us\n",
      "Learning rate set to 0.5\n",
      "0:\tlearn: 3226.2911192\ttotal: 85.1ms\tremaining: 2.47s\n",
      "1:\tlearn: 2661.3234805\ttotal: 165ms\tremaining: 2.31s\n",
      "2:\tlearn: 2420.5803482\ttotal: 213ms\tremaining: 1.92s\n",
      "3:\tlearn: 2299.9941583\ttotal: 262ms\tremaining: 1.7s\n",
      "4:\tlearn: 2216.8175356\ttotal: 320ms\tremaining: 1.6s\n",
      "5:\tlearn: 2159.3772556\ttotal: 365ms\tremaining: 1.46s\n",
      "6:\tlearn: 2124.6969832\ttotal: 412ms\tremaining: 1.35s\n",
      "7:\tlearn: 2091.0959012\ttotal: 463ms\tremaining: 1.27s\n",
      "8:\tlearn: 2066.9770695\ttotal: 540ms\tremaining: 1.26s\n",
      "9:\tlearn: 2051.1067163\ttotal: 585ms\tremaining: 1.17s\n",
      "10:\tlearn: 2037.8666396\ttotal: 627ms\tremaining: 1.08s\n",
      "11:\tlearn: 2021.0380009\ttotal: 679ms\tremaining: 1.02s\n",
      "12:\tlearn: 2009.5588887\ttotal: 730ms\tremaining: 954ms\n",
      "13:\tlearn: 1995.3022927\ttotal: 766ms\tremaining: 876ms\n",
      "14:\tlearn: 1985.3255280\ttotal: 798ms\tremaining: 798ms\n",
      "15:\tlearn: 1977.8409537\ttotal: 829ms\tremaining: 725ms\n",
      "16:\tlearn: 1969.2484721\ttotal: 864ms\tremaining: 661ms\n",
      "17:\tlearn: 1960.4351435\ttotal: 900ms\tremaining: 600ms\n",
      "18:\tlearn: 1951.1876315\ttotal: 942ms\tremaining: 545ms\n",
      "19:\tlearn: 1946.6567531\ttotal: 980ms\tremaining: 490ms\n",
      "20:\tlearn: 1941.7514900\ttotal: 1.02s\tremaining: 439ms\n",
      "21:\tlearn: 1933.9053171\ttotal: 1.07s\tremaining: 388ms\n",
      "22:\tlearn: 1931.1010633\ttotal: 1.11s\tremaining: 339ms\n",
      "23:\tlearn: 1925.1256763\ttotal: 1.15s\tremaining: 288ms\n",
      "24:\tlearn: 1921.9821809\ttotal: 1.19s\tremaining: 239ms\n",
      "25:\tlearn: 1919.0048747\ttotal: 1.23s\tremaining: 190ms\n",
      "26:\tlearn: 1913.9936462\ttotal: 1.27s\tremaining: 142ms\n",
      "27:\tlearn: 1907.9525512\ttotal: 1.32s\tremaining: 94ms\n",
      "28:\tlearn: 1903.7386877\ttotal: 1.37s\tremaining: 47.2ms\n",
      "29:\tlearn: 1897.0051474\ttotal: 1.41s\tremaining: 0us\n",
      "Learning rate set to 0.5\n",
      "0:\tlearn: 3149.6161803\ttotal: 63.9ms\tremaining: 1.85s\n",
      "1:\tlearn: 2556.4610314\ttotal: 117ms\tremaining: 1.63s\n",
      "2:\tlearn: 2322.1322159\ttotal: 184ms\tremaining: 1.66s\n",
      "3:\tlearn: 2181.6411761\ttotal: 251ms\tremaining: 1.63s\n",
      "4:\tlearn: 2115.0515863\ttotal: 311ms\tremaining: 1.55s\n",
      "5:\tlearn: 2062.2041703\ttotal: 369ms\tremaining: 1.48s\n",
      "6:\tlearn: 2036.3563083\ttotal: 414ms\tremaining: 1.36s\n",
      "7:\tlearn: 2008.4292025\ttotal: 459ms\tremaining: 1.26s\n",
      "8:\tlearn: 1976.6647005\ttotal: 515ms\tremaining: 1.2s\n",
      "9:\tlearn: 1958.8425667\ttotal: 571ms\tremaining: 1.14s\n",
      "10:\tlearn: 1946.6772392\ttotal: 614ms\tremaining: 1.06s\n",
      "11:\tlearn: 1935.4674271\ttotal: 656ms\tremaining: 984ms\n",
      "12:\tlearn: 1927.7985211\ttotal: 696ms\tremaining: 910ms\n",
      "13:\tlearn: 1919.2514944\ttotal: 763ms\tremaining: 872ms\n",
      "14:\tlearn: 1909.5877999\ttotal: 816ms\tremaining: 816ms\n",
      "15:\tlearn: 1899.7339346\ttotal: 861ms\tremaining: 754ms\n",
      "16:\tlearn: 1892.0695005\ttotal: 936ms\tremaining: 716ms\n",
      "17:\tlearn: 1887.0024210\ttotal: 984ms\tremaining: 656ms\n",
      "18:\tlearn: 1882.4793221\ttotal: 1.03s\tremaining: 599ms\n",
      "19:\tlearn: 1873.1168675\ttotal: 1.09s\tremaining: 547ms\n",
      "20:\tlearn: 1867.3411276\ttotal: 1.16s\tremaining: 495ms\n",
      "21:\tlearn: 1861.0664086\ttotal: 1.22s\tremaining: 444ms\n",
      "22:\tlearn: 1853.4795442\ttotal: 1.28s\tremaining: 391ms\n",
      "23:\tlearn: 1849.7026197\ttotal: 1.33s\tremaining: 333ms\n",
      "24:\tlearn: 1844.6132328\ttotal: 1.39s\tremaining: 278ms\n",
      "25:\tlearn: 1842.5903807\ttotal: 1.43s\tremaining: 220ms\n",
      "26:\tlearn: 1838.5393133\ttotal: 1.48s\tremaining: 164ms\n",
      "27:\tlearn: 1831.5055731\ttotal: 1.52s\tremaining: 109ms\n",
      "28:\tlearn: 1826.7208255\ttotal: 1.57s\tremaining: 54.1ms\n",
      "29:\tlearn: 1823.8611105\ttotal: 1.62s\tremaining: 0us\n",
      "Learning rate set to 0.5\n",
      "0:\tlearn: 3323.9341829\ttotal: 33.1ms\tremaining: 1.62s\n",
      "1:\tlearn: 2779.3710350\ttotal: 63.4ms\tremaining: 1.52s\n",
      "2:\tlearn: 2554.5345517\ttotal: 90.5ms\tremaining: 1.42s\n",
      "3:\tlearn: 2398.3322330\ttotal: 124ms\tremaining: 1.43s\n",
      "4:\tlearn: 2321.2938962\ttotal: 152ms\tremaining: 1.37s\n",
      "5:\tlearn: 2271.5072203\ttotal: 198ms\tremaining: 1.45s\n",
      "6:\tlearn: 2230.3355919\ttotal: 235ms\tremaining: 1.45s\n",
      "7:\tlearn: 2191.8069785\ttotal: 274ms\tremaining: 1.44s\n",
      "8:\tlearn: 2164.9613145\ttotal: 309ms\tremaining: 1.41s\n",
      "9:\tlearn: 2141.3317652\ttotal: 341ms\tremaining: 1.36s\n",
      "10:\tlearn: 2126.0146273\ttotal: 369ms\tremaining: 1.31s\n",
      "11:\tlearn: 2108.1688639\ttotal: 400ms\tremaining: 1.27s\n",
      "12:\tlearn: 2093.0214239\ttotal: 428ms\tremaining: 1.22s\n",
      "13:\tlearn: 2081.5448933\ttotal: 455ms\tremaining: 1.17s\n",
      "14:\tlearn: 2065.1802382\ttotal: 484ms\tremaining: 1.13s\n",
      "15:\tlearn: 2058.4693388\ttotal: 508ms\tremaining: 1.08s\n",
      "16:\tlearn: 2049.6528962\ttotal: 541ms\tremaining: 1.05s\n",
      "17:\tlearn: 2043.6430424\ttotal: 566ms\tremaining: 1s\n",
      "18:\tlearn: 2037.7266909\ttotal: 593ms\tremaining: 967ms\n",
      "19:\tlearn: 2030.5178778\ttotal: 619ms\tremaining: 928ms\n",
      "20:\tlearn: 2022.7743832\ttotal: 651ms\tremaining: 899ms\n",
      "21:\tlearn: 2018.6971919\ttotal: 677ms\tremaining: 862ms\n",
      "22:\tlearn: 2010.8877932\ttotal: 707ms\tremaining: 830ms\n",
      "23:\tlearn: 2002.6480569\ttotal: 743ms\tremaining: 805ms\n",
      "24:\tlearn: 1999.0916497\ttotal: 770ms\tremaining: 770ms\n",
      "25:\tlearn: 1991.7992535\ttotal: 797ms\tremaining: 736ms\n",
      "26:\tlearn: 1985.4590854\ttotal: 824ms\tremaining: 702ms\n",
      "27:\tlearn: 1981.4920930\ttotal: 850ms\tremaining: 668ms\n",
      "28:\tlearn: 1977.4078175\ttotal: 879ms\tremaining: 636ms\n",
      "29:\tlearn: 1971.6572551\ttotal: 907ms\tremaining: 605ms\n",
      "30:\tlearn: 1965.3009119\ttotal: 941ms\tremaining: 577ms\n",
      "31:\tlearn: 1959.3547711\ttotal: 975ms\tremaining: 548ms\n",
      "32:\tlearn: 1952.5972150\ttotal: 1s\tremaining: 516ms\n",
      "33:\tlearn: 1948.2968643\ttotal: 1.03s\tremaining: 485ms\n",
      "34:\tlearn: 1946.0585318\ttotal: 1.05s\tremaining: 451ms\n",
      "35:\tlearn: 1942.3024658\ttotal: 1.08s\tremaining: 421ms\n",
      "36:\tlearn: 1939.3531149\ttotal: 1.11s\tremaining: 389ms\n",
      "37:\tlearn: 1935.2336744\ttotal: 1.14s\tremaining: 361ms\n",
      "38:\tlearn: 1932.4442708\ttotal: 1.19s\tremaining: 336ms\n",
      "39:\tlearn: 1930.5392334\ttotal: 1.22s\tremaining: 305ms\n",
      "40:\tlearn: 1927.5549782\ttotal: 1.25s\tremaining: 275ms\n",
      "41:\tlearn: 1923.5414068\ttotal: 1.29s\tremaining: 245ms\n",
      "42:\tlearn: 1921.4037772\ttotal: 1.32s\tremaining: 215ms\n",
      "43:\tlearn: 1919.0965762\ttotal: 1.34s\tremaining: 183ms\n",
      "44:\tlearn: 1917.2104352\ttotal: 1.37s\tremaining: 152ms\n",
      "45:\tlearn: 1914.9354400\ttotal: 1.4s\tremaining: 121ms\n",
      "46:\tlearn: 1910.2213328\ttotal: 1.42s\tremaining: 90.8ms\n",
      "47:\tlearn: 1906.1577248\ttotal: 1.45s\tremaining: 60.4ms\n",
      "48:\tlearn: 1904.4946909\ttotal: 1.47s\tremaining: 30.1ms\n",
      "49:\tlearn: 1902.8232671\ttotal: 1.5s\tremaining: 0us\n",
      "Learning rate set to 0.5\n",
      "0:\tlearn: 3226.2911192\ttotal: 39.4ms\tremaining: 1.93s\n",
      "1:\tlearn: 2661.3234805\ttotal: 78.8ms\tremaining: 1.89s\n",
      "2:\tlearn: 2420.5803482\ttotal: 118ms\tremaining: 1.85s\n",
      "3:\tlearn: 2299.9941583\ttotal: 155ms\tremaining: 1.78s\n",
      "4:\tlearn: 2216.8175356\ttotal: 193ms\tremaining: 1.74s\n",
      "5:\tlearn: 2159.3772556\ttotal: 229ms\tremaining: 1.68s\n",
      "6:\tlearn: 2124.6969832\ttotal: 261ms\tremaining: 1.6s\n",
      "7:\tlearn: 2091.0959012\ttotal: 296ms\tremaining: 1.55s\n",
      "8:\tlearn: 2066.9770695\ttotal: 357ms\tremaining: 1.63s\n",
      "9:\tlearn: 2051.1067163\ttotal: 401ms\tremaining: 1.6s\n",
      "10:\tlearn: 2037.8666396\ttotal: 442ms\tremaining: 1.57s\n",
      "11:\tlearn: 2021.0380009\ttotal: 481ms\tremaining: 1.52s\n",
      "12:\tlearn: 2009.5588887\ttotal: 517ms\tremaining: 1.47s\n",
      "13:\tlearn: 1995.3022927\ttotal: 557ms\tremaining: 1.43s\n",
      "14:\tlearn: 1985.3255280\ttotal: 592ms\tremaining: 1.38s\n",
      "15:\tlearn: 1977.8409537\ttotal: 623ms\tremaining: 1.32s\n",
      "16:\tlearn: 1969.2484721\ttotal: 658ms\tremaining: 1.28s\n",
      "17:\tlearn: 1960.4351435\ttotal: 692ms\tremaining: 1.23s\n",
      "18:\tlearn: 1951.1876315\ttotal: 725ms\tremaining: 1.18s\n",
      "19:\tlearn: 1946.6567531\ttotal: 753ms\tremaining: 1.13s\n",
      "20:\tlearn: 1941.7514900\ttotal: 789ms\tremaining: 1.09s\n",
      "21:\tlearn: 1933.9053171\ttotal: 824ms\tremaining: 1.05s\n",
      "22:\tlearn: 1931.1010633\ttotal: 854ms\tremaining: 1s\n",
      "23:\tlearn: 1925.1256763\ttotal: 888ms\tremaining: 962ms\n",
      "24:\tlearn: 1921.9821809\ttotal: 919ms\tremaining: 919ms\n",
      "25:\tlearn: 1919.0048747\ttotal: 955ms\tremaining: 882ms\n",
      "26:\tlearn: 1913.9936462\ttotal: 999ms\tremaining: 851ms\n",
      "27:\tlearn: 1907.9525512\ttotal: 1.04s\tremaining: 817ms\n",
      "28:\tlearn: 1903.7386877\ttotal: 1.08s\tremaining: 783ms\n",
      "29:\tlearn: 1897.0051474\ttotal: 1.12s\tremaining: 747ms\n",
      "30:\tlearn: 1890.8368766\ttotal: 1.17s\tremaining: 717ms\n",
      "31:\tlearn: 1884.2427550\ttotal: 1.22s\tremaining: 687ms\n",
      "32:\tlearn: 1878.3834133\ttotal: 1.26s\tremaining: 649ms\n",
      "33:\tlearn: 1872.8046483\ttotal: 1.29s\tremaining: 609ms\n",
      "34:\tlearn: 1869.1428086\ttotal: 1.34s\tremaining: 576ms\n",
      "35:\tlearn: 1866.9353662\ttotal: 1.4s\tremaining: 543ms\n",
      "36:\tlearn: 1863.9451731\ttotal: 1.44s\tremaining: 506ms\n",
      "37:\tlearn: 1860.0081450\ttotal: 1.48s\tremaining: 469ms\n",
      "38:\tlearn: 1858.4160731\ttotal: 1.51s\tremaining: 426ms\n",
      "39:\tlearn: 1855.8105609\ttotal: 1.54s\tremaining: 386ms\n",
      "40:\tlearn: 1850.1030470\ttotal: 1.58s\tremaining: 346ms\n",
      "41:\tlearn: 1845.8624592\ttotal: 1.62s\tremaining: 308ms\n",
      "42:\tlearn: 1841.0598075\ttotal: 1.65s\tremaining: 269ms\n",
      "43:\tlearn: 1838.3738689\ttotal: 1.68s\tremaining: 230ms\n",
      "44:\tlearn: 1834.6108545\ttotal: 1.72s\tremaining: 191ms\n",
      "45:\tlearn: 1831.1287881\ttotal: 1.76s\tremaining: 153ms\n",
      "46:\tlearn: 1827.5997063\ttotal: 1.79s\tremaining: 114ms\n",
      "47:\tlearn: 1825.5259460\ttotal: 1.82s\tremaining: 75.8ms\n",
      "48:\tlearn: 1822.8905954\ttotal: 1.86s\tremaining: 38ms\n",
      "49:\tlearn: 1819.1325220\ttotal: 1.89s\tremaining: 0us\n",
      "Learning rate set to 0.5\n",
      "0:\tlearn: 3149.6161803\ttotal: 75.1ms\tremaining: 3.68s\n",
      "1:\tlearn: 2556.4610314\ttotal: 131ms\tremaining: 3.14s\n",
      "2:\tlearn: 2322.1322159\ttotal: 193ms\tremaining: 3.02s\n",
      "3:\tlearn: 2181.6411761\ttotal: 269ms\tremaining: 3.09s\n",
      "4:\tlearn: 2115.0515863\ttotal: 327ms\tremaining: 2.94s\n",
      "5:\tlearn: 2062.2041703\ttotal: 394ms\tremaining: 2.89s\n",
      "6:\tlearn: 2036.3563083\ttotal: 442ms\tremaining: 2.72s\n",
      "7:\tlearn: 2008.4292025\ttotal: 495ms\tremaining: 2.6s\n",
      "8:\tlearn: 1976.6647005\ttotal: 549ms\tremaining: 2.5s\n",
      "9:\tlearn: 1958.8425667\ttotal: 599ms\tremaining: 2.4s\n",
      "10:\tlearn: 1946.6772392\ttotal: 642ms\tremaining: 2.28s\n",
      "11:\tlearn: 1935.4674271\ttotal: 686ms\tremaining: 2.17s\n",
      "12:\tlearn: 1927.7985211\ttotal: 725ms\tremaining: 2.06s\n",
      "13:\tlearn: 1919.2514944\ttotal: 779ms\tremaining: 2s\n",
      "14:\tlearn: 1909.5877999\ttotal: 833ms\tremaining: 1.94s\n",
      "15:\tlearn: 1899.7339346\ttotal: 878ms\tremaining: 1.87s\n",
      "16:\tlearn: 1892.0695005\ttotal: 924ms\tremaining: 1.79s\n",
      "17:\tlearn: 1887.0024210\ttotal: 973ms\tremaining: 1.73s\n",
      "18:\tlearn: 1882.4793221\ttotal: 1.02s\tremaining: 1.66s\n",
      "19:\tlearn: 1873.1168675\ttotal: 1.06s\tremaining: 1.6s\n",
      "20:\tlearn: 1867.3411276\ttotal: 1.11s\tremaining: 1.53s\n",
      "21:\tlearn: 1861.0664086\ttotal: 1.15s\tremaining: 1.47s\n",
      "22:\tlearn: 1853.4795442\ttotal: 1.2s\tremaining: 1.41s\n",
      "23:\tlearn: 1849.7026197\ttotal: 1.25s\tremaining: 1.35s\n",
      "24:\tlearn: 1844.6132328\ttotal: 1.29s\tremaining: 1.29s\n",
      "25:\tlearn: 1842.5903807\ttotal: 1.32s\tremaining: 1.22s\n",
      "26:\tlearn: 1838.5393133\ttotal: 1.37s\tremaining: 1.17s\n",
      "27:\tlearn: 1831.5055731\ttotal: 1.42s\tremaining: 1.12s\n",
      "28:\tlearn: 1826.7208255\ttotal: 1.47s\tremaining: 1.06s\n",
      "29:\tlearn: 1823.8611105\ttotal: 1.51s\tremaining: 1.01s\n",
      "30:\tlearn: 1818.8907323\ttotal: 1.55s\tremaining: 954ms\n",
      "31:\tlearn: 1816.6084834\ttotal: 1.61s\tremaining: 907ms\n",
      "32:\tlearn: 1811.6472316\ttotal: 1.67s\tremaining: 859ms\n",
      "33:\tlearn: 1806.8205612\ttotal: 1.73s\tremaining: 815ms\n",
      "34:\tlearn: 1801.2564309\ttotal: 1.78s\tremaining: 764ms\n",
      "35:\tlearn: 1797.4448371\ttotal: 1.84s\tremaining: 715ms\n",
      "36:\tlearn: 1793.8584016\ttotal: 1.88s\tremaining: 662ms\n",
      "37:\tlearn: 1790.0575808\ttotal: 1.93s\tremaining: 610ms\n",
      "38:\tlearn: 1786.9244852\ttotal: 1.99s\tremaining: 560ms\n",
      "39:\tlearn: 1784.6315723\ttotal: 2.03s\tremaining: 509ms\n",
      "40:\tlearn: 1781.6119618\ttotal: 2.11s\tremaining: 463ms\n",
      "41:\tlearn: 1778.9787586\ttotal: 2.21s\tremaining: 420ms\n",
      "42:\tlearn: 1775.9345594\ttotal: 2.32s\tremaining: 377ms\n",
      "43:\tlearn: 1771.1328586\ttotal: 2.39s\tremaining: 326ms\n",
      "44:\tlearn: 1767.5159652\ttotal: 2.44s\tremaining: 272ms\n",
      "45:\tlearn: 1764.9839331\ttotal: 2.5s\tremaining: 218ms\n",
      "46:\tlearn: 1762.4027191\ttotal: 2.56s\tremaining: 164ms\n",
      "47:\tlearn: 1759.7381135\ttotal: 2.63s\tremaining: 109ms\n",
      "48:\tlearn: 1757.6876063\ttotal: 2.68s\tremaining: 54.7ms\n",
      "49:\tlearn: 1755.3359418\ttotal: 2.75s\tremaining: 0us\n",
      "Learning rate set to 0.5\n",
      "0:\tlearn: 3323.9341829\ttotal: 49.2ms\tremaining: 3.39s\n",
      "1:\tlearn: 2779.3710350\ttotal: 86.4ms\tremaining: 2.94s\n",
      "2:\tlearn: 2554.5345517\ttotal: 128ms\tremaining: 2.86s\n",
      "3:\tlearn: 2398.3322330\ttotal: 163ms\tremaining: 2.69s\n",
      "4:\tlearn: 2321.2938962\ttotal: 197ms\tremaining: 2.55s\n",
      "5:\tlearn: 2271.5072203\ttotal: 234ms\tremaining: 2.5s\n",
      "6:\tlearn: 2230.3355919\ttotal: 273ms\tremaining: 2.45s\n",
      "7:\tlearn: 2191.8069785\ttotal: 319ms\tremaining: 2.47s\n",
      "8:\tlearn: 2164.9613145\ttotal: 352ms\tremaining: 2.38s\n",
      "9:\tlearn: 2141.3317652\ttotal: 385ms\tremaining: 2.31s\n",
      "10:\tlearn: 2126.0146273\ttotal: 420ms\tremaining: 2.25s\n",
      "11:\tlearn: 2108.1688639\ttotal: 478ms\tremaining: 2.31s\n",
      "12:\tlearn: 2093.0214239\ttotal: 552ms\tremaining: 2.42s\n",
      "13:\tlearn: 2081.5448933\ttotal: 608ms\tremaining: 2.43s\n",
      "14:\tlearn: 2065.1802382\ttotal: 667ms\tremaining: 2.44s\n",
      "15:\tlearn: 2058.4693388\ttotal: 707ms\tremaining: 2.39s\n",
      "16:\tlearn: 2049.6528962\ttotal: 746ms\tremaining: 2.33s\n",
      "17:\tlearn: 2043.6430424\ttotal: 777ms\tremaining: 2.25s\n",
      "18:\tlearn: 2037.7266909\ttotal: 808ms\tremaining: 2.17s\n",
      "19:\tlearn: 2030.5178778\ttotal: 836ms\tremaining: 2.09s\n",
      "20:\tlearn: 2022.7743832\ttotal: 865ms\tremaining: 2.02s\n",
      "21:\tlearn: 2018.6971919\ttotal: 887ms\tremaining: 1.94s\n",
      "22:\tlearn: 2010.8877932\ttotal: 915ms\tremaining: 1.87s\n",
      "23:\tlearn: 2002.6480569\ttotal: 955ms\tremaining: 1.83s\n",
      "24:\tlearn: 1999.0916497\ttotal: 979ms\tremaining: 1.76s\n",
      "25:\tlearn: 1991.7992535\ttotal: 1.01s\tremaining: 1.71s\n",
      "26:\tlearn: 1985.4590854\ttotal: 1.04s\tremaining: 1.65s\n",
      "27:\tlearn: 1981.4920930\ttotal: 1.06s\tremaining: 1.59s\n",
      "28:\tlearn: 1977.4078175\ttotal: 1.09s\tremaining: 1.54s\n",
      "29:\tlearn: 1971.6572551\ttotal: 1.12s\tremaining: 1.5s\n",
      "30:\tlearn: 1965.3009119\ttotal: 1.15s\tremaining: 1.45s\n",
      "31:\tlearn: 1959.3547711\ttotal: 1.18s\tremaining: 1.4s\n",
      "32:\tlearn: 1952.5972150\ttotal: 1.2s\tremaining: 1.35s\n",
      "33:\tlearn: 1948.2968643\ttotal: 1.23s\tremaining: 1.3s\n",
      "34:\tlearn: 1946.0585318\ttotal: 1.25s\tremaining: 1.25s\n",
      "35:\tlearn: 1942.3024658\ttotal: 1.28s\tremaining: 1.21s\n",
      "36:\tlearn: 1939.3531149\ttotal: 1.31s\tremaining: 1.17s\n",
      "37:\tlearn: 1935.2336744\ttotal: 1.34s\tremaining: 1.13s\n",
      "38:\tlearn: 1932.4442708\ttotal: 1.36s\tremaining: 1.08s\n",
      "39:\tlearn: 1930.5392334\ttotal: 1.39s\tremaining: 1.04s\n",
      "40:\tlearn: 1927.5549782\ttotal: 1.41s\tremaining: 999ms\n",
      "41:\tlearn: 1923.5414068\ttotal: 1.44s\tremaining: 961ms\n",
      "42:\tlearn: 1921.4037772\ttotal: 1.48s\tremaining: 930ms\n",
      "43:\tlearn: 1919.0965762\ttotal: 1.52s\tremaining: 900ms\n",
      "44:\tlearn: 1917.2104352\ttotal: 1.55s\tremaining: 864ms\n",
      "45:\tlearn: 1914.9354400\ttotal: 1.6s\tremaining: 836ms\n",
      "46:\tlearn: 1910.2213328\ttotal: 1.64s\tremaining: 800ms\n",
      "47:\tlearn: 1906.1577248\ttotal: 1.66s\tremaining: 763ms\n",
      "48:\tlearn: 1904.4946909\ttotal: 1.7s\tremaining: 730ms\n",
      "49:\tlearn: 1902.8232671\ttotal: 1.73s\tremaining: 693ms\n",
      "50:\tlearn: 1900.0712937\ttotal: 1.76s\tremaining: 655ms\n",
      "51:\tlearn: 1897.8727966\ttotal: 1.78s\tremaining: 618ms\n",
      "52:\tlearn: 1895.4410500\ttotal: 1.81s\tremaining: 582ms\n",
      "53:\tlearn: 1893.3753283\ttotal: 1.84s\tremaining: 544ms\n",
      "54:\tlearn: 1890.9403205\ttotal: 1.87s\tremaining: 510ms\n",
      "55:\tlearn: 1888.5602452\ttotal: 1.9s\tremaining: 475ms\n",
      "56:\tlearn: 1886.5991265\ttotal: 1.93s\tremaining: 439ms\n",
      "57:\tlearn: 1883.4253326\ttotal: 1.95s\tremaining: 404ms\n",
      "58:\tlearn: 1881.4520101\ttotal: 1.98s\tremaining: 369ms\n",
      "59:\tlearn: 1879.8514127\ttotal: 2.01s\tremaining: 335ms\n",
      "60:\tlearn: 1878.2864042\ttotal: 2.03s\tremaining: 300ms\n",
      "61:\tlearn: 1876.7706879\ttotal: 2.06s\tremaining: 266ms\n",
      "62:\tlearn: 1875.1633805\ttotal: 2.09s\tremaining: 232ms\n",
      "63:\tlearn: 1872.6294626\ttotal: 2.12s\tremaining: 199ms\n",
      "64:\tlearn: 1869.5354431\ttotal: 2.15s\tremaining: 165ms\n",
      "65:\tlearn: 1868.3225024\ttotal: 2.17s\tremaining: 132ms\n",
      "66:\tlearn: 1866.9650525\ttotal: 2.2s\tremaining: 98.5ms\n",
      "67:\tlearn: 1865.9151578\ttotal: 2.22s\tremaining: 65.4ms\n",
      "68:\tlearn: 1864.2709827\ttotal: 2.25s\tremaining: 32.6ms\n",
      "69:\tlearn: 1862.5751200\ttotal: 2.28s\tremaining: 0us\n",
      "Learning rate set to 0.5\n",
      "0:\tlearn: 3226.2911192\ttotal: 48.7ms\tremaining: 3.36s\n",
      "1:\tlearn: 2661.3234805\ttotal: 94.9ms\tremaining: 3.23s\n",
      "2:\tlearn: 2420.5803482\ttotal: 133ms\tremaining: 2.96s\n",
      "3:\tlearn: 2299.9941583\ttotal: 172ms\tremaining: 2.84s\n",
      "4:\tlearn: 2216.8175356\ttotal: 227ms\tremaining: 2.96s\n",
      "5:\tlearn: 2159.3772556\ttotal: 275ms\tremaining: 2.94s\n",
      "6:\tlearn: 2124.6969832\ttotal: 328ms\tremaining: 2.95s\n",
      "7:\tlearn: 2091.0959012\ttotal: 376ms\tremaining: 2.91s\n",
      "8:\tlearn: 2066.9770695\ttotal: 417ms\tremaining: 2.82s\n",
      "9:\tlearn: 2051.1067163\ttotal: 453ms\tremaining: 2.72s\n",
      "10:\tlearn: 2037.8666396\ttotal: 494ms\tremaining: 2.65s\n",
      "11:\tlearn: 2021.0380009\ttotal: 528ms\tremaining: 2.55s\n",
      "12:\tlearn: 2009.5588887\ttotal: 574ms\tremaining: 2.52s\n",
      "13:\tlearn: 1995.3022927\ttotal: 642ms\tremaining: 2.57s\n",
      "14:\tlearn: 1985.3255280\ttotal: 697ms\tremaining: 2.56s\n",
      "15:\tlearn: 1977.8409537\ttotal: 741ms\tremaining: 2.5s\n",
      "16:\tlearn: 1969.2484721\ttotal: 780ms\tremaining: 2.43s\n",
      "17:\tlearn: 1960.4351435\ttotal: 816ms\tremaining: 2.36s\n",
      "18:\tlearn: 1951.1876315\ttotal: 855ms\tremaining: 2.29s\n",
      "19:\tlearn: 1946.6567531\ttotal: 886ms\tremaining: 2.21s\n",
      "20:\tlearn: 1941.7514900\ttotal: 919ms\tremaining: 2.14s\n",
      "21:\tlearn: 1933.9053171\ttotal: 954ms\tremaining: 2.08s\n",
      "22:\tlearn: 1931.1010633\ttotal: 987ms\tremaining: 2.02s\n",
      "23:\tlearn: 1925.1256763\ttotal: 1.02s\tremaining: 1.96s\n",
      "24:\tlearn: 1921.9821809\ttotal: 1.06s\tremaining: 1.9s\n",
      "25:\tlearn: 1919.0048747\ttotal: 1.09s\tremaining: 1.85s\n",
      "26:\tlearn: 1913.9936462\ttotal: 1.13s\tremaining: 1.79s\n",
      "27:\tlearn: 1907.9525512\ttotal: 1.16s\tremaining: 1.74s\n",
      "28:\tlearn: 1903.7386877\ttotal: 1.2s\tremaining: 1.69s\n",
      "29:\tlearn: 1897.0051474\ttotal: 1.23s\tremaining: 1.65s\n",
      "30:\tlearn: 1890.8368766\ttotal: 1.28s\tremaining: 1.61s\n",
      "31:\tlearn: 1884.2427550\ttotal: 1.32s\tremaining: 1.57s\n",
      "32:\tlearn: 1878.3834133\ttotal: 1.36s\tremaining: 1.53s\n",
      "33:\tlearn: 1872.8046483\ttotal: 1.4s\tremaining: 1.48s\n",
      "34:\tlearn: 1869.1428086\ttotal: 1.43s\tremaining: 1.43s\n",
      "35:\tlearn: 1866.9353662\ttotal: 1.47s\tremaining: 1.39s\n",
      "36:\tlearn: 1863.9451731\ttotal: 1.5s\tremaining: 1.34s\n",
      "37:\tlearn: 1860.0081450\ttotal: 1.53s\tremaining: 1.29s\n",
      "38:\tlearn: 1858.4160731\ttotal: 1.56s\tremaining: 1.24s\n",
      "39:\tlearn: 1855.8105609\ttotal: 1.6s\tremaining: 1.2s\n",
      "40:\tlearn: 1850.1030470\ttotal: 1.66s\tremaining: 1.18s\n",
      "41:\tlearn: 1845.8624592\ttotal: 1.71s\tremaining: 1.14s\n",
      "42:\tlearn: 1841.0598075\ttotal: 1.75s\tremaining: 1.1s\n",
      "43:\tlearn: 1838.3738689\ttotal: 1.78s\tremaining: 1.05s\n",
      "44:\tlearn: 1834.6108545\ttotal: 1.83s\tremaining: 1.02s\n",
      "45:\tlearn: 1831.1287881\ttotal: 1.87s\tremaining: 978ms\n",
      "46:\tlearn: 1827.5997063\ttotal: 1.91s\tremaining: 936ms\n",
      "47:\tlearn: 1825.5259460\ttotal: 1.95s\tremaining: 893ms\n",
      "48:\tlearn: 1822.8905954\ttotal: 1.99s\tremaining: 855ms\n",
      "49:\tlearn: 1819.1325220\ttotal: 2.04s\tremaining: 814ms\n",
      "50:\tlearn: 1815.8623081\ttotal: 2.07s\tremaining: 773ms\n",
      "51:\tlearn: 1813.6629083\ttotal: 2.1s\tremaining: 729ms\n",
      "52:\tlearn: 1811.5220100\ttotal: 2.14s\tremaining: 687ms\n",
      "53:\tlearn: 1810.0598281\ttotal: 2.18s\tremaining: 647ms\n",
      "54:\tlearn: 1809.0166523\ttotal: 2.21s\tremaining: 603ms\n",
      "55:\tlearn: 1806.8819156\ttotal: 2.24s\tremaining: 561ms\n",
      "56:\tlearn: 1804.8847933\ttotal: 2.28s\tremaining: 520ms\n",
      "57:\tlearn: 1803.3260310\ttotal: 2.31s\tremaining: 478ms\n",
      "58:\tlearn: 1801.2677084\ttotal: 2.34s\tremaining: 437ms\n",
      "59:\tlearn: 1799.6745800\ttotal: 2.38s\tremaining: 397ms\n",
      "60:\tlearn: 1798.0327087\ttotal: 2.42s\tremaining: 358ms\n",
      "61:\tlearn: 1795.9972347\ttotal: 2.47s\tremaining: 318ms\n",
      "62:\tlearn: 1794.3360864\ttotal: 2.5s\tremaining: 278ms\n",
      "63:\tlearn: 1792.3258205\ttotal: 2.53s\tremaining: 238ms\n",
      "64:\tlearn: 1790.6325806\ttotal: 2.57s\tremaining: 198ms\n",
      "65:\tlearn: 1789.3777404\ttotal: 2.62s\tremaining: 159ms\n",
      "66:\tlearn: 1788.0891502\ttotal: 2.67s\tremaining: 120ms\n",
      "67:\tlearn: 1786.5987883\ttotal: 2.71s\tremaining: 79.7ms\n",
      "68:\tlearn: 1784.8913990\ttotal: 2.75s\tremaining: 39.8ms\n",
      "69:\tlearn: 1782.4039403\ttotal: 2.78s\tremaining: 0us\n",
      "Learning rate set to 0.5\n",
      "0:\tlearn: 3149.6161803\ttotal: 71ms\tremaining: 4.9s\n",
      "1:\tlearn: 2556.4610314\ttotal: 129ms\tremaining: 4.38s\n",
      "2:\tlearn: 2322.1322159\ttotal: 185ms\tremaining: 4.13s\n",
      "3:\tlearn: 2181.6411761\ttotal: 249ms\tremaining: 4.11s\n",
      "4:\tlearn: 2115.0515863\ttotal: 311ms\tremaining: 4.04s\n",
      "5:\tlearn: 2062.2041703\ttotal: 407ms\tremaining: 4.34s\n",
      "6:\tlearn: 2036.3563083\ttotal: 477ms\tremaining: 4.29s\n",
      "7:\tlearn: 2008.4292025\ttotal: 521ms\tremaining: 4.04s\n",
      "8:\tlearn: 1976.6647005\ttotal: 572ms\tremaining: 3.88s\n",
      "9:\tlearn: 1958.8425667\ttotal: 639ms\tremaining: 3.83s\n",
      "10:\tlearn: 1946.6772392\ttotal: 683ms\tremaining: 3.66s\n",
      "11:\tlearn: 1935.4674271\ttotal: 724ms\tremaining: 3.5s\n",
      "12:\tlearn: 1927.7985211\ttotal: 767ms\tremaining: 3.36s\n",
      "13:\tlearn: 1919.2514944\ttotal: 814ms\tremaining: 3.25s\n",
      "14:\tlearn: 1909.5877999\ttotal: 865ms\tremaining: 3.17s\n",
      "15:\tlearn: 1899.7339346\ttotal: 917ms\tremaining: 3.09s\n",
      "16:\tlearn: 1892.0695005\ttotal: 965ms\tremaining: 3.01s\n",
      "17:\tlearn: 1887.0024210\ttotal: 1.01s\tremaining: 2.92s\n",
      "18:\tlearn: 1882.4793221\ttotal: 1.07s\tremaining: 2.86s\n",
      "19:\tlearn: 1873.1168675\ttotal: 1.12s\tremaining: 2.79s\n",
      "20:\tlearn: 1867.3411276\ttotal: 1.16s\tremaining: 2.71s\n",
      "21:\tlearn: 1861.0664086\ttotal: 1.21s\tremaining: 2.64s\n",
      "22:\tlearn: 1853.4795442\ttotal: 1.27s\tremaining: 2.59s\n",
      "23:\tlearn: 1849.7026197\ttotal: 1.34s\tremaining: 2.57s\n",
      "24:\tlearn: 1844.6132328\ttotal: 1.4s\tremaining: 2.52s\n",
      "25:\tlearn: 1842.5903807\ttotal: 1.46s\tremaining: 2.46s\n",
      "26:\tlearn: 1838.5393133\ttotal: 1.51s\tremaining: 2.41s\n",
      "27:\tlearn: 1831.5055731\ttotal: 1.56s\tremaining: 2.34s\n",
      "28:\tlearn: 1826.7208255\ttotal: 1.61s\tremaining: 2.27s\n",
      "29:\tlearn: 1823.8611105\ttotal: 1.66s\tremaining: 2.21s\n",
      "30:\tlearn: 1818.8907323\ttotal: 1.7s\tremaining: 2.14s\n",
      "31:\tlearn: 1816.6084834\ttotal: 1.74s\tremaining: 2.06s\n",
      "32:\tlearn: 1811.6472316\ttotal: 1.79s\tremaining: 2s\n",
      "33:\tlearn: 1806.8205612\ttotal: 1.84s\tremaining: 1.95s\n",
      "34:\tlearn: 1801.2564309\ttotal: 1.89s\tremaining: 1.89s\n",
      "35:\tlearn: 1797.4448371\ttotal: 1.94s\tremaining: 1.83s\n",
      "36:\tlearn: 1793.8584016\ttotal: 1.98s\tremaining: 1.77s\n",
      "37:\tlearn: 1790.0575808\ttotal: 2.03s\tremaining: 1.71s\n",
      "38:\tlearn: 1786.9244852\ttotal: 2.09s\tremaining: 1.66s\n",
      "39:\tlearn: 1784.6315723\ttotal: 2.14s\tremaining: 1.61s\n",
      "40:\tlearn: 1781.6119618\ttotal: 2.19s\tremaining: 1.55s\n",
      "41:\tlearn: 1778.9787586\ttotal: 2.24s\tremaining: 1.49s\n",
      "42:\tlearn: 1775.9345594\ttotal: 2.29s\tremaining: 1.44s\n",
      "43:\tlearn: 1771.1328586\ttotal: 2.38s\tremaining: 1.41s\n",
      "44:\tlearn: 1767.5159652\ttotal: 2.44s\tremaining: 1.36s\n",
      "45:\tlearn: 1764.9839331\ttotal: 2.5s\tremaining: 1.3s\n",
      "46:\tlearn: 1762.4027191\ttotal: 2.54s\tremaining: 1.24s\n",
      "47:\tlearn: 1759.7381135\ttotal: 2.6s\tremaining: 1.19s\n",
      "48:\tlearn: 1757.6876063\ttotal: 2.65s\tremaining: 1.13s\n",
      "49:\tlearn: 1755.3359418\ttotal: 2.69s\tremaining: 1.08s\n",
      "50:\tlearn: 1752.6172911\ttotal: 2.73s\tremaining: 1.02s\n",
      "51:\tlearn: 1749.3025817\ttotal: 2.78s\tremaining: 963ms\n",
      "52:\tlearn: 1746.5317964\ttotal: 2.83s\tremaining: 909ms\n",
      "53:\tlearn: 1744.2201047\ttotal: 2.88s\tremaining: 854ms\n",
      "54:\tlearn: 1742.3366615\ttotal: 2.93s\tremaining: 798ms\n",
      "55:\tlearn: 1741.0052810\ttotal: 2.97s\tremaining: 742ms\n",
      "56:\tlearn: 1738.7448844\ttotal: 3.02s\tremaining: 688ms\n",
      "57:\tlearn: 1736.6030895\ttotal: 3.06s\tremaining: 633ms\n",
      "58:\tlearn: 1734.5058468\ttotal: 3.1s\tremaining: 579ms\n",
      "59:\tlearn: 1732.6242158\ttotal: 3.15s\tremaining: 525ms\n",
      "60:\tlearn: 1729.3694171\ttotal: 3.2s\tremaining: 472ms\n",
      "61:\tlearn: 1727.9416414\ttotal: 3.25s\tremaining: 419ms\n",
      "62:\tlearn: 1725.3405389\ttotal: 3.29s\tremaining: 366ms\n",
      "63:\tlearn: 1724.1726029\ttotal: 3.35s\tremaining: 314ms\n",
      "64:\tlearn: 1722.3919915\ttotal: 3.43s\tremaining: 264ms\n",
      "65:\tlearn: 1720.7802439\ttotal: 3.48s\tremaining: 211ms\n",
      "66:\tlearn: 1719.3615903\ttotal: 3.53s\tremaining: 158ms\n",
      "67:\tlearn: 1716.7552866\ttotal: 3.59s\tremaining: 106ms\n",
      "68:\tlearn: 1714.9536833\ttotal: 3.64s\tremaining: 52.8ms\n",
      "69:\tlearn: 1713.3389866\ttotal: 3.68s\tremaining: 0us\n",
      "Learning rate set to 0.5\n",
      "0:\tlearn: 3323.9341829\ttotal: 87.4ms\tremaining: 7.78s\n",
      "1:\tlearn: 2779.3710350\ttotal: 140ms\tremaining: 6.17s\n",
      "2:\tlearn: 2554.5345517\ttotal: 180ms\tremaining: 5.23s\n",
      "3:\tlearn: 2398.3322330\ttotal: 220ms\tremaining: 4.73s\n",
      "4:\tlearn: 2321.2938962\ttotal: 328ms\tremaining: 5.57s\n",
      "5:\tlearn: 2271.5072203\ttotal: 404ms\tremaining: 5.66s\n",
      "6:\tlearn: 2230.3355919\ttotal: 459ms\tremaining: 5.44s\n",
      "7:\tlearn: 2191.8069785\ttotal: 521ms\tremaining: 5.34s\n",
      "8:\tlearn: 2164.9613145\ttotal: 579ms\tremaining: 5.21s\n",
      "9:\tlearn: 2141.3317652\ttotal: 661ms\tremaining: 5.29s\n",
      "10:\tlearn: 2126.0146273\ttotal: 720ms\tremaining: 5.17s\n",
      "11:\tlearn: 2108.1688639\ttotal: 782ms\tremaining: 5.08s\n",
      "12:\tlearn: 2093.0214239\ttotal: 831ms\tremaining: 4.92s\n",
      "13:\tlearn: 2081.5448933\ttotal: 890ms\tremaining: 4.83s\n",
      "14:\tlearn: 2065.1802382\ttotal: 957ms\tremaining: 4.78s\n",
      "15:\tlearn: 2058.4693388\ttotal: 993ms\tremaining: 4.59s\n",
      "16:\tlearn: 2049.6528962\ttotal: 1.04s\tremaining: 4.46s\n",
      "17:\tlearn: 2043.6430424\ttotal: 1.09s\tremaining: 4.36s\n",
      "18:\tlearn: 2037.7266909\ttotal: 1.13s\tremaining: 4.22s\n",
      "19:\tlearn: 2030.5178778\ttotal: 1.18s\tremaining: 4.12s\n",
      "20:\tlearn: 2022.7743832\ttotal: 1.22s\tremaining: 4.01s\n",
      "21:\tlearn: 2018.6971919\ttotal: 1.27s\tremaining: 3.92s\n",
      "22:\tlearn: 2010.8877932\ttotal: 1.31s\tremaining: 3.82s\n",
      "23:\tlearn: 2002.6480569\ttotal: 1.36s\tremaining: 3.74s\n",
      "24:\tlearn: 1999.0916497\ttotal: 1.39s\tremaining: 3.61s\n",
      "25:\tlearn: 1991.7992535\ttotal: 1.45s\tremaining: 3.56s\n",
      "26:\tlearn: 1985.4590854\ttotal: 1.49s\tremaining: 3.48s\n",
      "27:\tlearn: 1981.4920930\ttotal: 1.53s\tremaining: 3.38s\n",
      "28:\tlearn: 1977.4078175\ttotal: 1.57s\tremaining: 3.3s\n",
      "29:\tlearn: 1971.6572551\ttotal: 1.6s\tremaining: 3.21s\n",
      "30:\tlearn: 1965.3009119\ttotal: 1.64s\tremaining: 3.12s\n",
      "31:\tlearn: 1959.3547711\ttotal: 1.68s\tremaining: 3.05s\n",
      "32:\tlearn: 1952.5972150\ttotal: 1.72s\tremaining: 2.97s\n",
      "33:\tlearn: 1948.2968643\ttotal: 1.77s\tremaining: 2.92s\n",
      "34:\tlearn: 1946.0585318\ttotal: 1.81s\tremaining: 2.84s\n",
      "35:\tlearn: 1942.3024658\ttotal: 1.85s\tremaining: 2.77s\n",
      "36:\tlearn: 1939.3531149\ttotal: 1.91s\tremaining: 2.73s\n",
      "37:\tlearn: 1935.2336744\ttotal: 1.98s\tremaining: 2.71s\n",
      "38:\tlearn: 1932.4442708\ttotal: 2.05s\tremaining: 2.68s\n",
      "39:\tlearn: 1930.5392334\ttotal: 2.08s\tremaining: 2.61s\n",
      "40:\tlearn: 1927.5549782\ttotal: 2.14s\tremaining: 2.56s\n",
      "41:\tlearn: 1923.5414068\ttotal: 2.19s\tremaining: 2.5s\n",
      "42:\tlearn: 1921.4037772\ttotal: 2.23s\tremaining: 2.44s\n",
      "43:\tlearn: 1919.0965762\ttotal: 2.27s\tremaining: 2.37s\n",
      "44:\tlearn: 1917.2104352\ttotal: 2.32s\tremaining: 2.32s\n",
      "45:\tlearn: 1914.9354400\ttotal: 2.39s\tremaining: 2.29s\n",
      "46:\tlearn: 1910.2213328\ttotal: 2.45s\tremaining: 2.24s\n",
      "47:\tlearn: 1906.1577248\ttotal: 2.52s\tremaining: 2.2s\n",
      "48:\tlearn: 1904.4946909\ttotal: 2.56s\tremaining: 2.14s\n",
      "49:\tlearn: 1902.8232671\ttotal: 2.6s\tremaining: 2.08s\n",
      "50:\tlearn: 1900.0712937\ttotal: 2.66s\tremaining: 2.03s\n",
      "51:\tlearn: 1897.8727966\ttotal: 2.74s\tremaining: 2s\n",
      "52:\tlearn: 1895.4410500\ttotal: 2.78s\tremaining: 1.94s\n",
      "53:\tlearn: 1893.3753283\ttotal: 2.82s\tremaining: 1.88s\n",
      "54:\tlearn: 1890.9403205\ttotal: 2.86s\tremaining: 1.82s\n",
      "55:\tlearn: 1888.5602452\ttotal: 2.9s\tremaining: 1.76s\n",
      "56:\tlearn: 1886.5991265\ttotal: 2.93s\tremaining: 1.7s\n",
      "57:\tlearn: 1883.4253326\ttotal: 2.97s\tremaining: 1.64s\n",
      "58:\tlearn: 1881.4520101\ttotal: 3s\tremaining: 1.58s\n",
      "59:\tlearn: 1879.8514127\ttotal: 3.03s\tremaining: 1.52s\n",
      "60:\tlearn: 1878.2864042\ttotal: 3.07s\tremaining: 1.46s\n",
      "61:\tlearn: 1876.7706879\ttotal: 3.1s\tremaining: 1.4s\n",
      "62:\tlearn: 1875.1633805\ttotal: 3.13s\tremaining: 1.34s\n",
      "63:\tlearn: 1872.6294626\ttotal: 3.17s\tremaining: 1.29s\n",
      "64:\tlearn: 1869.5354431\ttotal: 3.2s\tremaining: 1.23s\n",
      "65:\tlearn: 1868.3225024\ttotal: 3.24s\tremaining: 1.18s\n",
      "66:\tlearn: 1866.9650525\ttotal: 3.28s\tremaining: 1.12s\n",
      "67:\tlearn: 1865.9151578\ttotal: 3.3s\tremaining: 1.07s\n",
      "68:\tlearn: 1864.2709827\ttotal: 3.33s\tremaining: 1.01s\n",
      "69:\tlearn: 1862.5751200\ttotal: 3.38s\tremaining: 965ms\n",
      "70:\tlearn: 1860.7656777\ttotal: 3.41s\tremaining: 913ms\n",
      "71:\tlearn: 1859.6608850\ttotal: 3.45s\tremaining: 862ms\n",
      "72:\tlearn: 1858.4677147\ttotal: 3.48s\tremaining: 810ms\n",
      "73:\tlearn: 1857.0487561\ttotal: 3.51s\tremaining: 759ms\n",
      "74:\tlearn: 1854.9995138\ttotal: 3.55s\tremaining: 710ms\n",
      "75:\tlearn: 1853.7115537\ttotal: 3.58s\tremaining: 660ms\n",
      "76:\tlearn: 1852.3667035\ttotal: 3.61s\tremaining: 609ms\n",
      "77:\tlearn: 1851.3458592\ttotal: 3.65s\tremaining: 561ms\n",
      "78:\tlearn: 1850.2786349\ttotal: 3.69s\tremaining: 513ms\n",
      "79:\tlearn: 1848.7032171\ttotal: 3.72s\tremaining: 465ms\n",
      "80:\tlearn: 1846.7410039\ttotal: 3.75s\tremaining: 417ms\n",
      "81:\tlearn: 1846.0208829\ttotal: 3.78s\tremaining: 369ms\n",
      "82:\tlearn: 1844.4300037\ttotal: 3.81s\tremaining: 322ms\n",
      "83:\tlearn: 1843.6412710\ttotal: 3.85s\tremaining: 275ms\n",
      "84:\tlearn: 1842.6341712\ttotal: 3.88s\tremaining: 228ms\n",
      "85:\tlearn: 1839.8328653\ttotal: 3.91s\tremaining: 182ms\n",
      "86:\tlearn: 1837.9831493\ttotal: 3.93s\tremaining: 136ms\n",
      "87:\tlearn: 1836.0823908\ttotal: 3.97s\tremaining: 90.2ms\n",
      "88:\tlearn: 1834.5091556\ttotal: 4.01s\tremaining: 45ms\n",
      "89:\tlearn: 1833.5538922\ttotal: 4.04s\tremaining: 0us\n",
      "Learning rate set to 0.5\n",
      "0:\tlearn: 3226.2911192\ttotal: 77.4ms\tremaining: 6.89s\n",
      "1:\tlearn: 2661.3234805\ttotal: 145ms\tremaining: 6.36s\n",
      "2:\tlearn: 2420.5803482\ttotal: 217ms\tremaining: 6.29s\n",
      "3:\tlearn: 2299.9941583\ttotal: 276ms\tremaining: 5.93s\n",
      "4:\tlearn: 2216.8175356\ttotal: 338ms\tremaining: 5.75s\n",
      "5:\tlearn: 2159.3772556\ttotal: 391ms\tremaining: 5.47s\n",
      "6:\tlearn: 2124.6969832\ttotal: 456ms\tremaining: 5.41s\n",
      "7:\tlearn: 2091.0959012\ttotal: 515ms\tremaining: 5.27s\n",
      "8:\tlearn: 2066.9770695\ttotal: 557ms\tremaining: 5.02s\n",
      "9:\tlearn: 2051.1067163\ttotal: 598ms\tremaining: 4.78s\n",
      "10:\tlearn: 2037.8666396\ttotal: 635ms\tremaining: 4.56s\n",
      "11:\tlearn: 2021.0380009\ttotal: 682ms\tremaining: 4.43s\n",
      "12:\tlearn: 2009.5588887\ttotal: 725ms\tremaining: 4.3s\n",
      "13:\tlearn: 1995.3022927\ttotal: 769ms\tremaining: 4.17s\n",
      "14:\tlearn: 1985.3255280\ttotal: 809ms\tremaining: 4.04s\n",
      "15:\tlearn: 1977.8409537\ttotal: 848ms\tremaining: 3.92s\n",
      "16:\tlearn: 1969.2484721\ttotal: 892ms\tremaining: 3.83s\n",
      "17:\tlearn: 1960.4351435\ttotal: 931ms\tremaining: 3.72s\n",
      "18:\tlearn: 1951.1876315\ttotal: 969ms\tremaining: 3.62s\n",
      "19:\tlearn: 1946.6567531\ttotal: 1s\tremaining: 3.51s\n",
      "20:\tlearn: 1941.7514900\ttotal: 1.05s\tremaining: 3.44s\n",
      "21:\tlearn: 1933.9053171\ttotal: 1.09s\tremaining: 3.37s\n",
      "22:\tlearn: 1931.1010633\ttotal: 1.14s\tremaining: 3.33s\n",
      "23:\tlearn: 1925.1256763\ttotal: 1.21s\tremaining: 3.33s\n",
      "24:\tlearn: 1921.9821809\ttotal: 1.27s\tremaining: 3.31s\n",
      "25:\tlearn: 1919.0048747\ttotal: 1.32s\tremaining: 3.26s\n",
      "26:\tlearn: 1913.9936462\ttotal: 1.36s\tremaining: 3.18s\n",
      "27:\tlearn: 1907.9525512\ttotal: 1.41s\tremaining: 3.12s\n",
      "28:\tlearn: 1903.7386877\ttotal: 1.45s\tremaining: 3.05s\n",
      "29:\tlearn: 1897.0051474\ttotal: 1.5s\tremaining: 3s\n",
      "30:\tlearn: 1890.8368766\ttotal: 1.54s\tremaining: 2.94s\n",
      "31:\tlearn: 1884.2427550\ttotal: 1.59s\tremaining: 2.88s\n",
      "32:\tlearn: 1878.3834133\ttotal: 1.63s\tremaining: 2.82s\n",
      "33:\tlearn: 1872.8046483\ttotal: 1.68s\tremaining: 2.76s\n",
      "34:\tlearn: 1869.1428086\ttotal: 1.73s\tremaining: 2.72s\n",
      "35:\tlearn: 1866.9353662\ttotal: 1.77s\tremaining: 2.65s\n",
      "36:\tlearn: 1863.9451731\ttotal: 1.81s\tremaining: 2.59s\n",
      "37:\tlearn: 1860.0081450\ttotal: 1.85s\tremaining: 2.53s\n",
      "38:\tlearn: 1858.4160731\ttotal: 1.88s\tremaining: 2.46s\n",
      "39:\tlearn: 1855.8105609\ttotal: 1.92s\tremaining: 2.4s\n",
      "40:\tlearn: 1850.1030470\ttotal: 1.97s\tremaining: 2.36s\n",
      "41:\tlearn: 1845.8624592\ttotal: 2.01s\tremaining: 2.3s\n",
      "42:\tlearn: 1841.0598075\ttotal: 2.06s\tremaining: 2.25s\n",
      "43:\tlearn: 1838.3738689\ttotal: 2.1s\tremaining: 2.19s\n",
      "44:\tlearn: 1834.6108545\ttotal: 2.15s\tremaining: 2.15s\n",
      "45:\tlearn: 1831.1287881\ttotal: 2.2s\tremaining: 2.1s\n",
      "46:\tlearn: 1827.5997063\ttotal: 2.23s\tremaining: 2.04s\n",
      "47:\tlearn: 1825.5259460\ttotal: 2.27s\tremaining: 1.99s\n",
      "48:\tlearn: 1822.8905954\ttotal: 2.31s\tremaining: 1.94s\n",
      "49:\tlearn: 1819.1325220\ttotal: 2.37s\tremaining: 1.9s\n",
      "50:\tlearn: 1815.8623081\ttotal: 2.41s\tremaining: 1.85s\n",
      "51:\tlearn: 1813.6629083\ttotal: 2.46s\tremaining: 1.8s\n",
      "52:\tlearn: 1811.5220100\ttotal: 2.49s\tremaining: 1.74s\n",
      "53:\tlearn: 1810.0598281\ttotal: 2.52s\tremaining: 1.68s\n",
      "54:\tlearn: 1809.0166523\ttotal: 2.55s\tremaining: 1.62s\n",
      "55:\tlearn: 1806.8819156\ttotal: 2.61s\tremaining: 1.59s\n",
      "56:\tlearn: 1804.8847933\ttotal: 2.67s\tremaining: 1.54s\n",
      "57:\tlearn: 1803.3260310\ttotal: 2.74s\tremaining: 1.51s\n",
      "58:\tlearn: 1801.2677084\ttotal: 2.82s\tremaining: 1.48s\n",
      "59:\tlearn: 1799.6745800\ttotal: 2.86s\tremaining: 1.43s\n",
      "60:\tlearn: 1798.0327087\ttotal: 2.9s\tremaining: 1.38s\n",
      "61:\tlearn: 1795.9972347\ttotal: 2.94s\tremaining: 1.33s\n",
      "62:\tlearn: 1794.3360864\ttotal: 2.99s\tremaining: 1.28s\n",
      "63:\tlearn: 1792.3258205\ttotal: 3.04s\tremaining: 1.23s\n",
      "64:\tlearn: 1790.6325806\ttotal: 3.08s\tremaining: 1.18s\n",
      "65:\tlearn: 1789.3777404\ttotal: 3.12s\tremaining: 1.14s\n",
      "66:\tlearn: 1788.0891502\ttotal: 3.2s\tremaining: 1.1s\n",
      "67:\tlearn: 1786.5987883\ttotal: 3.25s\tremaining: 1.05s\n",
      "68:\tlearn: 1784.8913990\ttotal: 3.32s\tremaining: 1.01s\n",
      "69:\tlearn: 1782.4039403\ttotal: 3.37s\tremaining: 962ms\n",
      "70:\tlearn: 1781.2112609\ttotal: 3.41s\tremaining: 912ms\n",
      "71:\tlearn: 1779.5121459\ttotal: 3.44s\tremaining: 861ms\n",
      "72:\tlearn: 1778.0417244\ttotal: 3.48s\tremaining: 811ms\n",
      "73:\tlearn: 1775.5706967\ttotal: 3.53s\tremaining: 763ms\n",
      "74:\tlearn: 1773.5580288\ttotal: 3.57s\tremaining: 714ms\n",
      "75:\tlearn: 1772.0256581\ttotal: 3.62s\tremaining: 666ms\n",
      "76:\tlearn: 1770.2813911\ttotal: 3.66s\tremaining: 617ms\n",
      "77:\tlearn: 1768.7417484\ttotal: 3.7s\tremaining: 569ms\n",
      "78:\tlearn: 1767.6060861\ttotal: 3.74s\tremaining: 521ms\n",
      "79:\tlearn: 1765.4496809\ttotal: 3.79s\tremaining: 473ms\n",
      "80:\tlearn: 1764.2498674\ttotal: 3.82s\tremaining: 425ms\n",
      "81:\tlearn: 1762.8855268\ttotal: 3.86s\tremaining: 377ms\n",
      "82:\tlearn: 1761.3645425\ttotal: 3.9s\tremaining: 329ms\n",
      "83:\tlearn: 1760.1636413\ttotal: 3.95s\tremaining: 282ms\n",
      "84:\tlearn: 1757.7184339\ttotal: 3.99s\tremaining: 235ms\n",
      "85:\tlearn: 1756.6054777\ttotal: 4.02s\tremaining: 187ms\n",
      "86:\tlearn: 1755.4955165\ttotal: 4.06s\tremaining: 140ms\n",
      "87:\tlearn: 1754.4704589\ttotal: 4.1s\tremaining: 93.2ms\n",
      "88:\tlearn: 1752.8359472\ttotal: 4.16s\tremaining: 46.8ms\n",
      "89:\tlearn: 1752.2436153\ttotal: 4.22s\tremaining: 0us\n",
      "Learning rate set to 0.5\n",
      "0:\tlearn: 3149.6161803\ttotal: 69.4ms\tremaining: 6.18s\n",
      "1:\tlearn: 2556.4610314\ttotal: 129ms\tremaining: 5.7s\n",
      "2:\tlearn: 2322.1322159\ttotal: 184ms\tremaining: 5.32s\n",
      "3:\tlearn: 2181.6411761\ttotal: 245ms\tremaining: 5.28s\n",
      "4:\tlearn: 2115.0515863\ttotal: 301ms\tremaining: 5.12s\n",
      "5:\tlearn: 2062.2041703\ttotal: 359ms\tremaining: 5.02s\n",
      "6:\tlearn: 2036.3563083\ttotal: 408ms\tremaining: 4.84s\n",
      "7:\tlearn: 2008.4292025\ttotal: 461ms\tremaining: 4.72s\n",
      "8:\tlearn: 1976.6647005\ttotal: 529ms\tremaining: 4.76s\n",
      "9:\tlearn: 1958.8425667\ttotal: 589ms\tremaining: 4.71s\n",
      "10:\tlearn: 1946.6772392\ttotal: 643ms\tremaining: 4.62s\n",
      "11:\tlearn: 1935.4674271\ttotal: 694ms\tremaining: 4.51s\n",
      "12:\tlearn: 1927.7985211\ttotal: 750ms\tremaining: 4.44s\n",
      "13:\tlearn: 1919.2514944\ttotal: 805ms\tremaining: 4.37s\n",
      "14:\tlearn: 1909.5877999\ttotal: 890ms\tremaining: 4.45s\n",
      "15:\tlearn: 1899.7339346\ttotal: 970ms\tremaining: 4.48s\n",
      "16:\tlearn: 1892.0695005\ttotal: 1.03s\tremaining: 4.43s\n",
      "17:\tlearn: 1887.0024210\ttotal: 1.07s\tremaining: 4.3s\n",
      "18:\tlearn: 1882.4793221\ttotal: 1.12s\tremaining: 4.18s\n",
      "19:\tlearn: 1873.1168675\ttotal: 1.17s\tremaining: 4.09s\n",
      "20:\tlearn: 1867.3411276\ttotal: 1.22s\tremaining: 4s\n",
      "21:\tlearn: 1861.0664086\ttotal: 1.27s\tremaining: 3.92s\n",
      "22:\tlearn: 1853.4795442\ttotal: 1.32s\tremaining: 3.84s\n",
      "23:\tlearn: 1849.7026197\ttotal: 1.36s\tremaining: 3.74s\n",
      "24:\tlearn: 1844.6132328\ttotal: 1.41s\tremaining: 3.66s\n",
      "25:\tlearn: 1842.5903807\ttotal: 1.44s\tremaining: 3.55s\n",
      "26:\tlearn: 1838.5393133\ttotal: 1.49s\tremaining: 3.48s\n",
      "27:\tlearn: 1831.5055731\ttotal: 1.53s\tremaining: 3.4s\n",
      "28:\tlearn: 1826.7208255\ttotal: 1.58s\tremaining: 3.33s\n",
      "29:\tlearn: 1823.8611105\ttotal: 1.62s\tremaining: 3.24s\n",
      "30:\tlearn: 1818.8907323\ttotal: 1.67s\tremaining: 3.17s\n",
      "31:\tlearn: 1816.6084834\ttotal: 1.7s\tremaining: 3.09s\n",
      "32:\tlearn: 1811.6472316\ttotal: 1.75s\tremaining: 3.02s\n",
      "33:\tlearn: 1806.8205612\ttotal: 1.8s\tremaining: 2.96s\n",
      "34:\tlearn: 1801.2564309\ttotal: 1.88s\tremaining: 2.95s\n",
      "35:\tlearn: 1797.4448371\ttotal: 1.93s\tremaining: 2.9s\n",
      "36:\tlearn: 1793.8584016\ttotal: 1.98s\tremaining: 2.84s\n",
      "37:\tlearn: 1790.0575808\ttotal: 2.04s\tremaining: 2.79s\n",
      "38:\tlearn: 1786.9244852\ttotal: 2.08s\tremaining: 2.73s\n",
      "39:\tlearn: 1784.6315723\ttotal: 2.13s\tremaining: 2.67s\n",
      "40:\tlearn: 1781.6119618\ttotal: 2.18s\tremaining: 2.6s\n",
      "41:\tlearn: 1778.9787586\ttotal: 2.23s\tremaining: 2.55s\n",
      "42:\tlearn: 1775.9345594\ttotal: 2.32s\tremaining: 2.53s\n",
      "43:\tlearn: 1771.1328586\ttotal: 2.44s\tremaining: 2.55s\n",
      "44:\tlearn: 1767.5159652\ttotal: 2.54s\tremaining: 2.54s\n",
      "45:\tlearn: 1764.9839331\ttotal: 2.67s\tremaining: 2.55s\n",
      "46:\tlearn: 1762.4027191\ttotal: 2.73s\tremaining: 2.5s\n",
      "47:\tlearn: 1759.7381135\ttotal: 2.8s\tremaining: 2.45s\n",
      "48:\tlearn: 1757.6876063\ttotal: 2.86s\tremaining: 2.39s\n",
      "49:\tlearn: 1755.3359418\ttotal: 2.94s\tremaining: 2.35s\n",
      "50:\tlearn: 1752.6172911\ttotal: 2.99s\tremaining: 2.29s\n",
      "51:\tlearn: 1749.3025817\ttotal: 3.05s\tremaining: 2.23s\n",
      "52:\tlearn: 1746.5317964\ttotal: 3.12s\tremaining: 2.18s\n",
      "53:\tlearn: 1744.2201047\ttotal: 3.17s\tremaining: 2.12s\n",
      "54:\tlearn: 1742.3366615\ttotal: 3.23s\tremaining: 2.05s\n",
      "55:\tlearn: 1741.0052810\ttotal: 3.29s\tremaining: 2s\n",
      "56:\tlearn: 1738.7448844\ttotal: 3.35s\tremaining: 1.94s\n",
      "57:\tlearn: 1736.6030895\ttotal: 3.4s\tremaining: 1.88s\n",
      "58:\tlearn: 1734.5058468\ttotal: 3.47s\tremaining: 1.82s\n",
      "59:\tlearn: 1732.6242158\ttotal: 3.52s\tremaining: 1.76s\n",
      "60:\tlearn: 1729.3694171\ttotal: 3.59s\tremaining: 1.71s\n",
      "61:\tlearn: 1727.9416414\ttotal: 3.64s\tremaining: 1.64s\n",
      "62:\tlearn: 1725.3405389\ttotal: 3.7s\tremaining: 1.59s\n",
      "63:\tlearn: 1724.1726029\ttotal: 3.75s\tremaining: 1.52s\n",
      "64:\tlearn: 1722.3919915\ttotal: 3.81s\tremaining: 1.47s\n",
      "65:\tlearn: 1720.7802439\ttotal: 3.9s\tremaining: 1.42s\n",
      "66:\tlearn: 1719.3615903\ttotal: 3.99s\tremaining: 1.37s\n",
      "67:\tlearn: 1716.7552866\ttotal: 4.04s\tremaining: 1.31s\n",
      "68:\tlearn: 1714.9536833\ttotal: 4.09s\tremaining: 1.25s\n",
      "69:\tlearn: 1713.3389866\ttotal: 4.15s\tremaining: 1.19s\n",
      "70:\tlearn: 1711.6143535\ttotal: 4.2s\tremaining: 1.12s\n",
      "71:\tlearn: 1710.3570130\ttotal: 4.24s\tremaining: 1.06s\n",
      "72:\tlearn: 1708.6607345\ttotal: 4.29s\tremaining: 998ms\n",
      "73:\tlearn: 1706.4842367\ttotal: 4.35s\tremaining: 940ms\n",
      "74:\tlearn: 1704.8553876\ttotal: 4.4s\tremaining: 880ms\n",
      "75:\tlearn: 1703.5938718\ttotal: 4.46s\tremaining: 822ms\n",
      "76:\tlearn: 1702.2697139\ttotal: 4.53s\tremaining: 765ms\n",
      "77:\tlearn: 1700.8469697\ttotal: 4.59s\tremaining: 706ms\n",
      "78:\tlearn: 1699.7319319\ttotal: 4.65s\tremaining: 647ms\n",
      "79:\tlearn: 1697.5311156\ttotal: 4.73s\tremaining: 592ms\n",
      "80:\tlearn: 1695.8545212\ttotal: 4.8s\tremaining: 534ms\n",
      "81:\tlearn: 1695.0940924\ttotal: 4.87s\tremaining: 476ms\n",
      "82:\tlearn: 1692.8369641\ttotal: 4.97s\tremaining: 420ms\n",
      "83:\tlearn: 1691.3199631\ttotal: 5.04s\tremaining: 360ms\n",
      "84:\tlearn: 1689.9093296\ttotal: 5.1s\tremaining: 300ms\n",
      "85:\tlearn: 1688.4956740\ttotal: 5.17s\tremaining: 240ms\n",
      "86:\tlearn: 1686.9283516\ttotal: 5.24s\tremaining: 181ms\n",
      "87:\tlearn: 1685.1423306\ttotal: 5.28s\tremaining: 120ms\n",
      "88:\tlearn: 1683.4397241\ttotal: 5.33s\tremaining: 59.9ms\n",
      "89:\tlearn: 1682.5094770\ttotal: 5.38s\tremaining: 0us\n",
      "Learning rate set to 0.5\n",
      "0:\tlearn: 3323.9341829\ttotal: 34.9ms\tremaining: 3.8s\n",
      "1:\tlearn: 2779.3710350\ttotal: 72.5ms\tremaining: 3.91s\n",
      "2:\tlearn: 2554.5345517\ttotal: 109ms\tremaining: 3.88s\n",
      "3:\tlearn: 2398.3322330\ttotal: 139ms\tremaining: 3.67s\n",
      "4:\tlearn: 2321.2938962\ttotal: 169ms\tremaining: 3.54s\n",
      "5:\tlearn: 2271.5072203\ttotal: 198ms\tremaining: 3.44s\n",
      "6:\tlearn: 2230.3355919\ttotal: 226ms\tremaining: 3.33s\n",
      "7:\tlearn: 2191.8069785\ttotal: 259ms\tremaining: 3.3s\n",
      "8:\tlearn: 2164.9613145\ttotal: 290ms\tremaining: 3.25s\n",
      "9:\tlearn: 2141.3317652\ttotal: 318ms\tremaining: 3.18s\n",
      "10:\tlearn: 2126.0146273\ttotal: 346ms\tremaining: 3.11s\n",
      "11:\tlearn: 2108.1688639\ttotal: 377ms\tremaining: 3.08s\n",
      "12:\tlearn: 2093.0214239\ttotal: 405ms\tremaining: 3.02s\n",
      "13:\tlearn: 2081.5448933\ttotal: 432ms\tremaining: 2.96s\n",
      "14:\tlearn: 2065.1802382\ttotal: 466ms\tremaining: 2.95s\n",
      "15:\tlearn: 2058.4693388\ttotal: 493ms\tremaining: 2.9s\n",
      "16:\tlearn: 2049.6528962\ttotal: 521ms\tremaining: 2.85s\n",
      "17:\tlearn: 2043.6430424\ttotal: 549ms\tremaining: 2.8s\n",
      "18:\tlearn: 2037.7266909\ttotal: 584ms\tremaining: 2.79s\n",
      "19:\tlearn: 2030.5178778\ttotal: 623ms\tremaining: 2.8s\n",
      "20:\tlearn: 2022.7743832\ttotal: 667ms\tremaining: 2.83s\n",
      "21:\tlearn: 2018.6971919\ttotal: 703ms\tremaining: 2.81s\n",
      "22:\tlearn: 2010.8877932\ttotal: 739ms\tremaining: 2.79s\n",
      "23:\tlearn: 2002.6480569\ttotal: 770ms\tremaining: 2.76s\n",
      "24:\tlearn: 1999.0916497\ttotal: 793ms\tremaining: 2.7s\n",
      "25:\tlearn: 1991.7992535\ttotal: 822ms\tremaining: 2.66s\n",
      "26:\tlearn: 1985.4590854\ttotal: 848ms\tremaining: 2.61s\n",
      "27:\tlearn: 1981.4920930\ttotal: 874ms\tremaining: 2.56s\n",
      "28:\tlearn: 1977.4078175\ttotal: 907ms\tremaining: 2.53s\n",
      "29:\tlearn: 1971.6572551\ttotal: 935ms\tremaining: 2.49s\n",
      "30:\tlearn: 1965.3009119\ttotal: 963ms\tremaining: 2.45s\n",
      "31:\tlearn: 1959.3547711\ttotal: 994ms\tremaining: 2.42s\n",
      "32:\tlearn: 1952.5972150\ttotal: 1.02s\tremaining: 2.38s\n",
      "33:\tlearn: 1948.2968643\ttotal: 1.05s\tremaining: 2.35s\n",
      "34:\tlearn: 1946.0585318\ttotal: 1.07s\tremaining: 2.3s\n",
      "35:\tlearn: 1942.3024658\ttotal: 1.1s\tremaining: 2.27s\n",
      "36:\tlearn: 1939.3531149\ttotal: 1.13s\tremaining: 2.23s\n",
      "37:\tlearn: 1935.2336744\ttotal: 1.16s\tremaining: 2.2s\n",
      "38:\tlearn: 1932.4442708\ttotal: 1.19s\tremaining: 2.16s\n",
      "39:\tlearn: 1930.5392334\ttotal: 1.21s\tremaining: 2.13s\n",
      "40:\tlearn: 1927.5549782\ttotal: 1.24s\tremaining: 2.09s\n",
      "41:\tlearn: 1923.5414068\ttotal: 1.27s\tremaining: 2.06s\n",
      "42:\tlearn: 1921.4037772\ttotal: 1.3s\tremaining: 2.03s\n",
      "43:\tlearn: 1919.0965762\ttotal: 1.33s\tremaining: 1.99s\n",
      "44:\tlearn: 1917.2104352\ttotal: 1.35s\tremaining: 1.96s\n",
      "45:\tlearn: 1914.9354400\ttotal: 1.39s\tremaining: 1.93s\n",
      "46:\tlearn: 1910.2213328\ttotal: 1.41s\tremaining: 1.9s\n",
      "47:\tlearn: 1906.1577248\ttotal: 1.44s\tremaining: 1.86s\n",
      "48:\tlearn: 1904.4946909\ttotal: 1.47s\tremaining: 1.83s\n",
      "49:\tlearn: 1902.8232671\ttotal: 1.49s\tremaining: 1.79s\n",
      "50:\tlearn: 1900.0712937\ttotal: 1.52s\tremaining: 1.76s\n",
      "51:\tlearn: 1897.8727966\ttotal: 1.55s\tremaining: 1.73s\n",
      "52:\tlearn: 1895.4410500\ttotal: 1.58s\tremaining: 1.7s\n",
      "53:\tlearn: 1893.3753283\ttotal: 1.61s\tremaining: 1.67s\n",
      "54:\tlearn: 1890.9403205\ttotal: 1.63s\tremaining: 1.63s\n",
      "55:\tlearn: 1888.5602452\ttotal: 1.66s\tremaining: 1.6s\n",
      "56:\tlearn: 1886.5991265\ttotal: 1.7s\tremaining: 1.58s\n",
      "57:\tlearn: 1883.4253326\ttotal: 1.73s\tremaining: 1.55s\n",
      "58:\tlearn: 1881.4520101\ttotal: 1.75s\tremaining: 1.52s\n",
      "59:\tlearn: 1879.8514127\ttotal: 1.78s\tremaining: 1.48s\n",
      "60:\tlearn: 1878.2864042\ttotal: 1.8s\tremaining: 1.45s\n",
      "61:\tlearn: 1876.7706879\ttotal: 1.83s\tremaining: 1.42s\n",
      "62:\tlearn: 1875.1633805\ttotal: 1.86s\tremaining: 1.39s\n",
      "63:\tlearn: 1872.6294626\ttotal: 1.89s\tremaining: 1.36s\n",
      "64:\tlearn: 1869.5354431\ttotal: 1.92s\tremaining: 1.33s\n",
      "65:\tlearn: 1868.3225024\ttotal: 1.95s\tremaining: 1.3s\n",
      "66:\tlearn: 1866.9650525\ttotal: 1.98s\tremaining: 1.27s\n",
      "67:\tlearn: 1865.9151578\ttotal: 2s\tremaining: 1.24s\n",
      "68:\tlearn: 1864.2709827\ttotal: 2.02s\tremaining: 1.2s\n",
      "69:\tlearn: 1862.5751200\ttotal: 2.06s\tremaining: 1.18s\n",
      "70:\tlearn: 1860.7656777\ttotal: 2.09s\tremaining: 1.15s\n",
      "71:\tlearn: 1859.6608850\ttotal: 2.11s\tremaining: 1.11s\n",
      "72:\tlearn: 1858.4677147\ttotal: 2.14s\tremaining: 1.08s\n",
      "73:\tlearn: 1857.0487561\ttotal: 2.17s\tremaining: 1.05s\n",
      "74:\tlearn: 1854.9995138\ttotal: 2.2s\tremaining: 1.03s\n",
      "75:\tlearn: 1853.7115537\ttotal: 2.23s\tremaining: 997ms\n",
      "76:\tlearn: 1852.3667035\ttotal: 2.26s\tremaining: 967ms\n",
      "77:\tlearn: 1851.3458592\ttotal: 2.29s\tremaining: 938ms\n",
      "78:\tlearn: 1850.2786349\ttotal: 2.31s\tremaining: 906ms\n",
      "79:\tlearn: 1848.7032171\ttotal: 2.33s\tremaining: 874ms\n",
      "80:\tlearn: 1846.7410039\ttotal: 2.36s\tremaining: 845ms\n",
      "81:\tlearn: 1846.0208829\ttotal: 2.39s\tremaining: 816ms\n",
      "82:\tlearn: 1844.4300037\ttotal: 2.42s\tremaining: 787ms\n",
      "83:\tlearn: 1843.6412710\ttotal: 2.45s\tremaining: 757ms\n",
      "84:\tlearn: 1842.6341712\ttotal: 2.48s\tremaining: 730ms\n",
      "85:\tlearn: 1839.8328653\ttotal: 2.51s\tremaining: 702ms\n",
      "86:\tlearn: 1837.9831493\ttotal: 2.55s\tremaining: 673ms\n",
      "87:\tlearn: 1836.0823908\ttotal: 2.6s\tremaining: 649ms\n",
      "88:\tlearn: 1834.5091556\ttotal: 2.64s\tremaining: 622ms\n",
      "89:\tlearn: 1833.5538922\ttotal: 2.68s\tremaining: 596ms\n",
      "90:\tlearn: 1832.7795319\ttotal: 2.71s\tremaining: 567ms\n",
      "91:\tlearn: 1831.6688620\ttotal: 2.74s\tremaining: 536ms\n",
      "92:\tlearn: 1830.7178932\ttotal: 2.77s\tremaining: 507ms\n",
      "93:\tlearn: 1829.9947389\ttotal: 2.8s\tremaining: 477ms\n",
      "94:\tlearn: 1828.3306455\ttotal: 2.83s\tremaining: 447ms\n",
      "95:\tlearn: 1826.8246802\ttotal: 2.87s\tremaining: 418ms\n",
      "96:\tlearn: 1825.8923884\ttotal: 2.9s\tremaining: 389ms\n",
      "97:\tlearn: 1824.3687310\ttotal: 2.94s\tremaining: 360ms\n",
      "98:\tlearn: 1823.1520825\ttotal: 2.97s\tremaining: 330ms\n",
      "99:\tlearn: 1822.0495372\ttotal: 3s\tremaining: 300ms\n",
      "100:\tlearn: 1820.7928062\ttotal: 3.03s\tremaining: 270ms\n",
      "101:\tlearn: 1819.3195262\ttotal: 3.07s\tremaining: 241ms\n",
      "102:\tlearn: 1818.4094485\ttotal: 3.1s\tremaining: 210ms\n",
      "103:\tlearn: 1816.6560049\ttotal: 3.13s\tremaining: 181ms\n",
      "104:\tlearn: 1816.0792806\ttotal: 3.16s\tremaining: 150ms\n",
      "105:\tlearn: 1815.2431166\ttotal: 3.19s\tremaining: 120ms\n",
      "106:\tlearn: 1814.7260088\ttotal: 3.21s\tremaining: 90ms\n",
      "107:\tlearn: 1813.4296756\ttotal: 3.24s\tremaining: 60ms\n",
      "108:\tlearn: 1812.3470103\ttotal: 3.27s\tremaining: 30ms\n",
      "109:\tlearn: 1811.3570893\ttotal: 3.29s\tremaining: 0us\n",
      "Learning rate set to 0.5\n",
      "0:\tlearn: 3226.2911192\ttotal: 39.5ms\tremaining: 4.31s\n",
      "1:\tlearn: 2661.3234805\ttotal: 78.6ms\tremaining: 4.24s\n",
      "2:\tlearn: 2420.5803482\ttotal: 120ms\tremaining: 4.28s\n",
      "3:\tlearn: 2299.9941583\ttotal: 156ms\tremaining: 4.12s\n",
      "4:\tlearn: 2216.8175356\ttotal: 194ms\tremaining: 4.08s\n",
      "5:\tlearn: 2159.3772556\ttotal: 232ms\tremaining: 4.01s\n",
      "6:\tlearn: 2124.6969832\ttotal: 261ms\tremaining: 3.85s\n",
      "7:\tlearn: 2091.0959012\ttotal: 294ms\tremaining: 3.75s\n",
      "8:\tlearn: 2066.9770695\ttotal: 337ms\tremaining: 3.78s\n",
      "9:\tlearn: 2051.1067163\ttotal: 372ms\tremaining: 3.71s\n",
      "10:\tlearn: 2037.8666396\ttotal: 403ms\tremaining: 3.63s\n",
      "11:\tlearn: 2021.0380009\ttotal: 449ms\tremaining: 3.67s\n",
      "12:\tlearn: 2009.5588887\ttotal: 489ms\tremaining: 3.65s\n",
      "13:\tlearn: 1995.3022927\ttotal: 533ms\tremaining: 3.65s\n",
      "14:\tlearn: 1985.3255280\ttotal: 574ms\tremaining: 3.63s\n",
      "15:\tlearn: 1977.8409537\ttotal: 605ms\tremaining: 3.56s\n",
      "16:\tlearn: 1969.2484721\ttotal: 642ms\tremaining: 3.51s\n",
      "17:\tlearn: 1960.4351435\ttotal: 674ms\tremaining: 3.44s\n",
      "18:\tlearn: 1951.1876315\ttotal: 704ms\tremaining: 3.37s\n",
      "19:\tlearn: 1946.6567531\ttotal: 731ms\tremaining: 3.29s\n",
      "20:\tlearn: 1941.7514900\ttotal: 765ms\tremaining: 3.24s\n",
      "21:\tlearn: 1933.9053171\ttotal: 797ms\tremaining: 3.19s\n",
      "22:\tlearn: 1931.1010633\ttotal: 827ms\tremaining: 3.13s\n",
      "23:\tlearn: 1925.1256763\ttotal: 861ms\tremaining: 3.08s\n",
      "24:\tlearn: 1921.9821809\ttotal: 906ms\tremaining: 3.08s\n",
      "25:\tlearn: 1919.0048747\ttotal: 948ms\tremaining: 3.06s\n",
      "26:\tlearn: 1913.9936462\ttotal: 990ms\tremaining: 3.04s\n",
      "27:\tlearn: 1907.9525512\ttotal: 1.02s\tremaining: 3s\n",
      "28:\tlearn: 1903.7386877\ttotal: 1.06s\tremaining: 2.95s\n",
      "29:\tlearn: 1897.0051474\ttotal: 1.09s\tremaining: 2.9s\n",
      "30:\tlearn: 1890.8368766\ttotal: 1.13s\tremaining: 2.87s\n",
      "31:\tlearn: 1884.2427550\ttotal: 1.17s\tremaining: 2.85s\n",
      "32:\tlearn: 1878.3834133\ttotal: 1.2s\tremaining: 2.81s\n",
      "33:\tlearn: 1872.8046483\ttotal: 1.24s\tremaining: 2.77s\n",
      "34:\tlearn: 1869.1428086\ttotal: 1.27s\tremaining: 2.73s\n",
      "35:\tlearn: 1866.9353662\ttotal: 1.3s\tremaining: 2.68s\n",
      "36:\tlearn: 1863.9451731\ttotal: 1.34s\tremaining: 2.64s\n",
      "37:\tlearn: 1860.0081450\ttotal: 1.38s\tremaining: 2.6s\n",
      "38:\tlearn: 1858.4160731\ttotal: 1.41s\tremaining: 2.56s\n",
      "39:\tlearn: 1855.8105609\ttotal: 1.44s\tremaining: 2.53s\n",
      "40:\tlearn: 1850.1030470\ttotal: 1.49s\tremaining: 2.51s\n",
      "41:\tlearn: 1845.8624592\ttotal: 1.53s\tremaining: 2.48s\n",
      "42:\tlearn: 1841.0598075\ttotal: 1.58s\tremaining: 2.46s\n",
      "43:\tlearn: 1838.3738689\ttotal: 1.62s\tremaining: 2.42s\n",
      "44:\tlearn: 1834.6108545\ttotal: 1.65s\tremaining: 2.39s\n",
      "45:\tlearn: 1831.1287881\ttotal: 1.69s\tremaining: 2.35s\n",
      "46:\tlearn: 1827.5997063\ttotal: 1.72s\tremaining: 2.31s\n",
      "47:\tlearn: 1825.5259460\ttotal: 1.75s\tremaining: 2.26s\n",
      "48:\tlearn: 1822.8905954\ttotal: 1.79s\tremaining: 2.23s\n",
      "49:\tlearn: 1819.1325220\ttotal: 1.83s\tremaining: 2.19s\n",
      "50:\tlearn: 1815.8623081\ttotal: 1.87s\tremaining: 2.16s\n",
      "51:\tlearn: 1813.6629083\ttotal: 1.9s\tremaining: 2.12s\n",
      "52:\tlearn: 1811.5220100\ttotal: 1.93s\tremaining: 2.08s\n",
      "53:\tlearn: 1810.0598281\ttotal: 1.97s\tremaining: 2.04s\n",
      "54:\tlearn: 1809.0166523\ttotal: 2.01s\tremaining: 2.01s\n",
      "55:\tlearn: 1806.8819156\ttotal: 2.04s\tremaining: 1.97s\n",
      "56:\tlearn: 1804.8847933\ttotal: 2.08s\tremaining: 1.93s\n",
      "57:\tlearn: 1803.3260310\ttotal: 2.11s\tremaining: 1.89s\n",
      "58:\tlearn: 1801.2677084\ttotal: 2.14s\tremaining: 1.85s\n",
      "59:\tlearn: 1799.6745800\ttotal: 2.17s\tremaining: 1.81s\n",
      "60:\tlearn: 1798.0327087\ttotal: 2.21s\tremaining: 1.77s\n",
      "61:\tlearn: 1795.9972347\ttotal: 2.24s\tremaining: 1.74s\n",
      "62:\tlearn: 1794.3360864\ttotal: 2.28s\tremaining: 1.7s\n",
      "63:\tlearn: 1792.3258205\ttotal: 2.31s\tremaining: 1.66s\n",
      "64:\tlearn: 1790.6325806\ttotal: 2.35s\tremaining: 1.63s\n",
      "65:\tlearn: 1789.3777404\ttotal: 2.38s\tremaining: 1.59s\n",
      "66:\tlearn: 1788.0891502\ttotal: 2.43s\tremaining: 1.56s\n",
      "67:\tlearn: 1786.5987883\ttotal: 2.47s\tremaining: 1.53s\n",
      "68:\tlearn: 1784.8913990\ttotal: 2.51s\tremaining: 1.49s\n",
      "69:\tlearn: 1782.4039403\ttotal: 2.56s\tremaining: 1.46s\n",
      "70:\tlearn: 1781.2112609\ttotal: 2.6s\tremaining: 1.43s\n",
      "71:\tlearn: 1779.5121459\ttotal: 2.64s\tremaining: 1.39s\n",
      "72:\tlearn: 1778.0417244\ttotal: 2.67s\tremaining: 1.35s\n",
      "73:\tlearn: 1775.5706967\ttotal: 2.71s\tremaining: 1.32s\n",
      "74:\tlearn: 1773.5580288\ttotal: 2.74s\tremaining: 1.28s\n",
      "75:\tlearn: 1772.0256581\ttotal: 2.78s\tremaining: 1.24s\n",
      "76:\tlearn: 1770.2813911\ttotal: 2.81s\tremaining: 1.21s\n",
      "77:\tlearn: 1768.7417484\ttotal: 2.85s\tremaining: 1.17s\n",
      "78:\tlearn: 1767.6060861\ttotal: 2.88s\tremaining: 1.13s\n",
      "79:\tlearn: 1765.4496809\ttotal: 2.92s\tremaining: 1.09s\n",
      "80:\tlearn: 1764.2498674\ttotal: 2.95s\tremaining: 1.05s\n",
      "81:\tlearn: 1762.8855268\ttotal: 2.98s\tremaining: 1.02s\n",
      "82:\tlearn: 1761.3645425\ttotal: 3.01s\tremaining: 980ms\n",
      "83:\tlearn: 1760.1636413\ttotal: 3.05s\tremaining: 943ms\n",
      "84:\tlearn: 1757.7184339\ttotal: 3.09s\tremaining: 909ms\n",
      "85:\tlearn: 1756.6054777\ttotal: 3.12s\tremaining: 871ms\n",
      "86:\tlearn: 1755.4955165\ttotal: 3.15s\tremaining: 833ms\n",
      "87:\tlearn: 1754.4704589\ttotal: 3.18s\tremaining: 796ms\n",
      "88:\tlearn: 1752.8359472\ttotal: 3.21s\tremaining: 759ms\n",
      "89:\tlearn: 1752.2436153\ttotal: 3.25s\tremaining: 722ms\n",
      "90:\tlearn: 1750.4280393\ttotal: 3.29s\tremaining: 686ms\n",
      "91:\tlearn: 1748.5737591\ttotal: 3.32s\tremaining: 650ms\n",
      "92:\tlearn: 1747.0238173\ttotal: 3.36s\tremaining: 614ms\n",
      "93:\tlearn: 1746.1539056\ttotal: 3.39s\tremaining: 577ms\n",
      "94:\tlearn: 1745.0177436\ttotal: 3.43s\tremaining: 542ms\n",
      "95:\tlearn: 1743.7526755\ttotal: 3.48s\tremaining: 508ms\n",
      "96:\tlearn: 1742.9862330\ttotal: 3.52s\tremaining: 472ms\n",
      "97:\tlearn: 1742.1255067\ttotal: 3.56s\tremaining: 436ms\n",
      "98:\tlearn: 1740.9923628\ttotal: 3.6s\tremaining: 400ms\n",
      "99:\tlearn: 1740.3594677\ttotal: 3.64s\tremaining: 364ms\n",
      "100:\tlearn: 1738.4111910\ttotal: 3.67s\tremaining: 327ms\n",
      "101:\tlearn: 1737.0185582\ttotal: 3.71s\tremaining: 291ms\n",
      "102:\tlearn: 1735.7507016\ttotal: 3.74s\tremaining: 254ms\n",
      "103:\tlearn: 1734.7369217\ttotal: 3.77s\tremaining: 218ms\n",
      "104:\tlearn: 1733.6682785\ttotal: 3.81s\tremaining: 181ms\n",
      "105:\tlearn: 1732.8637164\ttotal: 3.84s\tremaining: 145ms\n",
      "106:\tlearn: 1731.3879420\ttotal: 3.87s\tremaining: 109ms\n",
      "107:\tlearn: 1730.1346227\ttotal: 3.91s\tremaining: 72.4ms\n",
      "108:\tlearn: 1729.2483933\ttotal: 3.94s\tremaining: 36.2ms\n",
      "109:\tlearn: 1728.0543600\ttotal: 3.97s\tremaining: 0us\n",
      "Learning rate set to 0.5\n",
      "0:\tlearn: 3149.6161803\ttotal: 55.3ms\tremaining: 6.03s\n",
      "1:\tlearn: 2556.4610314\ttotal: 102ms\tremaining: 5.5s\n",
      "2:\tlearn: 2322.1322159\ttotal: 177ms\tremaining: 6.31s\n",
      "3:\tlearn: 2181.6411761\ttotal: 251ms\tremaining: 6.66s\n",
      "4:\tlearn: 2115.0515863\ttotal: 313ms\tremaining: 6.56s\n",
      "5:\tlearn: 2062.2041703\ttotal: 374ms\tremaining: 6.49s\n",
      "6:\tlearn: 2036.3563083\ttotal: 430ms\tremaining: 6.33s\n",
      "7:\tlearn: 2008.4292025\ttotal: 485ms\tremaining: 6.18s\n",
      "8:\tlearn: 1976.6647005\ttotal: 551ms\tremaining: 6.18s\n",
      "9:\tlearn: 1958.8425667\ttotal: 613ms\tremaining: 6.13s\n",
      "10:\tlearn: 1946.6772392\ttotal: 678ms\tremaining: 6.11s\n",
      "11:\tlearn: 1935.4674271\ttotal: 737ms\tremaining: 6.02s\n",
      "12:\tlearn: 1927.7985211\ttotal: 792ms\tremaining: 5.91s\n",
      "13:\tlearn: 1919.2514944\ttotal: 850ms\tremaining: 5.83s\n",
      "14:\tlearn: 1909.5877999\ttotal: 905ms\tremaining: 5.73s\n",
      "15:\tlearn: 1899.7339346\ttotal: 960ms\tremaining: 5.64s\n",
      "16:\tlearn: 1892.0695005\ttotal: 1.02s\tremaining: 5.57s\n",
      "17:\tlearn: 1887.0024210\ttotal: 1.06s\tremaining: 5.44s\n",
      "18:\tlearn: 1882.4793221\ttotal: 1.12s\tremaining: 5.36s\n",
      "19:\tlearn: 1873.1168675\ttotal: 1.21s\tremaining: 5.44s\n",
      "20:\tlearn: 1867.3411276\ttotal: 1.31s\tremaining: 5.58s\n",
      "21:\tlearn: 1861.0664086\ttotal: 1.39s\tremaining: 5.56s\n",
      "22:\tlearn: 1853.4795442\ttotal: 1.46s\tremaining: 5.54s\n",
      "23:\tlearn: 1849.7026197\ttotal: 1.52s\tremaining: 5.45s\n",
      "24:\tlearn: 1844.6132328\ttotal: 1.58s\tremaining: 5.36s\n",
      "25:\tlearn: 1842.5903807\ttotal: 1.63s\tremaining: 5.27s\n",
      "26:\tlearn: 1838.5393133\ttotal: 1.7s\tremaining: 5.22s\n",
      "27:\tlearn: 1831.5055731\ttotal: 1.77s\tremaining: 5.17s\n",
      "28:\tlearn: 1826.7208255\ttotal: 1.83s\tremaining: 5.12s\n",
      "29:\tlearn: 1823.8611105\ttotal: 1.88s\tremaining: 5.02s\n",
      "30:\tlearn: 1818.8907323\ttotal: 1.93s\tremaining: 4.93s\n",
      "31:\tlearn: 1816.6084834\ttotal: 1.98s\tremaining: 4.82s\n",
      "32:\tlearn: 1811.6472316\ttotal: 2.02s\tremaining: 4.72s\n",
      "33:\tlearn: 1806.8205612\ttotal: 2.07s\tremaining: 4.63s\n",
      "34:\tlearn: 1801.2564309\ttotal: 2.12s\tremaining: 4.54s\n",
      "35:\tlearn: 1797.4448371\ttotal: 2.17s\tremaining: 4.47s\n",
      "36:\tlearn: 1793.8584016\ttotal: 2.24s\tremaining: 4.42s\n",
      "37:\tlearn: 1790.0575808\ttotal: 2.3s\tremaining: 4.36s\n",
      "38:\tlearn: 1786.9244852\ttotal: 2.35s\tremaining: 4.29s\n",
      "39:\tlearn: 1784.6315723\ttotal: 2.41s\tremaining: 4.22s\n",
      "40:\tlearn: 1781.6119618\ttotal: 2.46s\tremaining: 4.15s\n",
      "41:\tlearn: 1778.9787586\ttotal: 2.52s\tremaining: 4.08s\n",
      "42:\tlearn: 1775.9345594\ttotal: 2.57s\tremaining: 4s\n",
      "43:\tlearn: 1771.1328586\ttotal: 2.63s\tremaining: 3.95s\n",
      "44:\tlearn: 1767.5159652\ttotal: 2.68s\tremaining: 3.87s\n",
      "45:\tlearn: 1764.9839331\ttotal: 2.74s\tremaining: 3.81s\n",
      "46:\tlearn: 1762.4027191\ttotal: 2.79s\tremaining: 3.75s\n",
      "47:\tlearn: 1759.7381135\ttotal: 2.86s\tremaining: 3.69s\n",
      "48:\tlearn: 1757.6876063\ttotal: 2.92s\tremaining: 3.63s\n",
      "49:\tlearn: 1755.3359418\ttotal: 2.97s\tremaining: 3.57s\n",
      "50:\tlearn: 1752.6172911\ttotal: 3.03s\tremaining: 3.51s\n",
      "51:\tlearn: 1749.3025817\ttotal: 3.09s\tremaining: 3.45s\n",
      "52:\tlearn: 1746.5317964\ttotal: 3.16s\tremaining: 3.4s\n",
      "53:\tlearn: 1744.2201047\ttotal: 3.22s\tremaining: 3.34s\n",
      "54:\tlearn: 1742.3366615\ttotal: 3.27s\tremaining: 3.27s\n",
      "55:\tlearn: 1741.0052810\ttotal: 3.32s\tremaining: 3.2s\n",
      "56:\tlearn: 1738.7448844\ttotal: 3.37s\tremaining: 3.13s\n",
      "57:\tlearn: 1736.6030895\ttotal: 3.41s\tremaining: 3.06s\n",
      "58:\tlearn: 1734.5058468\ttotal: 3.45s\tremaining: 2.98s\n",
      "59:\tlearn: 1732.6242158\ttotal: 3.5s\tremaining: 2.92s\n",
      "60:\tlearn: 1729.3694171\ttotal: 3.55s\tremaining: 2.85s\n",
      "61:\tlearn: 1727.9416414\ttotal: 3.65s\tremaining: 2.83s\n",
      "62:\tlearn: 1725.3405389\ttotal: 3.73s\tremaining: 2.78s\n",
      "63:\tlearn: 1724.1726029\ttotal: 3.78s\tremaining: 2.72s\n",
      "64:\tlearn: 1722.3919915\ttotal: 3.84s\tremaining: 2.66s\n",
      "65:\tlearn: 1720.7802439\ttotal: 3.88s\tremaining: 2.59s\n",
      "66:\tlearn: 1719.3615903\ttotal: 3.93s\tremaining: 2.52s\n",
      "67:\tlearn: 1716.7552866\ttotal: 3.99s\tremaining: 2.46s\n",
      "68:\tlearn: 1714.9536833\ttotal: 4.03s\tremaining: 2.39s\n",
      "69:\tlearn: 1713.3389866\ttotal: 4.07s\tremaining: 2.33s\n",
      "70:\tlearn: 1711.6143535\ttotal: 4.12s\tremaining: 2.26s\n",
      "71:\tlearn: 1710.3570130\ttotal: 4.17s\tremaining: 2.2s\n",
      "72:\tlearn: 1708.6607345\ttotal: 4.21s\tremaining: 2.13s\n",
      "73:\tlearn: 1706.4842367\ttotal: 4.26s\tremaining: 2.07s\n",
      "74:\tlearn: 1704.8553876\ttotal: 4.3s\tremaining: 2.01s\n",
      "75:\tlearn: 1703.5938718\ttotal: 4.35s\tremaining: 1.95s\n",
      "76:\tlearn: 1702.2697139\ttotal: 4.39s\tremaining: 1.88s\n",
      "77:\tlearn: 1700.8469697\ttotal: 4.44s\tremaining: 1.82s\n",
      "78:\tlearn: 1699.7319319\ttotal: 4.48s\tremaining: 1.76s\n",
      "79:\tlearn: 1697.5311156\ttotal: 4.53s\tremaining: 1.7s\n",
      "80:\tlearn: 1695.8545212\ttotal: 4.57s\tremaining: 1.64s\n",
      "81:\tlearn: 1695.0940924\ttotal: 4.61s\tremaining: 1.57s\n",
      "82:\tlearn: 1692.8369641\ttotal: 4.66s\tremaining: 1.51s\n",
      "83:\tlearn: 1691.3199631\ttotal: 4.7s\tremaining: 1.45s\n",
      "84:\tlearn: 1689.9093296\ttotal: 4.74s\tremaining: 1.4s\n",
      "85:\tlearn: 1688.4956740\ttotal: 4.8s\tremaining: 1.34s\n",
      "86:\tlearn: 1686.9283516\ttotal: 4.84s\tremaining: 1.28s\n",
      "87:\tlearn: 1685.1423306\ttotal: 4.89s\tremaining: 1.22s\n",
      "88:\tlearn: 1683.4397241\ttotal: 4.93s\tremaining: 1.16s\n",
      "89:\tlearn: 1682.5094770\ttotal: 4.97s\tremaining: 1.1s\n",
      "90:\tlearn: 1680.6103048\ttotal: 5.02s\tremaining: 1.05s\n",
      "91:\tlearn: 1679.7855644\ttotal: 5.07s\tremaining: 992ms\n",
      "92:\tlearn: 1678.5303188\ttotal: 5.12s\tremaining: 936ms\n",
      "93:\tlearn: 1677.2280281\ttotal: 5.2s\tremaining: 885ms\n",
      "94:\tlearn: 1675.3565991\ttotal: 5.29s\tremaining: 836ms\n",
      "95:\tlearn: 1673.4554933\ttotal: 5.34s\tremaining: 780ms\n",
      "96:\tlearn: 1670.9844284\ttotal: 5.4s\tremaining: 723ms\n",
      "97:\tlearn: 1669.2010215\ttotal: 5.45s\tremaining: 667ms\n",
      "98:\tlearn: 1667.7216446\ttotal: 5.49s\tremaining: 610ms\n",
      "99:\tlearn: 1666.7962356\ttotal: 5.55s\tremaining: 555ms\n",
      "100:\tlearn: 1665.1153398\ttotal: 5.6s\tremaining: 499ms\n",
      "101:\tlearn: 1664.1810066\ttotal: 5.65s\tremaining: 443ms\n",
      "102:\tlearn: 1663.7588376\ttotal: 5.69s\tremaining: 387ms\n",
      "103:\tlearn: 1661.9089101\ttotal: 5.74s\tremaining: 331ms\n",
      "104:\tlearn: 1660.8962160\ttotal: 5.78s\tremaining: 275ms\n",
      "105:\tlearn: 1659.7670693\ttotal: 5.83s\tremaining: 220ms\n",
      "106:\tlearn: 1658.4130301\ttotal: 5.88s\tremaining: 165ms\n",
      "107:\tlearn: 1656.9399663\ttotal: 5.92s\tremaining: 110ms\n",
      "108:\tlearn: 1655.1406822\ttotal: 5.97s\tremaining: 54.8ms\n",
      "109:\tlearn: 1654.2897164\ttotal: 6.02s\tremaining: 0us\n",
      "Learning rate set to 0.5\n",
      "0:\tlearn: 3323.9341829\ttotal: 38ms\tremaining: 4.89s\n",
      "1:\tlearn: 2779.3710350\ttotal: 73.8ms\tremaining: 4.72s\n",
      "2:\tlearn: 2554.5345517\ttotal: 111ms\tremaining: 4.7s\n",
      "3:\tlearn: 2398.3322330\ttotal: 146ms\tremaining: 4.6s\n",
      "4:\tlearn: 2321.2938962\ttotal: 179ms\tremaining: 4.47s\n",
      "5:\tlearn: 2271.5072203\ttotal: 213ms\tremaining: 4.41s\n",
      "6:\tlearn: 2230.3355919\ttotal: 247ms\tremaining: 4.33s\n",
      "7:\tlearn: 2191.8069785\ttotal: 281ms\tremaining: 4.29s\n",
      "8:\tlearn: 2164.9613145\ttotal: 310ms\tremaining: 4.16s\n",
      "9:\tlearn: 2141.3317652\ttotal: 338ms\tremaining: 4.05s\n",
      "10:\tlearn: 2126.0146273\ttotal: 366ms\tremaining: 3.96s\n",
      "11:\tlearn: 2108.1688639\ttotal: 394ms\tremaining: 3.88s\n",
      "12:\tlearn: 2093.0214239\ttotal: 421ms\tremaining: 3.79s\n",
      "13:\tlearn: 2081.5448933\ttotal: 448ms\tremaining: 3.71s\n",
      "14:\tlearn: 2065.1802382\ttotal: 481ms\tremaining: 3.69s\n",
      "15:\tlearn: 2058.4693388\ttotal: 523ms\tremaining: 3.73s\n",
      "16:\tlearn: 2049.6528962\ttotal: 561ms\tremaining: 3.73s\n",
      "17:\tlearn: 2043.6430424\ttotal: 592ms\tremaining: 3.68s\n",
      "18:\tlearn: 2037.7266909\ttotal: 622ms\tremaining: 3.63s\n",
      "19:\tlearn: 2030.5178778\ttotal: 653ms\tremaining: 3.59s\n",
      "20:\tlearn: 2022.7743832\ttotal: 685ms\tremaining: 3.55s\n",
      "21:\tlearn: 2018.6971919\ttotal: 710ms\tremaining: 3.49s\n",
      "22:\tlearn: 2010.8877932\ttotal: 747ms\tremaining: 3.47s\n",
      "23:\tlearn: 2002.6480569\ttotal: 782ms\tremaining: 3.45s\n",
      "24:\tlearn: 1999.0916497\ttotal: 809ms\tremaining: 3.4s\n",
      "25:\tlearn: 1991.7992535\ttotal: 845ms\tremaining: 3.38s\n",
      "26:\tlearn: 1985.4590854\ttotal: 879ms\tremaining: 3.35s\n",
      "27:\tlearn: 1981.4920930\ttotal: 910ms\tremaining: 3.31s\n",
      "28:\tlearn: 1977.4078175\ttotal: 944ms\tremaining: 3.29s\n",
      "29:\tlearn: 1971.6572551\ttotal: 976ms\tremaining: 3.25s\n",
      "30:\tlearn: 1965.3009119\ttotal: 1.01s\tremaining: 3.23s\n",
      "31:\tlearn: 1959.3547711\ttotal: 1.05s\tremaining: 3.21s\n",
      "32:\tlearn: 1952.5972150\ttotal: 1.08s\tremaining: 3.19s\n",
      "33:\tlearn: 1948.2968643\ttotal: 1.12s\tremaining: 3.16s\n",
      "34:\tlearn: 1946.0585318\ttotal: 1.15s\tremaining: 3.12s\n",
      "35:\tlearn: 1942.3024658\ttotal: 1.18s\tremaining: 3.08s\n",
      "36:\tlearn: 1939.3531149\ttotal: 1.21s\tremaining: 3.04s\n",
      "37:\tlearn: 1935.2336744\ttotal: 1.25s\tremaining: 3.03s\n",
      "38:\tlearn: 1932.4442708\ttotal: 1.29s\tremaining: 3.02s\n",
      "39:\tlearn: 1930.5392334\ttotal: 1.32s\tremaining: 2.97s\n",
      "40:\tlearn: 1927.5549782\ttotal: 1.35s\tremaining: 2.94s\n",
      "41:\tlearn: 1923.5414068\ttotal: 1.39s\tremaining: 2.91s\n",
      "42:\tlearn: 1921.4037772\ttotal: 1.42s\tremaining: 2.87s\n",
      "43:\tlearn: 1919.0965762\ttotal: 1.45s\tremaining: 2.83s\n",
      "44:\tlearn: 1917.2104352\ttotal: 1.5s\tremaining: 2.84s\n",
      "45:\tlearn: 1914.9354400\ttotal: 1.55s\tremaining: 2.84s\n",
      "46:\tlearn: 1910.2213328\ttotal: 1.6s\tremaining: 2.82s\n",
      "47:\tlearn: 1906.1577248\ttotal: 1.65s\tremaining: 2.81s\n",
      "48:\tlearn: 1904.4946909\ttotal: 1.68s\tremaining: 2.77s\n",
      "49:\tlearn: 1902.8232671\ttotal: 1.71s\tremaining: 2.73s\n",
      "50:\tlearn: 1900.0712937\ttotal: 1.74s\tremaining: 2.7s\n",
      "51:\tlearn: 1897.8727966\ttotal: 1.77s\tremaining: 2.66s\n",
      "52:\tlearn: 1895.4410500\ttotal: 1.81s\tremaining: 2.63s\n",
      "53:\tlearn: 1893.3753283\ttotal: 1.84s\tremaining: 2.59s\n",
      "54:\tlearn: 1890.9403205\ttotal: 1.87s\tremaining: 2.55s\n",
      "55:\tlearn: 1888.5602452\ttotal: 1.91s\tremaining: 2.52s\n",
      "56:\tlearn: 1886.5991265\ttotal: 1.94s\tremaining: 2.49s\n",
      "57:\tlearn: 1883.4253326\ttotal: 1.98s\tremaining: 2.46s\n",
      "58:\tlearn: 1881.4520101\ttotal: 2.01s\tremaining: 2.42s\n",
      "59:\tlearn: 1879.8514127\ttotal: 2.04s\tremaining: 2.38s\n",
      "60:\tlearn: 1878.2864042\ttotal: 2.07s\tremaining: 2.35s\n",
      "61:\tlearn: 1876.7706879\ttotal: 2.11s\tremaining: 2.31s\n",
      "62:\tlearn: 1875.1633805\ttotal: 2.14s\tremaining: 2.28s\n",
      "63:\tlearn: 1872.6294626\ttotal: 2.17s\tremaining: 2.24s\n",
      "64:\tlearn: 1869.5354431\ttotal: 2.21s\tremaining: 2.21s\n",
      "65:\tlearn: 1868.3225024\ttotal: 2.24s\tremaining: 2.17s\n",
      "66:\tlearn: 1866.9650525\ttotal: 2.27s\tremaining: 2.14s\n",
      "67:\tlearn: 1865.9151578\ttotal: 2.3s\tremaining: 2.1s\n",
      "68:\tlearn: 1864.2709827\ttotal: 2.34s\tremaining: 2.07s\n",
      "69:\tlearn: 1862.5751200\ttotal: 2.37s\tremaining: 2.03s\n",
      "70:\tlearn: 1860.7656777\ttotal: 2.41s\tremaining: 2s\n",
      "71:\tlearn: 1859.6608850\ttotal: 2.44s\tremaining: 1.96s\n",
      "72:\tlearn: 1858.4677147\ttotal: 2.48s\tremaining: 1.93s\n",
      "73:\tlearn: 1857.0487561\ttotal: 2.54s\tremaining: 1.93s\n",
      "74:\tlearn: 1854.9995138\ttotal: 2.59s\tremaining: 1.9s\n",
      "75:\tlearn: 1853.7115537\ttotal: 2.63s\tremaining: 1.87s\n",
      "76:\tlearn: 1852.3667035\ttotal: 2.66s\tremaining: 1.83s\n",
      "77:\tlearn: 1851.3458592\ttotal: 2.69s\tremaining: 1.79s\n",
      "78:\tlearn: 1850.2786349\ttotal: 2.72s\tremaining: 1.76s\n",
      "79:\tlearn: 1848.7032171\ttotal: 2.76s\tremaining: 1.72s\n",
      "80:\tlearn: 1846.7410039\ttotal: 2.79s\tremaining: 1.69s\n",
      "81:\tlearn: 1846.0208829\ttotal: 2.82s\tremaining: 1.65s\n",
      "82:\tlearn: 1844.4300037\ttotal: 2.86s\tremaining: 1.62s\n",
      "83:\tlearn: 1843.6412710\ttotal: 2.88s\tremaining: 1.58s\n",
      "84:\tlearn: 1842.6341712\ttotal: 2.92s\tremaining: 1.54s\n",
      "85:\tlearn: 1839.8328653\ttotal: 2.96s\tremaining: 1.51s\n",
      "86:\tlearn: 1837.9831493\ttotal: 2.99s\tremaining: 1.48s\n",
      "87:\tlearn: 1836.0823908\ttotal: 3.02s\tremaining: 1.44s\n",
      "88:\tlearn: 1834.5091556\ttotal: 3.06s\tremaining: 1.41s\n",
      "89:\tlearn: 1833.5538922\ttotal: 3.09s\tremaining: 1.37s\n",
      "90:\tlearn: 1832.7795319\ttotal: 3.12s\tremaining: 1.33s\n",
      "91:\tlearn: 1831.6688620\ttotal: 3.15s\tremaining: 1.3s\n",
      "92:\tlearn: 1830.7178932\ttotal: 3.19s\tremaining: 1.27s\n",
      "93:\tlearn: 1829.9947389\ttotal: 3.21s\tremaining: 1.23s\n",
      "94:\tlearn: 1828.3306455\ttotal: 3.25s\tremaining: 1.2s\n",
      "95:\tlearn: 1826.8246802\ttotal: 3.28s\tremaining: 1.16s\n",
      "96:\tlearn: 1825.8923884\ttotal: 3.31s\tremaining: 1.13s\n",
      "97:\tlearn: 1824.3687310\ttotal: 3.35s\tremaining: 1.09s\n",
      "98:\tlearn: 1823.1520825\ttotal: 3.38s\tremaining: 1.06s\n",
      "99:\tlearn: 1822.0495372\ttotal: 3.41s\tremaining: 1.02s\n",
      "100:\tlearn: 1820.7928062\ttotal: 3.45s\tremaining: 990ms\n",
      "101:\tlearn: 1819.3195262\ttotal: 3.49s\tremaining: 958ms\n",
      "102:\tlearn: 1818.4094485\ttotal: 3.54s\tremaining: 929ms\n",
      "103:\tlearn: 1816.6560049\ttotal: 3.59s\tremaining: 898ms\n",
      "104:\tlearn: 1816.0792806\ttotal: 3.63s\tremaining: 865ms\n",
      "105:\tlearn: 1815.2431166\ttotal: 3.66s\tremaining: 829ms\n",
      "106:\tlearn: 1814.7260088\ttotal: 3.69s\tremaining: 794ms\n",
      "107:\tlearn: 1813.4296756\ttotal: 3.73s\tremaining: 760ms\n",
      "108:\tlearn: 1812.3470103\ttotal: 3.76s\tremaining: 725ms\n",
      "109:\tlearn: 1811.3570893\ttotal: 3.79s\tremaining: 690ms\n",
      "110:\tlearn: 1810.7900375\ttotal: 3.82s\tremaining: 654ms\n",
      "111:\tlearn: 1809.2200864\ttotal: 3.86s\tremaining: 620ms\n",
      "112:\tlearn: 1808.4967061\ttotal: 3.88s\tremaining: 585ms\n",
      "113:\tlearn: 1807.5066838\ttotal: 3.92s\tremaining: 551ms\n",
      "114:\tlearn: 1806.7292131\ttotal: 3.95s\tremaining: 516ms\n",
      "115:\tlearn: 1805.9583969\ttotal: 3.98s\tremaining: 481ms\n",
      "116:\tlearn: 1805.2608877\ttotal: 4.01s\tremaining: 446ms\n",
      "117:\tlearn: 1804.6271563\ttotal: 4.05s\tremaining: 412ms\n",
      "118:\tlearn: 1803.9365519\ttotal: 4.08s\tremaining: 378ms\n",
      "119:\tlearn: 1802.0364325\ttotal: 4.13s\tremaining: 344ms\n",
      "120:\tlearn: 1800.4299895\ttotal: 4.16s\tremaining: 309ms\n",
      "121:\tlearn: 1798.6965771\ttotal: 4.2s\tremaining: 275ms\n",
      "122:\tlearn: 1797.7817009\ttotal: 4.23s\tremaining: 241ms\n",
      "123:\tlearn: 1796.7099601\ttotal: 4.26s\tremaining: 206ms\n",
      "124:\tlearn: 1795.1193835\ttotal: 4.29s\tremaining: 172ms\n",
      "125:\tlearn: 1794.4286040\ttotal: 4.33s\tremaining: 137ms\n",
      "126:\tlearn: 1793.6041177\ttotal: 4.35s\tremaining: 103ms\n",
      "127:\tlearn: 1792.8692744\ttotal: 4.38s\tremaining: 68.4ms\n",
      "128:\tlearn: 1792.1070140\ttotal: 4.41s\tremaining: 34.2ms\n",
      "129:\tlearn: 1791.4575585\ttotal: 4.44s\tremaining: 0us\n",
      "Learning rate set to 0.5\n",
      "0:\tlearn: 3226.2911192\ttotal: 47.2ms\tremaining: 6.09s\n",
      "1:\tlearn: 2661.3234805\ttotal: 86.3ms\tremaining: 5.52s\n",
      "2:\tlearn: 2420.5803482\ttotal: 128ms\tremaining: 5.43s\n",
      "3:\tlearn: 2299.9941583\ttotal: 165ms\tremaining: 5.19s\n",
      "4:\tlearn: 2216.8175356\ttotal: 203ms\tremaining: 5.08s\n",
      "5:\tlearn: 2159.3772556\ttotal: 238ms\tremaining: 4.92s\n",
      "6:\tlearn: 2124.6969832\ttotal: 269ms\tremaining: 4.73s\n",
      "7:\tlearn: 2091.0959012\ttotal: 309ms\tremaining: 4.71s\n",
      "8:\tlearn: 2066.9770695\ttotal: 344ms\tremaining: 4.62s\n",
      "9:\tlearn: 2051.1067163\ttotal: 390ms\tremaining: 4.68s\n",
      "10:\tlearn: 2037.8666396\ttotal: 433ms\tremaining: 4.69s\n",
      "11:\tlearn: 2021.0380009\ttotal: 487ms\tremaining: 4.79s\n",
      "12:\tlearn: 2009.5588887\ttotal: 528ms\tremaining: 4.75s\n",
      "13:\tlearn: 1995.3022927\ttotal: 565ms\tremaining: 4.68s\n",
      "14:\tlearn: 1985.3255280\ttotal: 597ms\tremaining: 4.58s\n",
      "15:\tlearn: 1977.8409537\ttotal: 629ms\tremaining: 4.48s\n",
      "16:\tlearn: 1969.2484721\ttotal: 665ms\tremaining: 4.42s\n",
      "17:\tlearn: 1960.4351435\ttotal: 705ms\tremaining: 4.39s\n",
      "18:\tlearn: 1951.1876315\ttotal: 739ms\tremaining: 4.32s\n",
      "19:\tlearn: 1946.6567531\ttotal: 768ms\tremaining: 4.22s\n",
      "20:\tlearn: 1941.7514900\ttotal: 802ms\tremaining: 4.16s\n",
      "21:\tlearn: 1933.9053171\ttotal: 836ms\tremaining: 4.11s\n",
      "22:\tlearn: 1931.1010633\ttotal: 871ms\tremaining: 4.05s\n",
      "23:\tlearn: 1925.1256763\ttotal: 908ms\tremaining: 4.01s\n",
      "24:\tlearn: 1921.9821809\ttotal: 940ms\tremaining: 3.95s\n",
      "25:\tlearn: 1919.0048747\ttotal: 974ms\tremaining: 3.89s\n",
      "26:\tlearn: 1913.9936462\ttotal: 1.01s\tremaining: 3.85s\n",
      "27:\tlearn: 1907.9525512\ttotal: 1.05s\tremaining: 3.83s\n",
      "28:\tlearn: 1903.7386877\ttotal: 1.09s\tremaining: 3.81s\n",
      "29:\tlearn: 1897.0051474\ttotal: 1.13s\tremaining: 3.76s\n",
      "30:\tlearn: 1890.8368766\ttotal: 1.16s\tremaining: 3.71s\n",
      "31:\tlearn: 1884.2427550\ttotal: 1.2s\tremaining: 3.67s\n",
      "32:\tlearn: 1878.3834133\ttotal: 1.24s\tremaining: 3.64s\n",
      "33:\tlearn: 1872.8046483\ttotal: 1.28s\tremaining: 3.61s\n",
      "34:\tlearn: 1869.1428086\ttotal: 1.31s\tremaining: 3.56s\n",
      "35:\tlearn: 1866.9353662\ttotal: 1.34s\tremaining: 3.51s\n",
      "36:\tlearn: 1863.9451731\ttotal: 1.39s\tremaining: 3.49s\n",
      "37:\tlearn: 1860.0081450\ttotal: 1.44s\tremaining: 3.48s\n",
      "38:\tlearn: 1858.4160731\ttotal: 1.48s\tremaining: 3.45s\n",
      "39:\tlearn: 1855.8105609\ttotal: 1.52s\tremaining: 3.41s\n",
      "40:\tlearn: 1850.1030470\ttotal: 1.55s\tremaining: 3.37s\n",
      "41:\tlearn: 1845.8624592\ttotal: 1.59s\tremaining: 3.33s\n",
      "42:\tlearn: 1841.0598075\ttotal: 1.62s\tremaining: 3.28s\n",
      "43:\tlearn: 1838.3738689\ttotal: 1.66s\tremaining: 3.24s\n",
      "44:\tlearn: 1834.6108545\ttotal: 1.69s\tremaining: 3.2s\n",
      "45:\tlearn: 1831.1287881\ttotal: 1.73s\tremaining: 3.16s\n",
      "46:\tlearn: 1827.5997063\ttotal: 1.76s\tremaining: 3.12s\n",
      "47:\tlearn: 1825.5259460\ttotal: 1.79s\tremaining: 3.06s\n",
      "48:\tlearn: 1822.8905954\ttotal: 1.83s\tremaining: 3.03s\n",
      "49:\tlearn: 1819.1325220\ttotal: 1.87s\tremaining: 2.99s\n",
      "50:\tlearn: 1815.8623081\ttotal: 1.9s\tremaining: 2.94s\n",
      "51:\tlearn: 1813.6629083\ttotal: 1.93s\tremaining: 2.9s\n",
      "52:\tlearn: 1811.5220100\ttotal: 1.97s\tremaining: 2.86s\n",
      "53:\tlearn: 1810.0598281\ttotal: 2s\tremaining: 2.81s\n",
      "54:\tlearn: 1809.0166523\ttotal: 2.03s\tremaining: 2.77s\n",
      "55:\tlearn: 1806.8819156\ttotal: 2.08s\tremaining: 2.75s\n",
      "56:\tlearn: 1804.8847933\ttotal: 2.13s\tremaining: 2.73s\n",
      "57:\tlearn: 1803.3260310\ttotal: 2.18s\tremaining: 2.71s\n",
      "58:\tlearn: 1801.2677084\ttotal: 2.23s\tremaining: 2.68s\n",
      "59:\tlearn: 1799.6745800\ttotal: 2.29s\tremaining: 2.67s\n",
      "60:\tlearn: 1798.0327087\ttotal: 2.34s\tremaining: 2.65s\n",
      "61:\tlearn: 1795.9972347\ttotal: 2.39s\tremaining: 2.62s\n",
      "62:\tlearn: 1794.3360864\ttotal: 2.45s\tremaining: 2.61s\n",
      "63:\tlearn: 1792.3258205\ttotal: 2.5s\tremaining: 2.58s\n",
      "64:\tlearn: 1790.6325806\ttotal: 2.54s\tremaining: 2.54s\n",
      "65:\tlearn: 1789.3777404\ttotal: 2.59s\tremaining: 2.51s\n",
      "66:\tlearn: 1788.0891502\ttotal: 2.63s\tremaining: 2.47s\n",
      "67:\tlearn: 1786.5987883\ttotal: 2.67s\tremaining: 2.44s\n",
      "68:\tlearn: 1784.8913990\ttotal: 2.71s\tremaining: 2.4s\n",
      "69:\tlearn: 1782.4039403\ttotal: 2.76s\tremaining: 2.36s\n",
      "70:\tlearn: 1781.2112609\ttotal: 2.8s\tremaining: 2.33s\n",
      "71:\tlearn: 1779.5121459\ttotal: 2.85s\tremaining: 2.3s\n",
      "72:\tlearn: 1778.0417244\ttotal: 2.9s\tremaining: 2.26s\n",
      "73:\tlearn: 1775.5706967\ttotal: 2.94s\tremaining: 2.23s\n",
      "74:\tlearn: 1773.5580288\ttotal: 2.98s\tremaining: 2.19s\n",
      "75:\tlearn: 1772.0256581\ttotal: 3.03s\tremaining: 2.15s\n",
      "76:\tlearn: 1770.2813911\ttotal: 3.07s\tremaining: 2.11s\n",
      "77:\tlearn: 1768.7417484\ttotal: 3.12s\tremaining: 2.08s\n",
      "78:\tlearn: 1767.6060861\ttotal: 3.17s\tremaining: 2.04s\n",
      "79:\tlearn: 1765.4496809\ttotal: 3.21s\tremaining: 2s\n",
      "80:\tlearn: 1764.2498674\ttotal: 3.25s\tremaining: 1.96s\n",
      "81:\tlearn: 1762.8855268\ttotal: 3.29s\tremaining: 1.92s\n",
      "82:\tlearn: 1761.3645425\ttotal: 3.32s\tremaining: 1.88s\n",
      "83:\tlearn: 1760.1636413\ttotal: 3.38s\tremaining: 1.85s\n",
      "84:\tlearn: 1757.7184339\ttotal: 3.45s\tremaining: 1.83s\n",
      "85:\tlearn: 1756.6054777\ttotal: 3.5s\tremaining: 1.79s\n",
      "86:\tlearn: 1755.4955165\ttotal: 3.55s\tremaining: 1.75s\n",
      "87:\tlearn: 1754.4704589\ttotal: 3.59s\tremaining: 1.71s\n",
      "88:\tlearn: 1752.8359472\ttotal: 3.63s\tremaining: 1.67s\n",
      "89:\tlearn: 1752.2436153\ttotal: 3.67s\tremaining: 1.63s\n",
      "90:\tlearn: 1750.4280393\ttotal: 3.7s\tremaining: 1.58s\n",
      "91:\tlearn: 1748.5737591\ttotal: 3.73s\tremaining: 1.54s\n",
      "92:\tlearn: 1747.0238173\ttotal: 3.77s\tremaining: 1.5s\n",
      "93:\tlearn: 1746.1539056\ttotal: 3.81s\tremaining: 1.46s\n",
      "94:\tlearn: 1745.0177436\ttotal: 3.84s\tremaining: 1.41s\n",
      "95:\tlearn: 1743.7526755\ttotal: 3.87s\tremaining: 1.37s\n",
      "96:\tlearn: 1742.9862330\ttotal: 3.9s\tremaining: 1.33s\n",
      "97:\tlearn: 1742.1255067\ttotal: 3.93s\tremaining: 1.28s\n",
      "98:\tlearn: 1740.9923628\ttotal: 3.97s\tremaining: 1.24s\n",
      "99:\tlearn: 1740.3594677\ttotal: 4s\tremaining: 1.2s\n",
      "100:\tlearn: 1738.4111910\ttotal: 4.04s\tremaining: 1.16s\n",
      "101:\tlearn: 1737.0185582\ttotal: 4.08s\tremaining: 1.12s\n",
      "102:\tlearn: 1735.7507016\ttotal: 4.12s\tremaining: 1.08s\n",
      "103:\tlearn: 1734.7369217\ttotal: 4.17s\tremaining: 1.04s\n",
      "104:\tlearn: 1733.6682785\ttotal: 4.21s\tremaining: 1s\n",
      "105:\tlearn: 1732.8637164\ttotal: 4.24s\tremaining: 961ms\n",
      "106:\tlearn: 1731.3879420\ttotal: 4.28s\tremaining: 921ms\n",
      "107:\tlearn: 1730.1346227\ttotal: 4.33s\tremaining: 882ms\n",
      "108:\tlearn: 1729.2483933\ttotal: 4.4s\tremaining: 848ms\n",
      "109:\tlearn: 1728.0543600\ttotal: 4.46s\tremaining: 810ms\n",
      "110:\tlearn: 1726.8113787\ttotal: 4.51s\tremaining: 772ms\n",
      "111:\tlearn: 1725.7665128\ttotal: 4.55s\tremaining: 731ms\n",
      "112:\tlearn: 1725.0179475\ttotal: 4.59s\tremaining: 691ms\n",
      "113:\tlearn: 1724.3108911\ttotal: 4.64s\tremaining: 651ms\n",
      "114:\tlearn: 1723.5471776\ttotal: 4.67s\tremaining: 610ms\n",
      "115:\tlearn: 1722.5321421\ttotal: 4.71s\tremaining: 569ms\n",
      "116:\tlearn: 1721.3428949\ttotal: 4.75s\tremaining: 528ms\n",
      "117:\tlearn: 1719.8765669\ttotal: 4.8s\tremaining: 489ms\n",
      "118:\tlearn: 1719.1471097\ttotal: 4.85s\tremaining: 449ms\n",
      "119:\tlearn: 1718.0196961\ttotal: 4.89s\tremaining: 407ms\n",
      "120:\tlearn: 1717.0537789\ttotal: 4.92s\tremaining: 366ms\n",
      "121:\tlearn: 1716.2772675\ttotal: 4.96s\tremaining: 325ms\n",
      "122:\tlearn: 1715.2919484\ttotal: 5.01s\tremaining: 285ms\n",
      "123:\tlearn: 1713.6930004\ttotal: 5.05s\tremaining: 245ms\n",
      "124:\tlearn: 1713.4643877\ttotal: 5.08s\tremaining: 203ms\n",
      "125:\tlearn: 1712.2015555\ttotal: 5.11s\tremaining: 162ms\n",
      "126:\tlearn: 1711.3436530\ttotal: 5.15s\tremaining: 122ms\n",
      "127:\tlearn: 1710.9094192\ttotal: 5.18s\tremaining: 80.9ms\n",
      "128:\tlearn: 1710.3221208\ttotal: 5.21s\tremaining: 40.4ms\n",
      "129:\tlearn: 1709.3472421\ttotal: 5.25s\tremaining: 0us\n",
      "Learning rate set to 0.5\n",
      "0:\tlearn: 3149.6161803\ttotal: 63.1ms\tremaining: 8.14s\n",
      "1:\tlearn: 2556.4610314\ttotal: 125ms\tremaining: 7.99s\n",
      "2:\tlearn: 2322.1322159\ttotal: 175ms\tremaining: 7.41s\n",
      "3:\tlearn: 2181.6411761\ttotal: 227ms\tremaining: 7.16s\n",
      "4:\tlearn: 2115.0515863\ttotal: 291ms\tremaining: 7.27s\n",
      "5:\tlearn: 2062.2041703\ttotal: 361ms\tremaining: 7.45s\n",
      "6:\tlearn: 2036.3563083\ttotal: 413ms\tremaining: 7.26s\n",
      "7:\tlearn: 2008.4292025\ttotal: 459ms\tremaining: 7s\n",
      "8:\tlearn: 1976.6647005\ttotal: 507ms\tremaining: 6.82s\n",
      "9:\tlearn: 1958.8425667\ttotal: 555ms\tremaining: 6.66s\n",
      "10:\tlearn: 1946.6772392\ttotal: 609ms\tremaining: 6.59s\n",
      "11:\tlearn: 1935.4674271\ttotal: 654ms\tremaining: 6.43s\n",
      "12:\tlearn: 1927.7985211\ttotal: 697ms\tremaining: 6.27s\n",
      "13:\tlearn: 1919.2514944\ttotal: 750ms\tremaining: 6.21s\n",
      "14:\tlearn: 1909.5877999\ttotal: 805ms\tremaining: 6.17s\n",
      "15:\tlearn: 1899.7339346\ttotal: 858ms\tremaining: 6.11s\n",
      "16:\tlearn: 1892.0695005\ttotal: 910ms\tremaining: 6.05s\n",
      "17:\tlearn: 1887.0024210\ttotal: 968ms\tremaining: 6.02s\n",
      "18:\tlearn: 1882.4793221\ttotal: 1.04s\tremaining: 6.07s\n",
      "19:\tlearn: 1873.1168675\ttotal: 1.1s\tremaining: 6.06s\n",
      "20:\tlearn: 1867.3411276\ttotal: 1.15s\tremaining: 5.95s\n",
      "21:\tlearn: 1861.0664086\ttotal: 1.2s\tremaining: 5.87s\n",
      "22:\tlearn: 1853.4795442\ttotal: 1.26s\tremaining: 5.87s\n",
      "23:\tlearn: 1849.7026197\ttotal: 1.31s\tremaining: 5.81s\n",
      "24:\tlearn: 1844.6132328\ttotal: 1.38s\tremaining: 5.78s\n",
      "25:\tlearn: 1842.5903807\ttotal: 1.42s\tremaining: 5.66s\n",
      "26:\tlearn: 1838.5393133\ttotal: 1.46s\tremaining: 5.59s\n",
      "27:\tlearn: 1831.5055731\ttotal: 1.51s\tremaining: 5.5s\n",
      "28:\tlearn: 1826.7208255\ttotal: 1.56s\tremaining: 5.44s\n",
      "29:\tlearn: 1823.8611105\ttotal: 1.61s\tremaining: 5.36s\n",
      "30:\tlearn: 1818.8907323\ttotal: 1.66s\tremaining: 5.29s\n",
      "31:\tlearn: 1816.6084834\ttotal: 1.7s\tremaining: 5.2s\n",
      "32:\tlearn: 1811.6472316\ttotal: 1.74s\tremaining: 5.13s\n",
      "33:\tlearn: 1806.8205612\ttotal: 1.8s\tremaining: 5.08s\n",
      "34:\tlearn: 1801.2564309\ttotal: 1.85s\tremaining: 5.01s\n",
      "35:\tlearn: 1797.4448371\ttotal: 1.89s\tremaining: 4.95s\n",
      "36:\tlearn: 1793.8584016\ttotal: 1.94s\tremaining: 4.87s\n",
      "37:\tlearn: 1790.0575808\ttotal: 1.99s\tremaining: 4.81s\n",
      "38:\tlearn: 1786.9244852\ttotal: 2.04s\tremaining: 4.76s\n",
      "39:\tlearn: 1784.6315723\ttotal: 2.08s\tremaining: 4.68s\n",
      "40:\tlearn: 1781.6119618\ttotal: 2.12s\tremaining: 4.61s\n",
      "41:\tlearn: 1778.9787586\ttotal: 2.16s\tremaining: 4.53s\n",
      "42:\tlearn: 1775.9345594\ttotal: 2.22s\tremaining: 4.49s\n",
      "43:\tlearn: 1771.1328586\ttotal: 2.28s\tremaining: 4.46s\n",
      "44:\tlearn: 1767.5159652\ttotal: 2.35s\tremaining: 4.45s\n",
      "45:\tlearn: 1764.9839331\ttotal: 2.42s\tremaining: 4.42s\n",
      "46:\tlearn: 1762.4027191\ttotal: 2.47s\tremaining: 4.36s\n",
      "47:\tlearn: 1759.7381135\ttotal: 2.52s\tremaining: 4.31s\n",
      "48:\tlearn: 1757.6876063\ttotal: 2.6s\tremaining: 4.3s\n",
      "49:\tlearn: 1755.3359418\ttotal: 2.68s\tremaining: 4.28s\n",
      "50:\tlearn: 1752.6172911\ttotal: 2.73s\tremaining: 4.22s\n",
      "51:\tlearn: 1749.3025817\ttotal: 2.78s\tremaining: 4.17s\n",
      "52:\tlearn: 1746.5317964\ttotal: 2.85s\tremaining: 4.13s\n",
      "53:\tlearn: 1744.2201047\ttotal: 2.89s\tremaining: 4.07s\n",
      "54:\tlearn: 1742.3366615\ttotal: 2.94s\tremaining: 4s\n",
      "55:\tlearn: 1741.0052810\ttotal: 2.98s\tremaining: 3.94s\n",
      "56:\tlearn: 1738.7448844\ttotal: 3.02s\tremaining: 3.87s\n",
      "57:\tlearn: 1736.6030895\ttotal: 3.07s\tremaining: 3.81s\n",
      "58:\tlearn: 1734.5058468\ttotal: 3.12s\tremaining: 3.75s\n",
      "59:\tlearn: 1732.6242158\ttotal: 3.16s\tremaining: 3.69s\n",
      "60:\tlearn: 1729.3694171\ttotal: 3.22s\tremaining: 3.64s\n",
      "61:\tlearn: 1727.9416414\ttotal: 3.28s\tremaining: 3.6s\n",
      "62:\tlearn: 1725.3405389\ttotal: 3.35s\tremaining: 3.56s\n",
      "63:\tlearn: 1724.1726029\ttotal: 3.39s\tremaining: 3.49s\n",
      "64:\tlearn: 1722.3919915\ttotal: 3.44s\tremaining: 3.44s\n",
      "65:\tlearn: 1720.7802439\ttotal: 3.49s\tremaining: 3.39s\n",
      "66:\tlearn: 1719.3615903\ttotal: 3.54s\tremaining: 3.33s\n",
      "67:\tlearn: 1716.7552866\ttotal: 3.58s\tremaining: 3.27s\n",
      "68:\tlearn: 1714.9536833\ttotal: 3.63s\tremaining: 3.21s\n",
      "69:\tlearn: 1713.3389866\ttotal: 3.67s\tremaining: 3.15s\n",
      "70:\tlearn: 1711.6143535\ttotal: 3.72s\tremaining: 3.09s\n",
      "71:\tlearn: 1710.3570130\ttotal: 3.77s\tremaining: 3.03s\n",
      "72:\tlearn: 1708.6607345\ttotal: 3.81s\tremaining: 2.97s\n",
      "73:\tlearn: 1706.4842367\ttotal: 3.85s\tremaining: 2.92s\n",
      "74:\tlearn: 1704.8553876\ttotal: 3.89s\tremaining: 2.86s\n",
      "75:\tlearn: 1703.5938718\ttotal: 3.94s\tremaining: 2.8s\n",
      "76:\tlearn: 1702.2697139\ttotal: 3.98s\tremaining: 2.74s\n",
      "77:\tlearn: 1700.8469697\ttotal: 4.03s\tremaining: 2.68s\n",
      "78:\tlearn: 1699.7319319\ttotal: 4.07s\tremaining: 2.62s\n",
      "79:\tlearn: 1697.5311156\ttotal: 4.11s\tremaining: 2.57s\n",
      "80:\tlearn: 1695.8545212\ttotal: 4.16s\tremaining: 2.51s\n",
      "81:\tlearn: 1695.0940924\ttotal: 4.19s\tremaining: 2.45s\n",
      "82:\tlearn: 1692.8369641\ttotal: 4.25s\tremaining: 2.41s\n",
      "83:\tlearn: 1691.3199631\ttotal: 4.31s\tremaining: 2.36s\n",
      "84:\tlearn: 1689.9093296\ttotal: 4.37s\tremaining: 2.31s\n",
      "85:\tlearn: 1688.4956740\ttotal: 4.42s\tremaining: 2.26s\n",
      "86:\tlearn: 1686.9283516\ttotal: 4.46s\tremaining: 2.2s\n",
      "87:\tlearn: 1685.1423306\ttotal: 4.5s\tremaining: 2.15s\n",
      "88:\tlearn: 1683.4397241\ttotal: 4.55s\tremaining: 2.09s\n",
      "89:\tlearn: 1682.5094770\ttotal: 4.59s\tremaining: 2.04s\n",
      "90:\tlearn: 1680.6103048\ttotal: 4.63s\tremaining: 1.98s\n",
      "91:\tlearn: 1679.7855644\ttotal: 4.67s\tremaining: 1.93s\n",
      "92:\tlearn: 1678.5303188\ttotal: 4.72s\tremaining: 1.88s\n",
      "93:\tlearn: 1677.2280281\ttotal: 4.76s\tremaining: 1.82s\n",
      "94:\tlearn: 1675.3565991\ttotal: 4.8s\tremaining: 1.77s\n",
      "95:\tlearn: 1673.4554933\ttotal: 4.84s\tremaining: 1.72s\n",
      "96:\tlearn: 1670.9844284\ttotal: 4.89s\tremaining: 1.66s\n",
      "97:\tlearn: 1669.2010215\ttotal: 4.94s\tremaining: 1.61s\n",
      "98:\tlearn: 1667.7216446\ttotal: 4.98s\tremaining: 1.56s\n",
      "99:\tlearn: 1666.7962356\ttotal: 5.03s\tremaining: 1.51s\n",
      "100:\tlearn: 1665.1153398\ttotal: 5.08s\tremaining: 1.46s\n",
      "101:\tlearn: 1664.1810066\ttotal: 5.12s\tremaining: 1.41s\n",
      "102:\tlearn: 1663.7588376\ttotal: 5.16s\tremaining: 1.35s\n",
      "103:\tlearn: 1661.9089101\ttotal: 5.22s\tremaining: 1.3s\n",
      "104:\tlearn: 1660.8962160\ttotal: 5.28s\tremaining: 1.26s\n",
      "105:\tlearn: 1659.7670693\ttotal: 5.36s\tremaining: 1.21s\n",
      "106:\tlearn: 1658.4130301\ttotal: 5.42s\tremaining: 1.16s\n",
      "107:\tlearn: 1656.9399663\ttotal: 5.47s\tremaining: 1.11s\n",
      "108:\tlearn: 1655.1406822\ttotal: 5.53s\tremaining: 1.06s\n",
      "109:\tlearn: 1654.2897164\ttotal: 5.58s\tremaining: 1.01s\n",
      "110:\tlearn: 1652.5600286\ttotal: 5.65s\tremaining: 967ms\n",
      "111:\tlearn: 1651.2204451\ttotal: 5.71s\tremaining: 917ms\n",
      "112:\tlearn: 1650.0453338\ttotal: 5.76s\tremaining: 867ms\n",
      "113:\tlearn: 1648.7041329\ttotal: 5.83s\tremaining: 818ms\n",
      "114:\tlearn: 1648.0734813\ttotal: 5.89s\tremaining: 768ms\n",
      "115:\tlearn: 1647.5289219\ttotal: 5.95s\tremaining: 718ms\n",
      "116:\tlearn: 1646.6192470\ttotal: 6.01s\tremaining: 668ms\n",
      "117:\tlearn: 1644.6303118\ttotal: 6.07s\tremaining: 617ms\n",
      "118:\tlearn: 1643.0756980\ttotal: 6.12s\tremaining: 566ms\n",
      "119:\tlearn: 1642.1328721\ttotal: 6.18s\tremaining: 515ms\n",
      "120:\tlearn: 1641.6873610\ttotal: 6.25s\tremaining: 465ms\n",
      "121:\tlearn: 1640.8060921\ttotal: 6.32s\tremaining: 415ms\n",
      "122:\tlearn: 1640.2516302\ttotal: 6.39s\tremaining: 364ms\n",
      "123:\tlearn: 1639.5637120\ttotal: 6.44s\tremaining: 312ms\n",
      "124:\tlearn: 1637.9947502\ttotal: 6.49s\tremaining: 260ms\n",
      "125:\tlearn: 1636.6713560\ttotal: 6.55s\tremaining: 208ms\n",
      "126:\tlearn: 1635.9529905\ttotal: 6.6s\tremaining: 156ms\n",
      "127:\tlearn: 1635.2979836\ttotal: 6.65s\tremaining: 104ms\n",
      "128:\tlearn: 1633.5406215\ttotal: 6.71s\tremaining: 52ms\n",
      "129:\tlearn: 1632.8530601\ttotal: 6.76s\tremaining: 0us\n",
      "Learning rate set to 0.446403\n",
      "0:\tlearn: 3427.8188234\ttotal: 39.8ms\tremaining: 5.92s\n",
      "1:\tlearn: 2867.8645355\ttotal: 76.8ms\tremaining: 5.68s\n",
      "2:\tlearn: 2623.5179648\ttotal: 120ms\tremaining: 5.86s\n",
      "3:\tlearn: 2460.7241612\ttotal: 156ms\tremaining: 5.69s\n",
      "4:\tlearn: 2370.6273302\ttotal: 190ms\tremaining: 5.51s\n",
      "5:\tlearn: 2313.3976858\ttotal: 225ms\tremaining: 5.4s\n",
      "6:\tlearn: 2266.0440267\ttotal: 261ms\tremaining: 5.32s\n",
      "7:\tlearn: 2217.1013095\ttotal: 301ms\tremaining: 5.33s\n",
      "8:\tlearn: 2190.8687269\ttotal: 327ms\tremaining: 5.13s\n",
      "9:\tlearn: 2164.3482976\ttotal: 357ms\tremaining: 4.99s\n",
      "10:\tlearn: 2150.4250997\ttotal: 387ms\tremaining: 4.89s\n",
      "11:\tlearn: 2131.5834967\ttotal: 421ms\tremaining: 4.85s\n",
      "12:\tlearn: 2118.7694697\ttotal: 458ms\tremaining: 4.83s\n",
      "13:\tlearn: 2101.7181153\ttotal: 502ms\tremaining: 4.87s\n",
      "14:\tlearn: 2089.0815841\ttotal: 540ms\tremaining: 4.86s\n",
      "15:\tlearn: 2074.9001578\ttotal: 578ms\tremaining: 4.84s\n",
      "16:\tlearn: 2067.0621480\ttotal: 612ms\tremaining: 4.79s\n",
      "17:\tlearn: 2055.5006182\ttotal: 651ms\tremaining: 4.77s\n",
      "18:\tlearn: 2047.2227956\ttotal: 689ms\tremaining: 4.75s\n",
      "19:\tlearn: 2038.6703744\ttotal: 722ms\tremaining: 4.69s\n",
      "20:\tlearn: 2033.2335784\ttotal: 752ms\tremaining: 4.62s\n",
      "21:\tlearn: 2026.1342965\ttotal: 788ms\tremaining: 4.59s\n",
      "22:\tlearn: 2020.4097849\ttotal: 821ms\tremaining: 4.53s\n",
      "23:\tlearn: 2012.7352600\ttotal: 859ms\tremaining: 4.51s\n",
      "24:\tlearn: 2003.3158567\ttotal: 895ms\tremaining: 4.47s\n",
      "25:\tlearn: 1999.3587293\ttotal: 926ms\tremaining: 4.42s\n",
      "26:\tlearn: 1994.1401997\ttotal: 960ms\tremaining: 4.37s\n",
      "27:\tlearn: 1986.2767721\ttotal: 998ms\tremaining: 4.35s\n",
      "28:\tlearn: 1982.0698066\ttotal: 1.03s\tremaining: 4.29s\n",
      "29:\tlearn: 1978.8236174\ttotal: 1.06s\tremaining: 4.25s\n",
      "30:\tlearn: 1974.2625052\ttotal: 1.1s\tremaining: 4.21s\n",
      "31:\tlearn: 1970.7015373\ttotal: 1.13s\tremaining: 4.16s\n",
      "32:\tlearn: 1965.4691641\ttotal: 1.16s\tremaining: 4.11s\n",
      "33:\tlearn: 1959.8574940\ttotal: 1.2s\tremaining: 4.08s\n",
      "34:\tlearn: 1957.1105758\ttotal: 1.23s\tremaining: 4.03s\n",
      "35:\tlearn: 1954.3957495\ttotal: 1.25s\tremaining: 3.97s\n",
      "36:\tlearn: 1949.8270834\ttotal: 1.3s\tremaining: 3.96s\n",
      "37:\tlearn: 1945.8024007\ttotal: 1.33s\tremaining: 3.92s\n",
      "38:\tlearn: 1943.4316468\ttotal: 1.36s\tremaining: 3.87s\n",
      "39:\tlearn: 1938.9069143\ttotal: 1.39s\tremaining: 3.83s\n",
      "40:\tlearn: 1936.7699827\ttotal: 1.44s\tremaining: 3.82s\n",
      "41:\tlearn: 1935.2120352\ttotal: 1.47s\tremaining: 3.79s\n",
      "42:\tlearn: 1929.7509435\ttotal: 1.5s\tremaining: 3.74s\n",
      "43:\tlearn: 1926.1707678\ttotal: 1.54s\tremaining: 3.71s\n",
      "44:\tlearn: 1922.6982505\ttotal: 1.58s\tremaining: 3.69s\n",
      "45:\tlearn: 1920.7563298\ttotal: 1.63s\tremaining: 3.67s\n",
      "46:\tlearn: 1918.5145111\ttotal: 1.67s\tremaining: 3.67s\n",
      "47:\tlearn: 1916.6962243\ttotal: 1.73s\tremaining: 3.68s\n",
      "48:\tlearn: 1913.6427868\ttotal: 1.78s\tremaining: 3.67s\n",
      "49:\tlearn: 1911.5538981\ttotal: 1.83s\tremaining: 3.66s\n",
      "50:\tlearn: 1908.4840525\ttotal: 1.89s\tremaining: 3.68s\n",
      "51:\tlearn: 1906.1615494\ttotal: 1.95s\tremaining: 3.67s\n",
      "52:\tlearn: 1904.4158778\ttotal: 2.03s\tremaining: 3.72s\n",
      "53:\tlearn: 1901.5191526\ttotal: 2.12s\tremaining: 3.76s\n",
      "54:\tlearn: 1899.6115440\ttotal: 2.15s\tremaining: 3.72s\n",
      "55:\tlearn: 1897.7335335\ttotal: 2.19s\tremaining: 3.68s\n",
      "56:\tlearn: 1894.6756475\ttotal: 2.23s\tremaining: 3.65s\n",
      "57:\tlearn: 1892.6607732\ttotal: 2.29s\tremaining: 3.63s\n",
      "58:\tlearn: 1891.5011764\ttotal: 2.33s\tremaining: 3.59s\n",
      "59:\tlearn: 1889.0328454\ttotal: 2.38s\tremaining: 3.57s\n",
      "60:\tlearn: 1887.1316583\ttotal: 2.42s\tremaining: 3.54s\n",
      "61:\tlearn: 1885.6270366\ttotal: 2.46s\tremaining: 3.49s\n",
      "62:\tlearn: 1884.2147949\ttotal: 2.5s\tremaining: 3.45s\n",
      "63:\tlearn: 1882.4015261\ttotal: 2.56s\tremaining: 3.43s\n",
      "64:\tlearn: 1881.0991264\ttotal: 2.6s\tremaining: 3.4s\n",
      "65:\tlearn: 1878.7993372\ttotal: 2.66s\tremaining: 3.38s\n",
      "66:\tlearn: 1877.2898031\ttotal: 2.73s\tremaining: 3.38s\n",
      "67:\tlearn: 1876.0146568\ttotal: 2.8s\tremaining: 3.37s\n",
      "68:\tlearn: 1873.6895187\ttotal: 2.9s\tremaining: 3.41s\n",
      "69:\tlearn: 1871.6642282\ttotal: 2.95s\tremaining: 3.37s\n",
      "70:\tlearn: 1870.8474538\ttotal: 2.98s\tremaining: 3.32s\n",
      "71:\tlearn: 1869.1033202\ttotal: 3.04s\tremaining: 3.3s\n",
      "72:\tlearn: 1866.9886743\ttotal: 3.09s\tremaining: 3.26s\n",
      "73:\tlearn: 1865.9269939\ttotal: 3.13s\tremaining: 3.22s\n",
      "74:\tlearn: 1863.1262799\ttotal: 3.18s\tremaining: 3.18s\n",
      "75:\tlearn: 1861.3387018\ttotal: 3.24s\tremaining: 3.16s\n",
      "76:\tlearn: 1859.9242098\ttotal: 3.29s\tremaining: 3.12s\n",
      "77:\tlearn: 1859.1702068\ttotal: 3.35s\tremaining: 3.09s\n",
      "78:\tlearn: 1856.0723487\ttotal: 3.47s\tremaining: 3.12s\n",
      "79:\tlearn: 1854.6202673\ttotal: 3.54s\tremaining: 3.1s\n",
      "80:\tlearn: 1852.9092952\ttotal: 3.59s\tremaining: 3.06s\n",
      "81:\tlearn: 1851.0131804\ttotal: 3.64s\tremaining: 3.02s\n",
      "82:\tlearn: 1849.7617431\ttotal: 3.69s\tremaining: 2.98s\n",
      "83:\tlearn: 1848.4361859\ttotal: 3.74s\tremaining: 2.94s\n",
      "84:\tlearn: 1846.9104542\ttotal: 3.82s\tremaining: 2.92s\n",
      "85:\tlearn: 1845.2881157\ttotal: 3.95s\tremaining: 2.94s\n",
      "86:\tlearn: 1844.6952661\ttotal: 4.04s\tremaining: 2.92s\n",
      "87:\tlearn: 1843.4313357\ttotal: 4.08s\tremaining: 2.87s\n",
      "88:\tlearn: 1841.3370088\ttotal: 4.11s\tremaining: 2.82s\n",
      "89:\tlearn: 1839.9986076\ttotal: 4.16s\tremaining: 2.77s\n",
      "90:\tlearn: 1838.9169197\ttotal: 4.19s\tremaining: 2.71s\n",
      "91:\tlearn: 1837.4926060\ttotal: 4.22s\tremaining: 2.66s\n",
      "92:\tlearn: 1836.0778019\ttotal: 4.29s\tremaining: 2.63s\n",
      "93:\tlearn: 1834.7826396\ttotal: 4.38s\tremaining: 2.61s\n",
      "94:\tlearn: 1833.9566126\ttotal: 4.42s\tremaining: 2.56s\n",
      "95:\tlearn: 1833.4266939\ttotal: 4.45s\tremaining: 2.5s\n",
      "96:\tlearn: 1832.7939702\ttotal: 4.48s\tremaining: 2.45s\n",
      "97:\tlearn: 1831.9073235\ttotal: 4.51s\tremaining: 2.39s\n",
      "98:\tlearn: 1831.0913972\ttotal: 4.56s\tremaining: 2.35s\n",
      "99:\tlearn: 1830.4648826\ttotal: 4.61s\tremaining: 2.3s\n",
      "100:\tlearn: 1829.6884601\ttotal: 4.64s\tremaining: 2.25s\n",
      "101:\tlearn: 1828.6661197\ttotal: 4.69s\tremaining: 2.21s\n",
      "102:\tlearn: 1827.5369780\ttotal: 4.77s\tremaining: 2.17s\n",
      "103:\tlearn: 1826.4555164\ttotal: 4.82s\tremaining: 2.13s\n",
      "104:\tlearn: 1825.4246889\ttotal: 4.92s\tremaining: 2.11s\n",
      "105:\tlearn: 1824.6078777\ttotal: 4.96s\tremaining: 2.06s\n",
      "106:\tlearn: 1823.5706916\ttotal: 5.01s\tremaining: 2.01s\n",
      "107:\tlearn: 1822.8413943\ttotal: 5.06s\tremaining: 1.97s\n",
      "108:\tlearn: 1821.2883991\ttotal: 5.1s\tremaining: 1.92s\n",
      "109:\tlearn: 1820.3912638\ttotal: 5.14s\tremaining: 1.87s\n",
      "110:\tlearn: 1819.0384549\ttotal: 5.19s\tremaining: 1.82s\n",
      "111:\tlearn: 1817.9628311\ttotal: 5.24s\tremaining: 1.78s\n",
      "112:\tlearn: 1816.8863017\ttotal: 5.29s\tremaining: 1.73s\n",
      "113:\tlearn: 1815.8587525\ttotal: 5.36s\tremaining: 1.69s\n",
      "114:\tlearn: 1815.5069388\ttotal: 5.46s\tremaining: 1.66s\n",
      "115:\tlearn: 1814.1505935\ttotal: 5.52s\tremaining: 1.62s\n",
      "116:\tlearn: 1813.1028765\ttotal: 5.56s\tremaining: 1.57s\n",
      "117:\tlearn: 1812.5176611\ttotal: 5.59s\tremaining: 1.51s\n",
      "118:\tlearn: 1811.5805116\ttotal: 5.63s\tremaining: 1.47s\n",
      "119:\tlearn: 1810.6821596\ttotal: 5.66s\tremaining: 1.42s\n",
      "120:\tlearn: 1809.7411820\ttotal: 5.71s\tremaining: 1.37s\n",
      "121:\tlearn: 1808.8734280\ttotal: 5.74s\tremaining: 1.32s\n",
      "122:\tlearn: 1807.2564167\ttotal: 5.78s\tremaining: 1.27s\n",
      "123:\tlearn: 1806.7999553\ttotal: 5.81s\tremaining: 1.22s\n",
      "124:\tlearn: 1805.5916485\ttotal: 5.84s\tremaining: 1.17s\n",
      "125:\tlearn: 1805.1980766\ttotal: 5.88s\tremaining: 1.12s\n",
      "126:\tlearn: 1803.8069398\ttotal: 5.96s\tremaining: 1.08s\n",
      "127:\tlearn: 1803.0373452\ttotal: 6.04s\tremaining: 1.04s\n",
      "128:\tlearn: 1802.4831756\ttotal: 6.08s\tremaining: 990ms\n",
      "129:\tlearn: 1801.5047025\ttotal: 6.11s\tremaining: 940ms\n",
      "130:\tlearn: 1800.7850978\ttotal: 6.14s\tremaining: 891ms\n",
      "131:\tlearn: 1800.0294687\ttotal: 6.18s\tremaining: 844ms\n",
      "132:\tlearn: 1799.6523764\ttotal: 6.21s\tremaining: 794ms\n",
      "133:\tlearn: 1798.9258396\ttotal: 6.25s\tremaining: 746ms\n",
      "134:\tlearn: 1798.3474868\ttotal: 6.29s\tremaining: 699ms\n",
      "135:\tlearn: 1797.5804479\ttotal: 6.32s\tremaining: 651ms\n",
      "136:\tlearn: 1796.7829405\ttotal: 6.35s\tremaining: 603ms\n",
      "137:\tlearn: 1795.9670767\ttotal: 6.39s\tremaining: 555ms\n",
      "138:\tlearn: 1795.4822646\ttotal: 6.42s\tremaining: 508ms\n",
      "139:\tlearn: 1794.6182093\ttotal: 6.45s\tremaining: 461ms\n",
      "140:\tlearn: 1793.6202312\ttotal: 6.49s\tremaining: 414ms\n",
      "141:\tlearn: 1793.0696315\ttotal: 6.52s\tremaining: 367ms\n",
      "142:\tlearn: 1792.5585379\ttotal: 6.55s\tremaining: 321ms\n",
      "143:\tlearn: 1791.6597411\ttotal: 6.58s\tremaining: 274ms\n",
      "144:\tlearn: 1791.0536678\ttotal: 6.61s\tremaining: 228ms\n",
      "145:\tlearn: 1790.7713437\ttotal: 6.64s\tremaining: 182ms\n",
      "146:\tlearn: 1789.9363251\ttotal: 6.68s\tremaining: 136ms\n",
      "147:\tlearn: 1789.4783837\ttotal: 6.71s\tremaining: 90.7ms\n",
      "148:\tlearn: 1789.1590517\ttotal: 6.74s\tremaining: 45.2ms\n",
      "149:\tlearn: 1788.2571776\ttotal: 6.77s\tremaining: 0us\n",
      "Learning rate set to 0.446403\n",
      "0:\tlearn: 3340.4722491\ttotal: 52.5ms\tremaining: 7.82s\n",
      "1:\tlearn: 2754.0193556\ttotal: 106ms\tremaining: 7.87s\n",
      "2:\tlearn: 2493.0759475\ttotal: 149ms\tremaining: 7.3s\n",
      "3:\tlearn: 2341.2075463\ttotal: 183ms\tremaining: 6.66s\n",
      "4:\tlearn: 2250.8147442\ttotal: 220ms\tremaining: 6.37s\n",
      "5:\tlearn: 2175.6614455\ttotal: 261ms\tremaining: 6.26s\n",
      "6:\tlearn: 2138.5980548\ttotal: 298ms\tremaining: 6.08s\n",
      "7:\tlearn: 2107.8879727\ttotal: 332ms\tremaining: 5.9s\n",
      "8:\tlearn: 2090.1073836\ttotal: 364ms\tremaining: 5.7s\n",
      "9:\tlearn: 2054.9652065\ttotal: 407ms\tremaining: 5.69s\n",
      "10:\tlearn: 2036.6413298\ttotal: 459ms\tremaining: 5.79s\n",
      "11:\tlearn: 2021.8013971\ttotal: 511ms\tremaining: 5.88s\n",
      "12:\tlearn: 2012.5665613\ttotal: 550ms\tremaining: 5.79s\n",
      "13:\tlearn: 2001.4955089\ttotal: 584ms\tremaining: 5.67s\n",
      "14:\tlearn: 1991.9690954\ttotal: 619ms\tremaining: 5.57s\n",
      "15:\tlearn: 1985.0921516\ttotal: 652ms\tremaining: 5.46s\n",
      "16:\tlearn: 1975.8206867\ttotal: 692ms\tremaining: 5.42s\n",
      "17:\tlearn: 1970.6884632\ttotal: 722ms\tremaining: 5.3s\n",
      "18:\tlearn: 1966.3862160\ttotal: 752ms\tremaining: 5.18s\n",
      "19:\tlearn: 1957.1661720\ttotal: 786ms\tremaining: 5.11s\n",
      "20:\tlearn: 1952.6877901\ttotal: 815ms\tremaining: 5s\n",
      "21:\tlearn: 1947.5560316\ttotal: 849ms\tremaining: 4.94s\n",
      "22:\tlearn: 1941.7791195\ttotal: 886ms\tremaining: 4.89s\n",
      "23:\tlearn: 1930.6386696\ttotal: 926ms\tremaining: 4.86s\n",
      "24:\tlearn: 1925.0051077\ttotal: 959ms\tremaining: 4.79s\n",
      "25:\tlearn: 1920.7573209\ttotal: 990ms\tremaining: 4.72s\n",
      "26:\tlearn: 1915.5537228\ttotal: 1.02s\tremaining: 4.67s\n",
      "27:\tlearn: 1912.2153058\ttotal: 1.06s\tremaining: 4.64s\n",
      "28:\tlearn: 1908.1045208\ttotal: 1.1s\tremaining: 4.6s\n",
      "29:\tlearn: 1904.4611583\ttotal: 1.13s\tremaining: 4.53s\n",
      "30:\tlearn: 1900.7382460\ttotal: 1.16s\tremaining: 4.46s\n",
      "31:\tlearn: 1897.6359008\ttotal: 1.19s\tremaining: 4.4s\n",
      "32:\tlearn: 1893.1375541\ttotal: 1.23s\tremaining: 4.36s\n",
      "33:\tlearn: 1889.1328666\ttotal: 1.26s\tremaining: 4.31s\n",
      "34:\tlearn: 1885.9934099\ttotal: 1.29s\tremaining: 4.26s\n",
      "35:\tlearn: 1882.8543501\ttotal: 1.33s\tremaining: 4.2s\n",
      "36:\tlearn: 1879.1170233\ttotal: 1.36s\tremaining: 4.15s\n",
      "37:\tlearn: 1874.8771421\ttotal: 1.39s\tremaining: 4.11s\n",
      "38:\tlearn: 1869.0605404\ttotal: 1.43s\tremaining: 4.07s\n",
      "39:\tlearn: 1866.5882834\ttotal: 1.46s\tremaining: 4.03s\n",
      "40:\tlearn: 1863.7558683\ttotal: 1.5s\tremaining: 3.98s\n",
      "41:\tlearn: 1859.0270753\ttotal: 1.53s\tremaining: 3.94s\n",
      "42:\tlearn: 1856.5497224\ttotal: 1.57s\tremaining: 3.9s\n",
      "43:\tlearn: 1852.1443705\ttotal: 1.6s\tremaining: 3.85s\n",
      "44:\tlearn: 1849.5499395\ttotal: 1.64s\tremaining: 3.82s\n",
      "45:\tlearn: 1847.7022870\ttotal: 1.67s\tremaining: 3.78s\n",
      "46:\tlearn: 1844.9466742\ttotal: 1.71s\tremaining: 3.74s\n",
      "47:\tlearn: 1842.8244174\ttotal: 1.74s\tremaining: 3.71s\n",
      "48:\tlearn: 1839.5693986\ttotal: 1.78s\tremaining: 3.67s\n",
      "49:\tlearn: 1835.7336943\ttotal: 1.81s\tremaining: 3.63s\n",
      "50:\tlearn: 1833.5273946\ttotal: 1.85s\tremaining: 3.6s\n",
      "51:\tlearn: 1830.8058009\ttotal: 1.89s\tremaining: 3.56s\n",
      "52:\tlearn: 1829.1263775\ttotal: 1.92s\tremaining: 3.51s\n",
      "53:\tlearn: 1827.0791301\ttotal: 1.95s\tremaining: 3.47s\n",
      "54:\tlearn: 1826.1299650\ttotal: 1.98s\tremaining: 3.42s\n",
      "55:\tlearn: 1823.6329847\ttotal: 2.02s\tremaining: 3.39s\n",
      "56:\tlearn: 1819.4901568\ttotal: 2.05s\tremaining: 3.35s\n",
      "57:\tlearn: 1817.7134033\ttotal: 2.09s\tremaining: 3.32s\n",
      "58:\tlearn: 1815.8984815\ttotal: 2.12s\tremaining: 3.27s\n",
      "59:\tlearn: 1812.6241456\ttotal: 2.15s\tremaining: 3.23s\n",
      "60:\tlearn: 1810.5217233\ttotal: 2.19s\tremaining: 3.19s\n",
      "61:\tlearn: 1809.2312370\ttotal: 2.22s\tremaining: 3.15s\n",
      "62:\tlearn: 1807.7559108\ttotal: 2.25s\tremaining: 3.11s\n",
      "63:\tlearn: 1805.0284793\ttotal: 2.29s\tremaining: 3.08s\n",
      "64:\tlearn: 1802.5306486\ttotal: 2.33s\tremaining: 3.04s\n",
      "65:\tlearn: 1800.5108797\ttotal: 2.36s\tremaining: 3s\n",
      "66:\tlearn: 1796.9283985\ttotal: 2.39s\tremaining: 2.96s\n",
      "67:\tlearn: 1795.0641930\ttotal: 2.43s\tremaining: 2.93s\n",
      "68:\tlearn: 1793.1853135\ttotal: 2.46s\tremaining: 2.88s\n",
      "69:\tlearn: 1791.2942922\ttotal: 2.5s\tremaining: 2.86s\n",
      "70:\tlearn: 1790.0546712\ttotal: 2.54s\tremaining: 2.82s\n",
      "71:\tlearn: 1788.8240475\ttotal: 2.57s\tremaining: 2.79s\n",
      "72:\tlearn: 1787.4212130\ttotal: 2.61s\tremaining: 2.75s\n",
      "73:\tlearn: 1785.8542563\ttotal: 2.64s\tremaining: 2.71s\n",
      "74:\tlearn: 1784.6066596\ttotal: 2.68s\tremaining: 2.68s\n",
      "75:\tlearn: 1782.7175651\ttotal: 2.72s\tremaining: 2.65s\n",
      "76:\tlearn: 1781.1090868\ttotal: 2.76s\tremaining: 2.62s\n",
      "77:\tlearn: 1780.1799397\ttotal: 2.79s\tremaining: 2.58s\n",
      "78:\tlearn: 1778.6449916\ttotal: 2.84s\tremaining: 2.55s\n",
      "79:\tlearn: 1776.9113113\ttotal: 2.87s\tremaining: 2.52s\n",
      "80:\tlearn: 1775.9485562\ttotal: 2.91s\tremaining: 2.48s\n",
      "81:\tlearn: 1774.2719265\ttotal: 2.95s\tremaining: 2.44s\n",
      "82:\tlearn: 1771.4152243\ttotal: 2.98s\tremaining: 2.41s\n",
      "83:\tlearn: 1769.6821319\ttotal: 3.02s\tremaining: 2.37s\n",
      "84:\tlearn: 1767.9860961\ttotal: 3.05s\tremaining: 2.33s\n",
      "85:\tlearn: 1766.0763287\ttotal: 3.08s\tremaining: 2.29s\n",
      "86:\tlearn: 1764.9478773\ttotal: 3.12s\tremaining: 2.26s\n",
      "87:\tlearn: 1762.9779497\ttotal: 3.16s\tremaining: 2.23s\n",
      "88:\tlearn: 1762.4124466\ttotal: 3.19s\tremaining: 2.18s\n",
      "89:\tlearn: 1760.7520308\ttotal: 3.22s\tremaining: 2.15s\n",
      "90:\tlearn: 1759.4847818\ttotal: 3.26s\tremaining: 2.11s\n",
      "91:\tlearn: 1758.2418606\ttotal: 3.3s\tremaining: 2.08s\n",
      "92:\tlearn: 1756.8763642\ttotal: 3.33s\tremaining: 2.04s\n",
      "93:\tlearn: 1755.0267182\ttotal: 3.37s\tremaining: 2.01s\n",
      "94:\tlearn: 1753.4805132\ttotal: 3.4s\tremaining: 1.97s\n",
      "95:\tlearn: 1751.7233573\ttotal: 3.43s\tremaining: 1.93s\n",
      "96:\tlearn: 1750.6214338\ttotal: 3.46s\tremaining: 1.89s\n",
      "97:\tlearn: 1748.9498927\ttotal: 3.5s\tremaining: 1.86s\n",
      "98:\tlearn: 1747.6206356\ttotal: 3.54s\tremaining: 1.82s\n",
      "99:\tlearn: 1746.9922875\ttotal: 3.57s\tremaining: 1.78s\n",
      "100:\tlearn: 1745.9550747\ttotal: 3.6s\tremaining: 1.75s\n",
      "101:\tlearn: 1744.5759566\ttotal: 3.63s\tremaining: 1.71s\n",
      "102:\tlearn: 1743.6256329\ttotal: 3.67s\tremaining: 1.67s\n",
      "103:\tlearn: 1742.5299802\ttotal: 3.7s\tremaining: 1.64s\n",
      "104:\tlearn: 1741.3973950\ttotal: 3.73s\tremaining: 1.6s\n",
      "105:\tlearn: 1740.4288187\ttotal: 3.77s\tremaining: 1.56s\n",
      "106:\tlearn: 1739.2235979\ttotal: 3.8s\tremaining: 1.53s\n",
      "107:\tlearn: 1738.5993086\ttotal: 3.83s\tremaining: 1.49s\n",
      "108:\tlearn: 1737.9969725\ttotal: 3.87s\tremaining: 1.45s\n",
      "109:\tlearn: 1736.6050258\ttotal: 3.9s\tremaining: 1.42s\n",
      "110:\tlearn: 1735.6008782\ttotal: 3.93s\tremaining: 1.38s\n",
      "111:\tlearn: 1734.5760239\ttotal: 3.96s\tremaining: 1.34s\n",
      "112:\tlearn: 1733.1549598\ttotal: 4s\tremaining: 1.31s\n",
      "113:\tlearn: 1731.7315241\ttotal: 4.03s\tremaining: 1.27s\n",
      "114:\tlearn: 1730.6623713\ttotal: 4.06s\tremaining: 1.24s\n",
      "115:\tlearn: 1729.7515281\ttotal: 4.09s\tremaining: 1.2s\n",
      "116:\tlearn: 1728.8669558\ttotal: 4.13s\tremaining: 1.16s\n",
      "117:\tlearn: 1727.7329254\ttotal: 4.16s\tremaining: 1.13s\n",
      "118:\tlearn: 1726.5069383\ttotal: 4.2s\tremaining: 1.09s\n",
      "119:\tlearn: 1725.4997497\ttotal: 4.23s\tremaining: 1.06s\n",
      "120:\tlearn: 1724.5030144\ttotal: 4.26s\tremaining: 1.02s\n",
      "121:\tlearn: 1723.4667379\ttotal: 4.29s\tremaining: 986ms\n",
      "122:\tlearn: 1722.6823805\ttotal: 4.33s\tremaining: 951ms\n",
      "123:\tlearn: 1721.9885594\ttotal: 4.36s\tremaining: 915ms\n",
      "124:\tlearn: 1720.9841461\ttotal: 4.39s\tremaining: 879ms\n",
      "125:\tlearn: 1720.1722754\ttotal: 4.43s\tremaining: 843ms\n",
      "126:\tlearn: 1719.4174217\ttotal: 4.46s\tremaining: 808ms\n",
      "127:\tlearn: 1718.7081359\ttotal: 4.49s\tremaining: 771ms\n",
      "128:\tlearn: 1717.6929242\ttotal: 4.53s\tremaining: 737ms\n",
      "129:\tlearn: 1716.4200683\ttotal: 4.56s\tremaining: 701ms\n",
      "130:\tlearn: 1715.0020278\ttotal: 4.59s\tremaining: 665ms\n",
      "131:\tlearn: 1714.2727965\ttotal: 4.62s\tremaining: 630ms\n",
      "132:\tlearn: 1713.2159846\ttotal: 4.65s\tremaining: 594ms\n",
      "133:\tlearn: 1711.6870952\ttotal: 4.68s\tremaining: 559ms\n",
      "134:\tlearn: 1710.6418491\ttotal: 4.72s\tremaining: 524ms\n",
      "135:\tlearn: 1710.1225789\ttotal: 4.75s\tremaining: 489ms\n",
      "136:\tlearn: 1709.6327203\ttotal: 4.78s\tremaining: 454ms\n",
      "137:\tlearn: 1708.7919369\ttotal: 4.82s\tremaining: 419ms\n",
      "138:\tlearn: 1708.2597683\ttotal: 4.85s\tremaining: 384ms\n",
      "139:\tlearn: 1707.5918300\ttotal: 4.88s\tremaining: 349ms\n",
      "140:\tlearn: 1706.4946246\ttotal: 4.92s\tremaining: 314ms\n",
      "141:\tlearn: 1705.7822593\ttotal: 4.95s\tremaining: 279ms\n",
      "142:\tlearn: 1704.5334064\ttotal: 4.99s\tremaining: 244ms\n",
      "143:\tlearn: 1703.7646558\ttotal: 5.02s\tremaining: 209ms\n",
      "144:\tlearn: 1702.8249918\ttotal: 5.05s\tremaining: 174ms\n",
      "145:\tlearn: 1702.2076938\ttotal: 5.09s\tremaining: 140ms\n",
      "146:\tlearn: 1701.6140557\ttotal: 5.12s\tremaining: 105ms\n",
      "147:\tlearn: 1700.7674470\ttotal: 5.16s\tremaining: 69.7ms\n",
      "148:\tlearn: 1699.9531261\ttotal: 5.2s\tremaining: 34.9ms\n",
      "149:\tlearn: 1698.7850632\ttotal: 5.23s\tremaining: 0us\n",
      "Learning rate set to 0.446403\n",
      "0:\tlearn: 3272.1576144\ttotal: 62.3ms\tremaining: 9.28s\n",
      "1:\tlearn: 2657.0655058\ttotal: 117ms\tremaining: 8.66s\n",
      "2:\tlearn: 2384.4535771\ttotal: 166ms\tremaining: 8.14s\n",
      "3:\tlearn: 2252.4695701\ttotal: 217ms\tremaining: 7.91s\n",
      "4:\tlearn: 2164.2255104\ttotal: 270ms\tremaining: 7.83s\n",
      "5:\tlearn: 2101.1385618\ttotal: 326ms\tremaining: 7.83s\n",
      "6:\tlearn: 2063.2143942\ttotal: 375ms\tremaining: 7.67s\n",
      "7:\tlearn: 2029.4090071\ttotal: 421ms\tremaining: 7.47s\n",
      "8:\tlearn: 2003.4916543\ttotal: 469ms\tremaining: 7.34s\n",
      "9:\tlearn: 1984.9024431\ttotal: 551ms\tremaining: 7.71s\n",
      "10:\tlearn: 1969.2975014\ttotal: 617ms\tremaining: 7.8s\n",
      "11:\tlearn: 1958.6222394\ttotal: 673ms\tremaining: 7.74s\n",
      "12:\tlearn: 1950.3042210\ttotal: 720ms\tremaining: 7.59s\n",
      "13:\tlearn: 1941.6676150\ttotal: 782ms\tremaining: 7.6s\n",
      "14:\tlearn: 1934.8002358\ttotal: 831ms\tremaining: 7.48s\n",
      "15:\tlearn: 1928.4142408\ttotal: 878ms\tremaining: 7.35s\n",
      "16:\tlearn: 1921.1789364\ttotal: 929ms\tremaining: 7.27s\n",
      "17:\tlearn: 1907.2834232\ttotal: 977ms\tremaining: 7.16s\n",
      "18:\tlearn: 1901.4932744\ttotal: 1.03s\tremaining: 7.08s\n",
      "19:\tlearn: 1897.1530947\ttotal: 1.07s\tremaining: 6.94s\n",
      "20:\tlearn: 1886.6555356\ttotal: 1.12s\tremaining: 6.86s\n",
      "21:\tlearn: 1880.9565179\ttotal: 1.16s\tremaining: 6.77s\n",
      "22:\tlearn: 1877.4578684\ttotal: 1.2s\tremaining: 6.63s\n",
      "23:\tlearn: 1871.7072811\ttotal: 1.25s\tremaining: 6.57s\n",
      "24:\tlearn: 1865.9907752\ttotal: 1.29s\tremaining: 6.47s\n",
      "25:\tlearn: 1854.3972509\ttotal: 1.34s\tremaining: 6.39s\n",
      "26:\tlearn: 1849.8670104\ttotal: 1.38s\tremaining: 6.31s\n",
      "27:\tlearn: 1845.0187184\ttotal: 1.43s\tremaining: 6.22s\n",
      "28:\tlearn: 1841.5892173\ttotal: 1.48s\tremaining: 6.16s\n",
      "29:\tlearn: 1838.1114894\ttotal: 1.54s\tremaining: 6.16s\n",
      "30:\tlearn: 1832.4846692\ttotal: 1.6s\tremaining: 6.15s\n",
      "31:\tlearn: 1829.2237249\ttotal: 1.66s\tremaining: 6.12s\n",
      "32:\tlearn: 1824.4394761\ttotal: 1.71s\tremaining: 6.06s\n",
      "33:\tlearn: 1821.5841370\ttotal: 1.75s\tremaining: 5.97s\n",
      "34:\tlearn: 1817.5298778\ttotal: 1.79s\tremaining: 5.9s\n",
      "35:\tlearn: 1814.7814847\ttotal: 1.84s\tremaining: 5.82s\n",
      "36:\tlearn: 1810.6240536\ttotal: 1.89s\tremaining: 5.76s\n",
      "37:\tlearn: 1807.3588764\ttotal: 1.93s\tremaining: 5.69s\n",
      "38:\tlearn: 1804.8296305\ttotal: 1.97s\tremaining: 5.61s\n",
      "39:\tlearn: 1801.3938628\ttotal: 2.02s\tremaining: 5.54s\n",
      "40:\tlearn: 1798.4012765\ttotal: 2.06s\tremaining: 5.46s\n",
      "41:\tlearn: 1796.0397571\ttotal: 2.11s\tremaining: 5.42s\n",
      "42:\tlearn: 1791.4382195\ttotal: 2.16s\tremaining: 5.38s\n",
      "43:\tlearn: 1788.9303386\ttotal: 2.21s\tremaining: 5.33s\n",
      "44:\tlearn: 1785.3135257\ttotal: 2.27s\tremaining: 5.3s\n",
      "45:\tlearn: 1782.1529010\ttotal: 2.35s\tremaining: 5.3s\n",
      "46:\tlearn: 1779.0441462\ttotal: 2.4s\tremaining: 5.27s\n",
      "47:\tlearn: 1776.7115120\ttotal: 2.46s\tremaining: 5.23s\n",
      "48:\tlearn: 1774.8789163\ttotal: 2.53s\tremaining: 5.21s\n",
      "49:\tlearn: 1772.2248695\ttotal: 2.6s\tremaining: 5.2s\n",
      "50:\tlearn: 1769.5786861\ttotal: 2.65s\tremaining: 5.15s\n",
      "51:\tlearn: 1768.0468583\ttotal: 2.7s\tremaining: 5.09s\n",
      "52:\tlearn: 1765.5433879\ttotal: 2.77s\tremaining: 5.06s\n",
      "53:\tlearn: 1762.3470737\ttotal: 2.83s\tremaining: 5.02s\n",
      "54:\tlearn: 1759.7295186\ttotal: 2.88s\tremaining: 4.98s\n",
      "55:\tlearn: 1758.1694086\ttotal: 2.93s\tremaining: 4.92s\n",
      "56:\tlearn: 1755.5156504\ttotal: 3s\tremaining: 4.89s\n",
      "57:\tlearn: 1753.4975490\ttotal: 3.05s\tremaining: 4.84s\n",
      "58:\tlearn: 1751.5004385\ttotal: 3.1s\tremaining: 4.78s\n",
      "59:\tlearn: 1749.3063277\ttotal: 3.15s\tremaining: 4.73s\n",
      "60:\tlearn: 1747.7557593\ttotal: 3.21s\tremaining: 4.69s\n",
      "61:\tlearn: 1746.2673539\ttotal: 3.27s\tremaining: 4.63s\n",
      "62:\tlearn: 1744.4784408\ttotal: 3.32s\tremaining: 4.59s\n",
      "63:\tlearn: 1741.9804703\ttotal: 3.38s\tremaining: 4.54s\n",
      "64:\tlearn: 1740.1516161\ttotal: 3.44s\tremaining: 4.5s\n",
      "65:\tlearn: 1738.4479800\ttotal: 3.52s\tremaining: 4.49s\n",
      "66:\tlearn: 1736.8587866\ttotal: 3.59s\tremaining: 4.45s\n",
      "67:\tlearn: 1735.2464073\ttotal: 3.67s\tremaining: 4.43s\n",
      "68:\tlearn: 1733.5345893\ttotal: 3.73s\tremaining: 4.38s\n",
      "69:\tlearn: 1731.9831994\ttotal: 3.78s\tremaining: 4.32s\n",
      "70:\tlearn: 1730.8632965\ttotal: 3.83s\tremaining: 4.26s\n",
      "71:\tlearn: 1729.5068233\ttotal: 3.89s\tremaining: 4.21s\n",
      "72:\tlearn: 1728.0357824\ttotal: 3.93s\tremaining: 4.14s\n",
      "73:\tlearn: 1725.7874451\ttotal: 3.98s\tremaining: 4.08s\n",
      "74:\tlearn: 1724.5691551\ttotal: 4.02s\tremaining: 4.02s\n",
      "75:\tlearn: 1723.1796595\ttotal: 4.06s\tremaining: 3.95s\n",
      "76:\tlearn: 1720.5637380\ttotal: 4.11s\tremaining: 3.9s\n",
      "77:\tlearn: 1718.0761268\ttotal: 4.16s\tremaining: 3.84s\n",
      "78:\tlearn: 1716.5946271\ttotal: 4.2s\tremaining: 3.77s\n",
      "79:\tlearn: 1715.2438673\ttotal: 4.24s\tremaining: 3.71s\n",
      "80:\tlearn: 1713.5832651\ttotal: 4.28s\tremaining: 3.65s\n",
      "81:\tlearn: 1711.5112254\ttotal: 4.34s\tremaining: 3.6s\n",
      "82:\tlearn: 1709.6824666\ttotal: 4.4s\tremaining: 3.55s\n",
      "83:\tlearn: 1708.6243585\ttotal: 4.46s\tremaining: 3.5s\n",
      "84:\tlearn: 1706.8934197\ttotal: 4.55s\tremaining: 3.48s\n",
      "85:\tlearn: 1704.7534852\ttotal: 4.61s\tremaining: 3.43s\n",
      "86:\tlearn: 1703.8080527\ttotal: 4.67s\tremaining: 3.38s\n",
      "87:\tlearn: 1702.8458643\ttotal: 4.72s\tremaining: 3.32s\n",
      "88:\tlearn: 1701.6321334\ttotal: 4.78s\tremaining: 3.28s\n",
      "89:\tlearn: 1699.7406557\ttotal: 4.84s\tremaining: 3.23s\n",
      "90:\tlearn: 1697.6670749\ttotal: 4.9s\tremaining: 3.18s\n",
      "91:\tlearn: 1696.1001480\ttotal: 4.97s\tremaining: 3.13s\n",
      "92:\tlearn: 1694.3036958\ttotal: 5.02s\tremaining: 3.08s\n",
      "93:\tlearn: 1692.1919100\ttotal: 5.08s\tremaining: 3.03s\n",
      "94:\tlearn: 1691.2453615\ttotal: 5.13s\tremaining: 2.97s\n",
      "95:\tlearn: 1690.1116403\ttotal: 5.17s\tremaining: 2.91s\n",
      "96:\tlearn: 1688.1026283\ttotal: 5.22s\tremaining: 2.85s\n",
      "97:\tlearn: 1685.7843052\ttotal: 5.27s\tremaining: 2.79s\n",
      "98:\tlearn: 1684.0143138\ttotal: 5.31s\tremaining: 2.74s\n",
      "99:\tlearn: 1682.5869004\ttotal: 5.35s\tremaining: 2.68s\n",
      "100:\tlearn: 1680.8158544\ttotal: 5.4s\tremaining: 2.62s\n",
      "101:\tlearn: 1679.0267971\ttotal: 5.46s\tremaining: 2.57s\n",
      "102:\tlearn: 1677.7081941\ttotal: 5.52s\tremaining: 2.52s\n",
      "103:\tlearn: 1676.1937218\ttotal: 5.59s\tremaining: 2.47s\n",
      "104:\tlearn: 1674.4392506\ttotal: 5.65s\tremaining: 2.42s\n",
      "105:\tlearn: 1672.6781922\ttotal: 5.69s\tremaining: 2.36s\n",
      "106:\tlearn: 1671.5593534\ttotal: 5.73s\tremaining: 2.3s\n",
      "107:\tlearn: 1670.1024167\ttotal: 5.77s\tremaining: 2.25s\n",
      "108:\tlearn: 1668.5625247\ttotal: 5.82s\tremaining: 2.19s\n",
      "109:\tlearn: 1667.1436917\ttotal: 5.87s\tremaining: 2.13s\n",
      "110:\tlearn: 1666.3973902\ttotal: 5.91s\tremaining: 2.08s\n",
      "111:\tlearn: 1665.2566855\ttotal: 5.96s\tremaining: 2.02s\n",
      "112:\tlearn: 1663.5768497\ttotal: 6s\tremaining: 1.97s\n",
      "113:\tlearn: 1662.2677461\ttotal: 6.05s\tremaining: 1.91s\n",
      "114:\tlearn: 1661.2400927\ttotal: 6.11s\tremaining: 1.86s\n",
      "115:\tlearn: 1660.0818353\ttotal: 6.15s\tremaining: 1.8s\n",
      "116:\tlearn: 1659.5176737\ttotal: 6.2s\tremaining: 1.75s\n",
      "117:\tlearn: 1658.7897913\ttotal: 6.25s\tremaining: 1.7s\n",
      "118:\tlearn: 1657.3494067\ttotal: 6.3s\tremaining: 1.64s\n",
      "119:\tlearn: 1655.6733709\ttotal: 6.35s\tremaining: 1.59s\n",
      "120:\tlearn: 1654.4811389\ttotal: 6.41s\tremaining: 1.54s\n",
      "121:\tlearn: 1653.7137925\ttotal: 6.47s\tremaining: 1.48s\n",
      "122:\tlearn: 1652.6758791\ttotal: 6.53s\tremaining: 1.43s\n",
      "123:\tlearn: 1651.2092010\ttotal: 6.59s\tremaining: 1.38s\n",
      "124:\tlearn: 1650.2505799\ttotal: 6.65s\tremaining: 1.33s\n",
      "125:\tlearn: 1649.0118933\ttotal: 6.69s\tremaining: 1.27s\n",
      "126:\tlearn: 1647.7063206\ttotal: 6.74s\tremaining: 1.22s\n",
      "127:\tlearn: 1646.7175534\ttotal: 6.78s\tremaining: 1.17s\n",
      "128:\tlearn: 1646.0594277\ttotal: 6.83s\tremaining: 1.11s\n",
      "129:\tlearn: 1644.7181718\ttotal: 6.88s\tremaining: 1.06s\n",
      "130:\tlearn: 1643.9302476\ttotal: 6.92s\tremaining: 1s\n",
      "131:\tlearn: 1642.3874574\ttotal: 6.97s\tremaining: 950ms\n",
      "132:\tlearn: 1641.1726928\ttotal: 7.02s\tremaining: 897ms\n",
      "133:\tlearn: 1640.5894549\ttotal: 7.06s\tremaining: 843ms\n",
      "134:\tlearn: 1639.9230811\ttotal: 7.11s\tremaining: 790ms\n",
      "135:\tlearn: 1638.7737504\ttotal: 7.16s\tremaining: 738ms\n",
      "136:\tlearn: 1637.9388935\ttotal: 7.22s\tremaining: 685ms\n",
      "137:\tlearn: 1636.9811191\ttotal: 7.27s\tremaining: 633ms\n",
      "138:\tlearn: 1636.0193407\ttotal: 7.32s\tremaining: 579ms\n",
      "139:\tlearn: 1635.4082480\ttotal: 7.36s\tremaining: 526ms\n",
      "140:\tlearn: 1634.5438137\ttotal: 7.41s\tremaining: 473ms\n",
      "141:\tlearn: 1633.8783855\ttotal: 7.47s\tremaining: 421ms\n",
      "142:\tlearn: 1632.8830102\ttotal: 7.53s\tremaining: 369ms\n",
      "143:\tlearn: 1632.2157604\ttotal: 7.6s\tremaining: 317ms\n",
      "144:\tlearn: 1630.9716814\ttotal: 7.65s\tremaining: 264ms\n",
      "145:\tlearn: 1629.8372357\ttotal: 7.69s\tremaining: 211ms\n",
      "146:\tlearn: 1628.9362828\ttotal: 7.74s\tremaining: 158ms\n",
      "147:\tlearn: 1628.5650469\ttotal: 7.78s\tremaining: 105ms\n",
      "148:\tlearn: 1627.9171771\ttotal: 7.82s\tremaining: 52.5ms\n",
      "149:\tlearn: 1627.3033592\ttotal: 7.87s\tremaining: 0us\n"
     ]
    }
   ],
   "source": [
    "for iteration in range(10, 151, 20):\n",
    "    \n",
    "    for depth in range(5, 11, 2):\n",
    "    \n",
    "        model_cbr = CatBoostRegressor(random_state=123, iterations=iteration, loss_function='RMSE', depth=depth)\n",
    "    \n",
    "        start = time.time() \n",
    "        model_cbr.fit(features_train, target_train)\n",
    "        end_time_fit = time.time() - start\n",
    "\n",
    "        start = time.time() \n",
    "        predictions_cbr = model_cbr.predict(features_valid, verbose=1)\n",
    "        end_time_predict = time.time() - start\n",
    "\n",
    "        RMSE = rmse(target_valid, predictions_cbr)\n",
    "    \n",
    "        results.append({'Модель': 'CatBoostRegressor', \n",
    "                        'Параметры': {'random_state':123, \n",
    "                                      'iterations': iteration, \n",
    "                                      'loss_function': 'RMSE', \n",
    "                                      'depth': depth}, \n",
    "                        'Время обучения': end_time_fit, \n",
    "                        'Скорость предсказания': end_time_predict, \n",
    "                        'RMSE': RMSE})"
   ]
  },
  {
   "cell_type": "code",
   "execution_count": 49,
   "metadata": {},
   "outputs": [
    {
     "data": {
      "text/html": [
       "<div>\n",
       "<style scoped>\n",
       "    .dataframe tbody tr th:only-of-type {\n",
       "        vertical-align: middle;\n",
       "    }\n",
       "\n",
       "    .dataframe tbody tr th {\n",
       "        vertical-align: top;\n",
       "    }\n",
       "\n",
       "    .dataframe thead th {\n",
       "        text-align: right;\n",
       "    }\n",
       "</style>\n",
       "<table border=\"1\" class=\"dataframe\">\n",
       "  <thead>\n",
       "    <tr style=\"text-align: right;\">\n",
       "      <th></th>\n",
       "      <th>Модель</th>\n",
       "      <th>Параметры</th>\n",
       "      <th>Время обучения</th>\n",
       "      <th>Скорость предсказания</th>\n",
       "      <th>RMSE</th>\n",
       "    </tr>\n",
       "  </thead>\n",
       "  <tbody>\n",
       "    <tr>\n",
       "      <th>0</th>\n",
       "      <td>LinearRegression</td>\n",
       "      <td>NaN</td>\n",
       "      <td>16.104141</td>\n",
       "      <td>0.312517</td>\n",
       "      <td>2933.557687</td>\n",
       "    </tr>\n",
       "    <tr>\n",
       "      <th>1</th>\n",
       "      <td>LGBMRegressor</td>\n",
       "      <td>{'boosting_type': 'gbdt', 'max_depth': 11, 'n_estimators': 120, 'random_state': 123}</td>\n",
       "      <td>5.810321</td>\n",
       "      <td>0.784832</td>\n",
       "      <td>1831.669763</td>\n",
       "    </tr>\n",
       "    <tr>\n",
       "      <th>2</th>\n",
       "      <td>CatBoostRegressor</td>\n",
       "      <td>{'random_state': 123, 'iterations': 10, 'loss_function': 'RMSE', 'depth': 5}</td>\n",
       "      <td>2.995094</td>\n",
       "      <td>0.046879</td>\n",
       "      <td>2144.491074</td>\n",
       "    </tr>\n",
       "    <tr>\n",
       "      <th>3</th>\n",
       "      <td>CatBoostRegressor</td>\n",
       "      <td>{'random_state': 123, 'iterations': 10, 'loss_function': 'RMSE', 'depth': 7}</td>\n",
       "      <td>1.841634</td>\n",
       "      <td>0.031248</td>\n",
       "      <td>2066.382805</td>\n",
       "    </tr>\n",
       "    <tr>\n",
       "      <th>4</th>\n",
       "      <td>CatBoostRegressor</td>\n",
       "      <td>{'random_state': 123, 'iterations': 10, 'loss_function': 'RMSE', 'depth': 9}</td>\n",
       "      <td>1.952581</td>\n",
       "      <td>0.015624</td>\n",
       "      <td>1980.382286</td>\n",
       "    </tr>\n",
       "    <tr>\n",
       "      <th>5</th>\n",
       "      <td>CatBoostRegressor</td>\n",
       "      <td>{'random_state': 123, 'iterations': 30, 'loss_function': 'RMSE', 'depth': 5}</td>\n",
       "      <td>2.373285</td>\n",
       "      <td>0.031250</td>\n",
       "      <td>1981.876845</td>\n",
       "    </tr>\n",
       "    <tr>\n",
       "      <th>6</th>\n",
       "      <td>CatBoostRegressor</td>\n",
       "      <td>{'random_state': 123, 'iterations': 30, 'loss_function': 'RMSE', 'depth': 7}</td>\n",
       "      <td>3.154782</td>\n",
       "      <td>0.046879</td>\n",
       "      <td>1920.944868</td>\n",
       "    </tr>\n",
       "    <tr>\n",
       "      <th>7</th>\n",
       "      <td>CatBoostRegressor</td>\n",
       "      <td>{'random_state': 123, 'iterations': 30, 'loss_function': 'RMSE', 'depth': 9}</td>\n",
       "      <td>3.080205</td>\n",
       "      <td>0.062498</td>\n",
       "      <td>1864.476969</td>\n",
       "    </tr>\n",
       "    <tr>\n",
       "      <th>8</th>\n",
       "      <td>CatBoostRegressor</td>\n",
       "      <td>{'random_state': 123, 'iterations': 50, 'loss_function': 'RMSE', 'depth': 5}</td>\n",
       "      <td>2.907117</td>\n",
       "      <td>0.046876</td>\n",
       "      <td>1918.555334</td>\n",
       "    </tr>\n",
       "    <tr>\n",
       "      <th>9</th>\n",
       "      <td>CatBoostRegressor</td>\n",
       "      <td>{'random_state': 123, 'iterations': 50, 'loss_function': 'RMSE', 'depth': 7}</td>\n",
       "      <td>3.377894</td>\n",
       "      <td>0.046876</td>\n",
       "      <td>1854.491179</td>\n",
       "    </tr>\n",
       "    <tr>\n",
       "      <th>10</th>\n",
       "      <td>CatBoostRegressor</td>\n",
       "      <td>{'random_state': 123, 'iterations': 50, 'loss_function': 'RMSE', 'depth': 9}</td>\n",
       "      <td>4.180072</td>\n",
       "      <td>0.093755</td>\n",
       "      <td>1819.847986</td>\n",
       "    </tr>\n",
       "    <tr>\n",
       "      <th>11</th>\n",
       "      <td>CatBoostRegressor</td>\n",
       "      <td>{'random_state': 123, 'iterations': 70, 'loss_function': 'RMSE', 'depth': 5}</td>\n",
       "      <td>4.094409</td>\n",
       "      <td>0.062495</td>\n",
       "      <td>1885.685724</td>\n",
       "    </tr>\n",
       "    <tr>\n",
       "      <th>12</th>\n",
       "      <td>CatBoostRegressor</td>\n",
       "      <td>{'random_state': 123, 'iterations': 70, 'loss_function': 'RMSE', 'depth': 7}</td>\n",
       "      <td>4.299502</td>\n",
       "      <td>0.062497</td>\n",
       "      <td>1830.188573</td>\n",
       "    </tr>\n",
       "    <tr>\n",
       "      <th>13</th>\n",
       "      <td>CatBoostRegressor</td>\n",
       "      <td>{'random_state': 123, 'iterations': 70, 'loss_function': 'RMSE', 'depth': 9}</td>\n",
       "      <td>5.255222</td>\n",
       "      <td>0.093750</td>\n",
       "      <td>1793.933281</td>\n",
       "    </tr>\n",
       "    <tr>\n",
       "      <th>14</th>\n",
       "      <td>CatBoostRegressor</td>\n",
       "      <td>{'random_state': 123, 'iterations': 90, 'loss_function': 'RMSE', 'depth': 5}</td>\n",
       "      <td>6.625859</td>\n",
       "      <td>0.078128</td>\n",
       "      <td>1862.041425</td>\n",
       "    </tr>\n",
       "    <tr>\n",
       "      <th>15</th>\n",
       "      <td>CatBoostRegressor</td>\n",
       "      <td>{'random_state': 123, 'iterations': 90, 'loss_function': 'RMSE', 'depth': 7}</td>\n",
       "      <td>6.728823</td>\n",
       "      <td>0.078123</td>\n",
       "      <td>1810.157847</td>\n",
       "    </tr>\n",
       "    <tr>\n",
       "      <th>16</th>\n",
       "      <td>CatBoostRegressor</td>\n",
       "      <td>{'random_state': 123, 'iterations': 90, 'loss_function': 'RMSE', 'depth': 9}</td>\n",
       "      <td>7.457164</td>\n",
       "      <td>0.125007</td>\n",
       "      <td>1777.335006</td>\n",
       "    </tr>\n",
       "    <tr>\n",
       "      <th>17</th>\n",
       "      <td>CatBoostRegressor</td>\n",
       "      <td>{'random_state': 123, 'iterations': 110, 'loss_function': 'RMSE', 'depth': 5}</td>\n",
       "      <td>5.187319</td>\n",
       "      <td>0.078125</td>\n",
       "      <td>1848.217338</td>\n",
       "    </tr>\n",
       "    <tr>\n",
       "      <th>18</th>\n",
       "      <td>CatBoostRegressor</td>\n",
       "      <td>{'random_state': 123, 'iterations': 110, 'loss_function': 'RMSE', 'depth': 7}</td>\n",
       "      <td>5.563634</td>\n",
       "      <td>0.078130</td>\n",
       "      <td>1796.583455</td>\n",
       "    </tr>\n",
       "    <tr>\n",
       "      <th>19</th>\n",
       "      <td>CatBoostRegressor</td>\n",
       "      <td>{'random_state': 123, 'iterations': 110, 'loss_function': 'RMSE', 'depth': 9}</td>\n",
       "      <td>7.506203</td>\n",
       "      <td>0.171883</td>\n",
       "      <td>1766.616579</td>\n",
       "    </tr>\n",
       "    <tr>\n",
       "      <th>20</th>\n",
       "      <td>CatBoostRegressor</td>\n",
       "      <td>{'random_state': 123, 'iterations': 130, 'loss_function': 'RMSE', 'depth': 5}</td>\n",
       "      <td>6.074762</td>\n",
       "      <td>0.078129</td>\n",
       "      <td>1833.074056</td>\n",
       "    </tr>\n",
       "    <tr>\n",
       "      <th>21</th>\n",
       "      <td>CatBoostRegressor</td>\n",
       "      <td>{'random_state': 123, 'iterations': 130, 'loss_function': 'RMSE', 'depth': 7}</td>\n",
       "      <td>7.289316</td>\n",
       "      <td>0.109380</td>\n",
       "      <td>1788.229187</td>\n",
       "    </tr>\n",
       "    <tr>\n",
       "      <th>22</th>\n",
       "      <td>CatBoostRegressor</td>\n",
       "      <td>{'random_state': 123, 'iterations': 130, 'loss_function': 'RMSE', 'depth': 9}</td>\n",
       "      <td>8.422970</td>\n",
       "      <td>0.171880</td>\n",
       "      <td>1756.664790</td>\n",
       "    </tr>\n",
       "    <tr>\n",
       "      <th>23</th>\n",
       "      <td>CatBoostRegressor</td>\n",
       "      <td>{'random_state': 123, 'iterations': 150, 'loss_function': 'RMSE', 'depth': 5}</td>\n",
       "      <td>8.627299</td>\n",
       "      <td>0.125005</td>\n",
       "      <td>1830.849468</td>\n",
       "    </tr>\n",
       "    <tr>\n",
       "      <th>24</th>\n",
       "      <td>CatBoostRegressor</td>\n",
       "      <td>{'random_state': 123, 'iterations': 150, 'loss_function': 'RMSE', 'depth': 7}</td>\n",
       "      <td>7.284764</td>\n",
       "      <td>0.093754</td>\n",
       "      <td>1780.638994</td>\n",
       "    </tr>\n",
       "    <tr>\n",
       "      <th>25</th>\n",
       "      <td>CatBoostRegressor</td>\n",
       "      <td>{'random_state': 123, 'iterations': 150, 'loss_function': 'RMSE', 'depth': 9}</td>\n",
       "      <td>9.374615</td>\n",
       "      <td>0.156254</td>\n",
       "      <td>1752.704487</td>\n",
       "    </tr>\n",
       "  </tbody>\n",
       "</table>\n",
       "</div>"
      ],
      "text/plain": [
       "               Модель  \\\n",
       "0   LinearRegression    \n",
       "1   LGBMRegressor       \n",
       "2   CatBoostRegressor   \n",
       "3   CatBoostRegressor   \n",
       "4   CatBoostRegressor   \n",
       "5   CatBoostRegressor   \n",
       "6   CatBoostRegressor   \n",
       "7   CatBoostRegressor   \n",
       "8   CatBoostRegressor   \n",
       "9   CatBoostRegressor   \n",
       "10  CatBoostRegressor   \n",
       "11  CatBoostRegressor   \n",
       "12  CatBoostRegressor   \n",
       "13  CatBoostRegressor   \n",
       "14  CatBoostRegressor   \n",
       "15  CatBoostRegressor   \n",
       "16  CatBoostRegressor   \n",
       "17  CatBoostRegressor   \n",
       "18  CatBoostRegressor   \n",
       "19  CatBoostRegressor   \n",
       "20  CatBoostRegressor   \n",
       "21  CatBoostRegressor   \n",
       "22  CatBoostRegressor   \n",
       "23  CatBoostRegressor   \n",
       "24  CatBoostRegressor   \n",
       "25  CatBoostRegressor   \n",
       "\n",
       "                                                                               Параметры  \\\n",
       "0   NaN                                                                                    \n",
       "1   {'boosting_type': 'gbdt', 'max_depth': 11, 'n_estimators': 120, 'random_state': 123}   \n",
       "2   {'random_state': 123, 'iterations': 10, 'loss_function': 'RMSE', 'depth': 5}           \n",
       "3   {'random_state': 123, 'iterations': 10, 'loss_function': 'RMSE', 'depth': 7}           \n",
       "4   {'random_state': 123, 'iterations': 10, 'loss_function': 'RMSE', 'depth': 9}           \n",
       "5   {'random_state': 123, 'iterations': 30, 'loss_function': 'RMSE', 'depth': 5}           \n",
       "6   {'random_state': 123, 'iterations': 30, 'loss_function': 'RMSE', 'depth': 7}           \n",
       "7   {'random_state': 123, 'iterations': 30, 'loss_function': 'RMSE', 'depth': 9}           \n",
       "8   {'random_state': 123, 'iterations': 50, 'loss_function': 'RMSE', 'depth': 5}           \n",
       "9   {'random_state': 123, 'iterations': 50, 'loss_function': 'RMSE', 'depth': 7}           \n",
       "10  {'random_state': 123, 'iterations': 50, 'loss_function': 'RMSE', 'depth': 9}           \n",
       "11  {'random_state': 123, 'iterations': 70, 'loss_function': 'RMSE', 'depth': 5}           \n",
       "12  {'random_state': 123, 'iterations': 70, 'loss_function': 'RMSE', 'depth': 7}           \n",
       "13  {'random_state': 123, 'iterations': 70, 'loss_function': 'RMSE', 'depth': 9}           \n",
       "14  {'random_state': 123, 'iterations': 90, 'loss_function': 'RMSE', 'depth': 5}           \n",
       "15  {'random_state': 123, 'iterations': 90, 'loss_function': 'RMSE', 'depth': 7}           \n",
       "16  {'random_state': 123, 'iterations': 90, 'loss_function': 'RMSE', 'depth': 9}           \n",
       "17  {'random_state': 123, 'iterations': 110, 'loss_function': 'RMSE', 'depth': 5}          \n",
       "18  {'random_state': 123, 'iterations': 110, 'loss_function': 'RMSE', 'depth': 7}          \n",
       "19  {'random_state': 123, 'iterations': 110, 'loss_function': 'RMSE', 'depth': 9}          \n",
       "20  {'random_state': 123, 'iterations': 130, 'loss_function': 'RMSE', 'depth': 5}          \n",
       "21  {'random_state': 123, 'iterations': 130, 'loss_function': 'RMSE', 'depth': 7}          \n",
       "22  {'random_state': 123, 'iterations': 130, 'loss_function': 'RMSE', 'depth': 9}          \n",
       "23  {'random_state': 123, 'iterations': 150, 'loss_function': 'RMSE', 'depth': 5}          \n",
       "24  {'random_state': 123, 'iterations': 150, 'loss_function': 'RMSE', 'depth': 7}          \n",
       "25  {'random_state': 123, 'iterations': 150, 'loss_function': 'RMSE', 'depth': 9}          \n",
       "\n",
       "    Время обучения  Скорость предсказания         RMSE  \n",
       "0   16.104141       0.312517               2933.557687  \n",
       "1   5.810321        0.784832               1831.669763  \n",
       "2   2.995094        0.046879               2144.491074  \n",
       "3   1.841634        0.031248               2066.382805  \n",
       "4   1.952581        0.015624               1980.382286  \n",
       "5   2.373285        0.031250               1981.876845  \n",
       "6   3.154782        0.046879               1920.944868  \n",
       "7   3.080205        0.062498               1864.476969  \n",
       "8   2.907117        0.046876               1918.555334  \n",
       "9   3.377894        0.046876               1854.491179  \n",
       "10  4.180072        0.093755               1819.847986  \n",
       "11  4.094409        0.062495               1885.685724  \n",
       "12  4.299502        0.062497               1830.188573  \n",
       "13  5.255222        0.093750               1793.933281  \n",
       "14  6.625859        0.078128               1862.041425  \n",
       "15  6.728823        0.078123               1810.157847  \n",
       "16  7.457164        0.125007               1777.335006  \n",
       "17  5.187319        0.078125               1848.217338  \n",
       "18  5.563634        0.078130               1796.583455  \n",
       "19  7.506203        0.171883               1766.616579  \n",
       "20  6.074762        0.078129               1833.074056  \n",
       "21  7.289316        0.109380               1788.229187  \n",
       "22  8.422970        0.171880               1756.664790  \n",
       "23  8.627299        0.125005               1830.849468  \n",
       "24  7.284764        0.093754               1780.638994  \n",
       "25  9.374615        0.156254               1752.704487  "
      ]
     },
     "execution_count": 49,
     "metadata": {},
     "output_type": "execute_result"
    }
   ],
   "source": [
    "pd.DataFrame(results)"
   ]
  },
  {
   "cell_type": "markdown",
   "metadata": {},
   "source": [
    "### 4.2.4. CatBoostRegressor на тестовой выборке "
   ]
  },
  {
   "cell_type": "markdown",
   "metadata": {},
   "source": [
    "В соответствии с условиями заказчику важны три параметра - качество предсказания, скорость предсказания и время обучения. С учетом этого, было бы целесообразно, до формирования окончательных рекомендации по выбору модели, уточнить у заказчика пороговые значения  соответствующих величин, которые будут для него критичны. В любом случае заказчику будет порекомендована модель CatBoostRegressor с гиперпараметрами, которые приводят к наилучшему, с т.з. заказчика результату. К примеру RMSE менее 1800 получено в восьми случаях (диапазон от 1752.704 до 1793.933 со временем обучения в диапазоне 5.255 до 9.374) По сравнению с остальными  модель CatBoostRegressor дает более менее приемлемое качество, при этом обучается и предсказывает сравнительно быстро."
   ]
  },
  {
   "cell_type": "markdown",
   "metadata": {},
   "source": [
    "Возможно, также заново провести подбор гиперпараметров и повторить эксперимент."
   ]
  },
  {
   "cell_type": "markdown",
   "metadata": {},
   "source": [
    "В качестве такого эксперимента проверим модель CatBoostRegressor на тестовой выборке."
   ]
  },
  {
   "cell_type": "code",
   "execution_count": 50,
   "metadata": {
    "scrolled": true
   },
   "outputs": [
    {
     "name": "stdout",
     "output_type": "stream",
     "text": [
      "Learning rate set to 0.5\n",
      "0:\tlearn: 3226.2911192\ttotal: 53.2ms\tremaining: 2.61s\n",
      "1:\tlearn: 2661.3234805\ttotal: 117ms\tremaining: 2.81s\n",
      "2:\tlearn: 2420.5803482\ttotal: 163ms\tremaining: 2.55s\n",
      "3:\tlearn: 2299.9941583\ttotal: 208ms\tremaining: 2.39s\n",
      "4:\tlearn: 2216.8175356\ttotal: 255ms\tremaining: 2.29s\n",
      "5:\tlearn: 2159.3772556\ttotal: 301ms\tremaining: 2.21s\n",
      "6:\tlearn: 2124.6969832\ttotal: 353ms\tremaining: 2.17s\n",
      "7:\tlearn: 2091.0959012\ttotal: 396ms\tremaining: 2.08s\n",
      "8:\tlearn: 2066.9770695\ttotal: 441ms\tremaining: 2.01s\n",
      "9:\tlearn: 2051.1067163\ttotal: 473ms\tremaining: 1.89s\n",
      "10:\tlearn: 2037.8666396\ttotal: 503ms\tremaining: 1.78s\n",
      "11:\tlearn: 2021.0380009\ttotal: 539ms\tremaining: 1.71s\n",
      "12:\tlearn: 2009.5588887\ttotal: 605ms\tremaining: 1.72s\n",
      "13:\tlearn: 1995.3022927\ttotal: 653ms\tremaining: 1.68s\n",
      "14:\tlearn: 1985.3255280\ttotal: 693ms\tremaining: 1.62s\n",
      "15:\tlearn: 1977.8409537\ttotal: 732ms\tremaining: 1.55s\n",
      "16:\tlearn: 1969.2484721\ttotal: 785ms\tremaining: 1.52s\n",
      "17:\tlearn: 1960.4351435\ttotal: 824ms\tremaining: 1.46s\n",
      "18:\tlearn: 1951.1876315\ttotal: 861ms\tremaining: 1.4s\n",
      "19:\tlearn: 1946.6567531\ttotal: 891ms\tremaining: 1.34s\n",
      "20:\tlearn: 1941.7514900\ttotal: 930ms\tremaining: 1.28s\n",
      "21:\tlearn: 1933.9053171\ttotal: 985ms\tremaining: 1.25s\n",
      "22:\tlearn: 1931.1010633\ttotal: 1.01s\tremaining: 1.19s\n",
      "23:\tlearn: 1925.1256763\ttotal: 1.05s\tremaining: 1.14s\n",
      "24:\tlearn: 1921.9821809\ttotal: 1.08s\tremaining: 1.08s\n",
      "25:\tlearn: 1919.0048747\ttotal: 1.11s\tremaining: 1.03s\n",
      "26:\tlearn: 1913.9936462\ttotal: 1.16s\tremaining: 985ms\n",
      "27:\tlearn: 1907.9525512\ttotal: 1.19s\tremaining: 936ms\n",
      "28:\tlearn: 1903.7386877\ttotal: 1.22s\tremaining: 887ms\n",
      "29:\tlearn: 1897.0051474\ttotal: 1.26s\tremaining: 839ms\n",
      "30:\tlearn: 1890.8368766\ttotal: 1.29s\tremaining: 792ms\n",
      "31:\tlearn: 1884.2427550\ttotal: 1.33s\tremaining: 750ms\n",
      "32:\tlearn: 1878.3834133\ttotal: 1.37s\tremaining: 706ms\n",
      "33:\tlearn: 1872.8046483\ttotal: 1.42s\tremaining: 668ms\n",
      "34:\tlearn: 1869.1428086\ttotal: 1.46s\tremaining: 626ms\n",
      "35:\tlearn: 1866.9353662\ttotal: 1.5s\tremaining: 583ms\n",
      "36:\tlearn: 1863.9451731\ttotal: 1.56s\tremaining: 549ms\n",
      "37:\tlearn: 1860.0081450\ttotal: 1.62s\tremaining: 513ms\n",
      "38:\tlearn: 1858.4160731\ttotal: 1.66s\tremaining: 469ms\n",
      "39:\tlearn: 1855.8105609\ttotal: 1.7s\tremaining: 425ms\n",
      "40:\tlearn: 1850.1030470\ttotal: 1.74s\tremaining: 383ms\n",
      "41:\tlearn: 1845.8624592\ttotal: 1.78s\tremaining: 340ms\n",
      "42:\tlearn: 1841.0598075\ttotal: 1.82s\tremaining: 296ms\n",
      "43:\tlearn: 1838.3738689\ttotal: 1.85s\tremaining: 252ms\n",
      "44:\tlearn: 1834.6108545\ttotal: 1.89s\tremaining: 210ms\n",
      "45:\tlearn: 1831.1287881\ttotal: 1.93s\tremaining: 168ms\n",
      "46:\tlearn: 1827.5997063\ttotal: 1.97s\tremaining: 126ms\n",
      "47:\tlearn: 1825.5259460\ttotal: 2.01s\tremaining: 83.8ms\n",
      "48:\tlearn: 1822.8905954\ttotal: 2.06s\tremaining: 42ms\n",
      "49:\tlearn: 1819.1325220\ttotal: 2.11s\tremaining: 0us\n",
      "Время обучения:  3.6266798973083496\n",
      "Скорость предсказания:  0.0625\n",
      "RMSE final: 1840.438146547212\n"
     ]
    }
   ],
   "source": [
    "model_final = CatBoostRegressor(random_state=123, iterations=50, loss_function='RMSE', depth=7)\n",
    "\n",
    "start = time.time() \n",
    "model_final.fit(features_train, target_train)\n",
    "end_time_fit = time.time() - start\n",
    "print('Время обучения: ', end_time_fit)\n",
    "\n",
    "start = time.time() \n",
    "predictions_final = model_final.predict(features_test)\n",
    "end_time_predict = time.time() - start\n",
    "print('Скорость предсказания: ', end_time_predict)\n",
    "\n",
    "print('RMSE final:', rmse(target_test, predictions_final))"
   ]
  },
  {
   "cell_type": "markdown",
   "metadata": {},
   "source": [
    "Сравним работу модели CatBoostRegressor с работой случайной модели."
   ]
  },
  {
   "cell_type": "code",
   "execution_count": 51,
   "metadata": {},
   "outputs": [
    {
     "name": "stdout",
     "output_type": "stream",
     "text": [
      "RMSE dummy: 4501.793863247985\n"
     ]
    }
   ],
   "source": [
    "dummy_regr = DummyRegressor(strategy='mean')\n",
    "\n",
    "dummy_regr.fit(features_train, target_train)\n",
    "predictions_r_dummy = dummy_regr.predict(features_test)\n",
    "print('RMSE dummy:', rmse(target_test, predictions_r_dummy))"
   ]
  },
  {
   "cell_type": "markdown",
   "metadata": {},
   "source": [
    "#### Вывод:\n",
    "Модель CatBoostRegressor, несмотря на то, что ее качество оставляет желать лучшего (RMSE final 1840.438 больше наименьшего достигнутого 1752.704), предсказывает гораздо лучше случайной модели (RMSE dummy 4501.793). В сложившейся ситуации одной из возможных стратегий будет повтор эксперимента с целью улучшения работы модели с ориентацией на пожелания заказчика относительно критической для заказчика величины пороговых значений качества предсказания, скорости предсказания и времени обучения. "
   ]
  },
  {
   "cell_type": "markdown",
   "metadata": {},
   "source": [
    "## 4.3. Обучение моделей с категориальными данными"
   ]
  },
  {
   "cell_type": "markdown",
   "metadata": {},
   "source": [
    "Создадим отдельный датафрейм с префиксом wt (without transformation) для обучения моделей с категориальными данными.Проверим типы данных в датафрейме."
   ]
  },
  {
   "cell_type": "code",
   "execution_count": 52,
   "metadata": {},
   "outputs": [],
   "source": [
    "clean_data_wt = clean_data"
   ]
  },
  {
   "cell_type": "code",
   "execution_count": 53,
   "metadata": {},
   "outputs": [
    {
     "name": "stdout",
     "output_type": "stream",
     "text": [
      "<class 'pandas.core.frame.DataFrame'>\n",
      "Int64Index: 354100 entries, 0 to 354368\n",
      "Data columns (total 10 columns):\n",
      " #   Column            Non-Null Count   Dtype   \n",
      "---  ------            --------------   -----   \n",
      " 0   Price             354100 non-null  int64   \n",
      " 1   VehicleType       354100 non-null  category\n",
      " 2   RegistrationYear  354100 non-null  int64   \n",
      " 3   Gearbox           354100 non-null  category\n",
      " 4   Power             354100 non-null  float64 \n",
      " 5   Model             354100 non-null  category\n",
      " 6   Kilometer         354100 non-null  int64   \n",
      " 7   FuelType          354100 non-null  category\n",
      " 8   Brand             354100 non-null  category\n",
      " 9   NotRepaired       354100 non-null  category\n",
      "dtypes: category(6), float64(1), int64(3)\n",
      "memory usage: 15.9 MB\n"
     ]
    },
    {
     "data": {
      "text/html": [
       "<div>\n",
       "<style scoped>\n",
       "    .dataframe tbody tr th:only-of-type {\n",
       "        vertical-align: middle;\n",
       "    }\n",
       "\n",
       "    .dataframe tbody tr th {\n",
       "        vertical-align: top;\n",
       "    }\n",
       "\n",
       "    .dataframe thead th {\n",
       "        text-align: right;\n",
       "    }\n",
       "</style>\n",
       "<table border=\"1\" class=\"dataframe\">\n",
       "  <thead>\n",
       "    <tr style=\"text-align: right;\">\n",
       "      <th></th>\n",
       "      <th>Price</th>\n",
       "      <th>VehicleType</th>\n",
       "      <th>RegistrationYear</th>\n",
       "      <th>Gearbox</th>\n",
       "      <th>Power</th>\n",
       "      <th>Model</th>\n",
       "      <th>Kilometer</th>\n",
       "      <th>FuelType</th>\n",
       "      <th>Brand</th>\n",
       "      <th>NotRepaired</th>\n",
       "    </tr>\n",
       "  </thead>\n",
       "  <tbody>\n",
       "    <tr>\n",
       "      <th>0</th>\n",
       "      <td>480</td>\n",
       "      <td>unknown</td>\n",
       "      <td>1993</td>\n",
       "      <td>manual</td>\n",
       "      <td>90.0</td>\n",
       "      <td>golf</td>\n",
       "      <td>150000</td>\n",
       "      <td>petrol</td>\n",
       "      <td>volkswagen</td>\n",
       "      <td>unknown</td>\n",
       "    </tr>\n",
       "    <tr>\n",
       "      <th>1</th>\n",
       "      <td>18300</td>\n",
       "      <td>coupe</td>\n",
       "      <td>2011</td>\n",
       "      <td>manual</td>\n",
       "      <td>190.0</td>\n",
       "      <td>unknown</td>\n",
       "      <td>125000</td>\n",
       "      <td>gasoline</td>\n",
       "      <td>audi</td>\n",
       "      <td>yes</td>\n",
       "    </tr>\n",
       "    <tr>\n",
       "      <th>2</th>\n",
       "      <td>9800</td>\n",
       "      <td>suv</td>\n",
       "      <td>2004</td>\n",
       "      <td>auto</td>\n",
       "      <td>163.0</td>\n",
       "      <td>grand</td>\n",
       "      <td>125000</td>\n",
       "      <td>gasoline</td>\n",
       "      <td>jeep</td>\n",
       "      <td>unknown</td>\n",
       "    </tr>\n",
       "    <tr>\n",
       "      <th>3</th>\n",
       "      <td>1500</td>\n",
       "      <td>small</td>\n",
       "      <td>2001</td>\n",
       "      <td>manual</td>\n",
       "      <td>75.0</td>\n",
       "      <td>golf</td>\n",
       "      <td>150000</td>\n",
       "      <td>petrol</td>\n",
       "      <td>volkswagen</td>\n",
       "      <td>no</td>\n",
       "    </tr>\n",
       "    <tr>\n",
       "      <th>4</th>\n",
       "      <td>3600</td>\n",
       "      <td>small</td>\n",
       "      <td>2008</td>\n",
       "      <td>manual</td>\n",
       "      <td>69.0</td>\n",
       "      <td>fabia</td>\n",
       "      <td>90000</td>\n",
       "      <td>gasoline</td>\n",
       "      <td>skoda</td>\n",
       "      <td>no</td>\n",
       "    </tr>\n",
       "  </tbody>\n",
       "</table>\n",
       "</div>"
      ],
      "text/plain": [
       "   Price VehicleType  RegistrationYear Gearbox  Power    Model  Kilometer  \\\n",
       "0  480    unknown     1993              manual  90.0   golf     150000      \n",
       "1  18300  coupe       2011              manual  190.0  unknown  125000      \n",
       "2  9800   suv         2004              auto    163.0  grand    125000      \n",
       "3  1500   small       2001              manual  75.0   golf     150000      \n",
       "4  3600   small       2008              manual  69.0   fabia    90000       \n",
       "\n",
       "   FuelType       Brand NotRepaired  \n",
       "0  petrol    volkswagen  unknown     \n",
       "1  gasoline  audi        yes         \n",
       "2  gasoline  jeep        unknown     \n",
       "3  petrol    volkswagen  no          \n",
       "4  gasoline  skoda       no          "
      ]
     },
     "execution_count": 53,
     "metadata": {},
     "output_type": "execute_result"
    }
   ],
   "source": [
    "clean_data_wt.info()\n",
    "clean_data_wt.head()"
   ]
  },
  {
   "cell_type": "markdown",
   "metadata": {},
   "source": [
    "### 4.3.1. Разбиение данных на выборки"
   ]
  },
  {
   "cell_type": "markdown",
   "metadata": {},
   "source": [
    "Разделим исходные данные на три выборки: обучающую, валидационную и тестовую в соотношении 3:1:1 (так как размеры тестовой и валидационной выборки обычно равны)."
   ]
  },
  {
   "cell_type": "markdown",
   "metadata": {},
   "source": [
    "С помощью методома train_test_split разделим исходные данные на обучающую (60%) и валидационную выборку (40%), затем валидационную выборку разделим в пропорции 50% на 50% — на валидационную и тестовую выборки."
   ]
  },
  {
   "cell_type": "code",
   "execution_count": 54,
   "metadata": {},
   "outputs": [],
   "source": [
    "target_wt = clean_data_wt['Price']\n",
    "features_wt = clean_data_wt.drop('Price', axis=1)"
   ]
  },
  {
   "cell_type": "code",
   "execution_count": 55,
   "metadata": {},
   "outputs": [],
   "source": [
    "features_train_wt, features_valid_wt, target_train_wt, target_valid_wt = train_test_split(features_wt, \n",
    "                                                                              target_wt, \n",
    "                                                                              train_size=0.60, \n",
    "                                                                              test_size=0.40, \n",
    "                                                                              random_state=123)"
   ]
  },
  {
   "cell_type": "code",
   "execution_count": 56,
   "metadata": {},
   "outputs": [],
   "source": [
    "features_valid_wt, features_test_wt, target_valid_wt, target_test_wt = train_test_split(features_valid_wt, \n",
    "                                                                            target_valid_wt, \n",
    "                                                                            train_size=0.50, \n",
    "                                                                            test_size=0.50, \n",
    "                                                                            random_state=123)"
   ]
  },
  {
   "cell_type": "markdown",
   "metadata": {},
   "source": [
    "Проверка результата."
   ]
  },
  {
   "cell_type": "code",
   "execution_count": 57,
   "metadata": {},
   "outputs": [
    {
     "name": "stdout",
     "output_type": "stream",
     "text": [
      "Размер обучающей выборки: (212460, 9)\n",
      "Размер валидационной выборки: (70820, 9)\n",
      "Размер тестовой выборки: (70820, 9)\n"
     ]
    }
   ],
   "source": [
    "samples_wt = {'Размер обучающей выборки' : features_train_wt, \n",
    "          'Размер валидационной выборки': features_valid_wt, \n",
    "          'Размер тестовой выборки': features_test_wt}\n",
    "\n",
    "for key, value in samples_wt.items():\n",
    "    print(key + ':', value.shape)"
   ]
  },
  {
   "cell_type": "markdown",
   "metadata": {},
   "source": [
    "### 4.3.2. LGBMRegressor c категориальными данными"
   ]
  },
  {
   "cell_type": "markdown",
   "metadata": {},
   "source": [
    "Проведем обучение модели LGBMRegressor с категориальными данными. Подберем гиперпараметры и обучим модель. Оценим время обучения и скорость и качество предсказания (RMSE)."
   ]
  },
  {
   "cell_type": "code",
   "execution_count": 58,
   "metadata": {},
   "outputs": [],
   "source": [
    "parameters = {'boosting_type': 'gbdt', \n",
    "              'max_depth': 11, \n",
    "              'n_estimators': 120, \n",
    "              'random_state': 123}"
   ]
  },
  {
   "cell_type": "code",
   "execution_count": 59,
   "metadata": {},
   "outputs": [],
   "source": [
    "model_lgbm_wt = LGBMRegressor(**parameters)"
   ]
  },
  {
   "cell_type": "code",
   "execution_count": 60,
   "metadata": {},
   "outputs": [
    {
     "name": "stdout",
     "output_type": "stream",
     "text": [
      "Время обучения:  2.034634590148926\n",
      "Скорость предсказания:  0.40126633644104004\n"
     ]
    }
   ],
   "source": [
    "start = time.time() \n",
    "model_lgbm_wt.fit(features_train_wt, target_train_wt)\n",
    "end_time_fit = time.time() - start\n",
    "print('Время обучения: ', end_time_fit)\n",
    "start = time.time() \n",
    "predictions_lgbm_wt = model_lgbm_wt.predict(features_valid_wt, verbose=2)\n",
    "end_time_predict = time.time() - start\n",
    "print('Скорость предсказания: ', end_time_predict)"
   ]
  },
  {
   "cell_type": "code",
   "execution_count": 61,
   "metadata": {},
   "outputs": [
    {
     "name": "stdout",
     "output_type": "stream",
     "text": [
      "RMSE на валидационной выборке: 1771.0391301285783\n"
     ]
    }
   ],
   "source": [
    "print('RMSE на валидационной выборке:', rmse(target_valid_wt, predictions_lgbm_wt))"
   ]
  },
  {
   "cell_type": "code",
   "execution_count": 62,
   "metadata": {},
   "outputs": [
    {
     "data": {
      "text/html": [
       "<div>\n",
       "<style scoped>\n",
       "    .dataframe tbody tr th:only-of-type {\n",
       "        vertical-align: middle;\n",
       "    }\n",
       "\n",
       "    .dataframe tbody tr th {\n",
       "        vertical-align: top;\n",
       "    }\n",
       "\n",
       "    .dataframe thead th {\n",
       "        text-align: right;\n",
       "    }\n",
       "</style>\n",
       "<table border=\"1\" class=\"dataframe\">\n",
       "  <thead>\n",
       "    <tr style=\"text-align: right;\">\n",
       "      <th></th>\n",
       "      <th>Модель</th>\n",
       "      <th>Параметры</th>\n",
       "      <th>Время обучения</th>\n",
       "      <th>Скорость предсказания</th>\n",
       "      <th>RMSE</th>\n",
       "    </tr>\n",
       "  </thead>\n",
       "  <tbody>\n",
       "    <tr>\n",
       "      <th>0</th>\n",
       "      <td>LinearRegression</td>\n",
       "      <td>NaN</td>\n",
       "      <td>16.104141</td>\n",
       "      <td>0.312517</td>\n",
       "      <td>2933.557687</td>\n",
       "    </tr>\n",
       "    <tr>\n",
       "      <th>1</th>\n",
       "      <td>LGBMRegressor</td>\n",
       "      <td>{'boosting_type': 'gbdt', 'max_depth': 11, 'n_estimators': 120, 'random_state': 123}</td>\n",
       "      <td>5.810321</td>\n",
       "      <td>0.784832</td>\n",
       "      <td>1831.669763</td>\n",
       "    </tr>\n",
       "    <tr>\n",
       "      <th>2</th>\n",
       "      <td>CatBoostRegressor</td>\n",
       "      <td>{'random_state': 123, 'iterations': 10, 'loss_function': 'RMSE', 'depth': 5}</td>\n",
       "      <td>2.995094</td>\n",
       "      <td>0.046879</td>\n",
       "      <td>2144.491074</td>\n",
       "    </tr>\n",
       "    <tr>\n",
       "      <th>3</th>\n",
       "      <td>CatBoostRegressor</td>\n",
       "      <td>{'random_state': 123, 'iterations': 10, 'loss_function': 'RMSE', 'depth': 7}</td>\n",
       "      <td>1.841634</td>\n",
       "      <td>0.031248</td>\n",
       "      <td>2066.382805</td>\n",
       "    </tr>\n",
       "    <tr>\n",
       "      <th>4</th>\n",
       "      <td>CatBoostRegressor</td>\n",
       "      <td>{'random_state': 123, 'iterations': 10, 'loss_function': 'RMSE', 'depth': 9}</td>\n",
       "      <td>1.952581</td>\n",
       "      <td>0.015624</td>\n",
       "      <td>1980.382286</td>\n",
       "    </tr>\n",
       "    <tr>\n",
       "      <th>5</th>\n",
       "      <td>CatBoostRegressor</td>\n",
       "      <td>{'random_state': 123, 'iterations': 30, 'loss_function': 'RMSE', 'depth': 5}</td>\n",
       "      <td>2.373285</td>\n",
       "      <td>0.031250</td>\n",
       "      <td>1981.876845</td>\n",
       "    </tr>\n",
       "    <tr>\n",
       "      <th>6</th>\n",
       "      <td>CatBoostRegressor</td>\n",
       "      <td>{'random_state': 123, 'iterations': 30, 'loss_function': 'RMSE', 'depth': 7}</td>\n",
       "      <td>3.154782</td>\n",
       "      <td>0.046879</td>\n",
       "      <td>1920.944868</td>\n",
       "    </tr>\n",
       "    <tr>\n",
       "      <th>7</th>\n",
       "      <td>CatBoostRegressor</td>\n",
       "      <td>{'random_state': 123, 'iterations': 30, 'loss_function': 'RMSE', 'depth': 9}</td>\n",
       "      <td>3.080205</td>\n",
       "      <td>0.062498</td>\n",
       "      <td>1864.476969</td>\n",
       "    </tr>\n",
       "    <tr>\n",
       "      <th>8</th>\n",
       "      <td>CatBoostRegressor</td>\n",
       "      <td>{'random_state': 123, 'iterations': 50, 'loss_function': 'RMSE', 'depth': 5}</td>\n",
       "      <td>2.907117</td>\n",
       "      <td>0.046876</td>\n",
       "      <td>1918.555334</td>\n",
       "    </tr>\n",
       "    <tr>\n",
       "      <th>9</th>\n",
       "      <td>CatBoostRegressor</td>\n",
       "      <td>{'random_state': 123, 'iterations': 50, 'loss_function': 'RMSE', 'depth': 7}</td>\n",
       "      <td>3.377894</td>\n",
       "      <td>0.046876</td>\n",
       "      <td>1854.491179</td>\n",
       "    </tr>\n",
       "    <tr>\n",
       "      <th>10</th>\n",
       "      <td>CatBoostRegressor</td>\n",
       "      <td>{'random_state': 123, 'iterations': 50, 'loss_function': 'RMSE', 'depth': 9}</td>\n",
       "      <td>4.180072</td>\n",
       "      <td>0.093755</td>\n",
       "      <td>1819.847986</td>\n",
       "    </tr>\n",
       "    <tr>\n",
       "      <th>11</th>\n",
       "      <td>CatBoostRegressor</td>\n",
       "      <td>{'random_state': 123, 'iterations': 70, 'loss_function': 'RMSE', 'depth': 5}</td>\n",
       "      <td>4.094409</td>\n",
       "      <td>0.062495</td>\n",
       "      <td>1885.685724</td>\n",
       "    </tr>\n",
       "    <tr>\n",
       "      <th>12</th>\n",
       "      <td>CatBoostRegressor</td>\n",
       "      <td>{'random_state': 123, 'iterations': 70, 'loss_function': 'RMSE', 'depth': 7}</td>\n",
       "      <td>4.299502</td>\n",
       "      <td>0.062497</td>\n",
       "      <td>1830.188573</td>\n",
       "    </tr>\n",
       "    <tr>\n",
       "      <th>13</th>\n",
       "      <td>CatBoostRegressor</td>\n",
       "      <td>{'random_state': 123, 'iterations': 70, 'loss_function': 'RMSE', 'depth': 9}</td>\n",
       "      <td>5.255222</td>\n",
       "      <td>0.093750</td>\n",
       "      <td>1793.933281</td>\n",
       "    </tr>\n",
       "    <tr>\n",
       "      <th>14</th>\n",
       "      <td>CatBoostRegressor</td>\n",
       "      <td>{'random_state': 123, 'iterations': 90, 'loss_function': 'RMSE', 'depth': 5}</td>\n",
       "      <td>6.625859</td>\n",
       "      <td>0.078128</td>\n",
       "      <td>1862.041425</td>\n",
       "    </tr>\n",
       "    <tr>\n",
       "      <th>15</th>\n",
       "      <td>CatBoostRegressor</td>\n",
       "      <td>{'random_state': 123, 'iterations': 90, 'loss_function': 'RMSE', 'depth': 7}</td>\n",
       "      <td>6.728823</td>\n",
       "      <td>0.078123</td>\n",
       "      <td>1810.157847</td>\n",
       "    </tr>\n",
       "    <tr>\n",
       "      <th>16</th>\n",
       "      <td>CatBoostRegressor</td>\n",
       "      <td>{'random_state': 123, 'iterations': 90, 'loss_function': 'RMSE', 'depth': 9}</td>\n",
       "      <td>7.457164</td>\n",
       "      <td>0.125007</td>\n",
       "      <td>1777.335006</td>\n",
       "    </tr>\n",
       "    <tr>\n",
       "      <th>17</th>\n",
       "      <td>CatBoostRegressor</td>\n",
       "      <td>{'random_state': 123, 'iterations': 110, 'loss_function': 'RMSE', 'depth': 5}</td>\n",
       "      <td>5.187319</td>\n",
       "      <td>0.078125</td>\n",
       "      <td>1848.217338</td>\n",
       "    </tr>\n",
       "    <tr>\n",
       "      <th>18</th>\n",
       "      <td>CatBoostRegressor</td>\n",
       "      <td>{'random_state': 123, 'iterations': 110, 'loss_function': 'RMSE', 'depth': 7}</td>\n",
       "      <td>5.563634</td>\n",
       "      <td>0.078130</td>\n",
       "      <td>1796.583455</td>\n",
       "    </tr>\n",
       "    <tr>\n",
       "      <th>19</th>\n",
       "      <td>CatBoostRegressor</td>\n",
       "      <td>{'random_state': 123, 'iterations': 110, 'loss_function': 'RMSE', 'depth': 9}</td>\n",
       "      <td>7.506203</td>\n",
       "      <td>0.171883</td>\n",
       "      <td>1766.616579</td>\n",
       "    </tr>\n",
       "    <tr>\n",
       "      <th>20</th>\n",
       "      <td>CatBoostRegressor</td>\n",
       "      <td>{'random_state': 123, 'iterations': 130, 'loss_function': 'RMSE', 'depth': 5}</td>\n",
       "      <td>6.074762</td>\n",
       "      <td>0.078129</td>\n",
       "      <td>1833.074056</td>\n",
       "    </tr>\n",
       "    <tr>\n",
       "      <th>21</th>\n",
       "      <td>CatBoostRegressor</td>\n",
       "      <td>{'random_state': 123, 'iterations': 130, 'loss_function': 'RMSE', 'depth': 7}</td>\n",
       "      <td>7.289316</td>\n",
       "      <td>0.109380</td>\n",
       "      <td>1788.229187</td>\n",
       "    </tr>\n",
       "    <tr>\n",
       "      <th>22</th>\n",
       "      <td>CatBoostRegressor</td>\n",
       "      <td>{'random_state': 123, 'iterations': 130, 'loss_function': 'RMSE', 'depth': 9}</td>\n",
       "      <td>8.422970</td>\n",
       "      <td>0.171880</td>\n",
       "      <td>1756.664790</td>\n",
       "    </tr>\n",
       "    <tr>\n",
       "      <th>23</th>\n",
       "      <td>CatBoostRegressor</td>\n",
       "      <td>{'random_state': 123, 'iterations': 150, 'loss_function': 'RMSE', 'depth': 5}</td>\n",
       "      <td>8.627299</td>\n",
       "      <td>0.125005</td>\n",
       "      <td>1830.849468</td>\n",
       "    </tr>\n",
       "    <tr>\n",
       "      <th>24</th>\n",
       "      <td>CatBoostRegressor</td>\n",
       "      <td>{'random_state': 123, 'iterations': 150, 'loss_function': 'RMSE', 'depth': 7}</td>\n",
       "      <td>7.284764</td>\n",
       "      <td>0.093754</td>\n",
       "      <td>1780.638994</td>\n",
       "    </tr>\n",
       "    <tr>\n",
       "      <th>25</th>\n",
       "      <td>CatBoostRegressor</td>\n",
       "      <td>{'random_state': 123, 'iterations': 150, 'loss_function': 'RMSE', 'depth': 9}</td>\n",
       "      <td>9.374615</td>\n",
       "      <td>0.156254</td>\n",
       "      <td>1752.704487</td>\n",
       "    </tr>\n",
       "    <tr>\n",
       "      <th>26</th>\n",
       "      <td>LGBMRegressor WT</td>\n",
       "      <td>{'boosting_type': 'gbdt', 'max_depth': 11, 'n_estimators': 120, 'random_state': 123}</td>\n",
       "      <td>2.034635</td>\n",
       "      <td>0.401266</td>\n",
       "      <td>1771.039130</td>\n",
       "    </tr>\n",
       "  </tbody>\n",
       "</table>\n",
       "</div>"
      ],
      "text/plain": [
       "               Модель  \\\n",
       "0   LinearRegression    \n",
       "1   LGBMRegressor       \n",
       "2   CatBoostRegressor   \n",
       "3   CatBoostRegressor   \n",
       "4   CatBoostRegressor   \n",
       "5   CatBoostRegressor   \n",
       "6   CatBoostRegressor   \n",
       "7   CatBoostRegressor   \n",
       "8   CatBoostRegressor   \n",
       "9   CatBoostRegressor   \n",
       "10  CatBoostRegressor   \n",
       "11  CatBoostRegressor   \n",
       "12  CatBoostRegressor   \n",
       "13  CatBoostRegressor   \n",
       "14  CatBoostRegressor   \n",
       "15  CatBoostRegressor   \n",
       "16  CatBoostRegressor   \n",
       "17  CatBoostRegressor   \n",
       "18  CatBoostRegressor   \n",
       "19  CatBoostRegressor   \n",
       "20  CatBoostRegressor   \n",
       "21  CatBoostRegressor   \n",
       "22  CatBoostRegressor   \n",
       "23  CatBoostRegressor   \n",
       "24  CatBoostRegressor   \n",
       "25  CatBoostRegressor   \n",
       "26  LGBMRegressor WT    \n",
       "\n",
       "                                                                               Параметры  \\\n",
       "0   NaN                                                                                    \n",
       "1   {'boosting_type': 'gbdt', 'max_depth': 11, 'n_estimators': 120, 'random_state': 123}   \n",
       "2   {'random_state': 123, 'iterations': 10, 'loss_function': 'RMSE', 'depth': 5}           \n",
       "3   {'random_state': 123, 'iterations': 10, 'loss_function': 'RMSE', 'depth': 7}           \n",
       "4   {'random_state': 123, 'iterations': 10, 'loss_function': 'RMSE', 'depth': 9}           \n",
       "5   {'random_state': 123, 'iterations': 30, 'loss_function': 'RMSE', 'depth': 5}           \n",
       "6   {'random_state': 123, 'iterations': 30, 'loss_function': 'RMSE', 'depth': 7}           \n",
       "7   {'random_state': 123, 'iterations': 30, 'loss_function': 'RMSE', 'depth': 9}           \n",
       "8   {'random_state': 123, 'iterations': 50, 'loss_function': 'RMSE', 'depth': 5}           \n",
       "9   {'random_state': 123, 'iterations': 50, 'loss_function': 'RMSE', 'depth': 7}           \n",
       "10  {'random_state': 123, 'iterations': 50, 'loss_function': 'RMSE', 'depth': 9}           \n",
       "11  {'random_state': 123, 'iterations': 70, 'loss_function': 'RMSE', 'depth': 5}           \n",
       "12  {'random_state': 123, 'iterations': 70, 'loss_function': 'RMSE', 'depth': 7}           \n",
       "13  {'random_state': 123, 'iterations': 70, 'loss_function': 'RMSE', 'depth': 9}           \n",
       "14  {'random_state': 123, 'iterations': 90, 'loss_function': 'RMSE', 'depth': 5}           \n",
       "15  {'random_state': 123, 'iterations': 90, 'loss_function': 'RMSE', 'depth': 7}           \n",
       "16  {'random_state': 123, 'iterations': 90, 'loss_function': 'RMSE', 'depth': 9}           \n",
       "17  {'random_state': 123, 'iterations': 110, 'loss_function': 'RMSE', 'depth': 5}          \n",
       "18  {'random_state': 123, 'iterations': 110, 'loss_function': 'RMSE', 'depth': 7}          \n",
       "19  {'random_state': 123, 'iterations': 110, 'loss_function': 'RMSE', 'depth': 9}          \n",
       "20  {'random_state': 123, 'iterations': 130, 'loss_function': 'RMSE', 'depth': 5}          \n",
       "21  {'random_state': 123, 'iterations': 130, 'loss_function': 'RMSE', 'depth': 7}          \n",
       "22  {'random_state': 123, 'iterations': 130, 'loss_function': 'RMSE', 'depth': 9}          \n",
       "23  {'random_state': 123, 'iterations': 150, 'loss_function': 'RMSE', 'depth': 5}          \n",
       "24  {'random_state': 123, 'iterations': 150, 'loss_function': 'RMSE', 'depth': 7}          \n",
       "25  {'random_state': 123, 'iterations': 150, 'loss_function': 'RMSE', 'depth': 9}          \n",
       "26  {'boosting_type': 'gbdt', 'max_depth': 11, 'n_estimators': 120, 'random_state': 123}   \n",
       "\n",
       "    Время обучения  Скорость предсказания         RMSE  \n",
       "0   16.104141       0.312517               2933.557687  \n",
       "1   5.810321        0.784832               1831.669763  \n",
       "2   2.995094        0.046879               2144.491074  \n",
       "3   1.841634        0.031248               2066.382805  \n",
       "4   1.952581        0.015624               1980.382286  \n",
       "5   2.373285        0.031250               1981.876845  \n",
       "6   3.154782        0.046879               1920.944868  \n",
       "7   3.080205        0.062498               1864.476969  \n",
       "8   2.907117        0.046876               1918.555334  \n",
       "9   3.377894        0.046876               1854.491179  \n",
       "10  4.180072        0.093755               1819.847986  \n",
       "11  4.094409        0.062495               1885.685724  \n",
       "12  4.299502        0.062497               1830.188573  \n",
       "13  5.255222        0.093750               1793.933281  \n",
       "14  6.625859        0.078128               1862.041425  \n",
       "15  6.728823        0.078123               1810.157847  \n",
       "16  7.457164        0.125007               1777.335006  \n",
       "17  5.187319        0.078125               1848.217338  \n",
       "18  5.563634        0.078130               1796.583455  \n",
       "19  7.506203        0.171883               1766.616579  \n",
       "20  6.074762        0.078129               1833.074056  \n",
       "21  7.289316        0.109380               1788.229187  \n",
       "22  8.422970        0.171880               1756.664790  \n",
       "23  8.627299        0.125005               1830.849468  \n",
       "24  7.284764        0.093754               1780.638994  \n",
       "25  9.374615        0.156254               1752.704487  \n",
       "26  2.034635        0.401266               1771.039130  "
      ]
     },
     "execution_count": 62,
     "metadata": {},
     "output_type": "execute_result"
    }
   ],
   "source": [
    "results.append({'Модель': 'LGBMRegressor WT', \n",
    "                'Параметры': parameters, \n",
    "                'Время обучения': end_time_fit, \n",
    "                'Скорость предсказания': end_time_predict, \n",
    "                'RMSE': rmse(target_valid_wt, predictions_lgbm_wt)})\n",
    "pd.DataFrame(results)"
   ]
  },
  {
   "cell_type": "markdown",
   "metadata": {},
   "source": [
    "Метрика RMSE у модели LGBMRegressor c категориальными данными показала один из лучших результатов по совокупности параметров: RMSE (попала в диапазон до 1800.000), время обучения, скорость предсказания."
   ]
  },
  {
   "cell_type": "markdown",
   "metadata": {},
   "source": [
    "### 4.3.3. CatBoostRegressor с категориальными данными"
   ]
  },
  {
   "cell_type": "markdown",
   "metadata": {},
   "source": [
    "Проведем обучение модели CatBoostRegressor с категориальными данными. Оценим время обучения и скорость и качество предсказания (RMSE)."
   ]
  },
  {
   "cell_type": "code",
   "execution_count": 63,
   "metadata": {},
   "outputs": [
    {
     "data": {
      "text/plain": [
       "GridSearchCV(cv=3,\n",
       "             estimator=<catboost.core.CatBoostRegressor object at 0x0000003A00A75670>,\n",
       "             n_jobs=-1,\n",
       "             param_grid={'depth': [10, 20, 30], 'iterations': [100, 200, 300],\n",
       "                         'random_state': [123], 'verbose': [False]},\n",
       "             scoring='neg_mean_squared_error')"
      ]
     },
     "execution_count": 63,
     "metadata": {},
     "output_type": "execute_result"
    }
   ],
   "source": [
    "model_cbr_wt = CatBoostRegressor(cat_features=cols_cat.tolist())\n",
    "hyperparams_cbr_wt = { 'depth'         : [10, 20, 30],\n",
    "                    'iterations'    : [100, 200, 300],\n",
    "                    'random_state'  : [123],\n",
    "                    'verbose'       : [False]\n",
    "                  }\n",
    "cbr_grid_wt = GridSearchCV(estimator=model_cbr_wt, \n",
    "                        param_grid = hyperparams_cbr_wt, \n",
    "                        cv = 3, \n",
    "                        scoring ='neg_mean_squared_error',\n",
    "                        n_jobs=-1)\n",
    "cbr_grid_wt.fit(features_train_wt, target_train_wt) "
   ]
  },
  {
   "cell_type": "code",
   "execution_count": 64,
   "metadata": {},
   "outputs": [
    {
     "data": {
      "text/plain": [
       "{'depth': 10, 'iterations': 300, 'random_state': 123, 'verbose': False}"
      ]
     },
     "execution_count": 64,
     "metadata": {},
     "output_type": "execute_result"
    }
   ],
   "source": [
    "cbr_grid_wt.best_params_"
   ]
  },
  {
   "cell_type": "code",
   "execution_count": 65,
   "metadata": {},
   "outputs": [
    {
     "data": {
      "text/plain": [
       "<catboost.core.CatBoostRegressor at 0x3a00a7c280>"
      ]
     },
     "execution_count": 65,
     "metadata": {},
     "output_type": "execute_result"
    }
   ],
   "source": [
    "cbr_grid_wt.best_estimator_\n"
   ]
  },
  {
   "cell_type": "code",
   "execution_count": 66,
   "metadata": {},
   "outputs": [
    {
     "data": {
      "text/plain": [
       "-3069527.432806766"
      ]
     },
     "execution_count": 66,
     "metadata": {},
     "output_type": "execute_result"
    }
   ],
   "source": [
    "cbr_grid_wt.best_score_"
   ]
  },
  {
   "cell_type": "code",
   "execution_count": 67,
   "metadata": {},
   "outputs": [
    {
     "name": "stdout",
     "output_type": "stream",
     "text": [
      "RMSE Модели CatBoostRegressor с категориальными данными 1752.0066874320903\n"
     ]
    }
   ],
   "source": [
    "rmse_cbr_wt = (cbr_grid_wt.best_score_*-1) ** 0.5\n",
    "print('RMSE Модели CatBoostRegressor с категориальными данными', rmse_cbr_wt) "
   ]
  },
  {
   "cell_type": "code",
   "execution_count": 68,
   "metadata": {},
   "outputs": [],
   "source": [
    "def model_result(model, X_train, X_test, y_train=target_train_wt, y_test=target_test_wt):\n",
    "    \n",
    "    start1 = time.time()\n",
    "    model.fit(X_train, y_train)\n",
    "    end1 = time.time()\n",
    "    time_train = end1 - start1\n",
    "\n",
    "    start2 = time.time()\n",
    "    y_pred = model.predict(X_test)\n",
    "    end2 = time.time()\n",
    "    time_predict = end2 - start2\n",
    "\n",
    "    rmse = mean_squared_error(y_test, y_pred) ** 0.5\n",
    "    return rmse, time_train, time_predict"
   ]
  },
  {
   "cell_type": "code",
   "execution_count": 69,
   "metadata": {},
   "outputs": [],
   "source": [
    "# CatBoost\n",
    "cbr_result_wt = model_result(cbr_grid_wt.best_estimator_, X_train=features_train_wt, X_test=features_test_wt)"
   ]
  },
  {
   "cell_type": "code",
   "execution_count": 70,
   "metadata": {},
   "outputs": [
    {
     "name": "stdout",
     "output_type": "stream",
     "text": [
      "Время обучения 200.56227922439575\n",
      "Скорость предсказания 0.6514313220977783\n",
      "RMSE 1716.233213021634\n"
     ]
    }
   ],
   "source": [
    "print('Время обучения', cbr_result_wt[1])\n",
    "print('Скорость предсказания', cbr_result_wt[2])   \n",
    "print('RMSE', cbr_result_wt[0]) "
   ]
  },
  {
   "cell_type": "code",
   "execution_count": 80,
   "metadata": {},
   "outputs": [
    {
     "data": {
      "text/html": [
       "<div>\n",
       "<style scoped>\n",
       "    .dataframe tbody tr th:only-of-type {\n",
       "        vertical-align: middle;\n",
       "    }\n",
       "\n",
       "    .dataframe tbody tr th {\n",
       "        vertical-align: top;\n",
       "    }\n",
       "\n",
       "    .dataframe thead th {\n",
       "        text-align: right;\n",
       "    }\n",
       "</style>\n",
       "<table border=\"1\" class=\"dataframe\">\n",
       "  <thead>\n",
       "    <tr style=\"text-align: right;\">\n",
       "      <th></th>\n",
       "      <th>Модель</th>\n",
       "      <th>Параметры</th>\n",
       "      <th>Время обучения</th>\n",
       "      <th>Скорость предсказания</th>\n",
       "      <th>RMSE</th>\n",
       "    </tr>\n",
       "  </thead>\n",
       "  <tbody>\n",
       "    <tr>\n",
       "      <th>0</th>\n",
       "      <td>LinearRegression</td>\n",
       "      <td>NaN</td>\n",
       "      <td>6.578453</td>\n",
       "      <td>0.171882</td>\n",
       "      <td>2933.557687</td>\n",
       "    </tr>\n",
       "    <tr>\n",
       "      <th>1</th>\n",
       "      <td>LGBMRegressor</td>\n",
       "      <td>{'boosting_type': 'gbdt', 'max_depth': 11, 'n_estimators': 120, 'random_state': 123}</td>\n",
       "      <td>3.794074</td>\n",
       "      <td>0.750169</td>\n",
       "      <td>1831.669763</td>\n",
       "    </tr>\n",
       "    <tr>\n",
       "      <th>2</th>\n",
       "      <td>CatBoostRegressor</td>\n",
       "      <td>{'random_state': 123, 'iterations': 10, 'loss_function': 'RMSE', 'depth': 5}</td>\n",
       "      <td>4.084579</td>\n",
       "      <td>0.140632</td>\n",
       "      <td>2144.491074</td>\n",
       "    </tr>\n",
       "    <tr>\n",
       "      <th>3</th>\n",
       "      <td>CatBoostRegressor</td>\n",
       "      <td>{'random_state': 123, 'iterations': 10, 'loss_function': 'RMSE', 'depth': 7}</td>\n",
       "      <td>2.050474</td>\n",
       "      <td>0.031251</td>\n",
       "      <td>2066.382805</td>\n",
       "    </tr>\n",
       "    <tr>\n",
       "      <th>4</th>\n",
       "      <td>CatBoostRegressor</td>\n",
       "      <td>{'random_state': 123, 'iterations': 10, 'loss_function': 'RMSE', 'depth': 9}</td>\n",
       "      <td>2.262437</td>\n",
       "      <td>0.031254</td>\n",
       "      <td>1980.382286</td>\n",
       "    </tr>\n",
       "    <tr>\n",
       "      <th>5</th>\n",
       "      <td>CatBoostRegressor</td>\n",
       "      <td>{'random_state': 123, 'iterations': 30, 'loss_function': 'RMSE', 'depth': 5}</td>\n",
       "      <td>2.412007</td>\n",
       "      <td>0.031250</td>\n",
       "      <td>1981.876845</td>\n",
       "    </tr>\n",
       "    <tr>\n",
       "      <th>6</th>\n",
       "      <td>CatBoostRegressor</td>\n",
       "      <td>{'random_state': 123, 'iterations': 30, 'loss_function': 'RMSE', 'depth': 7}</td>\n",
       "      <td>2.564240</td>\n",
       "      <td>0.046876</td>\n",
       "      <td>1920.944868</td>\n",
       "    </tr>\n",
       "    <tr>\n",
       "      <th>7</th>\n",
       "      <td>CatBoostRegressor</td>\n",
       "      <td>{'random_state': 123, 'iterations': 30, 'loss_function': 'RMSE', 'depth': 9}</td>\n",
       "      <td>2.906251</td>\n",
       "      <td>0.062506</td>\n",
       "      <td>1864.476969</td>\n",
       "    </tr>\n",
       "    <tr>\n",
       "      <th>8</th>\n",
       "      <td>CatBoostRegressor</td>\n",
       "      <td>{'random_state': 123, 'iterations': 50, 'loss_function': 'RMSE', 'depth': 5}</td>\n",
       "      <td>3.035653</td>\n",
       "      <td>0.046876</td>\n",
       "      <td>1918.555334</td>\n",
       "    </tr>\n",
       "    <tr>\n",
       "      <th>9</th>\n",
       "      <td>CatBoostRegressor</td>\n",
       "      <td>{'random_state': 123, 'iterations': 50, 'loss_function': 'RMSE', 'depth': 7}</td>\n",
       "      <td>4.039727</td>\n",
       "      <td>0.062464</td>\n",
       "      <td>1854.491179</td>\n",
       "    </tr>\n",
       "    <tr>\n",
       "      <th>10</th>\n",
       "      <td>CatBoostRegressor</td>\n",
       "      <td>{'random_state': 123, 'iterations': 50, 'loss_function': 'RMSE', 'depth': 9}</td>\n",
       "      <td>4.327186</td>\n",
       "      <td>0.093750</td>\n",
       "      <td>1819.847986</td>\n",
       "    </tr>\n",
       "    <tr>\n",
       "      <th>11</th>\n",
       "      <td>CatBoostRegressor</td>\n",
       "      <td>{'random_state': 123, 'iterations': 70, 'loss_function': 'RMSE', 'depth': 5}</td>\n",
       "      <td>3.452932</td>\n",
       "      <td>0.046876</td>\n",
       "      <td>1885.685724</td>\n",
       "    </tr>\n",
       "    <tr>\n",
       "      <th>12</th>\n",
       "      <td>CatBoostRegressor</td>\n",
       "      <td>{'random_state': 123, 'iterations': 70, 'loss_function': 'RMSE', 'depth': 7}</td>\n",
       "      <td>4.371380</td>\n",
       "      <td>0.078123</td>\n",
       "      <td>1830.188573</td>\n",
       "    </tr>\n",
       "    <tr>\n",
       "      <th>13</th>\n",
       "      <td>CatBoostRegressor</td>\n",
       "      <td>{'random_state': 123, 'iterations': 70, 'loss_function': 'RMSE', 'depth': 9}</td>\n",
       "      <td>5.463037</td>\n",
       "      <td>0.093753</td>\n",
       "      <td>1793.933281</td>\n",
       "    </tr>\n",
       "    <tr>\n",
       "      <th>14</th>\n",
       "      <td>CatBoostRegressor</td>\n",
       "      <td>{'random_state': 123, 'iterations': 90, 'loss_function': 'RMSE', 'depth': 5}</td>\n",
       "      <td>4.083042</td>\n",
       "      <td>0.062504</td>\n",
       "      <td>1862.041425</td>\n",
       "    </tr>\n",
       "    <tr>\n",
       "      <th>15</th>\n",
       "      <td>CatBoostRegressor</td>\n",
       "      <td>{'random_state': 123, 'iterations': 90, 'loss_function': 'RMSE', 'depth': 7}</td>\n",
       "      <td>4.899907</td>\n",
       "      <td>0.078125</td>\n",
       "      <td>1810.157847</td>\n",
       "    </tr>\n",
       "    <tr>\n",
       "      <th>16</th>\n",
       "      <td>CatBoostRegressor</td>\n",
       "      <td>{'random_state': 123, 'iterations': 90, 'loss_function': 'RMSE', 'depth': 9}</td>\n",
       "      <td>6.576626</td>\n",
       "      <td>0.140615</td>\n",
       "      <td>1777.335006</td>\n",
       "    </tr>\n",
       "    <tr>\n",
       "      <th>17</th>\n",
       "      <td>CatBoostRegressor</td>\n",
       "      <td>{'random_state': 123, 'iterations': 110, 'loss_function': 'RMSE', 'depth': 5}</td>\n",
       "      <td>5.164058</td>\n",
       "      <td>0.093749</td>\n",
       "      <td>1848.217338</td>\n",
       "    </tr>\n",
       "    <tr>\n",
       "      <th>18</th>\n",
       "      <td>CatBoostRegressor</td>\n",
       "      <td>{'random_state': 123, 'iterations': 110, 'loss_function': 'RMSE', 'depth': 7}</td>\n",
       "      <td>6.286052</td>\n",
       "      <td>0.078120</td>\n",
       "      <td>1796.583455</td>\n",
       "    </tr>\n",
       "    <tr>\n",
       "      <th>19</th>\n",
       "      <td>CatBoostRegressor</td>\n",
       "      <td>{'random_state': 123, 'iterations': 110, 'loss_function': 'RMSE', 'depth': 9}</td>\n",
       "      <td>7.819096</td>\n",
       "      <td>0.140632</td>\n",
       "      <td>1766.616579</td>\n",
       "    </tr>\n",
       "    <tr>\n",
       "      <th>20</th>\n",
       "      <td>CatBoostRegressor</td>\n",
       "      <td>{'random_state': 123, 'iterations': 130, 'loss_function': 'RMSE', 'depth': 5}</td>\n",
       "      <td>5.692583</td>\n",
       "      <td>0.078130</td>\n",
       "      <td>1833.074056</td>\n",
       "    </tr>\n",
       "    <tr>\n",
       "      <th>21</th>\n",
       "      <td>CatBoostRegressor</td>\n",
       "      <td>{'random_state': 123, 'iterations': 130, 'loss_function': 'RMSE', 'depth': 7}</td>\n",
       "      <td>6.677854</td>\n",
       "      <td>0.093755</td>\n",
       "      <td>1788.229187</td>\n",
       "    </tr>\n",
       "    <tr>\n",
       "      <th>22</th>\n",
       "      <td>CatBoostRegressor</td>\n",
       "      <td>{'random_state': 123, 'iterations': 130, 'loss_function': 'RMSE', 'depth': 9}</td>\n",
       "      <td>7.723531</td>\n",
       "      <td>0.140630</td>\n",
       "      <td>1756.664790</td>\n",
       "    </tr>\n",
       "    <tr>\n",
       "      <th>23</th>\n",
       "      <td>CatBoostRegressor</td>\n",
       "      <td>{'random_state': 123, 'iterations': 150, 'loss_function': 'RMSE', 'depth': 5}</td>\n",
       "      <td>6.542797</td>\n",
       "      <td>0.093689</td>\n",
       "      <td>1830.849468</td>\n",
       "    </tr>\n",
       "    <tr>\n",
       "      <th>24</th>\n",
       "      <td>CatBoostRegressor</td>\n",
       "      <td>{'random_state': 123, 'iterations': 150, 'loss_function': 'RMSE', 'depth': 7}</td>\n",
       "      <td>7.259613</td>\n",
       "      <td>0.125006</td>\n",
       "      <td>1780.638994</td>\n",
       "    </tr>\n",
       "    <tr>\n",
       "      <th>25</th>\n",
       "      <td>CatBoostRegressor</td>\n",
       "      <td>{'random_state': 123, 'iterations': 150, 'loss_function': 'RMSE', 'depth': 9}</td>\n",
       "      <td>10.964509</td>\n",
       "      <td>0.189806</td>\n",
       "      <td>1752.704487</td>\n",
       "    </tr>\n",
       "    <tr>\n",
       "      <th>26</th>\n",
       "      <td>LGBMRegressor WT</td>\n",
       "      <td>{'boosting_type': 'gbdt', 'max_depth': 11, 'n_estimators': 120, 'random_state': 123}</td>\n",
       "      <td>2.111237</td>\n",
       "      <td>0.520345</td>\n",
       "      <td>1771.039130</td>\n",
       "    </tr>\n",
       "    <tr>\n",
       "      <th>27</th>\n",
       "      <td>CatBoostRegressor WT</td>\n",
       "      <td>{'depth': 10, 'iterations': 300, 'random_state': 123, 'verbose': False}</td>\n",
       "      <td>229.662801</td>\n",
       "      <td>0.440937</td>\n",
       "      <td>1716.233213</td>\n",
       "    </tr>\n",
       "  </tbody>\n",
       "</table>\n",
       "</div>"
      ],
      "text/plain": [
       "                  Модель  \\\n",
       "0   LinearRegression       \n",
       "1   LGBMRegressor          \n",
       "2   CatBoostRegressor      \n",
       "3   CatBoostRegressor      \n",
       "4   CatBoostRegressor      \n",
       "5   CatBoostRegressor      \n",
       "6   CatBoostRegressor      \n",
       "7   CatBoostRegressor      \n",
       "8   CatBoostRegressor      \n",
       "9   CatBoostRegressor      \n",
       "10  CatBoostRegressor      \n",
       "11  CatBoostRegressor      \n",
       "12  CatBoostRegressor      \n",
       "13  CatBoostRegressor      \n",
       "14  CatBoostRegressor      \n",
       "15  CatBoostRegressor      \n",
       "16  CatBoostRegressor      \n",
       "17  CatBoostRegressor      \n",
       "18  CatBoostRegressor      \n",
       "19  CatBoostRegressor      \n",
       "20  CatBoostRegressor      \n",
       "21  CatBoostRegressor      \n",
       "22  CatBoostRegressor      \n",
       "23  CatBoostRegressor      \n",
       "24  CatBoostRegressor      \n",
       "25  CatBoostRegressor      \n",
       "26  LGBMRegressor WT       \n",
       "27  CatBoostRegressor WT   \n",
       "\n",
       "                                                                               Параметры  \\\n",
       "0   NaN                                                                                    \n",
       "1   {'boosting_type': 'gbdt', 'max_depth': 11, 'n_estimators': 120, 'random_state': 123}   \n",
       "2   {'random_state': 123, 'iterations': 10, 'loss_function': 'RMSE', 'depth': 5}           \n",
       "3   {'random_state': 123, 'iterations': 10, 'loss_function': 'RMSE', 'depth': 7}           \n",
       "4   {'random_state': 123, 'iterations': 10, 'loss_function': 'RMSE', 'depth': 9}           \n",
       "5   {'random_state': 123, 'iterations': 30, 'loss_function': 'RMSE', 'depth': 5}           \n",
       "6   {'random_state': 123, 'iterations': 30, 'loss_function': 'RMSE', 'depth': 7}           \n",
       "7   {'random_state': 123, 'iterations': 30, 'loss_function': 'RMSE', 'depth': 9}           \n",
       "8   {'random_state': 123, 'iterations': 50, 'loss_function': 'RMSE', 'depth': 5}           \n",
       "9   {'random_state': 123, 'iterations': 50, 'loss_function': 'RMSE', 'depth': 7}           \n",
       "10  {'random_state': 123, 'iterations': 50, 'loss_function': 'RMSE', 'depth': 9}           \n",
       "11  {'random_state': 123, 'iterations': 70, 'loss_function': 'RMSE', 'depth': 5}           \n",
       "12  {'random_state': 123, 'iterations': 70, 'loss_function': 'RMSE', 'depth': 7}           \n",
       "13  {'random_state': 123, 'iterations': 70, 'loss_function': 'RMSE', 'depth': 9}           \n",
       "14  {'random_state': 123, 'iterations': 90, 'loss_function': 'RMSE', 'depth': 5}           \n",
       "15  {'random_state': 123, 'iterations': 90, 'loss_function': 'RMSE', 'depth': 7}           \n",
       "16  {'random_state': 123, 'iterations': 90, 'loss_function': 'RMSE', 'depth': 9}           \n",
       "17  {'random_state': 123, 'iterations': 110, 'loss_function': 'RMSE', 'depth': 5}          \n",
       "18  {'random_state': 123, 'iterations': 110, 'loss_function': 'RMSE', 'depth': 7}          \n",
       "19  {'random_state': 123, 'iterations': 110, 'loss_function': 'RMSE', 'depth': 9}          \n",
       "20  {'random_state': 123, 'iterations': 130, 'loss_function': 'RMSE', 'depth': 5}          \n",
       "21  {'random_state': 123, 'iterations': 130, 'loss_function': 'RMSE', 'depth': 7}          \n",
       "22  {'random_state': 123, 'iterations': 130, 'loss_function': 'RMSE', 'depth': 9}          \n",
       "23  {'random_state': 123, 'iterations': 150, 'loss_function': 'RMSE', 'depth': 5}          \n",
       "24  {'random_state': 123, 'iterations': 150, 'loss_function': 'RMSE', 'depth': 7}          \n",
       "25  {'random_state': 123, 'iterations': 150, 'loss_function': 'RMSE', 'depth': 9}          \n",
       "26  {'boosting_type': 'gbdt', 'max_depth': 11, 'n_estimators': 120, 'random_state': 123}   \n",
       "27  {'depth': 10, 'iterations': 300, 'random_state': 123, 'verbose': False}                \n",
       "\n",
       "    Время обучения  Скорость предсказания         RMSE  \n",
       "0   6.578453        0.171882               2933.557687  \n",
       "1   3.794074        0.750169               1831.669763  \n",
       "2   4.084579        0.140632               2144.491074  \n",
       "3   2.050474        0.031251               2066.382805  \n",
       "4   2.262437        0.031254               1980.382286  \n",
       "5   2.412007        0.031250               1981.876845  \n",
       "6   2.564240        0.046876               1920.944868  \n",
       "7   2.906251        0.062506               1864.476969  \n",
       "8   3.035653        0.046876               1918.555334  \n",
       "9   4.039727        0.062464               1854.491179  \n",
       "10  4.327186        0.093750               1819.847986  \n",
       "11  3.452932        0.046876               1885.685724  \n",
       "12  4.371380        0.078123               1830.188573  \n",
       "13  5.463037        0.093753               1793.933281  \n",
       "14  4.083042        0.062504               1862.041425  \n",
       "15  4.899907        0.078125               1810.157847  \n",
       "16  6.576626        0.140615               1777.335006  \n",
       "17  5.164058        0.093749               1848.217338  \n",
       "18  6.286052        0.078120               1796.583455  \n",
       "19  7.819096        0.140632               1766.616579  \n",
       "20  5.692583        0.078130               1833.074056  \n",
       "21  6.677854        0.093755               1788.229187  \n",
       "22  7.723531        0.140630               1756.664790  \n",
       "23  6.542797        0.093689               1830.849468  \n",
       "24  7.259613        0.125006               1780.638994  \n",
       "25  10.964509       0.189806               1752.704487  \n",
       "26  2.111237        0.520345               1771.039130  \n",
       "27  229.662801      0.440937               1716.233213  "
      ]
     },
     "execution_count": 80,
     "metadata": {},
     "output_type": "execute_result"
    }
   ],
   "source": [
    "results.append({'Модель': 'CatBoostRegressor WT', \n",
    "                        'Параметры': cbr_grid_wt.best_params_, \n",
    "                        'Время обучения': cbr_result_wt[1], \n",
    "                        'Скорость предсказания': cbr_result_wt[2], \n",
    "                        'RMSE': cbr_result_wt[0]})\n",
    "pd.DataFrame(results)"
   ]
  },
  {
   "cell_type": "markdown",
   "metadata": {},
   "source": [
    "# 5. Анализ моделей и вывод"
   ]
  },
  {
   "cell_type": "markdown",
   "metadata": {},
   "source": [
    "#### По результатам использования трех моделей можно сделать следующий вывод:\n",
    "#### Для моделей без категориальных данных \n",
    "\n",
    "    •  наилучший результат RMSE при исследуемых параметров показывают модели CatBoostRegressor. Результат RMSE менее   1800.00 получено в восьми вариантах комбинаций гиперпараметров.\n",
    "    •  скорость предсказания лучше всего у модели CatBoostRegressor с гиперпараметрами iterations = 10 и depth = 7. Но показатель RMSE у этой модели очень высокий.\n",
    "    •  время обучения лучше у модели CatBoostRegressor с гиперпараметрами iterations = 10 и depth = 7, но - качество предсказаний очень низкое.\n",
    "    •  стабильное качество моделей CatBoostRegressor также подтверждается при проверке ее на тестовой выборке и сравнении результатов с результатами случайной модели (показатель RMSE лучше примерно в два раза.\n",
    " #### Для моделей с категориальными данными    \n",
    "    •  модель LGBTMRegressor демонстрирует вполне приличный результат RMSE 1771.039 на уровне с лучшими результатами модели CatBoostRegressor без категориальных данных, при этом величины времени обучения и скорости предсказания вполне сопоставимы с аналогичными величинами модели CatBoostRegressor без категориальных данных\n",
    "    •  наилучший результат RMSE для моделей с категориальными данными достигнут при использовании модели CatBoostRegressor, RMSE 1716.233. Однако, при высокой скорости предсказания, скорость обучения весьма существенна. Учитывая тот факт, что обучение является однократным процессом при использовании соответствующей модели, указанная модель может быть также рекомендована заказчику.\n"
   ]
  }
 ],
 "metadata": {
  "ExecuteTimeLog": [
   {
    "duration": 1865,
    "start_time": "2022-03-17T07:17:56.192Z"
   },
   {
    "duration": 178,
    "start_time": "2022-03-17T07:17:58.951Z"
   },
   {
    "duration": 19,
    "start_time": "2022-03-17T07:18:35.199Z"
   },
   {
    "duration": 16,
    "start_time": "2022-03-17T07:22:56.054Z"
   },
   {
    "duration": 10,
    "start_time": "2022-03-17T07:25:48.890Z"
   },
   {
    "duration": 54,
    "start_time": "2022-03-17T07:31:55.135Z"
   },
   {
    "duration": 5,
    "start_time": "2022-03-17T07:33:23.520Z"
   },
   {
    "duration": 3,
    "start_time": "2022-03-17T07:34:04.145Z"
   },
   {
    "duration": 12,
    "start_time": "2022-03-17T07:34:42.939Z"
   },
   {
    "duration": 11,
    "start_time": "2022-03-17T07:35:16.993Z"
   },
   {
    "duration": 199,
    "start_time": "2022-03-17T07:35:48.363Z"
   },
   {
    "duration": 12,
    "start_time": "2022-03-17T07:36:27.889Z"
   },
   {
    "duration": 12,
    "start_time": "2022-03-17T07:37:35.567Z"
   },
   {
    "duration": 12,
    "start_time": "2022-03-17T07:39:09.741Z"
   },
   {
    "duration": 7,
    "start_time": "2022-03-17T07:40:17.695Z"
   },
   {
    "duration": 45,
    "start_time": "2022-03-17T07:41:40.371Z"
   },
   {
    "duration": 41,
    "start_time": "2022-03-17T07:42:36.379Z"
   },
   {
    "duration": 6,
    "start_time": "2022-03-17T07:43:20.271Z"
   },
   {
    "duration": 7,
    "start_time": "2022-03-17T07:45:39.978Z"
   },
   {
    "duration": 6,
    "start_time": "2022-03-17T07:46:21.409Z"
   },
   {
    "duration": 7,
    "start_time": "2022-03-17T07:46:31.630Z"
   },
   {
    "duration": 170,
    "start_time": "2022-03-17T07:46:47.270Z"
   },
   {
    "duration": 6,
    "start_time": "2022-03-17T07:47:06.616Z"
   },
   {
    "duration": 16,
    "start_time": "2022-03-17T07:48:23.204Z"
   },
   {
    "duration": 11,
    "start_time": "2022-03-17T07:49:20.315Z"
   },
   {
    "duration": 64,
    "start_time": "2022-03-17T07:50:15.603Z"
   },
   {
    "duration": 11,
    "start_time": "2022-03-17T07:51:30.192Z"
   },
   {
    "duration": 23,
    "start_time": "2022-03-17T07:52:10.086Z"
   },
   {
    "duration": 6,
    "start_time": "2022-03-17T07:52:51.805Z"
   },
   {
    "duration": 15,
    "start_time": "2022-03-17T07:59:05.502Z"
   },
   {
    "duration": 157,
    "start_time": "2022-03-17T07:59:38.755Z"
   },
   {
    "duration": 5,
    "start_time": "2022-03-17T08:00:06.289Z"
   },
   {
    "duration": 5,
    "start_time": "2022-03-17T08:00:46.037Z"
   },
   {
    "duration": 3,
    "start_time": "2022-03-17T08:00:48.455Z"
   },
   {
    "duration": 4,
    "start_time": "2022-03-17T08:01:27.977Z"
   },
   {
    "duration": 15,
    "start_time": "2022-03-17T08:02:10.087Z"
   },
   {
    "duration": 31,
    "start_time": "2022-03-17T08:07:56.334Z"
   },
   {
    "duration": 273,
    "start_time": "2022-03-17T08:09:54.614Z"
   },
   {
    "duration": 32,
    "start_time": "2022-03-17T08:11:16.377Z"
   },
   {
    "duration": 7,
    "start_time": "2022-03-17T08:12:35.753Z"
   },
   {
    "duration": 17,
    "start_time": "2022-03-17T08:13:19.004Z"
   },
   {
    "duration": 10,
    "start_time": "2022-03-17T08:14:09.248Z"
   },
   {
    "duration": 10,
    "start_time": "2022-03-17T08:15:52.929Z"
   },
   {
    "duration": 10,
    "start_time": "2022-03-17T08:17:04.318Z"
   },
   {
    "duration": 46,
    "start_time": "2022-03-18T05:21:40.595Z"
   },
   {
    "duration": 6,
    "start_time": "2022-03-18T05:21:48.363Z"
   },
   {
    "duration": 1243,
    "start_time": "2022-03-18T05:22:21.480Z"
   },
   {
    "duration": 110,
    "start_time": "2022-03-18T05:22:24.480Z"
   },
   {
    "duration": 14,
    "start_time": "2022-03-18T05:22:28.789Z"
   },
   {
    "duration": 13,
    "start_time": "2022-03-18T05:22:33.603Z"
   },
   {
    "duration": 9,
    "start_time": "2022-03-18T05:22:37.829Z"
   },
   {
    "duration": 48,
    "start_time": "2022-03-18T05:22:41.851Z"
   },
   {
    "duration": 3,
    "start_time": "2022-03-18T05:22:45.516Z"
   },
   {
    "duration": 3,
    "start_time": "2022-03-18T05:22:48.955Z"
   },
   {
    "duration": 6,
    "start_time": "2022-03-18T05:22:52.611Z"
   },
   {
    "duration": 9,
    "start_time": "2022-03-18T05:22:55.028Z"
   },
   {
    "duration": 10,
    "start_time": "2022-03-18T05:22:59.874Z"
   },
   {
    "duration": 8,
    "start_time": "2022-03-18T05:23:03.298Z"
   },
   {
    "duration": 6,
    "start_time": "2022-03-18T05:23:06.464Z"
   },
   {
    "duration": 34,
    "start_time": "2022-03-18T05:23:11.672Z"
   },
   {
    "duration": 27,
    "start_time": "2022-03-18T05:23:17.492Z"
   },
   {
    "duration": 5,
    "start_time": "2022-03-18T05:23:20.604Z"
   },
   {
    "duration": 5,
    "start_time": "2022-03-18T05:23:24.100Z"
   },
   {
    "duration": 4,
    "start_time": "2022-03-18T05:23:27.363Z"
   },
   {
    "duration": 6,
    "start_time": "2022-03-18T05:23:30.026Z"
   },
   {
    "duration": 15,
    "start_time": "2022-03-18T05:23:33.772Z"
   },
   {
    "duration": 9,
    "start_time": "2022-03-18T05:23:38.938Z"
   },
   {
    "duration": 53,
    "start_time": "2022-03-18T05:23:42.543Z"
   },
   {
    "duration": 8,
    "start_time": "2022-03-18T05:23:48.997Z"
   },
   {
    "duration": 18,
    "start_time": "2022-03-18T05:23:53.261Z"
   },
   {
    "duration": 5,
    "start_time": "2022-03-18T05:23:56.457Z"
   },
   {
    "duration": 16,
    "start_time": "2022-03-18T05:24:00.548Z"
   },
   {
    "duration": 4,
    "start_time": "2022-03-18T05:24:05.268Z"
   },
   {
    "duration": 4,
    "start_time": "2022-03-18T05:24:08.530Z"
   },
   {
    "duration": 3,
    "start_time": "2022-03-18T05:24:10.878Z"
   },
   {
    "duration": 13,
    "start_time": "2022-03-18T05:24:14.894Z"
   },
   {
    "duration": 26,
    "start_time": "2022-03-18T05:26:10.495Z"
   },
   {
    "duration": 207,
    "start_time": "2022-03-18T05:26:15.288Z"
   },
   {
    "duration": 30,
    "start_time": "2022-03-18T05:26:20.329Z"
   },
   {
    "duration": 5,
    "start_time": "2022-03-18T05:26:23.704Z"
   },
   {
    "duration": 11,
    "start_time": "2022-03-18T05:26:27.701Z"
   },
   {
    "duration": 9,
    "start_time": "2022-03-18T05:26:31.023Z"
   },
   {
    "duration": 8,
    "start_time": "2022-03-18T05:26:33.951Z"
   },
   {
    "duration": 9,
    "start_time": "2022-03-18T05:26:37.311Z"
   },
   {
    "duration": 14,
    "start_time": "2022-03-18T05:26:41.738Z"
   },
   {
    "duration": 724,
    "start_time": "2022-03-18T05:28:04.731Z"
   },
   {
    "duration": 11,
    "start_time": "2022-03-18T05:31:16.892Z"
   },
   {
    "duration": 107,
    "start_time": "2022-03-18T05:31:40.989Z"
   },
   {
    "duration": 174,
    "start_time": "2022-03-18T05:32:27.630Z"
   },
   {
    "duration": 9,
    "start_time": "2022-03-18T05:35:37.403Z"
   },
   {
    "duration": 11,
    "start_time": "2022-03-18T05:36:57.498Z"
   },
   {
    "duration": 9,
    "start_time": "2022-03-18T05:37:38.332Z"
   },
   {
    "duration": 9,
    "start_time": "2022-03-18T05:38:24.974Z"
   },
   {
    "duration": 15,
    "start_time": "2022-03-18T05:39:09.838Z"
   },
   {
    "duration": 1068,
    "start_time": "2022-03-18T05:40:04.624Z"
   },
   {
    "duration": 215,
    "start_time": "2022-03-18T05:41:54.683Z"
   },
   {
    "duration": 38,
    "start_time": "2022-03-18T08:09:42.538Z"
   },
   {
    "duration": 4076,
    "start_time": "2022-03-18T08:11:34.394Z"
   },
   {
    "duration": 4,
    "start_time": "2022-03-18T08:13:32.196Z"
   },
   {
    "duration": 798,
    "start_time": "2022-03-18T08:14:08.800Z"
   },
   {
    "duration": 8,
    "start_time": "2022-03-18T08:15:44.095Z"
   },
   {
    "duration": 136,
    "start_time": "2022-03-18T08:16:48.433Z"
   },
   {
    "duration": 4,
    "start_time": "2022-03-18T08:19:14.701Z"
   },
   {
    "duration": 1282,
    "start_time": "2022-03-18T08:19:58.212Z"
   },
   {
    "duration": 4,
    "start_time": "2022-03-18T08:21:19.102Z"
   },
   {
    "duration": 48,
    "start_time": "2022-03-18T08:22:01.327Z"
   },
   {
    "duration": 124,
    "start_time": "2022-03-18T08:22:33.551Z"
   },
   {
    "duration": 4,
    "start_time": "2022-03-18T08:24:49.794Z"
   },
   {
    "duration": 13,
    "start_time": "2022-03-18T08:25:55.940Z"
   },
   {
    "duration": 4,
    "start_time": "2022-03-18T08:26:46.156Z"
   },
   {
    "duration": 8,
    "start_time": "2022-03-18T08:27:28.221Z"
   },
   {
    "duration": 180,
    "start_time": "2022-03-18T08:28:18.923Z"
   },
   {
    "duration": 5,
    "start_time": "2022-03-18T08:32:33.474Z"
   },
   {
    "duration": 5,
    "start_time": "2022-03-18T08:33:17.028Z"
   },
   {
    "duration": 154,
    "start_time": "2022-03-18T08:34:46.732Z"
   },
   {
    "duration": 16,
    "start_time": "2022-03-18T08:48:49.772Z"
   },
   {
    "duration": 10,
    "start_time": "2022-03-18T08:50:43.392Z"
   },
   {
    "duration": 19,
    "start_time": "2022-03-18T08:52:02.617Z"
   },
   {
    "duration": 13,
    "start_time": "2022-03-18T08:53:14.799Z"
   },
   {
    "duration": 2278,
    "start_time": "2022-03-18T08:54:08.803Z"
   },
   {
    "duration": 262,
    "start_time": "2022-03-18T08:57:01.184Z"
   },
   {
    "duration": 5,
    "start_time": "2022-03-18T08:57:32.798Z"
   },
   {
    "duration": 6,
    "start_time": "2022-03-18T08:58:35.390Z"
   },
   {
    "duration": 115,
    "start_time": "2022-03-18T08:59:15.672Z"
   },
   {
    "duration": 6,
    "start_time": "2022-03-18T08:59:37.419Z"
   },
   {
    "duration": 114,
    "start_time": "2022-03-18T09:00:13.505Z"
   },
   {
    "duration": 6,
    "start_time": "2022-03-18T09:00:46.060Z"
   },
   {
    "duration": 4,
    "start_time": "2022-03-18T09:01:47.458Z"
   },
   {
    "duration": 2249,
    "start_time": "2022-03-18T09:02:29.197Z"
   },
   {
    "duration": 6,
    "start_time": "2022-03-18T09:59:51.286Z"
   },
   {
    "duration": 6,
    "start_time": "2022-03-18T10:01:48.030Z"
   },
   {
    "duration": 7,
    "start_time": "2022-03-18T10:02:57.752Z"
   },
   {
    "duration": 5,
    "start_time": "2022-03-18T10:03:54.882Z"
   },
   {
    "duration": 1106,
    "start_time": "2022-03-18T10:24:10.358Z"
   },
   {
    "duration": 109,
    "start_time": "2022-03-18T10:24:39.300Z"
   },
   {
    "duration": 15,
    "start_time": "2022-03-18T10:24:54.053Z"
   },
   {
    "duration": 15,
    "start_time": "2022-03-18T10:31:21.468Z"
   },
   {
    "duration": 10,
    "start_time": "2022-03-18T10:32:17.637Z"
   },
   {
    "duration": 51,
    "start_time": "2022-03-18T10:32:58.516Z"
   },
   {
    "duration": 4,
    "start_time": "2022-03-18T10:38:31.296Z"
   },
   {
    "duration": 3,
    "start_time": "2022-03-18T10:39:21.582Z"
   },
   {
    "duration": 7,
    "start_time": "2022-03-18T10:39:52.632Z"
   },
   {
    "duration": 9,
    "start_time": "2022-03-18T10:40:06.318Z"
   },
   {
    "duration": 10,
    "start_time": "2022-03-18T10:41:56.586Z"
   },
   {
    "duration": 9,
    "start_time": "2022-03-18T10:43:26.593Z"
   },
   {
    "duration": 5,
    "start_time": "2022-03-18T10:44:52.267Z"
   },
   {
    "duration": 98,
    "start_time": "2022-03-18T10:49:14.619Z"
   },
   {
    "duration": 18,
    "start_time": "2022-03-18T10:53:33.047Z"
   },
   {
    "duration": 31,
    "start_time": "2022-03-18T10:54:36.345Z"
   },
   {
    "duration": 36,
    "start_time": "2022-03-18T10:56:54.026Z"
   },
   {
    "duration": 11,
    "start_time": "2022-03-18T10:57:02.651Z"
   },
   {
    "duration": 5,
    "start_time": "2022-03-18T10:57:11.952Z"
   },
   {
    "duration": 6,
    "start_time": "2022-03-18T10:59:25.286Z"
   },
   {
    "duration": 10,
    "start_time": "2022-03-18T10:59:46.021Z"
   },
   {
    "duration": 6,
    "start_time": "2022-03-18T10:59:58.149Z"
   },
   {
    "duration": 6,
    "start_time": "2022-03-18T11:00:06.404Z"
   },
   {
    "duration": 15,
    "start_time": "2022-03-18T11:00:29.956Z"
   },
   {
    "duration": 10,
    "start_time": "2022-03-18T11:01:14.129Z"
   },
   {
    "duration": 8,
    "start_time": "2022-03-18T11:01:40.313Z"
   },
   {
    "duration": 63,
    "start_time": "2022-03-18T11:01:49.925Z"
   },
   {
    "duration": 9,
    "start_time": "2022-03-18T11:03:20.072Z"
   },
   {
    "duration": 19,
    "start_time": "2022-03-18T11:04:34.803Z"
   },
   {
    "duration": 5,
    "start_time": "2022-03-18T11:04:44.947Z"
   },
   {
    "duration": 14,
    "start_time": "2022-03-18T11:10:42.943Z"
   },
   {
    "duration": 4,
    "start_time": "2022-03-18T11:11:04.939Z"
   },
   {
    "duration": 5,
    "start_time": "2022-03-18T11:11:25.550Z"
   },
   {
    "duration": 4,
    "start_time": "2022-03-18T11:11:57.997Z"
   },
   {
    "duration": 4,
    "start_time": "2022-03-18T11:12:25.007Z"
   },
   {
    "duration": 14,
    "start_time": "2022-03-18T11:12:42.135Z"
   },
   {
    "duration": 9,
    "start_time": "2022-03-18T11:14:45.956Z"
   },
   {
    "duration": 28,
    "start_time": "2022-03-18T11:15:01.371Z"
   },
   {
    "duration": 215,
    "start_time": "2022-03-18T11:16:53.694Z"
   },
   {
    "duration": 28,
    "start_time": "2022-03-18T11:18:01.398Z"
   },
   {
    "duration": 5,
    "start_time": "2022-03-18T11:18:26.293Z"
   },
   {
    "duration": 12,
    "start_time": "2022-03-18T11:19:30.989Z"
   },
   {
    "duration": 9,
    "start_time": "2022-03-18T11:20:29.473Z"
   },
   {
    "duration": 9,
    "start_time": "2022-03-18T11:21:08.010Z"
   },
   {
    "duration": 9,
    "start_time": "2022-03-18T11:21:22.240Z"
   },
   {
    "duration": 10,
    "start_time": "2022-03-18T11:22:05.370Z"
   },
   {
    "duration": 16,
    "start_time": "2022-03-18T11:22:42.123Z"
   },
   {
    "duration": 17,
    "start_time": "2022-03-18T12:13:27.646Z"
   },
   {
    "duration": 791,
    "start_time": "2022-03-18T12:16:03.612Z"
   },
   {
    "duration": 12,
    "start_time": "2022-03-18T12:24:09.304Z"
   },
   {
    "duration": 14,
    "start_time": "2022-03-18T12:24:24.138Z"
   },
   {
    "duration": 217,
    "start_time": "2022-03-18T12:25:18.063Z"
   },
   {
    "duration": 11,
    "start_time": "2022-03-18T12:27:14.885Z"
   },
   {
    "duration": 11,
    "start_time": "2022-03-18T12:28:16.710Z"
   },
   {
    "duration": 9,
    "start_time": "2022-03-18T12:28:54.982Z"
   },
   {
    "duration": 9,
    "start_time": "2022-03-18T12:29:35.197Z"
   },
   {
    "duration": 17,
    "start_time": "2022-03-18T12:31:03.532Z"
   },
   {
    "duration": 1197,
    "start_time": "2022-03-18T12:31:29.076Z"
   },
   {
    "duration": 228,
    "start_time": "2022-03-18T12:36:53.692Z"
   },
   {
    "duration": 37,
    "start_time": "2022-03-18T12:40:38.558Z"
   },
   {
    "duration": 4190,
    "start_time": "2022-03-18T12:40:45.996Z"
   },
   {
    "duration": 4,
    "start_time": "2022-03-18T12:41:47.813Z"
   },
   {
    "duration": 8,
    "start_time": "2022-03-18T12:42:34.602Z"
   },
   {
    "duration": 245,
    "start_time": "2022-03-18T12:42:40.126Z"
   },
   {
    "duration": 5,
    "start_time": "2022-03-18T12:43:00.421Z"
   },
   {
    "duration": 1177,
    "start_time": "2022-03-18T12:43:17.253Z"
   },
   {
    "duration": 4,
    "start_time": "2022-03-18T12:45:41.466Z"
   },
   {
    "duration": 47,
    "start_time": "2022-03-18T12:45:55.920Z"
   },
   {
    "duration": 127,
    "start_time": "2022-03-18T12:46:00.320Z"
   },
   {
    "duration": 5,
    "start_time": "2022-03-18T12:47:00.218Z"
   },
   {
    "duration": 13,
    "start_time": "2022-03-18T12:47:09.696Z"
   },
   {
    "duration": 5,
    "start_time": "2022-03-18T12:47:16.065Z"
   },
   {
    "duration": 8,
    "start_time": "2022-03-18T12:47:24.198Z"
   },
   {
    "duration": 175,
    "start_time": "2022-03-18T12:47:41.440Z"
   },
   {
    "duration": 6,
    "start_time": "2022-03-18T12:48:32.803Z"
   },
   {
    "duration": 27,
    "start_time": "2022-03-18T12:53:58.653Z"
   },
   {
    "duration": 42,
    "start_time": "2022-03-18T12:57:14.848Z"
   },
   {
    "duration": 36,
    "start_time": "2022-03-18T12:59:21.971Z"
   },
   {
    "duration": 18,
    "start_time": "2022-03-18T13:00:13.841Z"
   },
   {
    "duration": 114,
    "start_time": "2022-03-18T13:01:28.553Z"
   },
   {
    "duration": 124,
    "start_time": "2022-03-18T13:01:37.682Z"
   },
   {
    "duration": 126,
    "start_time": "2022-03-18T13:02:02.365Z"
   },
   {
    "duration": 48,
    "start_time": "2022-03-18T13:02:11.010Z"
   },
   {
    "duration": 141,
    "start_time": "2022-03-18T13:02:56.202Z"
   },
   {
    "duration": 18,
    "start_time": "2022-03-18T13:05:31.892Z"
   },
   {
    "duration": 6,
    "start_time": "2022-03-18T13:06:35.333Z"
   },
   {
    "duration": 6,
    "start_time": "2022-03-18T13:06:42.451Z"
   },
   {
    "duration": 270,
    "start_time": "2022-03-18T13:06:47.657Z"
   },
   {
    "duration": 26,
    "start_time": "2022-03-18T13:07:46.532Z"
   },
   {
    "duration": 26,
    "start_time": "2022-03-18T13:08:49.050Z"
   },
   {
    "duration": 144,
    "start_time": "2022-03-18T13:09:06.226Z"
   },
   {
    "duration": 19,
    "start_time": "2022-03-18T13:10:15.108Z"
   },
   {
    "duration": 9,
    "start_time": "2022-03-18T13:10:35.933Z"
   },
   {
    "duration": 24,
    "start_time": "2022-03-18T13:11:34.212Z"
   },
   {
    "duration": 22,
    "start_time": "2022-03-18T13:11:50.052Z"
   },
   {
    "duration": 12,
    "start_time": "2022-03-18T13:12:58.169Z"
   },
   {
    "duration": 2267,
    "start_time": "2022-03-18T13:13:08.038Z"
   },
   {
    "duration": 262,
    "start_time": "2022-03-18T13:13:26.021Z"
   },
   {
    "duration": 7,
    "start_time": "2022-03-18T13:14:44.047Z"
   },
   {
    "duration": 7,
    "start_time": "2022-03-18T13:14:50.891Z"
   },
   {
    "duration": 6,
    "start_time": "2022-03-18T13:15:11.601Z"
   },
   {
    "duration": 6,
    "start_time": "2022-03-18T13:15:17.126Z"
   },
   {
    "duration": 4,
    "start_time": "2022-03-18T13:16:02.081Z"
   },
   {
    "duration": 2238,
    "start_time": "2022-03-18T13:16:07.465Z"
   },
   {
    "duration": 6,
    "start_time": "2022-03-18T13:16:20.384Z"
   },
   {
    "duration": 6,
    "start_time": "2022-03-18T13:16:24.952Z"
   },
   {
    "duration": 5,
    "start_time": "2022-03-18T13:16:32.818Z"
   },
   {
    "duration": 6,
    "start_time": "2022-03-18T13:16:36.991Z"
   },
   {
    "duration": 1517,
    "start_time": "2022-03-29T10:08:46.485Z"
   },
   {
    "duration": 159,
    "start_time": "2022-03-29T10:08:48.005Z"
   },
   {
    "duration": 22,
    "start_time": "2022-03-29T10:08:48.167Z"
   },
   {
    "duration": 20,
    "start_time": "2022-03-29T10:08:48.192Z"
   },
   {
    "duration": 11,
    "start_time": "2022-03-29T10:08:48.214Z"
   },
   {
    "duration": 80,
    "start_time": "2022-03-29T10:08:48.228Z"
   },
   {
    "duration": 5,
    "start_time": "2022-03-29T10:08:48.310Z"
   },
   {
    "duration": 5,
    "start_time": "2022-03-29T10:08:48.317Z"
   },
   {
    "duration": 9,
    "start_time": "2022-03-29T10:08:48.324Z"
   },
   {
    "duration": 11,
    "start_time": "2022-03-29T10:08:48.337Z"
   },
   {
    "duration": 18,
    "start_time": "2022-03-29T10:08:48.350Z"
   },
   {
    "duration": 16,
    "start_time": "2022-03-29T10:08:48.371Z"
   },
   {
    "duration": 9,
    "start_time": "2022-03-29T10:08:48.389Z"
   },
   {
    "duration": 47,
    "start_time": "2022-03-29T10:08:48.400Z"
   },
   {
    "duration": 55,
    "start_time": "2022-03-29T10:08:48.449Z"
   },
   {
    "duration": 6,
    "start_time": "2022-03-29T10:08:48.506Z"
   },
   {
    "duration": 7,
    "start_time": "2022-03-29T10:08:48.515Z"
   },
   {
    "duration": 6,
    "start_time": "2022-03-29T10:08:48.524Z"
   },
   {
    "duration": 7,
    "start_time": "2022-03-29T10:08:48.568Z"
   },
   {
    "duration": 21,
    "start_time": "2022-03-29T10:08:48.577Z"
   },
   {
    "duration": 11,
    "start_time": "2022-03-29T10:08:48.600Z"
   },
   {
    "duration": 77,
    "start_time": "2022-03-29T10:08:48.668Z"
   },
   {
    "duration": 29,
    "start_time": "2022-03-29T10:08:48.747Z"
   },
   {
    "duration": 28,
    "start_time": "2022-03-29T10:08:48.778Z"
   },
   {
    "duration": 6,
    "start_time": "2022-03-29T10:08:48.808Z"
   },
   {
    "duration": 21,
    "start_time": "2022-03-29T10:08:48.868Z"
   },
   {
    "duration": 6,
    "start_time": "2022-03-29T10:08:48.891Z"
   },
   {
    "duration": 6,
    "start_time": "2022-03-29T10:08:48.903Z"
   },
   {
    "duration": 5,
    "start_time": "2022-03-29T10:08:48.912Z"
   },
   {
    "duration": 20,
    "start_time": "2022-03-29T10:08:48.969Z"
   },
   {
    "duration": 42,
    "start_time": "2022-03-29T10:08:48.991Z"
   },
   {
    "duration": 544,
    "start_time": "2022-03-29T10:08:49.035Z"
   },
   {
    "duration": 43,
    "start_time": "2022-03-29T10:08:49.582Z"
   },
   {
    "duration": 7,
    "start_time": "2022-03-29T10:08:49.628Z"
   },
   {
    "duration": 14,
    "start_time": "2022-03-29T10:08:49.667Z"
   },
   {
    "duration": 11,
    "start_time": "2022-03-29T10:08:49.684Z"
   },
   {
    "duration": 11,
    "start_time": "2022-03-29T10:08:49.697Z"
   },
   {
    "duration": 10,
    "start_time": "2022-03-29T10:08:49.711Z"
   },
   {
    "duration": 63,
    "start_time": "2022-03-29T10:08:49.724Z"
   },
   {
    "duration": 1215,
    "start_time": "2022-03-29T10:08:49.789Z"
   },
   {
    "duration": 13,
    "start_time": "2022-03-29T10:08:51.007Z"
   },
   {
    "duration": 340,
    "start_time": "2022-03-29T10:08:51.022Z"
   },
   {
    "duration": 13,
    "start_time": "2022-03-29T10:08:51.367Z"
   },
   {
    "duration": 16,
    "start_time": "2022-03-29T10:08:51.382Z"
   },
   {
    "duration": 13,
    "start_time": "2022-03-29T10:08:51.401Z"
   },
   {
    "duration": 11,
    "start_time": "2022-03-29T10:08:51.417Z"
   },
   {
    "duration": 59,
    "start_time": "2022-03-29T10:08:51.430Z"
   },
   {
    "duration": 1773,
    "start_time": "2022-03-29T10:08:51.491Z"
   },
   {
    "duration": 590,
    "start_time": "2022-03-29T10:08:53.266Z"
   },
   {
    "duration": 66,
    "start_time": "2022-03-29T10:08:53.858Z"
   },
   {
    "duration": 6682,
    "start_time": "2022-03-29T10:08:53.926Z"
   },
   {
    "duration": 5,
    "start_time": "2022-03-29T10:09:00.611Z"
   },
   {
    "duration": 1352,
    "start_time": "2022-03-29T10:09:00.619Z"
   },
   {
    "duration": 11,
    "start_time": "2022-03-29T10:09:01.974Z"
   },
   {
    "duration": 253,
    "start_time": "2022-03-29T10:09:01.988Z"
   },
   {
    "duration": 6,
    "start_time": "2022-03-29T10:09:02.244Z"
   },
   {
    "duration": 2200,
    "start_time": "2022-03-29T10:09:02.268Z"
   },
   {
    "duration": 5,
    "start_time": "2022-03-29T10:09:04.471Z"
   },
   {
    "duration": 94,
    "start_time": "2022-03-29T10:09:04.478Z"
   },
   {
    "duration": 213,
    "start_time": "2022-03-29T10:09:04.575Z"
   },
   {
    "duration": 6,
    "start_time": "2022-03-29T10:09:04.791Z"
   },
   {
    "duration": 25,
    "start_time": "2022-03-29T10:09:04.800Z"
   },
   {
    "duration": 6,
    "start_time": "2022-03-29T10:09:04.828Z"
   },
   {
    "duration": 34,
    "start_time": "2022-03-29T10:09:04.837Z"
   },
   {
    "duration": 296,
    "start_time": "2022-03-29T10:09:04.874Z"
   },
   {
    "duration": 7,
    "start_time": "2022-03-29T10:09:05.173Z"
   },
   {
    "duration": 42,
    "start_time": "2022-03-29T10:09:05.182Z"
   },
   {
    "duration": 243,
    "start_time": "2022-03-29T10:09:05.227Z"
   },
   {
    "duration": 37,
    "start_time": "2022-03-29T10:09:05.472Z"
   },
   {
    "duration": 56,
    "start_time": "2022-03-29T10:09:05.511Z"
   },
   {
    "duration": 18,
    "start_time": "2022-03-29T10:09:05.570Z"
   },
   {
    "duration": 3586,
    "start_time": "2022-03-29T10:09:05.591Z"
   },
   {
    "duration": 416,
    "start_time": "2022-03-29T10:09:09.180Z"
   },
   {
    "duration": 10,
    "start_time": "2022-03-29T10:09:09.599Z"
   },
   {
    "duration": 9,
    "start_time": "2022-03-29T10:09:09.611Z"
   },
   {
    "duration": 48,
    "start_time": "2022-03-29T10:09:09.623Z"
   },
   {
    "duration": 10,
    "start_time": "2022-03-29T10:09:09.673Z"
   },
   {
    "duration": 7,
    "start_time": "2022-03-29T10:09:09.685Z"
   },
   {
    "duration": 3719,
    "start_time": "2022-03-29T10:09:09.694Z"
   },
   {
    "duration": 9,
    "start_time": "2022-03-29T10:09:13.415Z"
   },
   {
    "duration": 42,
    "start_time": "2022-03-29T10:09:13.426Z"
   },
   {
    "duration": 8,
    "start_time": "2022-03-29T10:09:13.478Z"
   },
   {
    "duration": 12,
    "start_time": "2022-03-29T10:09:13.489Z"
   },
   {
    "duration": 80,
    "start_time": "2022-03-29T10:26:17.185Z"
   },
   {
    "duration": 5,
    "start_time": "2022-03-29T10:31:30.423Z"
   },
   {
    "duration": 184,
    "start_time": "2022-03-29T10:31:30.431Z"
   },
   {
    "duration": 20,
    "start_time": "2022-03-29T10:31:30.617Z"
   },
   {
    "duration": 20,
    "start_time": "2022-03-29T10:31:30.670Z"
   },
   {
    "duration": 25,
    "start_time": "2022-03-29T10:31:30.692Z"
   },
   {
    "duration": 13,
    "start_time": "2022-03-29T10:31:30.719Z"
   },
   {
    "duration": 67,
    "start_time": "2022-03-29T10:31:30.769Z"
   },
   {
    "duration": 5,
    "start_time": "2022-03-29T10:31:30.838Z"
   },
   {
    "duration": 4,
    "start_time": "2022-03-29T10:31:30.870Z"
   },
   {
    "duration": 15,
    "start_time": "2022-03-29T10:31:30.876Z"
   },
   {
    "duration": 13,
    "start_time": "2022-03-29T10:31:30.893Z"
   },
   {
    "duration": 11,
    "start_time": "2022-03-29T10:31:30.908Z"
   },
   {
    "duration": 18,
    "start_time": "2022-03-29T10:31:30.922Z"
   },
   {
    "duration": 9,
    "start_time": "2022-03-29T10:31:30.967Z"
   },
   {
    "duration": 50,
    "start_time": "2022-03-29T10:31:30.978Z"
   },
   {
    "duration": 72,
    "start_time": "2022-03-29T10:31:31.031Z"
   },
   {
    "duration": 7,
    "start_time": "2022-03-29T10:31:31.106Z"
   },
   {
    "duration": 17,
    "start_time": "2022-03-29T10:31:31.115Z"
   },
   {
    "duration": 7,
    "start_time": "2022-03-29T10:31:31.135Z"
   },
   {
    "duration": 30,
    "start_time": "2022-03-29T10:31:31.145Z"
   },
   {
    "duration": 27,
    "start_time": "2022-03-29T10:31:31.177Z"
   },
   {
    "duration": 12,
    "start_time": "2022-03-29T10:31:31.206Z"
   },
   {
    "duration": 96,
    "start_time": "2022-03-29T10:31:31.221Z"
   },
   {
    "duration": 12,
    "start_time": "2022-03-29T10:31:31.323Z"
   },
   {
    "duration": 51,
    "start_time": "2022-03-29T10:31:31.337Z"
   },
   {
    "duration": 6,
    "start_time": "2022-03-29T10:31:31.390Z"
   },
   {
    "duration": 30,
    "start_time": "2022-03-29T10:31:31.398Z"
   },
   {
    "duration": 6,
    "start_time": "2022-03-29T10:31:31.431Z"
   },
   {
    "duration": 32,
    "start_time": "2022-03-29T10:31:31.439Z"
   },
   {
    "duration": 11,
    "start_time": "2022-03-29T10:31:31.474Z"
   },
   {
    "duration": 21,
    "start_time": "2022-03-29T10:31:31.487Z"
   },
   {
    "duration": 93,
    "start_time": "2022-03-29T10:31:31.510Z"
   },
   {
    "duration": 706,
    "start_time": "2022-03-29T10:31:31.606Z"
   },
   {
    "duration": 153,
    "start_time": "2022-03-29T10:31:32.314Z"
   },
   {
    "duration": 8,
    "start_time": "2022-03-29T10:31:32.469Z"
   },
   {
    "duration": 14,
    "start_time": "2022-03-29T10:31:32.479Z"
   },
   {
    "duration": 12,
    "start_time": "2022-03-29T10:31:32.495Z"
   },
   {
    "duration": 66,
    "start_time": "2022-03-29T10:31:32.509Z"
   },
   {
    "duration": 11,
    "start_time": "2022-03-29T10:31:32.577Z"
   },
   {
    "duration": 23,
    "start_time": "2022-03-29T10:31:32.590Z"
   },
   {
    "duration": 3016,
    "start_time": "2022-03-29T10:31:32.669Z"
   },
   {
    "duration": 12,
    "start_time": "2022-03-29T10:31:35.687Z"
   },
   {
    "duration": 285,
    "start_time": "2022-03-29T10:31:35.701Z"
   },
   {
    "duration": 13,
    "start_time": "2022-03-29T10:31:35.988Z"
   },
   {
    "duration": 13,
    "start_time": "2022-03-29T10:31:36.003Z"
   },
   {
    "duration": 12,
    "start_time": "2022-03-29T10:31:36.019Z"
   },
   {
    "duration": 12,
    "start_time": "2022-03-29T10:31:36.033Z"
   },
   {
    "duration": 35,
    "start_time": "2022-03-29T10:31:36.047Z"
   },
   {
    "duration": 3407,
    "start_time": "2022-03-29T10:31:36.084Z"
   },
   {
    "duration": 777,
    "start_time": "2022-03-29T10:31:39.493Z"
   },
   {
    "duration": 112,
    "start_time": "2022-03-29T10:31:40.272Z"
   },
   {
    "duration": 7081,
    "start_time": "2022-03-29T10:31:40.386Z"
   },
   {
    "duration": 6,
    "start_time": "2022-03-29T10:31:47.469Z"
   },
   {
    "duration": 1212,
    "start_time": "2022-03-29T10:31:47.477Z"
   },
   {
    "duration": 12,
    "start_time": "2022-03-29T10:31:48.691Z"
   },
   {
    "duration": 243,
    "start_time": "2022-03-29T10:31:48.706Z"
   },
   {
    "duration": 16,
    "start_time": "2022-03-29T10:31:48.952Z"
   },
   {
    "duration": 2184,
    "start_time": "2022-03-29T10:31:48.971Z"
   },
   {
    "duration": 6,
    "start_time": "2022-03-29T10:31:51.169Z"
   },
   {
    "duration": 101,
    "start_time": "2022-03-29T10:31:51.177Z"
   },
   {
    "duration": 211,
    "start_time": "2022-03-29T10:31:51.280Z"
   },
   {
    "duration": 7,
    "start_time": "2022-03-29T10:31:51.493Z"
   },
   {
    "duration": 22,
    "start_time": "2022-03-29T10:31:51.501Z"
   },
   {
    "duration": 6,
    "start_time": "2022-03-29T10:31:51.525Z"
   },
   {
    "duration": 40,
    "start_time": "2022-03-29T10:31:51.533Z"
   },
   {
    "duration": 284,
    "start_time": "2022-03-29T10:31:51.575Z"
   },
   {
    "duration": 12,
    "start_time": "2022-03-29T10:31:51.861Z"
   },
   {
    "duration": 41,
    "start_time": "2022-03-29T10:31:51.876Z"
   },
   {
    "duration": 249,
    "start_time": "2022-03-29T10:31:51.928Z"
   },
   {
    "duration": 37,
    "start_time": "2022-03-29T10:31:52.179Z"
   },
   {
    "duration": 27,
    "start_time": "2022-03-29T10:31:52.218Z"
   },
   {
    "duration": 17,
    "start_time": "2022-03-29T10:31:52.268Z"
   },
   {
    "duration": 3321,
    "start_time": "2022-03-29T10:31:52.287Z"
   },
   {
    "duration": 424,
    "start_time": "2022-03-29T10:31:55.610Z"
   },
   {
    "duration": 7,
    "start_time": "2022-03-29T10:31:56.037Z"
   },
   {
    "duration": 21,
    "start_time": "2022-03-29T10:31:56.046Z"
   },
   {
    "duration": 8,
    "start_time": "2022-03-29T10:31:56.069Z"
   },
   {
    "duration": 9,
    "start_time": "2022-03-29T10:31:56.079Z"
   },
   {
    "duration": 8,
    "start_time": "2022-03-29T10:31:56.090Z"
   },
   {
    "duration": 3727,
    "start_time": "2022-03-29T10:31:56.101Z"
   },
   {
    "duration": 9,
    "start_time": "2022-03-29T10:31:59.830Z"
   },
   {
    "duration": 30,
    "start_time": "2022-03-29T10:31:59.841Z"
   },
   {
    "duration": 10,
    "start_time": "2022-03-29T10:31:59.873Z"
   },
   {
    "duration": 9,
    "start_time": "2022-03-29T10:31:59.885Z"
   },
   {
    "duration": 48,
    "start_time": "2022-03-29T12:05:38.804Z"
   },
   {
    "duration": 1190,
    "start_time": "2022-03-29T12:05:41.751Z"
   },
   {
    "duration": 105,
    "start_time": "2022-03-29T12:05:42.943Z"
   },
   {
    "duration": 22,
    "start_time": "2022-03-29T12:05:43.050Z"
   },
   {
    "duration": 12,
    "start_time": "2022-03-29T12:05:43.074Z"
   },
   {
    "duration": 52,
    "start_time": "2022-03-29T12:05:43.088Z"
   },
   {
    "duration": 26,
    "start_time": "2022-03-29T12:05:43.141Z"
   },
   {
    "duration": 48,
    "start_time": "2022-03-29T12:05:43.169Z"
   },
   {
    "duration": 4,
    "start_time": "2022-03-29T12:05:43.219Z"
   },
   {
    "duration": 6,
    "start_time": "2022-03-29T12:05:43.224Z"
   },
   {
    "duration": 30,
    "start_time": "2022-03-29T12:05:43.233Z"
   },
   {
    "duration": 10,
    "start_time": "2022-03-29T12:05:43.264Z"
   },
   {
    "duration": 8,
    "start_time": "2022-03-29T12:05:43.276Z"
   },
   {
    "duration": 7,
    "start_time": "2022-03-29T12:05:43.286Z"
   },
   {
    "duration": 5,
    "start_time": "2022-03-29T12:05:43.294Z"
   },
   {
    "duration": 30,
    "start_time": "2022-03-29T12:05:43.300Z"
   },
   {
    "duration": 26,
    "start_time": "2022-03-29T12:05:43.364Z"
   },
   {
    "duration": 5,
    "start_time": "2022-03-29T12:05:43.392Z"
   },
   {
    "duration": 6,
    "start_time": "2022-03-29T12:05:43.398Z"
   },
   {
    "duration": 6,
    "start_time": "2022-03-29T12:05:43.406Z"
   },
   {
    "duration": 10,
    "start_time": "2022-03-29T12:05:43.414Z"
   },
   {
    "duration": 40,
    "start_time": "2022-03-29T12:05:43.426Z"
   },
   {
    "duration": 9,
    "start_time": "2022-03-29T12:05:43.468Z"
   },
   {
    "duration": 49,
    "start_time": "2022-03-29T12:05:43.479Z"
   },
   {
    "duration": 34,
    "start_time": "2022-03-29T12:05:43.530Z"
   },
   {
    "duration": 19,
    "start_time": "2022-03-29T12:05:43.566Z"
   },
   {
    "duration": 5,
    "start_time": "2022-03-29T12:05:43.586Z"
   },
   {
    "duration": 14,
    "start_time": "2022-03-29T12:05:43.593Z"
   },
   {
    "duration": 4,
    "start_time": "2022-03-29T12:05:43.611Z"
   },
   {
    "duration": 8,
    "start_time": "2022-03-29T12:05:43.616Z"
   },
   {
    "duration": 6,
    "start_time": "2022-03-29T12:05:43.626Z"
   },
   {
    "duration": 41,
    "start_time": "2022-03-29T12:05:43.633Z"
   },
   {
    "duration": 26,
    "start_time": "2022-03-29T12:05:43.675Z"
   },
   {
    "duration": 225,
    "start_time": "2022-03-29T12:05:43.702Z"
   },
   {
    "duration": 35,
    "start_time": "2022-03-29T12:05:43.928Z"
   },
   {
    "duration": 6,
    "start_time": "2022-03-29T12:05:43.964Z"
   },
   {
    "duration": 21,
    "start_time": "2022-03-29T12:05:43.971Z"
   },
   {
    "duration": 11,
    "start_time": "2022-03-29T12:05:43.994Z"
   },
   {
    "duration": 56,
    "start_time": "2022-03-29T12:05:44.007Z"
   },
   {
    "duration": 11,
    "start_time": "2022-03-29T12:05:44.065Z"
   },
   {
    "duration": 21,
    "start_time": "2022-03-29T12:05:44.077Z"
   },
   {
    "duration": 2194,
    "start_time": "2022-03-29T12:05:44.100Z"
   },
   {
    "duration": 12,
    "start_time": "2022-03-29T12:05:46.296Z"
   },
   {
    "duration": 348,
    "start_time": "2022-03-29T12:05:46.364Z"
   },
   {
    "duration": 11,
    "start_time": "2022-03-29T12:05:46.713Z"
   },
   {
    "duration": 11,
    "start_time": "2022-03-29T12:05:46.725Z"
   },
   {
    "duration": 8,
    "start_time": "2022-03-29T12:05:46.737Z"
   },
   {
    "duration": 9,
    "start_time": "2022-03-29T12:05:46.763Z"
   },
   {
    "duration": 19,
    "start_time": "2022-03-29T12:05:46.773Z"
   },
   {
    "duration": 18,
    "start_time": "2022-03-29T12:05:46.794Z"
   },
   {
    "duration": 1051,
    "start_time": "2022-03-29T12:05:46.814Z"
   },
   {
    "duration": 214,
    "start_time": "2022-03-29T12:05:47.866Z"
   },
   {
    "duration": 36,
    "start_time": "2022-03-29T12:05:48.081Z"
   },
   {
    "duration": 3769,
    "start_time": "2022-03-29T12:05:48.119Z"
   },
   {
    "duration": 4,
    "start_time": "2022-03-29T12:05:51.889Z"
   },
   {
    "duration": 652,
    "start_time": "2022-03-29T12:05:51.894Z"
   },
   {
    "duration": 20,
    "start_time": "2022-03-29T12:05:52.548Z"
   },
   {
    "duration": 140,
    "start_time": "2022-03-29T12:05:52.569Z"
   },
   {
    "duration": 4,
    "start_time": "2022-03-29T12:05:52.711Z"
   },
   {
    "duration": 1236,
    "start_time": "2022-03-29T12:05:52.717Z"
   },
   {
    "duration": 3,
    "start_time": "2022-03-29T12:05:53.963Z"
   },
   {
    "duration": 46,
    "start_time": "2022-03-29T12:05:53.967Z"
   },
   {
    "duration": 125,
    "start_time": "2022-03-29T12:05:54.015Z"
   },
   {
    "duration": 5,
    "start_time": "2022-03-29T12:05:54.141Z"
   },
   {
    "duration": 24,
    "start_time": "2022-03-29T12:05:54.148Z"
   },
   {
    "duration": 4,
    "start_time": "2022-03-29T12:05:54.174Z"
   },
   {
    "duration": 12,
    "start_time": "2022-03-29T12:05:54.180Z"
   },
   {
    "duration": 172,
    "start_time": "2022-03-29T12:05:54.193Z"
   },
   {
    "duration": 5,
    "start_time": "2022-03-29T12:05:54.367Z"
   },
   {
    "duration": 30,
    "start_time": "2022-03-29T12:05:54.373Z"
   },
   {
    "duration": 134,
    "start_time": "2022-03-29T12:05:54.404Z"
   },
   {
    "duration": 32,
    "start_time": "2022-03-29T12:05:54.539Z"
   },
   {
    "duration": 17,
    "start_time": "2022-03-29T12:05:54.572Z"
   },
   {
    "duration": 9,
    "start_time": "2022-03-29T12:05:54.591Z"
   },
   {
    "duration": 2056,
    "start_time": "2022-03-29T12:05:54.602Z"
   },
   {
    "duration": 250,
    "start_time": "2022-03-29T12:05:56.662Z"
   },
   {
    "duration": 6,
    "start_time": "2022-03-29T12:05:56.914Z"
   },
   {
    "duration": 9,
    "start_time": "2022-03-29T12:05:56.921Z"
   },
   {
    "duration": 6,
    "start_time": "2022-03-29T12:05:56.931Z"
   },
   {
    "duration": 25,
    "start_time": "2022-03-29T12:05:56.939Z"
   },
   {
    "duration": 4,
    "start_time": "2022-03-29T12:05:56.966Z"
   },
   {
    "duration": 2099,
    "start_time": "2022-03-29T12:05:56.971Z"
   },
   {
    "duration": 7,
    "start_time": "2022-03-29T12:05:59.077Z"
   },
   {
    "duration": 7,
    "start_time": "2022-03-29T12:05:59.085Z"
   },
   {
    "duration": 7,
    "start_time": "2022-03-29T12:05:59.094Z"
   },
   {
    "duration": 8,
    "start_time": "2022-03-29T12:05:59.103Z"
   },
   {
    "duration": 24,
    "start_time": "2022-03-29T12:06:31.805Z"
   },
   {
    "duration": 3,
    "start_time": "2022-03-29T12:06:35.793Z"
   },
   {
    "duration": 92,
    "start_time": "2022-03-29T12:06:35.800Z"
   },
   {
    "duration": 14,
    "start_time": "2022-03-29T12:06:35.894Z"
   },
   {
    "duration": 12,
    "start_time": "2022-03-29T12:06:35.910Z"
   },
   {
    "duration": 41,
    "start_time": "2022-03-29T12:06:35.925Z"
   },
   {
    "duration": 10,
    "start_time": "2022-03-29T12:06:35.967Z"
   },
   {
    "duration": 48,
    "start_time": "2022-03-29T12:06:35.978Z"
   },
   {
    "duration": 3,
    "start_time": "2022-03-29T12:06:36.028Z"
   },
   {
    "duration": 30,
    "start_time": "2022-03-29T12:06:36.033Z"
   },
   {
    "duration": 9,
    "start_time": "2022-03-29T12:06:36.065Z"
   },
   {
    "duration": 8,
    "start_time": "2022-03-29T12:06:36.077Z"
   },
   {
    "duration": 8,
    "start_time": "2022-03-29T12:06:36.087Z"
   },
   {
    "duration": 8,
    "start_time": "2022-03-29T12:06:36.097Z"
   },
   {
    "duration": 5,
    "start_time": "2022-03-29T12:06:36.106Z"
   },
   {
    "duration": 59,
    "start_time": "2022-03-29T12:06:36.113Z"
   },
   {
    "duration": 27,
    "start_time": "2022-03-29T12:06:36.174Z"
   },
   {
    "duration": 4,
    "start_time": "2022-03-29T12:06:36.203Z"
   },
   {
    "duration": 6,
    "start_time": "2022-03-29T12:06:36.209Z"
   },
   {
    "duration": 7,
    "start_time": "2022-03-29T12:06:36.216Z"
   },
   {
    "duration": 9,
    "start_time": "2022-03-29T12:06:36.224Z"
   },
   {
    "duration": 38,
    "start_time": "2022-03-29T12:06:36.235Z"
   },
   {
    "duration": 8,
    "start_time": "2022-03-29T12:06:36.275Z"
   },
   {
    "duration": 46,
    "start_time": "2022-03-29T12:06:36.285Z"
   },
   {
    "duration": 31,
    "start_time": "2022-03-29T12:06:36.332Z"
   },
   {
    "duration": 18,
    "start_time": "2022-03-29T12:06:36.365Z"
   },
   {
    "duration": 4,
    "start_time": "2022-03-29T12:06:36.385Z"
   },
   {
    "duration": 14,
    "start_time": "2022-03-29T12:06:36.391Z"
   },
   {
    "duration": 4,
    "start_time": "2022-03-29T12:06:36.407Z"
   },
   {
    "duration": 4,
    "start_time": "2022-03-29T12:06:36.414Z"
   },
   {
    "duration": 5,
    "start_time": "2022-03-29T12:06:36.420Z"
   },
   {
    "duration": 46,
    "start_time": "2022-03-29T12:06:36.426Z"
   },
   {
    "duration": 26,
    "start_time": "2022-03-29T12:06:36.474Z"
   },
   {
    "duration": 212,
    "start_time": "2022-03-29T12:06:36.502Z"
   },
   {
    "duration": 26,
    "start_time": "2022-03-29T12:06:36.716Z"
   },
   {
    "duration": 20,
    "start_time": "2022-03-29T12:06:36.744Z"
   },
   {
    "duration": 10,
    "start_time": "2022-03-29T12:06:36.765Z"
   },
   {
    "duration": 11,
    "start_time": "2022-03-29T12:06:36.777Z"
   },
   {
    "duration": 7,
    "start_time": "2022-03-29T12:06:36.789Z"
   },
   {
    "duration": 17,
    "start_time": "2022-03-29T12:06:36.798Z"
   },
   {
    "duration": 15,
    "start_time": "2022-03-29T12:06:36.816Z"
   },
   {
    "duration": 694,
    "start_time": "2022-03-29T12:06:36.833Z"
   },
   {
    "duration": 9,
    "start_time": "2022-03-29T12:06:37.529Z"
   },
   {
    "duration": 166,
    "start_time": "2022-03-29T12:06:37.539Z"
   },
   {
    "duration": 8,
    "start_time": "2022-03-29T12:06:37.707Z"
   },
   {
    "duration": 8,
    "start_time": "2022-03-29T12:06:37.717Z"
   },
   {
    "duration": 8,
    "start_time": "2022-03-29T12:06:37.726Z"
   },
   {
    "duration": 8,
    "start_time": "2022-03-29T12:06:37.735Z"
   },
   {
    "duration": 15,
    "start_time": "2022-03-29T12:06:37.762Z"
   },
   {
    "duration": 21,
    "start_time": "2022-03-29T12:06:37.779Z"
   },
   {
    "duration": 27,
    "start_time": "2022-03-29T12:09:23.397Z"
   },
   {
    "duration": 32,
    "start_time": "2022-03-29T12:10:01.130Z"
   },
   {
    "duration": 118,
    "start_time": "2022-03-29T12:13:17.707Z"
   },
   {
    "duration": 61,
    "start_time": "2022-04-02T15:19:39.374Z"
   },
   {
    "duration": 1402,
    "start_time": "2022-04-02T15:22:58.379Z"
   },
   {
    "duration": 136,
    "start_time": "2022-04-02T15:23:02.420Z"
   },
   {
    "duration": 16,
    "start_time": "2022-04-02T15:23:06.835Z"
   },
   {
    "duration": 15,
    "start_time": "2022-04-02T15:23:13.189Z"
   },
   {
    "duration": 64,
    "start_time": "2022-04-02T15:23:18.470Z"
   },
   {
    "duration": 13,
    "start_time": "2022-04-02T15:23:29.917Z"
   },
   {
    "duration": 49,
    "start_time": "2022-04-02T15:23:36.338Z"
   },
   {
    "duration": 3,
    "start_time": "2022-04-02T15:23:40.982Z"
   },
   {
    "duration": 3,
    "start_time": "2022-04-02T15:23:43.963Z"
   },
   {
    "duration": 5,
    "start_time": "2022-04-02T15:23:47.668Z"
   },
   {
    "duration": 9,
    "start_time": "2022-04-02T15:23:50.675Z"
   },
   {
    "duration": 11,
    "start_time": "2022-04-02T15:23:54.892Z"
   },
   {
    "duration": 13,
    "start_time": "2022-04-02T15:23:57.915Z"
   },
   {
    "duration": 5,
    "start_time": "2022-04-02T15:24:01.563Z"
   },
   {
    "duration": 44,
    "start_time": "2022-04-02T15:24:08.621Z"
   },
   {
    "duration": 39,
    "start_time": "2022-04-02T15:24:15.028Z"
   },
   {
    "duration": 5,
    "start_time": "2022-04-02T15:24:22.566Z"
   },
   {
    "duration": 10,
    "start_time": "2022-04-02T15:24:26.423Z"
   },
   {
    "duration": 5,
    "start_time": "2022-04-02T15:24:36.661Z"
   },
   {
    "duration": 5,
    "start_time": "2022-04-02T15:24:40.676Z"
   },
   {
    "duration": 14,
    "start_time": "2022-04-02T15:24:44.957Z"
   },
   {
    "duration": 10,
    "start_time": "2022-04-02T15:24:48.180Z"
   },
   {
    "duration": 63,
    "start_time": "2022-04-02T15:24:51.765Z"
   },
   {
    "duration": 8,
    "start_time": "2022-04-02T15:24:55.385Z"
   },
   {
    "duration": 20,
    "start_time": "2022-04-02T15:25:01.179Z"
   },
   {
    "duration": 7,
    "start_time": "2022-04-02T15:25:03.709Z"
   },
   {
    "duration": 20,
    "start_time": "2022-04-02T15:25:08.525Z"
   },
   {
    "duration": 5,
    "start_time": "2022-04-02T15:25:12.653Z"
   },
   {
    "duration": 5,
    "start_time": "2022-04-02T15:25:19.036Z"
   },
   {
    "duration": 4,
    "start_time": "2022-04-02T15:25:22.738Z"
   },
   {
    "duration": 14,
    "start_time": "2022-04-02T15:25:25.365Z"
   },
   {
    "duration": 27,
    "start_time": "2022-04-02T15:25:31.172Z"
   },
   {
    "duration": 251,
    "start_time": "2022-04-02T15:25:35.782Z"
   },
   {
    "duration": 29,
    "start_time": "2022-04-02T15:25:39.837Z"
   },
   {
    "duration": 6,
    "start_time": "2022-04-02T15:25:43.509Z"
   },
   {
    "duration": 11,
    "start_time": "2022-04-02T15:25:45.995Z"
   },
   {
    "duration": 11,
    "start_time": "2022-04-02T15:25:50.192Z"
   },
   {
    "duration": 12,
    "start_time": "2022-04-02T15:25:53.708Z"
   },
   {
    "duration": 10,
    "start_time": "2022-04-02T15:25:57.093Z"
   },
   {
    "duration": 20,
    "start_time": "2022-04-02T15:26:01.994Z"
   },
   {
    "duration": 918,
    "start_time": "2022-04-02T15:26:07.578Z"
   },
   {
    "duration": 1035,
    "start_time": "2022-04-02T15:28:01.897Z"
   },
   {
    "duration": 921,
    "start_time": "2022-04-02T15:29:26.368Z"
   },
   {
    "duration": 259,
    "start_time": "2022-04-02T15:31:31.424Z"
   },
   {
    "duration": 935,
    "start_time": "2022-04-02T15:31:43.848Z"
   },
   {
    "duration": 919,
    "start_time": "2022-04-02T15:32:08.342Z"
   },
   {
    "duration": 71,
    "start_time": "2022-04-02T15:38:15.606Z"
   },
   {
    "duration": 882,
    "start_time": "2022-04-02T15:38:39.103Z"
   },
   {
    "duration": 841,
    "start_time": "2022-04-02T15:41:45.842Z"
   },
   {
    "duration": 1050,
    "start_time": "2022-04-02T15:46:19.529Z"
   },
   {
    "duration": 953,
    "start_time": "2022-04-02T15:48:42.402Z"
   },
   {
    "duration": 906,
    "start_time": "2022-04-02T15:54:18.248Z"
   },
   {
    "duration": 74,
    "start_time": "2022-04-02T16:06:15.831Z"
   },
   {
    "duration": 59,
    "start_time": "2022-04-02T16:09:27.845Z"
   },
   {
    "duration": 60,
    "start_time": "2022-04-02T16:21:47.065Z"
   },
   {
    "duration": 63,
    "start_time": "2022-04-02T16:22:06.550Z"
   },
   {
    "duration": 61,
    "start_time": "2022-04-02T16:44:58.017Z"
   },
   {
    "duration": 75,
    "start_time": "2022-04-02T16:46:57.650Z"
   },
   {
    "duration": 56,
    "start_time": "2022-04-02T16:47:43.960Z"
   },
   {
    "duration": 9,
    "start_time": "2022-04-02T16:54:02.690Z"
   },
   {
    "duration": 188,
    "start_time": "2022-04-02T16:54:06.488Z"
   },
   {
    "duration": 10,
    "start_time": "2022-04-02T17:06:56.484Z"
   },
   {
    "duration": 11,
    "start_time": "2022-04-02T17:07:05.354Z"
   },
   {
    "duration": 9,
    "start_time": "2022-04-02T17:07:08.009Z"
   },
   {
    "duration": 9,
    "start_time": "2022-04-02T17:07:10.972Z"
   },
   {
    "duration": 16,
    "start_time": "2022-04-02T17:07:14.882Z"
   },
   {
    "duration": 28,
    "start_time": "2022-04-02T17:07:20.337Z"
   },
   {
    "duration": 1157,
    "start_time": "2022-04-02T17:07:29.688Z"
   },
   {
    "duration": 1268,
    "start_time": "2022-04-02T17:08:04.679Z"
   },
   {
    "duration": 239,
    "start_time": "2022-04-02T17:14:30.426Z"
   },
   {
    "duration": 1437,
    "start_time": "2022-04-04T06:21:31.198Z"
   },
   {
    "duration": 101,
    "start_time": "2022-04-04T06:21:34.665Z"
   },
   {
    "duration": 16,
    "start_time": "2022-04-04T06:21:40.537Z"
   },
   {
    "duration": 15,
    "start_time": "2022-04-04T06:21:45.678Z"
   },
   {
    "duration": 54,
    "start_time": "2022-04-04T06:21:52.545Z"
   },
   {
    "duration": 9,
    "start_time": "2022-04-04T06:21:56.592Z"
   },
   {
    "duration": 49,
    "start_time": "2022-04-04T06:22:06.170Z"
   },
   {
    "duration": 4,
    "start_time": "2022-04-04T06:22:09.897Z"
   },
   {
    "duration": 2,
    "start_time": "2022-04-04T06:22:12.505Z"
   },
   {
    "duration": 5,
    "start_time": "2022-04-04T06:22:17.320Z"
   },
   {
    "duration": 8,
    "start_time": "2022-04-04T06:22:19.762Z"
   },
   {
    "duration": 10,
    "start_time": "2022-04-04T06:22:23.778Z"
   },
   {
    "duration": 9,
    "start_time": "2022-04-04T06:22:27.105Z"
   },
   {
    "duration": 6,
    "start_time": "2022-04-04T06:22:30.729Z"
   },
   {
    "duration": 32,
    "start_time": "2022-04-04T06:22:37.124Z"
   },
   {
    "duration": 27,
    "start_time": "2022-04-04T06:22:42.395Z"
   },
   {
    "duration": 5,
    "start_time": "2022-04-04T06:22:47.754Z"
   },
   {
    "duration": 6,
    "start_time": "2022-04-04T06:22:50.041Z"
   },
   {
    "duration": 4,
    "start_time": "2022-04-04T06:22:53.719Z"
   },
   {
    "duration": 5,
    "start_time": "2022-04-04T06:23:00.802Z"
   },
   {
    "duration": 9,
    "start_time": "2022-04-04T06:23:06.506Z"
   },
   {
    "duration": 53,
    "start_time": "2022-04-04T06:23:12.763Z"
   },
   {
    "duration": 8,
    "start_time": "2022-04-04T06:23:16.577Z"
   },
   {
    "duration": 20,
    "start_time": "2022-04-04T06:23:22.154Z"
   },
   {
    "duration": 5,
    "start_time": "2022-04-04T06:23:25.315Z"
   },
   {
    "duration": 15,
    "start_time": "2022-04-04T06:23:29.206Z"
   },
   {
    "duration": 5,
    "start_time": "2022-04-04T06:23:33.516Z"
   },
   {
    "duration": 5,
    "start_time": "2022-04-04T06:23:36.164Z"
   },
   {
    "duration": 4,
    "start_time": "2022-04-04T06:23:39.147Z"
   },
   {
    "duration": 13,
    "start_time": "2022-04-04T06:23:44.715Z"
   },
   {
    "duration": 28,
    "start_time": "2022-04-04T06:23:52.243Z"
   },
   {
    "duration": 203,
    "start_time": "2022-04-04T06:23:59.701Z"
   },
   {
    "duration": 28,
    "start_time": "2022-04-04T06:24:04.020Z"
   },
   {
    "duration": 6,
    "start_time": "2022-04-04T06:24:08.219Z"
   },
   {
    "duration": 11,
    "start_time": "2022-04-04T06:24:12.826Z"
   },
   {
    "duration": 9,
    "start_time": "2022-04-04T06:24:22.658Z"
   },
   {
    "duration": 9,
    "start_time": "2022-04-04T06:24:26.959Z"
   },
   {
    "duration": 9,
    "start_time": "2022-04-04T06:24:30.843Z"
   },
   {
    "duration": 16,
    "start_time": "2022-04-04T06:24:37.317Z"
   },
   {
    "duration": 773,
    "start_time": "2022-04-04T06:24:43.829Z"
   },
   {
    "duration": 9,
    "start_time": "2022-04-04T06:24:54.069Z"
   },
   {
    "duration": 184,
    "start_time": "2022-04-04T06:24:57.686Z"
   },
   {
    "duration": 107,
    "start_time": "2022-04-04T06:32:26.658Z"
   },
   {
    "duration": 106,
    "start_time": "2022-04-04T06:38:05.693Z"
   },
   {
    "duration": 97,
    "start_time": "2022-04-04T06:41:12.566Z"
   },
   {
    "duration": 9,
    "start_time": "2022-04-04T06:42:11.753Z"
   },
   {
    "duration": 37,
    "start_time": "2022-04-04T06:47:58.157Z"
   },
   {
    "duration": 17,
    "start_time": "2022-04-04T06:53:28.645Z"
   },
   {
    "duration": 1104,
    "start_time": "2022-04-04T06:53:55.017Z"
   },
   {
    "duration": 196,
    "start_time": "2022-04-04T07:00:15.145Z"
   },
   {
    "duration": 162,
    "start_time": "2022-04-04T07:06:08.254Z"
   },
   {
    "duration": 3,
    "start_time": "2022-04-04T07:06:22.507Z"
   },
   {
    "duration": 1032,
    "start_time": "2022-04-04T08:43:15.361Z"
   },
   {
    "duration": 1146,
    "start_time": "2022-04-04T09:03:11.580Z"
   },
   {
    "duration": 104,
    "start_time": "2022-04-04T09:03:16.977Z"
   },
   {
    "duration": 16,
    "start_time": "2022-04-04T09:03:20.389Z"
   },
   {
    "duration": 13,
    "start_time": "2022-04-04T09:03:25.954Z"
   },
   {
    "duration": 55,
    "start_time": "2022-04-04T09:03:31.302Z"
   },
   {
    "duration": 9,
    "start_time": "2022-04-04T09:03:37.939Z"
   },
   {
    "duration": 49,
    "start_time": "2022-04-04T09:03:41.503Z"
   },
   {
    "duration": 3,
    "start_time": "2022-04-04T09:03:45.561Z"
   },
   {
    "duration": 3,
    "start_time": "2022-04-04T09:03:49.951Z"
   },
   {
    "duration": 5,
    "start_time": "2022-04-04T09:03:54.335Z"
   },
   {
    "duration": 8,
    "start_time": "2022-04-04T09:03:57.072Z"
   },
   {
    "duration": 9,
    "start_time": "2022-04-04T09:04:01.494Z"
   },
   {
    "duration": 9,
    "start_time": "2022-04-04T09:04:05.521Z"
   },
   {
    "duration": 9,
    "start_time": "2022-04-04T09:04:09.334Z"
   },
   {
    "duration": 31,
    "start_time": "2022-04-04T09:04:16.105Z"
   },
   {
    "duration": 27,
    "start_time": "2022-04-04T09:04:21.063Z"
   },
   {
    "duration": 5,
    "start_time": "2022-04-04T09:04:24.745Z"
   },
   {
    "duration": 6,
    "start_time": "2022-04-04T09:04:27.953Z"
   },
   {
    "duration": 7,
    "start_time": "2022-04-04T09:04:31.374Z"
   },
   {
    "duration": 5,
    "start_time": "2022-04-04T09:04:34.815Z"
   },
   {
    "duration": 14,
    "start_time": "2022-04-04T09:04:37.458Z"
   },
   {
    "duration": 9,
    "start_time": "2022-04-04T09:04:40.798Z"
   },
   {
    "duration": 58,
    "start_time": "2022-04-04T09:04:43.929Z"
   },
   {
    "duration": 8,
    "start_time": "2022-04-04T09:04:47.410Z"
   },
   {
    "duration": 19,
    "start_time": "2022-04-04T09:04:53.884Z"
   },
   {
    "duration": 4,
    "start_time": "2022-04-04T09:04:56.871Z"
   },
   {
    "duration": 15,
    "start_time": "2022-04-04T09:05:01.136Z"
   },
   {
    "duration": 4,
    "start_time": "2022-04-04T09:05:05.950Z"
   },
   {
    "duration": 5,
    "start_time": "2022-04-04T09:05:08.446Z"
   },
   {
    "duration": 4,
    "start_time": "2022-04-04T09:05:11.946Z"
   },
   {
    "duration": 13,
    "start_time": "2022-04-04T09:05:14.649Z"
   },
   {
    "duration": 27,
    "start_time": "2022-04-04T09:05:20.161Z"
   },
   {
    "duration": 228,
    "start_time": "2022-04-04T09:05:25.787Z"
   },
   {
    "duration": 29,
    "start_time": "2022-04-04T09:05:29.960Z"
   },
   {
    "duration": 5,
    "start_time": "2022-04-04T09:05:33.423Z"
   },
   {
    "duration": 10,
    "start_time": "2022-04-04T09:05:36.824Z"
   },
   {
    "duration": 8,
    "start_time": "2022-04-04T09:05:40.360Z"
   },
   {
    "duration": 8,
    "start_time": "2022-04-04T09:05:43.383Z"
   },
   {
    "duration": 9,
    "start_time": "2022-04-04T09:05:46.696Z"
   },
   {
    "duration": 15,
    "start_time": "2022-04-04T09:05:49.967Z"
   },
   {
    "duration": 825,
    "start_time": "2022-04-04T09:05:54.952Z"
   },
   {
    "duration": 12,
    "start_time": "2022-04-04T09:06:07.313Z"
   },
   {
    "duration": 201,
    "start_time": "2022-04-04T09:06:11.346Z"
   },
   {
    "duration": 113,
    "start_time": "2022-04-04T09:06:18.667Z"
   },
   {
    "duration": 36,
    "start_time": "2022-04-04T09:06:25.104Z"
   },
   {
    "duration": 1601,
    "start_time": "2022-04-04T09:06:59.258Z"
   },
   {
    "duration": 211,
    "start_time": "2022-04-04T09:07:07.790Z"
   },
   {
    "duration": 227,
    "start_time": "2022-04-04T09:10:31.811Z"
   },
   {
    "duration": 602,
    "start_time": "2022-04-04T09:11:08.423Z"
   },
   {
    "duration": 334,
    "start_time": "2022-04-04T09:19:27.957Z"
   },
   {
    "duration": 714,
    "start_time": "2022-04-04T09:19:31.364Z"
   },
   {
    "duration": 126,
    "start_time": "2022-04-04T09:24:08.163Z"
   },
   {
    "duration": 988,
    "start_time": "2022-04-04T09:24:53.360Z"
   },
   {
    "duration": 747,
    "start_time": "2022-04-04T09:25:20.758Z"
   },
   {
    "duration": 124,
    "start_time": "2022-04-04T09:29:58.147Z"
   },
   {
    "duration": 122,
    "start_time": "2022-04-04T09:30:16.189Z"
   },
   {
    "duration": 666,
    "start_time": "2022-04-04T09:32:19.293Z"
   },
   {
    "duration": 861,
    "start_time": "2022-04-04T09:36:05.850Z"
   },
   {
    "duration": 1046,
    "start_time": "2022-04-04T09:36:53.420Z"
   },
   {
    "duration": 669,
    "start_time": "2022-04-04T09:37:27.988Z"
   },
   {
    "duration": 777,
    "start_time": "2022-04-04T09:39:42.590Z"
   },
   {
    "duration": 544,
    "start_time": "2022-04-04T09:40:40.157Z"
   },
   {
    "duration": 524,
    "start_time": "2022-04-04T09:41:10.479Z"
   },
   {
    "duration": 138,
    "start_time": "2022-04-04T09:41:21.136Z"
   },
   {
    "duration": 799,
    "start_time": "2022-04-04T09:41:30.939Z"
   },
   {
    "duration": 689,
    "start_time": "2022-04-04T09:43:30.474Z"
   },
   {
    "duration": 666,
    "start_time": "2022-04-04T09:44:00.993Z"
   },
   {
    "duration": 766,
    "start_time": "2022-04-04T09:45:26.009Z"
   },
   {
    "duration": 178,
    "start_time": "2022-04-04T09:48:46.430Z"
   },
   {
    "duration": 9,
    "start_time": "2022-04-04T09:55:44.310Z"
   },
   {
    "duration": 10,
    "start_time": "2022-04-04T09:59:11.459Z"
   },
   {
    "duration": 170,
    "start_time": "2022-04-04T09:59:20.363Z"
   },
   {
    "duration": 121,
    "start_time": "2022-04-04T10:01:14.230Z"
   },
   {
    "duration": 240,
    "start_time": "2022-04-04T10:05:55.908Z"
   },
   {
    "duration": 713,
    "start_time": "2022-04-04T10:10:17.661Z"
   },
   {
    "duration": 690,
    "start_time": "2022-04-04T10:12:50.283Z"
   },
   {
    "duration": 964,
    "start_time": "2022-04-04T10:13:17.879Z"
   },
   {
    "duration": 1144,
    "start_time": "2022-04-04T10:13:43.311Z"
   },
   {
    "duration": 1091,
    "start_time": "2022-04-04T10:15:39.420Z"
   },
   {
    "duration": 998,
    "start_time": "2022-04-04T10:17:40.344Z"
   },
   {
    "duration": 969,
    "start_time": "2022-04-04T10:18:44.913Z"
   },
   {
    "duration": 844,
    "start_time": "2022-04-04T10:19:20.635Z"
   },
   {
    "duration": 5,
    "start_time": "2022-04-04T10:21:09.072Z"
   },
   {
    "duration": 1977,
    "start_time": "2022-04-04T10:21:12.912Z"
   },
   {
    "duration": 15,
    "start_time": "2022-04-04T10:22:32.955Z"
   },
   {
    "duration": 307,
    "start_time": "2022-04-04T10:23:13.644Z"
   },
   {
    "duration": 423,
    "start_time": "2022-04-04T10:25:58.846Z"
   },
   {
    "duration": 440,
    "start_time": "2022-04-04T10:27:32.400Z"
   },
   {
    "duration": 476,
    "start_time": "2022-04-04T10:29:17.523Z"
   },
   {
    "duration": 6,
    "start_time": "2022-04-04T10:31:58.744Z"
   },
   {
    "duration": 15,
    "start_time": "2022-04-04T10:32:20.181Z"
   },
   {
    "duration": 5,
    "start_time": "2022-04-04T10:32:26.780Z"
   },
   {
    "duration": 8,
    "start_time": "2022-04-04T10:32:35.466Z"
   },
   {
    "duration": 287,
    "start_time": "2022-04-04T10:32:45.051Z"
   },
   {
    "duration": 188,
    "start_time": "2022-04-04T10:34:31.767Z"
   },
   {
    "duration": 3,
    "start_time": "2022-04-04T10:36:13.482Z"
   },
   {
    "duration": 9,
    "start_time": "2022-04-04T10:36:33.473Z"
   },
   {
    "duration": 8,
    "start_time": "2022-04-04T10:36:48.344Z"
   },
   {
    "duration": 2,
    "start_time": "2022-04-04T10:36:51.385Z"
   },
   {
    "duration": 26,
    "start_time": "2022-04-04T10:36:54.352Z"
   },
   {
    "duration": 138,
    "start_time": "2022-04-04T10:37:55.954Z"
   },
   {
    "duration": 30,
    "start_time": "2022-04-04T10:39:15.653Z"
   },
   {
    "duration": 20,
    "start_time": "2022-04-04T10:40:18.089Z"
   },
   {
    "duration": 18,
    "start_time": "2022-04-04T10:40:48.446Z"
   },
   {
    "duration": 3297,
    "start_time": "2022-04-04T10:40:56.109Z"
   },
   {
    "duration": 263,
    "start_time": "2022-04-04T10:41:49.046Z"
   },
   {
    "duration": 7,
    "start_time": "2022-04-04T10:42:09.287Z"
   },
   {
    "duration": 6,
    "start_time": "2022-04-04T10:42:31.895Z"
   },
   {
    "duration": 5,
    "start_time": "2022-04-04T10:42:37.971Z"
   },
   {
    "duration": 5,
    "start_time": "2022-04-04T10:42:41.957Z"
   },
   {
    "duration": 5,
    "start_time": "2022-04-04T10:42:53.422Z"
   },
   {
    "duration": 3279,
    "start_time": "2022-04-04T10:43:11.208Z"
   },
   {
    "duration": 1904,
    "start_time": "2022-04-06T07:47:07.924Z"
   },
   {
    "duration": 160,
    "start_time": "2022-04-06T07:47:10.835Z"
   },
   {
    "duration": 23,
    "start_time": "2022-04-06T07:47:19.884Z"
   },
   {
    "duration": 86,
    "start_time": "2022-04-06T07:47:29.283Z"
   },
   {
    "duration": 14,
    "start_time": "2022-04-06T07:47:40.321Z"
   },
   {
    "duration": 13,
    "start_time": "2022-04-06T07:48:43.485Z"
   },
   {
    "duration": 83,
    "start_time": "2022-04-06T07:48:47.895Z"
   },
   {
    "duration": 6,
    "start_time": "2022-04-06T07:48:54.323Z"
   },
   {
    "duration": 5,
    "start_time": "2022-04-06T07:48:57.961Z"
   },
   {
    "duration": 7,
    "start_time": "2022-04-06T07:49:03.499Z"
   },
   {
    "duration": 14,
    "start_time": "2022-04-06T07:49:06.987Z"
   },
   {
    "duration": 14,
    "start_time": "2022-04-06T07:49:11.607Z"
   },
   {
    "duration": 14,
    "start_time": "2022-04-06T07:49:15.968Z"
   },
   {
    "duration": 9,
    "start_time": "2022-04-06T07:49:20.187Z"
   },
   {
    "duration": 56,
    "start_time": "2022-04-06T07:49:26.987Z"
   },
   {
    "duration": 43,
    "start_time": "2022-04-06T07:49:33.967Z"
   },
   {
    "duration": 7,
    "start_time": "2022-04-06T07:49:40.314Z"
   },
   {
    "duration": 8,
    "start_time": "2022-04-06T07:49:43.860Z"
   },
   {
    "duration": 7,
    "start_time": "2022-04-06T07:49:48.589Z"
   },
   {
    "duration": 9,
    "start_time": "2022-04-06T07:49:56.984Z"
   },
   {
    "duration": 22,
    "start_time": "2022-04-06T07:50:07.430Z"
   },
   {
    "duration": 13,
    "start_time": "2022-04-06T07:50:11.966Z"
   },
   {
    "duration": 83,
    "start_time": "2022-04-06T07:50:21.710Z"
   },
   {
    "duration": 12,
    "start_time": "2022-04-06T07:50:30.463Z"
   },
   {
    "duration": 31,
    "start_time": "2022-04-06T07:50:39.983Z"
   },
   {
    "duration": 8,
    "start_time": "2022-04-06T07:50:44.174Z"
   },
   {
    "duration": 20,
    "start_time": "2022-04-06T07:50:54.997Z"
   },
   {
    "duration": 6,
    "start_time": "2022-04-06T07:51:00.503Z"
   },
   {
    "duration": 6,
    "start_time": "2022-04-06T07:51:03.878Z"
   },
   {
    "duration": 5,
    "start_time": "2022-04-06T07:51:06.587Z"
   },
   {
    "duration": 20,
    "start_time": "2022-04-06T07:51:10.422Z"
   },
   {
    "duration": 47,
    "start_time": "2022-04-06T07:51:36.657Z"
   },
   {
    "duration": 582,
    "start_time": "2022-04-06T07:52:05.737Z"
   },
   {
    "duration": 48,
    "start_time": "2022-04-06T07:52:34.326Z"
   },
   {
    "duration": 8,
    "start_time": "2022-04-06T07:52:43.201Z"
   },
   {
    "duration": 16,
    "start_time": "2022-04-06T07:52:54.369Z"
   },
   {
    "duration": 12,
    "start_time": "2022-04-06T07:53:13.441Z"
   },
   {
    "duration": 12,
    "start_time": "2022-04-06T07:53:17.130Z"
   },
   {
    "duration": 11,
    "start_time": "2022-04-06T07:53:20.769Z"
   },
   {
    "duration": 23,
    "start_time": "2022-04-06T07:53:39.050Z"
   },
   {
    "duration": 1369,
    "start_time": "2022-04-06T07:54:02.864Z"
   },
   {
    "duration": 14,
    "start_time": "2022-04-06T07:54:26.467Z"
   },
   {
    "duration": 328,
    "start_time": "2022-04-06T07:54:40.388Z"
   },
   {
    "duration": 180,
    "start_time": "2022-04-06T08:01:33.080Z"
   },
   {
    "duration": 151,
    "start_time": "2022-04-06T08:02:07.102Z"
   },
   {
    "duration": 23,
    "start_time": "2022-04-06T08:03:43.563Z"
   },
   {
    "duration": 178,
    "start_time": "2022-04-06T08:04:29.709Z"
   },
   {
    "duration": 53,
    "start_time": "2022-04-06T08:04:42.702Z"
   },
   {
    "duration": 266,
    "start_time": "2022-04-06T08:15:16.620Z"
   },
   {
    "duration": 51,
    "start_time": "2022-04-06T08:15:38.138Z"
   },
   {
    "duration": 1855,
    "start_time": "2022-04-06T08:16:59.623Z"
   },
   {
    "duration": 352,
    "start_time": "2022-04-06T08:17:35.981Z"
   },
   {
    "duration": 104,
    "start_time": "2022-04-06T08:17:58.060Z"
   },
   {
    "duration": 6451,
    "start_time": "2022-04-06T08:18:19.546Z"
   },
   {
    "duration": 5,
    "start_time": "2022-04-06T08:18:49.589Z"
   },
   {
    "duration": 1909,
    "start_time": "2022-04-06T08:18:57.517Z"
   },
   {
    "duration": 557,
    "start_time": "2022-04-06T08:25:04.566Z"
   },
   {
    "duration": 1467,
    "start_time": "2022-04-06T08:26:31.756Z"
   },
   {
    "duration": 14,
    "start_time": "2022-04-06T08:27:39.455Z"
   },
   {
    "duration": 13,
    "start_time": "2022-04-06T08:27:49.863Z"
   },
   {
    "duration": 296,
    "start_time": "2022-04-06T08:28:01.049Z"
   },
   {
    "duration": 7,
    "start_time": "2022-04-06T08:30:05.321Z"
   },
   {
    "duration": 3018,
    "start_time": "2022-04-06T08:30:13.607Z"
   },
   {
    "duration": 931,
    "start_time": "2022-04-06T08:31:38.838Z"
   },
   {
    "duration": 383,
    "start_time": "2022-04-06T08:37:56.571Z"
   },
   {
    "duration": 743,
    "start_time": "2022-04-06T08:39:35.141Z"
   },
   {
    "duration": 392,
    "start_time": "2022-04-06T08:39:48.607Z"
   },
   {
    "duration": 7,
    "start_time": "2022-04-06T08:41:53.458Z"
   },
   {
    "duration": 25,
    "start_time": "2022-04-06T08:42:12.607Z"
   },
   {
    "duration": 6,
    "start_time": "2022-04-06T08:42:25.831Z"
   },
   {
    "duration": 11,
    "start_time": "2022-04-06T08:42:34.168Z"
   },
   {
    "duration": 345,
    "start_time": "2022-04-06T08:42:45.591Z"
   },
   {
    "duration": 9,
    "start_time": "2022-04-06T08:58:08.871Z"
   },
   {
    "duration": 4,
    "start_time": "2022-04-06T08:58:17.110Z"
   },
   {
    "duration": 41,
    "start_time": "2022-04-06T08:58:22.952Z"
   },
   {
    "duration": 356,
    "start_time": "2022-04-06T09:07:39.122Z"
   },
   {
    "duration": 46,
    "start_time": "2022-04-06T09:08:54.559Z"
   },
   {
    "duration": 30,
    "start_time": "2022-04-06T09:10:55.336Z"
   },
   {
    "duration": 45,
    "start_time": "2022-04-06T09:11:04.028Z"
   },
   {
    "duration": 30,
    "start_time": "2022-04-06T09:11:08.157Z"
   },
   {
    "duration": 24,
    "start_time": "2022-04-06T09:11:23.902Z"
   },
   {
    "duration": 5591,
    "start_time": "2022-04-06T09:11:30.045Z"
   },
   {
    "duration": 406,
    "start_time": "2022-04-06T09:11:51.426Z"
   },
   {
    "duration": 591,
    "start_time": "2022-04-06T09:17:04.128Z"
   },
   {
    "duration": 10,
    "start_time": "2022-04-06T09:19:45.440Z"
   },
   {
    "duration": 8,
    "start_time": "2022-04-06T09:20:07.147Z"
   },
   {
    "duration": 8,
    "start_time": "2022-04-06T09:20:10.857Z"
   },
   {
    "duration": 8,
    "start_time": "2022-04-06T09:20:14.861Z"
   },
   {
    "duration": 5,
    "start_time": "2022-04-06T09:20:25.160Z"
   },
   {
    "duration": 6,
    "start_time": "2022-04-06T09:21:22.485Z"
   },
   {
    "duration": 3474,
    "start_time": "2022-04-06T09:22:19.528Z"
   },
   {
    "duration": 10,
    "start_time": "2022-04-06T09:22:59.150Z"
   },
   {
    "duration": 8,
    "start_time": "2022-04-06T09:29:53.842Z"
   },
   {
    "duration": 7,
    "start_time": "2022-04-06T09:30:14.554Z"
   },
   {
    "duration": 8,
    "start_time": "2022-04-06T09:30:39.697Z"
   },
   {
    "duration": 8,
    "start_time": "2022-04-06T09:32:52.109Z"
   },
   {
    "duration": 257,
    "start_time": "2022-04-06T09:37:02.720Z"
   },
   {
    "duration": 264,
    "start_time": "2022-04-06T09:38:59.248Z"
   },
   {
    "duration": 246,
    "start_time": "2022-04-06T09:40:26.531Z"
   },
   {
    "duration": 282,
    "start_time": "2022-04-06T09:41:56.603Z"
   },
   {
    "duration": 294,
    "start_time": "2022-04-06T09:43:17.883Z"
   },
   {
    "duration": 250,
    "start_time": "2022-04-06T09:43:39.965Z"
   },
   {
    "duration": 251,
    "start_time": "2022-04-06T09:44:20.522Z"
   },
   {
    "duration": 295,
    "start_time": "2022-04-06T09:47:24.701Z"
   },
   {
    "duration": 284,
    "start_time": "2022-04-06T09:47:46.921Z"
   },
   {
    "duration": 271,
    "start_time": "2022-04-06T09:48:20.917Z"
   },
   {
    "duration": 468,
    "start_time": "2022-04-06T09:48:39.215Z"
   },
   {
    "duration": 434,
    "start_time": "2022-04-06T09:52:26.457Z"
   },
   {
    "duration": 296,
    "start_time": "2022-04-06T09:53:09.364Z"
   },
   {
    "duration": 272,
    "start_time": "2022-04-06T09:54:21.821Z"
   },
   {
    "duration": 184,
    "start_time": "2022-04-06T09:55:35.056Z"
   },
   {
    "duration": 274,
    "start_time": "2022-04-06T09:57:22.710Z"
   },
   {
    "duration": 273,
    "start_time": "2022-04-06T09:57:44.598Z"
   },
   {
    "duration": 270,
    "start_time": "2022-04-06T09:58:33.985Z"
   },
   {
    "duration": 239,
    "start_time": "2022-04-06T09:59:35.539Z"
   },
   {
    "duration": 272,
    "start_time": "2022-04-06T10:01:03.716Z"
   },
   {
    "duration": 262,
    "start_time": "2022-04-06T10:01:21.088Z"
   },
   {
    "duration": 280,
    "start_time": "2022-04-06T10:02:00.555Z"
   },
   {
    "duration": 258,
    "start_time": "2022-04-06T10:02:12.933Z"
   },
   {
    "duration": 256,
    "start_time": "2022-04-06T10:02:34.609Z"
   },
   {
    "duration": 263,
    "start_time": "2022-04-06T10:02:46.264Z"
   },
   {
    "duration": 50,
    "start_time": "2022-04-07T06:19:13.682Z"
   },
   {
    "duration": 1517,
    "start_time": "2022-04-07T06:20:11.575Z"
   },
   {
    "duration": 114,
    "start_time": "2022-04-07T06:20:14.695Z"
   },
   {
    "duration": 17,
    "start_time": "2022-04-07T06:20:19.887Z"
   },
   {
    "duration": 13,
    "start_time": "2022-04-07T06:20:25.113Z"
   },
   {
    "duration": 55,
    "start_time": "2022-04-07T06:20:30.777Z"
   },
   {
    "duration": 9,
    "start_time": "2022-04-07T06:20:34.607Z"
   },
   {
    "duration": 48,
    "start_time": "2022-04-07T06:20:38.513Z"
   },
   {
    "duration": 3,
    "start_time": "2022-04-07T06:20:41.943Z"
   },
   {
    "duration": 3,
    "start_time": "2022-04-07T06:20:44.976Z"
   },
   {
    "duration": 5,
    "start_time": "2022-04-07T06:20:49.248Z"
   },
   {
    "duration": 9,
    "start_time": "2022-04-07T06:20:52.363Z"
   },
   {
    "duration": 8,
    "start_time": "2022-04-07T06:20:55.727Z"
   },
   {
    "duration": 9,
    "start_time": "2022-04-07T06:20:58.015Z"
   },
   {
    "duration": 8,
    "start_time": "2022-04-07T06:21:01.086Z"
   },
   {
    "duration": 32,
    "start_time": "2022-04-07T06:21:06.568Z"
   },
   {
    "duration": 29,
    "start_time": "2022-04-07T06:21:11.691Z"
   },
   {
    "duration": 4,
    "start_time": "2022-04-07T06:21:14.704Z"
   },
   {
    "duration": 5,
    "start_time": "2022-04-07T06:21:17.669Z"
   },
   {
    "duration": 5,
    "start_time": "2022-04-07T06:21:23.863Z"
   },
   {
    "duration": 6,
    "start_time": "2022-04-07T06:21:28.186Z"
   },
   {
    "duration": 13,
    "start_time": "2022-04-07T06:21:31.673Z"
   },
   {
    "duration": 9,
    "start_time": "2022-04-07T06:21:35.801Z"
   },
   {
    "duration": 50,
    "start_time": "2022-04-07T06:21:38.723Z"
   },
   {
    "duration": 9,
    "start_time": "2022-04-07T06:21:42.507Z"
   },
   {
    "duration": 20,
    "start_time": "2022-04-07T06:21:48.018Z"
   },
   {
    "duration": 5,
    "start_time": "2022-04-07T06:21:52.072Z"
   },
   {
    "duration": 5,
    "start_time": "2022-04-07T06:21:55.745Z"
   },
   {
    "duration": 4,
    "start_time": "2022-04-07T06:21:58.409Z"
   },
   {
    "duration": 4,
    "start_time": "2022-04-07T06:22:01.546Z"
   },
   {
    "duration": 15,
    "start_time": "2022-04-07T06:22:05.065Z"
   },
   {
    "duration": 28,
    "start_time": "2022-04-07T06:22:09.057Z"
   },
   {
    "duration": 214,
    "start_time": "2022-04-07T06:22:13.361Z"
   },
   {
    "duration": 28,
    "start_time": "2022-04-07T06:22:19.893Z"
   },
   {
    "duration": 6,
    "start_time": "2022-04-07T06:22:23.739Z"
   },
   {
    "duration": 9,
    "start_time": "2022-04-07T06:22:27.009Z"
   },
   {
    "duration": 9,
    "start_time": "2022-04-07T06:22:30.193Z"
   },
   {
    "duration": 9,
    "start_time": "2022-04-07T06:22:33.368Z"
   },
   {
    "duration": 9,
    "start_time": "2022-04-07T06:22:36.627Z"
   },
   {
    "duration": 16,
    "start_time": "2022-04-07T06:22:39.422Z"
   },
   {
    "duration": 818,
    "start_time": "2022-04-07T06:22:44.506Z"
   },
   {
    "duration": 9,
    "start_time": "2022-04-07T06:22:49.889Z"
   },
   {
    "duration": 168,
    "start_time": "2022-04-07T06:22:56.579Z"
   },
   {
    "duration": 102,
    "start_time": "2022-04-07T06:23:01.548Z"
   },
   {
    "duration": 33,
    "start_time": "2022-04-07T06:23:07.715Z"
   },
   {
    "duration": 1113,
    "start_time": "2022-04-07T06:23:13.290Z"
   },
   {
    "duration": 210,
    "start_time": "2022-04-07T06:23:17.098Z"
   },
   {
    "duration": 74,
    "start_time": "2022-04-07T06:23:21.846Z"
   },
   {
    "duration": 3683,
    "start_time": "2022-04-07T06:23:26.490Z"
   },
   {
    "duration": 4,
    "start_time": "2022-04-07T06:23:35.558Z"
   },
   {
    "duration": 1058,
    "start_time": "2022-04-07T06:23:38.411Z"
   },
   {
    "duration": 305,
    "start_time": "2022-04-07T06:23:44.170Z"
   },
   {
    "duration": 844,
    "start_time": "2022-04-07T06:23:49.787Z"
   },
   {
    "duration": 9,
    "start_time": "2022-04-07T06:23:53.708Z"
   },
   {
    "duration": 166,
    "start_time": "2022-04-07T06:23:58.730Z"
   },
   {
    "duration": 4,
    "start_time": "2022-04-07T06:24:04.180Z"
   },
   {
    "duration": 1585,
    "start_time": "2022-04-07T06:24:07.671Z"
   },
   {
    "duration": 575,
    "start_time": "2022-04-07T06:24:17.940Z"
   },
   {
    "duration": 149,
    "start_time": "2022-04-07T06:24:37.317Z"
   },
   {
    "duration": 5,
    "start_time": "2022-04-07T06:24:41.340Z"
   },
   {
    "duration": 16,
    "start_time": "2022-04-07T06:24:46.523Z"
   },
   {
    "duration": 4,
    "start_time": "2022-04-07T06:24:49.415Z"
   },
   {
    "duration": 8,
    "start_time": "2022-04-07T06:24:52.748Z"
   },
   {
    "duration": 176,
    "start_time": "2022-04-07T06:24:56.292Z"
   },
   {
    "duration": 7,
    "start_time": "2022-04-07T06:25:00.123Z"
   },
   {
    "duration": 3,
    "start_time": "2022-04-07T06:25:02.390Z"
   },
   {
    "duration": 25,
    "start_time": "2022-04-07T06:25:04.759Z"
   },
   {
    "duration": 123,
    "start_time": "2022-04-07T06:25:11.236Z"
   },
   {
    "duration": 37,
    "start_time": "2022-04-07T06:25:15.383Z"
   },
   {
    "duration": 21,
    "start_time": "2022-04-07T06:25:19.701Z"
   },
   {
    "duration": 18,
    "start_time": "2022-04-07T06:25:26.749Z"
   },
   {
    "duration": 3039,
    "start_time": "2022-04-07T06:25:30.996Z"
   },
   {
    "duration": 267,
    "start_time": "2022-04-07T06:25:37.837Z"
   },
   {
    "duration": 6,
    "start_time": "2022-04-07T06:25:45.548Z"
   },
   {
    "duration": 142,
    "start_time": "2022-04-07T06:25:50.541Z"
   },
   {
    "duration": 166,
    "start_time": "2022-04-07T06:26:11.997Z"
   },
   {
    "duration": 6,
    "start_time": "2022-04-07T06:26:20.355Z"
   },
   {
    "duration": 146,
    "start_time": "2022-04-07T06:26:23.869Z"
   },
   {
    "duration": 6,
    "start_time": "2022-04-07T06:26:39.715Z"
   },
   {
    "duration": 165,
    "start_time": "2022-04-07T06:26:43.338Z"
   },
   {
    "duration": 5,
    "start_time": "2022-04-07T06:26:48.295Z"
   },
   {
    "duration": 143,
    "start_time": "2022-04-07T06:26:51.950Z"
   },
   {
    "duration": 5,
    "start_time": "2022-04-07T06:26:55.751Z"
   },
   {
    "duration": 163,
    "start_time": "2022-04-07T06:26:59.302Z"
   },
   {
    "duration": 5,
    "start_time": "2022-04-07T06:27:06.375Z"
   },
   {
    "duration": 147,
    "start_time": "2022-04-07T06:27:09.712Z"
   },
   {
    "duration": 5,
    "start_time": "2022-04-07T06:27:14.273Z"
   },
   {
    "duration": 161,
    "start_time": "2022-04-07T06:27:23.555Z"
   },
   {
    "duration": 6,
    "start_time": "2022-04-07T06:27:29.552Z"
   },
   {
    "duration": 139,
    "start_time": "2022-04-07T06:27:33.398Z"
   },
   {
    "duration": 6,
    "start_time": "2022-04-07T06:28:41.080Z"
   },
   {
    "duration": 150,
    "start_time": "2022-04-07T06:28:44.749Z"
   },
   {
    "duration": 5,
    "start_time": "2022-04-07T06:28:48.273Z"
   },
   {
    "duration": 158,
    "start_time": "2022-04-07T06:28:51.736Z"
   },
   {
    "duration": 4,
    "start_time": "2022-04-07T06:28:56.727Z"
   },
   {
    "duration": 1914,
    "start_time": "2022-04-07T06:29:01.143Z"
   },
   {
    "duration": 10,
    "start_time": "2022-04-07T07:40:16.910Z"
   },
   {
    "duration": 9,
    "start_time": "2022-04-07T07:41:00.959Z"
   },
   {
    "duration": 188,
    "start_time": "2022-04-07T07:50:32.665Z"
   },
   {
    "duration": 9,
    "start_time": "2022-04-07T07:51:59.293Z"
   },
   {
    "duration": 217,
    "start_time": "2022-04-07T07:52:30.932Z"
   },
   {
    "duration": 1603,
    "start_time": "2022-04-28T12:36:39.676Z"
   },
   {
    "duration": 283,
    "start_time": "2022-04-28T12:36:41.282Z"
   },
   {
    "duration": 0,
    "start_time": "2022-04-28T12:36:41.572Z"
   },
   {
    "duration": 0,
    "start_time": "2022-04-28T12:36:41.574Z"
   },
   {
    "duration": 0,
    "start_time": "2022-04-28T12:36:41.577Z"
   },
   {
    "duration": 0,
    "start_time": "2022-04-28T12:36:41.594Z"
   },
   {
    "duration": 0,
    "start_time": "2022-04-28T12:36:41.596Z"
   },
   {
    "duration": 0,
    "start_time": "2022-04-28T12:36:41.598Z"
   },
   {
    "duration": 0,
    "start_time": "2022-04-28T12:36:41.600Z"
   },
   {
    "duration": 0,
    "start_time": "2022-04-28T12:36:41.602Z"
   },
   {
    "duration": 0,
    "start_time": "2022-04-28T12:36:41.604Z"
   },
   {
    "duration": 0,
    "start_time": "2022-04-28T12:36:41.606Z"
   },
   {
    "duration": 0,
    "start_time": "2022-04-28T12:36:41.608Z"
   },
   {
    "duration": 0,
    "start_time": "2022-04-28T12:36:41.610Z"
   },
   {
    "duration": 0,
    "start_time": "2022-04-28T12:36:41.611Z"
   },
   {
    "duration": 0,
    "start_time": "2022-04-28T12:36:41.613Z"
   },
   {
    "duration": 0,
    "start_time": "2022-04-28T12:36:41.615Z"
   },
   {
    "duration": 0,
    "start_time": "2022-04-28T12:36:41.617Z"
   },
   {
    "duration": 0,
    "start_time": "2022-04-28T12:36:41.618Z"
   },
   {
    "duration": 0,
    "start_time": "2022-04-28T12:36:41.620Z"
   },
   {
    "duration": 0,
    "start_time": "2022-04-28T12:36:41.621Z"
   },
   {
    "duration": 0,
    "start_time": "2022-04-28T12:36:41.623Z"
   },
   {
    "duration": 0,
    "start_time": "2022-04-28T12:36:41.624Z"
   },
   {
    "duration": 0,
    "start_time": "2022-04-28T12:36:41.626Z"
   },
   {
    "duration": 0,
    "start_time": "2022-04-28T12:36:41.627Z"
   },
   {
    "duration": 0,
    "start_time": "2022-04-28T12:36:41.628Z"
   },
   {
    "duration": 0,
    "start_time": "2022-04-28T12:36:41.629Z"
   },
   {
    "duration": 0,
    "start_time": "2022-04-28T12:36:41.630Z"
   },
   {
    "duration": 0,
    "start_time": "2022-04-28T12:36:41.694Z"
   },
   {
    "duration": 0,
    "start_time": "2022-04-28T12:36:41.695Z"
   },
   {
    "duration": 0,
    "start_time": "2022-04-28T12:36:41.696Z"
   },
   {
    "duration": 0,
    "start_time": "2022-04-28T12:36:41.698Z"
   },
   {
    "duration": 0,
    "start_time": "2022-04-28T12:36:41.699Z"
   },
   {
    "duration": 0,
    "start_time": "2022-04-28T12:36:41.700Z"
   },
   {
    "duration": 0,
    "start_time": "2022-04-28T12:36:41.702Z"
   },
   {
    "duration": 0,
    "start_time": "2022-04-28T12:36:41.703Z"
   },
   {
    "duration": 0,
    "start_time": "2022-04-28T12:36:41.704Z"
   },
   {
    "duration": 0,
    "start_time": "2022-04-28T12:36:41.706Z"
   },
   {
    "duration": 0,
    "start_time": "2022-04-28T12:36:41.708Z"
   },
   {
    "duration": 0,
    "start_time": "2022-04-28T12:36:41.709Z"
   },
   {
    "duration": 0,
    "start_time": "2022-04-28T12:36:41.711Z"
   },
   {
    "duration": 0,
    "start_time": "2022-04-28T12:36:41.712Z"
   },
   {
    "duration": 0,
    "start_time": "2022-04-28T12:36:41.714Z"
   },
   {
    "duration": 0,
    "start_time": "2022-04-28T12:36:41.716Z"
   },
   {
    "duration": 0,
    "start_time": "2022-04-28T12:36:41.717Z"
   },
   {
    "duration": 1,
    "start_time": "2022-04-28T12:36:41.718Z"
   },
   {
    "duration": 1,
    "start_time": "2022-04-28T12:36:41.720Z"
   },
   {
    "duration": 0,
    "start_time": "2022-04-28T12:36:41.722Z"
   },
   {
    "duration": 0,
    "start_time": "2022-04-28T12:36:41.724Z"
   },
   {
    "duration": 0,
    "start_time": "2022-04-28T12:36:41.725Z"
   },
   {
    "duration": 0,
    "start_time": "2022-04-28T12:36:41.727Z"
   },
   {
    "duration": 0,
    "start_time": "2022-04-28T12:36:41.728Z"
   },
   {
    "duration": 0,
    "start_time": "2022-04-28T12:36:41.730Z"
   },
   {
    "duration": 0,
    "start_time": "2022-04-28T12:36:41.731Z"
   },
   {
    "duration": 0,
    "start_time": "2022-04-28T12:36:41.794Z"
   },
   {
    "duration": 0,
    "start_time": "2022-04-28T12:36:41.796Z"
   },
   {
    "duration": 0,
    "start_time": "2022-04-28T12:36:41.797Z"
   },
   {
    "duration": 106,
    "start_time": "2022-04-28T12:40:52.388Z"
   },
   {
    "duration": 1956,
    "start_time": "2022-04-28T12:41:39.976Z"
   },
   {
    "duration": 150,
    "start_time": "2022-04-28T12:41:41.936Z"
   },
   {
    "duration": 20,
    "start_time": "2022-04-28T12:41:42.093Z"
   },
   {
    "duration": 31,
    "start_time": "2022-04-28T12:41:42.117Z"
   },
   {
    "duration": 43,
    "start_time": "2022-04-28T12:41:42.151Z"
   },
   {
    "duration": 43,
    "start_time": "2022-04-28T12:41:42.197Z"
   },
   {
    "duration": 52,
    "start_time": "2022-04-28T12:41:42.243Z"
   },
   {
    "duration": 34,
    "start_time": "2022-04-28T12:41:42.298Z"
   },
   {
    "duration": 7,
    "start_time": "2022-04-28T12:41:42.335Z"
   },
   {
    "duration": 534,
    "start_time": "2022-04-28T12:41:42.349Z"
   },
   {
    "duration": 11,
    "start_time": "2022-04-28T12:41:42.885Z"
   },
   {
    "duration": 10,
    "start_time": "2022-04-28T12:41:42.899Z"
   },
   {
    "duration": 26,
    "start_time": "2022-04-28T12:41:42.911Z"
   },
   {
    "duration": 84,
    "start_time": "2022-04-28T12:41:42.939Z"
   },
   {
    "duration": 4,
    "start_time": "2022-04-28T12:41:43.026Z"
   },
   {
    "duration": 20,
    "start_time": "2022-04-28T12:41:43.033Z"
   },
   {
    "duration": 690,
    "start_time": "2022-04-28T12:41:43.055Z"
   },
   {
    "duration": 31,
    "start_time": "2022-04-28T12:41:43.747Z"
   },
   {
    "duration": 299,
    "start_time": "2022-04-28T12:41:43.794Z"
   },
   {
    "duration": 27,
    "start_time": "2022-04-28T12:41:44.095Z"
   },
   {
    "duration": 2394,
    "start_time": "2022-04-28T12:41:44.124Z"
   },
   {
    "duration": 53,
    "start_time": "2022-04-28T12:41:46.521Z"
   },
   {
    "duration": 17,
    "start_time": "2022-04-28T12:41:46.593Z"
   },
   {
    "duration": 99,
    "start_time": "2022-04-28T12:41:46.613Z"
   },
   {
    "duration": 594,
    "start_time": "2022-04-28T12:41:46.715Z"
   },
   {
    "duration": 0,
    "start_time": "2022-04-28T12:41:47.315Z"
   },
   {
    "duration": 0,
    "start_time": "2022-04-28T12:41:47.316Z"
   },
   {
    "duration": 0,
    "start_time": "2022-04-28T12:41:47.318Z"
   },
   {
    "duration": 0,
    "start_time": "2022-04-28T12:41:47.319Z"
   },
   {
    "duration": 0,
    "start_time": "2022-04-28T12:41:47.321Z"
   },
   {
    "duration": 0,
    "start_time": "2022-04-28T12:41:47.323Z"
   },
   {
    "duration": 0,
    "start_time": "2022-04-28T12:41:47.324Z"
   },
   {
    "duration": 0,
    "start_time": "2022-04-28T12:41:47.326Z"
   },
   {
    "duration": 1,
    "start_time": "2022-04-28T12:41:47.327Z"
   },
   {
    "duration": 0,
    "start_time": "2022-04-28T12:41:47.329Z"
   },
   {
    "duration": 0,
    "start_time": "2022-04-28T12:41:47.331Z"
   },
   {
    "duration": 0,
    "start_time": "2022-04-28T12:41:47.332Z"
   },
   {
    "duration": 0,
    "start_time": "2022-04-28T12:41:47.334Z"
   },
   {
    "duration": 0,
    "start_time": "2022-04-28T12:41:47.336Z"
   },
   {
    "duration": 0,
    "start_time": "2022-04-28T12:41:47.337Z"
   },
   {
    "duration": 0,
    "start_time": "2022-04-28T12:41:47.338Z"
   },
   {
    "duration": 0,
    "start_time": "2022-04-28T12:41:47.340Z"
   },
   {
    "duration": 0,
    "start_time": "2022-04-28T12:41:47.341Z"
   },
   {
    "duration": 0,
    "start_time": "2022-04-28T12:41:47.343Z"
   },
   {
    "duration": 0,
    "start_time": "2022-04-28T12:41:47.344Z"
   },
   {
    "duration": 0,
    "start_time": "2022-04-28T12:41:47.393Z"
   },
   {
    "duration": 0,
    "start_time": "2022-04-28T12:41:47.395Z"
   },
   {
    "duration": 0,
    "start_time": "2022-04-28T12:41:47.396Z"
   },
   {
    "duration": 0,
    "start_time": "2022-04-28T12:41:47.398Z"
   },
   {
    "duration": 0,
    "start_time": "2022-04-28T12:41:47.399Z"
   },
   {
    "duration": 0,
    "start_time": "2022-04-28T12:41:47.400Z"
   },
   {
    "duration": 0,
    "start_time": "2022-04-28T12:41:47.401Z"
   },
   {
    "duration": 0,
    "start_time": "2022-04-28T12:41:47.403Z"
   },
   {
    "duration": 0,
    "start_time": "2022-04-28T12:41:47.404Z"
   },
   {
    "duration": 0,
    "start_time": "2022-04-28T12:41:47.405Z"
   },
   {
    "duration": 0,
    "start_time": "2022-04-28T12:41:47.408Z"
   },
   {
    "duration": 0,
    "start_time": "2022-04-28T12:41:47.409Z"
   },
   {
    "duration": 12,
    "start_time": "2022-04-28T13:26:54.435Z"
   },
   {
    "duration": 40,
    "start_time": "2022-04-28T13:26:54.450Z"
   },
   {
    "duration": 1722,
    "start_time": "2022-04-28T13:26:54.492Z"
   },
   {
    "duration": 0,
    "start_time": "2022-04-28T13:26:56.217Z"
   },
   {
    "duration": 0,
    "start_time": "2022-04-28T13:26:56.218Z"
   },
   {
    "duration": 0,
    "start_time": "2022-04-28T13:26:56.220Z"
   },
   {
    "duration": 1,
    "start_time": "2022-04-28T13:26:56.221Z"
   },
   {
    "duration": 0,
    "start_time": "2022-04-28T13:26:56.223Z"
   },
   {
    "duration": 0,
    "start_time": "2022-04-28T13:26:56.225Z"
   },
   {
    "duration": 0,
    "start_time": "2022-04-28T13:26:56.226Z"
   },
   {
    "duration": 0,
    "start_time": "2022-04-28T13:26:56.228Z"
   },
   {
    "duration": 0,
    "start_time": "2022-04-28T13:26:56.230Z"
   },
   {
    "duration": 0,
    "start_time": "2022-04-28T13:26:56.231Z"
   },
   {
    "duration": 0,
    "start_time": "2022-04-28T13:26:56.233Z"
   },
   {
    "duration": 0,
    "start_time": "2022-04-28T13:26:56.235Z"
   },
   {
    "duration": 0,
    "start_time": "2022-04-28T13:26:56.236Z"
   },
   {
    "duration": 0,
    "start_time": "2022-04-28T13:26:56.238Z"
   },
   {
    "duration": 0,
    "start_time": "2022-04-28T13:26:56.239Z"
   },
   {
    "duration": 0,
    "start_time": "2022-04-28T13:26:56.241Z"
   },
   {
    "duration": 0,
    "start_time": "2022-04-28T13:26:56.242Z"
   },
   {
    "duration": 0,
    "start_time": "2022-04-28T13:26:56.243Z"
   },
   {
    "duration": 0,
    "start_time": "2022-04-28T13:26:56.244Z"
   },
   {
    "duration": 0,
    "start_time": "2022-04-28T13:26:56.246Z"
   },
   {
    "duration": 0,
    "start_time": "2022-04-28T13:26:56.248Z"
   },
   {
    "duration": 0,
    "start_time": "2022-04-28T13:26:56.249Z"
   },
   {
    "duration": 0,
    "start_time": "2022-04-28T13:26:56.250Z"
   },
   {
    "duration": 0,
    "start_time": "2022-04-28T13:26:56.251Z"
   },
   {
    "duration": 0,
    "start_time": "2022-04-28T13:26:56.253Z"
   },
   {
    "duration": 0,
    "start_time": "2022-04-28T13:26:56.293Z"
   },
   {
    "duration": 0,
    "start_time": "2022-04-28T13:26:56.294Z"
   },
   {
    "duration": 0,
    "start_time": "2022-04-28T13:26:56.296Z"
   },
   {
    "duration": 0,
    "start_time": "2022-04-28T13:26:56.297Z"
   },
   {
    "duration": 116,
    "start_time": "2022-04-28T13:27:38.827Z"
   },
   {
    "duration": 635,
    "start_time": "2022-04-28T13:27:43.967Z"
   },
   {
    "duration": 17,
    "start_time": "2022-04-28T13:27:47.363Z"
   },
   {
    "duration": 12,
    "start_time": "2022-04-28T13:27:49.733Z"
   },
   {
    "duration": 1111,
    "start_time": "2022-04-28T13:27:51.782Z"
   },
   {
    "duration": 13,
    "start_time": "2022-04-28T13:28:00.387Z"
   },
   {
    "duration": 11,
    "start_time": "2022-04-28T13:28:02.947Z"
   },
   {
    "duration": 707,
    "start_time": "2022-04-28T13:28:03.723Z"
   },
   {
    "duration": 31,
    "start_time": "2022-04-28T13:28:09.135Z"
   },
   {
    "duration": 533,
    "start_time": "2022-04-28T13:28:09.567Z"
   },
   {
    "duration": 28,
    "start_time": "2022-04-28T13:28:13.730Z"
   },
   {
    "duration": 546,
    "start_time": "2022-04-28T13:28:14.147Z"
   },
   {
    "duration": 27,
    "start_time": "2022-04-28T13:28:14.696Z"
   },
   {
    "duration": 573,
    "start_time": "2022-04-28T13:28:15.555Z"
   },
   {
    "duration": 26,
    "start_time": "2022-04-28T13:28:16.687Z"
   },
   {
    "duration": 593,
    "start_time": "2022-04-28T13:28:17.367Z"
   },
   {
    "duration": 16,
    "start_time": "2022-04-28T13:28:21.018Z"
   },
   {
    "duration": 547,
    "start_time": "2022-04-28T13:28:21.037Z"
   },
   {
    "duration": 20,
    "start_time": "2022-04-28T13:28:23.163Z"
   },
   {
    "duration": 509,
    "start_time": "2022-04-28T13:28:24.275Z"
   },
   {
    "duration": 12,
    "start_time": "2022-04-28T13:28:27.406Z"
   },
   {
    "duration": 13,
    "start_time": "2022-04-28T13:28:29.111Z"
   },
   {
    "duration": 325,
    "start_time": "2022-04-28T13:28:29.943Z"
   },
   {
    "duration": 345,
    "start_time": "2022-04-28T13:28:30.595Z"
   },
   {
    "duration": 491,
    "start_time": "2022-04-28T13:28:31.427Z"
   },
   {
    "duration": 24,
    "start_time": "2022-04-28T13:28:34.803Z"
   },
   {
    "duration": 19,
    "start_time": "2022-04-28T13:28:38.047Z"
   },
   {
    "duration": 12,
    "start_time": "2022-04-28T13:28:43.735Z"
   },
   {
    "duration": 17,
    "start_time": "2022-04-28T13:28:45.023Z"
   },
   {
    "duration": 548,
    "start_time": "2022-04-28T13:32:27.871Z"
   },
   {
    "duration": 136,
    "start_time": "2022-04-28T13:32:52.111Z"
   },
   {
    "duration": 262,
    "start_time": "2022-04-28T13:33:19.627Z"
   },
   {
    "duration": 368,
    "start_time": "2022-04-28T13:33:29.561Z"
   },
   {
    "duration": 141,
    "start_time": "2022-04-28T13:34:53.291Z"
   },
   {
    "duration": 142,
    "start_time": "2022-04-28T13:35:10.567Z"
   },
   {
    "duration": 543,
    "start_time": "2022-04-28T13:35:54.475Z"
   },
   {
    "duration": 535,
    "start_time": "2022-04-28T13:42:24.143Z"
   },
   {
    "duration": 191,
    "start_time": "2022-04-28T13:49:55.887Z"
   },
   {
    "duration": 1541,
    "start_time": "2022-05-04T14:25:45.498Z"
   },
   {
    "duration": 544,
    "start_time": "2022-05-04T14:27:06.923Z"
   },
   {
    "duration": 192,
    "start_time": "2022-05-04T14:28:03.169Z"
   },
   {
    "duration": 108,
    "start_time": "2022-05-04T14:28:11.385Z"
   },
   {
    "duration": 3,
    "start_time": "2022-05-04T14:28:26.688Z"
   },
   {
    "duration": 1205,
    "start_time": "2022-05-04T14:28:40.666Z"
   },
   {
    "duration": 128,
    "start_time": "2022-05-04T14:28:45.069Z"
   },
   {
    "duration": 75,
    "start_time": "2022-05-04T14:28:56.740Z"
   },
   {
    "duration": 16,
    "start_time": "2022-05-04T14:49:37.082Z"
   },
   {
    "duration": 15,
    "start_time": "2022-05-04T14:49:44.977Z"
   },
   {
    "duration": 6,
    "start_time": "2022-05-04T14:49:53.106Z"
   },
   {
    "duration": 33,
    "start_time": "2022-05-04T14:49:59.975Z"
   },
   {
    "duration": 20,
    "start_time": "2022-05-04T14:50:03.507Z"
   },
   {
    "duration": 5,
    "start_time": "2022-05-04T14:50:07.407Z"
   },
   {
    "duration": 27,
    "start_time": "2022-05-04T14:50:11.183Z"
   },
   {
    "duration": 5,
    "start_time": "2022-05-04T14:50:15.592Z"
   },
   {
    "duration": 343,
    "start_time": "2022-05-04T14:50:18.809Z"
   },
   {
    "duration": 5,
    "start_time": "2022-05-04T14:50:24.814Z"
   },
   {
    "duration": 9,
    "start_time": "2022-05-04T14:50:28.655Z"
   },
   {
    "duration": 13,
    "start_time": "2022-05-04T14:50:32.407Z"
   },
   {
    "duration": 7,
    "start_time": "2022-05-04T14:50:44.608Z"
   },
   {
    "duration": 13,
    "start_time": "2022-05-04T14:51:25.146Z"
   },
   {
    "duration": 2926,
    "start_time": "2022-05-04T14:58:15.131Z"
   },
   {
    "duration": 5,
    "start_time": "2022-05-04T14:58:30.970Z"
   },
   {
    "duration": 4,
    "start_time": "2022-05-04T15:05:22.166Z"
   },
   {
    "duration": 1409,
    "start_time": "2022-05-04T15:06:23.234Z"
   },
   {
    "duration": 151,
    "start_time": "2022-05-04T15:06:34.123Z"
   },
   {
    "duration": 50,
    "start_time": "2022-05-04T15:06:58.390Z"
   },
   {
    "duration": 15,
    "start_time": "2022-05-04T15:07:19.153Z"
   },
   {
    "duration": 17,
    "start_time": "2022-05-04T15:07:22.985Z"
   },
   {
    "duration": 7,
    "start_time": "2022-05-04T15:07:32.046Z"
   },
   {
    "duration": 33,
    "start_time": "2022-05-04T15:07:38.774Z"
   },
   {
    "duration": 20,
    "start_time": "2022-05-04T15:07:46.657Z"
   },
   {
    "duration": 24,
    "start_time": "2022-05-04T15:07:50.622Z"
   },
   {
    "duration": 6,
    "start_time": "2022-05-04T15:07:54.503Z"
   },
   {
    "duration": 359,
    "start_time": "2022-05-04T15:07:57.686Z"
   },
   {
    "duration": 5,
    "start_time": "2022-05-04T15:08:02.992Z"
   },
   {
    "duration": 8,
    "start_time": "2022-05-04T15:08:06.511Z"
   },
   {
    "duration": 16,
    "start_time": "2022-05-04T15:08:09.966Z"
   },
   {
    "duration": 7,
    "start_time": "2022-05-04T15:08:18.752Z"
   },
   {
    "duration": 5,
    "start_time": "2022-05-04T15:08:22.230Z"
   },
   {
    "duration": 13,
    "start_time": "2022-05-04T15:08:25.968Z"
   },
   {
    "duration": 6,
    "start_time": "2022-05-04T15:08:28.606Z"
   },
   {
    "duration": 22,
    "start_time": "2022-05-04T15:08:39.112Z"
   },
   {
    "duration": 3,
    "start_time": "2022-05-04T15:09:00.671Z"
   },
   {
    "duration": 12,
    "start_time": "2022-05-04T15:09:31.128Z"
   },
   {
    "duration": 566,
    "start_time": "2022-05-04T15:09:37.416Z"
   },
   {
    "duration": 15,
    "start_time": "2022-05-04T15:16:40.569Z"
   },
   {
    "duration": 188,
    "start_time": "2022-05-04T15:16:53.441Z"
   },
   {
    "duration": 20,
    "start_time": "2022-05-04T15:20:04.818Z"
   },
   {
    "duration": 19,
    "start_time": "2022-05-04T15:21:41.850Z"
   },
   {
    "duration": 1016,
    "start_time": "2022-05-04T15:21:47.368Z"
   },
   {
    "duration": 33,
    "start_time": "2022-05-04T15:22:15.799Z"
   },
   {
    "duration": 12,
    "start_time": "2022-05-04T15:22:19.486Z"
   },
   {
    "duration": 134,
    "start_time": "2022-05-04T15:27:09.163Z"
   },
   {
    "duration": 13,
    "start_time": "2022-05-04T15:28:13.644Z"
   },
   {
    "duration": 23,
    "start_time": "2022-05-04T15:31:49.689Z"
   },
   {
    "duration": 1013,
    "start_time": "2022-05-04T15:41:26.576Z"
   },
   {
    "duration": 56,
    "start_time": "2022-05-04T15:54:41.968Z"
   },
   {
    "duration": 79,
    "start_time": "2022-05-04T16:02:56.097Z"
   },
   {
    "duration": 343,
    "start_time": "2022-05-04T16:04:53.797Z"
   },
   {
    "duration": 1292,
    "start_time": "2022-05-04T16:27:33.899Z"
   },
   {
    "duration": 139,
    "start_time": "2022-05-04T16:27:37.422Z"
   },
   {
    "duration": 45,
    "start_time": "2022-05-04T16:27:40.670Z"
   },
   {
    "duration": 19,
    "start_time": "2022-05-04T16:27:46.290Z"
   },
   {
    "duration": 18,
    "start_time": "2022-05-04T16:27:49.957Z"
   },
   {
    "duration": 10,
    "start_time": "2022-05-04T16:27:55.616Z"
   },
   {
    "duration": 32,
    "start_time": "2022-05-04T16:28:00.264Z"
   },
   {
    "duration": 19,
    "start_time": "2022-05-04T16:31:03.278Z"
   },
   {
    "duration": 25,
    "start_time": "2022-05-04T16:31:06.473Z"
   },
   {
    "duration": 7,
    "start_time": "2022-05-04T16:31:12.241Z"
   },
   {
    "duration": 355,
    "start_time": "2022-05-04T16:31:16.190Z"
   },
   {
    "duration": 6,
    "start_time": "2022-05-04T16:31:19.481Z"
   },
   {
    "duration": 9,
    "start_time": "2022-05-04T16:31:23.532Z"
   },
   {
    "duration": 32,
    "start_time": "2022-05-04T16:31:48.216Z"
   },
   {
    "duration": 11,
    "start_time": "2022-05-04T16:31:53.529Z"
   },
   {
    "duration": 6,
    "start_time": "2022-05-04T16:31:56.873Z"
   },
   {
    "duration": 22,
    "start_time": "2022-05-04T16:31:59.809Z"
   },
   {
    "duration": 5,
    "start_time": "2022-05-04T16:32:06.114Z"
   },
   {
    "duration": 34,
    "start_time": "2022-05-04T16:32:13.682Z"
   },
   {
    "duration": 3,
    "start_time": "2022-05-04T16:32:18.988Z"
   },
   {
    "duration": 13,
    "start_time": "2022-05-04T16:32:25.787Z"
   },
   {
    "duration": 400,
    "start_time": "2022-05-04T16:32:37.429Z"
   },
   {
    "duration": 18,
    "start_time": "2022-05-04T16:32:45.156Z"
   },
   {
    "duration": 198,
    "start_time": "2022-05-04T16:32:50.469Z"
   },
   {
    "duration": 20,
    "start_time": "2022-05-04T16:32:55.579Z"
   },
   {
    "duration": 1153,
    "start_time": "2022-05-04T16:32:58.875Z"
   },
   {
    "duration": 37,
    "start_time": "2022-05-04T16:33:10.436Z"
   },
   {
    "duration": 15,
    "start_time": "2022-05-04T16:33:14.708Z"
   },
   {
    "duration": 143,
    "start_time": "2022-05-04T16:33:23.422Z"
   },
   {
    "duration": 12,
    "start_time": "2022-05-04T16:33:31.452Z"
   },
   {
    "duration": 21,
    "start_time": "2022-05-04T16:33:39.376Z"
   },
   {
    "duration": 1011,
    "start_time": "2022-05-04T16:33:44.862Z"
   },
   {
    "duration": 75,
    "start_time": "2022-05-04T16:33:56.493Z"
   },
   {
    "duration": 357,
    "start_time": "2022-05-04T16:34:00.971Z"
   },
   {
    "duration": 65,
    "start_time": "2022-05-04T16:34:05.573Z"
   },
   {
    "duration": 1328,
    "start_time": "2022-05-05T05:18:31.369Z"
   },
   {
    "duration": 109,
    "start_time": "2022-05-05T05:18:35.385Z"
   },
   {
    "duration": 43,
    "start_time": "2022-05-05T05:18:39.076Z"
   },
   {
    "duration": 15,
    "start_time": "2022-05-05T05:18:45.603Z"
   },
   {
    "duration": 15,
    "start_time": "2022-05-05T05:18:50.307Z"
   },
   {
    "duration": 6,
    "start_time": "2022-05-05T05:18:55.220Z"
   },
   {
    "duration": 28,
    "start_time": "2022-05-05T05:18:59.421Z"
   },
   {
    "duration": 20,
    "start_time": "2022-05-05T05:19:03.667Z"
   },
   {
    "duration": 23,
    "start_time": "2022-05-05T05:19:07.713Z"
   },
   {
    "duration": 4,
    "start_time": "2022-05-05T05:19:12.108Z"
   },
   {
    "duration": 315,
    "start_time": "2022-05-05T05:19:16.679Z"
   },
   {
    "duration": 4,
    "start_time": "2022-05-05T05:19:20.095Z"
   },
   {
    "duration": 7,
    "start_time": "2022-05-05T05:19:23.462Z"
   },
   {
    "duration": 13,
    "start_time": "2022-05-05T05:19:27.775Z"
   },
   {
    "duration": 7,
    "start_time": "2022-05-05T05:19:31.963Z"
   },
   {
    "duration": 5,
    "start_time": "2022-05-05T05:19:35.900Z"
   },
   {
    "duration": 15,
    "start_time": "2022-05-05T05:19:39.287Z"
   },
   {
    "duration": 5,
    "start_time": "2022-05-05T05:19:43.047Z"
   },
   {
    "duration": 23,
    "start_time": "2022-05-05T05:19:56.015Z"
   },
   {
    "duration": 3,
    "start_time": "2022-05-05T05:20:01.677Z"
   },
   {
    "duration": 12,
    "start_time": "2022-05-05T05:20:06.238Z"
   },
   {
    "duration": 413,
    "start_time": "2022-05-05T05:20:11.024Z"
   },
   {
    "duration": 16,
    "start_time": "2022-05-05T05:20:22.374Z"
   },
   {
    "duration": 525,
    "start_time": "2022-05-05T05:23:44.336Z"
   },
   {
    "duration": 1411,
    "start_time": "2022-05-05T05:25:04.351Z"
   },
   {
    "duration": 105,
    "start_time": "2022-05-05T05:25:08.557Z"
   },
   {
    "duration": 41,
    "start_time": "2022-05-05T05:25:11.316Z"
   },
   {
    "duration": 13,
    "start_time": "2022-05-05T05:25:15.858Z"
   },
   {
    "duration": 14,
    "start_time": "2022-05-05T05:25:20.003Z"
   },
   {
    "duration": 5,
    "start_time": "2022-05-05T05:25:23.637Z"
   },
   {
    "duration": 31,
    "start_time": "2022-05-05T05:25:28.352Z"
   },
   {
    "duration": 20,
    "start_time": "2022-05-05T05:25:32.878Z"
   },
   {
    "duration": 100,
    "start_time": "2022-05-05T05:25:36.266Z"
   },
   {
    "duration": 4,
    "start_time": "2022-05-05T05:25:41.924Z"
   },
   {
    "duration": 318,
    "start_time": "2022-05-05T05:25:46.834Z"
   },
   {
    "duration": 4,
    "start_time": "2022-05-05T05:25:52.700Z"
   },
   {
    "duration": 8,
    "start_time": "2022-05-05T05:25:56.218Z"
   },
   {
    "duration": 15,
    "start_time": "2022-05-05T05:26:00.060Z"
   },
   {
    "duration": 7,
    "start_time": "2022-05-05T05:26:05.333Z"
   },
   {
    "duration": 5,
    "start_time": "2022-05-05T05:26:08.731Z"
   },
   {
    "duration": 14,
    "start_time": "2022-05-05T05:26:13.014Z"
   },
   {
    "duration": 4,
    "start_time": "2022-05-05T05:26:16.816Z"
   },
   {
    "duration": 24,
    "start_time": "2022-05-05T05:26:21.275Z"
   },
   {
    "duration": 3,
    "start_time": "2022-05-05T05:26:25.852Z"
   },
   {
    "duration": 12,
    "start_time": "2022-05-05T05:26:30.132Z"
   },
   {
    "duration": 587,
    "start_time": "2022-05-05T05:26:36.989Z"
   },
   {
    "duration": 17,
    "start_time": "2022-05-05T05:26:42.916Z"
   },
   {
    "duration": 199,
    "start_time": "2022-05-05T05:26:46.704Z"
   },
   {
    "duration": 17,
    "start_time": "2022-05-05T05:26:52.005Z"
   },
   {
    "duration": 969,
    "start_time": "2022-05-05T05:27:05.467Z"
   },
   {
    "duration": 32,
    "start_time": "2022-05-05T05:27:13.476Z"
   },
   {
    "duration": 11,
    "start_time": "2022-05-05T05:27:18.413Z"
   },
   {
    "duration": 129,
    "start_time": "2022-05-05T05:27:27.261Z"
   },
   {
    "duration": 11,
    "start_time": "2022-05-05T05:27:33.166Z"
   },
   {
    "duration": 19,
    "start_time": "2022-05-05T05:27:40.064Z"
   },
   {
    "duration": 923,
    "start_time": "2022-05-05T05:27:46.674Z"
   },
   {
    "duration": 47,
    "start_time": "2022-05-05T05:27:52.348Z"
   },
   {
    "duration": 323,
    "start_time": "2022-05-05T05:27:57.574Z"
   },
   {
    "duration": 57,
    "start_time": "2022-05-05T05:28:04.122Z"
   },
   {
    "duration": 10,
    "start_time": "2022-05-05T05:29:04.904Z"
   },
   {
    "duration": 7,
    "start_time": "2022-05-05T05:29:18.318Z"
   },
   {
    "duration": 194,
    "start_time": "2022-05-05T05:29:40.945Z"
   },
   {
    "duration": 207,
    "start_time": "2022-05-05T05:31:03.590Z"
   },
   {
    "duration": 5,
    "start_time": "2022-05-05T05:31:42.713Z"
   },
   {
    "duration": 213,
    "start_time": "2022-05-05T05:32:09.081Z"
   },
   {
    "duration": 5,
    "start_time": "2022-05-05T05:32:56.963Z"
   },
   {
    "duration": 191,
    "start_time": "2022-05-05T05:36:22.867Z"
   },
   {
    "duration": 6,
    "start_time": "2022-05-05T05:37:07.514Z"
   },
   {
    "duration": 182,
    "start_time": "2022-05-05T05:37:40.023Z"
   },
   {
    "duration": 6,
    "start_time": "2022-05-05T05:38:07.312Z"
   },
   {
    "duration": 8,
    "start_time": "2022-05-05T05:41:14.060Z"
   },
   {
    "duration": 8,
    "start_time": "2022-05-05T05:41:29.555Z"
   },
   {
    "duration": 480,
    "start_time": "2022-05-05T05:41:49.836Z"
   },
   {
    "duration": 7,
    "start_time": "2022-05-05T05:44:42.912Z"
   },
   {
    "duration": 8,
    "start_time": "2022-05-05T05:45:51.177Z"
   },
   {
    "duration": 380,
    "start_time": "2022-05-05T05:47:13.788Z"
   },
   {
    "duration": 383,
    "start_time": "2022-05-05T05:48:22.741Z"
   },
   {
    "duration": 303,
    "start_time": "2022-05-05T05:55:20.257Z"
   },
   {
    "duration": 328,
    "start_time": "2022-05-05T05:55:27.358Z"
   },
   {
    "duration": 17,
    "start_time": "2022-05-05T06:49:15.103Z"
   },
   {
    "duration": 416,
    "start_time": "2022-05-05T06:49:20.285Z"
   },
   {
    "duration": 20,
    "start_time": "2022-05-05T06:51:45.552Z"
   },
   {
    "duration": 18,
    "start_time": "2022-05-05T06:51:49.193Z"
   },
   {
    "duration": 525,
    "start_time": "2022-05-05T06:51:53.055Z"
   },
   {
    "duration": 26,
    "start_time": "2022-05-05T06:53:44.883Z"
   },
   {
    "duration": 489,
    "start_time": "2022-05-05T06:53:58.866Z"
   },
   {
    "duration": 12,
    "start_time": "2022-05-05T06:55:38.498Z"
   },
   {
    "duration": 24,
    "start_time": "2022-05-05T06:55:49.478Z"
   },
   {
    "duration": 222,
    "start_time": "2022-05-05T06:56:50.860Z"
   },
   {
    "duration": 2616,
    "start_time": "2022-05-05T06:57:29.959Z"
   },
   {
    "duration": 214,
    "start_time": "2022-05-05T06:58:00.257Z"
   },
   {
    "duration": 524,
    "start_time": "2022-05-05T06:58:56.730Z"
   },
   {
    "duration": 19,
    "start_time": "2022-05-05T06:59:48.746Z"
   },
   {
    "duration": 18,
    "start_time": "2022-05-05T07:00:25.623Z"
   },
   {
    "duration": 238,
    "start_time": "2022-05-05T07:01:21.994Z"
   },
   {
    "duration": 17,
    "start_time": "2022-05-05T07:03:40.378Z"
   },
   {
    "duration": 352,
    "start_time": "2022-05-05T07:03:53.798Z"
   },
   {
    "duration": 17,
    "start_time": "2022-05-05T07:04:59.519Z"
   },
   {
    "duration": 16,
    "start_time": "2022-05-05T07:05:28.763Z"
   },
   {
    "duration": 230,
    "start_time": "2022-05-05T07:06:17.308Z"
   },
   {
    "duration": 505,
    "start_time": "2022-05-05T07:43:26.970Z"
   },
   {
    "duration": 14,
    "start_time": "2022-05-05T07:43:46.400Z"
   },
   {
    "duration": 480,
    "start_time": "2022-05-05T07:43:49.512Z"
   },
   {
    "duration": 7,
    "start_time": "2022-05-05T07:44:25.499Z"
   },
   {
    "duration": 332,
    "start_time": "2022-05-05T07:45:11.565Z"
   },
   {
    "duration": 8,
    "start_time": "2022-05-05T07:45:50.438Z"
   },
   {
    "duration": 488,
    "start_time": "2022-05-05T07:45:53.245Z"
   },
   {
    "duration": 14,
    "start_time": "2022-05-05T08:00:49.949Z"
   },
   {
    "duration": 485,
    "start_time": "2022-05-05T08:00:54.221Z"
   },
   {
    "duration": 15,
    "start_time": "2022-05-05T08:02:06.833Z"
   },
   {
    "duration": 334,
    "start_time": "2022-05-05T08:03:35.483Z"
   },
   {
    "duration": 330,
    "start_time": "2022-05-05T08:04:45.827Z"
   },
   {
    "duration": 46,
    "start_time": "2022-05-05T11:38:47.454Z"
   },
   {
    "duration": 1313,
    "start_time": "2022-05-05T11:39:14.496Z"
   },
   {
    "duration": 1072,
    "start_time": "2022-05-05T11:39:28.873Z"
   },
   {
    "duration": 158,
    "start_time": "2022-05-05T11:39:31.863Z"
   },
   {
    "duration": 41,
    "start_time": "2022-05-05T11:39:34.766Z"
   },
   {
    "duration": 13,
    "start_time": "2022-05-05T11:39:41.579Z"
   },
   {
    "duration": 5,
    "start_time": "2022-05-05T11:39:45.912Z"
   },
   {
    "duration": 29,
    "start_time": "2022-05-05T11:39:50.490Z"
   },
   {
    "duration": 18,
    "start_time": "2022-05-05T11:39:53.826Z"
   },
   {
    "duration": 21,
    "start_time": "2022-05-05T11:39:57.867Z"
   },
   {
    "duration": 4,
    "start_time": "2022-05-05T11:40:01.784Z"
   },
   {
    "duration": 311,
    "start_time": "2022-05-05T11:40:04.842Z"
   },
   {
    "duration": 5,
    "start_time": "2022-05-05T11:40:08.394Z"
   },
   {
    "duration": 7,
    "start_time": "2022-05-05T11:40:11.216Z"
   },
   {
    "duration": 14,
    "start_time": "2022-05-05T11:40:14.680Z"
   },
   {
    "duration": 7,
    "start_time": "2022-05-05T11:40:19.574Z"
   },
   {
    "duration": 5,
    "start_time": "2022-05-05T11:40:22.058Z"
   },
   {
    "duration": 13,
    "start_time": "2022-05-05T11:40:25.098Z"
   },
   {
    "duration": 4,
    "start_time": "2022-05-05T11:40:28.128Z"
   },
   {
    "duration": 24,
    "start_time": "2022-05-05T11:40:33.681Z"
   },
   {
    "duration": 3,
    "start_time": "2022-05-05T11:40:38.033Z"
   },
   {
    "duration": 11,
    "start_time": "2022-05-05T11:40:40.907Z"
   },
   {
    "duration": 361,
    "start_time": "2022-05-05T11:40:44.588Z"
   },
   {
    "duration": 17,
    "start_time": "2022-05-05T11:40:48.732Z"
   },
   {
    "duration": 184,
    "start_time": "2022-05-05T11:40:52.506Z"
   },
   {
    "duration": 15,
    "start_time": "2022-05-05T11:40:57.640Z"
   },
   {
    "duration": 983,
    "start_time": "2022-05-05T11:41:01.945Z"
   },
   {
    "duration": 31,
    "start_time": "2022-05-05T11:41:09.077Z"
   },
   {
    "duration": 11,
    "start_time": "2022-05-05T11:41:13.107Z"
   },
   {
    "duration": 127,
    "start_time": "2022-05-05T11:41:19.716Z"
   },
   {
    "duration": 12,
    "start_time": "2022-05-05T11:41:25.192Z"
   },
   {
    "duration": 19,
    "start_time": "2022-05-05T11:41:29.571Z"
   },
   {
    "duration": 914,
    "start_time": "2022-05-05T11:41:34.522Z"
   },
   {
    "duration": 46,
    "start_time": "2022-05-05T11:41:39.679Z"
   },
   {
    "duration": 320,
    "start_time": "2022-05-05T11:41:44.077Z"
   },
   {
    "duration": 54,
    "start_time": "2022-05-05T11:41:49.268Z"
   },
   {
    "duration": 8,
    "start_time": "2022-05-05T11:41:58.893Z"
   },
   {
    "duration": 188,
    "start_time": "2022-05-05T11:42:03.149Z"
   },
   {
    "duration": 6,
    "start_time": "2022-05-05T11:42:08.195Z"
   },
   {
    "duration": 189,
    "start_time": "2022-05-05T11:42:10.740Z"
   },
   {
    "duration": 6,
    "start_time": "2022-05-05T11:42:14.466Z"
   },
   {
    "duration": 172,
    "start_time": "2022-05-05T11:42:17.578Z"
   },
   {
    "duration": 5,
    "start_time": "2022-05-05T11:42:22.662Z"
   },
   {
    "duration": 178,
    "start_time": "2022-05-05T11:42:25.996Z"
   },
   {
    "duration": 6,
    "start_time": "2022-05-05T11:42:30.163Z"
   },
   {
    "duration": 8,
    "start_time": "2022-05-05T11:42:34.635Z"
   },
   {
    "duration": 7,
    "start_time": "2022-05-05T11:42:37.999Z"
   },
   {
    "duration": 7,
    "start_time": "2022-05-05T11:42:41.572Z"
   },
   {
    "duration": 7,
    "start_time": "2022-05-05T11:42:44.484Z"
   },
   {
    "duration": 376,
    "start_time": "2022-05-05T11:42:49.276Z"
   },
   {
    "duration": 448,
    "start_time": "2022-05-05T11:42:54.902Z"
   },
   {
    "duration": 13,
    "start_time": "2022-05-05T11:42:59.901Z"
   },
   {
    "duration": 191,
    "start_time": "2022-05-05T11:43:03.175Z"
   },
   {
    "duration": 16,
    "start_time": "2022-05-05T11:43:09.089Z"
   },
   {
    "duration": 280,
    "start_time": "2022-05-05T11:43:12.205Z"
   },
   {
    "duration": 17,
    "start_time": "2022-05-05T11:43:15.965Z"
   },
   {
    "duration": 198,
    "start_time": "2022-05-05T11:43:21.202Z"
   },
   {
    "duration": 17,
    "start_time": "2022-05-05T11:43:24.493Z"
   },
   {
    "duration": 282,
    "start_time": "2022-05-05T11:43:27.596Z"
   },
   {
    "duration": 16,
    "start_time": "2022-05-05T11:43:31.438Z"
   },
   {
    "duration": 202,
    "start_time": "2022-05-05T11:43:34.749Z"
   },
   {
    "duration": 16,
    "start_time": "2022-05-05T11:43:39.602Z"
   },
   {
    "duration": 329,
    "start_time": "2022-05-05T11:43:43.586Z"
   },
   {
    "duration": 16,
    "start_time": "2022-05-05T11:43:46.925Z"
   },
   {
    "duration": 10,
    "start_time": "2022-05-05T11:43:55.661Z"
   },
   {
    "duration": 288,
    "start_time": "2022-05-05T11:43:59.566Z"
   },
   {
    "duration": 7,
    "start_time": "2022-05-05T11:44:03.574Z"
   },
   {
    "duration": 419,
    "start_time": "2022-05-05T11:44:06.991Z"
   },
   {
    "duration": 11,
    "start_time": "2022-05-05T11:44:15.272Z"
   },
   {
    "duration": 290,
    "start_time": "2022-05-05T11:44:18.625Z"
   },
   {
    "duration": 10,
    "start_time": "2022-05-05T11:44:22.512Z"
   },
   {
    "duration": 304,
    "start_time": "2022-05-05T11:44:26.350Z"
   },
   {
    "duration": 7,
    "start_time": "2022-05-05T11:44:35.141Z"
   },
   {
    "duration": 9,
    "start_time": "2022-05-05T11:44:40.097Z"
   },
   {
    "duration": 186,
    "start_time": "2022-05-05T11:44:56.929Z"
   },
   {
    "duration": 194,
    "start_time": "2022-05-05T11:45:00.849Z"
   },
   {
    "duration": 190,
    "start_time": "2022-05-05T11:45:04.135Z"
   },
   {
    "duration": 7,
    "start_time": "2022-05-05T11:47:22.219Z"
   },
   {
    "duration": 8,
    "start_time": "2022-05-05T11:48:15.439Z"
   },
   {
    "duration": 8,
    "start_time": "2022-05-05T11:50:39.633Z"
   },
   {
    "duration": 7,
    "start_time": "2022-05-05T11:51:21.698Z"
   },
   {
    "duration": 11,
    "start_time": "2022-05-05T11:51:29.946Z"
   },
   {
    "duration": 10,
    "start_time": "2022-05-05T11:51:33.895Z"
   },
   {
    "duration": 200,
    "start_time": "2022-05-05T11:51:58.826Z"
   },
   {
    "duration": 171,
    "start_time": "2022-05-05T11:54:04.804Z"
   },
   {
    "duration": 258,
    "start_time": "2022-05-05T11:56:00.349Z"
   },
   {
    "duration": 176,
    "start_time": "2022-05-05T11:56:51.791Z"
   },
   {
    "duration": 132,
    "start_time": "2022-05-05T11:57:46.331Z"
   },
   {
    "duration": 199,
    "start_time": "2022-05-05T11:57:59.835Z"
   },
   {
    "duration": 183,
    "start_time": "2022-05-05T11:58:13.035Z"
   },
   {
    "duration": 198,
    "start_time": "2022-05-05T11:58:20.903Z"
   },
   {
    "duration": 302,
    "start_time": "2022-05-05T11:58:38.168Z"
   },
   {
    "duration": 195,
    "start_time": "2022-05-05T11:58:47.135Z"
   },
   {
    "duration": 173,
    "start_time": "2022-05-05T11:58:58.865Z"
   },
   {
    "duration": 164,
    "start_time": "2022-05-05T11:59:08.120Z"
   },
   {
    "duration": 187,
    "start_time": "2022-05-05T11:59:18.970Z"
   },
   {
    "duration": 200,
    "start_time": "2022-05-05T12:04:44.991Z"
   },
   {
    "duration": 198,
    "start_time": "2022-05-05T12:04:53.241Z"
   },
   {
    "duration": 282,
    "start_time": "2022-05-05T12:05:00.163Z"
   },
   {
    "duration": 181,
    "start_time": "2022-05-05T12:05:10.128Z"
   },
   {
    "duration": 175,
    "start_time": "2022-05-05T12:05:16.694Z"
   },
   {
    "duration": 180,
    "start_time": "2022-05-05T12:05:22.419Z"
   },
   {
    "duration": 18,
    "start_time": "2022-05-05T12:09:47.625Z"
   },
   {
    "duration": 13,
    "start_time": "2022-05-05T12:10:37.627Z"
   },
   {
    "duration": 299,
    "start_time": "2022-05-05T12:12:58.073Z"
   },
   {
    "duration": 527,
    "start_time": "2022-05-05T13:13:41.736Z"
   },
   {
    "duration": 311,
    "start_time": "2022-05-05T13:14:15.909Z"
   },
   {
    "duration": 322,
    "start_time": "2022-05-05T13:14:33.302Z"
   },
   {
    "duration": 305,
    "start_time": "2022-05-05T13:16:09.108Z"
   },
   {
    "duration": 451,
    "start_time": "2022-05-05T13:16:39.872Z"
   },
   {
    "duration": 320,
    "start_time": "2022-05-05T13:17:15.981Z"
   },
   {
    "duration": 11,
    "start_time": "2022-05-05T13:19:31.076Z"
   },
   {
    "duration": 326,
    "start_time": "2022-05-05T13:20:00.772Z"
   },
   {
    "duration": 317,
    "start_time": "2022-05-05T13:20:27.607Z"
   },
   {
    "duration": 320,
    "start_time": "2022-05-05T13:20:56.342Z"
   },
   {
    "duration": 322,
    "start_time": "2022-05-05T13:21:14.483Z"
   },
   {
    "duration": 18,
    "start_time": "2022-05-05T13:42:29.214Z"
   },
   {
    "duration": 12,
    "start_time": "2022-05-05T13:43:06.449Z"
   },
   {
    "duration": 12,
    "start_time": "2022-05-05T13:57:04.649Z"
   },
   {
    "duration": 9,
    "start_time": "2022-05-05T13:58:18.735Z"
   },
   {
    "duration": 1832,
    "start_time": "2022-05-06T08:25:52.156Z"
   },
   {
    "duration": 96,
    "start_time": "2022-05-06T08:25:53.991Z"
   },
   {
    "duration": 71,
    "start_time": "2022-05-06T08:25:54.090Z"
   },
   {
    "duration": 21,
    "start_time": "2022-05-06T08:25:54.164Z"
   },
   {
    "duration": 22,
    "start_time": "2022-05-06T08:25:54.187Z"
   },
   {
    "duration": 8,
    "start_time": "2022-05-06T08:25:54.211Z"
   },
   {
    "duration": 71,
    "start_time": "2022-05-06T08:25:54.221Z"
   },
   {
    "duration": 32,
    "start_time": "2022-05-06T08:25:54.294Z"
   },
   {
    "duration": 47,
    "start_time": "2022-05-06T08:25:54.328Z"
   },
   {
    "duration": 7,
    "start_time": "2022-05-06T08:25:54.379Z"
   },
   {
    "duration": 526,
    "start_time": "2022-05-06T08:25:54.388Z"
   },
   {
    "duration": 6,
    "start_time": "2022-05-06T08:25:54.917Z"
   },
   {
    "duration": 33,
    "start_time": "2022-05-06T08:25:54.925Z"
   },
   {
    "duration": 21,
    "start_time": "2022-05-06T08:25:54.961Z"
   },
   {
    "duration": 9,
    "start_time": "2022-05-06T08:25:54.985Z"
   },
   {
    "duration": 12,
    "start_time": "2022-05-06T08:25:54.996Z"
   },
   {
    "duration": 54,
    "start_time": "2022-05-06T08:25:55.010Z"
   },
   {
    "duration": 6,
    "start_time": "2022-05-06T08:25:55.066Z"
   },
   {
    "duration": 38,
    "start_time": "2022-05-06T08:25:55.075Z"
   },
   {
    "duration": 5,
    "start_time": "2022-05-06T08:25:55.116Z"
   },
   {
    "duration": 49,
    "start_time": "2022-05-06T08:25:55.123Z"
   },
   {
    "duration": 678,
    "start_time": "2022-05-06T08:25:55.176Z"
   },
   {
    "duration": 26,
    "start_time": "2022-05-06T08:25:55.856Z"
   },
   {
    "duration": 367,
    "start_time": "2022-05-06T08:25:55.884Z"
   },
   {
    "duration": 27,
    "start_time": "2022-05-06T08:25:56.254Z"
   },
   {
    "duration": 1708,
    "start_time": "2022-05-06T08:25:56.283Z"
   },
   {
    "duration": 66,
    "start_time": "2022-05-06T08:25:57.993Z"
   },
   {
    "duration": 16,
    "start_time": "2022-05-06T08:25:58.065Z"
   },
   {
    "duration": 217,
    "start_time": "2022-05-06T08:25:58.083Z"
   },
   {
    "duration": 17,
    "start_time": "2022-05-06T08:25:58.302Z"
   },
   {
    "duration": 49,
    "start_time": "2022-05-06T08:25:58.321Z"
   },
   {
    "duration": 1535,
    "start_time": "2022-05-06T08:25:58.373Z"
   },
   {
    "duration": 107,
    "start_time": "2022-05-06T08:25:59.911Z"
   },
   {
    "duration": 863,
    "start_time": "2022-05-06T08:26:00.021Z"
   },
   {
    "duration": 108,
    "start_time": "2022-05-06T08:26:00.887Z"
   },
   {
    "duration": 13,
    "start_time": "2022-05-06T08:26:00.998Z"
   },
   {
    "duration": 542,
    "start_time": "2022-05-06T08:26:01.013Z"
   },
   {
    "duration": 8,
    "start_time": "2022-05-06T08:26:01.558Z"
   },
   {
    "duration": 387,
    "start_time": "2022-05-06T08:26:01.567Z"
   },
   {
    "duration": 7,
    "start_time": "2022-05-06T08:26:01.956Z"
   },
   {
    "duration": 364,
    "start_time": "2022-05-06T08:26:01.966Z"
   },
   {
    "duration": 20,
    "start_time": "2022-05-06T08:26:02.333Z"
   },
   {
    "duration": 451,
    "start_time": "2022-05-06T08:26:02.355Z"
   },
   {
    "duration": 9,
    "start_time": "2022-05-06T08:26:02.808Z"
   },
   {
    "duration": 38,
    "start_time": "2022-05-06T08:26:02.819Z"
   },
   {
    "duration": 11,
    "start_time": "2022-05-06T08:26:02.860Z"
   },
   {
    "duration": 13,
    "start_time": "2022-05-06T08:26:02.873Z"
   },
   {
    "duration": 10,
    "start_time": "2022-05-06T08:26:02.889Z"
   },
   {
    "duration": 694,
    "start_time": "2022-05-06T08:26:02.902Z"
   },
   {
    "duration": 791,
    "start_time": "2022-05-06T08:26:03.598Z"
   },
   {
    "duration": 21,
    "start_time": "2022-05-06T08:26:04.392Z"
   },
   {
    "duration": 555,
    "start_time": "2022-05-06T08:26:04.416Z"
   },
   {
    "duration": 35,
    "start_time": "2022-05-06T08:26:04.973Z"
   },
   {
    "duration": 577,
    "start_time": "2022-05-06T08:26:05.011Z"
   },
   {
    "duration": 27,
    "start_time": "2022-05-06T08:26:05.591Z"
   },
   {
    "duration": 416,
    "start_time": "2022-05-06T08:26:05.621Z"
   },
   {
    "duration": 34,
    "start_time": "2022-05-06T08:26:06.039Z"
   },
   {
    "duration": 576,
    "start_time": "2022-05-06T08:26:06.075Z"
   },
   {
    "duration": 25,
    "start_time": "2022-05-06T08:26:06.653Z"
   },
   {
    "duration": 415,
    "start_time": "2022-05-06T08:26:06.680Z"
   },
   {
    "duration": 25,
    "start_time": "2022-05-06T08:26:07.097Z"
   },
   {
    "duration": 627,
    "start_time": "2022-05-06T08:26:07.124Z"
   },
   {
    "duration": 25,
    "start_time": "2022-05-06T08:26:07.754Z"
   },
   {
    "duration": 404,
    "start_time": "2022-05-06T08:26:07.781Z"
   },
   {
    "duration": 14,
    "start_time": "2022-05-06T08:26:08.187Z"
   },
   {
    "duration": 642,
    "start_time": "2022-05-06T08:26:08.204Z"
   },
   {
    "duration": 12,
    "start_time": "2022-05-06T08:26:08.852Z"
   },
   {
    "duration": 559,
    "start_time": "2022-05-06T08:26:08.866Z"
   },
   {
    "duration": 36,
    "start_time": "2022-05-06T08:26:09.427Z"
   },
   {
    "duration": 548,
    "start_time": "2022-05-06T08:26:09.465Z"
   },
   {
    "duration": 37,
    "start_time": "2022-05-06T08:26:10.016Z"
   },
   {
    "duration": 940,
    "start_time": "2022-05-06T08:26:10.056Z"
   },
   {
    "duration": 17,
    "start_time": "2022-05-06T08:26:10.999Z"
   },
   {
    "duration": 47,
    "start_time": "2022-05-06T08:26:11.019Z"
   },
   {
    "duration": 557,
    "start_time": "2022-05-06T08:26:11.069Z"
   },
   {
    "duration": 384,
    "start_time": "2022-05-06T08:26:11.629Z"
   },
   {
    "duration": 390,
    "start_time": "2022-05-06T08:26:12.016Z"
   },
   {
    "duration": 25,
    "start_time": "2022-05-06T08:26:12.408Z"
   },
   {
    "duration": 962,
    "start_time": "2022-05-06T08:26:12.436Z"
   },
   {
    "duration": 14,
    "start_time": "2022-05-06T08:26:13.401Z"
   },
   {
    "duration": 37,
    "start_time": "2022-05-06T08:26:13.418Z"
   },
   {
    "duration": 364,
    "start_time": "2022-05-06T08:26:13.463Z"
   },
   {
    "duration": 346,
    "start_time": "2022-05-06T08:26:13.829Z"
   },
   {
    "duration": 363,
    "start_time": "2022-05-06T08:26:14.178Z"
   },
   {
    "duration": 22,
    "start_time": "2022-05-06T08:26:14.545Z"
   },
   {
    "duration": 561,
    "start_time": "2022-05-06T08:26:14.570Z"
   },
   {
    "duration": 41,
    "start_time": "2022-05-06T08:26:15.134Z"
   },
   {
    "duration": 17,
    "start_time": "2022-05-06T08:26:15.177Z"
   },
   {
    "duration": 18,
    "start_time": "2022-05-06T08:26:15.197Z"
   },
   {
    "duration": 46,
    "start_time": "2022-05-06T08:26:15.218Z"
   },
   {
    "duration": 1350,
    "start_time": "2022-05-10T08:23:01.574Z"
   },
   {
    "duration": 68,
    "start_time": "2022-05-10T08:23:05.786Z"
   },
   {
    "duration": 49,
    "start_time": "2022-05-10T08:23:11.302Z"
   },
   {
    "duration": 21,
    "start_time": "2022-05-10T08:23:18.382Z"
   },
   {
    "duration": 15,
    "start_time": "2022-05-10T08:23:22.543Z"
   },
   {
    "duration": 6,
    "start_time": "2022-05-10T08:23:28.216Z"
   },
   {
    "duration": 31,
    "start_time": "2022-05-10T08:23:33.168Z"
   },
   {
    "duration": 20,
    "start_time": "2022-05-10T08:23:37.674Z"
   },
   {
    "duration": 21,
    "start_time": "2022-05-10T08:23:43.851Z"
   },
   {
    "duration": 5,
    "start_time": "2022-05-10T08:23:48.505Z"
   },
   {
    "duration": 367,
    "start_time": "2022-05-10T08:23:51.625Z"
   },
   {
    "duration": 6,
    "start_time": "2022-05-10T08:23:56.096Z"
   },
   {
    "duration": 11,
    "start_time": "2022-05-10T08:24:00.820Z"
   },
   {
    "duration": 22,
    "start_time": "2022-05-10T08:24:07.171Z"
   },
   {
    "duration": 7,
    "start_time": "2022-05-10T08:24:11.537Z"
   },
   {
    "duration": 6,
    "start_time": "2022-05-10T08:24:15.360Z"
   },
   {
    "duration": 15,
    "start_time": "2022-05-10T08:24:20.216Z"
   },
   {
    "duration": 5,
    "start_time": "2022-05-10T08:24:23.480Z"
   },
   {
    "duration": 37,
    "start_time": "2022-05-10T08:24:31.349Z"
   },
   {
    "duration": 4,
    "start_time": "2022-05-10T08:24:41.041Z"
   },
   {
    "duration": 16,
    "start_time": "2022-05-10T08:24:44.090Z"
   },
   {
    "duration": 436,
    "start_time": "2022-05-10T08:24:49.161Z"
   },
   {
    "duration": 17,
    "start_time": "2022-05-10T08:24:54.825Z"
   },
   {
    "duration": 212,
    "start_time": "2022-05-10T08:24:59.051Z"
   },
   {
    "duration": 20,
    "start_time": "2022-05-10T08:25:06.082Z"
   },
   {
    "duration": 1167,
    "start_time": "2022-05-10T08:25:12.545Z"
   },
   {
    "duration": 36,
    "start_time": "2022-05-10T08:25:21.730Z"
   },
   {
    "duration": 13,
    "start_time": "2022-05-10T08:25:26.631Z"
   },
   {
    "duration": 146,
    "start_time": "2022-05-10T08:25:39.114Z"
   },
   {
    "duration": 14,
    "start_time": "2022-05-10T08:25:43.947Z"
   },
   {
    "duration": 30,
    "start_time": "2022-05-10T08:25:47.669Z"
   },
   {
    "duration": 1040,
    "start_time": "2022-05-10T08:25:53.796Z"
   },
   {
    "duration": 81,
    "start_time": "2022-05-10T08:53:17.784Z"
   },
   {
    "duration": 973,
    "start_time": "2022-05-10T08:53:24.618Z"
   },
   {
    "duration": 900,
    "start_time": "2022-05-10T08:54:58.864Z"
   },
   {
    "duration": 3,
    "start_time": "2022-05-10T09:01:18.188Z"
   },
   {
    "duration": 131,
    "start_time": "2022-05-10T09:09:41.173Z"
   },
   {
    "duration": 131,
    "start_time": "2022-05-10T09:09:54.952Z"
   },
   {
    "duration": 10,
    "start_time": "2022-05-10T09:10:39.168Z"
   },
   {
    "duration": 8,
    "start_time": "2022-05-10T09:11:11.967Z"
   },
   {
    "duration": 17,
    "start_time": "2022-05-10T09:11:27.719Z"
   },
   {
    "duration": 64,
    "start_time": "2022-05-10T09:16:58.676Z"
   },
   {
    "duration": 18,
    "start_time": "2022-05-10T09:17:10.686Z"
   },
   {
    "duration": 20,
    "start_time": "2022-05-10T09:17:42.612Z"
   },
   {
    "duration": 5,
    "start_time": "2022-05-10T09:21:31.981Z"
   },
   {
    "duration": 30,
    "start_time": "2022-05-10T09:29:52.886Z"
   },
   {
    "duration": 8,
    "start_time": "2022-05-10T09:30:13.305Z"
   },
   {
    "duration": 74,
    "start_time": "2022-05-10T09:30:24.905Z"
   },
   {
    "duration": 9,
    "start_time": "2022-05-10T09:30:50.659Z"
   },
   {
    "duration": 8,
    "start_time": "2022-05-10T09:32:36.934Z"
   },
   {
    "duration": 10,
    "start_time": "2022-05-10T09:33:54.312Z"
   },
   {
    "duration": 10,
    "start_time": "2022-05-10T09:34:16.264Z"
   },
   {
    "duration": 21,
    "start_time": "2022-05-10T10:01:23.685Z"
   },
   {
    "duration": 25,
    "start_time": "2022-05-10T10:02:03.812Z"
   },
   {
    "duration": 907,
    "start_time": "2022-05-10T10:03:39.868Z"
   },
   {
    "duration": 540,
    "start_time": "2022-05-10T10:04:11.653Z"
   },
   {
    "duration": 11,
    "start_time": "2022-05-10T10:10:19.807Z"
   },
   {
    "duration": 37,
    "start_time": "2022-05-10T10:12:39.439Z"
   },
   {
    "duration": 151,
    "start_time": "2022-05-10T10:16:19.323Z"
   },
   {
    "duration": 119,
    "start_time": "2022-05-10T10:16:45.668Z"
   },
   {
    "duration": 141,
    "start_time": "2022-05-10T10:16:59.979Z"
   },
   {
    "duration": 130,
    "start_time": "2022-05-10T10:17:21.564Z"
   },
   {
    "duration": 146,
    "start_time": "2022-05-10T10:18:58.582Z"
   },
   {
    "duration": 141,
    "start_time": "2022-05-10T10:21:28.336Z"
   },
   {
    "duration": 139,
    "start_time": "2022-05-10T10:22:53.178Z"
   },
   {
    "duration": 139,
    "start_time": "2022-05-10T10:23:26.114Z"
   },
   {
    "duration": 138,
    "start_time": "2022-05-10T10:24:28.243Z"
   },
   {
    "duration": 142,
    "start_time": "2022-05-10T10:25:26.011Z"
   },
   {
    "duration": 136,
    "start_time": "2022-05-10T10:26:24.727Z"
   },
   {
    "duration": 542,
    "start_time": "2022-05-10T10:27:14.605Z"
   },
   {
    "duration": 185,
    "start_time": "2022-05-10T10:28:14.782Z"
   },
   {
    "duration": 175,
    "start_time": "2022-05-10T10:28:48.992Z"
   },
   {
    "duration": 178,
    "start_time": "2022-05-10T10:29:11.137Z"
   },
   {
    "duration": 196,
    "start_time": "2022-05-10T10:29:35.833Z"
   },
   {
    "duration": 170,
    "start_time": "2022-05-10T10:30:16.752Z"
   },
   {
    "duration": 1138,
    "start_time": "2022-05-10T10:43:35.826Z"
   },
   {
    "duration": 75,
    "start_time": "2022-05-10T10:43:39.168Z"
   },
   {
    "duration": 53,
    "start_time": "2022-05-10T10:43:43.116Z"
   },
   {
    "duration": 19,
    "start_time": "2022-05-10T10:43:54.003Z"
   },
   {
    "duration": 24,
    "start_time": "2022-05-10T10:43:57.585Z"
   },
   {
    "duration": 7,
    "start_time": "2022-05-10T10:44:01.030Z"
   },
   {
    "duration": 31,
    "start_time": "2022-05-10T10:44:04.450Z"
   },
   {
    "duration": 22,
    "start_time": "2022-05-10T10:44:08.185Z"
   },
   {
    "duration": 23,
    "start_time": "2022-05-10T10:44:11.553Z"
   },
   {
    "duration": 5,
    "start_time": "2022-05-10T10:44:14.997Z"
   },
   {
    "duration": 397,
    "start_time": "2022-05-10T10:44:17.787Z"
   },
   {
    "duration": 6,
    "start_time": "2022-05-10T10:44:21.067Z"
   },
   {
    "duration": 8,
    "start_time": "2022-05-10T10:44:24.753Z"
   },
   {
    "duration": 18,
    "start_time": "2022-05-10T10:44:27.793Z"
   },
   {
    "duration": 7,
    "start_time": "2022-05-10T10:44:31.155Z"
   },
   {
    "duration": 5,
    "start_time": "2022-05-10T10:44:34.783Z"
   },
   {
    "duration": 17,
    "start_time": "2022-05-10T10:44:37.313Z"
   },
   {
    "duration": 8,
    "start_time": "2022-05-10T10:44:40.305Z"
   },
   {
    "duration": 31,
    "start_time": "2022-05-10T10:44:44.999Z"
   },
   {
    "duration": 3,
    "start_time": "2022-05-10T10:44:49.650Z"
   },
   {
    "duration": 12,
    "start_time": "2022-05-10T10:44:52.854Z"
   },
   {
    "duration": 455,
    "start_time": "2022-05-10T10:44:57.849Z"
   },
   {
    "duration": 18,
    "start_time": "2022-05-10T10:45:03.431Z"
   },
   {
    "duration": 220,
    "start_time": "2022-05-10T10:45:07.491Z"
   },
   {
    "duration": 20,
    "start_time": "2022-05-10T10:45:11.148Z"
   },
   {
    "duration": 1232,
    "start_time": "2022-05-10T10:45:20.907Z"
   },
   {
    "duration": 40,
    "start_time": "2022-05-10T10:45:31.287Z"
   },
   {
    "duration": 12,
    "start_time": "2022-05-10T10:45:34.451Z"
   },
   {
    "duration": 152,
    "start_time": "2022-05-10T10:45:39.189Z"
   },
   {
    "duration": 12,
    "start_time": "2022-05-10T10:45:43.387Z"
   },
   {
    "duration": 20,
    "start_time": "2022-05-10T10:45:46.788Z"
   },
   {
    "duration": 508,
    "start_time": "2022-05-10T10:45:51.579Z"
   },
   {
    "duration": 268,
    "start_time": "2022-05-10T10:45:56.307Z"
   },
   {
    "duration": 184,
    "start_time": "2022-05-10T10:46:05.118Z"
   },
   {
    "duration": 188,
    "start_time": "2022-05-10T10:46:09.869Z"
   },
   {
    "duration": 188,
    "start_time": "2022-05-10T10:46:14.356Z"
   },
   {
    "duration": 183,
    "start_time": "2022-05-10T10:46:18.797Z"
   },
   {
    "duration": 54,
    "start_time": "2022-05-10T10:46:24.445Z"
   },
   {
    "duration": 415,
    "start_time": "2022-05-10T10:46:28.768Z"
   },
   {
    "duration": 76,
    "start_time": "2022-05-10T10:46:33.812Z"
   },
   {
    "duration": 7,
    "start_time": "2022-05-10T10:46:42.028Z"
   },
   {
    "duration": 8,
    "start_time": "2022-05-10T10:47:21.133Z"
   },
   {
    "duration": 244,
    "start_time": "2022-05-10T10:47:27.211Z"
   },
   {
    "duration": 230,
    "start_time": "2022-05-10T10:48:27.678Z"
   },
   {
    "duration": 6,
    "start_time": "2022-05-10T10:48:40.027Z"
   },
   {
    "duration": 281,
    "start_time": "2022-05-10T10:49:21.987Z"
   },
   {
    "duration": 5,
    "start_time": "2022-05-10T10:49:29.335Z"
   },
   {
    "duration": 210,
    "start_time": "2022-05-10T10:52:54.772Z"
   },
   {
    "duration": 6,
    "start_time": "2022-05-10T10:53:02.207Z"
   },
   {
    "duration": 212,
    "start_time": "2022-05-10T10:53:22.640Z"
   },
   {
    "duration": 5,
    "start_time": "2022-05-10T10:53:32.791Z"
   },
   {
    "duration": 6,
    "start_time": "2022-05-10T10:58:13.255Z"
   },
   {
    "duration": 4,
    "start_time": "2022-05-10T11:06:58.503Z"
   },
   {
    "duration": 66,
    "start_time": "2022-05-10T11:07:28.155Z"
   },
   {
    "duration": 4,
    "start_time": "2022-05-10T11:07:36.442Z"
   },
   {
    "duration": 523,
    "start_time": "2022-05-10T11:10:17.003Z"
   },
   {
    "duration": 413,
    "start_time": "2022-05-10T11:13:09.282Z"
   },
   {
    "duration": 475,
    "start_time": "2022-05-10T11:13:36.849Z"
   },
   {
    "duration": 401,
    "start_time": "2022-05-10T11:15:58.082Z"
   },
   {
    "duration": 462,
    "start_time": "2022-05-10T11:18:12.704Z"
   },
   {
    "duration": 473,
    "start_time": "2022-05-10T11:19:38.898Z"
   },
   {
    "duration": 450,
    "start_time": "2022-05-10T11:22:23.470Z"
   },
   {
    "duration": 446,
    "start_time": "2022-05-10T11:22:55.933Z"
   },
   {
    "duration": 443,
    "start_time": "2022-05-10T11:25:06.037Z"
   },
   {
    "duration": 405,
    "start_time": "2022-05-10T11:26:55.602Z"
   },
   {
    "duration": 414,
    "start_time": "2022-05-10T11:29:03.379Z"
   },
   {
    "duration": 13,
    "start_time": "2022-05-10T11:29:56.589Z"
   },
   {
    "duration": 64,
    "start_time": "2022-05-10T11:32:01.343Z"
   },
   {
    "duration": 42,
    "start_time": "2022-05-10T11:32:20.026Z"
   },
   {
    "duration": 13,
    "start_time": "2022-05-10T11:34:31.568Z"
   },
   {
    "duration": 440,
    "start_time": "2022-05-10T11:36:54.878Z"
   },
   {
    "duration": 442,
    "start_time": "2022-05-10T11:38:43.380Z"
   },
   {
    "duration": 547,
    "start_time": "2022-05-10T11:40:01.645Z"
   },
   {
    "duration": 388,
    "start_time": "2022-05-10T11:42:02.959Z"
   },
   {
    "duration": 13,
    "start_time": "2022-05-10T11:42:44.739Z"
   },
   {
    "duration": 428,
    "start_time": "2022-05-10T11:44:49.555Z"
   },
   {
    "duration": 16,
    "start_time": "2022-05-10T11:45:32.899Z"
   },
   {
    "duration": 1107,
    "start_time": "2022-05-10T12:10:51.638Z"
   },
   {
    "duration": 75,
    "start_time": "2022-05-10T12:10:54.591Z"
   },
   {
    "duration": 47,
    "start_time": "2022-05-10T12:10:59.358Z"
   },
   {
    "duration": 15,
    "start_time": "2022-05-10T12:11:05.331Z"
   },
   {
    "duration": 14,
    "start_time": "2022-05-10T12:11:09.360Z"
   },
   {
    "duration": 7,
    "start_time": "2022-05-10T12:11:13.415Z"
   },
   {
    "duration": 44,
    "start_time": "2022-05-10T12:11:16.766Z"
   },
   {
    "duration": 20,
    "start_time": "2022-05-10T12:11:20.930Z"
   },
   {
    "duration": 25,
    "start_time": "2022-05-10T12:11:24.570Z"
   },
   {
    "duration": 5,
    "start_time": "2022-05-10T12:11:28.000Z"
   },
   {
    "duration": 344,
    "start_time": "2022-05-10T12:11:30.780Z"
   },
   {
    "duration": 5,
    "start_time": "2022-05-10T12:11:34.506Z"
   },
   {
    "duration": 9,
    "start_time": "2022-05-10T12:11:37.688Z"
   },
   {
    "duration": 15,
    "start_time": "2022-05-10T12:11:40.257Z"
   },
   {
    "duration": 7,
    "start_time": "2022-05-10T12:11:43.289Z"
   },
   {
    "duration": 5,
    "start_time": "2022-05-10T12:11:46.208Z"
   },
   {
    "duration": 14,
    "start_time": "2022-05-10T12:11:49.404Z"
   },
   {
    "duration": 5,
    "start_time": "2022-05-10T12:11:52.765Z"
   },
   {
    "duration": 23,
    "start_time": "2022-05-10T12:11:57.673Z"
   },
   {
    "duration": 2,
    "start_time": "2022-05-10T12:12:01.691Z"
   },
   {
    "duration": 13,
    "start_time": "2022-05-10T12:12:05.395Z"
   },
   {
    "duration": 426,
    "start_time": "2022-05-10T12:12:10.619Z"
   },
   {
    "duration": 20,
    "start_time": "2022-05-10T12:12:15.226Z"
   },
   {
    "duration": 206,
    "start_time": "2022-05-10T12:12:18.766Z"
   },
   {
    "duration": 19,
    "start_time": "2022-05-10T12:12:23.265Z"
   },
   {
    "duration": 1147,
    "start_time": "2022-05-10T12:12:26.185Z"
   },
   {
    "duration": 34,
    "start_time": "2022-05-10T12:12:33.626Z"
   },
   {
    "duration": 11,
    "start_time": "2022-05-10T12:12:37.242Z"
   },
   {
    "duration": 138,
    "start_time": "2022-05-10T12:12:42.089Z"
   },
   {
    "duration": 13,
    "start_time": "2022-05-10T12:12:46.498Z"
   },
   {
    "duration": 22,
    "start_time": "2022-05-10T12:12:50.036Z"
   },
   {
    "duration": 447,
    "start_time": "2022-05-10T12:12:54.926Z"
   },
   {
    "duration": 274,
    "start_time": "2022-05-10T12:12:59.797Z"
   },
   {
    "duration": 184,
    "start_time": "2022-05-10T12:13:05.290Z"
   },
   {
    "duration": 194,
    "start_time": "2022-05-10T12:13:09.505Z"
   },
   {
    "duration": 180,
    "start_time": "2022-05-10T12:13:13.393Z"
   },
   {
    "duration": 180,
    "start_time": "2022-05-10T12:13:17.743Z"
   },
   {
    "duration": 57,
    "start_time": "2022-05-10T12:13:22.450Z"
   },
   {
    "duration": 399,
    "start_time": "2022-05-10T12:13:25.737Z"
   },
   {
    "duration": 60,
    "start_time": "2022-05-10T12:13:30.443Z"
   },
   {
    "duration": 6,
    "start_time": "2022-05-10T12:13:38.906Z"
   },
   {
    "duration": 462,
    "start_time": "2022-05-10T12:13:44.363Z"
   },
   {
    "duration": 5,
    "start_time": "2022-05-10T12:13:49.922Z"
   },
   {
    "duration": 417,
    "start_time": "2022-05-10T12:13:55.195Z"
   },
   {
    "duration": 474,
    "start_time": "2022-05-10T12:13:59.270Z"
   },
   {
    "duration": 418,
    "start_time": "2022-05-10T12:14:02.926Z"
   },
   {
    "duration": 454,
    "start_time": "2022-05-10T12:14:07.020Z"
   },
   {
    "duration": 525,
    "start_time": "2022-05-10T12:14:11.272Z"
   },
   {
    "duration": 13,
    "start_time": "2022-05-10T12:14:18.339Z"
   },
   {
    "duration": 447,
    "start_time": "2022-05-10T12:14:21.855Z"
   },
   {
    "duration": 422,
    "start_time": "2022-05-10T12:14:25.627Z"
   },
   {
    "duration": 14,
    "start_time": "2022-05-10T12:14:30.946Z"
   },
   {
    "duration": 17,
    "start_time": "2022-05-10T12:14:34.359Z"
   },
   {
    "duration": 8,
    "start_time": "2022-05-10T12:14:40.428Z"
   },
   {
    "duration": 8,
    "start_time": "2022-05-10T12:14:45.547Z"
   },
   {
    "duration": 8,
    "start_time": "2022-05-10T12:14:49.900Z"
   },
   {
    "duration": 8,
    "start_time": "2022-05-10T12:14:53.207Z"
   },
   {
    "duration": 444,
    "start_time": "2022-05-10T12:14:58.613Z"
   },
   {
    "duration": 434,
    "start_time": "2022-05-10T12:15:03.268Z"
   },
   {
    "duration": 16,
    "start_time": "2022-05-10T12:15:07.725Z"
   },
   {
    "duration": 229,
    "start_time": "2022-05-10T12:15:11.174Z"
   },
   {
    "duration": 21,
    "start_time": "2022-05-10T12:15:19.483Z"
   },
   {
    "duration": 343,
    "start_time": "2022-05-10T12:15:22.572Z"
   },
   {
    "duration": 19,
    "start_time": "2022-05-10T12:15:26.396Z"
   },
   {
    "duration": 224,
    "start_time": "2022-05-10T12:15:31.268Z"
   },
   {
    "duration": 19,
    "start_time": "2022-05-10T12:15:34.517Z"
   },
   {
    "duration": 358,
    "start_time": "2022-05-10T12:15:37.519Z"
   },
   {
    "duration": 18,
    "start_time": "2022-05-10T12:15:41.315Z"
   },
   {
    "duration": 338,
    "start_time": "2022-05-10T12:15:46.014Z"
   },
   {
    "duration": 18,
    "start_time": "2022-05-10T12:15:49.141Z"
   },
   {
    "duration": 372,
    "start_time": "2022-05-10T12:15:52.555Z"
   },
   {
    "duration": 19,
    "start_time": "2022-05-10T12:15:56.157Z"
   },
   {
    "duration": 217,
    "start_time": "2022-05-10T12:16:00.485Z"
   },
   {
    "duration": 11,
    "start_time": "2022-05-10T12:16:07.740Z"
   },
   {
    "duration": 342,
    "start_time": "2022-05-10T12:16:11.117Z"
   },
   {
    "duration": 8,
    "start_time": "2022-05-10T12:16:15.172Z"
   },
   {
    "duration": 349,
    "start_time": "2022-05-10T12:16:18.230Z"
   },
   {
    "duration": 15,
    "start_time": "2022-05-10T12:16:24.077Z"
   },
   {
    "duration": 341,
    "start_time": "2022-05-10T12:16:27.876Z"
   },
   {
    "duration": 12,
    "start_time": "2022-05-10T12:16:32.149Z"
   },
   {
    "duration": 452,
    "start_time": "2022-05-10T12:16:35.610Z"
   },
   {
    "duration": 9,
    "start_time": "2022-05-10T12:16:41.887Z"
   },
   {
    "duration": 10,
    "start_time": "2022-05-10T12:16:44.504Z"
   },
   {
    "duration": 215,
    "start_time": "2022-05-10T12:16:48.318Z"
   },
   {
    "duration": 213,
    "start_time": "2022-05-10T12:16:52.421Z"
   },
   {
    "duration": 224,
    "start_time": "2022-05-10T12:16:56.440Z"
   },
   {
    "duration": 14,
    "start_time": "2022-05-10T12:17:00.037Z"
   },
   {
    "duration": 354,
    "start_time": "2022-05-10T12:17:04.189Z"
   },
   {
    "duration": 7,
    "start_time": "2022-05-10T12:17:09.938Z"
   },
   {
    "duration": 10,
    "start_time": "2022-05-10T12:17:13.453Z"
   },
   {
    "duration": 208,
    "start_time": "2022-05-10T12:17:16.566Z"
   },
   {
    "duration": 202,
    "start_time": "2022-05-10T12:17:21.197Z"
   },
   {
    "duration": 207,
    "start_time": "2022-05-10T12:17:24.601Z"
   },
   {
    "duration": 11,
    "start_time": "2022-05-10T12:17:27.789Z"
   },
   {
    "duration": 344,
    "start_time": "2022-05-10T12:17:32.050Z"
   },
   {
    "duration": 16,
    "start_time": "2022-05-10T12:17:41.942Z"
   },
   {
    "duration": 9,
    "start_time": "2022-05-10T12:17:47.327Z"
   },
   {
    "duration": 10,
    "start_time": "2022-05-10T12:17:59.861Z"
   },
   {
    "duration": 11,
    "start_time": "2022-05-10T12:18:05.370Z"
   },
   {
    "duration": 15,
    "start_time": "2022-05-10T12:22:44.794Z"
   },
   {
    "duration": 9,
    "start_time": "2022-05-10T12:22:50.947Z"
   },
   {
    "duration": 10,
    "start_time": "2022-05-10T12:24:59.850Z"
   },
   {
    "duration": 1162,
    "start_time": "2022-05-10T12:28:40.491Z"
   },
   {
    "duration": 72,
    "start_time": "2022-05-10T12:28:43.825Z"
   },
   {
    "duration": 46,
    "start_time": "2022-05-10T12:28:46.959Z"
   },
   {
    "duration": 15,
    "start_time": "2022-05-10T12:28:52.358Z"
   },
   {
    "duration": 14,
    "start_time": "2022-05-10T12:28:56.128Z"
   },
   {
    "duration": 6,
    "start_time": "2022-05-10T12:28:59.165Z"
   },
   {
    "duration": 31,
    "start_time": "2022-05-10T12:29:03.097Z"
   },
   {
    "duration": 19,
    "start_time": "2022-05-10T12:29:06.293Z"
   },
   {
    "duration": 23,
    "start_time": "2022-05-10T12:29:09.645Z"
   },
   {
    "duration": 4,
    "start_time": "2022-05-10T12:29:12.566Z"
   },
   {
    "duration": 358,
    "start_time": "2022-05-10T12:29:16.174Z"
   },
   {
    "duration": 5,
    "start_time": "2022-05-10T12:29:19.918Z"
   },
   {
    "duration": 9,
    "start_time": "2022-05-10T12:29:22.960Z"
   },
   {
    "duration": 18,
    "start_time": "2022-05-10T12:29:27.093Z"
   },
   {
    "duration": 7,
    "start_time": "2022-05-10T12:29:30.168Z"
   },
   {
    "duration": 6,
    "start_time": "2022-05-10T12:29:33.981Z"
   },
   {
    "duration": 14,
    "start_time": "2022-05-10T12:29:37.141Z"
   },
   {
    "duration": 5,
    "start_time": "2022-05-10T12:29:39.749Z"
   },
   {
    "duration": 24,
    "start_time": "2022-05-10T12:29:43.718Z"
   },
   {
    "duration": 3,
    "start_time": "2022-05-10T12:29:47.654Z"
   },
   {
    "duration": 14,
    "start_time": "2022-05-10T12:29:50.598Z"
   },
   {
    "duration": 409,
    "start_time": "2022-05-10T12:29:54.947Z"
   },
   {
    "duration": 19,
    "start_time": "2022-05-10T12:30:00.295Z"
   },
   {
    "duration": 228,
    "start_time": "2022-05-10T12:30:03.797Z"
   },
   {
    "duration": 20,
    "start_time": "2022-05-10T12:30:08.256Z"
   },
   {
    "duration": 1177,
    "start_time": "2022-05-10T12:30:11.559Z"
   },
   {
    "duration": 36,
    "start_time": "2022-05-10T12:30:17.623Z"
   },
   {
    "duration": 13,
    "start_time": "2022-05-10T12:30:21.399Z"
   },
   {
    "duration": 143,
    "start_time": "2022-05-10T12:30:25.785Z"
   },
   {
    "duration": 13,
    "start_time": "2022-05-10T12:30:29.067Z"
   },
   {
    "duration": 31,
    "start_time": "2022-05-10T12:30:32.487Z"
   },
   {
    "duration": 457,
    "start_time": "2022-05-10T12:30:37.327Z"
   },
   {
    "duration": 254,
    "start_time": "2022-05-10T12:30:41.767Z"
   },
   {
    "duration": 173,
    "start_time": "2022-05-10T12:30:45.838Z"
   },
   {
    "duration": 170,
    "start_time": "2022-05-10T12:30:57.282Z"
   },
   {
    "duration": 170,
    "start_time": "2022-05-10T12:31:01.583Z"
   },
   {
    "duration": 54,
    "start_time": "2022-05-10T12:31:06.998Z"
   },
   {
    "duration": 421,
    "start_time": "2022-05-10T12:31:10.615Z"
   },
   {
    "duration": 63,
    "start_time": "2022-05-10T12:31:16.290Z"
   },
   {
    "duration": 7,
    "start_time": "2022-05-10T12:31:23.736Z"
   },
   {
    "duration": 450,
    "start_time": "2022-05-10T12:31:28.981Z"
   },
   {
    "duration": 5,
    "start_time": "2022-05-10T12:31:33.774Z"
   },
   {
    "duration": 418,
    "start_time": "2022-05-10T12:31:37.696Z"
   },
   {
    "duration": 485,
    "start_time": "2022-05-10T12:31:40.926Z"
   },
   {
    "duration": 426,
    "start_time": "2022-05-10T12:31:44.795Z"
   },
   {
    "duration": 454,
    "start_time": "2022-05-10T12:31:47.464Z"
   },
   {
    "duration": 445,
    "start_time": "2022-05-10T12:31:50.512Z"
   },
   {
    "duration": 13,
    "start_time": "2022-05-10T12:31:58.635Z"
   },
   {
    "duration": 543,
    "start_time": "2022-05-10T12:32:03.227Z"
   },
   {
    "duration": 446,
    "start_time": "2022-05-10T12:32:07.329Z"
   },
   {
    "duration": 13,
    "start_time": "2022-05-10T12:32:12.378Z"
   },
   {
    "duration": 18,
    "start_time": "2022-05-10T12:32:15.706Z"
   },
   {
    "duration": 9,
    "start_time": "2022-05-10T12:32:21.206Z"
   },
   {
    "duration": 14,
    "start_time": "2022-05-10T12:32:24.509Z"
   },
   {
    "duration": 9,
    "start_time": "2022-05-10T12:32:28.376Z"
   },
   {
    "duration": 8,
    "start_time": "2022-05-10T12:32:31.432Z"
   },
   {
    "duration": 460,
    "start_time": "2022-05-10T12:32:36.545Z"
   },
   {
    "duration": 446,
    "start_time": "2022-05-10T12:32:40.017Z"
   },
   {
    "duration": 15,
    "start_time": "2022-05-10T12:32:43.953Z"
   },
   {
    "duration": 221,
    "start_time": "2022-05-10T12:32:47.355Z"
   },
   {
    "duration": 19,
    "start_time": "2022-05-10T12:32:51.097Z"
   },
   {
    "duration": 17,
    "start_time": "2022-05-10T12:32:55.754Z"
   },
   {
    "duration": 231,
    "start_time": "2022-05-10T12:32:59.105Z"
   },
   {
    "duration": 18,
    "start_time": "2022-05-10T12:33:02.431Z"
   },
   {
    "duration": 359,
    "start_time": "2022-05-10T12:33:05.394Z"
   },
   {
    "duration": 18,
    "start_time": "2022-05-10T12:33:09.550Z"
   },
   {
    "duration": 19,
    "start_time": "2022-05-10T12:33:12.652Z"
   },
   {
    "duration": 398,
    "start_time": "2022-05-10T12:33:16.249Z"
   },
   {
    "duration": 19,
    "start_time": "2022-05-10T12:33:23.046Z"
   },
   {
    "duration": 317,
    "start_time": "2022-05-10T12:33:25.913Z"
   },
   {
    "duration": 11,
    "start_time": "2022-05-10T12:33:31.089Z"
   },
   {
    "duration": 347,
    "start_time": "2022-05-10T12:33:33.541Z"
   },
   {
    "duration": 7,
    "start_time": "2022-05-10T12:33:37.682Z"
   },
   {
    "duration": 378,
    "start_time": "2022-05-10T12:33:40.633Z"
   },
   {
    "duration": 15,
    "start_time": "2022-05-10T12:33:45.675Z"
   },
   {
    "duration": 351,
    "start_time": "2022-05-10T12:33:48.960Z"
   },
   {
    "duration": 13,
    "start_time": "2022-05-10T12:33:52.336Z"
   },
   {
    "duration": 386,
    "start_time": "2022-05-10T12:33:55.202Z"
   },
   {
    "duration": 8,
    "start_time": "2022-05-10T12:34:01.297Z"
   },
   {
    "duration": 11,
    "start_time": "2022-05-10T12:34:03.562Z"
   },
   {
    "duration": 225,
    "start_time": "2022-05-10T12:34:07.298Z"
   },
   {
    "duration": 239,
    "start_time": "2022-05-10T12:34:11.394Z"
   },
   {
    "duration": 338,
    "start_time": "2022-05-10T12:34:14.338Z"
   },
   {
    "duration": 14,
    "start_time": "2022-05-10T12:34:18.955Z"
   },
   {
    "duration": 382,
    "start_time": "2022-05-10T12:34:22.394Z"
   },
   {
    "duration": 8,
    "start_time": "2022-05-10T12:34:27.062Z"
   },
   {
    "duration": 9,
    "start_time": "2022-05-10T12:34:29.221Z"
   },
   {
    "duration": 209,
    "start_time": "2022-05-10T12:34:32.163Z"
   },
   {
    "duration": 195,
    "start_time": "2022-05-10T12:34:35.621Z"
   },
   {
    "duration": 198,
    "start_time": "2022-05-10T12:34:39.065Z"
   },
   {
    "duration": 11,
    "start_time": "2022-05-10T12:34:44.480Z"
   },
   {
    "duration": 343,
    "start_time": "2022-05-10T12:34:47.579Z"
   },
   {
    "duration": 15,
    "start_time": "2022-05-10T12:34:53.340Z"
   },
   {
    "duration": 10,
    "start_time": "2022-05-10T12:34:59.432Z"
   },
   {
    "duration": 11,
    "start_time": "2022-05-10T12:35:14.493Z"
   },
   {
    "duration": 11,
    "start_time": "2022-05-10T12:35:21.124Z"
   },
   {
    "duration": 1119,
    "start_time": "2022-05-10T12:36:59.451Z"
   },
   {
    "duration": 77,
    "start_time": "2022-05-10T12:37:00.572Z"
   },
   {
    "duration": 50,
    "start_time": "2022-05-10T12:37:01.679Z"
   },
   {
    "duration": 15,
    "start_time": "2022-05-10T12:37:11.547Z"
   },
   {
    "duration": 15,
    "start_time": "2022-05-10T12:37:15.338Z"
   },
   {
    "duration": 7,
    "start_time": "2022-05-10T12:37:18.828Z"
   },
   {
    "duration": 35,
    "start_time": "2022-05-10T12:37:23.009Z"
   },
   {
    "duration": 20,
    "start_time": "2022-05-10T12:37:26.378Z"
   },
   {
    "duration": 22,
    "start_time": "2022-05-10T12:37:29.347Z"
   },
   {
    "duration": 4,
    "start_time": "2022-05-10T12:37:32.670Z"
   },
   {
    "duration": 354,
    "start_time": "2022-05-10T12:37:36.387Z"
   },
   {
    "duration": 5,
    "start_time": "2022-05-10T12:37:40.009Z"
   },
   {
    "duration": 9,
    "start_time": "2022-05-10T12:37:42.964Z"
   },
   {
    "duration": 15,
    "start_time": "2022-05-10T12:37:45.738Z"
   },
   {
    "duration": 7,
    "start_time": "2022-05-10T12:37:49.162Z"
   },
   {
    "duration": 5,
    "start_time": "2022-05-10T12:37:52.097Z"
   },
   {
    "duration": 14,
    "start_time": "2022-05-10T12:37:54.976Z"
   },
   {
    "duration": 4,
    "start_time": "2022-05-10T12:37:58.145Z"
   },
   {
    "duration": 24,
    "start_time": "2022-05-10T12:38:02.211Z"
   },
   {
    "duration": 2,
    "start_time": "2022-05-10T12:38:06.813Z"
   },
   {
    "duration": 13,
    "start_time": "2022-05-10T12:38:10.275Z"
   },
   {
    "duration": 448,
    "start_time": "2022-05-10T12:38:15.811Z"
   },
   {
    "duration": 25,
    "start_time": "2022-05-10T12:38:20.209Z"
   },
   {
    "duration": 221,
    "start_time": "2022-05-10T12:38:23.570Z"
   },
   {
    "duration": 18,
    "start_time": "2022-05-10T12:38:27.625Z"
   },
   {
    "duration": 1101,
    "start_time": "2022-05-10T12:38:32.084Z"
   },
   {
    "duration": 36,
    "start_time": "2022-05-10T12:38:39.189Z"
   },
   {
    "duration": 12,
    "start_time": "2022-05-10T12:38:42.969Z"
   },
   {
    "duration": 148,
    "start_time": "2022-05-10T12:38:46.963Z"
   },
   {
    "duration": 13,
    "start_time": "2022-05-10T12:38:51.810Z"
   },
   {
    "duration": 21,
    "start_time": "2022-05-10T12:38:54.810Z"
   },
   {
    "duration": 481,
    "start_time": "2022-05-10T12:38:59.647Z"
   },
   {
    "duration": 264,
    "start_time": "2022-05-10T12:39:05.155Z"
   },
   {
    "duration": 172,
    "start_time": "2022-05-10T12:39:08.259Z"
   },
   {
    "duration": 183,
    "start_time": "2022-05-10T12:39:13.083Z"
   },
   {
    "duration": 242,
    "start_time": "2022-05-10T12:39:16.825Z"
   },
   {
    "duration": 179,
    "start_time": "2022-05-10T12:39:26.027Z"
   },
   {
    "duration": 51,
    "start_time": "2022-05-10T12:39:31.784Z"
   },
   {
    "duration": 413,
    "start_time": "2022-05-10T12:39:35.587Z"
   },
   {
    "duration": 63,
    "start_time": "2022-05-10T12:39:40.963Z"
   },
   {
    "duration": 8,
    "start_time": "2022-05-10T12:39:49.814Z"
   },
   {
    "duration": 457,
    "start_time": "2022-05-10T12:39:58.207Z"
   },
   {
    "duration": 5,
    "start_time": "2022-05-10T12:40:03.746Z"
   },
   {
    "duration": 416,
    "start_time": "2022-05-10T12:40:07.469Z"
   },
   {
    "duration": 483,
    "start_time": "2022-05-10T12:40:16.967Z"
   },
   {
    "duration": 475,
    "start_time": "2022-05-10T12:40:22.013Z"
   },
   {
    "duration": 423,
    "start_time": "2022-05-10T12:40:44.474Z"
   },
   {
    "duration": 13,
    "start_time": "2022-05-10T12:40:54.963Z"
   },
   {
    "duration": 515,
    "start_time": "2022-05-10T12:40:58.346Z"
   },
   {
    "duration": 438,
    "start_time": "2022-05-10T12:41:02.048Z"
   },
   {
    "duration": 12,
    "start_time": "2022-05-10T12:41:07.199Z"
   },
   {
    "duration": 18,
    "start_time": "2022-05-10T12:41:11.480Z"
   },
   {
    "duration": 10,
    "start_time": "2022-05-10T12:41:17.046Z"
   },
   {
    "duration": 8,
    "start_time": "2022-05-10T12:41:20.141Z"
   },
   {
    "duration": 8,
    "start_time": "2022-05-10T12:41:23.262Z"
   },
   {
    "duration": 9,
    "start_time": "2022-05-10T12:41:26.318Z"
   },
   {
    "duration": 9,
    "start_time": "2022-05-10T12:41:29.454Z"
   },
   {
    "duration": 445,
    "start_time": "2022-05-10T12:41:38.407Z"
   },
   {
    "duration": 450,
    "start_time": "2022-05-10T12:41:43.525Z"
   },
   {
    "duration": 16,
    "start_time": "2022-05-10T12:41:48.956Z"
   },
   {
    "duration": 227,
    "start_time": "2022-05-10T12:41:52.255Z"
   },
   {
    "duration": 20,
    "start_time": "2022-05-10T12:41:55.737Z"
   },
   {
    "duration": 374,
    "start_time": "2022-05-10T12:42:00.102Z"
   },
   {
    "duration": 18,
    "start_time": "2022-05-10T12:42:03.712Z"
   },
   {
    "duration": 229,
    "start_time": "2022-05-10T12:42:07.877Z"
   },
   {
    "duration": 20,
    "start_time": "2022-05-10T12:42:11.382Z"
   },
   {
    "duration": 351,
    "start_time": "2022-05-10T12:42:15.175Z"
   },
   {
    "duration": 19,
    "start_time": "2022-05-10T12:42:18.977Z"
   },
   {
    "duration": 257,
    "start_time": "2022-05-10T12:42:22.273Z"
   },
   {
    "duration": 20,
    "start_time": "2022-05-10T12:42:30.983Z"
   },
   {
    "duration": 484,
    "start_time": "2022-05-10T12:42:34.273Z"
   },
   {
    "duration": 18,
    "start_time": "2022-05-10T12:42:38.229Z"
   },
   {
    "duration": 224,
    "start_time": "2022-05-10T12:42:41.364Z"
   },
   {
    "duration": 11,
    "start_time": "2022-05-10T12:42:46.818Z"
   },
   {
    "duration": 334,
    "start_time": "2022-05-10T12:42:49.831Z"
   },
   {
    "duration": 11,
    "start_time": "2022-05-10T12:42:57.725Z"
   },
   {
    "duration": 372,
    "start_time": "2022-05-10T12:43:00.311Z"
   },
   {
    "duration": 15,
    "start_time": "2022-05-10T12:43:05.319Z"
   },
   {
    "duration": 356,
    "start_time": "2022-05-10T12:43:09.658Z"
   },
   {
    "duration": 13,
    "start_time": "2022-05-10T12:43:13.679Z"
   },
   {
    "duration": 380,
    "start_time": "2022-05-10T12:43:16.994Z"
   },
   {
    "duration": 9,
    "start_time": "2022-05-10T12:43:23.073Z"
   },
   {
    "duration": 9,
    "start_time": "2022-05-10T12:43:25.953Z"
   },
   {
    "duration": 217,
    "start_time": "2022-05-10T12:43:29.218Z"
   },
   {
    "duration": 314,
    "start_time": "2022-05-10T12:43:32.263Z"
   },
   {
    "duration": 218,
    "start_time": "2022-05-10T12:43:36.400Z"
   },
   {
    "duration": 13,
    "start_time": "2022-05-10T12:43:39.744Z"
   },
   {
    "duration": 353,
    "start_time": "2022-05-10T12:43:44.240Z"
   },
   {
    "duration": 7,
    "start_time": "2022-05-10T12:43:49.455Z"
   },
   {
    "duration": 10,
    "start_time": "2022-05-10T12:43:52.567Z"
   },
   {
    "duration": 210,
    "start_time": "2022-05-10T12:43:56.488Z"
   },
   {
    "duration": 193,
    "start_time": "2022-05-10T12:44:02.336Z"
   },
   {
    "duration": 203,
    "start_time": "2022-05-10T12:44:06.066Z"
   },
   {
    "duration": 13,
    "start_time": "2022-05-10T12:44:09.652Z"
   },
   {
    "duration": 370,
    "start_time": "2022-05-10T12:44:14.281Z"
   },
   {
    "duration": 17,
    "start_time": "2022-05-10T12:44:21.555Z"
   },
   {
    "duration": 9,
    "start_time": "2022-05-10T12:44:25.202Z"
   },
   {
    "duration": 12,
    "start_time": "2022-05-10T12:44:37.089Z"
   },
   {
    "duration": 11,
    "start_time": "2022-05-10T12:44:40.992Z"
   },
   {
    "duration": 1270,
    "start_time": "2022-05-10T12:48:09.007Z"
   },
   {
    "duration": 78,
    "start_time": "2022-05-10T12:48:11.611Z"
   },
   {
    "duration": 48,
    "start_time": "2022-05-10T12:48:13.262Z"
   },
   {
    "duration": 15,
    "start_time": "2022-05-10T12:48:19.791Z"
   },
   {
    "duration": 30,
    "start_time": "2022-05-10T12:48:23.382Z"
   },
   {
    "duration": 8,
    "start_time": "2022-05-10T12:48:26.993Z"
   },
   {
    "duration": 32,
    "start_time": "2022-05-10T12:48:30.965Z"
   },
   {
    "duration": 29,
    "start_time": "2022-05-10T12:48:34.983Z"
   },
   {
    "duration": 23,
    "start_time": "2022-05-10T12:48:38.302Z"
   },
   {
    "duration": 4,
    "start_time": "2022-05-10T12:48:41.798Z"
   },
   {
    "duration": 354,
    "start_time": "2022-05-10T12:48:44.956Z"
   },
   {
    "duration": 5,
    "start_time": "2022-05-10T12:48:49.004Z"
   },
   {
    "duration": 7,
    "start_time": "2022-05-10T12:48:52.426Z"
   },
   {
    "duration": 16,
    "start_time": "2022-05-10T12:48:55.271Z"
   },
   {
    "duration": 8,
    "start_time": "2022-05-10T12:48:58.986Z"
   },
   {
    "duration": 6,
    "start_time": "2022-05-10T12:49:01.774Z"
   },
   {
    "duration": 16,
    "start_time": "2022-05-10T12:49:04.269Z"
   },
   {
    "duration": 6,
    "start_time": "2022-05-10T12:49:07.151Z"
   },
   {
    "duration": 42,
    "start_time": "2022-05-10T12:49:10.977Z"
   },
   {
    "duration": 3,
    "start_time": "2022-05-10T12:49:15.641Z"
   },
   {
    "duration": 13,
    "start_time": "2022-05-10T12:49:18.319Z"
   },
   {
    "duration": 501,
    "start_time": "2022-05-10T12:49:22.464Z"
   },
   {
    "duration": 18,
    "start_time": "2022-05-10T12:49:26.367Z"
   },
   {
    "duration": 209,
    "start_time": "2022-05-10T12:49:29.783Z"
   },
   {
    "duration": 21,
    "start_time": "2022-05-10T12:49:33.638Z"
   },
   {
    "duration": 1139,
    "start_time": "2022-05-10T12:49:39.551Z"
   },
   {
    "duration": 58,
    "start_time": "2022-05-10T12:49:44.969Z"
   },
   {
    "duration": 12,
    "start_time": "2022-05-10T12:49:49.127Z"
   },
   {
    "duration": 152,
    "start_time": "2022-05-10T12:49:53.646Z"
   },
   {
    "duration": 14,
    "start_time": "2022-05-10T12:49:56.829Z"
   },
   {
    "duration": 22,
    "start_time": "2022-05-10T12:49:59.985Z"
   },
   {
    "duration": 501,
    "start_time": "2022-05-10T12:50:06.432Z"
   },
   {
    "duration": 268,
    "start_time": "2022-05-10T12:50:10.687Z"
   },
   {
    "duration": 192,
    "start_time": "2022-05-10T12:50:18.988Z"
   },
   {
    "duration": 196,
    "start_time": "2022-05-10T12:50:23.769Z"
   },
   {
    "duration": 175,
    "start_time": "2022-05-10T12:50:27.043Z"
   },
   {
    "duration": 182,
    "start_time": "2022-05-10T12:50:31.815Z"
   },
   {
    "duration": 52,
    "start_time": "2022-05-10T12:50:37.320Z"
   },
   {
    "duration": 392,
    "start_time": "2022-05-10T12:50:41.208Z"
   },
   {
    "duration": 61,
    "start_time": "2022-05-10T12:50:46.283Z"
   },
   {
    "duration": 6,
    "start_time": "2022-05-10T12:50:55.289Z"
   },
   {
    "duration": 461,
    "start_time": "2022-05-10T12:50:59.045Z"
   },
   {
    "duration": 5,
    "start_time": "2022-05-10T12:51:04.154Z"
   },
   {
    "duration": 426,
    "start_time": "2022-05-10T12:51:07.427Z"
   },
   {
    "duration": 473,
    "start_time": "2022-05-10T12:51:15.854Z"
   },
   {
    "duration": 435,
    "start_time": "2022-05-10T12:51:57.680Z"
   },
   {
    "duration": 443,
    "start_time": "2022-05-10T12:52:02.973Z"
   },
   {
    "duration": 568,
    "start_time": "2022-05-10T12:52:05.575Z"
   },
   {
    "duration": 13,
    "start_time": "2022-05-10T12:52:10.435Z"
   },
   {
    "duration": 454,
    "start_time": "2022-05-10T12:52:15.066Z"
   },
   {
    "duration": 462,
    "start_time": "2022-05-10T12:52:18.996Z"
   },
   {
    "duration": 12,
    "start_time": "2022-05-10T12:52:24.220Z"
   },
   {
    "duration": 17,
    "start_time": "2022-05-10T12:52:27.750Z"
   },
   {
    "duration": 9,
    "start_time": "2022-05-10T12:53:46.613Z"
   },
   {
    "duration": 7,
    "start_time": "2022-05-10T12:53:50.103Z"
   },
   {
    "duration": 9,
    "start_time": "2022-05-10T12:53:53.052Z"
   },
   {
    "duration": 8,
    "start_time": "2022-05-10T12:53:56.076Z"
   },
   {
    "duration": 441,
    "start_time": "2022-05-10T12:54:00.515Z"
   },
   {
    "duration": 451,
    "start_time": "2022-05-10T12:54:06.660Z"
   },
   {
    "duration": 16,
    "start_time": "2022-05-10T12:54:11.437Z"
   },
   {
    "duration": 235,
    "start_time": "2022-05-10T12:54:14.565Z"
   },
   {
    "duration": 27,
    "start_time": "2022-05-10T12:54:19.128Z"
   },
   {
    "duration": 361,
    "start_time": "2022-05-10T12:54:22.152Z"
   },
   {
    "duration": 19,
    "start_time": "2022-05-10T12:54:25.896Z"
   },
   {
    "duration": 221,
    "start_time": "2022-05-10T12:54:28.626Z"
   },
   {
    "duration": 21,
    "start_time": "2022-05-10T12:54:31.663Z"
   },
   {
    "duration": 367,
    "start_time": "2022-05-10T12:54:34.593Z"
   },
   {
    "duration": 18,
    "start_time": "2022-05-10T12:54:37.709Z"
   },
   {
    "duration": 332,
    "start_time": "2022-05-10T12:54:40.637Z"
   },
   {
    "duration": 19,
    "start_time": "2022-05-10T12:54:43.820Z"
   },
   {
    "duration": 377,
    "start_time": "2022-05-10T12:54:46.625Z"
   },
   {
    "duration": 18,
    "start_time": "2022-05-10T12:54:50.566Z"
   },
   {
    "duration": 233,
    "start_time": "2022-05-10T12:54:53.446Z"
   },
   {
    "duration": 11,
    "start_time": "2022-05-10T12:54:59.170Z"
   },
   {
    "duration": 332,
    "start_time": "2022-05-10T12:55:02.372Z"
   },
   {
    "duration": 8,
    "start_time": "2022-05-10T12:55:06.299Z"
   },
   {
    "duration": 370,
    "start_time": "2022-05-10T12:55:09.397Z"
   },
   {
    "duration": 15,
    "start_time": "2022-05-10T12:55:17.271Z"
   },
   {
    "duration": 356,
    "start_time": "2022-05-10T12:55:21.018Z"
   },
   {
    "duration": 11,
    "start_time": "2022-05-10T12:55:25.495Z"
   },
   {
    "duration": 478,
    "start_time": "2022-05-10T12:55:28.699Z"
   },
   {
    "duration": 8,
    "start_time": "2022-05-10T12:55:34.531Z"
   },
   {
    "duration": 10,
    "start_time": "2022-05-10T12:55:37.109Z"
   },
   {
    "duration": 232,
    "start_time": "2022-05-10T12:55:40.504Z"
   },
   {
    "duration": 228,
    "start_time": "2022-05-10T12:55:43.917Z"
   },
   {
    "duration": 232,
    "start_time": "2022-05-10T12:55:47.391Z"
   },
   {
    "duration": 14,
    "start_time": "2022-05-10T12:55:51.022Z"
   },
   {
    "duration": 371,
    "start_time": "2022-05-10T12:55:55.003Z"
   },
   {
    "duration": 9,
    "start_time": "2022-05-10T12:55:59.861Z"
   },
   {
    "duration": 9,
    "start_time": "2022-05-10T12:56:02.706Z"
   },
   {
    "duration": 218,
    "start_time": "2022-05-10T12:56:05.879Z"
   },
   {
    "duration": 199,
    "start_time": "2022-05-10T12:56:09.825Z"
   },
   {
    "duration": 212,
    "start_time": "2022-05-10T12:56:13.685Z"
   },
   {
    "duration": 12,
    "start_time": "2022-05-10T12:56:17.279Z"
   },
   {
    "duration": 353,
    "start_time": "2022-05-10T12:56:20.555Z"
   },
   {
    "duration": 16,
    "start_time": "2022-05-10T12:56:26.014Z"
   },
   {
    "duration": 10,
    "start_time": "2022-05-10T12:56:29.958Z"
   },
   {
    "duration": 11,
    "start_time": "2022-05-10T12:56:34.343Z"
   },
   {
    "duration": 9,
    "start_time": "2022-05-10T12:56:38.153Z"
   },
   {
    "duration": 1809,
    "start_time": "2022-06-14T11:08:51.334Z"
   },
   {
    "duration": 44,
    "start_time": "2022-06-14T11:08:53.147Z"
   },
   {
    "duration": 123,
    "start_time": "2022-06-14T11:08:53.192Z"
   },
   {
    "duration": 0,
    "start_time": "2022-06-14T11:08:53.319Z"
   },
   {
    "duration": 0,
    "start_time": "2022-06-14T11:08:53.320Z"
   },
   {
    "duration": 0,
    "start_time": "2022-06-14T11:08:53.322Z"
   },
   {
    "duration": 0,
    "start_time": "2022-06-14T11:08:53.323Z"
   },
   {
    "duration": 0,
    "start_time": "2022-06-14T11:08:53.325Z"
   },
   {
    "duration": 0,
    "start_time": "2022-06-14T11:08:53.326Z"
   },
   {
    "duration": 0,
    "start_time": "2022-06-14T11:08:53.326Z"
   },
   {
    "duration": 0,
    "start_time": "2022-06-14T11:08:53.328Z"
   },
   {
    "duration": 0,
    "start_time": "2022-06-14T11:08:53.329Z"
   },
   {
    "duration": 0,
    "start_time": "2022-06-14T11:08:53.330Z"
   },
   {
    "duration": 0,
    "start_time": "2022-06-14T11:08:53.331Z"
   },
   {
    "duration": 0,
    "start_time": "2022-06-14T11:08:53.332Z"
   },
   {
    "duration": 0,
    "start_time": "2022-06-14T11:08:53.334Z"
   },
   {
    "duration": 0,
    "start_time": "2022-06-14T11:08:53.335Z"
   },
   {
    "duration": 0,
    "start_time": "2022-06-14T11:08:53.337Z"
   },
   {
    "duration": 0,
    "start_time": "2022-06-14T11:08:53.338Z"
   },
   {
    "duration": 0,
    "start_time": "2022-06-14T11:08:53.339Z"
   },
   {
    "duration": 0,
    "start_time": "2022-06-14T11:08:53.341Z"
   },
   {
    "duration": 0,
    "start_time": "2022-06-14T11:08:53.342Z"
   },
   {
    "duration": 0,
    "start_time": "2022-06-14T11:08:53.343Z"
   },
   {
    "duration": 0,
    "start_time": "2022-06-14T11:08:53.344Z"
   },
   {
    "duration": 0,
    "start_time": "2022-06-14T11:08:53.345Z"
   },
   {
    "duration": 1370,
    "start_time": "2022-06-14T11:14:48.936Z"
   },
   {
    "duration": 77,
    "start_time": "2022-06-14T11:14:50.308Z"
   },
   {
    "duration": 14,
    "start_time": "2022-06-14T11:14:50.387Z"
   },
   {
    "duration": 9,
    "start_time": "2022-06-14T11:14:50.402Z"
   },
   {
    "duration": 14,
    "start_time": "2022-06-14T11:14:50.413Z"
   },
   {
    "duration": 9,
    "start_time": "2022-06-14T11:14:50.428Z"
   },
   {
    "duration": 6,
    "start_time": "2022-06-14T11:14:50.439Z"
   },
   {
    "duration": 11,
    "start_time": "2022-06-14T11:14:50.447Z"
   },
   {
    "duration": 40,
    "start_time": "2022-06-14T11:14:50.460Z"
   },
   {
    "duration": 24,
    "start_time": "2022-06-14T11:14:50.503Z"
   },
   {
    "duration": 1073,
    "start_time": "2022-06-14T11:14:50.529Z"
   },
   {
    "duration": 11,
    "start_time": "2022-06-14T11:14:51.604Z"
   },
   {
    "duration": 484,
    "start_time": "2022-06-14T11:14:51.616Z"
   },
   {
    "duration": 5,
    "start_time": "2022-06-14T11:14:52.103Z"
   },
   {
    "duration": 12,
    "start_time": "2022-06-14T11:14:52.109Z"
   },
   {
    "duration": 13,
    "start_time": "2022-06-14T11:14:52.122Z"
   },
   {
    "duration": 8,
    "start_time": "2022-06-14T11:14:52.137Z"
   },
   {
    "duration": 8,
    "start_time": "2022-06-14T11:14:52.146Z"
   },
   {
    "duration": 10,
    "start_time": "2022-06-14T11:14:52.156Z"
   },
   {
    "duration": 9,
    "start_time": "2022-06-14T11:14:52.168Z"
   },
   {
    "duration": 9,
    "start_time": "2022-06-14T11:14:52.194Z"
   },
   {
    "duration": 22,
    "start_time": "2022-06-14T11:14:52.205Z"
   },
   {
    "duration": 7,
    "start_time": "2022-06-14T11:14:52.229Z"
   },
   {
    "duration": 8,
    "start_time": "2022-06-14T11:14:52.238Z"
   },
   {
    "duration": 3,
    "start_time": "2022-06-14T11:14:52.248Z"
   },
   {
    "duration": 2661,
    "start_time": "2022-06-27T19:08:21.238Z"
   },
   {
    "duration": 2187,
    "start_time": "2022-06-27T19:08:23.902Z"
   },
   {
    "duration": 1980,
    "start_time": "2022-06-27T19:08:26.092Z"
   },
   {
    "duration": 3410,
    "start_time": "2022-06-27T19:08:28.074Z"
   },
   {
    "duration": 18,
    "start_time": "2022-06-27T19:08:31.486Z"
   },
   {
    "duration": 13,
    "start_time": "2022-06-27T19:08:31.506Z"
   },
   {
    "duration": 14,
    "start_time": "2022-06-27T19:08:31.520Z"
   },
   {
    "duration": 715,
    "start_time": "2022-06-27T19:08:31.543Z"
   },
   {
    "duration": 521,
    "start_time": "2022-06-27T19:08:32.260Z"
   },
   {
    "duration": 1027,
    "start_time": "2022-06-27T19:08:32.783Z"
   },
   {
    "duration": 53,
    "start_time": "2022-06-27T19:08:33.812Z"
   },
   {
    "duration": 27,
    "start_time": "2022-06-27T19:08:33.867Z"
   },
   {
    "duration": 432,
    "start_time": "2022-06-27T19:08:33.896Z"
   },
   {
    "duration": 532,
    "start_time": "2022-06-27T19:08:34.338Z"
   },
   {
    "duration": 798,
    "start_time": "2022-06-27T19:08:34.871Z"
   },
   {
    "duration": 455,
    "start_time": "2022-06-27T19:08:35.671Z"
   },
   {
    "duration": 11,
    "start_time": "2022-06-27T19:08:36.129Z"
   },
   {
    "duration": 109,
    "start_time": "2022-06-27T19:08:36.142Z"
   },
   {
    "duration": 4,
    "start_time": "2022-06-27T19:08:36.253Z"
   },
   {
    "duration": 2335,
    "start_time": "2022-06-27T19:08:36.259Z"
   },
   {
    "duration": 15,
    "start_time": "2022-06-27T19:08:38.596Z"
   },
   {
    "duration": 39,
    "start_time": "2022-06-27T19:08:38.613Z"
   },
   {
    "duration": 2154,
    "start_time": "2022-06-27T19:08:38.658Z"
   },
   {
    "duration": 108,
    "start_time": "2022-06-27T19:08:40.814Z"
   },
   {
    "duration": 15,
    "start_time": "2022-06-27T19:08:40.927Z"
   },
   {
    "duration": 52,
    "start_time": "2022-06-27T19:08:40.945Z"
   },
   {
    "duration": 2258,
    "start_time": "2022-06-27T19:08:40.999Z"
   },
   {
    "duration": 21,
    "start_time": "2022-06-27T19:08:43.259Z"
   },
   {
    "duration": 717,
    "start_time": "2022-06-27T19:08:43.282Z"
   },
   {
    "duration": 228,
    "start_time": "2022-06-27T19:08:44.001Z"
   },
   {
    "duration": 376,
    "start_time": "2022-06-27T19:08:44.231Z"
   },
   {
    "duration": 147,
    "start_time": "2022-06-27T19:08:44.609Z"
   },
   {
    "duration": 5,
    "start_time": "2022-06-27T19:08:44.763Z"
   },
   {
    "duration": 18,
    "start_time": "2022-06-27T19:08:44.771Z"
   },
   {
    "duration": 183,
    "start_time": "2022-06-27T19:08:44.792Z"
   },
   {
    "duration": 22,
    "start_time": "2022-06-27T19:08:44.977Z"
   },
   {
    "duration": 3,
    "start_time": "2022-06-27T19:08:45.001Z"
   },
   {
    "duration": 9,
    "start_time": "2022-06-27T19:08:45.026Z"
   },
   {
    "duration": 62107,
    "start_time": "2022-06-27T19:08:45.043Z"
   },
   {
    "duration": 182,
    "start_time": "2022-06-27T19:09:47.156Z"
   },
   {
    "duration": 78,
    "start_time": "2022-06-27T19:09:47.348Z"
   },
   {
    "duration": 45,
    "start_time": "2022-06-27T19:09:47.432Z"
   },
   {
    "duration": 3,
    "start_time": "2022-06-27T19:09:47.480Z"
   },
   {
    "duration": 6,
    "start_time": "2022-06-27T19:09:47.484Z"
   },
   {
    "duration": 462158,
    "start_time": "2022-06-27T19:09:47.491Z"
   },
   {
    "duration": 915,
    "start_time": "2022-06-27T19:17:29.661Z"
   },
   {
    "duration": 63,
    "start_time": "2022-06-27T19:17:30.578Z"
   },
   {
    "duration": 49,
    "start_time": "2022-06-27T19:17:30.643Z"
   },
   {
    "duration": 130326,
    "start_time": "2022-06-27T19:17:30.694Z"
   },
   {
    "duration": 45,
    "start_time": "2022-06-27T19:19:41.022Z"
   },
   {
    "duration": 4322,
    "start_time": "2022-06-27T19:19:41.069Z"
   },
   {
    "duration": 6,
    "start_time": "2022-06-27T19:19:45.393Z"
   }
  ],
  "kernelspec": {
   "display_name": "Python 3 (ipykernel)",
   "language": "python",
   "name": "python3"
  },
  "language_info": {
   "codemirror_mode": {
    "name": "ipython",
    "version": 3
   },
   "file_extension": ".py",
   "mimetype": "text/x-python",
   "name": "python",
   "nbconvert_exporter": "python",
   "pygments_lexer": "ipython3",
   "version": "3.9.7"
  },
  "toc": {
   "base_numbering": 1,
   "nav_menu": {},
   "number_sections": true,
   "sideBar": true,
   "skip_h1_title": true,
   "title_cell": "Содержание",
   "title_sidebar": "Contents",
   "toc_cell": true,
   "toc_position": {
    "height": "calc(100% - 180px)",
    "left": "10px",
    "top": "150px",
    "width": "247px"
   },
   "toc_section_display": true,
   "toc_window_display": true
  }
 },
 "nbformat": 4,
 "nbformat_minor": 4
}
