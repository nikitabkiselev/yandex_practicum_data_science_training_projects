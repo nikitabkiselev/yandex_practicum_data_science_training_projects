{
 "cells": [
  {
   "cell_type": "markdown",
   "metadata": {},
   "source": [
    "# Выбор локации для скважины. Описание проекта.\n",
    "\n",
    "Вы работаете в добывающей компании «ГлавРосГосНефть». Нужно решить, где бурить новую скважину.  \n",
    "Шаги для выбора локации обычно такие:  \n",
    "    •\tВ избранном регионе собирают характеристики для скважин: качество нефти и объём её запасов;  \n",
    "    •\tСтроят модель для предсказания объёма запасов в новых скважинах;  \n",
    "    •\tВыбирают скважины с самыми высокими оценками значений;  \n",
    "    •\tОпределяют регион с максимальной суммарной прибылью отобранных скважин.  \n",
    "Вам предоставлены пробы нефти в трёх регионах. Характеристики для каждой скважины в регионе уже известны. Постройте модель для определения региона, где добыча принесёт наибольшую прибыль. Проанализируйте возможную прибыль и риски техникой Bootstrap.\n"
   ]
  },
  {
   "cell_type": "markdown",
   "metadata": {},
   "source": [
    "## Описание данных.\n",
    "\n",
    "  •\tid — уникальный идентификатор скважины;  \n",
    "  •\tf0, f1, f2 — три признака точек (неважно, что они означают, но сами признаки значимы);  \n",
    "  •\tproduct — объём запасов в скважине (тыс. баррелей).  "
   ]
  },
  {
   "cell_type": "markdown",
   "metadata": {},
   "source": [
    "## Условия задачи:\n",
    "\n",
    "  •\tДля обучения модели подходит только линейная регрессия (остальные — недостаточно предсказуемые). \n",
    "  •\tПри разведке региона исследуют 500 точек, из которых с помощью машинного обучения выбирают 200 лучших для разработки.  \n",
    "  •\tБюджет на разработку скважин в регионе — 10 млрд рублей.  \n",
    "  •\tПри нынешних ценах один баррель сырья приносит 450 рублей дохода. Доход с каждой единицы продукта составляет 450 тыс.  рублей, поскольку объём указан в тысячах баррелей.  \n",
    "  •\tПосле оценки рисков нужно оставить лишь те регионы, в которых вероятность убытков меньше 2.5%. Среди них выбирают регион с наибольшей средней прибылью.    "
   ]
  },
  {
   "cell_type": "markdown",
   "metadata": {},
   "source": [
    "# 1. Загрузка и подготовка данных."
   ]
  },
  {
   "cell_type": "code",
   "execution_count": 1,
   "metadata": {},
   "outputs": [],
   "source": [
    "#Импорт библиотек\n",
    "import matplotlib.pyplot as plt\n",
    "import numpy as np\n",
    "import pandas as pd\n",
    "import random\n",
    "import seaborn as sns\n",
    "import warnings\n",
    "warnings.filterwarnings('ignore') \n",
    "\n",
    "from IPython.display import display\n",
    "from scipy import stats as st\n",
    "from sklearn.ensemble import RandomForestRegressor\n",
    "from sklearn.linear_model import LinearRegression\n",
    "from sklearn.metrics import mean_squared_error, accuracy_score, r2_score\n",
    "from sklearn.model_selection import train_test_split\n",
    "from sklearn.preprocessing import StandardScaler \n",
    "from sklearn.utils import shuffle"
   ]
  },
  {
   "cell_type": "code",
   "execution_count": 2,
   "metadata": {},
   "outputs": [],
   "source": [
    "import os\n",
    "\n",
    "pth1_0 = 'D:/YANDEX.PRAKTIKUM/DATA_SCIENCE/Машинное_обучение_в_бизнесе/geo_data_0.csv'\n",
    "pth1_1 = 'D:/YANDEX.PRAKTIKUM/DATA_SCIENCE/Машинное_обучение_в_бизнесе/geo_data_1.csv'\n",
    "pth1_2 = 'D:/YANDEX.PRAKTIKUM/DATA_SCIENCE/Машинное_обучение_в_бизнесе/geo_data_2.csv'\n",
    "pth2_0 = '/datasets/geo_data_0.csv'\n",
    "pth2_1 = '/datasets/geo_data_1.csv'\n",
    "pth2_2 = '/datasets/geo_data_2.csv'\n",
    "\n",
    "if (os.path.exists(pth1_0) and os.path.exists(pth1_1) and os.path.exists(pth1_2)):\n",
    "    df_geo_data_0 = pd.read_csv(pth1_0)\n",
    "    df_geo_data_1 = pd.read_csv(pth1_1)\n",
    "    df_geo_data_2 = pd.read_csv(pth1_2)\n",
    "elif (os.path.exists(pth2_0) and os.path.exists(pth2_1) and os.path.exists(pth2_2)):\n",
    "    df_geo_data_0 = pd.read_csv(pth2_0)\n",
    "    df_geo_data_1 = pd.read_csv(pth2_1)\n",
    "    df_geo_data_2 = pd.read_csv(pth2_2)\n",
    "else:\n",
    "    print('Something is wrong')\n",
    "    \n",
    "df_geo_data_0.name = 'geo_data_0'   \n",
    "df_geo_data_1.name = 'geo_data_1'\n",
    "df_geo_data_2.name = 'geo_data_2'    "
   ]
  },
  {
   "cell_type": "markdown",
   "metadata": {},
   "source": [
    "Посмотрим на первые 2 строки и сводную информацию для каждого датафрейма."
   ]
  },
  {
   "cell_type": "code",
   "execution_count": 3,
   "metadata": {},
   "outputs": [
    {
     "name": "stdout",
     "output_type": "stream",
     "text": [
      "СВОДНАЯ ИНФОРМАЦИЯ ПО ДАТАФРЕЙМУ geo_data_0\n",
      "<class 'pandas.core.frame.DataFrame'>\n",
      "RangeIndex: 100000 entries, 0 to 99999\n",
      "Data columns (total 5 columns):\n",
      " #   Column   Non-Null Count   Dtype  \n",
      "---  ------   --------------   -----  \n",
      " 0   id       100000 non-null  object \n",
      " 1   f0       100000 non-null  float64\n",
      " 2   f1       100000 non-null  float64\n",
      " 3   f2       100000 non-null  float64\n",
      " 4   product  100000 non-null  float64\n",
      "dtypes: float64(4), object(1)\n",
      "memory usage: 3.8+ MB\n"
     ]
    },
    {
     "data": {
      "text/plain": [
       "None"
      ]
     },
     "metadata": {},
     "output_type": "display_data"
    },
    {
     "data": {
      "text/html": [
       "<div>\n",
       "<style scoped>\n",
       "    .dataframe tbody tr th:only-of-type {\n",
       "        vertical-align: middle;\n",
       "    }\n",
       "\n",
       "    .dataframe tbody tr th {\n",
       "        vertical-align: top;\n",
       "    }\n",
       "\n",
       "    .dataframe thead th {\n",
       "        text-align: right;\n",
       "    }\n",
       "</style>\n",
       "<table border=\"1\" class=\"dataframe\">\n",
       "  <thead>\n",
       "    <tr style=\"text-align: right;\">\n",
       "      <th></th>\n",
       "      <th>id</th>\n",
       "      <th>f0</th>\n",
       "      <th>f1</th>\n",
       "      <th>f2</th>\n",
       "      <th>product</th>\n",
       "    </tr>\n",
       "  </thead>\n",
       "  <tbody>\n",
       "    <tr>\n",
       "      <th>0</th>\n",
       "      <td>txEyH</td>\n",
       "      <td>0.705745</td>\n",
       "      <td>-0.497823</td>\n",
       "      <td>1.22117</td>\n",
       "      <td>105.280062</td>\n",
       "    </tr>\n",
       "    <tr>\n",
       "      <th>1</th>\n",
       "      <td>2acmU</td>\n",
       "      <td>1.334711</td>\n",
       "      <td>-0.340164</td>\n",
       "      <td>4.36508</td>\n",
       "      <td>73.037750</td>\n",
       "    </tr>\n",
       "  </tbody>\n",
       "</table>\n",
       "</div>"
      ],
      "text/plain": [
       "      id        f0        f1       f2     product\n",
       "0  txEyH  0.705745 -0.497823  1.22117  105.280062\n",
       "1  2acmU  1.334711 -0.340164  4.36508   73.037750"
      ]
     },
     "metadata": {},
     "output_type": "display_data"
    },
    {
     "name": "stdout",
     "output_type": "stream",
     "text": [
      "Кол-во строк: 100000\n",
      "Кол-во столбцов: 5\n",
      "\n",
      "\n",
      "СВОДНАЯ ИНФОРМАЦИЯ ПО ДАТАФРЕЙМУ geo_data_1\n",
      "<class 'pandas.core.frame.DataFrame'>\n",
      "RangeIndex: 100000 entries, 0 to 99999\n",
      "Data columns (total 5 columns):\n",
      " #   Column   Non-Null Count   Dtype  \n",
      "---  ------   --------------   -----  \n",
      " 0   id       100000 non-null  object \n",
      " 1   f0       100000 non-null  float64\n",
      " 2   f1       100000 non-null  float64\n",
      " 3   f2       100000 non-null  float64\n",
      " 4   product  100000 non-null  float64\n",
      "dtypes: float64(4), object(1)\n",
      "memory usage: 3.8+ MB\n"
     ]
    },
    {
     "data": {
      "text/plain": [
       "None"
      ]
     },
     "metadata": {},
     "output_type": "display_data"
    },
    {
     "data": {
      "text/html": [
       "<div>\n",
       "<style scoped>\n",
       "    .dataframe tbody tr th:only-of-type {\n",
       "        vertical-align: middle;\n",
       "    }\n",
       "\n",
       "    .dataframe tbody tr th {\n",
       "        vertical-align: top;\n",
       "    }\n",
       "\n",
       "    .dataframe thead th {\n",
       "        text-align: right;\n",
       "    }\n",
       "</style>\n",
       "<table border=\"1\" class=\"dataframe\">\n",
       "  <thead>\n",
       "    <tr style=\"text-align: right;\">\n",
       "      <th></th>\n",
       "      <th>id</th>\n",
       "      <th>f0</th>\n",
       "      <th>f1</th>\n",
       "      <th>f2</th>\n",
       "      <th>product</th>\n",
       "    </tr>\n",
       "  </thead>\n",
       "  <tbody>\n",
       "    <tr>\n",
       "      <th>0</th>\n",
       "      <td>kBEdx</td>\n",
       "      <td>-15.001348</td>\n",
       "      <td>-8.276000</td>\n",
       "      <td>-0.005876</td>\n",
       "      <td>3.179103</td>\n",
       "    </tr>\n",
       "    <tr>\n",
       "      <th>1</th>\n",
       "      <td>62mP7</td>\n",
       "      <td>14.272088</td>\n",
       "      <td>-3.475083</td>\n",
       "      <td>0.999183</td>\n",
       "      <td>26.953261</td>\n",
       "    </tr>\n",
       "  </tbody>\n",
       "</table>\n",
       "</div>"
      ],
      "text/plain": [
       "      id         f0        f1        f2    product\n",
       "0  kBEdx -15.001348 -8.276000 -0.005876   3.179103\n",
       "1  62mP7  14.272088 -3.475083  0.999183  26.953261"
      ]
     },
     "metadata": {},
     "output_type": "display_data"
    },
    {
     "name": "stdout",
     "output_type": "stream",
     "text": [
      "Кол-во строк: 100000\n",
      "Кол-во столбцов: 5\n",
      "\n",
      "\n",
      "СВОДНАЯ ИНФОРМАЦИЯ ПО ДАТАФРЕЙМУ geo_data_2\n",
      "<class 'pandas.core.frame.DataFrame'>\n",
      "RangeIndex: 100000 entries, 0 to 99999\n",
      "Data columns (total 5 columns):\n",
      " #   Column   Non-Null Count   Dtype  \n",
      "---  ------   --------------   -----  \n",
      " 0   id       100000 non-null  object \n",
      " 1   f0       100000 non-null  float64\n",
      " 2   f1       100000 non-null  float64\n",
      " 3   f2       100000 non-null  float64\n",
      " 4   product  100000 non-null  float64\n",
      "dtypes: float64(4), object(1)\n",
      "memory usage: 3.8+ MB\n"
     ]
    },
    {
     "data": {
      "text/plain": [
       "None"
      ]
     },
     "metadata": {},
     "output_type": "display_data"
    },
    {
     "data": {
      "text/html": [
       "<div>\n",
       "<style scoped>\n",
       "    .dataframe tbody tr th:only-of-type {\n",
       "        vertical-align: middle;\n",
       "    }\n",
       "\n",
       "    .dataframe tbody tr th {\n",
       "        vertical-align: top;\n",
       "    }\n",
       "\n",
       "    .dataframe thead th {\n",
       "        text-align: right;\n",
       "    }\n",
       "</style>\n",
       "<table border=\"1\" class=\"dataframe\">\n",
       "  <thead>\n",
       "    <tr style=\"text-align: right;\">\n",
       "      <th></th>\n",
       "      <th>id</th>\n",
       "      <th>f0</th>\n",
       "      <th>f1</th>\n",
       "      <th>f2</th>\n",
       "      <th>product</th>\n",
       "    </tr>\n",
       "  </thead>\n",
       "  <tbody>\n",
       "    <tr>\n",
       "      <th>0</th>\n",
       "      <td>fwXo0</td>\n",
       "      <td>-1.146987</td>\n",
       "      <td>0.963328</td>\n",
       "      <td>-0.828965</td>\n",
       "      <td>27.758673</td>\n",
       "    </tr>\n",
       "    <tr>\n",
       "      <th>1</th>\n",
       "      <td>WJtFt</td>\n",
       "      <td>0.262778</td>\n",
       "      <td>0.269839</td>\n",
       "      <td>-2.530187</td>\n",
       "      <td>56.069697</td>\n",
       "    </tr>\n",
       "  </tbody>\n",
       "</table>\n",
       "</div>"
      ],
      "text/plain": [
       "      id        f0        f1        f2    product\n",
       "0  fwXo0 -1.146987  0.963328 -0.828965  27.758673\n",
       "1  WJtFt  0.262778  0.269839 -2.530187  56.069697"
      ]
     },
     "metadata": {},
     "output_type": "display_data"
    },
    {
     "name": "stdout",
     "output_type": "stream",
     "text": [
      "Кол-во строк: 100000\n",
      "Кол-во столбцов: 5\n",
      "\n",
      "\n"
     ]
    }
   ],
   "source": [
    "dataframes = [df_geo_data_0, df_geo_data_1, df_geo_data_2]\n",
    "for df in dataframes:\n",
    "    print('СВОДНАЯ ИНФОРМАЦИЯ ПО ДАТАФРЕЙМУ ' + df.name)\n",
    "    display(df.info())\n",
    "    display(df.head(2))\n",
    "    print('Кол-во строк: {}\\nКол-во столбцов: {}'.format(df.shape[0], df.shape[1]))\n",
    "    print('\\n')"
   ]
  },
  {
   "cell_type": "markdown",
   "metadata": {},
   "source": [
    "#### Результат\n",
    "Все столбцы датафреймов имеют корректные типы данных (object и float64), а также не содержат пропусков."
   ]
  },
  {
   "cell_type": "markdown",
   "metadata": {},
   "source": [
    "Проверим датафреймы на наличие дублей. Будем считать, что строчки задублированы, если у них повторяются значния в столбце id. Посчитаем кол-во дублей в каждом датафрейме."
   ]
  },
  {
   "cell_type": "code",
   "execution_count": 4,
   "metadata": {},
   "outputs": [
    {
     "name": "stdout",
     "output_type": "stream",
     "text": [
      "Кол-во дублей в датафрейме \"geo_data_0\": 20\n",
      "Кол-во дублей в датафрейме \"geo_data_1\": 8\n",
      "Кол-во дублей в датафрейме \"geo_data_2\": 8\n"
     ]
    }
   ],
   "source": [
    "for df in dataframes:\n",
    "    print('Кол-во дублей в датафрейме \"{}\": {}'.format(df.name, df[df.duplicated('id', keep=False)].shape[0]))"
   ]
  },
  {
   "cell_type": "markdown",
   "metadata": {},
   "source": [
    "#### Результат\n",
    "Количество дублей не существенно."
   ]
  },
  {
   "cell_type": "markdown",
   "metadata": {},
   "source": [
    "Удалим дубликаты из датафреймов и проверим результат."
   ]
  },
  {
   "cell_type": "code",
   "execution_count": 5,
   "metadata": {},
   "outputs": [
    {
     "name": "stdout",
     "output_type": "stream",
     "text": [
      "Кол-во дублей в датафрейме \"geo_data_0\" после удаления: 0\n",
      "Кол-во дублей в датафрейме \"geo_data_1\" после удаления: 0\n",
      "Кол-во дублей в датафрейме \"geo_data_2\" после удаления: 0\n"
     ]
    }
   ],
   "source": [
    "for df in dataframes:\n",
    "    name = df.name\n",
    "    df = df.drop_duplicates(subset='id', keep=False).reset_index(drop=True)\n",
    "    df.name = name\n",
    "    print('Кол-во дублей в датафрейме \"{}\" после удаления: {}'.format(df.name, df[df.duplicated('id', keep=False)].shape[0]))"
   ]
  },
  {
   "cell_type": "markdown",
   "metadata": {},
   "source": [
    "Столбец id является категориальным с большим количеством уникальных значений, что не позволяет заменить его с помощью метода One-Hot Encoding. Также невозможно заменить данный категориальный столбец на количественный с помощью метода Ordinal Encoding, т.к. в дальнейшем по условию задачи данные будут обучаться линейной регрессией. По этим причинам удалим столбей id из датасетов."
   ]
  },
  {
   "cell_type": "code",
   "execution_count": 6,
   "metadata": {},
   "outputs": [],
   "source": [
    "for df in dataframes:\n",
    "    df.drop('id', axis=1, inplace=True)"
   ]
  },
  {
   "cell_type": "markdown",
   "metadata": {},
   "source": [
    "Посмотрим распределения признаков f0, f1, f2 у датафреймов."
   ]
  },
  {
   "cell_type": "code",
   "execution_count": 7,
   "metadata": {
    "scrolled": false
   },
   "outputs": [
    {
     "name": "stdout",
     "output_type": "stream",
     "text": [
      "\n",
      "\n"
     ]
    },
    {
     "data": {
      "image/png": "[encoded data removed]",
      "text/plain": [
       "<Figure size 1800x360 with 4 Axes>"
      ]
     },
     "metadata": {
      "needs_background": "light"
     },
     "output_type": "display_data"
    },
    {
     "name": "stdout",
     "output_type": "stream",
     "text": [
      "\n",
      "\n"
     ]
    },
    {
     "data": {
      "image/png": "[encoded data removed]",
      "text/plain": [
       "<Figure size 1800x360 with 4 Axes>"
      ]
     },
     "metadata": {
      "needs_background": "light"
     },
     "output_type": "display_data"
    },
    {
     "name": "stdout",
     "output_type": "stream",
     "text": [
      "\n",
      "\n"
     ]
    },
    {
     "data": {
      "image/png": "[encoded data removed]",
      "text/plain": [
       "<Figure size 1800x360 with 4 Axes>"
      ]
     },
     "metadata": {
      "needs_background": "light"
     },
     "output_type": "display_data"
    }
   ],
   "source": [
    "for df in dataframes:\n",
    "    fig = plt.figure(figsize=(25, 5))\n",
    "    ttl = fig.suptitle('Датафрейм \"{}\"'.format(df.name), fontsize=25)\n",
    "    ttl.set_position([.5, 1.05])\n",
    "    \n",
    "    rows = 1\n",
    "    cols = 4\n",
    "    counter = 1\n",
    "    for column in ['f0', 'f1', 'f2', 'product']:\n",
    "        ax = plt.subplot(rows, cols, counter)\n",
    "        plt.xlabel('Значение признака', fontsize=15)\n",
    "        plt.ylabel('Кол-во, шт.', fontsize=13)\n",
    "        ax.set_title(column, fontsize=20)\n",
    "        df[column].hist(bins=30)\n",
    "        counter += 1\n",
    "    print('\\n')\n",
    "    plt.show()"
   ]
  },
  {
   "cell_type": "markdown",
   "metadata": {},
   "source": [
    "#### Результат\n",
    "У датафреймов geo_data_0 и geo_data_1 столбцы f0 и f1 имееют несколько вершин в своих распределениях. Возможно, эти признаки состоят из двух или нескольких признаков. Однако, не имея подробную информацию о данных столбцах, попытаться разложить данные признаки на несколько не представляется возможным."
   ]
  },
  {
   "cell_type": "markdown",
   "metadata": {},
   "source": [
    "Данные имеют разный масштаб, поэтому необходимо их масштабировать. Масштабирование возможно после разбиения данных на обучающую и валидационную выборки. Поэтому масштабирование будет сделано после разбиения на обучающую и валидационные выборки."
   ]
  },
  {
   "cell_type": "markdown",
   "metadata": {},
   "source": [
    "### Вывод\n",
    "Была проведена предобработка данных:\n",
    "\n",
    "    - удалены все дубли из датафреймов;  \n",
    "    - установлено, что данные не содержат пропуски;  \n",
    "    - удален столбец id из-за невозможности преобразования в количественный признак;   \n",
    "    - исследован масштаб количественных данных, принято решение о масштабировании количественных данных в после разбиения датасетов на обучающую и валидационную выборки.   "
   ]
  },
  {
   "cell_type": "markdown",
   "metadata": {},
   "source": [
    "# 2. Обучение и проверка модели."
   ]
  },
  {
   "cell_type": "markdown",
   "metadata": {},
   "source": [
    "Разделим у каждого датафрейма имеющиеся данные на две выборки: обучающую и валидационную в соотношении 75% : 25%, соответственно."
   ]
  },
  {
   "cell_type": "code",
   "execution_count": 8,
   "metadata": {
    "scrolled": false
   },
   "outputs": [],
   "source": [
    "#Создадим словарь 'features', в котором ключ - это имя датафрейма, а значение - набор признаков соответствующего датафрейма\n",
    "features = {}\n",
    "for df in dataframes:\n",
    "    features[df.name] = df.drop('product', axis=1)\n",
    "\n",
    "#Создадим словарь 'target', в котором ключ - это имя датафрейма, а значение - набор целевого признака соответствующего датафрейма\n",
    "target = {}\n",
    "for df in dataframes:\n",
    "    target[df.name] = df['product']\n",
    "\n",
    "#Создадим словари для обучающих и валидационных выборок для всех датафреймов\n",
    "features_train = {}\n",
    "features_valid = {}\n",
    "target_train = {}\n",
    "target_valid = {}\n",
    "\n",
    "for df in dataframes:\n",
    "    features_train[df.name], features_valid[df.name], target_train[df.name], target_valid[df.name] = train_test_split(\n",
    "        features[df.name], target[df.name], test_size=0.25, random_state=12345, shuffle=True)"
   ]
  },
  {
   "cell_type": "markdown",
   "metadata": {},
   "source": [
    "Проверим соотношения выборок у каждого датафрейма."
   ]
  },
  {
   "cell_type": "code",
   "execution_count": 9,
   "metadata": {
    "scrolled": true
   },
   "outputs": [
    {
     "name": "stdout",
     "output_type": "stream",
     "text": [
      "Доля обучающей выборки датафрейма \"geo_data_0\": 75%\n",
      "Доля валидационной выборки датафрейма \"geo_data_0\": 25%\n",
      "\n",
      "\n",
      "Доля обучающей выборки датафрейма \"geo_data_1\": 75%\n",
      "Доля валидационной выборки датафрейма \"geo_data_1\": 25%\n",
      "\n",
      "\n",
      "Доля обучающей выборки датафрейма \"geo_data_2\": 75%\n",
      "Доля валидационной выборки датафрейма \"geo_data_2\": 25%\n",
      "\n",
      "\n"
     ]
    }
   ],
   "source": [
    "for df in dataframes:\n",
    "    train_size = len(target_train[df.name]) / len(target[df.name])\n",
    "    valid_size = len(target_valid[df.name]) / len(target[df.name])\n",
    "\n",
    "    print('Доля обучающей выборки датафрейма \"{}\": {:.0%}'.format(df.name, train_size))\n",
    "    print('Доля валидационной выборки датафрейма \"{}\": {:.0%}'.format(df.name, valid_size))\n",
    "    print('\\n')"
   ]
  },
  {
   "cell_type": "markdown",
   "metadata": {},
   "source": [
    "#### Результат\n",
    "Выборки всех датафреймов имеют корректные соотношения."
   ]
  },
  {
   "cell_type": "markdown",
   "metadata": {},
   "source": [
    "Как было указано ранее, проведем масштабирование количественных признаков у всех датафреймов."
   ]
  },
  {
   "cell_type": "code",
   "execution_count": 10,
   "metadata": {},
   "outputs": [],
   "source": [
    "columns = ['f0', 'f1', 'f2']\n",
    "for df in dataframes:\n",
    "    scaler = StandardScaler()\n",
    "    scaler.fit(features_train[df.name])\n",
    "    \n",
    "    features_train[df.name][columns] = scaler.transform(features_train[df.name][columns])\n",
    "    features_valid[df.name][columns] = scaler.transform(features_valid[df.name][columns])"
   ]
  },
  {
   "cell_type": "markdown",
   "metadata": {},
   "source": [
    "Проверим результат масштабирования."
   ]
  },
  {
   "cell_type": "code",
   "execution_count": 11,
   "metadata": {},
   "outputs": [
    {
     "name": "stdout",
     "output_type": "stream",
     "text": [
      "\n",
      "\n"
     ]
    },
    {
     "data": {
      "image/png": "[encoded data removed]",
      "text/plain": [
       "<Figure size 1800x360 with 3 Axes>"
      ]
     },
     "metadata": {
      "needs_background": "light"
     },
     "output_type": "display_data"
    },
    {
     "name": "stdout",
     "output_type": "stream",
     "text": [
      "\n",
      "\n"
     ]
    },
    {
     "data": {
      "image/png": "[encoded data removed]",
      "text/plain": [
       "<Figure size 1800x360 with 3 Axes>"
      ]
     },
     "metadata": {
      "needs_background": "light"
     },
     "output_type": "display_data"
    },
    {
     "name": "stdout",
     "output_type": "stream",
     "text": [
      "\n",
      "\n"
     ]
    },
    {
     "data": {
      "image/png": "[encoded data removed]",
      "text/plain": [
       "<Figure size 1800x360 with 3 Axes>"
      ]
     },
     "metadata": {
      "needs_background": "light"
     },
     "output_type": "display_data"
    }
   ],
   "source": [
    "for df in dataframes:\n",
    "    fig = plt.figure(figsize=(25, 5))\n",
    "    ttl = fig.suptitle('Датафрейм \"{}\"'.format(df.name), fontsize=25)\n",
    "    ttl.set_position([.5, 1.05])\n",
    "    \n",
    "    rows = 1\n",
    "    cols = 3\n",
    "    counter = 1\n",
    "    for column in ['f0', 'f1', 'f2']:\n",
    "        ax = plt.subplot(rows, cols, counter)\n",
    "        plt.xlabel('Значение признака', fontsize=15)\n",
    "        plt.ylabel('Кол-во, шт.', fontsize=13)\n",
    "        ax.set_title(column, fontsize=20)\n",
    "        features_train[df.name][column].hist(bins=30)\n",
    "        counter += 1\n",
    "    print('\\n')\n",
    "    plt.show()"
   ]
  },
  {
   "cell_type": "markdown",
   "metadata": {},
   "source": [
    "Все количественные признаки у датафреймов распределены вокруг значения 0."
   ]
  },
  {
   "cell_type": "markdown",
   "metadata": {},
   "source": [
    "Далее обучим модели с помощью линейной регресии."
   ]
  },
  {
   "cell_type": "code",
   "execution_count": 12,
   "metadata": {},
   "outputs": [
    {
     "name": "stdout",
     "output_type": "stream",
     "text": [
      "                             Регион \"geo_data_0\"\n",
      "Средний запас предсказанного сырья для топ-200 скважин:           155.5117 тыс.\n",
      "RMSE для топ-200 скважин:                                         27.2948 тыс.\n",
      "Коэффициент детерминации R2 (по всей валидационной выборке):      27.99%\n",
      "\n",
      "\n",
      "                             Регион \"geo_data_1\"\n",
      "Средний запас предсказанного сырья для топ-200 скважин:           138.7301 тыс.\n",
      "RMSE для топ-200 скважин:                                         0.8345 тыс.\n",
      "Коэффициент детерминации R2 (по всей валидационной выборке):      99.96%\n",
      "\n",
      "\n",
      "                             Регион \"geo_data_2\"\n",
      "Средний запас предсказанного сырья для топ-200 скважин:           148.0195 тыс.\n",
      "RMSE для топ-200 скважин:                                         29.4471 тыс.\n",
      "Коэффициент детерминации R2 (по всей валидационной выборке):      20.52%\n",
      "\n",
      "\n"
     ]
    }
   ],
   "source": [
    "# Словари для хранения предсказаний/таргетов/признаков (значение словаря) по соответствующему датафрейму (ключ словаря)\n",
    "predicted_valid = {}\n",
    "predicted_valid_top200 = {}\n",
    "target_valid_top200 = {}\n",
    "features_valid_top200 = {}\n",
    "model = {}\n",
    "\n",
    "for df in dataframes:\n",
    "    model[df.name] = LinearRegression()\n",
    "    model[df.name].fit(features_train[df.name], target_train[df.name])\n",
    "    predicted_valid[df.name] = pd.Series(data=model[df.name].predict(features_valid[df.name]),\n",
    "                                         index=features_valid[df.name].index)\n",
    "    \n",
    "    #Отбираем 200 самых продуктивных скважин в каждом регионе\n",
    "    predicted_valid_top200[df.name] = predicted_valid[df.name].sort_values(ascending=False).head(200)\n",
    "    selected_indexes = predicted_valid_top200[df.name].index\n",
    "    target_valid_top200[df.name] = target_valid[df.name].loc[selected_indexes]\n",
    "    \n",
    "    predicted_valid_top200_mean = predicted_valid_top200[df.name].mean()\n",
    "    rmse_top200 = mean_squared_error(target_valid_top200[df.name], predicted_valid_top200[df.name]) ** 0.5\n",
    "    r2 = r2_score(target_valid[df.name], predicted_valid[df.name])\n",
    "    \n",
    "    print('                             Регион \"{}\"'.format(df.name))\n",
    "    print('Средний запас предсказанного сырья для топ-200 скважин:           {:.4f} тыс.'.\n",
    "          format(predicted_valid_top200_mean))\n",
    "    print('RMSE для топ-200 скважин:                                         {:.4f} тыс.'.\n",
    "          format(rmse_top200))\n",
    "    print('Коэффициент детерминации R2 (по всей валидационной выборке):      {:.2%}'.\n",
    "          format(r2)) \n",
    "    print('\\n')"
   ]
  },
  {
   "cell_type": "markdown",
   "metadata": {},
   "source": [
    "### Вывод\n",
    "Можно сделать вывод, что модели, обученные на датасетах geo_data_0 и geo_data_2, имеют слабую предсказательную способность, о чем свидетельствует низкое значение коэффициента детерминации (R2 = 27,99%, 20,52%).  \n",
    "\n",
    "Наименьшее количество среднего предсказанного сырья у региона geo_data_1. Но при этом этим модель, обученная на данных из этого региона, имеет наибольший коэффициент детерминации (R2 = 99.96%)."
   ]
  },
  {
   "cell_type": "markdown",
   "metadata": {},
   "source": [
    "# 3. Подготовка к расчету прибыли."
   ]
  },
  {
   "cell_type": "markdown",
   "metadata": {},
   "source": [
    "Сохраним все ключевые значения для расчётов в отдельных переменных."
   ]
  },
  {
   "cell_type": "code",
   "execution_count": 13,
   "metadata": {},
   "outputs": [],
   "source": [
    "number_of_points = 500 # Кол-во точек, исследуемых при разведке региона\n",
    "ml_number_of_points = 200 # Кол-во лучших точек, отбираемых с помощью машинного обучения для разработки\n",
    "total_costs = 10000000000 # Бюджет на разработку скважин в одном регионе 10 млрд. рублей\n",
    "revenue_per_oil_well = 450000 # Доход с каждой единицы продукта составляет 450 тыс. рублей\n",
    "loss_probability = 0.025 # Вероятность убытков меньше 2,5%"
   ]
  },
  {
   "cell_type": "markdown",
   "metadata": {},
   "source": [
    "Рассчитаем достаточный объём сырья для безубыточной разработки новой скважины."
   ]
  },
  {
   "cell_type": "code",
   "execution_count": 14,
   "metadata": {},
   "outputs": [
    {
     "name": "stdout",
     "output_type": "stream",
     "text": [
      "Необходимый объём сырья на одну скважину для безубыточной разработки новой скважины: 111.11 тыс. баррелей\n"
     ]
    }
   ],
   "source": [
    "loss_per_oil_well = total_costs / ml_number_of_points #Делим весь бюджет на кол-во разведываемых скважин\n",
    "necessary_product = loss_per_oil_well / revenue_per_oil_well\n",
    "print('Необходимый объём сырья на одну скважину для безубыточной разработки новой скважины: {:.2f} тыс. баррелей'.\n",
    "      format(necessary_product))"
   ]
  },
  {
   "cell_type": "markdown",
   "metadata": {},
   "source": [
    "Напишим функцию для расчёта прибыли по выбранным скважинам и предсказаниям модели."
   ]
  },
  {
   "cell_type": "code",
   "execution_count": 15,
   "metadata": {},
   "outputs": [],
   "source": [
    "def total_profit(data, region):\n",
    "    features = data.drop('product', axis=1)\n",
    "    targets = data['product']\n",
    "    predictions = model[region].predict(features)\n",
    "    predictions = pd.Series(predictions, index=features.index)\n",
    "    selected_oil_well = predictions.sort_values(ascending=False).head(200).index\n",
    "    revenue = targets.loc[selected_oil_well].sum() * revenue_per_oil_well\n",
    "    costs = total_costs\n",
    "    profit = revenue - costs\n",
    "    return profit"
   ]
  },
  {
   "cell_type": "markdown",
   "metadata": {},
   "source": [
    "### Вывод\n",
    "Среднее количество предсказанного сырья во всех трех регионах ( 155.51 тыс.барр., 138.73 тыс.барр., 148.01 тыс. барр.) выше необходимого объема для безубыточной разработки новой скважины (111.11 тыс. барр.) Наиболее высокое значение среднего объема сырья у региона geo_data_0."
   ]
  },
  {
   "cell_type": "markdown",
   "metadata": {},
   "source": [
    "# 4. Расчет прибыли и рисков."
   ]
  },
  {
   "cell_type": "markdown",
   "metadata": {},
   "source": [
    "Посчитаем риски и прибыль для каждого региона. Найдем распределение прибыли с помощью техники Bootstrap."
   ]
  },
  {
   "cell_type": "code",
   "execution_count": 16,
   "metadata": {},
   "outputs": [],
   "source": [
    "state = np.random.RandomState(12345)\n",
    "bootstrap_samples = 1000\n",
    "\n",
    "values = {}\n",
    "for df in dataframes:\n",
    "    values[df.name] = []\n",
    "\n",
    "for df in dataframes:\n",
    "    for i in range(bootstrap_samples):\n",
    "        subsample = df.sample(n=500, replace=False, random_state=state)\n",
    "        values[df.name].append(total_profit(data=subsample, region=df.name))\n",
    "    values[df.name] = pd.Series(values[df.name])"
   ]
  },
  {
   "cell_type": "markdown",
   "metadata": {},
   "source": [
    "Изучим распределение прибыли по каждому региону."
   ]
  },
  {
   "cell_type": "code",
   "execution_count": 17,
   "metadata": {},
   "outputs": [
    {
     "data": {
      "image/png": "[encoded data removed]",
      "text/plain": [
       "<Figure size 1800x360 with 3 Axes>"
      ]
     },
     "metadata": {
      "needs_background": "light"
     },
     "output_type": "display_data"
    }
   ],
   "source": [
    "fig = plt.figure(figsize=(25, 5))\n",
    "ttl = fig.suptitle('Распределение прибыли в каждом регионе', fontsize=25)\n",
    "ttl.set_position([.5, 1.05])\n",
    "\n",
    "rows = 1\n",
    "cols = 3\n",
    "counter = 1\n",
    "for df in dataframes:\n",
    "    ax = plt.subplot(rows, cols, counter)\n",
    "    plt.xlabel('Значение прибыли', fontsize=15)\n",
    "    plt.ylabel('Кол-во, шт.', fontsize=13)\n",
    "    ax.set_title(df.name, fontsize=20)\n",
    "    plt.hist(values[df.name], density=False, bins=50)\n",
    "    counter += 1\n",
    "plt.show()"
   ]
  },
  {
   "cell_type": "markdown",
   "metadata": {},
   "source": [
    "Рассчитаем размер средней прибыль для каждого региона."
   ]
  },
  {
   "cell_type": "code",
   "execution_count": 18,
   "metadata": {},
   "outputs": [
    {
     "name": "stdout",
     "output_type": "stream",
     "text": [
      "Средняя прибыль в регионе \"geo_data_0\": 334.90 млн. руб.\n",
      "Средняя прибыль в регионе \"geo_data_1\": 457.30 млн. руб.\n",
      "Средняя прибыль в регионе \"geo_data_2\": 355.97 млн. руб.\n"
     ]
    }
   ],
   "source": [
    "for df in dataframes:\n",
    "    profit_mean = values[df.name].mean() / 1000000 #прибыль в миллионах\n",
    "    print('Средняя прибыль в регионе \"{}\": {:.2f} млн. руб.'.format(df.name, profit_mean))"
   ]
  },
  {
   "cell_type": "markdown",
   "metadata": {},
   "source": [
    "Найдем 95%-й доверительный интервал, в котором находится средняя прибыль от разработки региона."
   ]
  },
  {
   "cell_type": "code",
   "execution_count": 19,
   "metadata": {},
   "outputs": [
    {
     "name": "stdout",
     "output_type": "stream",
     "text": [
      "Доверительный интервал для средней прибыли в регионе \"geo_data_0\": [-163.15, 829.37] (млрд. руб.)\n",
      "Доверительный интервал для средней прибыли в регионе \"geo_data_1\": [67.19, 858.06] (млрд. руб.)\n",
      "Доверительный интервал для средней прибыли в регионе \"geo_data_2\": [-167.11, 871.55] (млрд. руб.)\n"
     ]
    }
   ],
   "source": [
    "for df in dataframes:\n",
    "    lower = values[df.name].quantile(0.025) / 1000000\n",
    "    upper = values[df.name].quantile(0.975) / 1000000\n",
    "    print('Доверительный интервал для средней прибыли в регионе \"{}\": [{:.2f}, {:.2f}] (млрд. руб.)'.\n",
    "          format(df.name, lower, upper))"
   ]
  },
  {
   "cell_type": "markdown",
   "metadata": {},
   "source": [
    "Значение средней прибыли в регионе geo_data_0 и geo_data_2 очень сильно разбросаны, что делает их генеральные средние значения прибыли мало информативными. Также в указанных регионах есть существенный риск зафиксировать убыток."
   ]
  },
  {
   "cell_type": "markdown",
   "metadata": {},
   "source": [
    "Рассчиттаем вероятность зафиксировать убыток в каждом регионе."
   ]
  },
  {
   "cell_type": "code",
   "execution_count": 21,
   "metadata": {},
   "outputs": [
    {
     "name": "stdout",
     "output_type": "stream",
     "text": [
      "Вероятность зафиксировать убыток в регионе \"geo_data_0\": 11.90%\n",
      "Вероятность зафиксировать убыток в регионе \"geo_data_1\": 1.00%\n",
      "Вероятность зафиксировать убыток в регионе \"geo_data_2\": 10.60%\n"
     ]
    }
   ],
   "source": [
    "for df in dataframes:\n",
    "    count_loss = len(values[df.name][values[df.name] < 0])\n",
    "    loss_prob = count_loss / bootstrap_samples\n",
    "    print('Вероятность зафиксировать убыток в регионе \"{}\": {:.2%}'.format(df.name, loss_prob))"
   ]
  },
  {
   "cell_type": "markdown",
   "metadata": {},
   "source": [
    "\n",
    "\n",
    "\n",
    "### Вывод\n",
    "В соответствии с условиями проекта после оценки рисков необходимо оставить лишь те регионы, в которых вероятность убытков меньше 2.5%. Указанному условию удовлетворяет лишь один регион - geo_data_1.\n",
    "\n",
    "Таким образом для разработки месторождения может быть предложен единственный geo_data_1, в качестве  региона с самой низкой из рассчитанных вероятностью убытков и наибольшей из рассчитанных размером средней прибыли от разработки. В для оценки возможности разработки местророждений в других регионах необходима дополнительная информация. "
   ]
  }
 ],
 "metadata": {
  "ExecuteTimeLog": [
   {
    "duration": 1865,
    "start_time": "2022-03-17T07:17:56.192Z"
   },
   {
    "duration": 178,
    "start_time": "2022-03-17T07:17:58.951Z"
   },
   {
    "duration": 19,
    "start_time": "2022-03-17T07:18:35.199Z"
   },
   {
    "duration": 16,
    "start_time": "2022-03-17T07:22:56.054Z"
   },
   {
    "duration": 10,
    "start_time": "2022-03-17T07:25:48.890Z"
   },
   {
    "duration": 54,
    "start_time": "2022-03-17T07:31:55.135Z"
   },
   {
    "duration": 5,
    "start_time": "2022-03-17T07:33:23.520Z"
   },
   {
    "duration": 3,
    "start_time": "2022-03-17T07:34:04.145Z"
   },
   {
    "duration": 12,
    "start_time": "2022-03-17T07:34:42.939Z"
   },
   {
    "duration": 11,
    "start_time": "2022-03-17T07:35:16.993Z"
   },
   {
    "duration": 199,
    "start_time": "2022-03-17T07:35:48.363Z"
   },
   {
    "duration": 12,
    "start_time": "2022-03-17T07:36:27.889Z"
   },
   {
    "duration": 12,
    "start_time": "2022-03-17T07:37:35.567Z"
   },
   {
    "duration": 12,
    "start_time": "2022-03-17T07:39:09.741Z"
   },
   {
    "duration": 7,
    "start_time": "2022-03-17T07:40:17.695Z"
   },
   {
    "duration": 45,
    "start_time": "2022-03-17T07:41:40.371Z"
   },
   {
    "duration": 41,
    "start_time": "2022-03-17T07:42:36.379Z"
   },
   {
    "duration": 6,
    "start_time": "2022-03-17T07:43:20.271Z"
   },
   {
    "duration": 7,
    "start_time": "2022-03-17T07:45:39.978Z"
   },
   {
    "duration": 6,
    "start_time": "2022-03-17T07:46:21.409Z"
   },
   {
    "duration": 7,
    "start_time": "2022-03-17T07:46:31.630Z"
   },
   {
    "duration": 170,
    "start_time": "2022-03-17T07:46:47.270Z"
   },
   {
    "duration": 6,
    "start_time": "2022-03-17T07:47:06.616Z"
   },
   {
    "duration": 16,
    "start_time": "2022-03-17T07:48:23.204Z"
   },
   {
    "duration": 11,
    "start_time": "2022-03-17T07:49:20.315Z"
   },
   {
    "duration": 64,
    "start_time": "2022-03-17T07:50:15.603Z"
   },
   {
    "duration": 11,
    "start_time": "2022-03-17T07:51:30.192Z"
   },
   {
    "duration": 23,
    "start_time": "2022-03-17T07:52:10.086Z"
   },
   {
    "duration": 6,
    "start_time": "2022-03-17T07:52:51.805Z"
   },
   {
    "duration": 15,
    "start_time": "2022-03-17T07:59:05.502Z"
   },
   {
    "duration": 157,
    "start_time": "2022-03-17T07:59:38.755Z"
   },
   {
    "duration": 5,
    "start_time": "2022-03-17T08:00:06.289Z"
   },
   {
    "duration": 5,
    "start_time": "2022-03-17T08:00:46.037Z"
   },
   {
    "duration": 3,
    "start_time": "2022-03-17T08:00:48.455Z"
   },
   {
    "duration": 4,
    "start_time": "2022-03-17T08:01:27.977Z"
   },
   {
    "duration": 15,
    "start_time": "2022-03-17T08:02:10.087Z"
   },
   {
    "duration": 31,
    "start_time": "2022-03-17T08:07:56.334Z"
   },
   {
    "duration": 273,
    "start_time": "2022-03-17T08:09:54.614Z"
   },
   {
    "duration": 32,
    "start_time": "2022-03-17T08:11:16.377Z"
   },
   {
    "duration": 7,
    "start_time": "2022-03-17T08:12:35.753Z"
   },
   {
    "duration": 17,
    "start_time": "2022-03-17T08:13:19.004Z"
   },
   {
    "duration": 10,
    "start_time": "2022-03-17T08:14:09.248Z"
   },
   {
    "duration": 10,
    "start_time": "2022-03-17T08:15:52.929Z"
   },
   {
    "duration": 10,
    "start_time": "2022-03-17T08:17:04.318Z"
   },
   {
    "duration": 46,
    "start_time": "2022-03-18T05:21:40.595Z"
   },
   {
    "duration": 6,
    "start_time": "2022-03-18T05:21:48.363Z"
   },
   {
    "duration": 1243,
    "start_time": "2022-03-18T05:22:21.480Z"
   },
   {
    "duration": 110,
    "start_time": "2022-03-18T05:22:24.480Z"
   },
   {
    "duration": 14,
    "start_time": "2022-03-18T05:22:28.789Z"
   },
   {
    "duration": 13,
    "start_time": "2022-03-18T05:22:33.603Z"
   },
   {
    "duration": 9,
    "start_time": "2022-03-18T05:22:37.829Z"
   },
   {
    "duration": 48,
    "start_time": "2022-03-18T05:22:41.851Z"
   },
   {
    "duration": 3,
    "start_time": "2022-03-18T05:22:45.516Z"
   },
   {
    "duration": 3,
    "start_time": "2022-03-18T05:22:48.955Z"
   },
   {
    "duration": 6,
    "start_time": "2022-03-18T05:22:52.611Z"
   },
   {
    "duration": 9,
    "start_time": "2022-03-18T05:22:55.028Z"
   },
   {
    "duration": 10,
    "start_time": "2022-03-18T05:22:59.874Z"
   },
   {
    "duration": 8,
    "start_time": "2022-03-18T05:23:03.298Z"
   },
   {
    "duration": 6,
    "start_time": "2022-03-18T05:23:06.464Z"
   },
   {
    "duration": 34,
    "start_time": "2022-03-18T05:23:11.672Z"
   },
   {
    "duration": 27,
    "start_time": "2022-03-18T05:23:17.492Z"
   },
   {
    "duration": 5,
    "start_time": "2022-03-18T05:23:20.604Z"
   },
   {
    "duration": 5,
    "start_time": "2022-03-18T05:23:24.100Z"
   },
   {
    "duration": 4,
    "start_time": "2022-03-18T05:23:27.363Z"
   },
   {
    "duration": 6,
    "start_time": "2022-03-18T05:23:30.026Z"
   },
   {
    "duration": 15,
    "start_time": "2022-03-18T05:23:33.772Z"
   },
   {
    "duration": 9,
    "start_time": "2022-03-18T05:23:38.938Z"
   },
   {
    "duration": 53,
    "start_time": "2022-03-18T05:23:42.543Z"
   },
   {
    "duration": 8,
    "start_time": "2022-03-18T05:23:48.997Z"
   },
   {
    "duration": 18,
    "start_time": "2022-03-18T05:23:53.261Z"
   },
   {
    "duration": 5,
    "start_time": "2022-03-18T05:23:56.457Z"
   },
   {
    "duration": 16,
    "start_time": "2022-03-18T05:24:00.548Z"
   },
   {
    "duration": 4,
    "start_time": "2022-03-18T05:24:05.268Z"
   },
   {
    "duration": 4,
    "start_time": "2022-03-18T05:24:08.530Z"
   },
   {
    "duration": 3,
    "start_time": "2022-03-18T05:24:10.878Z"
   },
   {
    "duration": 13,
    "start_time": "2022-03-18T05:24:14.894Z"
   },
   {
    "duration": 26,
    "start_time": "2022-03-18T05:26:10.495Z"
   },
   {
    "duration": 207,
    "start_time": "2022-03-18T05:26:15.288Z"
   },
   {
    "duration": 30,
    "start_time": "2022-03-18T05:26:20.329Z"
   },
   {
    "duration": 5,
    "start_time": "2022-03-18T05:26:23.704Z"
   },
   {
    "duration": 11,
    "start_time": "2022-03-18T05:26:27.701Z"
   },
   {
    "duration": 9,
    "start_time": "2022-03-18T05:26:31.023Z"
   },
   {
    "duration": 8,
    "start_time": "2022-03-18T05:26:33.951Z"
   },
   {
    "duration": 9,
    "start_time": "2022-03-18T05:26:37.311Z"
   },
   {
    "duration": 14,
    "start_time": "2022-03-18T05:26:41.738Z"
   },
   {
    "duration": 724,
    "start_time": "2022-03-18T05:28:04.731Z"
   },
   {
    "duration": 11,
    "start_time": "2022-03-18T05:31:16.892Z"
   },
   {
    "duration": 107,
    "start_time": "2022-03-18T05:31:40.989Z"
   },
   {
    "duration": 174,
    "start_time": "2022-03-18T05:32:27.630Z"
   },
   {
    "duration": 9,
    "start_time": "2022-03-18T05:35:37.403Z"
   },
   {
    "duration": 11,
    "start_time": "2022-03-18T05:36:57.498Z"
   },
   {
    "duration": 9,
    "start_time": "2022-03-18T05:37:38.332Z"
   },
   {
    "duration": 9,
    "start_time": "2022-03-18T05:38:24.974Z"
   },
   {
    "duration": 15,
    "start_time": "2022-03-18T05:39:09.838Z"
   },
   {
    "duration": 1068,
    "start_time": "2022-03-18T05:40:04.624Z"
   },
   {
    "duration": 215,
    "start_time": "2022-03-18T05:41:54.683Z"
   },
   {
    "duration": 38,
    "start_time": "2022-03-18T08:09:42.538Z"
   },
   {
    "duration": 4076,
    "start_time": "2022-03-18T08:11:34.394Z"
   },
   {
    "duration": 4,
    "start_time": "2022-03-18T08:13:32.196Z"
   },
   {
    "duration": 798,
    "start_time": "2022-03-18T08:14:08.800Z"
   },
   {
    "duration": 8,
    "start_time": "2022-03-18T08:15:44.095Z"
   },
   {
    "duration": 136,
    "start_time": "2022-03-18T08:16:48.433Z"
   },
   {
    "duration": 4,
    "start_time": "2022-03-18T08:19:14.701Z"
   },
   {
    "duration": 1282,
    "start_time": "2022-03-18T08:19:58.212Z"
   },
   {
    "duration": 4,
    "start_time": "2022-03-18T08:21:19.102Z"
   },
   {
    "duration": 48,
    "start_time": "2022-03-18T08:22:01.327Z"
   },
   {
    "duration": 124,
    "start_time": "2022-03-18T08:22:33.551Z"
   },
   {
    "duration": 4,
    "start_time": "2022-03-18T08:24:49.794Z"
   },
   {
    "duration": 13,
    "start_time": "2022-03-18T08:25:55.940Z"
   },
   {
    "duration": 4,
    "start_time": "2022-03-18T08:26:46.156Z"
   },
   {
    "duration": 8,
    "start_time": "2022-03-18T08:27:28.221Z"
   },
   {
    "duration": 180,
    "start_time": "2022-03-18T08:28:18.923Z"
   },
   {
    "duration": 5,
    "start_time": "2022-03-18T08:32:33.474Z"
   },
   {
    "duration": 5,
    "start_time": "2022-03-18T08:33:17.028Z"
   },
   {
    "duration": 154,
    "start_time": "2022-03-18T08:34:46.732Z"
   },
   {
    "duration": 16,
    "start_time": "2022-03-18T08:48:49.772Z"
   },
   {
    "duration": 10,
    "start_time": "2022-03-18T08:50:43.392Z"
   },
   {
    "duration": 19,
    "start_time": "2022-03-18T08:52:02.617Z"
   },
   {
    "duration": 13,
    "start_time": "2022-03-18T08:53:14.799Z"
   },
   {
    "duration": 2278,
    "start_time": "2022-03-18T08:54:08.803Z"
   },
   {
    "duration": 262,
    "start_time": "2022-03-18T08:57:01.184Z"
   },
   {
    "duration": 5,
    "start_time": "2022-03-18T08:57:32.798Z"
   },
   {
    "duration": 6,
    "start_time": "2022-03-18T08:58:35.390Z"
   },
   {
    "duration": 115,
    "start_time": "2022-03-18T08:59:15.672Z"
   },
   {
    "duration": 6,
    "start_time": "2022-03-18T08:59:37.419Z"
   },
   {
    "duration": 114,
    "start_time": "2022-03-18T09:00:13.505Z"
   },
   {
    "duration": 6,
    "start_time": "2022-03-18T09:00:46.060Z"
   },
   {
    "duration": 4,
    "start_time": "2022-03-18T09:01:47.458Z"
   },
   {
    "duration": 2249,
    "start_time": "2022-03-18T09:02:29.197Z"
   },
   {
    "duration": 6,
    "start_time": "2022-03-18T09:59:51.286Z"
   },
   {
    "duration": 6,
    "start_time": "2022-03-18T10:01:48.030Z"
   },
   {
    "duration": 7,
    "start_time": "2022-03-18T10:02:57.752Z"
   },
   {
    "duration": 5,
    "start_time": "2022-03-18T10:03:54.882Z"
   },
   {
    "duration": 1106,
    "start_time": "2022-03-18T10:24:10.358Z"
   },
   {
    "duration": 109,
    "start_time": "2022-03-18T10:24:39.300Z"
   },
   {
    "duration": 15,
    "start_time": "2022-03-18T10:24:54.053Z"
   },
   {
    "duration": 15,
    "start_time": "2022-03-18T10:31:21.468Z"
   },
   {
    "duration": 10,
    "start_time": "2022-03-18T10:32:17.637Z"
   },
   {
    "duration": 51,
    "start_time": "2022-03-18T10:32:58.516Z"
   },
   {
    "duration": 4,
    "start_time": "2022-03-18T10:38:31.296Z"
   },
   {
    "duration": 3,
    "start_time": "2022-03-18T10:39:21.582Z"
   },
   {
    "duration": 7,
    "start_time": "2022-03-18T10:39:52.632Z"
   },
   {
    "duration": 9,
    "start_time": "2022-03-18T10:40:06.318Z"
   },
   {
    "duration": 10,
    "start_time": "2022-03-18T10:41:56.586Z"
   },
   {
    "duration": 9,
    "start_time": "2022-03-18T10:43:26.593Z"
   },
   {
    "duration": 5,
    "start_time": "2022-03-18T10:44:52.267Z"
   },
   {
    "duration": 98,
    "start_time": "2022-03-18T10:49:14.619Z"
   },
   {
    "duration": 18,
    "start_time": "2022-03-18T10:53:33.047Z"
   },
   {
    "duration": 31,
    "start_time": "2022-03-18T10:54:36.345Z"
   },
   {
    "duration": 36,
    "start_time": "2022-03-18T10:56:54.026Z"
   },
   {
    "duration": 11,
    "start_time": "2022-03-18T10:57:02.651Z"
   },
   {
    "duration": 5,
    "start_time": "2022-03-18T10:57:11.952Z"
   },
   {
    "duration": 6,
    "start_time": "2022-03-18T10:59:25.286Z"
   },
   {
    "duration": 10,
    "start_time": "2022-03-18T10:59:46.021Z"
   },
   {
    "duration": 6,
    "start_time": "2022-03-18T10:59:58.149Z"
   },
   {
    "duration": 6,
    "start_time": "2022-03-18T11:00:06.404Z"
   },
   {
    "duration": 15,
    "start_time": "2022-03-18T11:00:29.956Z"
   },
   {
    "duration": 10,
    "start_time": "2022-03-18T11:01:14.129Z"
   },
   {
    "duration": 8,
    "start_time": "2022-03-18T11:01:40.313Z"
   },
   {
    "duration": 63,
    "start_time": "2022-03-18T11:01:49.925Z"
   },
   {
    "duration": 9,
    "start_time": "2022-03-18T11:03:20.072Z"
   },
   {
    "duration": 19,
    "start_time": "2022-03-18T11:04:34.803Z"
   },
   {
    "duration": 5,
    "start_time": "2022-03-18T11:04:44.947Z"
   },
   {
    "duration": 14,
    "start_time": "2022-03-18T11:10:42.943Z"
   },
   {
    "duration": 4,
    "start_time": "2022-03-18T11:11:04.939Z"
   },
   {
    "duration": 5,
    "start_time": "2022-03-18T11:11:25.550Z"
   },
   {
    "duration": 4,
    "start_time": "2022-03-18T11:11:57.997Z"
   },
   {
    "duration": 4,
    "start_time": "2022-03-18T11:12:25.007Z"
   },
   {
    "duration": 14,
    "start_time": "2022-03-18T11:12:42.135Z"
   },
   {
    "duration": 9,
    "start_time": "2022-03-18T11:14:45.956Z"
   },
   {
    "duration": 28,
    "start_time": "2022-03-18T11:15:01.371Z"
   },
   {
    "duration": 215,
    "start_time": "2022-03-18T11:16:53.694Z"
   },
   {
    "duration": 28,
    "start_time": "2022-03-18T11:18:01.398Z"
   },
   {
    "duration": 5,
    "start_time": "2022-03-18T11:18:26.293Z"
   },
   {
    "duration": 12,
    "start_time": "2022-03-18T11:19:30.989Z"
   },
   {
    "duration": 9,
    "start_time": "2022-03-18T11:20:29.473Z"
   },
   {
    "duration": 9,
    "start_time": "2022-03-18T11:21:08.010Z"
   },
   {
    "duration": 9,
    "start_time": "2022-03-18T11:21:22.240Z"
   },
   {
    "duration": 10,
    "start_time": "2022-03-18T11:22:05.370Z"
   },
   {
    "duration": 16,
    "start_time": "2022-03-18T11:22:42.123Z"
   },
   {
    "duration": 17,
    "start_time": "2022-03-18T12:13:27.646Z"
   },
   {
    "duration": 791,
    "start_time": "2022-03-18T12:16:03.612Z"
   },
   {
    "duration": 12,
    "start_time": "2022-03-18T12:24:09.304Z"
   },
   {
    "duration": 14,
    "start_time": "2022-03-18T12:24:24.138Z"
   },
   {
    "duration": 217,
    "start_time": "2022-03-18T12:25:18.063Z"
   },
   {
    "duration": 11,
    "start_time": "2022-03-18T12:27:14.885Z"
   },
   {
    "duration": 11,
    "start_time": "2022-03-18T12:28:16.710Z"
   },
   {
    "duration": 9,
    "start_time": "2022-03-18T12:28:54.982Z"
   },
   {
    "duration": 9,
    "start_time": "2022-03-18T12:29:35.197Z"
   },
   {
    "duration": 17,
    "start_time": "2022-03-18T12:31:03.532Z"
   },
   {
    "duration": 1197,
    "start_time": "2022-03-18T12:31:29.076Z"
   },
   {
    "duration": 228,
    "start_time": "2022-03-18T12:36:53.692Z"
   },
   {
    "duration": 37,
    "start_time": "2022-03-18T12:40:38.558Z"
   },
   {
    "duration": 4190,
    "start_time": "2022-03-18T12:40:45.996Z"
   },
   {
    "duration": 4,
    "start_time": "2022-03-18T12:41:47.813Z"
   },
   {
    "duration": 8,
    "start_time": "2022-03-18T12:42:34.602Z"
   },
   {
    "duration": 245,
    "start_time": "2022-03-18T12:42:40.126Z"
   },
   {
    "duration": 5,
    "start_time": "2022-03-18T12:43:00.421Z"
   },
   {
    "duration": 1177,
    "start_time": "2022-03-18T12:43:17.253Z"
   },
   {
    "duration": 4,
    "start_time": "2022-03-18T12:45:41.466Z"
   },
   {
    "duration": 47,
    "start_time": "2022-03-18T12:45:55.920Z"
   },
   {
    "duration": 127,
    "start_time": "2022-03-18T12:46:00.320Z"
   },
   {
    "duration": 5,
    "start_time": "2022-03-18T12:47:00.218Z"
   },
   {
    "duration": 13,
    "start_time": "2022-03-18T12:47:09.696Z"
   },
   {
    "duration": 5,
    "start_time": "2022-03-18T12:47:16.065Z"
   },
   {
    "duration": 8,
    "start_time": "2022-03-18T12:47:24.198Z"
   },
   {
    "duration": 175,
    "start_time": "2022-03-18T12:47:41.440Z"
   },
   {
    "duration": 6,
    "start_time": "2022-03-18T12:48:32.803Z"
   },
   {
    "duration": 27,
    "start_time": "2022-03-18T12:53:58.653Z"
   },
   {
    "duration": 42,
    "start_time": "2022-03-18T12:57:14.848Z"
   },
   {
    "duration": 36,
    "start_time": "2022-03-18T12:59:21.971Z"
   },
   {
    "duration": 18,
    "start_time": "2022-03-18T13:00:13.841Z"
   },
   {
    "duration": 114,
    "start_time": "2022-03-18T13:01:28.553Z"
   },
   {
    "duration": 124,
    "start_time": "2022-03-18T13:01:37.682Z"
   },
   {
    "duration": 126,
    "start_time": "2022-03-18T13:02:02.365Z"
   },
   {
    "duration": 48,
    "start_time": "2022-03-18T13:02:11.010Z"
   },
   {
    "duration": 141,
    "start_time": "2022-03-18T13:02:56.202Z"
   },
   {
    "duration": 18,
    "start_time": "2022-03-18T13:05:31.892Z"
   },
   {
    "duration": 6,
    "start_time": "2022-03-18T13:06:35.333Z"
   },
   {
    "duration": 6,
    "start_time": "2022-03-18T13:06:42.451Z"
   },
   {
    "duration": 270,
    "start_time": "2022-03-18T13:06:47.657Z"
   },
   {
    "duration": 26,
    "start_time": "2022-03-18T13:07:46.532Z"
   },
   {
    "duration": 26,
    "start_time": "2022-03-18T13:08:49.050Z"
   },
   {
    "duration": 144,
    "start_time": "2022-03-18T13:09:06.226Z"
   },
   {
    "duration": 19,
    "start_time": "2022-03-18T13:10:15.108Z"
   },
   {
    "duration": 9,
    "start_time": "2022-03-18T13:10:35.933Z"
   },
   {
    "duration": 24,
    "start_time": "2022-03-18T13:11:34.212Z"
   },
   {
    "duration": 22,
    "start_time": "2022-03-18T13:11:50.052Z"
   },
   {
    "duration": 12,
    "start_time": "2022-03-18T13:12:58.169Z"
   },
   {
    "duration": 2267,
    "start_time": "2022-03-18T13:13:08.038Z"
   },
   {
    "duration": 262,
    "start_time": "2022-03-18T13:13:26.021Z"
   },
   {
    "duration": 7,
    "start_time": "2022-03-18T13:14:44.047Z"
   },
   {
    "duration": 7,
    "start_time": "2022-03-18T13:14:50.891Z"
   },
   {
    "duration": 6,
    "start_time": "2022-03-18T13:15:11.601Z"
   },
   {
    "duration": 6,
    "start_time": "2022-03-18T13:15:17.126Z"
   },
   {
    "duration": 4,
    "start_time": "2022-03-18T13:16:02.081Z"
   },
   {
    "duration": 2238,
    "start_time": "2022-03-18T13:16:07.465Z"
   },
   {
    "duration": 6,
    "start_time": "2022-03-18T13:16:20.384Z"
   },
   {
    "duration": 6,
    "start_time": "2022-03-18T13:16:24.952Z"
   },
   {
    "duration": 5,
    "start_time": "2022-03-18T13:16:32.818Z"
   },
   {
    "duration": 6,
    "start_time": "2022-03-18T13:16:36.991Z"
   },
   {
    "duration": 1517,
    "start_time": "2022-03-29T10:08:46.485Z"
   },
   {
    "duration": 159,
    "start_time": "2022-03-29T10:08:48.005Z"
   },
   {
    "duration": 22,
    "start_time": "2022-03-29T10:08:48.167Z"
   },
   {
    "duration": 20,
    "start_time": "2022-03-29T10:08:48.192Z"
   },
   {
    "duration": 11,
    "start_time": "2022-03-29T10:08:48.214Z"
   },
   {
    "duration": 80,
    "start_time": "2022-03-29T10:08:48.228Z"
   },
   {
    "duration": 5,
    "start_time": "2022-03-29T10:08:48.310Z"
   },
   {
    "duration": 5,
    "start_time": "2022-03-29T10:08:48.317Z"
   },
   {
    "duration": 9,
    "start_time": "2022-03-29T10:08:48.324Z"
   },
   {
    "duration": 11,
    "start_time": "2022-03-29T10:08:48.337Z"
   },
   {
    "duration": 18,
    "start_time": "2022-03-29T10:08:48.350Z"
   },
   {
    "duration": 16,
    "start_time": "2022-03-29T10:08:48.371Z"
   },
   {
    "duration": 9,
    "start_time": "2022-03-29T10:08:48.389Z"
   },
   {
    "duration": 47,
    "start_time": "2022-03-29T10:08:48.400Z"
   },
   {
    "duration": 55,
    "start_time": "2022-03-29T10:08:48.449Z"
   },
   {
    "duration": 6,
    "start_time": "2022-03-29T10:08:48.506Z"
   },
   {
    "duration": 7,
    "start_time": "2022-03-29T10:08:48.515Z"
   },
   {
    "duration": 6,
    "start_time": "2022-03-29T10:08:48.524Z"
   },
   {
    "duration": 7,
    "start_time": "2022-03-29T10:08:48.568Z"
   },
   {
    "duration": 21,
    "start_time": "2022-03-29T10:08:48.577Z"
   },
   {
    "duration": 11,
    "start_time": "2022-03-29T10:08:48.600Z"
   },
   {
    "duration": 77,
    "start_time": "2022-03-29T10:08:48.668Z"
   },
   {
    "duration": 29,
    "start_time": "2022-03-29T10:08:48.747Z"
   },
   {
    "duration": 28,
    "start_time": "2022-03-29T10:08:48.778Z"
   },
   {
    "duration": 6,
    "start_time": "2022-03-29T10:08:48.808Z"
   },
   {
    "duration": 21,
    "start_time": "2022-03-29T10:08:48.868Z"
   },
   {
    "duration": 6,
    "start_time": "2022-03-29T10:08:48.891Z"
   },
   {
    "duration": 6,
    "start_time": "2022-03-29T10:08:48.903Z"
   },
   {
    "duration": 5,
    "start_time": "2022-03-29T10:08:48.912Z"
   },
   {
    "duration": 20,
    "start_time": "2022-03-29T10:08:48.969Z"
   },
   {
    "duration": 42,
    "start_time": "2022-03-29T10:08:48.991Z"
   },
   {
    "duration": 544,
    "start_time": "2022-03-29T10:08:49.035Z"
   },
   {
    "duration": 43,
    "start_time": "2022-03-29T10:08:49.582Z"
   },
   {
    "duration": 7,
    "start_time": "2022-03-29T10:08:49.628Z"
   },
   {
    "duration": 14,
    "start_time": "2022-03-29T10:08:49.667Z"
   },
   {
    "duration": 11,
    "start_time": "2022-03-29T10:08:49.684Z"
   },
   {
    "duration": 11,
    "start_time": "2022-03-29T10:08:49.697Z"
   },
   {
    "duration": 10,
    "start_time": "2022-03-29T10:08:49.711Z"
   },
   {
    "duration": 63,
    "start_time": "2022-03-29T10:08:49.724Z"
   },
   {
    "duration": 1215,
    "start_time": "2022-03-29T10:08:49.789Z"
   },
   {
    "duration": 13,
    "start_time": "2022-03-29T10:08:51.007Z"
   },
   {
    "duration": 340,
    "start_time": "2022-03-29T10:08:51.022Z"
   },
   {
    "duration": 13,
    "start_time": "2022-03-29T10:08:51.367Z"
   },
   {
    "duration": 16,
    "start_time": "2022-03-29T10:08:51.382Z"
   },
   {
    "duration": 13,
    "start_time": "2022-03-29T10:08:51.401Z"
   },
   {
    "duration": 11,
    "start_time": "2022-03-29T10:08:51.417Z"
   },
   {
    "duration": 59,
    "start_time": "2022-03-29T10:08:51.430Z"
   },
   {
    "duration": 1773,
    "start_time": "2022-03-29T10:08:51.491Z"
   },
   {
    "duration": 590,
    "start_time": "2022-03-29T10:08:53.266Z"
   },
   {
    "duration": 66,
    "start_time": "2022-03-29T10:08:53.858Z"
   },
   {
    "duration": 6682,
    "start_time": "2022-03-29T10:08:53.926Z"
   },
   {
    "duration": 5,
    "start_time": "2022-03-29T10:09:00.611Z"
   },
   {
    "duration": 1352,
    "start_time": "2022-03-29T10:09:00.619Z"
   },
   {
    "duration": 11,
    "start_time": "2022-03-29T10:09:01.974Z"
   },
   {
    "duration": 253,
    "start_time": "2022-03-29T10:09:01.988Z"
   },
   {
    "duration": 6,
    "start_time": "2022-03-29T10:09:02.244Z"
   },
   {
    "duration": 2200,
    "start_time": "2022-03-29T10:09:02.268Z"
   },
   {
    "duration": 5,
    "start_time": "2022-03-29T10:09:04.471Z"
   },
   {
    "duration": 94,
    "start_time": "2022-03-29T10:09:04.478Z"
   },
   {
    "duration": 213,
    "start_time": "2022-03-29T10:09:04.575Z"
   },
   {
    "duration": 6,
    "start_time": "2022-03-29T10:09:04.791Z"
   },
   {
    "duration": 25,
    "start_time": "2022-03-29T10:09:04.800Z"
   },
   {
    "duration": 6,
    "start_time": "2022-03-29T10:09:04.828Z"
   },
   {
    "duration": 34,
    "start_time": "2022-03-29T10:09:04.837Z"
   },
   {
    "duration": 296,
    "start_time": "2022-03-29T10:09:04.874Z"
   },
   {
    "duration": 7,
    "start_time": "2022-03-29T10:09:05.173Z"
   },
   {
    "duration": 42,
    "start_time": "2022-03-29T10:09:05.182Z"
   },
   {
    "duration": 243,
    "start_time": "2022-03-29T10:09:05.227Z"
   },
   {
    "duration": 37,
    "start_time": "2022-03-29T10:09:05.472Z"
   },
   {
    "duration": 56,
    "start_time": "2022-03-29T10:09:05.511Z"
   },
   {
    "duration": 18,
    "start_time": "2022-03-29T10:09:05.570Z"
   },
   {
    "duration": 3586,
    "start_time": "2022-03-29T10:09:05.591Z"
   },
   {
    "duration": 416,
    "start_time": "2022-03-29T10:09:09.180Z"
   },
   {
    "duration": 10,
    "start_time": "2022-03-29T10:09:09.599Z"
   },
   {
    "duration": 9,
    "start_time": "2022-03-29T10:09:09.611Z"
   },
   {
    "duration": 48,
    "start_time": "2022-03-29T10:09:09.623Z"
   },
   {
    "duration": 10,
    "start_time": "2022-03-29T10:09:09.673Z"
   },
   {
    "duration": 7,
    "start_time": "2022-03-29T10:09:09.685Z"
   },
   {
    "duration": 3719,
    "start_time": "2022-03-29T10:09:09.694Z"
   },
   {
    "duration": 9,
    "start_time": "2022-03-29T10:09:13.415Z"
   },
   {
    "duration": 42,
    "start_time": "2022-03-29T10:09:13.426Z"
   },
   {
    "duration": 8,
    "start_time": "2022-03-29T10:09:13.478Z"
   },
   {
    "duration": 12,
    "start_time": "2022-03-29T10:09:13.489Z"
   },
   {
    "duration": 80,
    "start_time": "2022-03-29T10:26:17.185Z"
   },
   {
    "duration": 5,
    "start_time": "2022-03-29T10:31:30.423Z"
   },
   {
    "duration": 184,
    "start_time": "2022-03-29T10:31:30.431Z"
   },
   {
    "duration": 20,
    "start_time": "2022-03-29T10:31:30.617Z"
   },
   {
    "duration": 20,
    "start_time": "2022-03-29T10:31:30.670Z"
   },
   {
    "duration": 25,
    "start_time": "2022-03-29T10:31:30.692Z"
   },
   {
    "duration": 13,
    "start_time": "2022-03-29T10:31:30.719Z"
   },
   {
    "duration": 67,
    "start_time": "2022-03-29T10:31:30.769Z"
   },
   {
    "duration": 5,
    "start_time": "2022-03-29T10:31:30.838Z"
   },
   {
    "duration": 4,
    "start_time": "2022-03-29T10:31:30.870Z"
   },
   {
    "duration": 15,
    "start_time": "2022-03-29T10:31:30.876Z"
   },
   {
    "duration": 13,
    "start_time": "2022-03-29T10:31:30.893Z"
   },
   {
    "duration": 11,
    "start_time": "2022-03-29T10:31:30.908Z"
   },
   {
    "duration": 18,
    "start_time": "2022-03-29T10:31:30.922Z"
   },
   {
    "duration": 9,
    "start_time": "2022-03-29T10:31:30.967Z"
   },
   {
    "duration": 50,
    "start_time": "2022-03-29T10:31:30.978Z"
   },
   {
    "duration": 72,
    "start_time": "2022-03-29T10:31:31.031Z"
   },
   {
    "duration": 7,
    "start_time": "2022-03-29T10:31:31.106Z"
   },
   {
    "duration": 17,
    "start_time": "2022-03-29T10:31:31.115Z"
   },
   {
    "duration": 7,
    "start_time": "2022-03-29T10:31:31.135Z"
   },
   {
    "duration": 30,
    "start_time": "2022-03-29T10:31:31.145Z"
   },
   {
    "duration": 27,
    "start_time": "2022-03-29T10:31:31.177Z"
   },
   {
    "duration": 12,
    "start_time": "2022-03-29T10:31:31.206Z"
   },
   {
    "duration": 96,
    "start_time": "2022-03-29T10:31:31.221Z"
   },
   {
    "duration": 12,
    "start_time": "2022-03-29T10:31:31.323Z"
   },
   {
    "duration": 51,
    "start_time": "2022-03-29T10:31:31.337Z"
   },
   {
    "duration": 6,
    "start_time": "2022-03-29T10:31:31.390Z"
   },
   {
    "duration": 30,
    "start_time": "2022-03-29T10:31:31.398Z"
   },
   {
    "duration": 6,
    "start_time": "2022-03-29T10:31:31.431Z"
   },
   {
    "duration": 32,
    "start_time": "2022-03-29T10:31:31.439Z"
   },
   {
    "duration": 11,
    "start_time": "2022-03-29T10:31:31.474Z"
   },
   {
    "duration": 21,
    "start_time": "2022-03-29T10:31:31.487Z"
   },
   {
    "duration": 93,
    "start_time": "2022-03-29T10:31:31.510Z"
   },
   {
    "duration": 706,
    "start_time": "2022-03-29T10:31:31.606Z"
   },
   {
    "duration": 153,
    "start_time": "2022-03-29T10:31:32.314Z"
   },
   {
    "duration": 8,
    "start_time": "2022-03-29T10:31:32.469Z"
   },
   {
    "duration": 14,
    "start_time": "2022-03-29T10:31:32.479Z"
   },
   {
    "duration": 12,
    "start_time": "2022-03-29T10:31:32.495Z"
   },
   {
    "duration": 66,
    "start_time": "2022-03-29T10:31:32.509Z"
   },
   {
    "duration": 11,
    "start_time": "2022-03-29T10:31:32.577Z"
   },
   {
    "duration": 23,
    "start_time": "2022-03-29T10:31:32.590Z"
   },
   {
    "duration": 3016,
    "start_time": "2022-03-29T10:31:32.669Z"
   },
   {
    "duration": 12,
    "start_time": "2022-03-29T10:31:35.687Z"
   },
   {
    "duration": 285,
    "start_time": "2022-03-29T10:31:35.701Z"
   },
   {
    "duration": 13,
    "start_time": "2022-03-29T10:31:35.988Z"
   },
   {
    "duration": 13,
    "start_time": "2022-03-29T10:31:36.003Z"
   },
   {
    "duration": 12,
    "start_time": "2022-03-29T10:31:36.019Z"
   },
   {
    "duration": 12,
    "start_time": "2022-03-29T10:31:36.033Z"
   },
   {
    "duration": 35,
    "start_time": "2022-03-29T10:31:36.047Z"
   },
   {
    "duration": 3407,
    "start_time": "2022-03-29T10:31:36.084Z"
   },
   {
    "duration": 777,
    "start_time": "2022-03-29T10:31:39.493Z"
   },
   {
    "duration": 112,
    "start_time": "2022-03-29T10:31:40.272Z"
   },
   {
    "duration": 7081,
    "start_time": "2022-03-29T10:31:40.386Z"
   },
   {
    "duration": 6,
    "start_time": "2022-03-29T10:31:47.469Z"
   },
   {
    "duration": 1212,
    "start_time": "2022-03-29T10:31:47.477Z"
   },
   {
    "duration": 12,
    "start_time": "2022-03-29T10:31:48.691Z"
   },
   {
    "duration": 243,
    "start_time": "2022-03-29T10:31:48.706Z"
   },
   {
    "duration": 16,
    "start_time": "2022-03-29T10:31:48.952Z"
   },
   {
    "duration": 2184,
    "start_time": "2022-03-29T10:31:48.971Z"
   },
   {
    "duration": 6,
    "start_time": "2022-03-29T10:31:51.169Z"
   },
   {
    "duration": 101,
    "start_time": "2022-03-29T10:31:51.177Z"
   },
   {
    "duration": 211,
    "start_time": "2022-03-29T10:31:51.280Z"
   },
   {
    "duration": 7,
    "start_time": "2022-03-29T10:31:51.493Z"
   },
   {
    "duration": 22,
    "start_time": "2022-03-29T10:31:51.501Z"
   },
   {
    "duration": 6,
    "start_time": "2022-03-29T10:31:51.525Z"
   },
   {
    "duration": 40,
    "start_time": "2022-03-29T10:31:51.533Z"
   },
   {
    "duration": 284,
    "start_time": "2022-03-29T10:31:51.575Z"
   },
   {
    "duration": 12,
    "start_time": "2022-03-29T10:31:51.861Z"
   },
   {
    "duration": 41,
    "start_time": "2022-03-29T10:31:51.876Z"
   },
   {
    "duration": 249,
    "start_time": "2022-03-29T10:31:51.928Z"
   },
   {
    "duration": 37,
    "start_time": "2022-03-29T10:31:52.179Z"
   },
   {
    "duration": 27,
    "start_time": "2022-03-29T10:31:52.218Z"
   },
   {
    "duration": 17,
    "start_time": "2022-03-29T10:31:52.268Z"
   },
   {
    "duration": 3321,
    "start_time": "2022-03-29T10:31:52.287Z"
   },
   {
    "duration": 424,
    "start_time": "2022-03-29T10:31:55.610Z"
   },
   {
    "duration": 7,
    "start_time": "2022-03-29T10:31:56.037Z"
   },
   {
    "duration": 21,
    "start_time": "2022-03-29T10:31:56.046Z"
   },
   {
    "duration": 8,
    "start_time": "2022-03-29T10:31:56.069Z"
   },
   {
    "duration": 9,
    "start_time": "2022-03-29T10:31:56.079Z"
   },
   {
    "duration": 8,
    "start_time": "2022-03-29T10:31:56.090Z"
   },
   {
    "duration": 3727,
    "start_time": "2022-03-29T10:31:56.101Z"
   },
   {
    "duration": 9,
    "start_time": "2022-03-29T10:31:59.830Z"
   },
   {
    "duration": 30,
    "start_time": "2022-03-29T10:31:59.841Z"
   },
   {
    "duration": 10,
    "start_time": "2022-03-29T10:31:59.873Z"
   },
   {
    "duration": 9,
    "start_time": "2022-03-29T10:31:59.885Z"
   },
   {
    "duration": 48,
    "start_time": "2022-03-29T12:05:38.804Z"
   },
   {
    "duration": 1190,
    "start_time": "2022-03-29T12:05:41.751Z"
   },
   {
    "duration": 105,
    "start_time": "2022-03-29T12:05:42.943Z"
   },
   {
    "duration": 22,
    "start_time": "2022-03-29T12:05:43.050Z"
   },
   {
    "duration": 12,
    "start_time": "2022-03-29T12:05:43.074Z"
   },
   {
    "duration": 52,
    "start_time": "2022-03-29T12:05:43.088Z"
   },
   {
    "duration": 26,
    "start_time": "2022-03-29T12:05:43.141Z"
   },
   {
    "duration": 48,
    "start_time": "2022-03-29T12:05:43.169Z"
   },
   {
    "duration": 4,
    "start_time": "2022-03-29T12:05:43.219Z"
   },
   {
    "duration": 6,
    "start_time": "2022-03-29T12:05:43.224Z"
   },
   {
    "duration": 30,
    "start_time": "2022-03-29T12:05:43.233Z"
   },
   {
    "duration": 10,
    "start_time": "2022-03-29T12:05:43.264Z"
   },
   {
    "duration": 8,
    "start_time": "2022-03-29T12:05:43.276Z"
   },
   {
    "duration": 7,
    "start_time": "2022-03-29T12:05:43.286Z"
   },
   {
    "duration": 5,
    "start_time": "2022-03-29T12:05:43.294Z"
   },
   {
    "duration": 30,
    "start_time": "2022-03-29T12:05:43.300Z"
   },
   {
    "duration": 26,
    "start_time": "2022-03-29T12:05:43.364Z"
   },
   {
    "duration": 5,
    "start_time": "2022-03-29T12:05:43.392Z"
   },
   {
    "duration": 6,
    "start_time": "2022-03-29T12:05:43.398Z"
   },
   {
    "duration": 6,
    "start_time": "2022-03-29T12:05:43.406Z"
   },
   {
    "duration": 10,
    "start_time": "2022-03-29T12:05:43.414Z"
   },
   {
    "duration": 40,
    "start_time": "2022-03-29T12:05:43.426Z"
   },
   {
    "duration": 9,
    "start_time": "2022-03-29T12:05:43.468Z"
   },
   {
    "duration": 49,
    "start_time": "2022-03-29T12:05:43.479Z"
   },
   {
    "duration": 34,
    "start_time": "2022-03-29T12:05:43.530Z"
   },
   {
    "duration": 19,
    "start_time": "2022-03-29T12:05:43.566Z"
   },
   {
    "duration": 5,
    "start_time": "2022-03-29T12:05:43.586Z"
   },
   {
    "duration": 14,
    "start_time": "2022-03-29T12:05:43.593Z"
   },
   {
    "duration": 4,
    "start_time": "2022-03-29T12:05:43.611Z"
   },
   {
    "duration": 8,
    "start_time": "2022-03-29T12:05:43.616Z"
   },
   {
    "duration": 6,
    "start_time": "2022-03-29T12:05:43.626Z"
   },
   {
    "duration": 41,
    "start_time": "2022-03-29T12:05:43.633Z"
   },
   {
    "duration": 26,
    "start_time": "2022-03-29T12:05:43.675Z"
   },
   {
    "duration": 225,
    "start_time": "2022-03-29T12:05:43.702Z"
   },
   {
    "duration": 35,
    "start_time": "2022-03-29T12:05:43.928Z"
   },
   {
    "duration": 6,
    "start_time": "2022-03-29T12:05:43.964Z"
   },
   {
    "duration": 21,
    "start_time": "2022-03-29T12:05:43.971Z"
   },
   {
    "duration": 11,
    "start_time": "2022-03-29T12:05:43.994Z"
   },
   {
    "duration": 56,
    "start_time": "2022-03-29T12:05:44.007Z"
   },
   {
    "duration": 11,
    "start_time": "2022-03-29T12:05:44.065Z"
   },
   {
    "duration": 21,
    "start_time": "2022-03-29T12:05:44.077Z"
   },
   {
    "duration": 2194,
    "start_time": "2022-03-29T12:05:44.100Z"
   },
   {
    "duration": 12,
    "start_time": "2022-03-29T12:05:46.296Z"
   },
   {
    "duration": 348,
    "start_time": "2022-03-29T12:05:46.364Z"
   },
   {
    "duration": 11,
    "start_time": "2022-03-29T12:05:46.713Z"
   },
   {
    "duration": 11,
    "start_time": "2022-03-29T12:05:46.725Z"
   },
   {
    "duration": 8,
    "start_time": "2022-03-29T12:05:46.737Z"
   },
   {
    "duration": 9,
    "start_time": "2022-03-29T12:05:46.763Z"
   },
   {
    "duration": 19,
    "start_time": "2022-03-29T12:05:46.773Z"
   },
   {
    "duration": 18,
    "start_time": "2022-03-29T12:05:46.794Z"
   },
   {
    "duration": 1051,
    "start_time": "2022-03-29T12:05:46.814Z"
   },
   {
    "duration": 214,
    "start_time": "2022-03-29T12:05:47.866Z"
   },
   {
    "duration": 36,
    "start_time": "2022-03-29T12:05:48.081Z"
   },
   {
    "duration": 3769,
    "start_time": "2022-03-29T12:05:48.119Z"
   },
   {
    "duration": 4,
    "start_time": "2022-03-29T12:05:51.889Z"
   },
   {
    "duration": 652,
    "start_time": "2022-03-29T12:05:51.894Z"
   },
   {
    "duration": 20,
    "start_time": "2022-03-29T12:05:52.548Z"
   },
   {
    "duration": 140,
    "start_time": "2022-03-29T12:05:52.569Z"
   },
   {
    "duration": 4,
    "start_time": "2022-03-29T12:05:52.711Z"
   },
   {
    "duration": 1236,
    "start_time": "2022-03-29T12:05:52.717Z"
   },
   {
    "duration": 3,
    "start_time": "2022-03-29T12:05:53.963Z"
   },
   {
    "duration": 46,
    "start_time": "2022-03-29T12:05:53.967Z"
   },
   {
    "duration": 125,
    "start_time": "2022-03-29T12:05:54.015Z"
   },
   {
    "duration": 5,
    "start_time": "2022-03-29T12:05:54.141Z"
   },
   {
    "duration": 24,
    "start_time": "2022-03-29T12:05:54.148Z"
   },
   {
    "duration": 4,
    "start_time": "2022-03-29T12:05:54.174Z"
   },
   {
    "duration": 12,
    "start_time": "2022-03-29T12:05:54.180Z"
   },
   {
    "duration": 172,
    "start_time": "2022-03-29T12:05:54.193Z"
   },
   {
    "duration": 5,
    "start_time": "2022-03-29T12:05:54.367Z"
   },
   {
    "duration": 30,
    "start_time": "2022-03-29T12:05:54.373Z"
   },
   {
    "duration": 134,
    "start_time": "2022-03-29T12:05:54.404Z"
   },
   {
    "duration": 32,
    "start_time": "2022-03-29T12:05:54.539Z"
   },
   {
    "duration": 17,
    "start_time": "2022-03-29T12:05:54.572Z"
   },
   {
    "duration": 9,
    "start_time": "2022-03-29T12:05:54.591Z"
   },
   {
    "duration": 2056,
    "start_time": "2022-03-29T12:05:54.602Z"
   },
   {
    "duration": 250,
    "start_time": "2022-03-29T12:05:56.662Z"
   },
   {
    "duration": 6,
    "start_time": "2022-03-29T12:05:56.914Z"
   },
   {
    "duration": 9,
    "start_time": "2022-03-29T12:05:56.921Z"
   },
   {
    "duration": 6,
    "start_time": "2022-03-29T12:05:56.931Z"
   },
   {
    "duration": 25,
    "start_time": "2022-03-29T12:05:56.939Z"
   },
   {
    "duration": 4,
    "start_time": "2022-03-29T12:05:56.966Z"
   },
   {
    "duration": 2099,
    "start_time": "2022-03-29T12:05:56.971Z"
   },
   {
    "duration": 7,
    "start_time": "2022-03-29T12:05:59.077Z"
   },
   {
    "duration": 7,
    "start_time": "2022-03-29T12:05:59.085Z"
   },
   {
    "duration": 7,
    "start_time": "2022-03-29T12:05:59.094Z"
   },
   {
    "duration": 8,
    "start_time": "2022-03-29T12:05:59.103Z"
   },
   {
    "duration": 24,
    "start_time": "2022-03-29T12:06:31.805Z"
   },
   {
    "duration": 3,
    "start_time": "2022-03-29T12:06:35.793Z"
   },
   {
    "duration": 92,
    "start_time": "2022-03-29T12:06:35.800Z"
   },
   {
    "duration": 14,
    "start_time": "2022-03-29T12:06:35.894Z"
   },
   {
    "duration": 12,
    "start_time": "2022-03-29T12:06:35.910Z"
   },
   {
    "duration": 41,
    "start_time": "2022-03-29T12:06:35.925Z"
   },
   {
    "duration": 10,
    "start_time": "2022-03-29T12:06:35.967Z"
   },
   {
    "duration": 48,
    "start_time": "2022-03-29T12:06:35.978Z"
   },
   {
    "duration": 3,
    "start_time": "2022-03-29T12:06:36.028Z"
   },
   {
    "duration": 30,
    "start_time": "2022-03-29T12:06:36.033Z"
   },
   {
    "duration": 9,
    "start_time": "2022-03-29T12:06:36.065Z"
   },
   {
    "duration": 8,
    "start_time": "2022-03-29T12:06:36.077Z"
   },
   {
    "duration": 8,
    "start_time": "2022-03-29T12:06:36.087Z"
   },
   {
    "duration": 8,
    "start_time": "2022-03-29T12:06:36.097Z"
   },
   {
    "duration": 5,
    "start_time": "2022-03-29T12:06:36.106Z"
   },
   {
    "duration": 59,
    "start_time": "2022-03-29T12:06:36.113Z"
   },
   {
    "duration": 27,
    "start_time": "2022-03-29T12:06:36.174Z"
   },
   {
    "duration": 4,
    "start_time": "2022-03-29T12:06:36.203Z"
   },
   {
    "duration": 6,
    "start_time": "2022-03-29T12:06:36.209Z"
   },
   {
    "duration": 7,
    "start_time": "2022-03-29T12:06:36.216Z"
   },
   {
    "duration": 9,
    "start_time": "2022-03-29T12:06:36.224Z"
   },
   {
    "duration": 38,
    "start_time": "2022-03-29T12:06:36.235Z"
   },
   {
    "duration": 8,
    "start_time": "2022-03-29T12:06:36.275Z"
   },
   {
    "duration": 46,
    "start_time": "2022-03-29T12:06:36.285Z"
   },
   {
    "duration": 31,
    "start_time": "2022-03-29T12:06:36.332Z"
   },
   {
    "duration": 18,
    "start_time": "2022-03-29T12:06:36.365Z"
   },
   {
    "duration": 4,
    "start_time": "2022-03-29T12:06:36.385Z"
   },
   {
    "duration": 14,
    "start_time": "2022-03-29T12:06:36.391Z"
   },
   {
    "duration": 4,
    "start_time": "2022-03-29T12:06:36.407Z"
   },
   {
    "duration": 4,
    "start_time": "2022-03-29T12:06:36.414Z"
   },
   {
    "duration": 5,
    "start_time": "2022-03-29T12:06:36.420Z"
   },
   {
    "duration": 46,
    "start_time": "2022-03-29T12:06:36.426Z"
   },
   {
    "duration": 26,
    "start_time": "2022-03-29T12:06:36.474Z"
   },
   {
    "duration": 212,
    "start_time": "2022-03-29T12:06:36.502Z"
   },
   {
    "duration": 26,
    "start_time": "2022-03-29T12:06:36.716Z"
   },
   {
    "duration": 20,
    "start_time": "2022-03-29T12:06:36.744Z"
   },
   {
    "duration": 10,
    "start_time": "2022-03-29T12:06:36.765Z"
   },
   {
    "duration": 11,
    "start_time": "2022-03-29T12:06:36.777Z"
   },
   {
    "duration": 7,
    "start_time": "2022-03-29T12:06:36.789Z"
   },
   {
    "duration": 17,
    "start_time": "2022-03-29T12:06:36.798Z"
   },
   {
    "duration": 15,
    "start_time": "2022-03-29T12:06:36.816Z"
   },
   {
    "duration": 694,
    "start_time": "2022-03-29T12:06:36.833Z"
   },
   {
    "duration": 9,
    "start_time": "2022-03-29T12:06:37.529Z"
   },
   {
    "duration": 166,
    "start_time": "2022-03-29T12:06:37.539Z"
   },
   {
    "duration": 8,
    "start_time": "2022-03-29T12:06:37.707Z"
   },
   {
    "duration": 8,
    "start_time": "2022-03-29T12:06:37.717Z"
   },
   {
    "duration": 8,
    "start_time": "2022-03-29T12:06:37.726Z"
   },
   {
    "duration": 8,
    "start_time": "2022-03-29T12:06:37.735Z"
   },
   {
    "duration": 15,
    "start_time": "2022-03-29T12:06:37.762Z"
   },
   {
    "duration": 21,
    "start_time": "2022-03-29T12:06:37.779Z"
   },
   {
    "duration": 27,
    "start_time": "2022-03-29T12:09:23.397Z"
   },
   {
    "duration": 32,
    "start_time": "2022-03-29T12:10:01.130Z"
   },
   {
    "duration": 118,
    "start_time": "2022-03-29T12:13:17.707Z"
   },
   {
    "duration": 61,
    "start_time": "2022-04-02T15:19:39.374Z"
   },
   {
    "duration": 1402,
    "start_time": "2022-04-02T15:22:58.379Z"
   },
   {
    "duration": 136,
    "start_time": "2022-04-02T15:23:02.420Z"
   },
   {
    "duration": 16,
    "start_time": "2022-04-02T15:23:06.835Z"
   },
   {
    "duration": 15,
    "start_time": "2022-04-02T15:23:13.189Z"
   },
   {
    "duration": 64,
    "start_time": "2022-04-02T15:23:18.470Z"
   },
   {
    "duration": 13,
    "start_time": "2022-04-02T15:23:29.917Z"
   },
   {
    "duration": 49,
    "start_time": "2022-04-02T15:23:36.338Z"
   },
   {
    "duration": 3,
    "start_time": "2022-04-02T15:23:40.982Z"
   },
   {
    "duration": 3,
    "start_time": "2022-04-02T15:23:43.963Z"
   },
   {
    "duration": 5,
    "start_time": "2022-04-02T15:23:47.668Z"
   },
   {
    "duration": 9,
    "start_time": "2022-04-02T15:23:50.675Z"
   },
   {
    "duration": 11,
    "start_time": "2022-04-02T15:23:54.892Z"
   },
   {
    "duration": 13,
    "start_time": "2022-04-02T15:23:57.915Z"
   },
   {
    "duration": 5,
    "start_time": "2022-04-02T15:24:01.563Z"
   },
   {
    "duration": 44,
    "start_time": "2022-04-02T15:24:08.621Z"
   },
   {
    "duration": 39,
    "start_time": "2022-04-02T15:24:15.028Z"
   },
   {
    "duration": 5,
    "start_time": "2022-04-02T15:24:22.566Z"
   },
   {
    "duration": 10,
    "start_time": "2022-04-02T15:24:26.423Z"
   },
   {
    "duration": 5,
    "start_time": "2022-04-02T15:24:36.661Z"
   },
   {
    "duration": 5,
    "start_time": "2022-04-02T15:24:40.676Z"
   },
   {
    "duration": 14,
    "start_time": "2022-04-02T15:24:44.957Z"
   },
   {
    "duration": 10,
    "start_time": "2022-04-02T15:24:48.180Z"
   },
   {
    "duration": 63,
    "start_time": "2022-04-02T15:24:51.765Z"
   },
   {
    "duration": 8,
    "start_time": "2022-04-02T15:24:55.385Z"
   },
   {
    "duration": 20,
    "start_time": "2022-04-02T15:25:01.179Z"
   },
   {
    "duration": 7,
    "start_time": "2022-04-02T15:25:03.709Z"
   },
   {
    "duration": 20,
    "start_time": "2022-04-02T15:25:08.525Z"
   },
   {
    "duration": 5,
    "start_time": "2022-04-02T15:25:12.653Z"
   },
   {
    "duration": 5,
    "start_time": "2022-04-02T15:25:19.036Z"
   },
   {
    "duration": 4,
    "start_time": "2022-04-02T15:25:22.738Z"
   },
   {
    "duration": 14,
    "start_time": "2022-04-02T15:25:25.365Z"
   },
   {
    "duration": 27,
    "start_time": "2022-04-02T15:25:31.172Z"
   },
   {
    "duration": 251,
    "start_time": "2022-04-02T15:25:35.782Z"
   },
   {
    "duration": 29,
    "start_time": "2022-04-02T15:25:39.837Z"
   },
   {
    "duration": 6,
    "start_time": "2022-04-02T15:25:43.509Z"
   },
   {
    "duration": 11,
    "start_time": "2022-04-02T15:25:45.995Z"
   },
   {
    "duration": 11,
    "start_time": "2022-04-02T15:25:50.192Z"
   },
   {
    "duration": 12,
    "start_time": "2022-04-02T15:25:53.708Z"
   },
   {
    "duration": 10,
    "start_time": "2022-04-02T15:25:57.093Z"
   },
   {
    "duration": 20,
    "start_time": "2022-04-02T15:26:01.994Z"
   },
   {
    "duration": 918,
    "start_time": "2022-04-02T15:26:07.578Z"
   },
   {
    "duration": 1035,
    "start_time": "2022-04-02T15:28:01.897Z"
   },
   {
    "duration": 921,
    "start_time": "2022-04-02T15:29:26.368Z"
   },
   {
    "duration": 259,
    "start_time": "2022-04-02T15:31:31.424Z"
   },
   {
    "duration": 935,
    "start_time": "2022-04-02T15:31:43.848Z"
   },
   {
    "duration": 919,
    "start_time": "2022-04-02T15:32:08.342Z"
   },
   {
    "duration": 71,
    "start_time": "2022-04-02T15:38:15.606Z"
   },
   {
    "duration": 882,
    "start_time": "2022-04-02T15:38:39.103Z"
   },
   {
    "duration": 841,
    "start_time": "2022-04-02T15:41:45.842Z"
   },
   {
    "duration": 1050,
    "start_time": "2022-04-02T15:46:19.529Z"
   },
   {
    "duration": 953,
    "start_time": "2022-04-02T15:48:42.402Z"
   },
   {
    "duration": 906,
    "start_time": "2022-04-02T15:54:18.248Z"
   },
   {
    "duration": 74,
    "start_time": "2022-04-02T16:06:15.831Z"
   },
   {
    "duration": 59,
    "start_time": "2022-04-02T16:09:27.845Z"
   },
   {
    "duration": 60,
    "start_time": "2022-04-02T16:21:47.065Z"
   },
   {
    "duration": 63,
    "start_time": "2022-04-02T16:22:06.550Z"
   },
   {
    "duration": 61,
    "start_time": "2022-04-02T16:44:58.017Z"
   },
   {
    "duration": 75,
    "start_time": "2022-04-02T16:46:57.650Z"
   },
   {
    "duration": 56,
    "start_time": "2022-04-02T16:47:43.960Z"
   },
   {
    "duration": 9,
    "start_time": "2022-04-02T16:54:02.690Z"
   },
   {
    "duration": 188,
    "start_time": "2022-04-02T16:54:06.488Z"
   },
   {
    "duration": 10,
    "start_time": "2022-04-02T17:06:56.484Z"
   },
   {
    "duration": 11,
    "start_time": "2022-04-02T17:07:05.354Z"
   },
   {
    "duration": 9,
    "start_time": "2022-04-02T17:07:08.009Z"
   },
   {
    "duration": 9,
    "start_time": "2022-04-02T17:07:10.972Z"
   },
   {
    "duration": 16,
    "start_time": "2022-04-02T17:07:14.882Z"
   },
   {
    "duration": 28,
    "start_time": "2022-04-02T17:07:20.337Z"
   },
   {
    "duration": 1157,
    "start_time": "2022-04-02T17:07:29.688Z"
   },
   {
    "duration": 1268,
    "start_time": "2022-04-02T17:08:04.679Z"
   },
   {
    "duration": 239,
    "start_time": "2022-04-02T17:14:30.426Z"
   },
   {
    "duration": 1437,
    "start_time": "2022-04-04T06:21:31.198Z"
   },
   {
    "duration": 101,
    "start_time": "2022-04-04T06:21:34.665Z"
   },
   {
    "duration": 16,
    "start_time": "2022-04-04T06:21:40.537Z"
   },
   {
    "duration": 15,
    "start_time": "2022-04-04T06:21:45.678Z"
   },
   {
    "duration": 54,
    "start_time": "2022-04-04T06:21:52.545Z"
   },
   {
    "duration": 9,
    "start_time": "2022-04-04T06:21:56.592Z"
   },
   {
    "duration": 49,
    "start_time": "2022-04-04T06:22:06.170Z"
   },
   {
    "duration": 4,
    "start_time": "2022-04-04T06:22:09.897Z"
   },
   {
    "duration": 2,
    "start_time": "2022-04-04T06:22:12.505Z"
   },
   {
    "duration": 5,
    "start_time": "2022-04-04T06:22:17.320Z"
   },
   {
    "duration": 8,
    "start_time": "2022-04-04T06:22:19.762Z"
   },
   {
    "duration": 10,
    "start_time": "2022-04-04T06:22:23.778Z"
   },
   {
    "duration": 9,
    "start_time": "2022-04-04T06:22:27.105Z"
   },
   {
    "duration": 6,
    "start_time": "2022-04-04T06:22:30.729Z"
   },
   {
    "duration": 32,
    "start_time": "2022-04-04T06:22:37.124Z"
   },
   {
    "duration": 27,
    "start_time": "2022-04-04T06:22:42.395Z"
   },
   {
    "duration": 5,
    "start_time": "2022-04-04T06:22:47.754Z"
   },
   {
    "duration": 6,
    "start_time": "2022-04-04T06:22:50.041Z"
   },
   {
    "duration": 4,
    "start_time": "2022-04-04T06:22:53.719Z"
   },
   {
    "duration": 5,
    "start_time": "2022-04-04T06:23:00.802Z"
   },
   {
    "duration": 9,
    "start_time": "2022-04-04T06:23:06.506Z"
   },
   {
    "duration": 53,
    "start_time": "2022-04-04T06:23:12.763Z"
   },
   {
    "duration": 8,
    "start_time": "2022-04-04T06:23:16.577Z"
   },
   {
    "duration": 20,
    "start_time": "2022-04-04T06:23:22.154Z"
   },
   {
    "duration": 5,
    "start_time": "2022-04-04T06:23:25.315Z"
   },
   {
    "duration": 15,
    "start_time": "2022-04-04T06:23:29.206Z"
   },
   {
    "duration": 5,
    "start_time": "2022-04-04T06:23:33.516Z"
   },
   {
    "duration": 5,
    "start_time": "2022-04-04T06:23:36.164Z"
   },
   {
    "duration": 4,
    "start_time": "2022-04-04T06:23:39.147Z"
   },
   {
    "duration": 13,
    "start_time": "2022-04-04T06:23:44.715Z"
   },
   {
    "duration": 28,
    "start_time": "2022-04-04T06:23:52.243Z"
   },
   {
    "duration": 203,
    "start_time": "2022-04-04T06:23:59.701Z"
   },
   {
    "duration": 28,
    "start_time": "2022-04-04T06:24:04.020Z"
   },
   {
    "duration": 6,
    "start_time": "2022-04-04T06:24:08.219Z"
   },
   {
    "duration": 11,
    "start_time": "2022-04-04T06:24:12.826Z"
   },
   {
    "duration": 9,
    "start_time": "2022-04-04T06:24:22.658Z"
   },
   {
    "duration": 9,
    "start_time": "2022-04-04T06:24:26.959Z"
   },
   {
    "duration": 9,
    "start_time": "2022-04-04T06:24:30.843Z"
   },
   {
    "duration": 16,
    "start_time": "2022-04-04T06:24:37.317Z"
   },
   {
    "duration": 773,
    "start_time": "2022-04-04T06:24:43.829Z"
   },
   {
    "duration": 9,
    "start_time": "2022-04-04T06:24:54.069Z"
   },
   {
    "duration": 184,
    "start_time": "2022-04-04T06:24:57.686Z"
   },
   {
    "duration": 107,
    "start_time": "2022-04-04T06:32:26.658Z"
   },
   {
    "duration": 106,
    "start_time": "2022-04-04T06:38:05.693Z"
   },
   {
    "duration": 97,
    "start_time": "2022-04-04T06:41:12.566Z"
   },
   {
    "duration": 9,
    "start_time": "2022-04-04T06:42:11.753Z"
   },
   {
    "duration": 37,
    "start_time": "2022-04-04T06:47:58.157Z"
   },
   {
    "duration": 17,
    "start_time": "2022-04-04T06:53:28.645Z"
   },
   {
    "duration": 1104,
    "start_time": "2022-04-04T06:53:55.017Z"
   },
   {
    "duration": 196,
    "start_time": "2022-04-04T07:00:15.145Z"
   },
   {
    "duration": 162,
    "start_time": "2022-04-04T07:06:08.254Z"
   },
   {
    "duration": 3,
    "start_time": "2022-04-04T07:06:22.507Z"
   },
   {
    "duration": 1032,
    "start_time": "2022-04-04T08:43:15.361Z"
   },
   {
    "duration": 1146,
    "start_time": "2022-04-04T09:03:11.580Z"
   },
   {
    "duration": 104,
    "start_time": "2022-04-04T09:03:16.977Z"
   },
   {
    "duration": 16,
    "start_time": "2022-04-04T09:03:20.389Z"
   },
   {
    "duration": 13,
    "start_time": "2022-04-04T09:03:25.954Z"
   },
   {
    "duration": 55,
    "start_time": "2022-04-04T09:03:31.302Z"
   },
   {
    "duration": 9,
    "start_time": "2022-04-04T09:03:37.939Z"
   },
   {
    "duration": 49,
    "start_time": "2022-04-04T09:03:41.503Z"
   },
   {
    "duration": 3,
    "start_time": "2022-04-04T09:03:45.561Z"
   },
   {
    "duration": 3,
    "start_time": "2022-04-04T09:03:49.951Z"
   },
   {
    "duration": 5,
    "start_time": "2022-04-04T09:03:54.335Z"
   },
   {
    "duration": 8,
    "start_time": "2022-04-04T09:03:57.072Z"
   },
   {
    "duration": 9,
    "start_time": "2022-04-04T09:04:01.494Z"
   },
   {
    "duration": 9,
    "start_time": "2022-04-04T09:04:05.521Z"
   },
   {
    "duration": 9,
    "start_time": "2022-04-04T09:04:09.334Z"
   },
   {
    "duration": 31,
    "start_time": "2022-04-04T09:04:16.105Z"
   },
   {
    "duration": 27,
    "start_time": "2022-04-04T09:04:21.063Z"
   },
   {
    "duration": 5,
    "start_time": "2022-04-04T09:04:24.745Z"
   },
   {
    "duration": 6,
    "start_time": "2022-04-04T09:04:27.953Z"
   },
   {
    "duration": 7,
    "start_time": "2022-04-04T09:04:31.374Z"
   },
   {
    "duration": 5,
    "start_time": "2022-04-04T09:04:34.815Z"
   },
   {
    "duration": 14,
    "start_time": "2022-04-04T09:04:37.458Z"
   },
   {
    "duration": 9,
    "start_time": "2022-04-04T09:04:40.798Z"
   },
   {
    "duration": 58,
    "start_time": "2022-04-04T09:04:43.929Z"
   },
   {
    "duration": 8,
    "start_time": "2022-04-04T09:04:47.410Z"
   },
   {
    "duration": 19,
    "start_time": "2022-04-04T09:04:53.884Z"
   },
   {
    "duration": 4,
    "start_time": "2022-04-04T09:04:56.871Z"
   },
   {
    "duration": 15,
    "start_time": "2022-04-04T09:05:01.136Z"
   },
   {
    "duration": 4,
    "start_time": "2022-04-04T09:05:05.950Z"
   },
   {
    "duration": 5,
    "start_time": "2022-04-04T09:05:08.446Z"
   },
   {
    "duration": 4,
    "start_time": "2022-04-04T09:05:11.946Z"
   },
   {
    "duration": 13,
    "start_time": "2022-04-04T09:05:14.649Z"
   },
   {
    "duration": 27,
    "start_time": "2022-04-04T09:05:20.161Z"
   },
   {
    "duration": 228,
    "start_time": "2022-04-04T09:05:25.787Z"
   },
   {
    "duration": 29,
    "start_time": "2022-04-04T09:05:29.960Z"
   },
   {
    "duration": 5,
    "start_time": "2022-04-04T09:05:33.423Z"
   },
   {
    "duration": 10,
    "start_time": "2022-04-04T09:05:36.824Z"
   },
   {
    "duration": 8,
    "start_time": "2022-04-04T09:05:40.360Z"
   },
   {
    "duration": 8,
    "start_time": "2022-04-04T09:05:43.383Z"
   },
   {
    "duration": 9,
    "start_time": "2022-04-04T09:05:46.696Z"
   },
   {
    "duration": 15,
    "start_time": "2022-04-04T09:05:49.967Z"
   },
   {
    "duration": 825,
    "start_time": "2022-04-04T09:05:54.952Z"
   },
   {
    "duration": 12,
    "start_time": "2022-04-04T09:06:07.313Z"
   },
   {
    "duration": 201,
    "start_time": "2022-04-04T09:06:11.346Z"
   },
   {
    "duration": 113,
    "start_time": "2022-04-04T09:06:18.667Z"
   },
   {
    "duration": 36,
    "start_time": "2022-04-04T09:06:25.104Z"
   },
   {
    "duration": 1601,
    "start_time": "2022-04-04T09:06:59.258Z"
   },
   {
    "duration": 211,
    "start_time": "2022-04-04T09:07:07.790Z"
   },
   {
    "duration": 227,
    "start_time": "2022-04-04T09:10:31.811Z"
   },
   {
    "duration": 602,
    "start_time": "2022-04-04T09:11:08.423Z"
   },
   {
    "duration": 334,
    "start_time": "2022-04-04T09:19:27.957Z"
   },
   {
    "duration": 714,
    "start_time": "2022-04-04T09:19:31.364Z"
   },
   {
    "duration": 126,
    "start_time": "2022-04-04T09:24:08.163Z"
   },
   {
    "duration": 988,
    "start_time": "2022-04-04T09:24:53.360Z"
   },
   {
    "duration": 747,
    "start_time": "2022-04-04T09:25:20.758Z"
   },
   {
    "duration": 124,
    "start_time": "2022-04-04T09:29:58.147Z"
   },
   {
    "duration": 122,
    "start_time": "2022-04-04T09:30:16.189Z"
   },
   {
    "duration": 666,
    "start_time": "2022-04-04T09:32:19.293Z"
   },
   {
    "duration": 861,
    "start_time": "2022-04-04T09:36:05.850Z"
   },
   {
    "duration": 1046,
    "start_time": "2022-04-04T09:36:53.420Z"
   },
   {
    "duration": 669,
    "start_time": "2022-04-04T09:37:27.988Z"
   },
   {
    "duration": 777,
    "start_time": "2022-04-04T09:39:42.590Z"
   },
   {
    "duration": 544,
    "start_time": "2022-04-04T09:40:40.157Z"
   },
   {
    "duration": 524,
    "start_time": "2022-04-04T09:41:10.479Z"
   },
   {
    "duration": 138,
    "start_time": "2022-04-04T09:41:21.136Z"
   },
   {
    "duration": 799,
    "start_time": "2022-04-04T09:41:30.939Z"
   },
   {
    "duration": 689,
    "start_time": "2022-04-04T09:43:30.474Z"
   },
   {
    "duration": 666,
    "start_time": "2022-04-04T09:44:00.993Z"
   },
   {
    "duration": 766,
    "start_time": "2022-04-04T09:45:26.009Z"
   },
   {
    "duration": 178,
    "start_time": "2022-04-04T09:48:46.430Z"
   },
   {
    "duration": 9,
    "start_time": "2022-04-04T09:55:44.310Z"
   },
   {
    "duration": 10,
    "start_time": "2022-04-04T09:59:11.459Z"
   },
   {
    "duration": 170,
    "start_time": "2022-04-04T09:59:20.363Z"
   },
   {
    "duration": 121,
    "start_time": "2022-04-04T10:01:14.230Z"
   },
   {
    "duration": 240,
    "start_time": "2022-04-04T10:05:55.908Z"
   },
   {
    "duration": 713,
    "start_time": "2022-04-04T10:10:17.661Z"
   },
   {
    "duration": 690,
    "start_time": "2022-04-04T10:12:50.283Z"
   },
   {
    "duration": 964,
    "start_time": "2022-04-04T10:13:17.879Z"
   },
   {
    "duration": 1144,
    "start_time": "2022-04-04T10:13:43.311Z"
   },
   {
    "duration": 1091,
    "start_time": "2022-04-04T10:15:39.420Z"
   },
   {
    "duration": 998,
    "start_time": "2022-04-04T10:17:40.344Z"
   },
   {
    "duration": 969,
    "start_time": "2022-04-04T10:18:44.913Z"
   },
   {
    "duration": 844,
    "start_time": "2022-04-04T10:19:20.635Z"
   },
   {
    "duration": 5,
    "start_time": "2022-04-04T10:21:09.072Z"
   },
   {
    "duration": 1977,
    "start_time": "2022-04-04T10:21:12.912Z"
   },
   {
    "duration": 15,
    "start_time": "2022-04-04T10:22:32.955Z"
   },
   {
    "duration": 307,
    "start_time": "2022-04-04T10:23:13.644Z"
   },
   {
    "duration": 423,
    "start_time": "2022-04-04T10:25:58.846Z"
   },
   {
    "duration": 440,
    "start_time": "2022-04-04T10:27:32.400Z"
   },
   {
    "duration": 476,
    "start_time": "2022-04-04T10:29:17.523Z"
   },
   {
    "duration": 6,
    "start_time": "2022-04-04T10:31:58.744Z"
   },
   {
    "duration": 15,
    "start_time": "2022-04-04T10:32:20.181Z"
   },
   {
    "duration": 5,
    "start_time": "2022-04-04T10:32:26.780Z"
   },
   {
    "duration": 8,
    "start_time": "2022-04-04T10:32:35.466Z"
   },
   {
    "duration": 287,
    "start_time": "2022-04-04T10:32:45.051Z"
   },
   {
    "duration": 188,
    "start_time": "2022-04-04T10:34:31.767Z"
   },
   {
    "duration": 3,
    "start_time": "2022-04-04T10:36:13.482Z"
   },
   {
    "duration": 9,
    "start_time": "2022-04-04T10:36:33.473Z"
   },
   {
    "duration": 8,
    "start_time": "2022-04-04T10:36:48.344Z"
   },
   {
    "duration": 2,
    "start_time": "2022-04-04T10:36:51.385Z"
   },
   {
    "duration": 26,
    "start_time": "2022-04-04T10:36:54.352Z"
   },
   {
    "duration": 138,
    "start_time": "2022-04-04T10:37:55.954Z"
   },
   {
    "duration": 30,
    "start_time": "2022-04-04T10:39:15.653Z"
   },
   {
    "duration": 20,
    "start_time": "2022-04-04T10:40:18.089Z"
   },
   {
    "duration": 18,
    "start_time": "2022-04-04T10:40:48.446Z"
   },
   {
    "duration": 3297,
    "start_time": "2022-04-04T10:40:56.109Z"
   },
   {
    "duration": 263,
    "start_time": "2022-04-04T10:41:49.046Z"
   },
   {
    "duration": 7,
    "start_time": "2022-04-04T10:42:09.287Z"
   },
   {
    "duration": 6,
    "start_time": "2022-04-04T10:42:31.895Z"
   },
   {
    "duration": 5,
    "start_time": "2022-04-04T10:42:37.971Z"
   },
   {
    "duration": 5,
    "start_time": "2022-04-04T10:42:41.957Z"
   },
   {
    "duration": 5,
    "start_time": "2022-04-04T10:42:53.422Z"
   },
   {
    "duration": 3279,
    "start_time": "2022-04-04T10:43:11.208Z"
   },
   {
    "duration": 1904,
    "start_time": "2022-04-06T07:47:07.924Z"
   },
   {
    "duration": 160,
    "start_time": "2022-04-06T07:47:10.835Z"
   },
   {
    "duration": 23,
    "start_time": "2022-04-06T07:47:19.884Z"
   },
   {
    "duration": 86,
    "start_time": "2022-04-06T07:47:29.283Z"
   },
   {
    "duration": 14,
    "start_time": "2022-04-06T07:47:40.321Z"
   },
   {
    "duration": 13,
    "start_time": "2022-04-06T07:48:43.485Z"
   },
   {
    "duration": 83,
    "start_time": "2022-04-06T07:48:47.895Z"
   },
   {
    "duration": 6,
    "start_time": "2022-04-06T07:48:54.323Z"
   },
   {
    "duration": 5,
    "start_time": "2022-04-06T07:48:57.961Z"
   },
   {
    "duration": 7,
    "start_time": "2022-04-06T07:49:03.499Z"
   },
   {
    "duration": 14,
    "start_time": "2022-04-06T07:49:06.987Z"
   },
   {
    "duration": 14,
    "start_time": "2022-04-06T07:49:11.607Z"
   },
   {
    "duration": 14,
    "start_time": "2022-04-06T07:49:15.968Z"
   },
   {
    "duration": 9,
    "start_time": "2022-04-06T07:49:20.187Z"
   },
   {
    "duration": 56,
    "start_time": "2022-04-06T07:49:26.987Z"
   },
   {
    "duration": 43,
    "start_time": "2022-04-06T07:49:33.967Z"
   },
   {
    "duration": 7,
    "start_time": "2022-04-06T07:49:40.314Z"
   },
   {
    "duration": 8,
    "start_time": "2022-04-06T07:49:43.860Z"
   },
   {
    "duration": 7,
    "start_time": "2022-04-06T07:49:48.589Z"
   },
   {
    "duration": 9,
    "start_time": "2022-04-06T07:49:56.984Z"
   },
   {
    "duration": 22,
    "start_time": "2022-04-06T07:50:07.430Z"
   },
   {
    "duration": 13,
    "start_time": "2022-04-06T07:50:11.966Z"
   },
   {
    "duration": 83,
    "start_time": "2022-04-06T07:50:21.710Z"
   },
   {
    "duration": 12,
    "start_time": "2022-04-06T07:50:30.463Z"
   },
   {
    "duration": 31,
    "start_time": "2022-04-06T07:50:39.983Z"
   },
   {
    "duration": 8,
    "start_time": "2022-04-06T07:50:44.174Z"
   },
   {
    "duration": 20,
    "start_time": "2022-04-06T07:50:54.997Z"
   },
   {
    "duration": 6,
    "start_time": "2022-04-06T07:51:00.503Z"
   },
   {
    "duration": 6,
    "start_time": "2022-04-06T07:51:03.878Z"
   },
   {
    "duration": 5,
    "start_time": "2022-04-06T07:51:06.587Z"
   },
   {
    "duration": 20,
    "start_time": "2022-04-06T07:51:10.422Z"
   },
   {
    "duration": 47,
    "start_time": "2022-04-06T07:51:36.657Z"
   },
   {
    "duration": 582,
    "start_time": "2022-04-06T07:52:05.737Z"
   },
   {
    "duration": 48,
    "start_time": "2022-04-06T07:52:34.326Z"
   },
   {
    "duration": 8,
    "start_time": "2022-04-06T07:52:43.201Z"
   },
   {
    "duration": 16,
    "start_time": "2022-04-06T07:52:54.369Z"
   },
   {
    "duration": 12,
    "start_time": "2022-04-06T07:53:13.441Z"
   },
   {
    "duration": 12,
    "start_time": "2022-04-06T07:53:17.130Z"
   },
   {
    "duration": 11,
    "start_time": "2022-04-06T07:53:20.769Z"
   },
   {
    "duration": 23,
    "start_time": "2022-04-06T07:53:39.050Z"
   },
   {
    "duration": 1369,
    "start_time": "2022-04-06T07:54:02.864Z"
   },
   {
    "duration": 14,
    "start_time": "2022-04-06T07:54:26.467Z"
   },
   {
    "duration": 328,
    "start_time": "2022-04-06T07:54:40.388Z"
   },
   {
    "duration": 180,
    "start_time": "2022-04-06T08:01:33.080Z"
   },
   {
    "duration": 151,
    "start_time": "2022-04-06T08:02:07.102Z"
   },
   {
    "duration": 23,
    "start_time": "2022-04-06T08:03:43.563Z"
   },
   {
    "duration": 178,
    "start_time": "2022-04-06T08:04:29.709Z"
   },
   {
    "duration": 53,
    "start_time": "2022-04-06T08:04:42.702Z"
   },
   {
    "duration": 266,
    "start_time": "2022-04-06T08:15:16.620Z"
   },
   {
    "duration": 51,
    "start_time": "2022-04-06T08:15:38.138Z"
   },
   {
    "duration": 1855,
    "start_time": "2022-04-06T08:16:59.623Z"
   },
   {
    "duration": 352,
    "start_time": "2022-04-06T08:17:35.981Z"
   },
   {
    "duration": 104,
    "start_time": "2022-04-06T08:17:58.060Z"
   },
   {
    "duration": 6451,
    "start_time": "2022-04-06T08:18:19.546Z"
   },
   {
    "duration": 5,
    "start_time": "2022-04-06T08:18:49.589Z"
   },
   {
    "duration": 1909,
    "start_time": "2022-04-06T08:18:57.517Z"
   },
   {
    "duration": 557,
    "start_time": "2022-04-06T08:25:04.566Z"
   },
   {
    "duration": 1467,
    "start_time": "2022-04-06T08:26:31.756Z"
   },
   {
    "duration": 14,
    "start_time": "2022-04-06T08:27:39.455Z"
   },
   {
    "duration": 13,
    "start_time": "2022-04-06T08:27:49.863Z"
   },
   {
    "duration": 296,
    "start_time": "2022-04-06T08:28:01.049Z"
   },
   {
    "duration": 7,
    "start_time": "2022-04-06T08:30:05.321Z"
   },
   {
    "duration": 3018,
    "start_time": "2022-04-06T08:30:13.607Z"
   },
   {
    "duration": 931,
    "start_time": "2022-04-06T08:31:38.838Z"
   },
   {
    "duration": 383,
    "start_time": "2022-04-06T08:37:56.571Z"
   },
   {
    "duration": 743,
    "start_time": "2022-04-06T08:39:35.141Z"
   },
   {
    "duration": 392,
    "start_time": "2022-04-06T08:39:48.607Z"
   },
   {
    "duration": 7,
    "start_time": "2022-04-06T08:41:53.458Z"
   },
   {
    "duration": 25,
    "start_time": "2022-04-06T08:42:12.607Z"
   },
   {
    "duration": 6,
    "start_time": "2022-04-06T08:42:25.831Z"
   },
   {
    "duration": 11,
    "start_time": "2022-04-06T08:42:34.168Z"
   },
   {
    "duration": 345,
    "start_time": "2022-04-06T08:42:45.591Z"
   },
   {
    "duration": 9,
    "start_time": "2022-04-06T08:58:08.871Z"
   },
   {
    "duration": 4,
    "start_time": "2022-04-06T08:58:17.110Z"
   },
   {
    "duration": 41,
    "start_time": "2022-04-06T08:58:22.952Z"
   },
   {
    "duration": 356,
    "start_time": "2022-04-06T09:07:39.122Z"
   },
   {
    "duration": 46,
    "start_time": "2022-04-06T09:08:54.559Z"
   },
   {
    "duration": 30,
    "start_time": "2022-04-06T09:10:55.336Z"
   },
   {
    "duration": 45,
    "start_time": "2022-04-06T09:11:04.028Z"
   },
   {
    "duration": 30,
    "start_time": "2022-04-06T09:11:08.157Z"
   },
   {
    "duration": 24,
    "start_time": "2022-04-06T09:11:23.902Z"
   },
   {
    "duration": 5591,
    "start_time": "2022-04-06T09:11:30.045Z"
   },
   {
    "duration": 406,
    "start_time": "2022-04-06T09:11:51.426Z"
   },
   {
    "duration": 591,
    "start_time": "2022-04-06T09:17:04.128Z"
   },
   {
    "duration": 10,
    "start_time": "2022-04-06T09:19:45.440Z"
   },
   {
    "duration": 8,
    "start_time": "2022-04-06T09:20:07.147Z"
   },
   {
    "duration": 8,
    "start_time": "2022-04-06T09:20:10.857Z"
   },
   {
    "duration": 8,
    "start_time": "2022-04-06T09:20:14.861Z"
   },
   {
    "duration": 5,
    "start_time": "2022-04-06T09:20:25.160Z"
   },
   {
    "duration": 6,
    "start_time": "2022-04-06T09:21:22.485Z"
   },
   {
    "duration": 3474,
    "start_time": "2022-04-06T09:22:19.528Z"
   },
   {
    "duration": 10,
    "start_time": "2022-04-06T09:22:59.150Z"
   },
   {
    "duration": 8,
    "start_time": "2022-04-06T09:29:53.842Z"
   },
   {
    "duration": 7,
    "start_time": "2022-04-06T09:30:14.554Z"
   },
   {
    "duration": 8,
    "start_time": "2022-04-06T09:30:39.697Z"
   },
   {
    "duration": 8,
    "start_time": "2022-04-06T09:32:52.109Z"
   },
   {
    "duration": 257,
    "start_time": "2022-04-06T09:37:02.720Z"
   },
   {
    "duration": 264,
    "start_time": "2022-04-06T09:38:59.248Z"
   },
   {
    "duration": 246,
    "start_time": "2022-04-06T09:40:26.531Z"
   },
   {
    "duration": 282,
    "start_time": "2022-04-06T09:41:56.603Z"
   },
   {
    "duration": 294,
    "start_time": "2022-04-06T09:43:17.883Z"
   },
   {
    "duration": 250,
    "start_time": "2022-04-06T09:43:39.965Z"
   },
   {
    "duration": 251,
    "start_time": "2022-04-06T09:44:20.522Z"
   },
   {
    "duration": 295,
    "start_time": "2022-04-06T09:47:24.701Z"
   },
   {
    "duration": 284,
    "start_time": "2022-04-06T09:47:46.921Z"
   },
   {
    "duration": 271,
    "start_time": "2022-04-06T09:48:20.917Z"
   },
   {
    "duration": 468,
    "start_time": "2022-04-06T09:48:39.215Z"
   },
   {
    "duration": 434,
    "start_time": "2022-04-06T09:52:26.457Z"
   },
   {
    "duration": 296,
    "start_time": "2022-04-06T09:53:09.364Z"
   },
   {
    "duration": 272,
    "start_time": "2022-04-06T09:54:21.821Z"
   },
   {
    "duration": 184,
    "start_time": "2022-04-06T09:55:35.056Z"
   },
   {
    "duration": 274,
    "start_time": "2022-04-06T09:57:22.710Z"
   },
   {
    "duration": 273,
    "start_time": "2022-04-06T09:57:44.598Z"
   },
   {
    "duration": 270,
    "start_time": "2022-04-06T09:58:33.985Z"
   },
   {
    "duration": 239,
    "start_time": "2022-04-06T09:59:35.539Z"
   },
   {
    "duration": 272,
    "start_time": "2022-04-06T10:01:03.716Z"
   },
   {
    "duration": 262,
    "start_time": "2022-04-06T10:01:21.088Z"
   },
   {
    "duration": 280,
    "start_time": "2022-04-06T10:02:00.555Z"
   },
   {
    "duration": 258,
    "start_time": "2022-04-06T10:02:12.933Z"
   },
   {
    "duration": 256,
    "start_time": "2022-04-06T10:02:34.609Z"
   },
   {
    "duration": 263,
    "start_time": "2022-04-06T10:02:46.264Z"
   },
   {
    "duration": 50,
    "start_time": "2022-04-07T06:19:13.682Z"
   },
   {
    "duration": 1517,
    "start_time": "2022-04-07T06:20:11.575Z"
   },
   {
    "duration": 114,
    "start_time": "2022-04-07T06:20:14.695Z"
   },
   {
    "duration": 17,
    "start_time": "2022-04-07T06:20:19.887Z"
   },
   {
    "duration": 13,
    "start_time": "2022-04-07T06:20:25.113Z"
   },
   {
    "duration": 55,
    "start_time": "2022-04-07T06:20:30.777Z"
   },
   {
    "duration": 9,
    "start_time": "2022-04-07T06:20:34.607Z"
   },
   {
    "duration": 48,
    "start_time": "2022-04-07T06:20:38.513Z"
   },
   {
    "duration": 3,
    "start_time": "2022-04-07T06:20:41.943Z"
   },
   {
    "duration": 3,
    "start_time": "2022-04-07T06:20:44.976Z"
   },
   {
    "duration": 5,
    "start_time": "2022-04-07T06:20:49.248Z"
   },
   {
    "duration": 9,
    "start_time": "2022-04-07T06:20:52.363Z"
   },
   {
    "duration": 8,
    "start_time": "2022-04-07T06:20:55.727Z"
   },
   {
    "duration": 9,
    "start_time": "2022-04-07T06:20:58.015Z"
   },
   {
    "duration": 8,
    "start_time": "2022-04-07T06:21:01.086Z"
   },
   {
    "duration": 32,
    "start_time": "2022-04-07T06:21:06.568Z"
   },
   {
    "duration": 29,
    "start_time": "2022-04-07T06:21:11.691Z"
   },
   {
    "duration": 4,
    "start_time": "2022-04-07T06:21:14.704Z"
   },
   {
    "duration": 5,
    "start_time": "2022-04-07T06:21:17.669Z"
   },
   {
    "duration": 5,
    "start_time": "2022-04-07T06:21:23.863Z"
   },
   {
    "duration": 6,
    "start_time": "2022-04-07T06:21:28.186Z"
   },
   {
    "duration": 13,
    "start_time": "2022-04-07T06:21:31.673Z"
   },
   {
    "duration": 9,
    "start_time": "2022-04-07T06:21:35.801Z"
   },
   {
    "duration": 50,
    "start_time": "2022-04-07T06:21:38.723Z"
   },
   {
    "duration": 9,
    "start_time": "2022-04-07T06:21:42.507Z"
   },
   {
    "duration": 20,
    "start_time": "2022-04-07T06:21:48.018Z"
   },
   {
    "duration": 5,
    "start_time": "2022-04-07T06:21:52.072Z"
   },
   {
    "duration": 5,
    "start_time": "2022-04-07T06:21:55.745Z"
   },
   {
    "duration": 4,
    "start_time": "2022-04-07T06:21:58.409Z"
   },
   {
    "duration": 4,
    "start_time": "2022-04-07T06:22:01.546Z"
   },
   {
    "duration": 15,
    "start_time": "2022-04-07T06:22:05.065Z"
   },
   {
    "duration": 28,
    "start_time": "2022-04-07T06:22:09.057Z"
   },
   {
    "duration": 214,
    "start_time": "2022-04-07T06:22:13.361Z"
   },
   {
    "duration": 28,
    "start_time": "2022-04-07T06:22:19.893Z"
   },
   {
    "duration": 6,
    "start_time": "2022-04-07T06:22:23.739Z"
   },
   {
    "duration": 9,
    "start_time": "2022-04-07T06:22:27.009Z"
   },
   {
    "duration": 9,
    "start_time": "2022-04-07T06:22:30.193Z"
   },
   {
    "duration": 9,
    "start_time": "2022-04-07T06:22:33.368Z"
   },
   {
    "duration": 9,
    "start_time": "2022-04-07T06:22:36.627Z"
   },
   {
    "duration": 16,
    "start_time": "2022-04-07T06:22:39.422Z"
   },
   {
    "duration": 818,
    "start_time": "2022-04-07T06:22:44.506Z"
   },
   {
    "duration": 9,
    "start_time": "2022-04-07T06:22:49.889Z"
   },
   {
    "duration": 168,
    "start_time": "2022-04-07T06:22:56.579Z"
   },
   {
    "duration": 102,
    "start_time": "2022-04-07T06:23:01.548Z"
   },
   {
    "duration": 33,
    "start_time": "2022-04-07T06:23:07.715Z"
   },
   {
    "duration": 1113,
    "start_time": "2022-04-07T06:23:13.290Z"
   },
   {
    "duration": 210,
    "start_time": "2022-04-07T06:23:17.098Z"
   },
   {
    "duration": 74,
    "start_time": "2022-04-07T06:23:21.846Z"
   },
   {
    "duration": 3683,
    "start_time": "2022-04-07T06:23:26.490Z"
   },
   {
    "duration": 4,
    "start_time": "2022-04-07T06:23:35.558Z"
   },
   {
    "duration": 1058,
    "start_time": "2022-04-07T06:23:38.411Z"
   },
   {
    "duration": 305,
    "start_time": "2022-04-07T06:23:44.170Z"
   },
   {
    "duration": 844,
    "start_time": "2022-04-07T06:23:49.787Z"
   },
   {
    "duration": 9,
    "start_time": "2022-04-07T06:23:53.708Z"
   },
   {
    "duration": 166,
    "start_time": "2022-04-07T06:23:58.730Z"
   },
   {
    "duration": 4,
    "start_time": "2022-04-07T06:24:04.180Z"
   },
   {
    "duration": 1585,
    "start_time": "2022-04-07T06:24:07.671Z"
   },
   {
    "duration": 575,
    "start_time": "2022-04-07T06:24:17.940Z"
   },
   {
    "duration": 149,
    "start_time": "2022-04-07T06:24:37.317Z"
   },
   {
    "duration": 5,
    "start_time": "2022-04-07T06:24:41.340Z"
   },
   {
    "duration": 16,
    "start_time": "2022-04-07T06:24:46.523Z"
   },
   {
    "duration": 4,
    "start_time": "2022-04-07T06:24:49.415Z"
   },
   {
    "duration": 8,
    "start_time": "2022-04-07T06:24:52.748Z"
   },
   {
    "duration": 176,
    "start_time": "2022-04-07T06:24:56.292Z"
   },
   {
    "duration": 7,
    "start_time": "2022-04-07T06:25:00.123Z"
   },
   {
    "duration": 3,
    "start_time": "2022-04-07T06:25:02.390Z"
   },
   {
    "duration": 25,
    "start_time": "2022-04-07T06:25:04.759Z"
   },
   {
    "duration": 123,
    "start_time": "2022-04-07T06:25:11.236Z"
   },
   {
    "duration": 37,
    "start_time": "2022-04-07T06:25:15.383Z"
   },
   {
    "duration": 21,
    "start_time": "2022-04-07T06:25:19.701Z"
   },
   {
    "duration": 18,
    "start_time": "2022-04-07T06:25:26.749Z"
   },
   {
    "duration": 3039,
    "start_time": "2022-04-07T06:25:30.996Z"
   },
   {
    "duration": 267,
    "start_time": "2022-04-07T06:25:37.837Z"
   },
   {
    "duration": 6,
    "start_time": "2022-04-07T06:25:45.548Z"
   },
   {
    "duration": 142,
    "start_time": "2022-04-07T06:25:50.541Z"
   },
   {
    "duration": 166,
    "start_time": "2022-04-07T06:26:11.997Z"
   },
   {
    "duration": 6,
    "start_time": "2022-04-07T06:26:20.355Z"
   },
   {
    "duration": 146,
    "start_time": "2022-04-07T06:26:23.869Z"
   },
   {
    "duration": 6,
    "start_time": "2022-04-07T06:26:39.715Z"
   },
   {
    "duration": 165,
    "start_time": "2022-04-07T06:26:43.338Z"
   },
   {
    "duration": 5,
    "start_time": "2022-04-07T06:26:48.295Z"
   },
   {
    "duration": 143,
    "start_time": "2022-04-07T06:26:51.950Z"
   },
   {
    "duration": 5,
    "start_time": "2022-04-07T06:26:55.751Z"
   },
   {
    "duration": 163,
    "start_time": "2022-04-07T06:26:59.302Z"
   },
   {
    "duration": 5,
    "start_time": "2022-04-07T06:27:06.375Z"
   },
   {
    "duration": 147,
    "start_time": "2022-04-07T06:27:09.712Z"
   },
   {
    "duration": 5,
    "start_time": "2022-04-07T06:27:14.273Z"
   },
   {
    "duration": 161,
    "start_time": "2022-04-07T06:27:23.555Z"
   },
   {
    "duration": 6,
    "start_time": "2022-04-07T06:27:29.552Z"
   },
   {
    "duration": 139,
    "start_time": "2022-04-07T06:27:33.398Z"
   },
   {
    "duration": 6,
    "start_time": "2022-04-07T06:28:41.080Z"
   },
   {
    "duration": 150,
    "start_time": "2022-04-07T06:28:44.749Z"
   },
   {
    "duration": 5,
    "start_time": "2022-04-07T06:28:48.273Z"
   },
   {
    "duration": 158,
    "start_time": "2022-04-07T06:28:51.736Z"
   },
   {
    "duration": 4,
    "start_time": "2022-04-07T06:28:56.727Z"
   },
   {
    "duration": 1914,
    "start_time": "2022-04-07T06:29:01.143Z"
   },
   {
    "duration": 10,
    "start_time": "2022-04-07T07:40:16.910Z"
   },
   {
    "duration": 9,
    "start_time": "2022-04-07T07:41:00.959Z"
   },
   {
    "duration": 188,
    "start_time": "2022-04-07T07:50:32.665Z"
   },
   {
    "duration": 9,
    "start_time": "2022-04-07T07:51:59.293Z"
   },
   {
    "duration": 217,
    "start_time": "2022-04-07T07:52:30.932Z"
   },
   {
    "duration": 1603,
    "start_time": "2022-04-28T12:36:39.676Z"
   },
   {
    "duration": 283,
    "start_time": "2022-04-28T12:36:41.282Z"
   },
   {
    "duration": 0,
    "start_time": "2022-04-28T12:36:41.572Z"
   },
   {
    "duration": 0,
    "start_time": "2022-04-28T12:36:41.574Z"
   },
   {
    "duration": 0,
    "start_time": "2022-04-28T12:36:41.577Z"
   },
   {
    "duration": 0,
    "start_time": "2022-04-28T12:36:41.594Z"
   },
   {
    "duration": 0,
    "start_time": "2022-04-28T12:36:41.596Z"
   },
   {
    "duration": 0,
    "start_time": "2022-04-28T12:36:41.598Z"
   },
   {
    "duration": 0,
    "start_time": "2022-04-28T12:36:41.600Z"
   },
   {
    "duration": 0,
    "start_time": "2022-04-28T12:36:41.602Z"
   },
   {
    "duration": 0,
    "start_time": "2022-04-28T12:36:41.604Z"
   },
   {
    "duration": 0,
    "start_time": "2022-04-28T12:36:41.606Z"
   },
   {
    "duration": 0,
    "start_time": "2022-04-28T12:36:41.608Z"
   },
   {
    "duration": 0,
    "start_time": "2022-04-28T12:36:41.610Z"
   },
   {
    "duration": 0,
    "start_time": "2022-04-28T12:36:41.611Z"
   },
   {
    "duration": 0,
    "start_time": "2022-04-28T12:36:41.613Z"
   },
   {
    "duration": 0,
    "start_time": "2022-04-28T12:36:41.615Z"
   },
   {
    "duration": 0,
    "start_time": "2022-04-28T12:36:41.617Z"
   },
   {
    "duration": 0,
    "start_time": "2022-04-28T12:36:41.618Z"
   },
   {
    "duration": 0,
    "start_time": "2022-04-28T12:36:41.620Z"
   },
   {
    "duration": 0,
    "start_time": "2022-04-28T12:36:41.621Z"
   },
   {
    "duration": 0,
    "start_time": "2022-04-28T12:36:41.623Z"
   },
   {
    "duration": 0,
    "start_time": "2022-04-28T12:36:41.624Z"
   },
   {
    "duration": 0,
    "start_time": "2022-04-28T12:36:41.626Z"
   },
   {
    "duration": 0,
    "start_time": "2022-04-28T12:36:41.627Z"
   },
   {
    "duration": 0,
    "start_time": "2022-04-28T12:36:41.628Z"
   },
   {
    "duration": 0,
    "start_time": "2022-04-28T12:36:41.629Z"
   },
   {
    "duration": 0,
    "start_time": "2022-04-28T12:36:41.630Z"
   },
   {
    "duration": 0,
    "start_time": "2022-04-28T12:36:41.694Z"
   },
   {
    "duration": 0,
    "start_time": "2022-04-28T12:36:41.695Z"
   },
   {
    "duration": 0,
    "start_time": "2022-04-28T12:36:41.696Z"
   },
   {
    "duration": 0,
    "start_time": "2022-04-28T12:36:41.698Z"
   },
   {
    "duration": 0,
    "start_time": "2022-04-28T12:36:41.699Z"
   },
   {
    "duration": 0,
    "start_time": "2022-04-28T12:36:41.700Z"
   },
   {
    "duration": 0,
    "start_time": "2022-04-28T12:36:41.702Z"
   },
   {
    "duration": 0,
    "start_time": "2022-04-28T12:36:41.703Z"
   },
   {
    "duration": 0,
    "start_time": "2022-04-28T12:36:41.704Z"
   },
   {
    "duration": 0,
    "start_time": "2022-04-28T12:36:41.706Z"
   },
   {
    "duration": 0,
    "start_time": "2022-04-28T12:36:41.708Z"
   },
   {
    "duration": 0,
    "start_time": "2022-04-28T12:36:41.709Z"
   },
   {
    "duration": 0,
    "start_time": "2022-04-28T12:36:41.711Z"
   },
   {
    "duration": 0,
    "start_time": "2022-04-28T12:36:41.712Z"
   },
   {
    "duration": 0,
    "start_time": "2022-04-28T12:36:41.714Z"
   },
   {
    "duration": 0,
    "start_time": "2022-04-28T12:36:41.716Z"
   },
   {
    "duration": 0,
    "start_time": "2022-04-28T12:36:41.717Z"
   },
   {
    "duration": 1,
    "start_time": "2022-04-28T12:36:41.718Z"
   },
   {
    "duration": 1,
    "start_time": "2022-04-28T12:36:41.720Z"
   },
   {
    "duration": 0,
    "start_time": "2022-04-28T12:36:41.722Z"
   },
   {
    "duration": 0,
    "start_time": "2022-04-28T12:36:41.724Z"
   },
   {
    "duration": 0,
    "start_time": "2022-04-28T12:36:41.725Z"
   },
   {
    "duration": 0,
    "start_time": "2022-04-28T12:36:41.727Z"
   },
   {
    "duration": 0,
    "start_time": "2022-04-28T12:36:41.728Z"
   },
   {
    "duration": 0,
    "start_time": "2022-04-28T12:36:41.730Z"
   },
   {
    "duration": 0,
    "start_time": "2022-04-28T12:36:41.731Z"
   },
   {
    "duration": 0,
    "start_time": "2022-04-28T12:36:41.794Z"
   },
   {
    "duration": 0,
    "start_time": "2022-04-28T12:36:41.796Z"
   },
   {
    "duration": 0,
    "start_time": "2022-04-28T12:36:41.797Z"
   },
   {
    "duration": 106,
    "start_time": "2022-04-28T12:40:52.388Z"
   },
   {
    "duration": 1956,
    "start_time": "2022-04-28T12:41:39.976Z"
   },
   {
    "duration": 150,
    "start_time": "2022-04-28T12:41:41.936Z"
   },
   {
    "duration": 20,
    "start_time": "2022-04-28T12:41:42.093Z"
   },
   {
    "duration": 31,
    "start_time": "2022-04-28T12:41:42.117Z"
   },
   {
    "duration": 43,
    "start_time": "2022-04-28T12:41:42.151Z"
   },
   {
    "duration": 43,
    "start_time": "2022-04-28T12:41:42.197Z"
   },
   {
    "duration": 52,
    "start_time": "2022-04-28T12:41:42.243Z"
   },
   {
    "duration": 34,
    "start_time": "2022-04-28T12:41:42.298Z"
   },
   {
    "duration": 7,
    "start_time": "2022-04-28T12:41:42.335Z"
   },
   {
    "duration": 534,
    "start_time": "2022-04-28T12:41:42.349Z"
   },
   {
    "duration": 11,
    "start_time": "2022-04-28T12:41:42.885Z"
   },
   {
    "duration": 10,
    "start_time": "2022-04-28T12:41:42.899Z"
   },
   {
    "duration": 26,
    "start_time": "2022-04-28T12:41:42.911Z"
   },
   {
    "duration": 84,
    "start_time": "2022-04-28T12:41:42.939Z"
   },
   {
    "duration": 4,
    "start_time": "2022-04-28T12:41:43.026Z"
   },
   {
    "duration": 20,
    "start_time": "2022-04-28T12:41:43.033Z"
   },
   {
    "duration": 690,
    "start_time": "2022-04-28T12:41:43.055Z"
   },
   {
    "duration": 31,
    "start_time": "2022-04-28T12:41:43.747Z"
   },
   {
    "duration": 299,
    "start_time": "2022-04-28T12:41:43.794Z"
   },
   {
    "duration": 27,
    "start_time": "2022-04-28T12:41:44.095Z"
   },
   {
    "duration": 2394,
    "start_time": "2022-04-28T12:41:44.124Z"
   },
   {
    "duration": 53,
    "start_time": "2022-04-28T12:41:46.521Z"
   },
   {
    "duration": 17,
    "start_time": "2022-04-28T12:41:46.593Z"
   },
   {
    "duration": 99,
    "start_time": "2022-04-28T12:41:46.613Z"
   },
   {
    "duration": 594,
    "start_time": "2022-04-28T12:41:46.715Z"
   },
   {
    "duration": 0,
    "start_time": "2022-04-28T12:41:47.315Z"
   },
   {
    "duration": 0,
    "start_time": "2022-04-28T12:41:47.316Z"
   },
   {
    "duration": 0,
    "start_time": "2022-04-28T12:41:47.318Z"
   },
   {
    "duration": 0,
    "start_time": "2022-04-28T12:41:47.319Z"
   },
   {
    "duration": 0,
    "start_time": "2022-04-28T12:41:47.321Z"
   },
   {
    "duration": 0,
    "start_time": "2022-04-28T12:41:47.323Z"
   },
   {
    "duration": 0,
    "start_time": "2022-04-28T12:41:47.324Z"
   },
   {
    "duration": 0,
    "start_time": "2022-04-28T12:41:47.326Z"
   },
   {
    "duration": 1,
    "start_time": "2022-04-28T12:41:47.327Z"
   },
   {
    "duration": 0,
    "start_time": "2022-04-28T12:41:47.329Z"
   },
   {
    "duration": 0,
    "start_time": "2022-04-28T12:41:47.331Z"
   },
   {
    "duration": 0,
    "start_time": "2022-04-28T12:41:47.332Z"
   },
   {
    "duration": 0,
    "start_time": "2022-04-28T12:41:47.334Z"
   },
   {
    "duration": 0,
    "start_time": "2022-04-28T12:41:47.336Z"
   },
   {
    "duration": 0,
    "start_time": "2022-04-28T12:41:47.337Z"
   },
   {
    "duration": 0,
    "start_time": "2022-04-28T12:41:47.338Z"
   },
   {
    "duration": 0,
    "start_time": "2022-04-28T12:41:47.340Z"
   },
   {
    "duration": 0,
    "start_time": "2022-04-28T12:41:47.341Z"
   },
   {
    "duration": 0,
    "start_time": "2022-04-28T12:41:47.343Z"
   },
   {
    "duration": 0,
    "start_time": "2022-04-28T12:41:47.344Z"
   },
   {
    "duration": 0,
    "start_time": "2022-04-28T12:41:47.393Z"
   },
   {
    "duration": 0,
    "start_time": "2022-04-28T12:41:47.395Z"
   },
   {
    "duration": 0,
    "start_time": "2022-04-28T12:41:47.396Z"
   },
   {
    "duration": 0,
    "start_time": "2022-04-28T12:41:47.398Z"
   },
   {
    "duration": 0,
    "start_time": "2022-04-28T12:41:47.399Z"
   },
   {
    "duration": 0,
    "start_time": "2022-04-28T12:41:47.400Z"
   },
   {
    "duration": 0,
    "start_time": "2022-04-28T12:41:47.401Z"
   },
   {
    "duration": 0,
    "start_time": "2022-04-28T12:41:47.403Z"
   },
   {
    "duration": 0,
    "start_time": "2022-04-28T12:41:47.404Z"
   },
   {
    "duration": 0,
    "start_time": "2022-04-28T12:41:47.405Z"
   },
   {
    "duration": 0,
    "start_time": "2022-04-28T12:41:47.408Z"
   },
   {
    "duration": 0,
    "start_time": "2022-04-28T12:41:47.409Z"
   },
   {
    "duration": 12,
    "start_time": "2022-04-28T13:26:54.435Z"
   },
   {
    "duration": 40,
    "start_time": "2022-04-28T13:26:54.450Z"
   },
   {
    "duration": 1722,
    "start_time": "2022-04-28T13:26:54.492Z"
   },
   {
    "duration": 0,
    "start_time": "2022-04-28T13:26:56.217Z"
   },
   {
    "duration": 0,
    "start_time": "2022-04-28T13:26:56.218Z"
   },
   {
    "duration": 0,
    "start_time": "2022-04-28T13:26:56.220Z"
   },
   {
    "duration": 1,
    "start_time": "2022-04-28T13:26:56.221Z"
   },
   {
    "duration": 0,
    "start_time": "2022-04-28T13:26:56.223Z"
   },
   {
    "duration": 0,
    "start_time": "2022-04-28T13:26:56.225Z"
   },
   {
    "duration": 0,
    "start_time": "2022-04-28T13:26:56.226Z"
   },
   {
    "duration": 0,
    "start_time": "2022-04-28T13:26:56.228Z"
   },
   {
    "duration": 0,
    "start_time": "2022-04-28T13:26:56.230Z"
   },
   {
    "duration": 0,
    "start_time": "2022-04-28T13:26:56.231Z"
   },
   {
    "duration": 0,
    "start_time": "2022-04-28T13:26:56.233Z"
   },
   {
    "duration": 0,
    "start_time": "2022-04-28T13:26:56.235Z"
   },
   {
    "duration": 0,
    "start_time": "2022-04-28T13:26:56.236Z"
   },
   {
    "duration": 0,
    "start_time": "2022-04-28T13:26:56.238Z"
   },
   {
    "duration": 0,
    "start_time": "2022-04-28T13:26:56.239Z"
   },
   {
    "duration": 0,
    "start_time": "2022-04-28T13:26:56.241Z"
   },
   {
    "duration": 0,
    "start_time": "2022-04-28T13:26:56.242Z"
   },
   {
    "duration": 0,
    "start_time": "2022-04-28T13:26:56.243Z"
   },
   {
    "duration": 0,
    "start_time": "2022-04-28T13:26:56.244Z"
   },
   {
    "duration": 0,
    "start_time": "2022-04-28T13:26:56.246Z"
   },
   {
    "duration": 0,
    "start_time": "2022-04-28T13:26:56.248Z"
   },
   {
    "duration": 0,
    "start_time": "2022-04-28T13:26:56.249Z"
   },
   {
    "duration": 0,
    "start_time": "2022-04-28T13:26:56.250Z"
   },
   {
    "duration": 0,
    "start_time": "2022-04-28T13:26:56.251Z"
   },
   {
    "duration": 0,
    "start_time": "2022-04-28T13:26:56.253Z"
   },
   {
    "duration": 0,
    "start_time": "2022-04-28T13:26:56.293Z"
   },
   {
    "duration": 0,
    "start_time": "2022-04-28T13:26:56.294Z"
   },
   {
    "duration": 0,
    "start_time": "2022-04-28T13:26:56.296Z"
   },
   {
    "duration": 0,
    "start_time": "2022-04-28T13:26:56.297Z"
   },
   {
    "duration": 116,
    "start_time": "2022-04-28T13:27:38.827Z"
   },
   {
    "duration": 635,
    "start_time": "2022-04-28T13:27:43.967Z"
   },
   {
    "duration": 17,
    "start_time": "2022-04-28T13:27:47.363Z"
   },
   {
    "duration": 12,
    "start_time": "2022-04-28T13:27:49.733Z"
   },
   {
    "duration": 1111,
    "start_time": "2022-04-28T13:27:51.782Z"
   },
   {
    "duration": 13,
    "start_time": "2022-04-28T13:28:00.387Z"
   },
   {
    "duration": 11,
    "start_time": "2022-04-28T13:28:02.947Z"
   },
   {
    "duration": 707,
    "start_time": "2022-04-28T13:28:03.723Z"
   },
   {
    "duration": 31,
    "start_time": "2022-04-28T13:28:09.135Z"
   },
   {
    "duration": 533,
    "start_time": "2022-04-28T13:28:09.567Z"
   },
   {
    "duration": 28,
    "start_time": "2022-04-28T13:28:13.730Z"
   },
   {
    "duration": 546,
    "start_time": "2022-04-28T13:28:14.147Z"
   },
   {
    "duration": 27,
    "start_time": "2022-04-28T13:28:14.696Z"
   },
   {
    "duration": 573,
    "start_time": "2022-04-28T13:28:15.555Z"
   },
   {
    "duration": 26,
    "start_time": "2022-04-28T13:28:16.687Z"
   },
   {
    "duration": 593,
    "start_time": "2022-04-28T13:28:17.367Z"
   },
   {
    "duration": 16,
    "start_time": "2022-04-28T13:28:21.018Z"
   },
   {
    "duration": 547,
    "start_time": "2022-04-28T13:28:21.037Z"
   },
   {
    "duration": 20,
    "start_time": "2022-04-28T13:28:23.163Z"
   },
   {
    "duration": 509,
    "start_time": "2022-04-28T13:28:24.275Z"
   },
   {
    "duration": 12,
    "start_time": "2022-04-28T13:28:27.406Z"
   },
   {
    "duration": 13,
    "start_time": "2022-04-28T13:28:29.111Z"
   },
   {
    "duration": 325,
    "start_time": "2022-04-28T13:28:29.943Z"
   },
   {
    "duration": 345,
    "start_time": "2022-04-28T13:28:30.595Z"
   },
   {
    "duration": 491,
    "start_time": "2022-04-28T13:28:31.427Z"
   },
   {
    "duration": 24,
    "start_time": "2022-04-28T13:28:34.803Z"
   },
   {
    "duration": 19,
    "start_time": "2022-04-28T13:28:38.047Z"
   },
   {
    "duration": 12,
    "start_time": "2022-04-28T13:28:43.735Z"
   },
   {
    "duration": 17,
    "start_time": "2022-04-28T13:28:45.023Z"
   },
   {
    "duration": 548,
    "start_time": "2022-04-28T13:32:27.871Z"
   },
   {
    "duration": 136,
    "start_time": "2022-04-28T13:32:52.111Z"
   },
   {
    "duration": 262,
    "start_time": "2022-04-28T13:33:19.627Z"
   },
   {
    "duration": 368,
    "start_time": "2022-04-28T13:33:29.561Z"
   },
   {
    "duration": 141,
    "start_time": "2022-04-28T13:34:53.291Z"
   },
   {
    "duration": 142,
    "start_time": "2022-04-28T13:35:10.567Z"
   },
   {
    "duration": 543,
    "start_time": "2022-04-28T13:35:54.475Z"
   },
   {
    "duration": 535,
    "start_time": "2022-04-28T13:42:24.143Z"
   },
   {
    "duration": 191,
    "start_time": "2022-04-28T13:49:55.887Z"
   },
   {
    "duration": 1541,
    "start_time": "2022-05-04T14:25:45.498Z"
   },
   {
    "duration": 544,
    "start_time": "2022-05-04T14:27:06.923Z"
   },
   {
    "duration": 192,
    "start_time": "2022-05-04T14:28:03.169Z"
   },
   {
    "duration": 108,
    "start_time": "2022-05-04T14:28:11.385Z"
   },
   {
    "duration": 3,
    "start_time": "2022-05-04T14:28:26.688Z"
   },
   {
    "duration": 1205,
    "start_time": "2022-05-04T14:28:40.666Z"
   },
   {
    "duration": 128,
    "start_time": "2022-05-04T14:28:45.069Z"
   },
   {
    "duration": 75,
    "start_time": "2022-05-04T14:28:56.740Z"
   },
   {
    "duration": 16,
    "start_time": "2022-05-04T14:49:37.082Z"
   },
   {
    "duration": 15,
    "start_time": "2022-05-04T14:49:44.977Z"
   },
   {
    "duration": 6,
    "start_time": "2022-05-04T14:49:53.106Z"
   },
   {
    "duration": 33,
    "start_time": "2022-05-04T14:49:59.975Z"
   },
   {
    "duration": 20,
    "start_time": "2022-05-04T14:50:03.507Z"
   },
   {
    "duration": 5,
    "start_time": "2022-05-04T14:50:07.407Z"
   },
   {
    "duration": 27,
    "start_time": "2022-05-04T14:50:11.183Z"
   },
   {
    "duration": 5,
    "start_time": "2022-05-04T14:50:15.592Z"
   },
   {
    "duration": 343,
    "start_time": "2022-05-04T14:50:18.809Z"
   },
   {
    "duration": 5,
    "start_time": "2022-05-04T14:50:24.814Z"
   },
   {
    "duration": 9,
    "start_time": "2022-05-04T14:50:28.655Z"
   },
   {
    "duration": 13,
    "start_time": "2022-05-04T14:50:32.407Z"
   },
   {
    "duration": 7,
    "start_time": "2022-05-04T14:50:44.608Z"
   },
   {
    "duration": 13,
    "start_time": "2022-05-04T14:51:25.146Z"
   },
   {
    "duration": 2926,
    "start_time": "2022-05-04T14:58:15.131Z"
   },
   {
    "duration": 5,
    "start_time": "2022-05-04T14:58:30.970Z"
   },
   {
    "duration": 4,
    "start_time": "2022-05-04T15:05:22.166Z"
   },
   {
    "duration": 1409,
    "start_time": "2022-05-04T15:06:23.234Z"
   },
   {
    "duration": 151,
    "start_time": "2022-05-04T15:06:34.123Z"
   },
   {
    "duration": 50,
    "start_time": "2022-05-04T15:06:58.390Z"
   },
   {
    "duration": 15,
    "start_time": "2022-05-04T15:07:19.153Z"
   },
   {
    "duration": 17,
    "start_time": "2022-05-04T15:07:22.985Z"
   },
   {
    "duration": 7,
    "start_time": "2022-05-04T15:07:32.046Z"
   },
   {
    "duration": 33,
    "start_time": "2022-05-04T15:07:38.774Z"
   },
   {
    "duration": 20,
    "start_time": "2022-05-04T15:07:46.657Z"
   },
   {
    "duration": 24,
    "start_time": "2022-05-04T15:07:50.622Z"
   },
   {
    "duration": 6,
    "start_time": "2022-05-04T15:07:54.503Z"
   },
   {
    "duration": 359,
    "start_time": "2022-05-04T15:07:57.686Z"
   },
   {
    "duration": 5,
    "start_time": "2022-05-04T15:08:02.992Z"
   },
   {
    "duration": 8,
    "start_time": "2022-05-04T15:08:06.511Z"
   },
   {
    "duration": 16,
    "start_time": "2022-05-04T15:08:09.966Z"
   },
   {
    "duration": 7,
    "start_time": "2022-05-04T15:08:18.752Z"
   },
   {
    "duration": 5,
    "start_time": "2022-05-04T15:08:22.230Z"
   },
   {
    "duration": 13,
    "start_time": "2022-05-04T15:08:25.968Z"
   },
   {
    "duration": 6,
    "start_time": "2022-05-04T15:08:28.606Z"
   },
   {
    "duration": 22,
    "start_time": "2022-05-04T15:08:39.112Z"
   },
   {
    "duration": 3,
    "start_time": "2022-05-04T15:09:00.671Z"
   },
   {
    "duration": 12,
    "start_time": "2022-05-04T15:09:31.128Z"
   },
   {
    "duration": 566,
    "start_time": "2022-05-04T15:09:37.416Z"
   },
   {
    "duration": 15,
    "start_time": "2022-05-04T15:16:40.569Z"
   },
   {
    "duration": 188,
    "start_time": "2022-05-04T15:16:53.441Z"
   },
   {
    "duration": 20,
    "start_time": "2022-05-04T15:20:04.818Z"
   },
   {
    "duration": 19,
    "start_time": "2022-05-04T15:21:41.850Z"
   },
   {
    "duration": 1016,
    "start_time": "2022-05-04T15:21:47.368Z"
   },
   {
    "duration": 33,
    "start_time": "2022-05-04T15:22:15.799Z"
   },
   {
    "duration": 12,
    "start_time": "2022-05-04T15:22:19.486Z"
   },
   {
    "duration": 134,
    "start_time": "2022-05-04T15:27:09.163Z"
   },
   {
    "duration": 13,
    "start_time": "2022-05-04T15:28:13.644Z"
   },
   {
    "duration": 23,
    "start_time": "2022-05-04T15:31:49.689Z"
   },
   {
    "duration": 1013,
    "start_time": "2022-05-04T15:41:26.576Z"
   },
   {
    "duration": 56,
    "start_time": "2022-05-04T15:54:41.968Z"
   },
   {
    "duration": 79,
    "start_time": "2022-05-04T16:02:56.097Z"
   },
   {
    "duration": 343,
    "start_time": "2022-05-04T16:04:53.797Z"
   },
   {
    "duration": 1292,
    "start_time": "2022-05-04T16:27:33.899Z"
   },
   {
    "duration": 139,
    "start_time": "2022-05-04T16:27:37.422Z"
   },
   {
    "duration": 45,
    "start_time": "2022-05-04T16:27:40.670Z"
   },
   {
    "duration": 19,
    "start_time": "2022-05-04T16:27:46.290Z"
   },
   {
    "duration": 18,
    "start_time": "2022-05-04T16:27:49.957Z"
   },
   {
    "duration": 10,
    "start_time": "2022-05-04T16:27:55.616Z"
   },
   {
    "duration": 32,
    "start_time": "2022-05-04T16:28:00.264Z"
   },
   {
    "duration": 19,
    "start_time": "2022-05-04T16:31:03.278Z"
   },
   {
    "duration": 25,
    "start_time": "2022-05-04T16:31:06.473Z"
   },
   {
    "duration": 7,
    "start_time": "2022-05-04T16:31:12.241Z"
   },
   {
    "duration": 355,
    "start_time": "2022-05-04T16:31:16.190Z"
   },
   {
    "duration": 6,
    "start_time": "2022-05-04T16:31:19.481Z"
   },
   {
    "duration": 9,
    "start_time": "2022-05-04T16:31:23.532Z"
   },
   {
    "duration": 32,
    "start_time": "2022-05-04T16:31:48.216Z"
   },
   {
    "duration": 11,
    "start_time": "2022-05-04T16:31:53.529Z"
   },
   {
    "duration": 6,
    "start_time": "2022-05-04T16:31:56.873Z"
   },
   {
    "duration": 22,
    "start_time": "2022-05-04T16:31:59.809Z"
   },
   {
    "duration": 5,
    "start_time": "2022-05-04T16:32:06.114Z"
   },
   {
    "duration": 34,
    "start_time": "2022-05-04T16:32:13.682Z"
   },
   {
    "duration": 3,
    "start_time": "2022-05-04T16:32:18.988Z"
   },
   {
    "duration": 13,
    "start_time": "2022-05-04T16:32:25.787Z"
   },
   {
    "duration": 400,
    "start_time": "2022-05-04T16:32:37.429Z"
   },
   {
    "duration": 18,
    "start_time": "2022-05-04T16:32:45.156Z"
   },
   {
    "duration": 198,
    "start_time": "2022-05-04T16:32:50.469Z"
   },
   {
    "duration": 20,
    "start_time": "2022-05-04T16:32:55.579Z"
   },
   {
    "duration": 1153,
    "start_time": "2022-05-04T16:32:58.875Z"
   },
   {
    "duration": 37,
    "start_time": "2022-05-04T16:33:10.436Z"
   },
   {
    "duration": 15,
    "start_time": "2022-05-04T16:33:14.708Z"
   },
   {
    "duration": 143,
    "start_time": "2022-05-04T16:33:23.422Z"
   },
   {
    "duration": 12,
    "start_time": "2022-05-04T16:33:31.452Z"
   },
   {
    "duration": 21,
    "start_time": "2022-05-04T16:33:39.376Z"
   },
   {
    "duration": 1011,
    "start_time": "2022-05-04T16:33:44.862Z"
   },
   {
    "duration": 75,
    "start_time": "2022-05-04T16:33:56.493Z"
   },
   {
    "duration": 357,
    "start_time": "2022-05-04T16:34:00.971Z"
   },
   {
    "duration": 65,
    "start_time": "2022-05-04T16:34:05.573Z"
   },
   {
    "duration": 1328,
    "start_time": "2022-05-05T05:18:31.369Z"
   },
   {
    "duration": 109,
    "start_time": "2022-05-05T05:18:35.385Z"
   },
   {
    "duration": 43,
    "start_time": "2022-05-05T05:18:39.076Z"
   },
   {
    "duration": 15,
    "start_time": "2022-05-05T05:18:45.603Z"
   },
   {
    "duration": 15,
    "start_time": "2022-05-05T05:18:50.307Z"
   },
   {
    "duration": 6,
    "start_time": "2022-05-05T05:18:55.220Z"
   },
   {
    "duration": 28,
    "start_time": "2022-05-05T05:18:59.421Z"
   },
   {
    "duration": 20,
    "start_time": "2022-05-05T05:19:03.667Z"
   },
   {
    "duration": 23,
    "start_time": "2022-05-05T05:19:07.713Z"
   },
   {
    "duration": 4,
    "start_time": "2022-05-05T05:19:12.108Z"
   },
   {
    "duration": 315,
    "start_time": "2022-05-05T05:19:16.679Z"
   },
   {
    "duration": 4,
    "start_time": "2022-05-05T05:19:20.095Z"
   },
   {
    "duration": 7,
    "start_time": "2022-05-05T05:19:23.462Z"
   },
   {
    "duration": 13,
    "start_time": "2022-05-05T05:19:27.775Z"
   },
   {
    "duration": 7,
    "start_time": "2022-05-05T05:19:31.963Z"
   },
   {
    "duration": 5,
    "start_time": "2022-05-05T05:19:35.900Z"
   },
   {
    "duration": 15,
    "start_time": "2022-05-05T05:19:39.287Z"
   },
   {
    "duration": 5,
    "start_time": "2022-05-05T05:19:43.047Z"
   },
   {
    "duration": 23,
    "start_time": "2022-05-05T05:19:56.015Z"
   },
   {
    "duration": 3,
    "start_time": "2022-05-05T05:20:01.677Z"
   },
   {
    "duration": 12,
    "start_time": "2022-05-05T05:20:06.238Z"
   },
   {
    "duration": 413,
    "start_time": "2022-05-05T05:20:11.024Z"
   },
   {
    "duration": 16,
    "start_time": "2022-05-05T05:20:22.374Z"
   },
   {
    "duration": 525,
    "start_time": "2022-05-05T05:23:44.336Z"
   },
   {
    "duration": 1411,
    "start_time": "2022-05-05T05:25:04.351Z"
   },
   {
    "duration": 105,
    "start_time": "2022-05-05T05:25:08.557Z"
   },
   {
    "duration": 41,
    "start_time": "2022-05-05T05:25:11.316Z"
   },
   {
    "duration": 13,
    "start_time": "2022-05-05T05:25:15.858Z"
   },
   {
    "duration": 14,
    "start_time": "2022-05-05T05:25:20.003Z"
   },
   {
    "duration": 5,
    "start_time": "2022-05-05T05:25:23.637Z"
   },
   {
    "duration": 31,
    "start_time": "2022-05-05T05:25:28.352Z"
   },
   {
    "duration": 20,
    "start_time": "2022-05-05T05:25:32.878Z"
   },
   {
    "duration": 100,
    "start_time": "2022-05-05T05:25:36.266Z"
   },
   {
    "duration": 4,
    "start_time": "2022-05-05T05:25:41.924Z"
   },
   {
    "duration": 318,
    "start_time": "2022-05-05T05:25:46.834Z"
   },
   {
    "duration": 4,
    "start_time": "2022-05-05T05:25:52.700Z"
   },
   {
    "duration": 8,
    "start_time": "2022-05-05T05:25:56.218Z"
   },
   {
    "duration": 15,
    "start_time": "2022-05-05T05:26:00.060Z"
   },
   {
    "duration": 7,
    "start_time": "2022-05-05T05:26:05.333Z"
   },
   {
    "duration": 5,
    "start_time": "2022-05-05T05:26:08.731Z"
   },
   {
    "duration": 14,
    "start_time": "2022-05-05T05:26:13.014Z"
   },
   {
    "duration": 4,
    "start_time": "2022-05-05T05:26:16.816Z"
   },
   {
    "duration": 24,
    "start_time": "2022-05-05T05:26:21.275Z"
   },
   {
    "duration": 3,
    "start_time": "2022-05-05T05:26:25.852Z"
   },
   {
    "duration": 12,
    "start_time": "2022-05-05T05:26:30.132Z"
   },
   {
    "duration": 587,
    "start_time": "2022-05-05T05:26:36.989Z"
   },
   {
    "duration": 17,
    "start_time": "2022-05-05T05:26:42.916Z"
   },
   {
    "duration": 199,
    "start_time": "2022-05-05T05:26:46.704Z"
   },
   {
    "duration": 17,
    "start_time": "2022-05-05T05:26:52.005Z"
   },
   {
    "duration": 969,
    "start_time": "2022-05-05T05:27:05.467Z"
   },
   {
    "duration": 32,
    "start_time": "2022-05-05T05:27:13.476Z"
   },
   {
    "duration": 11,
    "start_time": "2022-05-05T05:27:18.413Z"
   },
   {
    "duration": 129,
    "start_time": "2022-05-05T05:27:27.261Z"
   },
   {
    "duration": 11,
    "start_time": "2022-05-05T05:27:33.166Z"
   },
   {
    "duration": 19,
    "start_time": "2022-05-05T05:27:40.064Z"
   },
   {
    "duration": 923,
    "start_time": "2022-05-05T05:27:46.674Z"
   },
   {
    "duration": 47,
    "start_time": "2022-05-05T05:27:52.348Z"
   },
   {
    "duration": 323,
    "start_time": "2022-05-05T05:27:57.574Z"
   },
   {
    "duration": 57,
    "start_time": "2022-05-05T05:28:04.122Z"
   },
   {
    "duration": 10,
    "start_time": "2022-05-05T05:29:04.904Z"
   },
   {
    "duration": 7,
    "start_time": "2022-05-05T05:29:18.318Z"
   },
   {
    "duration": 194,
    "start_time": "2022-05-05T05:29:40.945Z"
   },
   {
    "duration": 207,
    "start_time": "2022-05-05T05:31:03.590Z"
   },
   {
    "duration": 5,
    "start_time": "2022-05-05T05:31:42.713Z"
   },
   {
    "duration": 213,
    "start_time": "2022-05-05T05:32:09.081Z"
   },
   {
    "duration": 5,
    "start_time": "2022-05-05T05:32:56.963Z"
   },
   {
    "duration": 191,
    "start_time": "2022-05-05T05:36:22.867Z"
   },
   {
    "duration": 6,
    "start_time": "2022-05-05T05:37:07.514Z"
   },
   {
    "duration": 182,
    "start_time": "2022-05-05T05:37:40.023Z"
   },
   {
    "duration": 6,
    "start_time": "2022-05-05T05:38:07.312Z"
   },
   {
    "duration": 8,
    "start_time": "2022-05-05T05:41:14.060Z"
   },
   {
    "duration": 8,
    "start_time": "2022-05-05T05:41:29.555Z"
   },
   {
    "duration": 480,
    "start_time": "2022-05-05T05:41:49.836Z"
   },
   {
    "duration": 7,
    "start_time": "2022-05-05T05:44:42.912Z"
   },
   {
    "duration": 8,
    "start_time": "2022-05-05T05:45:51.177Z"
   },
   {
    "duration": 380,
    "start_time": "2022-05-05T05:47:13.788Z"
   },
   {
    "duration": 383,
    "start_time": "2022-05-05T05:48:22.741Z"
   },
   {
    "duration": 303,
    "start_time": "2022-05-05T05:55:20.257Z"
   },
   {
    "duration": 328,
    "start_time": "2022-05-05T05:55:27.358Z"
   },
   {
    "duration": 17,
    "start_time": "2022-05-05T06:49:15.103Z"
   },
   {
    "duration": 416,
    "start_time": "2022-05-05T06:49:20.285Z"
   },
   {
    "duration": 20,
    "start_time": "2022-05-05T06:51:45.552Z"
   },
   {
    "duration": 18,
    "start_time": "2022-05-05T06:51:49.193Z"
   },
   {
    "duration": 525,
    "start_time": "2022-05-05T06:51:53.055Z"
   },
   {
    "duration": 26,
    "start_time": "2022-05-05T06:53:44.883Z"
   },
   {
    "duration": 489,
    "start_time": "2022-05-05T06:53:58.866Z"
   },
   {
    "duration": 12,
    "start_time": "2022-05-05T06:55:38.498Z"
   },
   {
    "duration": 24,
    "start_time": "2022-05-05T06:55:49.478Z"
   },
   {
    "duration": 222,
    "start_time": "2022-05-05T06:56:50.860Z"
   },
   {
    "duration": 2616,
    "start_time": "2022-05-05T06:57:29.959Z"
   },
   {
    "duration": 214,
    "start_time": "2022-05-05T06:58:00.257Z"
   },
   {
    "duration": 524,
    "start_time": "2022-05-05T06:58:56.730Z"
   },
   {
    "duration": 19,
    "start_time": "2022-05-05T06:59:48.746Z"
   },
   {
    "duration": 18,
    "start_time": "2022-05-05T07:00:25.623Z"
   },
   {
    "duration": 238,
    "start_time": "2022-05-05T07:01:21.994Z"
   },
   {
    "duration": 17,
    "start_time": "2022-05-05T07:03:40.378Z"
   },
   {
    "duration": 352,
    "start_time": "2022-05-05T07:03:53.798Z"
   },
   {
    "duration": 17,
    "start_time": "2022-05-05T07:04:59.519Z"
   },
   {
    "duration": 16,
    "start_time": "2022-05-05T07:05:28.763Z"
   },
   {
    "duration": 230,
    "start_time": "2022-05-05T07:06:17.308Z"
   },
   {
    "duration": 505,
    "start_time": "2022-05-05T07:43:26.970Z"
   },
   {
    "duration": 14,
    "start_time": "2022-05-05T07:43:46.400Z"
   },
   {
    "duration": 480,
    "start_time": "2022-05-05T07:43:49.512Z"
   },
   {
    "duration": 7,
    "start_time": "2022-05-05T07:44:25.499Z"
   },
   {
    "duration": 332,
    "start_time": "2022-05-05T07:45:11.565Z"
   },
   {
    "duration": 8,
    "start_time": "2022-05-05T07:45:50.438Z"
   },
   {
    "duration": 488,
    "start_time": "2022-05-05T07:45:53.245Z"
   },
   {
    "duration": 14,
    "start_time": "2022-05-05T08:00:49.949Z"
   },
   {
    "duration": 485,
    "start_time": "2022-05-05T08:00:54.221Z"
   },
   {
    "duration": 15,
    "start_time": "2022-05-05T08:02:06.833Z"
   },
   {
    "duration": 334,
    "start_time": "2022-05-05T08:03:35.483Z"
   },
   {
    "duration": 330,
    "start_time": "2022-05-05T08:04:45.827Z"
   },
   {
    "duration": 46,
    "start_time": "2022-05-05T11:38:47.454Z"
   },
   {
    "duration": 1313,
    "start_time": "2022-05-05T11:39:14.496Z"
   },
   {
    "duration": 1072,
    "start_time": "2022-05-05T11:39:28.873Z"
   },
   {
    "duration": 158,
    "start_time": "2022-05-05T11:39:31.863Z"
   },
   {
    "duration": 41,
    "start_time": "2022-05-05T11:39:34.766Z"
   },
   {
    "duration": 13,
    "start_time": "2022-05-05T11:39:41.579Z"
   },
   {
    "duration": 5,
    "start_time": "2022-05-05T11:39:45.912Z"
   },
   {
    "duration": 29,
    "start_time": "2022-05-05T11:39:50.490Z"
   },
   {
    "duration": 18,
    "start_time": "2022-05-05T11:39:53.826Z"
   },
   {
    "duration": 21,
    "start_time": "2022-05-05T11:39:57.867Z"
   },
   {
    "duration": 4,
    "start_time": "2022-05-05T11:40:01.784Z"
   },
   {
    "duration": 311,
    "start_time": "2022-05-05T11:40:04.842Z"
   },
   {
    "duration": 5,
    "start_time": "2022-05-05T11:40:08.394Z"
   },
   {
    "duration": 7,
    "start_time": "2022-05-05T11:40:11.216Z"
   },
   {
    "duration": 14,
    "start_time": "2022-05-05T11:40:14.680Z"
   },
   {
    "duration": 7,
    "start_time": "2022-05-05T11:40:19.574Z"
   },
   {
    "duration": 5,
    "start_time": "2022-05-05T11:40:22.058Z"
   },
   {
    "duration": 13,
    "start_time": "2022-05-05T11:40:25.098Z"
   },
   {
    "duration": 4,
    "start_time": "2022-05-05T11:40:28.128Z"
   },
   {
    "duration": 24,
    "start_time": "2022-05-05T11:40:33.681Z"
   },
   {
    "duration": 3,
    "start_time": "2022-05-05T11:40:38.033Z"
   },
   {
    "duration": 11,
    "start_time": "2022-05-05T11:40:40.907Z"
   },
   {
    "duration": 361,
    "start_time": "2022-05-05T11:40:44.588Z"
   },
   {
    "duration": 17,
    "start_time": "2022-05-05T11:40:48.732Z"
   },
   {
    "duration": 184,
    "start_time": "2022-05-05T11:40:52.506Z"
   },
   {
    "duration": 15,
    "start_time": "2022-05-05T11:40:57.640Z"
   },
   {
    "duration": 983,
    "start_time": "2022-05-05T11:41:01.945Z"
   },
   {
    "duration": 31,
    "start_time": "2022-05-05T11:41:09.077Z"
   },
   {
    "duration": 11,
    "start_time": "2022-05-05T11:41:13.107Z"
   },
   {
    "duration": 127,
    "start_time": "2022-05-05T11:41:19.716Z"
   },
   {
    "duration": 12,
    "start_time": "2022-05-05T11:41:25.192Z"
   },
   {
    "duration": 19,
    "start_time": "2022-05-05T11:41:29.571Z"
   },
   {
    "duration": 914,
    "start_time": "2022-05-05T11:41:34.522Z"
   },
   {
    "duration": 46,
    "start_time": "2022-05-05T11:41:39.679Z"
   },
   {
    "duration": 320,
    "start_time": "2022-05-05T11:41:44.077Z"
   },
   {
    "duration": 54,
    "start_time": "2022-05-05T11:41:49.268Z"
   },
   {
    "duration": 8,
    "start_time": "2022-05-05T11:41:58.893Z"
   },
   {
    "duration": 188,
    "start_time": "2022-05-05T11:42:03.149Z"
   },
   {
    "duration": 6,
    "start_time": "2022-05-05T11:42:08.195Z"
   },
   {
    "duration": 189,
    "start_time": "2022-05-05T11:42:10.740Z"
   },
   {
    "duration": 6,
    "start_time": "2022-05-05T11:42:14.466Z"
   },
   {
    "duration": 172,
    "start_time": "2022-05-05T11:42:17.578Z"
   },
   {
    "duration": 5,
    "start_time": "2022-05-05T11:42:22.662Z"
   },
   {
    "duration": 178,
    "start_time": "2022-05-05T11:42:25.996Z"
   },
   {
    "duration": 6,
    "start_time": "2022-05-05T11:42:30.163Z"
   },
   {
    "duration": 8,
    "start_time": "2022-05-05T11:42:34.635Z"
   },
   {
    "duration": 7,
    "start_time": "2022-05-05T11:42:37.999Z"
   },
   {
    "duration": 7,
    "start_time": "2022-05-05T11:42:41.572Z"
   },
   {
    "duration": 7,
    "start_time": "2022-05-05T11:42:44.484Z"
   },
   {
    "duration": 376,
    "start_time": "2022-05-05T11:42:49.276Z"
   },
   {
    "duration": 448,
    "start_time": "2022-05-05T11:42:54.902Z"
   },
   {
    "duration": 13,
    "start_time": "2022-05-05T11:42:59.901Z"
   },
   {
    "duration": 191,
    "start_time": "2022-05-05T11:43:03.175Z"
   },
   {
    "duration": 16,
    "start_time": "2022-05-05T11:43:09.089Z"
   },
   {
    "duration": 280,
    "start_time": "2022-05-05T11:43:12.205Z"
   },
   {
    "duration": 17,
    "start_time": "2022-05-05T11:43:15.965Z"
   },
   {
    "duration": 198,
    "start_time": "2022-05-05T11:43:21.202Z"
   },
   {
    "duration": 17,
    "start_time": "2022-05-05T11:43:24.493Z"
   },
   {
    "duration": 282,
    "start_time": "2022-05-05T11:43:27.596Z"
   },
   {
    "duration": 16,
    "start_time": "2022-05-05T11:43:31.438Z"
   },
   {
    "duration": 202,
    "start_time": "2022-05-05T11:43:34.749Z"
   },
   {
    "duration": 16,
    "start_time": "2022-05-05T11:43:39.602Z"
   },
   {
    "duration": 329,
    "start_time": "2022-05-05T11:43:43.586Z"
   },
   {
    "duration": 16,
    "start_time": "2022-05-05T11:43:46.925Z"
   },
   {
    "duration": 10,
    "start_time": "2022-05-05T11:43:55.661Z"
   },
   {
    "duration": 288,
    "start_time": "2022-05-05T11:43:59.566Z"
   },
   {
    "duration": 7,
    "start_time": "2022-05-05T11:44:03.574Z"
   },
   {
    "duration": 419,
    "start_time": "2022-05-05T11:44:06.991Z"
   },
   {
    "duration": 11,
    "start_time": "2022-05-05T11:44:15.272Z"
   },
   {
    "duration": 290,
    "start_time": "2022-05-05T11:44:18.625Z"
   },
   {
    "duration": 10,
    "start_time": "2022-05-05T11:44:22.512Z"
   },
   {
    "duration": 304,
    "start_time": "2022-05-05T11:44:26.350Z"
   },
   {
    "duration": 7,
    "start_time": "2022-05-05T11:44:35.141Z"
   },
   {
    "duration": 9,
    "start_time": "2022-05-05T11:44:40.097Z"
   },
   {
    "duration": 186,
    "start_time": "2022-05-05T11:44:56.929Z"
   },
   {
    "duration": 194,
    "start_time": "2022-05-05T11:45:00.849Z"
   },
   {
    "duration": 190,
    "start_time": "2022-05-05T11:45:04.135Z"
   },
   {
    "duration": 7,
    "start_time": "2022-05-05T11:47:22.219Z"
   },
   {
    "duration": 8,
    "start_time": "2022-05-05T11:48:15.439Z"
   },
   {
    "duration": 8,
    "start_time": "2022-05-05T11:50:39.633Z"
   },
   {
    "duration": 7,
    "start_time": "2022-05-05T11:51:21.698Z"
   },
   {
    "duration": 11,
    "start_time": "2022-05-05T11:51:29.946Z"
   },
   {
    "duration": 10,
    "start_time": "2022-05-05T11:51:33.895Z"
   },
   {
    "duration": 200,
    "start_time": "2022-05-05T11:51:58.826Z"
   },
   {
    "duration": 171,
    "start_time": "2022-05-05T11:54:04.804Z"
   },
   {
    "duration": 258,
    "start_time": "2022-05-05T11:56:00.349Z"
   },
   {
    "duration": 176,
    "start_time": "2022-05-05T11:56:51.791Z"
   },
   {
    "duration": 132,
    "start_time": "2022-05-05T11:57:46.331Z"
   },
   {
    "duration": 199,
    "start_time": "2022-05-05T11:57:59.835Z"
   },
   {
    "duration": 183,
    "start_time": "2022-05-05T11:58:13.035Z"
   },
   {
    "duration": 198,
    "start_time": "2022-05-05T11:58:20.903Z"
   },
   {
    "duration": 302,
    "start_time": "2022-05-05T11:58:38.168Z"
   },
   {
    "duration": 195,
    "start_time": "2022-05-05T11:58:47.135Z"
   },
   {
    "duration": 173,
    "start_time": "2022-05-05T11:58:58.865Z"
   },
   {
    "duration": 164,
    "start_time": "2022-05-05T11:59:08.120Z"
   },
   {
    "duration": 187,
    "start_time": "2022-05-05T11:59:18.970Z"
   },
   {
    "duration": 200,
    "start_time": "2022-05-05T12:04:44.991Z"
   },
   {
    "duration": 198,
    "start_time": "2022-05-05T12:04:53.241Z"
   },
   {
    "duration": 282,
    "start_time": "2022-05-05T12:05:00.163Z"
   },
   {
    "duration": 181,
    "start_time": "2022-05-05T12:05:10.128Z"
   },
   {
    "duration": 175,
    "start_time": "2022-05-05T12:05:16.694Z"
   },
   {
    "duration": 180,
    "start_time": "2022-05-05T12:05:22.419Z"
   },
   {
    "duration": 18,
    "start_time": "2022-05-05T12:09:47.625Z"
   },
   {
    "duration": 13,
    "start_time": "2022-05-05T12:10:37.627Z"
   },
   {
    "duration": 299,
    "start_time": "2022-05-05T12:12:58.073Z"
   },
   {
    "duration": 527,
    "start_time": "2022-05-05T13:13:41.736Z"
   },
   {
    "duration": 311,
    "start_time": "2022-05-05T13:14:15.909Z"
   },
   {
    "duration": 322,
    "start_time": "2022-05-05T13:14:33.302Z"
   },
   {
    "duration": 305,
    "start_time": "2022-05-05T13:16:09.108Z"
   },
   {
    "duration": 451,
    "start_time": "2022-05-05T13:16:39.872Z"
   },
   {
    "duration": 320,
    "start_time": "2022-05-05T13:17:15.981Z"
   },
   {
    "duration": 11,
    "start_time": "2022-05-05T13:19:31.076Z"
   },
   {
    "duration": 326,
    "start_time": "2022-05-05T13:20:00.772Z"
   },
   {
    "duration": 317,
    "start_time": "2022-05-05T13:20:27.607Z"
   },
   {
    "duration": 320,
    "start_time": "2022-05-05T13:20:56.342Z"
   },
   {
    "duration": 322,
    "start_time": "2022-05-05T13:21:14.483Z"
   },
   {
    "duration": 18,
    "start_time": "2022-05-05T13:42:29.214Z"
   },
   {
    "duration": 12,
    "start_time": "2022-05-05T13:43:06.449Z"
   },
   {
    "duration": 12,
    "start_time": "2022-05-05T13:57:04.649Z"
   },
   {
    "duration": 9,
    "start_time": "2022-05-05T13:58:18.735Z"
   },
   {
    "duration": 1832,
    "start_time": "2022-05-06T08:25:52.156Z"
   },
   {
    "duration": 96,
    "start_time": "2022-05-06T08:25:53.991Z"
   },
   {
    "duration": 71,
    "start_time": "2022-05-06T08:25:54.090Z"
   },
   {
    "duration": 21,
    "start_time": "2022-05-06T08:25:54.164Z"
   },
   {
    "duration": 22,
    "start_time": "2022-05-06T08:25:54.187Z"
   },
   {
    "duration": 8,
    "start_time": "2022-05-06T08:25:54.211Z"
   },
   {
    "duration": 71,
    "start_time": "2022-05-06T08:25:54.221Z"
   },
   {
    "duration": 32,
    "start_time": "2022-05-06T08:25:54.294Z"
   },
   {
    "duration": 47,
    "start_time": "2022-05-06T08:25:54.328Z"
   },
   {
    "duration": 7,
    "start_time": "2022-05-06T08:25:54.379Z"
   },
   {
    "duration": 526,
    "start_time": "2022-05-06T08:25:54.388Z"
   },
   {
    "duration": 6,
    "start_time": "2022-05-06T08:25:54.917Z"
   },
   {
    "duration": 33,
    "start_time": "2022-05-06T08:25:54.925Z"
   },
   {
    "duration": 21,
    "start_time": "2022-05-06T08:25:54.961Z"
   },
   {
    "duration": 9,
    "start_time": "2022-05-06T08:25:54.985Z"
   },
   {
    "duration": 12,
    "start_time": "2022-05-06T08:25:54.996Z"
   },
   {
    "duration": 54,
    "start_time": "2022-05-06T08:25:55.010Z"
   },
   {
    "duration": 6,
    "start_time": "2022-05-06T08:25:55.066Z"
   },
   {
    "duration": 38,
    "start_time": "2022-05-06T08:25:55.075Z"
   },
   {
    "duration": 5,
    "start_time": "2022-05-06T08:25:55.116Z"
   },
   {
    "duration": 49,
    "start_time": "2022-05-06T08:25:55.123Z"
   },
   {
    "duration": 678,
    "start_time": "2022-05-06T08:25:55.176Z"
   },
   {
    "duration": 26,
    "start_time": "2022-05-06T08:25:55.856Z"
   },
   {
    "duration": 367,
    "start_time": "2022-05-06T08:25:55.884Z"
   },
   {
    "duration": 27,
    "start_time": "2022-05-06T08:25:56.254Z"
   },
   {
    "duration": 1708,
    "start_time": "2022-05-06T08:25:56.283Z"
   },
   {
    "duration": 66,
    "start_time": "2022-05-06T08:25:57.993Z"
   },
   {
    "duration": 16,
    "start_time": "2022-05-06T08:25:58.065Z"
   },
   {
    "duration": 217,
    "start_time": "2022-05-06T08:25:58.083Z"
   },
   {
    "duration": 17,
    "start_time": "2022-05-06T08:25:58.302Z"
   },
   {
    "duration": 49,
    "start_time": "2022-05-06T08:25:58.321Z"
   },
   {
    "duration": 1535,
    "start_time": "2022-05-06T08:25:58.373Z"
   },
   {
    "duration": 107,
    "start_time": "2022-05-06T08:25:59.911Z"
   },
   {
    "duration": 863,
    "start_time": "2022-05-06T08:26:00.021Z"
   },
   {
    "duration": 108,
    "start_time": "2022-05-06T08:26:00.887Z"
   },
   {
    "duration": 13,
    "start_time": "2022-05-06T08:26:00.998Z"
   },
   {
    "duration": 542,
    "start_time": "2022-05-06T08:26:01.013Z"
   },
   {
    "duration": 8,
    "start_time": "2022-05-06T08:26:01.558Z"
   },
   {
    "duration": 387,
    "start_time": "2022-05-06T08:26:01.567Z"
   },
   {
    "duration": 7,
    "start_time": "2022-05-06T08:26:01.956Z"
   },
   {
    "duration": 364,
    "start_time": "2022-05-06T08:26:01.966Z"
   },
   {
    "duration": 20,
    "start_time": "2022-05-06T08:26:02.333Z"
   },
   {
    "duration": 451,
    "start_time": "2022-05-06T08:26:02.355Z"
   },
   {
    "duration": 9,
    "start_time": "2022-05-06T08:26:02.808Z"
   },
   {
    "duration": 38,
    "start_time": "2022-05-06T08:26:02.819Z"
   },
   {
    "duration": 11,
    "start_time": "2022-05-06T08:26:02.860Z"
   },
   {
    "duration": 13,
    "start_time": "2022-05-06T08:26:02.873Z"
   },
   {
    "duration": 10,
    "start_time": "2022-05-06T08:26:02.889Z"
   },
   {
    "duration": 694,
    "start_time": "2022-05-06T08:26:02.902Z"
   },
   {
    "duration": 791,
    "start_time": "2022-05-06T08:26:03.598Z"
   },
   {
    "duration": 21,
    "start_time": "2022-05-06T08:26:04.392Z"
   },
   {
    "duration": 555,
    "start_time": "2022-05-06T08:26:04.416Z"
   },
   {
    "duration": 35,
    "start_time": "2022-05-06T08:26:04.973Z"
   },
   {
    "duration": 577,
    "start_time": "2022-05-06T08:26:05.011Z"
   },
   {
    "duration": 27,
    "start_time": "2022-05-06T08:26:05.591Z"
   },
   {
    "duration": 416,
    "start_time": "2022-05-06T08:26:05.621Z"
   },
   {
    "duration": 34,
    "start_time": "2022-05-06T08:26:06.039Z"
   },
   {
    "duration": 576,
    "start_time": "2022-05-06T08:26:06.075Z"
   },
   {
    "duration": 25,
    "start_time": "2022-05-06T08:26:06.653Z"
   },
   {
    "duration": 415,
    "start_time": "2022-05-06T08:26:06.680Z"
   },
   {
    "duration": 25,
    "start_time": "2022-05-06T08:26:07.097Z"
   },
   {
    "duration": 627,
    "start_time": "2022-05-06T08:26:07.124Z"
   },
   {
    "duration": 25,
    "start_time": "2022-05-06T08:26:07.754Z"
   },
   {
    "duration": 404,
    "start_time": "2022-05-06T08:26:07.781Z"
   },
   {
    "duration": 14,
    "start_time": "2022-05-06T08:26:08.187Z"
   },
   {
    "duration": 642,
    "start_time": "2022-05-06T08:26:08.204Z"
   },
   {
    "duration": 12,
    "start_time": "2022-05-06T08:26:08.852Z"
   },
   {
    "duration": 559,
    "start_time": "2022-05-06T08:26:08.866Z"
   },
   {
    "duration": 36,
    "start_time": "2022-05-06T08:26:09.427Z"
   },
   {
    "duration": 548,
    "start_time": "2022-05-06T08:26:09.465Z"
   },
   {
    "duration": 37,
    "start_time": "2022-05-06T08:26:10.016Z"
   },
   {
    "duration": 940,
    "start_time": "2022-05-06T08:26:10.056Z"
   },
   {
    "duration": 17,
    "start_time": "2022-05-06T08:26:10.999Z"
   },
   {
    "duration": 47,
    "start_time": "2022-05-06T08:26:11.019Z"
   },
   {
    "duration": 557,
    "start_time": "2022-05-06T08:26:11.069Z"
   },
   {
    "duration": 384,
    "start_time": "2022-05-06T08:26:11.629Z"
   },
   {
    "duration": 390,
    "start_time": "2022-05-06T08:26:12.016Z"
   },
   {
    "duration": 25,
    "start_time": "2022-05-06T08:26:12.408Z"
   },
   {
    "duration": 962,
    "start_time": "2022-05-06T08:26:12.436Z"
   },
   {
    "duration": 14,
    "start_time": "2022-05-06T08:26:13.401Z"
   },
   {
    "duration": 37,
    "start_time": "2022-05-06T08:26:13.418Z"
   },
   {
    "duration": 364,
    "start_time": "2022-05-06T08:26:13.463Z"
   },
   {
    "duration": 346,
    "start_time": "2022-05-06T08:26:13.829Z"
   },
   {
    "duration": 363,
    "start_time": "2022-05-06T08:26:14.178Z"
   },
   {
    "duration": 22,
    "start_time": "2022-05-06T08:26:14.545Z"
   },
   {
    "duration": 561,
    "start_time": "2022-05-06T08:26:14.570Z"
   },
   {
    "duration": 41,
    "start_time": "2022-05-06T08:26:15.134Z"
   },
   {
    "duration": 17,
    "start_time": "2022-05-06T08:26:15.177Z"
   },
   {
    "duration": 18,
    "start_time": "2022-05-06T08:26:15.197Z"
   },
   {
    "duration": 46,
    "start_time": "2022-05-06T08:26:15.218Z"
   },
   {
    "duration": 1350,
    "start_time": "2022-05-10T08:23:01.574Z"
   },
   {
    "duration": 68,
    "start_time": "2022-05-10T08:23:05.786Z"
   },
   {
    "duration": 49,
    "start_time": "2022-05-10T08:23:11.302Z"
   },
   {
    "duration": 21,
    "start_time": "2022-05-10T08:23:18.382Z"
   },
   {
    "duration": 15,
    "start_time": "2022-05-10T08:23:22.543Z"
   },
   {
    "duration": 6,
    "start_time": "2022-05-10T08:23:28.216Z"
   },
   {
    "duration": 31,
    "start_time": "2022-05-10T08:23:33.168Z"
   },
   {
    "duration": 20,
    "start_time": "2022-05-10T08:23:37.674Z"
   },
   {
    "duration": 21,
    "start_time": "2022-05-10T08:23:43.851Z"
   },
   {
    "duration": 5,
    "start_time": "2022-05-10T08:23:48.505Z"
   },
   {
    "duration": 367,
    "start_time": "2022-05-10T08:23:51.625Z"
   },
   {
    "duration": 6,
    "start_time": "2022-05-10T08:23:56.096Z"
   },
   {
    "duration": 11,
    "start_time": "2022-05-10T08:24:00.820Z"
   },
   {
    "duration": 22,
    "start_time": "2022-05-10T08:24:07.171Z"
   },
   {
    "duration": 7,
    "start_time": "2022-05-10T08:24:11.537Z"
   },
   {
    "duration": 6,
    "start_time": "2022-05-10T08:24:15.360Z"
   },
   {
    "duration": 15,
    "start_time": "2022-05-10T08:24:20.216Z"
   },
   {
    "duration": 5,
    "start_time": "2022-05-10T08:24:23.480Z"
   },
   {
    "duration": 37,
    "start_time": "2022-05-10T08:24:31.349Z"
   },
   {
    "duration": 4,
    "start_time": "2022-05-10T08:24:41.041Z"
   },
   {
    "duration": 16,
    "start_time": "2022-05-10T08:24:44.090Z"
   },
   {
    "duration": 436,
    "start_time": "2022-05-10T08:24:49.161Z"
   },
   {
    "duration": 17,
    "start_time": "2022-05-10T08:24:54.825Z"
   },
   {
    "duration": 212,
    "start_time": "2022-05-10T08:24:59.051Z"
   },
   {
    "duration": 20,
    "start_time": "2022-05-10T08:25:06.082Z"
   },
   {
    "duration": 1167,
    "start_time": "2022-05-10T08:25:12.545Z"
   },
   {
    "duration": 36,
    "start_time": "2022-05-10T08:25:21.730Z"
   },
   {
    "duration": 13,
    "start_time": "2022-05-10T08:25:26.631Z"
   },
   {
    "duration": 146,
    "start_time": "2022-05-10T08:25:39.114Z"
   },
   {
    "duration": 14,
    "start_time": "2022-05-10T08:25:43.947Z"
   },
   {
    "duration": 30,
    "start_time": "2022-05-10T08:25:47.669Z"
   },
   {
    "duration": 1040,
    "start_time": "2022-05-10T08:25:53.796Z"
   },
   {
    "duration": 81,
    "start_time": "2022-05-10T08:53:17.784Z"
   },
   {
    "duration": 973,
    "start_time": "2022-05-10T08:53:24.618Z"
   },
   {
    "duration": 900,
    "start_time": "2022-05-10T08:54:58.864Z"
   },
   {
    "duration": 3,
    "start_time": "2022-05-10T09:01:18.188Z"
   },
   {
    "duration": 131,
    "start_time": "2022-05-10T09:09:41.173Z"
   },
   {
    "duration": 131,
    "start_time": "2022-05-10T09:09:54.952Z"
   },
   {
    "duration": 10,
    "start_time": "2022-05-10T09:10:39.168Z"
   },
   {
    "duration": 8,
    "start_time": "2022-05-10T09:11:11.967Z"
   },
   {
    "duration": 17,
    "start_time": "2022-05-10T09:11:27.719Z"
   },
   {
    "duration": 64,
    "start_time": "2022-05-10T09:16:58.676Z"
   },
   {
    "duration": 18,
    "start_time": "2022-05-10T09:17:10.686Z"
   },
   {
    "duration": 20,
    "start_time": "2022-05-10T09:17:42.612Z"
   },
   {
    "duration": 5,
    "start_time": "2022-05-10T09:21:31.981Z"
   },
   {
    "duration": 30,
    "start_time": "2022-05-10T09:29:52.886Z"
   },
   {
    "duration": 8,
    "start_time": "2022-05-10T09:30:13.305Z"
   },
   {
    "duration": 74,
    "start_time": "2022-05-10T09:30:24.905Z"
   },
   {
    "duration": 9,
    "start_time": "2022-05-10T09:30:50.659Z"
   },
   {
    "duration": 8,
    "start_time": "2022-05-10T09:32:36.934Z"
   },
   {
    "duration": 10,
    "start_time": "2022-05-10T09:33:54.312Z"
   },
   {
    "duration": 10,
    "start_time": "2022-05-10T09:34:16.264Z"
   },
   {
    "duration": 21,
    "start_time": "2022-05-10T10:01:23.685Z"
   },
   {
    "duration": 25,
    "start_time": "2022-05-10T10:02:03.812Z"
   },
   {
    "duration": 907,
    "start_time": "2022-05-10T10:03:39.868Z"
   },
   {
    "duration": 540,
    "start_time": "2022-05-10T10:04:11.653Z"
   },
   {
    "duration": 11,
    "start_time": "2022-05-10T10:10:19.807Z"
   },
   {
    "duration": 37,
    "start_time": "2022-05-10T10:12:39.439Z"
   },
   {
    "duration": 151,
    "start_time": "2022-05-10T10:16:19.323Z"
   },
   {
    "duration": 119,
    "start_time": "2022-05-10T10:16:45.668Z"
   },
   {
    "duration": 141,
    "start_time": "2022-05-10T10:16:59.979Z"
   },
   {
    "duration": 130,
    "start_time": "2022-05-10T10:17:21.564Z"
   },
   {
    "duration": 146,
    "start_time": "2022-05-10T10:18:58.582Z"
   },
   {
    "duration": 141,
    "start_time": "2022-05-10T10:21:28.336Z"
   },
   {
    "duration": 139,
    "start_time": "2022-05-10T10:22:53.178Z"
   },
   {
    "duration": 139,
    "start_time": "2022-05-10T10:23:26.114Z"
   },
   {
    "duration": 138,
    "start_time": "2022-05-10T10:24:28.243Z"
   },
   {
    "duration": 142,
    "start_time": "2022-05-10T10:25:26.011Z"
   },
   {
    "duration": 136,
    "start_time": "2022-05-10T10:26:24.727Z"
   },
   {
    "duration": 542,
    "start_time": "2022-05-10T10:27:14.605Z"
   },
   {
    "duration": 185,
    "start_time": "2022-05-10T10:28:14.782Z"
   },
   {
    "duration": 175,
    "start_time": "2022-05-10T10:28:48.992Z"
   },
   {
    "duration": 178,
    "start_time": "2022-05-10T10:29:11.137Z"
   },
   {
    "duration": 196,
    "start_time": "2022-05-10T10:29:35.833Z"
   },
   {
    "duration": 170,
    "start_time": "2022-05-10T10:30:16.752Z"
   },
   {
    "duration": 1138,
    "start_time": "2022-05-10T10:43:35.826Z"
   },
   {
    "duration": 75,
    "start_time": "2022-05-10T10:43:39.168Z"
   },
   {
    "duration": 53,
    "start_time": "2022-05-10T10:43:43.116Z"
   },
   {
    "duration": 19,
    "start_time": "2022-05-10T10:43:54.003Z"
   },
   {
    "duration": 24,
    "start_time": "2022-05-10T10:43:57.585Z"
   },
   {
    "duration": 7,
    "start_time": "2022-05-10T10:44:01.030Z"
   },
   {
    "duration": 31,
    "start_time": "2022-05-10T10:44:04.450Z"
   },
   {
    "duration": 22,
    "start_time": "2022-05-10T10:44:08.185Z"
   },
   {
    "duration": 23,
    "start_time": "2022-05-10T10:44:11.553Z"
   },
   {
    "duration": 5,
    "start_time": "2022-05-10T10:44:14.997Z"
   },
   {
    "duration": 397,
    "start_time": "2022-05-10T10:44:17.787Z"
   },
   {
    "duration": 6,
    "start_time": "2022-05-10T10:44:21.067Z"
   },
   {
    "duration": 8,
    "start_time": "2022-05-10T10:44:24.753Z"
   },
   {
    "duration": 18,
    "start_time": "2022-05-10T10:44:27.793Z"
   },
   {
    "duration": 7,
    "start_time": "2022-05-10T10:44:31.155Z"
   },
   {
    "duration": 5,
    "start_time": "2022-05-10T10:44:34.783Z"
   },
   {
    "duration": 17,
    "start_time": "2022-05-10T10:44:37.313Z"
   },
   {
    "duration": 8,
    "start_time": "2022-05-10T10:44:40.305Z"
   },
   {
    "duration": 31,
    "start_time": "2022-05-10T10:44:44.999Z"
   },
   {
    "duration": 3,
    "start_time": "2022-05-10T10:44:49.650Z"
   },
   {
    "duration": 12,
    "start_time": "2022-05-10T10:44:52.854Z"
   },
   {
    "duration": 455,
    "start_time": "2022-05-10T10:44:57.849Z"
   },
   {
    "duration": 18,
    "start_time": "2022-05-10T10:45:03.431Z"
   },
   {
    "duration": 220,
    "start_time": "2022-05-10T10:45:07.491Z"
   },
   {
    "duration": 20,
    "start_time": "2022-05-10T10:45:11.148Z"
   },
   {
    "duration": 1232,
    "start_time": "2022-05-10T10:45:20.907Z"
   },
   {
    "duration": 40,
    "start_time": "2022-05-10T10:45:31.287Z"
   },
   {
    "duration": 12,
    "start_time": "2022-05-10T10:45:34.451Z"
   },
   {
    "duration": 152,
    "start_time": "2022-05-10T10:45:39.189Z"
   },
   {
    "duration": 12,
    "start_time": "2022-05-10T10:45:43.387Z"
   },
   {
    "duration": 20,
    "start_time": "2022-05-10T10:45:46.788Z"
   },
   {
    "duration": 508,
    "start_time": "2022-05-10T10:45:51.579Z"
   },
   {
    "duration": 268,
    "start_time": "2022-05-10T10:45:56.307Z"
   },
   {
    "duration": 184,
    "start_time": "2022-05-10T10:46:05.118Z"
   },
   {
    "duration": 188,
    "start_time": "2022-05-10T10:46:09.869Z"
   },
   {
    "duration": 188,
    "start_time": "2022-05-10T10:46:14.356Z"
   },
   {
    "duration": 183,
    "start_time": "2022-05-10T10:46:18.797Z"
   },
   {
    "duration": 54,
    "start_time": "2022-05-10T10:46:24.445Z"
   },
   {
    "duration": 415,
    "start_time": "2022-05-10T10:46:28.768Z"
   },
   {
    "duration": 76,
    "start_time": "2022-05-10T10:46:33.812Z"
   },
   {
    "duration": 7,
    "start_time": "2022-05-10T10:46:42.028Z"
   },
   {
    "duration": 8,
    "start_time": "2022-05-10T10:47:21.133Z"
   },
   {
    "duration": 244,
    "start_time": "2022-05-10T10:47:27.211Z"
   },
   {
    "duration": 230,
    "start_time": "2022-05-10T10:48:27.678Z"
   },
   {
    "duration": 6,
    "start_time": "2022-05-10T10:48:40.027Z"
   },
   {
    "duration": 281,
    "start_time": "2022-05-10T10:49:21.987Z"
   },
   {
    "duration": 5,
    "start_time": "2022-05-10T10:49:29.335Z"
   },
   {
    "duration": 210,
    "start_time": "2022-05-10T10:52:54.772Z"
   },
   {
    "duration": 6,
    "start_time": "2022-05-10T10:53:02.207Z"
   },
   {
    "duration": 212,
    "start_time": "2022-05-10T10:53:22.640Z"
   },
   {
    "duration": 5,
    "start_time": "2022-05-10T10:53:32.791Z"
   },
   {
    "duration": 6,
    "start_time": "2022-05-10T10:58:13.255Z"
   },
   {
    "duration": 4,
    "start_time": "2022-05-10T11:06:58.503Z"
   },
   {
    "duration": 66,
    "start_time": "2022-05-10T11:07:28.155Z"
   },
   {
    "duration": 4,
    "start_time": "2022-05-10T11:07:36.442Z"
   },
   {
    "duration": 523,
    "start_time": "2022-05-10T11:10:17.003Z"
   },
   {
    "duration": 413,
    "start_time": "2022-05-10T11:13:09.282Z"
   },
   {
    "duration": 475,
    "start_time": "2022-05-10T11:13:36.849Z"
   },
   {
    "duration": 401,
    "start_time": "2022-05-10T11:15:58.082Z"
   },
   {
    "duration": 462,
    "start_time": "2022-05-10T11:18:12.704Z"
   },
   {
    "duration": 473,
    "start_time": "2022-05-10T11:19:38.898Z"
   },
   {
    "duration": 450,
    "start_time": "2022-05-10T11:22:23.470Z"
   },
   {
    "duration": 446,
    "start_time": "2022-05-10T11:22:55.933Z"
   },
   {
    "duration": 443,
    "start_time": "2022-05-10T11:25:06.037Z"
   },
   {
    "duration": 405,
    "start_time": "2022-05-10T11:26:55.602Z"
   },
   {
    "duration": 414,
    "start_time": "2022-05-10T11:29:03.379Z"
   },
   {
    "duration": 13,
    "start_time": "2022-05-10T11:29:56.589Z"
   },
   {
    "duration": 64,
    "start_time": "2022-05-10T11:32:01.343Z"
   },
   {
    "duration": 42,
    "start_time": "2022-05-10T11:32:20.026Z"
   },
   {
    "duration": 13,
    "start_time": "2022-05-10T11:34:31.568Z"
   },
   {
    "duration": 440,
    "start_time": "2022-05-10T11:36:54.878Z"
   },
   {
    "duration": 442,
    "start_time": "2022-05-10T11:38:43.380Z"
   },
   {
    "duration": 547,
    "start_time": "2022-05-10T11:40:01.645Z"
   },
   {
    "duration": 388,
    "start_time": "2022-05-10T11:42:02.959Z"
   },
   {
    "duration": 13,
    "start_time": "2022-05-10T11:42:44.739Z"
   },
   {
    "duration": 428,
    "start_time": "2022-05-10T11:44:49.555Z"
   },
   {
    "duration": 16,
    "start_time": "2022-05-10T11:45:32.899Z"
   },
   {
    "duration": 1107,
    "start_time": "2022-05-10T12:10:51.638Z"
   },
   {
    "duration": 75,
    "start_time": "2022-05-10T12:10:54.591Z"
   },
   {
    "duration": 47,
    "start_time": "2022-05-10T12:10:59.358Z"
   },
   {
    "duration": 15,
    "start_time": "2022-05-10T12:11:05.331Z"
   },
   {
    "duration": 14,
    "start_time": "2022-05-10T12:11:09.360Z"
   },
   {
    "duration": 7,
    "start_time": "2022-05-10T12:11:13.415Z"
   },
   {
    "duration": 44,
    "start_time": "2022-05-10T12:11:16.766Z"
   },
   {
    "duration": 20,
    "start_time": "2022-05-10T12:11:20.930Z"
   },
   {
    "duration": 25,
    "start_time": "2022-05-10T12:11:24.570Z"
   },
   {
    "duration": 5,
    "start_time": "2022-05-10T12:11:28.000Z"
   },
   {
    "duration": 344,
    "start_time": "2022-05-10T12:11:30.780Z"
   },
   {
    "duration": 5,
    "start_time": "2022-05-10T12:11:34.506Z"
   },
   {
    "duration": 9,
    "start_time": "2022-05-10T12:11:37.688Z"
   },
   {
    "duration": 15,
    "start_time": "2022-05-10T12:11:40.257Z"
   },
   {
    "duration": 7,
    "start_time": "2022-05-10T12:11:43.289Z"
   },
   {
    "duration": 5,
    "start_time": "2022-05-10T12:11:46.208Z"
   },
   {
    "duration": 14,
    "start_time": "2022-05-10T12:11:49.404Z"
   },
   {
    "duration": 5,
    "start_time": "2022-05-10T12:11:52.765Z"
   },
   {
    "duration": 23,
    "start_time": "2022-05-10T12:11:57.673Z"
   },
   {
    "duration": 2,
    "start_time": "2022-05-10T12:12:01.691Z"
   },
   {
    "duration": 13,
    "start_time": "2022-05-10T12:12:05.395Z"
   },
   {
    "duration": 426,
    "start_time": "2022-05-10T12:12:10.619Z"
   },
   {
    "duration": 20,
    "start_time": "2022-05-10T12:12:15.226Z"
   },
   {
    "duration": 206,
    "start_time": "2022-05-10T12:12:18.766Z"
   },
   {
    "duration": 19,
    "start_time": "2022-05-10T12:12:23.265Z"
   },
   {
    "duration": 1147,
    "start_time": "2022-05-10T12:12:26.185Z"
   },
   {
    "duration": 34,
    "start_time": "2022-05-10T12:12:33.626Z"
   },
   {
    "duration": 11,
    "start_time": "2022-05-10T12:12:37.242Z"
   },
   {
    "duration": 138,
    "start_time": "2022-05-10T12:12:42.089Z"
   },
   {
    "duration": 13,
    "start_time": "2022-05-10T12:12:46.498Z"
   },
   {
    "duration": 22,
    "start_time": "2022-05-10T12:12:50.036Z"
   },
   {
    "duration": 447,
    "start_time": "2022-05-10T12:12:54.926Z"
   },
   {
    "duration": 274,
    "start_time": "2022-05-10T12:12:59.797Z"
   },
   {
    "duration": 184,
    "start_time": "2022-05-10T12:13:05.290Z"
   },
   {
    "duration": 194,
    "start_time": "2022-05-10T12:13:09.505Z"
   },
   {
    "duration": 180,
    "start_time": "2022-05-10T12:13:13.393Z"
   },
   {
    "duration": 180,
    "start_time": "2022-05-10T12:13:17.743Z"
   },
   {
    "duration": 57,
    "start_time": "2022-05-10T12:13:22.450Z"
   },
   {
    "duration": 399,
    "start_time": "2022-05-10T12:13:25.737Z"
   },
   {
    "duration": 60,
    "start_time": "2022-05-10T12:13:30.443Z"
   },
   {
    "duration": 6,
    "start_time": "2022-05-10T12:13:38.906Z"
   },
   {
    "duration": 462,
    "start_time": "2022-05-10T12:13:44.363Z"
   },
   {
    "duration": 5,
    "start_time": "2022-05-10T12:13:49.922Z"
   },
   {
    "duration": 417,
    "start_time": "2022-05-10T12:13:55.195Z"
   },
   {
    "duration": 474,
    "start_time": "2022-05-10T12:13:59.270Z"
   },
   {
    "duration": 418,
    "start_time": "2022-05-10T12:14:02.926Z"
   },
   {
    "duration": 454,
    "start_time": "2022-05-10T12:14:07.020Z"
   },
   {
    "duration": 525,
    "start_time": "2022-05-10T12:14:11.272Z"
   },
   {
    "duration": 13,
    "start_time": "2022-05-10T12:14:18.339Z"
   },
   {
    "duration": 447,
    "start_time": "2022-05-10T12:14:21.855Z"
   },
   {
    "duration": 422,
    "start_time": "2022-05-10T12:14:25.627Z"
   },
   {
    "duration": 14,
    "start_time": "2022-05-10T12:14:30.946Z"
   },
   {
    "duration": 17,
    "start_time": "2022-05-10T12:14:34.359Z"
   },
   {
    "duration": 8,
    "start_time": "2022-05-10T12:14:40.428Z"
   },
   {
    "duration": 8,
    "start_time": "2022-05-10T12:14:45.547Z"
   },
   {
    "duration": 8,
    "start_time": "2022-05-10T12:14:49.900Z"
   },
   {
    "duration": 8,
    "start_time": "2022-05-10T12:14:53.207Z"
   },
   {
    "duration": 444,
    "start_time": "2022-05-10T12:14:58.613Z"
   },
   {
    "duration": 434,
    "start_time": "2022-05-10T12:15:03.268Z"
   },
   {
    "duration": 16,
    "start_time": "2022-05-10T12:15:07.725Z"
   },
   {
    "duration": 229,
    "start_time": "2022-05-10T12:15:11.174Z"
   },
   {
    "duration": 21,
    "start_time": "2022-05-10T12:15:19.483Z"
   },
   {
    "duration": 343,
    "start_time": "2022-05-10T12:15:22.572Z"
   },
   {
    "duration": 19,
    "start_time": "2022-05-10T12:15:26.396Z"
   },
   {
    "duration": 224,
    "start_time": "2022-05-10T12:15:31.268Z"
   },
   {
    "duration": 19,
    "start_time": "2022-05-10T12:15:34.517Z"
   },
   {
    "duration": 358,
    "start_time": "2022-05-10T12:15:37.519Z"
   },
   {
    "duration": 18,
    "start_time": "2022-05-10T12:15:41.315Z"
   },
   {
    "duration": 338,
    "start_time": "2022-05-10T12:15:46.014Z"
   },
   {
    "duration": 18,
    "start_time": "2022-05-10T12:15:49.141Z"
   },
   {
    "duration": 372,
    "start_time": "2022-05-10T12:15:52.555Z"
   },
   {
    "duration": 19,
    "start_time": "2022-05-10T12:15:56.157Z"
   },
   {
    "duration": 217,
    "start_time": "2022-05-10T12:16:00.485Z"
   },
   {
    "duration": 11,
    "start_time": "2022-05-10T12:16:07.740Z"
   },
   {
    "duration": 342,
    "start_time": "2022-05-10T12:16:11.117Z"
   },
   {
    "duration": 8,
    "start_time": "2022-05-10T12:16:15.172Z"
   },
   {
    "duration": 349,
    "start_time": "2022-05-10T12:16:18.230Z"
   },
   {
    "duration": 15,
    "start_time": "2022-05-10T12:16:24.077Z"
   },
   {
    "duration": 341,
    "start_time": "2022-05-10T12:16:27.876Z"
   },
   {
    "duration": 12,
    "start_time": "2022-05-10T12:16:32.149Z"
   },
   {
    "duration": 452,
    "start_time": "2022-05-10T12:16:35.610Z"
   },
   {
    "duration": 9,
    "start_time": "2022-05-10T12:16:41.887Z"
   },
   {
    "duration": 10,
    "start_time": "2022-05-10T12:16:44.504Z"
   },
   {
    "duration": 215,
    "start_time": "2022-05-10T12:16:48.318Z"
   },
   {
    "duration": 213,
    "start_time": "2022-05-10T12:16:52.421Z"
   },
   {
    "duration": 224,
    "start_time": "2022-05-10T12:16:56.440Z"
   },
   {
    "duration": 14,
    "start_time": "2022-05-10T12:17:00.037Z"
   },
   {
    "duration": 354,
    "start_time": "2022-05-10T12:17:04.189Z"
   },
   {
    "duration": 7,
    "start_time": "2022-05-10T12:17:09.938Z"
   },
   {
    "duration": 10,
    "start_time": "2022-05-10T12:17:13.453Z"
   },
   {
    "duration": 208,
    "start_time": "2022-05-10T12:17:16.566Z"
   },
   {
    "duration": 202,
    "start_time": "2022-05-10T12:17:21.197Z"
   },
   {
    "duration": 207,
    "start_time": "2022-05-10T12:17:24.601Z"
   },
   {
    "duration": 11,
    "start_time": "2022-05-10T12:17:27.789Z"
   },
   {
    "duration": 344,
    "start_time": "2022-05-10T12:17:32.050Z"
   },
   {
    "duration": 16,
    "start_time": "2022-05-10T12:17:41.942Z"
   },
   {
    "duration": 9,
    "start_time": "2022-05-10T12:17:47.327Z"
   },
   {
    "duration": 10,
    "start_time": "2022-05-10T12:17:59.861Z"
   },
   {
    "duration": 11,
    "start_time": "2022-05-10T12:18:05.370Z"
   },
   {
    "duration": 15,
    "start_time": "2022-05-10T12:22:44.794Z"
   },
   {
    "duration": 9,
    "start_time": "2022-05-10T12:22:50.947Z"
   },
   {
    "duration": 10,
    "start_time": "2022-05-10T12:24:59.850Z"
   },
   {
    "duration": 1162,
    "start_time": "2022-05-10T12:28:40.491Z"
   },
   {
    "duration": 72,
    "start_time": "2022-05-10T12:28:43.825Z"
   },
   {
    "duration": 46,
    "start_time": "2022-05-10T12:28:46.959Z"
   },
   {
    "duration": 15,
    "start_time": "2022-05-10T12:28:52.358Z"
   },
   {
    "duration": 14,
    "start_time": "2022-05-10T12:28:56.128Z"
   },
   {
    "duration": 6,
    "start_time": "2022-05-10T12:28:59.165Z"
   },
   {
    "duration": 31,
    "start_time": "2022-05-10T12:29:03.097Z"
   },
   {
    "duration": 19,
    "start_time": "2022-05-10T12:29:06.293Z"
   },
   {
    "duration": 23,
    "start_time": "2022-05-10T12:29:09.645Z"
   },
   {
    "duration": 4,
    "start_time": "2022-05-10T12:29:12.566Z"
   },
   {
    "duration": 358,
    "start_time": "2022-05-10T12:29:16.174Z"
   },
   {
    "duration": 5,
    "start_time": "2022-05-10T12:29:19.918Z"
   },
   {
    "duration": 9,
    "start_time": "2022-05-10T12:29:22.960Z"
   },
   {
    "duration": 18,
    "start_time": "2022-05-10T12:29:27.093Z"
   },
   {
    "duration": 7,
    "start_time": "2022-05-10T12:29:30.168Z"
   },
   {
    "duration": 6,
    "start_time": "2022-05-10T12:29:33.981Z"
   },
   {
    "duration": 14,
    "start_time": "2022-05-10T12:29:37.141Z"
   },
   {
    "duration": 5,
    "start_time": "2022-05-10T12:29:39.749Z"
   },
   {
    "duration": 24,
    "start_time": "2022-05-10T12:29:43.718Z"
   },
   {
    "duration": 3,
    "start_time": "2022-05-10T12:29:47.654Z"
   },
   {
    "duration": 14,
    "start_time": "2022-05-10T12:29:50.598Z"
   },
   {
    "duration": 409,
    "start_time": "2022-05-10T12:29:54.947Z"
   },
   {
    "duration": 19,
    "start_time": "2022-05-10T12:30:00.295Z"
   },
   {
    "duration": 228,
    "start_time": "2022-05-10T12:30:03.797Z"
   },
   {
    "duration": 20,
    "start_time": "2022-05-10T12:30:08.256Z"
   },
   {
    "duration": 1177,
    "start_time": "2022-05-10T12:30:11.559Z"
   },
   {
    "duration": 36,
    "start_time": "2022-05-10T12:30:17.623Z"
   },
   {
    "duration": 13,
    "start_time": "2022-05-10T12:30:21.399Z"
   },
   {
    "duration": 143,
    "start_time": "2022-05-10T12:30:25.785Z"
   },
   {
    "duration": 13,
    "start_time": "2022-05-10T12:30:29.067Z"
   },
   {
    "duration": 31,
    "start_time": "2022-05-10T12:30:32.487Z"
   },
   {
    "duration": 457,
    "start_time": "2022-05-10T12:30:37.327Z"
   },
   {
    "duration": 254,
    "start_time": "2022-05-10T12:30:41.767Z"
   },
   {
    "duration": 173,
    "start_time": "2022-05-10T12:30:45.838Z"
   },
   {
    "duration": 170,
    "start_time": "2022-05-10T12:30:57.282Z"
   },
   {
    "duration": 170,
    "start_time": "2022-05-10T12:31:01.583Z"
   },
   {
    "duration": 54,
    "start_time": "2022-05-10T12:31:06.998Z"
   },
   {
    "duration": 421,
    "start_time": "2022-05-10T12:31:10.615Z"
   },
   {
    "duration": 63,
    "start_time": "2022-05-10T12:31:16.290Z"
   },
   {
    "duration": 7,
    "start_time": "2022-05-10T12:31:23.736Z"
   },
   {
    "duration": 450,
    "start_time": "2022-05-10T12:31:28.981Z"
   },
   {
    "duration": 5,
    "start_time": "2022-05-10T12:31:33.774Z"
   },
   {
    "duration": 418,
    "start_time": "2022-05-10T12:31:37.696Z"
   },
   {
    "duration": 485,
    "start_time": "2022-05-10T12:31:40.926Z"
   },
   {
    "duration": 426,
    "start_time": "2022-05-10T12:31:44.795Z"
   },
   {
    "duration": 454,
    "start_time": "2022-05-10T12:31:47.464Z"
   },
   {
    "duration": 445,
    "start_time": "2022-05-10T12:31:50.512Z"
   },
   {
    "duration": 13,
    "start_time": "2022-05-10T12:31:58.635Z"
   },
   {
    "duration": 543,
    "start_time": "2022-05-10T12:32:03.227Z"
   },
   {
    "duration": 446,
    "start_time": "2022-05-10T12:32:07.329Z"
   },
   {
    "duration": 13,
    "start_time": "2022-05-10T12:32:12.378Z"
   },
   {
    "duration": 18,
    "start_time": "2022-05-10T12:32:15.706Z"
   },
   {
    "duration": 9,
    "start_time": "2022-05-10T12:32:21.206Z"
   },
   {
    "duration": 14,
    "start_time": "2022-05-10T12:32:24.509Z"
   },
   {
    "duration": 9,
    "start_time": "2022-05-10T12:32:28.376Z"
   },
   {
    "duration": 8,
    "start_time": "2022-05-10T12:32:31.432Z"
   },
   {
    "duration": 460,
    "start_time": "2022-05-10T12:32:36.545Z"
   },
   {
    "duration": 446,
    "start_time": "2022-05-10T12:32:40.017Z"
   },
   {
    "duration": 15,
    "start_time": "2022-05-10T12:32:43.953Z"
   },
   {
    "duration": 221,
    "start_time": "2022-05-10T12:32:47.355Z"
   },
   {
    "duration": 19,
    "start_time": "2022-05-10T12:32:51.097Z"
   },
   {
    "duration": 17,
    "start_time": "2022-05-10T12:32:55.754Z"
   },
   {
    "duration": 231,
    "start_time": "2022-05-10T12:32:59.105Z"
   },
   {
    "duration": 18,
    "start_time": "2022-05-10T12:33:02.431Z"
   },
   {
    "duration": 359,
    "start_time": "2022-05-10T12:33:05.394Z"
   },
   {
    "duration": 18,
    "start_time": "2022-05-10T12:33:09.550Z"
   },
   {
    "duration": 19,
    "start_time": "2022-05-10T12:33:12.652Z"
   },
   {
    "duration": 398,
    "start_time": "2022-05-10T12:33:16.249Z"
   },
   {
    "duration": 19,
    "start_time": "2022-05-10T12:33:23.046Z"
   },
   {
    "duration": 317,
    "start_time": "2022-05-10T12:33:25.913Z"
   },
   {
    "duration": 11,
    "start_time": "2022-05-10T12:33:31.089Z"
   },
   {
    "duration": 347,
    "start_time": "2022-05-10T12:33:33.541Z"
   },
   {
    "duration": 7,
    "start_time": "2022-05-10T12:33:37.682Z"
   },
   {
    "duration": 378,
    "start_time": "2022-05-10T12:33:40.633Z"
   },
   {
    "duration": 15,
    "start_time": "2022-05-10T12:33:45.675Z"
   },
   {
    "duration": 351,
    "start_time": "2022-05-10T12:33:48.960Z"
   },
   {
    "duration": 13,
    "start_time": "2022-05-10T12:33:52.336Z"
   },
   {
    "duration": 386,
    "start_time": "2022-05-10T12:33:55.202Z"
   },
   {
    "duration": 8,
    "start_time": "2022-05-10T12:34:01.297Z"
   },
   {
    "duration": 11,
    "start_time": "2022-05-10T12:34:03.562Z"
   },
   {
    "duration": 225,
    "start_time": "2022-05-10T12:34:07.298Z"
   },
   {
    "duration": 239,
    "start_time": "2022-05-10T12:34:11.394Z"
   },
   {
    "duration": 338,
    "start_time": "2022-05-10T12:34:14.338Z"
   },
   {
    "duration": 14,
    "start_time": "2022-05-10T12:34:18.955Z"
   },
   {
    "duration": 382,
    "start_time": "2022-05-10T12:34:22.394Z"
   },
   {
    "duration": 8,
    "start_time": "2022-05-10T12:34:27.062Z"
   },
   {
    "duration": 9,
    "start_time": "2022-05-10T12:34:29.221Z"
   },
   {
    "duration": 209,
    "start_time": "2022-05-10T12:34:32.163Z"
   },
   {
    "duration": 195,
    "start_time": "2022-05-10T12:34:35.621Z"
   },
   {
    "duration": 198,
    "start_time": "2022-05-10T12:34:39.065Z"
   },
   {
    "duration": 11,
    "start_time": "2022-05-10T12:34:44.480Z"
   },
   {
    "duration": 343,
    "start_time": "2022-05-10T12:34:47.579Z"
   },
   {
    "duration": 15,
    "start_time": "2022-05-10T12:34:53.340Z"
   },
   {
    "duration": 10,
    "start_time": "2022-05-10T12:34:59.432Z"
   },
   {
    "duration": 11,
    "start_time": "2022-05-10T12:35:14.493Z"
   },
   {
    "duration": 11,
    "start_time": "2022-05-10T12:35:21.124Z"
   },
   {
    "duration": 1119,
    "start_time": "2022-05-10T12:36:59.451Z"
   },
   {
    "duration": 77,
    "start_time": "2022-05-10T12:37:00.572Z"
   },
   {
    "duration": 50,
    "start_time": "2022-05-10T12:37:01.679Z"
   },
   {
    "duration": 15,
    "start_time": "2022-05-10T12:37:11.547Z"
   },
   {
    "duration": 15,
    "start_time": "2022-05-10T12:37:15.338Z"
   },
   {
    "duration": 7,
    "start_time": "2022-05-10T12:37:18.828Z"
   },
   {
    "duration": 35,
    "start_time": "2022-05-10T12:37:23.009Z"
   },
   {
    "duration": 20,
    "start_time": "2022-05-10T12:37:26.378Z"
   },
   {
    "duration": 22,
    "start_time": "2022-05-10T12:37:29.347Z"
   },
   {
    "duration": 4,
    "start_time": "2022-05-10T12:37:32.670Z"
   },
   {
    "duration": 354,
    "start_time": "2022-05-10T12:37:36.387Z"
   },
   {
    "duration": 5,
    "start_time": "2022-05-10T12:37:40.009Z"
   },
   {
    "duration": 9,
    "start_time": "2022-05-10T12:37:42.964Z"
   },
   {
    "duration": 15,
    "start_time": "2022-05-10T12:37:45.738Z"
   },
   {
    "duration": 7,
    "start_time": "2022-05-10T12:37:49.162Z"
   },
   {
    "duration": 5,
    "start_time": "2022-05-10T12:37:52.097Z"
   },
   {
    "duration": 14,
    "start_time": "2022-05-10T12:37:54.976Z"
   },
   {
    "duration": 4,
    "start_time": "2022-05-10T12:37:58.145Z"
   },
   {
    "duration": 24,
    "start_time": "2022-05-10T12:38:02.211Z"
   },
   {
    "duration": 2,
    "start_time": "2022-05-10T12:38:06.813Z"
   },
   {
    "duration": 13,
    "start_time": "2022-05-10T12:38:10.275Z"
   },
   {
    "duration": 448,
    "start_time": "2022-05-10T12:38:15.811Z"
   },
   {
    "duration": 25,
    "start_time": "2022-05-10T12:38:20.209Z"
   },
   {
    "duration": 221,
    "start_time": "2022-05-10T12:38:23.570Z"
   },
   {
    "duration": 18,
    "start_time": "2022-05-10T12:38:27.625Z"
   },
   {
    "duration": 1101,
    "start_time": "2022-05-10T12:38:32.084Z"
   },
   {
    "duration": 36,
    "start_time": "2022-05-10T12:38:39.189Z"
   },
   {
    "duration": 12,
    "start_time": "2022-05-10T12:38:42.969Z"
   },
   {
    "duration": 148,
    "start_time": "2022-05-10T12:38:46.963Z"
   },
   {
    "duration": 13,
    "start_time": "2022-05-10T12:38:51.810Z"
   },
   {
    "duration": 21,
    "start_time": "2022-05-10T12:38:54.810Z"
   },
   {
    "duration": 481,
    "start_time": "2022-05-10T12:38:59.647Z"
   },
   {
    "duration": 264,
    "start_time": "2022-05-10T12:39:05.155Z"
   },
   {
    "duration": 172,
    "start_time": "2022-05-10T12:39:08.259Z"
   },
   {
    "duration": 183,
    "start_time": "2022-05-10T12:39:13.083Z"
   },
   {
    "duration": 242,
    "start_time": "2022-05-10T12:39:16.825Z"
   },
   {
    "duration": 179,
    "start_time": "2022-05-10T12:39:26.027Z"
   },
   {
    "duration": 51,
    "start_time": "2022-05-10T12:39:31.784Z"
   },
   {
    "duration": 413,
    "start_time": "2022-05-10T12:39:35.587Z"
   },
   {
    "duration": 63,
    "start_time": "2022-05-10T12:39:40.963Z"
   },
   {
    "duration": 8,
    "start_time": "2022-05-10T12:39:49.814Z"
   },
   {
    "duration": 457,
    "start_time": "2022-05-10T12:39:58.207Z"
   },
   {
    "duration": 5,
    "start_time": "2022-05-10T12:40:03.746Z"
   },
   {
    "duration": 416,
    "start_time": "2022-05-10T12:40:07.469Z"
   },
   {
    "duration": 483,
    "start_time": "2022-05-10T12:40:16.967Z"
   },
   {
    "duration": 475,
    "start_time": "2022-05-10T12:40:22.013Z"
   },
   {
    "duration": 423,
    "start_time": "2022-05-10T12:40:44.474Z"
   },
   {
    "duration": 13,
    "start_time": "2022-05-10T12:40:54.963Z"
   },
   {
    "duration": 515,
    "start_time": "2022-05-10T12:40:58.346Z"
   },
   {
    "duration": 438,
    "start_time": "2022-05-10T12:41:02.048Z"
   },
   {
    "duration": 12,
    "start_time": "2022-05-10T12:41:07.199Z"
   },
   {
    "duration": 18,
    "start_time": "2022-05-10T12:41:11.480Z"
   },
   {
    "duration": 10,
    "start_time": "2022-05-10T12:41:17.046Z"
   },
   {
    "duration": 8,
    "start_time": "2022-05-10T12:41:20.141Z"
   },
   {
    "duration": 8,
    "start_time": "2022-05-10T12:41:23.262Z"
   },
   {
    "duration": 9,
    "start_time": "2022-05-10T12:41:26.318Z"
   },
   {
    "duration": 9,
    "start_time": "2022-05-10T12:41:29.454Z"
   },
   {
    "duration": 445,
    "start_time": "2022-05-10T12:41:38.407Z"
   },
   {
    "duration": 450,
    "start_time": "2022-05-10T12:41:43.525Z"
   },
   {
    "duration": 16,
    "start_time": "2022-05-10T12:41:48.956Z"
   },
   {
    "duration": 227,
    "start_time": "2022-05-10T12:41:52.255Z"
   },
   {
    "duration": 20,
    "start_time": "2022-05-10T12:41:55.737Z"
   },
   {
    "duration": 374,
    "start_time": "2022-05-10T12:42:00.102Z"
   },
   {
    "duration": 18,
    "start_time": "2022-05-10T12:42:03.712Z"
   },
   {
    "duration": 229,
    "start_time": "2022-05-10T12:42:07.877Z"
   },
   {
    "duration": 20,
    "start_time": "2022-05-10T12:42:11.382Z"
   },
   {
    "duration": 351,
    "start_time": "2022-05-10T12:42:15.175Z"
   },
   {
    "duration": 19,
    "start_time": "2022-05-10T12:42:18.977Z"
   },
   {
    "duration": 257,
    "start_time": "2022-05-10T12:42:22.273Z"
   },
   {
    "duration": 20,
    "start_time": "2022-05-10T12:42:30.983Z"
   },
   {
    "duration": 484,
    "start_time": "2022-05-10T12:42:34.273Z"
   },
   {
    "duration": 18,
    "start_time": "2022-05-10T12:42:38.229Z"
   },
   {
    "duration": 224,
    "start_time": "2022-05-10T12:42:41.364Z"
   },
   {
    "duration": 11,
    "start_time": "2022-05-10T12:42:46.818Z"
   },
   {
    "duration": 334,
    "start_time": "2022-05-10T12:42:49.831Z"
   },
   {
    "duration": 11,
    "start_time": "2022-05-10T12:42:57.725Z"
   },
   {
    "duration": 372,
    "start_time": "2022-05-10T12:43:00.311Z"
   },
   {
    "duration": 15,
    "start_time": "2022-05-10T12:43:05.319Z"
   },
   {
    "duration": 356,
    "start_time": "2022-05-10T12:43:09.658Z"
   },
   {
    "duration": 13,
    "start_time": "2022-05-10T12:43:13.679Z"
   },
   {
    "duration": 380,
    "start_time": "2022-05-10T12:43:16.994Z"
   },
   {
    "duration": 9,
    "start_time": "2022-05-10T12:43:23.073Z"
   },
   {
    "duration": 9,
    "start_time": "2022-05-10T12:43:25.953Z"
   },
   {
    "duration": 217,
    "start_time": "2022-05-10T12:43:29.218Z"
   },
   {
    "duration": 314,
    "start_time": "2022-05-10T12:43:32.263Z"
   },
   {
    "duration": 218,
    "start_time": "2022-05-10T12:43:36.400Z"
   },
   {
    "duration": 13,
    "start_time": "2022-05-10T12:43:39.744Z"
   },
   {
    "duration": 353,
    "start_time": "2022-05-10T12:43:44.240Z"
   },
   {
    "duration": 7,
    "start_time": "2022-05-10T12:43:49.455Z"
   },
   {
    "duration": 10,
    "start_time": "2022-05-10T12:43:52.567Z"
   },
   {
    "duration": 210,
    "start_time": "2022-05-10T12:43:56.488Z"
   },
   {
    "duration": 193,
    "start_time": "2022-05-10T12:44:02.336Z"
   },
   {
    "duration": 203,
    "start_time": "2022-05-10T12:44:06.066Z"
   },
   {
    "duration": 13,
    "start_time": "2022-05-10T12:44:09.652Z"
   },
   {
    "duration": 370,
    "start_time": "2022-05-10T12:44:14.281Z"
   },
   {
    "duration": 17,
    "start_time": "2022-05-10T12:44:21.555Z"
   },
   {
    "duration": 9,
    "start_time": "2022-05-10T12:44:25.202Z"
   },
   {
    "duration": 12,
    "start_time": "2022-05-10T12:44:37.089Z"
   },
   {
    "duration": 11,
    "start_time": "2022-05-10T12:44:40.992Z"
   },
   {
    "duration": 1270,
    "start_time": "2022-05-10T12:48:09.007Z"
   },
   {
    "duration": 78,
    "start_time": "2022-05-10T12:48:11.611Z"
   },
   {
    "duration": 48,
    "start_time": "2022-05-10T12:48:13.262Z"
   },
   {
    "duration": 15,
    "start_time": "2022-05-10T12:48:19.791Z"
   },
   {
    "duration": 30,
    "start_time": "2022-05-10T12:48:23.382Z"
   },
   {
    "duration": 8,
    "start_time": "2022-05-10T12:48:26.993Z"
   },
   {
    "duration": 32,
    "start_time": "2022-05-10T12:48:30.965Z"
   },
   {
    "duration": 29,
    "start_time": "2022-05-10T12:48:34.983Z"
   },
   {
    "duration": 23,
    "start_time": "2022-05-10T12:48:38.302Z"
   },
   {
    "duration": 4,
    "start_time": "2022-05-10T12:48:41.798Z"
   },
   {
    "duration": 354,
    "start_time": "2022-05-10T12:48:44.956Z"
   },
   {
    "duration": 5,
    "start_time": "2022-05-10T12:48:49.004Z"
   },
   {
    "duration": 7,
    "start_time": "2022-05-10T12:48:52.426Z"
   },
   {
    "duration": 16,
    "start_time": "2022-05-10T12:48:55.271Z"
   },
   {
    "duration": 8,
    "start_time": "2022-05-10T12:48:58.986Z"
   },
   {
    "duration": 6,
    "start_time": "2022-05-10T12:49:01.774Z"
   },
   {
    "duration": 16,
    "start_time": "2022-05-10T12:49:04.269Z"
   },
   {
    "duration": 6,
    "start_time": "2022-05-10T12:49:07.151Z"
   },
   {
    "duration": 42,
    "start_time": "2022-05-10T12:49:10.977Z"
   },
   {
    "duration": 3,
    "start_time": "2022-05-10T12:49:15.641Z"
   },
   {
    "duration": 13,
    "start_time": "2022-05-10T12:49:18.319Z"
   },
   {
    "duration": 501,
    "start_time": "2022-05-10T12:49:22.464Z"
   },
   {
    "duration": 18,
    "start_time": "2022-05-10T12:49:26.367Z"
   },
   {
    "duration": 209,
    "start_time": "2022-05-10T12:49:29.783Z"
   },
   {
    "duration": 21,
    "start_time": "2022-05-10T12:49:33.638Z"
   },
   {
    "duration": 1139,
    "start_time": "2022-05-10T12:49:39.551Z"
   },
   {
    "duration": 58,
    "start_time": "2022-05-10T12:49:44.969Z"
   },
   {
    "duration": 12,
    "start_time": "2022-05-10T12:49:49.127Z"
   },
   {
    "duration": 152,
    "start_time": "2022-05-10T12:49:53.646Z"
   },
   {
    "duration": 14,
    "start_time": "2022-05-10T12:49:56.829Z"
   },
   {
    "duration": 22,
    "start_time": "2022-05-10T12:49:59.985Z"
   },
   {
    "duration": 501,
    "start_time": "2022-05-10T12:50:06.432Z"
   },
   {
    "duration": 268,
    "start_time": "2022-05-10T12:50:10.687Z"
   },
   {
    "duration": 192,
    "start_time": "2022-05-10T12:50:18.988Z"
   },
   {
    "duration": 196,
    "start_time": "2022-05-10T12:50:23.769Z"
   },
   {
    "duration": 175,
    "start_time": "2022-05-10T12:50:27.043Z"
   },
   {
    "duration": 182,
    "start_time": "2022-05-10T12:50:31.815Z"
   },
   {
    "duration": 52,
    "start_time": "2022-05-10T12:50:37.320Z"
   },
   {
    "duration": 392,
    "start_time": "2022-05-10T12:50:41.208Z"
   },
   {
    "duration": 61,
    "start_time": "2022-05-10T12:50:46.283Z"
   },
   {
    "duration": 6,
    "start_time": "2022-05-10T12:50:55.289Z"
   },
   {
    "duration": 461,
    "start_time": "2022-05-10T12:50:59.045Z"
   },
   {
    "duration": 5,
    "start_time": "2022-05-10T12:51:04.154Z"
   },
   {
    "duration": 426,
    "start_time": "2022-05-10T12:51:07.427Z"
   },
   {
    "duration": 473,
    "start_time": "2022-05-10T12:51:15.854Z"
   },
   {
    "duration": 435,
    "start_time": "2022-05-10T12:51:57.680Z"
   },
   {
    "duration": 443,
    "start_time": "2022-05-10T12:52:02.973Z"
   },
   {
    "duration": 568,
    "start_time": "2022-05-10T12:52:05.575Z"
   },
   {
    "duration": 13,
    "start_time": "2022-05-10T12:52:10.435Z"
   },
   {
    "duration": 454,
    "start_time": "2022-05-10T12:52:15.066Z"
   },
   {
    "duration": 462,
    "start_time": "2022-05-10T12:52:18.996Z"
   },
   {
    "duration": 12,
    "start_time": "2022-05-10T12:52:24.220Z"
   },
   {
    "duration": 17,
    "start_time": "2022-05-10T12:52:27.750Z"
   },
   {
    "duration": 9,
    "start_time": "2022-05-10T12:53:46.613Z"
   },
   {
    "duration": 7,
    "start_time": "2022-05-10T12:53:50.103Z"
   },
   {
    "duration": 9,
    "start_time": "2022-05-10T12:53:53.052Z"
   },
   {
    "duration": 8,
    "start_time": "2022-05-10T12:53:56.076Z"
   },
   {
    "duration": 441,
    "start_time": "2022-05-10T12:54:00.515Z"
   },
   {
    "duration": 451,
    "start_time": "2022-05-10T12:54:06.660Z"
   },
   {
    "duration": 16,
    "start_time": "2022-05-10T12:54:11.437Z"
   },
   {
    "duration": 235,
    "start_time": "2022-05-10T12:54:14.565Z"
   },
   {
    "duration": 27,
    "start_time": "2022-05-10T12:54:19.128Z"
   },
   {
    "duration": 361,
    "start_time": "2022-05-10T12:54:22.152Z"
   },
   {
    "duration": 19,
    "start_time": "2022-05-10T12:54:25.896Z"
   },
   {
    "duration": 221,
    "start_time": "2022-05-10T12:54:28.626Z"
   },
   {
    "duration": 21,
    "start_time": "2022-05-10T12:54:31.663Z"
   },
   {
    "duration": 367,
    "start_time": "2022-05-10T12:54:34.593Z"
   },
   {
    "duration": 18,
    "start_time": "2022-05-10T12:54:37.709Z"
   },
   {
    "duration": 332,
    "start_time": "2022-05-10T12:54:40.637Z"
   },
   {
    "duration": 19,
    "start_time": "2022-05-10T12:54:43.820Z"
   },
   {
    "duration": 377,
    "start_time": "2022-05-10T12:54:46.625Z"
   },
   {
    "duration": 18,
    "start_time": "2022-05-10T12:54:50.566Z"
   },
   {
    "duration": 233,
    "start_time": "2022-05-10T12:54:53.446Z"
   },
   {
    "duration": 11,
    "start_time": "2022-05-10T12:54:59.170Z"
   },
   {
    "duration": 332,
    "start_time": "2022-05-10T12:55:02.372Z"
   },
   {
    "duration": 8,
    "start_time": "2022-05-10T12:55:06.299Z"
   },
   {
    "duration": 370,
    "start_time": "2022-05-10T12:55:09.397Z"
   },
   {
    "duration": 15,
    "start_time": "2022-05-10T12:55:17.271Z"
   },
   {
    "duration": 356,
    "start_time": "2022-05-10T12:55:21.018Z"
   },
   {
    "duration": 11,
    "start_time": "2022-05-10T12:55:25.495Z"
   },
   {
    "duration": 478,
    "start_time": "2022-05-10T12:55:28.699Z"
   },
   {
    "duration": 8,
    "start_time": "2022-05-10T12:55:34.531Z"
   },
   {
    "duration": 10,
    "start_time": "2022-05-10T12:55:37.109Z"
   },
   {
    "duration": 232,
    "start_time": "2022-05-10T12:55:40.504Z"
   },
   {
    "duration": 228,
    "start_time": "2022-05-10T12:55:43.917Z"
   },
   {
    "duration": 232,
    "start_time": "2022-05-10T12:55:47.391Z"
   },
   {
    "duration": 14,
    "start_time": "2022-05-10T12:55:51.022Z"
   },
   {
    "duration": 371,
    "start_time": "2022-05-10T12:55:55.003Z"
   },
   {
    "duration": 9,
    "start_time": "2022-05-10T12:55:59.861Z"
   },
   {
    "duration": 9,
    "start_time": "2022-05-10T12:56:02.706Z"
   },
   {
    "duration": 218,
    "start_time": "2022-05-10T12:56:05.879Z"
   },
   {
    "duration": 199,
    "start_time": "2022-05-10T12:56:09.825Z"
   },
   {
    "duration": 212,
    "start_time": "2022-05-10T12:56:13.685Z"
   },
   {
    "duration": 12,
    "start_time": "2022-05-10T12:56:17.279Z"
   },
   {
    "duration": 353,
    "start_time": "2022-05-10T12:56:20.555Z"
   },
   {
    "duration": 16,
    "start_time": "2022-05-10T12:56:26.014Z"
   },
   {
    "duration": 10,
    "start_time": "2022-05-10T12:56:29.958Z"
   },
   {
    "duration": 11,
    "start_time": "2022-05-10T12:56:34.343Z"
   },
   {
    "duration": 9,
    "start_time": "2022-05-10T12:56:38.153Z"
   }
  ],
  "kernelspec": {
   "display_name": "Python 3 (ipykernel)",
   "language": "python",
   "name": "python3"
  },
  "language_info": {
   "codemirror_mode": {
    "name": "ipython",
    "version": 3
   },
   "file_extension": ".py",
   "mimetype": "text/x-python",
   "name": "python",
   "nbconvert_exporter": "python",
   "pygments_lexer": "ipython3",
   "version": "3.9.7"
  },
  "toc": {
   "base_numbering": 1,
   "nav_menu": {},
   "number_sections": true,
   "sideBar": true,
   "skip_h1_title": true,
   "title_cell": "Содержание",
   "title_sidebar": "Contents",
   "toc_cell": true,
   "toc_position": {
    "height": "calc(100% - 180px)",
    "left": "10px",
    "top": "150px",
    "width": "247px"
   },
   "toc_section_display": true,
   "toc_window_display": false
  }
 },
 "nbformat": 4,
 "nbformat_minor": 4
}
