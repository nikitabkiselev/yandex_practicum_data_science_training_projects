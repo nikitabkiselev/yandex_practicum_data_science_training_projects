{
 "cells": [
  {
   "cell_type": "markdown",
   "metadata": {
    "toc": true
   },
   "source": [
    "<h1>Содержание<span class=\"tocSkip\"></span></h1>\n",
    "<div class=\"toc\"><ul class=\"toc-item\"><li><ul class=\"toc-item\"><li><span><a href=\"#Признаки:\" data-toc-modified-id=\"Признаки:-0.1\"><span class=\"toc-item-num\">0.1&nbsp;&nbsp;</span>Признаки:</a></span></li><li><span><a href=\"#Целевой-признаки:\" data-toc-modified-id=\"Целевой-признаки:-0.2\"><span class=\"toc-item-num\">0.2&nbsp;&nbsp;</span>Целевой признаки:</a></span></li><li><span><a href=\"#По-результатам-первичного-анализа-можно-отметить,-что:\" data-toc-modified-id=\"По-результатам-первичного-анализа-можно-отметить,-что:-0.3\"><span class=\"toc-item-num\">0.3&nbsp;&nbsp;</span>По результатам первичного анализа можно отметить, что:</a></span></li><li><span><a href=\"#Можно-отметить,-что:\" data-toc-modified-id=\"Можно-отметить,-что:-0.4\"><span class=\"toc-item-num\">0.4&nbsp;&nbsp;</span>Можно отметить, что:</a></span></li></ul></li><li><span><a href=\"#Предобработка-данных\" data-toc-modified-id=\"Предобработка-данных-1\"><span class=\"toc-item-num\">1&nbsp;&nbsp;</span>Предобработка данных</a></span><ul class=\"toc-item\"><li><span><a href=\"#Видим,-что-меньше-всего-клиентов,-которые:\" data-toc-modified-id=\"Видим,-что-меньше-всего-клиентов,-которые:-1.1\"><span class=\"toc-item-num\">1.1&nbsp;&nbsp;</span>Видим, что меньше всего клиентов, которые:</a></span></li></ul></li><li><span><a href=\"#Преобразование-признаков\" data-toc-modified-id=\"Преобразование-признаков-2\"><span class=\"toc-item-num\">2&nbsp;&nbsp;</span>Преобразование признаков</a></span></li><li><span><a href=\"#Разбиение-данных-на-выборки\" data-toc-modified-id=\"Разбиение-данных-на-выборки-3\"><span class=\"toc-item-num\">3&nbsp;&nbsp;</span>Разбиение данных на выборки</a></span></li><li><span><a href=\"#Масштабирование-признаков\" data-toc-modified-id=\"Масштабирование-признаков-4\"><span class=\"toc-item-num\">4&nbsp;&nbsp;</span>Масштабирование признаков</a></span><ul class=\"toc-item\"><li><span><a href=\"#Результат:\" data-toc-modified-id=\"Результат:-4.1\"><span class=\"toc-item-num\">4.1&nbsp;&nbsp;</span>Результат:</a></span></li><li><span><a href=\"#Результат:\" data-toc-modified-id=\"Результат:-4.2\"><span class=\"toc-item-num\">4.2&nbsp;&nbsp;</span>Результат:</a></span></li></ul></li><li><span><a href=\"#Взвешивание-классов\" data-toc-modified-id=\"Взвешивание-классов-5\"><span class=\"toc-item-num\">5&nbsp;&nbsp;</span>Взвешивание классов</a></span></li><li><span><a href=\"#Увеличение-выборки-(upsampling)\" data-toc-modified-id=\"Увеличение-выборки-(upsampling)-6\"><span class=\"toc-item-num\">6&nbsp;&nbsp;</span>Увеличение выборки (upsampling)</a></span><ul class=\"toc-item\"><li><span><a href=\"#Результат:\" data-toc-modified-id=\"Результат:-6.1\"><span class=\"toc-item-num\">6.1&nbsp;&nbsp;</span>Результат:</a></span></li></ul></li><li><span><a href=\"#Уменьшение-выборки-(downsampling)\" data-toc-modified-id=\"Уменьшение-выборки-(downsampling)-7\"><span class=\"toc-item-num\">7&nbsp;&nbsp;</span>Уменьшение выборки (downsampling)</a></span><ul class=\"toc-item\"><li><span><a href=\"#Результат:\" data-toc-modified-id=\"Результат:-7.1\"><span class=\"toc-item-num\">7.1&nbsp;&nbsp;</span>Результат:</a></span></li></ul></li><li><span><a href=\"#Настройка-гиперпараметров\" data-toc-modified-id=\"Настройка-гиперпараметров-8\"><span class=\"toc-item-num\">8&nbsp;&nbsp;</span>Настройка гиперпараметров</a></span><ul class=\"toc-item\"><li><span><a href=\"#Логистическая-регрессия-(Logistic-Regression)\" data-toc-modified-id=\"Логистическая-регрессия-(Logistic-Regression)-8.1\"><span class=\"toc-item-num\">8.1&nbsp;&nbsp;</span>Логистическая регрессия (Logistic Regression)</a></span></li><li><span><a href=\"#Дерево-принятия-решений-(Decision-Tree-Classifier)\" data-toc-modified-id=\"Дерево-принятия-решений-(Decision-Tree-Classifier)-8.2\"><span class=\"toc-item-num\">8.2&nbsp;&nbsp;</span>Дерево принятия решений (Decision Tree Classifier)</a></span></li><li><span><a href=\"#Случайный-лес-(Random-Forest-Classifier)\" data-toc-modified-id=\"Случайный-лес-(Random-Forest-Classifier)-8.3\"><span class=\"toc-item-num\">8.3&nbsp;&nbsp;</span>Случайный лес (Random Forest Classifier)</a></span></li><li><span><a href=\"#Результат:\" data-toc-modified-id=\"Результат:-8.4\"><span class=\"toc-item-num\">8.4&nbsp;&nbsp;</span>Результат:</a></span></li><li><span><a href=\"#Результат:\" data-toc-modified-id=\"Результат:-8.5\"><span class=\"toc-item-num\">8.5&nbsp;&nbsp;</span>Результат:</a></span></li><li><span><a href=\"#Результат:\" data-toc-modified-id=\"Результат:-8.6\"><span class=\"toc-item-num\">8.6&nbsp;&nbsp;</span>Результат:</a></span></li></ul></li></ul></div>"
   ]
  },
  {
   "cell_type": "markdown",
   "metadata": {},
   "source": [
    "# Проектная работа. Обучение с учителем  \n",
    "\n",
    "Из «Бета-Банка» стали уходить клиенты. Каждый месяц. Немного, но заметно. Банковские маркетологи посчитали: сохранять текущих клиентов дешевле, чем привлекать новых.\n",
    "Нужно спрогнозировать, уйдёт клиент из банка в ближайшее время или нет. Вам предоставлены исторические данные о поведении клиентов и расторжении договоров с банком.\n",
    "Постройте модель с предельно большим значением F1-меры. Чтобы сдать проект успешно, нужно довести метрику до 0.59. Проверьте F1-меру на тестовой выборке самостоятельно.\n",
    "Дополнительно измеряйте AUC-ROC, сравнивайте её значение с F1-мерой. "
   ]
  },
  {
   "cell_type": "markdown",
   "metadata": {},
   "source": [
    "# Описание данных  \n",
    "\n",
    "### Признаки:  \n",
    "•\tRowNumber — индекс строки в данных  \n",
    "•\tCustomerId — уникальный идентификатор клиента  \n",
    "•\tSurname — фамилия  \n",
    "•\tCreditScore — кредитный рейтинг  \n",
    "•\tGeography — страна проживания  \n",
    "•\tGender — пол  \n",
    "•\tAge — возраст  \n",
    "•\tTenure — сколько лет человек является клиентом банка  \n",
    "•\tBalance — баланс на счёте  \n",
    "•\tNumOfProducts — количество продуктов банка, используемых клиентом  \n",
    "•\tHasCrCard — наличие кредитной карты  \n",
    "•\tIsActiveMember — активность клиента  \n",
    "•\tEstimatedSalary — предполагаемая зарплата  \n",
    "### Целевой признаки:  \n",
    "•\tExited — факт ухода клиента  \n"
   ]
  },
  {
   "cell_type": "markdown",
   "metadata": {},
   "source": [
    "# 1. Подготовка данных"
   ]
  },
  {
   "cell_type": "code",
   "execution_count": 1,
   "metadata": {},
   "outputs": [],
   "source": [
    "#Импорт библиотек\n",
    "import pandas as pd\n",
    "pd.options.mode.chained_assignment = None\n",
    "import numpy as np\n",
    "from sklearn.metrics import f1_score, mean_absolute_error, accuracy_score, roc_auc_score\n",
    "from sklearn.preprocessing import StandardScaler, OrdinalEncoder\n",
    "from sklearn.utils import shuffle\n",
    "from sklearn.model_selection import train_test_split\n",
    "from sklearn.linear_model import LogisticRegression\n",
    "from sklearn.ensemble import RandomForestClassifier\n",
    "from sklearn.tree import DecisionTreeClassifier\n",
    "from sklearn.dummy import DummyClassifier\n",
    "\n",
    "import warnings\n",
    "warnings.filterwarnings(\"ignore\")\n",
    "\n",
    "pd.set_option('display.max_colwidth', -1)"
   ]
  },
  {
   "cell_type": "code",
   "execution_count": 2,
   "metadata": {},
   "outputs": [],
   "source": [
    "# Загрузка датасета\n",
    "import os\n",
    "\n",
    "pth1 = 'D:/YANDEX.PRAKTIKUM/DATA_SCIENCE/Обучение_с_учителем/churn.csv'\n",
    "pth2 = '/datasets/Churn.csv'\n",
    "\n",
    "if os.path.exists(pth1):\n",
    "    bank_customers_behaviour = pd.read_csv(pth1)\n",
    "elif os.path.exists(pth2):\n",
    "    bank_customers_behaviour = pd.read_csv(pth2)\n",
    "else:\n",
    "    print('Something is wrong')"
   ]
  },
  {
   "cell_type": "code",
   "execution_count": 3,
   "metadata": {
    "scrolled": false
   },
   "outputs": [
    {
     "name": "stdout",
     "output_type": "stream",
     "text": [
      "<class 'pandas.core.frame.DataFrame'>\n",
      "RangeIndex: 10000 entries, 0 to 9999\n",
      "Data columns (total 14 columns):\n",
      " #   Column           Non-Null Count  Dtype  \n",
      "---  ------           --------------  -----  \n",
      " 0   RowNumber        10000 non-null  int64  \n",
      " 1   CustomerId       10000 non-null  int64  \n",
      " 2   Surname          10000 non-null  object \n",
      " 3   CreditScore      10000 non-null  int64  \n",
      " 4   Geography        10000 non-null  object \n",
      " 5   Gender           10000 non-null  object \n",
      " 6   Age              10000 non-null  int64  \n",
      " 7   Tenure           9091 non-null   float64\n",
      " 8   Balance          10000 non-null  float64\n",
      " 9   NumOfProducts    10000 non-null  int64  \n",
      " 10  HasCrCard        10000 non-null  int64  \n",
      " 11  IsActiveMember   10000 non-null  int64  \n",
      " 12  EstimatedSalary  10000 non-null  float64\n",
      " 13  Exited           10000 non-null  int64  \n",
      "dtypes: float64(3), int64(8), object(3)\n",
      "memory usage: 1.1+ MB\n",
      "None\n"
     ]
    }
   ],
   "source": [
    "# Первичный анализ датасета \n",
    "print(bank_customers_behaviour.info())"
   ]
  },
  {
   "cell_type": "code",
   "execution_count": 4,
   "metadata": {},
   "outputs": [
    {
     "data": {
      "text/html": [
       "<div>\n",
       "<style scoped>\n",
       "    .dataframe tbody tr th:only-of-type {\n",
       "        vertical-align: middle;\n",
       "    }\n",
       "\n",
       "    .dataframe tbody tr th {\n",
       "        vertical-align: top;\n",
       "    }\n",
       "\n",
       "    .dataframe thead th {\n",
       "        text-align: right;\n",
       "    }\n",
       "</style>\n",
       "<table border=\"1\" class=\"dataframe\">\n",
       "  <thead>\n",
       "    <tr style=\"text-align: right;\">\n",
       "      <th></th>\n",
       "      <th>RowNumber</th>\n",
       "      <th>CustomerId</th>\n",
       "      <th>Surname</th>\n",
       "      <th>CreditScore</th>\n",
       "      <th>Geography</th>\n",
       "      <th>Gender</th>\n",
       "      <th>Age</th>\n",
       "      <th>Tenure</th>\n",
       "      <th>Balance</th>\n",
       "      <th>NumOfProducts</th>\n",
       "      <th>HasCrCard</th>\n",
       "      <th>IsActiveMember</th>\n",
       "      <th>EstimatedSalary</th>\n",
       "      <th>Exited</th>\n",
       "    </tr>\n",
       "  </thead>\n",
       "  <tbody>\n",
       "    <tr>\n",
       "      <th>0</th>\n",
       "      <td>1</td>\n",
       "      <td>15634602</td>\n",
       "      <td>Hargrave</td>\n",
       "      <td>619</td>\n",
       "      <td>France</td>\n",
       "      <td>Female</td>\n",
       "      <td>42</td>\n",
       "      <td>2.0</td>\n",
       "      <td>0.00</td>\n",
       "      <td>1</td>\n",
       "      <td>1</td>\n",
       "      <td>1</td>\n",
       "      <td>101348.88</td>\n",
       "      <td>1</td>\n",
       "    </tr>\n",
       "    <tr>\n",
       "      <th>1</th>\n",
       "      <td>2</td>\n",
       "      <td>15647311</td>\n",
       "      <td>Hill</td>\n",
       "      <td>608</td>\n",
       "      <td>Spain</td>\n",
       "      <td>Female</td>\n",
       "      <td>41</td>\n",
       "      <td>1.0</td>\n",
       "      <td>83807.86</td>\n",
       "      <td>1</td>\n",
       "      <td>0</td>\n",
       "      <td>1</td>\n",
       "      <td>112542.58</td>\n",
       "      <td>0</td>\n",
       "    </tr>\n",
       "    <tr>\n",
       "      <th>2</th>\n",
       "      <td>3</td>\n",
       "      <td>15619304</td>\n",
       "      <td>Onio</td>\n",
       "      <td>502</td>\n",
       "      <td>France</td>\n",
       "      <td>Female</td>\n",
       "      <td>42</td>\n",
       "      <td>8.0</td>\n",
       "      <td>159660.80</td>\n",
       "      <td>3</td>\n",
       "      <td>1</td>\n",
       "      <td>0</td>\n",
       "      <td>113931.57</td>\n",
       "      <td>1</td>\n",
       "    </tr>\n",
       "    <tr>\n",
       "      <th>3</th>\n",
       "      <td>4</td>\n",
       "      <td>15701354</td>\n",
       "      <td>Boni</td>\n",
       "      <td>699</td>\n",
       "      <td>France</td>\n",
       "      <td>Female</td>\n",
       "      <td>39</td>\n",
       "      <td>1.0</td>\n",
       "      <td>0.00</td>\n",
       "      <td>2</td>\n",
       "      <td>0</td>\n",
       "      <td>0</td>\n",
       "      <td>93826.63</td>\n",
       "      <td>0</td>\n",
       "    </tr>\n",
       "    <tr>\n",
       "      <th>4</th>\n",
       "      <td>5</td>\n",
       "      <td>15737888</td>\n",
       "      <td>Mitchell</td>\n",
       "      <td>850</td>\n",
       "      <td>Spain</td>\n",
       "      <td>Female</td>\n",
       "      <td>43</td>\n",
       "      <td>2.0</td>\n",
       "      <td>125510.82</td>\n",
       "      <td>1</td>\n",
       "      <td>1</td>\n",
       "      <td>1</td>\n",
       "      <td>79084.10</td>\n",
       "      <td>0</td>\n",
       "    </tr>\n",
       "  </tbody>\n",
       "</table>\n",
       "</div>"
      ],
      "text/plain": [
       "   RowNumber  CustomerId   Surname  CreditScore Geography  Gender  Age  \\\n",
       "0  1          15634602    Hargrave  619          France    Female  42    \n",
       "1  2          15647311    Hill      608          Spain     Female  41    \n",
       "2  3          15619304    Onio      502          France    Female  42    \n",
       "3  4          15701354    Boni      699          France    Female  39    \n",
       "4  5          15737888    Mitchell  850          Spain     Female  43    \n",
       "\n",
       "   Tenure    Balance  NumOfProducts  HasCrCard  IsActiveMember  \\\n",
       "0  2.0     0.00       1              1          1                \n",
       "1  1.0     83807.86   1              0          1                \n",
       "2  8.0     159660.80  3              1          0                \n",
       "3  1.0     0.00       2              0          0                \n",
       "4  2.0     125510.82  1              1          1                \n",
       "\n",
       "   EstimatedSalary  Exited  \n",
       "0  101348.88        1       \n",
       "1  112542.58        0       \n",
       "2  113931.57        1       \n",
       "3  93826.63         0       \n",
       "4  79084.10         0       "
      ]
     },
     "execution_count": 4,
     "metadata": {},
     "output_type": "execute_result"
    }
   ],
   "source": [
    "bank_customers_behaviour.head()"
   ]
  },
  {
   "cell_type": "code",
   "execution_count": 5,
   "metadata": {},
   "outputs": [
    {
     "data": {
      "text/html": [
       "<div>\n",
       "<style scoped>\n",
       "    .dataframe tbody tr th:only-of-type {\n",
       "        vertical-align: middle;\n",
       "    }\n",
       "\n",
       "    .dataframe tbody tr th {\n",
       "        vertical-align: top;\n",
       "    }\n",
       "\n",
       "    .dataframe thead th {\n",
       "        text-align: right;\n",
       "    }\n",
       "</style>\n",
       "<table border=\"1\" class=\"dataframe\">\n",
       "  <thead>\n",
       "    <tr style=\"text-align: right;\">\n",
       "      <th></th>\n",
       "      <th>RowNumber</th>\n",
       "      <th>CustomerId</th>\n",
       "      <th>Surname</th>\n",
       "      <th>CreditScore</th>\n",
       "      <th>Geography</th>\n",
       "      <th>Gender</th>\n",
       "      <th>Age</th>\n",
       "      <th>Tenure</th>\n",
       "      <th>Balance</th>\n",
       "      <th>NumOfProducts</th>\n",
       "      <th>HasCrCard</th>\n",
       "      <th>IsActiveMember</th>\n",
       "      <th>EstimatedSalary</th>\n",
       "      <th>Exited</th>\n",
       "    </tr>\n",
       "  </thead>\n",
       "  <tbody>\n",
       "    <tr>\n",
       "      <th>9995</th>\n",
       "      <td>9996</td>\n",
       "      <td>15606229</td>\n",
       "      <td>Obijiaku</td>\n",
       "      <td>771</td>\n",
       "      <td>France</td>\n",
       "      <td>Male</td>\n",
       "      <td>39</td>\n",
       "      <td>5.0</td>\n",
       "      <td>0.00</td>\n",
       "      <td>2</td>\n",
       "      <td>1</td>\n",
       "      <td>0</td>\n",
       "      <td>96270.64</td>\n",
       "      <td>0</td>\n",
       "    </tr>\n",
       "    <tr>\n",
       "      <th>9996</th>\n",
       "      <td>9997</td>\n",
       "      <td>15569892</td>\n",
       "      <td>Johnstone</td>\n",
       "      <td>516</td>\n",
       "      <td>France</td>\n",
       "      <td>Male</td>\n",
       "      <td>35</td>\n",
       "      <td>10.0</td>\n",
       "      <td>57369.61</td>\n",
       "      <td>1</td>\n",
       "      <td>1</td>\n",
       "      <td>1</td>\n",
       "      <td>101699.77</td>\n",
       "      <td>0</td>\n",
       "    </tr>\n",
       "    <tr>\n",
       "      <th>9997</th>\n",
       "      <td>9998</td>\n",
       "      <td>15584532</td>\n",
       "      <td>Liu</td>\n",
       "      <td>709</td>\n",
       "      <td>France</td>\n",
       "      <td>Female</td>\n",
       "      <td>36</td>\n",
       "      <td>7.0</td>\n",
       "      <td>0.00</td>\n",
       "      <td>1</td>\n",
       "      <td>0</td>\n",
       "      <td>1</td>\n",
       "      <td>42085.58</td>\n",
       "      <td>1</td>\n",
       "    </tr>\n",
       "    <tr>\n",
       "      <th>9998</th>\n",
       "      <td>9999</td>\n",
       "      <td>15682355</td>\n",
       "      <td>Sabbatini</td>\n",
       "      <td>772</td>\n",
       "      <td>Germany</td>\n",
       "      <td>Male</td>\n",
       "      <td>42</td>\n",
       "      <td>3.0</td>\n",
       "      <td>75075.31</td>\n",
       "      <td>2</td>\n",
       "      <td>1</td>\n",
       "      <td>0</td>\n",
       "      <td>92888.52</td>\n",
       "      <td>1</td>\n",
       "    </tr>\n",
       "    <tr>\n",
       "      <th>9999</th>\n",
       "      <td>10000</td>\n",
       "      <td>15628319</td>\n",
       "      <td>Walker</td>\n",
       "      <td>792</td>\n",
       "      <td>France</td>\n",
       "      <td>Female</td>\n",
       "      <td>28</td>\n",
       "      <td>NaN</td>\n",
       "      <td>130142.79</td>\n",
       "      <td>1</td>\n",
       "      <td>1</td>\n",
       "      <td>0</td>\n",
       "      <td>38190.78</td>\n",
       "      <td>0</td>\n",
       "    </tr>\n",
       "  </tbody>\n",
       "</table>\n",
       "</div>"
      ],
      "text/plain": [
       "      RowNumber  CustomerId    Surname  CreditScore Geography  Gender  Age  \\\n",
       "9995  9996       15606229    Obijiaku   771          France    Male    39    \n",
       "9996  9997       15569892    Johnstone  516          France    Male    35    \n",
       "9997  9998       15584532    Liu        709          France    Female  36    \n",
       "9998  9999       15682355    Sabbatini  772          Germany   Male    42    \n",
       "9999  10000      15628319    Walker     792          France    Female  28    \n",
       "\n",
       "      Tenure    Balance  NumOfProducts  HasCrCard  IsActiveMember  \\\n",
       "9995  5.0     0.00       2              1          0                \n",
       "9996  10.0    57369.61   1              1          1                \n",
       "9997  7.0     0.00       1              0          1                \n",
       "9998  3.0     75075.31   2              1          0                \n",
       "9999 NaN      130142.79  1              1          0                \n",
       "\n",
       "      EstimatedSalary  Exited  \n",
       "9995  96270.64         0       \n",
       "9996  101699.77        0       \n",
       "9997  42085.58         1       \n",
       "9998  92888.52         1       \n",
       "9999  38190.78         0       "
      ]
     },
     "execution_count": 5,
     "metadata": {},
     "output_type": "execute_result"
    }
   ],
   "source": [
    "bank_customers_behaviour.tail()"
   ]
  },
  {
   "cell_type": "markdown",
   "metadata": {},
   "source": [
    "### По результатам первичного анализа можно отметить, что:\n",
    "    • датафрейм содержит 13 признаков (3 из них — качественные, а 10 — количественные) и 10000 объектов\n",
    "    • есть признаки, которые в рамках исследования не играют важной роли, их можно будет удалить чтобы упростить работу будущей модели. К таким признакам можно отнести следующие признаки: RowNumber, CustomerId и Surname\n",
    "    • датафрейм содержит пропуски (столбец Tenure). Можно предположить, что пропуски появились по одной из этих причин: \n",
    "        - клиент оставил графу пустой, так как ранее не был клиентом банка (в таком случае пропуски можно заполнить 0)\n",
    "        - клиент просто не захотел ответить на этот вопрос и оставил графу пустой (тогда пропуски можно заполнить средним арифметическим или медианой)."
   ]
  },
  {
   "cell_type": "markdown",
   "metadata": {},
   "source": [
    "Выведем более подробную информацию о количественных признаках."
   ]
  },
  {
   "cell_type": "code",
   "execution_count": 6,
   "metadata": {},
   "outputs": [
    {
     "data": {
      "text/html": [
       "<div>\n",
       "<style scoped>\n",
       "    .dataframe tbody tr th:only-of-type {\n",
       "        vertical-align: middle;\n",
       "    }\n",
       "\n",
       "    .dataframe tbody tr th {\n",
       "        vertical-align: top;\n",
       "    }\n",
       "\n",
       "    .dataframe thead th {\n",
       "        text-align: right;\n",
       "    }\n",
       "</style>\n",
       "<table border=\"1\" class=\"dataframe\">\n",
       "  <thead>\n",
       "    <tr style=\"text-align: right;\">\n",
       "      <th></th>\n",
       "      <th>RowNumber</th>\n",
       "      <th>CustomerId</th>\n",
       "      <th>CreditScore</th>\n",
       "      <th>Age</th>\n",
       "      <th>Tenure</th>\n",
       "      <th>Balance</th>\n",
       "      <th>NumOfProducts</th>\n",
       "      <th>HasCrCard</th>\n",
       "      <th>IsActiveMember</th>\n",
       "      <th>EstimatedSalary</th>\n",
       "      <th>Exited</th>\n",
       "    </tr>\n",
       "  </thead>\n",
       "  <tbody>\n",
       "    <tr>\n",
       "      <th>count</th>\n",
       "      <td>10000.00000</td>\n",
       "      <td>1.000000e+04</td>\n",
       "      <td>10000.000000</td>\n",
       "      <td>10000.000000</td>\n",
       "      <td>9091.000000</td>\n",
       "      <td>10000.000000</td>\n",
       "      <td>10000.000000</td>\n",
       "      <td>10000.00000</td>\n",
       "      <td>10000.000000</td>\n",
       "      <td>10000.000000</td>\n",
       "      <td>10000.000000</td>\n",
       "    </tr>\n",
       "    <tr>\n",
       "      <th>mean</th>\n",
       "      <td>5000.50000</td>\n",
       "      <td>1.569094e+07</td>\n",
       "      <td>650.528800</td>\n",
       "      <td>38.921800</td>\n",
       "      <td>4.997690</td>\n",
       "      <td>76485.889288</td>\n",
       "      <td>1.530200</td>\n",
       "      <td>0.70550</td>\n",
       "      <td>0.515100</td>\n",
       "      <td>100090.239881</td>\n",
       "      <td>0.203700</td>\n",
       "    </tr>\n",
       "    <tr>\n",
       "      <th>std</th>\n",
       "      <td>2886.89568</td>\n",
       "      <td>7.193619e+04</td>\n",
       "      <td>96.653299</td>\n",
       "      <td>10.487806</td>\n",
       "      <td>2.894723</td>\n",
       "      <td>62397.405202</td>\n",
       "      <td>0.581654</td>\n",
       "      <td>0.45584</td>\n",
       "      <td>0.499797</td>\n",
       "      <td>57510.492818</td>\n",
       "      <td>0.402769</td>\n",
       "    </tr>\n",
       "    <tr>\n",
       "      <th>min</th>\n",
       "      <td>1.00000</td>\n",
       "      <td>1.556570e+07</td>\n",
       "      <td>350.000000</td>\n",
       "      <td>18.000000</td>\n",
       "      <td>0.000000</td>\n",
       "      <td>0.000000</td>\n",
       "      <td>1.000000</td>\n",
       "      <td>0.00000</td>\n",
       "      <td>0.000000</td>\n",
       "      <td>11.580000</td>\n",
       "      <td>0.000000</td>\n",
       "    </tr>\n",
       "    <tr>\n",
       "      <th>25%</th>\n",
       "      <td>2500.75000</td>\n",
       "      <td>1.562853e+07</td>\n",
       "      <td>584.000000</td>\n",
       "      <td>32.000000</td>\n",
       "      <td>2.000000</td>\n",
       "      <td>0.000000</td>\n",
       "      <td>1.000000</td>\n",
       "      <td>0.00000</td>\n",
       "      <td>0.000000</td>\n",
       "      <td>51002.110000</td>\n",
       "      <td>0.000000</td>\n",
       "    </tr>\n",
       "    <tr>\n",
       "      <th>50%</th>\n",
       "      <td>5000.50000</td>\n",
       "      <td>1.569074e+07</td>\n",
       "      <td>652.000000</td>\n",
       "      <td>37.000000</td>\n",
       "      <td>5.000000</td>\n",
       "      <td>97198.540000</td>\n",
       "      <td>1.000000</td>\n",
       "      <td>1.00000</td>\n",
       "      <td>1.000000</td>\n",
       "      <td>100193.915000</td>\n",
       "      <td>0.000000</td>\n",
       "    </tr>\n",
       "    <tr>\n",
       "      <th>75%</th>\n",
       "      <td>7500.25000</td>\n",
       "      <td>1.575323e+07</td>\n",
       "      <td>718.000000</td>\n",
       "      <td>44.000000</td>\n",
       "      <td>7.000000</td>\n",
       "      <td>127644.240000</td>\n",
       "      <td>2.000000</td>\n",
       "      <td>1.00000</td>\n",
       "      <td>1.000000</td>\n",
       "      <td>149388.247500</td>\n",
       "      <td>0.000000</td>\n",
       "    </tr>\n",
       "    <tr>\n",
       "      <th>max</th>\n",
       "      <td>10000.00000</td>\n",
       "      <td>1.581569e+07</td>\n",
       "      <td>850.000000</td>\n",
       "      <td>92.000000</td>\n",
       "      <td>10.000000</td>\n",
       "      <td>250898.090000</td>\n",
       "      <td>4.000000</td>\n",
       "      <td>1.00000</td>\n",
       "      <td>1.000000</td>\n",
       "      <td>199992.480000</td>\n",
       "      <td>1.000000</td>\n",
       "    </tr>\n",
       "  </tbody>\n",
       "</table>\n",
       "</div>"
      ],
      "text/plain": [
       "         RowNumber    CustomerId   CreditScore           Age       Tenure  \\\n",
       "count  10000.00000  1.000000e+04  10000.000000  10000.000000  9091.000000   \n",
       "mean   5000.50000   1.569094e+07  650.528800    38.921800     4.997690      \n",
       "std    2886.89568   7.193619e+04  96.653299     10.487806     2.894723      \n",
       "min    1.00000      1.556570e+07  350.000000    18.000000     0.000000      \n",
       "25%    2500.75000   1.562853e+07  584.000000    32.000000     2.000000      \n",
       "50%    5000.50000   1.569074e+07  652.000000    37.000000     5.000000      \n",
       "75%    7500.25000   1.575323e+07  718.000000    44.000000     7.000000      \n",
       "max    10000.00000  1.581569e+07  850.000000    92.000000     10.000000     \n",
       "\n",
       "             Balance  NumOfProducts    HasCrCard  IsActiveMember  \\\n",
       "count  10000.000000   10000.000000   10000.00000  10000.000000     \n",
       "mean   76485.889288   1.530200       0.70550      0.515100         \n",
       "std    62397.405202   0.581654       0.45584      0.499797         \n",
       "min    0.000000       1.000000       0.00000      0.000000         \n",
       "25%    0.000000       1.000000       0.00000      0.000000         \n",
       "50%    97198.540000   1.000000       1.00000      1.000000         \n",
       "75%    127644.240000  2.000000       1.00000      1.000000         \n",
       "max    250898.090000  4.000000       1.00000      1.000000         \n",
       "\n",
       "       EstimatedSalary        Exited  \n",
       "count  10000.000000     10000.000000  \n",
       "mean   100090.239881    0.203700      \n",
       "std    57510.492818     0.402769      \n",
       "min    11.580000        0.000000      \n",
       "25%    51002.110000     0.000000      \n",
       "50%    100193.915000    0.000000      \n",
       "75%    149388.247500    0.000000      \n",
       "max    199992.480000    1.000000      "
      ]
     },
     "execution_count": 6,
     "metadata": {},
     "output_type": "execute_result"
    }
   ],
   "source": [
    "bank_customers_behaviour.describe()"
   ]
  },
  {
   "cell_type": "markdown",
   "metadata": {},
   "source": [
    "### Можно отметить, что:  \n",
    "    • признаки CreditScore, Age, Tenure, Balance и EstimatedSalary имеют достаточно большой разброс, о чем свидетельствует как сравнительно высокие показатели стандартного отклонения, так и большая разница между минимальными и максимальными значениями  \n",
    "    • масштаб признаков разный, поэтому, перед тем как приступить к обучению модели, необходимо их масштабировать."
   ]
  },
  {
   "cell_type": "markdown",
   "metadata": {},
   "source": [
    "## Предобработка данных"
   ]
  },
  {
   "cell_type": "markdown",
   "metadata": {},
   "source": [
    "В названиях столбцов отделим слова нижним подчеркиванием, заменим регистр текста на нижний."
   ]
  },
  {
   "cell_type": "code",
   "execution_count": 7,
   "metadata": {
    "scrolled": false
   },
   "outputs": [
    {
     "data": {
      "text/html": [
       "<div>\n",
       "<style scoped>\n",
       "    .dataframe tbody tr th:only-of-type {\n",
       "        vertical-align: middle;\n",
       "    }\n",
       "\n",
       "    .dataframe tbody tr th {\n",
       "        vertical-align: top;\n",
       "    }\n",
       "\n",
       "    .dataframe thead th {\n",
       "        text-align: right;\n",
       "    }\n",
       "</style>\n",
       "<table border=\"1\" class=\"dataframe\">\n",
       "  <thead>\n",
       "    <tr style=\"text-align: right;\">\n",
       "      <th></th>\n",
       "      <th>row_number</th>\n",
       "      <th>customer_id</th>\n",
       "      <th>surname</th>\n",
       "      <th>credit_score</th>\n",
       "      <th>geography</th>\n",
       "      <th>gender</th>\n",
       "      <th>age</th>\n",
       "      <th>tenure</th>\n",
       "      <th>balance</th>\n",
       "      <th>num_of_products</th>\n",
       "      <th>has_cr_card</th>\n",
       "      <th>is_active_member</th>\n",
       "      <th>estimated_salary</th>\n",
       "      <th>exited</th>\n",
       "    </tr>\n",
       "  </thead>\n",
       "  <tbody>\n",
       "    <tr>\n",
       "      <th>0</th>\n",
       "      <td>1</td>\n",
       "      <td>15634602</td>\n",
       "      <td>Hargrave</td>\n",
       "      <td>619</td>\n",
       "      <td>France</td>\n",
       "      <td>Female</td>\n",
       "      <td>42</td>\n",
       "      <td>2.0</td>\n",
       "      <td>0.00</td>\n",
       "      <td>1</td>\n",
       "      <td>1</td>\n",
       "      <td>1</td>\n",
       "      <td>101348.88</td>\n",
       "      <td>1</td>\n",
       "    </tr>\n",
       "    <tr>\n",
       "      <th>1</th>\n",
       "      <td>2</td>\n",
       "      <td>15647311</td>\n",
       "      <td>Hill</td>\n",
       "      <td>608</td>\n",
       "      <td>Spain</td>\n",
       "      <td>Female</td>\n",
       "      <td>41</td>\n",
       "      <td>1.0</td>\n",
       "      <td>83807.86</td>\n",
       "      <td>1</td>\n",
       "      <td>0</td>\n",
       "      <td>1</td>\n",
       "      <td>112542.58</td>\n",
       "      <td>0</td>\n",
       "    </tr>\n",
       "    <tr>\n",
       "      <th>2</th>\n",
       "      <td>3</td>\n",
       "      <td>15619304</td>\n",
       "      <td>Onio</td>\n",
       "      <td>502</td>\n",
       "      <td>France</td>\n",
       "      <td>Female</td>\n",
       "      <td>42</td>\n",
       "      <td>8.0</td>\n",
       "      <td>159660.80</td>\n",
       "      <td>3</td>\n",
       "      <td>1</td>\n",
       "      <td>0</td>\n",
       "      <td>113931.57</td>\n",
       "      <td>1</td>\n",
       "    </tr>\n",
       "    <tr>\n",
       "      <th>3</th>\n",
       "      <td>4</td>\n",
       "      <td>15701354</td>\n",
       "      <td>Boni</td>\n",
       "      <td>699</td>\n",
       "      <td>France</td>\n",
       "      <td>Female</td>\n",
       "      <td>39</td>\n",
       "      <td>1.0</td>\n",
       "      <td>0.00</td>\n",
       "      <td>2</td>\n",
       "      <td>0</td>\n",
       "      <td>0</td>\n",
       "      <td>93826.63</td>\n",
       "      <td>0</td>\n",
       "    </tr>\n",
       "    <tr>\n",
       "      <th>4</th>\n",
       "      <td>5</td>\n",
       "      <td>15737888</td>\n",
       "      <td>Mitchell</td>\n",
       "      <td>850</td>\n",
       "      <td>Spain</td>\n",
       "      <td>Female</td>\n",
       "      <td>43</td>\n",
       "      <td>2.0</td>\n",
       "      <td>125510.82</td>\n",
       "      <td>1</td>\n",
       "      <td>1</td>\n",
       "      <td>1</td>\n",
       "      <td>79084.10</td>\n",
       "      <td>0</td>\n",
       "    </tr>\n",
       "  </tbody>\n",
       "</table>\n",
       "</div>"
      ],
      "text/plain": [
       "   row_number  customer_id   surname  credit_score geography  gender  age  \\\n",
       "0  1           15634602     Hargrave  619           France    Female  42    \n",
       "1  2           15647311     Hill      608           Spain     Female  41    \n",
       "2  3           15619304     Onio      502           France    Female  42    \n",
       "3  4           15701354     Boni      699           France    Female  39    \n",
       "4  5           15737888     Mitchell  850           Spain     Female  43    \n",
       "\n",
       "   tenure    balance  num_of_products  has_cr_card  is_active_member  \\\n",
       "0  2.0     0.00       1                1            1                  \n",
       "1  1.0     83807.86   1                0            1                  \n",
       "2  8.0     159660.80  3                1            0                  \n",
       "3  1.0     0.00       2                0            0                  \n",
       "4  2.0     125510.82  1                1            1                  \n",
       "\n",
       "   estimated_salary  exited  \n",
       "0  101348.88         1       \n",
       "1  112542.58         0       \n",
       "2  113931.57         1       \n",
       "3  93826.63          0       \n",
       "4  79084.10          0       "
      ]
     },
     "execution_count": 7,
     "metadata": {},
     "output_type": "execute_result"
    }
   ],
   "source": [
    "bank_customers_behaviour.columns = bank_customers_behaviour.columns.str.replace(r\"([A-Z])\", r\" \\1\").str.lower().str.replace(' ', '_').str[1:]\n",
    "bank_customers_behaviour.head()# Проверка"
   ]
  },
  {
   "cell_type": "markdown",
   "metadata": {},
   "source": [
    "Признак tenure содержит пропуски, их необходимо заполнить. Посмотрим на распределение признака tenure."
   ]
  },
  {
   "cell_type": "code",
   "execution_count": 8,
   "metadata": {
    "scrolled": true
   },
   "outputs": [
    {
     "name": "stdout",
     "output_type": "stream",
     "text": [
      "К-во пропусков в признаке tenure:  909\n"
     ]
    },
    {
     "data": {
      "text/html": [
       "<div>\n",
       "<style scoped>\n",
       "    .dataframe tbody tr th:only-of-type {\n",
       "        vertical-align: middle;\n",
       "    }\n",
       "\n",
       "    .dataframe tbody tr th {\n",
       "        vertical-align: top;\n",
       "    }\n",
       "\n",
       "    .dataframe thead th {\n",
       "        text-align: right;\n",
       "    }\n",
       "</style>\n",
       "<table border=\"1\" class=\"dataframe\">\n",
       "  <thead>\n",
       "    <tr style=\"text-align: right;\">\n",
       "      <th></th>\n",
       "      <th>tenure_cnt</th>\n",
       "      <th>count</th>\n",
       "    </tr>\n",
       "  </thead>\n",
       "  <tbody>\n",
       "    <tr>\n",
       "      <th>0</th>\n",
       "      <td>1.0</td>\n",
       "      <td>952</td>\n",
       "    </tr>\n",
       "    <tr>\n",
       "      <th>1</th>\n",
       "      <td>2.0</td>\n",
       "      <td>950</td>\n",
       "    </tr>\n",
       "    <tr>\n",
       "      <th>2</th>\n",
       "      <td>8.0</td>\n",
       "      <td>933</td>\n",
       "    </tr>\n",
       "    <tr>\n",
       "      <th>3</th>\n",
       "      <td>3.0</td>\n",
       "      <td>928</td>\n",
       "    </tr>\n",
       "    <tr>\n",
       "      <th>4</th>\n",
       "      <td>5.0</td>\n",
       "      <td>927</td>\n",
       "    </tr>\n",
       "    <tr>\n",
       "      <th>5</th>\n",
       "      <td>7.0</td>\n",
       "      <td>925</td>\n",
       "    </tr>\n",
       "    <tr>\n",
       "      <th>6</th>\n",
       "      <td>4.0</td>\n",
       "      <td>885</td>\n",
       "    </tr>\n",
       "    <tr>\n",
       "      <th>7</th>\n",
       "      <td>9.0</td>\n",
       "      <td>882</td>\n",
       "    </tr>\n",
       "    <tr>\n",
       "      <th>8</th>\n",
       "      <td>6.0</td>\n",
       "      <td>881</td>\n",
       "    </tr>\n",
       "    <tr>\n",
       "      <th>9</th>\n",
       "      <td>10.0</td>\n",
       "      <td>446</td>\n",
       "    </tr>\n",
       "    <tr>\n",
       "      <th>10</th>\n",
       "      <td>0.0</td>\n",
       "      <td>382</td>\n",
       "    </tr>\n",
       "  </tbody>\n",
       "</table>\n",
       "</div>"
      ],
      "text/plain": [
       "    tenure_cnt  count\n",
       "0   1.0         952  \n",
       "1   2.0         950  \n",
       "2   8.0         933  \n",
       "3   3.0         928  \n",
       "4   5.0         927  \n",
       "5   7.0         925  \n",
       "6   4.0         885  \n",
       "7   9.0         882  \n",
       "8   6.0         881  \n",
       "9   10.0        446  \n",
       "10  0.0         382  "
      ]
     },
     "execution_count": 8,
     "metadata": {},
     "output_type": "execute_result"
    }
   ],
   "source": [
    "print('К-во пропусков в признаке tenure: ', bank_customers_behaviour['tenure'].isnull().sum())\n",
    "tenure = bank_customers_behaviour['tenure'].value_counts().to_frame()\n",
    "tenure.reset_index(inplace=True)\n",
    "tenure.columns = ['tenure_cnt', 'count']\n",
    "tenure "
   ]
  },
  {
   "cell_type": "markdown",
   "metadata": {},
   "source": [
    "### Видим, что меньше всего клиентов, которые:\n",
    "    • значение tenure равно 0 (срок не указан, возможно новые клиенты банка)  \n",
    "    • значение tenure равно 10 (клиенты банка с самым продолжительным клиентским сроком).  \n",
    "В обработке пропусков можно действовать 2-мя способами:      \n",
    "     \n",
    "     • заполнить пропуски на 0 и предположить, что те клиенты, которые не указали соответствующий срок, являтся новыми криентами банка   \n",
    "     • заполнить пропуски медианой или средним арифметическим.\n"
   ]
  },
  {
   "cell_type": "markdown",
   "metadata": {},
   "source": [
    "Выведем на экран среднее арифметическое и медиану."
   ]
  },
  {
   "cell_type": "code",
   "execution_count": 9,
   "metadata": {},
   "outputs": [
    {
     "name": "stdout",
     "output_type": "stream",
     "text": [
      "Среднее арифметическое: 4.997690023099769\n",
      "Медиана: 5.0\n"
     ]
    }
   ],
   "source": [
    "print('Среднее арифметическое:', bank_customers_behaviour['tenure'].mean())\n",
    "print('Медиана:', bank_customers_behaviour['tenure'].median())"
   ]
  },
  {
   "cell_type": "markdown",
   "metadata": {},
   "source": [
    "Медиана и среднее арифметическое почти одинаковы и достаточно высоки."
   ]
  },
  {
   "cell_type": "markdown",
   "metadata": {},
   "source": [
    "Более вероятно, что клиенты, которые оставили графу с вопросом о сроке килентства пустым, являются новыми клиентами, поэтому заполним пропуски нулями."
   ]
  },
  {
   "cell_type": "code",
   "execution_count": 10,
   "metadata": {},
   "outputs": [
    {
     "data": {
      "text/plain": [
       "0.0     1291\n",
       "1.0     952 \n",
       "2.0     950 \n",
       "8.0     933 \n",
       "3.0     928 \n",
       "5.0     927 \n",
       "7.0     925 \n",
       "4.0     885 \n",
       "9.0     882 \n",
       "6.0     881 \n",
       "10.0    446 \n",
       "Name: tenure, dtype: int64"
      ]
     },
     "execution_count": 10,
     "metadata": {},
     "output_type": "execute_result"
    }
   ],
   "source": [
    "bank_customers_behaviour['tenure'] = bank_customers_behaviour['tenure'].fillna(0)\n",
    "bank_customers_behaviour['tenure'].value_counts()"
   ]
  },
  {
   "cell_type": "markdown",
   "metadata": {},
   "source": [
    "Заменим тип данных признака tenure на int."
   ]
  },
  {
   "cell_type": "code",
   "execution_count": 11,
   "metadata": {},
   "outputs": [
    {
     "data": {
      "text/plain": [
       "tenure    int64\n",
       "dtype: object"
      ]
     },
     "execution_count": 11,
     "metadata": {},
     "output_type": "execute_result"
    }
   ],
   "source": [
    "bank_customers_behaviour['tenure'] = bank_customers_behaviour['tenure'].astype('int')\n",
    "bank_customers_behaviour[['tenure']].dtypes #Проверка"
   ]
  },
  {
   "cell_type": "markdown",
   "metadata": {},
   "source": [
    "Удалим признаки row_number, customer_id, surname."
   ]
  },
  {
   "cell_type": "code",
   "execution_count": 12,
   "metadata": {},
   "outputs": [
    {
     "data": {
      "text/html": [
       "<div>\n",
       "<style scoped>\n",
       "    .dataframe tbody tr th:only-of-type {\n",
       "        vertical-align: middle;\n",
       "    }\n",
       "\n",
       "    .dataframe tbody tr th {\n",
       "        vertical-align: top;\n",
       "    }\n",
       "\n",
       "    .dataframe thead th {\n",
       "        text-align: right;\n",
       "    }\n",
       "</style>\n",
       "<table border=\"1\" class=\"dataframe\">\n",
       "  <thead>\n",
       "    <tr style=\"text-align: right;\">\n",
       "      <th></th>\n",
       "      <th>credit_score</th>\n",
       "      <th>geography</th>\n",
       "      <th>gender</th>\n",
       "      <th>age</th>\n",
       "      <th>tenure</th>\n",
       "      <th>balance</th>\n",
       "      <th>num_of_products</th>\n",
       "      <th>has_cr_card</th>\n",
       "      <th>is_active_member</th>\n",
       "      <th>estimated_salary</th>\n",
       "      <th>exited</th>\n",
       "    </tr>\n",
       "  </thead>\n",
       "  <tbody>\n",
       "    <tr>\n",
       "      <th>0</th>\n",
       "      <td>619</td>\n",
       "      <td>France</td>\n",
       "      <td>Female</td>\n",
       "      <td>42</td>\n",
       "      <td>2</td>\n",
       "      <td>0.00</td>\n",
       "      <td>1</td>\n",
       "      <td>1</td>\n",
       "      <td>1</td>\n",
       "      <td>101348.88</td>\n",
       "      <td>1</td>\n",
       "    </tr>\n",
       "    <tr>\n",
       "      <th>1</th>\n",
       "      <td>608</td>\n",
       "      <td>Spain</td>\n",
       "      <td>Female</td>\n",
       "      <td>41</td>\n",
       "      <td>1</td>\n",
       "      <td>83807.86</td>\n",
       "      <td>1</td>\n",
       "      <td>0</td>\n",
       "      <td>1</td>\n",
       "      <td>112542.58</td>\n",
       "      <td>0</td>\n",
       "    </tr>\n",
       "    <tr>\n",
       "      <th>2</th>\n",
       "      <td>502</td>\n",
       "      <td>France</td>\n",
       "      <td>Female</td>\n",
       "      <td>42</td>\n",
       "      <td>8</td>\n",
       "      <td>159660.80</td>\n",
       "      <td>3</td>\n",
       "      <td>1</td>\n",
       "      <td>0</td>\n",
       "      <td>113931.57</td>\n",
       "      <td>1</td>\n",
       "    </tr>\n",
       "    <tr>\n",
       "      <th>3</th>\n",
       "      <td>699</td>\n",
       "      <td>France</td>\n",
       "      <td>Female</td>\n",
       "      <td>39</td>\n",
       "      <td>1</td>\n",
       "      <td>0.00</td>\n",
       "      <td>2</td>\n",
       "      <td>0</td>\n",
       "      <td>0</td>\n",
       "      <td>93826.63</td>\n",
       "      <td>0</td>\n",
       "    </tr>\n",
       "    <tr>\n",
       "      <th>4</th>\n",
       "      <td>850</td>\n",
       "      <td>Spain</td>\n",
       "      <td>Female</td>\n",
       "      <td>43</td>\n",
       "      <td>2</td>\n",
       "      <td>125510.82</td>\n",
       "      <td>1</td>\n",
       "      <td>1</td>\n",
       "      <td>1</td>\n",
       "      <td>79084.10</td>\n",
       "      <td>0</td>\n",
       "    </tr>\n",
       "  </tbody>\n",
       "</table>\n",
       "</div>"
      ],
      "text/plain": [
       "   credit_score geography  gender  age  tenure    balance  num_of_products  \\\n",
       "0  619           France    Female  42   2       0.00       1                 \n",
       "1  608           Spain     Female  41   1       83807.86   1                 \n",
       "2  502           France    Female  42   8       159660.80  3                 \n",
       "3  699           France    Female  39   1       0.00       2                 \n",
       "4  850           Spain     Female  43   2       125510.82  1                 \n",
       "\n",
       "   has_cr_card  is_active_member  estimated_salary  exited  \n",
       "0  1            1                 101348.88         1       \n",
       "1  0            1                 112542.58         0       \n",
       "2  1            0                 113931.57         1       \n",
       "3  0            0                 93826.63          0       \n",
       "4  1            1                 79084.10          0       "
      ]
     },
     "execution_count": 12,
     "metadata": {},
     "output_type": "execute_result"
    }
   ],
   "source": [
    "df = bank_customers_behaviour.drop(['row_number', 'customer_id', 'surname'], axis=1)\n",
    "df.head() #Проверка"
   ]
  },
  {
   "cell_type": "markdown",
   "metadata": {},
   "source": [
    "Осталось 11 признаков: 2 качественных (geography и gender) и 9 количественных (credit_score, age, tenure, balance, num_of_products, has_cr_card, is_active_member, estimated_salary, exited)."
   ]
  },
  {
   "cell_type": "markdown",
   "metadata": {},
   "source": [
    "Перед тем как перейти к преобразованию признаков, проверим не содержит ли датафрейм дубликаты."
   ]
  },
  {
   "cell_type": "code",
   "execution_count": 13,
   "metadata": {},
   "outputs": [
    {
     "name": "stdout",
     "output_type": "stream",
     "text": [
      "Количество дубликатов: 0\n"
     ]
    }
   ],
   "source": [
    "print('Количество дубликатов:', df.duplicated().sum())"
   ]
  },
  {
   "cell_type": "markdown",
   "metadata": {},
   "source": [
    "## Преобразование признаков"
   ]
  },
  {
   "cell_type": "markdown",
   "metadata": {},
   "source": [
    "Для преобразования категориальных признаков в численные, вызовем функцию get_dummies() с аргументом drop_first что позволит не попасть в дамми-ловушку, так как не создает большое количество фиктивных признаков."
   ]
  },
  {
   "cell_type": "code",
   "execution_count": 14,
   "metadata": {},
   "outputs": [
    {
     "data": {
      "text/html": [
       "<div>\n",
       "<style scoped>\n",
       "    .dataframe tbody tr th:only-of-type {\n",
       "        vertical-align: middle;\n",
       "    }\n",
       "\n",
       "    .dataframe tbody tr th {\n",
       "        vertical-align: top;\n",
       "    }\n",
       "\n",
       "    .dataframe thead th {\n",
       "        text-align: right;\n",
       "    }\n",
       "</style>\n",
       "<table border=\"1\" class=\"dataframe\">\n",
       "  <thead>\n",
       "    <tr style=\"text-align: right;\">\n",
       "      <th></th>\n",
       "      <th>credit_score</th>\n",
       "      <th>age</th>\n",
       "      <th>tenure</th>\n",
       "      <th>balance</th>\n",
       "      <th>num_of_products</th>\n",
       "      <th>has_cr_card</th>\n",
       "      <th>is_active_member</th>\n",
       "      <th>estimated_salary</th>\n",
       "      <th>exited</th>\n",
       "      <th>geography_germany</th>\n",
       "      <th>geography_spain</th>\n",
       "      <th>gender_male</th>\n",
       "    </tr>\n",
       "  </thead>\n",
       "  <tbody>\n",
       "    <tr>\n",
       "      <th>0</th>\n",
       "      <td>619</td>\n",
       "      <td>42</td>\n",
       "      <td>2</td>\n",
       "      <td>0.00</td>\n",
       "      <td>1</td>\n",
       "      <td>1</td>\n",
       "      <td>1</td>\n",
       "      <td>101348.88</td>\n",
       "      <td>1</td>\n",
       "      <td>0</td>\n",
       "      <td>0</td>\n",
       "      <td>0</td>\n",
       "    </tr>\n",
       "    <tr>\n",
       "      <th>1</th>\n",
       "      <td>608</td>\n",
       "      <td>41</td>\n",
       "      <td>1</td>\n",
       "      <td>83807.86</td>\n",
       "      <td>1</td>\n",
       "      <td>0</td>\n",
       "      <td>1</td>\n",
       "      <td>112542.58</td>\n",
       "      <td>0</td>\n",
       "      <td>0</td>\n",
       "      <td>1</td>\n",
       "      <td>0</td>\n",
       "    </tr>\n",
       "    <tr>\n",
       "      <th>2</th>\n",
       "      <td>502</td>\n",
       "      <td>42</td>\n",
       "      <td>8</td>\n",
       "      <td>159660.80</td>\n",
       "      <td>3</td>\n",
       "      <td>1</td>\n",
       "      <td>0</td>\n",
       "      <td>113931.57</td>\n",
       "      <td>1</td>\n",
       "      <td>0</td>\n",
       "      <td>0</td>\n",
       "      <td>0</td>\n",
       "    </tr>\n",
       "    <tr>\n",
       "      <th>3</th>\n",
       "      <td>699</td>\n",
       "      <td>39</td>\n",
       "      <td>1</td>\n",
       "      <td>0.00</td>\n",
       "      <td>2</td>\n",
       "      <td>0</td>\n",
       "      <td>0</td>\n",
       "      <td>93826.63</td>\n",
       "      <td>0</td>\n",
       "      <td>0</td>\n",
       "      <td>0</td>\n",
       "      <td>0</td>\n",
       "    </tr>\n",
       "    <tr>\n",
       "      <th>4</th>\n",
       "      <td>850</td>\n",
       "      <td>43</td>\n",
       "      <td>2</td>\n",
       "      <td>125510.82</td>\n",
       "      <td>1</td>\n",
       "      <td>1</td>\n",
       "      <td>1</td>\n",
       "      <td>79084.10</td>\n",
       "      <td>0</td>\n",
       "      <td>0</td>\n",
       "      <td>1</td>\n",
       "      <td>0</td>\n",
       "    </tr>\n",
       "  </tbody>\n",
       "</table>\n",
       "</div>"
      ],
      "text/plain": [
       "   credit_score  age  tenure    balance  num_of_products  has_cr_card  \\\n",
       "0  619           42   2       0.00       1                1             \n",
       "1  608           41   1       83807.86   1                0             \n",
       "2  502           42   8       159660.80  3                1             \n",
       "3  699           39   1       0.00       2                0             \n",
       "4  850           43   2       125510.82  1                1             \n",
       "\n",
       "   is_active_member  estimated_salary  exited  geography_germany  \\\n",
       "0  1                 101348.88         1       0                   \n",
       "1  1                 112542.58         0       0                   \n",
       "2  0                 113931.57         1       0                   \n",
       "3  0                 93826.63          0       0                   \n",
       "4  1                 79084.10          0       0                   \n",
       "\n",
       "   geography_spain  gender_male  \n",
       "0  0                0            \n",
       "1  1                0            \n",
       "2  0                0            \n",
       "3  0                0            \n",
       "4  1                0            "
      ]
     },
     "execution_count": 14,
     "metadata": {},
     "output_type": "execute_result"
    }
   ],
   "source": [
    "df_one = pd.get_dummies(df, drop_first=True)\n",
    "df_one = df_one.rename(columns = {'geography_Germany': 'geography_germany', \n",
    "                                  'geography_Spain': 'geography_spain', \n",
    "                                  'gender_Male': 'gender_male'}, inplace = False)\n",
    "df_one.head()"
   ]
  },
  {
   "cell_type": "code",
   "execution_count": 15,
   "metadata": {},
   "outputs": [
    {
     "data": {
      "text/plain": [
       "credit_score         int64  \n",
       "age                  int64  \n",
       "tenure               int64  \n",
       "balance              float64\n",
       "num_of_products      int64  \n",
       "has_cr_card          int64  \n",
       "is_active_member     int64  \n",
       "estimated_salary     float64\n",
       "exited               int64  \n",
       "geography_germany    uint8  \n",
       "geography_spain      uint8  \n",
       "gender_male          uint8  \n",
       "dtype: object"
      ]
     },
     "execution_count": 15,
     "metadata": {},
     "output_type": "execute_result"
    }
   ],
   "source": [
    "df_one.dtypes #Проверка"
   ]
  },
  {
   "cell_type": "markdown",
   "metadata": {},
   "source": [
    "## Разбиение данных на выборки"
   ]
  },
  {
   "cell_type": "markdown",
   "metadata": {},
   "source": [
    "Спрятанная тестовая выборка отсутствует, разделим исходные данные на три выборки: обучающую, валидационную и тестовую. Размеры тестовой и валидационной выборок обычно равны, разделим данные в соотношении 3:1:1."
   ]
  },
  {
   "cell_type": "markdown",
   "metadata": {},
   "source": [
    "Сначала методом train_test_split разделим исходные данные на обучающую (60%) и валидационную выборку (40%). После этого разделим валидационную выборку пополам — на валидационную и тестовую выборки. Таким образом каждая из этих 2-х выборок составит 20% из всех данных df_one."
   ]
  },
  {
   "cell_type": "code",
   "execution_count": 16,
   "metadata": {},
   "outputs": [],
   "source": [
    "target = df_one['exited']\n",
    "features = df_one.drop('exited', axis=1)"
   ]
  },
  {
   "cell_type": "code",
   "execution_count": 17,
   "metadata": {},
   "outputs": [],
   "source": [
    "features_train, features_valid, target_train, target_valid = train_test_split(features, target, train_size=0.60, test_size=0.40, \n",
    "random_state=123, stratify=target)\n",
    "features_valid, features_test, target_valid, target_test = train_test_split(features_valid, target_valid, train_size=0.50, \n",
    "test_size=0.50, random_state=123,stratify=target_valid)"
   ]
  },
  {
   "cell_type": "code",
   "execution_count": 18,
   "metadata": {},
   "outputs": [
    {
     "name": "stdout",
     "output_type": "stream",
     "text": [
      "Размер обучающей выборки: (6000, 11)\n",
      "Размер валидационной выборки: (2000, 11)\n",
      "Размер тестовой выборки: (2000, 11)\n"
     ]
    }
   ],
   "source": [
    "# Проверка\n",
    "samples = {'Размер обучающей выборки' : features_train, \n",
    "          'Размер валидационной выборки': features_valid, \n",
    "          'Размер тестовой выборки': features_test}\n",
    "\n",
    "for key, value in samples.items():\n",
    "    print(key + ':', value.shape)"
   ]
  },
  {
   "cell_type": "markdown",
   "metadata": {},
   "source": [
    "## Масштабирование признаков"
   ]
  },
  {
   "cell_type": "markdown",
   "metadata": {},
   "source": [
    "Ранее было отмечено, что масштаб признаков очень сильно отличается. Это может отрицательно повлиять на работу будущей модели (алгоритм может решить, что признак с более высокими значениями более важен чем другие признаки), поэтому признаки необходимо масштабировать."
   ]
  },
  {
   "cell_type": "code",
   "execution_count": 19,
   "metadata": {},
   "outputs": [
    {
     "data": {
      "text/html": [
       "<div>\n",
       "<style scoped>\n",
       "    .dataframe tbody tr th:only-of-type {\n",
       "        vertical-align: middle;\n",
       "    }\n",
       "\n",
       "    .dataframe tbody tr th {\n",
       "        vertical-align: top;\n",
       "    }\n",
       "\n",
       "    .dataframe thead th {\n",
       "        text-align: right;\n",
       "    }\n",
       "</style>\n",
       "<table border=\"1\" class=\"dataframe\">\n",
       "  <thead>\n",
       "    <tr style=\"text-align: right;\">\n",
       "      <th></th>\n",
       "      <th>credit_score</th>\n",
       "      <th>age</th>\n",
       "      <th>tenure</th>\n",
       "      <th>balance</th>\n",
       "      <th>num_of_products</th>\n",
       "      <th>has_cr_card</th>\n",
       "      <th>is_active_member</th>\n",
       "      <th>estimated_salary</th>\n",
       "      <th>exited</th>\n",
       "      <th>geography_germany</th>\n",
       "      <th>geography_spain</th>\n",
       "      <th>gender_male</th>\n",
       "    </tr>\n",
       "  </thead>\n",
       "  <tbody>\n",
       "    <tr>\n",
       "      <th>0</th>\n",
       "      <td>619</td>\n",
       "      <td>42</td>\n",
       "      <td>2</td>\n",
       "      <td>0.00</td>\n",
       "      <td>1</td>\n",
       "      <td>1</td>\n",
       "      <td>1</td>\n",
       "      <td>101348.88</td>\n",
       "      <td>1</td>\n",
       "      <td>0</td>\n",
       "      <td>0</td>\n",
       "      <td>0</td>\n",
       "    </tr>\n",
       "    <tr>\n",
       "      <th>1</th>\n",
       "      <td>608</td>\n",
       "      <td>41</td>\n",
       "      <td>1</td>\n",
       "      <td>83807.86</td>\n",
       "      <td>1</td>\n",
       "      <td>0</td>\n",
       "      <td>1</td>\n",
       "      <td>112542.58</td>\n",
       "      <td>0</td>\n",
       "      <td>0</td>\n",
       "      <td>1</td>\n",
       "      <td>0</td>\n",
       "    </tr>\n",
       "    <tr>\n",
       "      <th>2</th>\n",
       "      <td>502</td>\n",
       "      <td>42</td>\n",
       "      <td>8</td>\n",
       "      <td>159660.80</td>\n",
       "      <td>3</td>\n",
       "      <td>1</td>\n",
       "      <td>0</td>\n",
       "      <td>113931.57</td>\n",
       "      <td>1</td>\n",
       "      <td>0</td>\n",
       "      <td>0</td>\n",
       "      <td>0</td>\n",
       "    </tr>\n",
       "    <tr>\n",
       "      <th>3</th>\n",
       "      <td>699</td>\n",
       "      <td>39</td>\n",
       "      <td>1</td>\n",
       "      <td>0.00</td>\n",
       "      <td>2</td>\n",
       "      <td>0</td>\n",
       "      <td>0</td>\n",
       "      <td>93826.63</td>\n",
       "      <td>0</td>\n",
       "      <td>0</td>\n",
       "      <td>0</td>\n",
       "      <td>0</td>\n",
       "    </tr>\n",
       "    <tr>\n",
       "      <th>4</th>\n",
       "      <td>850</td>\n",
       "      <td>43</td>\n",
       "      <td>2</td>\n",
       "      <td>125510.82</td>\n",
       "      <td>1</td>\n",
       "      <td>1</td>\n",
       "      <td>1</td>\n",
       "      <td>79084.10</td>\n",
       "      <td>0</td>\n",
       "      <td>0</td>\n",
       "      <td>1</td>\n",
       "      <td>0</td>\n",
       "    </tr>\n",
       "  </tbody>\n",
       "</table>\n",
       "</div>"
      ],
      "text/plain": [
       "   credit_score  age  tenure    balance  num_of_products  has_cr_card  \\\n",
       "0  619           42   2       0.00       1                1             \n",
       "1  608           41   1       83807.86   1                0             \n",
       "2  502           42   8       159660.80  3                1             \n",
       "3  699           39   1       0.00       2                0             \n",
       "4  850           43   2       125510.82  1                1             \n",
       "\n",
       "   is_active_member  estimated_salary  exited  geography_germany  \\\n",
       "0  1                 101348.88         1       0                   \n",
       "1  1                 112542.58         0       0                   \n",
       "2  0                 113931.57         1       0                   \n",
       "3  0                 93826.63          0       0                   \n",
       "4  1                 79084.10          0       0                   \n",
       "\n",
       "   geography_spain  gender_male  \n",
       "0  0                0            \n",
       "1  1                0            \n",
       "2  0                0            \n",
       "3  0                0            \n",
       "4  1                0            "
      ]
     },
     "execution_count": 19,
     "metadata": {},
     "output_type": "execute_result"
    }
   ],
   "source": [
    "df_one.head()"
   ]
  },
  {
   "cell_type": "markdown",
   "metadata": {},
   "source": [
    "Приведем признаки к одному масштабу. Для этого будем использовать структуру для стандартизации данных из библиотеке sklearn — StandardScaler. Создадим объект структуры StandardScaler и настроим его на обучающих данных."
   ]
  },
  {
   "cell_type": "code",
   "execution_count": 20,
   "metadata": {},
   "outputs": [
    {
     "data": {
      "text/plain": [
       "StandardScaler()"
      ]
     },
     "execution_count": 20,
     "metadata": {},
     "output_type": "execute_result"
    }
   ],
   "source": [
    "numeric = ['credit_score', 'age', 'tenure', 'balance', 'num_of_products', 'estimated_salary']\n",
    "scaler = StandardScaler()\n",
    "scaler.fit(features_train[numeric])"
   ]
  },
  {
   "cell_type": "markdown",
   "metadata": {},
   "source": [
    "Преобразуем обучающую, валидационную и тестовую выборки с помощью функции transform()."
   ]
  },
  {
   "cell_type": "code",
   "execution_count": 21,
   "metadata": {},
   "outputs": [
    {
     "data": {
      "text/html": [
       "<div>\n",
       "<style scoped>\n",
       "    .dataframe tbody tr th:only-of-type {\n",
       "        vertical-align: middle;\n",
       "    }\n",
       "\n",
       "    .dataframe tbody tr th {\n",
       "        vertical-align: top;\n",
       "    }\n",
       "\n",
       "    .dataframe thead th {\n",
       "        text-align: right;\n",
       "    }\n",
       "</style>\n",
       "<table border=\"1\" class=\"dataframe\">\n",
       "  <thead>\n",
       "    <tr style=\"text-align: right;\">\n",
       "      <th></th>\n",
       "      <th>credit_score</th>\n",
       "      <th>age</th>\n",
       "      <th>tenure</th>\n",
       "      <th>balance</th>\n",
       "      <th>num_of_products</th>\n",
       "      <th>has_cr_card</th>\n",
       "      <th>is_active_member</th>\n",
       "      <th>estimated_salary</th>\n",
       "      <th>geography_germany</th>\n",
       "      <th>geography_spain</th>\n",
       "      <th>gender_male</th>\n",
       "    </tr>\n",
       "  </thead>\n",
       "  <tbody>\n",
       "    <tr>\n",
       "      <th>6255</th>\n",
       "      <td>-1.081763</td>\n",
       "      <td>1.561078</td>\n",
       "      <td>-1.463231</td>\n",
       "      <td>0.567612</td>\n",
       "      <td>2.552230</td>\n",
       "      <td>1</td>\n",
       "      <td>0</td>\n",
       "      <td>-1.444757</td>\n",
       "      <td>1</td>\n",
       "      <td>0</td>\n",
       "      <td>1</td>\n",
       "    </tr>\n",
       "    <tr>\n",
       "      <th>7141</th>\n",
       "      <td>1.083241</td>\n",
       "      <td>-0.091611</td>\n",
       "      <td>-1.140673</td>\n",
       "      <td>0.097622</td>\n",
       "      <td>-0.926107</td>\n",
       "      <td>0</td>\n",
       "      <td>1</td>\n",
       "      <td>-1.559126</td>\n",
       "      <td>1</td>\n",
       "      <td>0</td>\n",
       "      <td>0</td>\n",
       "    </tr>\n",
       "    <tr>\n",
       "      <th>3824</th>\n",
       "      <td>0.167278</td>\n",
       "      <td>0.491691</td>\n",
       "      <td>-1.463231</td>\n",
       "      <td>0.751314</td>\n",
       "      <td>-0.926107</td>\n",
       "      <td>0</td>\n",
       "      <td>0</td>\n",
       "      <td>-1.476028</td>\n",
       "      <td>0</td>\n",
       "      <td>0</td>\n",
       "      <td>1</td>\n",
       "    </tr>\n",
       "    <tr>\n",
       "      <th>1901</th>\n",
       "      <td>1.509997</td>\n",
       "      <td>2.727681</td>\n",
       "      <td>0.149559</td>\n",
       "      <td>-1.219982</td>\n",
       "      <td>0.813061</td>\n",
       "      <td>0</td>\n",
       "      <td>1</td>\n",
       "      <td>-0.786010</td>\n",
       "      <td>0</td>\n",
       "      <td>1</td>\n",
       "      <td>1</td>\n",
       "    </tr>\n",
       "    <tr>\n",
       "      <th>2886</th>\n",
       "      <td>-2.101813</td>\n",
       "      <td>-0.188828</td>\n",
       "      <td>0.472117</td>\n",
       "      <td>-1.219982</td>\n",
       "      <td>0.813061</td>\n",
       "      <td>1</td>\n",
       "      <td>0</td>\n",
       "      <td>-0.312019</td>\n",
       "      <td>0</td>\n",
       "      <td>0</td>\n",
       "      <td>0</td>\n",
       "    </tr>\n",
       "  </tbody>\n",
       "</table>\n",
       "</div>"
      ],
      "text/plain": [
       "      credit_score       age    tenure   balance  num_of_products  \\\n",
       "6255 -1.081763      1.561078 -1.463231  0.567612  2.552230          \n",
       "7141  1.083241     -0.091611 -1.140673  0.097622 -0.926107          \n",
       "3824  0.167278      0.491691 -1.463231  0.751314 -0.926107          \n",
       "1901  1.509997      2.727681  0.149559 -1.219982  0.813061          \n",
       "2886 -2.101813     -0.188828  0.472117 -1.219982  0.813061          \n",
       "\n",
       "      has_cr_card  is_active_member  estimated_salary  geography_germany  \\\n",
       "6255  1            0                -1.444757          1                   \n",
       "7141  0            1                -1.559126          1                   \n",
       "3824  0            0                -1.476028          0                   \n",
       "1901  0            1                -0.786010          0                   \n",
       "2886  1            0                -0.312019          0                   \n",
       "\n",
       "      geography_spain  gender_male  \n",
       "6255  0                1            \n",
       "7141  0                0            \n",
       "3824  0                1            \n",
       "1901  1                1            \n",
       "2886  0                0            "
      ]
     },
     "execution_count": 21,
     "metadata": {},
     "output_type": "execute_result"
    }
   ],
   "source": [
    "features_train[numeric] = scaler.transform(features_train[numeric])\n",
    "features_valid[numeric] = scaler.transform(features_valid[numeric])\n",
    "features_test[numeric] = scaler.transform(features_test[numeric])\n",
    "features_train.head() # Проверка результата"
   ]
  },
  {
   "cell_type": "markdown",
   "metadata": {},
   "source": [
    "### Результат:\n",
    "    • были изучены данные и проведена предобработка данных (заменили тип данных и заполнили пропуски для признака tenure, проверили данные на дубликаты и переименовали признаки)\n",
    "    • категориальные признаки были преобразованы в численные\n",
    "    • исходные данные были разделены на три выборки: обучающую, валидационную и тестовую в соотношении 3:1:1.\n",
    "    • было проведено масштабирование признаков."
   ]
  },
  {
   "cell_type": "markdown",
   "metadata": {},
   "source": [
    "# 2. Исследование задачи"
   ]
  },
  {
   "cell_type": "markdown",
   "metadata": {},
   "source": [
    "В рамках проекта нам необходимо решить задачу бинарной классификации:   \n",
    "спрогнозировать, уйдёт клиент из банка в ближайшее время или нет.  \n",
    "Но перед тем, как приступить к задаче, необходимо:  \n",
    "    - исследовать баланс классов  \n",
    "    - обучить модели без учёта дисбаланса."
   ]
  },
  {
   "cell_type": "code",
   "execution_count": 22,
   "metadata": {
    "scrolled": false
   },
   "outputs": [
    {
     "data": {
      "text/html": [
       "<div>\n",
       "<style scoped>\n",
       "    .dataframe tbody tr th:only-of-type {\n",
       "        vertical-align: middle;\n",
       "    }\n",
       "\n",
       "    .dataframe tbody tr th {\n",
       "        vertical-align: top;\n",
       "    }\n",
       "\n",
       "    .dataframe thead th {\n",
       "        text-align: right;\n",
       "    }\n",
       "</style>\n",
       "<table border=\"1\" class=\"dataframe\">\n",
       "  <thead>\n",
       "    <tr style=\"text-align: right;\">\n",
       "      <th></th>\n",
       "      <th>Boolean</th>\n",
       "      <th>Count</th>\n",
       "      <th>Percentage</th>\n",
       "    </tr>\n",
       "  </thead>\n",
       "  <tbody>\n",
       "    <tr>\n",
       "      <th>0</th>\n",
       "      <td>0</td>\n",
       "      <td>7963</td>\n",
       "      <td>0.7963</td>\n",
       "    </tr>\n",
       "    <tr>\n",
       "      <th>1</th>\n",
       "      <td>1</td>\n",
       "      <td>2037</td>\n",
       "      <td>0.2037</td>\n",
       "    </tr>\n",
       "  </tbody>\n",
       "</table>\n",
       "</div>"
      ],
      "text/plain": [
       "   Boolean  Count  Percentage\n",
       "0  0        7963   0.7963    \n",
       "1  1        2037   0.2037    "
      ]
     },
     "execution_count": 22,
     "metadata": {},
     "output_type": "execute_result"
    }
   ],
   "source": [
    "# Проверка баланса классов\n",
    "values = df_one['exited'].value_counts()\n",
    "values = values.to_frame().reset_index()\n",
    "values.columns = ['Boolean', 'Count']\n",
    "values['Percentage'] = df_one['exited'].value_counts(normalize=True)\n",
    "pd.DataFrame(values)\n",
    "values # Проверка"
   ]
  },
  {
   "cell_type": "markdown",
   "metadata": {},
   "source": [
    "Классы не сбалансированы."
   ]
  },
  {
   "cell_type": "markdown",
   "metadata": {},
   "source": [
    "Обучим разные модели без учёта дисбаланса. С учетом характера задачи, рассмотрим следующие модели классификации:  \n",
    "     \n",
    "     • дерево принятия решений (Decision Tree Classifier)  \n",
    "     • случайный лес (Random Forest Classifier)  \n",
    "     • логистическая регрессия (Logistic Regression).  "
   ]
  },
  {
   "cell_type": "code",
   "execution_count": 23,
   "metadata": {},
   "outputs": [
    {
     "data": {
      "text/html": [
       "<style  type=\"text/css\" >\n",
       "#T_c87af_row2_col1,#T_c87af_row2_col2,#T_c87af_row2_col3{\n",
       "            background-color:  lightgray;\n",
       "        }</style><table id=\"T_c87af_\" ><thead>    <tr>        <th class=\"blank level0\" ></th>        <th class=\"col_heading level0 col0\" >Model</th>        <th class=\"col_heading level0 col1\" >accuracy_imb</th>        <th class=\"col_heading level0 col2\" >f1_imb</th>        <th class=\"col_heading level0 col3\" >ROC AUC_imb</th>    </tr></thead><tbody>\n",
       "                <tr>\n",
       "                        <th id=\"T_c87af_level0_row0\" class=\"row_heading level0 row0\" >0</th>\n",
       "                        <td id=\"T_c87af_row0_col0\" class=\"data row0 col0\" >LogisticRegression</td>\n",
       "                        <td id=\"T_c87af_row0_col1\" class=\"data row0 col1\" >0.804000</td>\n",
       "                        <td id=\"T_c87af_row0_col2\" class=\"data row0 col2\" >0.302491</td>\n",
       "                        <td id=\"T_c87af_row0_col3\" class=\"data row0 col3\" >0.731555</td>\n",
       "            </tr>\n",
       "            <tr>\n",
       "                        <th id=\"T_c87af_level0_row1\" class=\"row_heading level0 row1\" >1</th>\n",
       "                        <td id=\"T_c87af_row1_col0\" class=\"data row1 col0\" >DecisionTreeClassifier</td>\n",
       "                        <td id=\"T_c87af_row1_col1\" class=\"data row1 col1\" >0.789500</td>\n",
       "                        <td id=\"T_c87af_row1_col2\" class=\"data row1 col2\" >0.493381</td>\n",
       "                        <td id=\"T_c87af_row1_col3\" class=\"data row1 col3\" >0.682758</td>\n",
       "            </tr>\n",
       "            <tr>\n",
       "                        <th id=\"T_c87af_level0_row2\" class=\"row_heading level0 row2\" >2</th>\n",
       "                        <td id=\"T_c87af_row2_col0\" class=\"data row2 col0\" >RandomForestClassifier</td>\n",
       "                        <td id=\"T_c87af_row2_col1\" class=\"data row2 col1\" >0.856000</td>\n",
       "                        <td id=\"T_c87af_row2_col2\" class=\"data row2 col2\" >0.556923</td>\n",
       "                        <td id=\"T_c87af_row2_col3\" class=\"data row2 col3\" >0.846490</td>\n",
       "            </tr>\n",
       "    </tbody></table>"
      ],
      "text/plain": [
       "<pandas.io.formats.style.Styler at 0x7f6449abcca0>"
      ]
     },
     "execution_count": 23,
     "metadata": {},
     "output_type": "execute_result"
    }
   ],
   "source": [
    "models = [LogisticRegression(random_state=123), \n",
    "          DecisionTreeClassifier(random_state=123), \n",
    "          RandomForestClassifier(random_state=123)]\n",
    "\n",
    "results_imbalanced = []\n",
    "\n",
    "for model in models:\n",
    "    model.fit(features_train, target_train)\n",
    "    predictions_valid = model.predict(features_valid)\n",
    "    probabilities_valid = model.predict_proba(features_valid)\n",
    "    \n",
    "    accuracy = accuracy_score(target_valid, predictions_valid)\n",
    "    f1 = f1_score(target_valid, predictions_valid)\n",
    "    roc_auc = roc_auc_score(target_valid, probabilities_valid[:,1])\n",
    "    \n",
    "    results_imbalanced.append({'Model': model.__class__.__name__, \n",
    "                               'accuracy_imb': accuracy, \n",
    "                               'f1_imb': f1, \n",
    "                               'ROC AUC_imb': roc_auc})\n",
    "pd.DataFrame(results_imbalanced).style.highlight_max(color = 'lightgray', axis = 0)    "
   ]
  },
  {
   "cell_type": "markdown",
   "metadata": {},
   "source": [
    "Наилучший результат без учета дисбаланса показала модель случайного леса."
   ]
  },
  {
   "cell_type": "markdown",
   "metadata": {},
   "source": [
    "### Результат:\n",
    "    • была проведена проверка баланса классов (было установено, что классы не сбалансированы) \n",
    "    • было проведено обучение следующих моделей без учёта дисбаланса:\n",
    "         - дерево принятия решений\n",
    "         - случайный лес\n",
    "         - логистическая регрессия.\n",
    "    • для каждой из моделей вывели следующие метрики: accuracy_score, f1_score и roc_auc_score. По всем метрикам наилучший результат по показала модель случайного леса."
   ]
  },
  {
   "cell_type": "markdown",
   "metadata": {},
   "source": [
    "# 3. Решение проблем с дисбалансом"
   ]
  },
  {
   "cell_type": "markdown",
   "metadata": {},
   "source": [
    "Существует несколько способов борьбы с дисбалансом, в рамках этого проекта будем применять следующие:\n",
    "     \n",
    "     • взвешивание классов (объектам редкого класса придается больший вес)\n",
    "     • увеличение выборки (upsampling)\n",
    "     • уменьшение выборки (downsampling)."
   ]
  },
  {
   "cell_type": "markdown",
   "metadata": {},
   "source": [
    "## Взвешивание классов "
   ]
  },
  {
   "cell_type": "markdown",
   "metadata": {},
   "source": [
    "Обучим модели, указывая гиперпараметр class_weight = balanced."
   ]
  },
  {
   "cell_type": "code",
   "execution_count": 24,
   "metadata": {},
   "outputs": [],
   "source": [
    "models_balanced = [LogisticRegression(random_state=123, class_weight='balanced'), \n",
    "                   DecisionTreeClassifier(random_state=123, class_weight='balanced'), \n",
    "                   RandomForestClassifier(random_state=123, class_weight='balanced')]\n",
    "\n",
    "results_balanced = []\n",
    "\n",
    "for model in models_balanced:\n",
    "    model.fit(features_train, target_train)\n",
    "    predictions_valid = model.predict(features_valid)\n",
    "    probabilities_valid = model.predict_proba(features_valid)\n",
    "    \n",
    "    accuracy = accuracy_score(target_valid, predictions_valid)\n",
    "    f1 = f1_score(target_valid, predictions_valid)\n",
    "    roc_auc = roc_auc_score(target_valid, probabilities_valid[:,1])\n",
    "    \n",
    "    results_balanced.append({'Model': model.__class__.__name__,\n",
    "                             'accuracy_balanced': accuracy,\n",
    "                             'f1_balanced': f1, \n",
    "                             'ROC AUC score_balanced': roc_auc})"
   ]
  },
  {
   "cell_type": "markdown",
   "metadata": {},
   "source": [
    "Сохраняем результат в датафрейме final_results. С помощью метода merge() объединим полученные результаты с результатами, которые получили, когда обучали модели без учета дисбаланса классов."
   ]
  },
  {
   "cell_type": "code",
   "execution_count": 25,
   "metadata": {},
   "outputs": [
    {
     "data": {
      "text/html": [
       "<style  type=\"text/css\" >\n",
       "#T_f41dd_row2_col1,#T_f41dd_row2_col2,#T_f41dd_row2_col3,#T_f41dd_row2_col4,#T_f41dd_row2_col5,#T_f41dd_row2_col6{\n",
       "            background-color:  lightgray;\n",
       "        }</style><table id=\"T_f41dd_\" ><thead>    <tr>        <th class=\"blank level0\" ></th>        <th class=\"col_heading level0 col0\" >Model</th>        <th class=\"col_heading level0 col1\" >ROC AUC score_balanced</th>        <th class=\"col_heading level0 col2\" >ROC AUC_imb</th>        <th class=\"col_heading level0 col3\" >accuracy_balanced</th>        <th class=\"col_heading level0 col4\" >accuracy_imb</th>        <th class=\"col_heading level0 col5\" >f1_balanced</th>        <th class=\"col_heading level0 col6\" >f1_imb</th>    </tr></thead><tbody>\n",
       "                <tr>\n",
       "                        <th id=\"T_f41dd_level0_row0\" class=\"row_heading level0 row0\" >0</th>\n",
       "                        <td id=\"T_f41dd_row0_col0\" class=\"data row0 col0\" >LogisticRegression</td>\n",
       "                        <td id=\"T_f41dd_row0_col1\" class=\"data row0 col1\" >0.734507</td>\n",
       "                        <td id=\"T_f41dd_row0_col2\" class=\"data row0 col2\" >0.731555</td>\n",
       "                        <td id=\"T_f41dd_row0_col3\" class=\"data row0 col3\" >0.691500</td>\n",
       "                        <td id=\"T_f41dd_row0_col4\" class=\"data row0 col4\" >0.804000</td>\n",
       "                        <td id=\"T_f41dd_row0_col5\" class=\"data row0 col5\" >0.460192</td>\n",
       "                        <td id=\"T_f41dd_row0_col6\" class=\"data row0 col6\" >0.302491</td>\n",
       "            </tr>\n",
       "            <tr>\n",
       "                        <th id=\"T_f41dd_level0_row1\" class=\"row_heading level0 row1\" >1</th>\n",
       "                        <td id=\"T_f41dd_row1_col0\" class=\"data row1 col0\" >DecisionTreeClassifier</td>\n",
       "                        <td id=\"T_f41dd_row1_col1\" class=\"data row1 col1\" >0.679581</td>\n",
       "                        <td id=\"T_f41dd_row1_col2\" class=\"data row1 col2\" >0.682758</td>\n",
       "                        <td id=\"T_f41dd_row1_col3\" class=\"data row1 col3\" >0.797500</td>\n",
       "                        <td id=\"T_f41dd_row1_col4\" class=\"data row1 col4\" >0.789500</td>\n",
       "                        <td id=\"T_f41dd_row1_col5\" class=\"data row1 col5\" >0.491844</td>\n",
       "                        <td id=\"T_f41dd_row1_col6\" class=\"data row1 col6\" >0.493381</td>\n",
       "            </tr>\n",
       "            <tr>\n",
       "                        <th id=\"T_f41dd_level0_row2\" class=\"row_heading level0 row2\" >2</th>\n",
       "                        <td id=\"T_f41dd_row2_col0\" class=\"data row2 col0\" >RandomForestClassifier</td>\n",
       "                        <td id=\"T_f41dd_row2_col1\" class=\"data row2 col1\" >0.840879</td>\n",
       "                        <td id=\"T_f41dd_row2_col2\" class=\"data row2 col2\" >0.846490</td>\n",
       "                        <td id=\"T_f41dd_row2_col3\" class=\"data row2 col3\" >0.855000</td>\n",
       "                        <td id=\"T_f41dd_row2_col4\" class=\"data row2 col4\" >0.856000</td>\n",
       "                        <td id=\"T_f41dd_row2_col5\" class=\"data row2 col5\" >0.544025</td>\n",
       "                        <td id=\"T_f41dd_row2_col6\" class=\"data row2 col6\" >0.556923</td>\n",
       "            </tr>\n",
       "    </tbody></table>"
      ],
      "text/plain": [
       "<pandas.io.formats.style.Styler at 0x7f64a5638e20>"
      ]
     },
     "execution_count": 25,
     "metadata": {},
     "output_type": "execute_result"
    }
   ],
   "source": [
    "final_results = pd.DataFrame(results_imbalanced).merge(pd.DataFrame(results_balanced), on='Model')\n",
    "final_results = final_results.reindex(sorted(final_results.columns), axis=1)\n",
    "final_results.style.highlight_max(color = 'lightgray', axis = 0)"
   ]
  },
  {
   "cell_type": "markdown",
   "metadata": {},
   "source": [
    "Наилучший результат показала модель случайного леса, показатель f1_score стал ниже для всех моделей, кроме модели логистической регрессии."
   ]
  },
  {
   "cell_type": "markdown",
   "metadata": {},
   "source": [
    "## Увеличение выборки (upsampling)"
   ]
  },
  {
   "cell_type": "markdown",
   "metadata": {},
   "source": [
    "\n",
    "Для реализации данного подхода необходимо преобразовать объекты редкого класса так, чтобы они не стали такими редкими. Преобразование проходит в несколько этапов:  \n",
    "      \n",
    "    • разделение обучающей выборки на отрицательные и положительные объекты  \n",
    "    • копирование несколько раз положительных объектов  \n",
    "    • создание новой обучающей выборки с учётом полученных данных  \n",
    "    • перемешивание данных."
   ]
  },
  {
   "cell_type": "code",
   "execution_count": 26,
   "metadata": {},
   "outputs": [],
   "source": [
    "def upsample(features, target, repeat):\n",
    "    features_zeros = features[target == 0]\n",
    "    features_ones = features[target == 1]\n",
    "    target_zeros = target[target == 0]\n",
    "    target_ones = target[target == 1]\n",
    "\n",
    "    features_upsampled = pd.concat([features_zeros] + [features_ones] * repeat)\n",
    "    target_upsampled = pd.concat([target_zeros] + [target_ones] * repeat)\n",
    "    \n",
    "    features_upsampled, target_upsampled = shuffle(features_upsampled, target_upsampled, random_state=123)\n",
    "    \n",
    "    return features_upsampled, target_upsampled\n",
    "\n",
    "features_upsampled, target_upsampled = upsample(features_train, target_train, 4)"
   ]
  },
  {
   "cell_type": "markdown",
   "metadata": {},
   "source": [
    "Выведем на экран размеры переменных features_upsampled и target_upsampled и посмотрим на баланс классов."
   ]
  },
  {
   "cell_type": "code",
   "execution_count": 27,
   "metadata": {},
   "outputs": [
    {
     "name": "stdout",
     "output_type": "stream",
     "text": [
      "(9666, 11)\n",
      "(9666,)\n"
     ]
    }
   ],
   "source": [
    "print(features_upsampled.shape)\n",
    "print(target_upsampled.shape)"
   ]
  },
  {
   "cell_type": "code",
   "execution_count": 28,
   "metadata": {},
   "outputs": [
    {
     "data": {
      "text/html": [
       "<div>\n",
       "<style scoped>\n",
       "    .dataframe tbody tr th:only-of-type {\n",
       "        vertical-align: middle;\n",
       "    }\n",
       "\n",
       "    .dataframe tbody tr th {\n",
       "        vertical-align: top;\n",
       "    }\n",
       "\n",
       "    .dataframe thead th {\n",
       "        text-align: right;\n",
       "    }\n",
       "</style>\n",
       "<table border=\"1\" class=\"dataframe\">\n",
       "  <thead>\n",
       "    <tr style=\"text-align: right;\">\n",
       "      <th></th>\n",
       "      <th>Boolean</th>\n",
       "      <th>Count</th>\n",
       "      <th>Percentage</th>\n",
       "    </tr>\n",
       "  </thead>\n",
       "  <tbody>\n",
       "    <tr>\n",
       "      <th>0</th>\n",
       "      <td>1</td>\n",
       "      <td>4888</td>\n",
       "      <td>0.50569</td>\n",
       "    </tr>\n",
       "    <tr>\n",
       "      <th>1</th>\n",
       "      <td>0</td>\n",
       "      <td>4778</td>\n",
       "      <td>0.49431</td>\n",
       "    </tr>\n",
       "  </tbody>\n",
       "</table>\n",
       "</div>"
      ],
      "text/plain": [
       "   Boolean  Count  Percentage\n",
       "0  1        4888   0.50569   \n",
       "1  0        4778   0.49431   "
      ]
     },
     "execution_count": 28,
     "metadata": {},
     "output_type": "execute_result"
    }
   ],
   "source": [
    "values = target_upsampled.value_counts()\n",
    "values = values.to_frame().reset_index()\n",
    "values.columns = ['Boolean', 'Count']\n",
    "values['Percentage'] = values['Count'] / sum(values['Count'])\n",
    "pd.DataFrame(values)\n",
    "values"
   ]
  },
  {
   "cell_type": "markdown",
   "metadata": {},
   "source": [
    "Выборки стали сбалансированы, качество целевого признака существенно увеличилось. Обучим модели на сбалансированных данных."
   ]
  },
  {
   "cell_type": "code",
   "execution_count": 29,
   "metadata": {},
   "outputs": [],
   "source": [
    "results_upsampling = []\n",
    "\n",
    "for model in models:\n",
    "    model.fit(features_upsampled, target_upsampled)\n",
    "    predictions_valid = model.predict(features_valid)\n",
    "    probabilities_valid = model.predict_proba(features_valid)\n",
    "    \n",
    "    accuracy = accuracy_score(target_valid, predictions_valid)\n",
    "    f1 = f1_score(target_valid, predictions_valid)\n",
    "    roc_auc = roc_auc_score(target_valid, probabilities_valid[:,1])\n",
    "    \n",
    "    results_upsampling.append({'Model': model.__class__.__name__, \n",
    "                               'accuracy_up': accuracy,\n",
    "                               'f1_up': f1, \n",
    "                               'ROC AUC score_up': roc_auc})"
   ]
  },
  {
   "cell_type": "markdown",
   "metadata": {},
   "source": [
    "Сохраним результаты в датафрейме final_results."
   ]
  },
  {
   "cell_type": "code",
   "execution_count": 30,
   "metadata": {},
   "outputs": [
    {
     "data": {
      "text/html": [
       "<style  type=\"text/css\" >\n",
       "#T_bf57d_row2_col1,#T_bf57d_row2_col2,#T_bf57d_row2_col3,#T_bf57d_row2_col4,#T_bf57d_row2_col5,#T_bf57d_row2_col6,#T_bf57d_row2_col7,#T_bf57d_row2_col8,#T_bf57d_row2_col9{\n",
       "            background-color:  lightgray;\n",
       "        }</style><table id=\"T_bf57d_\" ><thead>    <tr>        <th class=\"blank level0\" ></th>        <th class=\"col_heading level0 col0\" >Model</th>        <th class=\"col_heading level0 col1\" >ROC AUC score_balanced</th>        <th class=\"col_heading level0 col2\" >ROC AUC score_up</th>        <th class=\"col_heading level0 col3\" >ROC AUC_imb</th>        <th class=\"col_heading level0 col4\" >accuracy_balanced</th>        <th class=\"col_heading level0 col5\" >accuracy_imb</th>        <th class=\"col_heading level0 col6\" >accuracy_up</th>        <th class=\"col_heading level0 col7\" >f1_balanced</th>        <th class=\"col_heading level0 col8\" >f1_imb</th>        <th class=\"col_heading level0 col9\" >f1_up</th>    </tr></thead><tbody>\n",
       "                <tr>\n",
       "                        <th id=\"T_bf57d_level0_row0\" class=\"row_heading level0 row0\" >0</th>\n",
       "                        <td id=\"T_bf57d_row0_col0\" class=\"data row0 col0\" >LogisticRegression</td>\n",
       "                        <td id=\"T_bf57d_row0_col1\" class=\"data row0 col1\" >0.734507</td>\n",
       "                        <td id=\"T_bf57d_row0_col2\" class=\"data row0 col2\" >0.734518</td>\n",
       "                        <td id=\"T_bf57d_row0_col3\" class=\"data row0 col3\" >0.731555</td>\n",
       "                        <td id=\"T_bf57d_row0_col4\" class=\"data row0 col4\" >0.691500</td>\n",
       "                        <td id=\"T_bf57d_row0_col5\" class=\"data row0 col5\" >0.804000</td>\n",
       "                        <td id=\"T_bf57d_row0_col6\" class=\"data row0 col6\" >0.686500</td>\n",
       "                        <td id=\"T_bf57d_row0_col7\" class=\"data row0 col7\" >0.460192</td>\n",
       "                        <td id=\"T_bf57d_row0_col8\" class=\"data row0 col8\" >0.302491</td>\n",
       "                        <td id=\"T_bf57d_row0_col9\" class=\"data row0 col9\" >0.458081</td>\n",
       "            </tr>\n",
       "            <tr>\n",
       "                        <th id=\"T_bf57d_level0_row1\" class=\"row_heading level0 row1\" >1</th>\n",
       "                        <td id=\"T_bf57d_row1_col0\" class=\"data row1 col0\" >DecisionTreeClassifier</td>\n",
       "                        <td id=\"T_bf57d_row1_col1\" class=\"data row1 col1\" >0.679581</td>\n",
       "                        <td id=\"T_bf57d_row1_col2\" class=\"data row1 col2\" >0.682001</td>\n",
       "                        <td id=\"T_bf57d_row1_col3\" class=\"data row1 col3\" >0.682758</td>\n",
       "                        <td id=\"T_bf57d_row1_col4\" class=\"data row1 col4\" >0.797500</td>\n",
       "                        <td id=\"T_bf57d_row1_col5\" class=\"data row1 col5\" >0.789500</td>\n",
       "                        <td id=\"T_bf57d_row1_col6\" class=\"data row1 col6\" >0.797000</td>\n",
       "                        <td id=\"T_bf57d_row1_col7\" class=\"data row1 col7\" >0.491844</td>\n",
       "                        <td id=\"T_bf57d_row1_col8\" class=\"data row1 col8\" >0.493381</td>\n",
       "                        <td id=\"T_bf57d_row1_col9\" class=\"data row1 col9\" >0.495025</td>\n",
       "            </tr>\n",
       "            <tr>\n",
       "                        <th id=\"T_bf57d_level0_row2\" class=\"row_heading level0 row2\" >2</th>\n",
       "                        <td id=\"T_bf57d_row2_col0\" class=\"data row2 col0\" >RandomForestClassifier</td>\n",
       "                        <td id=\"T_bf57d_row2_col1\" class=\"data row2 col1\" >0.840879</td>\n",
       "                        <td id=\"T_bf57d_row2_col2\" class=\"data row2 col2\" >0.842090</td>\n",
       "                        <td id=\"T_bf57d_row2_col3\" class=\"data row2 col3\" >0.846490</td>\n",
       "                        <td id=\"T_bf57d_row2_col4\" class=\"data row2 col4\" >0.855000</td>\n",
       "                        <td id=\"T_bf57d_row2_col5\" class=\"data row2 col5\" >0.856000</td>\n",
       "                        <td id=\"T_bf57d_row2_col6\" class=\"data row2 col6\" >0.851500</td>\n",
       "                        <td id=\"T_bf57d_row2_col7\" class=\"data row2 col7\" >0.544025</td>\n",
       "                        <td id=\"T_bf57d_row2_col8\" class=\"data row2 col8\" >0.556923</td>\n",
       "                        <td id=\"T_bf57d_row2_col9\" class=\"data row2 col9\" >0.597015</td>\n",
       "            </tr>\n",
       "    </tbody></table>"
      ],
      "text/plain": [
       "<pandas.io.formats.style.Styler at 0x7f64a566eb20>"
      ]
     },
     "execution_count": 30,
     "metadata": {},
     "output_type": "execute_result"
    }
   ],
   "source": [
    "final_results = final_results.merge(pd.DataFrame(results_upsampling), on='Model')\n",
    "final_results = final_results.reindex(sorted(final_results.columns), axis=1)\n",
    "final_results.style.highlight_max(color = 'lightgray', axis = 0)"
   ]
  },
  {
   "cell_type": "markdown",
   "metadata": {},
   "source": [
    "### Результат:\n",
    "    • модель случайного леса стала прогнозировать лучше \n",
    "    • модель логистической регрессии лучше отработала на данных, сбалансированных при помощи гиперпараметра class_weight = balanced. При этом показатель roc_auc_score почти не изменился.\n",
    "    • дерево принятия решений показывает почти одинаковый результат f1_score на данных, сбалансированных при помощи увеличение выборки и на несбалансированных данных."
   ]
  },
  {
   "cell_type": "markdown",
   "metadata": {},
   "source": [
    "## Уменьшение выборки (downsampling)"
   ]
  },
  {
   "cell_type": "markdown",
   "metadata": {},
   "source": [
    "Для реализации данного подхода неоходимо сделать объекты частого класса не такими частыми. Для этого необходимо:  \n",
    "    \n",
    "    • разделить обучающую выборку на отрицательные и положительные объекты  \n",
    "    • случайным образом отбросить часть из отрицательных объектов  \n",
    "    • создать новую обучающую выборку с учётом полученных данных  \n",
    "    • перемешать данные."
   ]
  },
  {
   "cell_type": "code",
   "execution_count": 31,
   "metadata": {},
   "outputs": [],
   "source": [
    "def downsample(features, target, fraction):\n",
    "    features_zeros = features[target == 0]\n",
    "    features_ones = features[target == 1]\n",
    "    target_zeros = target[target == 0]\n",
    "    target_ones = target[target == 1]\n",
    "\n",
    "    features_downsampled = pd.concat([features_zeros.sample(frac=fraction, random_state=123)] + [features_ones])\n",
    "    target_downsampled = pd.concat([target_zeros.sample(frac=fraction, random_state=123)] + [target_ones])\n",
    "    \n",
    "    features_downsampled, target_downsampled = shuffle(features_downsampled, target_downsampled, random_state=123)\n",
    "    return features_downsampled, target_downsampled\n",
    "\n",
    "features_downsampled, target_downsampled = downsample(features_train, target_train, 0.25)"
   ]
  },
  {
   "cell_type": "markdown",
   "metadata": {},
   "source": [
    "Выведем на экран размеры переменных features_downsampled и target_downsampled и посмотрим на баланс классов."
   ]
  },
  {
   "cell_type": "code",
   "execution_count": 32,
   "metadata": {},
   "outputs": [
    {
     "name": "stdout",
     "output_type": "stream",
     "text": [
      "(2416, 11)\n",
      "(2416,)\n"
     ]
    }
   ],
   "source": [
    "print(features_downsampled.shape)\n",
    "print(target_downsampled.shape)"
   ]
  },
  {
   "cell_type": "code",
   "execution_count": 33,
   "metadata": {},
   "outputs": [
    {
     "data": {
      "text/html": [
       "<div>\n",
       "<style scoped>\n",
       "    .dataframe tbody tr th:only-of-type {\n",
       "        vertical-align: middle;\n",
       "    }\n",
       "\n",
       "    .dataframe tbody tr th {\n",
       "        vertical-align: top;\n",
       "    }\n",
       "\n",
       "    .dataframe thead th {\n",
       "        text-align: right;\n",
       "    }\n",
       "</style>\n",
       "<table border=\"1\" class=\"dataframe\">\n",
       "  <thead>\n",
       "    <tr style=\"text-align: right;\">\n",
       "      <th></th>\n",
       "      <th>Boolean</th>\n",
       "      <th>Count</th>\n",
       "      <th>Percentage</th>\n",
       "    </tr>\n",
       "  </thead>\n",
       "  <tbody>\n",
       "    <tr>\n",
       "      <th>0</th>\n",
       "      <td>1</td>\n",
       "      <td>1222</td>\n",
       "      <td>0.505795</td>\n",
       "    </tr>\n",
       "    <tr>\n",
       "      <th>1</th>\n",
       "      <td>0</td>\n",
       "      <td>1194</td>\n",
       "      <td>0.494205</td>\n",
       "    </tr>\n",
       "  </tbody>\n",
       "</table>\n",
       "</div>"
      ],
      "text/plain": [
       "   Boolean  Count  Percentage\n",
       "0  1        1222   0.505795  \n",
       "1  0        1194   0.494205  "
      ]
     },
     "execution_count": 33,
     "metadata": {},
     "output_type": "execute_result"
    }
   ],
   "source": [
    "values = target_downsampled.value_counts()\n",
    "values = values.to_frame().reset_index()\n",
    "values.columns = ['Boolean', 'Count']\n",
    "values['Percentage'] = values['Count'] / sum(values['Count'])\n",
    "pd.DataFrame(values)\n",
    "values"
   ]
  },
  {
   "cell_type": "markdown",
   "metadata": {},
   "source": [
    "Выборки стали сбалансированы, качество целевого признака существенно увеличилось. Обучим модели на сбалансированных данных."
   ]
  },
  {
   "cell_type": "code",
   "execution_count": 34,
   "metadata": {},
   "outputs": [],
   "source": [
    "results_downsampling = []\n",
    "\n",
    "for model in models:\n",
    "    model.fit(features_downsampled, target_downsampled)\n",
    "    predictions_valid = model.predict(features_valid)\n",
    "    probabilities_valid = model.predict_proba(features_valid)\n",
    "    \n",
    "    accuracy = accuracy_score(target_valid, predictions_valid)\n",
    "    f1 = f1_score(target_valid, predictions_valid)\n",
    "    roc_auc = roc_auc_score(target_valid, probabilities_valid[:,1])\n",
    "    \n",
    "    results_downsampling.append({'Model': model.__class__.__name__, \n",
    "                                 'accuracy_down': accuracy, \n",
    "                                 'f1_down': f1, \n",
    "                                 'ROC AUC score_down': roc_auc})"
   ]
  },
  {
   "cell_type": "markdown",
   "metadata": {},
   "source": [
    "Добавим результат в датафрейме final_results и посмотрим, какая из моделей показывает наилучший результат по таким метрикам как f1_score и roc_auc"
   ]
  },
  {
   "cell_type": "code",
   "execution_count": 35,
   "metadata": {
    "scrolled": false
   },
   "outputs": [
    {
     "data": {
      "text/html": [
       "<style  type=\"text/css\" >\n",
       "#T_ddc1b_row2_col1,#T_ddc1b_row2_col2,#T_ddc1b_row2_col3,#T_ddc1b_row2_col4,#T_ddc1b_row2_col5,#T_ddc1b_row2_col6,#T_ddc1b_row2_col7,#T_ddc1b_row2_col8,#T_ddc1b_row2_col9,#T_ddc1b_row2_col10,#T_ddc1b_row2_col11,#T_ddc1b_row2_col12{\n",
       "            background-color:  lightgray;\n",
       "        }</style><table id=\"T_ddc1b_\" ><thead>    <tr>        <th class=\"blank level0\" ></th>        <th class=\"col_heading level0 col0\" >Model</th>        <th class=\"col_heading level0 col1\" >ROC AUC score_balanced</th>        <th class=\"col_heading level0 col2\" >ROC AUC score_down</th>        <th class=\"col_heading level0 col3\" >ROC AUC score_up</th>        <th class=\"col_heading level0 col4\" >ROC AUC_imb</th>        <th class=\"col_heading level0 col5\" >accuracy_balanced</th>        <th class=\"col_heading level0 col6\" >accuracy_down</th>        <th class=\"col_heading level0 col7\" >accuracy_imb</th>        <th class=\"col_heading level0 col8\" >accuracy_up</th>        <th class=\"col_heading level0 col9\" >f1_balanced</th>        <th class=\"col_heading level0 col10\" >f1_down</th>        <th class=\"col_heading level0 col11\" >f1_imb</th>        <th class=\"col_heading level0 col12\" >f1_up</th>    </tr></thead><tbody>\n",
       "                <tr>\n",
       "                        <th id=\"T_ddc1b_level0_row0\" class=\"row_heading level0 row0\" >0</th>\n",
       "                        <td id=\"T_ddc1b_row0_col0\" class=\"data row0 col0\" >LogisticRegression</td>\n",
       "                        <td id=\"T_ddc1b_row0_col1\" class=\"data row0 col1\" >0.734507</td>\n",
       "                        <td id=\"T_ddc1b_row0_col2\" class=\"data row0 col2\" >0.733288</td>\n",
       "                        <td id=\"T_ddc1b_row0_col3\" class=\"data row0 col3\" >0.734518</td>\n",
       "                        <td id=\"T_ddc1b_row0_col4\" class=\"data row0 col4\" >0.731555</td>\n",
       "                        <td id=\"T_ddc1b_row0_col5\" class=\"data row0 col5\" >0.691500</td>\n",
       "                        <td id=\"T_ddc1b_row0_col6\" class=\"data row0 col6\" >0.682000</td>\n",
       "                        <td id=\"T_ddc1b_row0_col7\" class=\"data row0 col7\" >0.804000</td>\n",
       "                        <td id=\"T_ddc1b_row0_col8\" class=\"data row0 col8\" >0.686500</td>\n",
       "                        <td id=\"T_ddc1b_row0_col9\" class=\"data row0 col9\" >0.460192</td>\n",
       "                        <td id=\"T_ddc1b_row0_col10\" class=\"data row0 col10\" >0.456410</td>\n",
       "                        <td id=\"T_ddc1b_row0_col11\" class=\"data row0 col11\" >0.302491</td>\n",
       "                        <td id=\"T_ddc1b_row0_col12\" class=\"data row0 col12\" >0.458081</td>\n",
       "            </tr>\n",
       "            <tr>\n",
       "                        <th id=\"T_ddc1b_level0_row1\" class=\"row_heading level0 row1\" >1</th>\n",
       "                        <td id=\"T_ddc1b_row1_col0\" class=\"data row1 col0\" >DecisionTreeClassifier</td>\n",
       "                        <td id=\"T_ddc1b_row1_col1\" class=\"data row1 col1\" >0.679581</td>\n",
       "                        <td id=\"T_ddc1b_row1_col2\" class=\"data row1 col2\" >0.692069</td>\n",
       "                        <td id=\"T_ddc1b_row1_col3\" class=\"data row1 col3\" >0.682001</td>\n",
       "                        <td id=\"T_ddc1b_row1_col4\" class=\"data row1 col4\" >0.682758</td>\n",
       "                        <td id=\"T_ddc1b_row1_col5\" class=\"data row1 col5\" >0.797500</td>\n",
       "                        <td id=\"T_ddc1b_row1_col6\" class=\"data row1 col6\" >0.695500</td>\n",
       "                        <td id=\"T_ddc1b_row1_col7\" class=\"data row1 col7\" >0.789500</td>\n",
       "                        <td id=\"T_ddc1b_row1_col8\" class=\"data row1 col8\" >0.797000</td>\n",
       "                        <td id=\"T_ddc1b_row1_col9\" class=\"data row1 col9\" >0.491844</td>\n",
       "                        <td id=\"T_ddc1b_row1_col10\" class=\"data row1 col10\" >0.479042</td>\n",
       "                        <td id=\"T_ddc1b_row1_col11\" class=\"data row1 col11\" >0.493381</td>\n",
       "                        <td id=\"T_ddc1b_row1_col12\" class=\"data row1 col12\" >0.495025</td>\n",
       "            </tr>\n",
       "            <tr>\n",
       "                        <th id=\"T_ddc1b_level0_row2\" class=\"row_heading level0 row2\" >2</th>\n",
       "                        <td id=\"T_ddc1b_row2_col0\" class=\"data row2 col0\" >RandomForestClassifier</td>\n",
       "                        <td id=\"T_ddc1b_row2_col1\" class=\"data row2 col1\" >0.840879</td>\n",
       "                        <td id=\"T_ddc1b_row2_col2\" class=\"data row2 col2\" >0.840597</td>\n",
       "                        <td id=\"T_ddc1b_row2_col3\" class=\"data row2 col3\" >0.842090</td>\n",
       "                        <td id=\"T_ddc1b_row2_col4\" class=\"data row2 col4\" >0.846490</td>\n",
       "                        <td id=\"T_ddc1b_row2_col5\" class=\"data row2 col5\" >0.855000</td>\n",
       "                        <td id=\"T_ddc1b_row2_col6\" class=\"data row2 col6\" >0.758000</td>\n",
       "                        <td id=\"T_ddc1b_row2_col7\" class=\"data row2 col7\" >0.856000</td>\n",
       "                        <td id=\"T_ddc1b_row2_col8\" class=\"data row2 col8\" >0.851500</td>\n",
       "                        <td id=\"T_ddc1b_row2_col9\" class=\"data row2 col9\" >0.544025</td>\n",
       "                        <td id=\"T_ddc1b_row2_col10\" class=\"data row2 col10\" >0.555147</td>\n",
       "                        <td id=\"T_ddc1b_row2_col11\" class=\"data row2 col11\" >0.556923</td>\n",
       "                        <td id=\"T_ddc1b_row2_col12\" class=\"data row2 col12\" >0.597015</td>\n",
       "            </tr>\n",
       "    </tbody></table>"
      ],
      "text/plain": [
       "<pandas.io.formats.style.Styler at 0x7f6449abee20>"
      ]
     },
     "execution_count": 35,
     "metadata": {},
     "output_type": "execute_result"
    }
   ],
   "source": [
    "final_results = final_results.merge(pd.DataFrame(results_downsampling), on='Model')\n",
    "final_results = final_results.reindex(sorted(final_results.columns), axis=1)\n",
    "final_results.style.highlight_max(color = 'lightgray', axis = 0)"
   ]
  },
  {
   "cell_type": "markdown",
   "metadata": {},
   "source": [
    "Наилучший результат показывает модель случайного леса, но интересно посмотреть, на какой выборке каждая из моделей показала лучший результат метрики f1_score."
   ]
  },
  {
   "cell_type": "code",
   "execution_count": 36,
   "metadata": {},
   "outputs": [
    {
     "data": {
      "text/html": [
       "<style  type=\"text/css\" >\n",
       "#T_c4f70_row0_col9,#T_c4f70_row1_col12,#T_c4f70_row2_col12{\n",
       "            background-color:  lightgray;\n",
       "        }</style><table id=\"T_c4f70_\" ><thead>    <tr>        <th class=\"blank level0\" ></th>        <th class=\"col_heading level0 col0\" >Model</th>        <th class=\"col_heading level0 col1\" >ROC AUC score_balanced</th>        <th class=\"col_heading level0 col2\" >ROC AUC score_down</th>        <th class=\"col_heading level0 col3\" >ROC AUC score_up</th>        <th class=\"col_heading level0 col4\" >ROC AUC_imb</th>        <th class=\"col_heading level0 col5\" >accuracy_balanced</th>        <th class=\"col_heading level0 col6\" >accuracy_down</th>        <th class=\"col_heading level0 col7\" >accuracy_imb</th>        <th class=\"col_heading level0 col8\" >accuracy_up</th>        <th class=\"col_heading level0 col9\" >f1_balanced</th>        <th class=\"col_heading level0 col10\" >f1_down</th>        <th class=\"col_heading level0 col11\" >f1_imb</th>        <th class=\"col_heading level0 col12\" >f1_up</th>    </tr></thead><tbody>\n",
       "                <tr>\n",
       "                        <th id=\"T_c4f70_level0_row0\" class=\"row_heading level0 row0\" >0</th>\n",
       "                        <td id=\"T_c4f70_row0_col0\" class=\"data row0 col0\" >LogisticRegression</td>\n",
       "                        <td id=\"T_c4f70_row0_col1\" class=\"data row0 col1\" >0.734507</td>\n",
       "                        <td id=\"T_c4f70_row0_col2\" class=\"data row0 col2\" >0.733288</td>\n",
       "                        <td id=\"T_c4f70_row0_col3\" class=\"data row0 col3\" >0.734518</td>\n",
       "                        <td id=\"T_c4f70_row0_col4\" class=\"data row0 col4\" >0.731555</td>\n",
       "                        <td id=\"T_c4f70_row0_col5\" class=\"data row0 col5\" >0.691500</td>\n",
       "                        <td id=\"T_c4f70_row0_col6\" class=\"data row0 col6\" >0.682000</td>\n",
       "                        <td id=\"T_c4f70_row0_col7\" class=\"data row0 col7\" >0.804000</td>\n",
       "                        <td id=\"T_c4f70_row0_col8\" class=\"data row0 col8\" >0.686500</td>\n",
       "                        <td id=\"T_c4f70_row0_col9\" class=\"data row0 col9\" >0.460192</td>\n",
       "                        <td id=\"T_c4f70_row0_col10\" class=\"data row0 col10\" >0.456410</td>\n",
       "                        <td id=\"T_c4f70_row0_col11\" class=\"data row0 col11\" >0.302491</td>\n",
       "                        <td id=\"T_c4f70_row0_col12\" class=\"data row0 col12\" >0.458081</td>\n",
       "            </tr>\n",
       "            <tr>\n",
       "                        <th id=\"T_c4f70_level0_row1\" class=\"row_heading level0 row1\" >1</th>\n",
       "                        <td id=\"T_c4f70_row1_col0\" class=\"data row1 col0\" >DecisionTreeClassifier</td>\n",
       "                        <td id=\"T_c4f70_row1_col1\" class=\"data row1 col1\" >0.679581</td>\n",
       "                        <td id=\"T_c4f70_row1_col2\" class=\"data row1 col2\" >0.692069</td>\n",
       "                        <td id=\"T_c4f70_row1_col3\" class=\"data row1 col3\" >0.682001</td>\n",
       "                        <td id=\"T_c4f70_row1_col4\" class=\"data row1 col4\" >0.682758</td>\n",
       "                        <td id=\"T_c4f70_row1_col5\" class=\"data row1 col5\" >0.797500</td>\n",
       "                        <td id=\"T_c4f70_row1_col6\" class=\"data row1 col6\" >0.695500</td>\n",
       "                        <td id=\"T_c4f70_row1_col7\" class=\"data row1 col7\" >0.789500</td>\n",
       "                        <td id=\"T_c4f70_row1_col8\" class=\"data row1 col8\" >0.797000</td>\n",
       "                        <td id=\"T_c4f70_row1_col9\" class=\"data row1 col9\" >0.491844</td>\n",
       "                        <td id=\"T_c4f70_row1_col10\" class=\"data row1 col10\" >0.479042</td>\n",
       "                        <td id=\"T_c4f70_row1_col11\" class=\"data row1 col11\" >0.493381</td>\n",
       "                        <td id=\"T_c4f70_row1_col12\" class=\"data row1 col12\" >0.495025</td>\n",
       "            </tr>\n",
       "            <tr>\n",
       "                        <th id=\"T_c4f70_level0_row2\" class=\"row_heading level0 row2\" >2</th>\n",
       "                        <td id=\"T_c4f70_row2_col0\" class=\"data row2 col0\" >RandomForestClassifier</td>\n",
       "                        <td id=\"T_c4f70_row2_col1\" class=\"data row2 col1\" >0.840879</td>\n",
       "                        <td id=\"T_c4f70_row2_col2\" class=\"data row2 col2\" >0.840597</td>\n",
       "                        <td id=\"T_c4f70_row2_col3\" class=\"data row2 col3\" >0.842090</td>\n",
       "                        <td id=\"T_c4f70_row2_col4\" class=\"data row2 col4\" >0.846490</td>\n",
       "                        <td id=\"T_c4f70_row2_col5\" class=\"data row2 col5\" >0.855000</td>\n",
       "                        <td id=\"T_c4f70_row2_col6\" class=\"data row2 col6\" >0.758000</td>\n",
       "                        <td id=\"T_c4f70_row2_col7\" class=\"data row2 col7\" >0.856000</td>\n",
       "                        <td id=\"T_c4f70_row2_col8\" class=\"data row2 col8\" >0.851500</td>\n",
       "                        <td id=\"T_c4f70_row2_col9\" class=\"data row2 col9\" >0.544025</td>\n",
       "                        <td id=\"T_c4f70_row2_col10\" class=\"data row2 col10\" >0.555147</td>\n",
       "                        <td id=\"T_c4f70_row2_col11\" class=\"data row2 col11\" >0.556923</td>\n",
       "                        <td id=\"T_c4f70_row2_col12\" class=\"data row2 col12\" >0.597015</td>\n",
       "            </tr>\n",
       "    </tbody></table>"
      ],
      "text/plain": [
       "<pandas.io.formats.style.Styler at 0x7f6449abe340>"
      ]
     },
     "execution_count": 36,
     "metadata": {},
     "output_type": "execute_result"
    }
   ],
   "source": [
    "final_results.style.highlight_max(subset = final_results.columns[-4:], color = 'lightgray', axis = 1)"
   ]
  },
  {
   "cell_type": "markdown",
   "metadata": {},
   "source": [
    "### Результат:\n",
    "    • модель логистической регрессии лучше работает на данных, сбалансированных при помощи гиперпараметра class_weight = balanced (f1_score = 0.460192). Остальные модели лучше работают на данных, преобразованных при помощи увеличение выборки (f1_score_up = 0.495025, 0,597015)."
   ]
  },
  {
   "cell_type": "markdown",
   "metadata": {},
   "source": [
    "## Настройка гиперпараметров "
   ]
  },
  {
   "cell_type": "markdown",
   "metadata": {},
   "source": [
    "### Логистическая регрессия (Logistic Regression)"
   ]
  },
  {
   "cell_type": "markdown",
   "metadata": {},
   "source": [
    "Настроим гиперпараметры и обучим модель логистической регрессии на данных, сбалансированных при помощи гиперпараметра class_weight = balanced"
   ]
  },
  {
   "cell_type": "code",
   "execution_count": 37,
   "metadata": {
    "scrolled": false
   },
   "outputs": [
    {
     "data": {
      "text/html": [
       "<div>\n",
       "<style scoped>\n",
       "    .dataframe tbody tr th:only-of-type {\n",
       "        vertical-align: middle;\n",
       "    }\n",
       "\n",
       "    .dataframe tbody tr th {\n",
       "        vertical-align: top;\n",
       "    }\n",
       "\n",
       "    .dataframe thead th {\n",
       "        text-align: right;\n",
       "    }\n",
       "</style>\n",
       "<table border=\"1\" class=\"dataframe\">\n",
       "  <thead>\n",
       "    <tr style=\"text-align: right;\">\n",
       "      <th></th>\n",
       "      <th>Model</th>\n",
       "      <th>Hyperparameters</th>\n",
       "      <th>Accuracy</th>\n",
       "      <th>F1 score</th>\n",
       "      <th>ROC AUC score</th>\n",
       "    </tr>\n",
       "  </thead>\n",
       "  <tbody>\n",
       "    <tr>\n",
       "      <th>0</th>\n",
       "      <td>LogisticRegression_l1</td>\n",
       "      <td>{'random_state': 123, 'class_weight': 'balanced', 'solver': 'liblinear', 'penalty': 'l1'}</td>\n",
       "      <td>0.758</td>\n",
       "      <td>0.555147</td>\n",
       "      <td>0.734554</td>\n",
       "    </tr>\n",
       "    <tr>\n",
       "      <th>1</th>\n",
       "      <td>LogisticRegression_l2</td>\n",
       "      <td>{'random_state': 123, 'class_weight': 'balanced', 'solver': 'lbfgs', 'penalty': 'l2'}</td>\n",
       "      <td>0.758</td>\n",
       "      <td>0.555147</td>\n",
       "      <td>0.734507</td>\n",
       "    </tr>\n",
       "  </tbody>\n",
       "</table>\n",
       "</div>"
      ],
      "text/plain": [
       "                   Model  \\\n",
       "0  LogisticRegression_l1   \n",
       "1  LogisticRegression_l2   \n",
       "\n",
       "                                                                             Hyperparameters  \\\n",
       "0  {'random_state': 123, 'class_weight': 'balanced', 'solver': 'liblinear', 'penalty': 'l1'}   \n",
       "1  {'random_state': 123, 'class_weight': 'balanced', 'solver': 'lbfgs', 'penalty': 'l2'}       \n",
       "\n",
       "   Accuracy  F1 score  ROC AUC score  \n",
       "0  0.758     0.555147  0.734554       \n",
       "1  0.758     0.555147  0.734507       "
      ]
     },
     "execution_count": 37,
     "metadata": {},
     "output_type": "execute_result"
    }
   ],
   "source": [
    "results_lr = []\n",
    "\n",
    "penalty_l1 = LogisticRegression(random_state=123, class_weight='balanced', solver='liblinear', penalty='l1') \n",
    "penalty_l2 = LogisticRegression(random_state=123, class_weight='balanced', solver='lbfgs', penalty='l2') \n",
    "\n",
    "models_lr = [penalty_l1, penalty_l2]\n",
    "\n",
    "for model in models_lr:\n",
    "    model.fit(features_train, target_train)\n",
    "    predictions = model.predict(features_valid)\n",
    "    probabilities_valid = model.predict_proba(features_valid)\n",
    "\n",
    "    accuracy = accuracy_score(target_valid, predictions_valid)\n",
    "    f1 = f1_score(target_valid, predictions_valid)\n",
    "    roc_auc = roc_auc_score(target_valid, probabilities_valid[:,1])\n",
    "    \n",
    "    results_lr.append({'Model': model.__class__.__name__ + '_' + model.penalty , \n",
    "                       'Hyperparameters': {'random_state': 123, \n",
    "                                          'class_weight': model.class_weight, \n",
    "                                          'solver': model.solver, \n",
    "                                          'penalty': model.penalty},\n",
    "                       'Accuracy': accuracy, \n",
    "                       'F1 score': f1, \n",
    "                       'ROC AUC score': roc_auc})\n",
    "    \n",
    "pd.DataFrame(results_lr)"
   ]
  },
  {
   "cell_type": "markdown",
   "metadata": {},
   "source": [
    "Результат практически идентичен, но модель логистической регрессии с гиперпараметром penalty = l1 дает незначительно лучше результат по метрике roc_auc_score. Результат метрики f1_score в обоих случаях одинаковый."
   ]
  },
  {
   "cell_type": "markdown",
   "metadata": {},
   "source": [
    "Сохраним результат модель логистической регрессии с гиперпараметром penalty = l1 в переменной best_results."
   ]
  },
  {
   "cell_type": "code",
   "execution_count": 38,
   "metadata": {},
   "outputs": [],
   "source": [
    "best_results = []\n",
    "best_results.append(pd.DataFrame(results_lr).loc[0])"
   ]
  },
  {
   "cell_type": "markdown",
   "metadata": {},
   "source": [
    "### Дерево принятия решений (Decision Tree Classifier)"
   ]
  },
  {
   "cell_type": "markdown",
   "metadata": {},
   "source": [
    "Ранее данная модель лучше работала на данных, преобразованных при помощи увеличение выборки. Настроим гиперпараметр max_depth (глубина дерева) и попробуем улучшить работу модели."
   ]
  },
  {
   "cell_type": "code",
   "execution_count": 39,
   "metadata": {},
   "outputs": [
    {
     "data": {
      "text/html": [
       "<div>\n",
       "<style scoped>\n",
       "    .dataframe tbody tr th:only-of-type {\n",
       "        vertical-align: middle;\n",
       "    }\n",
       "\n",
       "    .dataframe tbody tr th {\n",
       "        vertical-align: top;\n",
       "    }\n",
       "\n",
       "    .dataframe thead th {\n",
       "        text-align: right;\n",
       "    }\n",
       "</style>\n",
       "<table border=\"1\" class=\"dataframe\">\n",
       "  <thead>\n",
       "    <tr style=\"text-align: right;\">\n",
       "      <th></th>\n",
       "      <th>Model</th>\n",
       "      <th>Hyperparameters</th>\n",
       "      <th>Accuracy</th>\n",
       "      <th>F1 score</th>\n",
       "      <th>ROC AUC score</th>\n",
       "    </tr>\n",
       "  </thead>\n",
       "  <tbody>\n",
       "    <tr>\n",
       "      <th>0</th>\n",
       "      <td>DecisionTreeClassifier</td>\n",
       "      <td>{'random_state': 123, 'max_depth': 1}</td>\n",
       "      <td>0.7100</td>\n",
       "      <td>0.462963</td>\n",
       "      <td>0.673835</td>\n",
       "    </tr>\n",
       "    <tr>\n",
       "      <th>1</th>\n",
       "      <td>DecisionTreeClassifier</td>\n",
       "      <td>{'random_state': 123, 'max_depth': 2}</td>\n",
       "      <td>0.7200</td>\n",
       "      <td>0.496403</td>\n",
       "      <td>0.735933</td>\n",
       "    </tr>\n",
       "    <tr>\n",
       "      <th>2</th>\n",
       "      <td>DecisionTreeClassifier</td>\n",
       "      <td>{'random_state': 123, 'max_depth': 3}</td>\n",
       "      <td>0.7200</td>\n",
       "      <td>0.496403</td>\n",
       "      <td>0.785846</td>\n",
       "    </tr>\n",
       "    <tr>\n",
       "      <th>3</th>\n",
       "      <td>DecisionTreeClassifier</td>\n",
       "      <td>{'random_state': 123, 'max_depth': 4}</td>\n",
       "      <td>0.7485</td>\n",
       "      <td>0.544796</td>\n",
       "      <td>0.811886</td>\n",
       "    </tr>\n",
       "    <tr>\n",
       "      <th>4</th>\n",
       "      <td>DecisionTreeClassifier</td>\n",
       "      <td>{'random_state': 123, 'max_depth': 5}</td>\n",
       "      <td>0.7365</td>\n",
       "      <td>0.550725</td>\n",
       "      <td>0.833776</td>\n",
       "    </tr>\n",
       "    <tr>\n",
       "      <th>5</th>\n",
       "      <td>DecisionTreeClassifier</td>\n",
       "      <td>{'random_state': 123, 'max_depth': 6}</td>\n",
       "      <td>0.7605</td>\n",
       "      <td>0.559338</td>\n",
       "      <td>0.826147</td>\n",
       "    </tr>\n",
       "    <tr>\n",
       "      <th>6</th>\n",
       "      <td>DecisionTreeClassifier</td>\n",
       "      <td>{'random_state': 123, 'max_depth': 7}</td>\n",
       "      <td>0.7625</td>\n",
       "      <td>0.548908</td>\n",
       "      <td>0.813561</td>\n",
       "    </tr>\n",
       "    <tr>\n",
       "      <th>7</th>\n",
       "      <td>DecisionTreeClassifier</td>\n",
       "      <td>{'random_state': 123, 'max_depth': 8}</td>\n",
       "      <td>0.7615</td>\n",
       "      <td>0.540905</td>\n",
       "      <td>0.780740</td>\n",
       "    </tr>\n",
       "    <tr>\n",
       "      <th>8</th>\n",
       "      <td>DecisionTreeClassifier</td>\n",
       "      <td>{'random_state': 123, 'max_depth': 9}</td>\n",
       "      <td>0.7580</td>\n",
       "      <td>0.528265</td>\n",
       "      <td>0.762914</td>\n",
       "    </tr>\n",
       "    <tr>\n",
       "      <th>9</th>\n",
       "      <td>DecisionTreeClassifier</td>\n",
       "      <td>{'random_state': 123, 'max_depth': 10}</td>\n",
       "      <td>0.7520</td>\n",
       "      <td>0.510848</td>\n",
       "      <td>0.735242</td>\n",
       "    </tr>\n",
       "  </tbody>\n",
       "</table>\n",
       "</div>"
      ],
      "text/plain": [
       "                    Model                         Hyperparameters  Accuracy  \\\n",
       "0  DecisionTreeClassifier  {'random_state': 123, 'max_depth': 1}   0.7100     \n",
       "1  DecisionTreeClassifier  {'random_state': 123, 'max_depth': 2}   0.7200     \n",
       "2  DecisionTreeClassifier  {'random_state': 123, 'max_depth': 3}   0.7200     \n",
       "3  DecisionTreeClassifier  {'random_state': 123, 'max_depth': 4}   0.7485     \n",
       "4  DecisionTreeClassifier  {'random_state': 123, 'max_depth': 5}   0.7365     \n",
       "5  DecisionTreeClassifier  {'random_state': 123, 'max_depth': 6}   0.7605     \n",
       "6  DecisionTreeClassifier  {'random_state': 123, 'max_depth': 7}   0.7625     \n",
       "7  DecisionTreeClassifier  {'random_state': 123, 'max_depth': 8}   0.7615     \n",
       "8  DecisionTreeClassifier  {'random_state': 123, 'max_depth': 9}   0.7580     \n",
       "9  DecisionTreeClassifier  {'random_state': 123, 'max_depth': 10}  0.7520     \n",
       "\n",
       "   F1 score  ROC AUC score  \n",
       "0  0.462963  0.673835       \n",
       "1  0.496403  0.735933       \n",
       "2  0.496403  0.785846       \n",
       "3  0.544796  0.811886       \n",
       "4  0.550725  0.833776       \n",
       "5  0.559338  0.826147       \n",
       "6  0.548908  0.813561       \n",
       "7  0.540905  0.780740       \n",
       "8  0.528265  0.762914       \n",
       "9  0.510848  0.735242       "
      ]
     },
     "execution_count": 39,
     "metadata": {},
     "output_type": "execute_result"
    }
   ],
   "source": [
    "results_dtc = []\n",
    "#pd.set_option('display.max_colwidth', -1)\n",
    "for depth in range(1,11):\n",
    "    model = DecisionTreeClassifier(random_state=123, max_depth=depth)\n",
    "    \n",
    "    model.fit(features_upsampled, target_upsampled)\n",
    "    predictions_valid = model.predict(features_valid)\n",
    "    probabilities_valid = model.predict_proba(features_valid)\n",
    " \n",
    "    accuracy = accuracy_score(target_valid, predictions_valid)        \n",
    "    f1 = f1_score(target_valid, predictions_valid)\n",
    "    roc_auc = roc_auc_score(target_valid, probabilities_valid[:,1])        \n",
    "\n",
    "    results_dtc.append({'Model': 'DecisionTreeClassifier', \n",
    "                        'Hyperparameters': {'random_state': 123, 'max_depth':depth},\n",
    "                        'Accuracy': accuracy, \n",
    "                        'F1 score': f1, \n",
    "                        'ROC AUC score': roc_auc})\n",
    "pd.DataFrame(results_dtc)"
   ]
  },
  {
   "cell_type": "markdown",
   "metadata": {},
   "source": [
    "Наилучший результат метрики f1_score (0.559338) модель показывает при глубине дерева 6. Добавим эту модель в переменную best_results."
   ]
  },
  {
   "cell_type": "code",
   "execution_count": 40,
   "metadata": {},
   "outputs": [],
   "source": [
    "best_results.append(pd.DataFrame(results_dtc).loc[5])"
   ]
  },
  {
   "cell_type": "markdown",
   "metadata": {},
   "source": [
    "### Случайный лес (Random Forest Classifier)"
   ]
  },
  {
   "cell_type": "markdown",
   "metadata": {},
   "source": [
    "В цикле настроим гиперпараметры max-depth (глубина деревьев) и n_estimators (количество деревьев в лесу). Результат сохраним в переменной results_rfc_up"
   ]
  },
  {
   "cell_type": "code",
   "execution_count": 41,
   "metadata": {},
   "outputs": [
    {
     "name": "stdout",
     "output_type": "stream",
     "text": [
      "CPU times: user 54.1 s, sys: 221 ms, total: 54.3 s\n",
      "Wall time: 54.8 s\n"
     ]
    }
   ],
   "source": [
    "%%time\n",
    "results_rfc_up = []\n",
    "\n",
    "for depth in range(1,15):\n",
    "    \n",
    "    for estimator in range(10, 101, 10):\n",
    "        \n",
    "        model = RandomForestClassifier(random_state=123, \n",
    "                                       n_estimators=estimator, \n",
    "                                       max_depth=depth) \n",
    "        \n",
    "        model.fit(features_upsampled, target_upsampled)\n",
    "        predictions_valid = model.predict(features_valid)\n",
    "        probabilities_valid = model.predict_proba(features_valid)\n",
    "        \n",
    "        accuracy = accuracy_score(target_valid, predictions_valid)        \n",
    "        f1 = f1_score(target_valid, predictions_valid)\n",
    "        roc_auc = roc_auc_score(target_valid, probabilities_valid[:,1])       \n",
    "    \n",
    "        results_rfc_up.append({'Model': 'RandomForestClassifier', \n",
    "                               'Hyperparameters': {'random_state': 123, \n",
    "                                                   'n_estimators': estimator, \n",
    "                                                   'max_depth':depth}, \n",
    "                               'Accuracy': accuracy,\n",
    "                               'F1 score': f1, \n",
    "                               'ROC AUC score': roc_auc})"
   ]
  },
  {
   "cell_type": "markdown",
   "metadata": {},
   "source": [
    "Выведем комбинацию гиперпараметров с лучшим результатом:"
   ]
  },
  {
   "cell_type": "code",
   "execution_count": 42,
   "metadata": {},
   "outputs": [
    {
     "data": {
      "text/html": [
       "<div>\n",
       "<style scoped>\n",
       "    .dataframe tbody tr th:only-of-type {\n",
       "        vertical-align: middle;\n",
       "    }\n",
       "\n",
       "    .dataframe tbody tr th {\n",
       "        vertical-align: top;\n",
       "    }\n",
       "\n",
       "    .dataframe thead th {\n",
       "        text-align: right;\n",
       "    }\n",
       "</style>\n",
       "<table border=\"1\" class=\"dataframe\">\n",
       "  <thead>\n",
       "    <tr style=\"text-align: right;\">\n",
       "      <th></th>\n",
       "      <th>Model</th>\n",
       "      <th>Hyperparameters</th>\n",
       "      <th>Accuracy</th>\n",
       "      <th>F1 score</th>\n",
       "      <th>ROC AUC score</th>\n",
       "    </tr>\n",
       "  </thead>\n",
       "  <tbody>\n",
       "    <tr>\n",
       "      <th>91</th>\n",
       "      <td>RandomForestClassifier</td>\n",
       "      <td>{'random_state': 123, 'n_estimators': 20, 'max_depth': 10}</td>\n",
       "      <td>0.818</td>\n",
       "      <td>0.6</td>\n",
       "      <td>0.848249</td>\n",
       "    </tr>\n",
       "  </tbody>\n",
       "</table>\n",
       "</div>"
      ],
      "text/plain": [
       "                     Model  \\\n",
       "91  RandomForestClassifier   \n",
       "\n",
       "                                               Hyperparameters  Accuracy  \\\n",
       "91  {'random_state': 123, 'n_estimators': 20, 'max_depth': 10}  0.818      \n",
       "\n",
       "    F1 score  ROC AUC score  \n",
       "91  0.6       0.848249       "
      ]
     },
     "execution_count": 42,
     "metadata": {},
     "output_type": "execute_result"
    }
   ],
   "source": [
    "df_rfc_up = pd.DataFrame.from_dict(results_rfc_up)\n",
    "df_rfc_up[df_rfc_up['F1 score']==df_rfc_up['F1 score'].max()]"
   ]
  },
  {
   "cell_type": "markdown",
   "metadata": {},
   "source": [
    "### Результат:\n",
    "    • наилучший результат показала модель случайного леса со следующей комбинацией гиперпараметров: n_estimators = 20 и max_depth = 10. Добавим этот результат в переменную best_results и выведем ее на экран."
   ]
  },
  {
   "cell_type": "code",
   "execution_count": 43,
   "metadata": {},
   "outputs": [
    {
     "data": {
      "text/html": [
       "<div>\n",
       "<style scoped>\n",
       "    .dataframe tbody tr th:only-of-type {\n",
       "        vertical-align: middle;\n",
       "    }\n",
       "\n",
       "    .dataframe tbody tr th {\n",
       "        vertical-align: top;\n",
       "    }\n",
       "\n",
       "    .dataframe thead th {\n",
       "        text-align: right;\n",
       "    }\n",
       "</style>\n",
       "<table border=\"1\" class=\"dataframe\">\n",
       "  <thead>\n",
       "    <tr style=\"text-align: right;\">\n",
       "      <th></th>\n",
       "      <th>Model</th>\n",
       "      <th>Hyperparameters</th>\n",
       "      <th>Accuracy</th>\n",
       "      <th>F1 score</th>\n",
       "      <th>ROC AUC score</th>\n",
       "    </tr>\n",
       "  </thead>\n",
       "  <tbody>\n",
       "    <tr>\n",
       "      <th>0</th>\n",
       "      <td>LogisticRegression_l1</td>\n",
       "      <td>{'random_state': 123, 'class_weight': 'balanced', 'solver': 'liblinear', 'penalty': 'l1'}</td>\n",
       "      <td>0.7580</td>\n",
       "      <td>0.555147</td>\n",
       "      <td>0.734554</td>\n",
       "    </tr>\n",
       "    <tr>\n",
       "      <th>5</th>\n",
       "      <td>DecisionTreeClassifier</td>\n",
       "      <td>{'random_state': 123, 'max_depth': 6}</td>\n",
       "      <td>0.7605</td>\n",
       "      <td>0.559338</td>\n",
       "      <td>0.826147</td>\n",
       "    </tr>\n",
       "    <tr>\n",
       "      <th>91</th>\n",
       "      <td>RandomForestClassifier</td>\n",
       "      <td>{'random_state': 123, 'n_estimators': 20, 'max_depth': 10}</td>\n",
       "      <td>0.8180</td>\n",
       "      <td>0.600000</td>\n",
       "      <td>0.848249</td>\n",
       "    </tr>\n",
       "  </tbody>\n",
       "</table>\n",
       "</div>"
      ],
      "text/plain": [
       "                     Model  \\\n",
       "0   LogisticRegression_l1    \n",
       "5   DecisionTreeClassifier   \n",
       "91  RandomForestClassifier   \n",
       "\n",
       "                                                                              Hyperparameters  \\\n",
       "0   {'random_state': 123, 'class_weight': 'balanced', 'solver': 'liblinear', 'penalty': 'l1'}   \n",
       "5   {'random_state': 123, 'max_depth': 6}                                                       \n",
       "91  {'random_state': 123, 'n_estimators': 20, 'max_depth': 10}                                  \n",
       "\n",
       "    Accuracy  F1 score  ROC AUC score  \n",
       "0   0.7580    0.555147  0.734554       \n",
       "5   0.7605    0.559338  0.826147       \n",
       "91  0.8180    0.600000  0.848249       "
      ]
     },
     "execution_count": 43,
     "metadata": {},
     "output_type": "execute_result"
    }
   ],
   "source": [
    "best_results.append(pd.DataFrame(df_rfc_up).loc[91])\n",
    "pd.DataFrame(best_results)"
   ]
  },
  {
   "cell_type": "markdown",
   "metadata": {},
   "source": [
    "Таким образом, после настройки гиперпараметров наилучший результат показала модель случайного леса. "
   ]
  },
  {
   "cell_type": "markdown",
   "metadata": {},
   "source": [
    "### Результат:\n",
    "    • были применены несколько способов борьбы с дисбалансом (взвешивание классов, увеличение выборки, уменьшение выборки ) и проверено, как преобразование данных влияет на способность модели предсказывать уход клиентов\n",
    "    • установили, что наилучший показатель таких метрик как f1_score и roc_auc_score модель случайного леса и модель дерева принятия решений достигается на данных преобразованных при помощи увеличение выборки. \n",
    "    • Модель логистической регрессии лучше работает на данных, сбалансированных при помощи гиперпараметра class_weight = balanced\n",
    "    • Настройка гиперпараметров позволила улучшить показатель метрики f1_score для всех моделей.     "
   ]
  },
  {
   "cell_type": "markdown",
   "metadata": {},
   "source": [
    "# 4. Тестирование модели  "
   ]
  },
  {
   "cell_type": "markdown",
   "metadata": {},
   "source": [
    "Протестируем работу модели случайного леса со следующей комбинацией гиперпараметров: n_estimators = 20 и max_depth = 10."
   ]
  },
  {
   "cell_type": "code",
   "execution_count": 44,
   "metadata": {},
   "outputs": [
    {
     "name": "stdout",
     "output_type": "stream",
     "text": [
      "accuracy 0.8225\n",
      "f1 score 0.6203208556149733\n",
      "roc_auc 0.858824155434325\n"
     ]
    }
   ],
   "source": [
    "model_final = RandomForestClassifier(random_state=123, n_estimators=20, max_depth=10)\n",
    "\n",
    "model_final.fit(features_upsampled, target_upsampled)  \n",
    "predictions_final = model_final.predict(features_test)\n",
    "probabilities_final = model_final.predict_proba(features_test)\n",
    "\n",
    "accuracy_final = accuracy_score(target_test, predictions_final)\n",
    "f1_final = f1_score(target_test, predictions_final)\n",
    "roc_auc_final = roc_auc_score(target_test, probabilities_final[:,1])\n",
    "\n",
    "print('accuracy', accuracy_final)\n",
    "print('f1 score', f1_final)\n",
    "print('roc_auc', roc_auc_final)"
   ]
  },
  {
   "cell_type": "markdown",
   "metadata": {},
   "source": [
    "Проверим работу модели на расширенной выборке. Для этого сначала объединим тренировочную и валидационную выборки."
   ]
  },
  {
   "cell_type": "code",
   "execution_count": 45,
   "metadata": {},
   "outputs": [],
   "source": [
    "features_combined = pd.concat([features_train, features_valid])\n",
    "target_combined = pd.concat([target_train, target_valid])"
   ]
  },
  {
   "cell_type": "markdown",
   "metadata": {},
   "source": [
    "Затем увеличим выборки, при помощи функции upsample()"
   ]
  },
  {
   "cell_type": "code",
   "execution_count": 46,
   "metadata": {},
   "outputs": [],
   "source": [
    "features_upsampled_combined, target_upsampled_combined = upsample(features_combined, target_combined, 4)"
   ]
  },
  {
   "cell_type": "code",
   "execution_count": 47,
   "metadata": {},
   "outputs": [
    {
     "name": "stdout",
     "output_type": "stream",
     "text": [
      "(12890, 11)\n",
      "(12890,)\n"
     ]
    }
   ],
   "source": [
    "print(features_upsampled_combined.shape)\n",
    "print(target_upsampled_combined.shape)"
   ]
  },
  {
   "cell_type": "markdown",
   "metadata": {},
   "source": [
    "Далее используем полученные выборки при обучении модели случайного леса с гиперпараметрами n_estimators = 20 и max_depth = 10 и протестируем работу модели на тестовой выборке."
   ]
  },
  {
   "cell_type": "code",
   "execution_count": 48,
   "metadata": {},
   "outputs": [
    {
     "name": "stdout",
     "output_type": "stream",
     "text": [
      "accuracy 0.8225\n",
      "f1 score 0.6153846153846154\n",
      "roc_auc 0.8630063036842699\n"
     ]
    }
   ],
   "source": [
    "model_combined = RandomForestClassifier(random_state=123, n_estimators=20, max_depth=10)\n",
    "\n",
    "model_combined.fit(features_upsampled_combined, target_upsampled_combined)  \n",
    "\n",
    "predictions_combined = model_combined.predict(features_test)\n",
    "probabilities_combined = model_combined.predict_proba(features_test)\n",
    "\n",
    "accuracy_combined = accuracy_score(target_test, predictions_final)\n",
    "f1_combined = f1_score(target_test, predictions_combined)\n",
    "roc_auc_combined = roc_auc_score(target_test, probabilities_combined[:,1])\n",
    "\n",
    "print('accuracy', accuracy_combined)\n",
    "print('f1 score', f1_combined)\n",
    "print('roc_auc', roc_auc_combined)"
   ]
  },
  {
   "cell_type": "markdown",
   "metadata": {},
   "source": [
    "Проверим финальную модель на адекватность."
   ]
  },
  {
   "cell_type": "code",
   "execution_count": 49,
   "metadata": {},
   "outputs": [
    {
     "data": {
      "text/html": [
       "<style  type=\"text/css\" >\n",
       "#T_34f68_row0_col0,#T_34f68_row1_col1,#T_34f68_row2_col2{\n",
       "            background-color:  lightgray;\n",
       "        }</style><table id=\"T_34f68_\" ><thead>    <tr>        <th class=\"blank level0\" ></th>        <th class=\"col_heading level0 col0\" >stratified</th>        <th class=\"col_heading level0 col1\" >most_frequent</th>        <th class=\"col_heading level0 col2\" >uniform</th>    </tr></thead><tbody>\n",
       "                <tr>\n",
       "                        <th id=\"T_34f68_level0_row0\" class=\"row_heading level0 row0\" >0</th>\n",
       "                        <td id=\"T_34f68_row0_col0\" class=\"data row0 col0\" >0.664000</td>\n",
       "                        <td id=\"T_34f68_row0_col1\" class=\"data row0 col1\" >nan</td>\n",
       "                        <td id=\"T_34f68_row0_col2\" class=\"data row0 col2\" >nan</td>\n",
       "            </tr>\n",
       "            <tr>\n",
       "                        <th id=\"T_34f68_level0_row1\" class=\"row_heading level0 row1\" >1</th>\n",
       "                        <td id=\"T_34f68_row1_col0\" class=\"data row1 col0\" >nan</td>\n",
       "                        <td id=\"T_34f68_row1_col1\" class=\"data row1 col1\" >0.796500</td>\n",
       "                        <td id=\"T_34f68_row1_col2\" class=\"data row1 col2\" >nan</td>\n",
       "            </tr>\n",
       "            <tr>\n",
       "                        <th id=\"T_34f68_level0_row2\" class=\"row_heading level0 row2\" >2</th>\n",
       "                        <td id=\"T_34f68_row2_col0\" class=\"data row2 col0\" >nan</td>\n",
       "                        <td id=\"T_34f68_row2_col1\" class=\"data row2 col1\" >nan</td>\n",
       "                        <td id=\"T_34f68_row2_col2\" class=\"data row2 col2\" >0.492500</td>\n",
       "            </tr>\n",
       "    </tbody></table>"
      ],
      "text/plain": [
       "<pandas.io.formats.style.Styler at 0x7f64a45e0910>"
      ]
     },
     "execution_count": 49,
     "metadata": {},
     "output_type": "execute_result"
    }
   ],
   "source": [
    "from sklearn.dummy import DummyClassifier\n",
    "strategies = ['stratified', 'most_frequent', 'uniform'] \n",
    "  \n",
    "dummy_results = [] \n",
    "for strategy in strategies: \n",
    "    dc = DummyClassifier(strategy = strategy, random_state = 42)\n",
    "    \n",
    "    dc.fit(features_train, target_train) \n",
    "    result = dc.score(features_test, target_test) \n",
    "    dummy_results.append({strategy: result}) \n",
    "\n",
    "pd.DataFrame(dummy_results).style.highlight_max(color = 'lightgray', axis = 1)"
   ]
  },
  {
   "cell_type": "markdown",
   "metadata": {},
   "source": [
    "### Результат:\n",
    "    Можно сделать вывод о том, что модель случайного леса с гиперпараметрами n_estimators = 20 и max_depth = 10 работает лучше, чем стратегии случайного прогнозирования классификатора DummyClassifier()."
   ]
  },
  {
   "cell_type": "markdown",
   "metadata": {},
   "source": [
    "# 6. Вывод   "
   ]
  },
  {
   "cell_type": "markdown",
   "metadata": {},
   "source": [
    "После проведения проверка модели на тестовой выборке и на расширенной выборке можно сделать вывод, что модель работает достаточно хорошо — показатель метрики f1_score удалось достигнуть выше, чем было заявлено в требованиях (минимальное требование к этой метрике было 0.59, модель дает лучший результат). Хороший реузльтат достигнут по метрике roc_auc_score. Цель проекта достигнута.\n"
   ]
  }
 ],
 "metadata": {
  "ExecuteTimeLog": [
   {
    "duration": 1865,
    "start_time": "2022-03-17T07:17:56.192Z"
   },
   {
    "duration": 178,
    "start_time": "2022-03-17T07:17:58.951Z"
   },
   {
    "duration": 19,
    "start_time": "2022-03-17T07:18:35.199Z"
   },
   {
    "duration": 16,
    "start_time": "2022-03-17T07:22:56.054Z"
   },
   {
    "duration": 10,
    "start_time": "2022-03-17T07:25:48.890Z"
   },
   {
    "duration": 54,
    "start_time": "2022-03-17T07:31:55.135Z"
   },
   {
    "duration": 5,
    "start_time": "2022-03-17T07:33:23.520Z"
   },
   {
    "duration": 3,
    "start_time": "2022-03-17T07:34:04.145Z"
   },
   {
    "duration": 12,
    "start_time": "2022-03-17T07:34:42.939Z"
   },
   {
    "duration": 11,
    "start_time": "2022-03-17T07:35:16.993Z"
   },
   {
    "duration": 199,
    "start_time": "2022-03-17T07:35:48.363Z"
   },
   {
    "duration": 12,
    "start_time": "2022-03-17T07:36:27.889Z"
   },
   {
    "duration": 12,
    "start_time": "2022-03-17T07:37:35.567Z"
   },
   {
    "duration": 12,
    "start_time": "2022-03-17T07:39:09.741Z"
   },
   {
    "duration": 7,
    "start_time": "2022-03-17T07:40:17.695Z"
   },
   {
    "duration": 45,
    "start_time": "2022-03-17T07:41:40.371Z"
   },
   {
    "duration": 41,
    "start_time": "2022-03-17T07:42:36.379Z"
   },
   {
    "duration": 6,
    "start_time": "2022-03-17T07:43:20.271Z"
   },
   {
    "duration": 7,
    "start_time": "2022-03-17T07:45:39.978Z"
   },
   {
    "duration": 6,
    "start_time": "2022-03-17T07:46:21.409Z"
   },
   {
    "duration": 7,
    "start_time": "2022-03-17T07:46:31.630Z"
   },
   {
    "duration": 170,
    "start_time": "2022-03-17T07:46:47.270Z"
   },
   {
    "duration": 6,
    "start_time": "2022-03-17T07:47:06.616Z"
   },
   {
    "duration": 16,
    "start_time": "2022-03-17T07:48:23.204Z"
   },
   {
    "duration": 11,
    "start_time": "2022-03-17T07:49:20.315Z"
   },
   {
    "duration": 64,
    "start_time": "2022-03-17T07:50:15.603Z"
   },
   {
    "duration": 11,
    "start_time": "2022-03-17T07:51:30.192Z"
   },
   {
    "duration": 23,
    "start_time": "2022-03-17T07:52:10.086Z"
   },
   {
    "duration": 6,
    "start_time": "2022-03-17T07:52:51.805Z"
   },
   {
    "duration": 15,
    "start_time": "2022-03-17T07:59:05.502Z"
   },
   {
    "duration": 157,
    "start_time": "2022-03-17T07:59:38.755Z"
   },
   {
    "duration": 5,
    "start_time": "2022-03-17T08:00:06.289Z"
   },
   {
    "duration": 5,
    "start_time": "2022-03-17T08:00:46.037Z"
   },
   {
    "duration": 3,
    "start_time": "2022-03-17T08:00:48.455Z"
   },
   {
    "duration": 4,
    "start_time": "2022-03-17T08:01:27.977Z"
   },
   {
    "duration": 15,
    "start_time": "2022-03-17T08:02:10.087Z"
   },
   {
    "duration": 31,
    "start_time": "2022-03-17T08:07:56.334Z"
   },
   {
    "duration": 273,
    "start_time": "2022-03-17T08:09:54.614Z"
   },
   {
    "duration": 32,
    "start_time": "2022-03-17T08:11:16.377Z"
   },
   {
    "duration": 7,
    "start_time": "2022-03-17T08:12:35.753Z"
   },
   {
    "duration": 17,
    "start_time": "2022-03-17T08:13:19.004Z"
   },
   {
    "duration": 10,
    "start_time": "2022-03-17T08:14:09.248Z"
   },
   {
    "duration": 10,
    "start_time": "2022-03-17T08:15:52.929Z"
   },
   {
    "duration": 10,
    "start_time": "2022-03-17T08:17:04.318Z"
   },
   {
    "duration": 46,
    "start_time": "2022-03-18T05:21:40.595Z"
   },
   {
    "duration": 6,
    "start_time": "2022-03-18T05:21:48.363Z"
   },
   {
    "duration": 1243,
    "start_time": "2022-03-18T05:22:21.480Z"
   },
   {
    "duration": 110,
    "start_time": "2022-03-18T05:22:24.480Z"
   },
   {
    "duration": 14,
    "start_time": "2022-03-18T05:22:28.789Z"
   },
   {
    "duration": 13,
    "start_time": "2022-03-18T05:22:33.603Z"
   },
   {
    "duration": 9,
    "start_time": "2022-03-18T05:22:37.829Z"
   },
   {
    "duration": 48,
    "start_time": "2022-03-18T05:22:41.851Z"
   },
   {
    "duration": 3,
    "start_time": "2022-03-18T05:22:45.516Z"
   },
   {
    "duration": 3,
    "start_time": "2022-03-18T05:22:48.955Z"
   },
   {
    "duration": 6,
    "start_time": "2022-03-18T05:22:52.611Z"
   },
   {
    "duration": 9,
    "start_time": "2022-03-18T05:22:55.028Z"
   },
   {
    "duration": 10,
    "start_time": "2022-03-18T05:22:59.874Z"
   },
   {
    "duration": 8,
    "start_time": "2022-03-18T05:23:03.298Z"
   },
   {
    "duration": 6,
    "start_time": "2022-03-18T05:23:06.464Z"
   },
   {
    "duration": 34,
    "start_time": "2022-03-18T05:23:11.672Z"
   },
   {
    "duration": 27,
    "start_time": "2022-03-18T05:23:17.492Z"
   },
   {
    "duration": 5,
    "start_time": "2022-03-18T05:23:20.604Z"
   },
   {
    "duration": 5,
    "start_time": "2022-03-18T05:23:24.100Z"
   },
   {
    "duration": 4,
    "start_time": "2022-03-18T05:23:27.363Z"
   },
   {
    "duration": 6,
    "start_time": "2022-03-18T05:23:30.026Z"
   },
   {
    "duration": 15,
    "start_time": "2022-03-18T05:23:33.772Z"
   },
   {
    "duration": 9,
    "start_time": "2022-03-18T05:23:38.938Z"
   },
   {
    "duration": 53,
    "start_time": "2022-03-18T05:23:42.543Z"
   },
   {
    "duration": 8,
    "start_time": "2022-03-18T05:23:48.997Z"
   },
   {
    "duration": 18,
    "start_time": "2022-03-18T05:23:53.261Z"
   },
   {
    "duration": 5,
    "start_time": "2022-03-18T05:23:56.457Z"
   },
   {
    "duration": 16,
    "start_time": "2022-03-18T05:24:00.548Z"
   },
   {
    "duration": 4,
    "start_time": "2022-03-18T05:24:05.268Z"
   },
   {
    "duration": 4,
    "start_time": "2022-03-18T05:24:08.530Z"
   },
   {
    "duration": 3,
    "start_time": "2022-03-18T05:24:10.878Z"
   },
   {
    "duration": 13,
    "start_time": "2022-03-18T05:24:14.894Z"
   },
   {
    "duration": 26,
    "start_time": "2022-03-18T05:26:10.495Z"
   },
   {
    "duration": 207,
    "start_time": "2022-03-18T05:26:15.288Z"
   },
   {
    "duration": 30,
    "start_time": "2022-03-18T05:26:20.329Z"
   },
   {
    "duration": 5,
    "start_time": "2022-03-18T05:26:23.704Z"
   },
   {
    "duration": 11,
    "start_time": "2022-03-18T05:26:27.701Z"
   },
   {
    "duration": 9,
    "start_time": "2022-03-18T05:26:31.023Z"
   },
   {
    "duration": 8,
    "start_time": "2022-03-18T05:26:33.951Z"
   },
   {
    "duration": 9,
    "start_time": "2022-03-18T05:26:37.311Z"
   },
   {
    "duration": 14,
    "start_time": "2022-03-18T05:26:41.738Z"
   },
   {
    "duration": 724,
    "start_time": "2022-03-18T05:28:04.731Z"
   },
   {
    "duration": 11,
    "start_time": "2022-03-18T05:31:16.892Z"
   },
   {
    "duration": 107,
    "start_time": "2022-03-18T05:31:40.989Z"
   },
   {
    "duration": 174,
    "start_time": "2022-03-18T05:32:27.630Z"
   },
   {
    "duration": 9,
    "start_time": "2022-03-18T05:35:37.403Z"
   },
   {
    "duration": 11,
    "start_time": "2022-03-18T05:36:57.498Z"
   },
   {
    "duration": 9,
    "start_time": "2022-03-18T05:37:38.332Z"
   },
   {
    "duration": 9,
    "start_time": "2022-03-18T05:38:24.974Z"
   },
   {
    "duration": 15,
    "start_time": "2022-03-18T05:39:09.838Z"
   },
   {
    "duration": 1068,
    "start_time": "2022-03-18T05:40:04.624Z"
   },
   {
    "duration": 215,
    "start_time": "2022-03-18T05:41:54.683Z"
   },
   {
    "duration": 38,
    "start_time": "2022-03-18T08:09:42.538Z"
   },
   {
    "duration": 4076,
    "start_time": "2022-03-18T08:11:34.394Z"
   },
   {
    "duration": 4,
    "start_time": "2022-03-18T08:13:32.196Z"
   },
   {
    "duration": 798,
    "start_time": "2022-03-18T08:14:08.800Z"
   },
   {
    "duration": 8,
    "start_time": "2022-03-18T08:15:44.095Z"
   },
   {
    "duration": 136,
    "start_time": "2022-03-18T08:16:48.433Z"
   },
   {
    "duration": 4,
    "start_time": "2022-03-18T08:19:14.701Z"
   },
   {
    "duration": 1282,
    "start_time": "2022-03-18T08:19:58.212Z"
   },
   {
    "duration": 4,
    "start_time": "2022-03-18T08:21:19.102Z"
   },
   {
    "duration": 48,
    "start_time": "2022-03-18T08:22:01.327Z"
   },
   {
    "duration": 124,
    "start_time": "2022-03-18T08:22:33.551Z"
   },
   {
    "duration": 4,
    "start_time": "2022-03-18T08:24:49.794Z"
   },
   {
    "duration": 13,
    "start_time": "2022-03-18T08:25:55.940Z"
   },
   {
    "duration": 4,
    "start_time": "2022-03-18T08:26:46.156Z"
   },
   {
    "duration": 8,
    "start_time": "2022-03-18T08:27:28.221Z"
   },
   {
    "duration": 180,
    "start_time": "2022-03-18T08:28:18.923Z"
   },
   {
    "duration": 5,
    "start_time": "2022-03-18T08:32:33.474Z"
   },
   {
    "duration": 5,
    "start_time": "2022-03-18T08:33:17.028Z"
   },
   {
    "duration": 154,
    "start_time": "2022-03-18T08:34:46.732Z"
   },
   {
    "duration": 16,
    "start_time": "2022-03-18T08:48:49.772Z"
   },
   {
    "duration": 10,
    "start_time": "2022-03-18T08:50:43.392Z"
   },
   {
    "duration": 19,
    "start_time": "2022-03-18T08:52:02.617Z"
   },
   {
    "duration": 13,
    "start_time": "2022-03-18T08:53:14.799Z"
   },
   {
    "duration": 2278,
    "start_time": "2022-03-18T08:54:08.803Z"
   },
   {
    "duration": 262,
    "start_time": "2022-03-18T08:57:01.184Z"
   },
   {
    "duration": 5,
    "start_time": "2022-03-18T08:57:32.798Z"
   },
   {
    "duration": 6,
    "start_time": "2022-03-18T08:58:35.390Z"
   },
   {
    "duration": 115,
    "start_time": "2022-03-18T08:59:15.672Z"
   },
   {
    "duration": 6,
    "start_time": "2022-03-18T08:59:37.419Z"
   },
   {
    "duration": 114,
    "start_time": "2022-03-18T09:00:13.505Z"
   },
   {
    "duration": 6,
    "start_time": "2022-03-18T09:00:46.060Z"
   },
   {
    "duration": 4,
    "start_time": "2022-03-18T09:01:47.458Z"
   },
   {
    "duration": 2249,
    "start_time": "2022-03-18T09:02:29.197Z"
   },
   {
    "duration": 6,
    "start_time": "2022-03-18T09:59:51.286Z"
   },
   {
    "duration": 6,
    "start_time": "2022-03-18T10:01:48.030Z"
   },
   {
    "duration": 7,
    "start_time": "2022-03-18T10:02:57.752Z"
   },
   {
    "duration": 5,
    "start_time": "2022-03-18T10:03:54.882Z"
   },
   {
    "duration": 1106,
    "start_time": "2022-03-18T10:24:10.358Z"
   },
   {
    "duration": 109,
    "start_time": "2022-03-18T10:24:39.300Z"
   },
   {
    "duration": 15,
    "start_time": "2022-03-18T10:24:54.053Z"
   },
   {
    "duration": 15,
    "start_time": "2022-03-18T10:31:21.468Z"
   },
   {
    "duration": 10,
    "start_time": "2022-03-18T10:32:17.637Z"
   },
   {
    "duration": 51,
    "start_time": "2022-03-18T10:32:58.516Z"
   },
   {
    "duration": 4,
    "start_time": "2022-03-18T10:38:31.296Z"
   },
   {
    "duration": 3,
    "start_time": "2022-03-18T10:39:21.582Z"
   },
   {
    "duration": 7,
    "start_time": "2022-03-18T10:39:52.632Z"
   },
   {
    "duration": 9,
    "start_time": "2022-03-18T10:40:06.318Z"
   },
   {
    "duration": 10,
    "start_time": "2022-03-18T10:41:56.586Z"
   },
   {
    "duration": 9,
    "start_time": "2022-03-18T10:43:26.593Z"
   },
   {
    "duration": 5,
    "start_time": "2022-03-18T10:44:52.267Z"
   },
   {
    "duration": 98,
    "start_time": "2022-03-18T10:49:14.619Z"
   },
   {
    "duration": 18,
    "start_time": "2022-03-18T10:53:33.047Z"
   },
   {
    "duration": 31,
    "start_time": "2022-03-18T10:54:36.345Z"
   },
   {
    "duration": 36,
    "start_time": "2022-03-18T10:56:54.026Z"
   },
   {
    "duration": 11,
    "start_time": "2022-03-18T10:57:02.651Z"
   },
   {
    "duration": 5,
    "start_time": "2022-03-18T10:57:11.952Z"
   },
   {
    "duration": 6,
    "start_time": "2022-03-18T10:59:25.286Z"
   },
   {
    "duration": 10,
    "start_time": "2022-03-18T10:59:46.021Z"
   },
   {
    "duration": 6,
    "start_time": "2022-03-18T10:59:58.149Z"
   },
   {
    "duration": 6,
    "start_time": "2022-03-18T11:00:06.404Z"
   },
   {
    "duration": 15,
    "start_time": "2022-03-18T11:00:29.956Z"
   },
   {
    "duration": 10,
    "start_time": "2022-03-18T11:01:14.129Z"
   },
   {
    "duration": 8,
    "start_time": "2022-03-18T11:01:40.313Z"
   },
   {
    "duration": 63,
    "start_time": "2022-03-18T11:01:49.925Z"
   },
   {
    "duration": 9,
    "start_time": "2022-03-18T11:03:20.072Z"
   },
   {
    "duration": 19,
    "start_time": "2022-03-18T11:04:34.803Z"
   },
   {
    "duration": 5,
    "start_time": "2022-03-18T11:04:44.947Z"
   },
   {
    "duration": 14,
    "start_time": "2022-03-18T11:10:42.943Z"
   },
   {
    "duration": 4,
    "start_time": "2022-03-18T11:11:04.939Z"
   },
   {
    "duration": 5,
    "start_time": "2022-03-18T11:11:25.550Z"
   },
   {
    "duration": 4,
    "start_time": "2022-03-18T11:11:57.997Z"
   },
   {
    "duration": 4,
    "start_time": "2022-03-18T11:12:25.007Z"
   },
   {
    "duration": 14,
    "start_time": "2022-03-18T11:12:42.135Z"
   },
   {
    "duration": 9,
    "start_time": "2022-03-18T11:14:45.956Z"
   },
   {
    "duration": 28,
    "start_time": "2022-03-18T11:15:01.371Z"
   },
   {
    "duration": 215,
    "start_time": "2022-03-18T11:16:53.694Z"
   },
   {
    "duration": 28,
    "start_time": "2022-03-18T11:18:01.398Z"
   },
   {
    "duration": 5,
    "start_time": "2022-03-18T11:18:26.293Z"
   },
   {
    "duration": 12,
    "start_time": "2022-03-18T11:19:30.989Z"
   },
   {
    "duration": 9,
    "start_time": "2022-03-18T11:20:29.473Z"
   },
   {
    "duration": 9,
    "start_time": "2022-03-18T11:21:08.010Z"
   },
   {
    "duration": 9,
    "start_time": "2022-03-18T11:21:22.240Z"
   },
   {
    "duration": 10,
    "start_time": "2022-03-18T11:22:05.370Z"
   },
   {
    "duration": 16,
    "start_time": "2022-03-18T11:22:42.123Z"
   },
   {
    "duration": 17,
    "start_time": "2022-03-18T12:13:27.646Z"
   },
   {
    "duration": 791,
    "start_time": "2022-03-18T12:16:03.612Z"
   },
   {
    "duration": 12,
    "start_time": "2022-03-18T12:24:09.304Z"
   },
   {
    "duration": 14,
    "start_time": "2022-03-18T12:24:24.138Z"
   },
   {
    "duration": 217,
    "start_time": "2022-03-18T12:25:18.063Z"
   },
   {
    "duration": 11,
    "start_time": "2022-03-18T12:27:14.885Z"
   },
   {
    "duration": 11,
    "start_time": "2022-03-18T12:28:16.710Z"
   },
   {
    "duration": 9,
    "start_time": "2022-03-18T12:28:54.982Z"
   },
   {
    "duration": 9,
    "start_time": "2022-03-18T12:29:35.197Z"
   },
   {
    "duration": 17,
    "start_time": "2022-03-18T12:31:03.532Z"
   },
   {
    "duration": 1197,
    "start_time": "2022-03-18T12:31:29.076Z"
   },
   {
    "duration": 228,
    "start_time": "2022-03-18T12:36:53.692Z"
   },
   {
    "duration": 37,
    "start_time": "2022-03-18T12:40:38.558Z"
   },
   {
    "duration": 4190,
    "start_time": "2022-03-18T12:40:45.996Z"
   },
   {
    "duration": 4,
    "start_time": "2022-03-18T12:41:47.813Z"
   },
   {
    "duration": 8,
    "start_time": "2022-03-18T12:42:34.602Z"
   },
   {
    "duration": 245,
    "start_time": "2022-03-18T12:42:40.126Z"
   },
   {
    "duration": 5,
    "start_time": "2022-03-18T12:43:00.421Z"
   },
   {
    "duration": 1177,
    "start_time": "2022-03-18T12:43:17.253Z"
   },
   {
    "duration": 4,
    "start_time": "2022-03-18T12:45:41.466Z"
   },
   {
    "duration": 47,
    "start_time": "2022-03-18T12:45:55.920Z"
   },
   {
    "duration": 127,
    "start_time": "2022-03-18T12:46:00.320Z"
   },
   {
    "duration": 5,
    "start_time": "2022-03-18T12:47:00.218Z"
   },
   {
    "duration": 13,
    "start_time": "2022-03-18T12:47:09.696Z"
   },
   {
    "duration": 5,
    "start_time": "2022-03-18T12:47:16.065Z"
   },
   {
    "duration": 8,
    "start_time": "2022-03-18T12:47:24.198Z"
   },
   {
    "duration": 175,
    "start_time": "2022-03-18T12:47:41.440Z"
   },
   {
    "duration": 6,
    "start_time": "2022-03-18T12:48:32.803Z"
   },
   {
    "duration": 27,
    "start_time": "2022-03-18T12:53:58.653Z"
   },
   {
    "duration": 42,
    "start_time": "2022-03-18T12:57:14.848Z"
   },
   {
    "duration": 36,
    "start_time": "2022-03-18T12:59:21.971Z"
   },
   {
    "duration": 18,
    "start_time": "2022-03-18T13:00:13.841Z"
   },
   {
    "duration": 114,
    "start_time": "2022-03-18T13:01:28.553Z"
   },
   {
    "duration": 124,
    "start_time": "2022-03-18T13:01:37.682Z"
   },
   {
    "duration": 126,
    "start_time": "2022-03-18T13:02:02.365Z"
   },
   {
    "duration": 48,
    "start_time": "2022-03-18T13:02:11.010Z"
   },
   {
    "duration": 141,
    "start_time": "2022-03-18T13:02:56.202Z"
   },
   {
    "duration": 18,
    "start_time": "2022-03-18T13:05:31.892Z"
   },
   {
    "duration": 6,
    "start_time": "2022-03-18T13:06:35.333Z"
   },
   {
    "duration": 6,
    "start_time": "2022-03-18T13:06:42.451Z"
   },
   {
    "duration": 270,
    "start_time": "2022-03-18T13:06:47.657Z"
   },
   {
    "duration": 26,
    "start_time": "2022-03-18T13:07:46.532Z"
   },
   {
    "duration": 26,
    "start_time": "2022-03-18T13:08:49.050Z"
   },
   {
    "duration": 144,
    "start_time": "2022-03-18T13:09:06.226Z"
   },
   {
    "duration": 19,
    "start_time": "2022-03-18T13:10:15.108Z"
   },
   {
    "duration": 9,
    "start_time": "2022-03-18T13:10:35.933Z"
   },
   {
    "duration": 24,
    "start_time": "2022-03-18T13:11:34.212Z"
   },
   {
    "duration": 22,
    "start_time": "2022-03-18T13:11:50.052Z"
   },
   {
    "duration": 12,
    "start_time": "2022-03-18T13:12:58.169Z"
   },
   {
    "duration": 2267,
    "start_time": "2022-03-18T13:13:08.038Z"
   },
   {
    "duration": 262,
    "start_time": "2022-03-18T13:13:26.021Z"
   },
   {
    "duration": 7,
    "start_time": "2022-03-18T13:14:44.047Z"
   },
   {
    "duration": 7,
    "start_time": "2022-03-18T13:14:50.891Z"
   },
   {
    "duration": 6,
    "start_time": "2022-03-18T13:15:11.601Z"
   },
   {
    "duration": 6,
    "start_time": "2022-03-18T13:15:17.126Z"
   },
   {
    "duration": 4,
    "start_time": "2022-03-18T13:16:02.081Z"
   },
   {
    "duration": 2238,
    "start_time": "2022-03-18T13:16:07.465Z"
   },
   {
    "duration": 6,
    "start_time": "2022-03-18T13:16:20.384Z"
   },
   {
    "duration": 6,
    "start_time": "2022-03-18T13:16:24.952Z"
   },
   {
    "duration": 5,
    "start_time": "2022-03-18T13:16:32.818Z"
   },
   {
    "duration": 6,
    "start_time": "2022-03-18T13:16:36.991Z"
   },
   {
    "duration": 1517,
    "start_time": "2022-03-29T10:08:46.485Z"
   },
   {
    "duration": 159,
    "start_time": "2022-03-29T10:08:48.005Z"
   },
   {
    "duration": 22,
    "start_time": "2022-03-29T10:08:48.167Z"
   },
   {
    "duration": 20,
    "start_time": "2022-03-29T10:08:48.192Z"
   },
   {
    "duration": 11,
    "start_time": "2022-03-29T10:08:48.214Z"
   },
   {
    "duration": 80,
    "start_time": "2022-03-29T10:08:48.228Z"
   },
   {
    "duration": 5,
    "start_time": "2022-03-29T10:08:48.310Z"
   },
   {
    "duration": 5,
    "start_time": "2022-03-29T10:08:48.317Z"
   },
   {
    "duration": 9,
    "start_time": "2022-03-29T10:08:48.324Z"
   },
   {
    "duration": 11,
    "start_time": "2022-03-29T10:08:48.337Z"
   },
   {
    "duration": 18,
    "start_time": "2022-03-29T10:08:48.350Z"
   },
   {
    "duration": 16,
    "start_time": "2022-03-29T10:08:48.371Z"
   },
   {
    "duration": 9,
    "start_time": "2022-03-29T10:08:48.389Z"
   },
   {
    "duration": 47,
    "start_time": "2022-03-29T10:08:48.400Z"
   },
   {
    "duration": 55,
    "start_time": "2022-03-29T10:08:48.449Z"
   },
   {
    "duration": 6,
    "start_time": "2022-03-29T10:08:48.506Z"
   },
   {
    "duration": 7,
    "start_time": "2022-03-29T10:08:48.515Z"
   },
   {
    "duration": 6,
    "start_time": "2022-03-29T10:08:48.524Z"
   },
   {
    "duration": 7,
    "start_time": "2022-03-29T10:08:48.568Z"
   },
   {
    "duration": 21,
    "start_time": "2022-03-29T10:08:48.577Z"
   },
   {
    "duration": 11,
    "start_time": "2022-03-29T10:08:48.600Z"
   },
   {
    "duration": 77,
    "start_time": "2022-03-29T10:08:48.668Z"
   },
   {
    "duration": 29,
    "start_time": "2022-03-29T10:08:48.747Z"
   },
   {
    "duration": 28,
    "start_time": "2022-03-29T10:08:48.778Z"
   },
   {
    "duration": 6,
    "start_time": "2022-03-29T10:08:48.808Z"
   },
   {
    "duration": 21,
    "start_time": "2022-03-29T10:08:48.868Z"
   },
   {
    "duration": 6,
    "start_time": "2022-03-29T10:08:48.891Z"
   },
   {
    "duration": 6,
    "start_time": "2022-03-29T10:08:48.903Z"
   },
   {
    "duration": 5,
    "start_time": "2022-03-29T10:08:48.912Z"
   },
   {
    "duration": 20,
    "start_time": "2022-03-29T10:08:48.969Z"
   },
   {
    "duration": 42,
    "start_time": "2022-03-29T10:08:48.991Z"
   },
   {
    "duration": 544,
    "start_time": "2022-03-29T10:08:49.035Z"
   },
   {
    "duration": 43,
    "start_time": "2022-03-29T10:08:49.582Z"
   },
   {
    "duration": 7,
    "start_time": "2022-03-29T10:08:49.628Z"
   },
   {
    "duration": 14,
    "start_time": "2022-03-29T10:08:49.667Z"
   },
   {
    "duration": 11,
    "start_time": "2022-03-29T10:08:49.684Z"
   },
   {
    "duration": 11,
    "start_time": "2022-03-29T10:08:49.697Z"
   },
   {
    "duration": 10,
    "start_time": "2022-03-29T10:08:49.711Z"
   },
   {
    "duration": 63,
    "start_time": "2022-03-29T10:08:49.724Z"
   },
   {
    "duration": 1215,
    "start_time": "2022-03-29T10:08:49.789Z"
   },
   {
    "duration": 13,
    "start_time": "2022-03-29T10:08:51.007Z"
   },
   {
    "duration": 340,
    "start_time": "2022-03-29T10:08:51.022Z"
   },
   {
    "duration": 13,
    "start_time": "2022-03-29T10:08:51.367Z"
   },
   {
    "duration": 16,
    "start_time": "2022-03-29T10:08:51.382Z"
   },
   {
    "duration": 13,
    "start_time": "2022-03-29T10:08:51.401Z"
   },
   {
    "duration": 11,
    "start_time": "2022-03-29T10:08:51.417Z"
   },
   {
    "duration": 59,
    "start_time": "2022-03-29T10:08:51.430Z"
   },
   {
    "duration": 1773,
    "start_time": "2022-03-29T10:08:51.491Z"
   },
   {
    "duration": 590,
    "start_time": "2022-03-29T10:08:53.266Z"
   },
   {
    "duration": 66,
    "start_time": "2022-03-29T10:08:53.858Z"
   },
   {
    "duration": 6682,
    "start_time": "2022-03-29T10:08:53.926Z"
   },
   {
    "duration": 5,
    "start_time": "2022-03-29T10:09:00.611Z"
   },
   {
    "duration": 1352,
    "start_time": "2022-03-29T10:09:00.619Z"
   },
   {
    "duration": 11,
    "start_time": "2022-03-29T10:09:01.974Z"
   },
   {
    "duration": 253,
    "start_time": "2022-03-29T10:09:01.988Z"
   },
   {
    "duration": 6,
    "start_time": "2022-03-29T10:09:02.244Z"
   },
   {
    "duration": 2200,
    "start_time": "2022-03-29T10:09:02.268Z"
   },
   {
    "duration": 5,
    "start_time": "2022-03-29T10:09:04.471Z"
   },
   {
    "duration": 94,
    "start_time": "2022-03-29T10:09:04.478Z"
   },
   {
    "duration": 213,
    "start_time": "2022-03-29T10:09:04.575Z"
   },
   {
    "duration": 6,
    "start_time": "2022-03-29T10:09:04.791Z"
   },
   {
    "duration": 25,
    "start_time": "2022-03-29T10:09:04.800Z"
   },
   {
    "duration": 6,
    "start_time": "2022-03-29T10:09:04.828Z"
   },
   {
    "duration": 34,
    "start_time": "2022-03-29T10:09:04.837Z"
   },
   {
    "duration": 296,
    "start_time": "2022-03-29T10:09:04.874Z"
   },
   {
    "duration": 7,
    "start_time": "2022-03-29T10:09:05.173Z"
   },
   {
    "duration": 42,
    "start_time": "2022-03-29T10:09:05.182Z"
   },
   {
    "duration": 243,
    "start_time": "2022-03-29T10:09:05.227Z"
   },
   {
    "duration": 37,
    "start_time": "2022-03-29T10:09:05.472Z"
   },
   {
    "duration": 56,
    "start_time": "2022-03-29T10:09:05.511Z"
   },
   {
    "duration": 18,
    "start_time": "2022-03-29T10:09:05.570Z"
   },
   {
    "duration": 3586,
    "start_time": "2022-03-29T10:09:05.591Z"
   },
   {
    "duration": 416,
    "start_time": "2022-03-29T10:09:09.180Z"
   },
   {
    "duration": 10,
    "start_time": "2022-03-29T10:09:09.599Z"
   },
   {
    "duration": 9,
    "start_time": "2022-03-29T10:09:09.611Z"
   },
   {
    "duration": 48,
    "start_time": "2022-03-29T10:09:09.623Z"
   },
   {
    "duration": 10,
    "start_time": "2022-03-29T10:09:09.673Z"
   },
   {
    "duration": 7,
    "start_time": "2022-03-29T10:09:09.685Z"
   },
   {
    "duration": 3719,
    "start_time": "2022-03-29T10:09:09.694Z"
   },
   {
    "duration": 9,
    "start_time": "2022-03-29T10:09:13.415Z"
   },
   {
    "duration": 42,
    "start_time": "2022-03-29T10:09:13.426Z"
   },
   {
    "duration": 8,
    "start_time": "2022-03-29T10:09:13.478Z"
   },
   {
    "duration": 12,
    "start_time": "2022-03-29T10:09:13.489Z"
   },
   {
    "duration": 80,
    "start_time": "2022-03-29T10:26:17.185Z"
   },
   {
    "duration": 5,
    "start_time": "2022-03-29T10:31:30.423Z"
   },
   {
    "duration": 184,
    "start_time": "2022-03-29T10:31:30.431Z"
   },
   {
    "duration": 20,
    "start_time": "2022-03-29T10:31:30.617Z"
   },
   {
    "duration": 20,
    "start_time": "2022-03-29T10:31:30.670Z"
   },
   {
    "duration": 25,
    "start_time": "2022-03-29T10:31:30.692Z"
   },
   {
    "duration": 13,
    "start_time": "2022-03-29T10:31:30.719Z"
   },
   {
    "duration": 67,
    "start_time": "2022-03-29T10:31:30.769Z"
   },
   {
    "duration": 5,
    "start_time": "2022-03-29T10:31:30.838Z"
   },
   {
    "duration": 4,
    "start_time": "2022-03-29T10:31:30.870Z"
   },
   {
    "duration": 15,
    "start_time": "2022-03-29T10:31:30.876Z"
   },
   {
    "duration": 13,
    "start_time": "2022-03-29T10:31:30.893Z"
   },
   {
    "duration": 11,
    "start_time": "2022-03-29T10:31:30.908Z"
   },
   {
    "duration": 18,
    "start_time": "2022-03-29T10:31:30.922Z"
   },
   {
    "duration": 9,
    "start_time": "2022-03-29T10:31:30.967Z"
   },
   {
    "duration": 50,
    "start_time": "2022-03-29T10:31:30.978Z"
   },
   {
    "duration": 72,
    "start_time": "2022-03-29T10:31:31.031Z"
   },
   {
    "duration": 7,
    "start_time": "2022-03-29T10:31:31.106Z"
   },
   {
    "duration": 17,
    "start_time": "2022-03-29T10:31:31.115Z"
   },
   {
    "duration": 7,
    "start_time": "2022-03-29T10:31:31.135Z"
   },
   {
    "duration": 30,
    "start_time": "2022-03-29T10:31:31.145Z"
   },
   {
    "duration": 27,
    "start_time": "2022-03-29T10:31:31.177Z"
   },
   {
    "duration": 12,
    "start_time": "2022-03-29T10:31:31.206Z"
   },
   {
    "duration": 96,
    "start_time": "2022-03-29T10:31:31.221Z"
   },
   {
    "duration": 12,
    "start_time": "2022-03-29T10:31:31.323Z"
   },
   {
    "duration": 51,
    "start_time": "2022-03-29T10:31:31.337Z"
   },
   {
    "duration": 6,
    "start_time": "2022-03-29T10:31:31.390Z"
   },
   {
    "duration": 30,
    "start_time": "2022-03-29T10:31:31.398Z"
   },
   {
    "duration": 6,
    "start_time": "2022-03-29T10:31:31.431Z"
   },
   {
    "duration": 32,
    "start_time": "2022-03-29T10:31:31.439Z"
   },
   {
    "duration": 11,
    "start_time": "2022-03-29T10:31:31.474Z"
   },
   {
    "duration": 21,
    "start_time": "2022-03-29T10:31:31.487Z"
   },
   {
    "duration": 93,
    "start_time": "2022-03-29T10:31:31.510Z"
   },
   {
    "duration": 706,
    "start_time": "2022-03-29T10:31:31.606Z"
   },
   {
    "duration": 153,
    "start_time": "2022-03-29T10:31:32.314Z"
   },
   {
    "duration": 8,
    "start_time": "2022-03-29T10:31:32.469Z"
   },
   {
    "duration": 14,
    "start_time": "2022-03-29T10:31:32.479Z"
   },
   {
    "duration": 12,
    "start_time": "2022-03-29T10:31:32.495Z"
   },
   {
    "duration": 66,
    "start_time": "2022-03-29T10:31:32.509Z"
   },
   {
    "duration": 11,
    "start_time": "2022-03-29T10:31:32.577Z"
   },
   {
    "duration": 23,
    "start_time": "2022-03-29T10:31:32.590Z"
   },
   {
    "duration": 3016,
    "start_time": "2022-03-29T10:31:32.669Z"
   },
   {
    "duration": 12,
    "start_time": "2022-03-29T10:31:35.687Z"
   },
   {
    "duration": 285,
    "start_time": "2022-03-29T10:31:35.701Z"
   },
   {
    "duration": 13,
    "start_time": "2022-03-29T10:31:35.988Z"
   },
   {
    "duration": 13,
    "start_time": "2022-03-29T10:31:36.003Z"
   },
   {
    "duration": 12,
    "start_time": "2022-03-29T10:31:36.019Z"
   },
   {
    "duration": 12,
    "start_time": "2022-03-29T10:31:36.033Z"
   },
   {
    "duration": 35,
    "start_time": "2022-03-29T10:31:36.047Z"
   },
   {
    "duration": 3407,
    "start_time": "2022-03-29T10:31:36.084Z"
   },
   {
    "duration": 777,
    "start_time": "2022-03-29T10:31:39.493Z"
   },
   {
    "duration": 112,
    "start_time": "2022-03-29T10:31:40.272Z"
   },
   {
    "duration": 7081,
    "start_time": "2022-03-29T10:31:40.386Z"
   },
   {
    "duration": 6,
    "start_time": "2022-03-29T10:31:47.469Z"
   },
   {
    "duration": 1212,
    "start_time": "2022-03-29T10:31:47.477Z"
   },
   {
    "duration": 12,
    "start_time": "2022-03-29T10:31:48.691Z"
   },
   {
    "duration": 243,
    "start_time": "2022-03-29T10:31:48.706Z"
   },
   {
    "duration": 16,
    "start_time": "2022-03-29T10:31:48.952Z"
   },
   {
    "duration": 2184,
    "start_time": "2022-03-29T10:31:48.971Z"
   },
   {
    "duration": 6,
    "start_time": "2022-03-29T10:31:51.169Z"
   },
   {
    "duration": 101,
    "start_time": "2022-03-29T10:31:51.177Z"
   },
   {
    "duration": 211,
    "start_time": "2022-03-29T10:31:51.280Z"
   },
   {
    "duration": 7,
    "start_time": "2022-03-29T10:31:51.493Z"
   },
   {
    "duration": 22,
    "start_time": "2022-03-29T10:31:51.501Z"
   },
   {
    "duration": 6,
    "start_time": "2022-03-29T10:31:51.525Z"
   },
   {
    "duration": 40,
    "start_time": "2022-03-29T10:31:51.533Z"
   },
   {
    "duration": 284,
    "start_time": "2022-03-29T10:31:51.575Z"
   },
   {
    "duration": 12,
    "start_time": "2022-03-29T10:31:51.861Z"
   },
   {
    "duration": 41,
    "start_time": "2022-03-29T10:31:51.876Z"
   },
   {
    "duration": 249,
    "start_time": "2022-03-29T10:31:51.928Z"
   },
   {
    "duration": 37,
    "start_time": "2022-03-29T10:31:52.179Z"
   },
   {
    "duration": 27,
    "start_time": "2022-03-29T10:31:52.218Z"
   },
   {
    "duration": 17,
    "start_time": "2022-03-29T10:31:52.268Z"
   },
   {
    "duration": 3321,
    "start_time": "2022-03-29T10:31:52.287Z"
   },
   {
    "duration": 424,
    "start_time": "2022-03-29T10:31:55.610Z"
   },
   {
    "duration": 7,
    "start_time": "2022-03-29T10:31:56.037Z"
   },
   {
    "duration": 21,
    "start_time": "2022-03-29T10:31:56.046Z"
   },
   {
    "duration": 8,
    "start_time": "2022-03-29T10:31:56.069Z"
   },
   {
    "duration": 9,
    "start_time": "2022-03-29T10:31:56.079Z"
   },
   {
    "duration": 8,
    "start_time": "2022-03-29T10:31:56.090Z"
   },
   {
    "duration": 3727,
    "start_time": "2022-03-29T10:31:56.101Z"
   },
   {
    "duration": 9,
    "start_time": "2022-03-29T10:31:59.830Z"
   },
   {
    "duration": 30,
    "start_time": "2022-03-29T10:31:59.841Z"
   },
   {
    "duration": 10,
    "start_time": "2022-03-29T10:31:59.873Z"
   },
   {
    "duration": 9,
    "start_time": "2022-03-29T10:31:59.885Z"
   },
   {
    "duration": 48,
    "start_time": "2022-03-29T12:05:38.804Z"
   },
   {
    "duration": 1190,
    "start_time": "2022-03-29T12:05:41.751Z"
   },
   {
    "duration": 105,
    "start_time": "2022-03-29T12:05:42.943Z"
   },
   {
    "duration": 22,
    "start_time": "2022-03-29T12:05:43.050Z"
   },
   {
    "duration": 12,
    "start_time": "2022-03-29T12:05:43.074Z"
   },
   {
    "duration": 52,
    "start_time": "2022-03-29T12:05:43.088Z"
   },
   {
    "duration": 26,
    "start_time": "2022-03-29T12:05:43.141Z"
   },
   {
    "duration": 48,
    "start_time": "2022-03-29T12:05:43.169Z"
   },
   {
    "duration": 4,
    "start_time": "2022-03-29T12:05:43.219Z"
   },
   {
    "duration": 6,
    "start_time": "2022-03-29T12:05:43.224Z"
   },
   {
    "duration": 30,
    "start_time": "2022-03-29T12:05:43.233Z"
   },
   {
    "duration": 10,
    "start_time": "2022-03-29T12:05:43.264Z"
   },
   {
    "duration": 8,
    "start_time": "2022-03-29T12:05:43.276Z"
   },
   {
    "duration": 7,
    "start_time": "2022-03-29T12:05:43.286Z"
   },
   {
    "duration": 5,
    "start_time": "2022-03-29T12:05:43.294Z"
   },
   {
    "duration": 30,
    "start_time": "2022-03-29T12:05:43.300Z"
   },
   {
    "duration": 26,
    "start_time": "2022-03-29T12:05:43.364Z"
   },
   {
    "duration": 5,
    "start_time": "2022-03-29T12:05:43.392Z"
   },
   {
    "duration": 6,
    "start_time": "2022-03-29T12:05:43.398Z"
   },
   {
    "duration": 6,
    "start_time": "2022-03-29T12:05:43.406Z"
   },
   {
    "duration": 10,
    "start_time": "2022-03-29T12:05:43.414Z"
   },
   {
    "duration": 40,
    "start_time": "2022-03-29T12:05:43.426Z"
   },
   {
    "duration": 9,
    "start_time": "2022-03-29T12:05:43.468Z"
   },
   {
    "duration": 49,
    "start_time": "2022-03-29T12:05:43.479Z"
   },
   {
    "duration": 34,
    "start_time": "2022-03-29T12:05:43.530Z"
   },
   {
    "duration": 19,
    "start_time": "2022-03-29T12:05:43.566Z"
   },
   {
    "duration": 5,
    "start_time": "2022-03-29T12:05:43.586Z"
   },
   {
    "duration": 14,
    "start_time": "2022-03-29T12:05:43.593Z"
   },
   {
    "duration": 4,
    "start_time": "2022-03-29T12:05:43.611Z"
   },
   {
    "duration": 8,
    "start_time": "2022-03-29T12:05:43.616Z"
   },
   {
    "duration": 6,
    "start_time": "2022-03-29T12:05:43.626Z"
   },
   {
    "duration": 41,
    "start_time": "2022-03-29T12:05:43.633Z"
   },
   {
    "duration": 26,
    "start_time": "2022-03-29T12:05:43.675Z"
   },
   {
    "duration": 225,
    "start_time": "2022-03-29T12:05:43.702Z"
   },
   {
    "duration": 35,
    "start_time": "2022-03-29T12:05:43.928Z"
   },
   {
    "duration": 6,
    "start_time": "2022-03-29T12:05:43.964Z"
   },
   {
    "duration": 21,
    "start_time": "2022-03-29T12:05:43.971Z"
   },
   {
    "duration": 11,
    "start_time": "2022-03-29T12:05:43.994Z"
   },
   {
    "duration": 56,
    "start_time": "2022-03-29T12:05:44.007Z"
   },
   {
    "duration": 11,
    "start_time": "2022-03-29T12:05:44.065Z"
   },
   {
    "duration": 21,
    "start_time": "2022-03-29T12:05:44.077Z"
   },
   {
    "duration": 2194,
    "start_time": "2022-03-29T12:05:44.100Z"
   },
   {
    "duration": 12,
    "start_time": "2022-03-29T12:05:46.296Z"
   },
   {
    "duration": 348,
    "start_time": "2022-03-29T12:05:46.364Z"
   },
   {
    "duration": 11,
    "start_time": "2022-03-29T12:05:46.713Z"
   },
   {
    "duration": 11,
    "start_time": "2022-03-29T12:05:46.725Z"
   },
   {
    "duration": 8,
    "start_time": "2022-03-29T12:05:46.737Z"
   },
   {
    "duration": 9,
    "start_time": "2022-03-29T12:05:46.763Z"
   },
   {
    "duration": 19,
    "start_time": "2022-03-29T12:05:46.773Z"
   },
   {
    "duration": 18,
    "start_time": "2022-03-29T12:05:46.794Z"
   },
   {
    "duration": 1051,
    "start_time": "2022-03-29T12:05:46.814Z"
   },
   {
    "duration": 214,
    "start_time": "2022-03-29T12:05:47.866Z"
   },
   {
    "duration": 36,
    "start_time": "2022-03-29T12:05:48.081Z"
   },
   {
    "duration": 3769,
    "start_time": "2022-03-29T12:05:48.119Z"
   },
   {
    "duration": 4,
    "start_time": "2022-03-29T12:05:51.889Z"
   },
   {
    "duration": 652,
    "start_time": "2022-03-29T12:05:51.894Z"
   },
   {
    "duration": 20,
    "start_time": "2022-03-29T12:05:52.548Z"
   },
   {
    "duration": 140,
    "start_time": "2022-03-29T12:05:52.569Z"
   },
   {
    "duration": 4,
    "start_time": "2022-03-29T12:05:52.711Z"
   },
   {
    "duration": 1236,
    "start_time": "2022-03-29T12:05:52.717Z"
   },
   {
    "duration": 3,
    "start_time": "2022-03-29T12:05:53.963Z"
   },
   {
    "duration": 46,
    "start_time": "2022-03-29T12:05:53.967Z"
   },
   {
    "duration": 125,
    "start_time": "2022-03-29T12:05:54.015Z"
   },
   {
    "duration": 5,
    "start_time": "2022-03-29T12:05:54.141Z"
   },
   {
    "duration": 24,
    "start_time": "2022-03-29T12:05:54.148Z"
   },
   {
    "duration": 4,
    "start_time": "2022-03-29T12:05:54.174Z"
   },
   {
    "duration": 12,
    "start_time": "2022-03-29T12:05:54.180Z"
   },
   {
    "duration": 172,
    "start_time": "2022-03-29T12:05:54.193Z"
   },
   {
    "duration": 5,
    "start_time": "2022-03-29T12:05:54.367Z"
   },
   {
    "duration": 30,
    "start_time": "2022-03-29T12:05:54.373Z"
   },
   {
    "duration": 134,
    "start_time": "2022-03-29T12:05:54.404Z"
   },
   {
    "duration": 32,
    "start_time": "2022-03-29T12:05:54.539Z"
   },
   {
    "duration": 17,
    "start_time": "2022-03-29T12:05:54.572Z"
   },
   {
    "duration": 9,
    "start_time": "2022-03-29T12:05:54.591Z"
   },
   {
    "duration": 2056,
    "start_time": "2022-03-29T12:05:54.602Z"
   },
   {
    "duration": 250,
    "start_time": "2022-03-29T12:05:56.662Z"
   },
   {
    "duration": 6,
    "start_time": "2022-03-29T12:05:56.914Z"
   },
   {
    "duration": 9,
    "start_time": "2022-03-29T12:05:56.921Z"
   },
   {
    "duration": 6,
    "start_time": "2022-03-29T12:05:56.931Z"
   },
   {
    "duration": 25,
    "start_time": "2022-03-29T12:05:56.939Z"
   },
   {
    "duration": 4,
    "start_time": "2022-03-29T12:05:56.966Z"
   },
   {
    "duration": 2099,
    "start_time": "2022-03-29T12:05:56.971Z"
   },
   {
    "duration": 7,
    "start_time": "2022-03-29T12:05:59.077Z"
   },
   {
    "duration": 7,
    "start_time": "2022-03-29T12:05:59.085Z"
   },
   {
    "duration": 7,
    "start_time": "2022-03-29T12:05:59.094Z"
   },
   {
    "duration": 8,
    "start_time": "2022-03-29T12:05:59.103Z"
   },
   {
    "duration": 24,
    "start_time": "2022-03-29T12:06:31.805Z"
   },
   {
    "duration": 3,
    "start_time": "2022-03-29T12:06:35.793Z"
   },
   {
    "duration": 92,
    "start_time": "2022-03-29T12:06:35.800Z"
   },
   {
    "duration": 14,
    "start_time": "2022-03-29T12:06:35.894Z"
   },
   {
    "duration": 12,
    "start_time": "2022-03-29T12:06:35.910Z"
   },
   {
    "duration": 41,
    "start_time": "2022-03-29T12:06:35.925Z"
   },
   {
    "duration": 10,
    "start_time": "2022-03-29T12:06:35.967Z"
   },
   {
    "duration": 48,
    "start_time": "2022-03-29T12:06:35.978Z"
   },
   {
    "duration": 3,
    "start_time": "2022-03-29T12:06:36.028Z"
   },
   {
    "duration": 30,
    "start_time": "2022-03-29T12:06:36.033Z"
   },
   {
    "duration": 9,
    "start_time": "2022-03-29T12:06:36.065Z"
   },
   {
    "duration": 8,
    "start_time": "2022-03-29T12:06:36.077Z"
   },
   {
    "duration": 8,
    "start_time": "2022-03-29T12:06:36.087Z"
   },
   {
    "duration": 8,
    "start_time": "2022-03-29T12:06:36.097Z"
   },
   {
    "duration": 5,
    "start_time": "2022-03-29T12:06:36.106Z"
   },
   {
    "duration": 59,
    "start_time": "2022-03-29T12:06:36.113Z"
   },
   {
    "duration": 27,
    "start_time": "2022-03-29T12:06:36.174Z"
   },
   {
    "duration": 4,
    "start_time": "2022-03-29T12:06:36.203Z"
   },
   {
    "duration": 6,
    "start_time": "2022-03-29T12:06:36.209Z"
   },
   {
    "duration": 7,
    "start_time": "2022-03-29T12:06:36.216Z"
   },
   {
    "duration": 9,
    "start_time": "2022-03-29T12:06:36.224Z"
   },
   {
    "duration": 38,
    "start_time": "2022-03-29T12:06:36.235Z"
   },
   {
    "duration": 8,
    "start_time": "2022-03-29T12:06:36.275Z"
   },
   {
    "duration": 46,
    "start_time": "2022-03-29T12:06:36.285Z"
   },
   {
    "duration": 31,
    "start_time": "2022-03-29T12:06:36.332Z"
   },
   {
    "duration": 18,
    "start_time": "2022-03-29T12:06:36.365Z"
   },
   {
    "duration": 4,
    "start_time": "2022-03-29T12:06:36.385Z"
   },
   {
    "duration": 14,
    "start_time": "2022-03-29T12:06:36.391Z"
   },
   {
    "duration": 4,
    "start_time": "2022-03-29T12:06:36.407Z"
   },
   {
    "duration": 4,
    "start_time": "2022-03-29T12:06:36.414Z"
   },
   {
    "duration": 5,
    "start_time": "2022-03-29T12:06:36.420Z"
   },
   {
    "duration": 46,
    "start_time": "2022-03-29T12:06:36.426Z"
   },
   {
    "duration": 26,
    "start_time": "2022-03-29T12:06:36.474Z"
   },
   {
    "duration": 212,
    "start_time": "2022-03-29T12:06:36.502Z"
   },
   {
    "duration": 26,
    "start_time": "2022-03-29T12:06:36.716Z"
   },
   {
    "duration": 20,
    "start_time": "2022-03-29T12:06:36.744Z"
   },
   {
    "duration": 10,
    "start_time": "2022-03-29T12:06:36.765Z"
   },
   {
    "duration": 11,
    "start_time": "2022-03-29T12:06:36.777Z"
   },
   {
    "duration": 7,
    "start_time": "2022-03-29T12:06:36.789Z"
   },
   {
    "duration": 17,
    "start_time": "2022-03-29T12:06:36.798Z"
   },
   {
    "duration": 15,
    "start_time": "2022-03-29T12:06:36.816Z"
   },
   {
    "duration": 694,
    "start_time": "2022-03-29T12:06:36.833Z"
   },
   {
    "duration": 9,
    "start_time": "2022-03-29T12:06:37.529Z"
   },
   {
    "duration": 166,
    "start_time": "2022-03-29T12:06:37.539Z"
   },
   {
    "duration": 8,
    "start_time": "2022-03-29T12:06:37.707Z"
   },
   {
    "duration": 8,
    "start_time": "2022-03-29T12:06:37.717Z"
   },
   {
    "duration": 8,
    "start_time": "2022-03-29T12:06:37.726Z"
   },
   {
    "duration": 8,
    "start_time": "2022-03-29T12:06:37.735Z"
   },
   {
    "duration": 15,
    "start_time": "2022-03-29T12:06:37.762Z"
   },
   {
    "duration": 21,
    "start_time": "2022-03-29T12:06:37.779Z"
   },
   {
    "duration": 27,
    "start_time": "2022-03-29T12:09:23.397Z"
   },
   {
    "duration": 32,
    "start_time": "2022-03-29T12:10:01.130Z"
   },
   {
    "duration": 118,
    "start_time": "2022-03-29T12:13:17.707Z"
   },
   {
    "duration": 61,
    "start_time": "2022-04-02T15:19:39.374Z"
   },
   {
    "duration": 1402,
    "start_time": "2022-04-02T15:22:58.379Z"
   },
   {
    "duration": 136,
    "start_time": "2022-04-02T15:23:02.420Z"
   },
   {
    "duration": 16,
    "start_time": "2022-04-02T15:23:06.835Z"
   },
   {
    "duration": 15,
    "start_time": "2022-04-02T15:23:13.189Z"
   },
   {
    "duration": 64,
    "start_time": "2022-04-02T15:23:18.470Z"
   },
   {
    "duration": 13,
    "start_time": "2022-04-02T15:23:29.917Z"
   },
   {
    "duration": 49,
    "start_time": "2022-04-02T15:23:36.338Z"
   },
   {
    "duration": 3,
    "start_time": "2022-04-02T15:23:40.982Z"
   },
   {
    "duration": 3,
    "start_time": "2022-04-02T15:23:43.963Z"
   },
   {
    "duration": 5,
    "start_time": "2022-04-02T15:23:47.668Z"
   },
   {
    "duration": 9,
    "start_time": "2022-04-02T15:23:50.675Z"
   },
   {
    "duration": 11,
    "start_time": "2022-04-02T15:23:54.892Z"
   },
   {
    "duration": 13,
    "start_time": "2022-04-02T15:23:57.915Z"
   },
   {
    "duration": 5,
    "start_time": "2022-04-02T15:24:01.563Z"
   },
   {
    "duration": 44,
    "start_time": "2022-04-02T15:24:08.621Z"
   },
   {
    "duration": 39,
    "start_time": "2022-04-02T15:24:15.028Z"
   },
   {
    "duration": 5,
    "start_time": "2022-04-02T15:24:22.566Z"
   },
   {
    "duration": 10,
    "start_time": "2022-04-02T15:24:26.423Z"
   },
   {
    "duration": 5,
    "start_time": "2022-04-02T15:24:36.661Z"
   },
   {
    "duration": 5,
    "start_time": "2022-04-02T15:24:40.676Z"
   },
   {
    "duration": 14,
    "start_time": "2022-04-02T15:24:44.957Z"
   },
   {
    "duration": 10,
    "start_time": "2022-04-02T15:24:48.180Z"
   },
   {
    "duration": 63,
    "start_time": "2022-04-02T15:24:51.765Z"
   },
   {
    "duration": 8,
    "start_time": "2022-04-02T15:24:55.385Z"
   },
   {
    "duration": 20,
    "start_time": "2022-04-02T15:25:01.179Z"
   },
   {
    "duration": 7,
    "start_time": "2022-04-02T15:25:03.709Z"
   },
   {
    "duration": 20,
    "start_time": "2022-04-02T15:25:08.525Z"
   },
   {
    "duration": 5,
    "start_time": "2022-04-02T15:25:12.653Z"
   },
   {
    "duration": 5,
    "start_time": "2022-04-02T15:25:19.036Z"
   },
   {
    "duration": 4,
    "start_time": "2022-04-02T15:25:22.738Z"
   },
   {
    "duration": 14,
    "start_time": "2022-04-02T15:25:25.365Z"
   },
   {
    "duration": 27,
    "start_time": "2022-04-02T15:25:31.172Z"
   },
   {
    "duration": 251,
    "start_time": "2022-04-02T15:25:35.782Z"
   },
   {
    "duration": 29,
    "start_time": "2022-04-02T15:25:39.837Z"
   },
   {
    "duration": 6,
    "start_time": "2022-04-02T15:25:43.509Z"
   },
   {
    "duration": 11,
    "start_time": "2022-04-02T15:25:45.995Z"
   },
   {
    "duration": 11,
    "start_time": "2022-04-02T15:25:50.192Z"
   },
   {
    "duration": 12,
    "start_time": "2022-04-02T15:25:53.708Z"
   },
   {
    "duration": 10,
    "start_time": "2022-04-02T15:25:57.093Z"
   },
   {
    "duration": 20,
    "start_time": "2022-04-02T15:26:01.994Z"
   },
   {
    "duration": 918,
    "start_time": "2022-04-02T15:26:07.578Z"
   },
   {
    "duration": 1035,
    "start_time": "2022-04-02T15:28:01.897Z"
   },
   {
    "duration": 921,
    "start_time": "2022-04-02T15:29:26.368Z"
   },
   {
    "duration": 259,
    "start_time": "2022-04-02T15:31:31.424Z"
   },
   {
    "duration": 935,
    "start_time": "2022-04-02T15:31:43.848Z"
   },
   {
    "duration": 919,
    "start_time": "2022-04-02T15:32:08.342Z"
   },
   {
    "duration": 71,
    "start_time": "2022-04-02T15:38:15.606Z"
   },
   {
    "duration": 882,
    "start_time": "2022-04-02T15:38:39.103Z"
   },
   {
    "duration": 841,
    "start_time": "2022-04-02T15:41:45.842Z"
   },
   {
    "duration": 1050,
    "start_time": "2022-04-02T15:46:19.529Z"
   },
   {
    "duration": 953,
    "start_time": "2022-04-02T15:48:42.402Z"
   },
   {
    "duration": 906,
    "start_time": "2022-04-02T15:54:18.248Z"
   },
   {
    "duration": 74,
    "start_time": "2022-04-02T16:06:15.831Z"
   },
   {
    "duration": 59,
    "start_time": "2022-04-02T16:09:27.845Z"
   },
   {
    "duration": 60,
    "start_time": "2022-04-02T16:21:47.065Z"
   },
   {
    "duration": 63,
    "start_time": "2022-04-02T16:22:06.550Z"
   },
   {
    "duration": 61,
    "start_time": "2022-04-02T16:44:58.017Z"
   },
   {
    "duration": 75,
    "start_time": "2022-04-02T16:46:57.650Z"
   },
   {
    "duration": 56,
    "start_time": "2022-04-02T16:47:43.960Z"
   },
   {
    "duration": 9,
    "start_time": "2022-04-02T16:54:02.690Z"
   },
   {
    "duration": 188,
    "start_time": "2022-04-02T16:54:06.488Z"
   },
   {
    "duration": 10,
    "start_time": "2022-04-02T17:06:56.484Z"
   },
   {
    "duration": 11,
    "start_time": "2022-04-02T17:07:05.354Z"
   },
   {
    "duration": 9,
    "start_time": "2022-04-02T17:07:08.009Z"
   },
   {
    "duration": 9,
    "start_time": "2022-04-02T17:07:10.972Z"
   },
   {
    "duration": 16,
    "start_time": "2022-04-02T17:07:14.882Z"
   },
   {
    "duration": 28,
    "start_time": "2022-04-02T17:07:20.337Z"
   },
   {
    "duration": 1157,
    "start_time": "2022-04-02T17:07:29.688Z"
   },
   {
    "duration": 1268,
    "start_time": "2022-04-02T17:08:04.679Z"
   },
   {
    "duration": 239,
    "start_time": "2022-04-02T17:14:30.426Z"
   },
   {
    "duration": 1437,
    "start_time": "2022-04-04T06:21:31.198Z"
   },
   {
    "duration": 101,
    "start_time": "2022-04-04T06:21:34.665Z"
   },
   {
    "duration": 16,
    "start_time": "2022-04-04T06:21:40.537Z"
   },
   {
    "duration": 15,
    "start_time": "2022-04-04T06:21:45.678Z"
   },
   {
    "duration": 54,
    "start_time": "2022-04-04T06:21:52.545Z"
   },
   {
    "duration": 9,
    "start_time": "2022-04-04T06:21:56.592Z"
   },
   {
    "duration": 49,
    "start_time": "2022-04-04T06:22:06.170Z"
   },
   {
    "duration": 4,
    "start_time": "2022-04-04T06:22:09.897Z"
   },
   {
    "duration": 2,
    "start_time": "2022-04-04T06:22:12.505Z"
   },
   {
    "duration": 5,
    "start_time": "2022-04-04T06:22:17.320Z"
   },
   {
    "duration": 8,
    "start_time": "2022-04-04T06:22:19.762Z"
   },
   {
    "duration": 10,
    "start_time": "2022-04-04T06:22:23.778Z"
   },
   {
    "duration": 9,
    "start_time": "2022-04-04T06:22:27.105Z"
   },
   {
    "duration": 6,
    "start_time": "2022-04-04T06:22:30.729Z"
   },
   {
    "duration": 32,
    "start_time": "2022-04-04T06:22:37.124Z"
   },
   {
    "duration": 27,
    "start_time": "2022-04-04T06:22:42.395Z"
   },
   {
    "duration": 5,
    "start_time": "2022-04-04T06:22:47.754Z"
   },
   {
    "duration": 6,
    "start_time": "2022-04-04T06:22:50.041Z"
   },
   {
    "duration": 4,
    "start_time": "2022-04-04T06:22:53.719Z"
   },
   {
    "duration": 5,
    "start_time": "2022-04-04T06:23:00.802Z"
   },
   {
    "duration": 9,
    "start_time": "2022-04-04T06:23:06.506Z"
   },
   {
    "duration": 53,
    "start_time": "2022-04-04T06:23:12.763Z"
   },
   {
    "duration": 8,
    "start_time": "2022-04-04T06:23:16.577Z"
   },
   {
    "duration": 20,
    "start_time": "2022-04-04T06:23:22.154Z"
   },
   {
    "duration": 5,
    "start_time": "2022-04-04T06:23:25.315Z"
   },
   {
    "duration": 15,
    "start_time": "2022-04-04T06:23:29.206Z"
   },
   {
    "duration": 5,
    "start_time": "2022-04-04T06:23:33.516Z"
   },
   {
    "duration": 5,
    "start_time": "2022-04-04T06:23:36.164Z"
   },
   {
    "duration": 4,
    "start_time": "2022-04-04T06:23:39.147Z"
   },
   {
    "duration": 13,
    "start_time": "2022-04-04T06:23:44.715Z"
   },
   {
    "duration": 28,
    "start_time": "2022-04-04T06:23:52.243Z"
   },
   {
    "duration": 203,
    "start_time": "2022-04-04T06:23:59.701Z"
   },
   {
    "duration": 28,
    "start_time": "2022-04-04T06:24:04.020Z"
   },
   {
    "duration": 6,
    "start_time": "2022-04-04T06:24:08.219Z"
   },
   {
    "duration": 11,
    "start_time": "2022-04-04T06:24:12.826Z"
   },
   {
    "duration": 9,
    "start_time": "2022-04-04T06:24:22.658Z"
   },
   {
    "duration": 9,
    "start_time": "2022-04-04T06:24:26.959Z"
   },
   {
    "duration": 9,
    "start_time": "2022-04-04T06:24:30.843Z"
   },
   {
    "duration": 16,
    "start_time": "2022-04-04T06:24:37.317Z"
   },
   {
    "duration": 773,
    "start_time": "2022-04-04T06:24:43.829Z"
   },
   {
    "duration": 9,
    "start_time": "2022-04-04T06:24:54.069Z"
   },
   {
    "duration": 184,
    "start_time": "2022-04-04T06:24:57.686Z"
   },
   {
    "duration": 107,
    "start_time": "2022-04-04T06:32:26.658Z"
   },
   {
    "duration": 106,
    "start_time": "2022-04-04T06:38:05.693Z"
   },
   {
    "duration": 97,
    "start_time": "2022-04-04T06:41:12.566Z"
   },
   {
    "duration": 9,
    "start_time": "2022-04-04T06:42:11.753Z"
   },
   {
    "duration": 37,
    "start_time": "2022-04-04T06:47:58.157Z"
   },
   {
    "duration": 17,
    "start_time": "2022-04-04T06:53:28.645Z"
   },
   {
    "duration": 1104,
    "start_time": "2022-04-04T06:53:55.017Z"
   },
   {
    "duration": 196,
    "start_time": "2022-04-04T07:00:15.145Z"
   },
   {
    "duration": 162,
    "start_time": "2022-04-04T07:06:08.254Z"
   },
   {
    "duration": 3,
    "start_time": "2022-04-04T07:06:22.507Z"
   },
   {
    "duration": 1032,
    "start_time": "2022-04-04T08:43:15.361Z"
   },
   {
    "duration": 1146,
    "start_time": "2022-04-04T09:03:11.580Z"
   },
   {
    "duration": 104,
    "start_time": "2022-04-04T09:03:16.977Z"
   },
   {
    "duration": 16,
    "start_time": "2022-04-04T09:03:20.389Z"
   },
   {
    "duration": 13,
    "start_time": "2022-04-04T09:03:25.954Z"
   },
   {
    "duration": 55,
    "start_time": "2022-04-04T09:03:31.302Z"
   },
   {
    "duration": 9,
    "start_time": "2022-04-04T09:03:37.939Z"
   },
   {
    "duration": 49,
    "start_time": "2022-04-04T09:03:41.503Z"
   },
   {
    "duration": 3,
    "start_time": "2022-04-04T09:03:45.561Z"
   },
   {
    "duration": 3,
    "start_time": "2022-04-04T09:03:49.951Z"
   },
   {
    "duration": 5,
    "start_time": "2022-04-04T09:03:54.335Z"
   },
   {
    "duration": 8,
    "start_time": "2022-04-04T09:03:57.072Z"
   },
   {
    "duration": 9,
    "start_time": "2022-04-04T09:04:01.494Z"
   },
   {
    "duration": 9,
    "start_time": "2022-04-04T09:04:05.521Z"
   },
   {
    "duration": 9,
    "start_time": "2022-04-04T09:04:09.334Z"
   },
   {
    "duration": 31,
    "start_time": "2022-04-04T09:04:16.105Z"
   },
   {
    "duration": 27,
    "start_time": "2022-04-04T09:04:21.063Z"
   },
   {
    "duration": 5,
    "start_time": "2022-04-04T09:04:24.745Z"
   },
   {
    "duration": 6,
    "start_time": "2022-04-04T09:04:27.953Z"
   },
   {
    "duration": 7,
    "start_time": "2022-04-04T09:04:31.374Z"
   },
   {
    "duration": 5,
    "start_time": "2022-04-04T09:04:34.815Z"
   },
   {
    "duration": 14,
    "start_time": "2022-04-04T09:04:37.458Z"
   },
   {
    "duration": 9,
    "start_time": "2022-04-04T09:04:40.798Z"
   },
   {
    "duration": 58,
    "start_time": "2022-04-04T09:04:43.929Z"
   },
   {
    "duration": 8,
    "start_time": "2022-04-04T09:04:47.410Z"
   },
   {
    "duration": 19,
    "start_time": "2022-04-04T09:04:53.884Z"
   },
   {
    "duration": 4,
    "start_time": "2022-04-04T09:04:56.871Z"
   },
   {
    "duration": 15,
    "start_time": "2022-04-04T09:05:01.136Z"
   },
   {
    "duration": 4,
    "start_time": "2022-04-04T09:05:05.950Z"
   },
   {
    "duration": 5,
    "start_time": "2022-04-04T09:05:08.446Z"
   },
   {
    "duration": 4,
    "start_time": "2022-04-04T09:05:11.946Z"
   },
   {
    "duration": 13,
    "start_time": "2022-04-04T09:05:14.649Z"
   },
   {
    "duration": 27,
    "start_time": "2022-04-04T09:05:20.161Z"
   },
   {
    "duration": 228,
    "start_time": "2022-04-04T09:05:25.787Z"
   },
   {
    "duration": 29,
    "start_time": "2022-04-04T09:05:29.960Z"
   },
   {
    "duration": 5,
    "start_time": "2022-04-04T09:05:33.423Z"
   },
   {
    "duration": 10,
    "start_time": "2022-04-04T09:05:36.824Z"
   },
   {
    "duration": 8,
    "start_time": "2022-04-04T09:05:40.360Z"
   },
   {
    "duration": 8,
    "start_time": "2022-04-04T09:05:43.383Z"
   },
   {
    "duration": 9,
    "start_time": "2022-04-04T09:05:46.696Z"
   },
   {
    "duration": 15,
    "start_time": "2022-04-04T09:05:49.967Z"
   },
   {
    "duration": 825,
    "start_time": "2022-04-04T09:05:54.952Z"
   },
   {
    "duration": 12,
    "start_time": "2022-04-04T09:06:07.313Z"
   },
   {
    "duration": 201,
    "start_time": "2022-04-04T09:06:11.346Z"
   },
   {
    "duration": 113,
    "start_time": "2022-04-04T09:06:18.667Z"
   },
   {
    "duration": 36,
    "start_time": "2022-04-04T09:06:25.104Z"
   },
   {
    "duration": 1601,
    "start_time": "2022-04-04T09:06:59.258Z"
   },
   {
    "duration": 211,
    "start_time": "2022-04-04T09:07:07.790Z"
   },
   {
    "duration": 227,
    "start_time": "2022-04-04T09:10:31.811Z"
   },
   {
    "duration": 602,
    "start_time": "2022-04-04T09:11:08.423Z"
   },
   {
    "duration": 334,
    "start_time": "2022-04-04T09:19:27.957Z"
   },
   {
    "duration": 714,
    "start_time": "2022-04-04T09:19:31.364Z"
   },
   {
    "duration": 126,
    "start_time": "2022-04-04T09:24:08.163Z"
   },
   {
    "duration": 988,
    "start_time": "2022-04-04T09:24:53.360Z"
   },
   {
    "duration": 747,
    "start_time": "2022-04-04T09:25:20.758Z"
   },
   {
    "duration": 124,
    "start_time": "2022-04-04T09:29:58.147Z"
   },
   {
    "duration": 122,
    "start_time": "2022-04-04T09:30:16.189Z"
   },
   {
    "duration": 666,
    "start_time": "2022-04-04T09:32:19.293Z"
   },
   {
    "duration": 861,
    "start_time": "2022-04-04T09:36:05.850Z"
   },
   {
    "duration": 1046,
    "start_time": "2022-04-04T09:36:53.420Z"
   },
   {
    "duration": 669,
    "start_time": "2022-04-04T09:37:27.988Z"
   },
   {
    "duration": 777,
    "start_time": "2022-04-04T09:39:42.590Z"
   },
   {
    "duration": 544,
    "start_time": "2022-04-04T09:40:40.157Z"
   },
   {
    "duration": 524,
    "start_time": "2022-04-04T09:41:10.479Z"
   },
   {
    "duration": 138,
    "start_time": "2022-04-04T09:41:21.136Z"
   },
   {
    "duration": 799,
    "start_time": "2022-04-04T09:41:30.939Z"
   },
   {
    "duration": 689,
    "start_time": "2022-04-04T09:43:30.474Z"
   },
   {
    "duration": 666,
    "start_time": "2022-04-04T09:44:00.993Z"
   },
   {
    "duration": 766,
    "start_time": "2022-04-04T09:45:26.009Z"
   },
   {
    "duration": 178,
    "start_time": "2022-04-04T09:48:46.430Z"
   },
   {
    "duration": 9,
    "start_time": "2022-04-04T09:55:44.310Z"
   },
   {
    "duration": 10,
    "start_time": "2022-04-04T09:59:11.459Z"
   },
   {
    "duration": 170,
    "start_time": "2022-04-04T09:59:20.363Z"
   },
   {
    "duration": 121,
    "start_time": "2022-04-04T10:01:14.230Z"
   },
   {
    "duration": 240,
    "start_time": "2022-04-04T10:05:55.908Z"
   },
   {
    "duration": 713,
    "start_time": "2022-04-04T10:10:17.661Z"
   },
   {
    "duration": 690,
    "start_time": "2022-04-04T10:12:50.283Z"
   },
   {
    "duration": 964,
    "start_time": "2022-04-04T10:13:17.879Z"
   },
   {
    "duration": 1144,
    "start_time": "2022-04-04T10:13:43.311Z"
   },
   {
    "duration": 1091,
    "start_time": "2022-04-04T10:15:39.420Z"
   },
   {
    "duration": 998,
    "start_time": "2022-04-04T10:17:40.344Z"
   },
   {
    "duration": 969,
    "start_time": "2022-04-04T10:18:44.913Z"
   },
   {
    "duration": 844,
    "start_time": "2022-04-04T10:19:20.635Z"
   },
   {
    "duration": 5,
    "start_time": "2022-04-04T10:21:09.072Z"
   },
   {
    "duration": 1977,
    "start_time": "2022-04-04T10:21:12.912Z"
   },
   {
    "duration": 15,
    "start_time": "2022-04-04T10:22:32.955Z"
   },
   {
    "duration": 307,
    "start_time": "2022-04-04T10:23:13.644Z"
   },
   {
    "duration": 423,
    "start_time": "2022-04-04T10:25:58.846Z"
   },
   {
    "duration": 440,
    "start_time": "2022-04-04T10:27:32.400Z"
   },
   {
    "duration": 476,
    "start_time": "2022-04-04T10:29:17.523Z"
   },
   {
    "duration": 6,
    "start_time": "2022-04-04T10:31:58.744Z"
   },
   {
    "duration": 15,
    "start_time": "2022-04-04T10:32:20.181Z"
   },
   {
    "duration": 5,
    "start_time": "2022-04-04T10:32:26.780Z"
   },
   {
    "duration": 8,
    "start_time": "2022-04-04T10:32:35.466Z"
   },
   {
    "duration": 287,
    "start_time": "2022-04-04T10:32:45.051Z"
   },
   {
    "duration": 188,
    "start_time": "2022-04-04T10:34:31.767Z"
   },
   {
    "duration": 3,
    "start_time": "2022-04-04T10:36:13.482Z"
   },
   {
    "duration": 9,
    "start_time": "2022-04-04T10:36:33.473Z"
   },
   {
    "duration": 8,
    "start_time": "2022-04-04T10:36:48.344Z"
   },
   {
    "duration": 2,
    "start_time": "2022-04-04T10:36:51.385Z"
   },
   {
    "duration": 26,
    "start_time": "2022-04-04T10:36:54.352Z"
   },
   {
    "duration": 138,
    "start_time": "2022-04-04T10:37:55.954Z"
   },
   {
    "duration": 30,
    "start_time": "2022-04-04T10:39:15.653Z"
   },
   {
    "duration": 20,
    "start_time": "2022-04-04T10:40:18.089Z"
   },
   {
    "duration": 18,
    "start_time": "2022-04-04T10:40:48.446Z"
   },
   {
    "duration": 3297,
    "start_time": "2022-04-04T10:40:56.109Z"
   },
   {
    "duration": 263,
    "start_time": "2022-04-04T10:41:49.046Z"
   },
   {
    "duration": 7,
    "start_time": "2022-04-04T10:42:09.287Z"
   },
   {
    "duration": 6,
    "start_time": "2022-04-04T10:42:31.895Z"
   },
   {
    "duration": 5,
    "start_time": "2022-04-04T10:42:37.971Z"
   },
   {
    "duration": 5,
    "start_time": "2022-04-04T10:42:41.957Z"
   },
   {
    "duration": 5,
    "start_time": "2022-04-04T10:42:53.422Z"
   },
   {
    "duration": 3279,
    "start_time": "2022-04-04T10:43:11.208Z"
   },
   {
    "duration": 1904,
    "start_time": "2022-04-06T07:47:07.924Z"
   },
   {
    "duration": 160,
    "start_time": "2022-04-06T07:47:10.835Z"
   },
   {
    "duration": 23,
    "start_time": "2022-04-06T07:47:19.884Z"
   },
   {
    "duration": 86,
    "start_time": "2022-04-06T07:47:29.283Z"
   },
   {
    "duration": 14,
    "start_time": "2022-04-06T07:47:40.321Z"
   },
   {
    "duration": 13,
    "start_time": "2022-04-06T07:48:43.485Z"
   },
   {
    "duration": 83,
    "start_time": "2022-04-06T07:48:47.895Z"
   },
   {
    "duration": 6,
    "start_time": "2022-04-06T07:48:54.323Z"
   },
   {
    "duration": 5,
    "start_time": "2022-04-06T07:48:57.961Z"
   },
   {
    "duration": 7,
    "start_time": "2022-04-06T07:49:03.499Z"
   },
   {
    "duration": 14,
    "start_time": "2022-04-06T07:49:06.987Z"
   },
   {
    "duration": 14,
    "start_time": "2022-04-06T07:49:11.607Z"
   },
   {
    "duration": 14,
    "start_time": "2022-04-06T07:49:15.968Z"
   },
   {
    "duration": 9,
    "start_time": "2022-04-06T07:49:20.187Z"
   },
   {
    "duration": 56,
    "start_time": "2022-04-06T07:49:26.987Z"
   },
   {
    "duration": 43,
    "start_time": "2022-04-06T07:49:33.967Z"
   },
   {
    "duration": 7,
    "start_time": "2022-04-06T07:49:40.314Z"
   },
   {
    "duration": 8,
    "start_time": "2022-04-06T07:49:43.860Z"
   },
   {
    "duration": 7,
    "start_time": "2022-04-06T07:49:48.589Z"
   },
   {
    "duration": 9,
    "start_time": "2022-04-06T07:49:56.984Z"
   },
   {
    "duration": 22,
    "start_time": "2022-04-06T07:50:07.430Z"
   },
   {
    "duration": 13,
    "start_time": "2022-04-06T07:50:11.966Z"
   },
   {
    "duration": 83,
    "start_time": "2022-04-06T07:50:21.710Z"
   },
   {
    "duration": 12,
    "start_time": "2022-04-06T07:50:30.463Z"
   },
   {
    "duration": 31,
    "start_time": "2022-04-06T07:50:39.983Z"
   },
   {
    "duration": 8,
    "start_time": "2022-04-06T07:50:44.174Z"
   },
   {
    "duration": 20,
    "start_time": "2022-04-06T07:50:54.997Z"
   },
   {
    "duration": 6,
    "start_time": "2022-04-06T07:51:00.503Z"
   },
   {
    "duration": 6,
    "start_time": "2022-04-06T07:51:03.878Z"
   },
   {
    "duration": 5,
    "start_time": "2022-04-06T07:51:06.587Z"
   },
   {
    "duration": 20,
    "start_time": "2022-04-06T07:51:10.422Z"
   },
   {
    "duration": 47,
    "start_time": "2022-04-06T07:51:36.657Z"
   },
   {
    "duration": 582,
    "start_time": "2022-04-06T07:52:05.737Z"
   },
   {
    "duration": 48,
    "start_time": "2022-04-06T07:52:34.326Z"
   },
   {
    "duration": 8,
    "start_time": "2022-04-06T07:52:43.201Z"
   },
   {
    "duration": 16,
    "start_time": "2022-04-06T07:52:54.369Z"
   },
   {
    "duration": 12,
    "start_time": "2022-04-06T07:53:13.441Z"
   },
   {
    "duration": 12,
    "start_time": "2022-04-06T07:53:17.130Z"
   },
   {
    "duration": 11,
    "start_time": "2022-04-06T07:53:20.769Z"
   },
   {
    "duration": 23,
    "start_time": "2022-04-06T07:53:39.050Z"
   },
   {
    "duration": 1369,
    "start_time": "2022-04-06T07:54:02.864Z"
   },
   {
    "duration": 14,
    "start_time": "2022-04-06T07:54:26.467Z"
   },
   {
    "duration": 328,
    "start_time": "2022-04-06T07:54:40.388Z"
   },
   {
    "duration": 180,
    "start_time": "2022-04-06T08:01:33.080Z"
   },
   {
    "duration": 151,
    "start_time": "2022-04-06T08:02:07.102Z"
   },
   {
    "duration": 23,
    "start_time": "2022-04-06T08:03:43.563Z"
   },
   {
    "duration": 178,
    "start_time": "2022-04-06T08:04:29.709Z"
   },
   {
    "duration": 53,
    "start_time": "2022-04-06T08:04:42.702Z"
   },
   {
    "duration": 266,
    "start_time": "2022-04-06T08:15:16.620Z"
   },
   {
    "duration": 51,
    "start_time": "2022-04-06T08:15:38.138Z"
   },
   {
    "duration": 1855,
    "start_time": "2022-04-06T08:16:59.623Z"
   },
   {
    "duration": 352,
    "start_time": "2022-04-06T08:17:35.981Z"
   },
   {
    "duration": 104,
    "start_time": "2022-04-06T08:17:58.060Z"
   },
   {
    "duration": 6451,
    "start_time": "2022-04-06T08:18:19.546Z"
   },
   {
    "duration": 5,
    "start_time": "2022-04-06T08:18:49.589Z"
   },
   {
    "duration": 1909,
    "start_time": "2022-04-06T08:18:57.517Z"
   },
   {
    "duration": 557,
    "start_time": "2022-04-06T08:25:04.566Z"
   },
   {
    "duration": 1467,
    "start_time": "2022-04-06T08:26:31.756Z"
   },
   {
    "duration": 14,
    "start_time": "2022-04-06T08:27:39.455Z"
   },
   {
    "duration": 13,
    "start_time": "2022-04-06T08:27:49.863Z"
   },
   {
    "duration": 296,
    "start_time": "2022-04-06T08:28:01.049Z"
   },
   {
    "duration": 7,
    "start_time": "2022-04-06T08:30:05.321Z"
   },
   {
    "duration": 3018,
    "start_time": "2022-04-06T08:30:13.607Z"
   },
   {
    "duration": 931,
    "start_time": "2022-04-06T08:31:38.838Z"
   },
   {
    "duration": 383,
    "start_time": "2022-04-06T08:37:56.571Z"
   },
   {
    "duration": 743,
    "start_time": "2022-04-06T08:39:35.141Z"
   },
   {
    "duration": 392,
    "start_time": "2022-04-06T08:39:48.607Z"
   },
   {
    "duration": 7,
    "start_time": "2022-04-06T08:41:53.458Z"
   },
   {
    "duration": 25,
    "start_time": "2022-04-06T08:42:12.607Z"
   },
   {
    "duration": 6,
    "start_time": "2022-04-06T08:42:25.831Z"
   },
   {
    "duration": 11,
    "start_time": "2022-04-06T08:42:34.168Z"
   },
   {
    "duration": 345,
    "start_time": "2022-04-06T08:42:45.591Z"
   },
   {
    "duration": 9,
    "start_time": "2022-04-06T08:58:08.871Z"
   },
   {
    "duration": 4,
    "start_time": "2022-04-06T08:58:17.110Z"
   },
   {
    "duration": 41,
    "start_time": "2022-04-06T08:58:22.952Z"
   },
   {
    "duration": 356,
    "start_time": "2022-04-06T09:07:39.122Z"
   },
   {
    "duration": 46,
    "start_time": "2022-04-06T09:08:54.559Z"
   },
   {
    "duration": 30,
    "start_time": "2022-04-06T09:10:55.336Z"
   },
   {
    "duration": 45,
    "start_time": "2022-04-06T09:11:04.028Z"
   },
   {
    "duration": 30,
    "start_time": "2022-04-06T09:11:08.157Z"
   },
   {
    "duration": 24,
    "start_time": "2022-04-06T09:11:23.902Z"
   },
   {
    "duration": 5591,
    "start_time": "2022-04-06T09:11:30.045Z"
   },
   {
    "duration": 406,
    "start_time": "2022-04-06T09:11:51.426Z"
   },
   {
    "duration": 591,
    "start_time": "2022-04-06T09:17:04.128Z"
   },
   {
    "duration": 10,
    "start_time": "2022-04-06T09:19:45.440Z"
   },
   {
    "duration": 8,
    "start_time": "2022-04-06T09:20:07.147Z"
   },
   {
    "duration": 8,
    "start_time": "2022-04-06T09:20:10.857Z"
   },
   {
    "duration": 8,
    "start_time": "2022-04-06T09:20:14.861Z"
   },
   {
    "duration": 5,
    "start_time": "2022-04-06T09:20:25.160Z"
   },
   {
    "duration": 6,
    "start_time": "2022-04-06T09:21:22.485Z"
   },
   {
    "duration": 3474,
    "start_time": "2022-04-06T09:22:19.528Z"
   },
   {
    "duration": 10,
    "start_time": "2022-04-06T09:22:59.150Z"
   },
   {
    "duration": 8,
    "start_time": "2022-04-06T09:29:53.842Z"
   },
   {
    "duration": 7,
    "start_time": "2022-04-06T09:30:14.554Z"
   },
   {
    "duration": 8,
    "start_time": "2022-04-06T09:30:39.697Z"
   },
   {
    "duration": 8,
    "start_time": "2022-04-06T09:32:52.109Z"
   },
   {
    "duration": 257,
    "start_time": "2022-04-06T09:37:02.720Z"
   },
   {
    "duration": 264,
    "start_time": "2022-04-06T09:38:59.248Z"
   },
   {
    "duration": 246,
    "start_time": "2022-04-06T09:40:26.531Z"
   },
   {
    "duration": 282,
    "start_time": "2022-04-06T09:41:56.603Z"
   },
   {
    "duration": 294,
    "start_time": "2022-04-06T09:43:17.883Z"
   },
   {
    "duration": 250,
    "start_time": "2022-04-06T09:43:39.965Z"
   },
   {
    "duration": 251,
    "start_time": "2022-04-06T09:44:20.522Z"
   },
   {
    "duration": 295,
    "start_time": "2022-04-06T09:47:24.701Z"
   },
   {
    "duration": 284,
    "start_time": "2022-04-06T09:47:46.921Z"
   },
   {
    "duration": 271,
    "start_time": "2022-04-06T09:48:20.917Z"
   },
   {
    "duration": 468,
    "start_time": "2022-04-06T09:48:39.215Z"
   },
   {
    "duration": 434,
    "start_time": "2022-04-06T09:52:26.457Z"
   },
   {
    "duration": 296,
    "start_time": "2022-04-06T09:53:09.364Z"
   },
   {
    "duration": 272,
    "start_time": "2022-04-06T09:54:21.821Z"
   },
   {
    "duration": 184,
    "start_time": "2022-04-06T09:55:35.056Z"
   },
   {
    "duration": 274,
    "start_time": "2022-04-06T09:57:22.710Z"
   },
   {
    "duration": 273,
    "start_time": "2022-04-06T09:57:44.598Z"
   },
   {
    "duration": 270,
    "start_time": "2022-04-06T09:58:33.985Z"
   },
   {
    "duration": 239,
    "start_time": "2022-04-06T09:59:35.539Z"
   },
   {
    "duration": 272,
    "start_time": "2022-04-06T10:01:03.716Z"
   },
   {
    "duration": 262,
    "start_time": "2022-04-06T10:01:21.088Z"
   },
   {
    "duration": 280,
    "start_time": "2022-04-06T10:02:00.555Z"
   },
   {
    "duration": 258,
    "start_time": "2022-04-06T10:02:12.933Z"
   },
   {
    "duration": 256,
    "start_time": "2022-04-06T10:02:34.609Z"
   },
   {
    "duration": 263,
    "start_time": "2022-04-06T10:02:46.264Z"
   },
   {
    "duration": 50,
    "start_time": "2022-04-07T06:19:13.682Z"
   },
   {
    "duration": 1517,
    "start_time": "2022-04-07T06:20:11.575Z"
   },
   {
    "duration": 114,
    "start_time": "2022-04-07T06:20:14.695Z"
   },
   {
    "duration": 17,
    "start_time": "2022-04-07T06:20:19.887Z"
   },
   {
    "duration": 13,
    "start_time": "2022-04-07T06:20:25.113Z"
   },
   {
    "duration": 55,
    "start_time": "2022-04-07T06:20:30.777Z"
   },
   {
    "duration": 9,
    "start_time": "2022-04-07T06:20:34.607Z"
   },
   {
    "duration": 48,
    "start_time": "2022-04-07T06:20:38.513Z"
   },
   {
    "duration": 3,
    "start_time": "2022-04-07T06:20:41.943Z"
   },
   {
    "duration": 3,
    "start_time": "2022-04-07T06:20:44.976Z"
   },
   {
    "duration": 5,
    "start_time": "2022-04-07T06:20:49.248Z"
   },
   {
    "duration": 9,
    "start_time": "2022-04-07T06:20:52.363Z"
   },
   {
    "duration": 8,
    "start_time": "2022-04-07T06:20:55.727Z"
   },
   {
    "duration": 9,
    "start_time": "2022-04-07T06:20:58.015Z"
   },
   {
    "duration": 8,
    "start_time": "2022-04-07T06:21:01.086Z"
   },
   {
    "duration": 32,
    "start_time": "2022-04-07T06:21:06.568Z"
   },
   {
    "duration": 29,
    "start_time": "2022-04-07T06:21:11.691Z"
   },
   {
    "duration": 4,
    "start_time": "2022-04-07T06:21:14.704Z"
   },
   {
    "duration": 5,
    "start_time": "2022-04-07T06:21:17.669Z"
   },
   {
    "duration": 5,
    "start_time": "2022-04-07T06:21:23.863Z"
   },
   {
    "duration": 6,
    "start_time": "2022-04-07T06:21:28.186Z"
   },
   {
    "duration": 13,
    "start_time": "2022-04-07T06:21:31.673Z"
   },
   {
    "duration": 9,
    "start_time": "2022-04-07T06:21:35.801Z"
   },
   {
    "duration": 50,
    "start_time": "2022-04-07T06:21:38.723Z"
   },
   {
    "duration": 9,
    "start_time": "2022-04-07T06:21:42.507Z"
   },
   {
    "duration": 20,
    "start_time": "2022-04-07T06:21:48.018Z"
   },
   {
    "duration": 5,
    "start_time": "2022-04-07T06:21:52.072Z"
   },
   {
    "duration": 5,
    "start_time": "2022-04-07T06:21:55.745Z"
   },
   {
    "duration": 4,
    "start_time": "2022-04-07T06:21:58.409Z"
   },
   {
    "duration": 4,
    "start_time": "2022-04-07T06:22:01.546Z"
   },
   {
    "duration": 15,
    "start_time": "2022-04-07T06:22:05.065Z"
   },
   {
    "duration": 28,
    "start_time": "2022-04-07T06:22:09.057Z"
   },
   {
    "duration": 214,
    "start_time": "2022-04-07T06:22:13.361Z"
   },
   {
    "duration": 28,
    "start_time": "2022-04-07T06:22:19.893Z"
   },
   {
    "duration": 6,
    "start_time": "2022-04-07T06:22:23.739Z"
   },
   {
    "duration": 9,
    "start_time": "2022-04-07T06:22:27.009Z"
   },
   {
    "duration": 9,
    "start_time": "2022-04-07T06:22:30.193Z"
   },
   {
    "duration": 9,
    "start_time": "2022-04-07T06:22:33.368Z"
   },
   {
    "duration": 9,
    "start_time": "2022-04-07T06:22:36.627Z"
   },
   {
    "duration": 16,
    "start_time": "2022-04-07T06:22:39.422Z"
   },
   {
    "duration": 818,
    "start_time": "2022-04-07T06:22:44.506Z"
   },
   {
    "duration": 9,
    "start_time": "2022-04-07T06:22:49.889Z"
   },
   {
    "duration": 168,
    "start_time": "2022-04-07T06:22:56.579Z"
   },
   {
    "duration": 102,
    "start_time": "2022-04-07T06:23:01.548Z"
   },
   {
    "duration": 33,
    "start_time": "2022-04-07T06:23:07.715Z"
   },
   {
    "duration": 1113,
    "start_time": "2022-04-07T06:23:13.290Z"
   },
   {
    "duration": 210,
    "start_time": "2022-04-07T06:23:17.098Z"
   },
   {
    "duration": 74,
    "start_time": "2022-04-07T06:23:21.846Z"
   },
   {
    "duration": 3683,
    "start_time": "2022-04-07T06:23:26.490Z"
   },
   {
    "duration": 4,
    "start_time": "2022-04-07T06:23:35.558Z"
   },
   {
    "duration": 1058,
    "start_time": "2022-04-07T06:23:38.411Z"
   },
   {
    "duration": 305,
    "start_time": "2022-04-07T06:23:44.170Z"
   },
   {
    "duration": 844,
    "start_time": "2022-04-07T06:23:49.787Z"
   },
   {
    "duration": 9,
    "start_time": "2022-04-07T06:23:53.708Z"
   },
   {
    "duration": 166,
    "start_time": "2022-04-07T06:23:58.730Z"
   },
   {
    "duration": 4,
    "start_time": "2022-04-07T06:24:04.180Z"
   },
   {
    "duration": 1585,
    "start_time": "2022-04-07T06:24:07.671Z"
   },
   {
    "duration": 575,
    "start_time": "2022-04-07T06:24:17.940Z"
   },
   {
    "duration": 149,
    "start_time": "2022-04-07T06:24:37.317Z"
   },
   {
    "duration": 5,
    "start_time": "2022-04-07T06:24:41.340Z"
   },
   {
    "duration": 16,
    "start_time": "2022-04-07T06:24:46.523Z"
   },
   {
    "duration": 4,
    "start_time": "2022-04-07T06:24:49.415Z"
   },
   {
    "duration": 8,
    "start_time": "2022-04-07T06:24:52.748Z"
   },
   {
    "duration": 176,
    "start_time": "2022-04-07T06:24:56.292Z"
   },
   {
    "duration": 7,
    "start_time": "2022-04-07T06:25:00.123Z"
   },
   {
    "duration": 3,
    "start_time": "2022-04-07T06:25:02.390Z"
   },
   {
    "duration": 25,
    "start_time": "2022-04-07T06:25:04.759Z"
   },
   {
    "duration": 123,
    "start_time": "2022-04-07T06:25:11.236Z"
   },
   {
    "duration": 37,
    "start_time": "2022-04-07T06:25:15.383Z"
   },
   {
    "duration": 21,
    "start_time": "2022-04-07T06:25:19.701Z"
   },
   {
    "duration": 18,
    "start_time": "2022-04-07T06:25:26.749Z"
   },
   {
    "duration": 3039,
    "start_time": "2022-04-07T06:25:30.996Z"
   },
   {
    "duration": 267,
    "start_time": "2022-04-07T06:25:37.837Z"
   },
   {
    "duration": 6,
    "start_time": "2022-04-07T06:25:45.548Z"
   },
   {
    "duration": 142,
    "start_time": "2022-04-07T06:25:50.541Z"
   },
   {
    "duration": 166,
    "start_time": "2022-04-07T06:26:11.997Z"
   },
   {
    "duration": 6,
    "start_time": "2022-04-07T06:26:20.355Z"
   },
   {
    "duration": 146,
    "start_time": "2022-04-07T06:26:23.869Z"
   },
   {
    "duration": 6,
    "start_time": "2022-04-07T06:26:39.715Z"
   },
   {
    "duration": 165,
    "start_time": "2022-04-07T06:26:43.338Z"
   },
   {
    "duration": 5,
    "start_time": "2022-04-07T06:26:48.295Z"
   },
   {
    "duration": 143,
    "start_time": "2022-04-07T06:26:51.950Z"
   },
   {
    "duration": 5,
    "start_time": "2022-04-07T06:26:55.751Z"
   },
   {
    "duration": 163,
    "start_time": "2022-04-07T06:26:59.302Z"
   },
   {
    "duration": 5,
    "start_time": "2022-04-07T06:27:06.375Z"
   },
   {
    "duration": 147,
    "start_time": "2022-04-07T06:27:09.712Z"
   },
   {
    "duration": 5,
    "start_time": "2022-04-07T06:27:14.273Z"
   },
   {
    "duration": 161,
    "start_time": "2022-04-07T06:27:23.555Z"
   },
   {
    "duration": 6,
    "start_time": "2022-04-07T06:27:29.552Z"
   },
   {
    "duration": 139,
    "start_time": "2022-04-07T06:27:33.398Z"
   },
   {
    "duration": 6,
    "start_time": "2022-04-07T06:28:41.080Z"
   },
   {
    "duration": 150,
    "start_time": "2022-04-07T06:28:44.749Z"
   },
   {
    "duration": 5,
    "start_time": "2022-04-07T06:28:48.273Z"
   },
   {
    "duration": 158,
    "start_time": "2022-04-07T06:28:51.736Z"
   },
   {
    "duration": 4,
    "start_time": "2022-04-07T06:28:56.727Z"
   },
   {
    "duration": 1914,
    "start_time": "2022-04-07T06:29:01.143Z"
   },
   {
    "duration": 10,
    "start_time": "2022-04-07T07:40:16.910Z"
   },
   {
    "duration": 9,
    "start_time": "2022-04-07T07:41:00.959Z"
   },
   {
    "duration": 188,
    "start_time": "2022-04-07T07:50:32.665Z"
   },
   {
    "duration": 9,
    "start_time": "2022-04-07T07:51:59.293Z"
   },
   {
    "duration": 217,
    "start_time": "2022-04-07T07:52:30.932Z"
   },
   {
    "duration": 1603,
    "start_time": "2022-04-28T12:36:39.676Z"
   },
   {
    "duration": 283,
    "start_time": "2022-04-28T12:36:41.282Z"
   },
   {
    "duration": 0,
    "start_time": "2022-04-28T12:36:41.572Z"
   },
   {
    "duration": 0,
    "start_time": "2022-04-28T12:36:41.574Z"
   },
   {
    "duration": 0,
    "start_time": "2022-04-28T12:36:41.577Z"
   },
   {
    "duration": 0,
    "start_time": "2022-04-28T12:36:41.594Z"
   },
   {
    "duration": 0,
    "start_time": "2022-04-28T12:36:41.596Z"
   },
   {
    "duration": 0,
    "start_time": "2022-04-28T12:36:41.598Z"
   },
   {
    "duration": 0,
    "start_time": "2022-04-28T12:36:41.600Z"
   },
   {
    "duration": 0,
    "start_time": "2022-04-28T12:36:41.602Z"
   },
   {
    "duration": 0,
    "start_time": "2022-04-28T12:36:41.604Z"
   },
   {
    "duration": 0,
    "start_time": "2022-04-28T12:36:41.606Z"
   },
   {
    "duration": 0,
    "start_time": "2022-04-28T12:36:41.608Z"
   },
   {
    "duration": 0,
    "start_time": "2022-04-28T12:36:41.610Z"
   },
   {
    "duration": 0,
    "start_time": "2022-04-28T12:36:41.611Z"
   },
   {
    "duration": 0,
    "start_time": "2022-04-28T12:36:41.613Z"
   },
   {
    "duration": 0,
    "start_time": "2022-04-28T12:36:41.615Z"
   },
   {
    "duration": 0,
    "start_time": "2022-04-28T12:36:41.617Z"
   },
   {
    "duration": 0,
    "start_time": "2022-04-28T12:36:41.618Z"
   },
   {
    "duration": 0,
    "start_time": "2022-04-28T12:36:41.620Z"
   },
   {
    "duration": 0,
    "start_time": "2022-04-28T12:36:41.621Z"
   },
   {
    "duration": 0,
    "start_time": "2022-04-28T12:36:41.623Z"
   },
   {
    "duration": 0,
    "start_time": "2022-04-28T12:36:41.624Z"
   },
   {
    "duration": 0,
    "start_time": "2022-04-28T12:36:41.626Z"
   },
   {
    "duration": 0,
    "start_time": "2022-04-28T12:36:41.627Z"
   },
   {
    "duration": 0,
    "start_time": "2022-04-28T12:36:41.628Z"
   },
   {
    "duration": 0,
    "start_time": "2022-04-28T12:36:41.629Z"
   },
   {
    "duration": 0,
    "start_time": "2022-04-28T12:36:41.630Z"
   },
   {
    "duration": 0,
    "start_time": "2022-04-28T12:36:41.694Z"
   },
   {
    "duration": 0,
    "start_time": "2022-04-28T12:36:41.695Z"
   },
   {
    "duration": 0,
    "start_time": "2022-04-28T12:36:41.696Z"
   },
   {
    "duration": 0,
    "start_time": "2022-04-28T12:36:41.698Z"
   },
   {
    "duration": 0,
    "start_time": "2022-04-28T12:36:41.699Z"
   },
   {
    "duration": 0,
    "start_time": "2022-04-28T12:36:41.700Z"
   },
   {
    "duration": 0,
    "start_time": "2022-04-28T12:36:41.702Z"
   },
   {
    "duration": 0,
    "start_time": "2022-04-28T12:36:41.703Z"
   },
   {
    "duration": 0,
    "start_time": "2022-04-28T12:36:41.704Z"
   },
   {
    "duration": 0,
    "start_time": "2022-04-28T12:36:41.706Z"
   },
   {
    "duration": 0,
    "start_time": "2022-04-28T12:36:41.708Z"
   },
   {
    "duration": 0,
    "start_time": "2022-04-28T12:36:41.709Z"
   },
   {
    "duration": 0,
    "start_time": "2022-04-28T12:36:41.711Z"
   },
   {
    "duration": 0,
    "start_time": "2022-04-28T12:36:41.712Z"
   },
   {
    "duration": 0,
    "start_time": "2022-04-28T12:36:41.714Z"
   },
   {
    "duration": 0,
    "start_time": "2022-04-28T12:36:41.716Z"
   },
   {
    "duration": 0,
    "start_time": "2022-04-28T12:36:41.717Z"
   },
   {
    "duration": 1,
    "start_time": "2022-04-28T12:36:41.718Z"
   },
   {
    "duration": 1,
    "start_time": "2022-04-28T12:36:41.720Z"
   },
   {
    "duration": 0,
    "start_time": "2022-04-28T12:36:41.722Z"
   },
   {
    "duration": 0,
    "start_time": "2022-04-28T12:36:41.724Z"
   },
   {
    "duration": 0,
    "start_time": "2022-04-28T12:36:41.725Z"
   },
   {
    "duration": 0,
    "start_time": "2022-04-28T12:36:41.727Z"
   },
   {
    "duration": 0,
    "start_time": "2022-04-28T12:36:41.728Z"
   },
   {
    "duration": 0,
    "start_time": "2022-04-28T12:36:41.730Z"
   },
   {
    "duration": 0,
    "start_time": "2022-04-28T12:36:41.731Z"
   },
   {
    "duration": 0,
    "start_time": "2022-04-28T12:36:41.794Z"
   },
   {
    "duration": 0,
    "start_time": "2022-04-28T12:36:41.796Z"
   },
   {
    "duration": 0,
    "start_time": "2022-04-28T12:36:41.797Z"
   },
   {
    "duration": 106,
    "start_time": "2022-04-28T12:40:52.388Z"
   },
   {
    "duration": 1956,
    "start_time": "2022-04-28T12:41:39.976Z"
   },
   {
    "duration": 150,
    "start_time": "2022-04-28T12:41:41.936Z"
   },
   {
    "duration": 20,
    "start_time": "2022-04-28T12:41:42.093Z"
   },
   {
    "duration": 31,
    "start_time": "2022-04-28T12:41:42.117Z"
   },
   {
    "duration": 43,
    "start_time": "2022-04-28T12:41:42.151Z"
   },
   {
    "duration": 43,
    "start_time": "2022-04-28T12:41:42.197Z"
   },
   {
    "duration": 52,
    "start_time": "2022-04-28T12:41:42.243Z"
   },
   {
    "duration": 34,
    "start_time": "2022-04-28T12:41:42.298Z"
   },
   {
    "duration": 7,
    "start_time": "2022-04-28T12:41:42.335Z"
   },
   {
    "duration": 534,
    "start_time": "2022-04-28T12:41:42.349Z"
   },
   {
    "duration": 11,
    "start_time": "2022-04-28T12:41:42.885Z"
   },
   {
    "duration": 10,
    "start_time": "2022-04-28T12:41:42.899Z"
   },
   {
    "duration": 26,
    "start_time": "2022-04-28T12:41:42.911Z"
   },
   {
    "duration": 84,
    "start_time": "2022-04-28T12:41:42.939Z"
   },
   {
    "duration": 4,
    "start_time": "2022-04-28T12:41:43.026Z"
   },
   {
    "duration": 20,
    "start_time": "2022-04-28T12:41:43.033Z"
   },
   {
    "duration": 690,
    "start_time": "2022-04-28T12:41:43.055Z"
   },
   {
    "duration": 31,
    "start_time": "2022-04-28T12:41:43.747Z"
   },
   {
    "duration": 299,
    "start_time": "2022-04-28T12:41:43.794Z"
   },
   {
    "duration": 27,
    "start_time": "2022-04-28T12:41:44.095Z"
   },
   {
    "duration": 2394,
    "start_time": "2022-04-28T12:41:44.124Z"
   },
   {
    "duration": 53,
    "start_time": "2022-04-28T12:41:46.521Z"
   },
   {
    "duration": 17,
    "start_time": "2022-04-28T12:41:46.593Z"
   },
   {
    "duration": 99,
    "start_time": "2022-04-28T12:41:46.613Z"
   },
   {
    "duration": 594,
    "start_time": "2022-04-28T12:41:46.715Z"
   },
   {
    "duration": 0,
    "start_time": "2022-04-28T12:41:47.315Z"
   },
   {
    "duration": 0,
    "start_time": "2022-04-28T12:41:47.316Z"
   },
   {
    "duration": 0,
    "start_time": "2022-04-28T12:41:47.318Z"
   },
   {
    "duration": 0,
    "start_time": "2022-04-28T12:41:47.319Z"
   },
   {
    "duration": 0,
    "start_time": "2022-04-28T12:41:47.321Z"
   },
   {
    "duration": 0,
    "start_time": "2022-04-28T12:41:47.323Z"
   },
   {
    "duration": 0,
    "start_time": "2022-04-28T12:41:47.324Z"
   },
   {
    "duration": 0,
    "start_time": "2022-04-28T12:41:47.326Z"
   },
   {
    "duration": 1,
    "start_time": "2022-04-28T12:41:47.327Z"
   },
   {
    "duration": 0,
    "start_time": "2022-04-28T12:41:47.329Z"
   },
   {
    "duration": 0,
    "start_time": "2022-04-28T12:41:47.331Z"
   },
   {
    "duration": 0,
    "start_time": "2022-04-28T12:41:47.332Z"
   },
   {
    "duration": 0,
    "start_time": "2022-04-28T12:41:47.334Z"
   },
   {
    "duration": 0,
    "start_time": "2022-04-28T12:41:47.336Z"
   },
   {
    "duration": 0,
    "start_time": "2022-04-28T12:41:47.337Z"
   },
   {
    "duration": 0,
    "start_time": "2022-04-28T12:41:47.338Z"
   },
   {
    "duration": 0,
    "start_time": "2022-04-28T12:41:47.340Z"
   },
   {
    "duration": 0,
    "start_time": "2022-04-28T12:41:47.341Z"
   },
   {
    "duration": 0,
    "start_time": "2022-04-28T12:41:47.343Z"
   },
   {
    "duration": 0,
    "start_time": "2022-04-28T12:41:47.344Z"
   },
   {
    "duration": 0,
    "start_time": "2022-04-28T12:41:47.393Z"
   },
   {
    "duration": 0,
    "start_time": "2022-04-28T12:41:47.395Z"
   },
   {
    "duration": 0,
    "start_time": "2022-04-28T12:41:47.396Z"
   },
   {
    "duration": 0,
    "start_time": "2022-04-28T12:41:47.398Z"
   },
   {
    "duration": 0,
    "start_time": "2022-04-28T12:41:47.399Z"
   },
   {
    "duration": 0,
    "start_time": "2022-04-28T12:41:47.400Z"
   },
   {
    "duration": 0,
    "start_time": "2022-04-28T12:41:47.401Z"
   },
   {
    "duration": 0,
    "start_time": "2022-04-28T12:41:47.403Z"
   },
   {
    "duration": 0,
    "start_time": "2022-04-28T12:41:47.404Z"
   },
   {
    "duration": 0,
    "start_time": "2022-04-28T12:41:47.405Z"
   },
   {
    "duration": 0,
    "start_time": "2022-04-28T12:41:47.408Z"
   },
   {
    "duration": 0,
    "start_time": "2022-04-28T12:41:47.409Z"
   },
   {
    "duration": 12,
    "start_time": "2022-04-28T13:26:54.435Z"
   },
   {
    "duration": 40,
    "start_time": "2022-04-28T13:26:54.450Z"
   },
   {
    "duration": 1722,
    "start_time": "2022-04-28T13:26:54.492Z"
   },
   {
    "duration": 0,
    "start_time": "2022-04-28T13:26:56.217Z"
   },
   {
    "duration": 0,
    "start_time": "2022-04-28T13:26:56.218Z"
   },
   {
    "duration": 0,
    "start_time": "2022-04-28T13:26:56.220Z"
   },
   {
    "duration": 1,
    "start_time": "2022-04-28T13:26:56.221Z"
   },
   {
    "duration": 0,
    "start_time": "2022-04-28T13:26:56.223Z"
   },
   {
    "duration": 0,
    "start_time": "2022-04-28T13:26:56.225Z"
   },
   {
    "duration": 0,
    "start_time": "2022-04-28T13:26:56.226Z"
   },
   {
    "duration": 0,
    "start_time": "2022-04-28T13:26:56.228Z"
   },
   {
    "duration": 0,
    "start_time": "2022-04-28T13:26:56.230Z"
   },
   {
    "duration": 0,
    "start_time": "2022-04-28T13:26:56.231Z"
   },
   {
    "duration": 0,
    "start_time": "2022-04-28T13:26:56.233Z"
   },
   {
    "duration": 0,
    "start_time": "2022-04-28T13:26:56.235Z"
   },
   {
    "duration": 0,
    "start_time": "2022-04-28T13:26:56.236Z"
   },
   {
    "duration": 0,
    "start_time": "2022-04-28T13:26:56.238Z"
   },
   {
    "duration": 0,
    "start_time": "2022-04-28T13:26:56.239Z"
   },
   {
    "duration": 0,
    "start_time": "2022-04-28T13:26:56.241Z"
   },
   {
    "duration": 0,
    "start_time": "2022-04-28T13:26:56.242Z"
   },
   {
    "duration": 0,
    "start_time": "2022-04-28T13:26:56.243Z"
   },
   {
    "duration": 0,
    "start_time": "2022-04-28T13:26:56.244Z"
   },
   {
    "duration": 0,
    "start_time": "2022-04-28T13:26:56.246Z"
   },
   {
    "duration": 0,
    "start_time": "2022-04-28T13:26:56.248Z"
   },
   {
    "duration": 0,
    "start_time": "2022-04-28T13:26:56.249Z"
   },
   {
    "duration": 0,
    "start_time": "2022-04-28T13:26:56.250Z"
   },
   {
    "duration": 0,
    "start_time": "2022-04-28T13:26:56.251Z"
   },
   {
    "duration": 0,
    "start_time": "2022-04-28T13:26:56.253Z"
   },
   {
    "duration": 0,
    "start_time": "2022-04-28T13:26:56.293Z"
   },
   {
    "duration": 0,
    "start_time": "2022-04-28T13:26:56.294Z"
   },
   {
    "duration": 0,
    "start_time": "2022-04-28T13:26:56.296Z"
   },
   {
    "duration": 0,
    "start_time": "2022-04-28T13:26:56.297Z"
   },
   {
    "duration": 116,
    "start_time": "2022-04-28T13:27:38.827Z"
   },
   {
    "duration": 635,
    "start_time": "2022-04-28T13:27:43.967Z"
   },
   {
    "duration": 17,
    "start_time": "2022-04-28T13:27:47.363Z"
   },
   {
    "duration": 12,
    "start_time": "2022-04-28T13:27:49.733Z"
   },
   {
    "duration": 1111,
    "start_time": "2022-04-28T13:27:51.782Z"
   },
   {
    "duration": 13,
    "start_time": "2022-04-28T13:28:00.387Z"
   },
   {
    "duration": 11,
    "start_time": "2022-04-28T13:28:02.947Z"
   },
   {
    "duration": 707,
    "start_time": "2022-04-28T13:28:03.723Z"
   },
   {
    "duration": 31,
    "start_time": "2022-04-28T13:28:09.135Z"
   },
   {
    "duration": 533,
    "start_time": "2022-04-28T13:28:09.567Z"
   },
   {
    "duration": 28,
    "start_time": "2022-04-28T13:28:13.730Z"
   },
   {
    "duration": 546,
    "start_time": "2022-04-28T13:28:14.147Z"
   },
   {
    "duration": 27,
    "start_time": "2022-04-28T13:28:14.696Z"
   },
   {
    "duration": 573,
    "start_time": "2022-04-28T13:28:15.555Z"
   },
   {
    "duration": 26,
    "start_time": "2022-04-28T13:28:16.687Z"
   },
   {
    "duration": 593,
    "start_time": "2022-04-28T13:28:17.367Z"
   },
   {
    "duration": 16,
    "start_time": "2022-04-28T13:28:21.018Z"
   },
   {
    "duration": 547,
    "start_time": "2022-04-28T13:28:21.037Z"
   },
   {
    "duration": 20,
    "start_time": "2022-04-28T13:28:23.163Z"
   },
   {
    "duration": 509,
    "start_time": "2022-04-28T13:28:24.275Z"
   },
   {
    "duration": 12,
    "start_time": "2022-04-28T13:28:27.406Z"
   },
   {
    "duration": 13,
    "start_time": "2022-04-28T13:28:29.111Z"
   },
   {
    "duration": 325,
    "start_time": "2022-04-28T13:28:29.943Z"
   },
   {
    "duration": 345,
    "start_time": "2022-04-28T13:28:30.595Z"
   },
   {
    "duration": 491,
    "start_time": "2022-04-28T13:28:31.427Z"
   },
   {
    "duration": 24,
    "start_time": "2022-04-28T13:28:34.803Z"
   },
   {
    "duration": 19,
    "start_time": "2022-04-28T13:28:38.047Z"
   },
   {
    "duration": 12,
    "start_time": "2022-04-28T13:28:43.735Z"
   },
   {
    "duration": 17,
    "start_time": "2022-04-28T13:28:45.023Z"
   },
   {
    "duration": 548,
    "start_time": "2022-04-28T13:32:27.871Z"
   },
   {
    "duration": 136,
    "start_time": "2022-04-28T13:32:52.111Z"
   },
   {
    "duration": 262,
    "start_time": "2022-04-28T13:33:19.627Z"
   },
   {
    "duration": 368,
    "start_time": "2022-04-28T13:33:29.561Z"
   },
   {
    "duration": 141,
    "start_time": "2022-04-28T13:34:53.291Z"
   },
   {
    "duration": 142,
    "start_time": "2022-04-28T13:35:10.567Z"
   },
   {
    "duration": 543,
    "start_time": "2022-04-28T13:35:54.475Z"
   },
   {
    "duration": 535,
    "start_time": "2022-04-28T13:42:24.143Z"
   },
   {
    "duration": 191,
    "start_time": "2022-04-28T13:49:55.887Z"
   },
   {
    "duration": 1541,
    "start_time": "2022-05-04T14:25:45.498Z"
   },
   {
    "duration": 544,
    "start_time": "2022-05-04T14:27:06.923Z"
   },
   {
    "duration": 192,
    "start_time": "2022-05-04T14:28:03.169Z"
   },
   {
    "duration": 108,
    "start_time": "2022-05-04T14:28:11.385Z"
   },
   {
    "duration": 3,
    "start_time": "2022-05-04T14:28:26.688Z"
   },
   {
    "duration": 1205,
    "start_time": "2022-05-04T14:28:40.666Z"
   },
   {
    "duration": 128,
    "start_time": "2022-05-04T14:28:45.069Z"
   },
   {
    "duration": 75,
    "start_time": "2022-05-04T14:28:56.740Z"
   },
   {
    "duration": 16,
    "start_time": "2022-05-04T14:49:37.082Z"
   },
   {
    "duration": 15,
    "start_time": "2022-05-04T14:49:44.977Z"
   },
   {
    "duration": 6,
    "start_time": "2022-05-04T14:49:53.106Z"
   },
   {
    "duration": 33,
    "start_time": "2022-05-04T14:49:59.975Z"
   },
   {
    "duration": 20,
    "start_time": "2022-05-04T14:50:03.507Z"
   },
   {
    "duration": 5,
    "start_time": "2022-05-04T14:50:07.407Z"
   },
   {
    "duration": 27,
    "start_time": "2022-05-04T14:50:11.183Z"
   },
   {
    "duration": 5,
    "start_time": "2022-05-04T14:50:15.592Z"
   },
   {
    "duration": 343,
    "start_time": "2022-05-04T14:50:18.809Z"
   },
   {
    "duration": 5,
    "start_time": "2022-05-04T14:50:24.814Z"
   },
   {
    "duration": 9,
    "start_time": "2022-05-04T14:50:28.655Z"
   },
   {
    "duration": 13,
    "start_time": "2022-05-04T14:50:32.407Z"
   },
   {
    "duration": 7,
    "start_time": "2022-05-04T14:50:44.608Z"
   },
   {
    "duration": 13,
    "start_time": "2022-05-04T14:51:25.146Z"
   },
   {
    "duration": 2926,
    "start_time": "2022-05-04T14:58:15.131Z"
   },
   {
    "duration": 5,
    "start_time": "2022-05-04T14:58:30.970Z"
   },
   {
    "duration": 4,
    "start_time": "2022-05-04T15:05:22.166Z"
   },
   {
    "duration": 1409,
    "start_time": "2022-05-04T15:06:23.234Z"
   },
   {
    "duration": 151,
    "start_time": "2022-05-04T15:06:34.123Z"
   },
   {
    "duration": 50,
    "start_time": "2022-05-04T15:06:58.390Z"
   },
   {
    "duration": 15,
    "start_time": "2022-05-04T15:07:19.153Z"
   },
   {
    "duration": 17,
    "start_time": "2022-05-04T15:07:22.985Z"
   },
   {
    "duration": 7,
    "start_time": "2022-05-04T15:07:32.046Z"
   },
   {
    "duration": 33,
    "start_time": "2022-05-04T15:07:38.774Z"
   },
   {
    "duration": 20,
    "start_time": "2022-05-04T15:07:46.657Z"
   },
   {
    "duration": 24,
    "start_time": "2022-05-04T15:07:50.622Z"
   },
   {
    "duration": 6,
    "start_time": "2022-05-04T15:07:54.503Z"
   },
   {
    "duration": 359,
    "start_time": "2022-05-04T15:07:57.686Z"
   },
   {
    "duration": 5,
    "start_time": "2022-05-04T15:08:02.992Z"
   },
   {
    "duration": 8,
    "start_time": "2022-05-04T15:08:06.511Z"
   },
   {
    "duration": 16,
    "start_time": "2022-05-04T15:08:09.966Z"
   },
   {
    "duration": 7,
    "start_time": "2022-05-04T15:08:18.752Z"
   },
   {
    "duration": 5,
    "start_time": "2022-05-04T15:08:22.230Z"
   },
   {
    "duration": 13,
    "start_time": "2022-05-04T15:08:25.968Z"
   },
   {
    "duration": 6,
    "start_time": "2022-05-04T15:08:28.606Z"
   },
   {
    "duration": 22,
    "start_time": "2022-05-04T15:08:39.112Z"
   },
   {
    "duration": 3,
    "start_time": "2022-05-04T15:09:00.671Z"
   },
   {
    "duration": 12,
    "start_time": "2022-05-04T15:09:31.128Z"
   },
   {
    "duration": 566,
    "start_time": "2022-05-04T15:09:37.416Z"
   },
   {
    "duration": 15,
    "start_time": "2022-05-04T15:16:40.569Z"
   },
   {
    "duration": 188,
    "start_time": "2022-05-04T15:16:53.441Z"
   },
   {
    "duration": 20,
    "start_time": "2022-05-04T15:20:04.818Z"
   },
   {
    "duration": 19,
    "start_time": "2022-05-04T15:21:41.850Z"
   },
   {
    "duration": 1016,
    "start_time": "2022-05-04T15:21:47.368Z"
   },
   {
    "duration": 33,
    "start_time": "2022-05-04T15:22:15.799Z"
   },
   {
    "duration": 12,
    "start_time": "2022-05-04T15:22:19.486Z"
   },
   {
    "duration": 134,
    "start_time": "2022-05-04T15:27:09.163Z"
   },
   {
    "duration": 13,
    "start_time": "2022-05-04T15:28:13.644Z"
   },
   {
    "duration": 23,
    "start_time": "2022-05-04T15:31:49.689Z"
   },
   {
    "duration": 1013,
    "start_time": "2022-05-04T15:41:26.576Z"
   },
   {
    "duration": 56,
    "start_time": "2022-05-04T15:54:41.968Z"
   },
   {
    "duration": 79,
    "start_time": "2022-05-04T16:02:56.097Z"
   },
   {
    "duration": 343,
    "start_time": "2022-05-04T16:04:53.797Z"
   },
   {
    "duration": 1292,
    "start_time": "2022-05-04T16:27:33.899Z"
   },
   {
    "duration": 139,
    "start_time": "2022-05-04T16:27:37.422Z"
   },
   {
    "duration": 45,
    "start_time": "2022-05-04T16:27:40.670Z"
   },
   {
    "duration": 19,
    "start_time": "2022-05-04T16:27:46.290Z"
   },
   {
    "duration": 18,
    "start_time": "2022-05-04T16:27:49.957Z"
   },
   {
    "duration": 10,
    "start_time": "2022-05-04T16:27:55.616Z"
   },
   {
    "duration": 32,
    "start_time": "2022-05-04T16:28:00.264Z"
   },
   {
    "duration": 19,
    "start_time": "2022-05-04T16:31:03.278Z"
   },
   {
    "duration": 25,
    "start_time": "2022-05-04T16:31:06.473Z"
   },
   {
    "duration": 7,
    "start_time": "2022-05-04T16:31:12.241Z"
   },
   {
    "duration": 355,
    "start_time": "2022-05-04T16:31:16.190Z"
   },
   {
    "duration": 6,
    "start_time": "2022-05-04T16:31:19.481Z"
   },
   {
    "duration": 9,
    "start_time": "2022-05-04T16:31:23.532Z"
   },
   {
    "duration": 32,
    "start_time": "2022-05-04T16:31:48.216Z"
   },
   {
    "duration": 11,
    "start_time": "2022-05-04T16:31:53.529Z"
   },
   {
    "duration": 6,
    "start_time": "2022-05-04T16:31:56.873Z"
   },
   {
    "duration": 22,
    "start_time": "2022-05-04T16:31:59.809Z"
   },
   {
    "duration": 5,
    "start_time": "2022-05-04T16:32:06.114Z"
   },
   {
    "duration": 34,
    "start_time": "2022-05-04T16:32:13.682Z"
   },
   {
    "duration": 3,
    "start_time": "2022-05-04T16:32:18.988Z"
   },
   {
    "duration": 13,
    "start_time": "2022-05-04T16:32:25.787Z"
   },
   {
    "duration": 400,
    "start_time": "2022-05-04T16:32:37.429Z"
   },
   {
    "duration": 18,
    "start_time": "2022-05-04T16:32:45.156Z"
   },
   {
    "duration": 198,
    "start_time": "2022-05-04T16:32:50.469Z"
   },
   {
    "duration": 20,
    "start_time": "2022-05-04T16:32:55.579Z"
   },
   {
    "duration": 1153,
    "start_time": "2022-05-04T16:32:58.875Z"
   },
   {
    "duration": 37,
    "start_time": "2022-05-04T16:33:10.436Z"
   },
   {
    "duration": 15,
    "start_time": "2022-05-04T16:33:14.708Z"
   },
   {
    "duration": 143,
    "start_time": "2022-05-04T16:33:23.422Z"
   },
   {
    "duration": 12,
    "start_time": "2022-05-04T16:33:31.452Z"
   },
   {
    "duration": 21,
    "start_time": "2022-05-04T16:33:39.376Z"
   },
   {
    "duration": 1011,
    "start_time": "2022-05-04T16:33:44.862Z"
   },
   {
    "duration": 75,
    "start_time": "2022-05-04T16:33:56.493Z"
   },
   {
    "duration": 357,
    "start_time": "2022-05-04T16:34:00.971Z"
   },
   {
    "duration": 65,
    "start_time": "2022-05-04T16:34:05.573Z"
   },
   {
    "duration": 1328,
    "start_time": "2022-05-05T05:18:31.369Z"
   },
   {
    "duration": 109,
    "start_time": "2022-05-05T05:18:35.385Z"
   },
   {
    "duration": 43,
    "start_time": "2022-05-05T05:18:39.076Z"
   },
   {
    "duration": 15,
    "start_time": "2022-05-05T05:18:45.603Z"
   },
   {
    "duration": 15,
    "start_time": "2022-05-05T05:18:50.307Z"
   },
   {
    "duration": 6,
    "start_time": "2022-05-05T05:18:55.220Z"
   },
   {
    "duration": 28,
    "start_time": "2022-05-05T05:18:59.421Z"
   },
   {
    "duration": 20,
    "start_time": "2022-05-05T05:19:03.667Z"
   },
   {
    "duration": 23,
    "start_time": "2022-05-05T05:19:07.713Z"
   },
   {
    "duration": 4,
    "start_time": "2022-05-05T05:19:12.108Z"
   },
   {
    "duration": 315,
    "start_time": "2022-05-05T05:19:16.679Z"
   },
   {
    "duration": 4,
    "start_time": "2022-05-05T05:19:20.095Z"
   },
   {
    "duration": 7,
    "start_time": "2022-05-05T05:19:23.462Z"
   },
   {
    "duration": 13,
    "start_time": "2022-05-05T05:19:27.775Z"
   },
   {
    "duration": 7,
    "start_time": "2022-05-05T05:19:31.963Z"
   },
   {
    "duration": 5,
    "start_time": "2022-05-05T05:19:35.900Z"
   },
   {
    "duration": 15,
    "start_time": "2022-05-05T05:19:39.287Z"
   },
   {
    "duration": 5,
    "start_time": "2022-05-05T05:19:43.047Z"
   },
   {
    "duration": 23,
    "start_time": "2022-05-05T05:19:56.015Z"
   },
   {
    "duration": 3,
    "start_time": "2022-05-05T05:20:01.677Z"
   },
   {
    "duration": 12,
    "start_time": "2022-05-05T05:20:06.238Z"
   },
   {
    "duration": 413,
    "start_time": "2022-05-05T05:20:11.024Z"
   },
   {
    "duration": 16,
    "start_time": "2022-05-05T05:20:22.374Z"
   },
   {
    "duration": 525,
    "start_time": "2022-05-05T05:23:44.336Z"
   },
   {
    "duration": 1411,
    "start_time": "2022-05-05T05:25:04.351Z"
   },
   {
    "duration": 105,
    "start_time": "2022-05-05T05:25:08.557Z"
   },
   {
    "duration": 41,
    "start_time": "2022-05-05T05:25:11.316Z"
   },
   {
    "duration": 13,
    "start_time": "2022-05-05T05:25:15.858Z"
   },
   {
    "duration": 14,
    "start_time": "2022-05-05T05:25:20.003Z"
   },
   {
    "duration": 5,
    "start_time": "2022-05-05T05:25:23.637Z"
   },
   {
    "duration": 31,
    "start_time": "2022-05-05T05:25:28.352Z"
   },
   {
    "duration": 20,
    "start_time": "2022-05-05T05:25:32.878Z"
   },
   {
    "duration": 100,
    "start_time": "2022-05-05T05:25:36.266Z"
   },
   {
    "duration": 4,
    "start_time": "2022-05-05T05:25:41.924Z"
   },
   {
    "duration": 318,
    "start_time": "2022-05-05T05:25:46.834Z"
   },
   {
    "duration": 4,
    "start_time": "2022-05-05T05:25:52.700Z"
   },
   {
    "duration": 8,
    "start_time": "2022-05-05T05:25:56.218Z"
   },
   {
    "duration": 15,
    "start_time": "2022-05-05T05:26:00.060Z"
   },
   {
    "duration": 7,
    "start_time": "2022-05-05T05:26:05.333Z"
   },
   {
    "duration": 5,
    "start_time": "2022-05-05T05:26:08.731Z"
   },
   {
    "duration": 14,
    "start_time": "2022-05-05T05:26:13.014Z"
   },
   {
    "duration": 4,
    "start_time": "2022-05-05T05:26:16.816Z"
   },
   {
    "duration": 24,
    "start_time": "2022-05-05T05:26:21.275Z"
   },
   {
    "duration": 3,
    "start_time": "2022-05-05T05:26:25.852Z"
   },
   {
    "duration": 12,
    "start_time": "2022-05-05T05:26:30.132Z"
   },
   {
    "duration": 587,
    "start_time": "2022-05-05T05:26:36.989Z"
   },
   {
    "duration": 17,
    "start_time": "2022-05-05T05:26:42.916Z"
   },
   {
    "duration": 199,
    "start_time": "2022-05-05T05:26:46.704Z"
   },
   {
    "duration": 17,
    "start_time": "2022-05-05T05:26:52.005Z"
   },
   {
    "duration": 969,
    "start_time": "2022-05-05T05:27:05.467Z"
   },
   {
    "duration": 32,
    "start_time": "2022-05-05T05:27:13.476Z"
   },
   {
    "duration": 11,
    "start_time": "2022-05-05T05:27:18.413Z"
   },
   {
    "duration": 129,
    "start_time": "2022-05-05T05:27:27.261Z"
   },
   {
    "duration": 11,
    "start_time": "2022-05-05T05:27:33.166Z"
   },
   {
    "duration": 19,
    "start_time": "2022-05-05T05:27:40.064Z"
   },
   {
    "duration": 923,
    "start_time": "2022-05-05T05:27:46.674Z"
   },
   {
    "duration": 47,
    "start_time": "2022-05-05T05:27:52.348Z"
   },
   {
    "duration": 323,
    "start_time": "2022-05-05T05:27:57.574Z"
   },
   {
    "duration": 57,
    "start_time": "2022-05-05T05:28:04.122Z"
   },
   {
    "duration": 10,
    "start_time": "2022-05-05T05:29:04.904Z"
   },
   {
    "duration": 7,
    "start_time": "2022-05-05T05:29:18.318Z"
   },
   {
    "duration": 194,
    "start_time": "2022-05-05T05:29:40.945Z"
   },
   {
    "duration": 207,
    "start_time": "2022-05-05T05:31:03.590Z"
   },
   {
    "duration": 5,
    "start_time": "2022-05-05T05:31:42.713Z"
   },
   {
    "duration": 213,
    "start_time": "2022-05-05T05:32:09.081Z"
   },
   {
    "duration": 5,
    "start_time": "2022-05-05T05:32:56.963Z"
   },
   {
    "duration": 191,
    "start_time": "2022-05-05T05:36:22.867Z"
   },
   {
    "duration": 6,
    "start_time": "2022-05-05T05:37:07.514Z"
   },
   {
    "duration": 182,
    "start_time": "2022-05-05T05:37:40.023Z"
   },
   {
    "duration": 6,
    "start_time": "2022-05-05T05:38:07.312Z"
   },
   {
    "duration": 8,
    "start_time": "2022-05-05T05:41:14.060Z"
   },
   {
    "duration": 8,
    "start_time": "2022-05-05T05:41:29.555Z"
   },
   {
    "duration": 480,
    "start_time": "2022-05-05T05:41:49.836Z"
   },
   {
    "duration": 7,
    "start_time": "2022-05-05T05:44:42.912Z"
   },
   {
    "duration": 8,
    "start_time": "2022-05-05T05:45:51.177Z"
   },
   {
    "duration": 380,
    "start_time": "2022-05-05T05:47:13.788Z"
   },
   {
    "duration": 383,
    "start_time": "2022-05-05T05:48:22.741Z"
   },
   {
    "duration": 303,
    "start_time": "2022-05-05T05:55:20.257Z"
   },
   {
    "duration": 328,
    "start_time": "2022-05-05T05:55:27.358Z"
   },
   {
    "duration": 17,
    "start_time": "2022-05-05T06:49:15.103Z"
   },
   {
    "duration": 416,
    "start_time": "2022-05-05T06:49:20.285Z"
   },
   {
    "duration": 20,
    "start_time": "2022-05-05T06:51:45.552Z"
   },
   {
    "duration": 18,
    "start_time": "2022-05-05T06:51:49.193Z"
   },
   {
    "duration": 525,
    "start_time": "2022-05-05T06:51:53.055Z"
   },
   {
    "duration": 26,
    "start_time": "2022-05-05T06:53:44.883Z"
   },
   {
    "duration": 489,
    "start_time": "2022-05-05T06:53:58.866Z"
   },
   {
    "duration": 12,
    "start_time": "2022-05-05T06:55:38.498Z"
   },
   {
    "duration": 24,
    "start_time": "2022-05-05T06:55:49.478Z"
   },
   {
    "duration": 222,
    "start_time": "2022-05-05T06:56:50.860Z"
   },
   {
    "duration": 2616,
    "start_time": "2022-05-05T06:57:29.959Z"
   },
   {
    "duration": 214,
    "start_time": "2022-05-05T06:58:00.257Z"
   },
   {
    "duration": 524,
    "start_time": "2022-05-05T06:58:56.730Z"
   },
   {
    "duration": 19,
    "start_time": "2022-05-05T06:59:48.746Z"
   },
   {
    "duration": 18,
    "start_time": "2022-05-05T07:00:25.623Z"
   },
   {
    "duration": 238,
    "start_time": "2022-05-05T07:01:21.994Z"
   },
   {
    "duration": 17,
    "start_time": "2022-05-05T07:03:40.378Z"
   },
   {
    "duration": 352,
    "start_time": "2022-05-05T07:03:53.798Z"
   },
   {
    "duration": 17,
    "start_time": "2022-05-05T07:04:59.519Z"
   },
   {
    "duration": 16,
    "start_time": "2022-05-05T07:05:28.763Z"
   },
   {
    "duration": 230,
    "start_time": "2022-05-05T07:06:17.308Z"
   },
   {
    "duration": 505,
    "start_time": "2022-05-05T07:43:26.970Z"
   },
   {
    "duration": 14,
    "start_time": "2022-05-05T07:43:46.400Z"
   },
   {
    "duration": 480,
    "start_time": "2022-05-05T07:43:49.512Z"
   },
   {
    "duration": 7,
    "start_time": "2022-05-05T07:44:25.499Z"
   },
   {
    "duration": 332,
    "start_time": "2022-05-05T07:45:11.565Z"
   },
   {
    "duration": 8,
    "start_time": "2022-05-05T07:45:50.438Z"
   },
   {
    "duration": 488,
    "start_time": "2022-05-05T07:45:53.245Z"
   },
   {
    "duration": 14,
    "start_time": "2022-05-05T08:00:49.949Z"
   },
   {
    "duration": 485,
    "start_time": "2022-05-05T08:00:54.221Z"
   },
   {
    "duration": 15,
    "start_time": "2022-05-05T08:02:06.833Z"
   },
   {
    "duration": 334,
    "start_time": "2022-05-05T08:03:35.483Z"
   },
   {
    "duration": 330,
    "start_time": "2022-05-05T08:04:45.827Z"
   },
   {
    "duration": 46,
    "start_time": "2022-05-05T11:38:47.454Z"
   },
   {
    "duration": 1313,
    "start_time": "2022-05-05T11:39:14.496Z"
   },
   {
    "duration": 1072,
    "start_time": "2022-05-05T11:39:28.873Z"
   },
   {
    "duration": 158,
    "start_time": "2022-05-05T11:39:31.863Z"
   },
   {
    "duration": 41,
    "start_time": "2022-05-05T11:39:34.766Z"
   },
   {
    "duration": 13,
    "start_time": "2022-05-05T11:39:41.579Z"
   },
   {
    "duration": 5,
    "start_time": "2022-05-05T11:39:45.912Z"
   },
   {
    "duration": 29,
    "start_time": "2022-05-05T11:39:50.490Z"
   },
   {
    "duration": 18,
    "start_time": "2022-05-05T11:39:53.826Z"
   },
   {
    "duration": 21,
    "start_time": "2022-05-05T11:39:57.867Z"
   },
   {
    "duration": 4,
    "start_time": "2022-05-05T11:40:01.784Z"
   },
   {
    "duration": 311,
    "start_time": "2022-05-05T11:40:04.842Z"
   },
   {
    "duration": 5,
    "start_time": "2022-05-05T11:40:08.394Z"
   },
   {
    "duration": 7,
    "start_time": "2022-05-05T11:40:11.216Z"
   },
   {
    "duration": 14,
    "start_time": "2022-05-05T11:40:14.680Z"
   },
   {
    "duration": 7,
    "start_time": "2022-05-05T11:40:19.574Z"
   },
   {
    "duration": 5,
    "start_time": "2022-05-05T11:40:22.058Z"
   },
   {
    "duration": 13,
    "start_time": "2022-05-05T11:40:25.098Z"
   },
   {
    "duration": 4,
    "start_time": "2022-05-05T11:40:28.128Z"
   },
   {
    "duration": 24,
    "start_time": "2022-05-05T11:40:33.681Z"
   },
   {
    "duration": 3,
    "start_time": "2022-05-05T11:40:38.033Z"
   },
   {
    "duration": 11,
    "start_time": "2022-05-05T11:40:40.907Z"
   },
   {
    "duration": 361,
    "start_time": "2022-05-05T11:40:44.588Z"
   },
   {
    "duration": 17,
    "start_time": "2022-05-05T11:40:48.732Z"
   },
   {
    "duration": 184,
    "start_time": "2022-05-05T11:40:52.506Z"
   },
   {
    "duration": 15,
    "start_time": "2022-05-05T11:40:57.640Z"
   },
   {
    "duration": 983,
    "start_time": "2022-05-05T11:41:01.945Z"
   },
   {
    "duration": 31,
    "start_time": "2022-05-05T11:41:09.077Z"
   },
   {
    "duration": 11,
    "start_time": "2022-05-05T11:41:13.107Z"
   },
   {
    "duration": 127,
    "start_time": "2022-05-05T11:41:19.716Z"
   },
   {
    "duration": 12,
    "start_time": "2022-05-05T11:41:25.192Z"
   },
   {
    "duration": 19,
    "start_time": "2022-05-05T11:41:29.571Z"
   },
   {
    "duration": 914,
    "start_time": "2022-05-05T11:41:34.522Z"
   },
   {
    "duration": 46,
    "start_time": "2022-05-05T11:41:39.679Z"
   },
   {
    "duration": 320,
    "start_time": "2022-05-05T11:41:44.077Z"
   },
   {
    "duration": 54,
    "start_time": "2022-05-05T11:41:49.268Z"
   },
   {
    "duration": 8,
    "start_time": "2022-05-05T11:41:58.893Z"
   },
   {
    "duration": 188,
    "start_time": "2022-05-05T11:42:03.149Z"
   },
   {
    "duration": 6,
    "start_time": "2022-05-05T11:42:08.195Z"
   },
   {
    "duration": 189,
    "start_time": "2022-05-05T11:42:10.740Z"
   },
   {
    "duration": 6,
    "start_time": "2022-05-05T11:42:14.466Z"
   },
   {
    "duration": 172,
    "start_time": "2022-05-05T11:42:17.578Z"
   },
   {
    "duration": 5,
    "start_time": "2022-05-05T11:42:22.662Z"
   },
   {
    "duration": 178,
    "start_time": "2022-05-05T11:42:25.996Z"
   },
   {
    "duration": 6,
    "start_time": "2022-05-05T11:42:30.163Z"
   },
   {
    "duration": 8,
    "start_time": "2022-05-05T11:42:34.635Z"
   },
   {
    "duration": 7,
    "start_time": "2022-05-05T11:42:37.999Z"
   },
   {
    "duration": 7,
    "start_time": "2022-05-05T11:42:41.572Z"
   },
   {
    "duration": 7,
    "start_time": "2022-05-05T11:42:44.484Z"
   },
   {
    "duration": 376,
    "start_time": "2022-05-05T11:42:49.276Z"
   },
   {
    "duration": 448,
    "start_time": "2022-05-05T11:42:54.902Z"
   },
   {
    "duration": 13,
    "start_time": "2022-05-05T11:42:59.901Z"
   },
   {
    "duration": 191,
    "start_time": "2022-05-05T11:43:03.175Z"
   },
   {
    "duration": 16,
    "start_time": "2022-05-05T11:43:09.089Z"
   },
   {
    "duration": 280,
    "start_time": "2022-05-05T11:43:12.205Z"
   },
   {
    "duration": 17,
    "start_time": "2022-05-05T11:43:15.965Z"
   },
   {
    "duration": 198,
    "start_time": "2022-05-05T11:43:21.202Z"
   },
   {
    "duration": 17,
    "start_time": "2022-05-05T11:43:24.493Z"
   },
   {
    "duration": 282,
    "start_time": "2022-05-05T11:43:27.596Z"
   },
   {
    "duration": 16,
    "start_time": "2022-05-05T11:43:31.438Z"
   },
   {
    "duration": 202,
    "start_time": "2022-05-05T11:43:34.749Z"
   },
   {
    "duration": 16,
    "start_time": "2022-05-05T11:43:39.602Z"
   },
   {
    "duration": 329,
    "start_time": "2022-05-05T11:43:43.586Z"
   },
   {
    "duration": 16,
    "start_time": "2022-05-05T11:43:46.925Z"
   },
   {
    "duration": 10,
    "start_time": "2022-05-05T11:43:55.661Z"
   },
   {
    "duration": 288,
    "start_time": "2022-05-05T11:43:59.566Z"
   },
   {
    "duration": 7,
    "start_time": "2022-05-05T11:44:03.574Z"
   },
   {
    "duration": 419,
    "start_time": "2022-05-05T11:44:06.991Z"
   },
   {
    "duration": 11,
    "start_time": "2022-05-05T11:44:15.272Z"
   },
   {
    "duration": 290,
    "start_time": "2022-05-05T11:44:18.625Z"
   },
   {
    "duration": 10,
    "start_time": "2022-05-05T11:44:22.512Z"
   },
   {
    "duration": 304,
    "start_time": "2022-05-05T11:44:26.350Z"
   },
   {
    "duration": 7,
    "start_time": "2022-05-05T11:44:35.141Z"
   },
   {
    "duration": 9,
    "start_time": "2022-05-05T11:44:40.097Z"
   },
   {
    "duration": 186,
    "start_time": "2022-05-05T11:44:56.929Z"
   },
   {
    "duration": 194,
    "start_time": "2022-05-05T11:45:00.849Z"
   },
   {
    "duration": 190,
    "start_time": "2022-05-05T11:45:04.135Z"
   },
   {
    "duration": 7,
    "start_time": "2022-05-05T11:47:22.219Z"
   },
   {
    "duration": 8,
    "start_time": "2022-05-05T11:48:15.439Z"
   },
   {
    "duration": 8,
    "start_time": "2022-05-05T11:50:39.633Z"
   },
   {
    "duration": 7,
    "start_time": "2022-05-05T11:51:21.698Z"
   },
   {
    "duration": 11,
    "start_time": "2022-05-05T11:51:29.946Z"
   },
   {
    "duration": 10,
    "start_time": "2022-05-05T11:51:33.895Z"
   },
   {
    "duration": 200,
    "start_time": "2022-05-05T11:51:58.826Z"
   },
   {
    "duration": 171,
    "start_time": "2022-05-05T11:54:04.804Z"
   },
   {
    "duration": 258,
    "start_time": "2022-05-05T11:56:00.349Z"
   },
   {
    "duration": 176,
    "start_time": "2022-05-05T11:56:51.791Z"
   },
   {
    "duration": 132,
    "start_time": "2022-05-05T11:57:46.331Z"
   },
   {
    "duration": 199,
    "start_time": "2022-05-05T11:57:59.835Z"
   },
   {
    "duration": 183,
    "start_time": "2022-05-05T11:58:13.035Z"
   },
   {
    "duration": 198,
    "start_time": "2022-05-05T11:58:20.903Z"
   },
   {
    "duration": 302,
    "start_time": "2022-05-05T11:58:38.168Z"
   },
   {
    "duration": 195,
    "start_time": "2022-05-05T11:58:47.135Z"
   },
   {
    "duration": 173,
    "start_time": "2022-05-05T11:58:58.865Z"
   },
   {
    "duration": 164,
    "start_time": "2022-05-05T11:59:08.120Z"
   },
   {
    "duration": 187,
    "start_time": "2022-05-05T11:59:18.970Z"
   },
   {
    "duration": 200,
    "start_time": "2022-05-05T12:04:44.991Z"
   },
   {
    "duration": 198,
    "start_time": "2022-05-05T12:04:53.241Z"
   },
   {
    "duration": 282,
    "start_time": "2022-05-05T12:05:00.163Z"
   },
   {
    "duration": 181,
    "start_time": "2022-05-05T12:05:10.128Z"
   },
   {
    "duration": 175,
    "start_time": "2022-05-05T12:05:16.694Z"
   },
   {
    "duration": 180,
    "start_time": "2022-05-05T12:05:22.419Z"
   },
   {
    "duration": 18,
    "start_time": "2022-05-05T12:09:47.625Z"
   },
   {
    "duration": 13,
    "start_time": "2022-05-05T12:10:37.627Z"
   },
   {
    "duration": 299,
    "start_time": "2022-05-05T12:12:58.073Z"
   },
   {
    "duration": 527,
    "start_time": "2022-05-05T13:13:41.736Z"
   },
   {
    "duration": 311,
    "start_time": "2022-05-05T13:14:15.909Z"
   },
   {
    "duration": 322,
    "start_time": "2022-05-05T13:14:33.302Z"
   },
   {
    "duration": 305,
    "start_time": "2022-05-05T13:16:09.108Z"
   },
   {
    "duration": 451,
    "start_time": "2022-05-05T13:16:39.872Z"
   },
   {
    "duration": 320,
    "start_time": "2022-05-05T13:17:15.981Z"
   },
   {
    "duration": 11,
    "start_time": "2022-05-05T13:19:31.076Z"
   },
   {
    "duration": 326,
    "start_time": "2022-05-05T13:20:00.772Z"
   },
   {
    "duration": 317,
    "start_time": "2022-05-05T13:20:27.607Z"
   },
   {
    "duration": 320,
    "start_time": "2022-05-05T13:20:56.342Z"
   },
   {
    "duration": 322,
    "start_time": "2022-05-05T13:21:14.483Z"
   },
   {
    "duration": 18,
    "start_time": "2022-05-05T13:42:29.214Z"
   },
   {
    "duration": 12,
    "start_time": "2022-05-05T13:43:06.449Z"
   },
   {
    "duration": 12,
    "start_time": "2022-05-05T13:57:04.649Z"
   },
   {
    "duration": 9,
    "start_time": "2022-05-05T13:58:18.735Z"
   },
   {
    "duration": 1832,
    "start_time": "2022-05-06T08:25:52.156Z"
   },
   {
    "duration": 96,
    "start_time": "2022-05-06T08:25:53.991Z"
   },
   {
    "duration": 71,
    "start_time": "2022-05-06T08:25:54.090Z"
   },
   {
    "duration": 21,
    "start_time": "2022-05-06T08:25:54.164Z"
   },
   {
    "duration": 22,
    "start_time": "2022-05-06T08:25:54.187Z"
   },
   {
    "duration": 8,
    "start_time": "2022-05-06T08:25:54.211Z"
   },
   {
    "duration": 71,
    "start_time": "2022-05-06T08:25:54.221Z"
   },
   {
    "duration": 32,
    "start_time": "2022-05-06T08:25:54.294Z"
   },
   {
    "duration": 47,
    "start_time": "2022-05-06T08:25:54.328Z"
   },
   {
    "duration": 7,
    "start_time": "2022-05-06T08:25:54.379Z"
   },
   {
    "duration": 526,
    "start_time": "2022-05-06T08:25:54.388Z"
   },
   {
    "duration": 6,
    "start_time": "2022-05-06T08:25:54.917Z"
   },
   {
    "duration": 33,
    "start_time": "2022-05-06T08:25:54.925Z"
   },
   {
    "duration": 21,
    "start_time": "2022-05-06T08:25:54.961Z"
   },
   {
    "duration": 9,
    "start_time": "2022-05-06T08:25:54.985Z"
   },
   {
    "duration": 12,
    "start_time": "2022-05-06T08:25:54.996Z"
   },
   {
    "duration": 54,
    "start_time": "2022-05-06T08:25:55.010Z"
   },
   {
    "duration": 6,
    "start_time": "2022-05-06T08:25:55.066Z"
   },
   {
    "duration": 38,
    "start_time": "2022-05-06T08:25:55.075Z"
   },
   {
    "duration": 5,
    "start_time": "2022-05-06T08:25:55.116Z"
   },
   {
    "duration": 49,
    "start_time": "2022-05-06T08:25:55.123Z"
   },
   {
    "duration": 678,
    "start_time": "2022-05-06T08:25:55.176Z"
   },
   {
    "duration": 26,
    "start_time": "2022-05-06T08:25:55.856Z"
   },
   {
    "duration": 367,
    "start_time": "2022-05-06T08:25:55.884Z"
   },
   {
    "duration": 27,
    "start_time": "2022-05-06T08:25:56.254Z"
   },
   {
    "duration": 1708,
    "start_time": "2022-05-06T08:25:56.283Z"
   },
   {
    "duration": 66,
    "start_time": "2022-05-06T08:25:57.993Z"
   },
   {
    "duration": 16,
    "start_time": "2022-05-06T08:25:58.065Z"
   },
   {
    "duration": 217,
    "start_time": "2022-05-06T08:25:58.083Z"
   },
   {
    "duration": 17,
    "start_time": "2022-05-06T08:25:58.302Z"
   },
   {
    "duration": 49,
    "start_time": "2022-05-06T08:25:58.321Z"
   },
   {
    "duration": 1535,
    "start_time": "2022-05-06T08:25:58.373Z"
   },
   {
    "duration": 107,
    "start_time": "2022-05-06T08:25:59.911Z"
   },
   {
    "duration": 863,
    "start_time": "2022-05-06T08:26:00.021Z"
   },
   {
    "duration": 108,
    "start_time": "2022-05-06T08:26:00.887Z"
   },
   {
    "duration": 13,
    "start_time": "2022-05-06T08:26:00.998Z"
   },
   {
    "duration": 542,
    "start_time": "2022-05-06T08:26:01.013Z"
   },
   {
    "duration": 8,
    "start_time": "2022-05-06T08:26:01.558Z"
   },
   {
    "duration": 387,
    "start_time": "2022-05-06T08:26:01.567Z"
   },
   {
    "duration": 7,
    "start_time": "2022-05-06T08:26:01.956Z"
   },
   {
    "duration": 364,
    "start_time": "2022-05-06T08:26:01.966Z"
   },
   {
    "duration": 20,
    "start_time": "2022-05-06T08:26:02.333Z"
   },
   {
    "duration": 451,
    "start_time": "2022-05-06T08:26:02.355Z"
   },
   {
    "duration": 9,
    "start_time": "2022-05-06T08:26:02.808Z"
   },
   {
    "duration": 38,
    "start_time": "2022-05-06T08:26:02.819Z"
   },
   {
    "duration": 11,
    "start_time": "2022-05-06T08:26:02.860Z"
   },
   {
    "duration": 13,
    "start_time": "2022-05-06T08:26:02.873Z"
   },
   {
    "duration": 10,
    "start_time": "2022-05-06T08:26:02.889Z"
   },
   {
    "duration": 694,
    "start_time": "2022-05-06T08:26:02.902Z"
   },
   {
    "duration": 791,
    "start_time": "2022-05-06T08:26:03.598Z"
   },
   {
    "duration": 21,
    "start_time": "2022-05-06T08:26:04.392Z"
   },
   {
    "duration": 555,
    "start_time": "2022-05-06T08:26:04.416Z"
   },
   {
    "duration": 35,
    "start_time": "2022-05-06T08:26:04.973Z"
   },
   {
    "duration": 577,
    "start_time": "2022-05-06T08:26:05.011Z"
   },
   {
    "duration": 27,
    "start_time": "2022-05-06T08:26:05.591Z"
   },
   {
    "duration": 416,
    "start_time": "2022-05-06T08:26:05.621Z"
   },
   {
    "duration": 34,
    "start_time": "2022-05-06T08:26:06.039Z"
   },
   {
    "duration": 576,
    "start_time": "2022-05-06T08:26:06.075Z"
   },
   {
    "duration": 25,
    "start_time": "2022-05-06T08:26:06.653Z"
   },
   {
    "duration": 415,
    "start_time": "2022-05-06T08:26:06.680Z"
   },
   {
    "duration": 25,
    "start_time": "2022-05-06T08:26:07.097Z"
   },
   {
    "duration": 627,
    "start_time": "2022-05-06T08:26:07.124Z"
   },
   {
    "duration": 25,
    "start_time": "2022-05-06T08:26:07.754Z"
   },
   {
    "duration": 404,
    "start_time": "2022-05-06T08:26:07.781Z"
   },
   {
    "duration": 14,
    "start_time": "2022-05-06T08:26:08.187Z"
   },
   {
    "duration": 642,
    "start_time": "2022-05-06T08:26:08.204Z"
   },
   {
    "duration": 12,
    "start_time": "2022-05-06T08:26:08.852Z"
   },
   {
    "duration": 559,
    "start_time": "2022-05-06T08:26:08.866Z"
   },
   {
    "duration": 36,
    "start_time": "2022-05-06T08:26:09.427Z"
   },
   {
    "duration": 548,
    "start_time": "2022-05-06T08:26:09.465Z"
   },
   {
    "duration": 37,
    "start_time": "2022-05-06T08:26:10.016Z"
   },
   {
    "duration": 940,
    "start_time": "2022-05-06T08:26:10.056Z"
   },
   {
    "duration": 17,
    "start_time": "2022-05-06T08:26:10.999Z"
   },
   {
    "duration": 47,
    "start_time": "2022-05-06T08:26:11.019Z"
   },
   {
    "duration": 557,
    "start_time": "2022-05-06T08:26:11.069Z"
   },
   {
    "duration": 384,
    "start_time": "2022-05-06T08:26:11.629Z"
   },
   {
    "duration": 390,
    "start_time": "2022-05-06T08:26:12.016Z"
   },
   {
    "duration": 25,
    "start_time": "2022-05-06T08:26:12.408Z"
   },
   {
    "duration": 962,
    "start_time": "2022-05-06T08:26:12.436Z"
   },
   {
    "duration": 14,
    "start_time": "2022-05-06T08:26:13.401Z"
   },
   {
    "duration": 37,
    "start_time": "2022-05-06T08:26:13.418Z"
   },
   {
    "duration": 364,
    "start_time": "2022-05-06T08:26:13.463Z"
   },
   {
    "duration": 346,
    "start_time": "2022-05-06T08:26:13.829Z"
   },
   {
    "duration": 363,
    "start_time": "2022-05-06T08:26:14.178Z"
   },
   {
    "duration": 22,
    "start_time": "2022-05-06T08:26:14.545Z"
   },
   {
    "duration": 561,
    "start_time": "2022-05-06T08:26:14.570Z"
   },
   {
    "duration": 41,
    "start_time": "2022-05-06T08:26:15.134Z"
   },
   {
    "duration": 17,
    "start_time": "2022-05-06T08:26:15.177Z"
   },
   {
    "duration": 18,
    "start_time": "2022-05-06T08:26:15.197Z"
   },
   {
    "duration": 46,
    "start_time": "2022-05-06T08:26:15.218Z"
   },
   {
    "duration": 1350,
    "start_time": "2022-05-10T08:23:01.574Z"
   },
   {
    "duration": 68,
    "start_time": "2022-05-10T08:23:05.786Z"
   },
   {
    "duration": 49,
    "start_time": "2022-05-10T08:23:11.302Z"
   },
   {
    "duration": 21,
    "start_time": "2022-05-10T08:23:18.382Z"
   },
   {
    "duration": 15,
    "start_time": "2022-05-10T08:23:22.543Z"
   },
   {
    "duration": 6,
    "start_time": "2022-05-10T08:23:28.216Z"
   },
   {
    "duration": 31,
    "start_time": "2022-05-10T08:23:33.168Z"
   },
   {
    "duration": 20,
    "start_time": "2022-05-10T08:23:37.674Z"
   },
   {
    "duration": 21,
    "start_time": "2022-05-10T08:23:43.851Z"
   },
   {
    "duration": 5,
    "start_time": "2022-05-10T08:23:48.505Z"
   },
   {
    "duration": 367,
    "start_time": "2022-05-10T08:23:51.625Z"
   },
   {
    "duration": 6,
    "start_time": "2022-05-10T08:23:56.096Z"
   },
   {
    "duration": 11,
    "start_time": "2022-05-10T08:24:00.820Z"
   },
   {
    "duration": 22,
    "start_time": "2022-05-10T08:24:07.171Z"
   },
   {
    "duration": 7,
    "start_time": "2022-05-10T08:24:11.537Z"
   },
   {
    "duration": 6,
    "start_time": "2022-05-10T08:24:15.360Z"
   },
   {
    "duration": 15,
    "start_time": "2022-05-10T08:24:20.216Z"
   },
   {
    "duration": 5,
    "start_time": "2022-05-10T08:24:23.480Z"
   },
   {
    "duration": 37,
    "start_time": "2022-05-10T08:24:31.349Z"
   },
   {
    "duration": 4,
    "start_time": "2022-05-10T08:24:41.041Z"
   },
   {
    "duration": 16,
    "start_time": "2022-05-10T08:24:44.090Z"
   },
   {
    "duration": 436,
    "start_time": "2022-05-10T08:24:49.161Z"
   },
   {
    "duration": 17,
    "start_time": "2022-05-10T08:24:54.825Z"
   },
   {
    "duration": 212,
    "start_time": "2022-05-10T08:24:59.051Z"
   },
   {
    "duration": 20,
    "start_time": "2022-05-10T08:25:06.082Z"
   },
   {
    "duration": 1167,
    "start_time": "2022-05-10T08:25:12.545Z"
   },
   {
    "duration": 36,
    "start_time": "2022-05-10T08:25:21.730Z"
   },
   {
    "duration": 13,
    "start_time": "2022-05-10T08:25:26.631Z"
   },
   {
    "duration": 146,
    "start_time": "2022-05-10T08:25:39.114Z"
   },
   {
    "duration": 14,
    "start_time": "2022-05-10T08:25:43.947Z"
   },
   {
    "duration": 30,
    "start_time": "2022-05-10T08:25:47.669Z"
   },
   {
    "duration": 1040,
    "start_time": "2022-05-10T08:25:53.796Z"
   },
   {
    "duration": 81,
    "start_time": "2022-05-10T08:53:17.784Z"
   },
   {
    "duration": 973,
    "start_time": "2022-05-10T08:53:24.618Z"
   },
   {
    "duration": 900,
    "start_time": "2022-05-10T08:54:58.864Z"
   },
   {
    "duration": 3,
    "start_time": "2022-05-10T09:01:18.188Z"
   },
   {
    "duration": 131,
    "start_time": "2022-05-10T09:09:41.173Z"
   },
   {
    "duration": 131,
    "start_time": "2022-05-10T09:09:54.952Z"
   },
   {
    "duration": 10,
    "start_time": "2022-05-10T09:10:39.168Z"
   },
   {
    "duration": 8,
    "start_time": "2022-05-10T09:11:11.967Z"
   },
   {
    "duration": 17,
    "start_time": "2022-05-10T09:11:27.719Z"
   },
   {
    "duration": 64,
    "start_time": "2022-05-10T09:16:58.676Z"
   },
   {
    "duration": 18,
    "start_time": "2022-05-10T09:17:10.686Z"
   },
   {
    "duration": 20,
    "start_time": "2022-05-10T09:17:42.612Z"
   },
   {
    "duration": 5,
    "start_time": "2022-05-10T09:21:31.981Z"
   },
   {
    "duration": 30,
    "start_time": "2022-05-10T09:29:52.886Z"
   },
   {
    "duration": 8,
    "start_time": "2022-05-10T09:30:13.305Z"
   },
   {
    "duration": 74,
    "start_time": "2022-05-10T09:30:24.905Z"
   },
   {
    "duration": 9,
    "start_time": "2022-05-10T09:30:50.659Z"
   },
   {
    "duration": 8,
    "start_time": "2022-05-10T09:32:36.934Z"
   },
   {
    "duration": 10,
    "start_time": "2022-05-10T09:33:54.312Z"
   },
   {
    "duration": 10,
    "start_time": "2022-05-10T09:34:16.264Z"
   },
   {
    "duration": 21,
    "start_time": "2022-05-10T10:01:23.685Z"
   },
   {
    "duration": 25,
    "start_time": "2022-05-10T10:02:03.812Z"
   },
   {
    "duration": 907,
    "start_time": "2022-05-10T10:03:39.868Z"
   },
   {
    "duration": 540,
    "start_time": "2022-05-10T10:04:11.653Z"
   },
   {
    "duration": 11,
    "start_time": "2022-05-10T10:10:19.807Z"
   },
   {
    "duration": 37,
    "start_time": "2022-05-10T10:12:39.439Z"
   },
   {
    "duration": 151,
    "start_time": "2022-05-10T10:16:19.323Z"
   },
   {
    "duration": 119,
    "start_time": "2022-05-10T10:16:45.668Z"
   },
   {
    "duration": 141,
    "start_time": "2022-05-10T10:16:59.979Z"
   },
   {
    "duration": 130,
    "start_time": "2022-05-10T10:17:21.564Z"
   },
   {
    "duration": 146,
    "start_time": "2022-05-10T10:18:58.582Z"
   },
   {
    "duration": 141,
    "start_time": "2022-05-10T10:21:28.336Z"
   },
   {
    "duration": 139,
    "start_time": "2022-05-10T10:22:53.178Z"
   },
   {
    "duration": 139,
    "start_time": "2022-05-10T10:23:26.114Z"
   },
   {
    "duration": 138,
    "start_time": "2022-05-10T10:24:28.243Z"
   },
   {
    "duration": 142,
    "start_time": "2022-05-10T10:25:26.011Z"
   },
   {
    "duration": 136,
    "start_time": "2022-05-10T10:26:24.727Z"
   },
   {
    "duration": 542,
    "start_time": "2022-05-10T10:27:14.605Z"
   },
   {
    "duration": 185,
    "start_time": "2022-05-10T10:28:14.782Z"
   },
   {
    "duration": 175,
    "start_time": "2022-05-10T10:28:48.992Z"
   },
   {
    "duration": 178,
    "start_time": "2022-05-10T10:29:11.137Z"
   },
   {
    "duration": 196,
    "start_time": "2022-05-10T10:29:35.833Z"
   },
   {
    "duration": 170,
    "start_time": "2022-05-10T10:30:16.752Z"
   },
   {
    "duration": 1138,
    "start_time": "2022-05-10T10:43:35.826Z"
   },
   {
    "duration": 75,
    "start_time": "2022-05-10T10:43:39.168Z"
   },
   {
    "duration": 53,
    "start_time": "2022-05-10T10:43:43.116Z"
   },
   {
    "duration": 19,
    "start_time": "2022-05-10T10:43:54.003Z"
   },
   {
    "duration": 24,
    "start_time": "2022-05-10T10:43:57.585Z"
   },
   {
    "duration": 7,
    "start_time": "2022-05-10T10:44:01.030Z"
   },
   {
    "duration": 31,
    "start_time": "2022-05-10T10:44:04.450Z"
   },
   {
    "duration": 22,
    "start_time": "2022-05-10T10:44:08.185Z"
   },
   {
    "duration": 23,
    "start_time": "2022-05-10T10:44:11.553Z"
   },
   {
    "duration": 5,
    "start_time": "2022-05-10T10:44:14.997Z"
   },
   {
    "duration": 397,
    "start_time": "2022-05-10T10:44:17.787Z"
   },
   {
    "duration": 6,
    "start_time": "2022-05-10T10:44:21.067Z"
   },
   {
    "duration": 8,
    "start_time": "2022-05-10T10:44:24.753Z"
   },
   {
    "duration": 18,
    "start_time": "2022-05-10T10:44:27.793Z"
   },
   {
    "duration": 7,
    "start_time": "2022-05-10T10:44:31.155Z"
   },
   {
    "duration": 5,
    "start_time": "2022-05-10T10:44:34.783Z"
   },
   {
    "duration": 17,
    "start_time": "2022-05-10T10:44:37.313Z"
   },
   {
    "duration": 8,
    "start_time": "2022-05-10T10:44:40.305Z"
   },
   {
    "duration": 31,
    "start_time": "2022-05-10T10:44:44.999Z"
   },
   {
    "duration": 3,
    "start_time": "2022-05-10T10:44:49.650Z"
   },
   {
    "duration": 12,
    "start_time": "2022-05-10T10:44:52.854Z"
   },
   {
    "duration": 455,
    "start_time": "2022-05-10T10:44:57.849Z"
   },
   {
    "duration": 18,
    "start_time": "2022-05-10T10:45:03.431Z"
   },
   {
    "duration": 220,
    "start_time": "2022-05-10T10:45:07.491Z"
   },
   {
    "duration": 20,
    "start_time": "2022-05-10T10:45:11.148Z"
   },
   {
    "duration": 1232,
    "start_time": "2022-05-10T10:45:20.907Z"
   },
   {
    "duration": 40,
    "start_time": "2022-05-10T10:45:31.287Z"
   },
   {
    "duration": 12,
    "start_time": "2022-05-10T10:45:34.451Z"
   },
   {
    "duration": 152,
    "start_time": "2022-05-10T10:45:39.189Z"
   },
   {
    "duration": 12,
    "start_time": "2022-05-10T10:45:43.387Z"
   },
   {
    "duration": 20,
    "start_time": "2022-05-10T10:45:46.788Z"
   },
   {
    "duration": 508,
    "start_time": "2022-05-10T10:45:51.579Z"
   },
   {
    "duration": 268,
    "start_time": "2022-05-10T10:45:56.307Z"
   },
   {
    "duration": 184,
    "start_time": "2022-05-10T10:46:05.118Z"
   },
   {
    "duration": 188,
    "start_time": "2022-05-10T10:46:09.869Z"
   },
   {
    "duration": 188,
    "start_time": "2022-05-10T10:46:14.356Z"
   },
   {
    "duration": 183,
    "start_time": "2022-05-10T10:46:18.797Z"
   },
   {
    "duration": 54,
    "start_time": "2022-05-10T10:46:24.445Z"
   },
   {
    "duration": 415,
    "start_time": "2022-05-10T10:46:28.768Z"
   },
   {
    "duration": 76,
    "start_time": "2022-05-10T10:46:33.812Z"
   },
   {
    "duration": 7,
    "start_time": "2022-05-10T10:46:42.028Z"
   },
   {
    "duration": 8,
    "start_time": "2022-05-10T10:47:21.133Z"
   },
   {
    "duration": 244,
    "start_time": "2022-05-10T10:47:27.211Z"
   },
   {
    "duration": 230,
    "start_time": "2022-05-10T10:48:27.678Z"
   },
   {
    "duration": 6,
    "start_time": "2022-05-10T10:48:40.027Z"
   },
   {
    "duration": 281,
    "start_time": "2022-05-10T10:49:21.987Z"
   },
   {
    "duration": 5,
    "start_time": "2022-05-10T10:49:29.335Z"
   },
   {
    "duration": 210,
    "start_time": "2022-05-10T10:52:54.772Z"
   },
   {
    "duration": 6,
    "start_time": "2022-05-10T10:53:02.207Z"
   },
   {
    "duration": 212,
    "start_time": "2022-05-10T10:53:22.640Z"
   },
   {
    "duration": 5,
    "start_time": "2022-05-10T10:53:32.791Z"
   },
   {
    "duration": 6,
    "start_time": "2022-05-10T10:58:13.255Z"
   },
   {
    "duration": 4,
    "start_time": "2022-05-10T11:06:58.503Z"
   },
   {
    "duration": 66,
    "start_time": "2022-05-10T11:07:28.155Z"
   },
   {
    "duration": 4,
    "start_time": "2022-05-10T11:07:36.442Z"
   },
   {
    "duration": 523,
    "start_time": "2022-05-10T11:10:17.003Z"
   },
   {
    "duration": 413,
    "start_time": "2022-05-10T11:13:09.282Z"
   },
   {
    "duration": 475,
    "start_time": "2022-05-10T11:13:36.849Z"
   },
   {
    "duration": 401,
    "start_time": "2022-05-10T11:15:58.082Z"
   },
   {
    "duration": 462,
    "start_time": "2022-05-10T11:18:12.704Z"
   },
   {
    "duration": 473,
    "start_time": "2022-05-10T11:19:38.898Z"
   },
   {
    "duration": 450,
    "start_time": "2022-05-10T11:22:23.470Z"
   },
   {
    "duration": 446,
    "start_time": "2022-05-10T11:22:55.933Z"
   },
   {
    "duration": 443,
    "start_time": "2022-05-10T11:25:06.037Z"
   },
   {
    "duration": 405,
    "start_time": "2022-05-10T11:26:55.602Z"
   },
   {
    "duration": 414,
    "start_time": "2022-05-10T11:29:03.379Z"
   },
   {
    "duration": 13,
    "start_time": "2022-05-10T11:29:56.589Z"
   },
   {
    "duration": 64,
    "start_time": "2022-05-10T11:32:01.343Z"
   },
   {
    "duration": 42,
    "start_time": "2022-05-10T11:32:20.026Z"
   },
   {
    "duration": 13,
    "start_time": "2022-05-10T11:34:31.568Z"
   },
   {
    "duration": 440,
    "start_time": "2022-05-10T11:36:54.878Z"
   },
   {
    "duration": 442,
    "start_time": "2022-05-10T11:38:43.380Z"
   },
   {
    "duration": 547,
    "start_time": "2022-05-10T11:40:01.645Z"
   },
   {
    "duration": 388,
    "start_time": "2022-05-10T11:42:02.959Z"
   },
   {
    "duration": 13,
    "start_time": "2022-05-10T11:42:44.739Z"
   },
   {
    "duration": 428,
    "start_time": "2022-05-10T11:44:49.555Z"
   },
   {
    "duration": 16,
    "start_time": "2022-05-10T11:45:32.899Z"
   },
   {
    "duration": 1107,
    "start_time": "2022-05-10T12:10:51.638Z"
   },
   {
    "duration": 75,
    "start_time": "2022-05-10T12:10:54.591Z"
   },
   {
    "duration": 47,
    "start_time": "2022-05-10T12:10:59.358Z"
   },
   {
    "duration": 15,
    "start_time": "2022-05-10T12:11:05.331Z"
   },
   {
    "duration": 14,
    "start_time": "2022-05-10T12:11:09.360Z"
   },
   {
    "duration": 7,
    "start_time": "2022-05-10T12:11:13.415Z"
   },
   {
    "duration": 44,
    "start_time": "2022-05-10T12:11:16.766Z"
   },
   {
    "duration": 20,
    "start_time": "2022-05-10T12:11:20.930Z"
   },
   {
    "duration": 25,
    "start_time": "2022-05-10T12:11:24.570Z"
   },
   {
    "duration": 5,
    "start_time": "2022-05-10T12:11:28.000Z"
   },
   {
    "duration": 344,
    "start_time": "2022-05-10T12:11:30.780Z"
   },
   {
    "duration": 5,
    "start_time": "2022-05-10T12:11:34.506Z"
   },
   {
    "duration": 9,
    "start_time": "2022-05-10T12:11:37.688Z"
   },
   {
    "duration": 15,
    "start_time": "2022-05-10T12:11:40.257Z"
   },
   {
    "duration": 7,
    "start_time": "2022-05-10T12:11:43.289Z"
   },
   {
    "duration": 5,
    "start_time": "2022-05-10T12:11:46.208Z"
   },
   {
    "duration": 14,
    "start_time": "2022-05-10T12:11:49.404Z"
   },
   {
    "duration": 5,
    "start_time": "2022-05-10T12:11:52.765Z"
   },
   {
    "duration": 23,
    "start_time": "2022-05-10T12:11:57.673Z"
   },
   {
    "duration": 2,
    "start_time": "2022-05-10T12:12:01.691Z"
   },
   {
    "duration": 13,
    "start_time": "2022-05-10T12:12:05.395Z"
   },
   {
    "duration": 426,
    "start_time": "2022-05-10T12:12:10.619Z"
   },
   {
    "duration": 20,
    "start_time": "2022-05-10T12:12:15.226Z"
   },
   {
    "duration": 206,
    "start_time": "2022-05-10T12:12:18.766Z"
   },
   {
    "duration": 19,
    "start_time": "2022-05-10T12:12:23.265Z"
   },
   {
    "duration": 1147,
    "start_time": "2022-05-10T12:12:26.185Z"
   },
   {
    "duration": 34,
    "start_time": "2022-05-10T12:12:33.626Z"
   },
   {
    "duration": 11,
    "start_time": "2022-05-10T12:12:37.242Z"
   },
   {
    "duration": 138,
    "start_time": "2022-05-10T12:12:42.089Z"
   },
   {
    "duration": 13,
    "start_time": "2022-05-10T12:12:46.498Z"
   },
   {
    "duration": 22,
    "start_time": "2022-05-10T12:12:50.036Z"
   },
   {
    "duration": 447,
    "start_time": "2022-05-10T12:12:54.926Z"
   },
   {
    "duration": 274,
    "start_time": "2022-05-10T12:12:59.797Z"
   },
   {
    "duration": 184,
    "start_time": "2022-05-10T12:13:05.290Z"
   },
   {
    "duration": 194,
    "start_time": "2022-05-10T12:13:09.505Z"
   },
   {
    "duration": 180,
    "start_time": "2022-05-10T12:13:13.393Z"
   },
   {
    "duration": 180,
    "start_time": "2022-05-10T12:13:17.743Z"
   },
   {
    "duration": 57,
    "start_time": "2022-05-10T12:13:22.450Z"
   },
   {
    "duration": 399,
    "start_time": "2022-05-10T12:13:25.737Z"
   },
   {
    "duration": 60,
    "start_time": "2022-05-10T12:13:30.443Z"
   },
   {
    "duration": 6,
    "start_time": "2022-05-10T12:13:38.906Z"
   },
   {
    "duration": 462,
    "start_time": "2022-05-10T12:13:44.363Z"
   },
   {
    "duration": 5,
    "start_time": "2022-05-10T12:13:49.922Z"
   },
   {
    "duration": 417,
    "start_time": "2022-05-10T12:13:55.195Z"
   },
   {
    "duration": 474,
    "start_time": "2022-05-10T12:13:59.270Z"
   },
   {
    "duration": 418,
    "start_time": "2022-05-10T12:14:02.926Z"
   },
   {
    "duration": 454,
    "start_time": "2022-05-10T12:14:07.020Z"
   },
   {
    "duration": 525,
    "start_time": "2022-05-10T12:14:11.272Z"
   },
   {
    "duration": 13,
    "start_time": "2022-05-10T12:14:18.339Z"
   },
   {
    "duration": 447,
    "start_time": "2022-05-10T12:14:21.855Z"
   },
   {
    "duration": 422,
    "start_time": "2022-05-10T12:14:25.627Z"
   },
   {
    "duration": 14,
    "start_time": "2022-05-10T12:14:30.946Z"
   },
   {
    "duration": 17,
    "start_time": "2022-05-10T12:14:34.359Z"
   },
   {
    "duration": 8,
    "start_time": "2022-05-10T12:14:40.428Z"
   },
   {
    "duration": 8,
    "start_time": "2022-05-10T12:14:45.547Z"
   },
   {
    "duration": 8,
    "start_time": "2022-05-10T12:14:49.900Z"
   },
   {
    "duration": 8,
    "start_time": "2022-05-10T12:14:53.207Z"
   },
   {
    "duration": 444,
    "start_time": "2022-05-10T12:14:58.613Z"
   },
   {
    "duration": 434,
    "start_time": "2022-05-10T12:15:03.268Z"
   },
   {
    "duration": 16,
    "start_time": "2022-05-10T12:15:07.725Z"
   },
   {
    "duration": 229,
    "start_time": "2022-05-10T12:15:11.174Z"
   },
   {
    "duration": 21,
    "start_time": "2022-05-10T12:15:19.483Z"
   },
   {
    "duration": 343,
    "start_time": "2022-05-10T12:15:22.572Z"
   },
   {
    "duration": 19,
    "start_time": "2022-05-10T12:15:26.396Z"
   },
   {
    "duration": 224,
    "start_time": "2022-05-10T12:15:31.268Z"
   },
   {
    "duration": 19,
    "start_time": "2022-05-10T12:15:34.517Z"
   },
   {
    "duration": 358,
    "start_time": "2022-05-10T12:15:37.519Z"
   },
   {
    "duration": 18,
    "start_time": "2022-05-10T12:15:41.315Z"
   },
   {
    "duration": 338,
    "start_time": "2022-05-10T12:15:46.014Z"
   },
   {
    "duration": 18,
    "start_time": "2022-05-10T12:15:49.141Z"
   },
   {
    "duration": 372,
    "start_time": "2022-05-10T12:15:52.555Z"
   },
   {
    "duration": 19,
    "start_time": "2022-05-10T12:15:56.157Z"
   },
   {
    "duration": 217,
    "start_time": "2022-05-10T12:16:00.485Z"
   },
   {
    "duration": 11,
    "start_time": "2022-05-10T12:16:07.740Z"
   },
   {
    "duration": 342,
    "start_time": "2022-05-10T12:16:11.117Z"
   },
   {
    "duration": 8,
    "start_time": "2022-05-10T12:16:15.172Z"
   },
   {
    "duration": 349,
    "start_time": "2022-05-10T12:16:18.230Z"
   },
   {
    "duration": 15,
    "start_time": "2022-05-10T12:16:24.077Z"
   },
   {
    "duration": 341,
    "start_time": "2022-05-10T12:16:27.876Z"
   },
   {
    "duration": 12,
    "start_time": "2022-05-10T12:16:32.149Z"
   },
   {
    "duration": 452,
    "start_time": "2022-05-10T12:16:35.610Z"
   },
   {
    "duration": 9,
    "start_time": "2022-05-10T12:16:41.887Z"
   },
   {
    "duration": 10,
    "start_time": "2022-05-10T12:16:44.504Z"
   },
   {
    "duration": 215,
    "start_time": "2022-05-10T12:16:48.318Z"
   },
   {
    "duration": 213,
    "start_time": "2022-05-10T12:16:52.421Z"
   },
   {
    "duration": 224,
    "start_time": "2022-05-10T12:16:56.440Z"
   },
   {
    "duration": 14,
    "start_time": "2022-05-10T12:17:00.037Z"
   },
   {
    "duration": 354,
    "start_time": "2022-05-10T12:17:04.189Z"
   },
   {
    "duration": 7,
    "start_time": "2022-05-10T12:17:09.938Z"
   },
   {
    "duration": 10,
    "start_time": "2022-05-10T12:17:13.453Z"
   },
   {
    "duration": 208,
    "start_time": "2022-05-10T12:17:16.566Z"
   },
   {
    "duration": 202,
    "start_time": "2022-05-10T12:17:21.197Z"
   },
   {
    "duration": 207,
    "start_time": "2022-05-10T12:17:24.601Z"
   },
   {
    "duration": 11,
    "start_time": "2022-05-10T12:17:27.789Z"
   },
   {
    "duration": 344,
    "start_time": "2022-05-10T12:17:32.050Z"
   },
   {
    "duration": 16,
    "start_time": "2022-05-10T12:17:41.942Z"
   },
   {
    "duration": 9,
    "start_time": "2022-05-10T12:17:47.327Z"
   },
   {
    "duration": 10,
    "start_time": "2022-05-10T12:17:59.861Z"
   },
   {
    "duration": 11,
    "start_time": "2022-05-10T12:18:05.370Z"
   },
   {
    "duration": 15,
    "start_time": "2022-05-10T12:22:44.794Z"
   },
   {
    "duration": 9,
    "start_time": "2022-05-10T12:22:50.947Z"
   },
   {
    "duration": 10,
    "start_time": "2022-05-10T12:24:59.850Z"
   },
   {
    "duration": 1162,
    "start_time": "2022-05-10T12:28:40.491Z"
   },
   {
    "duration": 72,
    "start_time": "2022-05-10T12:28:43.825Z"
   },
   {
    "duration": 46,
    "start_time": "2022-05-10T12:28:46.959Z"
   },
   {
    "duration": 15,
    "start_time": "2022-05-10T12:28:52.358Z"
   },
   {
    "duration": 14,
    "start_time": "2022-05-10T12:28:56.128Z"
   },
   {
    "duration": 6,
    "start_time": "2022-05-10T12:28:59.165Z"
   },
   {
    "duration": 31,
    "start_time": "2022-05-10T12:29:03.097Z"
   },
   {
    "duration": 19,
    "start_time": "2022-05-10T12:29:06.293Z"
   },
   {
    "duration": 23,
    "start_time": "2022-05-10T12:29:09.645Z"
   },
   {
    "duration": 4,
    "start_time": "2022-05-10T12:29:12.566Z"
   },
   {
    "duration": 358,
    "start_time": "2022-05-10T12:29:16.174Z"
   },
   {
    "duration": 5,
    "start_time": "2022-05-10T12:29:19.918Z"
   },
   {
    "duration": 9,
    "start_time": "2022-05-10T12:29:22.960Z"
   },
   {
    "duration": 18,
    "start_time": "2022-05-10T12:29:27.093Z"
   },
   {
    "duration": 7,
    "start_time": "2022-05-10T12:29:30.168Z"
   },
   {
    "duration": 6,
    "start_time": "2022-05-10T12:29:33.981Z"
   },
   {
    "duration": 14,
    "start_time": "2022-05-10T12:29:37.141Z"
   },
   {
    "duration": 5,
    "start_time": "2022-05-10T12:29:39.749Z"
   },
   {
    "duration": 24,
    "start_time": "2022-05-10T12:29:43.718Z"
   },
   {
    "duration": 3,
    "start_time": "2022-05-10T12:29:47.654Z"
   },
   {
    "duration": 14,
    "start_time": "2022-05-10T12:29:50.598Z"
   },
   {
    "duration": 409,
    "start_time": "2022-05-10T12:29:54.947Z"
   },
   {
    "duration": 19,
    "start_time": "2022-05-10T12:30:00.295Z"
   },
   {
    "duration": 228,
    "start_time": "2022-05-10T12:30:03.797Z"
   },
   {
    "duration": 20,
    "start_time": "2022-05-10T12:30:08.256Z"
   },
   {
    "duration": 1177,
    "start_time": "2022-05-10T12:30:11.559Z"
   },
   {
    "duration": 36,
    "start_time": "2022-05-10T12:30:17.623Z"
   },
   {
    "duration": 13,
    "start_time": "2022-05-10T12:30:21.399Z"
   },
   {
    "duration": 143,
    "start_time": "2022-05-10T12:30:25.785Z"
   },
   {
    "duration": 13,
    "start_time": "2022-05-10T12:30:29.067Z"
   },
   {
    "duration": 31,
    "start_time": "2022-05-10T12:30:32.487Z"
   },
   {
    "duration": 457,
    "start_time": "2022-05-10T12:30:37.327Z"
   },
   {
    "duration": 254,
    "start_time": "2022-05-10T12:30:41.767Z"
   },
   {
    "duration": 173,
    "start_time": "2022-05-10T12:30:45.838Z"
   },
   {
    "duration": 170,
    "start_time": "2022-05-10T12:30:57.282Z"
   },
   {
    "duration": 170,
    "start_time": "2022-05-10T12:31:01.583Z"
   },
   {
    "duration": 54,
    "start_time": "2022-05-10T12:31:06.998Z"
   },
   {
    "duration": 421,
    "start_time": "2022-05-10T12:31:10.615Z"
   },
   {
    "duration": 63,
    "start_time": "2022-05-10T12:31:16.290Z"
   },
   {
    "duration": 7,
    "start_time": "2022-05-10T12:31:23.736Z"
   },
   {
    "duration": 450,
    "start_time": "2022-05-10T12:31:28.981Z"
   },
   {
    "duration": 5,
    "start_time": "2022-05-10T12:31:33.774Z"
   },
   {
    "duration": 418,
    "start_time": "2022-05-10T12:31:37.696Z"
   },
   {
    "duration": 485,
    "start_time": "2022-05-10T12:31:40.926Z"
   },
   {
    "duration": 426,
    "start_time": "2022-05-10T12:31:44.795Z"
   },
   {
    "duration": 454,
    "start_time": "2022-05-10T12:31:47.464Z"
   },
   {
    "duration": 445,
    "start_time": "2022-05-10T12:31:50.512Z"
   },
   {
    "duration": 13,
    "start_time": "2022-05-10T12:31:58.635Z"
   },
   {
    "duration": 543,
    "start_time": "2022-05-10T12:32:03.227Z"
   },
   {
    "duration": 446,
    "start_time": "2022-05-10T12:32:07.329Z"
   },
   {
    "duration": 13,
    "start_time": "2022-05-10T12:32:12.378Z"
   },
   {
    "duration": 18,
    "start_time": "2022-05-10T12:32:15.706Z"
   },
   {
    "duration": 9,
    "start_time": "2022-05-10T12:32:21.206Z"
   },
   {
    "duration": 14,
    "start_time": "2022-05-10T12:32:24.509Z"
   },
   {
    "duration": 9,
    "start_time": "2022-05-10T12:32:28.376Z"
   },
   {
    "duration": 8,
    "start_time": "2022-05-10T12:32:31.432Z"
   },
   {
    "duration": 460,
    "start_time": "2022-05-10T12:32:36.545Z"
   },
   {
    "duration": 446,
    "start_time": "2022-05-10T12:32:40.017Z"
   },
   {
    "duration": 15,
    "start_time": "2022-05-10T12:32:43.953Z"
   },
   {
    "duration": 221,
    "start_time": "2022-05-10T12:32:47.355Z"
   },
   {
    "duration": 19,
    "start_time": "2022-05-10T12:32:51.097Z"
   },
   {
    "duration": 17,
    "start_time": "2022-05-10T12:32:55.754Z"
   },
   {
    "duration": 231,
    "start_time": "2022-05-10T12:32:59.105Z"
   },
   {
    "duration": 18,
    "start_time": "2022-05-10T12:33:02.431Z"
   },
   {
    "duration": 359,
    "start_time": "2022-05-10T12:33:05.394Z"
   },
   {
    "duration": 18,
    "start_time": "2022-05-10T12:33:09.550Z"
   },
   {
    "duration": 19,
    "start_time": "2022-05-10T12:33:12.652Z"
   },
   {
    "duration": 398,
    "start_time": "2022-05-10T12:33:16.249Z"
   },
   {
    "duration": 19,
    "start_time": "2022-05-10T12:33:23.046Z"
   },
   {
    "duration": 317,
    "start_time": "2022-05-10T12:33:25.913Z"
   },
   {
    "duration": 11,
    "start_time": "2022-05-10T12:33:31.089Z"
   },
   {
    "duration": 347,
    "start_time": "2022-05-10T12:33:33.541Z"
   },
   {
    "duration": 7,
    "start_time": "2022-05-10T12:33:37.682Z"
   },
   {
    "duration": 378,
    "start_time": "2022-05-10T12:33:40.633Z"
   },
   {
    "duration": 15,
    "start_time": "2022-05-10T12:33:45.675Z"
   },
   {
    "duration": 351,
    "start_time": "2022-05-10T12:33:48.960Z"
   },
   {
    "duration": 13,
    "start_time": "2022-05-10T12:33:52.336Z"
   },
   {
    "duration": 386,
    "start_time": "2022-05-10T12:33:55.202Z"
   },
   {
    "duration": 8,
    "start_time": "2022-05-10T12:34:01.297Z"
   },
   {
    "duration": 11,
    "start_time": "2022-05-10T12:34:03.562Z"
   },
   {
    "duration": 225,
    "start_time": "2022-05-10T12:34:07.298Z"
   },
   {
    "duration": 239,
    "start_time": "2022-05-10T12:34:11.394Z"
   },
   {
    "duration": 338,
    "start_time": "2022-05-10T12:34:14.338Z"
   },
   {
    "duration": 14,
    "start_time": "2022-05-10T12:34:18.955Z"
   },
   {
    "duration": 382,
    "start_time": "2022-05-10T12:34:22.394Z"
   },
   {
    "duration": 8,
    "start_time": "2022-05-10T12:34:27.062Z"
   },
   {
    "duration": 9,
    "start_time": "2022-05-10T12:34:29.221Z"
   },
   {
    "duration": 209,
    "start_time": "2022-05-10T12:34:32.163Z"
   },
   {
    "duration": 195,
    "start_time": "2022-05-10T12:34:35.621Z"
   },
   {
    "duration": 198,
    "start_time": "2022-05-10T12:34:39.065Z"
   },
   {
    "duration": 11,
    "start_time": "2022-05-10T12:34:44.480Z"
   },
   {
    "duration": 343,
    "start_time": "2022-05-10T12:34:47.579Z"
   },
   {
    "duration": 15,
    "start_time": "2022-05-10T12:34:53.340Z"
   },
   {
    "duration": 10,
    "start_time": "2022-05-10T12:34:59.432Z"
   },
   {
    "duration": 11,
    "start_time": "2022-05-10T12:35:14.493Z"
   },
   {
    "duration": 11,
    "start_time": "2022-05-10T12:35:21.124Z"
   },
   {
    "duration": 1119,
    "start_time": "2022-05-10T12:36:59.451Z"
   },
   {
    "duration": 77,
    "start_time": "2022-05-10T12:37:00.572Z"
   },
   {
    "duration": 50,
    "start_time": "2022-05-10T12:37:01.679Z"
   },
   {
    "duration": 15,
    "start_time": "2022-05-10T12:37:11.547Z"
   },
   {
    "duration": 15,
    "start_time": "2022-05-10T12:37:15.338Z"
   },
   {
    "duration": 7,
    "start_time": "2022-05-10T12:37:18.828Z"
   },
   {
    "duration": 35,
    "start_time": "2022-05-10T12:37:23.009Z"
   },
   {
    "duration": 20,
    "start_time": "2022-05-10T12:37:26.378Z"
   },
   {
    "duration": 22,
    "start_time": "2022-05-10T12:37:29.347Z"
   },
   {
    "duration": 4,
    "start_time": "2022-05-10T12:37:32.670Z"
   },
   {
    "duration": 354,
    "start_time": "2022-05-10T12:37:36.387Z"
   },
   {
    "duration": 5,
    "start_time": "2022-05-10T12:37:40.009Z"
   },
   {
    "duration": 9,
    "start_time": "2022-05-10T12:37:42.964Z"
   },
   {
    "duration": 15,
    "start_time": "2022-05-10T12:37:45.738Z"
   },
   {
    "duration": 7,
    "start_time": "2022-05-10T12:37:49.162Z"
   },
   {
    "duration": 5,
    "start_time": "2022-05-10T12:37:52.097Z"
   },
   {
    "duration": 14,
    "start_time": "2022-05-10T12:37:54.976Z"
   },
   {
    "duration": 4,
    "start_time": "2022-05-10T12:37:58.145Z"
   },
   {
    "duration": 24,
    "start_time": "2022-05-10T12:38:02.211Z"
   },
   {
    "duration": 2,
    "start_time": "2022-05-10T12:38:06.813Z"
   },
   {
    "duration": 13,
    "start_time": "2022-05-10T12:38:10.275Z"
   },
   {
    "duration": 448,
    "start_time": "2022-05-10T12:38:15.811Z"
   },
   {
    "duration": 25,
    "start_time": "2022-05-10T12:38:20.209Z"
   },
   {
    "duration": 221,
    "start_time": "2022-05-10T12:38:23.570Z"
   },
   {
    "duration": 18,
    "start_time": "2022-05-10T12:38:27.625Z"
   },
   {
    "duration": 1101,
    "start_time": "2022-05-10T12:38:32.084Z"
   },
   {
    "duration": 36,
    "start_time": "2022-05-10T12:38:39.189Z"
   },
   {
    "duration": 12,
    "start_time": "2022-05-10T12:38:42.969Z"
   },
   {
    "duration": 148,
    "start_time": "2022-05-10T12:38:46.963Z"
   },
   {
    "duration": 13,
    "start_time": "2022-05-10T12:38:51.810Z"
   },
   {
    "duration": 21,
    "start_time": "2022-05-10T12:38:54.810Z"
   },
   {
    "duration": 481,
    "start_time": "2022-05-10T12:38:59.647Z"
   },
   {
    "duration": 264,
    "start_time": "2022-05-10T12:39:05.155Z"
   },
   {
    "duration": 172,
    "start_time": "2022-05-10T12:39:08.259Z"
   },
   {
    "duration": 183,
    "start_time": "2022-05-10T12:39:13.083Z"
   },
   {
    "duration": 242,
    "start_time": "2022-05-10T12:39:16.825Z"
   },
   {
    "duration": 179,
    "start_time": "2022-05-10T12:39:26.027Z"
   },
   {
    "duration": 51,
    "start_time": "2022-05-10T12:39:31.784Z"
   },
   {
    "duration": 413,
    "start_time": "2022-05-10T12:39:35.587Z"
   },
   {
    "duration": 63,
    "start_time": "2022-05-10T12:39:40.963Z"
   },
   {
    "duration": 8,
    "start_time": "2022-05-10T12:39:49.814Z"
   },
   {
    "duration": 457,
    "start_time": "2022-05-10T12:39:58.207Z"
   },
   {
    "duration": 5,
    "start_time": "2022-05-10T12:40:03.746Z"
   },
   {
    "duration": 416,
    "start_time": "2022-05-10T12:40:07.469Z"
   },
   {
    "duration": 483,
    "start_time": "2022-05-10T12:40:16.967Z"
   },
   {
    "duration": 475,
    "start_time": "2022-05-10T12:40:22.013Z"
   },
   {
    "duration": 423,
    "start_time": "2022-05-10T12:40:44.474Z"
   },
   {
    "duration": 13,
    "start_time": "2022-05-10T12:40:54.963Z"
   },
   {
    "duration": 515,
    "start_time": "2022-05-10T12:40:58.346Z"
   },
   {
    "duration": 438,
    "start_time": "2022-05-10T12:41:02.048Z"
   },
   {
    "duration": 12,
    "start_time": "2022-05-10T12:41:07.199Z"
   },
   {
    "duration": 18,
    "start_time": "2022-05-10T12:41:11.480Z"
   },
   {
    "duration": 10,
    "start_time": "2022-05-10T12:41:17.046Z"
   },
   {
    "duration": 8,
    "start_time": "2022-05-10T12:41:20.141Z"
   },
   {
    "duration": 8,
    "start_time": "2022-05-10T12:41:23.262Z"
   },
   {
    "duration": 9,
    "start_time": "2022-05-10T12:41:26.318Z"
   },
   {
    "duration": 9,
    "start_time": "2022-05-10T12:41:29.454Z"
   },
   {
    "duration": 445,
    "start_time": "2022-05-10T12:41:38.407Z"
   },
   {
    "duration": 450,
    "start_time": "2022-05-10T12:41:43.525Z"
   },
   {
    "duration": 16,
    "start_time": "2022-05-10T12:41:48.956Z"
   },
   {
    "duration": 227,
    "start_time": "2022-05-10T12:41:52.255Z"
   },
   {
    "duration": 20,
    "start_time": "2022-05-10T12:41:55.737Z"
   },
   {
    "duration": 374,
    "start_time": "2022-05-10T12:42:00.102Z"
   },
   {
    "duration": 18,
    "start_time": "2022-05-10T12:42:03.712Z"
   },
   {
    "duration": 229,
    "start_time": "2022-05-10T12:42:07.877Z"
   },
   {
    "duration": 20,
    "start_time": "2022-05-10T12:42:11.382Z"
   },
   {
    "duration": 351,
    "start_time": "2022-05-10T12:42:15.175Z"
   },
   {
    "duration": 19,
    "start_time": "2022-05-10T12:42:18.977Z"
   },
   {
    "duration": 257,
    "start_time": "2022-05-10T12:42:22.273Z"
   },
   {
    "duration": 20,
    "start_time": "2022-05-10T12:42:30.983Z"
   },
   {
    "duration": 484,
    "start_time": "2022-05-10T12:42:34.273Z"
   },
   {
    "duration": 18,
    "start_time": "2022-05-10T12:42:38.229Z"
   },
   {
    "duration": 224,
    "start_time": "2022-05-10T12:42:41.364Z"
   },
   {
    "duration": 11,
    "start_time": "2022-05-10T12:42:46.818Z"
   },
   {
    "duration": 334,
    "start_time": "2022-05-10T12:42:49.831Z"
   },
   {
    "duration": 11,
    "start_time": "2022-05-10T12:42:57.725Z"
   },
   {
    "duration": 372,
    "start_time": "2022-05-10T12:43:00.311Z"
   },
   {
    "duration": 15,
    "start_time": "2022-05-10T12:43:05.319Z"
   },
   {
    "duration": 356,
    "start_time": "2022-05-10T12:43:09.658Z"
   },
   {
    "duration": 13,
    "start_time": "2022-05-10T12:43:13.679Z"
   },
   {
    "duration": 380,
    "start_time": "2022-05-10T12:43:16.994Z"
   },
   {
    "duration": 9,
    "start_time": "2022-05-10T12:43:23.073Z"
   },
   {
    "duration": 9,
    "start_time": "2022-05-10T12:43:25.953Z"
   },
   {
    "duration": 217,
    "start_time": "2022-05-10T12:43:29.218Z"
   },
   {
    "duration": 314,
    "start_time": "2022-05-10T12:43:32.263Z"
   },
   {
    "duration": 218,
    "start_time": "2022-05-10T12:43:36.400Z"
   },
   {
    "duration": 13,
    "start_time": "2022-05-10T12:43:39.744Z"
   },
   {
    "duration": 353,
    "start_time": "2022-05-10T12:43:44.240Z"
   },
   {
    "duration": 7,
    "start_time": "2022-05-10T12:43:49.455Z"
   },
   {
    "duration": 10,
    "start_time": "2022-05-10T12:43:52.567Z"
   },
   {
    "duration": 210,
    "start_time": "2022-05-10T12:43:56.488Z"
   },
   {
    "duration": 193,
    "start_time": "2022-05-10T12:44:02.336Z"
   },
   {
    "duration": 203,
    "start_time": "2022-05-10T12:44:06.066Z"
   },
   {
    "duration": 13,
    "start_time": "2022-05-10T12:44:09.652Z"
   },
   {
    "duration": 370,
    "start_time": "2022-05-10T12:44:14.281Z"
   },
   {
    "duration": 17,
    "start_time": "2022-05-10T12:44:21.555Z"
   },
   {
    "duration": 9,
    "start_time": "2022-05-10T12:44:25.202Z"
   },
   {
    "duration": 12,
    "start_time": "2022-05-10T12:44:37.089Z"
   },
   {
    "duration": 11,
    "start_time": "2022-05-10T12:44:40.992Z"
   },
   {
    "duration": 1270,
    "start_time": "2022-05-10T12:48:09.007Z"
   },
   {
    "duration": 78,
    "start_time": "2022-05-10T12:48:11.611Z"
   },
   {
    "duration": 48,
    "start_time": "2022-05-10T12:48:13.262Z"
   },
   {
    "duration": 15,
    "start_time": "2022-05-10T12:48:19.791Z"
   },
   {
    "duration": 30,
    "start_time": "2022-05-10T12:48:23.382Z"
   },
   {
    "duration": 8,
    "start_time": "2022-05-10T12:48:26.993Z"
   },
   {
    "duration": 32,
    "start_time": "2022-05-10T12:48:30.965Z"
   },
   {
    "duration": 29,
    "start_time": "2022-05-10T12:48:34.983Z"
   },
   {
    "duration": 23,
    "start_time": "2022-05-10T12:48:38.302Z"
   },
   {
    "duration": 4,
    "start_time": "2022-05-10T12:48:41.798Z"
   },
   {
    "duration": 354,
    "start_time": "2022-05-10T12:48:44.956Z"
   },
   {
    "duration": 5,
    "start_time": "2022-05-10T12:48:49.004Z"
   },
   {
    "duration": 7,
    "start_time": "2022-05-10T12:48:52.426Z"
   },
   {
    "duration": 16,
    "start_time": "2022-05-10T12:48:55.271Z"
   },
   {
    "duration": 8,
    "start_time": "2022-05-10T12:48:58.986Z"
   },
   {
    "duration": 6,
    "start_time": "2022-05-10T12:49:01.774Z"
   },
   {
    "duration": 16,
    "start_time": "2022-05-10T12:49:04.269Z"
   },
   {
    "duration": 6,
    "start_time": "2022-05-10T12:49:07.151Z"
   },
   {
    "duration": 42,
    "start_time": "2022-05-10T12:49:10.977Z"
   },
   {
    "duration": 3,
    "start_time": "2022-05-10T12:49:15.641Z"
   },
   {
    "duration": 13,
    "start_time": "2022-05-10T12:49:18.319Z"
   },
   {
    "duration": 501,
    "start_time": "2022-05-10T12:49:22.464Z"
   },
   {
    "duration": 18,
    "start_time": "2022-05-10T12:49:26.367Z"
   },
   {
    "duration": 209,
    "start_time": "2022-05-10T12:49:29.783Z"
   },
   {
    "duration": 21,
    "start_time": "2022-05-10T12:49:33.638Z"
   },
   {
    "duration": 1139,
    "start_time": "2022-05-10T12:49:39.551Z"
   },
   {
    "duration": 58,
    "start_time": "2022-05-10T12:49:44.969Z"
   },
   {
    "duration": 12,
    "start_time": "2022-05-10T12:49:49.127Z"
   },
   {
    "duration": 152,
    "start_time": "2022-05-10T12:49:53.646Z"
   },
   {
    "duration": 14,
    "start_time": "2022-05-10T12:49:56.829Z"
   },
   {
    "duration": 22,
    "start_time": "2022-05-10T12:49:59.985Z"
   },
   {
    "duration": 501,
    "start_time": "2022-05-10T12:50:06.432Z"
   },
   {
    "duration": 268,
    "start_time": "2022-05-10T12:50:10.687Z"
   },
   {
    "duration": 192,
    "start_time": "2022-05-10T12:50:18.988Z"
   },
   {
    "duration": 196,
    "start_time": "2022-05-10T12:50:23.769Z"
   },
   {
    "duration": 175,
    "start_time": "2022-05-10T12:50:27.043Z"
   },
   {
    "duration": 182,
    "start_time": "2022-05-10T12:50:31.815Z"
   },
   {
    "duration": 52,
    "start_time": "2022-05-10T12:50:37.320Z"
   },
   {
    "duration": 392,
    "start_time": "2022-05-10T12:50:41.208Z"
   },
   {
    "duration": 61,
    "start_time": "2022-05-10T12:50:46.283Z"
   },
   {
    "duration": 6,
    "start_time": "2022-05-10T12:50:55.289Z"
   },
   {
    "duration": 461,
    "start_time": "2022-05-10T12:50:59.045Z"
   },
   {
    "duration": 5,
    "start_time": "2022-05-10T12:51:04.154Z"
   },
   {
    "duration": 426,
    "start_time": "2022-05-10T12:51:07.427Z"
   },
   {
    "duration": 473,
    "start_time": "2022-05-10T12:51:15.854Z"
   },
   {
    "duration": 435,
    "start_time": "2022-05-10T12:51:57.680Z"
   },
   {
    "duration": 443,
    "start_time": "2022-05-10T12:52:02.973Z"
   },
   {
    "duration": 568,
    "start_time": "2022-05-10T12:52:05.575Z"
   },
   {
    "duration": 13,
    "start_time": "2022-05-10T12:52:10.435Z"
   },
   {
    "duration": 454,
    "start_time": "2022-05-10T12:52:15.066Z"
   },
   {
    "duration": 462,
    "start_time": "2022-05-10T12:52:18.996Z"
   },
   {
    "duration": 12,
    "start_time": "2022-05-10T12:52:24.220Z"
   },
   {
    "duration": 17,
    "start_time": "2022-05-10T12:52:27.750Z"
   },
   {
    "duration": 9,
    "start_time": "2022-05-10T12:53:46.613Z"
   },
   {
    "duration": 7,
    "start_time": "2022-05-10T12:53:50.103Z"
   },
   {
    "duration": 9,
    "start_time": "2022-05-10T12:53:53.052Z"
   },
   {
    "duration": 8,
    "start_time": "2022-05-10T12:53:56.076Z"
   },
   {
    "duration": 441,
    "start_time": "2022-05-10T12:54:00.515Z"
   },
   {
    "duration": 451,
    "start_time": "2022-05-10T12:54:06.660Z"
   },
   {
    "duration": 16,
    "start_time": "2022-05-10T12:54:11.437Z"
   },
   {
    "duration": 235,
    "start_time": "2022-05-10T12:54:14.565Z"
   },
   {
    "duration": 27,
    "start_time": "2022-05-10T12:54:19.128Z"
   },
   {
    "duration": 361,
    "start_time": "2022-05-10T12:54:22.152Z"
   },
   {
    "duration": 19,
    "start_time": "2022-05-10T12:54:25.896Z"
   },
   {
    "duration": 221,
    "start_time": "2022-05-10T12:54:28.626Z"
   },
   {
    "duration": 21,
    "start_time": "2022-05-10T12:54:31.663Z"
   },
   {
    "duration": 367,
    "start_time": "2022-05-10T12:54:34.593Z"
   },
   {
    "duration": 18,
    "start_time": "2022-05-10T12:54:37.709Z"
   },
   {
    "duration": 332,
    "start_time": "2022-05-10T12:54:40.637Z"
   },
   {
    "duration": 19,
    "start_time": "2022-05-10T12:54:43.820Z"
   },
   {
    "duration": 377,
    "start_time": "2022-05-10T12:54:46.625Z"
   },
   {
    "duration": 18,
    "start_time": "2022-05-10T12:54:50.566Z"
   },
   {
    "duration": 233,
    "start_time": "2022-05-10T12:54:53.446Z"
   },
   {
    "duration": 11,
    "start_time": "2022-05-10T12:54:59.170Z"
   },
   {
    "duration": 332,
    "start_time": "2022-05-10T12:55:02.372Z"
   },
   {
    "duration": 8,
    "start_time": "2022-05-10T12:55:06.299Z"
   },
   {
    "duration": 370,
    "start_time": "2022-05-10T12:55:09.397Z"
   },
   {
    "duration": 15,
    "start_time": "2022-05-10T12:55:17.271Z"
   },
   {
    "duration": 356,
    "start_time": "2022-05-10T12:55:21.018Z"
   },
   {
    "duration": 11,
    "start_time": "2022-05-10T12:55:25.495Z"
   },
   {
    "duration": 478,
    "start_time": "2022-05-10T12:55:28.699Z"
   },
   {
    "duration": 8,
    "start_time": "2022-05-10T12:55:34.531Z"
   },
   {
    "duration": 10,
    "start_time": "2022-05-10T12:55:37.109Z"
   },
   {
    "duration": 232,
    "start_time": "2022-05-10T12:55:40.504Z"
   },
   {
    "duration": 228,
    "start_time": "2022-05-10T12:55:43.917Z"
   },
   {
    "duration": 232,
    "start_time": "2022-05-10T12:55:47.391Z"
   },
   {
    "duration": 14,
    "start_time": "2022-05-10T12:55:51.022Z"
   },
   {
    "duration": 371,
    "start_time": "2022-05-10T12:55:55.003Z"
   },
   {
    "duration": 9,
    "start_time": "2022-05-10T12:55:59.861Z"
   },
   {
    "duration": 9,
    "start_time": "2022-05-10T12:56:02.706Z"
   },
   {
    "duration": 218,
    "start_time": "2022-05-10T12:56:05.879Z"
   },
   {
    "duration": 199,
    "start_time": "2022-05-10T12:56:09.825Z"
   },
   {
    "duration": 212,
    "start_time": "2022-05-10T12:56:13.685Z"
   },
   {
    "duration": 12,
    "start_time": "2022-05-10T12:56:17.279Z"
   },
   {
    "duration": 353,
    "start_time": "2022-05-10T12:56:20.555Z"
   },
   {
    "duration": 16,
    "start_time": "2022-05-10T12:56:26.014Z"
   },
   {
    "duration": 10,
    "start_time": "2022-05-10T12:56:29.958Z"
   },
   {
    "duration": 11,
    "start_time": "2022-05-10T12:56:34.343Z"
   },
   {
    "duration": 9,
    "start_time": "2022-05-10T12:56:38.153Z"
   },
   {
    "duration": 1039,
    "start_time": "2022-05-18T10:10:25.550Z"
   },
   {
    "duration": 36,
    "start_time": "2022-05-18T10:10:26.591Z"
   },
   {
    "duration": 106,
    "start_time": "2022-05-18T10:10:26.629Z"
   },
   {
    "duration": 0,
    "start_time": "2022-05-18T10:10:26.738Z"
   },
   {
    "duration": 0,
    "start_time": "2022-05-18T10:10:26.740Z"
   },
   {
    "duration": 0,
    "start_time": "2022-05-18T10:10:26.741Z"
   },
   {
    "duration": 0,
    "start_time": "2022-05-18T10:10:26.742Z"
   },
   {
    "duration": 0,
    "start_time": "2022-05-18T10:10:26.743Z"
   },
   {
    "duration": 0,
    "start_time": "2022-05-18T10:10:26.759Z"
   },
   {
    "duration": 0,
    "start_time": "2022-05-18T10:10:26.760Z"
   },
   {
    "duration": 0,
    "start_time": "2022-05-18T10:10:26.765Z"
   },
   {
    "duration": 0,
    "start_time": "2022-05-18T10:10:26.769Z"
   },
   {
    "duration": 0,
    "start_time": "2022-05-18T10:10:26.771Z"
   },
   {
    "duration": 0,
    "start_time": "2022-05-18T10:10:26.779Z"
   },
   {
    "duration": 0,
    "start_time": "2022-05-18T10:10:26.780Z"
   },
   {
    "duration": 0,
    "start_time": "2022-05-18T10:10:26.781Z"
   },
   {
    "duration": 0,
    "start_time": "2022-05-18T10:10:26.782Z"
   },
   {
    "duration": 0,
    "start_time": "2022-05-18T10:10:26.783Z"
   },
   {
    "duration": 0,
    "start_time": "2022-05-18T10:10:26.784Z"
   },
   {
    "duration": 0,
    "start_time": "2022-05-18T10:10:26.785Z"
   },
   {
    "duration": 0,
    "start_time": "2022-05-18T10:10:26.787Z"
   },
   {
    "duration": 0,
    "start_time": "2022-05-18T10:10:26.788Z"
   },
   {
    "duration": 0,
    "start_time": "2022-05-18T10:10:26.789Z"
   },
   {
    "duration": 0,
    "start_time": "2022-05-18T10:10:26.790Z"
   },
   {
    "duration": 0,
    "start_time": "2022-05-18T10:10:26.791Z"
   },
   {
    "duration": 0,
    "start_time": "2022-05-18T10:10:26.792Z"
   },
   {
    "duration": 0,
    "start_time": "2022-05-18T10:10:26.793Z"
   },
   {
    "duration": 0,
    "start_time": "2022-05-18T10:10:26.794Z"
   },
   {
    "duration": 0,
    "start_time": "2022-05-18T10:10:26.795Z"
   },
   {
    "duration": 0,
    "start_time": "2022-05-18T10:10:26.796Z"
   },
   {
    "duration": 0,
    "start_time": "2022-05-18T10:10:26.797Z"
   },
   {
    "duration": 0,
    "start_time": "2022-05-18T10:10:26.798Z"
   },
   {
    "duration": 0,
    "start_time": "2022-05-18T10:10:26.799Z"
   },
   {
    "duration": 0,
    "start_time": "2022-05-18T10:10:26.800Z"
   },
   {
    "duration": 0,
    "start_time": "2022-05-18T10:10:26.801Z"
   },
   {
    "duration": 0,
    "start_time": "2022-05-18T10:10:26.802Z"
   },
   {
    "duration": 0,
    "start_time": "2022-05-18T10:10:26.803Z"
   },
   {
    "duration": 0,
    "start_time": "2022-05-18T10:10:26.804Z"
   },
   {
    "duration": 0,
    "start_time": "2022-05-18T10:10:26.805Z"
   },
   {
    "duration": 0,
    "start_time": "2022-05-18T10:10:26.806Z"
   },
   {
    "duration": 0,
    "start_time": "2022-05-18T10:10:26.807Z"
   },
   {
    "duration": 0,
    "start_time": "2022-05-18T10:10:26.808Z"
   },
   {
    "duration": 0,
    "start_time": "2022-05-18T10:10:26.859Z"
   },
   {
    "duration": 0,
    "start_time": "2022-05-18T10:10:26.860Z"
   },
   {
    "duration": 0,
    "start_time": "2022-05-18T10:10:26.861Z"
   },
   {
    "duration": 0,
    "start_time": "2022-05-18T10:10:26.862Z"
   },
   {
    "duration": 0,
    "start_time": "2022-05-18T10:10:26.862Z"
   },
   {
    "duration": 0,
    "start_time": "2022-05-18T10:10:26.863Z"
   },
   {
    "duration": 0,
    "start_time": "2022-05-18T10:10:26.864Z"
   },
   {
    "duration": 993,
    "start_time": "2022-05-18T10:20:53.532Z"
   },
   {
    "duration": 208,
    "start_time": "2022-05-18T10:20:54.527Z"
   },
   {
    "duration": 12,
    "start_time": "2022-05-18T10:20:54.737Z"
   },
   {
    "duration": 64,
    "start_time": "2022-05-18T10:20:54.751Z"
   },
   {
    "duration": 13,
    "start_time": "2022-05-18T10:20:54.816Z"
   },
   {
    "duration": 74,
    "start_time": "2022-05-18T10:20:54.831Z"
   },
   {
    "duration": 13,
    "start_time": "2022-05-18T10:20:54.907Z"
   },
   {
    "duration": 23,
    "start_time": "2022-05-18T10:20:54.922Z"
   },
   {
    "duration": 19,
    "start_time": "2022-05-18T10:20:54.947Z"
   },
   {
    "duration": 35,
    "start_time": "2022-05-18T10:20:54.969Z"
   },
   {
    "duration": 14,
    "start_time": "2022-05-18T10:20:55.005Z"
   },
   {
    "duration": 15,
    "start_time": "2022-05-18T10:20:55.021Z"
   },
   {
    "duration": 21,
    "start_time": "2022-05-18T10:20:55.038Z"
   },
   {
    "duration": 54,
    "start_time": "2022-05-18T10:20:55.065Z"
   },
   {
    "duration": 6,
    "start_time": "2022-05-18T10:20:55.120Z"
   },
   {
    "duration": 11,
    "start_time": "2022-05-18T10:20:55.128Z"
   },
   {
    "duration": 62,
    "start_time": "2022-05-18T10:20:55.140Z"
   },
   {
    "duration": 15,
    "start_time": "2022-05-18T10:20:55.204Z"
   },
   {
    "duration": 27,
    "start_time": "2022-05-18T10:20:55.221Z"
   },
   {
    "duration": 48,
    "start_time": "2022-05-18T10:20:55.249Z"
   },
   {
    "duration": 53,
    "start_time": "2022-05-18T10:20:55.298Z"
   },
   {
    "duration": 24,
    "start_time": "2022-05-18T10:20:55.352Z"
   },
   {
    "duration": 1922,
    "start_time": "2022-05-18T10:20:55.381Z"
   },
   {
    "duration": 1166,
    "start_time": "2022-05-18T10:20:57.304Z"
   },
   {
    "duration": 22,
    "start_time": "2022-05-18T10:20:58.472Z"
   },
   {
    "duration": 26,
    "start_time": "2022-05-18T10:20:58.496Z"
   },
   {
    "duration": 25,
    "start_time": "2022-05-18T10:20:58.524Z"
   },
   {
    "duration": 18,
    "start_time": "2022-05-18T10:20:58.553Z"
   },
   {
    "duration": 1801,
    "start_time": "2022-05-18T10:20:58.572Z"
   },
   {
    "duration": 23,
    "start_time": "2022-05-18T10:21:00.374Z"
   },
   {
    "duration": 18,
    "start_time": "2022-05-18T10:21:00.398Z"
   },
   {
    "duration": 6,
    "start_time": "2022-05-18T10:21:00.417Z"
   },
   {
    "duration": 11,
    "start_time": "2022-05-18T10:21:00.424Z"
   },
   {
    "duration": 952,
    "start_time": "2022-05-18T10:21:00.436Z"
   },
   {
    "duration": 23,
    "start_time": "2022-05-18T10:21:01.395Z"
   },
   {
    "duration": 49,
    "start_time": "2022-05-18T10:21:01.419Z"
   },
   {
    "duration": 895,
    "start_time": "2022-05-18T10:21:01.470Z"
   },
   {
    "duration": 11,
    "start_time": "2022-05-18T10:21:02.367Z"
   },
   {
    "duration": 324,
    "start_time": "2022-05-18T10:21:02.385Z"
   },
   {
    "duration": 3,
    "start_time": "2022-05-18T10:21:02.711Z"
   },
   {
    "duration": 54828,
    "start_time": "2022-05-18T10:21:02.715Z"
   },
   {
    "duration": 20,
    "start_time": "2022-05-18T10:21:57.544Z"
   },
   {
    "duration": 36,
    "start_time": "2022-05-18T10:21:57.565Z"
   },
   {
    "duration": 201,
    "start_time": "2022-05-18T10:21:57.603Z"
   },
   {
    "duration": 6,
    "start_time": "2022-05-18T10:21:57.806Z"
   },
   {
    "duration": 37,
    "start_time": "2022-05-18T10:21:57.814Z"
   },
   {
    "duration": 44,
    "start_time": "2022-05-18T10:21:57.853Z"
   },
   {
    "duration": 278,
    "start_time": "2022-05-18T10:21:57.899Z"
   },
   {
    "duration": 20,
    "start_time": "2022-05-18T10:21:58.186Z"
   }
  ],
  "kernelspec": {
   "display_name": "Python 3 (ipykernel)",
   "language": "python",
   "name": "python3"
  },
  "language_info": {
   "codemirror_mode": {
    "name": "ipython",
    "version": 3
   },
   "file_extension": ".py",
   "mimetype": "text/x-python",
   "name": "python",
   "nbconvert_exporter": "python",
   "pygments_lexer": "ipython3",
   "version": "3.9.7"
  },
  "toc": {
   "base_numbering": 1,
   "nav_menu": {},
   "number_sections": true,
   "sideBar": true,
   "skip_h1_title": true,
   "title_cell": "Содержание",
   "title_sidebar": "Contents",
   "toc_cell": true,
   "toc_position": {
    "height": "calc(100% - 180px)",
    "left": "10px",
    "top": "150px",
    "width": "247px"
   },
   "toc_section_display": true,
   "toc_window_display": true
  }
 },
 "nbformat": 4,
 "nbformat_minor": 4
}
