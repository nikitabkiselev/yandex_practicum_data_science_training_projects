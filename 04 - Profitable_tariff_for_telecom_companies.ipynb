{
 "cells": [
  {
   "cell_type": "markdown",
   "metadata": {
    "toc": true
   },
   "source": [
    "<h1>Содержание<span class=\"tocSkip\"></span></h1>\n",
    "<div class=\"toc\"><ul class=\"toc-item\"><li><span><a href=\"#Изучение-данных-из-файла\" data-toc-modified-id=\"Изучение-данных-из-файла-1\"><span class=\"toc-item-num\">1&nbsp;&nbsp;</span>Изучение данных из файла</a></span><ul class=\"toc-item\"><li><span><a href=\"#Вывод\" data-toc-modified-id=\"Вывод-1.1\"><span class=\"toc-item-num\">1.1&nbsp;&nbsp;</span>Вывод</a></span></li></ul></li><li><span><a href=\"#Предобработка-данных\" data-toc-modified-id=\"Предобработка-данных-2\"><span class=\"toc-item-num\">2&nbsp;&nbsp;</span>Предобработка данных</a></span><ul class=\"toc-item\"><li><span><a href=\"#Вывод\" data-toc-modified-id=\"Вывод-2.1\"><span class=\"toc-item-num\">2.1&nbsp;&nbsp;</span>Вывод</a></span></li></ul></li><li><span><a href=\"#Исследовательский-анализ-данных\" data-toc-modified-id=\"Исследовательский-анализ-данных-3\"><span class=\"toc-item-num\">3&nbsp;&nbsp;</span>Исследовательский анализ данных</a></span></li><li><span><a href=\"#Проверка-гипотез\" data-toc-modified-id=\"Проверка-гипотез-4\"><span class=\"toc-item-num\">4&nbsp;&nbsp;</span>Проверка гипотез</a></span></li><li><span><a href=\"#Общий-вывод\" data-toc-modified-id=\"Общий-вывод-5\"><span class=\"toc-item-num\">5&nbsp;&nbsp;</span>Общий вывод</a></span></li></ul></div>"
   ]
  },
  {
   "cell_type": "markdown",
   "metadata": {},
   "source": [
    "# Исследование тарифов\n",
    "\n",
    "\n",
    "Вы аналитик компании «Мегалайн» — федерального оператора сотовой связи. Клиентам предлагают два тарифных плана: «Смарт» и «Ультра». Чтобы скорректировать рекламный бюджет, коммерческий департамент хочет понять, какой тариф приносит больше денег.\n",
    "Вам предстоит сделать предварительный анализ тарифов на небольшой выборке клиентов. В вашем распоряжении данные 500 пользователей «Мегалайна»: кто они, откуда, каким тарифом пользуются, сколько звонков и сообщений каждый отправил за 2018 год. Нужно проанализировать поведение клиентов и сделать вывод — какой тариф лучше.     \n",
    "\n",
    "ОПИСАНИЕ ТАРИФОВ  \n",
    "\n",
    " Тариф «Смарт»  \n",
    " 1. Ежемесячная плата: 550 рублей  \n",
    " 2. Включено 500 минут разговора, 50 сообщений и 15 Гб интернет-трафика  \n",
    " 3. Стоимость услуг сверх тарифного пакета:  \n",
    " - минута разговора: 3 рубля  \n",
    " - сообщение: 3 рубля  \n",
    " - 1 Гб интернет-трафика: 200 рублей  \n",
    "\n",
    "Тариф «Ультра»  \n",
    " 1. Ежемесячная плата: 1950 рублей  \n",
    " 2. Включено 3000 минут разговора, 1000 сообщений и 30 Гб интернет-трафика  \n",
    " 3. Стоимость услуг сверх тарифного пакета:  \n",
    " - минута разговора: 1 рубль  \n",
    " - сообщение: 1 рубль  \n",
    " - 1 Гб интернет-трафика: 150 рублей  \n",
    "Важно: оператор всегда округляет вверх значения минут и мегабайтов. Если пользователь проговорил всего 1 секунду, в тарифе засчитывается целая минута.\n",
    "\n",
    "ОПИСАНИЕ ДАННЫХ\n",
    "\n",
    "Таблица users (информация о пользователях):\n",
    "\n",
    "    - user_id — уникальный идентификатор пользователя\n",
    "    - first_name — имя пользователя\n",
    "    - last_name — фамилия пользователя\n",
    "    - age — возраст пользователя (годы)\n",
    "    - reg_date — дата подключения тарифа (день, месяц, год)\n",
    "    - churn_date — дата прекращения пользования тарифом (если значение пропущено, то тариф ещё действовал на момент выгрузки данных)\n",
    "    - city — город проживания пользователя\n",
    "    - tariff — название тарифного плана\n",
    "\n",
    "Таблица calls (информация о звонках):\n",
    "\n",
    "    - id — уникальный номер звонка\n",
    "    - call_date — дата звонка\n",
    "    - duration — длительность звонка в минутах\n",
    "    - user_id — идентификатор пользователя, сделавшего звонок\n",
    "\n",
    "Таблица messages (информация о сообщениях):\n",
    "\n",
    "    - id — уникальный номер сообщения\n",
    "    - message_date — дата сообщения\n",
    "    - user_id — идентификатор пользователя, отправившего сообщение\n",
    "\n",
    "Таблица internet (информация об интернет-сессиях):\n",
    "\n",
    "    - id — уникальный номер сессии\n",
    "    - mb_used — объём потраченного за сессию интернет-трафика (в мегабайтах)\n",
    "    - session_date — дата интернет-сессии\n",
    "    - user_id — идентификатор пользователя\n",
    "\n",
    "Таблица tariffs (информация о тарифах):\n",
    "\n",
    "    - tariff_name — название тарифа\n",
    "    - rub_monthly_fee — ежемесячная абонентская плата в рублях\n",
    "    - minutes_included — количество минут разговора в месяц, включённых в абонентскую плату\n",
    "    - messages_included — количество сообщений в месяц, включённых в абонентскую плату\n",
    "    - mb_per_month_included — объём интернет-трафика, включённого в абонентскую плату (в мегабайтах)\n",
    "    - rub_per_minute — стоимость минуты разговора сверх тарифного пакета (например, если в тарифе 100 минут разговора в месяц, то со 101 минуты будет взиматься плата)\n",
    "    rub_per_message — стоимость отправки сообщения сверх тарифного пакета\n",
    "    rub_per_gb — стоимость дополнительного гигабайта интернет-трафика сверх тарифного пакета (1 гигабайт = 1024 мегабайта)\n",
    "\n"
   ]
  },
  {
   "cell_type": "markdown",
   "metadata": {},
   "source": [
    "## Изучение данных из файла"
   ]
  },
  {
   "cell_type": "code",
   "execution_count": 1,
   "metadata": {},
   "outputs": [],
   "source": [
    "#Импорт библиотек\n",
    "import pandas as pd\n",
    "import math\n",
    "import numpy as np\n",
    "import matplotlib.pyplot as plt\n",
    "from scipy import stats as st"
   ]
  },
  {
   "cell_type": "code",
   "execution_count": 2,
   "metadata": {},
   "outputs": [],
   "source": [
    "pd.set_option('display.max_columns', 25)"
   ]
  },
  {
   "cell_type": "code",
   "execution_count": 3,
   "metadata": {},
   "outputs": [],
   "source": [
    "#Чтение файлов с локального диска\n",
    "#Df_tariffs = pd.read_csv(r\"D:\\YANDEX.PRAKTIKUM\\DATA_SCIENCE\\Статистический_анализ_данных\\tariffs.csv\")\n",
    "#Df_users = pd.read_csv(r\"D:\\YANDEX.PRAKTIKUM\\DATA_SCIENCE\\Статистический_анализ_данных\\users.csv\")\n",
    "#Df_calls = pd.read_csv(r\"D:\\YANDEX.PRAKTIKUM\\DATA_SCIENCE\\Статистический_анализ_данных\\calls.csv\")\n",
    "#Df_messages = pd.read_csv(r\"D:\\YANDEX.PRAKTIKUM\\DATA_SCIENCE\\Статистический_анализ_данных\\messages.csv\")\n",
    "#Df_internet = pd.read_csv(r\"D:\\YANDEX.PRAKTIKUM\\DATA_SCIENCE\\Статистический_анализ_данных\\internet.csv\", index_col=0)\n",
    "#Чтение файлов с сервера\n",
    "Df_tariffs = pd.read_csv('/datasets/tariffs.csv')\n",
    "Df_users = pd.read_csv('/datasets/users.csv')\n",
    "Df_calls = pd.read_csv('/datasets/calls.csv')\n",
    "Df_messages = pd.read_csv('/datasets/messages.csv')\n",
    "Df_internet = pd.read_csv('/datasets/internet.csv', index_col=0)"
   ]
  },
  {
   "cell_type": "code",
   "execution_count": 4,
   "metadata": {},
   "outputs": [
    {
     "data": {
      "text/html": [
       "<div>\n",
       "<style scoped>\n",
       "    .dataframe tbody tr th:only-of-type {\n",
       "        vertical-align: middle;\n",
       "    }\n",
       "\n",
       "    .dataframe tbody tr th {\n",
       "        vertical-align: top;\n",
       "    }\n",
       "\n",
       "    .dataframe thead th {\n",
       "        text-align: right;\n",
       "    }\n",
       "</style>\n",
       "<table border=\"1\" class=\"dataframe\">\n",
       "  <thead>\n",
       "    <tr style=\"text-align: right;\">\n",
       "      <th></th>\n",
       "      <th>mb_per_month_included</th>\n",
       "      <th>minutes_included</th>\n",
       "      <th>rub_monthly_fee</th>\n",
       "      <th>rub_per_gb</th>\n",
       "      <th>rub_per_message</th>\n",
       "      <th>rub_per_minute</th>\n",
       "      <th>tariff_name</th>\n",
       "    </tr>\n",
       "    <tr>\n",
       "      <th>messages_included</th>\n",
       "      <th></th>\n",
       "      <th></th>\n",
       "      <th></th>\n",
       "      <th></th>\n",
       "      <th></th>\n",
       "      <th></th>\n",
       "      <th></th>\n",
       "    </tr>\n",
       "  </thead>\n",
       "  <tbody>\n",
       "    <tr>\n",
       "      <th>50</th>\n",
       "      <td>15360</td>\n",
       "      <td>500</td>\n",
       "      <td>550</td>\n",
       "      <td>200</td>\n",
       "      <td>3</td>\n",
       "      <td>3</td>\n",
       "      <td>smart</td>\n",
       "    </tr>\n",
       "    <tr>\n",
       "      <th>1000</th>\n",
       "      <td>30720</td>\n",
       "      <td>3000</td>\n",
       "      <td>1950</td>\n",
       "      <td>150</td>\n",
       "      <td>1</td>\n",
       "      <td>1</td>\n",
       "      <td>ultra</td>\n",
       "    </tr>\n",
       "  </tbody>\n",
       "</table>\n",
       "</div>"
      ],
      "text/plain": [
       "                   mb_per_month_included  minutes_included  rub_monthly_fee  \\\n",
       "messages_included                                                             \n",
       "50                                 15360               500              550   \n",
       "1000                               30720              3000             1950   \n",
       "\n",
       "                   rub_per_gb  rub_per_message  rub_per_minute tariff_name  \n",
       "messages_included                                                           \n",
       "50                        200                3               3       smart  \n",
       "1000                      150                1               1       ultra  "
      ]
     },
     "execution_count": 4,
     "metadata": {},
     "output_type": "execute_result"
    }
   ],
   "source": [
    "Df_tariffs"
   ]
  },
  {
   "cell_type": "code",
   "execution_count": 4,
   "metadata": {
    "scrolled": true
   },
   "outputs": [
    {
     "name": "stdout",
     "output_type": "stream",
     "text": [
      "<class 'pandas.core.frame.DataFrame'>\n",
      "RangeIndex: 2 entries, 0 to 1\n",
      "Data columns (total 8 columns):\n",
      " #   Column                 Non-Null Count  Dtype \n",
      "---  ------                 --------------  ----- \n",
      " 0   messages_included      2 non-null      int64 \n",
      " 1   mb_per_month_included  2 non-null      int64 \n",
      " 2   minutes_included       2 non-null      int64 \n",
      " 3   rub_monthly_fee        2 non-null      int64 \n",
      " 4   rub_per_gb             2 non-null      int64 \n",
      " 5   rub_per_message        2 non-null      int64 \n",
      " 6   rub_per_minute         2 non-null      int64 \n",
      " 7   tariff_name            2 non-null      object\n",
      "dtypes: int64(7), object(1)\n",
      "memory usage: 256.0+ bytes\n"
     ]
    }
   ],
   "source": [
    "Df_tariffs.info()"
   ]
  },
  {
   "cell_type": "code",
   "execution_count": 5,
   "metadata": {},
   "outputs": [
    {
     "data": {
      "text/html": [
       "<div>\n",
       "<style scoped>\n",
       "    .dataframe tbody tr th:only-of-type {\n",
       "        vertical-align: middle;\n",
       "    }\n",
       "\n",
       "    .dataframe tbody tr th {\n",
       "        vertical-align: top;\n",
       "    }\n",
       "\n",
       "    .dataframe thead th {\n",
       "        text-align: right;\n",
       "    }\n",
       "</style>\n",
       "<table border=\"1\" class=\"dataframe\">\n",
       "  <thead>\n",
       "    <tr style=\"text-align: right;\">\n",
       "      <th></th>\n",
       "      <th>user_id</th>\n",
       "      <th>age</th>\n",
       "      <th>churn_date</th>\n",
       "      <th>city</th>\n",
       "      <th>first_name</th>\n",
       "      <th>last_name</th>\n",
       "      <th>reg_date</th>\n",
       "      <th>tariff</th>\n",
       "    </tr>\n",
       "  </thead>\n",
       "  <tbody>\n",
       "    <tr>\n",
       "      <th>0</th>\n",
       "      <td>1000</td>\n",
       "      <td>52</td>\n",
       "      <td>NaN</td>\n",
       "      <td>Краснодар</td>\n",
       "      <td>Рафаил</td>\n",
       "      <td>Верещагин</td>\n",
       "      <td>2018-05-25</td>\n",
       "      <td>ultra</td>\n",
       "    </tr>\n",
       "    <tr>\n",
       "      <th>1</th>\n",
       "      <td>1001</td>\n",
       "      <td>41</td>\n",
       "      <td>NaN</td>\n",
       "      <td>Москва</td>\n",
       "      <td>Иван</td>\n",
       "      <td>Ежов</td>\n",
       "      <td>2018-11-01</td>\n",
       "      <td>smart</td>\n",
       "    </tr>\n",
       "    <tr>\n",
       "      <th>2</th>\n",
       "      <td>1002</td>\n",
       "      <td>59</td>\n",
       "      <td>NaN</td>\n",
       "      <td>Стерлитамак</td>\n",
       "      <td>Евгений</td>\n",
       "      <td>Абрамович</td>\n",
       "      <td>2018-06-17</td>\n",
       "      <td>smart</td>\n",
       "    </tr>\n",
       "    <tr>\n",
       "      <th>3</th>\n",
       "      <td>1003</td>\n",
       "      <td>23</td>\n",
       "      <td>NaN</td>\n",
       "      <td>Москва</td>\n",
       "      <td>Белла</td>\n",
       "      <td>Белякова</td>\n",
       "      <td>2018-08-17</td>\n",
       "      <td>ultra</td>\n",
       "    </tr>\n",
       "    <tr>\n",
       "      <th>4</th>\n",
       "      <td>1004</td>\n",
       "      <td>68</td>\n",
       "      <td>NaN</td>\n",
       "      <td>Новокузнецк</td>\n",
       "      <td>Татьяна</td>\n",
       "      <td>Авдеенко</td>\n",
       "      <td>2018-05-14</td>\n",
       "      <td>ultra</td>\n",
       "    </tr>\n",
       "  </tbody>\n",
       "</table>\n",
       "</div>"
      ],
      "text/plain": [
       "   user_id  age churn_date         city first_name  last_name    reg_date  \\\n",
       "0     1000   52        NaN    Краснодар     Рафаил  Верещагин  2018-05-25   \n",
       "1     1001   41        NaN       Москва       Иван       Ежов  2018-11-01   \n",
       "2     1002   59        NaN  Стерлитамак    Евгений  Абрамович  2018-06-17   \n",
       "3     1003   23        NaN       Москва      Белла   Белякова  2018-08-17   \n",
       "4     1004   68        NaN  Новокузнецк    Татьяна   Авдеенко  2018-05-14   \n",
       "\n",
       "  tariff  \n",
       "0  ultra  \n",
       "1  smart  \n",
       "2  smart  \n",
       "3  ultra  \n",
       "4  ultra  "
      ]
     },
     "execution_count": 5,
     "metadata": {},
     "output_type": "execute_result"
    }
   ],
   "source": [
    "Df_users.head()"
   ]
  },
  {
   "cell_type": "code",
   "execution_count": 6,
   "metadata": {},
   "outputs": [
    {
     "name": "stdout",
     "output_type": "stream",
     "text": [
      "<class 'pandas.core.frame.DataFrame'>\n",
      "RangeIndex: 500 entries, 0 to 499\n",
      "Data columns (total 8 columns):\n",
      " #   Column      Non-Null Count  Dtype \n",
      "---  ------      --------------  ----- \n",
      " 0   user_id     500 non-null    int64 \n",
      " 1   age         500 non-null    int64 \n",
      " 2   churn_date  38 non-null     object\n",
      " 3   city        500 non-null    object\n",
      " 4   first_name  500 non-null    object\n",
      " 5   last_name   500 non-null    object\n",
      " 6   reg_date    500 non-null    object\n",
      " 7   tariff      500 non-null    object\n",
      "dtypes: int64(2), object(6)\n",
      "memory usage: 31.4+ KB\n"
     ]
    }
   ],
   "source": [
    "Df_users.info()"
   ]
  },
  {
   "cell_type": "code",
   "execution_count": 7,
   "metadata": {},
   "outputs": [
    {
     "data": {
      "text/html": [
       "<div>\n",
       "<style scoped>\n",
       "    .dataframe tbody tr th:only-of-type {\n",
       "        vertical-align: middle;\n",
       "    }\n",
       "\n",
       "    .dataframe tbody tr th {\n",
       "        vertical-align: top;\n",
       "    }\n",
       "\n",
       "    .dataframe thead th {\n",
       "        text-align: right;\n",
       "    }\n",
       "</style>\n",
       "<table border=\"1\" class=\"dataframe\">\n",
       "  <thead>\n",
       "    <tr style=\"text-align: right;\">\n",
       "      <th></th>\n",
       "      <th>id</th>\n",
       "      <th>call_date</th>\n",
       "      <th>duration</th>\n",
       "      <th>user_id</th>\n",
       "    </tr>\n",
       "  </thead>\n",
       "  <tbody>\n",
       "    <tr>\n",
       "      <th>0</th>\n",
       "      <td>1000_0</td>\n",
       "      <td>2018-07-25</td>\n",
       "      <td>0.00</td>\n",
       "      <td>1000</td>\n",
       "    </tr>\n",
       "    <tr>\n",
       "      <th>1</th>\n",
       "      <td>1000_1</td>\n",
       "      <td>2018-08-17</td>\n",
       "      <td>0.00</td>\n",
       "      <td>1000</td>\n",
       "    </tr>\n",
       "    <tr>\n",
       "      <th>2</th>\n",
       "      <td>1000_2</td>\n",
       "      <td>2018-06-11</td>\n",
       "      <td>2.85</td>\n",
       "      <td>1000</td>\n",
       "    </tr>\n",
       "    <tr>\n",
       "      <th>3</th>\n",
       "      <td>1000_3</td>\n",
       "      <td>2018-09-21</td>\n",
       "      <td>13.80</td>\n",
       "      <td>1000</td>\n",
       "    </tr>\n",
       "    <tr>\n",
       "      <th>4</th>\n",
       "      <td>1000_4</td>\n",
       "      <td>2018-12-15</td>\n",
       "      <td>5.18</td>\n",
       "      <td>1000</td>\n",
       "    </tr>\n",
       "  </tbody>\n",
       "</table>\n",
       "</div>"
      ],
      "text/plain": [
       "       id   call_date  duration  user_id\n",
       "0  1000_0  2018-07-25      0.00     1000\n",
       "1  1000_1  2018-08-17      0.00     1000\n",
       "2  1000_2  2018-06-11      2.85     1000\n",
       "3  1000_3  2018-09-21     13.80     1000\n",
       "4  1000_4  2018-12-15      5.18     1000"
      ]
     },
     "execution_count": 7,
     "metadata": {},
     "output_type": "execute_result"
    }
   ],
   "source": [
    "Df_calls.head()"
   ]
  },
  {
   "cell_type": "code",
   "execution_count": 8,
   "metadata": {},
   "outputs": [
    {
     "name": "stdout",
     "output_type": "stream",
     "text": [
      "<class 'pandas.core.frame.DataFrame'>\n",
      "RangeIndex: 202607 entries, 0 to 202606\n",
      "Data columns (total 4 columns):\n",
      " #   Column     Non-Null Count   Dtype  \n",
      "---  ------     --------------   -----  \n",
      " 0   id         202607 non-null  object \n",
      " 1   call_date  202607 non-null  object \n",
      " 2   duration   202607 non-null  float64\n",
      " 3   user_id    202607 non-null  int64  \n",
      "dtypes: float64(1), int64(1), object(2)\n",
      "memory usage: 6.2+ MB\n"
     ]
    }
   ],
   "source": [
    "Df_calls.info()"
   ]
  },
  {
   "cell_type": "code",
   "execution_count": 9,
   "metadata": {},
   "outputs": [
    {
     "data": {
      "text/html": [
       "<div>\n",
       "<style scoped>\n",
       "    .dataframe tbody tr th:only-of-type {\n",
       "        vertical-align: middle;\n",
       "    }\n",
       "\n",
       "    .dataframe tbody tr th {\n",
       "        vertical-align: top;\n",
       "    }\n",
       "\n",
       "    .dataframe thead th {\n",
       "        text-align: right;\n",
       "    }\n",
       "</style>\n",
       "<table border=\"1\" class=\"dataframe\">\n",
       "  <thead>\n",
       "    <tr style=\"text-align: right;\">\n",
       "      <th></th>\n",
       "      <th>id</th>\n",
       "      <th>message_date</th>\n",
       "      <th>user_id</th>\n",
       "    </tr>\n",
       "  </thead>\n",
       "  <tbody>\n",
       "    <tr>\n",
       "      <th>0</th>\n",
       "      <td>1000_0</td>\n",
       "      <td>2018-06-27</td>\n",
       "      <td>1000</td>\n",
       "    </tr>\n",
       "    <tr>\n",
       "      <th>1</th>\n",
       "      <td>1000_1</td>\n",
       "      <td>2018-10-08</td>\n",
       "      <td>1000</td>\n",
       "    </tr>\n",
       "    <tr>\n",
       "      <th>2</th>\n",
       "      <td>1000_2</td>\n",
       "      <td>2018-08-04</td>\n",
       "      <td>1000</td>\n",
       "    </tr>\n",
       "    <tr>\n",
       "      <th>3</th>\n",
       "      <td>1000_3</td>\n",
       "      <td>2018-06-16</td>\n",
       "      <td>1000</td>\n",
       "    </tr>\n",
       "    <tr>\n",
       "      <th>4</th>\n",
       "      <td>1000_4</td>\n",
       "      <td>2018-12-05</td>\n",
       "      <td>1000</td>\n",
       "    </tr>\n",
       "  </tbody>\n",
       "</table>\n",
       "</div>"
      ],
      "text/plain": [
       "       id message_date  user_id\n",
       "0  1000_0   2018-06-27     1000\n",
       "1  1000_1   2018-10-08     1000\n",
       "2  1000_2   2018-08-04     1000\n",
       "3  1000_3   2018-06-16     1000\n",
       "4  1000_4   2018-12-05     1000"
      ]
     },
     "execution_count": 9,
     "metadata": {},
     "output_type": "execute_result"
    }
   ],
   "source": [
    "Df_messages.head()"
   ]
  },
  {
   "cell_type": "code",
   "execution_count": 10,
   "metadata": {},
   "outputs": [
    {
     "name": "stdout",
     "output_type": "stream",
     "text": [
      "<class 'pandas.core.frame.DataFrame'>\n",
      "RangeIndex: 123036 entries, 0 to 123035\n",
      "Data columns (total 3 columns):\n",
      " #   Column        Non-Null Count   Dtype \n",
      "---  ------        --------------   ----- \n",
      " 0   id            123036 non-null  object\n",
      " 1   message_date  123036 non-null  object\n",
      " 2   user_id       123036 non-null  int64 \n",
      "dtypes: int64(1), object(2)\n",
      "memory usage: 2.8+ MB\n"
     ]
    }
   ],
   "source": [
    "Df_messages.info()"
   ]
  },
  {
   "cell_type": "code",
   "execution_count": 11,
   "metadata": {},
   "outputs": [
    {
     "data": {
      "text/html": [
       "<div>\n",
       "<style scoped>\n",
       "    .dataframe tbody tr th:only-of-type {\n",
       "        vertical-align: middle;\n",
       "    }\n",
       "\n",
       "    .dataframe tbody tr th {\n",
       "        vertical-align: top;\n",
       "    }\n",
       "\n",
       "    .dataframe thead th {\n",
       "        text-align: right;\n",
       "    }\n",
       "</style>\n",
       "<table border=\"1\" class=\"dataframe\">\n",
       "  <thead>\n",
       "    <tr style=\"text-align: right;\">\n",
       "      <th></th>\n",
       "      <th>id</th>\n",
       "      <th>mb_used</th>\n",
       "      <th>session_date</th>\n",
       "      <th>user_id</th>\n",
       "    </tr>\n",
       "  </thead>\n",
       "  <tbody>\n",
       "    <tr>\n",
       "      <th>0</th>\n",
       "      <td>1000_0</td>\n",
       "      <td>112.95</td>\n",
       "      <td>2018-11-25</td>\n",
       "      <td>1000</td>\n",
       "    </tr>\n",
       "    <tr>\n",
       "      <th>1</th>\n",
       "      <td>1000_1</td>\n",
       "      <td>1052.81</td>\n",
       "      <td>2018-09-07</td>\n",
       "      <td>1000</td>\n",
       "    </tr>\n",
       "    <tr>\n",
       "      <th>2</th>\n",
       "      <td>1000_2</td>\n",
       "      <td>1197.26</td>\n",
       "      <td>2018-06-25</td>\n",
       "      <td>1000</td>\n",
       "    </tr>\n",
       "    <tr>\n",
       "      <th>3</th>\n",
       "      <td>1000_3</td>\n",
       "      <td>550.27</td>\n",
       "      <td>2018-08-22</td>\n",
       "      <td>1000</td>\n",
       "    </tr>\n",
       "    <tr>\n",
       "      <th>4</th>\n",
       "      <td>1000_4</td>\n",
       "      <td>302.56</td>\n",
       "      <td>2018-09-24</td>\n",
       "      <td>1000</td>\n",
       "    </tr>\n",
       "  </tbody>\n",
       "</table>\n",
       "</div>"
      ],
      "text/plain": [
       "       id  mb_used session_date  user_id\n",
       "0  1000_0   112.95   2018-11-25     1000\n",
       "1  1000_1  1052.81   2018-09-07     1000\n",
       "2  1000_2  1197.26   2018-06-25     1000\n",
       "3  1000_3   550.27   2018-08-22     1000\n",
       "4  1000_4   302.56   2018-09-24     1000"
      ]
     },
     "execution_count": 11,
     "metadata": {},
     "output_type": "execute_result"
    }
   ],
   "source": [
    "Df_internet.head()"
   ]
  },
  {
   "cell_type": "code",
   "execution_count": 12,
   "metadata": {},
   "outputs": [
    {
     "name": "stdout",
     "output_type": "stream",
     "text": [
      "<class 'pandas.core.frame.DataFrame'>\n",
      "Int64Index: 149396 entries, 0 to 149395\n",
      "Data columns (total 4 columns):\n",
      " #   Column        Non-Null Count   Dtype  \n",
      "---  ------        --------------   -----  \n",
      " 0   id            149396 non-null  object \n",
      " 1   mb_used       149396 non-null  float64\n",
      " 2   session_date  149396 non-null  object \n",
      " 3   user_id       149396 non-null  int64  \n",
      "dtypes: float64(1), int64(1), object(2)\n",
      "memory usage: 5.7+ MB\n"
     ]
    }
   ],
   "source": [
    "Df_internet.info()"
   ]
  },
  {
   "cell_type": "markdown",
   "metadata": {},
   "source": [
    "### Вывод"
   ]
  },
  {
   "cell_type": "markdown",
   "metadata": {},
   "source": [
    "В исходных файлах представленны несколько таблиц, описывающих данные пользователей и тарифные планы, которые они используют, а также данные о звонках, сообщениях и интернет-трафике. Данные неоднородны по размеру. В некоторых таблицах есть пропуски, а так же типы данных в некоторых колонках неверны. В частности:  \n",
    "в Df_tariffs пропуски отсутствуют;  \n",
    "в Df_users колонки с датами типа object, есть пропуски;  \n",
    "в Df_calls колонки с датами типа object;  \n",
    "в Df_messages колонки с датами типа object;  \n",
    "в Df_inernet колонки с датами типа object.  \n",
    "Проведем предобработку данных."
   ]
  },
  {
   "cell_type": "markdown",
   "metadata": {},
   "source": [
    "## Предобработка данных"
   ]
  },
  {
   "cell_type": "markdown",
   "metadata": {},
   "source": [
    "1) Проверка на наличие отрицательных значениий"
   ]
  },
  {
   "cell_type": "markdown",
   "metadata": {},
   "source": [
    "Проверим на отрицательные значения все числовые данные из всех таблиц.\n",
    "Отрицательных быть не должно."
   ]
  },
  {
   "cell_type": "markdown",
   "metadata": {},
   "source": [
    "Сформируем список с таблицами, где есть числовые значения, а также список с названиями этих таблиц"
   ]
  },
  {
   "cell_type": "code",
   "execution_count": 13,
   "metadata": {},
   "outputs": [],
   "source": [
    "list_tables = [Df_tariffs, Df_users, Df_calls, Df_messages, Df_internet]\n",
    "list_nametables = ['Df_tariffs', 'Df_users', 'Df_calls', 'Df_messages', 'Df_internet']"
   ]
  },
  {
   "cell_type": "markdown",
   "metadata": {},
   "source": [
    "Применим цикл перебирающий таблицы из первого списка, двигаемся по индексам списка"
   ]
  },
  {
   "cell_type": "code",
   "execution_count": 14,
   "metadata": {},
   "outputs": [
    {
     "name": "stdout",
     "output_type": "stream",
     "text": [
      "-----------------------------\n",
      "|Df_tariffs                 |\n",
      "-----------------------------\n",
      "|messages_included     | Нет|\n",
      "|mb_per_month_included | Нет|\n",
      "|minutes_included      | Нет|\n",
      "|rub_monthly_fee       | Нет|\n",
      "|rub_per_gb            | Нет|\n",
      "|rub_per_message       | Нет|\n",
      "|rub_per_minute        | Нет|\n",
      "-----------------------------\n",
      "\n",
      "-----------------------------\n",
      "|Df_users                   |\n",
      "-----------------------------\n",
      "|user_id               | Нет|\n",
      "|age                   | Нет|\n",
      "-----------------------------\n",
      "\n",
      "-----------------------------\n",
      "|Df_calls                   |\n",
      "-----------------------------\n",
      "|duration              | Нет|\n",
      "|user_id               | Нет|\n",
      "-----------------------------\n",
      "\n",
      "-----------------------------\n",
      "|Df_messages                |\n",
      "-----------------------------\n",
      "|user_id               | Нет|\n",
      "-----------------------------\n",
      "\n",
      "-----------------------------\n",
      "|Df_internet                |\n",
      "-----------------------------\n",
      "|mb_used               | Нет|\n",
      "|user_id               | Нет|\n",
      "-----------------------------\n",
      "\n"
     ]
    }
   ],
   "source": [
    "for i in range(0, len(list_tables)):\n",
    "    print('-----------------------------')\n",
    "    print('|{: <27}|'.format(list_nametables[i]))# печатаем название таблицы в которой идет проверка\n",
    "    print('-----------------------------')\n",
    "    \n",
    "    # применим цикл перебирающий названия колонок в индексе метода dtype текущей таблицы\n",
    "    for column_name in list_tables[i].dtypes.index:\n",
    "        \n",
    "        # если тип данных для колонки соответсвует int или float, то применим к ним проверку на отрицательные значения\n",
    "        if list_tables[i][column_name].dtypes=='int64' or list_tables[i][column_name].dtypes=='float64':\n",
    "            if list_tables[i][list_tables[i][column_name] < 0][column_name].count() > 0:\n",
    "                print('|{: <22}|{: >4}|'.format(column_name, 'Есть'))\n",
    "            else:\n",
    "                print('|{: <22}|{: >4}|'.format(column_name, 'Нет'))\n",
    "    print('-----------------------------')\n",
    "    print()"
   ]
  },
  {
   "cell_type": "markdown",
   "metadata": {},
   "source": [
    "Таким образом, отрицательные значения отсутствуют."
   ]
  },
  {
   "cell_type": "markdown",
   "metadata": {},
   "source": [
    "2) Проверка на дубликаты"
   ]
  },
  {
   "cell_type": "markdown",
   "metadata": {},
   "source": [
    "Воспользуемся списком таблиц из предыдущего цикла"
   ]
  },
  {
   "cell_type": "code",
   "execution_count": 15,
   "metadata": {},
   "outputs": [
    {
     "name": "stdout",
     "output_type": "stream",
     "text": [
      "|Df_tariffs  | дубликатов нет|\n",
      "|Df_users    | дубликатов нет|\n",
      "|Df_calls    | дубликатов нет|\n",
      "|Df_messages | дубликатов нет|\n",
      "|Df_internet | дубликатов нет|\n"
     ]
    }
   ],
   "source": [
    "for i in range(0, len(list_tables)):\n",
    "    if list_tables[i].duplicated().sum() == 0:\n",
    "        print('|{: <12}|{: >15}|'.format(list_nametables[i], 'дубликатов нет'))\n",
    "    elif list_tables[i].duplicated().sum() != 0:\n",
    "        print('|{: <12}|{: >15}|'.format(list_nametables[i], 'есть дубликаты'))"
   ]
  },
  {
   "cell_type": "markdown",
   "metadata": {},
   "source": [
    "Наличие дубликатов в исследуемых таблицах не выявлено."
   ]
  },
  {
   "cell_type": "markdown",
   "metadata": {},
   "source": [
    "3) Приведение данных к корректным типам последовательно в каждом датафрейме"
   ]
  },
  {
   "cell_type": "markdown",
   "metadata": {},
   "source": [
    "Для датафрейма Df_tariffs приведение к корректным типам данных не требуется."
   ]
  },
  {
   "cell_type": "markdown",
   "metadata": {},
   "source": [
    "Для датафрейма Df_users необходимо привести колонки с датами к типу datetime. Кроме того, в столбце churn_date\n",
    "очень много пропусков из-за того, что клиенты до сих пор пользуются тарифом. Это означает, что привести ее к нужному типу не получится не избавившись от пропусков. Укаазанная колонка в анализе не нужна, поэтому оставим и пропуски и тип данных можно оставить без изменения. "
   ]
  },
  {
   "cell_type": "markdown",
   "metadata": {},
   "source": [
    "Применим метод pd.to_datetime для приведения временных данных в надлежащий вид"
   ]
  },
  {
   "cell_type": "code",
   "execution_count": 16,
   "metadata": {},
   "outputs": [
    {
     "name": "stdout",
     "output_type": "stream",
     "text": [
      "<class 'pandas.core.frame.DataFrame'>\n",
      "RangeIndex: 500 entries, 0 to 499\n",
      "Data columns (total 8 columns):\n",
      " #   Column      Non-Null Count  Dtype         \n",
      "---  ------      --------------  -----         \n",
      " 0   user_id     500 non-null    int64         \n",
      " 1   age         500 non-null    int64         \n",
      " 2   churn_date  38 non-null     object        \n",
      " 3   city        500 non-null    object        \n",
      " 4   first_name  500 non-null    object        \n",
      " 5   last_name   500 non-null    object        \n",
      " 6   reg_date    500 non-null    datetime64[ns]\n",
      " 7   tariff      500 non-null    object        \n",
      "dtypes: datetime64[ns](1), int64(2), object(5)\n",
      "memory usage: 31.4+ KB\n"
     ]
    }
   ],
   "source": [
    "Df_users['reg_date'] = pd.to_datetime(Df_users['reg_date'], format='%Y-%m-%d')\n",
    "Df_users.info()"
   ]
  },
  {
   "cell_type": "markdown",
   "metadata": {},
   "source": [
    "В датафрейма Df_calls приведем колонку с датами к типу datetime."
   ]
  },
  {
   "cell_type": "code",
   "execution_count": 17,
   "metadata": {},
   "outputs": [
    {
     "name": "stdout",
     "output_type": "stream",
     "text": [
      "<class 'pandas.core.frame.DataFrame'>\n",
      "RangeIndex: 202607 entries, 0 to 202606\n",
      "Data columns (total 4 columns):\n",
      " #   Column     Non-Null Count   Dtype         \n",
      "---  ------     --------------   -----         \n",
      " 0   id         202607 non-null  object        \n",
      " 1   call_date  202607 non-null  datetime64[ns]\n",
      " 2   duration   202607 non-null  float64       \n",
      " 3   user_id    202607 non-null  int64         \n",
      "dtypes: datetime64[ns](1), float64(1), int64(1), object(1)\n",
      "memory usage: 6.2+ MB\n"
     ]
    }
   ],
   "source": [
    "Df_calls['call_date'] = pd.to_datetime(Df_calls['call_date'], format='%Y-%m-%d')\n",
    "Df_calls.info()"
   ]
  },
  {
   "cell_type": "markdown",
   "metadata": {},
   "source": [
    "В датафрейма Df_messages приведем колонку с датами к типу datetime."
   ]
  },
  {
   "cell_type": "code",
   "execution_count": 18,
   "metadata": {},
   "outputs": [
    {
     "name": "stdout",
     "output_type": "stream",
     "text": [
      "<class 'pandas.core.frame.DataFrame'>\n",
      "RangeIndex: 123036 entries, 0 to 123035\n",
      "Data columns (total 3 columns):\n",
      " #   Column        Non-Null Count   Dtype         \n",
      "---  ------        --------------   -----         \n",
      " 0   id            123036 non-null  object        \n",
      " 1   message_date  123036 non-null  datetime64[ns]\n",
      " 2   user_id       123036 non-null  int64         \n",
      "dtypes: datetime64[ns](1), int64(1), object(1)\n",
      "memory usage: 2.8+ MB\n"
     ]
    }
   ],
   "source": [
    "Df_messages['message_date'] = pd.to_datetime(Df_messages['message_date'], format='%Y-%m-%d')\n",
    "Df_messages.info()"
   ]
  },
  {
   "cell_type": "markdown",
   "metadata": {},
   "source": [
    "В датафрейма Df_inernet приведем колонку с датами к типу datetime."
   ]
  },
  {
   "cell_type": "code",
   "execution_count": 19,
   "metadata": {},
   "outputs": [
    {
     "name": "stdout",
     "output_type": "stream",
     "text": [
      "<class 'pandas.core.frame.DataFrame'>\n",
      "Int64Index: 149396 entries, 0 to 149395\n",
      "Data columns (total 4 columns):\n",
      " #   Column        Non-Null Count   Dtype         \n",
      "---  ------        --------------   -----         \n",
      " 0   id            149396 non-null  object        \n",
      " 1   mb_used       149396 non-null  float64       \n",
      " 2   session_date  149396 non-null  datetime64[ns]\n",
      " 3   user_id       149396 non-null  int64         \n",
      "dtypes: datetime64[ns](1), float64(1), int64(1), object(1)\n",
      "memory usage: 5.7+ MB\n"
     ]
    }
   ],
   "source": [
    "Df_internet['session_date'] = pd.to_datetime(Df_internet['session_date'], format='%Y-%m-%d')\n",
    "Df_internet.info()"
   ]
  },
  {
   "cell_type": "markdown",
   "metadata": {},
   "source": [
    "4) Исправление ошибок "
   ]
  },
  {
   "cell_type": "markdown",
   "metadata": {},
   "source": [
    "В датафрейме Df_internet есть столбец \"Unnamed: 0\", который повторяет индексы строк. Удалим его."
   ]
  },
  {
   "cell_type": "code",
   "execution_count": 20,
   "metadata": {},
   "outputs": [
    {
     "name": "stdout",
     "output_type": "stream",
     "text": [
      "<class 'pandas.core.frame.DataFrame'>\n",
      "Int64Index: 149396 entries, 0 to 149395\n",
      "Data columns (total 4 columns):\n",
      " #   Column        Non-Null Count   Dtype         \n",
      "---  ------        --------------   -----         \n",
      " 0   id            149396 non-null  object        \n",
      " 1   mb_used       149396 non-null  float64       \n",
      " 2   session_date  149396 non-null  datetime64[ns]\n",
      " 3   user_id       149396 non-null  int64         \n",
      "dtypes: datetime64[ns](1), float64(1), int64(1), object(1)\n",
      "memory usage: 5.7+ MB\n"
     ]
    }
   ],
   "source": [
    "Df_internet.info() # проверка"
   ]
  },
  {
   "cell_type": "markdown",
   "metadata": {},
   "source": [
    "В датафрейме Df_calls колонка с длительностью звонков содержит нулевые значения. Посчитаем их и проверим на существенность."
   ]
  },
  {
   "cell_type": "code",
   "execution_count": 21,
   "metadata": {},
   "outputs": [
    {
     "data": {
      "text/plain": [
       "39613"
      ]
     },
     "execution_count": 21,
     "metadata": {},
     "output_type": "execute_result"
    }
   ],
   "source": [
    "Df_calls[Df_calls['duration']==0]['duration'].count()"
   ]
  },
  {
   "cell_type": "markdown",
   "metadata": {},
   "source": [
    "39613 / 202607 составляет 19,55% данных датафрейма Df_calls.   \n",
    "- 19,53% существенное значение, которые не могут быть удалены без оказания существенного влияния на финальные результаты анализа;  \n",
    "- нулевые значения могут быть ошибками в данных, либо отсутствием дозвона по результатам произведенного звонка. В илу того, что в остальных датафреймах отсутствует такой существенный объем ошибо, можно сделать вывод о том, что причиной нулевых значений в датафрейме Df_calls является отсутствие дозвона по результатам произведенного звонка;  \n",
    "- для целей определения какой тариф лучше, удаление нулевых значений из датафрейма на данном этапе анализа не целесособразно."
   ]
  },
  {
   "cell_type": "markdown",
   "metadata": {},
   "source": [
    "5) Вычисление параметров для каждого пользователя"
   ]
  },
  {
   "cell_type": "markdown",
   "metadata": {},
   "source": [
    "Для вычисления параметров для каждого пользователя необходимо посчитать следующие величины:   \n",
    "    - количество соверешнных звонков и израсходованных минут разговора ежемесячно;  \n",
    "    - количество отправленных сообщений ежемесячно;  \n",
    "    - объем израсходованного интернет-трафика ежемесячно;  \n",
    "    - ежемесячная выручка с каждого пользователя."
   ]
  },
  {
   "cell_type": "markdown",
   "metadata": {},
   "source": [
    "Добавим к каждой таблице колонку month для дальнейшей группировки по месяцам."
   ]
  },
  {
   "cell_type": "markdown",
   "metadata": {},
   "source": [
    "Определим переменную как список, в которм будет хранится название таблицы и колонки в ней, содержащей дату совершения действия"
   ]
  },
  {
   "cell_type": "code",
   "execution_count": 22,
   "metadata": {},
   "outputs": [],
   "source": [
    "date_list = []\n",
    "\n",
    "# нам нужны только три столбца со звонками, сообщениями и трафиком\n",
    "# поэтому начинаем двигаться со второго индекса в списке таблиц\n",
    "for i in range(2, len(list_tables)):\n",
    "    \n",
    "    # в списке колонок таблицы будем искать ту, у которой название заканчивается на 'date'\n",
    "    # методом включения определенных символов в срез строки\n",
    "    for j in range(0, len(list_tables[i].columns)):\n",
    "        if 'date' in list_tables[i].columns[j][-4:]:\n",
    "            date_list.append(list_tables[i].columns[j])\n",
    "            \n",
    "    # с помощью метода dt.month добавляем месяц в новую колонку 'month'\n",
    "    list_tables[i]['month'] = list_tables[i][date_list[i-2]].dt.month"
   ]
  },
  {
   "cell_type": "code",
   "execution_count": 23,
   "metadata": {},
   "outputs": [
    {
     "data": {
      "text/html": [
       "<div>\n",
       "<style scoped>\n",
       "    .dataframe tbody tr th:only-of-type {\n",
       "        vertical-align: middle;\n",
       "    }\n",
       "\n",
       "    .dataframe tbody tr th {\n",
       "        vertical-align: top;\n",
       "    }\n",
       "\n",
       "    .dataframe thead th {\n",
       "        text-align: right;\n",
       "    }\n",
       "</style>\n",
       "<table border=\"1\" class=\"dataframe\">\n",
       "  <thead>\n",
       "    <tr style=\"text-align: right;\">\n",
       "      <th></th>\n",
       "      <th>id</th>\n",
       "      <th>call_date</th>\n",
       "      <th>duration</th>\n",
       "      <th>user_id</th>\n",
       "      <th>month</th>\n",
       "    </tr>\n",
       "  </thead>\n",
       "  <tbody>\n",
       "    <tr>\n",
       "      <th>0</th>\n",
       "      <td>1000_0</td>\n",
       "      <td>2018-07-25</td>\n",
       "      <td>0.00</td>\n",
       "      <td>1000</td>\n",
       "      <td>7</td>\n",
       "    </tr>\n",
       "    <tr>\n",
       "      <th>1</th>\n",
       "      <td>1000_1</td>\n",
       "      <td>2018-08-17</td>\n",
       "      <td>0.00</td>\n",
       "      <td>1000</td>\n",
       "      <td>8</td>\n",
       "    </tr>\n",
       "    <tr>\n",
       "      <th>2</th>\n",
       "      <td>1000_2</td>\n",
       "      <td>2018-06-11</td>\n",
       "      <td>2.85</td>\n",
       "      <td>1000</td>\n",
       "      <td>6</td>\n",
       "    </tr>\n",
       "    <tr>\n",
       "      <th>3</th>\n",
       "      <td>1000_3</td>\n",
       "      <td>2018-09-21</td>\n",
       "      <td>13.80</td>\n",
       "      <td>1000</td>\n",
       "      <td>9</td>\n",
       "    </tr>\n",
       "    <tr>\n",
       "      <th>4</th>\n",
       "      <td>1000_4</td>\n",
       "      <td>2018-12-15</td>\n",
       "      <td>5.18</td>\n",
       "      <td>1000</td>\n",
       "      <td>12</td>\n",
       "    </tr>\n",
       "  </tbody>\n",
       "</table>\n",
       "</div>"
      ],
      "text/plain": [
       "       id  call_date  duration  user_id  month\n",
       "0  1000_0 2018-07-25      0.00     1000      7\n",
       "1  1000_1 2018-08-17      0.00     1000      8\n",
       "2  1000_2 2018-06-11      2.85     1000      6\n",
       "3  1000_3 2018-09-21     13.80     1000      9\n",
       "4  1000_4 2018-12-15      5.18     1000     12"
      ]
     },
     "execution_count": 23,
     "metadata": {},
     "output_type": "execute_result"
    }
   ],
   "source": [
    "Df_calls.head() #Проверка"
   ]
  },
  {
   "cell_type": "code",
   "execution_count": 24,
   "metadata": {},
   "outputs": [
    {
     "data": {
      "text/html": [
       "<div>\n",
       "<style scoped>\n",
       "    .dataframe tbody tr th:only-of-type {\n",
       "        vertical-align: middle;\n",
       "    }\n",
       "\n",
       "    .dataframe tbody tr th {\n",
       "        vertical-align: top;\n",
       "    }\n",
       "\n",
       "    .dataframe thead th {\n",
       "        text-align: right;\n",
       "    }\n",
       "</style>\n",
       "<table border=\"1\" class=\"dataframe\">\n",
       "  <thead>\n",
       "    <tr style=\"text-align: right;\">\n",
       "      <th></th>\n",
       "      <th>id</th>\n",
       "      <th>message_date</th>\n",
       "      <th>user_id</th>\n",
       "      <th>month</th>\n",
       "    </tr>\n",
       "  </thead>\n",
       "  <tbody>\n",
       "    <tr>\n",
       "      <th>0</th>\n",
       "      <td>1000_0</td>\n",
       "      <td>2018-06-27</td>\n",
       "      <td>1000</td>\n",
       "      <td>6</td>\n",
       "    </tr>\n",
       "    <tr>\n",
       "      <th>1</th>\n",
       "      <td>1000_1</td>\n",
       "      <td>2018-10-08</td>\n",
       "      <td>1000</td>\n",
       "      <td>10</td>\n",
       "    </tr>\n",
       "    <tr>\n",
       "      <th>2</th>\n",
       "      <td>1000_2</td>\n",
       "      <td>2018-08-04</td>\n",
       "      <td>1000</td>\n",
       "      <td>8</td>\n",
       "    </tr>\n",
       "    <tr>\n",
       "      <th>3</th>\n",
       "      <td>1000_3</td>\n",
       "      <td>2018-06-16</td>\n",
       "      <td>1000</td>\n",
       "      <td>6</td>\n",
       "    </tr>\n",
       "    <tr>\n",
       "      <th>4</th>\n",
       "      <td>1000_4</td>\n",
       "      <td>2018-12-05</td>\n",
       "      <td>1000</td>\n",
       "      <td>12</td>\n",
       "    </tr>\n",
       "  </tbody>\n",
       "</table>\n",
       "</div>"
      ],
      "text/plain": [
       "       id message_date  user_id  month\n",
       "0  1000_0   2018-06-27     1000      6\n",
       "1  1000_1   2018-10-08     1000     10\n",
       "2  1000_2   2018-08-04     1000      8\n",
       "3  1000_3   2018-06-16     1000      6\n",
       "4  1000_4   2018-12-05     1000     12"
      ]
     },
     "execution_count": 24,
     "metadata": {},
     "output_type": "execute_result"
    }
   ],
   "source": [
    "Df_messages.head()#Проверка"
   ]
  },
  {
   "cell_type": "code",
   "execution_count": 25,
   "metadata": {},
   "outputs": [
    {
     "data": {
      "text/html": [
       "<div>\n",
       "<style scoped>\n",
       "    .dataframe tbody tr th:only-of-type {\n",
       "        vertical-align: middle;\n",
       "    }\n",
       "\n",
       "    .dataframe tbody tr th {\n",
       "        vertical-align: top;\n",
       "    }\n",
       "\n",
       "    .dataframe thead th {\n",
       "        text-align: right;\n",
       "    }\n",
       "</style>\n",
       "<table border=\"1\" class=\"dataframe\">\n",
       "  <thead>\n",
       "    <tr style=\"text-align: right;\">\n",
       "      <th></th>\n",
       "      <th>id</th>\n",
       "      <th>mb_used</th>\n",
       "      <th>session_date</th>\n",
       "      <th>user_id</th>\n",
       "      <th>month</th>\n",
       "    </tr>\n",
       "  </thead>\n",
       "  <tbody>\n",
       "    <tr>\n",
       "      <th>0</th>\n",
       "      <td>1000_0</td>\n",
       "      <td>112.95</td>\n",
       "      <td>2018-11-25</td>\n",
       "      <td>1000</td>\n",
       "      <td>11</td>\n",
       "    </tr>\n",
       "    <tr>\n",
       "      <th>1</th>\n",
       "      <td>1000_1</td>\n",
       "      <td>1052.81</td>\n",
       "      <td>2018-09-07</td>\n",
       "      <td>1000</td>\n",
       "      <td>9</td>\n",
       "    </tr>\n",
       "    <tr>\n",
       "      <th>2</th>\n",
       "      <td>1000_2</td>\n",
       "      <td>1197.26</td>\n",
       "      <td>2018-06-25</td>\n",
       "      <td>1000</td>\n",
       "      <td>6</td>\n",
       "    </tr>\n",
       "    <tr>\n",
       "      <th>3</th>\n",
       "      <td>1000_3</td>\n",
       "      <td>550.27</td>\n",
       "      <td>2018-08-22</td>\n",
       "      <td>1000</td>\n",
       "      <td>8</td>\n",
       "    </tr>\n",
       "    <tr>\n",
       "      <th>4</th>\n",
       "      <td>1000_4</td>\n",
       "      <td>302.56</td>\n",
       "      <td>2018-09-24</td>\n",
       "      <td>1000</td>\n",
       "      <td>9</td>\n",
       "    </tr>\n",
       "  </tbody>\n",
       "</table>\n",
       "</div>"
      ],
      "text/plain": [
       "       id  mb_used session_date  user_id  month\n",
       "0  1000_0   112.95   2018-11-25     1000     11\n",
       "1  1000_1  1052.81   2018-09-07     1000      9\n",
       "2  1000_2  1197.26   2018-06-25     1000      6\n",
       "3  1000_3   550.27   2018-08-22     1000      8\n",
       "4  1000_4   302.56   2018-09-24     1000      9"
      ]
     },
     "execution_count": 25,
     "metadata": {},
     "output_type": "execute_result"
    }
   ],
   "source": [
    "Df_internet.head()#Проверка"
   ]
  },
  {
   "cell_type": "markdown",
   "metadata": {},
   "source": [
    "Рассчитаем необходимые параметры с помощью сводных таблиц:"
   ]
  },
  {
   "cell_type": "markdown",
   "metadata": {},
   "source": [
    "Проведем группировку данных по user_id и month, применим методы к соответствующим значениям датафреймов Df_calls, Df_messages, Df_internet."
   ]
  },
  {
   "cell_type": "code",
   "execution_count": 26,
   "metadata": {},
   "outputs": [
    {
     "data": {
      "text/html": [
       "<div>\n",
       "<style scoped>\n",
       "    .dataframe tbody tr th:only-of-type {\n",
       "        vertical-align: middle;\n",
       "    }\n",
       "\n",
       "    .dataframe tbody tr th {\n",
       "        vertical-align: top;\n",
       "    }\n",
       "\n",
       "    .dataframe thead th {\n",
       "        text-align: right;\n",
       "    }\n",
       "</style>\n",
       "<table border=\"1\" class=\"dataframe\">\n",
       "  <thead>\n",
       "    <tr style=\"text-align: right;\">\n",
       "      <th></th>\n",
       "      <th></th>\n",
       "      <th>calls_count</th>\n",
       "      <th>calls_duration</th>\n",
       "    </tr>\n",
       "    <tr>\n",
       "      <th>user_id</th>\n",
       "      <th>month</th>\n",
       "      <th></th>\n",
       "      <th></th>\n",
       "    </tr>\n",
       "  </thead>\n",
       "  <tbody>\n",
       "    <tr>\n",
       "      <th rowspan=\"5\" valign=\"top\">1000</th>\n",
       "      <th>5</th>\n",
       "      <td>22</td>\n",
       "      <td>150.06</td>\n",
       "    </tr>\n",
       "    <tr>\n",
       "      <th>6</th>\n",
       "      <td>43</td>\n",
       "      <td>158.90</td>\n",
       "    </tr>\n",
       "    <tr>\n",
       "      <th>7</th>\n",
       "      <td>47</td>\n",
       "      <td>318.80</td>\n",
       "    </tr>\n",
       "    <tr>\n",
       "      <th>8</th>\n",
       "      <td>52</td>\n",
       "      <td>389.87</td>\n",
       "    </tr>\n",
       "    <tr>\n",
       "      <th>9</th>\n",
       "      <td>58</td>\n",
       "      <td>440.14</td>\n",
       "    </tr>\n",
       "  </tbody>\n",
       "</table>\n",
       "</div>"
      ],
      "text/plain": [
       "               calls_count  calls_duration\n",
       "user_id month                             \n",
       "1000    5               22          150.06\n",
       "        6               43          158.90\n",
       "        7               47          318.80\n",
       "        8               52          389.87\n",
       "        9               58          440.14"
      ]
     },
     "execution_count": 26,
     "metadata": {},
     "output_type": "execute_result"
    }
   ],
   "source": [
    "Df_calls_pivot = Df_calls.pivot_table(index=['user_id', 'month'], aggfunc={'call_date':'count', 'duration':sum}) \n",
    "Df_calls_pivot.columns = ['calls_count', 'calls_duration']\n",
    "Df_calls_pivot.head()"
   ]
  },
  {
   "cell_type": "code",
   "execution_count": 27,
   "metadata": {},
   "outputs": [
    {
     "data": {
      "text/html": [
       "<div>\n",
       "<style scoped>\n",
       "    .dataframe tbody tr th:only-of-type {\n",
       "        vertical-align: middle;\n",
       "    }\n",
       "\n",
       "    .dataframe tbody tr th {\n",
       "        vertical-align: top;\n",
       "    }\n",
       "\n",
       "    .dataframe thead th {\n",
       "        text-align: right;\n",
       "    }\n",
       "</style>\n",
       "<table border=\"1\" class=\"dataframe\">\n",
       "  <thead>\n",
       "    <tr style=\"text-align: right;\">\n",
       "      <th></th>\n",
       "      <th></th>\n",
       "      <th>messages_count</th>\n",
       "    </tr>\n",
       "    <tr>\n",
       "      <th>user_id</th>\n",
       "      <th>month</th>\n",
       "      <th></th>\n",
       "    </tr>\n",
       "  </thead>\n",
       "  <tbody>\n",
       "    <tr>\n",
       "      <th rowspan=\"5\" valign=\"top\">1000</th>\n",
       "      <th>5</th>\n",
       "      <td>22</td>\n",
       "    </tr>\n",
       "    <tr>\n",
       "      <th>6</th>\n",
       "      <td>60</td>\n",
       "    </tr>\n",
       "    <tr>\n",
       "      <th>7</th>\n",
       "      <td>75</td>\n",
       "    </tr>\n",
       "    <tr>\n",
       "      <th>8</th>\n",
       "      <td>81</td>\n",
       "    </tr>\n",
       "    <tr>\n",
       "      <th>9</th>\n",
       "      <td>57</td>\n",
       "    </tr>\n",
       "  </tbody>\n",
       "</table>\n",
       "</div>"
      ],
      "text/plain": [
       "               messages_count\n",
       "user_id month                \n",
       "1000    5                  22\n",
       "        6                  60\n",
       "        7                  75\n",
       "        8                  81\n",
       "        9                  57"
      ]
     },
     "execution_count": 27,
     "metadata": {},
     "output_type": "execute_result"
    }
   ],
   "source": [
    "Df_messages_pivot = Df_messages.pivot_table(index=['user_id', 'month'], aggfunc={'id':'count'})\n",
    "Df_messages_pivot.columns = ['messages_count']\n",
    "Df_messages_pivot.head()"
   ]
  },
  {
   "cell_type": "code",
   "execution_count": 28,
   "metadata": {},
   "outputs": [
    {
     "data": {
      "text/html": [
       "<div>\n",
       "<style scoped>\n",
       "    .dataframe tbody tr th:only-of-type {\n",
       "        vertical-align: middle;\n",
       "    }\n",
       "\n",
       "    .dataframe tbody tr th {\n",
       "        vertical-align: top;\n",
       "    }\n",
       "\n",
       "    .dataframe thead th {\n",
       "        text-align: right;\n",
       "    }\n",
       "</style>\n",
       "<table border=\"1\" class=\"dataframe\">\n",
       "  <thead>\n",
       "    <tr style=\"text-align: right;\">\n",
       "      <th></th>\n",
       "      <th></th>\n",
       "      <th>traffic_volume</th>\n",
       "    </tr>\n",
       "    <tr>\n",
       "      <th>user_id</th>\n",
       "      <th>month</th>\n",
       "      <th></th>\n",
       "    </tr>\n",
       "  </thead>\n",
       "  <tbody>\n",
       "    <tr>\n",
       "      <th rowspan=\"5\" valign=\"top\">1000</th>\n",
       "      <th>5</th>\n",
       "      <td>2253.49</td>\n",
       "    </tr>\n",
       "    <tr>\n",
       "      <th>6</th>\n",
       "      <td>23233.77</td>\n",
       "    </tr>\n",
       "    <tr>\n",
       "      <th>7</th>\n",
       "      <td>14003.64</td>\n",
       "    </tr>\n",
       "    <tr>\n",
       "      <th>8</th>\n",
       "      <td>14055.93</td>\n",
       "    </tr>\n",
       "    <tr>\n",
       "      <th>9</th>\n",
       "      <td>14568.91</td>\n",
       "    </tr>\n",
       "  </tbody>\n",
       "</table>\n",
       "</div>"
      ],
      "text/plain": [
       "               traffic_volume\n",
       "user_id month                \n",
       "1000    5             2253.49\n",
       "        6            23233.77\n",
       "        7            14003.64\n",
       "        8            14055.93\n",
       "        9            14568.91"
      ]
     },
     "execution_count": 28,
     "metadata": {},
     "output_type": "execute_result"
    }
   ],
   "source": [
    "Df_internet_pivot = Df_internet.pivot_table(index=['user_id', 'month'], aggfunc={'mb_used':sum})\n",
    "Df_internet_pivot.columns = ['traffic_volume']\n",
    "Df_internet_pivot.head()"
   ]
  },
  {
   "cell_type": "markdown",
   "metadata": {},
   "source": [
    "Рассчитаем помесячную выручку, для этого объединим все сводные таблицы и датафрейм Df_users"
   ]
  },
  {
   "cell_type": "markdown",
   "metadata": {},
   "source": [
    "Для этого при помощи метода join объеденим сразу все сводные таблицы по индексам и сбросим индекс month для последующего объединения с Df_users."
   ]
  },
  {
   "cell_type": "code",
   "execution_count": 29,
   "metadata": {},
   "outputs": [
    {
     "data": {
      "text/html": [
       "<div>\n",
       "<style scoped>\n",
       "    .dataframe tbody tr th:only-of-type {\n",
       "        vertical-align: middle;\n",
       "    }\n",
       "\n",
       "    .dataframe tbody tr th {\n",
       "        vertical-align: top;\n",
       "    }\n",
       "\n",
       "    .dataframe thead th {\n",
       "        text-align: right;\n",
       "    }\n",
       "</style>\n",
       "<table border=\"1\" class=\"dataframe\">\n",
       "  <thead>\n",
       "    <tr style=\"text-align: right;\">\n",
       "      <th></th>\n",
       "      <th>month</th>\n",
       "      <th>traffic_volume</th>\n",
       "      <th>calls_count</th>\n",
       "      <th>calls_duration</th>\n",
       "      <th>messages_count</th>\n",
       "    </tr>\n",
       "    <tr>\n",
       "      <th>user_id</th>\n",
       "      <th></th>\n",
       "      <th></th>\n",
       "      <th></th>\n",
       "      <th></th>\n",
       "      <th></th>\n",
       "    </tr>\n",
       "  </thead>\n",
       "  <tbody>\n",
       "    <tr>\n",
       "      <th>1000</th>\n",
       "      <td>5</td>\n",
       "      <td>2253.49</td>\n",
       "      <td>22.0</td>\n",
       "      <td>150.06</td>\n",
       "      <td>22.0</td>\n",
       "    </tr>\n",
       "    <tr>\n",
       "      <th>1000</th>\n",
       "      <td>6</td>\n",
       "      <td>23233.77</td>\n",
       "      <td>43.0</td>\n",
       "      <td>158.90</td>\n",
       "      <td>60.0</td>\n",
       "    </tr>\n",
       "    <tr>\n",
       "      <th>1000</th>\n",
       "      <td>7</td>\n",
       "      <td>14003.64</td>\n",
       "      <td>47.0</td>\n",
       "      <td>318.80</td>\n",
       "      <td>75.0</td>\n",
       "    </tr>\n",
       "    <tr>\n",
       "      <th>1000</th>\n",
       "      <td>8</td>\n",
       "      <td>14055.93</td>\n",
       "      <td>52.0</td>\n",
       "      <td>389.87</td>\n",
       "      <td>81.0</td>\n",
       "    </tr>\n",
       "    <tr>\n",
       "      <th>1000</th>\n",
       "      <td>9</td>\n",
       "      <td>14568.91</td>\n",
       "      <td>58.0</td>\n",
       "      <td>440.14</td>\n",
       "      <td>57.0</td>\n",
       "    </tr>\n",
       "  </tbody>\n",
       "</table>\n",
       "</div>"
      ],
      "text/plain": [
       "         month  traffic_volume  calls_count  calls_duration  messages_count\n",
       "user_id                                                                    \n",
       "1000         5         2253.49         22.0          150.06            22.0\n",
       "1000         6        23233.77         43.0          158.90            60.0\n",
       "1000         7        14003.64         47.0          318.80            75.0\n",
       "1000         8        14055.93         52.0          389.87            81.0\n",
       "1000         9        14568.91         58.0          440.14            57.0"
      ]
     },
     "execution_count": 29,
     "metadata": {},
     "output_type": "execute_result"
    }
   ],
   "source": [
    "Df_cmi_pivot = Df_internet_pivot.join([Df_calls_pivot, Df_messages_pivot]).reset_index(level='month')\n",
    "Df_cmi_pivot.head(5)"
   ]
  },
  {
   "cell_type": "markdown",
   "metadata": {},
   "source": [
    "Далее объединяем датафреймы Df_users и Df_cmi_pivot также методом join, параметру 'on' передаем значения Df_users['user_id']. Метод join будет искать совпадения этих значений с индексами Df_cmi_pivot и осуществлять по ним объединение."
   ]
  },
  {
   "cell_type": "code",
   "execution_count": 30,
   "metadata": {},
   "outputs": [
    {
     "data": {
      "text/html": [
       "<div>\n",
       "<style scoped>\n",
       "    .dataframe tbody tr th:only-of-type {\n",
       "        vertical-align: middle;\n",
       "    }\n",
       "\n",
       "    .dataframe tbody tr th {\n",
       "        vertical-align: top;\n",
       "    }\n",
       "\n",
       "    .dataframe thead th {\n",
       "        text-align: right;\n",
       "    }\n",
       "</style>\n",
       "<table border=\"1\" class=\"dataframe\">\n",
       "  <thead>\n",
       "    <tr style=\"text-align: right;\">\n",
       "      <th></th>\n",
       "      <th>user_id</th>\n",
       "      <th>age</th>\n",
       "      <th>churn_date</th>\n",
       "      <th>city</th>\n",
       "      <th>first_name</th>\n",
       "      <th>last_name</th>\n",
       "      <th>reg_date</th>\n",
       "      <th>tariff</th>\n",
       "      <th>month</th>\n",
       "      <th>traffic_volume</th>\n",
       "      <th>calls_count</th>\n",
       "      <th>calls_duration</th>\n",
       "      <th>messages_count</th>\n",
       "    </tr>\n",
       "  </thead>\n",
       "  <tbody>\n",
       "    <tr>\n",
       "      <th>0</th>\n",
       "      <td>1000</td>\n",
       "      <td>52</td>\n",
       "      <td>NaN</td>\n",
       "      <td>Краснодар</td>\n",
       "      <td>Рафаил</td>\n",
       "      <td>Верещагин</td>\n",
       "      <td>2018-05-25</td>\n",
       "      <td>ultra</td>\n",
       "      <td>5.0</td>\n",
       "      <td>2253.49</td>\n",
       "      <td>22.0</td>\n",
       "      <td>150.06</td>\n",
       "      <td>22.0</td>\n",
       "    </tr>\n",
       "    <tr>\n",
       "      <th>0</th>\n",
       "      <td>1000</td>\n",
       "      <td>52</td>\n",
       "      <td>NaN</td>\n",
       "      <td>Краснодар</td>\n",
       "      <td>Рафаил</td>\n",
       "      <td>Верещагин</td>\n",
       "      <td>2018-05-25</td>\n",
       "      <td>ultra</td>\n",
       "      <td>6.0</td>\n",
       "      <td>23233.77</td>\n",
       "      <td>43.0</td>\n",
       "      <td>158.90</td>\n",
       "      <td>60.0</td>\n",
       "    </tr>\n",
       "    <tr>\n",
       "      <th>0</th>\n",
       "      <td>1000</td>\n",
       "      <td>52</td>\n",
       "      <td>NaN</td>\n",
       "      <td>Краснодар</td>\n",
       "      <td>Рафаил</td>\n",
       "      <td>Верещагин</td>\n",
       "      <td>2018-05-25</td>\n",
       "      <td>ultra</td>\n",
       "      <td>7.0</td>\n",
       "      <td>14003.64</td>\n",
       "      <td>47.0</td>\n",
       "      <td>318.80</td>\n",
       "      <td>75.0</td>\n",
       "    </tr>\n",
       "    <tr>\n",
       "      <th>0</th>\n",
       "      <td>1000</td>\n",
       "      <td>52</td>\n",
       "      <td>NaN</td>\n",
       "      <td>Краснодар</td>\n",
       "      <td>Рафаил</td>\n",
       "      <td>Верещагин</td>\n",
       "      <td>2018-05-25</td>\n",
       "      <td>ultra</td>\n",
       "      <td>8.0</td>\n",
       "      <td>14055.93</td>\n",
       "      <td>52.0</td>\n",
       "      <td>389.87</td>\n",
       "      <td>81.0</td>\n",
       "    </tr>\n",
       "    <tr>\n",
       "      <th>0</th>\n",
       "      <td>1000</td>\n",
       "      <td>52</td>\n",
       "      <td>NaN</td>\n",
       "      <td>Краснодар</td>\n",
       "      <td>Рафаил</td>\n",
       "      <td>Верещагин</td>\n",
       "      <td>2018-05-25</td>\n",
       "      <td>ultra</td>\n",
       "      <td>9.0</td>\n",
       "      <td>14568.91</td>\n",
       "      <td>58.0</td>\n",
       "      <td>440.14</td>\n",
       "      <td>57.0</td>\n",
       "    </tr>\n",
       "  </tbody>\n",
       "</table>\n",
       "</div>"
      ],
      "text/plain": [
       "   user_id  age churn_date       city first_name  last_name   reg_date tariff  \\\n",
       "0     1000   52        NaN  Краснодар     Рафаил  Верещагин 2018-05-25  ultra   \n",
       "0     1000   52        NaN  Краснодар     Рафаил  Верещагин 2018-05-25  ultra   \n",
       "0     1000   52        NaN  Краснодар     Рафаил  Верещагин 2018-05-25  ultra   \n",
       "0     1000   52        NaN  Краснодар     Рафаил  Верещагин 2018-05-25  ultra   \n",
       "0     1000   52        NaN  Краснодар     Рафаил  Верещагин 2018-05-25  ultra   \n",
       "\n",
       "   month  traffic_volume  calls_count  calls_duration  messages_count  \n",
       "0    5.0         2253.49         22.0          150.06            22.0  \n",
       "0    6.0        23233.77         43.0          158.90            60.0  \n",
       "0    7.0        14003.64         47.0          318.80            75.0  \n",
       "0    8.0        14055.93         52.0          389.87            81.0  \n",
       "0    9.0        14568.91         58.0          440.14            57.0  "
      ]
     },
     "execution_count": 30,
     "metadata": {},
     "output_type": "execute_result"
    }
   ],
   "source": [
    "Df_cmiu_pivot = Df_users.join(Df_cmi_pivot, on='user_id')\n",
    "Df_cmiu_pivot.head(5)"
   ]
  },
  {
   "cell_type": "code",
   "execution_count": 31,
   "metadata": {},
   "outputs": [
    {
     "name": "stdout",
     "output_type": "stream",
     "text": [
      "<class 'pandas.core.frame.DataFrame'>\n",
      "Int64Index: 3206 entries, 0 to 499\n",
      "Data columns (total 13 columns):\n",
      " #   Column          Non-Null Count  Dtype         \n",
      "---  ------          --------------  -----         \n",
      " 0   user_id         3206 non-null   int64         \n",
      " 1   age             3206 non-null   int64         \n",
      " 2   churn_date      188 non-null    object        \n",
      " 3   city            3206 non-null   object        \n",
      " 4   first_name      3206 non-null   object        \n",
      " 5   last_name       3206 non-null   object        \n",
      " 6   reg_date        3206 non-null   datetime64[ns]\n",
      " 7   tariff          3206 non-null   object        \n",
      " 8   month           3203 non-null   float64       \n",
      " 9   traffic_volume  3203 non-null   float64       \n",
      " 10  calls_count     3163 non-null   float64       \n",
      " 11  calls_duration  3163 non-null   float64       \n",
      " 12  messages_count  2706 non-null   float64       \n",
      "dtypes: datetime64[ns](1), float64(5), int64(2), object(5)\n",
      "memory usage: 350.7+ KB\n"
     ]
    }
   ],
   "source": [
    "Df_cmiu_pivot.info()"
   ]
  },
  {
   "cell_type": "markdown",
   "metadata": {},
   "source": [
    "Удалим столбцы, которые не нужны чтобы легче было ориентироваться в таблице"
   ]
  },
  {
   "cell_type": "code",
   "execution_count": 32,
   "metadata": {},
   "outputs": [],
   "source": [
    "Df_cmiu_pivot = Df_cmiu_pivot.drop(['churn_date', 'first_name', 'last_name', 'reg_date'], axis='columns')"
   ]
  },
  {
   "cell_type": "markdown",
   "metadata": {},
   "source": [
    "Округлим значения продолжительности звонков и использованного трафика до целых чисел в большую сторону используя np.ceil()"
   ]
  },
  {
   "cell_type": "code",
   "execution_count": 33,
   "metadata": {},
   "outputs": [
    {
     "data": {
      "text/html": [
       "<div>\n",
       "<style scoped>\n",
       "    .dataframe tbody tr th:only-of-type {\n",
       "        vertical-align: middle;\n",
       "    }\n",
       "\n",
       "    .dataframe tbody tr th {\n",
       "        vertical-align: top;\n",
       "    }\n",
       "\n",
       "    .dataframe thead th {\n",
       "        text-align: right;\n",
       "    }\n",
       "</style>\n",
       "<table border=\"1\" class=\"dataframe\">\n",
       "  <thead>\n",
       "    <tr style=\"text-align: right;\">\n",
       "      <th></th>\n",
       "      <th>user_id</th>\n",
       "      <th>age</th>\n",
       "      <th>city</th>\n",
       "      <th>tariff</th>\n",
       "      <th>month</th>\n",
       "      <th>traffic_volume</th>\n",
       "      <th>calls_count</th>\n",
       "      <th>calls_duration</th>\n",
       "      <th>messages_count</th>\n",
       "    </tr>\n",
       "  </thead>\n",
       "  <tbody>\n",
       "    <tr>\n",
       "      <th>0</th>\n",
       "      <td>1000</td>\n",
       "      <td>52</td>\n",
       "      <td>Краснодар</td>\n",
       "      <td>ultra</td>\n",
       "      <td>5.0</td>\n",
       "      <td>2254.0</td>\n",
       "      <td>22.0</td>\n",
       "      <td>151.0</td>\n",
       "      <td>22.0</td>\n",
       "    </tr>\n",
       "    <tr>\n",
       "      <th>0</th>\n",
       "      <td>1000</td>\n",
       "      <td>52</td>\n",
       "      <td>Краснодар</td>\n",
       "      <td>ultra</td>\n",
       "      <td>6.0</td>\n",
       "      <td>23234.0</td>\n",
       "      <td>43.0</td>\n",
       "      <td>159.0</td>\n",
       "      <td>60.0</td>\n",
       "    </tr>\n",
       "    <tr>\n",
       "      <th>0</th>\n",
       "      <td>1000</td>\n",
       "      <td>52</td>\n",
       "      <td>Краснодар</td>\n",
       "      <td>ultra</td>\n",
       "      <td>7.0</td>\n",
       "      <td>14004.0</td>\n",
       "      <td>47.0</td>\n",
       "      <td>319.0</td>\n",
       "      <td>75.0</td>\n",
       "    </tr>\n",
       "    <tr>\n",
       "      <th>0</th>\n",
       "      <td>1000</td>\n",
       "      <td>52</td>\n",
       "      <td>Краснодар</td>\n",
       "      <td>ultra</td>\n",
       "      <td>8.0</td>\n",
       "      <td>14056.0</td>\n",
       "      <td>52.0</td>\n",
       "      <td>390.0</td>\n",
       "      <td>81.0</td>\n",
       "    </tr>\n",
       "    <tr>\n",
       "      <th>0</th>\n",
       "      <td>1000</td>\n",
       "      <td>52</td>\n",
       "      <td>Краснодар</td>\n",
       "      <td>ultra</td>\n",
       "      <td>9.0</td>\n",
       "      <td>14569.0</td>\n",
       "      <td>58.0</td>\n",
       "      <td>441.0</td>\n",
       "      <td>57.0</td>\n",
       "    </tr>\n",
       "  </tbody>\n",
       "</table>\n",
       "</div>"
      ],
      "text/plain": [
       "   user_id  age       city tariff  month  traffic_volume  calls_count  \\\n",
       "0     1000   52  Краснодар  ultra    5.0          2254.0         22.0   \n",
       "0     1000   52  Краснодар  ultra    6.0         23234.0         43.0   \n",
       "0     1000   52  Краснодар  ultra    7.0         14004.0         47.0   \n",
       "0     1000   52  Краснодар  ultra    8.0         14056.0         52.0   \n",
       "0     1000   52  Краснодар  ultra    9.0         14569.0         58.0   \n",
       "\n",
       "   calls_duration  messages_count  \n",
       "0           151.0            22.0  \n",
       "0           159.0            60.0  \n",
       "0           319.0            75.0  \n",
       "0           390.0            81.0  \n",
       "0           441.0            57.0  "
      ]
     },
     "execution_count": 33,
     "metadata": {},
     "output_type": "execute_result"
    }
   ],
   "source": [
    "Df_cmiu_pivot['calls_duration'] = np.ceil(Df_cmiu_pivot['calls_duration'])\n",
    "Df_cmiu_pivot['traffic_volume'] = np.ceil(Df_cmiu_pivot['traffic_volume'])\n",
    "Df_cmiu_pivot.head()"
   ]
  },
  {
   "cell_type": "markdown",
   "metadata": {},
   "source": [
    "Добавим к Df_cmiu_pivot информацию о тарифах из датафрейма Df_tariffs, объединим таблицы по колонке с названиями тарифов. Для этого сначала в Df_tariffs поменяем название нужного столбца на tariff.\n"
   ]
  },
  {
   "cell_type": "code",
   "execution_count": 34,
   "metadata": {},
   "outputs": [
    {
     "data": {
      "text/html": [
       "<div>\n",
       "<style scoped>\n",
       "    .dataframe tbody tr th:only-of-type {\n",
       "        vertical-align: middle;\n",
       "    }\n",
       "\n",
       "    .dataframe tbody tr th {\n",
       "        vertical-align: top;\n",
       "    }\n",
       "\n",
       "    .dataframe thead th {\n",
       "        text-align: right;\n",
       "    }\n",
       "</style>\n",
       "<table border=\"1\" class=\"dataframe\">\n",
       "  <thead>\n",
       "    <tr style=\"text-align: right;\">\n",
       "      <th></th>\n",
       "      <th>messages_included</th>\n",
       "      <th>mb_per_month_included</th>\n",
       "      <th>minutes_included</th>\n",
       "      <th>rub_monthly_fee</th>\n",
       "      <th>rub_per_gb</th>\n",
       "      <th>rub_per_message</th>\n",
       "      <th>rub_per_minute</th>\n",
       "      <th>tariff</th>\n",
       "    </tr>\n",
       "  </thead>\n",
       "  <tbody>\n",
       "    <tr>\n",
       "      <th>0</th>\n",
       "      <td>50</td>\n",
       "      <td>15360</td>\n",
       "      <td>500</td>\n",
       "      <td>550</td>\n",
       "      <td>200</td>\n",
       "      <td>3</td>\n",
       "      <td>3</td>\n",
       "      <td>smart</td>\n",
       "    </tr>\n",
       "    <tr>\n",
       "      <th>1</th>\n",
       "      <td>1000</td>\n",
       "      <td>30720</td>\n",
       "      <td>3000</td>\n",
       "      <td>1950</td>\n",
       "      <td>150</td>\n",
       "      <td>1</td>\n",
       "      <td>1</td>\n",
       "      <td>ultra</td>\n",
       "    </tr>\n",
       "  </tbody>\n",
       "</table>\n",
       "</div>"
      ],
      "text/plain": [
       "   messages_included  mb_per_month_included  minutes_included  \\\n",
       "0                 50                  15360               500   \n",
       "1               1000                  30720              3000   \n",
       "\n",
       "   rub_monthly_fee  rub_per_gb  rub_per_message  rub_per_minute tariff  \n",
       "0              550         200                3               3  smart  \n",
       "1             1950         150                1               1  ultra  "
      ]
     },
     "execution_count": 34,
     "metadata": {},
     "output_type": "execute_result"
    }
   ],
   "source": [
    "Df_tariffs.columns = ['messages_included', 'mb_per_month_included', 'minutes_included', 'rub_monthly_fee',\\\n",
    "                      'rub_per_gb', 'rub_per_message', 'rub_per_minute', 'tariff']\n",
    "Df_tariffs"
   ]
  },
  {
   "cell_type": "markdown",
   "metadata": {},
   "source": [
    "Применим метод merge, параметру \"on\" передадим колонку с названиями тарифов, параметр \"how\" по умолчанию \"inner\""
   ]
  },
  {
   "cell_type": "code",
   "execution_count": 35,
   "metadata": {},
   "outputs": [
    {
     "data": {
      "text/html": [
       "<div>\n",
       "<style scoped>\n",
       "    .dataframe tbody tr th:only-of-type {\n",
       "        vertical-align: middle;\n",
       "    }\n",
       "\n",
       "    .dataframe tbody tr th {\n",
       "        vertical-align: top;\n",
       "    }\n",
       "\n",
       "    .dataframe thead th {\n",
       "        text-align: right;\n",
       "    }\n",
       "</style>\n",
       "<table border=\"1\" class=\"dataframe\">\n",
       "  <thead>\n",
       "    <tr style=\"text-align: right;\">\n",
       "      <th></th>\n",
       "      <th>user_id</th>\n",
       "      <th>age</th>\n",
       "      <th>city</th>\n",
       "      <th>tariff</th>\n",
       "      <th>month</th>\n",
       "      <th>traffic_volume</th>\n",
       "      <th>calls_count</th>\n",
       "      <th>calls_duration</th>\n",
       "      <th>messages_count</th>\n",
       "      <th>messages_included</th>\n",
       "      <th>mb_per_month_included</th>\n",
       "      <th>minutes_included</th>\n",
       "      <th>rub_monthly_fee</th>\n",
       "      <th>rub_per_gb</th>\n",
       "      <th>rub_per_message</th>\n",
       "      <th>rub_per_minute</th>\n",
       "    </tr>\n",
       "  </thead>\n",
       "  <tbody>\n",
       "    <tr>\n",
       "      <th>0</th>\n",
       "      <td>1000</td>\n",
       "      <td>52</td>\n",
       "      <td>Краснодар</td>\n",
       "      <td>ultra</td>\n",
       "      <td>5.0</td>\n",
       "      <td>2254.0</td>\n",
       "      <td>22.0</td>\n",
       "      <td>151.0</td>\n",
       "      <td>22.0</td>\n",
       "      <td>1000</td>\n",
       "      <td>30720</td>\n",
       "      <td>3000</td>\n",
       "      <td>1950</td>\n",
       "      <td>150</td>\n",
       "      <td>1</td>\n",
       "      <td>1</td>\n",
       "    </tr>\n",
       "    <tr>\n",
       "      <th>1</th>\n",
       "      <td>1000</td>\n",
       "      <td>52</td>\n",
       "      <td>Краснодар</td>\n",
       "      <td>ultra</td>\n",
       "      <td>6.0</td>\n",
       "      <td>23234.0</td>\n",
       "      <td>43.0</td>\n",
       "      <td>159.0</td>\n",
       "      <td>60.0</td>\n",
       "      <td>1000</td>\n",
       "      <td>30720</td>\n",
       "      <td>3000</td>\n",
       "      <td>1950</td>\n",
       "      <td>150</td>\n",
       "      <td>1</td>\n",
       "      <td>1</td>\n",
       "    </tr>\n",
       "    <tr>\n",
       "      <th>2</th>\n",
       "      <td>1000</td>\n",
       "      <td>52</td>\n",
       "      <td>Краснодар</td>\n",
       "      <td>ultra</td>\n",
       "      <td>7.0</td>\n",
       "      <td>14004.0</td>\n",
       "      <td>47.0</td>\n",
       "      <td>319.0</td>\n",
       "      <td>75.0</td>\n",
       "      <td>1000</td>\n",
       "      <td>30720</td>\n",
       "      <td>3000</td>\n",
       "      <td>1950</td>\n",
       "      <td>150</td>\n",
       "      <td>1</td>\n",
       "      <td>1</td>\n",
       "    </tr>\n",
       "    <tr>\n",
       "      <th>3</th>\n",
       "      <td>1000</td>\n",
       "      <td>52</td>\n",
       "      <td>Краснодар</td>\n",
       "      <td>ultra</td>\n",
       "      <td>8.0</td>\n",
       "      <td>14056.0</td>\n",
       "      <td>52.0</td>\n",
       "      <td>390.0</td>\n",
       "      <td>81.0</td>\n",
       "      <td>1000</td>\n",
       "      <td>30720</td>\n",
       "      <td>3000</td>\n",
       "      <td>1950</td>\n",
       "      <td>150</td>\n",
       "      <td>1</td>\n",
       "      <td>1</td>\n",
       "    </tr>\n",
       "    <tr>\n",
       "      <th>4</th>\n",
       "      <td>1000</td>\n",
       "      <td>52</td>\n",
       "      <td>Краснодар</td>\n",
       "      <td>ultra</td>\n",
       "      <td>9.0</td>\n",
       "      <td>14569.0</td>\n",
       "      <td>58.0</td>\n",
       "      <td>441.0</td>\n",
       "      <td>57.0</td>\n",
       "      <td>1000</td>\n",
       "      <td>30720</td>\n",
       "      <td>3000</td>\n",
       "      <td>1950</td>\n",
       "      <td>150</td>\n",
       "      <td>1</td>\n",
       "      <td>1</td>\n",
       "    </tr>\n",
       "  </tbody>\n",
       "</table>\n",
       "</div>"
      ],
      "text/plain": [
       "   user_id  age       city tariff  month  traffic_volume  calls_count  \\\n",
       "0     1000   52  Краснодар  ultra    5.0          2254.0         22.0   \n",
       "1     1000   52  Краснодар  ultra    6.0         23234.0         43.0   \n",
       "2     1000   52  Краснодар  ultra    7.0         14004.0         47.0   \n",
       "3     1000   52  Краснодар  ultra    8.0         14056.0         52.0   \n",
       "4     1000   52  Краснодар  ultra    9.0         14569.0         58.0   \n",
       "\n",
       "   calls_duration  messages_count  messages_included  mb_per_month_included  \\\n",
       "0           151.0            22.0               1000                  30720   \n",
       "1           159.0            60.0               1000                  30720   \n",
       "2           319.0            75.0               1000                  30720   \n",
       "3           390.0            81.0               1000                  30720   \n",
       "4           441.0            57.0               1000                  30720   \n",
       "\n",
       "   minutes_included  rub_monthly_fee  rub_per_gb  rub_per_message  \\\n",
       "0              3000             1950         150                1   \n",
       "1              3000             1950         150                1   \n",
       "2              3000             1950         150                1   \n",
       "3              3000             1950         150                1   \n",
       "4              3000             1950         150                1   \n",
       "\n",
       "   rub_per_minute  \n",
       "0               1  \n",
       "1               1  \n",
       "2               1  \n",
       "3               1  \n",
       "4               1  "
      ]
     },
     "execution_count": 35,
     "metadata": {},
     "output_type": "execute_result"
    }
   ],
   "source": [
    "Df_cmiu_pivot = Df_cmiu_pivot.merge(Df_tariffs, on='tariff')\n",
    "Df_cmiu_pivot.head()"
   ]
  },
  {
   "cell_type": "markdown",
   "metadata": {},
   "source": [
    "После объединения таблиц образовалось немало пропусков. Причина этого в разнице в исходных данных. Пропуски нельзя отбросить или оставить не изменными так как они могут повлять на дальнейшие расчеты, а также привести к потере данных.  Поэтому целесообразно заменить все пропуски на ноль."
   ]
  },
  {
   "cell_type": "markdown",
   "metadata": {},
   "source": [
    "Получившийся датафрейм проверим на пропуски."
   ]
  },
  {
   "cell_type": "code",
   "execution_count": 36,
   "metadata": {},
   "outputs": [
    {
     "data": {
      "text/plain": [
       "user_id                    0\n",
       "age                        0\n",
       "city                       0\n",
       "tariff                     0\n",
       "month                      3\n",
       "traffic_volume             3\n",
       "calls_count               43\n",
       "calls_duration            43\n",
       "messages_count           500\n",
       "messages_included          0\n",
       "mb_per_month_included      0\n",
       "minutes_included           0\n",
       "rub_monthly_fee            0\n",
       "rub_per_gb                 0\n",
       "rub_per_message            0\n",
       "rub_per_minute             0\n",
       "dtype: int64"
      ]
     },
     "execution_count": 36,
     "metadata": {},
     "output_type": "execute_result"
    }
   ],
   "source": [
    "Df_cmiu_pivot.isnull().sum()"
   ]
  },
  {
   "cell_type": "markdown",
   "metadata": {},
   "source": [
    "Пропуски в колонке month заменить на ноль нельзя, их всего три, поэтому их можно удалить."
   ]
  },
  {
   "cell_type": "code",
   "execution_count": 37,
   "metadata": {},
   "outputs": [
    {
     "data": {
      "text/html": [
       "<div>\n",
       "<style scoped>\n",
       "    .dataframe tbody tr th:only-of-type {\n",
       "        vertical-align: middle;\n",
       "    }\n",
       "\n",
       "    .dataframe tbody tr th {\n",
       "        vertical-align: top;\n",
       "    }\n",
       "\n",
       "    .dataframe thead th {\n",
       "        text-align: right;\n",
       "    }\n",
       "</style>\n",
       "<table border=\"1\" class=\"dataframe\">\n",
       "  <thead>\n",
       "    <tr style=\"text-align: right;\">\n",
       "      <th></th>\n",
       "      <th>user_id</th>\n",
       "      <th>age</th>\n",
       "      <th>city</th>\n",
       "      <th>tariff</th>\n",
       "      <th>month</th>\n",
       "      <th>traffic_volume</th>\n",
       "      <th>calls_count</th>\n",
       "      <th>calls_duration</th>\n",
       "      <th>messages_count</th>\n",
       "      <th>messages_included</th>\n",
       "      <th>mb_per_month_included</th>\n",
       "      <th>minutes_included</th>\n",
       "      <th>rub_monthly_fee</th>\n",
       "      <th>rub_per_gb</th>\n",
       "      <th>rub_per_message</th>\n",
       "      <th>rub_per_minute</th>\n",
       "    </tr>\n",
       "  </thead>\n",
       "  <tbody>\n",
       "    <tr>\n",
       "      <th>243</th>\n",
       "      <td>1128</td>\n",
       "      <td>51</td>\n",
       "      <td>Волжский</td>\n",
       "      <td>ultra</td>\n",
       "      <td>NaN</td>\n",
       "      <td>NaN</td>\n",
       "      <td>NaN</td>\n",
       "      <td>NaN</td>\n",
       "      <td>NaN</td>\n",
       "      <td>1000</td>\n",
       "      <td>30720</td>\n",
       "      <td>3000</td>\n",
       "      <td>1950</td>\n",
       "      <td>150</td>\n",
       "      <td>1</td>\n",
       "      <td>1</td>\n",
       "    </tr>\n",
       "    <tr>\n",
       "      <th>477</th>\n",
       "      <td>1273</td>\n",
       "      <td>46</td>\n",
       "      <td>Курган</td>\n",
       "      <td>ultra</td>\n",
       "      <td>NaN</td>\n",
       "      <td>NaN</td>\n",
       "      <td>NaN</td>\n",
       "      <td>NaN</td>\n",
       "      <td>NaN</td>\n",
       "      <td>1000</td>\n",
       "      <td>30720</td>\n",
       "      <td>3000</td>\n",
       "      <td>1950</td>\n",
       "      <td>150</td>\n",
       "      <td>1</td>\n",
       "      <td>1</td>\n",
       "    </tr>\n",
       "    <tr>\n",
       "      <th>2610</th>\n",
       "      <td>1371</td>\n",
       "      <td>50</td>\n",
       "      <td>Омск</td>\n",
       "      <td>smart</td>\n",
       "      <td>NaN</td>\n",
       "      <td>NaN</td>\n",
       "      <td>NaN</td>\n",
       "      <td>NaN</td>\n",
       "      <td>NaN</td>\n",
       "      <td>50</td>\n",
       "      <td>15360</td>\n",
       "      <td>500</td>\n",
       "      <td>550</td>\n",
       "      <td>200</td>\n",
       "      <td>3</td>\n",
       "      <td>3</td>\n",
       "    </tr>\n",
       "  </tbody>\n",
       "</table>\n",
       "</div>"
      ],
      "text/plain": [
       "      user_id  age      city tariff  month  traffic_volume  calls_count  \\\n",
       "243      1128   51  Волжский  ultra    NaN             NaN          NaN   \n",
       "477      1273   46    Курган  ultra    NaN             NaN          NaN   \n",
       "2610     1371   50      Омск  smart    NaN             NaN          NaN   \n",
       "\n",
       "      calls_duration  messages_count  messages_included  \\\n",
       "243              NaN             NaN               1000   \n",
       "477              NaN             NaN               1000   \n",
       "2610             NaN             NaN                 50   \n",
       "\n",
       "      mb_per_month_included  minutes_included  rub_monthly_fee  rub_per_gb  \\\n",
       "243                   30720              3000             1950         150   \n",
       "477                   30720              3000             1950         150   \n",
       "2610                  15360               500              550         200   \n",
       "\n",
       "      rub_per_message  rub_per_minute  \n",
       "243                 1               1  \n",
       "477                 1               1  \n",
       "2610                3               3  "
      ]
     },
     "execution_count": 37,
     "metadata": {},
     "output_type": "execute_result"
    }
   ],
   "source": [
    "Df_cmiu_pivot[Df_cmiu_pivot['month'].isnull()]"
   ]
  },
  {
   "cell_type": "code",
   "execution_count": 38,
   "metadata": {},
   "outputs": [],
   "source": [
    "Df_cmiu_pivot = Df_cmiu_pivot.dropna(subset=['month'])"
   ]
  },
  {
   "cell_type": "code",
   "execution_count": 39,
   "metadata": {},
   "outputs": [
    {
     "data": {
      "text/html": [
       "<div>\n",
       "<style scoped>\n",
       "    .dataframe tbody tr th:only-of-type {\n",
       "        vertical-align: middle;\n",
       "    }\n",
       "\n",
       "    .dataframe tbody tr th {\n",
       "        vertical-align: top;\n",
       "    }\n",
       "\n",
       "    .dataframe thead th {\n",
       "        text-align: right;\n",
       "    }\n",
       "</style>\n",
       "<table border=\"1\" class=\"dataframe\">\n",
       "  <thead>\n",
       "    <tr style=\"text-align: right;\">\n",
       "      <th></th>\n",
       "      <th>user_id</th>\n",
       "      <th>age</th>\n",
       "      <th>city</th>\n",
       "      <th>tariff</th>\n",
       "      <th>month</th>\n",
       "      <th>traffic_volume</th>\n",
       "      <th>calls_count</th>\n",
       "      <th>calls_duration</th>\n",
       "      <th>messages_count</th>\n",
       "      <th>messages_included</th>\n",
       "      <th>mb_per_month_included</th>\n",
       "      <th>minutes_included</th>\n",
       "      <th>rub_monthly_fee</th>\n",
       "      <th>rub_per_gb</th>\n",
       "      <th>rub_per_message</th>\n",
       "      <th>rub_per_minute</th>\n",
       "    </tr>\n",
       "  </thead>\n",
       "  <tbody>\n",
       "  </tbody>\n",
       "</table>\n",
       "</div>"
      ],
      "text/plain": [
       "Empty DataFrame\n",
       "Columns: [user_id, age, city, tariff, month, traffic_volume, calls_count, calls_duration, messages_count, messages_included, mb_per_month_included, minutes_included, rub_monthly_fee, rub_per_gb, rub_per_message, rub_per_minute]\n",
       "Index: []"
      ]
     },
     "execution_count": 39,
     "metadata": {},
     "output_type": "execute_result"
    }
   ],
   "source": [
    "Df_cmiu_pivot[Df_cmiu_pivot['month'].isnull()]"
   ]
  },
  {
   "cell_type": "markdown",
   "metadata": {},
   "source": [
    "Заменим на ноль остальные пропуски."
   ]
  },
  {
   "cell_type": "code",
   "execution_count": 40,
   "metadata": {},
   "outputs": [],
   "source": [
    "Df_cmiu_pivot = Df_cmiu_pivot.fillna(0)"
   ]
  },
  {
   "cell_type": "code",
   "execution_count": 41,
   "metadata": {},
   "outputs": [
    {
     "data": {
      "text/plain": [
       "user_id                  0\n",
       "age                      0\n",
       "city                     0\n",
       "tariff                   0\n",
       "month                    0\n",
       "traffic_volume           0\n",
       "calls_count              0\n",
       "calls_duration           0\n",
       "messages_count           0\n",
       "messages_included        0\n",
       "mb_per_month_included    0\n",
       "minutes_included         0\n",
       "rub_monthly_fee          0\n",
       "rub_per_gb               0\n",
       "rub_per_message          0\n",
       "rub_per_minute           0\n",
       "dtype: int64"
      ]
     },
     "execution_count": 41,
     "metadata": {},
     "output_type": "execute_result"
    }
   ],
   "source": [
    "Df_cmiu_pivot.isnull().sum() # Проверка"
   ]
  },
  {
   "cell_type": "markdown",
   "metadata": {},
   "source": [
    "При помощи функции total_bill_monthly рассчитаем помесячную выручку. В качестве pd.Series будет выступать строка датафрейма."
   ]
  },
  {
   "cell_type": "code",
   "execution_count": 42,
   "metadata": {},
   "outputs": [],
   "source": [
    "def total_bill_monthly(row):\n",
    "    \n",
    "# определим переменные\n",
    "    \n",
    "    bill_minutes = 0\n",
    "    bill_sms = 0\n",
    "    bill_traffic = 0\n",
    "    minutes = row['calls_duration']\n",
    "    sms = row['messages_count']\n",
    "    traffic = row['traffic_volume']\n",
    "    tariff = row['tariff']\n",
    "    minutes_limit = row['minutes_included']\n",
    "    sms_limit = row['messages_included']\n",
    "    traffic_limit = row['mb_per_month_included']\n",
    "    monthly_fee = row['rub_monthly_fee']\n",
    "    rub_per_gb = row['rub_per_gb']\n",
    "    rub_per_message = row['rub_per_message']\n",
    "    rub_per_minute = row['rub_per_minute']\n",
    "\n",
    "# проверим разницу между суммарными значениями звонков, сообщений, трафика и бесплатным лимитом тарифа\n",
    "# если эта разница меньше нуля, то возвращаем ноль - клиент не израсходовал бесплатный лимит\n",
    "# если больше - то разницу умножаем на стоимость сверх тарифного плана\n",
    "    \n",
    "    if minutes > minutes_limit:\n",
    "        bill_minutes += (minutes - minutes_limit) * rub_per_minute\n",
    "    if minutes < minutes_limit:\n",
    "        bill_minutes = 0\n",
    "    if sms > sms_limit:\n",
    "        bill_sms += (sms - sms_limit) * rub_per_message\n",
    "    if sms < sms_limit:\n",
    "        bill_sms = 0\n",
    "    if traffic > traffic_limit:\n",
    "        bill_traffic += (np.ceil((traffic - traffic_limit) / 1024 )) * rub_per_gb# округляем мегабайты вверх до гигабайт\n",
    "    if traffic < traffic_limit:\n",
    "        bill_traffic = 0\n",
    "        \n",
    "# функция возвращает итоговый счет за месяц для клиента,\n",
    "# в котором к сумме счетов за отдельные категории услуг прибавляется абонентская плата за тариф\n",
    "        \n",
    "    return bill_minutes + bill_sms + bill_traffic + monthly_fee"
   ]
  },
  {
   "cell_type": "markdown",
   "metadata": {},
   "source": [
    "С помощью метода apply() применим функцию к датафрейму. Указываем параметр axis = 1 метода apply() чтобы на вход в функцию отправлялись строки."
   ]
  },
  {
   "cell_type": "code",
   "execution_count": 43,
   "metadata": {},
   "outputs": [
    {
     "data": {
      "text/html": [
       "<div>\n",
       "<style scoped>\n",
       "    .dataframe tbody tr th:only-of-type {\n",
       "        vertical-align: middle;\n",
       "    }\n",
       "\n",
       "    .dataframe tbody tr th {\n",
       "        vertical-align: top;\n",
       "    }\n",
       "\n",
       "    .dataframe thead th {\n",
       "        text-align: right;\n",
       "    }\n",
       "</style>\n",
       "<table border=\"1\" class=\"dataframe\">\n",
       "  <thead>\n",
       "    <tr style=\"text-align: right;\">\n",
       "      <th></th>\n",
       "      <th>user_id</th>\n",
       "      <th>age</th>\n",
       "      <th>city</th>\n",
       "      <th>tariff</th>\n",
       "      <th>month</th>\n",
       "      <th>traffic_volume</th>\n",
       "      <th>calls_count</th>\n",
       "      <th>calls_duration</th>\n",
       "      <th>messages_count</th>\n",
       "      <th>messages_included</th>\n",
       "      <th>mb_per_month_included</th>\n",
       "      <th>minutes_included</th>\n",
       "      <th>rub_monthly_fee</th>\n",
       "      <th>rub_per_gb</th>\n",
       "      <th>rub_per_message</th>\n",
       "      <th>rub_per_minute</th>\n",
       "      <th>total_bill</th>\n",
       "    </tr>\n",
       "  </thead>\n",
       "  <tbody>\n",
       "    <tr>\n",
       "      <th>0</th>\n",
       "      <td>1000</td>\n",
       "      <td>52</td>\n",
       "      <td>Краснодар</td>\n",
       "      <td>ultra</td>\n",
       "      <td>5.0</td>\n",
       "      <td>2254.0</td>\n",
       "      <td>22.0</td>\n",
       "      <td>151.0</td>\n",
       "      <td>22.0</td>\n",
       "      <td>1000</td>\n",
       "      <td>30720</td>\n",
       "      <td>3000</td>\n",
       "      <td>1950</td>\n",
       "      <td>150</td>\n",
       "      <td>1</td>\n",
       "      <td>1</td>\n",
       "      <td>1950.0</td>\n",
       "    </tr>\n",
       "    <tr>\n",
       "      <th>1</th>\n",
       "      <td>1000</td>\n",
       "      <td>52</td>\n",
       "      <td>Краснодар</td>\n",
       "      <td>ultra</td>\n",
       "      <td>6.0</td>\n",
       "      <td>23234.0</td>\n",
       "      <td>43.0</td>\n",
       "      <td>159.0</td>\n",
       "      <td>60.0</td>\n",
       "      <td>1000</td>\n",
       "      <td>30720</td>\n",
       "      <td>3000</td>\n",
       "      <td>1950</td>\n",
       "      <td>150</td>\n",
       "      <td>1</td>\n",
       "      <td>1</td>\n",
       "      <td>1950.0</td>\n",
       "    </tr>\n",
       "    <tr>\n",
       "      <th>2</th>\n",
       "      <td>1000</td>\n",
       "      <td>52</td>\n",
       "      <td>Краснодар</td>\n",
       "      <td>ultra</td>\n",
       "      <td>7.0</td>\n",
       "      <td>14004.0</td>\n",
       "      <td>47.0</td>\n",
       "      <td>319.0</td>\n",
       "      <td>75.0</td>\n",
       "      <td>1000</td>\n",
       "      <td>30720</td>\n",
       "      <td>3000</td>\n",
       "      <td>1950</td>\n",
       "      <td>150</td>\n",
       "      <td>1</td>\n",
       "      <td>1</td>\n",
       "      <td>1950.0</td>\n",
       "    </tr>\n",
       "    <tr>\n",
       "      <th>3</th>\n",
       "      <td>1000</td>\n",
       "      <td>52</td>\n",
       "      <td>Краснодар</td>\n",
       "      <td>ultra</td>\n",
       "      <td>8.0</td>\n",
       "      <td>14056.0</td>\n",
       "      <td>52.0</td>\n",
       "      <td>390.0</td>\n",
       "      <td>81.0</td>\n",
       "      <td>1000</td>\n",
       "      <td>30720</td>\n",
       "      <td>3000</td>\n",
       "      <td>1950</td>\n",
       "      <td>150</td>\n",
       "      <td>1</td>\n",
       "      <td>1</td>\n",
       "      <td>1950.0</td>\n",
       "    </tr>\n",
       "    <tr>\n",
       "      <th>4</th>\n",
       "      <td>1000</td>\n",
       "      <td>52</td>\n",
       "      <td>Краснодар</td>\n",
       "      <td>ultra</td>\n",
       "      <td>9.0</td>\n",
       "      <td>14569.0</td>\n",
       "      <td>58.0</td>\n",
       "      <td>441.0</td>\n",
       "      <td>57.0</td>\n",
       "      <td>1000</td>\n",
       "      <td>30720</td>\n",
       "      <td>3000</td>\n",
       "      <td>1950</td>\n",
       "      <td>150</td>\n",
       "      <td>1</td>\n",
       "      <td>1</td>\n",
       "      <td>1950.0</td>\n",
       "    </tr>\n",
       "    <tr>\n",
       "      <th>...</th>\n",
       "      <td>...</td>\n",
       "      <td>...</td>\n",
       "      <td>...</td>\n",
       "      <td>...</td>\n",
       "      <td>...</td>\n",
       "      <td>...</td>\n",
       "      <td>...</td>\n",
       "      <td>...</td>\n",
       "      <td>...</td>\n",
       "      <td>...</td>\n",
       "      <td>...</td>\n",
       "      <td>...</td>\n",
       "      <td>...</td>\n",
       "      <td>...</td>\n",
       "      <td>...</td>\n",
       "      <td>...</td>\n",
       "      <td>...</td>\n",
       "    </tr>\n",
       "    <tr>\n",
       "      <th>3201</th>\n",
       "      <td>1498</td>\n",
       "      <td>68</td>\n",
       "      <td>Владикавказ</td>\n",
       "      <td>smart</td>\n",
       "      <td>10.0</td>\n",
       "      <td>20580.0</td>\n",
       "      <td>41.0</td>\n",
       "      <td>233.0</td>\n",
       "      <td>42.0</td>\n",
       "      <td>50</td>\n",
       "      <td>15360</td>\n",
       "      <td>500</td>\n",
       "      <td>550</td>\n",
       "      <td>200</td>\n",
       "      <td>3</td>\n",
       "      <td>3</td>\n",
       "      <td>1750.0</td>\n",
       "    </tr>\n",
       "    <tr>\n",
       "      <th>3202</th>\n",
       "      <td>1499</td>\n",
       "      <td>35</td>\n",
       "      <td>Пермь</td>\n",
       "      <td>smart</td>\n",
       "      <td>9.0</td>\n",
       "      <td>1846.0</td>\n",
       "      <td>9.0</td>\n",
       "      <td>65.0</td>\n",
       "      <td>11.0</td>\n",
       "      <td>50</td>\n",
       "      <td>15360</td>\n",
       "      <td>500</td>\n",
       "      <td>550</td>\n",
       "      <td>200</td>\n",
       "      <td>3</td>\n",
       "      <td>3</td>\n",
       "      <td>550.0</td>\n",
       "    </tr>\n",
       "    <tr>\n",
       "      <th>3203</th>\n",
       "      <td>1499</td>\n",
       "      <td>35</td>\n",
       "      <td>Пермь</td>\n",
       "      <td>smart</td>\n",
       "      <td>10.0</td>\n",
       "      <td>17789.0</td>\n",
       "      <td>68.0</td>\n",
       "      <td>430.0</td>\n",
       "      <td>48.0</td>\n",
       "      <td>50</td>\n",
       "      <td>15360</td>\n",
       "      <td>500</td>\n",
       "      <td>550</td>\n",
       "      <td>200</td>\n",
       "      <td>3</td>\n",
       "      <td>3</td>\n",
       "      <td>1150.0</td>\n",
       "    </tr>\n",
       "    <tr>\n",
       "      <th>3204</th>\n",
       "      <td>1499</td>\n",
       "      <td>35</td>\n",
       "      <td>Пермь</td>\n",
       "      <td>smart</td>\n",
       "      <td>11.0</td>\n",
       "      <td>17964.0</td>\n",
       "      <td>74.0</td>\n",
       "      <td>577.0</td>\n",
       "      <td>59.0</td>\n",
       "      <td>50</td>\n",
       "      <td>15360</td>\n",
       "      <td>500</td>\n",
       "      <td>550</td>\n",
       "      <td>200</td>\n",
       "      <td>3</td>\n",
       "      <td>3</td>\n",
       "      <td>1408.0</td>\n",
       "    </tr>\n",
       "    <tr>\n",
       "      <th>3205</th>\n",
       "      <td>1499</td>\n",
       "      <td>35</td>\n",
       "      <td>Пермь</td>\n",
       "      <td>smart</td>\n",
       "      <td>12.0</td>\n",
       "      <td>13056.0</td>\n",
       "      <td>69.0</td>\n",
       "      <td>466.0</td>\n",
       "      <td>66.0</td>\n",
       "      <td>50</td>\n",
       "      <td>15360</td>\n",
       "      <td>500</td>\n",
       "      <td>550</td>\n",
       "      <td>200</td>\n",
       "      <td>3</td>\n",
       "      <td>3</td>\n",
       "      <td>598.0</td>\n",
       "    </tr>\n",
       "  </tbody>\n",
       "</table>\n",
       "<p>3203 rows × 17 columns</p>\n",
       "</div>"
      ],
      "text/plain": [
       "      user_id  age         city tariff  month  traffic_volume  calls_count  \\\n",
       "0        1000   52    Краснодар  ultra    5.0          2254.0         22.0   \n",
       "1        1000   52    Краснодар  ultra    6.0         23234.0         43.0   \n",
       "2        1000   52    Краснодар  ultra    7.0         14004.0         47.0   \n",
       "3        1000   52    Краснодар  ultra    8.0         14056.0         52.0   \n",
       "4        1000   52    Краснодар  ultra    9.0         14569.0         58.0   \n",
       "...       ...  ...          ...    ...    ...             ...          ...   \n",
       "3201     1498   68  Владикавказ  smart   10.0         20580.0         41.0   \n",
       "3202     1499   35        Пермь  smart    9.0          1846.0          9.0   \n",
       "3203     1499   35        Пермь  smart   10.0         17789.0         68.0   \n",
       "3204     1499   35        Пермь  smart   11.0         17964.0         74.0   \n",
       "3205     1499   35        Пермь  smart   12.0         13056.0         69.0   \n",
       "\n",
       "      calls_duration  messages_count  messages_included  \\\n",
       "0              151.0            22.0               1000   \n",
       "1              159.0            60.0               1000   \n",
       "2              319.0            75.0               1000   \n",
       "3              390.0            81.0               1000   \n",
       "4              441.0            57.0               1000   \n",
       "...              ...             ...                ...   \n",
       "3201           233.0            42.0                 50   \n",
       "3202            65.0            11.0                 50   \n",
       "3203           430.0            48.0                 50   \n",
       "3204           577.0            59.0                 50   \n",
       "3205           466.0            66.0                 50   \n",
       "\n",
       "      mb_per_month_included  minutes_included  rub_monthly_fee  rub_per_gb  \\\n",
       "0                     30720              3000             1950         150   \n",
       "1                     30720              3000             1950         150   \n",
       "2                     30720              3000             1950         150   \n",
       "3                     30720              3000             1950         150   \n",
       "4                     30720              3000             1950         150   \n",
       "...                     ...               ...              ...         ...   \n",
       "3201                  15360               500              550         200   \n",
       "3202                  15360               500              550         200   \n",
       "3203                  15360               500              550         200   \n",
       "3204                  15360               500              550         200   \n",
       "3205                  15360               500              550         200   \n",
       "\n",
       "      rub_per_message  rub_per_minute  total_bill  \n",
       "0                   1               1      1950.0  \n",
       "1                   1               1      1950.0  \n",
       "2                   1               1      1950.0  \n",
       "3                   1               1      1950.0  \n",
       "4                   1               1      1950.0  \n",
       "...               ...             ...         ...  \n",
       "3201                3               3      1750.0  \n",
       "3202                3               3       550.0  \n",
       "3203                3               3      1150.0  \n",
       "3204                3               3      1408.0  \n",
       "3205                3               3       598.0  \n",
       "\n",
       "[3203 rows x 17 columns]"
      ]
     },
     "execution_count": 43,
     "metadata": {},
     "output_type": "execute_result"
    }
   ],
   "source": [
    "Df_cmiu_pivot['total_bill'] = Df_cmiu_pivot.apply(total_bill_monthly, axis=1)\n",
    "Df_cmiu_pivot"
   ]
  },
  {
   "cell_type": "markdown",
   "metadata": {},
   "source": [
    "Проверим количество уникальных пользователей в объединенной таблице."
   ]
  },
  {
   "cell_type": "code",
   "execution_count": 44,
   "metadata": {},
   "outputs": [
    {
     "data": {
      "text/plain": [
       "497"
      ]
     },
     "execution_count": 44,
     "metadata": {},
     "output_type": "execute_result"
    }
   ],
   "source": [
    "len(Df_cmiu_pivot['user_id'].unique())"
   ]
  },
  {
   "cell_type": "markdown",
   "metadata": {},
   "source": [
    "По сравнению с 500 пользователями, указанными в условии задачи в объединенной таблице их количество уменьшилось не существенно (до 497), что подтверждает отсутствие ошибки."
   ]
  },
  {
   "cell_type": "markdown",
   "metadata": {},
   "source": [
    "### Вывод"
   ]
  },
  {
   "cell_type": "markdown",
   "metadata": {},
   "source": [
    " Проведена преобработка данных включающая в себя: проверка на наличие отрицательных значений, проверка на наличие дубликатов, приведение данных к корректным типам в каждом датафрейме, найдены и исправлены ошибки. Проведено объединение датафреймов для дальнейшего исследовательского анализа данных."
   ]
  },
  {
   "cell_type": "markdown",
   "metadata": {},
   "source": [
    " "
   ]
  },
  {
   "cell_type": "markdown",
   "metadata": {},
   "source": [
    "## Исследовательский анализ данных"
   ]
  },
  {
   "cell_type": "markdown",
   "metadata": {},
   "source": [
    "Для изучения поведения клиентов вычислим помесячную сумму исследуемых параметров для всех пользователей:"
   ]
  },
  {
   "cell_type": "code",
   "execution_count": 45,
   "metadata": {},
   "outputs": [
    {
     "data": {
      "text/html": [
       "<div>\n",
       "<style scoped>\n",
       "    .dataframe tbody tr th:only-of-type {\n",
       "        vertical-align: middle;\n",
       "    }\n",
       "\n",
       "    .dataframe tbody tr th {\n",
       "        vertical-align: top;\n",
       "    }\n",
       "\n",
       "    .dataframe thead th {\n",
       "        text-align: right;\n",
       "    }\n",
       "</style>\n",
       "<table border=\"1\" class=\"dataframe\">\n",
       "  <thead>\n",
       "    <tr style=\"text-align: right;\">\n",
       "      <th></th>\n",
       "      <th>month</th>\n",
       "      <th>calls_count</th>\n",
       "      <th>calls_duration</th>\n",
       "      <th>messages_count</th>\n",
       "      <th>total_bill</th>\n",
       "      <th>traffic_volume</th>\n",
       "    </tr>\n",
       "    <tr>\n",
       "      <th>tariff</th>\n",
       "      <th></th>\n",
       "      <th></th>\n",
       "      <th></th>\n",
       "      <th></th>\n",
       "      <th></th>\n",
       "      <th></th>\n",
       "    </tr>\n",
       "  </thead>\n",
       "  <tbody>\n",
       "    <tr>\n",
       "      <th>smart</th>\n",
       "      <td>1.0</td>\n",
       "      <td>941.0</td>\n",
       "      <td>6579.0</td>\n",
       "      <td>620.0</td>\n",
       "      <td>24456.0</td>\n",
       "      <td>289482.0</td>\n",
       "    </tr>\n",
       "    <tr>\n",
       "      <th>smart</th>\n",
       "      <td>2.0</td>\n",
       "      <td>2331.0</td>\n",
       "      <td>16438.0</td>\n",
       "      <td>1397.0</td>\n",
       "      <td>47053.0</td>\n",
       "      <td>672656.0</td>\n",
       "    </tr>\n",
       "    <tr>\n",
       "      <th>smart</th>\n",
       "      <td>3.0</td>\n",
       "      <td>4183.0</td>\n",
       "      <td>28362.0</td>\n",
       "      <td>2453.0</td>\n",
       "      <td>87384.0</td>\n",
       "      <td>1163058.0</td>\n",
       "    </tr>\n",
       "    <tr>\n",
       "      <th>smart</th>\n",
       "      <td>4.0</td>\n",
       "      <td>5747.0</td>\n",
       "      <td>38838.0</td>\n",
       "      <td>3443.0</td>\n",
       "      <td>105253.0</td>\n",
       "      <td>1507817.0</td>\n",
       "    </tr>\n",
       "    <tr>\n",
       "      <th>smart</th>\n",
       "      <td>5.0</td>\n",
       "      <td>7789.0</td>\n",
       "      <td>51565.0</td>\n",
       "      <td>4762.0</td>\n",
       "      <td>165339.0</td>\n",
       "      <td>2228598.0</td>\n",
       "    </tr>\n",
       "    <tr>\n",
       "      <th>smart</th>\n",
       "      <td>6.0</td>\n",
       "      <td>9110.0</td>\n",
       "      <td>61283.0</td>\n",
       "      <td>5478.0</td>\n",
       "      <td>192950.0</td>\n",
       "      <td>2590405.0</td>\n",
       "    </tr>\n",
       "    <tr>\n",
       "      <th>smart</th>\n",
       "      <td>7.0</td>\n",
       "      <td>11402.0</td>\n",
       "      <td>77587.0</td>\n",
       "      <td>6784.0</td>\n",
       "      <td>239765.0</td>\n",
       "      <td>3164469.0</td>\n",
       "    </tr>\n",
       "    <tr>\n",
       "      <th>smart</th>\n",
       "      <td>8.0</td>\n",
       "      <td>13856.0</td>\n",
       "      <td>93569.0</td>\n",
       "      <td>7904.0</td>\n",
       "      <td>302467.0</td>\n",
       "      <td>3903634.0</td>\n",
       "    </tr>\n",
       "    <tr>\n",
       "      <th>smart</th>\n",
       "      <td>9.0</td>\n",
       "      <td>15482.0</td>\n",
       "      <td>105303.0</td>\n",
       "      <td>8746.0</td>\n",
       "      <td>316187.0</td>\n",
       "      <td>4239065.0</td>\n",
       "    </tr>\n",
       "    <tr>\n",
       "      <th>smart</th>\n",
       "      <td>10.0</td>\n",
       "      <td>17629.0</td>\n",
       "      <td>118412.0</td>\n",
       "      <td>9927.0</td>\n",
       "      <td>391409.0</td>\n",
       "      <td>4926730.0</td>\n",
       "    </tr>\n",
       "    <tr>\n",
       "      <th>smart</th>\n",
       "      <td>11.0</td>\n",
       "      <td>19435.0</td>\n",
       "      <td>129908.0</td>\n",
       "      <td>10768.0</td>\n",
       "      <td>413474.0</td>\n",
       "      <td>5339197.0</td>\n",
       "    </tr>\n",
       "    <tr>\n",
       "      <th>smart</th>\n",
       "      <td>12.0</td>\n",
       "      <td>22406.0</td>\n",
       "      <td>152391.0</td>\n",
       "      <td>12130.0</td>\n",
       "      <td>516878.0</td>\n",
       "      <td>6104468.0</td>\n",
       "    </tr>\n",
       "    <tr>\n",
       "      <th>ultra</th>\n",
       "      <td>1.0</td>\n",
       "      <td>535.0</td>\n",
       "      <td>3648.0</td>\n",
       "      <td>304.0</td>\n",
       "      <td>17550.0</td>\n",
       "      <td>118272.0</td>\n",
       "    </tr>\n",
       "    <tr>\n",
       "      <th>ultra</th>\n",
       "      <td>2.0</td>\n",
       "      <td>972.0</td>\n",
       "      <td>6566.0</td>\n",
       "      <td>522.0</td>\n",
       "      <td>43500.0</td>\n",
       "      <td>282632.0</td>\n",
       "    </tr>\n",
       "    <tr>\n",
       "      <th>ultra</th>\n",
       "      <td>3.0</td>\n",
       "      <td>2504.0</td>\n",
       "      <td>17130.0</td>\n",
       "      <td>1195.0</td>\n",
       "      <td>74550.0</td>\n",
       "      <td>648835.0</td>\n",
       "    </tr>\n",
       "    <tr>\n",
       "      <th>ultra</th>\n",
       "      <td>4.0</td>\n",
       "      <td>3525.0</td>\n",
       "      <td>23780.0</td>\n",
       "      <td>1736.0</td>\n",
       "      <td>110100.0</td>\n",
       "      <td>925574.0</td>\n",
       "    </tr>\n",
       "    <tr>\n",
       "      <th>ultra</th>\n",
       "      <td>5.0</td>\n",
       "      <td>4834.0</td>\n",
       "      <td>32099.0</td>\n",
       "      <td>2515.0</td>\n",
       "      <td>136050.0</td>\n",
       "      <td>1297366.0</td>\n",
       "    </tr>\n",
       "    <tr>\n",
       "      <th>ultra</th>\n",
       "      <td>6.0</td>\n",
       "      <td>5566.0</td>\n",
       "      <td>37874.0</td>\n",
       "      <td>3467.0</td>\n",
       "      <td>169350.0</td>\n",
       "      <td>1589735.0</td>\n",
       "    </tr>\n",
       "    <tr>\n",
       "      <th>ultra</th>\n",
       "      <td>7.0</td>\n",
       "      <td>6852.0</td>\n",
       "      <td>46691.0</td>\n",
       "      <td>4499.0</td>\n",
       "      <td>190800.0</td>\n",
       "      <td>1865150.0</td>\n",
       "    </tr>\n",
       "    <tr>\n",
       "      <th>ultra</th>\n",
       "      <td>8.0</td>\n",
       "      <td>7575.0</td>\n",
       "      <td>51387.0</td>\n",
       "      <td>5142.0</td>\n",
       "      <td>220950.0</td>\n",
       "      <td>2094693.0</td>\n",
       "    </tr>\n",
       "    <tr>\n",
       "      <th>ultra</th>\n",
       "      <td>9.0</td>\n",
       "      <td>8546.0</td>\n",
       "      <td>58393.0</td>\n",
       "      <td>5981.0</td>\n",
       "      <td>230850.0</td>\n",
       "      <td>2208549.0</td>\n",
       "    </tr>\n",
       "    <tr>\n",
       "      <th>ultra</th>\n",
       "      <td>10.0</td>\n",
       "      <td>9477.0</td>\n",
       "      <td>64563.0</td>\n",
       "      <td>7152.0</td>\n",
       "      <td>252150.0</td>\n",
       "      <td>2465640.0</td>\n",
       "    </tr>\n",
       "    <tr>\n",
       "      <th>ultra</th>\n",
       "      <td>11.0</td>\n",
       "      <td>10021.0</td>\n",
       "      <td>68265.0</td>\n",
       "      <td>7447.0</td>\n",
       "      <td>278400.0</td>\n",
       "      <td>2651500.0</td>\n",
       "    </tr>\n",
       "    <tr>\n",
       "      <th>ultra</th>\n",
       "      <td>12.0</td>\n",
       "      <td>11540.0</td>\n",
       "      <td>77609.0</td>\n",
       "      <td>8386.0</td>\n",
       "      <td>295350.0</td>\n",
       "      <td>3029323.0</td>\n",
       "    </tr>\n",
       "  </tbody>\n",
       "</table>\n",
       "</div>"
      ],
      "text/plain": [
       "        month  calls_count  calls_duration  messages_count  total_bill  \\\n",
       "tariff                                                                   \n",
       "smart     1.0        941.0          6579.0           620.0     24456.0   \n",
       "smart     2.0       2331.0         16438.0          1397.0     47053.0   \n",
       "smart     3.0       4183.0         28362.0          2453.0     87384.0   \n",
       "smart     4.0       5747.0         38838.0          3443.0    105253.0   \n",
       "smart     5.0       7789.0         51565.0          4762.0    165339.0   \n",
       "smart     6.0       9110.0         61283.0          5478.0    192950.0   \n",
       "smart     7.0      11402.0         77587.0          6784.0    239765.0   \n",
       "smart     8.0      13856.0         93569.0          7904.0    302467.0   \n",
       "smart     9.0      15482.0        105303.0          8746.0    316187.0   \n",
       "smart    10.0      17629.0        118412.0          9927.0    391409.0   \n",
       "smart    11.0      19435.0        129908.0         10768.0    413474.0   \n",
       "smart    12.0      22406.0        152391.0         12130.0    516878.0   \n",
       "ultra     1.0        535.0          3648.0           304.0     17550.0   \n",
       "ultra     2.0        972.0          6566.0           522.0     43500.0   \n",
       "ultra     3.0       2504.0         17130.0          1195.0     74550.0   \n",
       "ultra     4.0       3525.0         23780.0          1736.0    110100.0   \n",
       "ultra     5.0       4834.0         32099.0          2515.0    136050.0   \n",
       "ultra     6.0       5566.0         37874.0          3467.0    169350.0   \n",
       "ultra     7.0       6852.0         46691.0          4499.0    190800.0   \n",
       "ultra     8.0       7575.0         51387.0          5142.0    220950.0   \n",
       "ultra     9.0       8546.0         58393.0          5981.0    230850.0   \n",
       "ultra    10.0       9477.0         64563.0          7152.0    252150.0   \n",
       "ultra    11.0      10021.0         68265.0          7447.0    278400.0   \n",
       "ultra    12.0      11540.0         77609.0          8386.0    295350.0   \n",
       "\n",
       "        traffic_volume  \n",
       "tariff                  \n",
       "smart         289482.0  \n",
       "smart         672656.0  \n",
       "smart        1163058.0  \n",
       "smart        1507817.0  \n",
       "smart        2228598.0  \n",
       "smart        2590405.0  \n",
       "smart        3164469.0  \n",
       "smart        3903634.0  \n",
       "smart        4239065.0  \n",
       "smart        4926730.0  \n",
       "smart        5339197.0  \n",
       "smart        6104468.0  \n",
       "ultra         118272.0  \n",
       "ultra         282632.0  \n",
       "ultra         648835.0  \n",
       "ultra         925574.0  \n",
       "ultra        1297366.0  \n",
       "ultra        1589735.0  \n",
       "ultra        1865150.0  \n",
       "ultra        2094693.0  \n",
       "ultra        2208549.0  \n",
       "ultra        2465640.0  \n",
       "ultra        2651500.0  \n",
       "ultra        3029323.0  "
      ]
     },
     "execution_count": 45,
     "metadata": {},
     "output_type": "execute_result"
    }
   ],
   "source": [
    "Df_month_sum = (Df_cmiu_pivot\n",
    "                .pivot_table(index=['tariff', 'month'],\n",
    "                             values=['calls_count', 'calls_duration', 'messages_count', 'traffic_volume', 'total_bill'],\n",
    "                             aggfunc=sum))\n",
    "\n",
    "Df_month_sum = Df_month_sum.reset_index(level='month')\n",
    "Df_month_sum"
   ]
  },
  {
   "cell_type": "markdown",
   "metadata": {},
   "source": [
    "Построим столбчатые диаграммы распределения суммарных значений параметров в течение года. Объем выборок будет разный."
   ]
  },
  {
   "cell_type": "code",
   "execution_count": 46,
   "metadata": {},
   "outputs": [
    {
     "data": {
      "image/png": "[encoded data removed]",
      "text/plain": [
       "<Figure size 1080x360 with 2 Axes>"
      ]
     },
     "metadata": {
      "needs_background": "light"
     },
     "output_type": "display_data"
    },
    {
     "data": {
      "image/png": "[encoded data removed]",
      "text/plain": [
       "<Figure size 1080x360 with 2 Axes>"
      ]
     },
     "metadata": {
      "needs_background": "light"
     },
     "output_type": "display_data"
    },
    {
     "data": {
      "image/png": "[encoded data removed]",
      "text/plain": [
       "<Figure size 1080x360 with 2 Axes>"
      ]
     },
     "metadata": {
      "needs_background": "light"
     },
     "output_type": "display_data"
    },
    {
     "data": {
      "image/png": "[encoded data removed]",
      "text/plain": [
       "<Figure size 1080x360 with 2 Axes>"
      ]
     },
     "metadata": {
      "needs_background": "light"
     },
     "output_type": "display_data"
    },
    {
     "data": {
      "image/png": "[encoded data removed]",
      "text/plain": [
       "<Figure size 1080x360 with 2 Axes>"
      ]
     },
     "metadata": {
      "needs_background": "light"
     },
     "output_type": "display_data"
    }
   ],
   "source": [
    "for dms_col_name in ['calls_count', 'calls_duration', 'messages_count', 'traffic_volume', 'total_bill']:\n",
    "    fig, axs = plt.subplots(1,2)\n",
    "    Df_month_sum[Df_month_sum.index=='smart'].plot(x='month', y=dms_col_name, kind='bar', title='smart', ax=axs[0], figsize=(15, 5))\n",
    "    Df_month_sum[Df_month_sum.index=='ultra'].plot(x='month', y=dms_col_name, kind='bar', title='ultra', ax=axs[1], figsize=(15, 5))"
   ]
  },
  {
   "cell_type": "code",
   "execution_count": 47,
   "metadata": {},
   "outputs": [
    {
     "data": {
      "text/plain": [
       "2228"
      ]
     },
     "execution_count": 47,
     "metadata": {},
     "output_type": "execute_result"
    }
   ],
   "source": [
    "Df_cmiu_pivot[Df_cmiu_pivot['tariff']=='smart']['tariff'].count()"
   ]
  },
  {
   "cell_type": "code",
   "execution_count": 48,
   "metadata": {},
   "outputs": [
    {
     "data": {
      "text/plain": [
       "975"
      ]
     },
     "execution_count": 48,
     "metadata": {},
     "output_type": "execute_result"
    }
   ],
   "source": [
    "Df_cmiu_pivot[Df_cmiu_pivot['tariff']=='ultra']['tariff'].count()"
   ]
  },
  {
   "cell_type": "markdown",
   "metadata": {},
   "source": [
    "Диаграммы показывают динамику поведения клиентов в течение рассматриваемого периода времени. В частности, можно сделать выводы, что:  \n",
    "- все параметры (количество звонков, продолжительность разговоров, количество сообщений, объем израсходованного интернет-трафика и ежемесячный счет) растут от января к декабрю;  \n",
    "- указанная зависимость линейная вне зависимости от того, какой тариф используют клиенты.  "
   ]
  },
  {
   "cell_type": "markdown",
   "metadata": {},
   "source": [
    "Вычислим среднее, дисперсию и стандартное отклонение для всех пользователей в течение всего периода."
   ]
  },
  {
   "cell_type": "markdown",
   "metadata": {},
   "source": [
    "Для этого применим цикл, в котором с помощью сводных таблиц раассчитаем необходимые параметры."
   ]
  },
  {
   "cell_type": "code",
   "execution_count": 49,
   "metadata": {},
   "outputs": [
    {
     "data": {
      "text/html": [
       "<div>\n",
       "<style scoped>\n",
       "    .dataframe tbody tr th:only-of-type {\n",
       "        vertical-align: middle;\n",
       "    }\n",
       "\n",
       "    .dataframe tbody tr th {\n",
       "        vertical-align: top;\n",
       "    }\n",
       "\n",
       "    .dataframe thead th {\n",
       "        text-align: right;\n",
       "    }\n",
       "</style>\n",
       "<table border=\"1\" class=\"dataframe\">\n",
       "  <thead>\n",
       "    <tr style=\"text-align: right;\">\n",
       "      <th></th>\n",
       "      <th>calls_duration_mean</th>\n",
       "      <th>messages_count_mean</th>\n",
       "      <th>traffic_volume_mean</th>\n",
       "      <th>total_bill_mean</th>\n",
       "    </tr>\n",
       "    <tr>\n",
       "      <th>tariff</th>\n",
       "      <th></th>\n",
       "      <th></th>\n",
       "      <th></th>\n",
       "      <th></th>\n",
       "    </tr>\n",
       "  </thead>\n",
       "  <tbody>\n",
       "    <tr>\n",
       "      <th>smart</th>\n",
       "      <td>395.078546</td>\n",
       "      <td>33.398564</td>\n",
       "      <td>1257.906194</td>\n",
       "      <td>16216.148564</td>\n",
       "    </tr>\n",
       "    <tr>\n",
       "      <th>ultra</th>\n",
       "      <td>500.517949</td>\n",
       "      <td>49.585641</td>\n",
       "      <td>2071.384615</td>\n",
       "      <td>19668.993846</td>\n",
       "    </tr>\n",
       "  </tbody>\n",
       "</table>\n",
       "</div>"
      ],
      "text/plain": [
       "        calls_duration_mean  messages_count_mean  traffic_volume_mean  \\\n",
       "tariff                                                                  \n",
       "smart            395.078546            33.398564          1257.906194   \n",
       "ultra            500.517949            49.585641          2071.384615   \n",
       "\n",
       "        total_bill_mean  \n",
       "tariff                   \n",
       "smart      16216.148564  \n",
       "ultra      19668.993846  "
      ]
     },
     "metadata": {},
     "output_type": "display_data"
    },
    {
     "data": {
      "text/html": [
       "<div>\n",
       "<style scoped>\n",
       "    .dataframe tbody tr th:only-of-type {\n",
       "        vertical-align: middle;\n",
       "    }\n",
       "\n",
       "    .dataframe tbody tr th {\n",
       "        vertical-align: top;\n",
       "    }\n",
       "\n",
       "    .dataframe thead th {\n",
       "        text-align: right;\n",
       "    }\n",
       "</style>\n",
       "<table border=\"1\" class=\"dataframe\">\n",
       "  <thead>\n",
       "    <tr style=\"text-align: right;\">\n",
       "      <th></th>\n",
       "      <th>calls_duration_var</th>\n",
       "      <th>messages_count_var</th>\n",
       "      <th>traffic_volume_var</th>\n",
       "      <th>total_bill_var</th>\n",
       "    </tr>\n",
       "    <tr>\n",
       "      <th>tariff</th>\n",
       "      <th></th>\n",
       "      <th></th>\n",
       "      <th></th>\n",
       "      <th></th>\n",
       "    </tr>\n",
       "  </thead>\n",
       "  <tbody>\n",
       "    <tr>\n",
       "      <th>smart</th>\n",
       "      <td>32353.071062</td>\n",
       "      <td>796.69963</td>\n",
       "      <td>641528.913064</td>\n",
       "      <td>3.436001e+07</td>\n",
       "    </tr>\n",
       "    <tr>\n",
       "      <th>ultra</th>\n",
       "      <td>89957.083610</td>\n",
       "      <td>2301.92464</td>\n",
       "      <td>142819.949455</td>\n",
       "      <td>9.886460e+07</td>\n",
       "    </tr>\n",
       "  </tbody>\n",
       "</table>\n",
       "</div>"
      ],
      "text/plain": [
       "        calls_duration_var  messages_count_var  traffic_volume_var  \\\n",
       "tariff                                                               \n",
       "smart         32353.071062           796.69963       641528.913064   \n",
       "ultra         89957.083610          2301.92464       142819.949455   \n",
       "\n",
       "        total_bill_var  \n",
       "tariff                  \n",
       "smart     3.436001e+07  \n",
       "ultra     9.886460e+07  "
      ]
     },
     "metadata": {},
     "output_type": "display_data"
    },
    {
     "data": {
      "text/html": [
       "<div>\n",
       "<style scoped>\n",
       "    .dataframe tbody tr th:only-of-type {\n",
       "        vertical-align: middle;\n",
       "    }\n",
       "\n",
       "    .dataframe tbody tr th {\n",
       "        vertical-align: top;\n",
       "    }\n",
       "\n",
       "    .dataframe thead th {\n",
       "        text-align: right;\n",
       "    }\n",
       "</style>\n",
       "<table border=\"1\" class=\"dataframe\">\n",
       "  <thead>\n",
       "    <tr style=\"text-align: right;\">\n",
       "      <th></th>\n",
       "      <th>calls_duration_std</th>\n",
       "      <th>messages_count_std</th>\n",
       "      <th>traffic_volume_std</th>\n",
       "      <th>total_bill_std</th>\n",
       "    </tr>\n",
       "    <tr>\n",
       "      <th>tariff</th>\n",
       "      <th></th>\n",
       "      <th></th>\n",
       "      <th></th>\n",
       "      <th></th>\n",
       "    </tr>\n",
       "  </thead>\n",
       "  <tbody>\n",
       "    <tr>\n",
       "      <th>smart</th>\n",
       "      <td>179.869595</td>\n",
       "      <td>28.225868</td>\n",
       "      <td>800.955001</td>\n",
       "      <td>5861.741292</td>\n",
       "    </tr>\n",
       "    <tr>\n",
       "      <th>ultra</th>\n",
       "      <td>299.928464</td>\n",
       "      <td>47.978377</td>\n",
       "      <td>377.915268</td>\n",
       "      <td>9943.067706</td>\n",
       "    </tr>\n",
       "  </tbody>\n",
       "</table>\n",
       "</div>"
      ],
      "text/plain": [
       "        calls_duration_std  messages_count_std  traffic_volume_std  \\\n",
       "tariff                                                               \n",
       "smart           179.869595           28.225868          800.955001   \n",
       "ultra           299.928464           47.978377          377.915268   \n",
       "\n",
       "        total_bill_std  \n",
       "tariff                  \n",
       "smart      5861.741292  \n",
       "ultra      9943.067706  "
      ]
     },
     "metadata": {},
     "output_type": "display_data"
    }
   ],
   "source": [
    "for i in range(0, 3):\n",
    "    functions = ['mean', np.var, np.std]# функции, которые будем применять к значениям\n",
    "    tables = ['total_month_sum_mean', 'total_month_sum_var', 'total_month_sum_std']# названия сводных таблиц\n",
    "    list_of_cols = ['calls_duration', 'messages_count', 'traffic_volume', 'total_bill']# значения\n",
    "    suffix = ['_mean', '_var', '_std']# суффикс, который добавим к именам колонок\n",
    "    \n",
    "    tables[i] = Df_cmiu_pivot.pivot_table(index=['tariff'], values=list_of_cols, aggfunc=functions[i])\n",
    "    tables[i].columns = ['calls_duration'+suffix[i], 'messages_count'+suffix[i],\\\n",
    "                         'traffic_volume'+suffix[i], 'total_bill'+suffix[i]]\n",
    "    display(tables[i])"
   ]
  },
  {
   "cell_type": "markdown",
   "metadata": {},
   "source": [
    "В среднем пользователи тарифа ультра больше пользуются услугами оператора, чем пользователи тарифа смарт."
   ]
  },
  {
   "cell_type": "markdown",
   "metadata": {},
   "source": [
    "Однако рассеяние вокруг среднего значения у ультра также выше, кроме параметра интернет-трафик. Тут можно выделить два момента:  \n",
    "- большая дисперсия у ультра можно объяснить меньшим объемом выборки, чем у смарт;  \n",
    "- меньшая дисперсия в интернет-трафике говорит о том, что возможно пользователи выбирают тариф ультра из-за большого включенного пакета мегабайт трафика, т.к. сейчас в основном большая часть звонков и сообщений передается посредством сети интернет;  \n",
    "- пользователи ультра не заботятся об экономии трафика и используют его свободно, что приводит к среднему с меньшим разбросом;  \n",
    "- пользователи смарт экономно используют свой лимит и в итоге к концу месяца у многих оставшийся трафик сгорает, а у некоторых, кто не следил за лимитом, - перерасход."
   ]
  },
  {
   "cell_type": "markdown",
   "metadata": {},
   "source": [
    "Построим частотные гистограммы для выыяснения какое количество пользователей тратит то или иное количество предоставленных услуг:"
   ]
  },
  {
   "cell_type": "markdown",
   "metadata": {},
   "source": [
    "Сгруппируем данных сводной таблицей по тарифу и пользователям:"
   ]
  },
  {
   "cell_type": "code",
   "execution_count": 50,
   "metadata": {},
   "outputs": [
    {
     "data": {
      "text/html": [
       "<div>\n",
       "<style scoped>\n",
       "    .dataframe tbody tr th:only-of-type {\n",
       "        vertical-align: middle;\n",
       "    }\n",
       "\n",
       "    .dataframe tbody tr th {\n",
       "        vertical-align: top;\n",
       "    }\n",
       "\n",
       "    .dataframe thead th {\n",
       "        text-align: right;\n",
       "    }\n",
       "</style>\n",
       "<table border=\"1\" class=\"dataframe\">\n",
       "  <thead>\n",
       "    <tr style=\"text-align: right;\">\n",
       "      <th></th>\n",
       "      <th>tariff</th>\n",
       "      <th>user_id</th>\n",
       "      <th>calls_count</th>\n",
       "      <th>calls_duration</th>\n",
       "      <th>messages_count</th>\n",
       "      <th>traffic_volume</th>\n",
       "      <th>total_bill</th>\n",
       "    </tr>\n",
       "  </thead>\n",
       "  <tbody>\n",
       "    <tr>\n",
       "      <th>0</th>\n",
       "      <td>smart</td>\n",
       "      <td>1001</td>\n",
       "      <td>122.0</td>\n",
       "      <td>801.0</td>\n",
       "      <td>0.0</td>\n",
       "      <td>32467.0</td>\n",
       "      <td>1700.0</td>\n",
       "    </tr>\n",
       "    <tr>\n",
       "      <th>1</th>\n",
       "      <td>smart</td>\n",
       "      <td>1002</td>\n",
       "      <td>217.0</td>\n",
       "      <td>1434.0</td>\n",
       "      <td>70.0</td>\n",
       "      <td>116041.0</td>\n",
       "      <td>7250.0</td>\n",
       "    </tr>\n",
       "    <tr>\n",
       "      <th>2</th>\n",
       "      <td>smart</td>\n",
       "      <td>1005</td>\n",
       "      <td>888.0</td>\n",
       "      <td>6248.0</td>\n",
       "      <td>552.0</td>\n",
       "      <td>99692.0</td>\n",
       "      <td>9045.0</td>\n",
       "    </tr>\n",
       "    <tr>\n",
       "      <th>3</th>\n",
       "      <td>smart</td>\n",
       "      <td>1006</td>\n",
       "      <td>506.0</td>\n",
       "      <td>3296.0</td>\n",
       "      <td>0.0</td>\n",
       "      <td>164194.0</td>\n",
       "      <td>10250.0</td>\n",
       "    </tr>\n",
       "    <tr>\n",
       "      <th>4</th>\n",
       "      <td>smart</td>\n",
       "      <td>1007</td>\n",
       "      <td>612.0</td>\n",
       "      <td>4143.0</td>\n",
       "      <td>225.0</td>\n",
       "      <td>131631.0</td>\n",
       "      <td>7867.0</td>\n",
       "    </tr>\n",
       "    <tr>\n",
       "      <th>...</th>\n",
       "      <td>...</td>\n",
       "      <td>...</td>\n",
       "      <td>...</td>\n",
       "      <td>...</td>\n",
       "      <td>...</td>\n",
       "      <td>...</td>\n",
       "      <td>...</td>\n",
       "    </tr>\n",
       "    <tr>\n",
       "      <th>492</th>\n",
       "      <td>ultra</td>\n",
       "      <td>1476</td>\n",
       "      <td>549.0</td>\n",
       "      <td>3981.0</td>\n",
       "      <td>45.0</td>\n",
       "      <td>150290.0</td>\n",
       "      <td>17550.0</td>\n",
       "    </tr>\n",
       "    <tr>\n",
       "      <th>493</th>\n",
       "      <td>ultra</td>\n",
       "      <td>1485</td>\n",
       "      <td>94.0</td>\n",
       "      <td>548.0</td>\n",
       "      <td>155.0</td>\n",
       "      <td>23423.0</td>\n",
       "      <td>1950.0</td>\n",
       "    </tr>\n",
       "    <tr>\n",
       "      <th>494</th>\n",
       "      <td>ultra</td>\n",
       "      <td>1491</td>\n",
       "      <td>648.0</td>\n",
       "      <td>4353.0</td>\n",
       "      <td>432.0</td>\n",
       "      <td>161466.0</td>\n",
       "      <td>17550.0</td>\n",
       "    </tr>\n",
       "    <tr>\n",
       "      <th>495</th>\n",
       "      <td>ultra</td>\n",
       "      <td>1493</td>\n",
       "      <td>110.0</td>\n",
       "      <td>702.0</td>\n",
       "      <td>94.0</td>\n",
       "      <td>54421.0</td>\n",
       "      <td>5700.0</td>\n",
       "    </tr>\n",
       "    <tr>\n",
       "      <th>496</th>\n",
       "      <td>ultra</td>\n",
       "      <td>1495</td>\n",
       "      <td>565.0</td>\n",
       "      <td>3691.0</td>\n",
       "      <td>340.0</td>\n",
       "      <td>127414.0</td>\n",
       "      <td>11550.0</td>\n",
       "    </tr>\n",
       "  </tbody>\n",
       "</table>\n",
       "<p>497 rows × 7 columns</p>\n",
       "</div>"
      ],
      "text/plain": [
       "    tariff  user_id  calls_count  calls_duration  messages_count  \\\n",
       "0    smart     1001        122.0           801.0             0.0   \n",
       "1    smart     1002        217.0          1434.0            70.0   \n",
       "2    smart     1005        888.0          6248.0           552.0   \n",
       "3    smart     1006        506.0          3296.0             0.0   \n",
       "4    smart     1007        612.0          4143.0           225.0   \n",
       "..     ...      ...          ...             ...             ...   \n",
       "492  ultra     1476        549.0          3981.0            45.0   \n",
       "493  ultra     1485         94.0           548.0           155.0   \n",
       "494  ultra     1491        648.0          4353.0           432.0   \n",
       "495  ultra     1493        110.0           702.0            94.0   \n",
       "496  ultra     1495        565.0          3691.0           340.0   \n",
       "\n",
       "     traffic_volume  total_bill  \n",
       "0           32467.0      1700.0  \n",
       "1          116041.0      7250.0  \n",
       "2           99692.0      9045.0  \n",
       "3          164194.0     10250.0  \n",
       "4          131631.0      7867.0  \n",
       "..              ...         ...  \n",
       "492        150290.0     17550.0  \n",
       "493         23423.0      1950.0  \n",
       "494        161466.0     17550.0  \n",
       "495         54421.0      5700.0  \n",
       "496        127414.0     11550.0  \n",
       "\n",
       "[497 rows x 7 columns]"
      ]
     },
     "execution_count": 50,
     "metadata": {},
     "output_type": "execute_result"
    }
   ],
   "source": [
    "cmit_sum_for_hist = (Df_cmiu_pivot\n",
    "                     .pivot_table(index=['tariff', 'user_id'],\\\n",
    "                                  values=['calls_count', 'calls_duration', 'messages_count', 'traffic_volume', 'total_bill'],\\\n",
    "                                  aggfunc=sum))\n",
    "\n",
    "# расставим столбцы в удобном порядке:\n",
    "cols = cmit_sum_for_hist.columns.tolist()\n",
    "cols = cols[:3] + cols[-1:] + cols[-2:4]\n",
    "cmit_sum_for_hist = cmit_sum_for_hist[cols]\n",
    "\n",
    "cmit_sum_for_hist.reset_index(inplace=True)\n",
    "\n",
    "cmit_sum_for_hist"
   ]
  },
  {
   "cell_type": "markdown",
   "metadata": {},
   "source": [
    "Построим гистограммы при помощи цикла рядом друг с другом, чтобы было проще сравнивать тарифы"
   ]
  },
  {
   "cell_type": "code",
   "execution_count": 51,
   "metadata": {},
   "outputs": [
    {
     "data": {
      "image/png": "[encoded data removed]",
      "text/plain": [
       "<Figure size 1080x360 with 2 Axes>"
      ]
     },
     "metadata": {
      "needs_background": "light"
     },
     "output_type": "display_data"
    },
    {
     "data": {
      "image/png": "[encoded data removed]",
      "text/plain": [
       "<Figure size 1080x360 with 2 Axes>"
      ]
     },
     "metadata": {
      "needs_background": "light"
     },
     "output_type": "display_data"
    },
    {
     "data": {
      "image/png": "[encoded data removed]",
      "text/plain": [
       "<Figure size 1080x360 with 2 Axes>"
      ]
     },
     "metadata": {
      "needs_background": "light"
     },
     "output_type": "display_data"
    },
    {
     "data": {
      "image/png": "[encoded data removed]",
      "text/plain": [
       "<Figure size 1080x360 with 2 Axes>"
      ]
     },
     "metadata": {
      "needs_background": "light"
     },
     "output_type": "display_data"
    },
    {
     "data": {
      "image/png": "[encoded data removed]",
      "text/plain": [
       "<Figure size 1080x360 with 2 Axes>"
      ]
     },
     "metadata": {
      "needs_background": "light"
     },
     "output_type": "display_data"
    }
   ],
   "source": [
    "for csfh_name_column in cmit_sum_for_hist.columns[2:]:\n",
    "    fig, axs = plt.subplots(1,2)\n",
    "    cmit_sum_for_hist[cmit_sum_for_hist['tariff']=='smart'][csfh_name_column].plot(bins=90, kind='hist', figsize=(15, 5), title=csfh_name_column+'_smart', ax=axs[0])\n",
    "    cmit_sum_for_hist[cmit_sum_for_hist['tariff']=='ultra'][csfh_name_column].plot(bins=60, kind='hist', figsize=(15, 5), title=csfh_name_column+'_ultra', ax=axs[1])"
   ]
  },
  {
   "cell_type": "markdown",
   "metadata": {},
   "source": [
    "В силу большей дисперсии ультра имеет более длинные хвосты чем смарт.  \n",
    "- количество звонков: Пик у смарт приходится на 200, у ультра - около 130.  \n",
    "- длительность звонков: У смарт наблюдается два основных пика около 400 и 1500 минут, у ультра один - около 1000. В основном люди тарифа смарт говорят не больше 6000 минут в год, в то время как клиенты ультра почти 8000 минут. Также видим, что у ультра есть небольшой пик на околонулевых значениях (0 - 250).  \n",
    "- количество сообщений: В обоих тарифах высока доля людей крайне мало использующих смс. При этом следует помнить, что ранее мы заменили 500 пропусков в датафрейме нулями и сейчас наблюдаем результаты этого действия. Но в любом случае все сейчас пользуются месенджерами.  \n",
    "- интернет-трафик: У обоих тарифов наблюдается четкая граница в районе 200000 мб, после которой совсем мало значений. Пик у ультра в районе 100000 мб, у смарт два пика - один в районе 20000, другой около 130000 мб.  \n",
    "- итоговый счет: Т.к. пользователи подключались в разное время года и не все оставались на одном тарифе до конца мы видим, что большая часть трат на связь находится до уровня минимальной годовой абонентской платы, которая для смарт составляет 6600, а для ультра 23400. У смарт второй пик находится в районе 7500, после чего идет плавное уменьшение числа людей перерасходовавших траифный план, т.е. большая часть людей хоть немного, но перерасходует тарифные лимиты. У ультра большинство пользователей тратит до 20000, после чего есть еще одна граница в районе 23000-24000, после чего небольшой хвост, т.е. пользователя тарифа ультра в основном укладываются в лимиты тарифного плана и не перерасходуют его."
   ]
  },
  {
   "cell_type": "markdown",
   "metadata": {},
   "source": [
    "## Проверка гипотез"
   ]
  },
  {
   "cell_type": "markdown",
   "metadata": {},
   "source": [
    " Первая гипотеза"
   ]
  },
  {
   "cell_type": "markdown",
   "metadata": {},
   "source": [
    "Первая гипотеза которую нужно проверить - средняя выручка пользователей тарифов «Ультра» и «Смарт» различается.  \n",
    "Сформулируем нулевую и альтернативную гипотезы:  \n",
    "- H0 - средняя выручка пользователей тарифов «Ультра» и «Смарт» равны (в H0 всегда используется знак равенства);\n",
    "- H1 - средние выручки пользователей тарифов «Ультра» и «Смарт» различаются.\n"
   ]
  },
  {
   "cell_type": "markdown",
   "metadata": {},
   "source": [
    "Чтобы проверить гипотезу о равенстве среднего применим метод scipy.stats.ttest_ind (array1, array2, equal_var), где equal_var - параметр, задающий считать ли равными дисперсии выборок. Передаётся как \"equal_var = True\" или \"equal_var = False\" (True — считать, False — не считать). Т.к. мы знаем, что дисперсии выборок по смарт и ультра различаются (3.436001e+07 и 9.886460e+07 соответственно), то equal_var зададим как False."
   ]
  },
  {
   "cell_type": "code",
   "execution_count": 52,
   "metadata": {},
   "outputs": [
    {
     "name": "stdout",
     "output_type": "stream",
     "text": [
      "p-значение: 1.1678550574171129e-272\n",
      "Отвергаем нулевую гипотезу\n"
     ]
    }
   ],
   "source": [
    "smart_ttest = Df_cmiu_pivot[Df_cmiu_pivot['tariff']=='smart']['total_bill']\n",
    "ultra_ttest = Df_cmiu_pivot[Df_cmiu_pivot['tariff']=='ultra']['total_bill']\n",
    "\n",
    "# уровень значимости зададим равным 5%\n",
    "alpha = 0.05\n",
    "\n",
    "results = st.ttest_ind(smart_ttest, ultra_ttest, equal_var=False)\n",
    "\n",
    "print('p-значение:', results.pvalue)\n",
    "\n",
    "if (results.pvalue < alpha):\n",
    "    print(\"Отвергаем нулевую гипотезу\")\n",
    "else:\n",
    "    print(\"Не получилось отвергнуть нулевую гипотезу\")"
   ]
  },
  {
   "cell_type": "markdown",
   "metadata": {},
   "source": [
    "p - уровень значимости слишком мал, гораздо меньше определенного нами порогового значения в 5% => средняя выручка пользователей тарифов смарт и ульра значимо отличаются друг от друга."
   ]
  },
  {
   "cell_type": "markdown",
   "metadata": {},
   "source": [
    "Вторая гипотеза"
   ]
  },
  {
   "cell_type": "markdown",
   "metadata": {},
   "source": [
    "Вторая гипотеза для проверки звучит так - средняя выручка пользователей из Москвы отличается от выручки пользователей из других регионов.  \n",
    "- Н0 - средняя выручка пользователей из Москвы равна средней выручке пользователей из других регионов;  \n",
    "- Н1 - средняя выручка пользователей из Москвы отличается от выручки пользователей из других регионов.  \n",
    "Альтернативная гипотеза у нас двусторонняя, т.к. средняя выручка из Москвы может отличаться от других регионов как в большую так и в меньшую сторону."
   ]
  },
  {
   "cell_type": "markdown",
   "metadata": {},
   "source": [
    "Для проверки гипотезы воспользуемся методом scipy.stats.ttest_1samp (array, popmean), где в качестве массива данных будет выборка выручки по москвичам, а в качестве popmean (предполагаемого среднего, на равенство которому мы делаем тест) будет выступать среднее значение выручки пользователей из других регионов."
   ]
  },
  {
   "cell_type": "code",
   "execution_count": 53,
   "metadata": {},
   "outputs": [
    {
     "name": "stdout",
     "output_type": "stream",
     "text": [
      "p-значение:  0.3859979276331743\n",
      "Не получилось отвергнуть нулевую гипотезу\n"
     ]
    }
   ],
   "source": [
    "moscow_ttest = Df_cmiu_pivot[Df_cmiu_pivot['city']=='Москва']['total_bill']\n",
    "\n",
    "popmean = Df_cmiu_pivot[Df_cmiu_pivot['city']!='Москва']['total_bill'].mean()\n",
    "\n",
    "# уровень значимости 5%\n",
    "alpha = 0.05\n",
    "\n",
    "results = st.ttest_1samp(moscow_ttest, popmean)\n",
    "\n",
    "print('p-значение: ', results.pvalue)\n",
    "\n",
    "if results.pvalue < alpha:\n",
    "    print(\"Отвергаем нулевую гипотезу\")\n",
    "else:\n",
    "    print(\"Не получилось отвергнуть нулевую гипотезу\")"
   ]
  },
  {
   "cell_type": "markdown",
   "metadata": {},
   "source": [
    "р - уровень значимости составил почти 39%, что значительно выше 5% => средняя выручка по Москве статистически значимо не отличается от средней выручки по другим регионам."
   ]
  },
  {
   "cell_type": "markdown",
   "metadata": {},
   "source": [
    "## Общий вывод"
   ]
  },
  {
   "cell_type": "markdown",
   "metadata": {},
   "source": [
    "Были представлены датасеты с информацией о 500 пользователей «Мегалайна»: кто они, откуда, каким тарифом пользуются, сколько звонков и сообщений каждый отправил за 2018 год. В ходе аналитического исследования была проведена следующая работа: \n",
    "    \n",
    "    - Проведена преобработка данных включающая в себя: проверка на наличие отрицательных значений, проверка на наличие дубликатов, приведение данных к корректным типам в каждом датафрейме, найдены и исправлены ошибки;\n",
    "    - Созданы датасеты для рассчета следующих величин: количество соверешнных звонков и израсходованных минут разговора ежемесячно, количество отправленных сообщений ежемесячно, объем израсходованного интернет-трафика ежемесячно, ежемесячная выручка с каждого пользователя;\n",
    "    - Проведен исследовательский анализ вышеуказанных величин;\n",
    "    - Провераны 2 гипотезы:\n",
    "        - о том, что средняя выручка пользователей тарифов «Ультра» и «Смарт» равна;\n",
    "        - о том, что средняя выручка пользователей из Москвы равна выручке пользователей из других регионов. \n",
    "    \n",
    "По результама проведенного анализа были сделаны следующие выводы.  \n",
    "     Средние чеки тарифов \"Смарт\" и \"Ультра\" значимо различаются. В среднем пользователи тарифа \"Ультра\" платят больше (что было подтверждено в том числе в результате опровержения гипотезы о равенстве средняя выручка пользователей тарифов «Ультра» и «Смарт»);  \n",
    "    Выяснили, что абоненты тарифа \"Смарт\" используют чуть меньшее количество минут звонков и сообщений в месяц, чем пользователи \"Ультра\". Лимита на звонки и минуты в \"Ультра\" в среднем не достигает никто. При этом интернетом пользователи \"Ультра\" пользуются гораздо активнее. Скорее всего, пользователи \"Ультра\" выбирают этот тариф из-за большего интернет-трафика;     Средняя выручка по Москве и другим регионам значимо не различаются (что было подтверждено соответствующей гипотезой).\n",
    "\n",
    "В отношении количественных показателей тарифов можно, в частности, обратить внимание на следуюещие особенности: \n",
    "\n",
    "    количество звонков: пик у абонентов тарифа \"Смарт\" приходится на 200, у абонентов тарифа \"Ультра\" - около 130;\n",
    "    длительность звонков: У абонентов тарифа \"Смарт\" наблюдается два основных пика около 400 и 1500 минут, у абонентов тарифа \"Ультра\" один - около 1000. В основном  абонентов тарифа \"Смарт\" говорят не больше 6000 минут в год, в то время как абоненты тарифа \"Ультра\" почти 8000 минут. Также видно, что у абонентов тарифа \"Ультра\" есть небольшой пик на околонулевых значениях (0 - 250);\n",
    "    количество сообщений: в обоих тарифах высока доля людей крайне мало использующих СМС. При этом следует помнить, что ранее были заменены 500 пропусков в датафрейме нулями. Но в любом случае все сейчас пользуются месенджерами;\n",
    "    интернет-трафик: У обоих тарифов наблюдается четкая граница в районе 200000 мб, после которой совсем мало значений. Пик у абонентов тарифа \"Ультра\" в районе 100000 мб, у абонентов тарифа \"Смарт\" два пика - один в районе 20000, другой около 130000 мб.\n",
    "    итоговый счет: Т.к. пользователи подключались в разное время года и не все оставались на одном тарифе до конца можно сделат выводы о том, что большая часть трат на связь находится до уровня минимальной годовой абонентской платы, которая для абонентов тарифа \"Смарт\" составляет 6600, а для абонентов тарифа \"Ультра\" 23400. У абонентов тарифа \"Смарт\" второй пик находится в районе 7500, после чего идет плавное уменьшение числа абонентов перерасходовавших тарифный план, т.е. большая часть людей хоть немного, но перерасходует тарифные лимиты. У абонентов тарифа \"Ультра\" большинство пользователей тратит до 20000, после чего есть еще одна граница в районе 23000-24000, после чего небольшой хвост, т.е. абоненты тарифа \"Ультра\" в основном укладываются в лимиты тарифного плана и не перерасходуют его.\n",
    "\n",
    "Сделав предварительный анализ тарифов на небольшой выборке пользователей можем передать следующие результаты коммерческому отделу:\n",
    "   \n",
    "    Т.к. средняя выручка по Москве и другим регионам значимо не различаются, то рекламную компанию можно устроить по всей территории распространения сети;\n",
    "    Поведение клиентов в течение года очень хорошо отображено на графиках. Эти графики будут полезны чтобы скорректировать во времени рекламные компании;\n",
    "    Тариф \"Ультра\" приносит компании большую выручку, чем тариф \"Смарт\", поэтому стоит сфокусировать маргетинговые усилия на его продвижении повсеместно как в Москве так и регионах."
   ]
  }
 ],
 "metadata": {
  "ExecuteTimeLog": [
   {
    "duration": 1865,
    "start_time": "2022-03-17T07:17:56.192Z"
   },
   {
    "duration": 178,
    "start_time": "2022-03-17T07:17:58.951Z"
   },
   {
    "duration": 19,
    "start_time": "2022-03-17T07:18:35.199Z"
   },
   {
    "duration": 16,
    "start_time": "2022-03-17T07:22:56.054Z"
   },
   {
    "duration": 10,
    "start_time": "2022-03-17T07:25:48.890Z"
   },
   {
    "duration": 54,
    "start_time": "2022-03-17T07:31:55.135Z"
   },
   {
    "duration": 5,
    "start_time": "2022-03-17T07:33:23.520Z"
   },
   {
    "duration": 3,
    "start_time": "2022-03-17T07:34:04.145Z"
   },
   {
    "duration": 12,
    "start_time": "2022-03-17T07:34:42.939Z"
   },
   {
    "duration": 11,
    "start_time": "2022-03-17T07:35:16.993Z"
   },
   {
    "duration": 199,
    "start_time": "2022-03-17T07:35:48.363Z"
   },
   {
    "duration": 12,
    "start_time": "2022-03-17T07:36:27.889Z"
   },
   {
    "duration": 12,
    "start_time": "2022-03-17T07:37:35.567Z"
   },
   {
    "duration": 12,
    "start_time": "2022-03-17T07:39:09.741Z"
   },
   {
    "duration": 7,
    "start_time": "2022-03-17T07:40:17.695Z"
   },
   {
    "duration": 45,
    "start_time": "2022-03-17T07:41:40.371Z"
   },
   {
    "duration": 41,
    "start_time": "2022-03-17T07:42:36.379Z"
   },
   {
    "duration": 6,
    "start_time": "2022-03-17T07:43:20.271Z"
   },
   {
    "duration": 7,
    "start_time": "2022-03-17T07:45:39.978Z"
   },
   {
    "duration": 6,
    "start_time": "2022-03-17T07:46:21.409Z"
   },
   {
    "duration": 7,
    "start_time": "2022-03-17T07:46:31.630Z"
   },
   {
    "duration": 170,
    "start_time": "2022-03-17T07:46:47.270Z"
   },
   {
    "duration": 6,
    "start_time": "2022-03-17T07:47:06.616Z"
   },
   {
    "duration": 16,
    "start_time": "2022-03-17T07:48:23.204Z"
   },
   {
    "duration": 11,
    "start_time": "2022-03-17T07:49:20.315Z"
   },
   {
    "duration": 64,
    "start_time": "2022-03-17T07:50:15.603Z"
   },
   {
    "duration": 11,
    "start_time": "2022-03-17T07:51:30.192Z"
   },
   {
    "duration": 23,
    "start_time": "2022-03-17T07:52:10.086Z"
   },
   {
    "duration": 6,
    "start_time": "2022-03-17T07:52:51.805Z"
   },
   {
    "duration": 15,
    "start_time": "2022-03-17T07:59:05.502Z"
   },
   {
    "duration": 157,
    "start_time": "2022-03-17T07:59:38.755Z"
   },
   {
    "duration": 5,
    "start_time": "2022-03-17T08:00:06.289Z"
   },
   {
    "duration": 5,
    "start_time": "2022-03-17T08:00:46.037Z"
   },
   {
    "duration": 3,
    "start_time": "2022-03-17T08:00:48.455Z"
   },
   {
    "duration": 4,
    "start_time": "2022-03-17T08:01:27.977Z"
   },
   {
    "duration": 15,
    "start_time": "2022-03-17T08:02:10.087Z"
   },
   {
    "duration": 31,
    "start_time": "2022-03-17T08:07:56.334Z"
   },
   {
    "duration": 273,
    "start_time": "2022-03-17T08:09:54.614Z"
   },
   {
    "duration": 32,
    "start_time": "2022-03-17T08:11:16.377Z"
   },
   {
    "duration": 7,
    "start_time": "2022-03-17T08:12:35.753Z"
   },
   {
    "duration": 17,
    "start_time": "2022-03-17T08:13:19.004Z"
   },
   {
    "duration": 10,
    "start_time": "2022-03-17T08:14:09.248Z"
   },
   {
    "duration": 10,
    "start_time": "2022-03-17T08:15:52.929Z"
   },
   {
    "duration": 10,
    "start_time": "2022-03-17T08:17:04.318Z"
   },
   {
    "duration": 46,
    "start_time": "2022-03-18T05:21:40.595Z"
   },
   {
    "duration": 6,
    "start_time": "2022-03-18T05:21:48.363Z"
   },
   {
    "duration": 1243,
    "start_time": "2022-03-18T05:22:21.480Z"
   },
   {
    "duration": 110,
    "start_time": "2022-03-18T05:22:24.480Z"
   },
   {
    "duration": 14,
    "start_time": "2022-03-18T05:22:28.789Z"
   },
   {
    "duration": 13,
    "start_time": "2022-03-18T05:22:33.603Z"
   },
   {
    "duration": 9,
    "start_time": "2022-03-18T05:22:37.829Z"
   },
   {
    "duration": 48,
    "start_time": "2022-03-18T05:22:41.851Z"
   },
   {
    "duration": 3,
    "start_time": "2022-03-18T05:22:45.516Z"
   },
   {
    "duration": 3,
    "start_time": "2022-03-18T05:22:48.955Z"
   },
   {
    "duration": 6,
    "start_time": "2022-03-18T05:22:52.611Z"
   },
   {
    "duration": 9,
    "start_time": "2022-03-18T05:22:55.028Z"
   },
   {
    "duration": 10,
    "start_time": "2022-03-18T05:22:59.874Z"
   },
   {
    "duration": 8,
    "start_time": "2022-03-18T05:23:03.298Z"
   },
   {
    "duration": 6,
    "start_time": "2022-03-18T05:23:06.464Z"
   },
   {
    "duration": 34,
    "start_time": "2022-03-18T05:23:11.672Z"
   },
   {
    "duration": 27,
    "start_time": "2022-03-18T05:23:17.492Z"
   },
   {
    "duration": 5,
    "start_time": "2022-03-18T05:23:20.604Z"
   },
   {
    "duration": 5,
    "start_time": "2022-03-18T05:23:24.100Z"
   },
   {
    "duration": 4,
    "start_time": "2022-03-18T05:23:27.363Z"
   },
   {
    "duration": 6,
    "start_time": "2022-03-18T05:23:30.026Z"
   },
   {
    "duration": 15,
    "start_time": "2022-03-18T05:23:33.772Z"
   },
   {
    "duration": 9,
    "start_time": "2022-03-18T05:23:38.938Z"
   },
   {
    "duration": 53,
    "start_time": "2022-03-18T05:23:42.543Z"
   },
   {
    "duration": 8,
    "start_time": "2022-03-18T05:23:48.997Z"
   },
   {
    "duration": 18,
    "start_time": "2022-03-18T05:23:53.261Z"
   },
   {
    "duration": 5,
    "start_time": "2022-03-18T05:23:56.457Z"
   },
   {
    "duration": 16,
    "start_time": "2022-03-18T05:24:00.548Z"
   },
   {
    "duration": 4,
    "start_time": "2022-03-18T05:24:05.268Z"
   },
   {
    "duration": 4,
    "start_time": "2022-03-18T05:24:08.530Z"
   },
   {
    "duration": 3,
    "start_time": "2022-03-18T05:24:10.878Z"
   },
   {
    "duration": 13,
    "start_time": "2022-03-18T05:24:14.894Z"
   },
   {
    "duration": 26,
    "start_time": "2022-03-18T05:26:10.495Z"
   },
   {
    "duration": 207,
    "start_time": "2022-03-18T05:26:15.288Z"
   },
   {
    "duration": 30,
    "start_time": "2022-03-18T05:26:20.329Z"
   },
   {
    "duration": 5,
    "start_time": "2022-03-18T05:26:23.704Z"
   },
   {
    "duration": 11,
    "start_time": "2022-03-18T05:26:27.701Z"
   },
   {
    "duration": 9,
    "start_time": "2022-03-18T05:26:31.023Z"
   },
   {
    "duration": 8,
    "start_time": "2022-03-18T05:26:33.951Z"
   },
   {
    "duration": 9,
    "start_time": "2022-03-18T05:26:37.311Z"
   },
   {
    "duration": 14,
    "start_time": "2022-03-18T05:26:41.738Z"
   },
   {
    "duration": 724,
    "start_time": "2022-03-18T05:28:04.731Z"
   },
   {
    "duration": 11,
    "start_time": "2022-03-18T05:31:16.892Z"
   },
   {
    "duration": 107,
    "start_time": "2022-03-18T05:31:40.989Z"
   },
   {
    "duration": 174,
    "start_time": "2022-03-18T05:32:27.630Z"
   },
   {
    "duration": 9,
    "start_time": "2022-03-18T05:35:37.403Z"
   },
   {
    "duration": 11,
    "start_time": "2022-03-18T05:36:57.498Z"
   },
   {
    "duration": 9,
    "start_time": "2022-03-18T05:37:38.332Z"
   },
   {
    "duration": 9,
    "start_time": "2022-03-18T05:38:24.974Z"
   },
   {
    "duration": 15,
    "start_time": "2022-03-18T05:39:09.838Z"
   },
   {
    "duration": 1068,
    "start_time": "2022-03-18T05:40:04.624Z"
   },
   {
    "duration": 215,
    "start_time": "2022-03-18T05:41:54.683Z"
   },
   {
    "duration": 38,
    "start_time": "2022-03-18T08:09:42.538Z"
   },
   {
    "duration": 4076,
    "start_time": "2022-03-18T08:11:34.394Z"
   },
   {
    "duration": 4,
    "start_time": "2022-03-18T08:13:32.196Z"
   },
   {
    "duration": 798,
    "start_time": "2022-03-18T08:14:08.800Z"
   },
   {
    "duration": 8,
    "start_time": "2022-03-18T08:15:44.095Z"
   },
   {
    "duration": 136,
    "start_time": "2022-03-18T08:16:48.433Z"
   },
   {
    "duration": 4,
    "start_time": "2022-03-18T08:19:14.701Z"
   },
   {
    "duration": 1282,
    "start_time": "2022-03-18T08:19:58.212Z"
   },
   {
    "duration": 4,
    "start_time": "2022-03-18T08:21:19.102Z"
   },
   {
    "duration": 48,
    "start_time": "2022-03-18T08:22:01.327Z"
   },
   {
    "duration": 124,
    "start_time": "2022-03-18T08:22:33.551Z"
   },
   {
    "duration": 4,
    "start_time": "2022-03-18T08:24:49.794Z"
   },
   {
    "duration": 13,
    "start_time": "2022-03-18T08:25:55.940Z"
   },
   {
    "duration": 4,
    "start_time": "2022-03-18T08:26:46.156Z"
   },
   {
    "duration": 8,
    "start_time": "2022-03-18T08:27:28.221Z"
   },
   {
    "duration": 180,
    "start_time": "2022-03-18T08:28:18.923Z"
   },
   {
    "duration": 5,
    "start_time": "2022-03-18T08:32:33.474Z"
   },
   {
    "duration": 5,
    "start_time": "2022-03-18T08:33:17.028Z"
   },
   {
    "duration": 154,
    "start_time": "2022-03-18T08:34:46.732Z"
   },
   {
    "duration": 16,
    "start_time": "2022-03-18T08:48:49.772Z"
   },
   {
    "duration": 10,
    "start_time": "2022-03-18T08:50:43.392Z"
   },
   {
    "duration": 19,
    "start_time": "2022-03-18T08:52:02.617Z"
   },
   {
    "duration": 13,
    "start_time": "2022-03-18T08:53:14.799Z"
   },
   {
    "duration": 2278,
    "start_time": "2022-03-18T08:54:08.803Z"
   },
   {
    "duration": 262,
    "start_time": "2022-03-18T08:57:01.184Z"
   },
   {
    "duration": 5,
    "start_time": "2022-03-18T08:57:32.798Z"
   },
   {
    "duration": 6,
    "start_time": "2022-03-18T08:58:35.390Z"
   },
   {
    "duration": 115,
    "start_time": "2022-03-18T08:59:15.672Z"
   },
   {
    "duration": 6,
    "start_time": "2022-03-18T08:59:37.419Z"
   },
   {
    "duration": 114,
    "start_time": "2022-03-18T09:00:13.505Z"
   },
   {
    "duration": 6,
    "start_time": "2022-03-18T09:00:46.060Z"
   },
   {
    "duration": 4,
    "start_time": "2022-03-18T09:01:47.458Z"
   },
   {
    "duration": 2249,
    "start_time": "2022-03-18T09:02:29.197Z"
   },
   {
    "duration": 6,
    "start_time": "2022-03-18T09:59:51.286Z"
   },
   {
    "duration": 6,
    "start_time": "2022-03-18T10:01:48.030Z"
   },
   {
    "duration": 7,
    "start_time": "2022-03-18T10:02:57.752Z"
   },
   {
    "duration": 5,
    "start_time": "2022-03-18T10:03:54.882Z"
   },
   {
    "duration": 1106,
    "start_time": "2022-03-18T10:24:10.358Z"
   },
   {
    "duration": 109,
    "start_time": "2022-03-18T10:24:39.300Z"
   },
   {
    "duration": 15,
    "start_time": "2022-03-18T10:24:54.053Z"
   },
   {
    "duration": 15,
    "start_time": "2022-03-18T10:31:21.468Z"
   },
   {
    "duration": 10,
    "start_time": "2022-03-18T10:32:17.637Z"
   },
   {
    "duration": 51,
    "start_time": "2022-03-18T10:32:58.516Z"
   },
   {
    "duration": 4,
    "start_time": "2022-03-18T10:38:31.296Z"
   },
   {
    "duration": 3,
    "start_time": "2022-03-18T10:39:21.582Z"
   },
   {
    "duration": 7,
    "start_time": "2022-03-18T10:39:52.632Z"
   },
   {
    "duration": 9,
    "start_time": "2022-03-18T10:40:06.318Z"
   },
   {
    "duration": 10,
    "start_time": "2022-03-18T10:41:56.586Z"
   },
   {
    "duration": 9,
    "start_time": "2022-03-18T10:43:26.593Z"
   },
   {
    "duration": 5,
    "start_time": "2022-03-18T10:44:52.267Z"
   },
   {
    "duration": 98,
    "start_time": "2022-03-18T10:49:14.619Z"
   },
   {
    "duration": 18,
    "start_time": "2022-03-18T10:53:33.047Z"
   },
   {
    "duration": 31,
    "start_time": "2022-03-18T10:54:36.345Z"
   },
   {
    "duration": 36,
    "start_time": "2022-03-18T10:56:54.026Z"
   },
   {
    "duration": 11,
    "start_time": "2022-03-18T10:57:02.651Z"
   },
   {
    "duration": 5,
    "start_time": "2022-03-18T10:57:11.952Z"
   },
   {
    "duration": 6,
    "start_time": "2022-03-18T10:59:25.286Z"
   },
   {
    "duration": 10,
    "start_time": "2022-03-18T10:59:46.021Z"
   },
   {
    "duration": 6,
    "start_time": "2022-03-18T10:59:58.149Z"
   },
   {
    "duration": 6,
    "start_time": "2022-03-18T11:00:06.404Z"
   },
   {
    "duration": 15,
    "start_time": "2022-03-18T11:00:29.956Z"
   },
   {
    "duration": 10,
    "start_time": "2022-03-18T11:01:14.129Z"
   },
   {
    "duration": 8,
    "start_time": "2022-03-18T11:01:40.313Z"
   },
   {
    "duration": 63,
    "start_time": "2022-03-18T11:01:49.925Z"
   },
   {
    "duration": 9,
    "start_time": "2022-03-18T11:03:20.072Z"
   },
   {
    "duration": 19,
    "start_time": "2022-03-18T11:04:34.803Z"
   },
   {
    "duration": 5,
    "start_time": "2022-03-18T11:04:44.947Z"
   },
   {
    "duration": 14,
    "start_time": "2022-03-18T11:10:42.943Z"
   },
   {
    "duration": 4,
    "start_time": "2022-03-18T11:11:04.939Z"
   },
   {
    "duration": 5,
    "start_time": "2022-03-18T11:11:25.550Z"
   },
   {
    "duration": 4,
    "start_time": "2022-03-18T11:11:57.997Z"
   },
   {
    "duration": 4,
    "start_time": "2022-03-18T11:12:25.007Z"
   },
   {
    "duration": 14,
    "start_time": "2022-03-18T11:12:42.135Z"
   },
   {
    "duration": 9,
    "start_time": "2022-03-18T11:14:45.956Z"
   },
   {
    "duration": 28,
    "start_time": "2022-03-18T11:15:01.371Z"
   },
   {
    "duration": 215,
    "start_time": "2022-03-18T11:16:53.694Z"
   },
   {
    "duration": 28,
    "start_time": "2022-03-18T11:18:01.398Z"
   },
   {
    "duration": 5,
    "start_time": "2022-03-18T11:18:26.293Z"
   },
   {
    "duration": 12,
    "start_time": "2022-03-18T11:19:30.989Z"
   },
   {
    "duration": 9,
    "start_time": "2022-03-18T11:20:29.473Z"
   },
   {
    "duration": 9,
    "start_time": "2022-03-18T11:21:08.010Z"
   },
   {
    "duration": 9,
    "start_time": "2022-03-18T11:21:22.240Z"
   },
   {
    "duration": 10,
    "start_time": "2022-03-18T11:22:05.370Z"
   },
   {
    "duration": 16,
    "start_time": "2022-03-18T11:22:42.123Z"
   },
   {
    "duration": 17,
    "start_time": "2022-03-18T12:13:27.646Z"
   },
   {
    "duration": 791,
    "start_time": "2022-03-18T12:16:03.612Z"
   },
   {
    "duration": 12,
    "start_time": "2022-03-18T12:24:09.304Z"
   },
   {
    "duration": 14,
    "start_time": "2022-03-18T12:24:24.138Z"
   },
   {
    "duration": 217,
    "start_time": "2022-03-18T12:25:18.063Z"
   },
   {
    "duration": 11,
    "start_time": "2022-03-18T12:27:14.885Z"
   },
   {
    "duration": 11,
    "start_time": "2022-03-18T12:28:16.710Z"
   },
   {
    "duration": 9,
    "start_time": "2022-03-18T12:28:54.982Z"
   },
   {
    "duration": 9,
    "start_time": "2022-03-18T12:29:35.197Z"
   },
   {
    "duration": 17,
    "start_time": "2022-03-18T12:31:03.532Z"
   },
   {
    "duration": 1197,
    "start_time": "2022-03-18T12:31:29.076Z"
   },
   {
    "duration": 228,
    "start_time": "2022-03-18T12:36:53.692Z"
   },
   {
    "duration": 37,
    "start_time": "2022-03-18T12:40:38.558Z"
   },
   {
    "duration": 4190,
    "start_time": "2022-03-18T12:40:45.996Z"
   },
   {
    "duration": 4,
    "start_time": "2022-03-18T12:41:47.813Z"
   },
   {
    "duration": 8,
    "start_time": "2022-03-18T12:42:34.602Z"
   },
   {
    "duration": 245,
    "start_time": "2022-03-18T12:42:40.126Z"
   },
   {
    "duration": 5,
    "start_time": "2022-03-18T12:43:00.421Z"
   },
   {
    "duration": 1177,
    "start_time": "2022-03-18T12:43:17.253Z"
   },
   {
    "duration": 4,
    "start_time": "2022-03-18T12:45:41.466Z"
   },
   {
    "duration": 47,
    "start_time": "2022-03-18T12:45:55.920Z"
   },
   {
    "duration": 127,
    "start_time": "2022-03-18T12:46:00.320Z"
   },
   {
    "duration": 5,
    "start_time": "2022-03-18T12:47:00.218Z"
   },
   {
    "duration": 13,
    "start_time": "2022-03-18T12:47:09.696Z"
   },
   {
    "duration": 5,
    "start_time": "2022-03-18T12:47:16.065Z"
   },
   {
    "duration": 8,
    "start_time": "2022-03-18T12:47:24.198Z"
   },
   {
    "duration": 175,
    "start_time": "2022-03-18T12:47:41.440Z"
   },
   {
    "duration": 6,
    "start_time": "2022-03-18T12:48:32.803Z"
   },
   {
    "duration": 27,
    "start_time": "2022-03-18T12:53:58.653Z"
   },
   {
    "duration": 42,
    "start_time": "2022-03-18T12:57:14.848Z"
   },
   {
    "duration": 36,
    "start_time": "2022-03-18T12:59:21.971Z"
   },
   {
    "duration": 18,
    "start_time": "2022-03-18T13:00:13.841Z"
   },
   {
    "duration": 114,
    "start_time": "2022-03-18T13:01:28.553Z"
   },
   {
    "duration": 124,
    "start_time": "2022-03-18T13:01:37.682Z"
   },
   {
    "duration": 126,
    "start_time": "2022-03-18T13:02:02.365Z"
   },
   {
    "duration": 48,
    "start_time": "2022-03-18T13:02:11.010Z"
   },
   {
    "duration": 141,
    "start_time": "2022-03-18T13:02:56.202Z"
   },
   {
    "duration": 18,
    "start_time": "2022-03-18T13:05:31.892Z"
   },
   {
    "duration": 6,
    "start_time": "2022-03-18T13:06:35.333Z"
   },
   {
    "duration": 6,
    "start_time": "2022-03-18T13:06:42.451Z"
   },
   {
    "duration": 270,
    "start_time": "2022-03-18T13:06:47.657Z"
   },
   {
    "duration": 26,
    "start_time": "2022-03-18T13:07:46.532Z"
   },
   {
    "duration": 26,
    "start_time": "2022-03-18T13:08:49.050Z"
   },
   {
    "duration": 144,
    "start_time": "2022-03-18T13:09:06.226Z"
   },
   {
    "duration": 19,
    "start_time": "2022-03-18T13:10:15.108Z"
   },
   {
    "duration": 9,
    "start_time": "2022-03-18T13:10:35.933Z"
   },
   {
    "duration": 24,
    "start_time": "2022-03-18T13:11:34.212Z"
   },
   {
    "duration": 22,
    "start_time": "2022-03-18T13:11:50.052Z"
   },
   {
    "duration": 12,
    "start_time": "2022-03-18T13:12:58.169Z"
   },
   {
    "duration": 2267,
    "start_time": "2022-03-18T13:13:08.038Z"
   },
   {
    "duration": 262,
    "start_time": "2022-03-18T13:13:26.021Z"
   },
   {
    "duration": 7,
    "start_time": "2022-03-18T13:14:44.047Z"
   },
   {
    "duration": 7,
    "start_time": "2022-03-18T13:14:50.891Z"
   },
   {
    "duration": 6,
    "start_time": "2022-03-18T13:15:11.601Z"
   },
   {
    "duration": 6,
    "start_time": "2022-03-18T13:15:17.126Z"
   },
   {
    "duration": 4,
    "start_time": "2022-03-18T13:16:02.081Z"
   },
   {
    "duration": 2238,
    "start_time": "2022-03-18T13:16:07.465Z"
   },
   {
    "duration": 6,
    "start_time": "2022-03-18T13:16:20.384Z"
   },
   {
    "duration": 6,
    "start_time": "2022-03-18T13:16:24.952Z"
   },
   {
    "duration": 5,
    "start_time": "2022-03-18T13:16:32.818Z"
   },
   {
    "duration": 6,
    "start_time": "2022-03-18T13:16:36.991Z"
   },
   {
    "duration": 45,
    "start_time": "2022-04-20T04:57:06.901Z"
   },
   {
    "duration": 1006,
    "start_time": "2022-04-20T04:57:09.541Z"
   },
   {
    "duration": 3,
    "start_time": "2022-04-20T04:57:10.549Z"
   },
   {
    "duration": 331,
    "start_time": "2022-04-20T04:57:10.553Z"
   },
   {
    "duration": 11,
    "start_time": "2022-04-20T04:57:12.029Z"
   },
   {
    "duration": 10,
    "start_time": "2022-04-20T04:57:12.217Z"
   },
   {
    "duration": 10,
    "start_time": "2022-04-20T04:57:12.385Z"
   },
   {
    "duration": 10,
    "start_time": "2022-04-20T04:57:12.537Z"
   },
   {
    "duration": 8,
    "start_time": "2022-04-20T04:57:12.714Z"
   },
   {
    "duration": 20,
    "start_time": "2022-04-20T04:57:12.861Z"
   },
   {
    "duration": 7,
    "start_time": "2022-04-20T04:57:12.994Z"
   },
   {
    "duration": 16,
    "start_time": "2022-04-20T04:57:13.145Z"
   },
   {
    "duration": 7,
    "start_time": "2022-04-20T04:57:13.301Z"
   },
   {
    "duration": 17,
    "start_time": "2022-04-20T04:57:13.581Z"
   },
   {
    "duration": 2,
    "start_time": "2022-04-20T04:57:14.698Z"
   },
   {
    "duration": 23,
    "start_time": "2022-04-20T04:57:15.033Z"
   },
   {
    "duration": 185,
    "start_time": "2022-04-20T04:57:15.822Z"
   },
   {
    "duration": 11,
    "start_time": "2022-04-20T04:57:16.965Z"
   },
   {
    "duration": 39,
    "start_time": "2022-04-20T04:57:17.289Z"
   },
   {
    "duration": 26,
    "start_time": "2022-04-20T04:57:17.589Z"
   },
   {
    "duration": 33,
    "start_time": "2022-04-20T04:57:17.921Z"
   },
   {
    "duration": 3,
    "start_time": "2022-04-20T04:57:18.405Z"
   },
   {
    "duration": 14,
    "start_time": "2022-04-20T04:57:18.557Z"
   },
   {
    "duration": 9,
    "start_time": "2022-04-20T04:57:18.906Z"
   },
   {
    "duration": 46,
    "start_time": "2022-04-20T04:57:20.254Z"
   },
   {
    "duration": 8,
    "start_time": "2022-04-20T04:57:20.569Z"
   },
   {
    "duration": 8,
    "start_time": "2022-04-20T04:57:20.757Z"
   },
   {
    "duration": 10,
    "start_time": "2022-04-20T04:57:20.909Z"
   },
   {
    "duration": 29,
    "start_time": "2022-04-20T04:57:21.417Z"
   },
   {
    "duration": 22,
    "start_time": "2022-04-20T04:57:21.561Z"
   },
   {
    "duration": 21,
    "start_time": "2022-04-20T04:57:21.738Z"
   },
   {
    "duration": 27,
    "start_time": "2022-04-20T04:57:22.221Z"
   },
   {
    "duration": 16,
    "start_time": "2022-04-20T04:57:22.869Z"
   },
   {
    "duration": 5,
    "start_time": "2022-04-20T04:57:23.909Z"
   },
   {
    "duration": 13,
    "start_time": "2022-04-20T04:57:24.269Z"
   },
   {
    "duration": 8,
    "start_time": "2022-04-20T04:57:24.633Z"
   },
   {
    "duration": 16,
    "start_time": "2022-04-20T04:57:27.226Z"
   },
   {
    "duration": 7,
    "start_time": "2022-04-20T04:57:27.909Z"
   },
   {
    "duration": 18,
    "start_time": "2022-04-20T04:57:39.474Z"
   },
   {
    "duration": 11,
    "start_time": "2022-04-20T04:57:44.594Z"
   },
   {
    "duration": 6,
    "start_time": "2022-04-20T04:57:44.821Z"
   },
   {
    "duration": 9,
    "start_time": "2022-04-20T04:57:45.077Z"
   },
   {
    "duration": 4,
    "start_time": "2022-04-20T04:57:45.694Z"
   },
   {
    "duration": 6,
    "start_time": "2022-04-20T04:57:45.949Z"
   },
   {
    "duration": 7,
    "start_time": "2022-04-20T04:58:03.681Z"
   },
   {
    "duration": 5,
    "start_time": "2022-04-20T04:58:04.606Z"
   },
   {
    "duration": 123,
    "start_time": "2022-04-20T04:58:07.506Z"
   },
   {
    "duration": 4,
    "start_time": "2022-04-20T04:58:38.457Z"
   },
   {
    "duration": 194,
    "start_time": "2022-04-26T10:04:59.490Z"
   },
   {
    "duration": 1769,
    "start_time": "2022-04-26T10:43:56.257Z"
   },
   {
    "duration": 4,
    "start_time": "2022-04-26T10:43:58.819Z"
   },
   {
    "duration": 131,
    "start_time": "2022-04-26T10:44:04.699Z"
   },
   {
    "duration": 143,
    "start_time": "2022-04-26T10:45:52.269Z"
   },
   {
    "duration": 165,
    "start_time": "2022-04-26T10:47:29.579Z"
   },
   {
    "duration": 210,
    "start_time": "2022-04-26T10:49:25.523Z"
   },
   {
    "duration": 740,
    "start_time": "2022-04-26T10:49:38.428Z"
   },
   {
    "duration": 23,
    "start_time": "2022-04-26T10:52:24.960Z"
   },
   {
    "duration": 12,
    "start_time": "2022-04-26T10:52:29.079Z"
   },
   {
    "duration": 16,
    "start_time": "2022-04-26T10:52:32.359Z"
   },
   {
    "duration": 12,
    "start_time": "2022-04-26T10:52:36.006Z"
   },
   {
    "duration": 9,
    "start_time": "2022-04-26T10:52:39.396Z"
   },
   {
    "duration": 25,
    "start_time": "2022-04-26T10:52:42.682Z"
   },
   {
    "duration": 8,
    "start_time": "2022-04-26T10:52:46.476Z"
   },
   {
    "duration": 16,
    "start_time": "2022-04-26T10:52:49.587Z"
   },
   {
    "duration": 18,
    "start_time": "2022-04-26T10:52:54.030Z"
   },
   {
    "duration": 23,
    "start_time": "2022-04-26T10:53:00.005Z"
   },
   {
    "duration": 3,
    "start_time": "2022-04-26T10:53:54.383Z"
   },
   {
    "duration": 36,
    "start_time": "2022-04-26T10:53:59.115Z"
   },
   {
    "duration": 163,
    "start_time": "2022-04-26T10:54:04.963Z"
   },
   {
    "duration": 180,
    "start_time": "2022-04-26T10:54:28.207Z"
   },
   {
    "duration": 63,
    "start_time": "2022-04-26T10:59:11.465Z"
   },
   {
    "duration": 191,
    "start_time": "2022-04-26T10:59:28.115Z"
   },
   {
    "duration": 1467,
    "start_time": "2022-04-26T11:01:23.125Z"
   },
   {
    "duration": 4,
    "start_time": "2022-04-26T11:01:25.732Z"
   },
   {
    "duration": 646,
    "start_time": "2022-04-26T11:01:28.269Z"
   },
   {
    "duration": 22,
    "start_time": "2022-04-26T11:01:32.537Z"
   },
   {
    "duration": 16,
    "start_time": "2022-04-26T11:01:38.133Z"
   },
   {
    "duration": 21,
    "start_time": "2022-04-26T11:01:41.657Z"
   },
   {
    "duration": 15,
    "start_time": "2022-04-26T11:01:44.665Z"
   },
   {
    "duration": 9,
    "start_time": "2022-04-26T11:01:47.369Z"
   },
   {
    "duration": 25,
    "start_time": "2022-04-26T11:01:50.421Z"
   },
   {
    "duration": 14,
    "start_time": "2022-04-26T11:01:53.159Z"
   },
   {
    "duration": 16,
    "start_time": "2022-04-26T11:01:56.094Z"
   },
   {
    "duration": 15,
    "start_time": "2022-04-26T11:01:58.850Z"
   },
   {
    "duration": 25,
    "start_time": "2022-04-26T11:02:04.974Z"
   },
   {
    "duration": 4,
    "start_time": "2022-04-26T11:02:17.558Z"
   },
   {
    "duration": 23,
    "start_time": "2022-04-26T11:02:21.471Z"
   },
   {
    "duration": 178,
    "start_time": "2022-04-26T11:02:27.526Z"
   },
   {
    "duration": 20,
    "start_time": "2022-04-26T11:06:24.550Z"
   },
   {
    "duration": 52,
    "start_time": "2022-04-26T11:06:28.370Z"
   },
   {
    "duration": 29,
    "start_time": "2022-04-26T11:06:31.782Z"
   },
   {
    "duration": 55,
    "start_time": "2022-04-26T11:06:37.758Z"
   },
   {
    "duration": 3367,
    "start_time": "2022-04-26T11:06:41.732Z"
   },
   {
    "duration": 0,
    "start_time": "2022-04-26T11:06:45.101Z"
   },
   {
    "duration": 20,
    "start_time": "2022-04-26T11:07:05.097Z"
   },
   {
    "duration": 11,
    "start_time": "2022-04-26T11:07:14.389Z"
   },
   {
    "duration": 57,
    "start_time": "2022-04-26T11:07:42.166Z"
   },
   {
    "duration": 12,
    "start_time": "2022-04-26T11:07:46.862Z"
   },
   {
    "duration": 9,
    "start_time": "2022-04-26T11:07:53.398Z"
   },
   {
    "duration": 14,
    "start_time": "2022-04-26T11:07:57.429Z"
   },
   {
    "duration": 9,
    "start_time": "2022-04-26T13:15:30.796Z"
   },
   {
    "duration": 1121,
    "start_time": "2022-04-26T13:26:37.184Z"
   },
   {
    "duration": 3,
    "start_time": "2022-04-26T13:26:39.485Z"
   },
   {
    "duration": 496,
    "start_time": "2022-04-26T13:26:42.626Z"
   },
   {
    "duration": 14,
    "start_time": "2022-04-26T13:26:46.257Z"
   },
   {
    "duration": 14,
    "start_time": "2022-04-26T13:26:49.626Z"
   },
   {
    "duration": 1264,
    "start_time": "2022-04-26T13:36:56.534Z"
   },
   {
    "duration": 4,
    "start_time": "2022-04-26T13:36:59.689Z"
   },
   {
    "duration": 490,
    "start_time": "2022-04-26T13:37:01.978Z"
   },
   {
    "duration": 13,
    "start_time": "2022-04-26T13:37:05.594Z"
   },
   {
    "duration": 15,
    "start_time": "2022-04-26T13:37:08.570Z"
   },
   {
    "duration": 13,
    "start_time": "2022-04-26T13:37:11.651Z"
   },
   {
    "duration": 10,
    "start_time": "2022-04-26T13:37:14.634Z"
   },
   {
    "duration": 27,
    "start_time": "2022-04-26T13:37:17.640Z"
   },
   {
    "duration": 8,
    "start_time": "2022-04-26T13:37:20.442Z"
   },
   {
    "duration": 20,
    "start_time": "2022-04-26T13:37:26.311Z"
   },
   {
    "duration": 9,
    "start_time": "2022-04-26T13:37:30.173Z"
   },
   {
    "duration": 24,
    "start_time": "2022-04-26T13:37:34.882Z"
   },
   {
    "duration": 3,
    "start_time": "2022-04-26T13:37:40.159Z"
   },
   {
    "duration": 22,
    "start_time": "2022-04-26T13:37:43.852Z"
   },
   {
    "duration": 220,
    "start_time": "2022-04-26T13:37:49.147Z"
   },
   {
    "duration": 14,
    "start_time": "2022-04-26T13:37:55.876Z"
   },
   {
    "duration": 55,
    "start_time": "2022-04-26T13:38:01.362Z"
   },
   {
    "duration": 36,
    "start_time": "2022-04-26T13:38:04.843Z"
   },
   {
    "duration": 40,
    "start_time": "2022-04-26T13:38:08.158Z"
   },
   {
    "duration": 18,
    "start_time": "2022-04-26T13:39:01.596Z"
   },
   {
    "duration": 11,
    "start_time": "2022-04-26T13:39:09.316Z"
   },
   {
    "duration": 57,
    "start_time": "2022-04-26T13:40:06.344Z"
   },
   {
    "duration": 10,
    "start_time": "2022-04-26T13:40:12.495Z"
   },
   {
    "duration": 11,
    "start_time": "2022-04-26T13:40:16.335Z"
   },
   {
    "duration": 9,
    "start_time": "2022-04-26T13:40:19.446Z"
   },
   {
    "duration": 43,
    "start_time": "2022-04-26T13:40:46.309Z"
   },
   {
    "duration": 25,
    "start_time": "2022-04-26T13:40:49.303Z"
   },
   {
    "duration": 24,
    "start_time": "2022-04-26T13:40:53.104Z"
   },
   {
    "duration": 31,
    "start_time": "2022-04-26T13:41:09.479Z"
   },
   {
    "duration": 18,
    "start_time": "2022-04-26T13:41:19.775Z"
   },
   {
    "duration": 13,
    "start_time": "2022-04-26T13:41:23.447Z"
   },
   {
    "duration": 6,
    "start_time": "2022-04-26T13:45:28.763Z"
   },
   {
    "duration": 18,
    "start_time": "2022-04-26T13:45:32.612Z"
   },
   {
    "duration": 9,
    "start_time": "2022-04-26T13:45:41.635Z"
   },
   {
    "duration": 33,
    "start_time": "2022-04-26T13:45:44.971Z"
   },
   {
    "duration": 7,
    "start_time": "2022-04-26T13:45:55.523Z"
   },
   {
    "duration": 16,
    "start_time": "2022-04-26T13:46:06.476Z"
   },
   {
    "duration": 6,
    "start_time": "2022-04-26T13:46:10.026Z"
   },
   {
    "duration": 12,
    "start_time": "2022-04-26T13:46:12.708Z"
   },
   {
    "duration": 4,
    "start_time": "2022-04-26T13:46:15.966Z"
   },
   {
    "duration": 8,
    "start_time": "2022-04-26T13:46:25.269Z"
   },
   {
    "duration": 6,
    "start_time": "2022-04-26T13:46:31.348Z"
   },
   {
    "duration": 146,
    "start_time": "2022-04-26T13:46:40.103Z"
   },
   {
    "duration": 5,
    "start_time": "2022-04-26T13:55:45.952Z"
   },
   {
    "duration": 30,
    "start_time": "2022-04-26T13:59:51.020Z"
   },
   {
    "duration": 1761,
    "start_time": "2022-04-26T14:00:00.725Z"
   },
   {
    "duration": 6,
    "start_time": "2022-04-26T14:00:22.749Z"
   },
   {
    "duration": 6,
    "start_time": "2022-04-26T14:00:25.783Z"
   },
   {
    "duration": 117,
    "start_time": "2022-04-26T14:00:42.868Z"
   },
   {
    "duration": 34,
    "start_time": "2022-04-26T14:02:28.570Z"
   },
   {
    "duration": 2528,
    "start_time": "2022-04-26T14:02:57.768Z"
   },
   {
    "duration": 8,
    "start_time": "2022-04-26T14:03:38.746Z"
   },
   {
    "duration": 8,
    "start_time": "2022-04-26T14:03:52.032Z"
   },
   {
    "duration": 166,
    "start_time": "2022-04-26T15:51:07.689Z"
   }
  ],
  "kernelspec": {
   "display_name": "Python 3 (ipykernel)",
   "language": "python",
   "name": "python3"
  },
  "language_info": {
   "codemirror_mode": {
    "name": "ipython",
    "version": 3
   },
   "file_extension": ".py",
   "mimetype": "text/x-python",
   "name": "python",
   "nbconvert_exporter": "python",
   "pygments_lexer": "ipython3",
   "version": "3.9.7"
  },
  "toc": {
   "base_numbering": 1,
   "nav_menu": {},
   "number_sections": true,
   "sideBar": true,
   "skip_h1_title": true,
   "title_cell": "Содержание",
   "title_sidebar": "Contents",
   "toc_cell": true,
   "toc_position": {
    "height": "calc(100% - 180px)",
    "left": "10px",
    "top": "150px",
    "width": "307.2px"
   },
   "toc_section_display": true,
   "toc_window_display": true
  }
 },
 "nbformat": 4,
 "nbformat_minor": 4
}
