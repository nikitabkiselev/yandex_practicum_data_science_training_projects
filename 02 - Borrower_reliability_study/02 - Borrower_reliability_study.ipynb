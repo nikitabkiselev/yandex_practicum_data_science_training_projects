{
 "cells": [
  {
   "cell_type": "markdown",
   "id": "33160dc9",
   "metadata": {},
   "source": [
    "# Исследование надежности заемщиков."
   ]
  },
  {
   "cell_type": "markdown",
   "id": "a9ce8d39",
   "metadata": {},
   "source": [
    "### Описание проекта"
   ]
  },
  {
   "cell_type": "markdown",
   "id": "2a497ef5",
   "metadata": {},
   "source": [
    "Заказчик — кредитный отдел банка. Нужно разобраться, влияет ли семейное положение и количество детей клиента на факт погашения \n",
    "кредита в срок. Входные данные от банка — статистика о платёжеспособности клиентов.\n",
    "Результаты исследования будут учтены при построении модели кредитного скоринга — специальной системы, которая оценивает \n",
    "способность потенциального заёмщика вернуть кредит банку. \n",
    "\n",
    "Описание данных  \n",
    "•\tchildren — количество детей в семье  \n",
    "•\tdays_employed — общий трудовой стаж в днях  \n",
    "•\tdob_years — возраст клиента в годах  \n",
    "•\teducation — уровень образования клиента  \n",
    "•\teducation_id — идентификатор уровня образования  \n",
    "•\tfamily_status — семейное положение  \n",
    "•\tfamily_status_id — идентификатор семейного положения  \n",
    "•\tgender — пол клиента  \n",
    "•\tincome_type — тип занятости  \n",
    "•\tdebt — имел ли задолженность по возврату кредитов  \n",
    "•\ttotal_income — ежемесячный доход  \n",
    "•\tpurpose — цель получения кредита  \n"
   ]
  },
  {
   "cell_type": "markdown",
   "id": "9260b816",
   "metadata": {},
   "source": [
    "### Шаг 1. Обзор данных"
   ]
  },
  {
   "cell_type": "markdown",
   "id": "a1b32946",
   "metadata": {},
   "source": [
    "Импорт библиотек"
   ]
  },
  {
   "cell_type": "code",
   "execution_count": 2,
   "id": "1d361e3a",
   "metadata": {
    "scrolled": true
   },
   "outputs": [],
   "source": [
    "import pandas as pd"
   ]
  },
  {
   "cell_type": "markdown",
   "id": "33b5c13e",
   "metadata": {},
   "source": [
    "Чтение файлов"
   ]
  },
  {
   "cell_type": "code",
   "execution_count": 3,
   "id": "9183514c",
   "metadata": {},
   "outputs": [
    {
     "name": "stdout",
     "output_type": "stream",
     "text": [
      "<class 'pandas.core.frame.DataFrame'>\n",
      "RangeIndex: 21525 entries, 0 to 21524\n",
      "Data columns (total 12 columns):\n",
      "children            21525 non-null int64\n",
      "days_employed       19351 non-null float64\n",
      "dob_years           21525 non-null int64\n",
      "education           21525 non-null object\n",
      "education_id        21525 non-null int64\n",
      "family_status       21525 non-null object\n",
      "family_status_id    21525 non-null int64\n",
      "gender              21525 non-null object\n",
      "income_type         21525 non-null object\n",
      "debt                21525 non-null int64\n",
      "total_income        19351 non-null float64\n",
      "purpose             21525 non-null object\n",
      "dtypes: float64(2), int64(5), object(5)\n",
      "memory usage: 2.0+ MB\n"
     ]
    },
    {
     "data": {
      "text/html": [
       "<div>\n",
       "<style scoped>\n",
       "    .dataframe tbody tr th:only-of-type {\n",
       "        vertical-align: middle;\n",
       "    }\n",
       "\n",
       "    .dataframe tbody tr th {\n",
       "        vertical-align: top;\n",
       "    }\n",
       "\n",
       "    .dataframe thead th {\n",
       "        text-align: right;\n",
       "    }\n",
       "</style>\n",
       "<table border=\"1\" class=\"dataframe\">\n",
       "  <thead>\n",
       "    <tr style=\"text-align: right;\">\n",
       "      <th></th>\n",
       "      <th>children</th>\n",
       "      <th>days_employed</th>\n",
       "      <th>dob_years</th>\n",
       "      <th>education</th>\n",
       "      <th>education_id</th>\n",
       "      <th>family_status</th>\n",
       "      <th>family_status_id</th>\n",
       "      <th>gender</th>\n",
       "      <th>income_type</th>\n",
       "      <th>debt</th>\n",
       "      <th>total_income</th>\n",
       "      <th>purpose</th>\n",
       "    </tr>\n",
       "  </thead>\n",
       "  <tbody>\n",
       "    <tr>\n",
       "      <td>0</td>\n",
       "      <td>1</td>\n",
       "      <td>-8437.673028</td>\n",
       "      <td>42</td>\n",
       "      <td>высшее</td>\n",
       "      <td>0</td>\n",
       "      <td>женат / замужем</td>\n",
       "      <td>0</td>\n",
       "      <td>F</td>\n",
       "      <td>сотрудник</td>\n",
       "      <td>0</td>\n",
       "      <td>253875.639453</td>\n",
       "      <td>покупка жилья</td>\n",
       "    </tr>\n",
       "    <tr>\n",
       "      <td>1</td>\n",
       "      <td>1</td>\n",
       "      <td>-4024.803754</td>\n",
       "      <td>36</td>\n",
       "      <td>среднее</td>\n",
       "      <td>1</td>\n",
       "      <td>женат / замужем</td>\n",
       "      <td>0</td>\n",
       "      <td>F</td>\n",
       "      <td>сотрудник</td>\n",
       "      <td>0</td>\n",
       "      <td>112080.014102</td>\n",
       "      <td>приобретение автомобиля</td>\n",
       "    </tr>\n",
       "    <tr>\n",
       "      <td>2</td>\n",
       "      <td>0</td>\n",
       "      <td>-5623.422610</td>\n",
       "      <td>33</td>\n",
       "      <td>Среднее</td>\n",
       "      <td>1</td>\n",
       "      <td>женат / замужем</td>\n",
       "      <td>0</td>\n",
       "      <td>M</td>\n",
       "      <td>сотрудник</td>\n",
       "      <td>0</td>\n",
       "      <td>145885.952297</td>\n",
       "      <td>покупка жилья</td>\n",
       "    </tr>\n",
       "    <tr>\n",
       "      <td>3</td>\n",
       "      <td>3</td>\n",
       "      <td>-4124.747207</td>\n",
       "      <td>32</td>\n",
       "      <td>среднее</td>\n",
       "      <td>1</td>\n",
       "      <td>женат / замужем</td>\n",
       "      <td>0</td>\n",
       "      <td>M</td>\n",
       "      <td>сотрудник</td>\n",
       "      <td>0</td>\n",
       "      <td>267628.550329</td>\n",
       "      <td>дополнительное образование</td>\n",
       "    </tr>\n",
       "    <tr>\n",
       "      <td>4</td>\n",
       "      <td>0</td>\n",
       "      <td>340266.072047</td>\n",
       "      <td>53</td>\n",
       "      <td>среднее</td>\n",
       "      <td>1</td>\n",
       "      <td>гражданский брак</td>\n",
       "      <td>1</td>\n",
       "      <td>F</td>\n",
       "      <td>пенсионер</td>\n",
       "      <td>0</td>\n",
       "      <td>158616.077870</td>\n",
       "      <td>сыграть свадьбу</td>\n",
       "    </tr>\n",
       "  </tbody>\n",
       "</table>\n",
       "</div>"
      ],
      "text/plain": [
       "   children  days_employed  dob_years education  education_id  \\\n",
       "0         1   -8437.673028         42    высшее             0   \n",
       "1         1   -4024.803754         36   среднее             1   \n",
       "2         0   -5623.422610         33   Среднее             1   \n",
       "3         3   -4124.747207         32   среднее             1   \n",
       "4         0  340266.072047         53   среднее             1   \n",
       "\n",
       "      family_status  family_status_id gender income_type  debt   total_income  \\\n",
       "0   женат / замужем                 0      F   сотрудник     0  253875.639453   \n",
       "1   женат / замужем                 0      F   сотрудник     0  112080.014102   \n",
       "2   женат / замужем                 0      M   сотрудник     0  145885.952297   \n",
       "3   женат / замужем                 0      M   сотрудник     0  267628.550329   \n",
       "4  гражданский брак                 1      F   пенсионер     0  158616.077870   \n",
       "\n",
       "                      purpose  \n",
       "0               покупка жилья  \n",
       "1     приобретение автомобиля  \n",
       "2               покупка жилья  \n",
       "3  дополнительное образование  \n",
       "4             сыграть свадьбу  "
      ]
     },
     "execution_count": 3,
     "metadata": {},
     "output_type": "execute_result"
    }
   ],
   "source": [
    "Data = pd.read_csv('/datasets/data.csv')\n",
    "Data.info()\n",
    "Data.head(5)"
   ]
  },
  {
   "cell_type": "markdown",
   "id": "8ed50f3c",
   "metadata": {},
   "source": [
    "### Шаг 2.1 Заполнение пропусков"
   ]
  },
  {
   "cell_type": "code",
   "execution_count": 4,
   "id": "9a015a7d",
   "metadata": {},
   "outputs": [
    {
     "name": "stdout",
     "output_type": "stream",
     "text": [
      "<class 'pandas.core.frame.DataFrame'>\n",
      "RangeIndex: 21525 entries, 0 to 21524\n",
      "Data columns (total 12 columns):\n",
      "children            21525 non-null int64\n",
      "days_employed       19351 non-null float64\n",
      "dob_years           21525 non-null int64\n",
      "education           21525 non-null object\n",
      "education_id        21525 non-null int64\n",
      "family_status       21525 non-null object\n",
      "family_status_id    21525 non-null int64\n",
      "gender              21525 non-null object\n",
      "income_type         21525 non-null object\n",
      "debt                21525 non-null int64\n",
      "total_income        19351 non-null float64\n",
      "purpose             21525 non-null object\n",
      "dtypes: float64(2), int64(5), object(5)\n",
      "memory usage: 2.0+ MB\n",
      "None\n",
      "Количество пропущенных значений\n",
      " children               0\n",
      "days_employed       2174\n",
      "dob_years              0\n",
      "education              0\n",
      "education_id           0\n",
      "family_status          0\n",
      "family_status_id       0\n",
      "gender                 0\n",
      "income_type            0\n",
      "debt                   0\n",
      "total_income        2174\n",
      "purpose                0\n",
      "dtype: int64\n"
     ]
    }
   ],
   "source": [
    "print(Data.info())\n",
    "print('Количество пропущенных значений\\n',Data.isna().sum())"
   ]
  },
  {
   "cell_type": "markdown",
   "id": "6ca92323",
   "metadata": {},
   "source": [
    "В столбцах days_employed и total_income обнаружены пропущеннные значения"
   ]
  },
  {
   "cell_type": "code",
   "execution_count": 5,
   "id": "f3d7fd9f",
   "metadata": {},
   "outputs": [
    {
     "name": "stdout",
     "output_type": "stream",
     "text": [
      "Количество пропущенных значений в столбце: days_employed 2174 , что составляет -  10.10%\n",
      "Количество пропущенных значений в столбце: total_income 2174 , что составляет -  10.10%\n"
     ]
    }
   ],
   "source": [
    "# Вывод доли пропущеннных значений в столбцах с пропусками\n",
    "for column in Data.columns:\n",
    "    if Data[column].isna().sum():\n",
    "        print ('Количество пропущенных значений в столбце:', column, Data[column].isna().sum(),\n",
    "               ', что составляет - ', f\"{(Data[column].isna().sum()/Data.shape[0]):.2%}\")"
   ]
  },
  {
   "cell_type": "markdown",
   "id": "61d896f6",
   "metadata": {},
   "source": [
    "Возможные причины появления пропусков в данных: ошибки ввода, сокрытие информации и т.д.\n",
    "Доля пропущенных значений более 10%, что является существенным, переменные количественные, следовательно заполнение пропусков медианным значением наилучший вариант"
   ]
  },
  {
   "cell_type": "code",
   "execution_count": 6,
   "id": "4d660310",
   "metadata": {},
   "outputs": [
    {
     "name": "stdout",
     "output_type": "stream",
     "text": [
      "Медианное значение total_income: 145017.94 рублей\n",
      "Медианное значение days_employed: -1203.37\n"
     ]
    }
   ],
   "source": [
    "total_income_median = Data['total_income'].median()\n",
    "days_employed_median = Data['days_employed'].median()\n",
    "print('Медианное значение total_income: %.2f' % total_income_median, 'рублей') \n",
    "print('Медианное значение days_employed: %.2f' % days_employed_median)"
   ]
  },
  {
   "cell_type": "markdown",
   "id": "56dcac53",
   "metadata": {},
   "source": [
    "Замена пропущенных значений в столбце total_income медианными значениями по соответствующему столбцу(в соответствии с условиями задачи). Используем медиану по уровню образования и роду деятельности"
   ]
  },
  {
   "cell_type": "code",
   "execution_count": 7,
   "id": "0f591cf4",
   "metadata": {},
   "outputs": [],
   "source": [
    "import math #необходима для проверки наличия NaN"
   ]
  },
  {
   "cell_type": "markdown",
   "id": "dc075a09",
   "metadata": {},
   "source": [
    "Функция, которая будет вычислять медиану для конкретного набора по уровню образования и типа работы\n",
    "в случае, если среднее не может быть вычислено (не найдется в основных значениях группы параметров),\n",
    "возьмет среднее по одному параметру - сначала по уровню образования, потом по типу сотрудника"
   ]
  },
  {
   "cell_type": "code",
   "execution_count": 9,
   "id": "3591c9c0",
   "metadata": {},
   "outputs": [],
   "source": [
    "def calc_median_by_education_and_income(Data, education, income_type):\n",
    "    # принимаем во внимание  оба параметра\n",
    "    median = Data[(Data['education'] == education) & (Data['income_type'] == income_type)]['total_income'].median()\n",
    "    # но т.к. возможна уникальная ситуация, где нет совпадения для двух параметров, предусмотрим рассчет по первому параметру \n",
    "    if math.isnan(median):\n",
    "        median = Data[Data['education'] == education]['total_income'].median()\n",
    "        if math.isnan(median):\n",
    "            median = Data[Data['income_type'] == income_type]['total_income'].median()    \n",
    "    return median"
   ]
  },
  {
   "cell_type": "markdown",
   "id": "d6de5597",
   "metadata": {},
   "source": [
    "Проходим по всем уровням образования и типам сотрудников, что встречаются только для пустых значений и проставляем только для них медиану, соответствующую их группе"
   ]
  },
  {
   "cell_type": "code",
   "execution_count": 10,
   "id": "b85b6415",
   "metadata": {},
   "outputs": [],
   "source": [
    "for education in Data[Data['total_income'].isnull()]['education'].unique():\n",
    "    for income_type in Data[Data['total_income'].isnull()]['income_type'].unique():\n",
    "        median = calc_median_by_education_and_income(Data, education, income_type)\n",
    "        searchRow = (Data['education'] == education) & (Data['income_type'] == income_type) & (Data['total_income'].isnull())\n",
    "        Data.loc[searchRow, 'total_income'] = Data.loc[searchRow, 'total_income'].fillna(median)"
   ]
  },
  {
   "cell_type": "markdown",
   "id": "6c9e8f1e",
   "metadata": {},
   "source": [
    "Проверяем, что в income не осталось пустых значений"
   ]
  },
  {
   "cell_type": "code",
   "execution_count": 11,
   "id": "5a64d8be",
   "metadata": {},
   "outputs": [
    {
     "data": {
      "text/plain": [
       "children               0\n",
       "days_employed       2174\n",
       "dob_years              0\n",
       "education              0\n",
       "education_id           0\n",
       "family_status          0\n",
       "family_status_id       0\n",
       "gender                 0\n",
       "income_type            0\n",
       "debt                   0\n",
       "total_income           0\n",
       "purpose                0\n",
       "dtype: int64"
      ]
     },
     "execution_count": 11,
     "metadata": {},
     "output_type": "execute_result"
    }
   ],
   "source": [
    "Data.isnull().sum()"
   ]
  },
  {
   "cell_type": "markdown",
   "id": "f405843a",
   "metadata": {},
   "source": [
    "Столбец days_empoyed для целей анализа данных не нужен, а значит его можно удалить"
   ]
  },
  {
   "cell_type": "code",
   "execution_count": 12,
   "id": "2cdcee65",
   "metadata": {},
   "outputs": [
    {
     "name": "stdout",
     "output_type": "stream",
     "text": [
      "Index(['children', 'dob_years', 'education', 'education_id', 'family_status',\n",
      "       'family_status_id', 'gender', 'income_type', 'debt', 'total_income',\n",
      "       'purpose'],\n",
      "      dtype='object')\n"
     ]
    }
   ],
   "source": [
    "# Удаляем столбец 'days_employed'\n",
    "Data.drop('days_employed', axis='columns', inplace=True)\n",
    "print(Data.columns) #проверка\n",
    "\n",
    "#Data['total_income']=Data['total_income'].fillna(value=total_income_median)\n",
    "#Data['days_employed']=Data['days_employed'].fillna(value=days_employed_median)\n",
    "#print(Data.head(5) "
   ]
  },
  {
   "cell_type": "markdown",
   "id": "ce73f87f",
   "metadata": {},
   "source": [
    "Еще раз проверяем на отсутствие пустых значений "
   ]
  },
  {
   "cell_type": "code",
   "execution_count": 13,
   "id": "c8be385c",
   "metadata": {},
   "outputs": [
    {
     "data": {
      "text/plain": [
       "children            0\n",
       "dob_years           0\n",
       "education           0\n",
       "education_id        0\n",
       "family_status       0\n",
       "family_status_id    0\n",
       "gender              0\n",
       "income_type         0\n",
       "debt                0\n",
       "total_income        0\n",
       "purpose             0\n",
       "dtype: int64"
      ]
     },
     "execution_count": 13,
     "metadata": {},
     "output_type": "execute_result"
    }
   ],
   "source": [
    "Data.isnull().sum()"
   ]
  },
  {
   "cell_type": "markdown",
   "id": "5b5e6849",
   "metadata": {},
   "source": [
    "Вывод  \n",
    "Несуществующим значениям дохода (total_income) поставлена медиана, но не всей выборки, а только по конкретным категориям, к которым люди относились, что позволит получить более точную информацию и снизить возможную статистическую погрешность.\n",
    "Пропуски столбца общего трудового стажа в днях (days_employed) не учитываются, т.к. не несут значимой информации."
   ]
  },
  {
   "cell_type": "markdown",
   "id": "26142632",
   "metadata": {},
   "source": [
    "### Шаг 2.2 Проверка данных на аномалии и исправления."
   ]
  },
  {
   "cell_type": "code",
   "execution_count": 14,
   "id": "7dfd48c0",
   "metadata": {},
   "outputs": [
    {
     "name": "stdout",
     "output_type": "stream",
     "text": [
      " 0     14149\n",
      " 1      4818\n",
      " 2      2055\n",
      " 3       330\n",
      " 20       76\n",
      "-1        47\n",
      " 4        41\n",
      " 5         9\n",
      "Name: children, dtype: int64\n",
      "35    617\n",
      "40    609\n",
      "41    607\n",
      "34    603\n",
      "38    598\n",
      "42    597\n",
      "33    581\n",
      "39    573\n",
      "31    560\n",
      "36    555\n",
      "44    547\n",
      "29    545\n",
      "30    540\n",
      "48    538\n",
      "37    537\n",
      "50    514\n",
      "43    513\n",
      "32    510\n",
      "49    508\n",
      "28    503\n",
      "45    497\n",
      "27    493\n",
      "56    487\n",
      "52    484\n",
      "47    480\n",
      "54    479\n",
      "46    475\n",
      "58    461\n",
      "57    460\n",
      "53    459\n",
      "51    448\n",
      "59    444\n",
      "55    443\n",
      "26    408\n",
      "60    377\n",
      "25    357\n",
      "61    355\n",
      "62    352\n",
      "63    269\n",
      "64    265\n",
      "24    264\n",
      "23    254\n",
      "65    194\n",
      "66    183\n",
      "22    183\n",
      "67    167\n",
      "21    111\n",
      "0     101\n",
      "68     99\n",
      "69     85\n",
      "70     65\n",
      "71     58\n",
      "20     51\n",
      "72     33\n",
      "19     14\n",
      "73      8\n",
      "74      6\n",
      "75      1\n",
      "Name: dob_years, dtype: int64\n",
      "среднее                13750\n",
      "высшее                  4718\n",
      "СРЕДНЕЕ                  772\n",
      "Среднее                  711\n",
      "неоконченное высшее      668\n",
      "ВЫСШЕЕ                   274\n",
      "Высшее                   268\n",
      "начальное                250\n",
      "Неоконченное высшее       47\n",
      "НЕОКОНЧЕННОЕ ВЫСШЕЕ       29\n",
      "НАЧАЛЬНОЕ                 17\n",
      "Начальное                 15\n",
      "ученая степень             4\n",
      "УЧЕНАЯ СТЕПЕНЬ             1\n",
      "Ученая степень             1\n",
      "Name: education, dtype: int64\n",
      "1    15233\n",
      "0     5260\n",
      "2      744\n",
      "3      282\n",
      "4        6\n",
      "Name: education_id, dtype: int64\n",
      "женат / замужем          12380\n",
      "гражданский брак          4177\n",
      "Не женат / не замужем     2813\n",
      "в разводе                 1195\n",
      "вдовец / вдова             960\n",
      "Name: family_status, dtype: int64\n",
      "0    12380\n",
      "1     4177\n",
      "4     2813\n",
      "3     1195\n",
      "2      960\n",
      "Name: family_status_id, dtype: int64\n",
      "F      14236\n",
      "M       7288\n",
      "XNA        1\n",
      "Name: gender, dtype: int64\n",
      "сотрудник          11119\n",
      "компаньон           5085\n",
      "пенсионер           3856\n",
      "госслужащий         1459\n",
      "предприниматель        2\n",
      "безработный            2\n",
      "в декрете              1\n",
      "студент                1\n",
      "Name: income_type, dtype: int64\n",
      "0    19784\n",
      "1     1741\n",
      "Name: debt, dtype: int64\n",
      "136818.115423    755\n",
      "114483.373934    309\n",
      "159652.900458    274\n",
      "166164.078024    210\n",
      "201911.716329    179\n",
      "                ... \n",
      "179652.712804      1\n",
      "133299.194693      1\n",
      "115080.782380      1\n",
      "84896.781597       1\n",
      "150014.128510      1\n",
      "Name: total_income, Length: 19373, dtype: int64\n",
      "свадьба                                   797\n",
      "на проведение свадьбы                     777\n",
      "сыграть свадьбу                           774\n",
      "операции с недвижимостью                  676\n",
      "покупка коммерческой недвижимости         664\n",
      "операции с жильем                         653\n",
      "покупка жилья для сдачи                   653\n",
      "операции с коммерческой недвижимостью     651\n",
      "жилье                                     647\n",
      "покупка жилья                             647\n",
      "покупка жилья для семьи                   641\n",
      "строительство собственной недвижимости    635\n",
      "недвижимость                              634\n",
      "операции со своей недвижимостью           630\n",
      "строительство жилой недвижимости          626\n",
      "покупка недвижимости                      624\n",
      "покупка своего жилья                      620\n",
      "строительство недвижимости                620\n",
      "ремонт жилью                              612\n",
      "покупка жилой недвижимости                607\n",
      "на покупку своего автомобиля              505\n",
      "заняться высшим образованием              496\n",
      "автомобиль                                495\n",
      "сделка с подержанным автомобилем          489\n",
      "свой автомобиль                           480\n",
      "на покупку подержанного автомобиля        479\n",
      "автомобили                                478\n",
      "на покупку автомобиля                     472\n",
      "приобретение автомобиля                   462\n",
      "дополнительное образование                462\n",
      "сделка с автомобилем                      455\n",
      "высшее образование                        453\n",
      "образование                               447\n",
      "получение дополнительного образования     447\n",
      "получение образования                     443\n",
      "профильное образование                    436\n",
      "получение высшего образования             426\n",
      "заняться образованием                     412\n",
      "Name: purpose, dtype: int64\n"
     ]
    }
   ],
   "source": [
    "# Проверка данных на аномалии\n",
    "for row in Data: \n",
    "    print(Data[row].value_counts())"
   ]
  },
  {
   "cell_type": "markdown",
   "id": "6fee6b82",
   "metadata": {},
   "source": [
    "Для 'gender' строка с пропущенным значением всего одна. Ее можно исключить из выборки. "
   ]
  },
  {
   "cell_type": "code",
   "execution_count": 15,
   "id": "f76a0a0d",
   "metadata": {},
   "outputs": [],
   "source": [
    "Data = Data[Data['gender'] != 'XNA']"
   ]
  },
  {
   "cell_type": "markdown",
   "id": "58824ec6",
   "metadata": {},
   "source": [
    "В таблице есть артефакты значений в графе дети, примем -1 как бездетных, а 20 как ошибку при вводе '2'"
   ]
  },
  {
   "cell_type": "code",
   "execution_count": 16,
   "id": "46198172",
   "metadata": {},
   "outputs": [
    {
     "name": "stdout",
     "output_type": "stream",
     "text": [
      "0    14195\n",
      "1     4818\n",
      "2     2131\n",
      "3      330\n",
      "4       41\n",
      "5        9\n",
      "Name: children, dtype: int64\n",
      "<class 'pandas.core.frame.DataFrame'>\n",
      "Int64Index: 21524 entries, 0 to 21524\n",
      "Data columns (total 11 columns):\n",
      "children            21524 non-null int64\n",
      "dob_years           21524 non-null int64\n",
      "education           21524 non-null object\n",
      "education_id        21524 non-null int64\n",
      "family_status       21524 non-null object\n",
      "family_status_id    21524 non-null int64\n",
      "gender              21524 non-null object\n",
      "income_type         21524 non-null object\n",
      "debt                21524 non-null int64\n",
      "total_income        21524 non-null float64\n",
      "purpose             21524 non-null object\n",
      "dtypes: float64(1), int64(5), object(5)\n",
      "memory usage: 2.0+ MB\n"
     ]
    }
   ],
   "source": [
    "Data.loc[Data['children'] == -1, 'children'] = 0\n",
    "Data.loc[Data['children'] == 20, 'children'] = 2\n",
    "print(Data['children'].value_counts())\n",
    "#Data['days_employed'] = Data['days_employed'].apply(abs) # избавляемся от отрицательных значений days_employed\n",
    "Data.info() # проверка"
   ]
  },
  {
   "cell_type": "markdown",
   "id": "61cbdfce",
   "metadata": {},
   "source": [
    "Воможные причины появления аномальных данных: ошибки ввода информации первичными пользователями, избыточность данных, дефекты проектирования базы данных, к примеру вместо 1, введено -1. "
   ]
  },
  {
   "cell_type": "markdown",
   "id": "9c9854ae",
   "metadata": {},
   "source": [
    "### Шаг 2.3. Изменение типов данных."
   ]
  },
  {
   "cell_type": "markdown",
   "id": "f6d4d69d",
   "metadata": {},
   "source": [
    "Замените вещественный тип данных в столбце total_income на целочисленный, например, с помощью метода astype()"
   ]
  },
  {
   "cell_type": "code",
   "execution_count": 17,
   "id": "7fba920f",
   "metadata": {},
   "outputs": [
    {
     "data": {
      "text/html": [
       "<div>\n",
       "<style scoped>\n",
       "    .dataframe tbody tr th:only-of-type {\n",
       "        vertical-align: middle;\n",
       "    }\n",
       "\n",
       "    .dataframe tbody tr th {\n",
       "        vertical-align: top;\n",
       "    }\n",
       "\n",
       "    .dataframe thead th {\n",
       "        text-align: right;\n",
       "    }\n",
       "</style>\n",
       "<table border=\"1\" class=\"dataframe\">\n",
       "  <thead>\n",
       "    <tr style=\"text-align: right;\">\n",
       "      <th></th>\n",
       "      <th>children</th>\n",
       "      <th>dob_years</th>\n",
       "      <th>education</th>\n",
       "      <th>education_id</th>\n",
       "      <th>family_status</th>\n",
       "      <th>family_status_id</th>\n",
       "      <th>gender</th>\n",
       "      <th>income_type</th>\n",
       "      <th>debt</th>\n",
       "      <th>total_income</th>\n",
       "      <th>purpose</th>\n",
       "    </tr>\n",
       "  </thead>\n",
       "  <tbody>\n",
       "    <tr>\n",
       "      <td>0</td>\n",
       "      <td>1</td>\n",
       "      <td>42</td>\n",
       "      <td>высшее</td>\n",
       "      <td>0</td>\n",
       "      <td>женат / замужем</td>\n",
       "      <td>0</td>\n",
       "      <td>F</td>\n",
       "      <td>сотрудник</td>\n",
       "      <td>0</td>\n",
       "      <td>253876</td>\n",
       "      <td>покупка жилья</td>\n",
       "    </tr>\n",
       "    <tr>\n",
       "      <td>1</td>\n",
       "      <td>1</td>\n",
       "      <td>36</td>\n",
       "      <td>среднее</td>\n",
       "      <td>1</td>\n",
       "      <td>женат / замужем</td>\n",
       "      <td>0</td>\n",
       "      <td>F</td>\n",
       "      <td>сотрудник</td>\n",
       "      <td>0</td>\n",
       "      <td>112080</td>\n",
       "      <td>приобретение автомобиля</td>\n",
       "    </tr>\n",
       "    <tr>\n",
       "      <td>2</td>\n",
       "      <td>0</td>\n",
       "      <td>33</td>\n",
       "      <td>Среднее</td>\n",
       "      <td>1</td>\n",
       "      <td>женат / замужем</td>\n",
       "      <td>0</td>\n",
       "      <td>M</td>\n",
       "      <td>сотрудник</td>\n",
       "      <td>0</td>\n",
       "      <td>145886</td>\n",
       "      <td>покупка жилья</td>\n",
       "    </tr>\n",
       "    <tr>\n",
       "      <td>3</td>\n",
       "      <td>3</td>\n",
       "      <td>32</td>\n",
       "      <td>среднее</td>\n",
       "      <td>1</td>\n",
       "      <td>женат / замужем</td>\n",
       "      <td>0</td>\n",
       "      <td>M</td>\n",
       "      <td>сотрудник</td>\n",
       "      <td>0</td>\n",
       "      <td>267629</td>\n",
       "      <td>дополнительное образование</td>\n",
       "    </tr>\n",
       "    <tr>\n",
       "      <td>4</td>\n",
       "      <td>0</td>\n",
       "      <td>53</td>\n",
       "      <td>среднее</td>\n",
       "      <td>1</td>\n",
       "      <td>гражданский брак</td>\n",
       "      <td>1</td>\n",
       "      <td>F</td>\n",
       "      <td>пенсионер</td>\n",
       "      <td>0</td>\n",
       "      <td>158616</td>\n",
       "      <td>сыграть свадьбу</td>\n",
       "    </tr>\n",
       "  </tbody>\n",
       "</table>\n",
       "</div>"
      ],
      "text/plain": [
       "   children  dob_years education  education_id     family_status  \\\n",
       "0         1         42    высшее             0   женат / замужем   \n",
       "1         1         36   среднее             1   женат / замужем   \n",
       "2         0         33   Среднее             1   женат / замужем   \n",
       "3         3         32   среднее             1   женат / замужем   \n",
       "4         0         53   среднее             1  гражданский брак   \n",
       "\n",
       "   family_status_id gender income_type  debt  total_income  \\\n",
       "0                 0      F   сотрудник     0        253876   \n",
       "1                 0      F   сотрудник     0        112080   \n",
       "2                 0      M   сотрудник     0        145886   \n",
       "3                 0      M   сотрудник     0        267629   \n",
       "4                 1      F   пенсионер     0        158616   \n",
       "\n",
       "                      purpose  \n",
       "0               покупка жилья  \n",
       "1     приобретение автомобиля  \n",
       "2               покупка жилья  \n",
       "3  дополнительное образование  \n",
       "4             сыграть свадьбу  "
      ]
     },
     "execution_count": 17,
     "metadata": {},
     "output_type": "execute_result"
    }
   ],
   "source": [
    "Data['total_income'] = Data['total_income'].round().astype('int')\n",
    "Data.head() # проверка"
   ]
  },
  {
   "cell_type": "markdown",
   "id": "cef19445",
   "metadata": {},
   "source": [
    "### Шаг 2.4. Удаление дубликатов."
   ]
  },
  {
   "cell_type": "markdown",
   "id": "ea509486",
   "metadata": {},
   "source": [
    "Дубликаты можно искать двумя способами.  \n",
    "Способ 1. Во вводном курсе вы уже изучали метод duplicated().В сочетании с методом sum() он возвращает количество дубликатов. \n",
    "Если выполнить метод duplicated() без подсчёта суммы, на экране будут отображены все строки. Там, где есть дубликаты, будет значение True, где дубликата нет — False.  \n",
    "Способ 2. Вызвать метод value_counts(), который анализирует столбец, выбирает каждое уникальное значение и подсчитывает частоту его встречаемости в списке. Применяют метод к объекту Series. Результат его работы – список пар «значение-частота», \n",
    "отсортированные по убыванию. Все дубликаты, которые встречаются чаще других, оказываются в начале списка.\n",
    "Исходя из изложенного выше выбран метод duplicated() \n",
    "Основные причины возникновения дубликатов — повторные представления, неправильное соединение данных из разных источников, ошибки пользователя при занесении информации. "
   ]
  },
  {
   "cell_type": "code",
   "execution_count": 18,
   "id": "9bd1650f",
   "metadata": {},
   "outputs": [
    {
     "name": "stdout",
     "output_type": "stream",
     "text": [
      "54\n"
     ]
    }
   ],
   "source": [
    "Data['education'] = Data['education'].str.lower()# Приведем значения в столбце Уровень образованиt клиента\n",
    "# к единому регистру\n",
    "Data.sort_values('education')['education'].value_counts()\n",
    "print(Data.duplicated().sum()) "
   ]
  },
  {
   "cell_type": "markdown",
   "id": "35de4214",
   "metadata": {},
   "source": [
    "Обнаружен 54 дубликат. Удаляем и проверяем."
   ]
  },
  {
   "cell_type": "code",
   "execution_count": 19,
   "id": "f63dcbaf",
   "metadata": {},
   "outputs": [
    {
     "name": "stdout",
     "output_type": "stream",
     "text": [
      "0\n"
     ]
    }
   ],
   "source": [
    "Data = Data.drop_duplicates().reset_index()\n",
    "print(Data.duplicated().sum()) # Проверка"
   ]
  },
  {
   "cell_type": "markdown",
   "id": "7507f392",
   "metadata": {},
   "source": [
    "### Шаг 2.5. Формирование дополнительных датафреймов словарей, декомпозиция исходного датафрейма."
   ]
  },
  {
   "cell_type": "code",
   "execution_count": 20,
   "id": "6e7fe579",
   "metadata": {},
   "outputs": [],
   "source": [
    "# Словарь для education\n",
    "education_dict = Data[['education_id', 'education']]"
   ]
  },
  {
   "cell_type": "code",
   "execution_count": 21,
   "id": "ec5e8603",
   "metadata": {},
   "outputs": [
    {
     "data": {
      "text/html": [
       "<div>\n",
       "<style scoped>\n",
       "    .dataframe tbody tr th:only-of-type {\n",
       "        vertical-align: middle;\n",
       "    }\n",
       "\n",
       "    .dataframe tbody tr th {\n",
       "        vertical-align: top;\n",
       "    }\n",
       "\n",
       "    .dataframe thead th {\n",
       "        text-align: right;\n",
       "    }\n",
       "</style>\n",
       "<table border=\"1\" class=\"dataframe\">\n",
       "  <thead>\n",
       "    <tr style=\"text-align: right;\">\n",
       "      <th></th>\n",
       "      <th>education_id</th>\n",
       "      <th>education</th>\n",
       "    </tr>\n",
       "  </thead>\n",
       "  <tbody>\n",
       "    <tr>\n",
       "      <td>0</td>\n",
       "      <td>0</td>\n",
       "      <td>высшее</td>\n",
       "    </tr>\n",
       "    <tr>\n",
       "      <td>1</td>\n",
       "      <td>1</td>\n",
       "      <td>среднее</td>\n",
       "    </tr>\n",
       "    <tr>\n",
       "      <td>2</td>\n",
       "      <td>2</td>\n",
       "      <td>неоконченное высшее</td>\n",
       "    </tr>\n",
       "    <tr>\n",
       "      <td>3</td>\n",
       "      <td>3</td>\n",
       "      <td>начальное</td>\n",
       "    </tr>\n",
       "    <tr>\n",
       "      <td>4</td>\n",
       "      <td>4</td>\n",
       "      <td>ученая степень</td>\n",
       "    </tr>\n",
       "  </tbody>\n",
       "</table>\n",
       "</div>"
      ],
      "text/plain": [
       "   education_id            education\n",
       "0             0               высшее\n",
       "1             1              среднее\n",
       "2             2  неоконченное высшее\n",
       "3             3            начальное\n",
       "4             4       ученая степень"
      ]
     },
     "execution_count": 21,
     "metadata": {},
     "output_type": "execute_result"
    }
   ],
   "source": [
    "# Удаление дубликатов из словаря \n",
    "education_dict = education_dict.drop_duplicates().reset_index(drop=True)\n",
    "education_dict.head(10)# проверка"
   ]
  },
  {
   "cell_type": "code",
   "execution_count": 22,
   "id": "9c4d26a2",
   "metadata": {},
   "outputs": [],
   "source": [
    "# Словарь для family_status\n",
    "family_status_dict = Data[['family_status_id', 'family_status']]"
   ]
  },
  {
   "cell_type": "code",
   "execution_count": 23,
   "id": "9c2120c9",
   "metadata": {},
   "outputs": [
    {
     "data": {
      "text/html": [
       "<div>\n",
       "<style scoped>\n",
       "    .dataframe tbody tr th:only-of-type {\n",
       "        vertical-align: middle;\n",
       "    }\n",
       "\n",
       "    .dataframe tbody tr th {\n",
       "        vertical-align: top;\n",
       "    }\n",
       "\n",
       "    .dataframe thead th {\n",
       "        text-align: right;\n",
       "    }\n",
       "</style>\n",
       "<table border=\"1\" class=\"dataframe\">\n",
       "  <thead>\n",
       "    <tr style=\"text-align: right;\">\n",
       "      <th></th>\n",
       "      <th>family_status_id</th>\n",
       "      <th>family_status</th>\n",
       "    </tr>\n",
       "  </thead>\n",
       "  <tbody>\n",
       "    <tr>\n",
       "      <td>0</td>\n",
       "      <td>0</td>\n",
       "      <td>женат / замужем</td>\n",
       "    </tr>\n",
       "    <tr>\n",
       "      <td>1</td>\n",
       "      <td>1</td>\n",
       "      <td>гражданский брак</td>\n",
       "    </tr>\n",
       "    <tr>\n",
       "      <td>2</td>\n",
       "      <td>2</td>\n",
       "      <td>вдовец / вдова</td>\n",
       "    </tr>\n",
       "    <tr>\n",
       "      <td>3</td>\n",
       "      <td>3</td>\n",
       "      <td>в разводе</td>\n",
       "    </tr>\n",
       "    <tr>\n",
       "      <td>4</td>\n",
       "      <td>4</td>\n",
       "      <td>Не женат / не замужем</td>\n",
       "    </tr>\n",
       "  </tbody>\n",
       "</table>\n",
       "</div>"
      ],
      "text/plain": [
       "   family_status_id          family_status\n",
       "0                 0        женат / замужем\n",
       "1                 1       гражданский брак\n",
       "2                 2         вдовец / вдова\n",
       "3                 3              в разводе\n",
       "4                 4  Не женат / не замужем"
      ]
     },
     "execution_count": 23,
     "metadata": {},
     "output_type": "execute_result"
    }
   ],
   "source": [
    "# Удаление дубликатов из словаря\n",
    "family_status_dict = family_status_dict.drop_duplicates().reset_index(drop=True)\n",
    "family_status_dict.head(10) # проверка"
   ]
  },
  {
   "cell_type": "code",
   "execution_count": 24,
   "id": "90dd13df",
   "metadata": {},
   "outputs": [
    {
     "name": "stdout",
     "output_type": "stream",
     "text": [
      "<class 'pandas.core.frame.DataFrame'>\n",
      "RangeIndex: 21470 entries, 0 to 21469\n",
      "Data columns (total 10 columns):\n",
      "index               21470 non-null int64\n",
      "children            21470 non-null int64\n",
      "dob_years           21470 non-null int64\n",
      "education_id        21470 non-null int64\n",
      "family_status_id    21470 non-null int64\n",
      "gender              21470 non-null object\n",
      "income_type         21470 non-null object\n",
      "debt                21470 non-null int64\n",
      "total_income        21470 non-null int64\n",
      "purpose             21470 non-null object\n",
      "dtypes: int64(7), object(3)\n",
      "memory usage: 1.6+ MB\n"
     ]
    }
   ],
   "source": [
    "# Удаление столбцов education и family_status из основной таблицы\n",
    "Data.pop('education')\n",
    "Data.pop('family_status')\n",
    "Data.info()#проверка "
   ]
  },
  {
   "cell_type": "markdown",
   "id": "cac3a603",
   "metadata": {},
   "source": [
    "### Шаг 2.6. Категоризация дохода."
   ]
  },
  {
   "cell_type": "markdown",
   "id": "0db0ed5e",
   "metadata": {},
   "source": [
    "На основании диапазонов, указанных в задании, создайем столбец total_income_category с категориями: \n",
    "0–30000 — 'E';\n",
    "30001–50000 — 'D';\n",
    "50001–200000 — 'C';\n",
    "200001 - 1000000 'B'\n",
    "1000001 и выше — 'A'."
   ]
  },
  {
   "cell_type": "code",
   "execution_count": 38,
   "id": "ef6162b0",
   "metadata": {},
   "outputs": [
    {
     "name": "stdout",
     "output_type": "stream",
     "text": [
      "<class 'pandas.core.frame.DataFrame'>\n",
      "RangeIndex: 21470 entries, 0 to 21469\n",
      "Data columns (total 12 columns):\n",
      "index                    21470 non-null int64\n",
      "children                 21470 non-null int64\n",
      "dob_years                21470 non-null int64\n",
      "education_id             21470 non-null int64\n",
      "family_status_id         21470 non-null int64\n",
      "gender                   21470 non-null object\n",
      "income_type              21470 non-null object\n",
      "debt                     21470 non-null int64\n",
      "total_income             21470 non-null int64\n",
      "purpose                  21470 non-null object\n",
      "total_income_category    21470 non-null object\n",
      "purpose_category         21470 non-null object\n",
      "dtypes: int64(7), object(5)\n",
      "memory usage: 2.0+ MB\n"
     ]
    },
    {
     "data": {
      "text/html": [
       "<div>\n",
       "<style scoped>\n",
       "    .dataframe tbody tr th:only-of-type {\n",
       "        vertical-align: middle;\n",
       "    }\n",
       "\n",
       "    .dataframe tbody tr th {\n",
       "        vertical-align: top;\n",
       "    }\n",
       "\n",
       "    .dataframe thead th {\n",
       "        text-align: right;\n",
       "    }\n",
       "</style>\n",
       "<table border=\"1\" class=\"dataframe\">\n",
       "  <thead>\n",
       "    <tr style=\"text-align: right;\">\n",
       "      <th></th>\n",
       "      <th>index</th>\n",
       "      <th>children</th>\n",
       "      <th>dob_years</th>\n",
       "      <th>education_id</th>\n",
       "      <th>family_status_id</th>\n",
       "      <th>gender</th>\n",
       "      <th>income_type</th>\n",
       "      <th>debt</th>\n",
       "      <th>total_income</th>\n",
       "      <th>purpose</th>\n",
       "      <th>total_income_category</th>\n",
       "      <th>purpose_category</th>\n",
       "    </tr>\n",
       "  </thead>\n",
       "  <tbody>\n",
       "    <tr>\n",
       "      <td>0</td>\n",
       "      <td>0</td>\n",
       "      <td>1</td>\n",
       "      <td>42</td>\n",
       "      <td>0</td>\n",
       "      <td>0</td>\n",
       "      <td>F</td>\n",
       "      <td>сотрудник</td>\n",
       "      <td>0</td>\n",
       "      <td>253876</td>\n",
       "      <td>покупка жилья</td>\n",
       "      <td>B</td>\n",
       "      <td>операции с недвижимостью</td>\n",
       "    </tr>\n",
       "    <tr>\n",
       "      <td>1</td>\n",
       "      <td>1</td>\n",
       "      <td>1</td>\n",
       "      <td>36</td>\n",
       "      <td>1</td>\n",
       "      <td>0</td>\n",
       "      <td>F</td>\n",
       "      <td>сотрудник</td>\n",
       "      <td>0</td>\n",
       "      <td>112080</td>\n",
       "      <td>приобретение автомобиля</td>\n",
       "      <td>C</td>\n",
       "      <td>операции с автомобилем</td>\n",
       "    </tr>\n",
       "    <tr>\n",
       "      <td>2</td>\n",
       "      <td>2</td>\n",
       "      <td>0</td>\n",
       "      <td>33</td>\n",
       "      <td>1</td>\n",
       "      <td>0</td>\n",
       "      <td>M</td>\n",
       "      <td>сотрудник</td>\n",
       "      <td>0</td>\n",
       "      <td>145886</td>\n",
       "      <td>покупка жилья</td>\n",
       "      <td>C</td>\n",
       "      <td>операции с недвижимостью</td>\n",
       "    </tr>\n",
       "    <tr>\n",
       "      <td>3</td>\n",
       "      <td>3</td>\n",
       "      <td>3</td>\n",
       "      <td>32</td>\n",
       "      <td>1</td>\n",
       "      <td>0</td>\n",
       "      <td>M</td>\n",
       "      <td>сотрудник</td>\n",
       "      <td>0</td>\n",
       "      <td>267629</td>\n",
       "      <td>дополнительное образование</td>\n",
       "      <td>B</td>\n",
       "      <td>получение образования</td>\n",
       "    </tr>\n",
       "    <tr>\n",
       "      <td>4</td>\n",
       "      <td>4</td>\n",
       "      <td>0</td>\n",
       "      <td>53</td>\n",
       "      <td>1</td>\n",
       "      <td>1</td>\n",
       "      <td>F</td>\n",
       "      <td>пенсионер</td>\n",
       "      <td>0</td>\n",
       "      <td>158616</td>\n",
       "      <td>сыграть свадьбу</td>\n",
       "      <td>C</td>\n",
       "      <td>проведение свадьбы</td>\n",
       "    </tr>\n",
       "    <tr>\n",
       "      <td>5</td>\n",
       "      <td>5</td>\n",
       "      <td>0</td>\n",
       "      <td>27</td>\n",
       "      <td>0</td>\n",
       "      <td>1</td>\n",
       "      <td>M</td>\n",
       "      <td>компаньон</td>\n",
       "      <td>0</td>\n",
       "      <td>255764</td>\n",
       "      <td>покупка жилья</td>\n",
       "      <td>B</td>\n",
       "      <td>операции с недвижимостью</td>\n",
       "    </tr>\n",
       "    <tr>\n",
       "      <td>6</td>\n",
       "      <td>6</td>\n",
       "      <td>0</td>\n",
       "      <td>43</td>\n",
       "      <td>0</td>\n",
       "      <td>0</td>\n",
       "      <td>F</td>\n",
       "      <td>компаньон</td>\n",
       "      <td>0</td>\n",
       "      <td>240526</td>\n",
       "      <td>операции с жильем</td>\n",
       "      <td>B</td>\n",
       "      <td>операции с недвижимостью</td>\n",
       "    </tr>\n",
       "    <tr>\n",
       "      <td>7</td>\n",
       "      <td>7</td>\n",
       "      <td>0</td>\n",
       "      <td>50</td>\n",
       "      <td>1</td>\n",
       "      <td>0</td>\n",
       "      <td>M</td>\n",
       "      <td>сотрудник</td>\n",
       "      <td>0</td>\n",
       "      <td>135824</td>\n",
       "      <td>образование</td>\n",
       "      <td>C</td>\n",
       "      <td>получение образования</td>\n",
       "    </tr>\n",
       "    <tr>\n",
       "      <td>8</td>\n",
       "      <td>8</td>\n",
       "      <td>2</td>\n",
       "      <td>35</td>\n",
       "      <td>0</td>\n",
       "      <td>1</td>\n",
       "      <td>F</td>\n",
       "      <td>сотрудник</td>\n",
       "      <td>0</td>\n",
       "      <td>95857</td>\n",
       "      <td>на проведение свадьбы</td>\n",
       "      <td>C</td>\n",
       "      <td>проведение свадьбы</td>\n",
       "    </tr>\n",
       "    <tr>\n",
       "      <td>9</td>\n",
       "      <td>9</td>\n",
       "      <td>0</td>\n",
       "      <td>41</td>\n",
       "      <td>1</td>\n",
       "      <td>0</td>\n",
       "      <td>M</td>\n",
       "      <td>сотрудник</td>\n",
       "      <td>0</td>\n",
       "      <td>144426</td>\n",
       "      <td>покупка жилья для семьи</td>\n",
       "      <td>C</td>\n",
       "      <td>операции с недвижимостью</td>\n",
       "    </tr>\n",
       "    <tr>\n",
       "      <td>10</td>\n",
       "      <td>10</td>\n",
       "      <td>2</td>\n",
       "      <td>36</td>\n",
       "      <td>0</td>\n",
       "      <td>0</td>\n",
       "      <td>M</td>\n",
       "      <td>компаньон</td>\n",
       "      <td>0</td>\n",
       "      <td>113943</td>\n",
       "      <td>покупка недвижимости</td>\n",
       "      <td>C</td>\n",
       "      <td>операции с недвижимостью</td>\n",
       "    </tr>\n",
       "    <tr>\n",
       "      <td>11</td>\n",
       "      <td>11</td>\n",
       "      <td>0</td>\n",
       "      <td>40</td>\n",
       "      <td>1</td>\n",
       "      <td>0</td>\n",
       "      <td>F</td>\n",
       "      <td>сотрудник</td>\n",
       "      <td>0</td>\n",
       "      <td>77069</td>\n",
       "      <td>покупка коммерческой недвижимости</td>\n",
       "      <td>C</td>\n",
       "      <td>операции с недвижимостью</td>\n",
       "    </tr>\n",
       "    <tr>\n",
       "      <td>12</td>\n",
       "      <td>12</td>\n",
       "      <td>0</td>\n",
       "      <td>65</td>\n",
       "      <td>1</td>\n",
       "      <td>1</td>\n",
       "      <td>M</td>\n",
       "      <td>пенсионер</td>\n",
       "      <td>0</td>\n",
       "      <td>114483</td>\n",
       "      <td>сыграть свадьбу</td>\n",
       "      <td>C</td>\n",
       "      <td>проведение свадьбы</td>\n",
       "    </tr>\n",
       "    <tr>\n",
       "      <td>13</td>\n",
       "      <td>13</td>\n",
       "      <td>0</td>\n",
       "      <td>54</td>\n",
       "      <td>2</td>\n",
       "      <td>0</td>\n",
       "      <td>F</td>\n",
       "      <td>сотрудник</td>\n",
       "      <td>0</td>\n",
       "      <td>130458</td>\n",
       "      <td>приобретение автомобиля</td>\n",
       "      <td>C</td>\n",
       "      <td>операции с автомобилем</td>\n",
       "    </tr>\n",
       "    <tr>\n",
       "      <td>14</td>\n",
       "      <td>14</td>\n",
       "      <td>0</td>\n",
       "      <td>56</td>\n",
       "      <td>0</td>\n",
       "      <td>1</td>\n",
       "      <td>F</td>\n",
       "      <td>компаньон</td>\n",
       "      <td>1</td>\n",
       "      <td>165128</td>\n",
       "      <td>покупка жилой недвижимости</td>\n",
       "      <td>C</td>\n",
       "      <td>операции с недвижимостью</td>\n",
       "    </tr>\n",
       "  </tbody>\n",
       "</table>\n",
       "</div>"
      ],
      "text/plain": [
       "    index  children  dob_years  education_id  family_status_id gender  \\\n",
       "0       0         1         42             0                 0      F   \n",
       "1       1         1         36             1                 0      F   \n",
       "2       2         0         33             1                 0      M   \n",
       "3       3         3         32             1                 0      M   \n",
       "4       4         0         53             1                 1      F   \n",
       "5       5         0         27             0                 1      M   \n",
       "6       6         0         43             0                 0      F   \n",
       "7       7         0         50             1                 0      M   \n",
       "8       8         2         35             0                 1      F   \n",
       "9       9         0         41             1                 0      M   \n",
       "10     10         2         36             0                 0      M   \n",
       "11     11         0         40             1                 0      F   \n",
       "12     12         0         65             1                 1      M   \n",
       "13     13         0         54             2                 0      F   \n",
       "14     14         0         56             0                 1      F   \n",
       "\n",
       "   income_type  debt  total_income                            purpose  \\\n",
       "0    сотрудник     0        253876                      покупка жилья   \n",
       "1    сотрудник     0        112080            приобретение автомобиля   \n",
       "2    сотрудник     0        145886                      покупка жилья   \n",
       "3    сотрудник     0        267629         дополнительное образование   \n",
       "4    пенсионер     0        158616                    сыграть свадьбу   \n",
       "5    компаньон     0        255764                      покупка жилья   \n",
       "6    компаньон     0        240526                  операции с жильем   \n",
       "7    сотрудник     0        135824                        образование   \n",
       "8    сотрудник     0         95857              на проведение свадьбы   \n",
       "9    сотрудник     0        144426            покупка жилья для семьи   \n",
       "10   компаньон     0        113943               покупка недвижимости   \n",
       "11   сотрудник     0         77069  покупка коммерческой недвижимости   \n",
       "12   пенсионер     0        114483                    сыграть свадьбу   \n",
       "13   сотрудник     0        130458            приобретение автомобиля   \n",
       "14   компаньон     1        165128         покупка жилой недвижимости   \n",
       "\n",
       "   total_income_category          purpose_category  \n",
       "0                      B  операции с недвижимостью  \n",
       "1                      C    операции с автомобилем  \n",
       "2                      C  операции с недвижимостью  \n",
       "3                      B     получение образования  \n",
       "4                      C        проведение свадьбы  \n",
       "5                      B  операции с недвижимостью  \n",
       "6                      B  операции с недвижимостью  \n",
       "7                      C     получение образования  \n",
       "8                      C        проведение свадьбы  \n",
       "9                      C  операции с недвижимостью  \n",
       "10                     C  операции с недвижимостью  \n",
       "11                     C  операции с недвижимостью  \n",
       "12                     C        проведение свадьбы  \n",
       "13                     C    операции с автомобилем  \n",
       "14                     C  операции с недвижимостью  "
      ]
     },
     "execution_count": 38,
     "metadata": {},
     "output_type": "execute_result"
    }
   ],
   "source": [
    "def income_group(row):\n",
    "    income = row['total_income']\n",
    "    if income <= 30000:\n",
    "        return 'E'\n",
    "    if income <= 50000 and income > 30000:\n",
    "        return 'D'\n",
    "    if income <= 200000 and income > 50000:\n",
    "        return 'C'\n",
    "    if income <= 10000000 and income > 200000:\n",
    "        return 'B'\n",
    "    if income > 10000000:\n",
    "        return 'A'\n",
    "\n",
    "Data['total_income_category'] = Data.apply(income_group, axis=1)\n",
    "\n",
    "Data.info()#проверка\n",
    "Data.head(15) # проверка"
   ]
  },
  {
   "cell_type": "markdown",
   "id": "904b5c29",
   "metadata": {},
   "source": [
    "### Шаг 2.7. Категоризация целей кредита."
   ]
  },
  {
   "cell_type": "markdown",
   "id": "51767718",
   "metadata": {},
   "source": [
    " Создание функции, которая на основании данных из столбца purpose сформирует новый столбец purpose_category, в который \n",
    "войдут следующие категории: 'операции с автомобилем', 'операции с недвижимостью', 'проведение свадьбы',\n",
    "'получение образования'."
   ]
  },
  {
   "cell_type": "code",
   "execution_count": 26,
   "id": "f9af66a3",
   "metadata": {
    "scrolled": true
   },
   "outputs": [
    {
     "name": "stdout",
     "output_type": "stream",
     "text": [
      "<class 'pandas.core.frame.DataFrame'>\n",
      "RangeIndex: 21470 entries, 0 to 21469\n",
      "Data columns (total 12 columns):\n",
      "index                    21470 non-null int64\n",
      "children                 21470 non-null int64\n",
      "dob_years                21470 non-null int64\n",
      "education_id             21470 non-null int64\n",
      "family_status_id         21470 non-null int64\n",
      "gender                   21470 non-null object\n",
      "income_type              21470 non-null object\n",
      "debt                     21470 non-null int64\n",
      "total_income             21470 non-null int64\n",
      "purpose                  21470 non-null object\n",
      "total_income_category    21470 non-null object\n",
      "purpose_category         21470 non-null object\n",
      "dtypes: int64(7), object(5)\n",
      "memory usage: 2.0+ MB\n",
      "операции с недвижимостью    10813\n",
      "операции с автомобилем       4308\n",
      "получение образования        4014\n",
      "проведение свадьбы           2335\n",
      "Name: purpose_category, dtype: int64\n"
     ]
    }
   ],
   "source": [
    "def purpose_cat(list):\n",
    "    if 'автомобил' in list:\n",
    "        return \"операции с автомобилем\"\n",
    "    if \"образовани\" in list:\n",
    "        return \"получение образования\"\n",
    "    if \"свадьб\" in list:\n",
    "        return \"проведение свадьбы\"\n",
    "    if \"недвижимость\" or \"жиль\" in list:\n",
    "        return \"операции с недвижимостью\"\n",
    "Data['purpose_category'] = Data['purpose'].apply(purpose_cat)\n",
    "\n",
    "Data.info()#проверка\n",
    "#Data.head(50) # проверка\n",
    "print(Data['purpose_category'].value_counts())"
   ]
  },
  {
   "cell_type": "markdown",
   "id": "b1132cb6",
   "metadata": {},
   "source": [
    "Расчет Зависимость между количеством детей и возвратом кредита в срок (для ответов на поставленные вопросы и выводов) функция, что посчитает нам отношение в процентах, будем использовать для ответов на все вопросы"
   ]
  },
  {
   "cell_type": "code",
   "execution_count": 27,
   "id": "6e58c914",
   "metadata": {},
   "outputs": [],
   "source": [
    "def make_proportion(pdSerises):\n",
    "    return str(round((pdSerises.sum() / pdSerises.count()) * 100, 2)) + '%'"
   ]
  },
  {
   "cell_type": "markdown",
   "id": "6743c92c",
   "metadata": {},
   "source": [
    "Построим сводную таблицу для ответа на вопрос"
   ]
  },
  {
   "cell_type": "code",
   "execution_count": 28,
   "id": "bd90d77f",
   "metadata": {},
   "outputs": [],
   "source": [
    "children_to_debt_relation = Data.pivot_table(index=['children'], values=[\"debt\"], aggfunc=['sum', 'count', make_proportion])"
   ]
  },
  {
   "cell_type": "markdown",
   "id": "a456d7f9",
   "metadata": {},
   "source": [
    "Сортируем, чтобы сразу видеть у кого ситуация лучше"
   ]
  },
  {
   "cell_type": "code",
   "execution_count": 29,
   "id": "b962f4fa",
   "metadata": {
    "scrolled": true
   },
   "outputs": [
    {
     "name": "stdout",
     "output_type": "stream",
     "text": [
      "Зависимость между количеством детей и возвратом кредита в срок\n",
      "           sum  count make_proportion\n",
      "          debt   debt            debt\n",
      "children                             \n",
      "5            0      9            0.0%\n",
      "0         1064  14153           7.52%\n",
      "3           27    330           8.18%\n",
      "1          444   4809           9.23%\n",
      "2          202   2128           9.49%\n",
      "4            4     41           9.76%\n"
     ]
    }
   ],
   "source": [
    "children_to_debt_relation = children_to_debt_relation.sort_values(by=('make_proportion', 'debt'))\n",
    "print('Зависимость между количеством детей и возвратом кредита в срок')\n",
    "print(children_to_debt_relation)"
   ]
  },
  {
   "cell_type": "markdown",
   "id": "4791832a",
   "metadata": {},
   "source": [
    "Вывод  \n",
    "Если нет детей, то вероятность возникновения задолженности чуть ниже, чем при их наличии. При этом, не зависимо от количества детей, задолженность возникает примерно на том же уровне, существенной разницы в вероятности просрочки не наблюдается. Цифры в отношении семей с пятью детьми не принимаем во внимание по причине не существенного размера выборки.    "
   ]
  },
  {
   "cell_type": "markdown",
   "id": "ac66697f",
   "metadata": {},
   "source": [
    "Расчет Зависимость между семейным положением и возвратом кредита в срок(для ответов на поставленные вопросы и выводов)\n",
    "поскольку мы до этого удаляли из основных данных текстовые значения family_status, тут необходимо их вернуть"
   ]
  },
  {
   "cell_type": "code",
   "execution_count": 30,
   "id": "23da21d6",
   "metadata": {},
   "outputs": [],
   "source": [
    "Data_with_family_status = Data.merge(family_status_dict, on='family_status_id', how='left')"
   ]
  },
  {
   "cell_type": "markdown",
   "id": "86638329",
   "metadata": {},
   "source": [
    "Построим сводную таблицу для ответа на вопрос (по фрейму со значениями из словаря)"
   ]
  },
  {
   "cell_type": "code",
   "execution_count": 31,
   "id": "d9ce638e",
   "metadata": {},
   "outputs": [],
   "source": [
    "family_status_to_debt_relation = Data_with_family_status.pivot_table(index=['family_status'], values=[\"debt\"], aggfunc=['sum', 'count', make_proportion])"
   ]
  },
  {
   "cell_type": "markdown",
   "id": "ade33d8a",
   "metadata": {},
   "source": [
    "Сортируем, чтобы сразу видеть у кого ситуация лучше"
   ]
  },
  {
   "cell_type": "code",
   "execution_count": 32,
   "id": "356e9cda",
   "metadata": {},
   "outputs": [
    {
     "name": "stdout",
     "output_type": "stream",
     "text": [
      "Зависимость между семейным положением и возвратом кредита в срок\n",
      "                       sum  count make_proportion\n",
      "                      debt   debt            debt\n",
      "family_status                                    \n",
      "вдовец / вдова          63    959           6.57%\n",
      "в разводе               85   1195           7.11%\n",
      "женат / замужем        931  12344           7.54%\n",
      "гражданский брак       388   4162           9.32%\n",
      "Не женат / не замужем  274   2810           9.75%\n"
     ]
    }
   ],
   "source": [
    "family_status_to_debt_relation = family_status_to_debt_relation.sort_values(by=('make_proportion', 'debt'))\n",
    "print('Зависимость между семейным положением и возвратом кредита в срок')\n",
    "print(family_status_to_debt_relation)"
   ]
  },
  {
   "cell_type": "markdown",
   "id": "a322fa2c",
   "metadata": {},
   "source": [
    "Вывод  \n",
    "Как следует из проанализированной информации наиболее надежная категория заемщиков вдовец/вдова и люди в разводе. Возможная причина этого - отсутствие иных членов семьи, в связи с чем  кредит берется более осознанно. Самая \"ненадежная\" категория заемщиков - неженатые и состоящие в гражданском браке.  "
   ]
  },
  {
   "cell_type": "markdown",
   "id": "993532cd",
   "metadata": {},
   "source": [
    "Расчет Зависимость между уровнем дохода и возвратом кредита в срок ((для ответов на поставленные вопросы и выводов)построим сводную таблицу для ответа на вопрос"
   ]
  },
  {
   "cell_type": "code",
   "execution_count": 33,
   "id": "9450b393",
   "metadata": {},
   "outputs": [],
   "source": [
    "total_income_to_debt_relation = Data.pivot_table(index=['total_income_category'], values=[\"debt\"], aggfunc=['sum', 'count', make_proportion])"
   ]
  },
  {
   "cell_type": "markdown",
   "id": "1a2b9c6a",
   "metadata": {},
   "source": [
    "Сортируем, чтобы сразу видеть у кого ситуация лучше"
   ]
  },
  {
   "cell_type": "code",
   "execution_count": 34,
   "id": "efac8455",
   "metadata": {},
   "outputs": [
    {
     "name": "stdout",
     "output_type": "stream",
     "text": [
      "Зависимость между уровнем дохода и возвратом кредита в срок\n",
      "                        sum  count make_proportion\n",
      "                       debt   debt            debt\n",
      "total_income_category                             \n",
      "D                        21    350            6.0%\n",
      "B                       366   5248           6.97%\n",
      "C                      1352  15850           8.53%\n",
      "E                         2     22           9.09%\n"
     ]
    }
   ],
   "source": [
    "total_income_to_debt_relation = total_income_to_debt_relation.sort_values(by=('make_proportion', 'debt'))\n",
    "print('Зависимость между уровнем дохода и возвратом кредита в срок')\n",
    "print(total_income_to_debt_relation)"
   ]
  },
  {
   "cell_type": "markdown",
   "id": "ab90bb34",
   "metadata": {},
   "source": [
    "Вывод  \n",
    "Из полученной информации очевидно, что меньше всего просрочка у заемщиков с доходом в диапазоне (от 30 001 до 50 000 руб), при этом у самых малообеспеченных (от 0 до 30 000) процент просрочки максимальный. Также \"опасной\" группой заемщиков с доходами 500001 - 200000 - у условного \"зарабатывающего и потребляющего\" среднего класса. \n"
   ]
  },
  {
   "cell_type": "markdown",
   "id": "ddc971a3",
   "metadata": {},
   "source": [
    "Расчет Зависимость между целями кредита и его возврата в срок (для ответов на поставленные вопросы и выводов) построим сводную таблицу для ответа на вопрос"
   ]
  },
  {
   "cell_type": "code",
   "execution_count": 35,
   "id": "90a53379",
   "metadata": {},
   "outputs": [],
   "source": [
    "purpose_category_to_debt_relation = Data.pivot_table(index=['purpose_category'], values=[\"debt\"], aggfunc=['sum', 'count', make_proportion])"
   ]
  },
  {
   "cell_type": "markdown",
   "id": "f32d2d0e",
   "metadata": {},
   "source": [
    "Сортируем, чтобы сразу видеть у кого ситуация лучше"
   ]
  },
  {
   "cell_type": "code",
   "execution_count": 36,
   "id": "05042ec1",
   "metadata": {},
   "outputs": [
    {
     "name": "stdout",
     "output_type": "stream",
     "text": [
      "Зависимость между целями кредита и его возврата в срок\n",
      "                          sum  count make_proportion\n",
      "                         debt   debt            debt\n",
      "purpose_category                                    \n",
      "операции с недвижимостью  782  10813           7.23%\n",
      "проведение свадьбы        186   2335           7.97%\n",
      "получение образования     370   4014           9.22%\n",
      "операции с автомобилем    403   4308           9.35%\n"
     ]
    }
   ],
   "source": [
    "purpose_category_to_debt_relation = purpose_category_to_debt_relation.sort_values(by=('make_proportion', 'debt'))\n",
    "print('Зависимость между целями кредита и его возврата в срок') \n",
    "print(purpose_category_to_debt_relation)"
   ]
  },
  {
   "cell_type": "markdown",
   "id": "fd76ee65",
   "metadata": {},
   "source": [
    "Вывод  \n",
    "Из полученной информации очевидно, что выгоднее всего давать кредиты на недвижимость, а автомобиль и образование - в зоне риска. Хоть абсолютная разница между соответствующими показателями относительно друг друга не такая большая.  "
   ]
  },
  {
   "cell_type": "markdown",
   "id": "a44cdb07",
   "metadata": {},
   "source": [
    "##### Вопрос 1:"
   ]
  },
  {
   "cell_type": "markdown",
   "id": "3da3227e",
   "metadata": {},
   "source": [
    "•\tЕсть ли зависимость между количеством детей и возвратом кредита в срок? \n",
    "•\tЕсть ли зависимость между семейным положением и возвратом кредита в срок? \n",
    "•\tЕсть ли зависимость между уровнем дохода и возвратом кредита в срок? \n",
    "•\tКак разные цели кредита влияют на его возврат в срок? \n"
   ]
  },
  {
   "cell_type": "markdown",
   "id": "e4868789",
   "metadata": {},
   "source": [
    "##### Вывод 1:"
   ]
  },
  {
   "cell_type": "markdown",
   "id": "f28057ac",
   "metadata": {},
   "source": [
    "Да, указанные зависимости наблюдаются, пояснения по ним указаны непосредственно после каждой расчетной таблицей.\n",
    "\n",
    "\n",
    "\n",
    "\n",
    "\n",
    "\n"
   ]
  },
  {
   "cell_type": "markdown",
   "id": "5428650c",
   "metadata": {},
   "source": [
    "## Общий вывод:"
   ]
  },
  {
   "cell_type": "markdown",
   "id": "0b9a09f3",
   "metadata": {},
   "source": [
    "Проведенный анализ показывает, что самый лучший заемщик - это: \n",
    "    - человек без детей; \n",
    "    - состоявший ранее в официальных отношениях; \n",
    "    - имеющий уровень дохода ниже среднего или средний; \n",
    "    - берущий кредит на недвижимость. \n",
    "\"Разброс\" просроченных выплат по каждой из категорий респондентов примерно одинаковый. В среднем, это диапазоны от 7 до 9 процентов. В остальном разница в абсолютных цифрах не такая большая. Однако в относительных разница составляет в среднем 2 процента, что означает разницу в вероятности просрочки платежа на 20% между более и менее надежными заемщиками \n",
    "\n",
    "Более детально по категориям: \n",
    "Влияние количества детей на вероятность просрочки платежа \n",
    "5 детей 0.0% (не принимаем в расчет) \n",
    "0 детей 7.53% \n",
    "3 ребенка 8.18% \n",
    "1 ребенок 9.23% \n",
    "2 ребенка 9.49% \n",
    "4 ребенка 9.76% \n",
    "Абсолютная разница между минимальным и максимальным значением - 2.23% \n",
    "Относительная разница между минимальным и максимальным значением - 22.84% \n",
    "\n",
    "Влияние семейного положения на вероятность просрочки платежа \n",
    "вдовец / вдова         6.57% \n",
    "в разводе              7.11% \n",
    "женат / замужем        7.55% \n",
    "гражданский брак       9.35% \n",
    "Не женат / не замужем  9.75% \n",
    "Абсолютная разница между минимальным и максимальным значением - 3.18% \n",
    "Относительная разница между минимальным и максимальным значением - 32.61% \n",
    "\n",
    "Влияние уровня дохода на просрочку платежа \n",
    "D 30001–50000    6.0% \n",
    "B 200001-1000000 7.07% \n",
    "C 50001–200000   8.49% \n",
    "E 0–30000        9.09% \n",
    "Абсолютная разница между минимальным и максимальным значением - 3.09% \n",
    "Относительная разница между минимальным и максимальным значением - 33.99% \n",
    "\n",
    "Влияние цели кредита на вероятность возврата кредита в срок \n",
    "операции с недвижимостью  7.23% \n",
    "проведение свадьбы        8.0% \n",
    "получение образования     9.22% \n",
    "операции с автомобилем    9.36% \n",
    "Абсолютная разница между минимальным и максимальным значением - 2.13% \n",
    "Относительная разница между минимальным и максимальным значением - 22.75% \n",
    "\n",
    "Таким образом, несмотря на схожий в процентном отношении разброс значений, вероятность просрочки зависит от (по убыванию): \n",
    "    - уровеня дохода \n",
    "    - семейного положения \n",
    "    - количество детей \n",
    "    - цель кредитования.  \n",
    "Условно \"идеальный заемщик\" - это респондент с относительно не большимим (но не минимальными) доходами, разведенный или вдова/вдовец. \n",
    " "
   ]
  }
 ],
 "metadata": {
  "ExecuteTimeLog": [
   {
    "duration": 680,
    "start_time": "2022-02-22T09:21:46.507Z"
   },
   {
    "duration": 10,
    "start_time": "2022-02-22T09:25:44.021Z"
   },
   {
    "duration": 12,
    "start_time": "2022-02-22T09:41:05.659Z"
   },
   {
    "duration": 12,
    "start_time": "2022-02-22T09:41:39.571Z"
   },
   {
    "duration": 254,
    "start_time": "2022-02-22T09:42:50.011Z"
   },
   {
    "duration": 17,
    "start_time": "2022-02-22T09:43:24.309Z"
   },
   {
    "duration": 17,
    "start_time": "2022-02-22T09:47:42.369Z"
   },
   {
    "duration": 27,
    "start_time": "2022-02-22T09:57:45.119Z"
   },
   {
    "duration": 33,
    "start_time": "2022-02-22T09:59:16.906Z"
   },
   {
    "duration": 247,
    "start_time": "2022-02-22T10:00:29.636Z"
   },
   {
    "duration": 60,
    "start_time": "2022-02-22T10:01:35.330Z"
   },
   {
    "duration": 241,
    "start_time": "2022-02-22T10:01:51.085Z"
   },
   {
    "duration": 236,
    "start_time": "2022-02-22T10:02:07.989Z"
   },
   {
    "duration": 201,
    "start_time": "2022-02-22T10:02:21.346Z"
   },
   {
    "duration": 34,
    "start_time": "2022-02-22T10:02:51.870Z"
   },
   {
    "duration": 33,
    "start_time": "2022-02-22T10:03:13.243Z"
   },
   {
    "duration": 64,
    "start_time": "2022-02-22T10:03:40.836Z"
   },
   {
    "duration": 61,
    "start_time": "2022-02-22T10:03:46.603Z"
   },
   {
    "duration": 32,
    "start_time": "2022-02-22T10:04:09.380Z"
   },
   {
    "duration": 76,
    "start_time": "2022-02-22T10:05:58.632Z"
   },
   {
    "duration": 60,
    "start_time": "2022-02-22T10:06:05.391Z"
   },
   {
    "duration": 31,
    "start_time": "2022-02-22T10:06:42.688Z"
   },
   {
    "duration": 32,
    "start_time": "2022-02-22T10:06:54.486Z"
   },
   {
    "duration": 198,
    "start_time": "2022-02-22T10:18:41.756Z"
   },
   {
    "duration": 202,
    "start_time": "2022-02-22T10:19:03.344Z"
   },
   {
    "duration": 33,
    "start_time": "2022-02-22T10:20:19.949Z"
   },
   {
    "duration": 27,
    "start_time": "2022-02-22T10:21:01.859Z"
   },
   {
    "duration": 28,
    "start_time": "2022-02-22T10:21:34.204Z"
   },
   {
    "duration": 195,
    "start_time": "2022-02-22T10:28:21.205Z"
   },
   {
    "duration": 34,
    "start_time": "2022-02-22T10:29:05.836Z"
   },
   {
    "duration": 29,
    "start_time": "2022-02-22T10:30:12.004Z"
   },
   {
    "duration": 28,
    "start_time": "2022-02-22T10:30:32.493Z"
   },
   {
    "duration": 29,
    "start_time": "2022-02-22T10:30:57.743Z"
   },
   {
    "duration": 316,
    "start_time": "2022-02-22T10:35:13.682Z"
   },
   {
    "duration": 31,
    "start_time": "2022-02-22T10:35:33.504Z"
   },
   {
    "duration": 31,
    "start_time": "2022-02-22T10:37:23.021Z"
   },
   {
    "duration": 29,
    "start_time": "2022-02-22T10:38:10.142Z"
   },
   {
    "duration": 298,
    "start_time": "2022-02-22T10:46:59.932Z"
   },
   {
    "duration": 33,
    "start_time": "2022-02-22T10:51:12.837Z"
   },
   {
    "duration": 201,
    "start_time": "2022-02-22T10:58:02.847Z"
   },
   {
    "duration": 203,
    "start_time": "2022-02-22T10:58:31.445Z"
   },
   {
    "duration": 194,
    "start_time": "2022-02-22T10:59:07.369Z"
   },
   {
    "duration": 197,
    "start_time": "2022-02-22T10:59:39.970Z"
   },
   {
    "duration": 194,
    "start_time": "2022-02-22T10:59:57.000Z"
   },
   {
    "duration": 5,
    "start_time": "2022-02-22T11:03:37.103Z"
   },
   {
    "duration": 197,
    "start_time": "2022-02-22T11:03:47.682Z"
   },
   {
    "duration": 379,
    "start_time": "2022-02-22T11:04:27.084Z"
   },
   {
    "duration": 31,
    "start_time": "2022-02-22T11:04:51.285Z"
   },
   {
    "duration": 35,
    "start_time": "2022-02-22T11:06:22.627Z"
   },
   {
    "duration": 37,
    "start_time": "2022-02-22T11:08:34.104Z"
   },
   {
    "duration": 208,
    "start_time": "2022-02-22T11:13:46.937Z"
   },
   {
    "duration": 44,
    "start_time": "2022-02-22T11:14:07.046Z"
   },
   {
    "duration": 5,
    "start_time": "2022-02-22T11:15:07.521Z"
   },
   {
    "duration": 5,
    "start_time": "2022-02-22T11:15:30.697Z"
   },
   {
    "duration": 44,
    "start_time": "2022-02-22T11:15:45.993Z"
   },
   {
    "duration": 39,
    "start_time": "2022-02-22T11:16:19.811Z"
   },
   {
    "duration": 38,
    "start_time": "2022-02-22T11:16:55.982Z"
   },
   {
    "duration": 36,
    "start_time": "2022-02-22T11:17:35.765Z"
   },
   {
    "duration": 35,
    "start_time": "2022-02-22T11:18:14.684Z"
   },
   {
    "duration": 38,
    "start_time": "2022-02-22T11:20:55.380Z"
   },
   {
    "duration": 37,
    "start_time": "2022-02-22T11:21:30.514Z"
   },
   {
    "duration": 36,
    "start_time": "2022-02-22T11:25:41.428Z"
   },
   {
    "duration": 43,
    "start_time": "2022-02-22T11:26:29.383Z"
   },
   {
    "duration": 44,
    "start_time": "2022-02-22T11:35:55.198Z"
   },
   {
    "duration": 44,
    "start_time": "2022-02-22T11:39:02.701Z"
   },
   {
    "duration": 39,
    "start_time": "2022-02-22T11:45:28.659Z"
   },
   {
    "duration": 39,
    "start_time": "2022-02-22T11:47:48.118Z"
   },
   {
    "duration": 74,
    "start_time": "2022-02-22T11:48:38.818Z"
   },
   {
    "duration": 61,
    "start_time": "2022-02-22T11:49:31.842Z"
   },
   {
    "duration": 35,
    "start_time": "2022-02-22T11:49:44.410Z"
   },
   {
    "duration": 37,
    "start_time": "2022-02-22T11:49:59.855Z"
   },
   {
    "duration": 38,
    "start_time": "2022-02-22T11:50:24.457Z"
   },
   {
    "duration": 38,
    "start_time": "2022-02-22T11:55:27.771Z"
   },
   {
    "duration": 57,
    "start_time": "2022-02-22T12:07:35.666Z"
   },
   {
    "duration": 51,
    "start_time": "2022-02-22T12:07:59.168Z"
   },
   {
    "duration": 44,
    "start_time": "2022-02-22T12:12:03.029Z"
   },
   {
    "duration": 43,
    "start_time": "2022-02-22T12:14:38.691Z"
   },
   {
    "duration": 19,
    "start_time": "2022-02-22T12:17:38.798Z"
   },
   {
    "duration": 42,
    "start_time": "2022-02-22T12:19:40.387Z"
   },
   {
    "duration": 3,
    "start_time": "2022-02-22T12:31:05.193Z"
   },
   {
    "duration": 12,
    "start_time": "2022-02-22T12:31:20.966Z"
   },
   {
    "duration": 13,
    "start_time": "2022-02-22T12:31:32.229Z"
   },
   {
    "duration": 56,
    "start_time": "2022-02-22T12:38:19.177Z"
   },
   {
    "duration": 50,
    "start_time": "2022-02-22T12:39:08.097Z"
   },
   {
    "duration": 77,
    "start_time": "2022-02-22T12:40:27.879Z"
   },
   {
    "duration": 16,
    "start_time": "2022-02-22T13:14:45.863Z"
   },
   {
    "duration": 606,
    "start_time": "2022-02-22T13:16:33.568Z"
   },
   {
    "duration": 23,
    "start_time": "2022-02-22T13:16:43.452Z"
   },
   {
    "duration": 44,
    "start_time": "2022-02-22T13:21:55.453Z"
   },
   {
    "duration": 42,
    "start_time": "2022-02-22T13:22:13.046Z"
   },
   {
    "duration": 51,
    "start_time": "2022-02-22T13:27:11.082Z"
   },
   {
    "duration": 52,
    "start_time": "2022-02-22T13:29:23.446Z"
   },
   {
    "duration": 53,
    "start_time": "2022-02-22T13:30:00.552Z"
   },
   {
    "duration": 628,
    "start_time": "2022-02-22T13:36:13.872Z"
   },
   {
    "duration": 43,
    "start_time": "2022-02-22T13:36:22.120Z"
   },
   {
    "duration": 51,
    "start_time": "2022-02-22T13:36:57.456Z"
   },
   {
    "duration": 14,
    "start_time": "2022-02-22T13:37:17.144Z"
   },
   {
    "duration": 74,
    "start_time": "2022-02-22T13:37:24.631Z"
   },
   {
    "duration": 14,
    "start_time": "2022-02-22T13:45:22.903Z"
   },
   {
    "duration": 17,
    "start_time": "2022-02-22T13:46:57.751Z"
   },
   {
    "duration": 248,
    "start_time": "2022-02-22T13:56:54.753Z"
   },
   {
    "duration": 186,
    "start_time": "2022-02-22T13:57:15.519Z"
   },
   {
    "duration": 185,
    "start_time": "2022-02-22T13:59:13.602Z"
   },
   {
    "duration": 184,
    "start_time": "2022-02-22T13:59:35.794Z"
   },
   {
    "duration": 624,
    "start_time": "2022-02-22T14:00:44.847Z"
   },
   {
    "duration": 44,
    "start_time": "2022-02-22T14:00:50.714Z"
   },
   {
    "duration": 52,
    "start_time": "2022-02-22T14:01:07.009Z"
   },
   {
    "duration": 12,
    "start_time": "2022-02-22T14:01:14.659Z"
   },
   {
    "duration": 73,
    "start_time": "2022-02-22T14:01:24.338Z"
   },
   {
    "duration": 19,
    "start_time": "2022-02-22T14:01:32.699Z"
   },
   {
    "duration": 9,
    "start_time": "2022-02-22T14:02:08.774Z"
   },
   {
    "duration": 11,
    "start_time": "2022-02-22T14:02:13.850Z"
   },
   {
    "duration": 12,
    "start_time": "2022-02-22T14:02:44.780Z"
   },
   {
    "duration": 18,
    "start_time": "2022-02-22T14:03:29.189Z"
   },
   {
    "duration": 14,
    "start_time": "2022-02-22T14:04:40.455Z"
   },
   {
    "duration": 252,
    "start_time": "2022-02-22T14:04:48.141Z"
   },
   {
    "duration": 255,
    "start_time": "2022-02-22T14:05:13.918Z"
   },
   {
    "duration": 180,
    "start_time": "2022-02-22T14:06:43.760Z"
   },
   {
    "duration": 185,
    "start_time": "2022-02-22T14:06:54.185Z"
   },
   {
    "duration": 614,
    "start_time": "2022-02-22T14:07:07.694Z"
   },
   {
    "duration": 44,
    "start_time": "2022-02-22T14:07:13.136Z"
   },
   {
    "duration": 49,
    "start_time": "2022-02-22T14:07:18.409Z"
   },
   {
    "duration": 12,
    "start_time": "2022-02-22T14:07:23.308Z"
   },
   {
    "duration": 83,
    "start_time": "2022-02-22T14:07:38.735Z"
   },
   {
    "duration": 23,
    "start_time": "2022-02-22T14:07:42.129Z"
   },
   {
    "duration": 23,
    "start_time": "2022-02-22T14:12:17.677Z"
   },
   {
    "duration": 64,
    "start_time": "2022-02-22T14:12:44.488Z"
   },
   {
    "duration": 23,
    "start_time": "2022-02-22T14:13:02.201Z"
   },
   {
    "duration": 22,
    "start_time": "2022-02-22T14:16:12.393Z"
   },
   {
    "duration": 284,
    "start_time": "2022-02-22T14:16:36.612Z"
   },
   {
    "duration": 185,
    "start_time": "2022-02-22T14:16:52.934Z"
   },
   {
    "duration": 198,
    "start_time": "2022-02-22T14:17:03.411Z"
   },
   {
    "duration": 588,
    "start_time": "2022-02-22T14:17:28.995Z"
   },
   {
    "duration": 44,
    "start_time": "2022-02-22T14:17:32.278Z"
   },
   {
    "duration": 58,
    "start_time": "2022-02-22T14:17:37.279Z"
   },
   {
    "duration": 13,
    "start_time": "2022-02-22T14:17:41.101Z"
   },
   {
    "duration": 79,
    "start_time": "2022-02-22T14:17:43.999Z"
   },
   {
    "duration": 22,
    "start_time": "2022-02-22T14:17:48.417Z"
   },
   {
    "duration": 20,
    "start_time": "2022-02-22T14:18:03.759Z"
   },
   {
    "duration": 260,
    "start_time": "2022-02-22T14:18:20.998Z"
   },
   {
    "duration": 648,
    "start_time": "2022-02-22T14:18:40.404Z"
   },
   {
    "duration": 43,
    "start_time": "2022-02-22T14:18:43.140Z"
   },
   {
    "duration": 52,
    "start_time": "2022-02-22T14:18:47.936Z"
   },
   {
    "duration": 13,
    "start_time": "2022-02-22T14:18:51.673Z"
   },
   {
    "duration": 75,
    "start_time": "2022-02-22T14:18:54.709Z"
   },
   {
    "duration": 25,
    "start_time": "2022-02-22T14:19:08.239Z"
   },
   {
    "duration": 103,
    "start_time": "2022-02-22T14:25:43.855Z"
   },
   {
    "duration": 61,
    "start_time": "2022-02-22T14:26:27.249Z"
   },
   {
    "duration": 241,
    "start_time": "2022-02-22T14:27:28.913Z"
   },
   {
    "duration": 46,
    "start_time": "2022-02-22T14:29:10.149Z"
   },
   {
    "duration": 54,
    "start_time": "2022-02-22T14:31:17.051Z"
   },
   {
    "duration": 43,
    "start_time": "2022-02-22T14:31:57.914Z"
   },
   {
    "duration": 59,
    "start_time": "2022-02-22T14:45:26.027Z"
   },
   {
    "duration": 341,
    "start_time": "2022-02-22T14:45:39.007Z"
   },
   {
    "duration": 234,
    "start_time": "2022-02-22T14:46:06.791Z"
   },
   {
    "duration": 246,
    "start_time": "2022-02-22T14:49:11.706Z"
   },
   {
    "duration": 183,
    "start_time": "2022-02-22T14:59:12.308Z"
   },
   {
    "duration": 4827,
    "start_time": "2022-02-22T14:59:34.404Z"
   },
   {
    "duration": 37,
    "start_time": "2022-02-22T15:01:18.845Z"
   },
   {
    "duration": 37,
    "start_time": "2022-02-22T15:02:34.771Z"
   },
   {
    "duration": 35,
    "start_time": "2022-02-22T15:04:00.535Z"
   },
   {
    "duration": 35,
    "start_time": "2022-02-22T15:04:30.716Z"
   },
   {
    "duration": 37,
    "start_time": "2022-02-22T15:05:01.157Z"
   },
   {
    "duration": 152,
    "start_time": "2022-02-22T15:11:34.941Z"
   },
   {
    "duration": 183,
    "start_time": "2022-02-22T15:13:19.187Z"
   },
   {
    "duration": 36,
    "start_time": "2022-02-22T15:13:34.365Z"
   },
   {
    "duration": 219,
    "start_time": "2022-02-22T15:14:25.414Z"
   },
   {
    "duration": 21,
    "start_time": "2022-02-22T15:14:53.949Z"
   },
   {
    "duration": 64,
    "start_time": "2022-02-22T16:14:09.596Z"
   },
   {
    "duration": 20,
    "start_time": "2022-02-22T16:14:33.252Z"
   },
   {
    "duration": 62,
    "start_time": "2022-02-22T16:14:48.965Z"
   },
   {
    "duration": 20,
    "start_time": "2022-02-22T16:21:27.755Z"
   },
   {
    "duration": 70,
    "start_time": "2022-02-22T16:22:24.675Z"
   },
   {
    "duration": 245,
    "start_time": "2022-02-22T16:23:00.276Z"
   },
   {
    "duration": 225,
    "start_time": "2022-02-22T16:24:33.678Z"
   },
   {
    "duration": 595,
    "start_time": "2022-02-22T16:25:57.873Z"
   },
   {
    "duration": 34,
    "start_time": "2022-02-22T16:26:39.691Z"
   },
   {
    "duration": 29,
    "start_time": "2022-02-22T16:27:36.748Z"
   },
   {
    "duration": 653,
    "start_time": "2022-02-22T16:28:03.350Z"
   },
   {
    "duration": 54,
    "start_time": "2022-02-22T16:28:41.028Z"
   },
   {
    "duration": 347,
    "start_time": "2022-02-22T16:28:46.567Z"
   },
   {
    "duration": 176,
    "start_time": "2022-02-22T16:28:59.598Z"
   },
   {
    "duration": 176,
    "start_time": "2022-02-22T16:29:24.975Z"
   },
   {
    "duration": 51,
    "start_time": "2022-02-22T16:29:34.516Z"
   },
   {
    "duration": 180,
    "start_time": "2022-02-22T16:30:31.400Z"
   },
   {
    "duration": 73,
    "start_time": "2022-02-22T16:30:47.288Z"
   },
   {
    "duration": 188,
    "start_time": "2022-02-22T16:30:51.681Z"
   },
   {
    "duration": 20,
    "start_time": "2022-02-22T16:31:09.417Z"
   },
   {
    "duration": 182,
    "start_time": "2022-02-22T16:31:53.237Z"
   },
   {
    "duration": 171,
    "start_time": "2022-02-22T16:32:22.151Z"
   },
   {
    "duration": 255,
    "start_time": "2022-02-22T16:32:29.292Z"
   },
   {
    "duration": 22,
    "start_time": "2022-02-22T16:32:40.598Z"
   },
   {
    "duration": 59,
    "start_time": "2022-02-22T16:33:37.116Z"
   },
   {
    "duration": 735,
    "start_time": "2022-02-22T16:35:53.964Z"
   },
   {
    "duration": 33,
    "start_time": "2022-02-22T16:35:58.269Z"
   },
   {
    "duration": 32,
    "start_time": "2022-02-22T16:37:35.073Z"
   },
   {
    "duration": 51,
    "start_time": "2022-02-22T16:37:42.631Z"
   },
   {
    "duration": 13,
    "start_time": "2022-02-22T16:37:52.762Z"
   },
   {
    "duration": 74,
    "start_time": "2022-02-22T16:37:59.899Z"
   },
   {
    "duration": 20,
    "start_time": "2022-02-22T16:38:05.705Z"
   },
   {
    "duration": 233,
    "start_time": "2022-02-22T16:38:11.649Z"
   },
   {
    "duration": 23,
    "start_time": "2022-02-22T16:38:24.680Z"
   },
   {
    "duration": 71,
    "start_time": "2022-02-22T16:38:33.722Z"
   },
   {
    "duration": 19,
    "start_time": "2022-02-22T16:38:42.130Z"
   },
   {
    "duration": 55,
    "start_time": "2022-02-22T16:39:36.171Z"
   },
   {
    "duration": 60,
    "start_time": "2022-02-22T16:41:32.280Z"
   },
   {
    "duration": 31,
    "start_time": "2022-02-22T16:42:20.383Z"
   },
   {
    "duration": 251,
    "start_time": "2022-02-22T16:44:59.560Z"
   },
   {
    "duration": 36,
    "start_time": "2022-02-22T16:45:08.703Z"
   },
   {
    "duration": 37,
    "start_time": "2022-02-22T16:47:55.399Z"
   },
   {
    "duration": 38,
    "start_time": "2022-02-22T16:48:34.755Z"
   },
   {
    "duration": 201,
    "start_time": "2022-02-22T16:48:49.494Z"
   },
   {
    "duration": 60,
    "start_time": "2022-02-22T16:49:47.141Z"
   },
   {
    "duration": 59,
    "start_time": "2022-02-22T16:53:22.377Z"
   },
   {
    "duration": 36,
    "start_time": "2022-02-22T16:53:55.737Z"
   },
   {
    "duration": 53,
    "start_time": "2022-02-22T17:02:01.645Z"
   },
   {
    "duration": 231,
    "start_time": "2022-02-22T17:05:03.472Z"
   },
   {
    "duration": 631,
    "start_time": "2022-02-22T17:05:59.263Z"
   },
   {
    "duration": 34,
    "start_time": "2022-02-22T17:06:03.827Z"
   },
   {
    "duration": 63,
    "start_time": "2022-02-22T17:06:12.764Z"
   },
   {
    "duration": 12,
    "start_time": "2022-02-22T17:06:17.601Z"
   },
   {
    "duration": 73,
    "start_time": "2022-02-22T17:06:22.552Z"
   },
   {
    "duration": 25,
    "start_time": "2022-02-22T17:06:30.085Z"
   },
   {
    "duration": 29,
    "start_time": "2022-02-22T17:07:00.361Z"
   },
   {
    "duration": 244,
    "start_time": "2022-02-22T17:07:40.949Z"
   },
   {
    "duration": 57,
    "start_time": "2022-02-22T17:09:12.215Z"
   },
   {
    "duration": 33,
    "start_time": "2022-02-22T17:10:34.078Z"
   },
   {
    "duration": 313,
    "start_time": "2022-02-23T10:44:44.855Z"
   },
   {
    "duration": 758,
    "start_time": "2022-02-23T10:45:26.738Z"
   },
   {
    "duration": 40,
    "start_time": "2022-02-23T10:45:32.537Z"
   },
   {
    "duration": 140,
    "start_time": "2022-02-23T10:45:38.525Z"
   },
   {
    "duration": 15,
    "start_time": "2022-02-23T10:48:11.376Z"
   },
   {
    "duration": 90,
    "start_time": "2022-02-23T10:48:16.687Z"
   },
   {
    "duration": 69,
    "start_time": "2022-02-23T10:53:06.658Z"
   },
   {
    "duration": 295,
    "start_time": "2022-02-23T11:12:05.474Z"
   },
   {
    "duration": 313,
    "start_time": "2022-02-23T11:14:59.725Z"
   },
   {
    "duration": 60,
    "start_time": "2022-02-23T11:29:37.788Z"
   },
   {
    "duration": 163,
    "start_time": "2022-02-23T11:31:51.892Z"
   },
   {
    "duration": 961,
    "start_time": "2022-02-23T11:33:32.012Z"
   },
   {
    "duration": 41,
    "start_time": "2022-02-23T11:33:36.348Z"
   },
   {
    "duration": 63,
    "start_time": "2022-02-23T11:33:42.042Z"
   },
   {
    "duration": 15,
    "start_time": "2022-02-23T11:33:45.797Z"
   },
   {
    "duration": 88,
    "start_time": "2022-02-23T11:33:49.343Z"
   },
   {
    "duration": 25,
    "start_time": "2022-02-23T11:33:53.750Z"
   },
   {
    "duration": 306,
    "start_time": "2022-02-23T11:33:58.167Z"
   },
   {
    "duration": 172,
    "start_time": "2022-02-23T11:34:06.415Z"
   },
   {
    "duration": 902,
    "start_time": "2022-03-13T13:16:49.604Z"
   },
   {
    "duration": 22,
    "start_time": "2022-03-13T13:16:58.903Z"
   },
   {
    "duration": 20,
    "start_time": "2022-03-13T13:17:07.933Z"
   },
   {
    "duration": 9,
    "start_time": "2022-03-13T13:17:17.533Z"
   },
   {
    "duration": 15,
    "start_time": "2022-03-13T13:17:24.292Z"
   },
   {
    "duration": 22,
    "start_time": "2022-03-13T13:21:17.510Z"
   },
   {
    "duration": 13,
    "start_time": "2022-03-13T13:21:22.290Z"
   },
   {
    "duration": 15,
    "start_time": "2022-03-13T13:21:31.545Z"
   },
   {
    "duration": 15,
    "start_time": "2022-03-13T13:21:49.978Z"
   },
   {
    "duration": 10,
    "start_time": "2022-03-13T13:21:53.449Z"
   },
   {
    "duration": 45,
    "start_time": "2022-03-13T13:22:20.811Z"
   },
   {
    "duration": 10,
    "start_time": "2022-03-13T13:22:30.891Z"
   },
   {
    "duration": 33,
    "start_time": "2022-03-13T13:22:34.017Z"
   },
   {
    "duration": 19,
    "start_time": "2022-03-13T13:23:22.742Z"
   },
   {
    "duration": 21,
    "start_time": "2022-03-13T13:28:47.434Z"
   },
   {
    "duration": 68,
    "start_time": "2022-03-13T13:32:42.822Z"
   },
   {
    "duration": 48,
    "start_time": "2022-03-13T13:32:47.064Z"
   },
   {
    "duration": 7,
    "start_time": "2022-03-13T13:35:25.771Z"
   },
   {
    "duration": 20,
    "start_time": "2022-03-13T13:35:30.482Z"
   },
   {
    "duration": 9,
    "start_time": "2022-03-13T13:35:36.491Z"
   },
   {
    "duration": 24,
    "start_time": "2022-03-13T13:35:38.521Z"
   },
   {
    "duration": 18,
    "start_time": "2022-03-13T13:35:41.847Z"
   },
   {
    "duration": 451,
    "start_time": "2022-03-13T13:40:46.792Z"
   },
   {
    "duration": 33,
    "start_time": "2022-03-13T13:50:57.868Z"
   },
   {
    "duration": 4,
    "start_time": "2022-03-13T13:51:04.266Z"
   },
   {
    "duration": 38,
    "start_time": "2022-03-13T13:51:06.395Z"
   },
   {
    "duration": 11,
    "start_time": "2022-03-13T13:51:08.666Z"
   },
   {
    "duration": 18,
    "start_time": "2022-03-13T13:51:17.753Z"
   },
   {
    "duration": 49,
    "start_time": "2022-03-13T13:51:20.609Z"
   },
   {
    "duration": 14,
    "start_time": "2022-03-13T13:51:24.226Z"
   },
   {
    "duration": 38,
    "start_time": "2022-03-13T13:51:26.842Z"
   },
   {
    "duration": 10,
    "start_time": "2022-03-13T13:51:29.642Z"
   },
   {
    "duration": 44,
    "start_time": "2022-03-13T13:51:31.818Z"
   },
   {
    "duration": 10,
    "start_time": "2022-03-13T13:51:36.418Z"
   },
   {
    "duration": 939,
    "start_time": "2022-03-13T13:55:14.896Z"
   },
   {
    "duration": 33,
    "start_time": "2022-03-13T13:55:21.517Z"
   },
   {
    "duration": 25,
    "start_time": "2022-03-13T13:55:31.075Z"
   },
   {
    "duration": 8,
    "start_time": "2022-03-13T13:56:01.471Z"
   },
   {
    "duration": 15,
    "start_time": "2022-03-13T13:56:47.341Z"
   },
   {
    "duration": 49,
    "start_time": "2022-03-13T13:56:59.524Z"
   },
   {
    "duration": 10,
    "start_time": "2022-03-13T13:57:37.068Z"
   },
   {
    "duration": 34,
    "start_time": "2022-03-13T13:57:47.740Z"
   },
   {
    "duration": 21,
    "start_time": "2022-03-13T13:59:06.363Z"
   },
   {
    "duration": 111,
    "start_time": "2022-03-13T13:59:18.178Z"
   },
   {
    "duration": 50,
    "start_time": "2022-03-13T13:59:21.157Z"
   },
   {
    "duration": 7,
    "start_time": "2022-03-13T13:59:27.544Z"
   },
   {
    "duration": 15,
    "start_time": "2022-03-13T13:59:31.296Z"
   },
   {
    "duration": 5,
    "start_time": "2022-03-13T13:59:35.254Z"
   },
   {
    "duration": 16,
    "start_time": "2022-03-13T13:59:39.279Z"
   },
   {
    "duration": 715,
    "start_time": "2022-03-13T13:59:50.433Z"
   },
   {
    "duration": 4,
    "start_time": "2022-03-13T14:00:14.895Z"
   },
   {
    "duration": 36,
    "start_time": "2022-03-13T14:00:18.248Z"
   },
   {
    "duration": 12,
    "start_time": "2022-03-13T14:00:20.008Z"
   },
   {
    "duration": 40,
    "start_time": "2022-03-13T14:00:25.934Z"
   },
   {
    "duration": 527,
    "start_time": "2022-03-13T14:00:31.959Z"
   },
   {
    "duration": 344,
    "start_time": "2022-03-13T14:00:43.729Z"
   },
   {
    "duration": 35,
    "start_time": "2022-03-13T14:01:31.369Z"
   },
   {
    "duration": 339,
    "start_time": "2022-03-13T14:01:34.092Z"
   },
   {
    "duration": 31,
    "start_time": "2022-03-13T14:04:58.462Z"
   },
   {
    "duration": 394,
    "start_time": "2022-03-13T14:05:01.805Z"
   },
   {
    "duration": 315,
    "start_time": "2022-03-13T14:05:20.439Z"
   },
   {
    "duration": 44,
    "start_time": "2022-03-13T14:05:25.916Z"
   },
   {
    "duration": 10,
    "start_time": "2022-03-13T14:05:30.087Z"
   },
   {
    "duration": 327,
    "start_time": "2022-03-13T14:05:36.120Z"
   },
   {
    "duration": 1149,
    "start_time": "2022-03-13T14:06:02.203Z"
   },
   {
    "duration": 27,
    "start_time": "2022-03-13T14:06:10.221Z"
   },
   {
    "duration": 20,
    "start_time": "2022-03-13T14:06:16.551Z"
   },
   {
    "duration": 8,
    "start_time": "2022-03-13T14:06:27.095Z"
   },
   {
    "duration": 14,
    "start_time": "2022-03-13T14:06:33.318Z"
   },
   {
    "duration": 50,
    "start_time": "2022-03-13T14:06:40.854Z"
   },
   {
    "duration": 13,
    "start_time": "2022-03-13T14:06:45.127Z"
   },
   {
    "duration": 35,
    "start_time": "2022-03-13T14:06:51.129Z"
   },
   {
    "duration": 21,
    "start_time": "2022-03-13T14:06:58.775Z"
   },
   {
    "duration": 97,
    "start_time": "2022-03-13T14:07:03.994Z"
   },
   {
    "duration": 49,
    "start_time": "2022-03-13T14:07:07.339Z"
   },
   {
    "duration": 8,
    "start_time": "2022-03-13T14:07:11.120Z"
   },
   {
    "duration": 15,
    "start_time": "2022-03-13T14:07:13.414Z"
   },
   {
    "duration": 7,
    "start_time": "2022-03-13T14:07:20.215Z"
   },
   {
    "duration": 16,
    "start_time": "2022-03-13T14:07:23.287Z"
   },
   {
    "duration": 17,
    "start_time": "2022-03-13T14:07:27.296Z"
   },
   {
    "duration": 433,
    "start_time": "2022-03-13T14:07:31.042Z"
   },
   {
    "duration": 31,
    "start_time": "2022-03-13T14:07:37.737Z"
   },
   {
    "duration": 4,
    "start_time": "2022-03-13T14:07:41.463Z"
   },
   {
    "duration": 38,
    "start_time": "2022-03-13T14:07:43.176Z"
   },
   {
    "duration": 13,
    "start_time": "2022-03-13T14:07:44.863Z"
   },
   {
    "duration": 19,
    "start_time": "2022-03-13T14:07:48.273Z"
   },
   {
    "duration": 66,
    "start_time": "2022-03-13T14:07:50.673Z"
   },
   {
    "duration": 14,
    "start_time": "2022-03-13T14:08:05.104Z"
   },
   {
    "duration": 41,
    "start_time": "2022-03-13T14:08:11.663Z"
   },
   {
    "duration": 11,
    "start_time": "2022-03-13T14:08:14.120Z"
   },
   {
    "duration": 45,
    "start_time": "2022-03-13T14:08:20.680Z"
   },
   {
    "duration": 11,
    "start_time": "2022-03-13T14:08:27.520Z"
   },
   {
    "duration": 767,
    "start_time": "2022-03-13T17:15:35.288Z"
   },
   {
    "duration": 21,
    "start_time": "2022-03-13T17:15:36.058Z"
   },
   {
    "duration": 20,
    "start_time": "2022-03-13T17:15:36.081Z"
   },
   {
    "duration": 7,
    "start_time": "2022-03-13T17:15:36.104Z"
   },
   {
    "duration": 50,
    "start_time": "2022-03-13T17:15:36.113Z"
   },
   {
    "duration": 50,
    "start_time": "2022-03-13T17:15:36.166Z"
   },
   {
    "duration": 33,
    "start_time": "2022-03-13T17:15:36.218Z"
   },
   {
    "duration": 32,
    "start_time": "2022-03-13T17:15:36.256Z"
   },
   {
    "duration": 18,
    "start_time": "2022-03-13T17:15:36.291Z"
   },
   {
    "duration": 97,
    "start_time": "2022-03-13T17:15:36.311Z"
   },
   {
    "duration": 63,
    "start_time": "2022-03-13T17:15:36.411Z"
   },
   {
    "duration": 6,
    "start_time": "2022-03-13T17:15:36.476Z"
   },
   {
    "duration": 13,
    "start_time": "2022-03-13T17:15:36.484Z"
   },
   {
    "duration": 5,
    "start_time": "2022-03-13T17:15:36.500Z"
   },
   {
    "duration": 45,
    "start_time": "2022-03-13T17:15:36.507Z"
   },
   {
    "duration": 15,
    "start_time": "2022-03-13T17:15:36.555Z"
   },
   {
    "duration": 426,
    "start_time": "2022-03-13T17:15:36.572Z"
   },
   {
    "duration": 29,
    "start_time": "2022-03-13T17:15:37.001Z"
   },
   {
    "duration": 4,
    "start_time": "2022-03-13T17:15:37.052Z"
   },
   {
    "duration": 37,
    "start_time": "2022-03-13T17:15:37.059Z"
   },
   {
    "duration": 10,
    "start_time": "2022-03-13T17:15:37.099Z"
   },
   {
    "duration": 46,
    "start_time": "2022-03-13T17:15:37.112Z"
   },
   {
    "duration": 44,
    "start_time": "2022-03-13T17:15:37.162Z"
   },
   {
    "duration": 9,
    "start_time": "2022-03-13T17:15:37.209Z"
   },
   {
    "duration": 65,
    "start_time": "2022-03-13T17:15:37.221Z"
   },
   {
    "duration": 9,
    "start_time": "2022-03-13T17:15:37.288Z"
   },
   {
    "duration": 67,
    "start_time": "2022-03-13T17:15:37.300Z"
   },
   {
    "duration": 9,
    "start_time": "2022-03-13T17:15:37.370Z"
   },
   {
    "duration": 632,
    "start_time": "2022-03-16T08:01:44.751Z"
   },
   {
    "duration": 71,
    "start_time": "2022-03-16T08:01:49.122Z"
   },
   {
    "duration": 16,
    "start_time": "2022-03-16T08:01:54.350Z"
   },
   {
    "duration": 14,
    "start_time": "2022-03-16T08:02:04.247Z"
   },
   {
    "duration": 6,
    "start_time": "2022-03-16T08:02:08.593Z"
   },
   {
    "duration": 2,
    "start_time": "2022-03-16T08:02:15.718Z"
   },
   {
    "duration": 4,
    "start_time": "2022-03-16T08:02:19.655Z"
   },
   {
    "duration": 248,
    "start_time": "2022-03-16T08:02:28.688Z"
   },
   {
    "duration": 370,
    "start_time": "2022-03-16T08:03:15.475Z"
   },
   {
    "duration": 9,
    "start_time": "2022-03-16T08:03:19.229Z"
   },
   {
    "duration": 34,
    "start_time": "2022-03-16T08:04:01.410Z"
   },
   {
    "duration": 7,
    "start_time": "2022-03-16T08:04:11.337Z"
   },
   {
    "duration": 23,
    "start_time": "2022-03-16T08:04:17.002Z"
   },
   {
    "duration": 15,
    "start_time": "2022-03-16T08:04:27.723Z"
   },
   {
    "duration": 51,
    "start_time": "2022-03-16T08:04:53.338Z"
   },
   {
    "duration": 32,
    "start_time": "2022-03-16T08:04:56.682Z"
   },
   {
    "duration": 5,
    "start_time": "2022-03-16T08:05:03.387Z"
   },
   {
    "duration": 10,
    "start_time": "2022-03-16T08:05:06.566Z"
   },
   {
    "duration": 4,
    "start_time": "2022-03-16T08:05:12.434Z"
   },
   {
    "duration": 11,
    "start_time": "2022-03-16T08:05:15.787Z"
   },
   {
    "duration": 249,
    "start_time": "2022-03-16T08:05:21.415Z"
   },
   {
    "duration": 27,
    "start_time": "2022-03-16T08:05:32.346Z"
   },
   {
    "duration": 3,
    "start_time": "2022-03-16T08:05:39.363Z"
   },
   {
    "duration": 24,
    "start_time": "2022-03-16T08:05:43.446Z"
   },
   {
    "duration": 8,
    "start_time": "2022-03-16T08:05:45.995Z"
   },
   {
    "duration": 18,
    "start_time": "2022-03-16T08:05:51.715Z"
   },
   {
    "duration": 200,
    "start_time": "2022-03-16T08:05:54.210Z"
   },
   {
    "duration": 545,
    "start_time": "2022-03-16T08:19:59.283Z"
   },
   {
    "duration": 82,
    "start_time": "2022-03-16T08:20:01.961Z"
   },
   {
    "duration": 17,
    "start_time": "2022-03-16T08:20:09.435Z"
   },
   {
    "duration": 12,
    "start_time": "2022-03-16T08:20:16.529Z"
   },
   {
    "duration": 5,
    "start_time": "2022-03-16T08:20:20.905Z"
   },
   {
    "duration": 3,
    "start_time": "2022-03-16T08:20:26.208Z"
   },
   {
    "duration": 228,
    "start_time": "2022-03-16T08:20:35.728Z"
   },
   {
    "duration": 4,
    "start_time": "2022-03-16T08:20:49.555Z"
   },
   {
    "duration": 363,
    "start_time": "2022-03-16T08:20:53.823Z"
   },
   {
    "duration": 11,
    "start_time": "2022-03-16T08:20:58.945Z"
   },
   {
    "duration": 6,
    "start_time": "2022-03-16T08:21:12.364Z"
   },
   {
    "duration": 11,
    "start_time": "2022-03-16T08:21:16.770Z"
   },
   {
    "duration": 29,
    "start_time": "2022-03-16T08:21:22.234Z"
   },
   {
    "duration": 8,
    "start_time": "2022-03-16T08:21:32.363Z"
   },
   {
    "duration": 18,
    "start_time": "2022-03-16T08:21:39.763Z"
   },
   {
    "duration": 13,
    "start_time": "2022-03-16T08:21:52.915Z"
   },
   {
    "duration": 51,
    "start_time": "2022-03-16T08:22:01.539Z"
   },
   {
    "duration": 33,
    "start_time": "2022-03-16T08:22:15.541Z"
   },
   {
    "duration": 6,
    "start_time": "2022-03-16T08:22:24.549Z"
   },
   {
    "duration": 11,
    "start_time": "2022-03-16T08:22:27.299Z"
   },
   {
    "duration": 4,
    "start_time": "2022-03-16T08:22:31.803Z"
   },
   {
    "duration": 11,
    "start_time": "2022-03-16T08:22:34.412Z"
   },
   {
    "duration": 11,
    "start_time": "2022-03-16T08:22:38.875Z"
   },
   {
    "duration": 238,
    "start_time": "2022-03-16T08:22:43.353Z"
   },
   {
    "duration": 23,
    "start_time": "2022-03-16T08:22:54.579Z"
   },
   {
    "duration": 3,
    "start_time": "2022-03-16T08:23:06.926Z"
   },
   {
    "duration": 25,
    "start_time": "2022-03-16T08:23:10.260Z"
   },
   {
    "duration": 8,
    "start_time": "2022-03-16T08:23:13.061Z"
   },
   {
    "duration": 11,
    "start_time": "2022-03-16T08:23:25.413Z"
   },
   {
    "duration": 33,
    "start_time": "2022-03-16T08:23:30.738Z"
   },
   {
    "duration": 8,
    "start_time": "2022-03-16T08:23:34.560Z"
   },
   {
    "duration": 25,
    "start_time": "2022-03-16T08:23:42.223Z"
   },
   {
    "duration": 7,
    "start_time": "2022-03-16T08:23:44.895Z"
   },
   {
    "duration": 29,
    "start_time": "2022-03-16T08:23:52.182Z"
   },
   {
    "duration": 8,
    "start_time": "2022-03-16T08:23:55.762Z"
   },
   {
    "duration": 237,
    "start_time": "2022-03-16T08:25:28.937Z"
   },
   {
    "duration": 227,
    "start_time": "2022-03-16T08:25:38.360Z"
   }
  ],
  "kernelspec": {
   "display_name": "Python 3 (ipykernel)",
   "language": "python",
   "name": "python3"
  },
  "language_info": {
   "codemirror_mode": {
    "name": "ipython",
    "version": 3
   },
   "file_extension": ".py",
   "mimetype": "text/x-python",
   "name": "python",
   "nbconvert_exporter": "python",
   "pygments_lexer": "ipython3",
   "version": "3.9.7"
  },
  "toc": {
   "base_numbering": 1,
   "nav_menu": {},
   "number_sections": true,
   "sideBar": true,
   "skip_h1_title": true,
   "title_cell": "Table of Contents",
   "title_sidebar": "Contents",
   "toc_cell": false,
   "toc_position": {},
   "toc_section_display": true,
   "toc_window_display": false
  }
 },
 "nbformat": 4,
 "nbformat_minor": 5
}
