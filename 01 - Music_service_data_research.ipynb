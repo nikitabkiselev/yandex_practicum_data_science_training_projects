{
 "cells": [
  {
   "cell_type": "markdown",
   "metadata": {
    "id": "E0vqbgi9ay0H"
   },
   "source": [
    "# Яндекс.Музыка"
   ]
  },
  {
   "cell_type": "markdown",
   "metadata": {
    "id": "VUC88oWjTJw2"
   },
   "source": [
    "Сравнение Москвы и Петербурга окружено мифами. Например:\n",
    " * Москва — мегаполис, подчинённый жёсткому ритму рабочей недели;\n",
    " * Петербург — культурная столица, со своими вкусами.\n",
    "\n",
    "На данных Яндекс.Музыки вы сравните поведение пользователей двух столиц.\n",
    "\n",
    "**Цель исследования** — проверьте три гипотезы:\n",
    "1. Активность пользователей зависит от дня недели. Причём в Москве и Петербурге это проявляется по-разному.\n",
    "2. В понедельник утром в Москве преобладают одни жанры, а в Петербурге — другие. Так же и вечером пятницы преобладают разные жанры — в зависимости от города. \n",
    "3. Москва и Петербург предпочитают разные жанры музыки. В Москве чаще слушают поп-музыку, в Петербурге — русский рэп.\n",
    "\n",
    "**Ход исследования**\n",
    "\n",
    "Данные о поведении пользователей вы получите из файла `yandex_music_project.csv`. О качестве данных ничего не известно. Поэтому перед проверкой гипотез понадобится обзор данных. \n",
    "\n",
    "Вы проверите данные на ошибки и оцените их влияние на исследование. Затем, на этапе предобработки вы поищете возможность исправить самые критичные ошибки данных.\n",
    " \n",
    "Таким образом, исследование пройдёт в три этапа:\n",
    " 1. Обзор данных.\n",
    " 2. Предобработка данных.\n",
    " 3. Проверка гипотез.\n",
    "\n"
   ]
  },
  {
   "cell_type": "markdown",
   "metadata": {
    "id": "Ml1hmfXC_Zcs"
   },
   "source": [
    "## Обзор данных\n",
    "\n",
    "Составьте первое представление о данных Яндекс.Музыки.\n",
    "\n",
    "\n"
   ]
  },
  {
   "cell_type": "markdown",
   "metadata": {
    "id": "57eAOGIz_Zcs"
   },
   "source": [
    "Основной инструмент аналитика — `pandas`. Импортируйте эту библиотеку."
   ]
  },
  {
   "cell_type": "code",
   "execution_count": 1,
   "metadata": {
    "id": "AXN7PHPN_Zcs"
   },
   "outputs": [],
   "source": [
    "# импорт библиотеки pandas\n",
    "import pandas as pd"
   ]
  },
  {
   "cell_type": "markdown",
   "metadata": {
    "id": "SG23P8tt_Zcs"
   },
   "source": [
    "Прочитайте файл `yandex_music_project.csv` из папки `/datasets` и сохраните его в переменной `df`:"
   ]
  },
  {
   "cell_type": "code",
   "execution_count": 2,
   "metadata": {
    "id": "fFVu7vqh_Zct"
   },
   "outputs": [],
   "source": [
    "# чтение файла с данными и сохранение в df\n",
    "df = pd.read_csv('/datasets/yandex_music_project.csv')"
   ]
  },
  {
   "cell_type": "markdown",
   "metadata": {
    "id": "rDoOMd3uTqnZ"
   },
   "source": [
    "Выведите на экран первые десять строк таблицы:"
   ]
  },
  {
   "cell_type": "code",
   "execution_count": 3,
   "metadata": {
    "id": "oWTVX3gW_Zct"
   },
   "outputs": [
    {
     "data": {
      "text/html": [
       "<div>\n",
       "<style scoped>\n",
       "    .dataframe tbody tr th:only-of-type {\n",
       "        vertical-align: middle;\n",
       "    }\n",
       "\n",
       "    .dataframe tbody tr th {\n",
       "        vertical-align: top;\n",
       "    }\n",
       "\n",
       "    .dataframe thead th {\n",
       "        text-align: right;\n",
       "    }\n",
       "</style>\n",
       "<table border=\"1\" class=\"dataframe\">\n",
       "  <thead>\n",
       "    <tr style=\"text-align: right;\">\n",
       "      <th></th>\n",
       "      <th>userID</th>\n",
       "      <th>Track</th>\n",
       "      <th>artist</th>\n",
       "      <th>genre</th>\n",
       "      <th>City</th>\n",
       "      <th>time</th>\n",
       "      <th>Day</th>\n",
       "    </tr>\n",
       "  </thead>\n",
       "  <tbody>\n",
       "    <tr>\n",
       "      <td>0</td>\n",
       "      <td>FFB692EC</td>\n",
       "      <td>Kamigata To Boots</td>\n",
       "      <td>The Mass Missile</td>\n",
       "      <td>rock</td>\n",
       "      <td>Saint-Petersburg</td>\n",
       "      <td>20:28:33</td>\n",
       "      <td>Wednesday</td>\n",
       "    </tr>\n",
       "    <tr>\n",
       "      <td>1</td>\n",
       "      <td>55204538</td>\n",
       "      <td>Delayed Because of Accident</td>\n",
       "      <td>Andreas Rönnberg</td>\n",
       "      <td>rock</td>\n",
       "      <td>Moscow</td>\n",
       "      <td>14:07:09</td>\n",
       "      <td>Friday</td>\n",
       "    </tr>\n",
       "    <tr>\n",
       "      <td>2</td>\n",
       "      <td>20EC38</td>\n",
       "      <td>Funiculì funiculà</td>\n",
       "      <td>Mario Lanza</td>\n",
       "      <td>pop</td>\n",
       "      <td>Saint-Petersburg</td>\n",
       "      <td>20:58:07</td>\n",
       "      <td>Wednesday</td>\n",
       "    </tr>\n",
       "    <tr>\n",
       "      <td>3</td>\n",
       "      <td>A3DD03C9</td>\n",
       "      <td>Dragons in the Sunset</td>\n",
       "      <td>Fire + Ice</td>\n",
       "      <td>folk</td>\n",
       "      <td>Saint-Petersburg</td>\n",
       "      <td>08:37:09</td>\n",
       "      <td>Monday</td>\n",
       "    </tr>\n",
       "    <tr>\n",
       "      <td>4</td>\n",
       "      <td>E2DC1FAE</td>\n",
       "      <td>Soul People</td>\n",
       "      <td>Space Echo</td>\n",
       "      <td>dance</td>\n",
       "      <td>Moscow</td>\n",
       "      <td>08:34:34</td>\n",
       "      <td>Monday</td>\n",
       "    </tr>\n",
       "    <tr>\n",
       "      <td>5</td>\n",
       "      <td>842029A1</td>\n",
       "      <td>Преданная</td>\n",
       "      <td>IMPERVTOR</td>\n",
       "      <td>rusrap</td>\n",
       "      <td>Saint-Petersburg</td>\n",
       "      <td>13:09:41</td>\n",
       "      <td>Friday</td>\n",
       "    </tr>\n",
       "    <tr>\n",
       "      <td>6</td>\n",
       "      <td>4CB90AA5</td>\n",
       "      <td>True</td>\n",
       "      <td>Roman Messer</td>\n",
       "      <td>dance</td>\n",
       "      <td>Moscow</td>\n",
       "      <td>13:00:07</td>\n",
       "      <td>Wednesday</td>\n",
       "    </tr>\n",
       "    <tr>\n",
       "      <td>7</td>\n",
       "      <td>F03E1C1F</td>\n",
       "      <td>Feeling This Way</td>\n",
       "      <td>Polina Griffith</td>\n",
       "      <td>dance</td>\n",
       "      <td>Moscow</td>\n",
       "      <td>20:47:49</td>\n",
       "      <td>Wednesday</td>\n",
       "    </tr>\n",
       "    <tr>\n",
       "      <td>8</td>\n",
       "      <td>8FA1D3BE</td>\n",
       "      <td>И вновь продолжается бой</td>\n",
       "      <td>NaN</td>\n",
       "      <td>ruspop</td>\n",
       "      <td>Moscow</td>\n",
       "      <td>09:17:40</td>\n",
       "      <td>Friday</td>\n",
       "    </tr>\n",
       "    <tr>\n",
       "      <td>9</td>\n",
       "      <td>E772D5C0</td>\n",
       "      <td>Pessimist</td>\n",
       "      <td>NaN</td>\n",
       "      <td>dance</td>\n",
       "      <td>Saint-Petersburg</td>\n",
       "      <td>21:20:49</td>\n",
       "      <td>Wednesday</td>\n",
       "    </tr>\n",
       "  </tbody>\n",
       "</table>\n",
       "</div>"
      ],
      "text/plain": [
       "     userID                        Track            artist   genre  \\\n",
       "0  FFB692EC            Kamigata To Boots  The Mass Missile    rock   \n",
       "1  55204538  Delayed Because of Accident  Andreas Rönnberg    rock   \n",
       "2    20EC38            Funiculì funiculà       Mario Lanza     pop   \n",
       "3  A3DD03C9        Dragons in the Sunset        Fire + Ice    folk   \n",
       "4  E2DC1FAE                  Soul People        Space Echo   dance   \n",
       "5  842029A1                    Преданная         IMPERVTOR  rusrap   \n",
       "6  4CB90AA5                         True      Roman Messer   dance   \n",
       "7  F03E1C1F             Feeling This Way   Polina Griffith   dance   \n",
       "8  8FA1D3BE     И вновь продолжается бой               NaN  ruspop   \n",
       "9  E772D5C0                    Pessimist               NaN   dance   \n",
       "\n",
       "             City        time        Day  \n",
       "0  Saint-Petersburg  20:28:33  Wednesday  \n",
       "1            Moscow  14:07:09     Friday  \n",
       "2  Saint-Petersburg  20:58:07  Wednesday  \n",
       "3  Saint-Petersburg  08:37:09     Monday  \n",
       "4            Moscow  08:34:34     Monday  \n",
       "5  Saint-Petersburg  13:09:41     Friday  \n",
       "6            Moscow  13:00:07  Wednesday  \n",
       "7            Moscow  20:47:49  Wednesday  \n",
       "8            Moscow  09:17:40     Friday  \n",
       "9  Saint-Petersburg  21:20:49  Wednesday  "
      ]
     },
     "execution_count": 3,
     "metadata": {},
     "output_type": "execute_result"
    }
   ],
   "source": [
    "# получение первых 10 строк таблицы df\n",
    "df.head(10)"
   ]
  },
  {
   "cell_type": "markdown",
   "metadata": {
    "id": "EO73Kwic_Zct"
   },
   "source": [
    "Одной командой получить общую информацию о таблице:"
   ]
  },
  {
   "cell_type": "code",
   "execution_count": 4,
   "metadata": {
    "id": "DSf2kIb-_Zct"
   },
   "outputs": [
    {
     "name": "stdout",
     "output_type": "stream",
     "text": [
      "<class 'pandas.core.frame.DataFrame'>\n",
      "RangeIndex: 65079 entries, 0 to 65078\n",
      "Data columns (total 7 columns):\n",
      "  userID    65079 non-null object\n",
      "Track       63848 non-null object\n",
      "artist      57876 non-null object\n",
      "genre       63881 non-null object\n",
      "  City      65079 non-null object\n",
      "time        65079 non-null object\n",
      "Day         65079 non-null object\n",
      "dtypes: object(7)\n",
      "memory usage: 3.5+ MB\n"
     ]
    }
   ],
   "source": [
    "# получение общей информации о данных в таблице df\n",
    "df.info()"
   ]
  },
  {
   "cell_type": "markdown",
   "metadata": {
    "id": "TaQ2Iwbr_Zct"
   },
   "source": [
    "Итак, в таблице семь столбцов. Тип данных во всех столбцах — `object`.\n",
    "\n",
    "Согласно документации к данным:\n",
    "* `userID` — идентификатор пользователя;\n",
    "* `Track` — название трека;  \n",
    "* `artist` — имя исполнителя;\n",
    "* `genre` — название жанра;\n",
    "* `City` — город пользователя;\n",
    "* `time` — время начала прослушивания;\n",
    "* `Day` — день недели.\n",
    "\n",
    "В названиях колонок видны три нарушения стиля:\n",
    "1. Строчные буквы сочетаются с прописными.\n",
    "2. Встречаются пробелы.\n",
    "3. Использование змеиного регистра в названии столбцов.\n",
    "\n",
    "\n",
    "\n",
    "Количество значений в столбцах различается. Значит, в данных есть пропущенные значения.\n"
   ]
  },
  {
   "cell_type": "markdown",
   "metadata": {
    "id": "MCB6-dXG_Zct"
   },
   "source": [
    "**Выводы**\n",
    "\n",
    "В каждой строке таблицы — данные о прослушанном треке. Часть колонок описывает саму композицию: название, исполнителя и жанр. Остальные данные рассказывают о пользователе: из какого он города, когда он слушал музыку. \n",
    "\n",
    "Предварительно можно утверждать, что, данных достаточно для проверки гипотез. Но встречаются пропуски в данных, а в названиях колонок — расхождения с хорошим стилем.\n",
    "\n",
    "Чтобы двигаться дальше, нужно устранить проблемы в данных."
   ]
  },
  {
   "cell_type": "markdown",
   "metadata": {
    "id": "SjYF6Ub9_Zct"
   },
   "source": [
    "## Предобработка данных\n",
    "Исправьте стиль в заголовках столбцов, исключите пропуски. Затем проверьте данные на дубликаты."
   ]
  },
  {
   "cell_type": "markdown",
   "metadata": {
    "id": "dIaKXr29_Zct"
   },
   "source": [
    "### Стиль заголовков\n",
    "Выведите на экран названия столбцов:"
   ]
  },
  {
   "cell_type": "code",
   "execution_count": 5,
   "metadata": {
    "id": "oKOTdF_Q_Zct"
   },
   "outputs": [
    {
     "data": {
      "text/plain": [
       "Index(['  userID', 'Track', 'artist', 'genre', '  City  ', 'time', 'Day'], dtype='object')"
      ]
     },
     "execution_count": 5,
     "metadata": {},
     "output_type": "execute_result"
    }
   ],
   "source": [
    "# перечень названий столбцов таблицы df\n",
    "df.columns"
   ]
  },
  {
   "cell_type": "markdown",
   "metadata": {
    "id": "zj5534cv_Zct"
   },
   "source": [
    "Приведите названия в соответствие с хорошим стилем:\n",
    "* несколько слов в названии запишите в «змеином_регистре»,\n",
    "* все символы сделайте строчными,\n",
    "* устраните пробелы.\n",
    "\n",
    "Для этого переименуйте колонки так:\n",
    "* `'  userID'` → `'user_id'`;\n",
    "* `'Track'` → `'track'`;\n",
    "* `'  City  '` → `'city'`;\n",
    "* `'Day'` → `'day'`."
   ]
  },
  {
   "cell_type": "code",
   "execution_count": 6,
   "metadata": {
    "id": "ISlFqs5y_Zct"
   },
   "outputs": [],
   "source": [
    "# переименование столбцов\n",
    "df = df.rename(columns={'  userID': 'user_id', 'Track': 'track', '  City  ': 'city', 'Day': 'day'})"
   ]
  },
  {
   "cell_type": "markdown",
   "metadata": {
    "id": "1dqbh00J_Zct"
   },
   "source": [
    "Проверьте результат. Для этого ещё раз выведите на экран названия столбцов:"
   ]
  },
  {
   "cell_type": "code",
   "execution_count": 7,
   "metadata": {
    "id": "d4NOAmTW_Zct"
   },
   "outputs": [
    {
     "data": {
      "text/plain": [
       "Index(['user_id', 'track', 'artist', 'genre', 'city', 'time', 'day'], dtype='object')"
      ]
     },
     "execution_count": 7,
     "metadata": {},
     "output_type": "execute_result"
    }
   ],
   "source": [
    "# проверка результатов - перечень названий столбцов\n",
    "df.columns"
   ]
  },
  {
   "cell_type": "markdown",
   "metadata": {
    "id": "5ISfbcfY_Zct"
   },
   "source": [
    "### Пропуски значений\n",
    "Сначала посчитайте, сколько в таблице пропущенных значений. Для этого достаточно двух методов `pandas`:"
   ]
  },
  {
   "cell_type": "code",
   "execution_count": 8,
   "metadata": {
    "id": "RskX29qr_Zct"
   },
   "outputs": [
    {
     "data": {
      "text/plain": [
       "user_id       0\n",
       "track      1231\n",
       "artist     7203\n",
       "genre      1198\n",
       "city          0\n",
       "time          0\n",
       "day           0\n",
       "dtype: int64"
      ]
     },
     "execution_count": 8,
     "metadata": {},
     "output_type": "execute_result"
    }
   ],
   "source": [
    "# подсчёт пропусков\n",
    "df.isna().sum()"
   ]
  },
  {
   "cell_type": "markdown",
   "metadata": {
    "id": "qubhgnlO_Zct"
   },
   "source": [
    "Не все пропущенные значения влияют на исследование. Так в `track` и `artist` пропуски не важны для вашей работы. Достаточно заменить их явными обозначениями.\n",
    "\n",
    "Но пропуски в `genre` могут помешать сравнению музыкальных вкусов в Москве и Санкт-Петербурге. На практике было бы правильно установить причину пропусков и восстановить данные. Такой возможности нет в учебном проекте. Придётся:\n",
    "* заполнить и эти пропуски явными обозначениями,\n",
    "* оценить, насколько они повредят расчётам. "
   ]
  },
  {
   "cell_type": "markdown",
   "metadata": {
    "id": "fSv2laPA_Zct"
   },
   "source": [
    "Замените пропущенные значения в столбцах `track`, `artist` и `genre` на строку `'unknown'`. Для этого создайте список `columns_to_replace`, переберите его элементы циклом `for` и для каждого столбца выполните замену пропущенных значений:"
   ]
  },
  {
   "cell_type": "code",
   "execution_count": 9,
   "metadata": {
    "id": "KplB5qWs_Zct"
   },
   "outputs": [],
   "source": [
    "# перебор названий столбцов в цикле и замена пропущенных значений на 'unknown'\n",
    "columns_to_replace = ['track', 'artist', 'genre']\n",
    "for column in columns_to_replace:\n",
    "    df[column] = df[column].fillna('unknown')"
   ]
  },
  {
   "cell_type": "markdown",
   "metadata": {
    "id": "Ilsm-MZo_Zct"
   },
   "source": [
    "Убедитесь, что в таблице не осталось пропусков. Для этого ещё раз посчитайте пропущенные значения."
   ]
  },
  {
   "cell_type": "code",
   "execution_count": 10,
   "metadata": {
    "id": "Tq4nYRX4_Zct"
   },
   "outputs": [
    {
     "data": {
      "text/plain": [
       "user_id    0\n",
       "track      0\n",
       "artist     0\n",
       "genre      0\n",
       "city       0\n",
       "time       0\n",
       "day        0\n",
       "dtype: int64"
      ]
     },
     "execution_count": 10,
     "metadata": {},
     "output_type": "execute_result"
    }
   ],
   "source": [
    "# подсчёт пропусков\n",
    "df.isna().sum()"
   ]
  },
  {
   "cell_type": "markdown",
   "metadata": {
    "id": "BWKRtBJ3_Zct"
   },
   "source": [
    "### Дубликаты\n",
    "Посчитайте явные дубликаты в таблице одной командой:"
   ]
  },
  {
   "cell_type": "code",
   "execution_count": 11,
   "metadata": {
    "id": "36eES_S0_Zct"
   },
   "outputs": [
    {
     "data": {
      "text/plain": [
       "3826"
      ]
     },
     "execution_count": 11,
     "metadata": {},
     "output_type": "execute_result"
    }
   ],
   "source": [
    "# подсчёт явных дубликатов\n",
    "df.duplicated().sum()"
   ]
  },
  {
   "cell_type": "markdown",
   "metadata": {
    "id": "Ot25h6XR_Zct"
   },
   "source": [
    "Вызовите специальный метод `pandas`, чтобы удалить явные дубликаты:"
   ]
  },
  {
   "cell_type": "code",
   "execution_count": 12,
   "metadata": {
    "id": "exFHq6tt_Zct"
   },
   "outputs": [],
   "source": [
    "# удаление явных дубликатов (с удалением старых индексов и формированием новых)\n",
    "df = df.drop_duplicates().reset_index(drop=True)"
   ]
  },
  {
   "cell_type": "markdown",
   "metadata": {
    "id": "Im2YwBEG_Zct"
   },
   "source": [
    "Ещё раз посчитайте явные дубликаты в таблице — убедитесь, что полностью от них избавились:"
   ]
  },
  {
   "cell_type": "code",
   "execution_count": 13,
   "metadata": {
    "id": "-8PuNWQ0_Zct"
   },
   "outputs": [
    {
     "data": {
      "text/plain": [
       "0"
      ]
     },
     "execution_count": 13,
     "metadata": {},
     "output_type": "execute_result"
    }
   ],
   "source": [
    "# проверка на отсутствие дубликатов\n",
    "df.duplicated().sum()"
   ]
  },
  {
   "cell_type": "markdown",
   "metadata": {
    "id": "QlFBsxAr_Zct"
   },
   "source": [
    "Теперь избавьтесь от неявных дубликатов в колонке `genre`. Например, название одного и того же жанра может быть записано немного по-разному. Такие ошибки тоже повлияют на результат исследования."
   ]
  },
  {
   "cell_type": "markdown",
   "metadata": {
    "id": "eSjWwsOh_Zct"
   },
   "source": [
    "Выведите на экран список уникальных названий жанров, отсортированный в алфавитном порядке. Для этого:\n",
    "* извлеките нужный столбец датафрейма, \n",
    "* примените к нему метод сортировки,\n",
    "* для отсортированного столбца вызовите метод, который вернёт уникальные значения из столбца."
   ]
  },
  {
   "cell_type": "code",
   "execution_count": 14,
   "metadata": {
    "id": "JIUcqzZN_Zct"
   },
   "outputs": [
    {
     "data": {
      "text/plain": [
       "array(['acid', 'acoustic', 'action', 'adult', 'africa', 'afrikaans',\n",
       "       'alternative', 'alternativepunk', 'ambient', 'americana',\n",
       "       'animated', 'anime', 'arabesk', 'arabic', 'arena',\n",
       "       'argentinetango', 'art', 'audiobook', 'author', 'avantgarde',\n",
       "       'axé', 'baile', 'balkan', 'beats', 'bigroom', 'black', 'bluegrass',\n",
       "       'blues', 'bollywood', 'bossa', 'brazilian', 'breakbeat', 'breaks',\n",
       "       'broadway', 'cantautori', 'cantopop', 'canzone', 'caribbean',\n",
       "       'caucasian', 'celtic', 'chamber', 'chanson', 'children', 'chill',\n",
       "       'chinese', 'choral', 'christian', 'christmas', 'classical',\n",
       "       'classicmetal', 'club', 'colombian', 'comedy', 'conjazz',\n",
       "       'contemporary', 'country', 'cuban', 'dance', 'dancehall',\n",
       "       'dancepop', 'dark', 'death', 'deep', 'deutschrock', 'deutschspr',\n",
       "       'dirty', 'disco', 'dnb', 'documentary', 'downbeat', 'downtempo',\n",
       "       'drum', 'dub', 'dubstep', 'eastern', 'easy', 'electronic',\n",
       "       'electropop', 'emo', 'entehno', 'epicmetal', 'estrada', 'ethnic',\n",
       "       'eurofolk', 'european', 'experimental', 'extrememetal', 'fado',\n",
       "       'fairytail', 'film', 'fitness', 'flamenco', 'folk', 'folklore',\n",
       "       'folkmetal', 'folkrock', 'folktronica', 'forró', 'frankreich',\n",
       "       'französisch', 'french', 'funk', 'future', 'gangsta', 'garage',\n",
       "       'german', 'ghazal', 'gitarre', 'glitch', 'gospel', 'gothic',\n",
       "       'grime', 'grunge', 'gypsy', 'handsup', \"hard'n'heavy\", 'hardcore',\n",
       "       'hardstyle', 'hardtechno', 'hip', 'hip-hop', 'hiphop',\n",
       "       'historisch', 'holiday', 'hop', 'horror', 'house', 'hymn', 'idm',\n",
       "       'independent', 'indian', 'indie', 'indipop', 'industrial',\n",
       "       'inspirational', 'instrumental', 'international', 'irish', 'jam',\n",
       "       'japanese', 'jazz', 'jewish', 'jpop', 'jungle', 'k-pop',\n",
       "       'karadeniz', 'karaoke', 'kayokyoku', 'korean', 'laiko', 'latin',\n",
       "       'latino', 'leftfield', 'local', 'lounge', 'loungeelectronic',\n",
       "       'lovers', 'malaysian', 'mandopop', 'marschmusik', 'meditative',\n",
       "       'mediterranean', 'melodic', 'metal', 'metalcore', 'mexican',\n",
       "       'middle', 'minimal', 'miscellaneous', 'modern', 'mood', 'mpb',\n",
       "       'muslim', 'native', 'neoklassik', 'neue', 'new', 'newage',\n",
       "       'newwave', 'nu', 'nujazz', 'numetal', 'oceania', 'old', 'opera',\n",
       "       'orchestral', 'other', 'piano', 'podcasts', 'pop', 'popdance',\n",
       "       'popelectronic', 'popeurodance', 'poprussian', 'post',\n",
       "       'posthardcore', 'postrock', 'power', 'progmetal', 'progressive',\n",
       "       'psychedelic', 'punjabi', 'punk', 'quebecois', 'ragga', 'ram',\n",
       "       'rancheras', 'rap', 'rave', 'reggae', 'reggaeton', 'regional',\n",
       "       'relax', 'religious', 'retro', 'rhythm', 'rnb', 'rnr', 'rock',\n",
       "       'rockabilly', 'rockalternative', 'rockindie', 'rockother',\n",
       "       'romance', 'roots', 'ruspop', 'rusrap', 'rusrock', 'russian',\n",
       "       'salsa', 'samba', 'scenic', 'schlager', 'self', 'sertanejo',\n",
       "       'shanson', 'shoegazing', 'showtunes', 'singer', 'ska', 'skarock',\n",
       "       'slow', 'smooth', 'soft', 'soul', 'soulful', 'sound', 'soundtrack',\n",
       "       'southern', 'specialty', 'speech', 'spiritual', 'sport',\n",
       "       'stonerrock', 'surf', 'swing', 'synthpop', 'synthrock',\n",
       "       'sängerportrait', 'tango', 'tanzorchester', 'taraftar', 'tatar',\n",
       "       'tech', 'techno', 'teen', 'thrash', 'top', 'traditional',\n",
       "       'tradjazz', 'trance', 'tribal', 'trip', 'triphop', 'tropical',\n",
       "       'türk', 'türkçe', 'ukrrock', 'unknown', 'urban', 'uzbek',\n",
       "       'variété', 'vi', 'videogame', 'vocal', 'western', 'world',\n",
       "       'worldbeat', 'ïîï', 'электроника'], dtype=object)"
      ]
     },
     "execution_count": 14,
     "metadata": {},
     "output_type": "execute_result"
    }
   ],
   "source": [
    "# Просмотр уникальных названий жанров\n",
    "df['genre'].sort_values().unique()"
   ]
  },
  {
   "cell_type": "markdown",
   "metadata": {
    "id": "qej-Qmuo_Zct"
   },
   "source": [
    "Просмотрите список и найдите неявные дубликаты названия `hiphop`. Это могут быть названия с ошибками или альтернативные названия того же жанра.\n",
    "\n",
    "Вы увидите следующие неявные дубликаты:\n",
    "* *hip*,\n",
    "* *hop*,\n",
    "* *hip-hop*.\n",
    "\n",
    "Чтобы очистить от них таблицу, напишите функцию `replace_wrong_genres()` с двумя параметрами: \n",
    "* `wrong_genres` — список дубликатов,\n",
    "* `correct_genre` — строка с правильным значением.\n",
    "\n",
    "Функция должна исправить колонку `genre` в таблице `df`: заменить каждое значение из списка `wrong_genres` на значение из `correct_genre`."
   ]
  },
  {
   "cell_type": "code",
   "execution_count": 15,
   "metadata": {
    "id": "ErNDkmns_Zct"
   },
   "outputs": [],
   "source": [
    "# Функция для замены неявных дубликатов\n",
    "def replace_wrong_genres(wrong_genres, correct_genre):\n",
    "     for wrong_genre in wrong_genres:\n",
    "        df['genre'] = df['genre'].replace(wrong_genre, correct_genre)"
   ]
  },
  {
   "cell_type": "markdown",
   "metadata": {
    "id": "aDoBJxbA_Zct"
   },
   "source": [
    "Вызовите `replace_wrong_genres()` и передайте ей такие аргументы, чтобы она устранила неявные дубликаты: вместо `hip`, `hop` и `hip-hop` в таблице должно быть значение `hiphop`:"
   ]
  },
  {
   "cell_type": "code",
   "execution_count": 16,
   "metadata": {
    "id": "YN5i2hpmSo09"
   },
   "outputs": [],
   "source": [
    "# Устранение неявных дубликатов\n",
    "\n",
    "initial_name = ['hip', 'hop', 'hip-hop']  \n",
    "right_name = 'hiphop'\n",
    "replace_wrong_genres(initial_name, right_name)"
   ]
  },
  {
   "cell_type": "markdown",
   "metadata": {
    "id": "zQKF16_RG15m"
   },
   "source": [
    "Проверьте, что заменили неправильные названия:\n",
    "\n",
    "*   hip\n",
    "*   hop\n",
    "*   hip-hop\n",
    "\n",
    "Выведите отсортированный список уникальных значений столбца `genre`:"
   ]
  },
  {
   "cell_type": "code",
   "execution_count": 17,
   "metadata": {
    "id": "wvixALnFG15m"
   },
   "outputs": [
    {
     "name": "stdout",
     "output_type": "stream",
     "text": [
      "<class 'pandas.core.frame.DataFrame'>\n",
      "RangeIndex: 61253 entries, 0 to 61252\n",
      "Data columns (total 7 columns):\n",
      "user_id    61253 non-null object\n",
      "track      61253 non-null object\n",
      "artist     61253 non-null object\n",
      "genre      61253 non-null object\n",
      "city       61253 non-null object\n",
      "time       61253 non-null object\n",
      "day        61253 non-null object\n",
      "dtypes: object(7)\n",
      "memory usage: 3.3+ MB\n"
     ]
    },
    {
     "data": {
      "text/plain": [
       "array(['acid', 'acoustic', 'action', 'adult', 'africa', 'afrikaans',\n",
       "       'alternative', 'alternativepunk', 'ambient', 'americana',\n",
       "       'animated', 'anime', 'arabesk', 'arabic', 'arena',\n",
       "       'argentinetango', 'art', 'audiobook', 'author', 'avantgarde',\n",
       "       'axé', 'baile', 'balkan', 'beats', 'bigroom', 'black', 'bluegrass',\n",
       "       'blues', 'bollywood', 'bossa', 'brazilian', 'breakbeat', 'breaks',\n",
       "       'broadway', 'cantautori', 'cantopop', 'canzone', 'caribbean',\n",
       "       'caucasian', 'celtic', 'chamber', 'chanson', 'children', 'chill',\n",
       "       'chinese', 'choral', 'christian', 'christmas', 'classical',\n",
       "       'classicmetal', 'club', 'colombian', 'comedy', 'conjazz',\n",
       "       'contemporary', 'country', 'cuban', 'dance', 'dancehall',\n",
       "       'dancepop', 'dark', 'death', 'deep', 'deutschrock', 'deutschspr',\n",
       "       'dirty', 'disco', 'dnb', 'documentary', 'downbeat', 'downtempo',\n",
       "       'drum', 'dub', 'dubstep', 'eastern', 'easy', 'electronic',\n",
       "       'electropop', 'emo', 'entehno', 'epicmetal', 'estrada', 'ethnic',\n",
       "       'eurofolk', 'european', 'experimental', 'extrememetal', 'fado',\n",
       "       'fairytail', 'film', 'fitness', 'flamenco', 'folk', 'folklore',\n",
       "       'folkmetal', 'folkrock', 'folktronica', 'forró', 'frankreich',\n",
       "       'französisch', 'french', 'funk', 'future', 'gangsta', 'garage',\n",
       "       'german', 'ghazal', 'gitarre', 'glitch', 'gospel', 'gothic',\n",
       "       'grime', 'grunge', 'gypsy', 'handsup', \"hard'n'heavy\", 'hardcore',\n",
       "       'hardstyle', 'hardtechno', 'hiphop', 'historisch', 'holiday',\n",
       "       'horror', 'house', 'hymn', 'idm', 'independent', 'indian', 'indie',\n",
       "       'indipop', 'industrial', 'inspirational', 'instrumental',\n",
       "       'international', 'irish', 'jam', 'japanese', 'jazz', 'jewish',\n",
       "       'jpop', 'jungle', 'k-pop', 'karadeniz', 'karaoke', 'kayokyoku',\n",
       "       'korean', 'laiko', 'latin', 'latino', 'leftfield', 'local',\n",
       "       'lounge', 'loungeelectronic', 'lovers', 'malaysian', 'mandopop',\n",
       "       'marschmusik', 'meditative', 'mediterranean', 'melodic', 'metal',\n",
       "       'metalcore', 'mexican', 'middle', 'minimal', 'miscellaneous',\n",
       "       'modern', 'mood', 'mpb', 'muslim', 'native', 'neoklassik', 'neue',\n",
       "       'new', 'newage', 'newwave', 'nu', 'nujazz', 'numetal', 'oceania',\n",
       "       'old', 'opera', 'orchestral', 'other', 'piano', 'podcasts', 'pop',\n",
       "       'popdance', 'popelectronic', 'popeurodance', 'poprussian', 'post',\n",
       "       'posthardcore', 'postrock', 'power', 'progmetal', 'progressive',\n",
       "       'psychedelic', 'punjabi', 'punk', 'quebecois', 'ragga', 'ram',\n",
       "       'rancheras', 'rap', 'rave', 'reggae', 'reggaeton', 'regional',\n",
       "       'relax', 'religious', 'retro', 'rhythm', 'rnb', 'rnr', 'rock',\n",
       "       'rockabilly', 'rockalternative', 'rockindie', 'rockother',\n",
       "       'romance', 'roots', 'ruspop', 'rusrap', 'rusrock', 'russian',\n",
       "       'salsa', 'samba', 'scenic', 'schlager', 'self', 'sertanejo',\n",
       "       'shanson', 'shoegazing', 'showtunes', 'singer', 'ska', 'skarock',\n",
       "       'slow', 'smooth', 'soft', 'soul', 'soulful', 'sound', 'soundtrack',\n",
       "       'southern', 'specialty', 'speech', 'spiritual', 'sport',\n",
       "       'stonerrock', 'surf', 'swing', 'synthpop', 'synthrock',\n",
       "       'sängerportrait', 'tango', 'tanzorchester', 'taraftar', 'tatar',\n",
       "       'tech', 'techno', 'teen', 'thrash', 'top', 'traditional',\n",
       "       'tradjazz', 'trance', 'tribal', 'trip', 'triphop', 'tropical',\n",
       "       'türk', 'türkçe', 'ukrrock', 'unknown', 'urban', 'uzbek',\n",
       "       'variété', 'vi', 'videogame', 'vocal', 'western', 'world',\n",
       "       'worldbeat', 'ïîï', 'электроника'], dtype=object)"
      ]
     },
     "execution_count": 17,
     "metadata": {},
     "output_type": "execute_result"
    }
   ],
   "source": [
    "# Проверка на неявные дубликаты\n",
    "df.info()\n",
    "df['genre'].sort_values().unique()"
   ]
  },
  {
   "cell_type": "markdown",
   "metadata": {
    "id": "jz6a9-7HQUDd"
   },
   "source": [
    "**Выводы**\n",
    "\n",
    "Предобработка обнаружила три проблемы в данных:\n",
    "\n",
    "- нарушения в стиле заголовков,\n",
    "- пропущенные значения,\n",
    "- дубликаты — явные и неявные.\n",
    "\n",
    "Вы исправили заголовки, чтобы упростить работу с таблицей. Без дубликатов исследование станет более точным.\n",
    "\n",
    "Пропущенные значения вы заменили на `'unknown'`. Ещё предстоит увидеть, не повредят ли исследованию пропуски в колонке `genre`.\n",
    "\n",
    "Теперь можно перейти к проверке гипотез. "
   ]
  },
  {
   "cell_type": "markdown",
   "metadata": {
    "id": "WttZHXH0SqKk"
   },
   "source": [
    "## Проверка гипотез"
   ]
  },
  {
   "cell_type": "markdown",
   "metadata": {
    "id": "Im936VVi_Zcu"
   },
   "source": [
    "### Сравнение поведения пользователей двух столиц"
   ]
  },
  {
   "cell_type": "markdown",
   "metadata": {
    "id": "nwt_MuaL_Zcu"
   },
   "source": [
    "Первая гипотеза утверждает, что пользователи по-разному слушают музыку в Москве и Санкт-Петербурге. Проверьте это предположение по данным о трёх днях недели — понедельнике, среде и пятнице. Для этого:\n",
    "\n",
    "* Разделите пользователей Москвы и Санкт-Петербурга\n",
    "* Сравните, сколько треков послушала каждая группа пользователей в понедельник, среду и пятницу.\n"
   ]
  },
  {
   "cell_type": "markdown",
   "metadata": {
    "id": "8Dw_YMmT_Zcu"
   },
   "source": [
    "Для тренировки сначала выполните каждый из расчётов по отдельности. \n",
    "\n",
    "Оцените активность пользователей в каждом городе. Сгруппируйте данные по городу и посчитайте прослушивания в каждой группе.\n",
    "\n"
   ]
  },
  {
   "cell_type": "code",
   "execution_count": 24,
   "metadata": {
    "id": "0_Qs96oh_Zcu"
   },
   "outputs": [
    {
     "data": {
      "text/plain": [
       "city\n",
       "Moscow              42741\n",
       "Saint-Petersburg    18512\n",
       "Name: genre, dtype: int64"
      ]
     },
     "execution_count": 24,
     "metadata": {},
     "output_type": "execute_result"
    }
   ],
   "source": [
    "# Подсчёт прослушиваний в каждом городе\n",
    "df.groupby('city')['genre'].count()"
   ]
  },
  {
   "cell_type": "markdown",
   "metadata": {
    "id": "dzli3w8o_Zcu"
   },
   "source": [
    "В Москве прослушиваний больше, чем в Петербурге. Из этого не следует, что московские пользователи чаще слушают музыку. Просто самих пользователей в Москве больше.\n",
    "\n",
    "Теперь сгруппируйте данные по дню недели и подсчитайте прослушивания в понедельник, среду и пятницу. Учтите, что в данных есть информация только о прослушиваниях только за эти дни.\n"
   ]
  },
  {
   "cell_type": "code",
   "execution_count": 25,
   "metadata": {
    "id": "uZMKjiJz_Zcu"
   },
   "outputs": [
    {
     "data": {
      "text/html": [
       "<div>\n",
       "<style scoped>\n",
       "    .dataframe tbody tr th:only-of-type {\n",
       "        vertical-align: middle;\n",
       "    }\n",
       "\n",
       "    .dataframe tbody tr th {\n",
       "        vertical-align: top;\n",
       "    }\n",
       "\n",
       "    .dataframe thead th {\n",
       "        text-align: right;\n",
       "    }\n",
       "</style>\n",
       "<table border=\"1\" class=\"dataframe\">\n",
       "  <thead>\n",
       "    <tr style=\"text-align: right;\">\n",
       "      <th></th>\n",
       "      <th>user_id</th>\n",
       "      <th>track</th>\n",
       "      <th>artist</th>\n",
       "      <th>genre</th>\n",
       "      <th>city</th>\n",
       "      <th>time</th>\n",
       "    </tr>\n",
       "    <tr>\n",
       "      <th>day</th>\n",
       "      <th></th>\n",
       "      <th></th>\n",
       "      <th></th>\n",
       "      <th></th>\n",
       "      <th></th>\n",
       "      <th></th>\n",
       "    </tr>\n",
       "  </thead>\n",
       "  <tbody>\n",
       "    <tr>\n",
       "      <td>Friday</td>\n",
       "      <td>21840</td>\n",
       "      <td>21840</td>\n",
       "      <td>21840</td>\n",
       "      <td>21840</td>\n",
       "      <td>21840</td>\n",
       "      <td>21840</td>\n",
       "    </tr>\n",
       "    <tr>\n",
       "      <td>Monday</td>\n",
       "      <td>21354</td>\n",
       "      <td>21354</td>\n",
       "      <td>21354</td>\n",
       "      <td>21354</td>\n",
       "      <td>21354</td>\n",
       "      <td>21354</td>\n",
       "    </tr>\n",
       "    <tr>\n",
       "      <td>Wednesday</td>\n",
       "      <td>18059</td>\n",
       "      <td>18059</td>\n",
       "      <td>18059</td>\n",
       "      <td>18059</td>\n",
       "      <td>18059</td>\n",
       "      <td>18059</td>\n",
       "    </tr>\n",
       "  </tbody>\n",
       "</table>\n",
       "</div>"
      ],
      "text/plain": [
       "           user_id  track  artist  genre   city   time\n",
       "day                                                   \n",
       "Friday       21840  21840   21840  21840  21840  21840\n",
       "Monday       21354  21354   21354  21354  21354  21354\n",
       "Wednesday    18059  18059   18059  18059  18059  18059"
      ]
     },
     "execution_count": 25,
     "metadata": {},
     "output_type": "execute_result"
    }
   ],
   "source": [
    "# Подсчёт прослушиваний в каждый из трёх дней\n",
    "df.groupby('day').count()"
   ]
  },
  {
   "cell_type": "markdown",
   "metadata": {
    "id": "cC2tNrlL_Zcu"
   },
   "source": [
    "В среднем пользователи из двух городов менее активны по средам. Но картина может измениться, если рассмотреть каждый город в отдельности."
   ]
  },
  {
   "cell_type": "markdown",
   "metadata": {
    "id": "POzs8bGa_Zcu"
   },
   "source": [
    "Вы видели, как работает группировка по городу и по дням недели. Теперь напишите функцию, которая объединит два эти расчёта.\n",
    "\n",
    "Создайте функцию `number_tracks()`, которая посчитает прослушивания для заданного дня и города. Ей понадобятся два параметра:\n",
    "* день недели,\n",
    "* название города.\n",
    "\n",
    "В функции сохраните в переменную строки исходной таблицы, у которых значение:\n",
    "  * в колонке `day` равно параметру `day`,\n",
    "  * в колонке `city` равно параметру `city`.\n",
    "\n",
    "Для этого примените последовательную фильтрацию с логической индексацией.\n",
    "\n",
    "Затем посчитайте значения в столбце `user_id` получившейся таблицы. Результат сохраните в новую переменную. Верните эту переменную из функции."
   ]
  },
  {
   "cell_type": "code",
   "execution_count": 26,
   "metadata": {
    "id": "Nz3GdQB1_Zcu"
   },
   "outputs": [],
   "source": [
    "# <создание функции number_tracks()>\n",
    "# Объявляется функция с двумя параметрами: day, city.\n",
    "def number_tracks(day, city):\n",
    "# В переменной track_list сохраняются те строки таблицы df, для которых \n",
    "# значение в столбце 'day' равно параметру day и одновременно значение\n",
    "# в столбце 'city' равно параметру city (используйте последовательную фильтрацию\n",
    "# с помощью логической индексации).\n",
    "    track_list=df[(df['day']==day) & (df['city']==city)]\n",
    "# В переменной track_list_count сохраняется число значений столбца 'user_id',\n",
    "# рассчитанное методом count() для таблицы track_list.\n",
    "    track_list_count = track_list['user_id'].count()\n",
    "# Функция возвращает число - значение track_list_count.\n",
    "    return track_list_count\n",
    "# Функция для подсчёта прослушиваний для конкретного города и дня.\n",
    "# С помощью последовательной фильтрации с логической индексацией она \n",
    "# сначала получит из исходной таблицы строки с нужным днём,\n",
    "# затем из результата отфильтрует строки с нужным городом,\n",
    "# методом count() посчитает количество значений в колонке user_id. \n",
    "# Это количество функция вернёт в качестве результата"
   ]
  },
  {
   "cell_type": "markdown",
   "metadata": {
    "id": "ytf7xFrFJQ2r"
   },
   "source": [
    "Вызовите `number_tracks()` шесть раз, меняя значение параметров — так, чтобы получить данные для каждого города в каждый из трёх дней."
   ]
  },
  {
   "cell_type": "code",
   "execution_count": 27,
   "metadata": {
    "id": "rJcRATNQ_Zcu"
   },
   "outputs": [
    {
     "data": {
      "text/plain": [
       "15740"
      ]
     },
     "execution_count": 27,
     "metadata": {},
     "output_type": "execute_result"
    }
   ],
   "source": [
    "# количество прослушиваний в Москве по понедельникам\n",
    "number_tracks('Monday', 'Moscow')"
   ]
  },
  {
   "cell_type": "code",
   "execution_count": 28,
   "metadata": {
    "id": "hq_ncZ5T_Zcu"
   },
   "outputs": [
    {
     "data": {
      "text/plain": [
       "5614"
      ]
     },
     "execution_count": 28,
     "metadata": {},
     "output_type": "execute_result"
    }
   ],
   "source": [
    "# количество прослушиваний в Санкт-Петербурге по понедельникам\n",
    "number_tracks('Monday', 'Saint-Petersburg')"
   ]
  },
  {
   "cell_type": "code",
   "execution_count": 29,
   "metadata": {
    "id": "_NTy2VPU_Zcu"
   },
   "outputs": [
    {
     "data": {
      "text/plain": [
       "11056"
      ]
     },
     "execution_count": 29,
     "metadata": {},
     "output_type": "execute_result"
    }
   ],
   "source": [
    "# количество прослушиваний в Москве по средам\n",
    "number_tracks('Wednesday', 'Moscow')"
   ]
  },
  {
   "cell_type": "code",
   "execution_count": 30,
   "metadata": {
    "id": "j2y3TAwo_Zcu"
   },
   "outputs": [
    {
     "data": {
      "text/plain": [
       "7003"
      ]
     },
     "execution_count": 30,
     "metadata": {},
     "output_type": "execute_result"
    }
   ],
   "source": [
    "# количество прослушиваний в Санкт-Петербурге по средам\n",
    "number_tracks('Wednesday', 'Saint-Petersburg')"
   ]
  },
  {
   "cell_type": "code",
   "execution_count": 31,
   "metadata": {
    "id": "vYDw5u_K_Zcu"
   },
   "outputs": [
    {
     "data": {
      "text/plain": [
       "15945"
      ]
     },
     "execution_count": 31,
     "metadata": {},
     "output_type": "execute_result"
    }
   ],
   "source": [
    "# количество прослушиваний в Москве по пятницам\n",
    "number_tracks('Friday', 'Moscow')"
   ]
  },
  {
   "cell_type": "code",
   "execution_count": 32,
   "metadata": {
    "id": "8_yzFtW3_Zcu"
   },
   "outputs": [
    {
     "data": {
      "text/plain": [
       "5895"
      ]
     },
     "execution_count": 32,
     "metadata": {},
     "output_type": "execute_result"
    }
   ],
   "source": [
    "# количество прослушиваний в Санкт-Петербурге по пятницам\n",
    "number_tracks('Friday', 'Saint-Petersburg')"
   ]
  },
  {
   "cell_type": "markdown",
   "metadata": {
    "id": "7QXffbO-_Zcu"
   },
   "source": [
    "Создайте c помощью конструктора `pd.DataFrame` таблицу, где\n",
    "* названия колонок — `['city', 'monday', 'wednesday', 'friday']`;\n",
    "* данные — результаты, которые вы получили с помощью `number_tracks`."
   ]
  },
  {
   "cell_type": "code",
   "execution_count": 33,
   "metadata": {
    "id": "APAcLpOr_Zcu"
   },
   "outputs": [
    {
     "data": {
      "text/html": [
       "<div>\n",
       "<style scoped>\n",
       "    .dataframe tbody tr th:only-of-type {\n",
       "        vertical-align: middle;\n",
       "    }\n",
       "\n",
       "    .dataframe tbody tr th {\n",
       "        vertical-align: top;\n",
       "    }\n",
       "\n",
       "    .dataframe thead th {\n",
       "        text-align: right;\n",
       "    }\n",
       "</style>\n",
       "<table border=\"1\" class=\"dataframe\">\n",
       "  <thead>\n",
       "    <tr style=\"text-align: right;\">\n",
       "      <th></th>\n",
       "      <th>city</th>\n",
       "      <th>monday</th>\n",
       "      <th>wednesday</th>\n",
       "      <th>friday</th>\n",
       "    </tr>\n",
       "  </thead>\n",
       "  <tbody>\n",
       "    <tr>\n",
       "      <td>0</td>\n",
       "      <td>Moscow</td>\n",
       "      <td>15740</td>\n",
       "      <td>11056</td>\n",
       "      <td>15945</td>\n",
       "    </tr>\n",
       "    <tr>\n",
       "      <td>1</td>\n",
       "      <td>Saint-Petersburg</td>\n",
       "      <td>5614</td>\n",
       "      <td>7003</td>\n",
       "      <td>5895</td>\n",
       "    </tr>\n",
       "  </tbody>\n",
       "</table>\n",
       "</div>"
      ],
      "text/plain": [
       "               city  monday  wednesday  friday\n",
       "0            Moscow   15740      11056   15945\n",
       "1  Saint-Petersburg    5614       7003    5895"
      ]
     },
     "execution_count": 33,
     "metadata": {},
     "output_type": "execute_result"
    }
   ],
   "source": [
    "# Таблица с результатами\n",
    "data = [['Moscow', 15740, 11056, 15945],\n",
    "        ['Saint-Petersburg', 5614, 7003, 5895]] \n",
    "columns = ['city', 'monday', 'wednesday', 'friday'] \n",
    "table = pd.DataFrame(data = data, columns = columns) \n",
    "table.head(20)"
   ]
  },
  {
   "cell_type": "markdown",
   "metadata": {
    "id": "-EgPIHYu_Zcu"
   },
   "source": [
    "**Выводы**\n",
    "\n",
    "Данные показывают разницу поведения пользователей:\n",
    "\n",
    "- В Москве пик прослушиваний приходится на понедельник и пятницу, а в среду заметен спад.\n",
    "- В Петербурге, наоборот, больше слушают музыку по средам. Активность в понедельник и пятницу здесь почти в равной мере уступает среде.\n",
    "\n",
    "Значит, данные говорят в пользу первой гипотезы."
   ]
  },
  {
   "cell_type": "markdown",
   "metadata": {
    "id": "atZAxtq4_Zcu"
   },
   "source": [
    "### Музыка в начале и в конце недели"
   ]
  },
  {
   "cell_type": "markdown",
   "metadata": {
    "id": "eXrQqXFH_Zcu"
   },
   "source": [
    "Согласно второй гипотезе, утром в понедельник в Москве преобладают одни жанры, а в Петербурге — другие. Так же и вечером пятницы преобладают разные жанры — в зависимости от города."
   ]
  },
  {
   "cell_type": "markdown",
   "metadata": {
    "id": "S8UcW6Hw_Zcu"
   },
   "source": [
    "Сохраните таблицы с данными в две переменные:\n",
    "* по Москве — в `moscow_general`;\n",
    "* по Санкт-Петербургу — в `spb_general`."
   ]
  },
  {
   "cell_type": "code",
   "execution_count": 34,
   "metadata": {
    "id": "qeaFfM_P_Zcu"
   },
   "outputs": [
    {
     "data": {
      "text/html": [
       "<div>\n",
       "<style scoped>\n",
       "    .dataframe tbody tr th:only-of-type {\n",
       "        vertical-align: middle;\n",
       "    }\n",
       "\n",
       "    .dataframe tbody tr th {\n",
       "        vertical-align: top;\n",
       "    }\n",
       "\n",
       "    .dataframe thead th {\n",
       "        text-align: right;\n",
       "    }\n",
       "</style>\n",
       "<table border=\"1\" class=\"dataframe\">\n",
       "  <thead>\n",
       "    <tr style=\"text-align: right;\">\n",
       "      <th></th>\n",
       "      <th>user_id</th>\n",
       "      <th>track</th>\n",
       "      <th>artist</th>\n",
       "      <th>genre</th>\n",
       "      <th>city</th>\n",
       "      <th>time</th>\n",
       "      <th>day</th>\n",
       "    </tr>\n",
       "  </thead>\n",
       "  <tbody>\n",
       "    <tr>\n",
       "      <td>1</td>\n",
       "      <td>55204538</td>\n",
       "      <td>Delayed Because of Accident</td>\n",
       "      <td>Andreas Rönnberg</td>\n",
       "      <td>rock</td>\n",
       "      <td>Moscow</td>\n",
       "      <td>14:07:09</td>\n",
       "      <td>Friday</td>\n",
       "    </tr>\n",
       "    <tr>\n",
       "      <td>4</td>\n",
       "      <td>E2DC1FAE</td>\n",
       "      <td>Soul People</td>\n",
       "      <td>Space Echo</td>\n",
       "      <td>dance</td>\n",
       "      <td>Moscow</td>\n",
       "      <td>08:34:34</td>\n",
       "      <td>Monday</td>\n",
       "    </tr>\n",
       "    <tr>\n",
       "      <td>6</td>\n",
       "      <td>4CB90AA5</td>\n",
       "      <td>True</td>\n",
       "      <td>Roman Messer</td>\n",
       "      <td>dance</td>\n",
       "      <td>Moscow</td>\n",
       "      <td>13:00:07</td>\n",
       "      <td>Wednesday</td>\n",
       "    </tr>\n",
       "    <tr>\n",
       "      <td>7</td>\n",
       "      <td>F03E1C1F</td>\n",
       "      <td>Feeling This Way</td>\n",
       "      <td>Polina Griffith</td>\n",
       "      <td>dance</td>\n",
       "      <td>Moscow</td>\n",
       "      <td>20:47:49</td>\n",
       "      <td>Wednesday</td>\n",
       "    </tr>\n",
       "    <tr>\n",
       "      <td>8</td>\n",
       "      <td>8FA1D3BE</td>\n",
       "      <td>И вновь продолжается бой</td>\n",
       "      <td>unknown</td>\n",
       "      <td>ruspop</td>\n",
       "      <td>Moscow</td>\n",
       "      <td>09:17:40</td>\n",
       "      <td>Friday</td>\n",
       "    </tr>\n",
       "    <tr>\n",
       "      <td>10</td>\n",
       "      <td>BC5A3A29</td>\n",
       "      <td>Gool la Mita</td>\n",
       "      <td>Shireen Abdul Wahab</td>\n",
       "      <td>world</td>\n",
       "      <td>Moscow</td>\n",
       "      <td>14:08:42</td>\n",
       "      <td>Monday</td>\n",
       "    </tr>\n",
       "    <tr>\n",
       "      <td>11</td>\n",
       "      <td>8B5192C0</td>\n",
       "      <td>Is There Anybody Out There? (Panoramic Paralys...</td>\n",
       "      <td>Pink Floyd Floydhead</td>\n",
       "      <td>electronic</td>\n",
       "      <td>Moscow</td>\n",
       "      <td>13:47:49</td>\n",
       "      <td>Monday</td>\n",
       "    </tr>\n",
       "    <tr>\n",
       "      <td>12</td>\n",
       "      <td>FF3FD2BD</td>\n",
       "      <td>Мина син генэ кирэк</td>\n",
       "      <td>Ильдар Хакимов</td>\n",
       "      <td>pop</td>\n",
       "      <td>Moscow</td>\n",
       "      <td>09:19:49</td>\n",
       "      <td>Monday</td>\n",
       "    </tr>\n",
       "    <tr>\n",
       "      <td>13</td>\n",
       "      <td>CC782B0F</td>\n",
       "      <td>After School Special</td>\n",
       "      <td>Detroit Grand Pubahs</td>\n",
       "      <td>dance</td>\n",
       "      <td>Moscow</td>\n",
       "      <td>20:04:12</td>\n",
       "      <td>Friday</td>\n",
       "    </tr>\n",
       "    <tr>\n",
       "      <td>15</td>\n",
       "      <td>E3C5756F</td>\n",
       "      <td>unknown</td>\n",
       "      <td>unknown</td>\n",
       "      <td>unknown</td>\n",
       "      <td>Moscow</td>\n",
       "      <td>09:24:51</td>\n",
       "      <td>Monday</td>\n",
       "    </tr>\n",
       "    <tr>\n",
       "      <td>19</td>\n",
       "      <td>772F5B59</td>\n",
       "      <td>Sweetback</td>\n",
       "      <td>The Fabulous Three</td>\n",
       "      <td>rnb</td>\n",
       "      <td>Moscow</td>\n",
       "      <td>13:56:42</td>\n",
       "      <td>Wednesday</td>\n",
       "    </tr>\n",
       "    <tr>\n",
       "      <td>20</td>\n",
       "      <td>201CF2A8</td>\n",
       "      <td>Ya'll In Trouble</td>\n",
       "      <td>Lil Tee Chill Tank Young Buck Brother Mohammed...</td>\n",
       "      <td>hiphop</td>\n",
       "      <td>Moscow</td>\n",
       "      <td>08:46:03</td>\n",
       "      <td>Monday</td>\n",
       "    </tr>\n",
       "    <tr>\n",
       "      <td>21</td>\n",
       "      <td>44B8E869</td>\n",
       "      <td>Nanovirus</td>\n",
       "      <td>Exotype</td>\n",
       "      <td>rock</td>\n",
       "      <td>Moscow</td>\n",
       "      <td>21:36:40</td>\n",
       "      <td>Monday</td>\n",
       "    </tr>\n",
       "    <tr>\n",
       "      <td>23</td>\n",
       "      <td>A729591B</td>\n",
       "      <td>Gavotte</td>\n",
       "      <td>Hachidai Nakamura</td>\n",
       "      <td>jazz</td>\n",
       "      <td>Moscow</td>\n",
       "      <td>13:56:00</td>\n",
       "      <td>Monday</td>\n",
       "    </tr>\n",
       "    <tr>\n",
       "      <td>27</td>\n",
       "      <td>9CC6AA46</td>\n",
       "      <td>Mucho Corazón</td>\n",
       "      <td>Buena Vista Social Club</td>\n",
       "      <td>latin</td>\n",
       "      <td>Moscow</td>\n",
       "      <td>14:06:22</td>\n",
       "      <td>Monday</td>\n",
       "    </tr>\n",
       "    <tr>\n",
       "      <td>28</td>\n",
       "      <td>D8D698A9</td>\n",
       "      <td>Romantici</td>\n",
       "      <td>Viola Valentino</td>\n",
       "      <td>pop</td>\n",
       "      <td>Moscow</td>\n",
       "      <td>08:23:21</td>\n",
       "      <td>Wednesday</td>\n",
       "    </tr>\n",
       "    <tr>\n",
       "      <td>33</td>\n",
       "      <td>809CAFB1</td>\n",
       "      <td>Break Me Down</td>\n",
       "      <td>Steve Angello</td>\n",
       "      <td>dance</td>\n",
       "      <td>Moscow</td>\n",
       "      <td>14:42:31</td>\n",
       "      <td>Monday</td>\n",
       "    </tr>\n",
       "    <tr>\n",
       "      <td>34</td>\n",
       "      <td>B416A40F</td>\n",
       "      <td>Лучшая подруга</td>\n",
       "      <td>Супердетки</td>\n",
       "      <td>ruspop</td>\n",
       "      <td>Moscow</td>\n",
       "      <td>14:49:21</td>\n",
       "      <td>Friday</td>\n",
       "    </tr>\n",
       "    <tr>\n",
       "      <td>35</td>\n",
       "      <td>A8AE9169</td>\n",
       "      <td>unknown</td>\n",
       "      <td>unknown</td>\n",
       "      <td>unknown</td>\n",
       "      <td>Moscow</td>\n",
       "      <td>08:56:10</td>\n",
       "      <td>Monday</td>\n",
       "    </tr>\n",
       "    <tr>\n",
       "      <td>36</td>\n",
       "      <td>FCDF1C8E</td>\n",
       "      <td>Nasebanaru</td>\n",
       "      <td>Zen</td>\n",
       "      <td>reggae</td>\n",
       "      <td>Moscow</td>\n",
       "      <td>20:19:36</td>\n",
       "      <td>Wednesday</td>\n",
       "    </tr>\n",
       "  </tbody>\n",
       "</table>\n",
       "</div>"
      ],
      "text/plain": [
       "     user_id                                              track  \\\n",
       "1   55204538                        Delayed Because of Accident   \n",
       "4   E2DC1FAE                                        Soul People   \n",
       "6   4CB90AA5                                               True   \n",
       "7   F03E1C1F                                   Feeling This Way   \n",
       "8   8FA1D3BE                           И вновь продолжается бой   \n",
       "10  BC5A3A29                                       Gool la Mita   \n",
       "11  8B5192C0  Is There Anybody Out There? (Panoramic Paralys...   \n",
       "12  FF3FD2BD                                Мина син генэ кирэк   \n",
       "13  CC782B0F                               After School Special   \n",
       "15  E3C5756F                                            unknown   \n",
       "19  772F5B59                                          Sweetback   \n",
       "20  201CF2A8                                   Ya'll In Trouble   \n",
       "21  44B8E869                                          Nanovirus   \n",
       "23  A729591B                                            Gavotte   \n",
       "27  9CC6AA46                                      Mucho Corazón   \n",
       "28  D8D698A9                                          Romantici   \n",
       "33  809CAFB1                                      Break Me Down   \n",
       "34  B416A40F                                     Лучшая подруга   \n",
       "35  A8AE9169                                            unknown   \n",
       "36  FCDF1C8E                                         Nasebanaru   \n",
       "\n",
       "                                               artist       genre    city  \\\n",
       "1                                    Andreas Rönnberg        rock  Moscow   \n",
       "4                                          Space Echo       dance  Moscow   \n",
       "6                                        Roman Messer       dance  Moscow   \n",
       "7                                     Polina Griffith       dance  Moscow   \n",
       "8                                             unknown      ruspop  Moscow   \n",
       "10                                Shireen Abdul Wahab       world  Moscow   \n",
       "11                               Pink Floyd Floydhead  electronic  Moscow   \n",
       "12                                     Ильдар Хакимов         pop  Moscow   \n",
       "13                               Detroit Grand Pubahs       dance  Moscow   \n",
       "15                                            unknown     unknown  Moscow   \n",
       "19                                 The Fabulous Three         rnb  Moscow   \n",
       "20  Lil Tee Chill Tank Young Buck Brother Mohammed...      hiphop  Moscow   \n",
       "21                                            Exotype        rock  Moscow   \n",
       "23                                  Hachidai Nakamura        jazz  Moscow   \n",
       "27                            Buena Vista Social Club       latin  Moscow   \n",
       "28                                    Viola Valentino         pop  Moscow   \n",
       "33                                      Steve Angello       dance  Moscow   \n",
       "34                                         Супердетки      ruspop  Moscow   \n",
       "35                                            unknown     unknown  Moscow   \n",
       "36                                                Zen      reggae  Moscow   \n",
       "\n",
       "        time        day  \n",
       "1   14:07:09     Friday  \n",
       "4   08:34:34     Monday  \n",
       "6   13:00:07  Wednesday  \n",
       "7   20:47:49  Wednesday  \n",
       "8   09:17:40     Friday  \n",
       "10  14:08:42     Monday  \n",
       "11  13:47:49     Monday  \n",
       "12  09:19:49     Monday  \n",
       "13  20:04:12     Friday  \n",
       "15  09:24:51     Monday  \n",
       "19  13:56:42  Wednesday  \n",
       "20  08:46:03     Monday  \n",
       "21  21:36:40     Monday  \n",
       "23  13:56:00     Monday  \n",
       "27  14:06:22     Monday  \n",
       "28  08:23:21  Wednesday  \n",
       "33  14:42:31     Monday  \n",
       "34  14:49:21     Friday  \n",
       "35  08:56:10     Monday  \n",
       "36  20:19:36  Wednesday  "
      ]
     },
     "execution_count": 34,
     "metadata": {},
     "output_type": "execute_result"
    }
   ],
   "source": [
    "# получение таблицы moscow_general из тех строк таблицы df, \n",
    "# для которых значение в столбце 'city' равно 'Moscow'\n",
    "moscow_general = df[df['city'] == 'Moscow']\n",
    "moscow_general.head(20)"
   ]
  },
  {
   "cell_type": "code",
   "execution_count": 35,
   "metadata": {
    "id": "ORaVRKto_Zcu"
   },
   "outputs": [
    {
     "data": {
      "text/html": [
       "<div>\n",
       "<style scoped>\n",
       "    .dataframe tbody tr th:only-of-type {\n",
       "        vertical-align: middle;\n",
       "    }\n",
       "\n",
       "    .dataframe tbody tr th {\n",
       "        vertical-align: top;\n",
       "    }\n",
       "\n",
       "    .dataframe thead th {\n",
       "        text-align: right;\n",
       "    }\n",
       "</style>\n",
       "<table border=\"1\" class=\"dataframe\">\n",
       "  <thead>\n",
       "    <tr style=\"text-align: right;\">\n",
       "      <th></th>\n",
       "      <th>user_id</th>\n",
       "      <th>track</th>\n",
       "      <th>artist</th>\n",
       "      <th>genre</th>\n",
       "      <th>city</th>\n",
       "      <th>time</th>\n",
       "      <th>day</th>\n",
       "    </tr>\n",
       "  </thead>\n",
       "  <tbody>\n",
       "    <tr>\n",
       "      <td>0</td>\n",
       "      <td>FFB692EC</td>\n",
       "      <td>Kamigata To Boots</td>\n",
       "      <td>The Mass Missile</td>\n",
       "      <td>rock</td>\n",
       "      <td>Saint-Petersburg</td>\n",
       "      <td>20:28:33</td>\n",
       "      <td>Wednesday</td>\n",
       "    </tr>\n",
       "    <tr>\n",
       "      <td>2</td>\n",
       "      <td>20EC38</td>\n",
       "      <td>Funiculì funiculà</td>\n",
       "      <td>Mario Lanza</td>\n",
       "      <td>pop</td>\n",
       "      <td>Saint-Petersburg</td>\n",
       "      <td>20:58:07</td>\n",
       "      <td>Wednesday</td>\n",
       "    </tr>\n",
       "    <tr>\n",
       "      <td>3</td>\n",
       "      <td>A3DD03C9</td>\n",
       "      <td>Dragons in the Sunset</td>\n",
       "      <td>Fire + Ice</td>\n",
       "      <td>folk</td>\n",
       "      <td>Saint-Petersburg</td>\n",
       "      <td>08:37:09</td>\n",
       "      <td>Monday</td>\n",
       "    </tr>\n",
       "    <tr>\n",
       "      <td>5</td>\n",
       "      <td>842029A1</td>\n",
       "      <td>Преданная</td>\n",
       "      <td>IMPERVTOR</td>\n",
       "      <td>rusrap</td>\n",
       "      <td>Saint-Petersburg</td>\n",
       "      <td>13:09:41</td>\n",
       "      <td>Friday</td>\n",
       "    </tr>\n",
       "    <tr>\n",
       "      <td>9</td>\n",
       "      <td>E772D5C0</td>\n",
       "      <td>Pessimist</td>\n",
       "      <td>unknown</td>\n",
       "      <td>dance</td>\n",
       "      <td>Saint-Petersburg</td>\n",
       "      <td>21:20:49</td>\n",
       "      <td>Wednesday</td>\n",
       "    </tr>\n",
       "    <tr>\n",
       "      <td>14</td>\n",
       "      <td>94EB25C2</td>\n",
       "      <td>Make Love Whenever You Can</td>\n",
       "      <td>Arabesque</td>\n",
       "      <td>pop</td>\n",
       "      <td>Saint-Petersburg</td>\n",
       "      <td>13:22:08</td>\n",
       "      <td>Wednesday</td>\n",
       "    </tr>\n",
       "    <tr>\n",
       "      <td>16</td>\n",
       "      <td>81D05C7D</td>\n",
       "      <td>SLAVES OF FEAR</td>\n",
       "      <td>HEALTH</td>\n",
       "      <td>alternative</td>\n",
       "      <td>Saint-Petersburg</td>\n",
       "      <td>20:54:48</td>\n",
       "      <td>Monday</td>\n",
       "    </tr>\n",
       "    <tr>\n",
       "      <td>17</td>\n",
       "      <td>39DE290E</td>\n",
       "      <td>Веснянка</td>\n",
       "      <td>Веданъ Колодъ</td>\n",
       "      <td>folk</td>\n",
       "      <td>Saint-Petersburg</td>\n",
       "      <td>14:36:47</td>\n",
       "      <td>Monday</td>\n",
       "    </tr>\n",
       "    <tr>\n",
       "      <td>18</td>\n",
       "      <td>58AE138A</td>\n",
       "      <td>Pat-a-Cake</td>\n",
       "      <td>Mother Goose Club</td>\n",
       "      <td>children</td>\n",
       "      <td>Saint-Petersburg</td>\n",
       "      <td>20:04:56</td>\n",
       "      <td>Monday</td>\n",
       "    </tr>\n",
       "    <tr>\n",
       "      <td>22</td>\n",
       "      <td>B8E29C9C</td>\n",
       "      <td>Самота</td>\n",
       "      <td>unknown</td>\n",
       "      <td>folk</td>\n",
       "      <td>Saint-Petersburg</td>\n",
       "      <td>20:20:49</td>\n",
       "      <td>Wednesday</td>\n",
       "    </tr>\n",
       "    <tr>\n",
       "      <td>24</td>\n",
       "      <td>8BA8855</td>\n",
       "      <td>A Universal Weakness</td>\n",
       "      <td>Lowercase Noises</td>\n",
       "      <td>postrock</td>\n",
       "      <td>Saint-Petersburg</td>\n",
       "      <td>21:17:25</td>\n",
       "      <td>Wednesday</td>\n",
       "    </tr>\n",
       "    <tr>\n",
       "      <td>25</td>\n",
       "      <td>A4504035</td>\n",
       "      <td>Cradle in Bethlehem</td>\n",
       "      <td>Nat King Cole</td>\n",
       "      <td>jazz</td>\n",
       "      <td>Saint-Petersburg</td>\n",
       "      <td>09:23:01</td>\n",
       "      <td>Wednesday</td>\n",
       "    </tr>\n",
       "    <tr>\n",
       "      <td>26</td>\n",
       "      <td>982219FD</td>\n",
       "      <td>We Not Speak Americano</td>\n",
       "      <td>Genio Band</td>\n",
       "      <td>pop</td>\n",
       "      <td>Saint-Petersburg</td>\n",
       "      <td>20:03:03</td>\n",
       "      <td>Monday</td>\n",
       "    </tr>\n",
       "    <tr>\n",
       "      <td>29</td>\n",
       "      <td>5661F63E</td>\n",
       "      <td>Cюита из балета «Семь красавиц»: I. Вальс</td>\n",
       "      <td>Рауф Абдуллаев Азербайджанский государственный...</td>\n",
       "      <td>classical</td>\n",
       "      <td>Saint-Petersburg</td>\n",
       "      <td>08:33:58</td>\n",
       "      <td>Wednesday</td>\n",
       "    </tr>\n",
       "    <tr>\n",
       "      <td>30</td>\n",
       "      <td>EBA5A8B2</td>\n",
       "      <td>Päivän Nousu Nostajani</td>\n",
       "      <td>Värttinä</td>\n",
       "      <td>world</td>\n",
       "      <td>Saint-Petersburg</td>\n",
       "      <td>08:00:31</td>\n",
       "      <td>Friday</td>\n",
       "    </tr>\n",
       "    <tr>\n",
       "      <td>31</td>\n",
       "      <td>F6A44469</td>\n",
       "      <td>Veritas Universalis</td>\n",
       "      <td>Devathorn</td>\n",
       "      <td>metal</td>\n",
       "      <td>Saint-Petersburg</td>\n",
       "      <td>20:19:42</td>\n",
       "      <td>Friday</td>\n",
       "    </tr>\n",
       "    <tr>\n",
       "      <td>32</td>\n",
       "      <td>84AFC19A</td>\n",
       "      <td>Carry On</td>\n",
       "      <td>Young Rising Sons</td>\n",
       "      <td>alternative</td>\n",
       "      <td>Saint-Petersburg</td>\n",
       "      <td>20:24:51</td>\n",
       "      <td>Monday</td>\n",
       "    </tr>\n",
       "    <tr>\n",
       "      <td>38</td>\n",
       "      <td>14FBD1E5</td>\n",
       "      <td>Solteras</td>\n",
       "      <td>Beauty Brain</td>\n",
       "      <td>dance</td>\n",
       "      <td>Saint-Petersburg</td>\n",
       "      <td>20:33:11</td>\n",
       "      <td>Friday</td>\n",
       "    </tr>\n",
       "    <tr>\n",
       "      <td>39</td>\n",
       "      <td>2CF53316</td>\n",
       "      <td>Прочь от Земли</td>\n",
       "      <td>Космонавты</td>\n",
       "      <td>alternative</td>\n",
       "      <td>Saint-Petersburg</td>\n",
       "      <td>20:29:00</td>\n",
       "      <td>Wednesday</td>\n",
       "    </tr>\n",
       "    <tr>\n",
       "      <td>40</td>\n",
       "      <td>77979A66</td>\n",
       "      <td>Верните в моду любовь</td>\n",
       "      <td>Hazard</td>\n",
       "      <td>rusrap</td>\n",
       "      <td>Saint-Petersburg</td>\n",
       "      <td>08:45:43</td>\n",
       "      <td>Monday</td>\n",
       "    </tr>\n",
       "  </tbody>\n",
       "</table>\n",
       "</div>"
      ],
      "text/plain": [
       "     user_id                                      track  \\\n",
       "0   FFB692EC                          Kamigata To Boots   \n",
       "2     20EC38                          Funiculì funiculà   \n",
       "3   A3DD03C9                      Dragons in the Sunset   \n",
       "5   842029A1                                  Преданная   \n",
       "9   E772D5C0                                  Pessimist   \n",
       "14  94EB25C2                 Make Love Whenever You Can   \n",
       "16  81D05C7D                             SLAVES OF FEAR   \n",
       "17  39DE290E                                   Веснянка   \n",
       "18  58AE138A                                 Pat-a-Cake   \n",
       "22  B8E29C9C                                     Самота   \n",
       "24   8BA8855                       A Universal Weakness   \n",
       "25  A4504035                        Cradle in Bethlehem   \n",
       "26  982219FD                     We Not Speak Americano   \n",
       "29  5661F63E  Cюита из балета «Семь красавиц»: I. Вальс   \n",
       "30  EBA5A8B2                     Päivän Nousu Nostajani   \n",
       "31  F6A44469                        Veritas Universalis   \n",
       "32  84AFC19A                                   Carry On   \n",
       "38  14FBD1E5                                   Solteras   \n",
       "39  2CF53316                             Прочь от Земли   \n",
       "40  77979A66                      Верните в моду любовь   \n",
       "\n",
       "                                               artist        genre  \\\n",
       "0                                    The Mass Missile         rock   \n",
       "2                                         Mario Lanza          pop   \n",
       "3                                          Fire + Ice         folk   \n",
       "5                                           IMPERVTOR       rusrap   \n",
       "9                                             unknown        dance   \n",
       "14                                          Arabesque          pop   \n",
       "16                                             HEALTH  alternative   \n",
       "17                                      Веданъ Колодъ         folk   \n",
       "18                                  Mother Goose Club     children   \n",
       "22                                            unknown         folk   \n",
       "24                                   Lowercase Noises     postrock   \n",
       "25                                      Nat King Cole         jazz   \n",
       "26                                         Genio Band          pop   \n",
       "29  Рауф Абдуллаев Азербайджанский государственный...    classical   \n",
       "30                                          Värttinä        world   \n",
       "31                                          Devathorn        metal   \n",
       "32                                  Young Rising Sons  alternative   \n",
       "38                                       Beauty Brain        dance   \n",
       "39                                         Космонавты  alternative   \n",
       "40                                             Hazard       rusrap   \n",
       "\n",
       "                city      time        day  \n",
       "0   Saint-Petersburg  20:28:33  Wednesday  \n",
       "2   Saint-Petersburg  20:58:07  Wednesday  \n",
       "3   Saint-Petersburg  08:37:09     Monday  \n",
       "5   Saint-Petersburg  13:09:41     Friday  \n",
       "9   Saint-Petersburg  21:20:49  Wednesday  \n",
       "14  Saint-Petersburg  13:22:08  Wednesday  \n",
       "16  Saint-Petersburg  20:54:48     Monday  \n",
       "17  Saint-Petersburg  14:36:47     Monday  \n",
       "18  Saint-Petersburg  20:04:56     Monday  \n",
       "22  Saint-Petersburg  20:20:49  Wednesday  \n",
       "24  Saint-Petersburg  21:17:25  Wednesday  \n",
       "25  Saint-Petersburg  09:23:01  Wednesday  \n",
       "26  Saint-Petersburg  20:03:03     Monday  \n",
       "29  Saint-Petersburg  08:33:58  Wednesday  \n",
       "30  Saint-Petersburg  08:00:31     Friday  \n",
       "31  Saint-Petersburg  20:19:42     Friday  \n",
       "32  Saint-Petersburg  20:24:51     Monday  \n",
       "38  Saint-Petersburg  20:33:11     Friday  \n",
       "39  Saint-Petersburg  20:29:00  Wednesday  \n",
       "40  Saint-Petersburg  08:45:43     Monday  "
      ]
     },
     "execution_count": 35,
     "metadata": {},
     "output_type": "execute_result"
    }
   ],
   "source": [
    "# получение таблицы spb_general из тех строк таблицы df,\n",
    "# для которых значение в столбце 'city' равно 'Saint-Petersburg'\n",
    "spb_general = df[df['city'] == 'Saint-Petersburg']\n",
    "spb_general.head(20)"
   ]
  },
  {
   "cell_type": "markdown",
   "metadata": {
    "id": "MEJV-CX2_Zcu"
   },
   "source": [
    "Создайте функцию `genre_weekday()` с четырьмя параметрами:\n",
    "* таблица (датафрейм) с данными,\n",
    "* день недели,\n",
    "* начальная временная метка в формате 'hh:mm', \n",
    "* последняя временная метка в формате 'hh:mm'.\n",
    "\n",
    "Функция должна вернуть информацию о топ-10 жанров тех треков, которые прослушивали в указанный день, в промежутке между двумя отметками времени."
   ]
  },
  {
   "cell_type": "code",
   "execution_count": 36,
   "metadata": {
    "id": "laJT9BYl_Zcu"
   },
   "outputs": [],
   "source": [
    "# Объявление функции genre_weekday() с параметрами table, day, time1, time2,\n",
    "# которая возвращает информацию о самых популярных жанрах в указанный день в\n",
    "# заданное время:\n",
    "# 1) в переменную genre_df сохраняются те строки переданного датафрейма table, для\n",
    "#    которых одновременно:\n",
    "#    - значение в столбце day равно значению аргумента day\n",
    "#    - значение в столбце time больше значения аргумента time1\n",
    "#    - значение в столбце time меньше значения аргумента time2\n",
    "#    Используйте последовательную фильтрацию с помощью логической индексации.\n",
    "# 2) сгруппировать датафрейм genre_df по столбцу genre, взять один из его\n",
    "#    столбцов и посчитать методом count() количество записей для каждого из\n",
    "#    присутствующих жанров, получившийся Series записать в переменную\n",
    "#    genre_df_count\n",
    "# 3) отсортировать genre_df_count по убыванию встречаемости и сохранить\n",
    "#    в переменную genre_df_sorted\n",
    "# 4) вернуть Series из 10 первых значений genre_df_sorted, это будут топ-10\n",
    "#    популярных жанров (в указанный день, в заданное время)\n",
    "def genre_weekday(table, day, time1, time2):\n",
    "    genre_df =  table[ (table['day'] == day) & (table['time'] > time1) & (time2 > table['time'])]\n",
    "    genre_df_count = genre_df.groupby('genre')['genre'].count()\n",
    "    genre_df_sorted = genre_df_count.sort_values(ascending = False) \n",
    "    return genre_df_sorted.head(10)\n",
    "#def genre_weekday(table, day, time1, time2):\n",
    "#    genre_df = table[table['day'] == day]\n",
    "#    genre_df = genre_df[genre_df['time'] > time1]\n",
    "#    genre_df = genre_df[genre_df['time'] < time2]\n",
    "#    genre_df_count = genre_df.groupby('genre')['genre'].count()\n",
    "#    genre_df_sorted = genre_df_count.sort_values(ascending=False)\n",
    "#    return genre_df_sorted.head(10)"
   ]
  },
  {
   "cell_type": "markdown",
   "metadata": {
    "id": "la2s2_PF_Zcu"
   },
   "source": [
    "Cравните результаты функции `genre_weekday()` для Москвы и Санкт-Петербурга в понедельник утром (с 7:00 до 11:00) и в пятницу вечером (с 17:00 до 23:00):"
   ]
  },
  {
   "cell_type": "code",
   "execution_count": 37,
   "metadata": {
    "id": "yz7itPUQ_Zcu"
   },
   "outputs": [
    {
     "data": {
      "text/plain": [
       "genre\n",
       "pop            781\n",
       "dance          549\n",
       "electronic     480\n",
       "rock           474\n",
       "hiphop         286\n",
       "ruspop         186\n",
       "world          181\n",
       "rusrap         175\n",
       "alternative    164\n",
       "unknown        161\n",
       "Name: genre, dtype: int64"
      ]
     },
     "execution_count": 37,
     "metadata": {},
     "output_type": "execute_result"
    }
   ],
   "source": [
    "# вызов функции для утра понедельника в Москве (вместо df — таблица moscow_general)\n",
    "# объекты, хранящие время, являются строками и сравниваются как строки\n",
    "# пример вызова: genre_weekday(moscow_general, 'Monday', '07:00', '11:00')\n",
    "genre_weekday(moscow_general, 'Monday', '07:00', '11:00')"
   ]
  },
  {
   "cell_type": "code",
   "execution_count": 38,
   "metadata": {
    "id": "kwUcHPdy_Zcu"
   },
   "outputs": [
    {
     "data": {
      "text/plain": [
       "genre\n",
       "pop            218\n",
       "dance          182\n",
       "rock           162\n",
       "electronic     147\n",
       "hiphop          80\n",
       "ruspop          64\n",
       "alternative     58\n",
       "rusrap          55\n",
       "jazz            44\n",
       "classical       40\n",
       "Name: genre, dtype: int64"
      ]
     },
     "execution_count": 38,
     "metadata": {},
     "output_type": "execute_result"
    }
   ],
   "source": [
    "# вызов функции для утра понедельника в Петербурге (вместо df — таблица spb_general)\n",
    "genre_weekday(spb_general, 'Monday', '07:00', '11:00')"
   ]
  },
  {
   "cell_type": "code",
   "execution_count": 39,
   "metadata": {
    "id": "EzXVRE1o_Zcu"
   },
   "outputs": [
    {
     "data": {
      "text/plain": [
       "genre\n",
       "pop            713\n",
       "rock           517\n",
       "dance          495\n",
       "electronic     482\n",
       "hiphop         273\n",
       "world          208\n",
       "ruspop         170\n",
       "alternative    163\n",
       "classical      163\n",
       "rusrap         142\n",
       "Name: genre, dtype: int64"
      ]
     },
     "execution_count": 39,
     "metadata": {},
     "output_type": "execute_result"
    }
   ],
   "source": [
    "# вызов функции для вечера пятницы в Москве\n",
    "genre_weekday(moscow_general, 'Friday', '17:00', '23:00')"
   ]
  },
  {
   "cell_type": "code",
   "execution_count": 40,
   "metadata": {
    "id": "JZaEKu5v_Zcu"
   },
   "outputs": [
    {
     "data": {
      "text/plain": [
       "genre\n",
       "pop            256\n",
       "rock           216\n",
       "electronic     216\n",
       "dance          210\n",
       "hiphop          97\n",
       "alternative     63\n",
       "jazz            61\n",
       "classical       60\n",
       "rusrap          59\n",
       "world           54\n",
       "Name: genre, dtype: int64"
      ]
     },
     "execution_count": 40,
     "metadata": {},
     "output_type": "execute_result"
    }
   ],
   "source": [
    "# вызов функции для вечера пятницы в Петербурге\n",
    "genre_weekday(spb_general, 'Friday', '17:00', '23:00')"
   ]
  },
  {
   "cell_type": "markdown",
   "metadata": {
    "id": "wrCe4MNX_Zcu"
   },
   "source": [
    "**Выводы**\n",
    "\n",
    "Если сравнить топ-10 жанров в понедельник утром, можно сделать такие выводы:\n",
    "\n",
    "1. В Москве и Петербурге слушают похожую музыку. Единственное отличие — в московский рейтинг вошёл жанр “world”, а в петербургский — джаз и классика.\n",
    "\n",
    "2. В Москве пропущенных значений оказалось так много, что значение `'unknown'` заняло десятое место среди самых популярных жанров. Значит, пропущенные значения занимают существенную долю в данных и угрожают достоверности исследования.\n",
    "\n",
    "Вечер пятницы не меняет эту картину. Некоторые жанры поднимаются немного выше, другие спускаются, но в целом топ-10 остаётся тем же самым.\n",
    "\n",
    "Таким образом, вторая гипотеза подтвердилась лишь частично:\n",
    "* Пользователи слушают похожую музыку в начале недели и в конце.\n",
    "* Разница между Москвой и Петербургом не слишком выражена. В Москве чаще слушают русскую популярную музыку, в Петербурге — джаз.\n",
    "\n",
    "Однако пропуски в данных ставят под сомнение этот результат. В Москве их так много, что рейтинг топ-10 мог бы выглядеть иначе, если бы не утерянные  данные о жанрах."
   ]
  },
  {
   "cell_type": "markdown",
   "metadata": {
    "id": "JolODAqr_Zcu"
   },
   "source": [
    "### Жанровые предпочтения в Москве и Петербурге\n",
    "\n",
    "Гипотеза: Петербург — столица рэпа, музыку этого жанра там слушают чаще, чем в Москве.  А Москва — город контрастов, в котором, тем не менее, преобладает поп-музыка."
   ]
  },
  {
   "cell_type": "markdown",
   "metadata": {
    "id": "DlegSvaT_Zcu"
   },
   "source": [
    "Сгруппируйте таблицу `moscow_general` по жанру и посчитайте прослушивания треков каждого жанра методом `count()`. Затем отсортируйте результат в порядке убывания и сохраните его в таблице `moscow_genres`."
   ]
  },
  {
   "cell_type": "code",
   "execution_count": 41,
   "metadata": {
    "id": "r19lIPke_Zcu"
   },
   "outputs": [],
   "source": [
    "# одной строкой: группировка таблицы moscow_general по столбцу 'genre', \n",
    "# подсчёт числа значений 'genre' в этой группировке методом count(), \n",
    "# сортировка получившегося Series в порядке убывания и сохранение в moscow_genres\n",
    "moscow_genres=moscow_general.groupby('genre')['genre'].count().sort_values(ascending = False)"
   ]
  },
  {
   "cell_type": "markdown",
   "metadata": {
    "id": "6kMuomxTiIr8"
   },
   "source": [
    "Выведите на экран первые десять строк `moscow_genres`:"
   ]
  },
  {
   "cell_type": "code",
   "execution_count": 42,
   "metadata": {
    "id": "WhCSooF8_Zcv"
   },
   "outputs": [
    {
     "data": {
      "text/plain": [
       "genre\n",
       "pop            5892\n",
       "dance          4435\n",
       "rock           3965\n",
       "electronic     3786\n",
       "hiphop         2096\n",
       "classical      1616\n",
       "world          1432\n",
       "alternative    1379\n",
       "ruspop         1372\n",
       "rusrap         1161\n",
       "Name: genre, dtype: int64"
      ]
     },
     "execution_count": 42,
     "metadata": {},
     "output_type": "execute_result"
    }
   ],
   "source": [
    "# просмотр первых 10 строк moscow_genres\n",
    "moscow_genres.head(10)"
   ]
  },
  {
   "cell_type": "markdown",
   "metadata": {
    "id": "cnPG2vnN_Zcv"
   },
   "source": [
    "Теперь повторите то же и для Петербурга.\n",
    "\n",
    "Сгруппируйте таблицу `spb_general` по жанру. Посчитайте прослушивания треков каждого жанра. Результат отсортируйте в порядке убывания и сохраните в таблице `spb_genres`:\n"
   ]
  },
  {
   "cell_type": "code",
   "execution_count": 43,
   "metadata": {
    "id": "gluLIpE7_Zcv"
   },
   "outputs": [],
   "source": [
    "# одной строкой: группировка таблицы spb_general по столбцу 'genre', \n",
    "# подсчёт числа значений 'genre' в этой группировке методом count(), \n",
    "# сортировка получившегося Series в порядке убывания и сохранение в spb_genres\n",
    "spb_genres=spb_general.groupby('genre')['genre'].count().sort_values(ascending=False)"
   ]
  },
  {
   "cell_type": "markdown",
   "metadata": {
    "id": "5Doha_ODgyQ8"
   },
   "source": [
    "Выведите на экран первые десять строк `spb_genres`:"
   ]
  },
  {
   "cell_type": "code",
   "execution_count": 44,
   "metadata": {
    "id": "uaGJHjVU_Zcv"
   },
   "outputs": [
    {
     "data": {
      "text/plain": [
       "genre\n",
       "pop            2431\n",
       "dance          1932\n",
       "rock           1879\n",
       "electronic     1736\n",
       "hiphop          960\n",
       "alternative     649\n",
       "classical       646\n",
       "rusrap          564\n",
       "ruspop          538\n",
       "world           515\n",
       "Name: genre, dtype: int64"
      ]
     },
     "execution_count": 44,
     "metadata": {},
     "output_type": "execute_result"
    }
   ],
   "source": [
    "# просмотр первых 10 строк spb_genres\n",
    "spb_genres.head(10)"
   ]
  },
  {
   "cell_type": "markdown",
   "metadata": {
    "id": "RY51YJYu_Zcv"
   },
   "source": [
    "**Выводы**"
   ]
  },
  {
   "cell_type": "markdown",
   "metadata": {
    "id": "nVhnJEm__Zcv"
   },
   "source": [
    "Гипотеза частично подтвердилась:\n",
    "* Поп-музыка — самый популярный жанр в Москве, как и предполагала гипотеза. Более того, в топ-10 жанров встречается близкий жанр — русская популярная музыка.\n",
    "* Вопреки ожиданиям, рэп одинаково популярен в Москве и Петербурге. \n"
   ]
  },
  {
   "cell_type": "markdown",
   "metadata": {
    "id": "ykKQ0N65_Zcv"
   },
   "source": [
    "## Итоги исследования"
   ]
  },
  {
   "cell_type": "markdown",
   "metadata": {
    "id": "tjUwbHb3_Zcv"
   },
   "source": [
    "Вы проверили три гипотезы и установили:\n",
    "\n",
    "1. День недели по-разному влияет на активность пользователей в Москве и Петербурге. \n",
    "\n",
    "Первая гипотеза полностью подтвердилась.\n",
    "\n",
    "2. Музыкальные предпочтения не сильно меняются в течение недели — будь то Москва или Петербург. Небольшие различия заметны в начале недели, по понедельникам:\n",
    "* в Москве слушают музыку жанра “world”,\n",
    "* в Петербурге — джаз и классику.\n",
    "\n",
    "Таким образом, вторая гипотеза подтвердилась лишь отчасти. Этот результат мог оказаться иным, если бы не пропуски в данных.\n",
    "\n",
    "3. Во вкусах пользователей Москвы и Петербурга больше общего чем различий. Вопреки ожиданиям, предпочтения жанров в Петербурге напоминают московские.\n",
    "\n",
    "Третья гипотеза не подтвердилась. Если различия в предпочтениях и существуют, на основной массе пользователей они незаметны.\n",
    "\n",
    "**На практике исследования содержат проверки статистических гипотез.**\n",
    "Из данных одного сервиса не всегда можно сделать вывод о всех жителях города.\n",
    "Проверки статистических гипотез покажут, насколько они достоверны, исходя из имеющихся данных. \n",
    "С методами проверок гипотез вы ещё познакомитесь в следующих темах."
   ]
  }
 ],
 "metadata": {
  "ExecuteTimeLog": [
   {
    "duration": 960,
    "start_time": "2022-02-04T12:07:21.471Z"
   },
   {
    "duration": 262,
    "start_time": "2022-02-04T12:07:30.450Z"
   },
   {
    "duration": 35,
    "start_time": "2022-02-04T12:07:36.534Z"
   },
   {
    "duration": 49,
    "start_time": "2022-02-04T12:07:44.438Z"
   },
   {
    "duration": 5,
    "start_time": "2022-02-04T12:08:15.893Z"
   },
   {
    "duration": 6,
    "start_time": "2022-02-04T12:09:58.316Z"
   },
   {
    "duration": 24,
    "start_time": "2022-02-04T12:13:17.038Z"
   },
   {
    "duration": 5,
    "start_time": "2022-02-04T12:13:32.762Z"
   },
   {
    "duration": 457,
    "start_time": "2022-02-04T12:18:03.646Z"
   },
   {
    "duration": 6,
    "start_time": "2022-02-04T12:18:12.250Z"
   },
   {
    "duration": 752,
    "start_time": "2022-02-04T12:19:27.360Z"
   },
   {
    "duration": 195,
    "start_time": "2022-02-04T12:19:31.657Z"
   },
   {
    "duration": 31,
    "start_time": "2022-02-04T12:19:34.610Z"
   },
   {
    "duration": 5,
    "start_time": "2022-02-04T12:19:42.120Z"
   },
   {
    "duration": 25,
    "start_time": "2022-02-04T12:19:50.982Z"
   },
   {
    "duration": 6,
    "start_time": "2022-02-04T12:19:54.292Z"
   },
   {
    "duration": 27,
    "start_time": "2022-02-04T12:20:08.279Z"
   },
   {
    "duration": 6,
    "start_time": "2022-02-04T12:20:13.953Z"
   },
   {
    "duration": 26,
    "start_time": "2022-02-04T12:20:36.877Z"
   },
   {
    "duration": 6,
    "start_time": "2022-02-04T12:20:39.519Z"
   },
   {
    "duration": 31,
    "start_time": "2022-02-04T12:21:38.416Z"
   },
   {
    "duration": 7563,
    "start_time": "2022-02-04T12:22:58.786Z"
   },
   {
    "duration": 33,
    "start_time": "2022-02-04T12:23:46.541Z"
   },
   {
    "duration": 45,
    "start_time": "2022-02-04T12:23:56.316Z"
   },
   {
    "duration": 79,
    "start_time": "2022-02-04T12:24:24.990Z"
   },
   {
    "duration": 82,
    "start_time": "2022-02-04T12:24:44.393Z"
   },
   {
    "duration": 72,
    "start_time": "2022-02-04T12:25:03.947Z"
   },
   {
    "duration": 10,
    "start_time": "2022-02-04T12:25:28.843Z"
   },
   {
    "duration": 5,
    "start_time": "2022-02-04T12:28:45.741Z"
   },
   {
    "duration": 20,
    "start_time": "2022-02-04T12:30:28.000Z"
   },
   {
    "duration": 10,
    "start_time": "2022-02-04T12:30:51.701Z"
   },
   {
    "duration": 68,
    "start_time": "2022-02-04T12:31:51.200Z"
   },
   {
    "duration": 314,
    "start_time": "2022-02-04T12:34:57.957Z"
   },
   {
    "duration": 6,
    "start_time": "2022-02-04T12:35:19.705Z"
   },
   {
    "duration": -378,
    "start_time": "2022-02-04T12:35:32.397Z"
   },
   {
    "duration": 5,
    "start_time": "2022-02-04T12:35:33.377Z"
   },
   {
    "duration": 8904,
    "start_time": "2022-02-04T12:35:38.709Z"
   },
   {
    "duration": 5,
    "start_time": "2022-02-04T12:35:48.502Z"
   },
   {
    "duration": 4,
    "start_time": "2022-02-04T12:35:52.527Z"
   },
   {
    "duration": 5,
    "start_time": "2022-02-04T12:35:55.723Z"
   },
   {
    "duration": 4,
    "start_time": "2022-02-04T12:35:58.602Z"
   },
   {
    "duration": -347,
    "start_time": "2022-02-04T12:36:10.226Z"
   },
   {
    "duration": 329,
    "start_time": "2022-02-04T12:36:54.236Z"
   },
   {
    "duration": 41,
    "start_time": "2022-02-04T12:37:51.889Z"
   },
   {
    "duration": 321,
    "start_time": "2022-02-04T12:37:57.370Z"
   },
   {
    "duration": 49,
    "start_time": "2022-02-04T12:38:56.968Z"
   },
   {
    "duration": 5,
    "start_time": "2022-02-04T12:39:26.134Z"
   },
   {
    "duration": 21,
    "start_time": "2022-02-04T12:39:29.254Z"
   },
   {
    "duration": 18,
    "start_time": "2022-02-04T12:40:06.777Z"
   },
   {
    "duration": 744,
    "start_time": "2022-02-04T12:40:40.222Z"
   },
   {
    "duration": 185,
    "start_time": "2022-02-04T12:40:42.152Z"
   },
   {
    "duration": 25,
    "start_time": "2022-02-04T12:40:45.507Z"
   },
   {
    "duration": 39,
    "start_time": "2022-02-04T12:40:49.183Z"
   },
   {
    "duration": 6,
    "start_time": "2022-02-04T12:40:54.001Z"
   },
   {
    "duration": 22,
    "start_time": "2022-02-04T12:41:13.700Z"
   },
   {
    "duration": 6,
    "start_time": "2022-02-04T12:41:17.935Z"
   },
   {
    "duration": 29,
    "start_time": "2022-02-04T12:41:22.450Z"
   },
   {
    "duration": 24,
    "start_time": "2022-02-04T12:41:27.580Z"
   },
   {
    "duration": 31,
    "start_time": "2022-02-04T12:41:30.811Z"
   },
   {
    "duration": 86,
    "start_time": "2022-02-04T12:41:34.156Z"
   },
   {
    "duration": 101,
    "start_time": "2022-02-04T12:41:37.472Z"
   },
   {
    "duration": 78,
    "start_time": "2022-02-04T12:41:40.139Z"
   },
   {
    "duration": 10,
    "start_time": "2022-02-04T12:41:43.466Z"
   },
   {
    "duration": 4,
    "start_time": "2022-02-04T12:41:48.993Z"
   },
   {
    "duration": 19,
    "start_time": "2022-02-04T12:41:51.808Z"
   },
   {
    "duration": 9,
    "start_time": "2022-02-04T12:41:54.661Z"
   },
   {
    "duration": 70,
    "start_time": "2022-02-04T12:41:59.560Z"
   },
   {
    "duration": 44,
    "start_time": "2022-02-04T12:42:03.240Z"
   },
   {
    "duration": 4,
    "start_time": "2022-02-04T12:42:09.425Z"
   },
   {
    "duration": 20,
    "start_time": "2022-02-04T12:42:12.254Z"
   },
   {
    "duration": 18,
    "start_time": "2022-02-04T12:42:14.583Z"
   },
   {
    "duration": 19,
    "start_time": "2022-02-04T12:42:29.283Z"
   },
   {
    "duration": 17,
    "start_time": "2022-02-04T12:42:44.270Z"
   },
   {
    "duration": 22,
    "start_time": "2022-02-04T12:42:58.424Z"
   },
   {
    "duration": 19,
    "start_time": "2022-02-04T12:43:14.250Z"
   },
   {
    "duration": 21,
    "start_time": "2022-02-04T12:43:53.230Z"
   },
   {
    "duration": 31,
    "start_time": "2022-02-04T12:44:59.369Z"
   },
   {
    "duration": 23,
    "start_time": "2022-02-04T12:45:20.158Z"
   },
   {
    "duration": 5,
    "start_time": "2022-02-04T12:47:19.177Z"
   },
   {
    "duration": 25,
    "start_time": "2022-02-04T12:47:39.466Z"
   },
   {
    "duration": 18,
    "start_time": "2022-02-04T12:49:06.358Z"
   },
   {
    "duration": 22,
    "start_time": "2022-02-04T12:49:29.156Z"
   },
   {
    "duration": 16,
    "start_time": "2022-02-04T12:49:46.563Z"
   },
   {
    "duration": 757,
    "start_time": "2022-02-04T12:57:02.626Z"
   },
   {
    "duration": 1680,
    "start_time": "2022-02-04T12:57:08.077Z"
   },
   {
    "duration": 25,
    "start_time": "2022-02-04T12:57:12.564Z"
   },
   {
    "duration": 32,
    "start_time": "2022-02-04T12:57:17.964Z"
   },
   {
    "duration": 5,
    "start_time": "2022-02-04T12:57:23.484Z"
   },
   {
    "duration": 26,
    "start_time": "2022-02-04T12:57:30.145Z"
   },
   {
    "duration": 5,
    "start_time": "2022-02-04T12:57:33.983Z"
   },
   {
    "duration": 31,
    "start_time": "2022-02-04T12:57:38.358Z"
   },
   {
    "duration": 22,
    "start_time": "2022-02-04T12:58:00.544Z"
   },
   {
    "duration": 29,
    "start_time": "2022-02-04T12:58:03.769Z"
   },
   {
    "duration": 85,
    "start_time": "2022-02-04T12:58:09.861Z"
   },
   {
    "duration": 100,
    "start_time": "2022-02-04T12:58:15.661Z"
   },
   {
    "duration": 78,
    "start_time": "2022-02-04T12:58:20.104Z"
   },
   {
    "duration": 11,
    "start_time": "2022-02-04T12:58:25.366Z"
   },
   {
    "duration": 4,
    "start_time": "2022-02-04T12:58:57.621Z"
   },
   {
    "duration": 19,
    "start_time": "2022-02-04T13:00:21.973Z"
   },
   {
    "duration": 9,
    "start_time": "2022-02-04T13:00:26.961Z"
   },
   {
    "duration": 47,
    "start_time": "2022-02-04T13:00:42.729Z"
   },
   {
    "duration": 42,
    "start_time": "2022-02-04T13:00:52.641Z"
   },
   {
    "duration": 5,
    "start_time": "2022-02-04T13:01:06.210Z"
   },
   {
    "duration": 20,
    "start_time": "2022-02-04T13:01:10.455Z"
   },
   {
    "duration": 18,
    "start_time": "2022-02-04T13:01:14.271Z"
   },
   {
    "duration": 19,
    "start_time": "2022-02-04T13:01:18.093Z"
   },
   {
    "duration": 18,
    "start_time": "2022-02-04T13:01:21.669Z"
   },
   {
    "duration": 20,
    "start_time": "2022-02-04T13:01:25.415Z"
   },
   {
    "duration": 18,
    "start_time": "2022-02-04T13:01:29.284Z"
   },
   {
    "duration": 17,
    "start_time": "2022-02-04T13:02:05.872Z"
   },
   {
    "duration": 25,
    "start_time": "2022-02-04T13:03:22.574Z"
   },
   {
    "duration": 23,
    "start_time": "2022-02-04T13:03:35.637Z"
   },
   {
    "duration": 8,
    "start_time": "2022-02-04T13:04:57.420Z"
   },
   {
    "duration": 27,
    "start_time": "2022-02-04T13:05:06.295Z"
   },
   {
    "duration": 30,
    "start_time": "2022-02-04T13:06:17.890Z"
   },
   {
    "duration": 24,
    "start_time": "2022-02-04T13:06:26.350Z"
   },
   {
    "duration": 27,
    "start_time": "2022-02-04T13:07:15.446Z"
   },
   {
    "duration": 22,
    "start_time": "2022-02-04T13:07:21.154Z"
   },
   {
    "duration": 6,
    "start_time": "2022-02-04T13:11:06.786Z"
   },
   {
    "duration": -324,
    "start_time": "2022-02-04T13:11:38.592Z"
   },
   {
    "duration": 6,
    "start_time": "2022-02-04T13:12:49.049Z"
   },
   {
    "duration": 25,
    "start_time": "2022-02-04T13:12:51.868Z"
   },
   {
    "duration": 6,
    "start_time": "2022-02-04T13:14:30.603Z"
   },
   {
    "duration": 28,
    "start_time": "2022-02-04T13:14:33.410Z"
   },
   {
    "duration": 5,
    "start_time": "2022-02-04T13:18:12.760Z"
   },
   {
    "duration": 690,
    "start_time": "2022-02-04T13:18:17.080Z"
   },
   {
    "duration": 5,
    "start_time": "2022-02-04T13:18:49.151Z"
   },
   {
    "duration": 743,
    "start_time": "2022-02-04T13:18:54.319Z"
   },
   {
    "duration": 8,
    "start_time": "2022-02-04T13:19:12.788Z"
   },
   {
    "duration": 22,
    "start_time": "2022-02-04T13:19:16.260Z"
   },
   {
    "duration": 18,
    "start_time": "2022-02-04T13:19:28.792Z"
   },
   {
    "duration": 24,
    "start_time": "2022-02-04T13:19:32.336Z"
   },
   {
    "duration": 18,
    "start_time": "2022-02-04T13:19:37.004Z"
   },
   {
    "duration": 6,
    "start_time": "2022-02-04T13:20:52.809Z"
   },
   {
    "duration": 24,
    "start_time": "2022-02-04T13:20:56.240Z"
   },
   {
    "duration": 31,
    "start_time": "2022-02-04T13:23:01.072Z"
   },
   {
    "duration": 27,
    "start_time": "2022-02-04T13:23:46.478Z"
   },
   {
    "duration": 9,
    "start_time": "2022-02-04T13:27:48.619Z"
   },
   {
    "duration": 10,
    "start_time": "2022-02-04T13:29:00.936Z"
   },
   {
    "duration": 781,
    "start_time": "2022-02-04T13:29:27.898Z"
   },
   {
    "duration": 182,
    "start_time": "2022-02-04T13:29:34.817Z"
   },
   {
    "duration": 25,
    "start_time": "2022-02-04T13:29:38.699Z"
   },
   {
    "duration": 701,
    "start_time": "2022-02-04T13:29:51.661Z"
   },
   {
    "duration": 172,
    "start_time": "2022-02-04T13:29:55.553Z"
   },
   {
    "duration": 25,
    "start_time": "2022-02-04T13:29:58.810Z"
   },
   {
    "duration": 34,
    "start_time": "2022-02-04T13:30:03.229Z"
   },
   {
    "duration": 6,
    "start_time": "2022-02-04T13:30:15.014Z"
   },
   {
    "duration": 27,
    "start_time": "2022-02-04T13:30:18.805Z"
   },
   {
    "duration": 6,
    "start_time": "2022-02-04T13:30:23.750Z"
   },
   {
    "duration": 32,
    "start_time": "2022-02-04T13:30:27.728Z"
   },
   {
    "duration": 23,
    "start_time": "2022-02-04T13:30:39.205Z"
   },
   {
    "duration": 29,
    "start_time": "2022-02-04T13:30:43.532Z"
   },
   {
    "duration": 88,
    "start_time": "2022-02-04T13:30:48.392Z"
   },
   {
    "duration": 88,
    "start_time": "2022-02-04T13:30:52.683Z"
   },
   {
    "duration": 76,
    "start_time": "2022-02-04T13:30:57.210Z"
   },
   {
    "duration": 10,
    "start_time": "2022-02-04T13:31:01.395Z"
   },
   {
    "duration": 767,
    "start_time": "2022-02-04T13:38:10.242Z"
   },
   {
    "duration": 173,
    "start_time": "2022-02-04T13:38:14.802Z"
   },
   {
    "duration": 36,
    "start_time": "2022-02-04T13:38:18.749Z"
   },
   {
    "duration": 30,
    "start_time": "2022-02-04T13:38:25.343Z"
   },
   {
    "duration": 6,
    "start_time": "2022-02-04T13:38:31.192Z"
   },
   {
    "duration": 24,
    "start_time": "2022-02-04T13:38:35.844Z"
   },
   {
    "duration": 5,
    "start_time": "2022-02-04T13:38:39.551Z"
   },
   {
    "duration": 30,
    "start_time": "2022-02-04T13:38:44.412Z"
   },
   {
    "duration": 23,
    "start_time": "2022-02-04T13:38:48.626Z"
   },
   {
    "duration": 28,
    "start_time": "2022-02-04T13:38:52.784Z"
   },
   {
    "duration": 79,
    "start_time": "2022-02-04T13:38:57.332Z"
   },
   {
    "duration": 102,
    "start_time": "2022-02-04T13:39:01.042Z"
   },
   {
    "duration": 82,
    "start_time": "2022-02-04T13:39:04.480Z"
   },
   {
    "duration": 9,
    "start_time": "2022-02-04T13:39:10.986Z"
   },
   {
    "duration": 11,
    "start_time": "2022-02-04T13:42:10.150Z"
   },
   {
    "duration": 427,
    "start_time": "2022-02-04T13:50:50.654Z"
   },
   {
    "duration": 424,
    "start_time": "2022-02-04T13:51:01.601Z"
   },
   {
    "duration": 48,
    "start_time": "2022-02-04T13:51:39.381Z"
   },
   {
    "duration": 33,
    "start_time": "2022-02-04T13:56:37.651Z"
   },
   {
    "duration": 746,
    "start_time": "2022-02-04T13:57:12.114Z"
   },
   {
    "duration": 175,
    "start_time": "2022-02-04T13:57:14.678Z"
   },
   {
    "duration": 27,
    "start_time": "2022-02-04T13:57:17.747Z"
   },
   {
    "duration": 31,
    "start_time": "2022-02-04T13:57:20.950Z"
   },
   {
    "duration": 6,
    "start_time": "2022-02-04T13:57:26.259Z"
   },
   {
    "duration": 27,
    "start_time": "2022-02-04T13:57:30.184Z"
   },
   {
    "duration": 6,
    "start_time": "2022-02-04T13:57:33.447Z"
   },
   {
    "duration": 22,
    "start_time": "2022-02-04T13:57:51.137Z"
   },
   {
    "duration": 30,
    "start_time": "2022-02-04T13:58:05.200Z"
   },
   {
    "duration": 58,
    "start_time": "2022-02-04T13:58:15.642Z"
   },
   {
    "duration": 78,
    "start_time": "2022-02-04T13:58:24.459Z"
   },
   {
    "duration": 99,
    "start_time": "2022-02-04T13:58:28.437Z"
   },
   {
    "duration": 77,
    "start_time": "2022-02-04T13:58:32.607Z"
   },
   {
    "duration": 36,
    "start_time": "2022-02-04T13:58:39.283Z"
   },
   {
    "duration": 4,
    "start_time": "2022-02-04T14:00:10.764Z"
   },
   {
    "duration": 81,
    "start_time": "2022-02-04T14:00:14.719Z"
   },
   {
    "duration": 747,
    "start_time": "2022-02-04T14:17:48.725Z"
   },
   {
    "duration": 178,
    "start_time": "2022-02-04T14:17:51.649Z"
   },
   {
    "duration": 27,
    "start_time": "2022-02-04T14:17:54.026Z"
   },
   {
    "duration": 34,
    "start_time": "2022-02-04T14:17:58.110Z"
   },
   {
    "duration": 6,
    "start_time": "2022-02-04T14:18:02.256Z"
   },
   {
    "duration": 25,
    "start_time": "2022-02-04T14:18:05.635Z"
   },
   {
    "duration": 6,
    "start_time": "2022-02-04T14:18:08.305Z"
   },
   {
    "duration": 30,
    "start_time": "2022-02-04T14:18:11.668Z"
   },
   {
    "duration": 23,
    "start_time": "2022-02-04T14:18:20.297Z"
   },
   {
    "duration": 94,
    "start_time": "2022-02-04T14:18:23.982Z"
   },
   {
    "duration": 83,
    "start_time": "2022-02-04T14:18:29.968Z"
   },
   {
    "duration": 96,
    "start_time": "2022-02-04T14:18:32.958Z"
   },
   {
    "duration": 82,
    "start_time": "2022-02-04T14:18:36.044Z"
   },
   {
    "duration": 36,
    "start_time": "2022-02-04T14:18:40.453Z"
   },
   {
    "duration": 5,
    "start_time": "2022-02-04T14:18:49.756Z"
   },
   {
    "duration": 728,
    "start_time": "2022-02-04T14:19:03.406Z"
   },
   {
    "duration": 759,
    "start_time": "2022-02-04T14:27:36.295Z"
   },
   {
    "duration": 171,
    "start_time": "2022-02-04T14:27:38.458Z"
   },
   {
    "duration": 24,
    "start_time": "2022-02-04T14:27:42.512Z"
   },
   {
    "duration": 33,
    "start_time": "2022-02-04T14:27:46.448Z"
   },
   {
    "duration": 6,
    "start_time": "2022-02-04T14:27:50.543Z"
   },
   {
    "duration": 25,
    "start_time": "2022-02-04T14:27:53.861Z"
   },
   {
    "duration": 7,
    "start_time": "2022-02-04T14:27:56.606Z"
   },
   {
    "duration": 29,
    "start_time": "2022-02-04T14:28:00.396Z"
   },
   {
    "duration": 22,
    "start_time": "2022-02-04T14:28:04.040Z"
   },
   {
    "duration": 56,
    "start_time": "2022-02-04T14:28:09.079Z"
   },
   {
    "duration": 80,
    "start_time": "2022-02-04T14:28:14.348Z"
   },
   {
    "duration": 103,
    "start_time": "2022-02-04T14:28:17.182Z"
   },
   {
    "duration": 75,
    "start_time": "2022-02-04T14:28:19.644Z"
   },
   {
    "duration": 37,
    "start_time": "2022-02-04T14:28:22.802Z"
   },
   {
    "duration": 5,
    "start_time": "2022-02-04T14:28:29.960Z"
   },
   {
    "duration": 42,
    "start_time": "2022-02-04T14:28:33.277Z"
   },
   {
    "duration": 697,
    "start_time": "2022-02-04T14:29:57.057Z"
   },
   {
    "duration": 191,
    "start_time": "2022-02-04T14:30:00.382Z"
   },
   {
    "duration": 28,
    "start_time": "2022-02-04T14:30:02.576Z"
   },
   {
    "duration": 35,
    "start_time": "2022-02-04T14:30:05.728Z"
   },
   {
    "duration": 5,
    "start_time": "2022-02-04T14:30:09.305Z"
   },
   {
    "duration": 26,
    "start_time": "2022-02-04T14:30:11.946Z"
   },
   {
    "duration": 6,
    "start_time": "2022-02-04T14:30:14.457Z"
   },
   {
    "duration": 30,
    "start_time": "2022-02-04T14:30:17.474Z"
   },
   {
    "duration": 24,
    "start_time": "2022-02-04T14:30:20.281Z"
   },
   {
    "duration": 30,
    "start_time": "2022-02-04T14:30:28.774Z"
   },
   {
    "duration": 89,
    "start_time": "2022-02-04T14:30:31.767Z"
   },
   {
    "duration": 94,
    "start_time": "2022-02-04T14:30:34.280Z"
   },
   {
    "duration": 73,
    "start_time": "2022-02-04T14:30:36.538Z"
   },
   {
    "duration": 9,
    "start_time": "2022-02-04T14:30:44.395Z"
   },
   {
    "duration": 4,
    "start_time": "2022-02-04T14:30:50.117Z"
   },
   {
    "duration": 14,
    "start_time": "2022-02-04T14:31:21.340Z"
   },
   {
    "duration": 10,
    "start_time": "2022-02-04T14:31:24.045Z"
   },
   {
    "duration": 59,
    "start_time": "2022-02-04T14:31:35.870Z"
   },
   {
    "duration": 45,
    "start_time": "2022-02-04T14:31:38.619Z"
   },
   {
    "duration": 5,
    "start_time": "2022-02-04T14:31:43.335Z"
   },
   {
    "duration": 20,
    "start_time": "2022-02-04T14:31:46.011Z"
   },
   {
    "duration": 18,
    "start_time": "2022-02-04T14:31:48.591Z"
   },
   {
    "duration": 19,
    "start_time": "2022-02-04T14:31:51.263Z"
   },
   {
    "duration": 19,
    "start_time": "2022-02-04T14:31:54.916Z"
   },
   {
    "duration": 19,
    "start_time": "2022-02-04T14:31:58.759Z"
   },
   {
    "duration": 18,
    "start_time": "2022-02-04T14:32:01.427Z"
   },
   {
    "duration": 16,
    "start_time": "2022-02-04T14:32:04.388Z"
   },
   {
    "duration": 30,
    "start_time": "2022-02-04T14:32:09.059Z"
   },
   {
    "duration": 27,
    "start_time": "2022-02-04T14:32:13.123Z"
   },
   {
    "duration": 6,
    "start_time": "2022-02-04T14:32:25.679Z"
   },
   {
    "duration": 28,
    "start_time": "2022-02-04T14:32:29.155Z"
   },
   {
    "duration": 20,
    "start_time": "2022-02-04T14:32:52.493Z"
   },
   {
    "duration": 5,
    "start_time": "2022-02-04T14:33:07.933Z"
   },
   {
    "duration": 23,
    "start_time": "2022-02-04T14:33:10.757Z"
   },
   {
    "duration": 17,
    "start_time": "2022-02-04T14:33:13.599Z"
   },
   {
    "duration": 22,
    "start_time": "2022-02-04T14:33:16.808Z"
   },
   {
    "duration": 17,
    "start_time": "2022-02-04T14:33:19.216Z"
   },
   {
    "duration": 10,
    "start_time": "2022-02-04T14:37:20.915Z"
   },
   {
    "duration": 7,
    "start_time": "2022-02-04T14:37:23.379Z"
   },
   {
    "duration": 508,
    "start_time": "2022-02-04T14:38:14.708Z"
   },
   {
    "duration": 9,
    "start_time": "2022-02-04T14:38:26.833Z"
   },
   {
    "duration": 7,
    "start_time": "2022-02-04T14:38:29.283Z"
   },
   {
    "duration": 681,
    "start_time": "2022-02-04T14:38:42.872Z"
   },
   {
    "duration": 182,
    "start_time": "2022-02-04T14:38:45.333Z"
   },
   {
    "duration": 26,
    "start_time": "2022-02-04T14:38:48.201Z"
   },
   {
    "duration": 31,
    "start_time": "2022-02-04T14:38:51.462Z"
   },
   {
    "duration": 6,
    "start_time": "2022-02-04T14:38:55.183Z"
   },
   {
    "duration": 27,
    "start_time": "2022-02-04T14:38:58.661Z"
   },
   {
    "duration": 6,
    "start_time": "2022-02-04T14:39:01.321Z"
   },
   {
    "duration": 21,
    "start_time": "2022-02-04T14:39:04.669Z"
   },
   {
    "duration": 28,
    "start_time": "2022-02-04T14:39:07.077Z"
   },
   {
    "duration": 78,
    "start_time": "2022-02-04T14:39:10.028Z"
   },
   {
    "duration": 92,
    "start_time": "2022-02-04T14:39:14.101Z"
   },
   {
    "duration": 87,
    "start_time": "2022-02-04T14:39:16.490Z"
   },
   {
    "duration": 9,
    "start_time": "2022-02-04T14:39:19.563Z"
   },
   {
    "duration": 4,
    "start_time": "2022-02-04T14:39:24.696Z"
   },
   {
    "duration": 13,
    "start_time": "2022-02-04T14:39:27.768Z"
   },
   {
    "duration": 9,
    "start_time": "2022-02-04T14:39:31.322Z"
   },
   {
    "duration": 43,
    "start_time": "2022-02-04T14:39:35.819Z"
   },
   {
    "duration": 41,
    "start_time": "2022-02-04T14:39:46.958Z"
   },
   {
    "duration": 5,
    "start_time": "2022-02-04T14:39:52.231Z"
   },
   {
    "duration": 20,
    "start_time": "2022-02-04T14:39:55.104Z"
   },
   {
    "duration": 18,
    "start_time": "2022-02-04T14:39:57.194Z"
   },
   {
    "duration": 19,
    "start_time": "2022-02-04T14:39:59.637Z"
   },
   {
    "duration": 18,
    "start_time": "2022-02-04T14:40:02.431Z"
   },
   {
    "duration": 21,
    "start_time": "2022-02-04T14:40:05.199Z"
   },
   {
    "duration": 19,
    "start_time": "2022-02-04T14:40:07.845Z"
   },
   {
    "duration": 16,
    "start_time": "2022-02-04T14:40:11.436Z"
   },
   {
    "duration": 31,
    "start_time": "2022-02-04T14:40:15.351Z"
   },
   {
    "duration": 30,
    "start_time": "2022-02-04T14:40:21.151Z"
   },
   {
    "duration": 7,
    "start_time": "2022-02-04T14:40:26.523Z"
   },
   {
    "duration": 25,
    "start_time": "2022-02-04T14:40:31.226Z"
   },
   {
    "duration": 18,
    "start_time": "2022-02-04T14:40:33.784Z"
   },
   {
    "duration": 26,
    "start_time": "2022-02-04T14:40:38.489Z"
   },
   {
    "duration": 17,
    "start_time": "2022-02-04T14:40:42.003Z"
   },
   {
    "duration": 10,
    "start_time": "2022-02-04T14:40:46.505Z"
   },
   {
    "duration": 6,
    "start_time": "2022-02-04T14:40:51.714Z"
   },
   {
    "duration": 8,
    "start_time": "2022-02-04T14:40:59.888Z"
   },
   {
    "duration": 7,
    "start_time": "2022-02-04T14:41:20.269Z"
   },
   {
    "duration": 34,
    "start_time": "2022-02-04T14:44:27.813Z"
   },
   {
    "duration": 767,
    "start_time": "2022-02-04T14:44:44.009Z"
   },
   {
    "duration": 185,
    "start_time": "2022-02-04T14:44:46.203Z"
   },
   {
    "duration": 26,
    "start_time": "2022-02-04T14:44:48.985Z"
   },
   {
    "duration": 31,
    "start_time": "2022-02-04T14:44:52.125Z"
   },
   {
    "duration": 6,
    "start_time": "2022-02-04T14:45:02.629Z"
   },
   {
    "duration": 25,
    "start_time": "2022-02-04T14:45:05.672Z"
   },
   {
    "duration": 6,
    "start_time": "2022-02-04T14:45:08.551Z"
   },
   {
    "duration": 31,
    "start_time": "2022-02-04T14:45:11.625Z"
   },
   {
    "duration": 22,
    "start_time": "2022-02-04T14:45:15.893Z"
   },
   {
    "duration": 29,
    "start_time": "2022-02-04T14:45:21.271Z"
   },
   {
    "duration": 82,
    "start_time": "2022-02-04T14:45:46.557Z"
   },
   {
    "duration": 97,
    "start_time": "2022-02-04T14:45:49.958Z"
   },
   {
    "duration": 74,
    "start_time": "2022-02-04T14:45:52.538Z"
   },
   {
    "duration": 11,
    "start_time": "2022-02-04T14:45:55.771Z"
   },
   {
    "duration": 4,
    "start_time": "2022-02-04T14:46:01.472Z"
   },
   {
    "duration": 14,
    "start_time": "2022-02-04T14:46:04.181Z"
   },
   {
    "duration": 38,
    "start_time": "2022-02-04T14:46:06.890Z"
   },
   {
    "duration": 44,
    "start_time": "2022-02-04T14:46:15.340Z"
   },
   {
    "duration": 43,
    "start_time": "2022-02-04T14:46:19.170Z"
   },
   {
    "duration": 5,
    "start_time": "2022-02-04T14:46:23.544Z"
   },
   {
    "duration": 29,
    "start_time": "2022-02-04T14:46:25.883Z"
   },
   {
    "duration": 18,
    "start_time": "2022-02-04T14:46:28.435Z"
   },
   {
    "duration": 19,
    "start_time": "2022-02-04T14:46:31.001Z"
   },
   {
    "duration": 18,
    "start_time": "2022-02-04T14:46:33.613Z"
   },
   {
    "duration": 21,
    "start_time": "2022-02-04T14:46:36.344Z"
   },
   {
    "duration": 19,
    "start_time": "2022-02-04T14:46:38.561Z"
   },
   {
    "duration": 18,
    "start_time": "2022-02-04T14:46:41.643Z"
   },
   {
    "duration": 32,
    "start_time": "2022-02-04T14:46:49.047Z"
   },
   {
    "duration": 27,
    "start_time": "2022-02-04T14:46:53.163Z"
   },
   {
    "duration": 5,
    "start_time": "2022-02-04T14:46:59.501Z"
   },
   {
    "duration": 29,
    "start_time": "2022-02-04T14:47:03.418Z"
   },
   {
    "duration": 18,
    "start_time": "2022-02-04T14:47:11.261Z"
   },
   {
    "duration": 24,
    "start_time": "2022-02-04T14:47:14.005Z"
   },
   {
    "duration": 19,
    "start_time": "2022-02-04T14:47:16.533Z"
   },
   {
    "duration": 17,
    "start_time": "2022-02-04T14:47:20.836Z"
   },
   {
    "duration": 7,
    "start_time": "2022-02-04T14:47:24.027Z"
   },
   {
    "duration": 8,
    "start_time": "2022-02-04T14:47:27.313Z"
   },
   {
    "duration": 7,
    "start_time": "2022-02-04T14:47:29.897Z"
   },
   {
    "duration": 743,
    "start_time": "2022-02-04T14:52:03.123Z"
   },
   {
    "duration": 171,
    "start_time": "2022-02-04T14:52:05.894Z"
   },
   {
    "duration": 25,
    "start_time": "2022-02-04T14:52:09.127Z"
   },
   {
    "duration": 31,
    "start_time": "2022-02-04T14:52:14.213Z"
   },
   {
    "duration": 5,
    "start_time": "2022-02-04T14:52:19.831Z"
   },
   {
    "duration": 25,
    "start_time": "2022-02-04T14:52:24.148Z"
   },
   {
    "duration": 5,
    "start_time": "2022-02-04T14:52:26.885Z"
   },
   {
    "duration": 33,
    "start_time": "2022-02-04T14:52:30.784Z"
   },
   {
    "duration": 22,
    "start_time": "2022-02-04T14:52:34.317Z"
   },
   {
    "duration": 30,
    "start_time": "2022-02-04T14:52:37.470Z"
   },
   {
    "duration": 86,
    "start_time": "2022-02-04T14:52:40.587Z"
   },
   {
    "duration": 93,
    "start_time": "2022-02-04T14:52:43.682Z"
   },
   {
    "duration": 72,
    "start_time": "2022-02-04T14:52:46.311Z"
   },
   {
    "duration": 9,
    "start_time": "2022-02-04T14:52:49.818Z"
   },
   {
    "duration": 4,
    "start_time": "2022-02-04T14:52:56.816Z"
   },
   {
    "duration": 15,
    "start_time": "2022-02-04T14:52:59.648Z"
   },
   {
    "duration": 36,
    "start_time": "2022-02-04T14:53:03.539Z"
   },
   {
    "duration": 43,
    "start_time": "2022-02-04T14:53:09.105Z"
   },
   {
    "duration": 42,
    "start_time": "2022-02-04T14:53:12.444Z"
   },
   {
    "duration": 4,
    "start_time": "2022-02-04T14:53:16.915Z"
   },
   {
    "duration": 19,
    "start_time": "2022-02-04T14:53:19.613Z"
   },
   {
    "duration": 22,
    "start_time": "2022-02-04T14:53:21.444Z"
   },
   {
    "duration": 19,
    "start_time": "2022-02-04T14:53:23.911Z"
   },
   {
    "duration": 18,
    "start_time": "2022-02-04T14:53:26.272Z"
   },
   {
    "duration": 23,
    "start_time": "2022-02-04T14:53:28.991Z"
   },
   {
    "duration": 19,
    "start_time": "2022-02-04T14:53:31.047Z"
   },
   {
    "duration": 21,
    "start_time": "2022-02-04T14:53:34.860Z"
   },
   {
    "duration": 30,
    "start_time": "2022-02-04T14:53:40.298Z"
   },
   {
    "duration": 29,
    "start_time": "2022-02-04T14:53:44.761Z"
   },
   {
    "duration": 7,
    "start_time": "2022-02-04T14:53:50.644Z"
   },
   {
    "duration": 39,
    "start_time": "2022-02-04T14:53:54.325Z"
   },
   {
    "duration": 20,
    "start_time": "2022-02-04T14:53:58.641Z"
   },
   {
    "duration": 24,
    "start_time": "2022-02-04T14:54:01.269Z"
   },
   {
    "duration": 18,
    "start_time": "2022-02-04T14:54:04.623Z"
   },
   {
    "duration": 10,
    "start_time": "2022-02-04T14:54:11.030Z"
   },
   {
    "duration": 7,
    "start_time": "2022-02-04T14:54:13.426Z"
   },
   {
    "duration": 8,
    "start_time": "2022-02-04T14:54:16.112Z"
   },
   {
    "duration": 7,
    "start_time": "2022-02-04T14:54:18.805Z"
   },
   {
    "duration": 602,
    "start_time": "2022-02-15T16:34:17.257Z"
   },
   {
    "duration": 151,
    "start_time": "2022-02-15T16:34:17.862Z"
   },
   {
    "duration": 20,
    "start_time": "2022-02-15T16:34:18.017Z"
   },
   {
    "duration": 29,
    "start_time": "2022-02-15T16:34:18.040Z"
   },
   {
    "duration": 5,
    "start_time": "2022-02-15T16:34:18.072Z"
   },
   {
    "duration": 43,
    "start_time": "2022-02-15T16:34:18.080Z"
   },
   {
    "duration": 12,
    "start_time": "2022-02-15T16:34:18.126Z"
   },
   {
    "duration": 31,
    "start_time": "2022-02-15T16:34:18.141Z"
   },
   {
    "duration": 36,
    "start_time": "2022-02-15T16:34:18.174Z"
   },
   {
    "duration": 29,
    "start_time": "2022-02-15T16:34:18.213Z"
   },
   {
    "duration": 86,
    "start_time": "2022-02-15T16:34:18.244Z"
   },
   {
    "duration": 81,
    "start_time": "2022-02-15T16:34:18.332Z"
   },
   {
    "duration": 59,
    "start_time": "2022-02-15T16:34:18.415Z"
   },
   {
    "duration": 62,
    "start_time": "2022-02-15T16:34:18.476Z"
   },
   {
    "duration": 3,
    "start_time": "2022-02-15T16:34:18.541Z"
   },
   {
    "duration": 15,
    "start_time": "2022-02-15T16:34:18.546Z"
   },
   {
    "duration": 96,
    "start_time": "2022-02-15T16:34:18.562Z"
   },
   {
    "duration": 388,
    "start_time": "2022-02-15T16:34:18.660Z"
   },
   {
    "duration": -1988,
    "start_time": "2022-02-15T16:34:21.039Z"
   },
   {
    "duration": -1993,
    "start_time": "2022-02-15T16:34:21.045Z"
   },
   {
    "duration": -1997,
    "start_time": "2022-02-15T16:34:21.050Z"
   },
   {
    "duration": -2001,
    "start_time": "2022-02-15T16:34:21.055Z"
   },
   {
    "duration": -2005,
    "start_time": "2022-02-15T16:34:21.060Z"
   },
   {
    "duration": -2010,
    "start_time": "2022-02-15T16:34:21.066Z"
   },
   {
    "duration": -2012,
    "start_time": "2022-02-15T16:34:21.069Z"
   },
   {
    "duration": -2014,
    "start_time": "2022-02-15T16:34:21.072Z"
   },
   {
    "duration": -2016,
    "start_time": "2022-02-15T16:34:21.075Z"
   },
   {
    "duration": -2018,
    "start_time": "2022-02-15T16:34:21.078Z"
   },
   {
    "duration": -2020,
    "start_time": "2022-02-15T16:34:21.081Z"
   },
   {
    "duration": -2021,
    "start_time": "2022-02-15T16:34:21.083Z"
   },
   {
    "duration": -2022,
    "start_time": "2022-02-15T16:34:21.086Z"
   },
   {
    "duration": -2023,
    "start_time": "2022-02-15T16:34:21.088Z"
   },
   {
    "duration": -2025,
    "start_time": "2022-02-15T16:34:21.091Z"
   },
   {
    "duration": -2027,
    "start_time": "2022-02-15T16:34:21.094Z"
   },
   {
    "duration": -2028,
    "start_time": "2022-02-15T16:34:21.096Z"
   },
   {
    "duration": -2030,
    "start_time": "2022-02-15T16:34:21.099Z"
   },
   {
    "duration": -2031,
    "start_time": "2022-02-15T16:34:21.101Z"
   },
   {
    "duration": -2033,
    "start_time": "2022-02-15T16:34:21.104Z"
   },
   {
    "duration": -2034,
    "start_time": "2022-02-15T16:34:21.106Z"
   },
   {
    "duration": 246,
    "start_time": "2022-02-15T16:34:41.208Z"
   },
   {
    "duration": 648,
    "start_time": "2022-02-15T16:35:10.897Z"
   },
   {
    "duration": 144,
    "start_time": "2022-02-15T16:35:11.547Z"
   },
   {
    "duration": 25,
    "start_time": "2022-02-15T16:35:11.693Z"
   },
   {
    "duration": 29,
    "start_time": "2022-02-15T16:35:11.721Z"
   },
   {
    "duration": 20,
    "start_time": "2022-02-15T16:35:11.752Z"
   },
   {
    "duration": 48,
    "start_time": "2022-02-15T16:35:11.774Z"
   },
   {
    "duration": 18,
    "start_time": "2022-02-15T16:35:11.824Z"
   },
   {
    "duration": 33,
    "start_time": "2022-02-15T16:35:11.844Z"
   },
   {
    "duration": 32,
    "start_time": "2022-02-15T16:35:11.880Z"
   },
   {
    "duration": 27,
    "start_time": "2022-02-15T16:35:11.915Z"
   },
   {
    "duration": 95,
    "start_time": "2022-02-15T16:35:11.944Z"
   },
   {
    "duration": 94,
    "start_time": "2022-02-15T16:35:12.041Z"
   },
   {
    "duration": 58,
    "start_time": "2022-02-15T16:35:12.137Z"
   },
   {
    "duration": 58,
    "start_time": "2022-02-15T16:35:12.196Z"
   },
   {
    "duration": 7,
    "start_time": "2022-02-15T16:35:12.257Z"
   },
   {
    "duration": 22,
    "start_time": "2022-02-15T16:35:12.266Z"
   },
   {
    "duration": 77,
    "start_time": "2022-02-15T16:35:12.290Z"
   },
   {
    "duration": 329,
    "start_time": "2022-02-15T16:35:12.369Z"
   },
   {
    "duration": -1995,
    "start_time": "2022-02-15T16:35:14.696Z"
   },
   {
    "duration": -1998,
    "start_time": "2022-02-15T16:35:14.701Z"
   },
   {
    "duration": -1999,
    "start_time": "2022-02-15T16:35:14.703Z"
   },
   {
    "duration": -2002,
    "start_time": "2022-02-15T16:35:14.707Z"
   },
   {
    "duration": -2004,
    "start_time": "2022-02-15T16:35:14.710Z"
   },
   {
    "duration": -2005,
    "start_time": "2022-02-15T16:35:14.712Z"
   },
   {
    "duration": -2010,
    "start_time": "2022-02-15T16:35:14.718Z"
   },
   {
    "duration": -2015,
    "start_time": "2022-02-15T16:35:14.724Z"
   },
   {
    "duration": -2020,
    "start_time": "2022-02-15T16:35:14.730Z"
   },
   {
    "duration": -2025,
    "start_time": "2022-02-15T16:35:14.736Z"
   },
   {
    "duration": -2028,
    "start_time": "2022-02-15T16:35:14.741Z"
   },
   {
    "duration": -2032,
    "start_time": "2022-02-15T16:35:14.747Z"
   },
   {
    "duration": -2036,
    "start_time": "2022-02-15T16:35:14.753Z"
   },
   {
    "duration": -2040,
    "start_time": "2022-02-15T16:35:14.758Z"
   },
   {
    "duration": -2042,
    "start_time": "2022-02-15T16:35:14.761Z"
   },
   {
    "duration": -2043,
    "start_time": "2022-02-15T16:35:14.764Z"
   },
   {
    "duration": -2044,
    "start_time": "2022-02-15T16:35:14.766Z"
   },
   {
    "duration": -2045,
    "start_time": "2022-02-15T16:35:14.768Z"
   },
   {
    "duration": -2052,
    "start_time": "2022-02-15T16:35:14.776Z"
   },
   {
    "duration": -2054,
    "start_time": "2022-02-15T16:35:14.779Z"
   },
   {
    "duration": -2056,
    "start_time": "2022-02-15T16:35:14.782Z"
   },
   {
    "duration": 14,
    "start_time": "2022-02-15T16:35:30.727Z"
   },
   {
    "duration": 35,
    "start_time": "2022-02-15T16:35:55.277Z"
   },
   {
    "duration": 249,
    "start_time": "2022-02-15T16:36:11.505Z"
   },
   {
    "duration": 308,
    "start_time": "2022-02-15T16:36:18.319Z"
   },
   {
    "duration": 48,
    "start_time": "2022-02-15T16:36:30.604Z"
   },
   {
    "duration": 11,
    "start_time": "2022-02-15T16:36:38.867Z"
   },
   {
    "duration": 34,
    "start_time": "2022-02-15T16:37:43.147Z"
   },
   {
    "duration": 3,
    "start_time": "2022-02-15T16:37:43.184Z"
   },
   {
    "duration": 35,
    "start_time": "2022-02-15T16:37:43.190Z"
   },
   {
    "duration": 23,
    "start_time": "2022-02-15T16:37:43.228Z"
   },
   {
    "duration": 19,
    "start_time": "2022-02-15T16:37:43.253Z"
   },
   {
    "duration": 19,
    "start_time": "2022-02-15T16:37:43.274Z"
   },
   {
    "duration": 31,
    "start_time": "2022-02-15T16:37:43.295Z"
   },
   {
    "duration": 18,
    "start_time": "2022-02-15T16:37:43.328Z"
   },
   {
    "duration": 11,
    "start_time": "2022-02-15T16:37:43.349Z"
   },
   {
    "duration": 45,
    "start_time": "2022-02-15T16:37:43.362Z"
   },
   {
    "duration": 23,
    "start_time": "2022-02-15T16:37:43.410Z"
   },
   {
    "duration": 4,
    "start_time": "2022-02-15T16:37:43.435Z"
   },
   {
    "duration": 34,
    "start_time": "2022-02-15T16:37:43.441Z"
   },
   {
    "duration": 32,
    "start_time": "2022-02-15T16:37:43.477Z"
   },
   {
    "duration": 24,
    "start_time": "2022-02-15T16:37:43.512Z"
   },
   {
    "duration": 13,
    "start_time": "2022-02-15T16:37:43.538Z"
   },
   {
    "duration": 17,
    "start_time": "2022-02-15T16:37:43.553Z"
   },
   {
    "duration": 8,
    "start_time": "2022-02-15T16:37:43.572Z"
   },
   {
    "duration": 28,
    "start_time": "2022-02-15T16:37:43.582Z"
   },
   {
    "duration": 7,
    "start_time": "2022-02-15T16:37:43.612Z"
   }
  ],
  "colab": {
   "collapsed_sections": [
    "E0vqbgi9ay0H",
    "VUC88oWjTJw2"
   ],
   "name": "yandex_music_project_2021.2.ipynb",
   "provenance": []
  },
  "kernelspec": {
   "display_name": "Python 3 (ipykernel)",
   "language": "python",
   "name": "python3"
  },
  "language_info": {
   "codemirror_mode": {
    "name": "ipython",
    "version": 3
   },
   "file_extension": ".py",
   "mimetype": "text/x-python",
   "name": "python",
   "nbconvert_exporter": "python",
   "pygments_lexer": "ipython3",
   "version": "3.9.7"
  },
  "toc": {
   "base_numbering": 1,
   "nav_menu": {},
   "number_sections": false,
   "sideBar": true,
   "skip_h1_title": false,
   "title_cell": "Table of Contents",
   "title_sidebar": "Contents",
   "toc_cell": false,
   "toc_position": {
    "height": "calc(100% - 180px)",
    "left": "10px",
    "top": "150px",
    "width": "348.352px"
   },
   "toc_section_display": true,
   "toc_window_display": true
  }
 },
 "nbformat": 4,
 "nbformat_minor": 1
}
